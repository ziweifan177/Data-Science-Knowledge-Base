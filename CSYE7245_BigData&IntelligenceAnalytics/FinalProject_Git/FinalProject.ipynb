{
 "cells": [
  {
   "cell_type": "markdown",
   "metadata": {},
   "source": [
    "# Prediction & Visualization by geospatial & weather data For Uber Drivers"
   ]
  },
  {
   "cell_type": "markdown",
   "metadata": {},
   "source": [
    "## Abstraction:\n",
    "### The time spent on road primarily depends on multiple perspectives: Regions, weather, accidents etc. For taxi or Uber driver, how to avoid traffic congestion and achieve benefit maximization? In details:\n",
    "### (1)\tHow could the drivers keep track of the traffic situation by animation?\n",
    "### (2)\tHow could drivers acquire the distribution information about requests number? \n",
    "### For these questions, the focus of paper is to:\n",
    "### (1)\tAnimate the traffic and visualize requests number by geospatial information.\n",
    "### (2)\tExplore how weather data impacts the traffic with data via FLARE.\n",
    "### (3)\tPredict the total ride duration of taxi trips in New York.  \n"
   ]
  },
  {
   "cell_type": "markdown",
   "metadata": {},
   "source": [
    "## Introduction:\n",
    "### For leveraging the traffic resources and avoid traffic jam, the synthetic traffic monitoring and prediction are necessary. \n",
    "### For this goal, diverse sorts of data in the system should be considered:\n",
    "### (1)\tIn terms of weather, it is shown that tremendous range of weather/climate condition may (not must) affect the traffic, according to the ‘Road Weather Management program’. [1] \n",
    "### (2)\tFor drivers, the heatmap of hour changing will directly reflect the hot areas of traffic. Additionally, the prediction on duration trip will be more accurate to get to know what the hot area will be and show the hot areas predicted for the drivers. \n",
    "### (3)\tBesides, they could keep track which regions have the most number of requests and they could receive the traffic information from operation center, so that they could balance and make a decision to achieve benefit maximization.  \n"
   ]
  },
  {
   "cell_type": "code",
   "execution_count": 10,
   "metadata": {
    "collapsed": true
   },
   "outputs": [],
   "source": [
    "import xgboost as xgb\n",
    "import numpy as np\n",
    "import pandas as pd\n",
    "import matplotlib.pyplot as plt\n",
    "import seaborn as sns\n",
    "color = sns.color_palette()\n",
    "\n",
    "from haversine import haversine\n",
    "import datetime as dt\n",
    "\n",
    "# plotly.offline.init_notebook_mode()"
   ]
  },
  {
   "cell_type": "markdown",
   "metadata": {},
   "source": [
    "## Step1: Load Data"
   ]
  },
  {
   "cell_type": "code",
   "execution_count": 11,
   "metadata": {},
   "outputs": [
    {
     "name": "stdout",
     "output_type": "stream",
     "text": [
      "Size of the training set is: 50000 rows and 11 columns\n",
      "\n",
      " ['id', 'vendor_id', 'pickup_datetime', 'dropoff_datetime', 'passenger_count', 'pickup_longitude', 'pickup_latitude', 'dropoff_longitude', 'dropoff_latitude', 'store_and_fwd_flag', 'trip_duration']\n"
     ]
    }
   ],
   "source": [
    "'''Step1: Load Data'''\n",
    "trainDF = pd.read_csv('data/train.csv', nrows=50000)\n",
    "testDF = pd.read_csv('data/test.csv')\n",
    "print('Size of the training set is: {} rows and {} columns'.format(*trainDF.shape))\n",
    "print (\"\\n\", list(trainDF))\n"
   ]
  },
  {
   "cell_type": "markdown",
   "metadata": {},
   "source": [
    "## Step 2: Understand Data"
   ]
  },
  {
   "cell_type": "code",
   "execution_count": 12,
   "metadata": {},
   "outputs": [
    {
     "name": "stdout",
     "output_type": "stream",
     "text": [
      "          vendor_id  passenger_count  pickup_longitude  pickup_latitude  \\\n",
      "count  50000.000000     50000.000000      50000.000000     50000.000000   \n",
      "mean       1.529440         1.667260        -73.973477        40.751211   \n",
      "std        0.499138         1.316442          0.037974         0.027994   \n",
      "min        1.000000         1.000000        -74.393555        40.449749   \n",
      "25%        1.000000         1.000000        -73.991760        40.737579   \n",
      "50%        2.000000         1.000000        -73.981644        40.754425   \n",
      "75%        2.000000         2.000000        -73.967079        40.768513   \n",
      "max        2.000000         6.000000        -73.518051        41.091171   \n",
      "\n",
      "       dropoff_longitude  dropoff_latitude  trip_duration  \n",
      "count       50000.000000      50000.000000   50000.000000  \n",
      "mean          -73.973374         40.752025     949.708280  \n",
      "std             0.036672          0.032536    3175.391374  \n",
      "min           -74.398514         40.444698       1.000000  \n",
      "25%           -73.991348         40.736086     395.000000  \n",
      "50%           -73.979698         40.754610     659.000000  \n",
      "75%           -73.962868         40.769985    1071.000000  \n",
      "max           -72.711395         41.311520   86357.000000  \n",
      "Train shape :  (50000, 11)\n",
      "Test shape :  (625134, 9)\n",
      "                 Count Column Type\n",
      "0                   id      object\n",
      "1            vendor_id       int64\n",
      "2      pickup_datetime      object\n",
      "3     dropoff_datetime      object\n",
      "4      passenger_count       int64\n",
      "5     pickup_longitude     float64\n",
      "6      pickup_latitude     float64\n",
      "7    dropoff_longitude     float64\n",
      "8     dropoff_latitude     float64\n",
      "9   store_and_fwd_flag      object\n",
      "10       trip_duration       int64\n"
     ]
    }
   ],
   "source": [
    "'''Step2: Understand Data'''\n",
    "df = trainDF.describe()\n",
    "print (df)\n",
    "\n",
    "print(\"Train shape : \", trainDF.shape)\n",
    "print(\"Test shape : \", testDF.shape)\n",
    "\n",
    "dtypeDF=trainDF.dtypes.reset_index()# reset_index(): When we reset the index, the old index is added as a column, and a new sequential index is usedWhen we reset the index, the old index is added as a column, and a new sequential index is used\n",
    "dtypeDF.columns=[\"Count\",\"Column Type\"]\n",
    "dtypeDF.groupby(\"Column Type\").aggregate('count')\n",
    "print(dtypeDF)"
   ]
  },
  {
   "cell_type": "markdown",
   "metadata": {},
   "source": [
    "## Step 3: Understanding distribution of target variable, catch outliers and replot."
   ]
  },
  {
   "cell_type": "code",
   "execution_count": 13,
   "metadata": {},
   "outputs": [
    {
     "data": {
      "image/png": "[encoded data removed]",
      "text/plain": [
       "<matplotlib.figure.Figure at 0x190170e8e48>"
      ]
     },
     "metadata": {},
     "output_type": "display_data"
    }
   ],
   "source": [
    "'''Step3: Understanding distribution of target variable i.e trip duration.'''\n",
    "plt.figure(figsize=(8,6))\n",
    "plt.scatter(range(trainDF.shape[0]), np.sort(trainDF.trip_duration.values))#Y.shape is (n,m). So Y.shape[0] is n.\n",
    "\n",
    "#Step3.1: Find the outliers & Remove outliers by sorting duration in ascending order:\n",
    "plt.xlabel('index', fontsize=12)\n",
    "plt.ylabel('trip duration', fontsize=12)\n",
    "plt.show()"
   ]
  },
  {
   "cell_type": "code",
   "execution_count": 14,
   "metadata": {},
   "outputs": [
    {
     "data": {
      "image/png": "[encoded data removed]",
      "text/plain": [
       "<matplotlib.figure.Figure at 0x190170cd5f8>"
      ]
     },
     "metadata": {},
     "output_type": "display_data"
    }
   ],
   "source": [
    "#Step3.2: Catch outliers and replot\n",
    "th=trainDF.trip_duration.quantile(0.99)\n",
    "tempDF=trainDF\n",
    "tempDF=tempDF[tempDF['trip_duration']<th] #!!!!!!!!!!!!!!! Remain the ones <th\n",
    "plt.figure(figsize=(8,6))\n",
    "plt.scatter(range(tempDF.shape[0]),np.sort(tempDF.trip_duration.values))\n",
    "plt.xlabel('index',fontsize=12)\n",
    "plt.ylabel('trip duration',fontsize=12)\n",
    "plt.show()\n",
    "del tempDF"
   ]
  },
  {
   "cell_type": "markdown",
   "metadata": {},
   "source": [
    "## Step 4: Dealing with missing values."
   ]
  },
  {
   "cell_type": "code",
   "execution_count": 15,
   "metadata": {},
   "outputs": [
    {
     "name": "stdout",
     "output_type": "stream",
     "text": [
      "Missing value number of Training DF:\n",
      " id                    0\n",
      "vendor_id             0\n",
      "pickup_datetime       0\n",
      "dropoff_datetime      0\n",
      "passenger_count       0\n",
      "pickup_longitude      0\n",
      "pickup_latitude       0\n",
      "dropoff_longitude     0\n",
      "dropoff_latitude      0\n",
      "store_and_fwd_flag    0\n",
      "trip_duration         0\n",
      "dtype: int64\n",
      "Missing value number of Testing DF:\n",
      " id                    0\n",
      "vendor_id             0\n",
      "pickup_datetime       0\n",
      "passenger_count       0\n",
      "pickup_longitude      0\n",
      "pickup_latitude       0\n",
      "dropoff_longitude     0\n",
      "dropoff_latitude      0\n",
      "store_and_fwd_flag    0\n",
      "dtype: int64\n"
     ]
    }
   ],
   "source": [
    "#Step 4: Dealing with missing values\n",
    "variable_missing_value=trainDF.isnull().sum()\n",
    "print('Missing value number of Training DF:\\n',variable_missing_value)\n",
    "variable_missing_value=testDF.isnull().sum()\n",
    "print('Missing value number of Testing DF:\\n',variable_missing_value)"
   ]
  },
  {
   "cell_type": "markdown",
   "metadata": {},
   "source": [
    "## Step 5: Format the date time & Y/N values:\n",
    "\n",
    "### Some of them with '02-23-2016' and '23/02/2016', so I have to unify the format."
   ]
  },
  {
   "cell_type": "code",
   "execution_count": 16,
   "metadata": {
    "collapsed": true
   },
   "outputs": [],
   "source": [
    "#Step 5: Format the date time & Y/N values:\n",
    "from sklearn.decomposition import PCA\n",
    "from sklearn.cluster import MiniBatchKMeans\n",
    "\n",
    "t0 = dt.datetime.now()\n",
    "train = trainDF\n",
    "test = testDF\n",
    "del trainDF, testDF"
   ]
  },
  {
   "cell_type": "code",
   "execution_count": 17,
   "metadata": {},
   "outputs": [
    {
     "name": "stdout",
     "output_type": "stream",
     "text": [
      "          id  vendor_id     pickup_datetime  passenger_count  \\\n",
      "0  id3004672          1 2016-06-30 23:59:00                1   \n",
      "1  id3505355          1 2016-06-30 23:59:00                1   \n",
      "2  id1217141          1 2016-06-30 23:59:00                1   \n",
      "3  id2150126          2 2016-06-30 23:59:00                1   \n",
      "\n",
      "   pickup_longitude  pickup_latitude  dropoff_longitude  dropoff_latitude  \\\n",
      "0        -73.988129        40.732029         -73.990173         40.756680   \n",
      "1        -73.964203        40.679993         -73.959808         40.655403   \n",
      "2        -73.997437        40.737583         -73.986160         40.729523   \n",
      "3        -73.956070        40.771900         -73.986427         40.730469   \n",
      "\n",
      "   store_and_fwd_flag pickup_date  \n",
      "0                   0  2016-06-30  \n",
      "1                   0  2016-06-30  \n",
      "2                   0  2016-06-30  \n",
      "3                   0  2016-06-30  \n",
      "['id', 'vendor_id', 'pickup_datetime', 'dropoff_datetime', 'passenger_count', 'pickup_longitude', 'pickup_latitude', 'dropoff_longitude', 'dropoff_latitude', 'store_and_fwd_flag', 'trip_duration', 'pickup_date']\n"
     ]
    }
   ],
   "source": [
    "train['pickup_datetime']=pd.to_datetime(train.pickup_datetime)\n",
    "test['pickup_datetime'] = pd.to_datetime(test.pickup_datetime)\n",
    "train.loc[:,'pickup_date']=train['pickup_datetime'].dt.date\n",
    "test.loc[:,'pickup_date']=test['pickup_datetime'].dt.date\n",
    "\n",
    "train['dropoff_datetime']=pd.to_datetime(train.dropoff_datetime)\n",
    "\n",
    "train['store_and_fwd_flag']=1*(train.store_and_fwd_flag.values=='Y')\n",
    "test['store_and_fwd_flag']=1*(test.store_and_fwd_flag.values=='Y') #!!!!!!!!!!!!!!!!!\n",
    "print(test.head(4))\n",
    "print(list(train))"
   ]
  },
  {
   "cell_type": "code",
   "execution_count": 18,
   "metadata": {},
   "outputs": [
    {
     "name": "stdout",
     "output_type": "stream",
     "text": [
      "Trip_Duration & datetime are ok.\n",
      "['id', 'vendor_id', 'pickup_datetime', 'dropoff_datetime', 'passenger_count', 'pickup_longitude', 'pickup_latitude', 'dropoff_longitude', 'dropoff_latitude', 'store_and_fwd_flag', 'trip_duration', 'pickup_date', 'check_trip_duration']\n"
     ]
    }
   ],
   "source": [
    "train['check_trip_duration'] = (train['dropoff_datetime'] - train['pickup_datetime']).map(lambda x: x.total_seconds()) \n",
    "#!!!!!!!!! 1. New column 2. Convert to seconds.\n",
    "duration_difference=train[np.abs(train['check_trip_duration'].values-train['trip_duration'].values) > 1] #!!!!!!!!!!!Remain the ones with abs>1\n",
    "print('Trip_Duration & datetime are ok.')\n",
    "print(list(train))"
   ]
  },
  {
   "cell_type": "markdown",
   "metadata": {},
   "source": [
    "## Let check the description of data again. "
   ]
  },
  {
   "cell_type": "code",
   "execution_count": 19,
   "metadata": {},
   "outputs": [
    {
     "data": {
      "text/plain": [
       "count    50000.000000\n",
       "mean       949.708280\n",
       "std       3175.391374\n",
       "min          1.000000\n",
       "25%        395.000000\n",
       "50%        659.000000\n",
       "75%       1071.000000\n",
       "max      86357.000000\n",
       "Name: trip_duration, dtype: float64"
      ]
     },
     "execution_count": 19,
     "metadata": {},
     "output_type": "execute_result"
    }
   ],
   "source": [
    "if len(duration_difference[['pickup_datetime', 'dropoff_datetime', 'trip_duration', 'check_trip_duration']])==0:\n",
    "    print('Items of Duration_difference are 0.')\n",
    "\n",
    "train['trip_duration'].describe()\n"
   ]
  },
  {
   "cell_type": "markdown",
   "metadata": {},
   "source": [
    "## Step6: Feature Extraction:"
   ]
  },
  {
   "cell_type": "markdown",
   "metadata": {},
   "source": [
    "## Principal components analysis (PCA): is used to extract the important information from a multivariate data table and to express this information. These new variables correspond to a linear combination of the originals. The number of principal components is less than or equal to the number of original variables."
   ]
  },
  {
   "cell_type": "code",
   "execution_count": 20,
   "metadata": {
    "collapsed": true
   },
   "outputs": [],
   "source": [
    "#Step6: Feature Extraction:\n",
    "# np.vstack: Stack arrays in sequence vertically (row wise).\n",
    "coords=np.vstack((train[['pickup_latitude', 'pickup_longitude']].values,\n",
    "                  train[['dropoff_latitude', 'dropoff_longitude']].values,\n",
    "                  test[['pickup_latitude', 'pickup_longitude']].values,\n",
    "                  test[['dropoff_latitude', 'dropoff_longitude']].values))\n",
    "\n",
    "pca=PCA().fit(coords)\n",
    "\n",
    "train['pickup_pca0']=pca.transform(train[['pickup_latitude','pickup_longitude']])[:,0] \n",
    "#transform(X):Apply dimensionality reduction to X.\n",
    "train['pickup_pca1']=pca.transform(train[['pickup_latitude','pickup_longitude']])[:,1]\n",
    "train['dropoff_pca0']=pca.transform(train[['dropoff_latitude', 'dropoff_longitude']])[:,0]\n",
    "train['dropoff_pca1']=pca.transform(train[['dropoff_latitude','dropoff_longitude']])[:,1]\n",
    "\n",
    "test['pickup_pca0']=pca.transform(test[['pickup_latitude','pickup_longitude']])[:,0]\n",
    "test['pickup_pca1']=pca.transform(test[['pickup_latitude','pickup_longitude']])[:,1]\n",
    "test['dropoff_pca0']=pca.transform(test[['dropoff_latitude','dropoff_longitude']])[:,0]\n",
    "test['dropoff_pca1']=pca.transform(test[['dropoff_latitude','dropoff_longitude']])[:,1]\n",
    "#[ : , 0 ] means (more or less) [ first_row:last_row , column_0 ],you get all values in column 0 (from all rows).\n",
    "#df[['a','b']]: select multiple columns."
   ]
  },
  {
   "cell_type": "markdown",
   "metadata": {},
   "source": [
    "## Refer: For haversine_Array: http://mlwhiz.com/blog/2017/09/14/kaggle_tricks/"
   ]
  },
  {
   "cell_type": "markdown",
   "metadata": {},
   "source": [
    "## Step7: Define Distance functions to process average speed and hot area:"
   ]
  },
  {
   "cell_type": "code",
   "execution_count": 21,
   "metadata": {
    "collapsed": true
   },
   "outputs": [],
   "source": [
    "def haversine_array(lat1,lng1,lat2,lng2):\n",
    "    lat1,lng1,lat2,lng2=map(np.radians, (lat1,lng1,lat2,lng2))\n",
    "    AVG_EARTH_RADIUS=6371 #km\n",
    "    lat=lat2-lat1\n",
    "    lng=lng2-lng1\n",
    "    d=np.sin(lat * 0.5) ** 2 + np.cos(lat1) * np.cos(lat2) * np.sin(lng * 0.5) ** 2\n",
    "    h=2*AVG_EARTH_RADIUS*np.arcsin(np.sqrt(d))\n",
    "    return h\n",
    "\n",
    "def dummy_manhattan_distance(lat1,lng1,lat2,lng2):\n",
    "    a=haversine_array(lat1,lng1,lat1,lng2)\n",
    "    b=haversine_array(lat1,lng1,lat2,lng1)\n",
    "    return a+b\n",
    "\n",
    "def bearing_array(lat1,lng1,lat2,lng2):\n",
    "    AVG_EARTH_RADIUS=6371\n",
    "    lng_delta_rad=np.radians(lng2-lng1)\n",
    "    lat1,lng1,lat2,lng2=map(np.radians,(lat1,lng1,lat2,lng2)) #np.radians(): Convert angles from degrees to radians\n",
    "    y=np.sin(lng_delta_rad)*np.cos(lat2)\n",
    "    x=np.cos(lat1)*np.sin(lat2)-np.sin(lat1)*np.cos(lat2)*np.cos(lng_delta_rad)\n",
    "    return np.degrees(np.arctan2(y,x))"
   ]
  },
  {
   "cell_type": "markdown",
   "metadata": {},
   "source": [
    "## Step 7.1: Generate distance dimension based on previous processing. On both of train and test data."
   ]
  },
  {
   "cell_type": "code",
   "execution_count": 22,
   "metadata": {},
   "outputs": [
    {
     "name": "stdout",
     "output_type": "stream",
     "text": [
      "train headers:\n",
      " ['id', 'vendor_id', 'pickup_datetime', 'dropoff_datetime', 'passenger_count', 'pickup_longitude', 'pickup_latitude', 'dropoff_longitude', 'dropoff_latitude', 'store_and_fwd_flag', 'trip_duration', 'pickup_date', 'check_trip_duration', 'pickup_pca0', 'pickup_pca1', 'dropoff_pca0', 'dropoff_pca1']\n"
     ]
    }
   ],
   "source": [
    "print('train headers:\\n',list(train))\n",
    "train.loc[:,'distance_haversine']=haversine_array(train['pickup_latitude'].values, train['pickup_longitude'].values, train['dropoff_latitude'].values, train['dropoff_longitude'].values)\n",
    "train.loc[:,'distance_dummy_manhattan']=dummy_manhattan_distance(train['pickup_latitude'].values, train['pickup_longitude'].values, train['dropoff_latitude'].values, train['dropoff_longitude'].values)\n",
    "train.loc[:,'direction']=bearing_array(train['pickup_latitude'].values, train['pickup_longitude'].values, train['dropoff_latitude'].values, train['dropoff_longitude'].values)\n",
    "train.loc[:,'pca_manhattan']=np.abs(train['dropoff_pca1']-train['pickup_pca1'])+np.abs(train['dropoff_pca0']-train['pickup_pca0'])\n",
    "\n",
    "test.loc[:,'distance_haversine']=haversine_array(test['pickup_latitude'].values, test['pickup_longitude'].values, test['dropoff_latitude'].values, test['dropoff_longitude'].values)\n",
    "test.loc[:,'distance_dummy_manhattan']=dummy_manhattan_distance(test['pickup_latitude'].values, test['pickup_longitude'].values, test['dropoff_latitude'].values, test['dropoff_longitude'].values)\n",
    "test.loc[:,'direction']=bearing_array(test['pickup_latitude'].values, test['pickup_longitude'].values, test['dropoff_latitude'].values, test['dropoff_longitude'].values)\n",
    "test.loc[:,'pca_manhattan']=np.abs(test['dropoff_pca1']-test['pickup_pca1'])+np.abs(test['dropoff_pca0']-test['pickup_pca0'])\n",
    "\n",
    "train.loc[:, 'center_latitude'] = (train['pickup_latitude'].values + train['dropoff_latitude'].values) / 2\n",
    "train.loc[:, 'center_longitude'] = (train['pickup_longitude'].values + train['dropoff_longitude'].values) / 2\n",
    "test.loc[:, 'center_latitude'] = (test['pickup_latitude'].values + test['dropoff_latitude'].values) / 2\n",
    "test.loc[:, 'center_longitude'] = (test['pickup_longitude'].values + test['dropoff_longitude'].values) / 2\n"
   ]
  },
  {
   "cell_type": "markdown",
   "metadata": {},
   "source": [
    "## Step8: Generate Datetime features for speed and weather analysis:"
   ]
  },
  {
   "cell_type": "code",
   "execution_count": 23,
   "metadata": {
    "collapsed": true
   },
   "outputs": [],
   "source": [
    "#Step8: Datetime features:\n",
    "train.loc[:,'pickup_weekday']=train['pickup_datetime'].dt.weekday\n",
    "train.loc[:,'pickup_hour_weekofyear']=train['pickup_datetime'].dt.weekofyear\n",
    "train.loc[:,'pickup_hour']=train['pickup_datetime'].dt.hour\n",
    "train.loc[:,'pickup_minute']=train['pickup_datetime'].dt.minute\n",
    "train.loc[:,'pickup_dt']=(train['pickup_datetime']-train['pickup_datetime'].min()).dt.total_seconds()\n",
    "train.loc[:,'pickup_week_hour']=train['pickup_weekday']*24+train['pickup_hour']\n",
    "\n",
    "test.loc[:,'pickup_weekday']=test['pickup_datetime'].dt.weekday\n",
    "test.loc[:,'pickup_hour_weekofyear']=test['pickup_datetime'].dt.weekofyear\n",
    "test.loc[:,'pickup_hour']=test['pickup_datetime'].dt.hour\n",
    "test.loc[:,'pickup_minute']=test['pickup_datetime'].dt.minute\n",
    "test.loc[:,'pickup_dt']=(test['pickup_datetime']-test['pickup_datetime'].min()).dt.total_seconds()\n",
    "test.loc[:,'pickup_week_hour']=test['pickup_weekday']*24+test['pickup_hour']\n",
    "\n",
    "train.loc[:,'week_delta']=train['pickup_datetime'].dt.weekday+((train['pickup_datetime'].dt.hour+(train['pickup_datetime'].dt.minute/60.0))/24.0)\n",
    "test.loc[:,'week_delta']=test['pickup_datetime'].dt.weekday+((test['pickup_datetime'].dt.hour+(test['pickup_datetime'].dt.minute/60.0))/24.0)\n"
   ]
  },
  {
   "cell_type": "markdown",
   "metadata": {},
   "source": [
    "## Step 8.1: Make time cyclic: \n",
    "## A cyclic period identifies repetitive cyclical variation, such as the number of months in a year or the number of days in a week."
   ]
  },
  {
   "cell_type": "code",
   "execution_count": 24,
   "metadata": {
    "collapsed": true
   },
   "outputs": [],
   "source": [
    "#Step 8.1: Make time cyclic: \n",
    "## A cyclic period identifies repetitive cyclical variation, such as the number of months in a year or the number of days in a week.\n",
    "train.loc[:,'week_delta_sin']=np.sin((train['week_delta']/7)*np.pi)**2\n",
    "train.loc[:,'hour_sin']=np.sin((train['pickup_hour']/24)*np.pi)**2\n",
    "test.loc[:,'week_delta_sin']=np.sin((test['week_delta']/7)*np.pi)**2\n",
    "test.loc[:,'hour_sin']=np.sin((test['pickup_hour']/24)*np.pi)**2"
   ]
  },
  {
   "cell_type": "markdown",
   "metadata": {},
   "source": [
    "## Step9: Speed processing:\n",
    "### Get Average speed for regions."
   ]
  },
  {
   "cell_type": "code",
   "execution_count": 25,
   "metadata": {
    "collapsed": true
   },
   "outputs": [],
   "source": [
    "train.loc[:,'avg_speed_h']=1000*train['distance_haversine']/train['trip_duration']\n",
    "train.loc[:,'avg_speed_m']=1000*train['distance_dummy_manhattan']/train['trip_duration']\n",
    "train.loc[:,'pickup_lat_bin']=np.round(train['pickup_latitude'],3)\n",
    "train.loc[:,'pickup_long_bin']=np.round(train['pickup_longitude'],3)\n"
   ]
  },
  {
   "cell_type": "code",
   "execution_count": 26,
   "metadata": {
    "collapsed": true
   },
   "outputs": [],
   "source": [
    "#Step9.1: Average speed for regions:\n",
    "gby_cols=['pickup_lat_bin','pickup_long_bin']\n",
    "coord_speed=train.groupby(gby_cols).mean()[['avg_speed_h']].reset_index()\n",
    "coord_count=train.groupby(gby_cols).count()[['id']].reset_index() #!!!!!!!reset_index()\n",
    "coord_stats=pd.merge(coord_speed, coord_count,on=gby_cols)\n",
    "coord_stats=coord_stats[coord_stats['id']>100]\n",
    "\n",
    "train.loc[:,'pickup_lat_bin']=np.round(train['pickup_latitude'],2)\n",
    "train.loc[:,'pickup_long_bin']=np.round(train['pickup_longitude'],2)\n",
    "train.loc[:,'center_lat_bin']=np.round(train['center_latitude'],2)\n",
    "train.loc[:,'center_long_bin']=np.round(train['center_longitude'],2)\n",
    "train.loc[:,'pickup_dt_bin']=(train['pickup_dt']//(3*3600)) #Floor division - division that results into whole number adjusted to the left in the number line\n",
    "\n",
    "test.loc[:,'pickup_lat_bin']=np.round(test['pickup_latitude'],2)\n",
    "test.loc[:,'pickup_long_bin']=np.round(test['pickup_longitude'],2)\n",
    "test.loc[:,'center_lat_bin']=np.round(test['center_latitude'],2)\n",
    "test.loc[:,'center_long_bin']=np.round(test['center_longitude'],2)\n",
    "test.loc[:,'pickup_dt_bin']=(test['pickup_dt']//(3*3600)) #Floor division - division that results into whole number adjusted to the left in the number line\n"
   ]
  },
  {
   "cell_type": "markdown",
   "metadata": {},
   "source": [
    "## Step10: Clustering & Predict by-MiniBatchKMeans:"
   ]
  },
  {
   "cell_type": "markdown",
   "metadata": {},
   "source": [
    "## The MiniBatchKMeans is a variant of the KMeans algorithm which uses mini-batches to reduce the computation time.\n",
    "## Mini-batches are subsets of the input data, randomly sampled in each training iteration. \n",
    "## These mini-batches drastically reduce the amount of computation required to converge to a local solution. "
   ]
  },
  {
   "cell_type": "code",
   "execution_count": 27,
   "metadata": {},
   "outputs": [
    {
     "name": "stdout",
     "output_type": "stream",
     "text": [
      "the length of coords:\n",
      " 1350268\n"
     ]
    }
   ],
   "source": [
    "#Step10: Clustering-MiniBatchKMeans:\n",
    "sample_ind=np.random.permutation(len(coords))[:500000]\n",
    "#np.random.permutation: Randomly permute a sequence, or return a permuted range.\n",
    "#Shuffle the coords and get 500000 items from it.\n",
    "\n",
    "print('the length of coords:\\n', len(coords))\n",
    "\n",
    "kmeans=MiniBatchKMeans(n_clusters=100, batch_size=10000).fit(coords[sample_ind])\n",
    "#MiniBatchKMeans: batch_size controls the number of randomly selected observations in each batch. \n",
    "# The larger the the size of the batch, the more computationally costly the training process.\n"
   ]
  },
  {
   "cell_type": "markdown",
   "metadata": {},
   "source": [
    "## Step10.1: Predict by MiniBatchKMeans:(Keypoint)"
   ]
  },
  {
   "cell_type": "code",
   "execution_count": 28,
   "metadata": {},
   "outputs": [
    {
     "name": "stdout",
     "output_type": "stream",
     "text": [
      "Time for clustering: 260 seconds\n"
     ]
    }
   ],
   "source": [
    "#Step10.1: Predict by MiniBatchKMeans:\n",
    "train.loc[:,'pickup_cluster']=kmeans.predict(train[['pickup_latitude','pickup_longitude']])\n",
    "train.loc[:,'dropoff_cluster']=kmeans.predict(train[['dropoff_latitude', 'dropoff_longitude']])\n",
    "test.loc[:,'pickup_cluster']=kmeans.predict(test[['pickup_latitude','pickup_longitude']])\n",
    "test.loc[:,'dropoff_cluster']=kmeans.predict(test[['dropoff_latitude','dropoff_longitude']])\n",
    "\n",
    "t1=dt.datetime.now()\n",
    "print('Time for clustering: %i seconds' %(t1-t0).seconds) #!!!!!!!!!!!!!!!!!!!!\n"
   ]
  },
  {
   "cell_type": "code",
   "execution_count": 29,
   "metadata": {
    "collapsed": true
   },
   "outputs": [],
   "source": [
    "train['log_trip_duration']=np.log(train['trip_duration'].values+1)"
   ]
  },
  {
   "cell_type": "code",
   "execution_count": 30,
   "metadata": {},
   "outputs": [
    {
     "name": "stdout",
     "output_type": "stream",
     "text": [
      "['id', 'vendor_id', 'pickup_datetime', 'passenger_count', 'pickup_longitude', 'pickup_latitude', 'dropoff_longitude', 'dropoff_latitude', 'store_and_fwd_flag', 'pickup_date', 'pickup_pca0', 'pickup_pca1', 'dropoff_pca0', 'dropoff_pca1', 'distance_haversine', 'distance_dummy_manhattan', 'direction', 'pca_manhattan', 'center_latitude', 'center_longitude', 'pickup_weekday', 'pickup_hour_weekofyear', 'pickup_hour', 'pickup_minute', 'pickup_dt', 'pickup_week_hour', 'week_delta', 'week_delta_sin', 'hour_sin', 'pickup_lat_bin', 'pickup_long_bin', 'center_lat_bin', 'center_long_bin', 'pickup_dt_bin', 'pickup_cluster', 'dropoff_cluster']\n",
      "\n",
      "\n",
      "Train:\n",
      "['id', 'vendor_id', 'pickup_datetime', 'dropoff_datetime', 'passenger_count', 'pickup_longitude', 'pickup_latitude', 'dropoff_longitude', 'dropoff_latitude', 'store_and_fwd_flag', 'trip_duration', 'pickup_date', 'check_trip_duration', 'pickup_pca0', 'pickup_pca1', 'dropoff_pca0', 'dropoff_pca1', 'distance_haversine', 'distance_dummy_manhattan', 'direction', 'pca_manhattan', 'center_latitude', 'center_longitude', 'pickup_weekday', 'pickup_hour_weekofyear', 'pickup_hour', 'pickup_minute', 'pickup_dt', 'pickup_week_hour', 'week_delta', 'week_delta_sin', 'hour_sin', 'avg_speed_h', 'avg_speed_m', 'pickup_lat_bin', 'pickup_long_bin', 'center_lat_bin', 'center_long_bin', 'pickup_dt_bin', 'pickup_cluster', 'dropoff_cluster', 'log_trip_duration']\n",
      "          id  vendor_id     pickup_datetime    dropoff_datetime  \\\n",
      "0  id2875421          2 2016-03-14 17:24:00 2016-03-14 17:32:00   \n",
      "1  id2377394          1 2016-06-12 00:43:00 2016-06-12 00:54:00   \n",
      "2  id3858529          2 2016-01-19 11:35:00 2016-01-19 12:10:00   \n",
      "\n",
      "   passenger_count  pickup_longitude  pickup_latitude  dropoff_longitude  \\\n",
      "0                1        -73.982155        40.767937         -73.964630   \n",
      "1                1        -73.980415        40.738564         -73.999481   \n",
      "2                1        -73.979027        40.763939         -74.005333   \n",
      "\n",
      "   dropoff_latitude  store_and_fwd_flag        ...          avg_speed_h  \\\n",
      "0         40.765602                   0        ...             3.293453   \n",
      "1         40.731152                   0        ...             2.723239   \n",
      "2         40.710087                   0        ...             3.006167   \n",
      "\n",
      "  avg_speed_m  pickup_lat_bin  pickup_long_bin  center_lat_bin  \\\n",
      "0    3.814141           40.77           -73.98           40.77   \n",
      "1    3.665923           40.74           -73.98           40.73   \n",
      "2    3.862324           40.76           -73.98           40.74   \n",
      "\n",
      "   center_long_bin  pickup_dt_bin  pickup_cluster  dropoff_cluster  \\\n",
      "0           -73.97          589.0              38               95   \n",
      "1           -73.99         1304.0              93               54   \n",
      "2           -73.99          147.0              96               69   \n",
      "\n",
      "   log_trip_duration  \n",
      "0           6.122493  \n",
      "1           6.498282  \n",
      "2           7.661527  \n",
      "\n",
      "[3 rows x 42 columns]\n"
     ]
    }
   ],
   "source": [
    "print(list(test))\n",
    "print(\"\\n\")\n",
    "print(\"Train:\")\n",
    "print(list(train))\n",
    "print(train.head(3))"
   ]
  },
  {
   "cell_type": "markdown",
   "metadata": {},
   "source": [
    "## Step11: Temporal and geospatial aggregation: \n",
    "### For retriving the trips over threshold time durations and identifying hot areas."
   ]
  },
  {
   "cell_type": "code",
   "execution_count": 31,
   "metadata": {
    "collapsed": true
   },
   "outputs": [],
   "source": [
    "#Step11: Temporal and geospatial aggregation\n",
    "for gby_col in ['pickup_hour','pickup_date','pickup_dt_bin','pickup_week_hour','pickup_cluster','dropoff_cluster']:\n",
    "    gby=train.groupby(gby_col).mean()[['avg_speed_h','avg_speed_m','log_trip_duration']]\n",
    "    gby.columns=['%s_gby_%s' % (col, gby_col) for col in gby.columns]\n",
    "    train=pd.merge(train, gby,how='left',left_on=gby_col,right_index=True)\n",
    "    test = pd.merge(test, gby, how='left', left_on=gby_col, right_index=True)\n",
    "    #how: left: use only keys from left frame, similar to a SQL left outer join; preserve key order\n",
    "    #right_index: Use the index from the right DataFrame as the join key.\n",
    "    #left_on 和 right_on 来指定列名，从而使不同的列名相互对应，进而进行合并. 如employee, name.\n",
    "\n",
    "\n",
    "for gby_cols in [['center_lat_bin', 'center_long_bin'],\n",
    "                 ['pickup_hour', 'center_lat_bin', 'center_long_bin'],\n",
    "                 ['pickup_hour', 'pickup_cluster'],  ['pickup_hour', 'dropoff_cluster'],\n",
    "                 ['pickup_cluster', 'dropoff_cluster']]:\n",
    "    coord_speed=train.groupby(gby_cols).mean()[['avg_speed_h']].reset_index()\n",
    "    coord_count=train.groupby(gby_cols).count()[['id']].reset_index()\n",
    "    coord_stats=pd.merge(coord_speed,coord_count,on=gby_cols)\n",
    "    coord_stats.columns=gby_cols+['avg_speed_h_%s' % '_'.join(gby_cols),'cnt_%s' % '_'.join(gby_cols)]\n",
    "    #.columns attribute returns an index containg the column names of df.\n",
    "    # df. columns可以得到所有的列标签，同理df.index可以得到所有的行标签。\n",
    "    #eg.:df.columns: Get: Index(['ColumnOne', 'ColumnTwo'], dtype=\n",
    "    train=pd.merge(train,coord_stats,how='left',on=gby_cols)\n",
    "    test=pd.merge(test,coord_stats,how='left',on=gby_cols)\n",
    " "
   ]
  },
  {
   "cell_type": "code",
   "execution_count": 32,
   "metadata": {},
   "outputs": [
    {
     "name": "stdout",
     "output_type": "stream",
     "text": [
      "['id', 'vendor_id', 'pickup_datetime', 'passenger_count', 'pickup_longitude', 'pickup_latitude', 'dropoff_longitude', 'dropoff_latitude', 'store_and_fwd_flag', 'pickup_date', 'pickup_pca0', 'pickup_pca1', 'dropoff_pca0', 'dropoff_pca1', 'distance_haversine', 'distance_dummy_manhattan', 'direction', 'pca_manhattan', 'center_latitude', 'center_longitude', 'pickup_weekday', 'pickup_hour_weekofyear', 'pickup_hour', 'pickup_minute', 'pickup_dt', 'pickup_week_hour', 'week_delta', 'week_delta_sin', 'hour_sin', 'pickup_lat_bin', 'pickup_long_bin', 'center_lat_bin', 'center_long_bin', 'pickup_dt_bin', 'pickup_cluster', 'dropoff_cluster', 'avg_speed_h_gby_pickup_hour', 'avg_speed_m_gby_pickup_hour', 'log_trip_duration_gby_pickup_hour', 'avg_speed_h_gby_pickup_date', 'avg_speed_m_gby_pickup_date', 'log_trip_duration_gby_pickup_date', 'avg_speed_h_gby_pickup_dt_bin', 'avg_speed_m_gby_pickup_dt_bin', 'log_trip_duration_gby_pickup_dt_bin', 'avg_speed_h_gby_pickup_week_hour', 'avg_speed_m_gby_pickup_week_hour', 'log_trip_duration_gby_pickup_week_hour', 'avg_speed_h_gby_pickup_cluster', 'avg_speed_m_gby_pickup_cluster', 'log_trip_duration_gby_pickup_cluster', 'avg_speed_h_gby_dropoff_cluster', 'avg_speed_m_gby_dropoff_cluster', 'log_trip_duration_gby_dropoff_cluster', 'avg_speed_h_center_lat_bin_center_long_bin', 'cnt_center_lat_bin_center_long_bin', 'avg_speed_h_pickup_hour_center_lat_bin_center_long_bin', 'cnt_pickup_hour_center_lat_bin_center_long_bin', 'avg_speed_h_pickup_hour_pickup_cluster', 'cnt_pickup_hour_pickup_cluster', 'avg_speed_h_pickup_hour_dropoff_cluster', 'cnt_pickup_hour_dropoff_cluster', 'avg_speed_h_pickup_cluster_dropoff_cluster', 'cnt_pickup_cluster_dropoff_cluster']\n",
      "\n",
      "\n",
      "Train:\n",
      "['id', 'vendor_id', 'pickup_datetime', 'dropoff_datetime', 'passenger_count', 'pickup_longitude', 'pickup_latitude', 'dropoff_longitude', 'dropoff_latitude', 'store_and_fwd_flag', 'trip_duration', 'pickup_date', 'check_trip_duration', 'pickup_pca0', 'pickup_pca1', 'dropoff_pca0', 'dropoff_pca1', 'distance_haversine', 'distance_dummy_manhattan', 'direction', 'pca_manhattan', 'center_latitude', 'center_longitude', 'pickup_weekday', 'pickup_hour_weekofyear', 'pickup_hour', 'pickup_minute', 'pickup_dt', 'pickup_week_hour', 'week_delta', 'week_delta_sin', 'hour_sin', 'avg_speed_h', 'avg_speed_m', 'pickup_lat_bin', 'pickup_long_bin', 'center_lat_bin', 'center_long_bin', 'pickup_dt_bin', 'pickup_cluster', 'dropoff_cluster', 'log_trip_duration', 'avg_speed_h_gby_pickup_hour', 'avg_speed_m_gby_pickup_hour', 'log_trip_duration_gby_pickup_hour', 'avg_speed_h_gby_pickup_date', 'avg_speed_m_gby_pickup_date', 'log_trip_duration_gby_pickup_date', 'avg_speed_h_gby_pickup_dt_bin', 'avg_speed_m_gby_pickup_dt_bin', 'log_trip_duration_gby_pickup_dt_bin', 'avg_speed_h_gby_pickup_week_hour', 'avg_speed_m_gby_pickup_week_hour', 'log_trip_duration_gby_pickup_week_hour', 'avg_speed_h_gby_pickup_cluster', 'avg_speed_m_gby_pickup_cluster', 'log_trip_duration_gby_pickup_cluster', 'avg_speed_h_gby_dropoff_cluster', 'avg_speed_m_gby_dropoff_cluster', 'log_trip_duration_gby_dropoff_cluster', 'avg_speed_h_center_lat_bin_center_long_bin', 'cnt_center_lat_bin_center_long_bin', 'avg_speed_h_pickup_hour_center_lat_bin_center_long_bin', 'cnt_pickup_hour_center_lat_bin_center_long_bin', 'avg_speed_h_pickup_hour_pickup_cluster', 'cnt_pickup_hour_pickup_cluster', 'avg_speed_h_pickup_hour_dropoff_cluster', 'cnt_pickup_hour_dropoff_cluster', 'avg_speed_h_pickup_cluster_dropoff_cluster', 'cnt_pickup_cluster_dropoff_cluster']\n",
      "          id  vendor_id     pickup_datetime    dropoff_datetime  \\\n",
      "0  id2875421          2 2016-03-14 17:24:00 2016-03-14 17:32:00   \n",
      "1  id2377394          1 2016-06-12 00:43:00 2016-06-12 00:54:00   \n",
      "2  id3858529          2 2016-01-19 11:35:00 2016-01-19 12:10:00   \n",
      "\n",
      "   passenger_count  pickup_longitude  pickup_latitude  dropoff_longitude  \\\n",
      "0                1        -73.982155        40.767937         -73.964630   \n",
      "1                1        -73.980415        40.738564         -73.999481   \n",
      "2                1        -73.979027        40.763939         -74.005333   \n",
      "\n",
      "   dropoff_latitude  store_and_fwd_flag                 ...                  \\\n",
      "0         40.765602                   0                 ...                   \n",
      "1         40.731152                   0                 ...                   \n",
      "2         40.710087                   0                 ...                   \n",
      "\n",
      "   avg_speed_h_center_lat_bin_center_long_bin  \\\n",
      "0                                    3.581992   \n",
      "1                                    3.534788   \n",
      "2                                    3.402122   \n",
      "\n",
      "  cnt_center_lat_bin_center_long_bin  \\\n",
      "0                               2020   \n",
      "1                               1803   \n",
      "2                               2823   \n",
      "\n",
      "   avg_speed_h_pickup_hour_center_lat_bin_center_long_bin  \\\n",
      "0                                           3.045406        \n",
      "1                                           3.419741        \n",
      "2                                           3.025884        \n",
      "\n",
      "   cnt_pickup_hour_center_lat_bin_center_long_bin  \\\n",
      "0                                             146   \n",
      "1                                              90   \n",
      "2                                             126   \n",
      "\n",
      "   avg_speed_h_pickup_hour_pickup_cluster  cnt_pickup_hour_pickup_cluster  \\\n",
      "0                                3.007262                              72   \n",
      "1                                4.901849                              13   \n",
      "2                                2.824823                              42   \n",
      "\n",
      "   avg_speed_h_pickup_hour_dropoff_cluster  cnt_pickup_hour_dropoff_cluster  \\\n",
      "0                                 2.803846                               59   \n",
      "1                                 3.627923                               38   \n",
      "2                                 4.281608                               22   \n",
      "\n",
      "   avg_speed_h_pickup_cluster_dropoff_cluster  \\\n",
      "0                                    2.471220   \n",
      "1                                    2.443788   \n",
      "2                                    3.288158   \n",
      "\n",
      "   cnt_pickup_cluster_dropoff_cluster  \n",
      "0                                  19  \n",
      "1                                  10  \n",
      "2                                   2  \n",
      "\n",
      "[3 rows x 70 columns]\n"
     ]
    }
   ],
   "source": [
    "print(list(test))\n",
    "print(\"\\n\")\n",
    "print(\"Train:\")\n",
    "print(list(train))\n",
    "print(train.head(3))\n"
   ]
  },
  {
   "cell_type": "markdown",
   "metadata": {},
   "source": [
    "## Step12: Get trips around 60 min."
   ]
  },
  {
   "cell_type": "code",
   "execution_count": 33,
   "metadata": {
    "collapsed": true
   },
   "outputs": [
    {
     "name": "stdout",
     "output_type": "stream",
     "text": [
      "          id  vendor_id     pickup_datetime    dropoff_datetime  \\\n",
      "0  id2875421          2 2016-03-14 17:24:00 2016-03-14 17:32:00   \n",
      "1  id2377394          1 2016-06-12 00:43:00 2016-06-12 00:54:00   \n",
      "2  id3858529          2 2016-01-19 11:35:00 2016-01-19 12:10:00   \n",
      "\n",
      "   passenger_count  pickup_longitude  pickup_latitude  dropoff_longitude  \\\n",
      "0                1        -73.982155        40.767937         -73.964630   \n",
      "1                1        -73.980415        40.738564         -73.999481   \n",
      "2                1        -73.979027        40.763939         -74.005333   \n",
      "\n",
      "   dropoff_latitude  store_and_fwd_flag          ...            \\\n",
      "0         40.765602                   0          ...             \n",
      "1         40.731152                   0          ...             \n",
      "2         40.710087                   0          ...             \n",
      "\n",
      "   cnt_center_lat_bin_center_long_bin  \\\n",
      "0                                2020   \n",
      "1                                1803   \n",
      "2                                2823   \n",
      "\n",
      "  avg_speed_h_pickup_hour_center_lat_bin_center_long_bin  \\\n",
      "0                                           3.045406       \n",
      "1                                           3.419741       \n",
      "2                                           3.025884       \n",
      "\n",
      "   cnt_pickup_hour_center_lat_bin_center_long_bin  \\\n",
      "0                                             146   \n",
      "1                                              90   \n",
      "2                                             126   \n",
      "\n",
      "   avg_speed_h_pickup_hour_pickup_cluster  cnt_pickup_hour_pickup_cluster  \\\n",
      "0                                3.007262                              72   \n",
      "1                                4.901849                              13   \n",
      "2                                2.824823                              42   \n",
      "\n",
      "   avg_speed_h_pickup_hour_dropoff_cluster  cnt_pickup_hour_dropoff_cluster  \\\n",
      "0                                 2.803846                               59   \n",
      "1                                 3.627923                               38   \n",
      "2                                 4.281608                               22   \n",
      "\n",
      "   avg_speed_h_pickup_cluster_dropoff_cluster  \\\n",
      "0                                    2.471220   \n",
      "1                                    2.443788   \n",
      "2                                    3.288158   \n",
      "\n",
      "   cnt_pickup_cluster_dropoff_cluster  pickup_datetime_group  \n",
      "0                                  19    2016-03-14 17:00:00  \n",
      "1                                  10    2016-06-12 01:00:00  \n",
      "2                                   2    2016-01-19 12:00:00  \n",
      "\n",
      "[3 rows x 71 columns]\n"
     ]
    }
   ],
   "source": [
    "   \n",
    "group_freq = '60min'\n",
    "df_all = pd.concat((train, test))[['id', 'pickup_datetime', 'pickup_cluster', 'dropoff_cluster']]\n",
    "train.loc[:, 'pickup_datetime_group'] = train['pickup_datetime'].dt.round(group_freq)\n",
    "test.loc[:, 'pickup_datetime_group'] = test['pickup_datetime'].dt.round(group_freq)\n",
    "print(train.head(3))"
   ]
  },
  {
   "cell_type": "code",
   "execution_count": 34,
   "metadata": {},
   "outputs": [
    {
     "name": "stdout",
     "output_type": "stream",
     "text": [
      "          id  vendor_id     pickup_datetime    dropoff_datetime  \\\n",
      "0  id2875421          2 2016-03-14 17:24:00 2016-03-14 17:32:00   \n",
      "1  id2377394          1 2016-06-12 00:43:00 2016-06-12 00:54:00   \n",
      "2  id3858529          2 2016-01-19 11:35:00 2016-01-19 12:10:00   \n",
      "\n",
      "   passenger_count  pickup_longitude  pickup_latitude  dropoff_longitude  \\\n",
      "0                1        -73.982155        40.767937         -73.964630   \n",
      "1                1        -73.980415        40.738564         -73.999481   \n",
      "2                1        -73.979027        40.763939         -74.005333   \n",
      "\n",
      "   dropoff_latitude  store_and_fwd_flag     ...       \\\n",
      "0         40.765602                   0     ...        \n",
      "1         40.731152                   0     ...        \n",
      "2         40.710087                   0     ...        \n",
      "\n",
      "   avg_speed_h_pickup_hour_center_lat_bin_center_long_bin  \\\n",
      "0                                           3.045406        \n",
      "1                                           3.419741        \n",
      "2                                           3.025884        \n",
      "\n",
      "  cnt_pickup_hour_center_lat_bin_center_long_bin  \\\n",
      "0                                            146   \n",
      "1                                             90   \n",
      "2                                            126   \n",
      "\n",
      "   avg_speed_h_pickup_hour_pickup_cluster  cnt_pickup_hour_pickup_cluster  \\\n",
      "0                                3.007262                              72   \n",
      "1                                4.901849                              13   \n",
      "2                                2.824823                              42   \n",
      "\n",
      "   avg_speed_h_pickup_hour_dropoff_cluster  cnt_pickup_hour_dropoff_cluster  \\\n",
      "0                                 2.803846                               59   \n",
      "1                                 3.627923                               38   \n",
      "2                                 4.281608                               22   \n",
      "\n",
      "   avg_speed_h_pickup_cluster_dropoff_cluster  \\\n",
      "0                                    2.471220   \n",
      "1                                    2.443788   \n",
      "2                                    3.288158   \n",
      "\n",
      "   cnt_pickup_cluster_dropoff_cluster  pickup_datetime_group  count_60min  \n",
      "0                                  19    2016-03-14 17:00:00        206.0  \n",
      "1                                  10    2016-06-12 01:00:00        201.0  \n",
      "2                                   2    2016-01-19 12:00:00        181.0  \n",
      "\n",
      "[3 rows x 72 columns]\n"
     ]
    }
   ],
   "source": [
    "# Count trips over 60min\n",
    "df_counts = df_all.set_index('pickup_datetime')[['id']].sort_index()\n",
    "df_counts['count_60min'] = df_counts.isnull().rolling(group_freq).count()['id']\n",
    "train = train.merge(df_counts, on='id', how='left')\n",
    "test = test.merge(df_counts, on='id', how='left')\n",
    "print(train.head(3))"
   ]
  },
  {
   "cell_type": "code",
   "execution_count": null,
   "metadata": {},
   "outputs": [],
   "source": []
  },
  {
   "cell_type": "markdown",
   "metadata": {},
   "source": [
    "## Count how many trips are going from each cluster over time"
   ]
  },
  {
   "cell_type": "code",
   "execution_count": 35,
   "metadata": {
    "collapsed": true
   },
   "outputs": [],
   "source": [
    "# Count how many trips are going from each cluster over time\n",
    "df_all = pd.concat((train, test))[['id', 'pickup_datetime', 'pickup_cluster', 'dropoff_cluster']]\n",
    "pickup_counts = df_all \\\n",
    "    .set_index('pickup_datetime') \\\n",
    "    .groupby([pd.TimeGrouper(group_freq), 'pickup_cluster']) \\\n",
    "    .agg({'id': 'count'}) \\\n",
    "    .reset_index().set_index('pickup_datetime') \\\n",
    "    .groupby('pickup_cluster').rolling('240min').mean() \\\n",
    "    .drop('pickup_cluster', axis=1) \\\n",
    "    .reset_index().set_index('pickup_datetime').shift(freq='-120min').reset_index() \\\n",
    "    .rename(columns={'pickup_datetime': 'pickup_datetime_group', 'id': 'pickup_cluster_count'})"
   ]
  },
  {
   "cell_type": "code",
   "execution_count": 36,
   "metadata": {
    "collapsed": true
   },
   "outputs": [],
   "source": [
    "train['pickup_cluster_count'] = train[['pickup_datetime_group', 'pickup_cluster']].merge(pickup_counts, on=['pickup_datetime_group', 'pickup_cluster'], how='left')['pickup_cluster_count'].fillna(0)\n",
    "test['pickup_cluster_count'] = test[['pickup_datetime_group', 'pickup_cluster']].merge(pickup_counts, on=['pickup_datetime_group', 'pickup_cluster'], how='left')['pickup_cluster_count'].fillna(0)\n"
   ]
  },
  {
   "cell_type": "markdown",
   "metadata": {},
   "source": [
    "## Step 13: import OSRM data for further processing."
   ]
  },
  {
   "cell_type": "markdown",
   "metadata": {},
   "source": [
    "### For this particular problem we can add OSRM ([Open Source Routing Machine](http://project-osrm.org/ \"OSRM\")) features. This data contains the fastest routes from specific starting points in NY."
   ]
  },
  {
   "cell_type": "code",
   "execution_count": 99,
   "metadata": {
    "collapsed": true
   },
   "outputs": [],
   "source": [
    "fr1 = pd.read_csv('data/new-york-city-taxi-with-osrm/fastest_routes_train_part_1.csv',\n",
    "                  usecols=['id', 'total_distance', 'total_travel_time',  'number_of_steps'])\n",
    "\n",
    "fr2 = pd.read_csv('data/new-york-city-taxi-with-osrm/fastest_routes_train_part_2.csv',\n",
    "                  usecols=['id', 'total_distance', 'total_travel_time', 'number_of_steps'])\n",
    "\n",
    "test_street_info = pd.read_csv('data/new-york-city-taxi-with-osrm/fastest_routes_test.csv',\n",
    "                               usecols=['id', 'total_distance', 'total_travel_time', 'number_of_steps'])\n"
   ]
  },
  {
   "cell_type": "code",
   "execution_count": 38,
   "metadata": {},
   "outputs": [
    {
     "name": "stdout",
     "output_type": "stream",
     "text": [
      "          id  vendor_id     pickup_datetime    dropoff_datetime  \\\n",
      "0  id2875421          2 2016-03-14 17:24:00 2016-03-14 17:32:00   \n",
      "1  id2377394          1 2016-06-12 00:43:00 2016-06-12 00:54:00   \n",
      "2  id3858529          2 2016-01-19 11:35:00 2016-01-19 12:10:00   \n",
      "\n",
      "   passenger_count  pickup_longitude  pickup_latitude  dropoff_longitude  \\\n",
      "0                1        -73.982155        40.767937         -73.964630   \n",
      "1                1        -73.980415        40.738564         -73.999481   \n",
      "2                1        -73.979027        40.763939         -74.005333   \n",
      "\n",
      "   dropoff_latitude  store_and_fwd_flag       ...         \\\n",
      "0         40.765602                   0       ...          \n",
      "1         40.731152                   0       ...          \n",
      "2         40.710087                   0       ...          \n",
      "\n",
      "   avg_speed_h_pickup_hour_dropoff_cluster cnt_pickup_hour_dropoff_cluster  \\\n",
      "0                                 2.803846                              59   \n",
      "1                                 3.627923                              38   \n",
      "2                                 4.281608                              22   \n",
      "\n",
      "   avg_speed_h_pickup_cluster_dropoff_cluster  \\\n",
      "0                                    2.471220   \n",
      "1                                    2.443788   \n",
      "2                                    3.288158   \n",
      "\n",
      "   cnt_pickup_cluster_dropoff_cluster  pickup_datetime_group  count_60min  \\\n",
      "0                                  19    2016-03-14 17:00:00        206.0   \n",
      "1                                  10    2016-06-12 01:00:00        201.0   \n",
      "2                                   2    2016-01-19 12:00:00        181.0   \n",
      "\n",
      "   pickup_cluster_count  total_distance  total_travel_time  number_of_steps  \n",
      "0                   7.0          2009.1              164.9                5  \n",
      "1                   0.0          2513.2              332.0                6  \n",
      "2                   4.0         11060.8              767.6               16  \n",
      "\n",
      "[3 rows x 76 columns]\n"
     ]
    }
   ],
   "source": [
    "train_street_info=pd.concat((fr1, fr2))\n",
    "train = train.merge(train_street_info, how='left', on='id')\n",
    "test = test.merge(test_street_info, how='left', on='id')\n",
    "print(train.head(3))"
   ]
  },
  {
   "cell_type": "markdown",
   "metadata": {},
   "source": [
    "## Step 14: Feature extraction..\n",
    "### This step is to filter the features we used."
   ]
  },
  {
   "cell_type": "code",
   "execution_count": 39,
   "metadata": {},
   "outputs": [
    {
     "name": "stdout",
     "output_type": "stream",
     "text": [
      "['avg_speed_h' 'avg_speed_m' 'check_trip_duration' 'dropoff_datetime'\n",
      " 'log_trip_duration' 'trip_duration']\n",
      "We have 61 features.\n",
      "Feature extraction time: 296 seconds\n"
     ]
    }
   ],
   "source": [
    "#Filter the features we used.\n",
    "feature_names = list(train.columns)\n",
    "print(np.setdiff1d(train.columns, test.columns)) #setdiff1d():Return the sorted, unique values in ar1 that are not in ar2.\n",
    "do_not_use_for_training = ['id', 'log_trip_duration', 'pickup_datetime', 'dropoff_datetime', 'trip_duration', 'check_trip_duration',\n",
    "                           'pickup_date', 'avg_speed_h', 'avg_speed_m', 'pickup_lat_bin', 'pickup_long_bin',\n",
    "                           'center_lat_bin', 'center_long_bin', 'pickup_dt_bin', 'pickup_datetime_group']\n",
    "feature_names = [f for f in train.columns if f not in do_not_use_for_training]\n",
    "\n",
    "print('We have %i features.' % len(feature_names))\n",
    "train[feature_names].count()\n",
    "\n",
    "t1 = dt.datetime.now()\n",
    "print('Feature extraction time: %i seconds' % (t1 - t0).seconds)"
   ]
  },
  {
   "cell_type": "markdown",
   "metadata": {},
   "source": [
    "## Feature check before modeling"
   ]
  },
  {
   "cell_type": "code",
   "execution_count": 40,
   "metadata": {},
   "outputs": [
    {
     "data": {
      "text/html": [
       "<div>\n",
       "<style>\n",
       "    .dataframe thead tr:only-child th {\n",
       "        text-align: right;\n",
       "    }\n",
       "\n",
       "    .dataframe thead th {\n",
       "        text-align: left;\n",
       "    }\n",
       "\n",
       "    .dataframe tbody tr th {\n",
       "        vertical-align: top;\n",
       "    }\n",
       "</style>\n",
       "<table border=\"1\" class=\"dataframe\">\n",
       "  <thead>\n",
       "    <tr style=\"text-align: right;\">\n",
       "      <th></th>\n",
       "      <th>feature</th>\n",
       "      <th>train_test_mean_diff</th>\n",
       "    </tr>\n",
       "  </thead>\n",
       "  <tbody>\n",
       "    <tr>\n",
       "      <th>54</th>\n",
       "      <td>avg_speed_h_pickup_cluster_dropoff_cluster</td>\n",
       "      <td>0.030330</td>\n",
       "    </tr>\n",
       "    <tr>\n",
       "      <th>55</th>\n",
       "      <td>cnt_pickup_cluster_dropoff_cluster</td>\n",
       "      <td>0.035511</td>\n",
       "    </tr>\n",
       "    <tr>\n",
       "      <th>51</th>\n",
       "      <td>cnt_pickup_hour_pickup_cluster</td>\n",
       "      <td>0.042442</td>\n",
       "    </tr>\n",
       "    <tr>\n",
       "      <th>48</th>\n",
       "      <td>avg_speed_h_pickup_hour_center_lat_bin_center_...</td>\n",
       "      <td>0.045448</td>\n",
       "    </tr>\n",
       "    <tr>\n",
       "      <th>53</th>\n",
       "      <td>cnt_pickup_hour_dropoff_cluster</td>\n",
       "      <td>0.050175</td>\n",
       "    </tr>\n",
       "  </tbody>\n",
       "</table>\n",
       "</div>"
      ],
      "text/plain": [
       "                                              feature  train_test_mean_diff\n",
       "54         avg_speed_h_pickup_cluster_dropoff_cluster              0.030330\n",
       "55                 cnt_pickup_cluster_dropoff_cluster              0.035511\n",
       "51                     cnt_pickup_hour_pickup_cluster              0.042442\n",
       "48  avg_speed_h_pickup_hour_center_lat_bin_center_...              0.045448\n",
       "53                    cnt_pickup_hour_dropoff_cluster              0.050175"
      ]
     },
     "execution_count": 40,
     "metadata": {},
     "output_type": "execute_result"
    }
   ],
   "source": [
    "feature_stats = pd.DataFrame({'feature': feature_names})\n",
    "\n",
    "feature_stats.loc[:, 'train_mean'] = np.nanmean(train[feature_names].values, axis=0).round(4)\n",
    "# axis=0:the first running vertically downwards across rows (axis 0), \n",
    "# and the second running horizontally across columns (axis 1)\n",
    "\n",
    "#np.nanmean(): Compute the arithmetic mean along the specified axis, ignoring NaNs.\n",
    "feature_stats.loc[:, 'test_mean'] = np.nanmean(test[feature_names].values, axis=0).round(4)\n",
    "feature_stats.loc[:, 'train_std'] = np.nanstd(train[feature_names].values, axis=0).round(4)\n",
    "feature_stats.loc[:, 'test_std'] = np.nanstd(test[feature_names].values, axis=0).round(4)\n",
    "feature_stats.loc[:, 'train_nan'] = np.mean(np.isnan(train[feature_names].values), axis=0).round(3)\n",
    "feature_stats.loc[:, 'test_nan'] = np.mean(np.isnan(test[feature_names].values), axis=0).round(3)\n",
    "feature_stats.loc[:, 'train_test_mean_diff'] = np.abs(feature_stats['train_mean'] - feature_stats['test_mean']) / np.abs(feature_stats['train_std'] + feature_stats['test_std'])  * 2\n",
    "feature_stats.loc[:, 'train_test_nan_diff'] = np.abs(feature_stats['train_nan'] - feature_stats['test_nan'])\n",
    "feature_stats = feature_stats.sort_values(by='train_test_mean_diff')\n",
    "feature_stats[['feature', 'train_test_mean_diff']].tail()\n"
   ]
  },
  {
   "cell_type": "markdown",
   "metadata": {},
   "source": [
    "## Step 14: Train a simple classifier for prediction trip duration(keypoint):"
   ]
  },
  {
   "cell_type": "markdown",
   "metadata": {},
   "source": [
    "## Step 14.1: use the TPOT package to handle the cross validation and hyperparameters"
   ]
  },
  {
   "cell_type": "code",
   "execution_count": 41,
   "metadata": {},
   "outputs": [
    {
     "name": "stderr",
     "output_type": "stream",
     "text": [
      "C:\\Anaconda3\\lib\\site-packages\\deap\\tools\\_hypervolume\\pyhv.py:33: ImportWarning: Falling back to the python version of hypervolume module. Expect this to be very slow.\n",
      "  \"module. Expect this to be very slow.\", ImportWarning)\n",
      "C:\\Anaconda3\\lib\\importlib\\_bootstrap.py:219: ImportWarning: can't resolve package from __spec__ or __package__, falling back on __name__ and __path__\n",
      "  return f(*args, **kwds)\n"
     ]
    },
    {
     "name": "stdout",
     "output_type": "stream",
     "text": [
      "Version 0.9.2 of tpot is outdated. Version 0.9.3 was released Monday April 09, 2018.\n"
     ]
    }
   ],
   "source": [
    "from tpot import TPOTRegressor\n",
    "auto_classifier = TPOTRegressor(generations=3, population_size=9, verbosity=2)\n",
    "from sklearn.model_selection import train_test_split"
   ]
  },
  {
   "cell_type": "markdown",
   "metadata": {},
   "source": [
    "### Split the training data to train and validate"
   ]
  },
  {
   "cell_type": "code",
   "execution_count": 42,
   "metadata": {},
   "outputs": [
    {
     "name": "stdout",
     "output_type": "stream",
     "text": [
      "feature names:\n",
      " ['vendor_id', 'passenger_count', 'pickup_longitude', 'pickup_latitude', 'dropoff_longitude', 'dropoff_latitude', 'store_and_fwd_flag', 'pickup_pca0', 'pickup_pca1', 'dropoff_pca0', 'dropoff_pca1', 'distance_haversine', 'distance_dummy_manhattan', 'direction', 'pca_manhattan', 'center_latitude', 'center_longitude', 'pickup_weekday', 'pickup_hour_weekofyear', 'pickup_hour', 'pickup_minute', 'pickup_dt', 'pickup_week_hour', 'week_delta', 'week_delta_sin', 'hour_sin', 'pickup_cluster', 'dropoff_cluster', 'avg_speed_h_gby_pickup_hour', 'avg_speed_m_gby_pickup_hour', 'log_trip_duration_gby_pickup_hour', 'avg_speed_h_gby_pickup_date', 'avg_speed_m_gby_pickup_date', 'log_trip_duration_gby_pickup_date', 'avg_speed_h_gby_pickup_dt_bin', 'avg_speed_m_gby_pickup_dt_bin', 'log_trip_duration_gby_pickup_dt_bin', 'avg_speed_h_gby_pickup_week_hour', 'avg_speed_m_gby_pickup_week_hour', 'log_trip_duration_gby_pickup_week_hour', 'avg_speed_h_gby_pickup_cluster', 'avg_speed_m_gby_pickup_cluster', 'log_trip_duration_gby_pickup_cluster', 'avg_speed_h_gby_dropoff_cluster', 'avg_speed_m_gby_dropoff_cluster', 'log_trip_duration_gby_dropoff_cluster', 'avg_speed_h_center_lat_bin_center_long_bin', 'cnt_center_lat_bin_center_long_bin', 'avg_speed_h_pickup_hour_center_lat_bin_center_long_bin', 'cnt_pickup_hour_center_lat_bin_center_long_bin', 'avg_speed_h_pickup_hour_pickup_cluster', 'cnt_pickup_hour_pickup_cluster', 'avg_speed_h_pickup_hour_dropoff_cluster', 'cnt_pickup_hour_dropoff_cluster', 'avg_speed_h_pickup_cluster_dropoff_cluster', 'cnt_pickup_cluster_dropoff_cluster', 'count_60min', 'pickup_cluster_count', 'total_distance', 'total_travel_time', 'number_of_steps']\n",
      "x:\n",
      " [[  2.00000000e+00   1.00000000e+00  -7.39821549e+01 ...,   2.00910000e+03\n",
      "    1.64900000e+02   5.00000000e+00]\n",
      " [  1.00000000e+00   1.00000000e+00  -7.39804153e+01 ...,   2.51320000e+03\n",
      "    3.32000000e+02   6.00000000e+00]\n",
      " [  2.00000000e+00   1.00000000e+00  -7.39790268e+01 ...,   1.10608000e+04\n",
      "    7.67600000e+02   1.60000000e+01]\n",
      " ..., \n",
      " [  1.00000000e+00   1.00000000e+00  -7.39679794e+01 ...,   5.20500000e+03\n",
      "    5.20000000e+02   6.00000000e+00]\n",
      " [  2.00000000e+00   2.00000000e+00  -7.37767410e+01 ...,   1.89727000e+04\n",
      "    1.17050000e+03   1.70000000e+01]\n",
      " [  1.00000000e+00   2.00000000e+00  -7.40147934e+01 ...,   3.93740000e+03\n",
      "    4.24700000e+02   6.00000000e+00]]\n",
      "y:\n",
      " [ 6.12249281  6.49828215  7.66152708 ...,  6.85856503  7.47363711\n",
      "  6.42162227]\n",
      "KFold(n_splits=10, random_state=None, shuffle=False)\n"
     ]
    }
   ],
   "source": [
    "# K Fold Cross Validation\n",
    "from sklearn.model_selection import KFold\n",
    "\n",
    "X = train[feature_names].values\n",
    "y = np.log(train['trip_duration'].values + 1) #SetTarget feature: trip_Duration.\n",
    "\n",
    "kf = KFold(n_splits=10)\n",
    "kf.get_n_splits(X)\n",
    "\n",
    "print(\"feature names:\\n\", feature_names)\n",
    "print(\"x:\\n\",X)\n",
    "print(\"y:\\n\",y)\n",
    "print(kf)  \n"
   ]
  },
  {
   "cell_type": "code",
   "execution_count": 43,
   "metadata": {},
   "outputs": [
    {
     "name": "stdout",
     "output_type": "stream",
     "text": [
      "TRAIN: [ 5000  5001  5002 ..., 49997 49998 49999] TEST: [   0    1    2 ..., 4997 4998 4999]\n",
      "TRAIN: [    0     1     2 ..., 49997 49998 49999] TEST: [5000 5001 5002 ..., 9997 9998 9999]\n",
      "TRAIN: [    0     1     2 ..., 49997 49998 49999] TEST: [10000 10001 10002 ..., 14997 14998 14999]\n",
      "TRAIN: [    0     1     2 ..., 49997 49998 49999] TEST: [15000 15001 15002 ..., 19997 19998 19999]\n",
      "TRAIN: [    0     1     2 ..., 49997 49998 49999] TEST: [20000 20001 20002 ..., 24997 24998 24999]\n",
      "TRAIN: [    0     1     2 ..., 49997 49998 49999] TEST: [25000 25001 25002 ..., 29997 29998 29999]\n",
      "TRAIN: [    0     1     2 ..., 49997 49998 49999] TEST: [30000 30001 30002 ..., 34997 34998 34999]\n",
      "TRAIN: [    0     1     2 ..., 49997 49998 49999] TEST: [35000 35001 35002 ..., 39997 39998 39999]\n",
      "TRAIN: [    0     1     2 ..., 49997 49998 49999] TEST: [40000 40001 40002 ..., 44997 44998 44999]\n",
      "TRAIN: [    0     1     2 ..., 44997 44998 44999] TEST: [45000 45001 45002 ..., 49997 49998 49999]\n"
     ]
    }
   ],
   "source": [
    "KFold(n_splits=10, random_state=None, shuffle=False)\n",
    "for train_index, test_index in kf.split(X):\n",
    "    print(\"TRAIN:\", train_index, \"TEST:\", test_index)\n",
    "    X_train, X_valid = X[train_index], X[test_index]\n",
    "    y_train, y_valid = y[train_index], y[test_index]"
   ]
  },
  {
   "cell_type": "markdown",
   "metadata": {},
   "source": [
    "### Train the data by classifier."
   ]
  },
  {
   "cell_type": "code",
   "execution_count": 44,
   "metadata": {},
   "outputs": [
    {
     "name": "stderr",
     "output_type": "stream",
     "text": [
      "                                                                               \r"
     ]
    },
    {
     "name": "stdout",
     "output_type": "stream",
     "text": [
      "Generation 1 - Current best internal CV score: -0.14699252836330726\n"
     ]
    },
    {
     "name": "stderr",
     "output_type": "stream",
     "text": [
      "                                                                             \r"
     ]
    },
    {
     "name": "stdout",
     "output_type": "stream",
     "text": [
      "Generation 2 - Current best internal CV score: -0.14699252836330726\n"
     ]
    },
    {
     "name": "stderr",
     "output_type": "stream",
     "text": [
      "                                                                            \r"
     ]
    },
    {
     "name": "stdout",
     "output_type": "stream",
     "text": [
      "Generation 3 - Current best internal CV score: -0.14699252836330726\n"
     ]
    },
    {
     "name": "stderr",
     "output_type": "stream",
     "text": [
      "                                                          \r"
     ]
    },
    {
     "name": "stdout",
     "output_type": "stream",
     "text": [
      "\n",
      "Best pipeline: XGBRegressor(input_matrix, learning_rate=0.1, max_depth=6, min_child_weight=2, n_estimators=100, nthread=1, subsample=1.0)\n"
     ]
    },
    {
     "data": {
      "text/plain": [
       "TPOTRegressor(config_dict={'sklearn.linear_model.ElasticNetCV': {'l1_ratio': array([ 0.  ,  0.05,  0.1 ,  0.15,  0.2 ,  0.25,  0.3 ,  0.35,  0.4 ,\n",
       "        0.45,  0.5 ,  0.55,  0.6 ,  0.65,  0.7 ,  0.75,  0.8 ,  0.85,\n",
       "        0.9 ,  0.95,  1.  ]), 'tol': [1e-05, 0.0001, 0.001, 0.01, 0.1]}, 'sklearn.ensemble.ExtraT....45,\n",
       "        0.5 ,  0.55,  0.6 ,  0.65,  0.7 ,  0.75,  0.8 ,  0.85,  0.9 ,\n",
       "        0.95,  1.  ])}}}},\n",
       "       crossover_rate=0.1, cv=5, disable_update_check=False,\n",
       "       early_stop=None, generations=3, max_eval_time_mins=5,\n",
       "       max_time_mins=None, memory=None, mutation_rate=0.9, n_jobs=1,\n",
       "       offspring_size=9, periodic_checkpoint_folder=None,\n",
       "       population_size=9, random_state=None, scoring=None, subsample=1.0,\n",
       "       verbosity=2, warm_start=False)"
      ]
     },
     "execution_count": 44,
     "metadata": {},
     "output_type": "execute_result"
    }
   ],
   "source": [
    "auto_classifier.fit(X_train, y_train)"
   ]
  },
  {
   "cell_type": "markdown",
   "metadata": {},
   "source": [
    "## Step14.2: Save the test[feature_names] to csv file."
   ]
  },
  {
   "cell_type": "code",
   "execution_count": 45,
   "metadata": {},
   "outputs": [
    {
     "name": "stdout",
     "output_type": "stream",
     "text": [
      "['vendor_id', 'passenger_count', 'pickup_longitude', 'pickup_latitude', 'dropoff_longitude', 'dropoff_latitude', 'store_and_fwd_flag', 'pickup_pca0', 'pickup_pca1', 'dropoff_pca0', 'dropoff_pca1', 'distance_haversine', 'distance_dummy_manhattan', 'direction', 'pca_manhattan', 'center_latitude', 'center_longitude', 'pickup_weekday', 'pickup_hour_weekofyear', 'pickup_hour', 'pickup_minute', 'pickup_dt', 'pickup_week_hour', 'week_delta', 'week_delta_sin', 'hour_sin', 'pickup_cluster', 'dropoff_cluster', 'avg_speed_h_gby_pickup_hour', 'avg_speed_m_gby_pickup_hour', 'log_trip_duration_gby_pickup_hour', 'avg_speed_h_gby_pickup_date', 'avg_speed_m_gby_pickup_date', 'log_trip_duration_gby_pickup_date', 'avg_speed_h_gby_pickup_dt_bin', 'avg_speed_m_gby_pickup_dt_bin', 'log_trip_duration_gby_pickup_dt_bin', 'avg_speed_h_gby_pickup_week_hour', 'avg_speed_m_gby_pickup_week_hour', 'log_trip_duration_gby_pickup_week_hour', 'avg_speed_h_gby_pickup_cluster', 'avg_speed_m_gby_pickup_cluster', 'log_trip_duration_gby_pickup_cluster', 'avg_speed_h_gby_dropoff_cluster', 'avg_speed_m_gby_dropoff_cluster', 'log_trip_duration_gby_dropoff_cluster', 'avg_speed_h_center_lat_bin_center_long_bin', 'cnt_center_lat_bin_center_long_bin', 'avg_speed_h_pickup_hour_center_lat_bin_center_long_bin', 'cnt_pickup_hour_center_lat_bin_center_long_bin', 'avg_speed_h_pickup_hour_pickup_cluster', 'cnt_pickup_hour_pickup_cluster', 'avg_speed_h_pickup_hour_dropoff_cluster', 'cnt_pickup_hour_dropoff_cluster', 'avg_speed_h_pickup_cluster_dropoff_cluster', 'cnt_pickup_cluster_dropoff_cluster', 'count_60min', 'pickup_cluster_count', 'total_distance', 'total_travel_time', 'number_of_steps']\n",
      "   vendor_id  passenger_count  pickup_longitude  pickup_latitude  \\\n",
      "0          1                1        -73.988129        40.732029   \n",
      "1          1                1        -73.964203        40.679993   \n",
      "2          1                1        -73.997437        40.737583   \n",
      "3          2                1        -73.956070        40.771900   \n",
      "4          1                1        -73.970215        40.761475   \n",
      "\n",
      "   dropoff_longitude  dropoff_latitude  store_and_fwd_flag  pickup_pca0  \\\n",
      "0         -73.990173         40.756680                   0     0.016106   \n",
      "1         -73.959808         40.655403                   0    -0.003569   \n",
      "2         -73.986160         40.729523                   0     0.024939   \n",
      "3         -73.986427         40.730469                   0    -0.019047   \n",
      "4         -73.961510         40.755890                   0    -0.004111   \n",
      "\n",
      "   pickup_pca1  dropoff_pca0       ...         cnt_pickup_hour_pickup_cluster  \\\n",
      "0    -0.018128      0.016167       ...                                   69.0   \n",
      "1    -0.071915     -0.005977       ...                                    6.0   \n",
      "2    -0.011845      0.014345       ...                                   43.0   \n",
      "3     0.019044      0.014536       ...                                   37.0   \n",
      "4     0.009786     -0.012341       ...                                   19.0   \n",
      "\n",
      "   avg_speed_h_pickup_hour_dropoff_cluster  cnt_pickup_hour_dropoff_cluster  \\\n",
      "0                                 3.671383                             68.0   \n",
      "1                                 5.773976                             16.0   \n",
      "2                                 4.911459                             41.0   \n",
      "3                                 4.911459                             41.0   \n",
      "4                                 4.604850                             24.0   \n",
      "\n",
      "   avg_speed_h_pickup_cluster_dropoff_cluster  \\\n",
      "0                                    2.484793   \n",
      "1                                         NaN   \n",
      "2                                    2.824884   \n",
      "3                                    5.580191   \n",
      "4                                    3.012223   \n",
      "\n",
      "   cnt_pickup_cluster_dropoff_cluster  count_60min  pickup_cluster_count  \\\n",
      "0                                17.0        212.0                   0.0   \n",
      "1                                 NaN        211.0                   0.0   \n",
      "2                                30.0        210.0                   0.0   \n",
      "3                                 5.0        209.0                   0.0   \n",
      "4                                14.0        214.0                   0.0   \n",
      "\n",
      "   total_distance  total_travel_time  number_of_steps  \n",
      "0          3795.9              424.6                4  \n",
      "1          2904.5              200.0                4  \n",
      "2          1499.5              193.2                4  \n",
      "3          7023.9              494.8               11  \n",
      "4          1108.2              103.2                4  \n",
      "\n",
      "[5 rows x 61 columns]\n"
     ]
    }
   ],
   "source": [
    "print(feature_names)\n",
    "print(test[feature_names].head(5))\n",
    "test[feature_names].to_csv('NYCTaxi_DataTest.csv', index=False)"
   ]
  },
  {
   "cell_type": "markdown",
   "metadata": {},
   "source": [
    "## Step 15: Predict trip duration with classifier.(Keypoint)"
   ]
  },
  {
   "cell_type": "code",
   "execution_count": 47,
   "metadata": {},
   "outputs": [
    {
     "name": "stdout",
     "output_type": "stream",
     "text": [
      "Imputing missing values in feature set\n",
      "-0.150391085454\n"
     ]
    },
    {
     "data": {
      "text/plain": [
       "True"
      ]
     },
     "execution_count": 47,
     "metadata": {},
     "output_type": "execute_result"
    }
   ],
   "source": [
    "test_result = auto_classifier.predict(test[feature_names].values)\n",
    "print(auto_classifier.score(X_valid,y_valid))\n",
    "\n",
    "sub = pd.DataFrame()\n",
    "sub['id'] = test['id']\n",
    "sub['trip_duration'] = np.exp(test_result) \n",
    "#np.exp: Calculate the exponential of all elements in the input array.\n",
    "sub['pickup_weekday']=test['pickup_weekday']\n",
    "sub.to_csv('NYCTaxi_TpotModels.csv', index=False)\n",
    "sub.head()\n",
    "      \n",
    "auto_classifier.export('NYCTaxi_TPOTpipelineResult.py')"
   ]
  },
  {
   "cell_type": "code",
   "execution_count": 48,
   "metadata": {},
   "outputs": [
    {
     "name": "stdout",
     "output_type": "stream",
     "text": [
      "vendor_id                                                 False\n",
      "passenger_count                                           False\n",
      "pickup_longitude                                          False\n",
      "pickup_latitude                                           False\n",
      "dropoff_longitude                                         False\n",
      "dropoff_latitude                                          False\n",
      "store_and_fwd_flag                                        False\n",
      "pickup_pca0                                               False\n",
      "pickup_pca1                                               False\n",
      "dropoff_pca0                                              False\n",
      "dropoff_pca1                                              False\n",
      "distance_haversine                                        False\n",
      "distance_dummy_manhattan                                  False\n",
      "direction                                                 False\n",
      "pca_manhattan                                             False\n",
      "center_latitude                                           False\n",
      "center_longitude                                          False\n",
      "pickup_weekday                                            False\n",
      "pickup_hour_weekofyear                                    False\n",
      "pickup_hour                                               False\n",
      "pickup_minute                                             False\n",
      "pickup_dt                                                 False\n",
      "pickup_week_hour                                          False\n",
      "week_delta                                                False\n",
      "week_delta_sin                                            False\n",
      "hour_sin                                                  False\n",
      "pickup_cluster                                            False\n",
      "dropoff_cluster                                           False\n",
      "avg_speed_h_gby_pickup_hour                               False\n",
      "avg_speed_m_gby_pickup_hour                               False\n",
      "                                                          ...  \n",
      "avg_speed_h_gby_pickup_date                               False\n",
      "avg_speed_m_gby_pickup_date                               False\n",
      "log_trip_duration_gby_pickup_date                         False\n",
      "avg_speed_h_gby_pickup_dt_bin                             False\n",
      "avg_speed_m_gby_pickup_dt_bin                             False\n",
      "log_trip_duration_gby_pickup_dt_bin                       False\n",
      "avg_speed_h_gby_pickup_week_hour                          False\n",
      "avg_speed_m_gby_pickup_week_hour                          False\n",
      "log_trip_duration_gby_pickup_week_hour                    False\n",
      "avg_speed_h_gby_pickup_cluster                            False\n",
      "avg_speed_m_gby_pickup_cluster                            False\n",
      "log_trip_duration_gby_pickup_cluster                      False\n",
      "avg_speed_h_gby_dropoff_cluster                           False\n",
      "avg_speed_m_gby_dropoff_cluster                           False\n",
      "log_trip_duration_gby_dropoff_cluster                     False\n",
      "avg_speed_h_center_lat_bin_center_long_bin                 True\n",
      "cnt_center_lat_bin_center_long_bin                         True\n",
      "avg_speed_h_pickup_hour_center_lat_bin_center_long_bin     True\n",
      "cnt_pickup_hour_center_lat_bin_center_long_bin             True\n",
      "avg_speed_h_pickup_hour_pickup_cluster                     True\n",
      "cnt_pickup_hour_pickup_cluster                             True\n",
      "avg_speed_h_pickup_hour_dropoff_cluster                    True\n",
      "cnt_pickup_hour_dropoff_cluster                            True\n",
      "avg_speed_h_pickup_cluster_dropoff_cluster                 True\n",
      "cnt_pickup_cluster_dropoff_cluster                         True\n",
      "count_60min                                               False\n",
      "pickup_cluster_count                                      False\n",
      "total_distance                                            False\n",
      "total_travel_time                                         False\n",
      "number_of_steps                                           False\n",
      "Length: 61, dtype: bool\n"
     ]
    }
   ],
   "source": [
    "trainDF = pd.read_csv('NYCTaxi_DataTest.csv', nrows=10000)\n",
    "print(trainDF.isnull().any())"
   ]
  },
  {
   "cell_type": "code",
   "execution_count": 49,
   "metadata": {
    "collapsed": true
   },
   "outputs": [],
   "source": [
    "#Fill nan of columns:\n",
    "trainDF['avg_speed_h_center_lat_bin_center_long_bin'].fillna((trainDF['avg_speed_h_center_lat_bin_center_long_bin'].mean()), inplace=True)\n",
    "trainDF['cnt_center_lat_bin_center_long_bin'].fillna((trainDF['cnt_center_lat_bin_center_long_bin'].mean()), inplace=True)\n",
    "trainDF['avg_speed_h_pickup_hour_center_lat_bin_center_long_bin'].fillna((trainDF['avg_speed_h_pickup_hour_center_lat_bin_center_long_bin'].mean()), inplace=True)\n",
    "trainDF['cnt_pickup_hour_center_lat_bin_center_long_bin'].fillna((trainDF['cnt_pickup_hour_center_lat_bin_center_long_bin'].mean()), inplace=True)\n",
    "trainDF['avg_speed_h_pickup_hour_pickup_cluster'].fillna((trainDF['avg_speed_h_pickup_hour_pickup_cluster'].mean()), inplace=True)\n",
    "trainDF['cnt_pickup_hour_pickup_cluster'].fillna((trainDF['cnt_pickup_hour_pickup_cluster'].mean()), inplace=True)\n",
    "trainDF['avg_speed_h_pickup_hour_dropoff_cluster'].fillna((trainDF['avg_speed_h_pickup_hour_dropoff_cluster'].mean()), inplace=True)\n",
    "trainDF['cnt_pickup_hour_dropoff_cluster'].fillna((trainDF['cnt_pickup_hour_dropoff_cluster'].mean()), inplace=True)\n",
    "trainDF['avg_speed_h_pickup_cluster_dropoff_cluster'].fillna((trainDF['avg_speed_h_pickup_cluster_dropoff_cluster'].mean()), inplace=True)\n",
    "trainDF['cnt_pickup_cluster_dropoff_cluster'].fillna((trainDF['cnt_pickup_cluster_dropoff_cluster'].mean()), inplace=True)\n"
   ]
  },
  {
   "cell_type": "markdown",
   "metadata": {},
   "source": [
    "#  Step 15: Animation the map with time changing:(Keypoint)"
   ]
  },
  {
   "cell_type": "code",
   "execution_count": 50,
   "metadata": {},
   "outputs": [
    {
     "data": {
      "text/html": [
       "\n",
       "    <div class=\"bk-root\">\n",
       "        <a href=\"https://bokeh.pydata.org\" target=\"_blank\" class=\"bk-logo bk-logo-small bk-logo-notebook\"></a>\n",
       "        <span id=\"ebb18695-e472-43fe-b2d5-cca3087a0a8c\">Loading BokehJS ...</span>\n",
       "    </div>"
      ]
     },
     "metadata": {},
     "output_type": "execute_result"
    },
    {
     "data": {},
     "metadata": {},
     "output_type": "display_data"
    },
    {
     "name": "stderr",
     "output_type": "stream",
     "text": [
      "IOPub data rate exceeded.\n",
      "The notebook server will temporarily stop sending output\n",
      "to the client in order to avoid crashing it.\n",
      "To change this limit, set the config variable\n",
      "`--NotebookApp.iopub_data_rate_limit`.\n"
     ]
    }
   ],
   "source": [
    "import pandas as pd  #pandas for using dataframe and reading csv \n",
    "import numpy as np   #numpy for vector operations and basic maths \n",
    "#import simplejson    #getting JSON in simplified format\n",
    "import urllib        #for url stuff\n",
    "#import gmaps       #for using google maps to visulalize places on maps\n",
    "import re            #for processing regular expressions\n",
    "import datetime      #for datetime operations\n",
    "import calendar      #for calendar for datetime operations\n",
    "import time          #to get the system time\n",
    "import scipy         #for other dependancies\n",
    "from sklearn.cluster import KMeans # for doing K-means clustering\n",
    "from haversine import haversine # for calculating haversine distance\n",
    "import math          #for basic maths operations\n",
    "import seaborn as sns #for making plots\n",
    "import matplotlib.pyplot as plt # for plotting\n",
    "import os  # for os commands\n",
    "# from scipy.misc import imread, imresize, imsave  # for plots \n",
    "import plotly.plotly as py\n",
    "import plotly.graph_objs as go\n",
    "import plotly\n",
    "from bokeh.palettes import Spectral4\n",
    "from bokeh.plotting import figure, output_notebook, show\n",
    "from IPython.display import HTML\n",
    "from matplotlib.pyplot import *\n",
    "from matplotlib import cm\n",
    "from matplotlib import animation\n",
    "import io\n",
    "import base64\n",
    "output_notebook()\n",
    "plotly.offline.init_notebook_mode() # run at the start of every ipython notebook"
   ]
  },
  {
   "cell_type": "markdown",
   "metadata": {},
   "source": [
    "## Step 15.1: Load data & Processing."
   ]
  },
  {
   "cell_type": "code",
   "execution_count": 51,
   "metadata": {},
   "outputs": [
    {
     "name": "stdout",
     "output_type": "stream",
     "text": [
      "Time taken: 40.0965211391449.\n"
     ]
    }
   ],
   "source": [
    "s = time.time()\n",
    "train_fr_1 = pd.read_csv('data/new-york-city-taxi-with-osrm/fastest_routes_train_part_1.csv')\n",
    "train_fr_2 = pd.read_csv('data/new-york-city-taxi-with-osrm/fastest_routes_train_part_2.csv')\n",
    "train_fr = pd.concat([train_fr_1, train_fr_2])\n",
    "train_fr_new = train_fr[['id', 'total_distance', 'total_travel_time', 'number_of_steps']]\n",
    "\n",
    "train_df = pd.read_csv('data/new-york-city-taxi-with-osrm/train.csv')\n",
    "train = pd.merge(train_df, train_fr_new, on = 'id', how = 'left')\n",
    "train_df = train.copy()\n",
    "end = time.time()\n",
    "print(\"Time taken: {}.\".format((end-s)))"
   ]
  },
  {
   "cell_type": "markdown",
   "metadata": {},
   "source": [
    "### Checking if Ids are unique, and the number of Nulls."
   ]
  },
  {
   "cell_type": "code",
   "execution_count": 52,
   "metadata": {},
   "outputs": [
    {
     "name": "stdout",
     "output_type": "stream",
     "text": [
      "Respectively, number of columns and rows and columns are 14 and 1458644 .\n",
      "Train ids are unique\n",
      "Number of Nulls : 3.\n",
      "          id  vendor_id      pickup_datetime     dropoff_datetime  \\\n",
      "0  id2875421          2  2016-03-14 17:24:55  2016-03-14 17:32:30   \n",
      "1  id2377394          1  2016-06-12 00:43:35  2016-06-12 00:54:38   \n",
      "2  id3858529          2  2016-01-19 11:35:24  2016-01-19 12:10:48   \n",
      "3  id3504673          2  2016-04-06 19:32:31  2016-04-06 19:39:40   \n",
      "\n",
      "   passenger_count  pickup_longitude  pickup_latitude  dropoff_longitude  \\\n",
      "0                1        -73.982155        40.767937         -73.964630   \n",
      "1                1        -73.980415        40.738564         -73.999481   \n",
      "2                1        -73.979027        40.763939         -74.005333   \n",
      "3                1        -74.010040        40.719971         -74.012268   \n",
      "\n",
      "   dropoff_latitude store_and_fwd_flag  trip_duration  total_distance  \\\n",
      "0         40.765602                  N            455          2009.1   \n",
      "1         40.731152                  N            663          2513.2   \n",
      "2         40.710087                  N           2124         11060.8   \n",
      "3         40.706718                  N            429          1779.4   \n",
      "\n",
      "   total_travel_time  number_of_steps  \n",
      "0              164.9              5.0  \n",
      "1              332.0              6.0  \n",
      "2              767.6             16.0  \n",
      "3              235.8              4.0  \n",
      "Time taken 7.048272609710693.\n"
     ]
    }
   ],
   "source": [
    "# checking if Ids are unique, and the number of Nulls.\n",
    "start = time.time()\n",
    "train_data = train_df.copy()\n",
    "start = time.time()\n",
    "print(\"Respectively, number of columns and rows and columns are {} and {} .\".format(train_data.shape[1], train_data.shape[0]))\n",
    "if train_data.id.nunique() == train_data.shape[0]: #nunique(): Return number of unique elements in the object.\n",
    "    print(\"Train ids are unique\")\n",
    "print(\"Number of Nulls : {}.\".format(train_data.isnull().sum().sum()))\n",
    "\n",
    "# Remain the items with latitude & longitude between 40.6-40.9 and -74.05--73.7:\n",
    "%matplotlib inline\n",
    "\n",
    "df = train_df.loc[(train_df.pickup_latitude > 40.6) & (train_df.pickup_latitude < 40.9)]\n",
    "df = df.loc[(df.dropoff_latitude>40.6) & (df.dropoff_latitude < 40.9)]\n",
    "df = df.loc[(df.dropoff_longitude > -74.05) & (df.dropoff_longitude < -73.7)]\n",
    "df = df.loc[(df.pickup_longitude > -74.05) & (df.pickup_longitude < -73.7)]\n",
    "\n",
    "train_data_new = df.copy()\n",
    "print(train_data_new.head(4))\n",
    "end = time.time()\n",
    "print(\"Time taken {}.\".format(end-start))"
   ]
  },
  {
   "cell_type": "markdown",
   "metadata": {},
   "source": [
    "## Step 15.2: Processing the information: like checking if trip duration has some correlation with vendors/drivers."
   ]
  },
  {
   "cell_type": "code",
   "execution_count": 53,
   "metadata": {
    "collapsed": true
   },
   "outputs": [],
   "source": [
    "temp = train_data.copy()\n",
    "train_data['pickup_datetime'] = pd.to_datetime(train_data.pickup_datetime)\n",
    "train_data.loc[:, 'pick_date'] = train_data['pickup_datetime'].dt.date\n",
    "train_data.head()\n",
    "\n",
    "ts_v1 = pd.DataFrame(train_data.loc[train_data['vendor_id']==1].groupby('pick_date')['trip_duration'].mean())\n",
    "ts_v1.reset_index(inplace = True)\n",
    "ts_v2 = pd.DataFrame(train_data.loc[train_data.vendor_id==2].groupby('pick_date')['trip_duration'].mean())\n",
    "ts_v2.reset_index(inplace = True)\n",
    "\n",
    "train_data = temp\n"
   ]
  },
  {
   "cell_type": "markdown",
   "metadata": {},
   "source": [
    "# Step 16: Basic image processing"
   ]
  },
  {
   "cell_type": "markdown",
   "metadata": {},
   "source": [
    "##  Consider each point of this image as a point represented by lat-long. Then take a summary of lat-long and their count, assign a different color for different count range."
   ]
  },
  {
   "cell_type": "markdown",
   "metadata": {},
   "source": [
    "## Step 16: Initialize and handle the pick&drop lat-long for further plot."
   ]
  },
  {
   "cell_type": "code",
   "execution_count": 54,
   "metadata": {},
   "outputs": [
    {
     "name": "stdout",
     "output_type": "stream",
     "text": [
      "pickup_latitude:\n",
      " 0    1679\n",
      "1    1385\n",
      "2    1639\n",
      "Name: pick_lat_new, dtype: int64\n",
      "dropoff_latitude:\n",
      " 0    1656\n",
      "1    1311\n",
      "2    1100\n",
      "Name: drop_lat_new, dtype: int64\n",
      "pickup_longitude:\n",
      " 0    678\n",
      "1    695\n",
      "2    709\n",
      "Name: pick_lon_new, dtype: int64\n",
      "dropoff_longitude:\n",
      " 0    853\n",
      "1    505\n",
      "2    446\n",
      "Name: drop_lon_new, dtype: int64\n"
     ]
    }
   ],
   "source": [
    "# rbg[lat, long, 0/1/2]:Create 3 arrays: with 3500 rows & 3 columns each.\n",
    "rgb = np.zeros((3000, 3500, 3), dtype=np.uint8) # 3000 arrays: with 3500 rows & 3 columns each.\n",
    "rgb[..., 0] = 0 # Assign 0 to every items in column 0;\n",
    "rgb[..., 1] = 0 # Assign 0 to every items in column 1;\n",
    "rgb[..., 2] = 0 # Assign 0 to every items in column 2;\n",
    "\n",
    "train_data_new['pick_lat_new'] = list(map(int, (train_data_new['pickup_latitude'] - (40.6000))*10000))\n",
    "train_data_new['drop_lat_new'] = list(map(int, (train_data_new['dropoff_latitude'] - (40.6000))*10000))\n",
    "train_data_new['pick_lon_new'] = list(map(int, (train_data_new['pickup_longitude'] - (-74.050))*10000))\n",
    "train_data_new['drop_lon_new'] = list(map(int,(train_data_new['dropoff_longitude'] - (-74.050))*10000))\n",
    "# map(): typecasting every element of the list to an integer value. \n",
    "# latitude should be between 40.6 to 40.9; Longitude should be between -74.05 to -73.70\n",
    "summary_plot = pd.DataFrame(train_data_new.groupby(['pick_lat_new', 'pick_lon_new'])['id'].count())\n",
    "\n",
    "#Print new train data after transformation:\n",
    "print('pickup_latitude:\\n',train_data_new['pick_lat_new'].head(3))\n",
    "print('dropoff_latitude:\\n',train_data_new['drop_lat_new'].head(3))\n",
    "print('pickup_longitude:\\n',train_data_new['pick_lon_new'].head(3))\n",
    "print('dropoff_longitude:\\n',train_data_new['drop_lon_new'].head(3))\n",
    "# print('summary_plot:\\n')\n",
    "# summary_plot.head(100)"
   ]
  },
  {
   "cell_type": "markdown",
   "metadata": {},
   "source": [
    "## Step 17: Plot geograph:"
   ]
  },
  {
   "cell_type": "code",
   "execution_count": 55,
   "metadata": {},
   "outputs": [
    {
     "name": "stdout",
     "output_type": "stream",
     "text": [
      "Time taken by above cell is 35.32198882102966.\n",
      "unit: [1]\n"
     ]
    },
    {
     "data": {
      "image/png": "[encoded data removed]",
      "text/plain": [
       "<matplotlib.figure.Figure at 0x190c4233ba8>"
      ]
     },
     "metadata": {},
     "output_type": "display_data"
    }
   ],
   "source": [
    "summary_plot.reset_index(inplace = True)\n",
    "summary_plot.head(120)\n",
    "lat_list = summary_plot['pick_lat_new'].unique()\n",
    "\n",
    "for i in lat_list: #lat_list: list of unique 'pick_lat_new'\n",
    "    lon_list = summary_plot.loc[summary_plot['pick_lat_new']==i]['pick_lon_new'].tolist()\n",
    "    # Get the longitude mapping with unique latitude.\n",
    "    unit = summary_plot.loc[summary_plot['pick_lat_new']==i]['id'].tolist()\n",
    "    # Get the id mapping with unique latitude.\n",
    "    \n",
    "    for j in lon_list: \n",
    "        a = unit[lon_list.index(j)] # lon_list.index(j): return the index of lon_list(j)\n",
    "        if (a//50) >0: # //: Floor Division: the result is the quotient in which the digits after decimal points are not taken into account.\n",
    "            rgb[i,j, 0] = 191 #Label the count>50 with Green\n",
    "            rgb[i,j, 1] = 255\n",
    "            rgb[i,j, 2] = 0\n",
    "        elif (a//10)>0: #Label the count>10 with Red\n",
    "            rgb[i,j, 0] = 255\n",
    "            rgb[i,j, 1] = 0\n",
    "            rgb[i,j, 2] = 0\n",
    "        else: #Label the count>10 with blue\n",
    "            rgb[i,j, 0] = 0\n",
    "            rgb[i,j, 1] = 64\n",
    "            rgb[i,j, 2] = 255\n",
    "\n",
    "fig, ax = plt.subplots(nrows=1,ncols=1,figsize=(14,20))\n",
    "#plt.subplots():Create a figure and a set of subplots.\n",
    "#nrows, ncols : int, optional, default: 1. Number of rows/columns of the subplot grid.\n",
    "end = time.time()\n",
    "print(\"Time taken by above cell is {}.\".format((end-start)))\n",
    "ax.imshow(rgb, cmap = 'hot') \n",
    "#ax.imshow():Display an image on the axes.\n",
    "ax.set_axis_off() \n",
    "\n",
    "print('unit:',unit)\n"
   ]
  },
  {
   "cell_type": "markdown",
   "metadata": {},
   "source": [
    "# Animation of pickups hot area: "
   ]
  },
  {
   "cell_type": "markdown",
   "metadata": {},
   "source": [
    "## The bearing & manhattan distance: https://www.kaggle.com/gaborfodor/from-eda-to-the-top-lb-0-367"
   ]
  },
  {
   "cell_type": "markdown",
   "metadata": {},
   "source": [
    "## Step 18: Define some distance functions."
   ]
  },
  {
   "cell_type": "code",
   "execution_count": 1,
   "metadata": {
    "collapsed": true
   },
   "outputs": [
    {
     "ename": "NameError",
     "evalue": "name 'time' is not defined",
     "traceback": [
      "\u001b[1;31m---------------------------------------------------------------------------\u001b[0m",
      "\u001b[1;31mNameError\u001b[0m                                 Traceback (most recent call last)",
      "\u001b[1;32m<ipython-input-1-4849057c2249>\u001b[0m in \u001b[0;36m<module>\u001b[1;34m()\u001b[0m\n\u001b[0;32m      1\u001b[0m \u001b[1;33m\u001b[0m\u001b[0m\n\u001b[1;32m----> 2\u001b[1;33m \u001b[0mstart\u001b[0m \u001b[1;33m=\u001b[0m \u001b[0mtime\u001b[0m\u001b[1;33m.\u001b[0m\u001b[0mtime\u001b[0m\u001b[1;33m(\u001b[0m\u001b[1;33m)\u001b[0m\u001b[1;33m\u001b[0m\u001b[0m\n\u001b[0m\u001b[0;32m      3\u001b[0m \u001b[1;32mdef\u001b[0m \u001b[0mhaversine_\u001b[0m\u001b[1;33m(\u001b[0m\u001b[0mlat1\u001b[0m\u001b[1;33m,\u001b[0m \u001b[0mlng1\u001b[0m\u001b[1;33m,\u001b[0m \u001b[0mlat2\u001b[0m\u001b[1;33m,\u001b[0m \u001b[0mlng2\u001b[0m\u001b[1;33m)\u001b[0m\u001b[1;33m:\u001b[0m\u001b[1;33m\u001b[0m\u001b[0m\n\u001b[0;32m      4\u001b[0m     \u001b[1;34m\"\"\"function to calculate haversine distance between two co-ordinates\"\"\"\u001b[0m\u001b[1;33m\u001b[0m\u001b[0m\n\u001b[0;32m      5\u001b[0m     \u001b[0mlat1\u001b[0m\u001b[1;33m,\u001b[0m \u001b[0mlng1\u001b[0m\u001b[1;33m,\u001b[0m \u001b[0mlat2\u001b[0m\u001b[1;33m,\u001b[0m \u001b[0mlng2\u001b[0m \u001b[1;33m=\u001b[0m \u001b[0mmap\u001b[0m\u001b[1;33m(\u001b[0m\u001b[0mnp\u001b[0m\u001b[1;33m.\u001b[0m\u001b[0mradians\u001b[0m\u001b[1;33m,\u001b[0m \u001b[1;33m(\u001b[0m\u001b[0mlat1\u001b[0m\u001b[1;33m,\u001b[0m \u001b[0mlng1\u001b[0m\u001b[1;33m,\u001b[0m \u001b[0mlat2\u001b[0m\u001b[1;33m,\u001b[0m \u001b[0mlng2\u001b[0m\u001b[1;33m)\u001b[0m\u001b[1;33m)\u001b[0m\u001b[1;33m\u001b[0m\u001b[0m\n",
      "\u001b[1;31mNameError\u001b[0m: name 'time' is not defined"
     ],
     "output_type": "error"
    }
   ],
   "source": [
    "\n",
    "start = time.time()\n",
    "def haversine_(lat1, lng1, lat2, lng2):\n",
    "    \"\"\"function to calculate haversine distance between two co-ordinates\"\"\"\n",
    "    lat1, lng1, lat2, lng2 = map(np.radians, (lat1, lng1, lat2, lng2))\n",
    "    AVG_EARTH_RADIUS = 6371  # in km\n",
    "    lat = lat2 - lat1\n",
    "    lng = lng2 - lng1\n",
    "    d = np.sin(lat * 0.5) ** 2 + np.cos(lat1) * np.cos(lat2) * np.sin(lng * 0.5) ** 2\n",
    "    h = 2 * AVG_EARTH_RADIUS * np.arcsin(np.sqrt(d))\n",
    "    return(h)\n",
    "\n",
    "def manhattan_distance_pd(lat1, lng1, lat2, lng2):\n",
    "    \"\"\"function to calculate manhatten distance between pick_drop\"\"\"\n",
    "    a = haversine_(lat1, lng1, lat1, lng2)\n",
    "    b = haversine_(lat1, lng1, lat2, lng1)\n",
    "    return a + b\n",
    "\n",
    "import math\n",
    "def bearing_array(lat1, lng1, lat2, lng2):\n",
    "    \"\"\" function was taken from beluga's notebook as this function works on array\n",
    "    while my function used to work on individual elements and was noticably slow\"\"\"\n",
    "    AVG_EARTH_RADIUS = 6371  # in km\n",
    "    lng_delta_rad = np.radians(lng2 - lng1)\n",
    "    lat1, lng1, lat2, lng2 = map(np.radians, (lat1, lng1, lat2, lng2))\n",
    "    y = np.sin(lng_delta_rad) * np.cos(lat2)\n",
    "    x = np.cos(lat1) * np.sin(lat2) - np.sin(lat1) * np.cos(lat2) * np.cos(lng_delta_rad)\n",
    "    return np.degrees(np.arctan2(y, x))\n",
    "\n",
    "end = time.time()\n",
    "print(\"Time taken by above cell is {}.\".format((end-start)))"
   ]
  },
  {
   "cell_type": "markdown",
   "metadata": {},
   "source": [
    "## Step 19: Feature extratction"
   ]
  },
  {
   "cell_type": "markdown",
   "metadata": {},
   "source": [
    "## Define funtions to unfold features:\n",
    "##  Find out features which are affecting the trip-duration between a given pickup and drop-off locations. "
   ]
  },
  {
   "cell_type": "code",
   "execution_count": 57,
   "metadata": {},
   "outputs": [
    {
     "name": "stdout",
     "output_type": "stream",
     "text": [
      "Time taken by above cell is 7.716070175170898.\n"
     ]
    }
   ],
   "source": [
    "start = time.time()\n",
    "train_data = temp.copy()\n",
    "train_data['pickup_datetime'] = pd.to_datetime(train_data.pickup_datetime)\n",
    "train_data.loc[:, 'pick_month'] = train_data['pickup_datetime'].dt.month\n",
    "train_data.loc[:, 'hour'] = train_data['pickup_datetime'].dt.hour\n",
    "train_data.loc[:, 'week_of_year'] = train_data['pickup_datetime'].dt.weekofyear\n",
    "train_data.loc[:, 'day_of_year'] = train_data['pickup_datetime'].dt.dayofyear\n",
    "train_data.loc[:, 'day_of_week'] = train_data['pickup_datetime'].dt.dayofweek\n",
    "train_data.loc[:,'hvsine_pick_drop'] = haversine_(train_data['pickup_latitude'].values, train_data['pickup_longitude'].values, train_data['dropoff_latitude'].values, train_data['dropoff_longitude'].values)\n",
    "train_data.loc[:,'manhtn_pick_drop'] = manhattan_distance_pd(train_data['pickup_latitude'].values, train_data['pickup_longitude'].values, train_data['dropoff_latitude'].values, train_data['dropoff_longitude'].values)\n",
    "train_data.loc[:,'bearing'] = bearing_array(train_data['pickup_latitude'].values, train_data['pickup_longitude'].values, train_data['dropoff_latitude'].values, train_data['dropoff_longitude'].values)\n",
    "\n",
    "end = time.time()\n",
    "print(\"Time taken by above cell is {}.\".format(end-start))"
   ]
  },
  {
   "cell_type": "markdown",
   "metadata": {},
   "source": [
    "# Animation of pickups\n",
    "## Step 20: Make an animation of pickup and see how with pickup hours the traffic changes"
   ]
  },
  {
   "cell_type": "markdown",
   "metadata": {},
   "source": [
    "## https://www.kaggle.com/jiexus/strength-of-visualization-python-visuals-tutorial"
   ]
  },
  {
   "cell_type": "markdown",
   "metadata": {},
   "source": [
    "## Step 20.1: Define some functions for animiation:\n",
    "## making similar heatmaps of pickup locations for different pickup hours，and then will make a gif of those images in order of increasing pickup hour."
   ]
  },
  {
   "cell_type": "code",
   "execution_count": 58,
   "metadata": {},
   "outputs": [
    {
     "name": "stdout",
     "output_type": "stream",
     "text": [
      "Time taken by above cell is 0.001001119613647461.\n"
     ]
    }
   ],
   "source": [
    "start = time.time()\n",
    "def color(hour):\n",
    "    \"\"\"function for color change in animation\"\"\"\n",
    "    return(10*hour)\n",
    "\n",
    "def Animation(hour, temp, rgb):\n",
    "    \"\"\"Function to generate return a pic of plotings\"\"\"\n",
    "    train_data_new = temp.loc[temp['hour'] == hour]\n",
    "    start = time.time()\n",
    "    rgb = np.zeros((3000, 3500, 3), dtype=np.uint8)\n",
    "    rgb[..., 0] = 0\n",
    "    rgb[..., 1] = 0\n",
    "    rgb[..., 2] = 0\n",
    "    train_data_new['pick_lat_new'] = list(map(int, (train_data_new['pickup_latitude'] - (40.6000))*10000))\n",
    "    train_data_new['drop_lat_new'] = list(map(int, (train_data_new['dropoff_latitude'] - (40.6000))*10000))\n",
    "    train_data_new['pick_lon_new'] = list(map(int, (train_data_new['pickup_longitude'] - (-74.050))*10000))\n",
    "    train_data_new['drop_lon_new'] = list(map(int,(train_data_new['dropoff_longitude'] - (-74.050))*10000))\n",
    "\n",
    "    summary_plot = pd.DataFrame(train_data_new.groupby(['pick_lat_new', 'pick_lon_new'])['id'].count())\n",
    "\n",
    "    summary_plot.reset_index(inplace = True)\n",
    "    summary_plot.head(120)\n",
    "    \n",
    "    lat_list = summary_plot['pick_lat_new'].unique()\n",
    "    for i in lat_list:\n",
    "        \n",
    "        lon_list = summary_plot.loc[summary_plot['pick_lat_new']==i]['pick_lon_new'].tolist()\n",
    "        unit = summary_plot.loc[summary_plot['pick_lat_new']==i]['id'].tolist()\n",
    "        for j in lon_list:\n",
    "            #j = int(j)\n",
    "            a = unit[lon_list.index(j)]\n",
    "            \n",
    "            if (a//50) >0:\n",
    "                rgb[i][j][0] = 255 - color(hour)\n",
    "                rgb[i,j, 1] = 255 - color(hour)\n",
    "                rgb[i,j, 2] = 0 + color(hour)\n",
    "            elif (a//10)>0:\n",
    "                rgb[i,j, 0] = 0 + color(hour)\n",
    "                rgb[i,j, 1] = 255 - color(hour)\n",
    "                rgb[i,j, 2] = 0 + color(hour)\n",
    "            else:\n",
    "                rgb[i,j, 0] = 255 - color(hour)\n",
    "                rgb[i,j, 1] = 0 + color(hour)\n",
    "                rgb[i,j, 2] = 0 + color(hour)\n",
    "\n",
    "    end = time.time()\n",
    "    print(\"Time taken by above cell is {} for {}.\".format((end-start), hour))\n",
    "    return(rgb)\n",
    "end = time.time()\n",
    "print(\"Time taken by above cell is {}.\".format(end -start))"
   ]
  },
  {
   "cell_type": "markdown",
   "metadata": {},
   "source": [
    "## Step 20.2: makes bunches of images according to hours."
   ]
  },
  {
   "cell_type": "code",
   "execution_count": 59,
   "metadata": {},
   "outputs": [
    {
     "name": "stderr",
     "output_type": "stream",
     "text": [
      "C:\\Anaconda3\\lib\\site-packages\\ipykernel_launcher.py:14: SettingWithCopyWarning:\n",
      "\n",
      "\n",
      "A value is trying to be set on a copy of a slice from a DataFrame.\n",
      "Try using .loc[row_indexer,col_indexer] = value instead\n",
      "\n",
      "See the caveats in the documentation: http://pandas.pydata.org/pandas-docs/stable/indexing.html#indexing-view-versus-copy\n",
      "\n",
      "C:\\Anaconda3\\lib\\site-packages\\ipykernel_launcher.py:15: SettingWithCopyWarning:\n",
      "\n",
      "\n",
      "A value is trying to be set on a copy of a slice from a DataFrame.\n",
      "Try using .loc[row_indexer,col_indexer] = value instead\n",
      "\n",
      "See the caveats in the documentation: http://pandas.pydata.org/pandas-docs/stable/indexing.html#indexing-view-versus-copy\n",
      "\n",
      "C:\\Anaconda3\\lib\\site-packages\\ipykernel_launcher.py:16: SettingWithCopyWarning:\n",
      "\n",
      "\n",
      "A value is trying to be set on a copy of a slice from a DataFrame.\n",
      "Try using .loc[row_indexer,col_indexer] = value instead\n",
      "\n",
      "See the caveats in the documentation: http://pandas.pydata.org/pandas-docs/stable/indexing.html#indexing-view-versus-copy\n",
      "\n",
      "C:\\Anaconda3\\lib\\site-packages\\ipykernel_launcher.py:17: SettingWithCopyWarning:\n",
      "\n",
      "\n",
      "A value is trying to be set on a copy of a slice from a DataFrame.\n",
      "Try using .loc[row_indexer,col_indexer] = value instead\n",
      "\n",
      "See the caveats in the documentation: http://pandas.pydata.org/pandas-docs/stable/indexing.html#indexing-view-versus-copy\n",
      "\n"
     ]
    },
    {
     "name": "stdout",
     "output_type": "stream",
     "text": [
      "Time taken by above cell is 5.156708002090454 for 0.\n",
      "Time taken by above cell is 3.525372266769409 for 1.\n",
      "Time taken by above cell is 4.010663270950317 for 2.\n",
      "Time taken by above cell is 3.1990041732788086 for 3.\n",
      "Time taken by above cell is 3.2506468296051025 for 4.\n",
      "Time taken by above cell is 3.0897133350372314 for 5.\n",
      "Time taken by above cell is 3.897372007369995 for 6.\n",
      "Time taken by above cell is 4.428772926330566 for 7.\n",
      "Time taken by above cell is 4.6623945236206055 for 8.\n",
      "Time taken by above cell is 3.651207208633423 for 9.\n",
      "Time taken by above cell is 3.598064422607422 for 10.\n",
      "Time taken by above cell is 3.6918153762817383 for 11.\n",
      "Time taken by above cell is 3.9289445877075195 for 12.\n",
      "Time taken by above cell is 4.197162866592407 for 13.\n",
      "Time taken by above cell is 4.820313930511475 for 14.\n",
      "Time taken by above cell is 4.103408336639404 for 15.\n",
      "Time taken by above cell is 3.820171594619751 for 16.\n",
      "Time taken by above cell is 4.214704513549805 for 17.\n",
      "Time taken by above cell is 4.137999773025513 for 18.\n",
      "Time taken by above cell is 4.1009156703948975 for 19.\n",
      "Time taken by above cell is 4.003142833709717 for 20.\n",
      "Time taken by above cell is 3.974064826965332 for 21.\n",
      "Time taken by above cell is 3.7900800704956055 for 22.\n",
      "Time taken by above cell is 5.1652305126190186 for 23.\n",
      "Time taken by above cell is 100.4108247756958.\n"
     ]
    }
   ],
   "source": [
    "start = time.time()\n",
    "images_list=[]\n",
    "train_data_new['pickup_datetime'] = pd.to_datetime(train_data_new.pickup_datetime)\n",
    "train_data_new.loc[:, 'hour'] = train_data_new['pickup_datetime'].dt.hour\n",
    "\n",
    "for i in list(range(0, 24)):\n",
    "    im = Animation(i, train_data_new, rgb.copy())\n",
    "    images_list.append(im)\n",
    "end = time.time()\n",
    "print(\"Time taken by above cell is {}.\".format(end -start))"
   ]
  },
  {
   "cell_type": "markdown",
   "metadata": {},
   "source": [
    "## Step 20.2: Define a function to build and save gif.\n",
    "## Rule: Generate individual picture according to hours-->img_list-->pass the list into build_gif()."
   ]
  },
  {
   "cell_type": "code",
   "execution_count": 60,
   "metadata": {},
   "outputs": [
    {
     "name": "stdout",
     "output_type": "stream",
     "text": [
      "Time taken by above cell is 0.0\n"
     ]
    }
   ],
   "source": [
    "start = time.time()\n",
    "\n",
    "def build_gif(imgs = images_list, show_gif=False, save_gif=True, title=''):\n",
    "    \"\"\"function to create a gif of heatmaps\"\"\"\n",
    "    fig, ax = plt.subplots(nrows=1,ncols=1,figsize=(10,10))\n",
    "    ax.set_axis_off()\n",
    "    hr_range = list(range(0,24))\n",
    "    def show_im(pairs):\n",
    "        ax.clear()\n",
    "        ax.set_title('Traffic- Hour ' + str(int(pairs[0])) + ':00')\n",
    "        ax.imshow(pairs[1])\n",
    "        ax.set_axis_off() \n",
    "    pairs = list(zip(hr_range, imgs))\n",
    "    \n",
    "    im_ani = animation.FuncAnimation(fig, show_im, pairs,interval=500, repeat_delay=0, blit=False)\n",
    "    plt.cla() #Clear the current axes.\n",
    "    if save_gif:\n",
    "        plt.rcParams[\"animation.convert_path\"] = \"ImageMagick-7.0.7-Q16\\convert.exe\" #magick.exe\n",
    "        im_ani.save('animation.gif', writer='imagemagick') #, writer='imagemagick'\n",
    "    if show_gif:\n",
    "        plt.show()\n",
    "    return\n",
    "\n",
    "end = time.time()\n",
    "print(\"Time taken by above cell is {}\".format(end-start))"
   ]
  },
  {
   "cell_type": "code",
   "execution_count": 61,
   "metadata": {},
   "outputs": [
    {
     "name": "stdout",
     "output_type": "stream",
     "text": [
      "24.667829513549805\n"
     ]
    },
    {
     "data": {
      "image/png": "[encoded data removed]",
      "text/plain": [
       "<matplotlib.figure.Figure at 0x1901036c668>"
      ]
     },
     "metadata": {},
     "output_type": "display_data"
    }
   ],
   "source": [
    "start = time.time()\n",
    "build_gif()\n",
    "end = time.time()\n",
    "print(end-start)"
   ]
  },
  {
   "cell_type": "code",
   "execution_count": 62,
   "metadata": {},
   "outputs": [
    {
     "data": {
      "text/html": [
       "<img src=\"data:image/gif;base64,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\" type=\"gif\" />"
      ],
      "text/plain": [
       "<IPython.core.display.HTML object>"
      ]
     },
     "execution_count": 62,
     "metadata": {},
     "output_type": "execute_result"
    }
   ],
   "source": [
    "filename = 'animation.gif'\n",
    "video = io.open(filename, 'r+b').read()\n",
    "encoded = base64.b64encode(video)\n",
    "HTML(data='''<img src=\"data:image/gif;base64,{0}\" type=\"gif\" />'''.format(encoded.decode('ascii')))"
   ]
  },
  {
   "cell_type": "markdown",
   "metadata": {
    "collapsed": true
   },
   "source": [
    "## Check the changing .gif on Notebook.\n",
    "## Findings:\n",
    "## 1. The least number of request comes from time 2 AM-7 AM, from 7 AM -4 PM the requests were moderate in number, and from 5 PM-1 AM in night, there is a huge amount of request of cabs in all NYC.\n",
    "## 2. The dot in the top right corner of this animation is JFK Airport: people are moving less between 2 AM to 6 AM with same rules."
   ]
  },
  {
   "cell_type": "markdown",
   "metadata": {},
   "source": [
    "# Features' Exploration (Checking if any explainable pattern)"
   ]
  },
  {
   "cell_type": "markdown",
   "metadata": {},
   "source": [
    "## check if some other dimesions are related to trip duration: e.g.:the average time taken by two different vendors vs weekday"
   ]
  },
  {
   "cell_type": "code",
   "execution_count": 63,
   "metadata": {},
   "outputs": [
    {
     "name": "stderr",
     "output_type": "stream",
     "text": [
      "C:\\Anaconda3\\lib\\site-packages\\seaborn\\timeseries.py:183: UserWarning:\n",
      "\n",
      "The tsplot function is deprecated and will be removed or replaced (in a substantially altered version) in a future release.\n",
      "\n"
     ]
    },
    {
     "data": {
      "image/png": "[encoded data removed]",
      "text/plain": [
       "<matplotlib.figure.Figure at 0x190164f6b70>"
      ]
     },
     "metadata": {},
     "output_type": "display_data"
    }
   ],
   "source": [
    "summary_wdays_avg_duration = pd.DataFrame(train_data.groupby(['vendor_id','day_of_week'])['trip_duration'].mean())\n",
    "summary_wdays_avg_duration.reset_index(inplace = True)\n",
    "summary_wdays_avg_duration['unit']=1\n",
    "sns.set(style=\"white\", palette=\"muted\", color_codes=False)\n",
    "sns.set_context(\"poster\")\n",
    "sns.tsplot(data=summary_wdays_avg_duration, time=\"day_of_week\", unit = \"unit\", condition=\"vendor_id\", value=\"trip_duration\")\n",
    "sns.despine(bottom = False)"
   ]
  },
  {
   "cell_type": "markdown",
   "metadata": {},
   "source": [
    "## Findings:\n",
    "1. Vendor 1 is taking more time than vendor 2 on all the days of the week, we can also subset data frame based on the month and that will also give us the same results.  \n",
    "2. The difference between the average time taken by vendor 1 is ~250 seconds more than vendor 2."
   ]
  },
  {
   "cell_type": "markdown",
   "metadata": {},
   "source": [
    "# Step 21: Cluster analysis and visualization"
   ]
  },
  {
   "cell_type": "markdown",
   "metadata": {},
   "source": [
    "## Step 21.1: Define function to assign clusters.\n",
    "## (predict the label_drop according to k_means_pick model.)"
   ]
  },
  {
   "cell_type": "code",
   "execution_count": 64,
   "metadata": {},
   "outputs": [
    {
     "name": "stdout",
     "output_type": "stream",
     "text": [
      "time taken by thie script by now is 0.0005004405975341797.\n"
     ]
    }
   ],
   "source": [
    "start = time.time()\n",
    "def assign_cluster(df, k):\n",
    "    \"\"\"function to assign clusters \"\"\"\n",
    "    df_pick = df[['pickup_longitude','pickup_latitude']]\n",
    "    df_drop = df[['dropoff_longitude','dropoff_latitude']]\n",
    "\n",
    "    #20 lat-log in init array.\n",
    "    init = np.array([[ -73.98737616,   40.72981533],\n",
    "       [-121.93328857,   37.38933945],\n",
    "       [ -73.78423222,   40.64711269],\n",
    "       [ -73.9546417 ,   40.77377538],\n",
    "       [ -66.84140269,   36.64537175],\n",
    "       [ -73.87040541,   40.77016484],\n",
    "       [ -73.97316185,   40.75814346],\n",
    "       [ -73.98861094,   40.7527791 ],\n",
    "       [ -72.80966949,   51.88108444],\n",
    "       [ -76.99779701,   38.47370625],\n",
    "       [ -73.96975298,   40.69089596],\n",
    "       [ -74.00816622,   40.71414939],\n",
    "       [ -66.97216034,   44.37194443],\n",
    "       [ -61.33552933,   37.85105133],\n",
    "       [ -73.98001393,   40.7783577 ],\n",
    "       [ -72.00626526,   43.20296402],\n",
    "       [ -73.07618713,   35.03469086],\n",
    "       [ -73.95759366,   40.80316361],\n",
    "       [ -79.20167796,   41.04752096],\n",
    "       [ -74.00106031,   40.73867723]])\n",
    "    k_means_pick = KMeans(n_clusters=k, init=init, n_init=1)\n",
    "    #n_init: Number of time the k-means algorithm will be run with different centroid seeds. \n",
    "    k_means_pick.fit(df_pick) #df_pick=df[['pickup_longitude','pickup_latitude']]\n",
    "    \n",
    "    clust_pick = k_means_pick.labels_\n",
    "    \n",
    "    df['label_pick'] = clust_pick.tolist()\n",
    "    \n",
    "    df['label_drop'] = k_means_pick.predict(df_drop) #df_drop = df[['dropoff_longitude','dropoff_latitude']]\n",
    "    #predict the label_drop according to k_means_pick model.\n",
    "    \n",
    "    return df, k_means_pick\n",
    "\n",
    "end = time.time()\n",
    "print(\"time taken by thie script by now is {}.\".format(end-start))"
   ]
  },
  {
   "cell_type": "markdown",
   "metadata": {},
   "source": [
    "## Step 21.2: Add Centroid to dataframe:"
   ]
  },
  {
   "cell_type": "code",
   "execution_count": 65,
   "metadata": {
    "collapsed": true
   },
   "outputs": [],
   "source": [
    "\n",
    "train_cl, k_means = assign_cluster(train_data, 20)  #K-means: n_clusters=20\n",
    "\n",
    "#Generate Centroid of pickup/dropoff.\n",
    "centroid_pickups = pd.DataFrame(k_means.cluster_centers_, columns = ['centroid_pick_long', 'centroid_pick_lat'])\n",
    "centroid_dropoff = pd.DataFrame(k_means.cluster_centers_, columns = ['centroid_drop_long', 'centroid_drop_lat'])\n",
    "centroid_pickups['label_pick'] = centroid_pickups.index\n",
    "centroid_dropoff['label_drop'] = centroid_dropoff.index\n",
    "\n",
    "#Add centroid to train_cl:\n",
    "train_cl = pd.merge(train_cl, centroid_pickups, how='left', on=['label_pick'])\n",
    "train_cl = pd.merge(train_cl, centroid_dropoff, how='left', on=['label_drop'])\n",
    "#train_cl.head()\n"
   ]
  },
  {
   "cell_type": "markdown",
   "metadata": {},
   "source": [
    "## Step 21.3: Cluster related features:"
   ]
  },
  {
   "cell_type": "markdown",
   "metadata": {},
   "source": [
    "## Generate following data:\n",
    "## 1. Distance (haversine, mahnatten) between pickup-drop_off cluster centroids\n",
    "## 2. Directional features - bearing direction between cluster centroids"
   ]
  },
  {
   "cell_type": "code",
   "execution_count": 66,
   "metadata": {},
   "outputs": [
    {
     "name": "stdout",
     "output_type": "stream",
     "text": [
      "Time Taken by above cell is 9.157856225967407.\n",
      "          id  vendor_id     pickup_datetime     dropoff_datetime  \\\n",
      "0  id2875421          2 2016-03-14 17:24:55  2016-03-14 17:32:30   \n",
      "1  id2377394          1 2016-06-12 00:43:35  2016-06-12 00:54:38   \n",
      "2  id3858529          2 2016-01-19 11:35:24  2016-01-19 12:10:48   \n",
      "3  id3504673          2 2016-04-06 19:32:31  2016-04-06 19:39:40   \n",
      "4  id2181028          2 2016-03-26 13:30:55  2016-03-26 13:38:10   \n",
      "\n",
      "   passenger_count  pickup_longitude  pickup_latitude  dropoff_longitude  \\\n",
      "0                1        -73.982155        40.767937         -73.964630   \n",
      "1                1        -73.980415        40.738564         -73.999481   \n",
      "2                1        -73.979027        40.763939         -74.005333   \n",
      "3                1        -74.010040        40.719971         -74.012268   \n",
      "4                1        -73.973053        40.793209         -73.972923   \n",
      "\n",
      "   dropoff_latitude store_and_fwd_flag      ...       hvsine_drop_cent_d  \\\n",
      "0         40.765602                  N      ...                 1.098585   \n",
      "1         40.731152                  N      ...                 0.845448   \n",
      "2         40.710087                  N      ...                 0.508922   \n",
      "3         40.706718                  N      ...                 0.888828   \n",
      "4         40.782520                  N      ...                 0.755820   \n",
      "\n",
      "   hvsine_cent_p_cent_d  manhtn_pick_cent_p  manhtn_drop_cent_d  \\\n",
      "0              2.319857            1.338601            1.549840   \n",
      "1              1.520191            1.573052            0.968702   \n",
      "2              5.718571            1.135490            0.690697   \n",
      "3              0.000000            0.805089            1.161466   \n",
      "4              0.000000            2.237846            1.060322   \n",
      "\n",
      "   manhtn_cent_p_cent_d  bearing_pick_cent_p  bearing_drop_cent_p  \\\n",
      "0              2.822553             8.812218          -138.980503   \n",
      "1              2.144236          -149.031278            -9.113659   \n",
      "2              7.848844           142.642889           -28.669171   \n",
      "3              0.000000           166.837718            22.515049   \n",
      "4              0.000000          -160.438403          -127.746230   \n",
      "\n",
      "   bearing_cent_p_cent_d  speed_hvsn  speed_manhtn  \n",
      "0             165.640915    0.009087      0.010524  \n",
      "1             -49.174617    0.005438      0.007321  \n",
      "2            -148.907292    0.008318      0.010687  \n",
      "3               0.000000    0.006300      0.007046  \n",
      "4               0.000000    0.008484      0.008561  \n",
      "\n",
      "[5 rows x 39 columns]\n"
     ]
    }
   ],
   "source": [
    "start = time.time()\n",
    "train_cl.loc[:,'hvsine_pick_cent_p'] = haversine_(train_cl['pickup_latitude'].values, train_cl['pickup_longitude'].values, train_cl['centroid_pick_lat'].values, train_cl['centroid_pick_long'].values)\n",
    "train_cl.loc[:,'hvsine_drop_cent_d'] = haversine_(train_cl['dropoff_latitude'].values, train_cl['dropoff_longitude'].values, train_cl['centroid_drop_lat'].values, train_cl['centroid_drop_long'].values)\n",
    "train_cl.loc[:,'hvsine_cent_p_cent_d'] = haversine_(train_cl['centroid_pick_lat'].values, train_cl['centroid_pick_long'].values, train_cl['centroid_drop_lat'].values, train_cl['centroid_drop_long'].values)\n",
    "train_cl.loc[:,'manhtn_pick_cent_p'] = manhattan_distance_pd(train_cl['pickup_latitude'].values, train_cl['pickup_longitude'].values, train_cl['centroid_pick_lat'].values, train_cl['centroid_pick_long'].values)\n",
    "train_cl.loc[:,'manhtn_drop_cent_d'] = manhattan_distance_pd(train_cl['dropoff_latitude'].values, train_cl['dropoff_longitude'].values, train_cl['centroid_drop_lat'].values, train_cl['centroid_drop_long'].values)\n",
    "train_cl.loc[:,'manhtn_cent_p_cent_d'] = manhattan_distance_pd(train_cl['centroid_pick_lat'].values, train_cl['centroid_pick_long'].values, train_cl['centroid_drop_lat'].values, train_cl['centroid_drop_long'].values)\n",
    "\n",
    "train_cl.loc[:,'bearing_pick_cent_p'] = bearing_array(train_cl['pickup_latitude'].values, train_cl['pickup_longitude'].values, train_cl['centroid_pick_lat'].values, train_cl['centroid_pick_long'].values)\n",
    "train_cl.loc[:,'bearing_drop_cent_p'] = bearing_array(train_cl['dropoff_latitude'].values, train_cl['dropoff_longitude'].values, train_cl['centroid_drop_lat'].values, train_cl['centroid_drop_long'].values)\n",
    "train_cl.loc[:,'bearing_cent_p_cent_d'] = bearing_array(train_cl['centroid_pick_lat'].values, train_cl['centroid_pick_long'].values, train_cl['centroid_drop_lat'].values, train_cl['centroid_drop_long'].values)\n",
    "train_cl['speed_hvsn'] = train_cl.hvsine_pick_drop/train_cl.total_travel_time\n",
    "train_cl['speed_manhtn'] = train_cl.manhtn_pick_drop/train_cl.total_travel_time\n",
    "end = time.time()\n",
    "print(\"Time Taken by above cell is {}.\".format(end-start))\n",
    "print(train_cl.head())"
   ]
  },
  {
   "cell_type": "markdown",
   "metadata": {},
   "source": [
    "# Step 22： Cluster visualization using folium"
   ]
  },
  {
   "cell_type": "markdown",
   "metadata": {},
   "source": [
    "## In the next, cluster summary function is to find the cluster characteristics of given cluster list( a cluster list is the list of significant clusters, not all clusters are significant in size.) So, a list of the significant cluster can be passed to summarized those clusters. Significant clusters are clusters having more than 70 thousand rides as the pickup location. Then we will make plots:\n",
    "## 1. Showing pickups location on NYC map using stamen toner terrain\n",
    "## 2. Showing all clusters on Map of America"
   ]
  },
  {
   "cell_type": "markdown",
   "metadata": {},
   "source": [
    "## Step 22.1: Define a function to calculate summary of given list of clusters: groupby('label_pick')"
   ]
  },
  {
   "cell_type": "code",
   "execution_count": 67,
   "metadata": {
    "collapsed": true
   },
   "outputs": [],
   "source": [
    "start = time.time()\n",
    "def cluster_summary(sum_df):\n",
    "    #agg_func = {'trip_duration':'mean','label_drop':'count','bearing':'mean','id':'count'} \n",
    "    #that's how to use agg function with groupby\n",
    "    summary_avg_time = pd.DataFrame(sum_df.groupby('label_pick')['trip_duration'].mean())\n",
    "    summary_avg_time.reset_index(inplace = True)\n",
    "    summary_pref_cluster = pd.DataFrame(sum_df.groupby(['label_pick', 'label_drop'])['id'].count())\n",
    "    summary_pref_cluster = summary_pref_cluster.reset_index()\n",
    "    summary_pref_cluster = summary_pref_cluster.loc[summary_pref_cluster.groupby('label_pick')['id'].idxmax()]\n",
    "    summary =pd.merge(summary_avg_time, summary_pref_cluster, how = 'left', on = 'label_pick')\n",
    "    summary = summary.rename(columns={'trip_duration':'avg_triptime'})\n",
    "    return summary\n"
   ]
  },
  {
   "cell_type": "markdown",
   "metadata": {},
   "source": [
    "# Step 23: plot by Folium:"
   ]
  },
  {
   "cell_type": "markdown",
   "metadata": {},
   "source": [
    "## Folium citing: http://folium.readthedocs.io/en/latest/quickstart.html"
   ]
  },
  {
   "cell_type": "markdown",
   "metadata": {},
   "source": [
    "## Step 23.1: Define functions:\n",
    "## 1. function to generate map and add the pick up and drop coordinates\n",
    "## 2. the function is to plot clusters on map."
   ]
  },
  {
   "cell_type": "code",
   "execution_count": 68,
   "metadata": {
    "collapsed": true
   },
   "outputs": [],
   "source": [
    "import folium\n",
    "def show_fmaps(train_data, path=1):\n",
    "    \"\"\"function to generate map and add the pick up and drop coordinates\n",
    "    1. Path = 1 : Join pickup (blue) and drop(red) using a straight line\n",
    "    \"\"\"\n",
    "    full_data = train_data\n",
    "    summary_full_data = pd.DataFrame(full_data.groupby('label_pick')['id'].count())\n",
    "    summary_full_data.reset_index(inplace = True)\n",
    "    summary_full_data = summary_full_data.loc[summary_full_data['id']>70000]\n",
    "    \n",
    "    map_1 = folium.Map(location=[40.767937, -73.982155], zoom_start=10)\n",
    "    # manually added centre\n",
    "    \n",
    "    new_df = train_data.loc[train_data['label_pick'].isin(summary_full_data.label_pick.tolist())].sample(50)\n",
    "    #isin(): Return boolean DataFrame showing whether each element in the DataFrame is contained in values.\n",
    "    \n",
    "    new_df.reset_index(inplace = True, drop = True)\n",
    "    \n",
    "    for i in range(new_df.shape[0]): # :iterations: Get top of the label_pick with count in descent order.\n",
    "        pick_long = new_df.loc[new_df.index ==i]['pickup_longitude'].values[0]\n",
    "        pick_lat = new_df.loc[new_df.index ==i]['pickup_latitude'].values[0]\n",
    "        dest_long = new_df.loc[new_df.index ==i]['dropoff_longitude'].values[0]\n",
    "        dest_lat = new_df.loc[new_df.index ==i]['dropoff_latitude'].values[0]\n",
    "        \n",
    "        folium.Marker([pick_lat, pick_long]).add_to(map_1)#Add this label_pick(lat-long) to map.\n",
    "        folium.Marker([dest_lat, dest_long]).add_to(map_1)\n",
    "    return map_1\n",
    "\n",
    "\n",
    "def clusters_map(clus_data, full_data, tile = 'OpenStreetMap', sig = 0, zoom = 12, circle = 0, radius_ = 25):\n",
    "    \"\"\" the function is to plot clusters on map\"\"\"\n",
    "    map_1 = folium.Map(location=[40.767923, -73.982168], zoom_start=zoom,tiles= tile) # 'Mapbox' 'Stamen Toner'\n",
    "    \n",
    "    summary_full_data = pd.DataFrame(full_data.groupby('label_pick')['id'].count())\n",
    "    summary_full_data.reset_index(inplace = True)\n",
    "    \n",
    "    if sig == 1:\n",
    "        summary_full_data = summary_full_data.loc[summary_full_data['id']>70000]\n",
    "        \n",
    "    sig_cluster = summary_full_data['label_pick'].tolist()\n",
    "    clus_summary = cluster_summary(full_data)\n",
    "    \n",
    "    for i in sig_cluster:\n",
    "        pick_long = clus_data.loc[clus_data.index ==i]['centroid_pick_long'].values[0]\n",
    "        pick_lat = clus_data.loc[clus_data.index ==i]['centroid_pick_lat'].values[0]\n",
    "        clus_no = clus_data.loc[clus_data.index ==i]['label_pick'].values[0]\n",
    "        most_visited_clus = clus_summary.loc[clus_summary['label_pick']==i]['label_drop'].values[0]\n",
    "        avg_triptime = clus_summary.loc[clus_summary['label_pick']==i]['avg_triptime'].values[0]\n",
    "        pop = 'cluster = '+str(clus_no)+' & most visited cluster = ' +str(most_visited_clus) +' & avg triptime from this cluster =' + str(avg_triptime)\n",
    "        \n",
    "        if circle == 1:\n",
    "            folium.CircleMarker(location=[pick_lat, pick_long], radius=radius_,\n",
    "                    color='#F08080',\n",
    "                    fill_color='#3186cc', popup=pop).add_to(map_1)\n",
    "        folium.Marker([pick_lat, pick_long], popup=pop).add_to(map_1)\n",
    "        \n",
    "    return map_1"
   ]
  },
  {
   "cell_type": "code",
   "execution_count": 69,
   "metadata": {},
   "outputs": [
    {
     "data": {
      "text/html": [
       "<div style=\"width:100%;\"><div style=\"position:relative;width:100%;height:0;padding-bottom:60%;\"><iframe src=\"data:text/html;charset=utf-8;base64,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\" style=\"position:absolute;width:100%;height:100%;left:0;top:0;border:none !important;\" allowfullscreen webkitallowfullscreen mozallowfullscreen></iframe></div></div>"
      ],
      "text/plain": [
       "<folium.folium.Map at 0x1903165b080>"
      ]
     },
     "execution_count": 69,
     "metadata": {},
     "output_type": "execute_result"
    }
   ],
   "source": [
    "osm = show_fmaps(train_data, path=1)\n",
    "osm"
   ]
  },
  {
   "cell_type": "markdown",
   "metadata": {},
   "source": [
    "## Findings :\n",
    "## 1. Clusters with more than 70k pickups are taken for plotting thismap, and they are covering about 80% of the rides\n",
    "## 2. This maps shows that most of the rides are started from manhattan."
   ]
  },
  {
   "cell_type": "code",
   "execution_count": 70,
   "metadata": {},
   "outputs": [
    {
     "data": {
      "text/html": [
       "<div style=\"width:100%;\"><div style=\"position:relative;width:100%;height:0;padding-bottom:60%;\"><iframe src=\"data:text/html;charset=utf-8;base64,PCFET0NUWVBFIGh0bWw+CjxoZWFkPiAgICAKICAgIDxtZXRhIGh0dHAtZXF1aXY9ImNvbnRlbnQtdHlwZSIgY29udGVudD0idGV4dC9odG1sOyBjaGFyc2V0PVVURi04IiAvPgogICAgPHNjcmlwdD5MX1BSRUZFUl9DQU5WQVMgPSBmYWxzZTsgTF9OT19UT1VDSCA9IGZhbHNlOyBMX0RJU0FCTEVfM0QgPSBmYWxzZTs8L3NjcmlwdD4KICAgIDxzY3JpcHQgc3JjPSJodHRwczovL2Nkbi5qc2RlbGl2ci5uZXQvbnBtL2xlYWZsZXRAMS4yLjAvZGlzdC9sZWFmbGV0LmpzIj48L3NjcmlwdD4KICAgIDxzY3JpcHQgc3JjPSJodHRwczovL2FqYXguZ29vZ2xlYXBpcy5jb20vYWpheC9saWJzL2pxdWVyeS8xLjExLjEvanF1ZXJ5Lm1pbi5qcyI+PC9zY3JpcHQ+CiAgICA8c2NyaXB0IHNyYz0iaHR0cHM6Ly9tYXhjZG4uYm9vdHN0cmFwY2RuLmNvbS9ib290c3RyYXAvMy4yLjAvanMvYm9vdHN0cmFwLm1pbi5qcyI+PC9zY3JpcHQ+CiAgICA8c2NyaXB0IHNyYz0iaHR0cHM6Ly9jZG5qcy5jbG91ZGZsYXJlLmNvbS9hamF4L2xpYnMvTGVhZmxldC5hd2Vzb21lLW1hcmtlcnMvMi4wLjIvbGVhZmxldC5hd2Vzb21lLW1hcmtlcnMuanMiPjwvc2NyaXB0PgogICAgPGxpbmsgcmVsPSJzdHlsZXNoZWV0IiBocmVmPSJodHRwczovL2Nkbi5qc2RlbGl2ci5uZXQvbnBtL2xlYWZsZXRAMS4yLjAvZGlzdC9sZWFmbGV0LmNzcyIgLz4KICAgIDxsaW5rIHJlbD0ic3R5bGVzaGVldCIgaHJlZj0iaHR0cHM6Ly9tYXhjZG4uYm9vdHN0cmFwY2RuLmNvbS9ib290c3RyYXAvMy4yLjAvY3NzL2Jvb3RzdHJhcC5taW4uY3NzIiAvPgogICAgPGxpbmsgcmVsPSJzdHlsZXNoZWV0IiBocmVmPSJodHRwczovL21heGNkbi5ib290c3RyYXBjZG4uY29tL2Jvb3RzdHJhcC8zLjIuMC9jc3MvYm9vdHN0cmFwLXRoZW1lLm1pbi5jc3MiIC8+CiAgICA8bGluayByZWw9InN0eWxlc2hlZXQiIGhyZWY9Imh0dHBzOi8vbWF4Y2RuLmJvb3RzdHJhcGNkbi5jb20vZm9udC1hd2Vzb21lLzQuNi4zL2Nzcy9mb250LWF3ZXNvbWUubWluLmNzcyIgLz4KICAgIDxsaW5rIHJlbD0ic3R5bGVzaGVldCIgaHJlZj0iaHR0cHM6Ly9jZG5qcy5jbG91ZGZsYXJlLmNvbS9hamF4L2xpYnMvTGVhZmxldC5hd2Vzb21lLW1hcmtlcnMvMi4wLjIvbGVhZmxldC5hd2Vzb21lLW1hcmtlcnMuY3NzIiAvPgogICAgPGxpbmsgcmVsPSJzdHlsZXNoZWV0IiBocmVmPSJodHRwczovL3Jhd2dpdC5jb20vcHl0aG9uLXZpc3VhbGl6YXRpb24vZm9saXVtL21hc3Rlci9mb2xpdW0vdGVtcGxhdGVzL2xlYWZsZXQuYXdlc29tZS5yb3RhdGUuY3NzIiAvPgogICAgPHN0eWxlPmh0bWwsIGJvZHkge3dpZHRoOiAxMDAlO2hlaWdodDogMTAwJTttYXJnaW46IDA7cGFkZGluZzogMDt9PC9zdHlsZT4KICAgIDxzdHlsZT4jbWFwIHtwb3NpdGlvbjphYnNvbHV0ZTt0b3A6MDtib3R0b206MDtyaWdodDowO2xlZnQ6MDt9PC9zdHlsZT4KICAgIAogICAgICAgICAgICA8c3R5bGU+ICNtYXBfNzI3OThiNmE2OThkNDFmMjhhMzdlNjJkYzFmYTMwODAgewogICAgICAgICAgICAgICAgcG9zaXRpb24gOiByZWxhdGl2ZTsKICAgICAgICAgICAgICAgIHdpZHRoIDogMTAwLjAlOwogICAgICAgICAgICAgICAgaGVpZ2h0OiAxMDAuMCU7CiAgICAgICAgICAgICAgICBsZWZ0OiAwLjAlOwogICAgICAgICAgICAgICAgdG9wOiAwLjAlOwogICAgICAgICAgICAgICAgfQogICAgICAgICAgICA8L3N0eWxlPgogICAgICAgIAo8L2hlYWQ+Cjxib2R5PiAgICAKICAgIAogICAgICAgICAgICA8ZGl2IGNsYXNzPSJmb2xpdW0tbWFwIiBpZD0ibWFwXzcyNzk4YjZhNjk4ZDQxZjI4YTM3ZTYyZGMxZmEzMDgwIiA+PC9kaXY+CiAgICAgICAgCjwvYm9keT4KPHNjcmlwdD4gICAgCiAgICAKCiAgICAgICAgICAgIAogICAgICAgICAgICAgICAgdmFyIGJvdW5kcyA9IG51bGw7CiAgICAgICAgICAgIAoKICAgICAgICAgICAgdmFyIG1hcF83Mjc5OGI2YTY5OGQ0MWYyOGEzN2U2MmRjMWZhMzA4MCA9IEwubWFwKAogICAgICAgICAgICAgICAgICAgICAgICAgICAgICAgICAgJ21hcF83Mjc5OGI2YTY5OGQ0MWYyOGEzN2U2MmRjMWZhMzA4MCcsCiAgICAgICAgICAgICAgICAgICAgICAgICAgICAgICAgICB7Y2VudGVyOiBbNDAuNzY3OTIzLC03My45ODIxNjhdLAogICAgICAgICAgICAgICAgICAgICAgICAgICAgICAgICAgem9vbTogMy4yLAogICAgICAgICAgICAgICAgICAgICAgICAgICAgICAgICAgbWF4Qm91bmRzOiBib3VuZHMsCiAgICAgICAgICAgICAgICAgICAgICAgICAgICAgICAgICBsYXllcnM6IFtdLAogICAgICAgICAgICAgICAgICAgICAgICAgICAgICAgICAgd29ybGRDb3B5SnVtcDogZmFsc2UsCiAgICAgICAgICAgICAgICAgICAgICAgICAgICAgICAgICBjcnM6IEwuQ1JTLkVQU0czODU3CiAgICAgICAgICAgICAgICAgICAgICAgICAgICAgICAgIH0pOwogICAgICAgICAgICAKICAgICAgICAKICAgIAogICAgICAgICAgICB2YXIgdGlsZV9sYXllcl84ODJlYzc4NjMyODY0OTc4OTIxNmU2MGM0OWVkNDgzOCA9IEwudGlsZUxheWVyKAogICAgICAgICAgICAgICAgJ2h0dHBzOi8vc3RhbWVuLXRpbGVzLXtzfS5hLnNzbC5mYXN0bHkubmV0L3RlcnJhaW4ve3p9L3t4fS97eX0uanBnJywKICAgICAgICAgICAgICAgIHsKICAiYXR0cmlidXRpb24iOiBudWxsLAogICJkZXRlY3RSZXRpbmEiOiBmYWxzZSwKICAibWF4Wm9vbSI6IDE4LAogICJtaW5ab29tIjogMSwKICAibm9XcmFwIjogZmFsc2UsCiAgInN1YmRvbWFpbnMiOiAiYWJjIgp9CiAgICAgICAgICAgICAgICApLmFkZFRvKG1hcF83Mjc5OGI2YTY5OGQ0MWYyOGEzN2U2MmRjMWZhMzA4MCk7CiAgICAgICAgCiAgICAKICAgICAgICAgICAgdmFyIGNpcmNsZV9tYXJrZXJfYTE0ZjA4MWNkMjdlNGZiNDg3YTZhMTE0ZGY3ODUxODIgPSBMLmNpcmNsZU1hcmtlcigKICAgICAgICAgICAgICAgIFs0MC43Mjk3MjE5MjE4LC03My45ODc0MTcwNzY4XSwKICAgICAgICAgICAgICAgIHsKICAiYnViYmxpbmdNb3VzZUV2ZW50cyI6IHRydWUsCiAgImNvbG9yIjogIiNGMDgwODAiLAogICJkYXNoQXJyYXkiOiBudWxsLAogICJkYXNoT2Zmc2V0IjogbnVsbCwKICAiZmlsbCI6IGZhbHNlLAogICJmaWxsQ29sb3IiOiAiIzMxODZjYyIsCiAgImZpbGxPcGFjaXR5IjogMC4yLAogICJmaWxsUnVsZSI6ICJldmVub2RkIiwKICAibGluZUNhcCI6ICJyb3VuZCIsCiAgImxpbmVKb2luIjogInJvdW5kIiwKICAib3BhY2l0eSI6IDEuMCwKICAicmFkaXVzIjogMjUsCiAgInN0cm9rZSI6IHRydWUsCiAgIndlaWdodCI6IDMKfQogICAgICAgICAgICAgICAgKS5hZGRUbyhtYXBfNzI3OThiNmE2OThkNDFmMjhhMzdlNjJkYzFmYTMwODApOwogICAgICAgICAgICAKICAgIAogICAgICAgICAgICB2YXIgcG9wdXBfZTVkZDg1ODVlNjFjNDQxZjgxYTczNGNhYzc2ZmE0ODAgPSBMLnBvcHVwKHttYXhXaWR0aDogJzMwMCd9KTsKCiAgICAgICAgICAgIAogICAgICAgICAgICAgICAgdmFyIGh0bWxfZDMzZmFiM2U2MGMxNGU2ZDg5YTdlYjIzMmUzZTlmYzYgPSAkKCc8ZGl2IGlkPSJodG1sX2QzM2ZhYjNlNjBjMTRlNmQ4OWE3ZWIyMzJlM2U5ZmM2IiBzdHlsZT0id2lkdGg6IDEwMC4wJTsgaGVpZ2h0OiAxMDAuMCU7Ij5jbHVzdGVyID0gMCAmIG1vc3QgdmlzaXRlZCBjbHVzdGVyID0gMCAmIGF2ZyB0cmlwdGltZSBmcm9tIHRoaXMgY2x1c3RlciA9OTA4Ljg1MTkyODI3MTwvZGl2PicpWzBdOwogICAgICAgICAgICAgICAgcG9wdXBfZTVkZDg1ODVlNjFjNDQxZjgxYTczNGNhYzc2ZmE0ODAuc2V0Q29udGVudChodG1sX2QzM2ZhYjNlNjBjMTRlNmQ4OWE3ZWIyMzJlM2U5ZmM2KTsKICAgICAgICAgICAgCgogICAgICAgICAgICBjaXJjbGVfbWFya2VyX2ExNGYwODFjZDI3ZTRmYjQ4N2E2YTExNGRmNzg1MTgyLmJpbmRQb3B1cChwb3B1cF9lNWRkODU4NWU2MWM0NDFmODFhNzM0Y2FjNzZmYTQ4MCk7CgogICAgICAgICAgICAKICAgICAgICAKICAgIAoKICAgICAgICAgICAgdmFyIG1hcmtlcl8yOWU0ZDQyNDkyODU0ZTZkYjY0OTU4ZWE3M2QwZmQwOCA9IEwubWFya2VyKAogICAgICAgICAgICAgICAgWzQwLjcyOTcyMTkyMTgsLTczLjk4NzQxNzA3NjhdLAogICAgICAgICAgICAgICAgewogICAgICAgICAgICAgICAgICAgIGljb246IG5ldyBMLkljb24uRGVmYXVsdCgpCiAgICAgICAgICAgICAgICAgICAgfQogICAgICAgICAgICAgICAgKQogICAgICAgICAgICAgICAgLmFkZFRvKG1hcF83Mjc5OGI2YTY5OGQ0MWYyOGEzN2U2MmRjMWZhMzA4MCk7CiAgICAgICAgICAgIAogICAgCiAgICAgICAgICAgIHZhciBwb3B1cF83MmJkM2JhYWM2MmM0ZWQzOWRmZTNlZjZkMjBhODM3ZSA9IEwucG9wdXAoe21heFdpZHRoOiAnMzAwJ30pOwoKICAgICAgICAgICAgCiAgICAgICAgICAgICAgICB2YXIgaHRtbF81YzUxOGNlZTc2MWQ0YWY4OTFkZTdmOTRjOWE0NjdiOSA9ICQoJzxkaXYgaWQ9Imh0bWxfNWM1MThjZWU3NjFkNGFmODkxZGU3Zjk0YzlhNDY3YjkiIHN0eWxlPSJ3aWR0aDogMTAwLjAlOyBoZWlnaHQ6IDEwMC4wJTsiPmNsdXN0ZXIgPSAwICYgbW9zdCB2aXNpdGVkIGNsdXN0ZXIgPSAwICYgYXZnIHRyaXB0aW1lIGZyb20gdGhpcyBjbHVzdGVyID05MDguODUxOTI4MjcxPC9kaXY+JylbMF07CiAgICAgICAgICAgICAgICBwb3B1cF83MmJkM2JhYWM2MmM0ZWQzOWRmZTNlZjZkMjBhODM3ZS5zZXRDb250ZW50KGh0bWxfNWM1MThjZWU3NjFkNGFmODkxZGU3Zjk0YzlhNDY3YjkpOwogICAgICAgICAgICAKCiAgICAgICAgICAgIG1hcmtlcl8yOWU0ZDQyNDkyODU0ZTZkYjY0OTU4ZWE3M2QwZmQwOC5iaW5kUG9wdXAocG9wdXBfNzJiZDNiYWFjNjJjNGVkMzlkZmUzZWY2ZDIwYTgzN2UpOwoKICAgICAgICAgICAgCiAgICAgICAgCiAgICAKICAgICAgICAgICAgdmFyIGNpcmNsZV9tYXJrZXJfYTJjYTI5MTNjM2FmNDQxN2JjY2JjZmUwZDQ2ZTNlZTggPSBMLmNpcmNsZU1hcmtlcigKICAgICAgICAgICAgICAgIFszNy4zODkzMzk0NDcsLTEyMS45MzMyODg1NzRdLAogICAgICAgICAgICAgICAgewogICJidWJibGluZ01vdXNlRXZlbnRzIjogdHJ1ZSwKICAiY29sb3IiOiAiI0YwODA4MCIsCiAgImRhc2hBcnJheSI6IG51bGwsCiAgImRhc2hPZmZzZXQiOiBudWxsLAogICJmaWxsIjogZmFsc2UsCiAgImZpbGxDb2xvciI6ICIjMzE4NmNjIiwKICAiZmlsbE9wYWNpdHkiOiAwLjIsCiAgImZpbGxSdWxlIjogImV2ZW5vZGQiLAogICJsaW5lQ2FwIjogInJvdW5kIiwKICAibGluZUpvaW4iOiAicm91bmQiLAogICJvcGFjaXR5IjogMS4wLAogICJyYWRpdXMiOiAyNSwKICAic3Ryb2tlIjogdHJ1ZSwKICAid2VpZ2h0IjogMwp9CiAgICAgICAgICAgICAgICApLmFkZFRvKG1hcF83Mjc5OGI2YTY5OGQ0MWYyOGEzN2U2MmRjMWZhMzA4MCk7CiAgICAgICAgICAgIAogICAgCiAgICAgICAgICAgIHZhciBwb3B1cF8wMjRiNWRlZDUxOTU0Mjk1YWI3OTA3OTIxOGFiMTBiYSA9IEwucG9wdXAoe21heFdpZHRoOiAnMzAwJ30pOwoKICAgICAgICAgICAgCiAgICAgICAgICAgICAgICB2YXIgaHRtbF9jNmU4YTEwZTgyYTg0ZDJhOTdlOGU1NzA0ZGNlZDM4ZCA9ICQoJzxkaXYgaWQ9Imh0bWxfYzZlOGExMGU4MmE4NGQyYTk3ZThlNTcwNGRjZWQzOGQiIHN0eWxlPSJ3aWR0aDogMTAwLjAlOyBoZWlnaHQ6IDEwMC4wJTsiPmNsdXN0ZXIgPSAxICYgbW9zdCB2aXNpdGVkIGNsdXN0ZXIgPSAxICYgYXZnIHRyaXB0aW1lIGZyb20gdGhpcyBjbHVzdGVyID04MDIuMDwvZGl2PicpWzBdOwogICAgICAgICAgICAgICAgcG9wdXBfMDI0YjVkZWQ1MTk1NDI5NWFiNzkwNzkyMThhYjEwYmEuc2V0Q29udGVudChodG1sX2M2ZThhMTBlODJhODRkMmE5N2U4ZTU3MDRkY2VkMzhkKTsKICAgICAgICAgICAgCgogICAgICAgICAgICBjaXJjbGVfbWFya2VyX2EyY2EyOTEzYzNhZjQ0MTdiY2NiY2ZlMGQ0NmUzZWU4LmJpbmRQb3B1cChwb3B1cF8wMjRiNWRlZDUxOTU0Mjk1YWI3OTA3OTIxOGFiMTBiYSk7CgogICAgICAgICAgICAKICAgICAgICAKICAgIAoKICAgICAgICAgICAgdmFyIG1hcmtlcl8yNGI2MTk1YzBlMjM0YjdjYjVlNjIwMmQyYzcyMjg2YiA9IEwubWFya2VyKAogICAgICAgICAgICAgICAgWzM3LjM4OTMzOTQ0NywtMTIxLjkzMzI4ODU3NF0sCiAgICAgICAgICAgICAgICB7CiAgICAgICAgICAgICAgICAgICAgaWNvbjogbmV3IEwuSWNvbi5EZWZhdWx0KCkKICAgICAgICAgICAgICAgICAgICB9CiAgICAgICAgICAgICAgICApCiAgICAgICAgICAgICAgICAuYWRkVG8obWFwXzcyNzk4YjZhNjk4ZDQxZjI4YTM3ZTYyZGMxZmEzMDgwKTsKICAgICAgICAgICAgCiAgICAKICAgICAgICAgICAgdmFyIHBvcHVwX2I0NTYwODRmNzllZjRjZDc5N2NhNTk5YzUzMmY4MjFkID0gTC5wb3B1cCh7bWF4V2lkdGg6ICczMDAnfSk7CgogICAgICAgICAgICAKICAgICAgICAgICAgICAgIHZhciBodG1sXzE4NGE3MTRiYjFiNTQ4OGVhY2JiYzJlNmFhYTg1N2Q3ID0gJCgnPGRpdiBpZD0iaHRtbF8xODRhNzE0YmIxYjU0ODhlYWNiYmMyZTZhYWE4NTdkNyIgc3R5bGU9IndpZHRoOiAxMDAuMCU7IGhlaWdodDogMTAwLjAlOyI+Y2x1c3RlciA9IDEgJiBtb3N0IHZpc2l0ZWQgY2x1c3RlciA9IDEgJiBhdmcgdHJpcHRpbWUgZnJvbSB0aGlzIGNsdXN0ZXIgPTgwMi4wPC9kaXY+JylbMF07CiAgICAgICAgICAgICAgICBwb3B1cF9iNDU2MDg0Zjc5ZWY0Y2Q3OTdjYTU5OWM1MzJmODIxZC5zZXRDb250ZW50KGh0bWxfMTg0YTcxNGJiMWI1NDg4ZWFjYmJjMmU2YWFhODU3ZDcpOwogICAgICAgICAgICAKCiAgICAgICAgICAgIG1hcmtlcl8yNGI2MTk1YzBlMjM0YjdjYjVlNjIwMmQyYzcyMjg2Yi5iaW5kUG9wdXAocG9wdXBfYjQ1NjA4NGY3OWVmNGNkNzk3Y2E1OTljNTMyZjgyMWQpOwoKICAgICAgICAgICAgCiAgICAgICAgCiAgICAKICAgICAgICAgICAgdmFyIGNpcmNsZV9tYXJrZXJfOTE1MmQxZjkwZjU0NDJjYThlNmFlYTBmMWZlZGE0ZTEgPSBMLmNpcmNsZU1hcmtlcigKICAgICAgICAgICAgICAgIFs0MC42NDcxMTI2OTQ5LC03My43ODQyMzIyMTUyXSwKICAgICAgICAgICAgICAgIHsKICAiYnViYmxpbmdNb3VzZUV2ZW50cyI6IHRydWUsCiAgImNvbG9yIjogIiNGMDgwODAiLAogICJkYXNoQXJyYXkiOiBudWxsLAogICJkYXNoT2Zmc2V0IjogbnVsbCwKICAiZmlsbCI6IGZhbHNlLAogICJmaWxsQ29sb3IiOiAiIzMxODZjYyIsCiAgImZpbGxPcGFjaXR5IjogMC4yLAogICJmaWxsUnVsZSI6ICJldmVub2RkIiwKICAibGluZUNhcCI6ICJyb3VuZCIsCiAgImxpbmVKb2luIjogInJvdW5kIiwKICAib3BhY2l0eSI6IDEuMCwKICAicmFkaXVzIjogMjUsCiAgInN0cm9rZSI6IHRydWUsCiAgIndlaWdodCI6IDMKfQogICAgICAgICAgICAgICAgKS5hZGRUbyhtYXBfNzI3OThiNmE2OThkNDFmMjhhMzdlNjJkYzFmYTMwODApOwogICAgICAgICAgICAKICAgIAogICAgICAgICAgICB2YXIgcG9wdXBfY2Q2NGU0YTE4NTJmNDJjOTg0N2VkMDQ5ZDNmOGJjZDIgPSBMLnBvcHVwKHttYXhXaWR0aDogJzMwMCd9KTsKCiAgICAgICAgICAgIAogICAgICAgICAgICAgICAgdmFyIGh0bWxfMTk4ZDNmMDkxZjc2NDllNzlkNmNkYzlmNTNlODY2ZmYgPSAkKCc8ZGl2IGlkPSJodG1sXzE5OGQzZjA5MWY3NjQ5ZTc5ZDZjZGM5ZjUzZTg2NmZmIiBzdHlsZT0id2lkdGg6IDEwMC4wJTsgaGVpZ2h0OiAxMDAuMCU7Ij5jbHVzdGVyID0gMiAmIG1vc3QgdmlzaXRlZCBjbHVzdGVyID0gMTAgJiBhdmcgdHJpcHRpbWUgZnJvbSB0aGlzIGNsdXN0ZXIgPTI3MTYuOTg5MjUyMTc8L2Rpdj4nKVswXTsKICAgICAgICAgICAgICAgIHBvcHVwX2NkNjRlNGExODUyZjQyYzk4NDdlZDA0OWQzZjhiY2QyLnNldENvbnRlbnQoaHRtbF8xOThkM2YwOTFmNzY0OWU3OWQ2Y2RjOWY1M2U4NjZmZik7CiAgICAgICAgICAgIAoKICAgICAgICAgICAgY2lyY2xlX21hcmtlcl85MTUyZDFmOTBmNTQ0MmNhOGU2YWVhMGYxZmVkYTRlMS5iaW5kUG9wdXAocG9wdXBfY2Q2NGU0YTE4NTJmNDJjOTg0N2VkMDQ5ZDNmOGJjZDIpOwoKICAgICAgICAgICAgCiAgICAgICAgCiAgICAKCiAgICAgICAgICAgIHZhciBtYXJrZXJfMjhkNmM2NmMwOGI4NGU4NWJkYzdmNTc5MzA2NWMyMjYgPSBMLm1hcmtlcigKICAgICAgICAgICAgICAgIFs0MC42NDcxMTI2OTQ5LC03My43ODQyMzIyMTUyXSwKICAgICAgICAgICAgICAgIHsKICAgICAgICAgICAgICAgICAgICBpY29uOiBuZXcgTC5JY29uLkRlZmF1bHQoKQogICAgICAgICAgICAgICAgICAgIH0KICAgICAgICAgICAgICAgICkKICAgICAgICAgICAgICAgIC5hZGRUbyhtYXBfNzI3OThiNmE2OThkNDFmMjhhMzdlNjJkYzFmYTMwODApOwogICAgICAgICAgICAKICAgIAogICAgICAgICAgICB2YXIgcG9wdXBfMjgwNDY2YjAwOGEzNDBhYWE5MmIyYjllNGFlZWZhOTMgPSBMLnBvcHVwKHttYXhXaWR0aDogJzMwMCd9KTsKCiAgICAgICAgICAgIAogICAgICAgICAgICAgICAgdmFyIGh0bWxfMGI3MmI0YmMwNzJiNDI2NGI1YjE2NWJmNTY1ZTg3NmUgPSAkKCc8ZGl2IGlkPSJodG1sXzBiNzJiNGJjMDcyYjQyNjRiNWIxNjViZjU2NWU4NzZlIiBzdHlsZT0id2lkdGg6IDEwMC4wJTsgaGVpZ2h0OiAxMDAuMCU7Ij5jbHVzdGVyID0gMiAmIG1vc3QgdmlzaXRlZCBjbHVzdGVyID0gMTAgJiBhdmcgdHJpcHRpbWUgZnJvbSB0aGlzIGNsdXN0ZXIgPTI3MTYuOTg5MjUyMTc8L2Rpdj4nKVswXTsKICAgICAgICAgICAgICAgIHBvcHVwXzI4MDQ2NmIwMDhhMzQwYWFhOTJiMmI5ZTRhZWVmYTkzLnNldENvbnRlbnQoaHRtbF8wYjcyYjRiYzA3MmI0MjY0YjViMTY1YmY1NjVlODc2ZSk7CiAgICAgICAgICAgIAoKICAgICAgICAgICAgbWFya2VyXzI4ZDZjNjZjMDhiODRlODViZGM3ZjU3OTMwNjVjMjI2LmJpbmRQb3B1cChwb3B1cF8yODA0NjZiMDA4YTM0MGFhYTkyYjJiOWU0YWVlZmE5Myk7CgogICAgICAgICAgICAKICAgICAgICAKICAgIAogICAgICAgICAgICB2YXIgY2lyY2xlX21hcmtlcl9iNDQzOTdkYjA4NDc0OGJlYTE0N2M4Y2Q4YTdmNWJlYSA9IEwuY2lyY2xlTWFya2VyKAogICAgICAgICAgICAgICAgWzQwLjc3Mzc3MDc4NzUsLTczLjk1NDY0NTY1MzZdLAogICAgICAgICAgICAgICAgewogICJidWJibGluZ01vdXNlRXZlbnRzIjogdHJ1ZSwKICAiY29sb3IiOiAiI0YwODA4MCIsCiAgImRhc2hBcnJheSI6IG51bGwsCiAgImRhc2hPZmZzZXQiOiBudWxsLAogICJmaWxsIjogZmFsc2UsCiAgImZpbGxDb2xvciI6ICIjMzE4NmNjIiwKICAiZmlsbE9wYWNpdHkiOiAwLjIsCiAgImZpbGxSdWxlIjogImV2ZW5vZGQiLAogICJsaW5lQ2FwIjogInJvdW5kIiwKICAibGluZUpvaW4iOiAicm91bmQiLAogICJvcGFjaXR5IjogMS4wLAogICJyYWRpdXMiOiAyNSwKICAic3Ryb2tlIjogdHJ1ZSwKICAid2VpZ2h0IjogMwp9CiAgICAgICAgICAgICAgICApLmFkZFRvKG1hcF83Mjc5OGI2YTY5OGQ0MWYyOGEzN2U2MmRjMWZhMzA4MCk7CiAgICAgICAgICAgIAogICAgCiAgICAgICAgICAgIHZhciBwb3B1cF82Mzg2MWFiMjJiZDI0M2E3YjVhZjg1ZGQxMjRjMDg3ZSA9IEwucG9wdXAoe21heFdpZHRoOiAnMzAwJ30pOwoKICAgICAgICAgICAgCiAgICAgICAgICAgICAgICB2YXIgaHRtbF84YzkzY2E3MzhjNzM0Yzk5YmZkMTBlZjA3MzEwZmYxZiA9ICQoJzxkaXYgaWQ9Imh0bWxfOGM5M2NhNzM4YzczNGM5OWJmZDEwZWYwNzMxMGZmMWYiIHN0eWxlPSJ3aWR0aDogMTAwLjAlOyBoZWlnaHQ6IDEwMC4wJTsiPmNsdXN0ZXIgPSAzICYgbW9zdCB2aXNpdGVkIGNsdXN0ZXIgPSAzICYgYXZnIHRyaXB0aW1lIGZyb20gdGhpcyBjbHVzdGVyID04MjAuMTMyNzgwODE0PC9kaXY+JylbMF07CiAgICAgICAgICAgICAgICBwb3B1cF82Mzg2MWFiMjJiZDI0M2E3YjVhZjg1ZGQxMjRjMDg3ZS5zZXRDb250ZW50KGh0bWxfOGM5M2NhNzM4YzczNGM5OWJmZDEwZWYwNzMxMGZmMWYpOwogICAgICAgICAgICAKCiAgICAgICAgICAgIGNpcmNsZV9tYXJrZXJfYjQ0Mzk3ZGIwODQ3NDhiZWExNDdjOGNkOGE3ZjViZWEuYmluZFBvcHVwKHBvcHVwXzYzODYxYWIyMmJkMjQzYTdiNWFmODVkZDEyNGMwODdlKTsKCiAgICAgICAgICAgIAogICAgICAgIAogICAgCgogICAgICAgICAgICB2YXIgbWFya2VyXzUwOTgyOTc3YzQxMjQ5ZTg5ODE0NGM2NTRmOTcyOTcwID0gTC5tYXJrZXIoCiAgICAgICAgICAgICAgICBbNDAuNzczNzcwNzg3NSwtNzMuOTU0NjQ1NjUzNl0sCiAgICAgICAgICAgICAgICB7CiAgICAgICAgICAgICAgICAgICAgaWNvbjogbmV3IEwuSWNvbi5EZWZhdWx0KCkKICAgICAgICAgICAgICAgICAgICB9CiAgICAgICAgICAgICAgICApCiAgICAgICAgICAgICAgICAuYWRkVG8obWFwXzcyNzk4YjZhNjk4ZDQxZjI4YTM3ZTYyZGMxZmEzMDgwKTsKICAgICAgICAgICAgCiAgICAKICAgICAgICAgICAgdmFyIHBvcHVwXzc2YzBiNWRlZDM2MTQ4NjQ5ODMwZWY5YjBmMWFkYmUxID0gTC5wb3B1cCh7bWF4V2lkdGg6ICczMDAnfSk7CgogICAgICAgICAgICAKICAgICAgICAgICAgICAgIHZhciBodG1sXzRjZmI4ZDcyOTVhNDQ3YzRiNDU4YTZlNzBjOThiMzMxID0gJCgnPGRpdiBpZD0iaHRtbF80Y2ZiOGQ3Mjk1YTQ0N2M0YjQ1OGE2ZTcwYzk4YjMzMSIgc3R5bGU9IndpZHRoOiAxMDAuMCU7IGhlaWdodDogMTAwLjAlOyI+Y2x1c3RlciA9IDMgJiBtb3N0IHZpc2l0ZWQgY2x1c3RlciA9IDMgJiBhdmcgdHJpcHRpbWUgZnJvbSB0aGlzIGNsdXN0ZXIgPTgyMC4xMzI3ODA4MTQ8L2Rpdj4nKVswXTsKICAgICAgICAgICAgICAgIHBvcHVwXzc2YzBiNWRlZDM2MTQ4NjQ5ODMwZWY5YjBmMWFkYmUxLnNldENvbnRlbnQoaHRtbF80Y2ZiOGQ3Mjk1YTQ0N2M0YjQ1OGE2ZTcwYzk4YjMzMSk7CiAgICAgICAgICAgIAoKICAgICAgICAgICAgbWFya2VyXzUwOTgyOTc3YzQxMjQ5ZTg5ODE0NGM2NTRmOTcyOTcwLmJpbmRQb3B1cChwb3B1cF83NmMwYjVkZWQzNjE0ODY0OTgzMGVmOWIwZjFhZGJlMSk7CgogICAgICAgICAgICAKICAgICAgICAKICAgIAogICAgICAgICAgICB2YXIgY2lyY2xlX21hcmtlcl82NmExNWRlYWRhMWM0NGJmYmRhZTQ4NzZjNTg1Yjg1NCA9IEwuY2lyY2xlTWFya2VyKAogICAgICAgICAgICAgICAgWzM2LjY0NTM3MTc1NSwtNjYuODQxNDAyNjg5Nl0sCiAgICAgICAgICAgICAgICB7CiAgImJ1YmJsaW5nTW91c2VFdmVudHMiOiB0cnVlLAogICJjb2xvciI6ICIjRjA4MDgwIiwKICAiZGFzaEFycmF5IjogbnVsbCwKICAiZGFzaE9mZnNldCI6IG51bGwsCiAgImZpbGwiOiBmYWxzZSwKICAiZmlsbENvbG9yIjogIiMzMTg2Y2MiLAogICJmaWxsT3BhY2l0eSI6IDAuMiwKICAiZmlsbFJ1bGUiOiAiZXZlbm9kZCIsCiAgImxpbmVDYXAiOiAicm91bmQiLAogICJsaW5lSm9pbiI6ICJyb3VuZCIsCiAgIm9wYWNpdHkiOiAxLjAsCiAgInJhZGl1cyI6IDI1LAogICJzdHJva2UiOiB0cnVlLAogICJ3ZWlnaHQiOiAzCn0KICAgICAgICAgICAgICAgICkuYWRkVG8obWFwXzcyNzk4YjZhNjk4ZDQxZjI4YTM3ZTYyZGMxZmEzMDgwKTsKICAgICAgICAgICAgCiAgICAKICAgICAgICAgICAgdmFyIHBvcHVwXzc5Y2U2ZDE0YjE4ODRmYzY5ZjYwNGQ0OTkwMzRlYmMxID0gTC5wb3B1cCh7bWF4V2lkdGg6ICczMDAnfSk7CgogICAgICAgICAgICAKICAgICAgICAgICAgICAgIHZhciBodG1sXzM4ZGE4ODI1YWNkZjQxNDhiZWExY2MzMTJkZjk0ODMzID0gJCgnPGRpdiBpZD0iaHRtbF8zOGRhODgyNWFjZGY0MTQ4YmVhMWNjMzEyZGY5NDgzMyIgc3R5bGU9IndpZHRoOiAxMDAuMCU7IGhlaWdodDogMTAwLjAlOyI+Y2x1c3RlciA9IDQgJiBtb3N0IHZpc2l0ZWQgY2x1c3RlciA9IDQgJiBhdmcgdHJpcHRpbWUgZnJvbSB0aGlzIGNsdXN0ZXIgPTU1OC4zMzMzMzMzMzM8L2Rpdj4nKVswXTsKICAgICAgICAgICAgICAgIHBvcHVwXzc5Y2U2ZDE0YjE4ODRmYzY5ZjYwNGQ0OTkwMzRlYmMxLnNldENvbnRlbnQoaHRtbF8zOGRhODgyNWFjZGY0MTQ4YmVhMWNjMzEyZGY5NDgzMyk7CiAgICAgICAgICAgIAoKICAgICAgICAgICAgY2lyY2xlX21hcmtlcl82NmExNWRlYWRhMWM0NGJmYmRhZTQ4NzZjNTg1Yjg1NC5iaW5kUG9wdXAocG9wdXBfNzljZTZkMTRiMTg4NGZjNjlmNjA0ZDQ5OTAzNGViYzEpOwoKICAgICAgICAgICAgCiAgICAgICAgCiAgICAKCiAgICAgICAgICAgIHZhciBtYXJrZXJfMmY3MzBhMzZlMWI5NDcwYzgxMTE2ZjAxYmIwZGUxZjQgPSBMLm1hcmtlcigKICAgICAgICAgICAgICAgIFszNi42NDUzNzE3NTUsLTY2Ljg0MTQwMjY4OTZdLAogICAgICAgICAgICAgICAgewogICAgICAgICAgICAgICAgICAgIGljb246IG5ldyBMLkljb24uRGVmYXVsdCgpCiAgICAgICAgICAgICAgICAgICAgfQogICAgICAgICAgICAgICAgKQogICAgICAgICAgICAgICAgLmFkZFRvKG1hcF83Mjc5OGI2YTY5OGQ0MWYyOGEzN2U2MmRjMWZhMzA4MCk7CiAgICAgICAgICAgIAogICAgCiAgICAgICAgICAgIHZhciBwb3B1cF85MDE0NTRjMWI3ZWY0ODYyYTQxNDM5ZTAwNmZjODg0YSA9IEwucG9wdXAoe21heFdpZHRoOiAnMzAwJ30pOwoKICAgICAgICAgICAgCiAgICAgICAgICAgICAgICB2YXIgaHRtbF8yODU1OGNiZjUzZDE0ZGFmOTllNmIyMzVjNTEyZDZkYSA9ICQoJzxkaXYgaWQ9Imh0bWxfMjg1NThjYmY1M2QxNGRhZjk5ZTZiMjM1YzUxMmQ2ZGEiIHN0eWxlPSJ3aWR0aDogMTAwLjAlOyBoZWlnaHQ6IDEwMC4wJTsiPmNsdXN0ZXIgPSA0ICYgbW9zdCB2aXNpdGVkIGNsdXN0ZXIgPSA0ICYgYXZnIHRyaXB0aW1lIGZyb20gdGhpcyBjbHVzdGVyID01NTguMzMzMzMzMzMzPC9kaXY+JylbMF07CiAgICAgICAgICAgICAgICBwb3B1cF85MDE0NTRjMWI3ZWY0ODYyYTQxNDM5ZTAwNmZjODg0YS5zZXRDb250ZW50KGh0bWxfMjg1NThjYmY1M2QxNGRhZjk5ZTZiMjM1YzUxMmQ2ZGEpOwogICAgICAgICAgICAKCiAgICAgICAgICAgIG1hcmtlcl8yZjczMGEzNmUxYjk0NzBjODExMTZmMDFiYjBkZTFmNC5iaW5kUG9wdXAocG9wdXBfOTAxNDU0YzFiN2VmNDg2MmE0MTQzOWUwMDZmYzg4NGEpOwoKICAgICAgICAgICAgCiAgICAgICAgCiAgICAKICAgICAgICAgICAgdmFyIGNpcmNsZV9tYXJrZXJfZDFjM2FkZjI4MTcwNDBjMmIwNWIyZjYwODMxYWEzYjYgPSBMLmNpcmNsZU1hcmtlcigKICAgICAgICAgICAgICAgIFs0MC43NzAxNjQ5NTQ1LC03My44NzA0MDY0MDkxXSwKICAgICAgICAgICAgICAgIHsKICAiYnViYmxpbmdNb3VzZUV2ZW50cyI6IHRydWUsCiAgImNvbG9yIjogIiNGMDgwODAiLAogICJkYXNoQXJyYXkiOiBudWxsLAogICJkYXNoT2Zmc2V0IjogbnVsbCwKICAiZmlsbCI6IGZhbHNlLAogICJmaWxsQ29sb3IiOiAiIzMxODZjYyIsCiAgImZpbGxPcGFjaXR5IjogMC4yLAogICJmaWxsUnVsZSI6ICJldmVub2RkIiwKICAibGluZUNhcCI6ICJyb3VuZCIsCiAgImxpbmVKb2luIjogInJvdW5kIiwKICAib3BhY2l0eSI6IDEuMCwKICAicmFkaXVzIjogMjUsCiAgInN0cm9rZSI6IHRydWUsCiAgIndlaWdodCI6IDMKfQogICAgICAgICAgICAgICAgKS5hZGRUbyhtYXBfNzI3OThiNmE2OThkNDFmMjhhMzdlNjJkYzFmYTMwODApOwogICAgICAgICAgICAKICAgIAogICAgICAgICAgICB2YXIgcG9wdXBfYTg2ODY0MzI2NjA2NGZiZWIzMDQ3NDhiMjMwYzNjZWYgPSBMLnBvcHVwKHttYXhXaWR0aDogJzMwMCd9KTsKCiAgICAgICAgICAgIAogICAgICAgICAgICAgICAgdmFyIGh0bWxfZDdlOTQ2ZjM1M2I2NGQyMmFjMGNjNWY4NDRkOGZlYzggPSAkKCc8ZGl2IGlkPSJodG1sX2Q3ZTk0NmYzNTNiNjRkMjJhYzBjYzVmODQ0ZDhmZWM4IiBzdHlsZT0id2lkdGg6IDEwMC4wJTsgaGVpZ2h0OiAxMDAuMCU7Ij5jbHVzdGVyID0gNSAmIG1vc3QgdmlzaXRlZCBjbHVzdGVyID0gNiAmIGF2ZyB0cmlwdGltZSBmcm9tIHRoaXMgY2x1c3RlciA9MTgxMS40NjU0NDUwMzwvZGl2PicpWzBdOwogICAgICAgICAgICAgICAgcG9wdXBfYTg2ODY0MzI2NjA2NGZiZWIzMDQ3NDhiMjMwYzNjZWYuc2V0Q29udGVudChodG1sX2Q3ZTk0NmYzNTNiNjRkMjJhYzBjYzVmODQ0ZDhmZWM4KTsKICAgICAgICAgICAgCgogICAgICAgICAgICBjaXJjbGVfbWFya2VyX2QxYzNhZGYyODE3MDQwYzJiMDViMmY2MDgzMWFhM2I2LmJpbmRQb3B1cChwb3B1cF9hODY4NjQzMjY2MDY0ZmJlYjMwNDc0OGIyMzBjM2NlZik7CgogICAgICAgICAgICAKICAgICAgICAKICAgIAoKICAgICAgICAgICAgdmFyIG1hcmtlcl8yOWM1YzcyYWI1MWU0NDVkODc4MjFjZTY5N2QxMWMzYyA9IEwubWFya2VyKAogICAgICAgICAgICAgICAgWzQwLjc3MDE2NDk1NDUsLTczLjg3MDQwNjQwOTFdLAogICAgICAgICAgICAgICAgewogICAgICAgICAgICAgICAgICAgIGljb246IG5ldyBMLkljb24uRGVmYXVsdCgpCiAgICAgICAgICAgICAgICAgICAgfQogICAgICAgICAgICAgICAgKQogICAgICAgICAgICAgICAgLmFkZFRvKG1hcF83Mjc5OGI2YTY5OGQ0MWYyOGEzN2U2MmRjMWZhMzA4MCk7CiAgICAgICAgICAgIAogICAgCiAgICAgICAgICAgIHZhciBwb3B1cF9kNDMzZjE2NTljY2I0YzZmOTRjOWM5MTI1MjA3ZDFiYiA9IEwucG9wdXAoe21heFdpZHRoOiAnMzAwJ30pOwoKICAgICAgICAgICAgCiAgICAgICAgICAgICAgICB2YXIgaHRtbF8xNjg4NWFhMjEwMTU0YTM1OGJjOTFmNmUzMTk0NDRkMiA9ICQoJzxkaXYgaWQ9Imh0bWxfMTY4ODVhYTIxMDE1NGEzNThiYzkxZjZlMzE5NDQ0ZDIiIHN0eWxlPSJ3aWR0aDogMTAwLjAlOyBoZWlnaHQ6IDEwMC4wJTsiPmNsdXN0ZXIgPSA1ICYgbW9zdCB2aXNpdGVkIGNsdXN0ZXIgPSA2ICYgYXZnIHRyaXB0aW1lIGZyb20gdGhpcyBjbHVzdGVyID0xODExLjQ2NTQ0NTAzPC9kaXY+JylbMF07CiAgICAgICAgICAgICAgICBwb3B1cF9kNDMzZjE2NTljY2I0YzZmOTRjOWM5MTI1MjA3ZDFiYi5zZXRDb250ZW50KGh0bWxfMTY4ODVhYTIxMDE1NGEzNThiYzkxZjZlMzE5NDQ0ZDIpOwogICAgICAgICAgICAKCiAgICAgICAgICAgIG1hcmtlcl8yOWM1YzcyYWI1MWU0NDVkODc4MjFjZTY5N2QxMWMzYy5iaW5kUG9wdXAocG9wdXBfZDQzM2YxNjU5Y2NiNGM2Zjk0YzljOTEyNTIwN2QxYmIpOwoKICAgICAgICAgICAgCiAgICAgICAgCiAgICAKICAgICAgICAgICAgdmFyIGNpcmNsZV9tYXJrZXJfMjQyZjMzOTg0MTU4NDc3YWFlOWVlMjU2MWE3NGZmYTkgPSBMLmNpcmNsZU1hcmtlcigKICAgICAgICAgICAgICAgIFs0MC43NTgxNDc2MTMzLC03My45NzMxOTA1NDI0XSwKICAgICAgICAgICAgICAgIHsKICAiYnViYmxpbmdNb3VzZUV2ZW50cyI6IHRydWUsCiAgImNvbG9yIjogIiNGMDgwODAiLAogICJkYXNoQXJyYXkiOiBudWxsLAogICJkYXNoT2Zmc2V0IjogbnVsbCwKICAiZmlsbCI6IGZhbHNlLAogICJmaWxsQ29sb3IiOiAiIzMxODZjYyIsCiAgImZpbGxPcGFjaXR5IjogMC4yLAogICJmaWxsUnVsZSI6ICJldmVub2RkIiwKICAibGluZUNhcCI6ICJyb3VuZCIsCiAgImxpbmVKb2luIjogInJvdW5kIiwKICAib3BhY2l0eSI6IDEuMCwKICAicmFkaXVzIjogMjUsCiAgInN0cm9rZSI6IHRydWUsCiAgIndlaWdodCI6IDMKfQogICAgICAgICAgICAgICAgKS5hZGRUbyhtYXBfNzI3OThiNmE2OThkNDFmMjhhMzdlNjJkYzFmYTMwODApOwogICAgICAgICAgICAKICAgIAogICAgICAgICAgICB2YXIgcG9wdXBfZjg5NGE1ZWVlNzJlNDM0YTkyNzA5Y2Y0M2M3ODg4MWIgPSBMLnBvcHVwKHttYXhXaWR0aDogJzMwMCd9KTsKCiAgICAgICAgICAgIAogICAgICAgICAgICAgICAgdmFyIGh0bWxfYzM0OTRkYTY3YzdmNGE3YjlhZDQwMzY3OGIzMTcxOWEgPSAkKCc8ZGl2IGlkPSJodG1sX2MzNDk0ZGE2N2M3ZjRhN2I5YWQ0MDM2NzhiMzE3MTlhIiBzdHlsZT0id2lkdGg6IDEwMC4wJTsgaGVpZ2h0OiAxMDAuMCU7Ij5jbHVzdGVyID0gNiAmIG1vc3QgdmlzaXRlZCBjbHVzdGVyID0gNiAmIGF2ZyB0cmlwdGltZSBmcm9tIHRoaXMgY2x1c3RlciA9ODgyLjQ4MzE1NzU2PC9kaXY+JylbMF07CiAgICAgICAgICAgICAgICBwb3B1cF9mODk0YTVlZWU3MmU0MzRhOTI3MDljZjQzYzc4ODgxYi5zZXRDb250ZW50KGh0bWxfYzM0OTRkYTY3YzdmNGE3YjlhZDQwMzY3OGIzMTcxOWEpOwogICAgICAgICAgICAKCiAgICAgICAgICAgIGNpcmNsZV9tYXJrZXJfMjQyZjMzOTg0MTU4NDc3YWFlOWVlMjU2MWE3NGZmYTkuYmluZFBvcHVwKHBvcHVwX2Y4OTRhNWVlZTcyZTQzNGE5MjcwOWNmNDNjNzg4ODFiKTsKCiAgICAgICAgICAgIAogICAgICAgIAogICAgCgogICAgICAgICAgICB2YXIgbWFya2VyXzMwZjllNGY4NzJlNDRlMjY5ZmU3MmFhZDllMTNjZDk0ID0gTC5tYXJrZXIoCiAgICAgICAgICAgICAgICBbNDAuNzU4MTQ3NjEzMywtNzMuOTczMTkwNTQyNF0sCiAgICAgICAgICAgICAgICB7CiAgICAgICAgICAgICAgICAgICAgaWNvbjogbmV3IEwuSWNvbi5EZWZhdWx0KCkKICAgICAgICAgICAgICAgICAgICB9CiAgICAgICAgICAgICAgICApCiAgICAgICAgICAgICAgICAuYWRkVG8obWFwXzcyNzk4YjZhNjk4ZDQxZjI4YTM3ZTYyZGMxZmEzMDgwKTsKICAgICAgICAgICAgCiAgICAKICAgICAgICAgICAgdmFyIHBvcHVwX2Q1ZmVlZDIxZjY5MTQ1OWRiMGFiY2QzNDE1ZGVhYzI4ID0gTC5wb3B1cCh7bWF4V2lkdGg6ICczMDAnfSk7CgogICAgICAgICAgICAKICAgICAgICAgICAgICAgIHZhciBodG1sX2Y5NjIzNzU5NDAyMDQyMDk5YzgwZGJhMGU4NDI0NDFjID0gJCgnPGRpdiBpZD0iaHRtbF9mOTYyMzc1OTQwMjA0MjA5OWM4MGRiYTBlODQyNDQxYyIgc3R5bGU9IndpZHRoOiAxMDAuMCU7IGhlaWdodDogMTAwLjAlOyI+Y2x1c3RlciA9IDYgJiBtb3N0IHZpc2l0ZWQgY2x1c3RlciA9IDYgJiBhdmcgdHJpcHRpbWUgZnJvbSB0aGlzIGNsdXN0ZXIgPTg4Mi40ODMxNTc1NjwvZGl2PicpWzBdOwogICAgICAgICAgICAgICAgcG9wdXBfZDVmZWVkMjFmNjkxNDU5ZGIwYWJjZDM0MTVkZWFjMjguc2V0Q29udGVudChodG1sX2Y5NjIzNzU5NDAyMDQyMDk5YzgwZGJhMGU4NDI0NDFjKTsKICAgICAgICAgICAgCgogICAgICAgICAgICBtYXJrZXJfMzBmOWU0Zjg3MmU0NGUyNjlmZTcyYWFkOWUxM2NkOTQuYmluZFBvcHVwKHBvcHVwX2Q1ZmVlZDIxZjY5MTQ1OWRiMGFiY2QzNDE1ZGVhYzI4KTsKCiAgICAgICAgICAgIAogICAgICAgIAogICAgCiAgICAgICAgICAgIHZhciBjaXJjbGVfbWFya2VyX2NiYWFlNzdkYzVjNDRmYzFiOTA1N2U0NzQyY2I0ZmQ5ID0gTC5jaXJjbGVNYXJrZXIoCiAgICAgICAgICAgICAgICBbNDAuNzUyNzA2ODY0NCwtNzMuOTg4NjE4NTI0N10sCiAgICAgICAgICAgICAgICB7CiAgImJ1YmJsaW5nTW91c2VFdmVudHMiOiB0cnVlLAogICJjb2xvciI6ICIjRjA4MDgwIiwKICAiZGFzaEFycmF5IjogbnVsbCwKICAiZGFzaE9mZnNldCI6IG51bGwsCiAgImZpbGwiOiBmYWxzZSwKICAiZmlsbENvbG9yIjogIiMzMTg2Y2MiLAogICJmaWxsT3BhY2l0eSI6IDAuMiwKICAiZmlsbFJ1bGUiOiAiZXZlbm9kZCIsCiAgImxpbmVDYXAiOiAicm91bmQiLAogICJsaW5lSm9pbiI6ICJyb3VuZCIsCiAgIm9wYWNpdHkiOiAxLjAsCiAgInJhZGl1cyI6IDI1LAogICJzdHJva2UiOiB0cnVlLAogICJ3ZWlnaHQiOiAzCn0KICAgICAgICAgICAgICAgICkuYWRkVG8obWFwXzcyNzk4YjZhNjk4ZDQxZjI4YTM3ZTYyZGMxZmEzMDgwKTsKICAgICAgICAgICAgCiAgICAKICAgICAgICAgICAgdmFyIHBvcHVwXzM1NjkwNjJkZDBiODQyOTFhOTU1NTE2MGM0ZDhmYTU3ID0gTC5wb3B1cCh7bWF4V2lkdGg6ICczMDAnfSk7CgogICAgICAgICAgICAKICAgICAgICAgICAgICAgIHZhciBodG1sX2U3MzQwZDA0MzZiNTRkZGY4ZjI4NzY0MTdhYTIyODI2ID0gJCgnPGRpdiBpZD0iaHRtbF9lNzM0MGQwNDM2YjU0ZGRmOGYyODc2NDE3YWEyMjgyNiIgc3R5bGU9IndpZHRoOiAxMDAuMCU7IGhlaWdodDogMTAwLjAlOyI+Y2x1c3RlciA9IDcgJiBtb3N0IHZpc2l0ZWQgY2x1c3RlciA9IDcgJiBhdmcgdHJpcHRpbWUgZnJvbSB0aGlzIGNsdXN0ZXIgPTkxMy4zNTc5NDMzMDk8L2Rpdj4nKVswXTsKICAgICAgICAgICAgICAgIHBvcHVwXzM1NjkwNjJkZDBiODQyOTFhOTU1NTE2MGM0ZDhmYTU3LnNldENvbnRlbnQoaHRtbF9lNzM0MGQwNDM2YjU0ZGRmOGYyODc2NDE3YWEyMjgyNik7CiAgICAgICAgICAgIAoKICAgICAgICAgICAgY2lyY2xlX21hcmtlcl9jYmFhZTc3ZGM1YzQ0ZmMxYjkwNTdlNDc0MmNiNGZkOS5iaW5kUG9wdXAocG9wdXBfMzU2OTA2MmRkMGI4NDI5MWE5NTU1MTYwYzRkOGZhNTcpOwoKICAgICAgICAgICAgCiAgICAgICAgCiAgICAKCiAgICAgICAgICAgIHZhciBtYXJrZXJfYjYzZmEwMTI4ZDUxNDU3NDg2MDM0MDMyODY1MTEzYTkgPSBMLm1hcmtlcigKICAgICAgICAgICAgICAgIFs0MC43NTI3MDY4NjQ0LC03My45ODg2MTg1MjQ3XSwKICAgICAgICAgICAgICAgIHsKICAgICAgICAgICAgICAgICAgICBpY29uOiBuZXcgTC5JY29uLkRlZmF1bHQoKQogICAgICAgICAgICAgICAgICAgIH0KICAgICAgICAgICAgICAgICkKICAgICAgICAgICAgICAgIC5hZGRUbyhtYXBfNzI3OThiNmE2OThkNDFmMjhhMzdlNjJkYzFmYTMwODApOwogICAgICAgICAgICAKICAgIAogICAgICAgICAgICB2YXIgcG9wdXBfNmEwZTQzOWVjYTdiNGUzM2I0ZDk5ZDE0MjRjZjljNTcgPSBMLnBvcHVwKHttYXhXaWR0aDogJzMwMCd9KTsKCiAgICAgICAgICAgIAogICAgICAgICAgICAgICAgdmFyIGh0bWxfYTc1NzUyNzRhZGQyNDRkNWE5ZWVkMGJiMjEwM2JmODQgPSAkKCc8ZGl2IGlkPSJodG1sX2E3NTc1Mjc0YWRkMjQ0ZDVhOWVlZDBiYjIxMDNiZjg0IiBzdHlsZT0id2lkdGg6IDEwMC4wJTsgaGVpZ2h0OiAxMDAuMCU7Ij5jbHVzdGVyID0gNyAmIG1vc3QgdmlzaXRlZCBjbHVzdGVyID0gNyAmIGF2ZyB0cmlwdGltZSBmcm9tIHRoaXMgY2x1c3RlciA9OTEzLjM1Nzk0MzMwOTwvZGl2PicpWzBdOwogICAgICAgICAgICAgICAgcG9wdXBfNmEwZTQzOWVjYTdiNGUzM2I0ZDk5ZDE0MjRjZjljNTcuc2V0Q29udGVudChodG1sX2E3NTc1Mjc0YWRkMjQ0ZDVhOWVlZDBiYjIxMDNiZjg0KTsKICAgICAgICAgICAgCgogICAgICAgICAgICBtYXJrZXJfYjYzZmEwMTI4ZDUxNDU3NDg2MDM0MDMyODY1MTEzYTkuYmluZFBvcHVwKHBvcHVwXzZhMGU0MzllY2E3YjRlMzNiNGQ5OWQxNDI0Y2Y5YzU3KTsKCiAgICAgICAgICAgIAogICAgICAgIAogICAgCiAgICAgICAgICAgIHZhciBjaXJjbGVfbWFya2VyXzhkNWQ2MGVhMzYxNDQ1NThhMWE2MjFjOWU1YzY2Yzg2ID0gTC5jaXJjbGVNYXJrZXIoCiAgICAgICAgICAgICAgICBbNTEuODgxMDg0NDQyMSwtNzIuODA5NjY5NDk0Nl0sCiAgICAgICAgICAgICAgICB7CiAgImJ1YmJsaW5nTW91c2VFdmVudHMiOiB0cnVlLAogICJjb2xvciI6ICIjRjA4MDgwIiwKICAiZGFzaEFycmF5IjogbnVsbCwKICAiZGFzaE9mZnNldCI6IG51bGwsCiAgImZpbGwiOiBmYWxzZSwKICAiZmlsbENvbG9yIjogIiMzMTg2Y2MiLAogICJmaWxsT3BhY2l0eSI6IDAuMiwKICAiZmlsbFJ1bGUiOiAiZXZlbm9kZCIsCiAgImxpbmVDYXAiOiAicm91bmQiLAogICJsaW5lSm9pbiI6ICJyb3VuZCIsCiAgIm9wYWNpdHkiOiAxLjAsCiAgInJhZGl1cyI6IDI1LAogICJzdHJva2UiOiB0cnVlLAogICJ3ZWlnaHQiOiAzCn0KICAgICAgICAgICAgICAgICkuYWRkVG8obWFwXzcyNzk4YjZhNjk4ZDQxZjI4YTM3ZTYyZGMxZmEzMDgwKTsKICAgICAgICAgICAgCiAgICAKICAgICAgICAgICAgdmFyIHBvcHVwX2ZjNGQ5Y2E1MDM0YTQ4ZWI4NzFmYjU4MGYzYWNkMjRiID0gTC5wb3B1cCh7bWF4V2lkdGg6ICczMDAnfSk7CgogICAgICAgICAgICAKICAgICAgICAgICAgICAgIHZhciBodG1sX2E5ODFjYTgyMjc0NTQ5NzRiNThhNDRlY2ZmMzIwYTEyID0gJCgnPGRpdiBpZD0iaHRtbF9hOTgxY2E4MjI3NDU0OTc0YjU4YTQ0ZWNmZjMyMGExMiIgc3R5bGU9IndpZHRoOiAxMDAuMCU7IGhlaWdodDogMTAwLjAlOyI+Y2x1c3RlciA9IDggJiBtb3N0IHZpc2l0ZWQgY2x1c3RlciA9IDcgJiBhdmcgdHJpcHRpbWUgZnJvbSB0aGlzIGNsdXN0ZXIgPTc5Mi4wPC9kaXY+JylbMF07CiAgICAgICAgICAgICAgICBwb3B1cF9mYzRkOWNhNTAzNGE0OGViODcxZmI1ODBmM2FjZDI0Yi5zZXRDb250ZW50KGh0bWxfYTk4MWNhODIyNzQ1NDk3NGI1OGE0NGVjZmYzMjBhMTIpOwogICAgICAgICAgICAKCiAgICAgICAgICAgIGNpcmNsZV9tYXJrZXJfOGQ1ZDYwZWEzNjE0NDU1OGExYTYyMWM5ZTVjNjZjODYuYmluZFBvcHVwKHBvcHVwX2ZjNGQ5Y2E1MDM0YTQ4ZWI4NzFmYjU4MGYzYWNkMjRiKTsKCiAgICAgICAgICAgIAogICAgICAgIAogICAgCgogICAgICAgICAgICB2YXIgbWFya2VyXzcxNGYzZWNmNDg0NDQ1MjBhZDNlOWVmZjE5MzE5OWVlID0gTC5tYXJrZXIoCiAgICAgICAgICAgICAgICBbNTEuODgxMDg0NDQyMSwtNzIuODA5NjY5NDk0Nl0sCiAgICAgICAgICAgICAgICB7CiAgICAgICAgICAgICAgICAgICAgaWNvbjogbmV3IEwuSWNvbi5EZWZhdWx0KCkKICAgICAgICAgICAgICAgICAgICB9CiAgICAgICAgICAgICAgICApCiAgICAgICAgICAgICAgICAuYWRkVG8obWFwXzcyNzk4YjZhNjk4ZDQxZjI4YTM3ZTYyZGMxZmEzMDgwKTsKICAgICAgICAgICAgCiAgICAKICAgICAgICAgICAgdmFyIHBvcHVwX2I3MzQ0Yzg1NDQxNDQ0ZDVhZWNkYWYxMjEwNTk4NjhjID0gTC5wb3B1cCh7bWF4V2lkdGg6ICczMDAnfSk7CgogICAgICAgICAgICAKICAgICAgICAgICAgICAgIHZhciBodG1sX2NhYmQ0ZTYxMTdhODQ2NzE5NzhmNjA1MTNkMTAwYjMwID0gJCgnPGRpdiBpZD0iaHRtbF9jYWJkNGU2MTE3YTg0NjcxOTc4ZjYwNTEzZDEwMGIzMCIgc3R5bGU9IndpZHRoOiAxMDAuMCU7IGhlaWdodDogMTAwLjAlOyI+Y2x1c3RlciA9IDggJiBtb3N0IHZpc2l0ZWQgY2x1c3RlciA9IDcgJiBhdmcgdHJpcHRpbWUgZnJvbSB0aGlzIGNsdXN0ZXIgPTc5Mi4wPC9kaXY+JylbMF07CiAgICAgICAgICAgICAgICBwb3B1cF9iNzM0NGM4NTQ0MTQ0NGQ1YWVjZGFmMTIxMDU5ODY4Yy5zZXRDb250ZW50KGh0bWxfY2FiZDRlNjExN2E4NDY3MTk3OGY2MDUxM2QxMDBiMzApOwogICAgICAgICAgICAKCiAgICAgICAgICAgIG1hcmtlcl83MTRmM2VjZjQ4NDQ0NTIwYWQzZTllZmYxOTMxOTllZS5iaW5kUG9wdXAocG9wdXBfYjczNDRjODU0NDE0NDRkNWFlY2RhZjEyMTA1OTg2OGMpOwoKICAgICAgICAgICAgCiAgICAgICAgCiAgICAKICAgICAgICAgICAgdmFyIGNpcmNsZV9tYXJrZXJfMzIyNDA3MWVkNjUyNGQ0Nzg3NzkzNTQwZGMzZjZhNWYgPSBMLmNpcmNsZU1hcmtlcigKICAgICAgICAgICAgICAgIFszOC40NzM3MDYyNDU0LC03Ni45OTc3OTcwMTIzXSwKICAgICAgICAgICAgICAgIHsKICAiYnViYmxpbmdNb3VzZUV2ZW50cyI6IHRydWUsCiAgImNvbG9yIjogIiNGMDgwODAiLAogICJkYXNoQXJyYXkiOiBudWxsLAogICJkYXNoT2Zmc2V0IjogbnVsbCwKICAiZmlsbCI6IGZhbHNlLAogICJmaWxsQ29sb3IiOiAiIzMxODZjYyIsCiAgImZpbGxPcGFjaXR5IjogMC4yLAogICJmaWxsUnVsZSI6ICJldmVub2RkIiwKICAibGluZUNhcCI6ICJyb3VuZCIsCiAgImxpbmVKb2luIjogInJvdW5kIiwKICAib3BhY2l0eSI6IDEuMCwKICAicmFkaXVzIjogMjUsCiAgInN0cm9rZSI6IHRydWUsCiAgIndlaWdodCI6IDMKfQogICAgICAgICAgICAgICAgKS5hZGRUbyhtYXBfNzI3OThiNmE2OThkNDFmMjhhMzdlNjJkYzFmYTMwODApOwogICAgICAgICAgICAKICAgIAogICAgICAgICAgICB2YXIgcG9wdXBfZTdkNDI3Y2ZmNmNjNDlhNGJhZWIyYTU1MjQzYWJjNjIgPSBMLnBvcHVwKHttYXhXaWR0aDogJzMwMCd9KTsKCiAgICAgICAgICAgIAogICAgICAgICAgICAgICAgdmFyIGh0bWxfZDg0ZjU0Mzc2NGEzNGU3YmJiZTM1M2I3MTUxOWRkNWIgPSAkKCc8ZGl2IGlkPSJodG1sX2Q4NGY1NDM3NjRhMzRlN2JiYmUzNTNiNzE1MTlkZDViIiBzdHlsZT0id2lkdGg6IDEwMC4wJTsgaGVpZ2h0OiAxMDAuMCU7Ij5jbHVzdGVyID0gOSAmIG1vc3QgdmlzaXRlZCBjbHVzdGVyID0gOSAmIGF2ZyB0cmlwdGltZSBmcm9tIHRoaXMgY2x1c3RlciA9MzY2Ljg3NTwvZGl2PicpWzBdOwogICAgICAgICAgICAgICAgcG9wdXBfZTdkNDI3Y2ZmNmNjNDlhNGJhZWIyYTU1MjQzYWJjNjIuc2V0Q29udGVudChodG1sX2Q4NGY1NDM3NjRhMzRlN2JiYmUzNTNiNzE1MTlkZDViKTsKICAgICAgICAgICAgCgogICAgICAgICAgICBjaXJjbGVfbWFya2VyXzMyMjQwNzFlZDY1MjRkNDc4Nzc5MzU0MGRjM2Y2YTVmLmJpbmRQb3B1cChwb3B1cF9lN2Q0MjdjZmY2Y2M0OWE0YmFlYjJhNTUyNDNhYmM2Mik7CgogICAgICAgICAgICAKICAgICAgICAKICAgIAoKICAgICAgICAgICAgdmFyIG1hcmtlcl9iODkzMWExMzUzMjM0ZWQyYTlkOWE1MGQyYTFmMTNlNSA9IEwubWFya2VyKAogICAgICAgICAgICAgICAgWzM4LjQ3MzcwNjI0NTQsLTc2Ljk5Nzc5NzAxMjNdLAogICAgICAgICAgICAgICAgewogICAgICAgICAgICAgICAgICAgIGljb246IG5ldyBMLkljb24uRGVmYXVsdCgpCiAgICAgICAgICAgICAgICAgICAgfQogICAgICAgICAgICAgICAgKQogICAgICAgICAgICAgICAgLmFkZFRvKG1hcF83Mjc5OGI2YTY5OGQ0MWYyOGEzN2U2MmRjMWZhMzA4MCk7CiAgICAgICAgICAgIAogICAgCiAgICAgICAgICAgIHZhciBwb3B1cF80NmJkNTAxM2E5YTY0YzkwOTE3YWY2NzIzNGRmNmU5ZiA9IEwucG9wdXAoe21heFdpZHRoOiAnMzAwJ30pOwoKICAgICAgICAgICAgCiAgICAgICAgICAgICAgICB2YXIgaHRtbF82Zjk2ZjA2ZTJkYmM0NzU1YTcyNzlhNWQ0MzlmNzVlYyA9ICQoJzxkaXYgaWQ9Imh0bWxfNmY5NmYwNmUyZGJjNDc1NWE3Mjc5YTVkNDM5Zjc1ZWMiIHN0eWxlPSJ3aWR0aDogMTAwLjAlOyBoZWlnaHQ6IDEwMC4wJTsiPmNsdXN0ZXIgPSA5ICYgbW9zdCB2aXNpdGVkIGNsdXN0ZXIgPSA5ICYgYXZnIHRyaXB0aW1lIGZyb20gdGhpcyBjbHVzdGVyID0zNjYuODc1PC9kaXY+JylbMF07CiAgICAgICAgICAgICAgICBwb3B1cF80NmJkNTAxM2E5YTY0YzkwOTE3YWY2NzIzNGRmNmU5Zi5zZXRDb250ZW50KGh0bWxfNmY5NmYwNmUyZGJjNDc1NWE3Mjc5YTVkNDM5Zjc1ZWMpOwogICAgICAgICAgICAKCiAgICAgICAgICAgIG1hcmtlcl9iODkzMWExMzUzMjM0ZWQyYTlkOWE1MGQyYTFmMTNlNS5iaW5kUG9wdXAocG9wdXBfNDZiZDUwMTNhOWE2NGM5MDkxN2FmNjcyMzRkZjZlOWYpOwoKICAgICAgICAgICAgCiAgICAgICAgCiAgICAKICAgICAgICAgICAgdmFyIGNpcmNsZV9tYXJrZXJfOWNmYWEwNWIyZDMyNDIzNzllZDU3ZjVhYmYzOGFhY2EgPSBMLmNpcmNsZU1hcmtlcigKICAgICAgICAgICAgICAgIFs0MC42OTA5MDYwMzUxLC03My45Njk3NDY2NjEyXSwKICAgICAgICAgICAgICAgIHsKICAiYnViYmxpbmdNb3VzZUV2ZW50cyI6IHRydWUsCiAgImNvbG9yIjogIiNGMDgwODAiLAogICJkYXNoQXJyYXkiOiBudWxsLAogICJkYXNoT2Zmc2V0IjogbnVsbCwKICAiZmlsbCI6IGZhbHNlLAogICJmaWxsQ29sb3IiOiAiIzMxODZjYyIsCiAgImZpbGxPcGFjaXR5IjogMC4yLAogICJmaWxsUnVsZSI6ICJldmVub2RkIiwKICAibGluZUNhcCI6ICJyb3VuZCIsCiAgImxpbmVKb2luIjogInJvdW5kIiwKICAib3BhY2l0eSI6IDEuMCwKICAicmFkaXVzIjogMjUsCiAgInN0cm9rZSI6IHRydWUsCiAgIndlaWdodCI6IDMKfQogICAgICAgICAgICAgICAgKS5hZGRUbyhtYXBfNzI3OThiNmE2OThkNDFmMjhhMzdlNjJkYzFmYTMwODApOwogICAgICAgICAgICAKICAgIAogICAgICAgICAgICB2YXIgcG9wdXBfOGYyMTVhMWFiMmE3NDNiYzkyNGYwNzAxNTkzOTQzYjEgPSBMLnBvcHVwKHttYXhXaWR0aDogJzMwMCd9KTsKCiAgICAgICAgICAgIAogICAgICAgICAgICAgICAgdmFyIGh0bWxfYWY3M2EzNTBmNjQ0NDkxZmFkZWY5NDg0ZTc0ZGFlYzAgPSAkKCc8ZGl2IGlkPSJodG1sX2FmNzNhMzUwZjY0NDQ5MWZhZGVmOTQ4NGU3NGRhZWMwIiBzdHlsZT0id2lkdGg6IDEwMC4wJTsgaGVpZ2h0OiAxMDAuMCU7Ij5jbHVzdGVyID0gMTAgJiBtb3N0IHZpc2l0ZWQgY2x1c3RlciA9IDEwICYgYXZnIHRyaXB0aW1lIGZyb20gdGhpcyBjbHVzdGVyID05NTYuMTM0Mjk4NDAzPC9kaXY+JylbMF07CiAgICAgICAgICAgICAgICBwb3B1cF84ZjIxNWExYWIyYTc0M2JjOTI0ZjA3MDE1OTM5NDNiMS5zZXRDb250ZW50KGh0bWxfYWY3M2EzNTBmNjQ0NDkxZmFkZWY5NDg0ZTc0ZGFlYzApOwogICAgICAgICAgICAKCiAgICAgICAgICAgIGNpcmNsZV9tYXJrZXJfOWNmYWEwNWIyZDMyNDIzNzllZDU3ZjVhYmYzOGFhY2EuYmluZFBvcHVwKHBvcHVwXzhmMjE1YTFhYjJhNzQzYmM5MjRmMDcwMTU5Mzk0M2IxKTsKCiAgICAgICAgICAgIAogICAgICAgIAogICAgCgogICAgICAgICAgICB2YXIgbWFya2VyXzNjOTQ0ZThhMzBjMTQ3YjY5ZWRjYjM1OWRiZTU3ZjcxID0gTC5tYXJrZXIoCiAgICAgICAgICAgICAgICBbNDAuNjkwOTA2MDM1MSwtNzMuOTY5NzQ2NjYxMl0sCiAgICAgICAgICAgICAgICB7CiAgICAgICAgICAgICAgICAgICAgaWNvbjogbmV3IEwuSWNvbi5EZWZhdWx0KCkKICAgICAgICAgICAgICAgICAgICB9CiAgICAgICAgICAgICAgICApCiAgICAgICAgICAgICAgICAuYWRkVG8obWFwXzcyNzk4YjZhNjk4ZDQxZjI4YTM3ZTYyZGMxZmEzMDgwKTsKICAgICAgICAgICAgCiAgICAKICAgICAgICAgICAgdmFyIHBvcHVwX2IzNDM5ZDE0YjI0YTRlY2ZhNjViMzkwODc0NWU3YmQ4ID0gTC5wb3B1cCh7bWF4V2lkdGg6ICczMDAnfSk7CgogICAgICAgICAgICAKICAgICAgICAgICAgICAgIHZhciBodG1sX2EyMmVjNzViZDIzMDQ3ZmE5N2E2OGY0YzVjMWQxOGZlID0gJCgnPGRpdiBpZD0iaHRtbF9hMjJlYzc1YmQyMzA0N2ZhOTdhNjhmNGM1YzFkMThmZSIgc3R5bGU9IndpZHRoOiAxMDAuMCU7IGhlaWdodDogMTAwLjAlOyI+Y2x1c3RlciA9IDEwICYgbW9zdCB2aXNpdGVkIGNsdXN0ZXIgPSAxMCAmIGF2ZyB0cmlwdGltZSBmcm9tIHRoaXMgY2x1c3RlciA9OTU2LjEzNDI5ODQwMzwvZGl2PicpWzBdOwogICAgICAgICAgICAgICAgcG9wdXBfYjM0MzlkMTRiMjRhNGVjZmE2NWIzOTA4NzQ1ZTdiZDguc2V0Q29udGVudChodG1sX2EyMmVjNzViZDIzMDQ3ZmE5N2E2OGY0YzVjMWQxOGZlKTsKICAgICAgICAgICAgCgogICAgICAgICAgICBtYXJrZXJfM2M5NDRlOGEzMGMxNDdiNjllZGNiMzU5ZGJlNTdmNzEuYmluZFBvcHVwKHBvcHVwX2IzNDM5ZDE0YjI0YTRlY2ZhNjViMzkwODc0NWU3YmQ4KTsKCiAgICAgICAgICAgIAogICAgICAgIAogICAgCiAgICAgICAgICAgIHZhciBjaXJjbGVfbWFya2VyXzU5NzZhYTIzZTcxYjQxYTNiYjFkZjI1NTRkNThhMjJmID0gTC5jaXJjbGVNYXJrZXIoCiAgICAgICAgICAgICAgICBbNDAuNzE0MTAyNTMxNCwtNzQuMDA4MjI5ODEyOV0sCiAgICAgICAgICAgICAgICB7CiAgImJ1YmJsaW5nTW91c2VFdmVudHMiOiB0cnVlLAogICJjb2xvciI6ICIjRjA4MDgwIiwKICAiZGFzaEFycmF5IjogbnVsbCwKICAiZGFzaE9mZnNldCI6IG51bGwsCiAgImZpbGwiOiBmYWxzZSwKICAiZmlsbENvbG9yIjogIiMzMTg2Y2MiLAogICJmaWxsT3BhY2l0eSI6IDAuMiwKICAiZmlsbFJ1bGUiOiAiZXZlbm9kZCIsCiAgImxpbmVDYXAiOiAicm91bmQiLAogICJsaW5lSm9pbiI6ICJyb3VuZCIsCiAgIm9wYWNpdHkiOiAxLjAsCiAgInJhZGl1cyI6IDI1LAogICJzdHJva2UiOiB0cnVlLAogICJ3ZWlnaHQiOiAzCn0KICAgICAgICAgICAgICAgICkuYWRkVG8obWFwXzcyNzk4YjZhNjk4ZDQxZjI4YTM3ZTYyZGMxZmEzMDgwKTsKICAgICAgICAgICAgCiAgICAKICAgICAgICAgICAgdmFyIHBvcHVwXzZmODdjYzk3NjYyYTQ5NGZhMjA1YmFjNzhmOWVkODIzID0gTC5wb3B1cCh7bWF4V2lkdGg6ICczMDAnfSk7CgogICAgICAgICAgICAKICAgICAgICAgICAgICAgIHZhciBodG1sX2I4YjVjNjczMGUyYTRkZDU4YTZlNmU2NDc0NTlkODk2ID0gJCgnPGRpdiBpZD0iaHRtbF9iOGI1YzY3MzBlMmE0ZGQ1OGE2ZTZlNjQ3NDU5ZDg5NiIgc3R5bGU9IndpZHRoOiAxMDAuMCU7IGhlaWdodDogMTAwLjAlOyI+Y2x1c3RlciA9IDExICYgbW9zdCB2aXNpdGVkIGNsdXN0ZXIgPSAxMSAmIGF2ZyB0cmlwdGltZSBmcm9tIHRoaXMgY2x1c3RlciA9MTA3MS4yODk0NDY3NzwvZGl2PicpWzBdOwogICAgICAgICAgICAgICAgcG9wdXBfNmY4N2NjOTc2NjJhNDk0ZmEyMDViYWM3OGY5ZWQ4MjMuc2V0Q29udGVudChodG1sX2I4YjVjNjczMGUyYTRkZDU4YTZlNmU2NDc0NTlkODk2KTsKICAgICAgICAgICAgCgogICAgICAgICAgICBjaXJjbGVfbWFya2VyXzU5NzZhYTIzZTcxYjQxYTNiYjFkZjI1NTRkNThhMjJmLmJpbmRQb3B1cChwb3B1cF82Zjg3Y2M5NzY2MmE0OTRmYTIwNWJhYzc4ZjllZDgyMyk7CgogICAgICAgICAgICAKICAgICAgICAKICAgIAoKICAgICAgICAgICAgdmFyIG1hcmtlcl8yNWMyZTM1ZmUxYTU0ZDQzOWJkMjBlYzNjNmZiMDAyMyA9IEwubWFya2VyKAogICAgICAgICAgICAgICAgWzQwLjcxNDEwMjUzMTQsLTc0LjAwODIyOTgxMjldLAogICAgICAgICAgICAgICAgewogICAgICAgICAgICAgICAgICAgIGljb246IG5ldyBMLkljb24uRGVmYXVsdCgpCiAgICAgICAgICAgICAgICAgICAgfQogICAgICAgICAgICAgICAgKQogICAgICAgICAgICAgICAgLmFkZFRvKG1hcF83Mjc5OGI2YTY5OGQ0MWYyOGEzN2U2MmRjMWZhMzA4MCk7CiAgICAgICAgICAgIAogICAgCiAgICAgICAgICAgIHZhciBwb3B1cF9jYjNkMzdkNzBhODk0NDdkYjNiODE1MzU1M2Q4OTAxNiA9IEwucG9wdXAoe21heFdpZHRoOiAnMzAwJ30pOwoKICAgICAgICAgICAgCiAgICAgICAgICAgICAgICB2YXIgaHRtbF84N2UwNjVlZDNiNjY0MTZiOGFjZGFkMmE5MmI3MzY5NyA9ICQoJzxkaXYgaWQ9Imh0bWxfODdlMDY1ZWQzYjY2NDE2YjhhY2RhZDJhOTJiNzM2OTciIHN0eWxlPSJ3aWR0aDogMTAwLjAlOyBoZWlnaHQ6IDEwMC4wJTsiPmNsdXN0ZXIgPSAxMSAmIG1vc3QgdmlzaXRlZCBjbHVzdGVyID0gMTEgJiBhdmcgdHJpcHRpbWUgZnJvbSB0aGlzIGNsdXN0ZXIgPTEwNzEuMjg5NDQ2Nzc8L2Rpdj4nKVswXTsKICAgICAgICAgICAgICAgIHBvcHVwX2NiM2QzN2Q3MGE4OTQ0N2RiM2I4MTUzNTUzZDg5MDE2LnNldENvbnRlbnQoaHRtbF84N2UwNjVlZDNiNjY0MTZiOGFjZGFkMmE5MmI3MzY5Nyk7CiAgICAgICAgICAgIAoKICAgICAgICAgICAgbWFya2VyXzI1YzJlMzVmZTFhNTRkNDM5YmQyMGVjM2M2ZmIwMDIzLmJpbmRQb3B1cChwb3B1cF9jYjNkMzdkNzBhODk0NDdkYjNiODE1MzU1M2Q4OTAxNik7CgogICAgICAgICAgICAKICAgICAgICAKICAgIAogICAgICAgICAgICB2YXIgY2lyY2xlX21hcmtlcl82MmFjMDI1NTAxY2Q0OTI0OGJmZWI0NGVmMTlhYTFlZiA9IEwuY2lyY2xlTWFya2VyKAogICAgICAgICAgICAgICAgWzQ0LjM3MTk0NDQyNzUsLTY2Ljk3MjE2MDMzOTRdLAogICAgICAgICAgICAgICAgewogICJidWJibGluZ01vdXNlRXZlbnRzIjogdHJ1ZSwKICAiY29sb3IiOiAiI0YwODA4MCIsCiAgImRhc2hBcnJheSI6IG51bGwsCiAgImRhc2hPZmZzZXQiOiBudWxsLAogICJmaWxsIjogZmFsc2UsCiAgImZpbGxDb2xvciI6ICIjMzE4NmNjIiwKICAiZmlsbE9wYWNpdHkiOiAwLjIsCiAgImZpbGxSdWxlIjogImV2ZW5vZGQiLAogICJsaW5lQ2FwIjogInJvdW5kIiwKICAibGluZUpvaW4iOiAicm91bmQiLAogICJvcGFjaXR5IjogMS4wLAogICJyYWRpdXMiOiAyNSwKICAic3Ryb2tlIjogdHJ1ZSwKICAid2VpZ2h0IjogMwp9CiAgICAgICAgICAgICAgICApLmFkZFRvKG1hcF83Mjc5OGI2YTY5OGQ0MWYyOGEzN2U2MmRjMWZhMzA4MCk7CiAgICAgICAgICAgIAogICAgCiAgICAgICAgICAgIHZhciBwb3B1cF81YTI1MjY5NjQxNzY0MWNjYTU4M2U3ZDIwOGRjYjRkMCA9IEwucG9wdXAoe21heFdpZHRoOiAnMzAwJ30pOwoKICAgICAgICAgICAgCiAgICAgICAgICAgICAgICB2YXIgaHRtbF81MzVmMWQ4ZjQzYmM0YmVhYTZlNmRmOTI1MTIxMjFkNSA9ICQoJzxkaXYgaWQ9Imh0bWxfNTM1ZjFkOGY0M2JjNGJlYWE2ZTZkZjkyNTEyMTIxZDUiIHN0eWxlPSJ3aWR0aDogMTAwLjAlOyBoZWlnaHQ6IDEwMC4wJTsiPmNsdXN0ZXIgPSAxMiAmIG1vc3QgdmlzaXRlZCBjbHVzdGVyID0gMTIgJiBhdmcgdHJpcHRpbWUgZnJvbSB0aGlzIGNsdXN0ZXIgPTExMzEuMDwvZGl2PicpWzBdOwogICAgICAgICAgICAgICAgcG9wdXBfNWEyNTI2OTY0MTc2NDFjY2E1ODNlN2QyMDhkY2I0ZDAuc2V0Q29udGVudChodG1sXzUzNWYxZDhmNDNiYzRiZWFhNmU2ZGY5MjUxMjEyMWQ1KTsKICAgICAgICAgICAgCgogICAgICAgICAgICBjaXJjbGVfbWFya2VyXzYyYWMwMjU1MDFjZDQ5MjQ4YmZlYjQ0ZWYxOWFhMWVmLmJpbmRQb3B1cChwb3B1cF81YTI1MjY5NjQxNzY0MWNjYTU4M2U3ZDIwOGRjYjRkMCk7CgogICAgICAgICAgICAKICAgICAgICAKICAgIAoKICAgICAgICAgICAgdmFyIG1hcmtlcl8yOGI2ZmM4ZDQ3ZTQ0MWY5YWYzY2UwY2Y0ZTU3OTkyZSA9IEwubWFya2VyKAogICAgICAgICAgICAgICAgWzQ0LjM3MTk0NDQyNzUsLTY2Ljk3MjE2MDMzOTRdLAogICAgICAgICAgICAgICAgewogICAgICAgICAgICAgICAgICAgIGljb246IG5ldyBMLkljb24uRGVmYXVsdCgpCiAgICAgICAgICAgICAgICAgICAgfQogICAgICAgICAgICAgICAgKQogICAgICAgICAgICAgICAgLmFkZFRvKG1hcF83Mjc5OGI2YTY5OGQ0MWYyOGEzN2U2MmRjMWZhMzA4MCk7CiAgICAgICAgICAgIAogICAgCiAgICAgICAgICAgIHZhciBwb3B1cF8yMmY3MzUwOGE2MGE0MTg5YTViN2E1NzUyZjFmYTAwNCA9IEwucG9wdXAoe21heFdpZHRoOiAnMzAwJ30pOwoKICAgICAgICAgICAgCiAgICAgICAgICAgICAgICB2YXIgaHRtbF9iODkxMTJjYWM3MzU0ODg3YjRkZmMxZTdhMTQ3ZWI0YiA9ICQoJzxkaXYgaWQ9Imh0bWxfYjg5MTEyY2FjNzM1NDg4N2I0ZGZjMWU3YTE0N2ViNGIiIHN0eWxlPSJ3aWR0aDogMTAwLjAlOyBoZWlnaHQ6IDEwMC4wJTsiPmNsdXN0ZXIgPSAxMiAmIG1vc3QgdmlzaXRlZCBjbHVzdGVyID0gMTIgJiBhdmcgdHJpcHRpbWUgZnJvbSB0aGlzIGNsdXN0ZXIgPTExMzEuMDwvZGl2PicpWzBdOwogICAgICAgICAgICAgICAgcG9wdXBfMjJmNzM1MDhhNjBhNDE4OWE1YjdhNTc1MmYxZmEwMDQuc2V0Q29udGVudChodG1sX2I4OTExMmNhYzczNTQ4ODdiNGRmYzFlN2ExNDdlYjRiKTsKICAgICAgICAgICAgCgogICAgICAgICAgICBtYXJrZXJfMjhiNmZjOGQ0N2U0NDFmOWFmM2NlMGNmNGU1Nzk5MmUuYmluZFBvcHVwKHBvcHVwXzIyZjczNTA4YTYwYTQxODlhNWI3YTU3NTJmMWZhMDA0KTsKCiAgICAgICAgICAgIAogICAgICAgIAogICAgCiAgICAgICAgICAgIHZhciBjaXJjbGVfbWFya2VyXzcyNjBlNmQ1NmQ0OTRhNDY5N2M5ODMzNmVlNjZhMDYxID0gTC5jaXJjbGVNYXJrZXIoCiAgICAgICAgICAgICAgICBbMzcuODUxMDUxMzMwNiwtNjEuMzM1NTI5MzI3NF0sCiAgICAgICAgICAgICAgICB7CiAgImJ1YmJsaW5nTW91c2VFdmVudHMiOiB0cnVlLAogICJjb2xvciI6ICIjRjA4MDgwIiwKICAiZGFzaEFycmF5IjogbnVsbCwKICAiZGFzaE9mZnNldCI6IG51bGwsCiAgImZpbGwiOiBmYWxzZSwKICAiZmlsbENvbG9yIjogIiMzMTg2Y2MiLAogICJmaWxsT3BhY2l0eSI6IDAuMiwKICAiZmlsbFJ1bGUiOiAiZXZlbm9kZCIsCiAgImxpbmVDYXAiOiAicm91bmQiLAogICJsaW5lSm9pbiI6ICJyb3VuZCIsCiAgIm9wYWNpdHkiOiAxLjAsCiAgInJhZGl1cyI6IDI1LAogICJzdHJva2UiOiB0cnVlLAogICJ3ZWlnaHQiOiAzCn0KICAgICAgICAgICAgICAgICkuYWRkVG8obWFwXzcyNzk4YjZhNjk4ZDQxZjI4YTM3ZTYyZGMxZmEzMDgwKTsKICAgICAgICAgICAgCiAgICAKICAgICAgICAgICAgdmFyIHBvcHVwXzE2MWQ3OWU4YWYzNDRhNmU5MTI2ZDI5MDM3NzZhNzgxID0gTC5wb3B1cCh7bWF4V2lkdGg6ICczMDAnfSk7CgogICAgICAgICAgICAKICAgICAgICAgICAgICAgIHZhciBodG1sX2Y0ZTc5MTJkYTFjOTRhZjQ5MzJhYzkyMjgyYTU3ZGE0ID0gJCgnPGRpdiBpZD0iaHRtbF9mNGU3OTEyZGExYzk0YWY0OTMyYWM5MjI4MmE1N2RhNCIgc3R5bGU9IndpZHRoOiAxMDAuMCU7IGhlaWdodDogMTAwLjAlOyI+Y2x1c3RlciA9IDEzICYgbW9zdCB2aXNpdGVkIGNsdXN0ZXIgPSAxMyAmIGF2ZyB0cmlwdGltZSBmcm9tIHRoaXMgY2x1c3RlciA9MzY5LjA8L2Rpdj4nKVswXTsKICAgICAgICAgICAgICAgIHBvcHVwXzE2MWQ3OWU4YWYzNDRhNmU5MTI2ZDI5MDM3NzZhNzgxLnNldENvbnRlbnQoaHRtbF9mNGU3OTEyZGExYzk0YWY0OTMyYWM5MjI4MmE1N2RhNCk7CiAgICAgICAgICAgIAoKICAgICAgICAgICAgY2lyY2xlX21hcmtlcl83MjYwZTZkNTZkNDk0YTQ2OTdjOTgzMzZlZTY2YTA2MS5iaW5kUG9wdXAocG9wdXBfMTYxZDc5ZThhZjM0NGE2ZTkxMjZkMjkwMzc3NmE3ODEpOwoKICAgICAgICAgICAgCiAgICAgICAgCiAgICAKCiAgICAgICAgICAgIHZhciBtYXJrZXJfZTA5MGI0ZjE5NGRkNGRiOGI0NmIxMmRlOGNkZjY3YTcgPSBMLm1hcmtlcigKICAgICAgICAgICAgICAgIFszNy44NTEwNTEzMzA2LC02MS4zMzU1MjkzMjc0XSwKICAgICAgICAgICAgICAgIHsKICAgICAgICAgICAgICAgICAgICBpY29uOiBuZXcgTC5JY29uLkRlZmF1bHQoKQogICAgICAgICAgICAgICAgICAgIH0KICAgICAgICAgICAgICAgICkKICAgICAgICAgICAgICAgIC5hZGRUbyhtYXBfNzI3OThiNmE2OThkNDFmMjhhMzdlNjJkYzFmYTMwODApOwogICAgICAgICAgICAKICAgIAogICAgICAgICAgICB2YXIgcG9wdXBfMWJjNjM1MjI2ZDU3NGE0YmFjNzZjNDVhN2U0YmU3MzkgPSBMLnBvcHVwKHttYXhXaWR0aDogJzMwMCd9KTsKCiAgICAgICAgICAgIAogICAgICAgICAgICAgICAgdmFyIGh0bWxfMDRjMjdlYWNkNzBmNGFkMzkwYzM4MzM5ZTEzMjY3Y2UgPSAkKCc8ZGl2IGlkPSJodG1sXzA0YzI3ZWFjZDcwZjRhZDM5MGMzODMzOWUxMzI2N2NlIiBzdHlsZT0id2lkdGg6IDEwMC4wJTsgaGVpZ2h0OiAxMDAuMCU7Ij5jbHVzdGVyID0gMTMgJiBtb3N0IHZpc2l0ZWQgY2x1c3RlciA9IDEzICYgYXZnIHRyaXB0aW1lIGZyb20gdGhpcyBjbHVzdGVyID0zNjkuMDwvZGl2PicpWzBdOwogICAgICAgICAgICAgICAgcG9wdXBfMWJjNjM1MjI2ZDU3NGE0YmFjNzZjNDVhN2U0YmU3Mzkuc2V0Q29udGVudChodG1sXzA0YzI3ZWFjZDcwZjRhZDM5MGMzODMzOWUxMzI2N2NlKTsKICAgICAgICAgICAgCgogICAgICAgICAgICBtYXJrZXJfZTA5MGI0ZjE5NGRkNGRiOGI0NmIxMmRlOGNkZjY3YTcuYmluZFBvcHVwKHBvcHVwXzFiYzYzNTIyNmQ1NzRhNGJhYzc2YzQ1YTdlNGJlNzM5KTsKCiAgICAgICAgICAgIAogICAgICAgIAogICAgCiAgICAgICAgICAgIHZhciBjaXJjbGVfbWFya2VyXzk5ZmI5OWMwZmQxYjQxZGM4Mjc5OTY1NDBhMWZlZmU4ID0gTC5jaXJjbGVNYXJrZXIoCiAgICAgICAgICAgICAgICBbNDAuNzc4MzU5MDM3LC03My45ODAwMjExMjc2XSwKICAgICAgICAgICAgICAgIHsKICAiYnViYmxpbmdNb3VzZUV2ZW50cyI6IHRydWUsCiAgImNvbG9yIjogIiNGMDgwODAiLAogICJkYXNoQXJyYXkiOiBudWxsLAogICJkYXNoT2Zmc2V0IjogbnVsbCwKICAiZmlsbCI6IGZhbHNlLAogICJmaWxsQ29sb3IiOiAiIzMxODZjYyIsCiAgImZpbGxPcGFjaXR5IjogMC4yLAogICJmaWxsUnVsZSI6ICJldmVub2RkIiwKICAibGluZUNhcCI6ICJyb3VuZCIsCiAgImxpbmVKb2luIjogInJvdW5kIiwKICAib3BhY2l0eSI6IDEuMCwKICAicmFkaXVzIjogMjUsCiAgInN0cm9rZSI6IHRydWUsCiAgIndlaWdodCI6IDMKfQogICAgICAgICAgICAgICAgKS5hZGRUbyhtYXBfNzI3OThiNmE2OThkNDFmMjhhMzdlNjJkYzFmYTMwODApOwogICAgICAgICAgICAKICAgIAogICAgICAgICAgICB2YXIgcG9wdXBfNzE4NjAzZjE1ZTRhNDQxNDlkZGVmMDk1OTcyMmZkZGEgPSBMLnBvcHVwKHttYXhXaWR0aDogJzMwMCd9KTsKCiAgICAgICAgICAgIAogICAgICAgICAgICAgICAgdmFyIGh0bWxfN2E1NGRhMzIzZTliNDg5Yzg4MjZlZDkyNmQzMzJkOWQgPSAkKCc8ZGl2IGlkPSJodG1sXzdhNTRkYTMyM2U5YjQ4OWM4ODI2ZWQ5MjZkMzMyZDlkIiBzdHlsZT0id2lkdGg6IDEwMC4wJTsgaGVpZ2h0OiAxMDAuMCU7Ij5jbHVzdGVyID0gMTQgJiBtb3N0IHZpc2l0ZWQgY2x1c3RlciA9IDE0ICYgYXZnIHRyaXB0aW1lIGZyb20gdGhpcyBjbHVzdGVyID04MTkuODA2NDg1Mjk5PC9kaXY+JylbMF07CiAgICAgICAgICAgICAgICBwb3B1cF83MTg2MDNmMTVlNGE0NDE0OWRkZWYwOTU5NzIyZmRkYS5zZXRDb250ZW50KGh0bWxfN2E1NGRhMzIzZTliNDg5Yzg4MjZlZDkyNmQzMzJkOWQpOwogICAgICAgICAgICAKCiAgICAgICAgICAgIGNpcmNsZV9tYXJrZXJfOTlmYjk5YzBmZDFiNDFkYzgyNzk5NjU0MGExZmVmZTguYmluZFBvcHVwKHBvcHVwXzcxODYwM2YxNWU0YTQ0MTQ5ZGRlZjA5NTk3MjJmZGRhKTsKCiAgICAgICAgICAgIAogICAgICAgIAogICAgCgogICAgICAgICAgICB2YXIgbWFya2VyXzc4YWUxYWRlNjI5ODQ0MTE5N2E2NjU1NjA3YjYyZjc5ID0gTC5tYXJrZXIoCiAgICAgICAgICAgICAgICBbNDAuNzc4MzU5MDM3LC03My45ODAwMjExMjc2XSwKICAgICAgICAgICAgICAgIHsKICAgICAgICAgICAgICAgICAgICBpY29uOiBuZXcgTC5JY29uLkRlZmF1bHQoKQogICAgICAgICAgICAgICAgICAgIH0KICAgICAgICAgICAgICAgICkKICAgICAgICAgICAgICAgIC5hZGRUbyhtYXBfNzI3OThiNmE2OThkNDFmMjhhMzdlNjJkYzFmYTMwODApOwogICAgICAgICAgICAKICAgIAogICAgICAgICAgICB2YXIgcG9wdXBfMWRiYWM0OWMxMDI4NGJiMWExMzhkMTc1NzVkYTJiZWQgPSBMLnBvcHVwKHttYXhXaWR0aDogJzMwMCd9KTsKCiAgICAgICAgICAgIAogICAgICAgICAgICAgICAgdmFyIGh0bWxfNzYyMGE2ZjVlNWE0NDNmZmI4NTE3ZDJhNDA2YjZmMTcgPSAkKCc8ZGl2IGlkPSJodG1sXzc2MjBhNmY1ZTVhNDQzZmZiODUxN2QyYTQwNmI2ZjE3IiBzdHlsZT0id2lkdGg6IDEwMC4wJTsgaGVpZ2h0OiAxMDAuMCU7Ij5jbHVzdGVyID0gMTQgJiBtb3N0IHZpc2l0ZWQgY2x1c3RlciA9IDE0ICYgYXZnIHRyaXB0aW1lIGZyb20gdGhpcyBjbHVzdGVyID04MTkuODA2NDg1Mjk5PC9kaXY+JylbMF07CiAgICAgICAgICAgICAgICBwb3B1cF8xZGJhYzQ5YzEwMjg0YmIxYTEzOGQxNzU3NWRhMmJlZC5zZXRDb250ZW50KGh0bWxfNzYyMGE2ZjVlNWE0NDNmZmI4NTE3ZDJhNDA2YjZmMTcpOwogICAgICAgICAgICAKCiAgICAgICAgICAgIG1hcmtlcl83OGFlMWFkZTYyOTg0NDExOTdhNjY1NTYwN2I2MmY3OS5iaW5kUG9wdXAocG9wdXBfMWRiYWM0OWMxMDI4NGJiMWExMzhkMTc1NzVkYTJiZWQpOwoKICAgICAgICAgICAgCiAgICAgICAgCiAgICAKICAgICAgICAgICAgdmFyIGNpcmNsZV9tYXJrZXJfNzYwNDg0MjFmMjdmNDhkNWFjMGJkYWY3ZmI5NjJhMGQgPSBMLmNpcmNsZU1hcmtlcigKICAgICAgICAgICAgICAgIFs0My4yMDI5NjQwMTk4LC03Mi4wMDYyNjUyNTg4XSwKICAgICAgICAgICAgICAgIHsKICAiYnViYmxpbmdNb3VzZUV2ZW50cyI6IHRydWUsCiAgImNvbG9yIjogIiNGMDgwODAiLAogICJkYXNoQXJyYXkiOiBudWxsLAogICJkYXNoT2Zmc2V0IjogbnVsbCwKICAiZmlsbCI6IGZhbHNlLAogICJmaWxsQ29sb3IiOiAiIzMxODZjYyIsCiAgImZpbGxPcGFjaXR5IjogMC4yLAogICJmaWxsUnVsZSI6ICJldmVub2RkIiwKICAibGluZUNhcCI6ICJyb3VuZCIsCiAgImxpbmVKb2luIjogInJvdW5kIiwKICAib3BhY2l0eSI6IDEuMCwKICAicmFkaXVzIjogMjUsCiAgInN0cm9rZSI6IHRydWUsCiAgIndlaWdodCI6IDMKfQogICAgICAgICAgICAgICAgKS5hZGRUbyhtYXBfNzI3OThiNmE2OThkNDFmMjhhMzdlNjJkYzFmYTMwODApOwogICAgICAgICAgICAKICAgIAogICAgICAgICAgICB2YXIgcG9wdXBfMWY1YTgxYWJkZjU5NDYzNGJjYjVlODMzZmU0NTkzYzMgPSBMLnBvcHVwKHttYXhXaWR0aDogJzMwMCd9KTsKCiAgICAgICAgICAgIAogICAgICAgICAgICAgICAgdmFyIGh0bWxfYWM3NWM2MTRiYjczNDE3Zjg0YjhhZDBhMzI0NDczNWYgPSAkKCc8ZGl2IGlkPSJodG1sX2FjNzVjNjE0YmI3MzQxN2Y4NGI4YWQwYTMyNDQ3MzVmIiBzdHlsZT0id2lkdGg6IDEwMC4wJTsgaGVpZ2h0OiAxMDAuMCU7Ij5jbHVzdGVyID0gMTUgJiBtb3N0IHZpc2l0ZWQgY2x1c3RlciA9IDE1ICYgYXZnIHRyaXB0aW1lIGZyb20gdGhpcyBjbHVzdGVyID03NjMuMDwvZGl2PicpWzBdOwogICAgICAgICAgICAgICAgcG9wdXBfMWY1YTgxYWJkZjU5NDYzNGJjYjVlODMzZmU0NTkzYzMuc2V0Q29udGVudChodG1sX2FjNzVjNjE0YmI3MzQxN2Y4NGI4YWQwYTMyNDQ3MzVmKTsKICAgICAgICAgICAgCgogICAgICAgICAgICBjaXJjbGVfbWFya2VyXzc2MDQ4NDIxZjI3ZjQ4ZDVhYzBiZGFmN2ZiOTYyYTBkLmJpbmRQb3B1cChwb3B1cF8xZjVhODFhYmRmNTk0NjM0YmNiNWU4MzNmZTQ1OTNjMyk7CgogICAgICAgICAgICAKICAgICAgICAKICAgIAoKICAgICAgICAgICAgdmFyIG1hcmtlcl9jYzQyMGQxMzM1MjM0Nzk3YjNkZGUzOGFjMTczOTIxOCA9IEwubWFya2VyKAogICAgICAgICAgICAgICAgWzQzLjIwMjk2NDAxOTgsLTcyLjAwNjI2NTI1ODhdLAogICAgICAgICAgICAgICAgewogICAgICAgICAgICAgICAgICAgIGljb246IG5ldyBMLkljb24uRGVmYXVsdCgpCiAgICAgICAgICAgICAgICAgICAgfQogICAgICAgICAgICAgICAgKQogICAgICAgICAgICAgICAgLmFkZFRvKG1hcF83Mjc5OGI2YTY5OGQ0MWYyOGEzN2U2MmRjMWZhMzA4MCk7CiAgICAgICAgICAgIAogICAgCiAgICAgICAgICAgIHZhciBwb3B1cF8wY2QxY2U1OThiZDk0Nzc0ODU1MWU4NTAzZDM0OGQ2MiA9IEwucG9wdXAoe21heFdpZHRoOiAnMzAwJ30pOwoKICAgICAgICAgICAgCiAgICAgICAgICAgICAgICB2YXIgaHRtbF9lMGJlZWRhNjgxMzQ0ZDZlOTIzNTcxOWE3YjMzZTQ3OSA9ICQoJzxkaXYgaWQ9Imh0bWxfZTBiZWVkYTY4MTM0NGQ2ZTkyMzU3MTlhN2IzM2U0NzkiIHN0eWxlPSJ3aWR0aDogMTAwLjAlOyBoZWlnaHQ6IDEwMC4wJTsiPmNsdXN0ZXIgPSAxNSAmIG1vc3QgdmlzaXRlZCBjbHVzdGVyID0gMTUgJiBhdmcgdHJpcHRpbWUgZnJvbSB0aGlzIGNsdXN0ZXIgPTc2My4wPC9kaXY+JylbMF07CiAgICAgICAgICAgICAgICBwb3B1cF8wY2QxY2U1OThiZDk0Nzc0ODU1MWU4NTAzZDM0OGQ2Mi5zZXRDb250ZW50KGh0bWxfZTBiZWVkYTY4MTM0NGQ2ZTkyMzU3MTlhN2IzM2U0NzkpOwogICAgICAgICAgICAKCiAgICAgICAgICAgIG1hcmtlcl9jYzQyMGQxMzM1MjM0Nzk3YjNkZGUzOGFjMTczOTIxOC5iaW5kUG9wdXAocG9wdXBfMGNkMWNlNTk4YmQ5NDc3NDg1NTFlODUwM2QzNDhkNjIpOwoKICAgICAgICAgICAgCiAgICAgICAgCiAgICAKICAgICAgICAgICAgdmFyIGNpcmNsZV9tYXJrZXJfODJkNTc1ZTljNmVjNGZkMTgwMmNmNTdjZGU1NTMxY2MgPSBMLmNpcmNsZU1hcmtlcigKICAgICAgICAgICAgICAgIFszNS4wMzQ2OTA4NTY5LC03My4wNzYxODcxMzM4XSwKICAgICAgICAgICAgICAgIHsKICAiYnViYmxpbmdNb3VzZUV2ZW50cyI6IHRydWUsCiAgImNvbG9yIjogIiNGMDgwODAiLAogICJkYXNoQXJyYXkiOiBudWxsLAogICJkYXNoT2Zmc2V0IjogbnVsbCwKICAiZmlsbCI6IGZhbHNlLAogICJmaWxsQ29sb3IiOiAiIzMxODZjYyIsCiAgImZpbGxPcGFjaXR5IjogMC4yLAogICJmaWxsUnVsZSI6ICJldmVub2RkIiwKICAibGluZUNhcCI6ICJyb3VuZCIsCiAgImxpbmVKb2luIjogInJvdW5kIiwKICAib3BhY2l0eSI6IDEuMCwKICAicmFkaXVzIjogMjUsCiAgInN0cm9rZSI6IHRydWUsCiAgIndlaWdodCI6IDMKfQogICAgICAgICAgICAgICAgKS5hZGRUbyhtYXBfNzI3OThiNmE2OThkNDFmMjhhMzdlNjJkYzFmYTMwODApOwogICAgICAgICAgICAKICAgIAogICAgICAgICAgICB2YXIgcG9wdXBfZDNlMzdjNmU0Y2E2NDE5YmEzNmIyM2ZiZjAxZjQ5ZWIgPSBMLnBvcHVwKHttYXhXaWR0aDogJzMwMCd9KTsKCiAgICAgICAgICAgIAogICAgICAgICAgICAgICAgdmFyIGh0bWxfNWIxMTdjNTEyMDk2NDJkMWE1MTNmMDZmNWNkZjc3MWIgPSAkKCc8ZGl2IGlkPSJodG1sXzViMTE3YzUxMjA5NjQyZDFhNTEzZjA2ZjVjZGY3NzFiIiBzdHlsZT0id2lkdGg6IDEwMC4wJTsgaGVpZ2h0OiAxMDAuMCU7Ij5jbHVzdGVyID0gMTYgJiBtb3N0IHZpc2l0ZWQgY2x1c3RlciA9IDE2ICYgYXZnIHRyaXB0aW1lIGZyb20gdGhpcyBjbHVzdGVyID02MDEuMDwvZGl2PicpWzBdOwogICAgICAgICAgICAgICAgcG9wdXBfZDNlMzdjNmU0Y2E2NDE5YmEzNmIyM2ZiZjAxZjQ5ZWIuc2V0Q29udGVudChodG1sXzViMTE3YzUxMjA5NjQyZDFhNTEzZjA2ZjVjZGY3NzFiKTsKICAgICAgICAgICAgCgogICAgICAgICAgICBjaXJjbGVfbWFya2VyXzgyZDU3NWU5YzZlYzRmZDE4MDJjZjU3Y2RlNTUzMWNjLmJpbmRQb3B1cChwb3B1cF9kM2UzN2M2ZTRjYTY0MTliYTM2YjIzZmJmMDFmNDllYik7CgogICAgICAgICAgICAKICAgICAgICAKICAgIAoKICAgICAgICAgICAgdmFyIG1hcmtlcl82ZmJkODI3YWJhOWU0NDcyYTlkODUzMDQxZmExZDcyMyA9IEwubWFya2VyKAogICAgICAgICAgICAgICAgWzM1LjAzNDY5MDg1NjksLTczLjA3NjE4NzEzMzhdLAogICAgICAgICAgICAgICAgewogICAgICAgICAgICAgICAgICAgIGljb246IG5ldyBMLkljb24uRGVmYXVsdCgpCiAgICAgICAgICAgICAgICAgICAgfQogICAgICAgICAgICAgICAgKQogICAgICAgICAgICAgICAgLmFkZFRvKG1hcF83Mjc5OGI2YTY5OGQ0MWYyOGEzN2U2MmRjMWZhMzA4MCk7CiAgICAgICAgICAgIAogICAgCiAgICAgICAgICAgIHZhciBwb3B1cF9jNDNlZmJiYWVmOWE0NGFkOTQ0ZTQxNDk3MWY4NjYyNyA9IEwucG9wdXAoe21heFdpZHRoOiAnMzAwJ30pOwoKICAgICAgICAgICAgCiAgICAgICAgICAgICAgICB2YXIgaHRtbF82Zjg1ZjU3NzRkNDg0Y2Y1YWY2MzQyOGIzZWI4YzcwNiA9ICQoJzxkaXYgaWQ9Imh0bWxfNmY4NWY1Nzc0ZDQ4NGNmNWFmNjM0MjhiM2ViOGM3MDYiIHN0eWxlPSJ3aWR0aDogMTAwLjAlOyBoZWlnaHQ6IDEwMC4wJTsiPmNsdXN0ZXIgPSAxNiAmIG1vc3QgdmlzaXRlZCBjbHVzdGVyID0gMTYgJiBhdmcgdHJpcHRpbWUgZnJvbSB0aGlzIGNsdXN0ZXIgPTYwMS4wPC9kaXY+JylbMF07CiAgICAgICAgICAgICAgICBwb3B1cF9jNDNlZmJiYWVmOWE0NGFkOTQ0ZTQxNDk3MWY4NjYyNy5zZXRDb250ZW50KGh0bWxfNmY4NWY1Nzc0ZDQ4NGNmNWFmNjM0MjhiM2ViOGM3MDYpOwogICAgICAgICAgICAKCiAgICAgICAgICAgIG1hcmtlcl82ZmJkODI3YWJhOWU0NDcyYTlkODUzMDQxZmExZDcyMy5iaW5kUG9wdXAocG9wdXBfYzQzZWZiYmFlZjlhNDRhZDk0NGU0MTQ5NzFmODY2MjcpOwoKICAgICAgICAgICAgCiAgICAgICAgCiAgICAKICAgICAgICAgICAgdmFyIGNpcmNsZV9tYXJrZXJfMTVhZjFkM2E2ZDMxNDJlNzljY2M4YTI5MTljMDljZTEgPSBMLmNpcmNsZU1hcmtlcigKICAgICAgICAgICAgICAgIFs0MC44MDMxNzA4NzQyLC03My45NTc1ODM5MzAzXSwKICAgICAgICAgICAgICAgIHsKICAiYnViYmxpbmdNb3VzZUV2ZW50cyI6IHRydWUsCiAgImNvbG9yIjogIiNGMDgwODAiLAogICJkYXNoQXJyYXkiOiBudWxsLAogICJkYXNoT2Zmc2V0IjogbnVsbCwKICAiZmlsbCI6IGZhbHNlLAogICJmaWxsQ29sb3IiOiAiIzMxODZjYyIsCiAgImZpbGxPcGFjaXR5IjogMC4yLAogICJmaWxsUnVsZSI6ICJldmVub2RkIiwKICAibGluZUNhcCI6ICJyb3VuZCIsCiAgImxpbmVKb2luIjogInJvdW5kIiwKICAib3BhY2l0eSI6IDEuMCwKICAicmFkaXVzIjogMjUsCiAgInN0cm9rZSI6IHRydWUsCiAgIndlaWdodCI6IDMKfQogICAgICAgICAgICAgICAgKS5hZGRUbyhtYXBfNzI3OThiNmE2OThkNDFmMjhhMzdlNjJkYzFmYTMwODApOwogICAgICAgICAgICAKICAgIAogICAgICAgICAgICB2YXIgcG9wdXBfOTgxNDYwNGMyY2JhNDc5MWI4YmRmMGRlZDUxYzBjNjAgPSBMLnBvcHVwKHttYXhXaWR0aDogJzMwMCd9KTsKCiAgICAgICAgICAgIAogICAgICAgICAgICAgICAgdmFyIGh0bWxfOWMyNTdkZjE3NzkwNDNhOGE5MWFkYTQ4MTk4Nzk0NWIgPSAkKCc8ZGl2IGlkPSJodG1sXzljMjU3ZGYxNzc5MDQzYThhOTFhZGE0ODE5ODc5NDViIiBzdHlsZT0id2lkdGg6IDEwMC4wJTsgaGVpZ2h0OiAxMDAuMCU7Ij5jbHVzdGVyID0gMTcgJiBtb3N0IHZpc2l0ZWQgY2x1c3RlciA9IDE3ICYgYXZnIHRyaXB0aW1lIGZyb20gdGhpcyBjbHVzdGVyID04MzcuNjIxMjQ3MTUzPC9kaXY+JylbMF07CiAgICAgICAgICAgICAgICBwb3B1cF85ODE0NjA0YzJjYmE0NzkxYjhiZGYwZGVkNTFjMGM2MC5zZXRDb250ZW50KGh0bWxfOWMyNTdkZjE3NzkwNDNhOGE5MWFkYTQ4MTk4Nzk0NWIpOwogICAgICAgICAgICAKCiAgICAgICAgICAgIGNpcmNsZV9tYXJrZXJfMTVhZjFkM2E2ZDMxNDJlNzljY2M4YTI5MTljMDljZTEuYmluZFBvcHVwKHBvcHVwXzk4MTQ2MDRjMmNiYTQ3OTFiOGJkZjBkZWQ1MWMwYzYwKTsKCiAgICAgICAgICAgIAogICAgICAgIAogICAgCgogICAgICAgICAgICB2YXIgbWFya2VyX2Q0Nzk5NTUxNjJjZTQ5Yzc4N2YyZTA5YmQ3M2VjMmNkID0gTC5tYXJrZXIoCiAgICAgICAgICAgICAgICBbNDAuODAzMTcwODc0MiwtNzMuOTU3NTgzOTMwM10sCiAgICAgICAgICAgICAgICB7CiAgICAgICAgICAgICAgICAgICAgaWNvbjogbmV3IEwuSWNvbi5EZWZhdWx0KCkKICAgICAgICAgICAgICAgICAgICB9CiAgICAgICAgICAgICAgICApCiAgICAgICAgICAgICAgICAuYWRkVG8obWFwXzcyNzk4YjZhNjk4ZDQxZjI4YTM3ZTYyZGMxZmEzMDgwKTsKICAgICAgICAgICAgCiAgICAKICAgICAgICAgICAgdmFyIHBvcHVwX2ExNDg3NzgwMjNlOTQ4YTFiYjZiNDg4ZDRiMDZhNTNiID0gTC5wb3B1cCh7bWF4V2lkdGg6ICczMDAnfSk7CgogICAgICAgICAgICAKICAgICAgICAgICAgICAgIHZhciBodG1sXzRhZjQ2YzNhNmZiMDQ3NDg5YzE0MDVhZDVjZTk3OWFhID0gJCgnPGRpdiBpZD0iaHRtbF80YWY0NmMzYTZmYjA0NzQ4OWMxNDA1YWQ1Y2U5NzlhYSIgc3R5bGU9IndpZHRoOiAxMDAuMCU7IGhlaWdodDogMTAwLjAlOyI+Y2x1c3RlciA9IDE3ICYgbW9zdCB2aXNpdGVkIGNsdXN0ZXIgPSAxNyAmIGF2ZyB0cmlwdGltZSBmcm9tIHRoaXMgY2x1c3RlciA9ODM3LjYyMTI0NzE1MzwvZGl2PicpWzBdOwogICAgICAgICAgICAgICAgcG9wdXBfYTE0ODc3ODAyM2U5NDhhMWJiNmI0ODhkNGIwNmE1M2Iuc2V0Q29udGVudChodG1sXzRhZjQ2YzNhNmZiMDQ3NDg5YzE0MDVhZDVjZTk3OWFhKTsKICAgICAgICAgICAgCgogICAgICAgICAgICBtYXJrZXJfZDQ3OTk1NTE2MmNlNDljNzg3ZjJlMDliZDczZWMyY2QuYmluZFBvcHVwKHBvcHVwX2ExNDg3NzgwMjNlOTQ4YTFiYjZiNDg4ZDRiMDZhNTNiKTsKCiAgICAgICAgICAgIAogICAgICAgIAogICAgCiAgICAgICAgICAgIHZhciBjaXJjbGVfbWFya2VyX2ZmZDg4YmJkNDhkMzQxYmY4M2E3MWZkZjUwNDVmYTJiID0gTC5jaXJjbGVNYXJrZXIoCiAgICAgICAgICAgICAgICBbNDEuMDQ3NTIwOTU1NCwtNzkuMjAxNjc3OTU4Ml0sCiAgICAgICAgICAgICAgICB7CiAgImJ1YmJsaW5nTW91c2VFdmVudHMiOiB0cnVlLAogICJjb2xvciI6ICIjRjA4MDgwIiwKICAiZGFzaEFycmF5IjogbnVsbCwKICAiZGFzaE9mZnNldCI6IG51bGwsCiAgImZpbGwiOiBmYWxzZSwKICAiZmlsbENvbG9yIjogIiMzMTg2Y2MiLAogICJmaWxsT3BhY2l0eSI6IDAuMiwKICAiZmlsbFJ1bGUiOiAiZXZlbm9kZCIsCiAgImxpbmVDYXAiOiAicm91bmQiLAogICJsaW5lSm9pbiI6ICJyb3VuZCIsCiAgIm9wYWNpdHkiOiAxLjAsCiAgInJhZGl1cyI6IDI1LAogICJzdHJva2UiOiB0cnVlLAogICJ3ZWlnaHQiOiAzCn0KICAgICAgICAgICAgICAgICkuYWRkVG8obWFwXzcyNzk4YjZhNjk4ZDQxZjI4YTM3ZTYyZGMxZmEzMDgwKTsKICAgICAgICAgICAgCiAgICAKICAgICAgICAgICAgdmFyIHBvcHVwXzEwYzRhNjZlMjgyNDQ0NWFhMWQ2N2E2YzYyZjgzZjY0ID0gTC5wb3B1cCh7bWF4V2lkdGg6ICczMDAnfSk7CgogICAgICAgICAgICAKICAgICAgICAgICAgICAgIHZhciBodG1sXzE4MDY4NDljNGFiZTRiYjA5ODY2OGQ1MjljY2NjOTU0ID0gJCgnPGRpdiBpZD0iaHRtbF8xODA2ODQ5YzRhYmU0YmIwOTg2NjhkNTI5Y2NjYzk1NCIgc3R5bGU9IndpZHRoOiAxMDAuMCU7IGhlaWdodDogMTAwLjAlOyI+Y2x1c3RlciA9IDE4ICYgbW9zdCB2aXNpdGVkIGNsdXN0ZXIgPSAxOCAmIGF2ZyB0cmlwdGltZSBmcm9tIHRoaXMgY2x1c3RlciA9NDI0LjA8L2Rpdj4nKVswXTsKICAgICAgICAgICAgICAgIHBvcHVwXzEwYzRhNjZlMjgyNDQ0NWFhMWQ2N2E2YzYyZjgzZjY0LnNldENvbnRlbnQoaHRtbF8xODA2ODQ5YzRhYmU0YmIwOTg2NjhkNTI5Y2NjYzk1NCk7CiAgICAgICAgICAgIAoKICAgICAgICAgICAgY2lyY2xlX21hcmtlcl9mZmQ4OGJiZDQ4ZDM0MWJmODNhNzFmZGY1MDQ1ZmEyYi5iaW5kUG9wdXAocG9wdXBfMTBjNGE2NmUyODI0NDQ1YWExZDY3YTZjNjJmODNmNjQpOwoKICAgICAgICAgICAgCiAgICAgICAgCiAgICAKCiAgICAgICAgICAgIHZhciBtYXJrZXJfNTE4YWFlOGZhZTNjNGQxYzgwMjRjZWRlN2U1NzU0ODggPSBMLm1hcmtlcigKICAgICAgICAgICAgICAgIFs0MS4wNDc1MjA5NTU0LC03OS4yMDE2Nzc5NTgyXSwKICAgICAgICAgICAgICAgIHsKICAgICAgICAgICAgICAgICAgICBpY29uOiBuZXcgTC5JY29uLkRlZmF1bHQoKQogICAgICAgICAgICAgICAgICAgIH0KICAgICAgICAgICAgICAgICkKICAgICAgICAgICAgICAgIC5hZGRUbyhtYXBfNzI3OThiNmE2OThkNDFmMjhhMzdlNjJkYzFmYTMwODApOwogICAgICAgICAgICAKICAgIAogICAgICAgICAgICB2YXIgcG9wdXBfYzM2YTM4ZWRhNGYyNDkzMGE2MjljZWRhNDk5Nzk5NGQgPSBMLnBvcHVwKHttYXhXaWR0aDogJzMwMCd9KTsKCiAgICAgICAgICAgIAogICAgICAgICAgICAgICAgdmFyIGh0bWxfYjRiMzU5ZTY3NjZjNGQwYWI5ZGZmODdlZmU3NjdiNmMgPSAkKCc8ZGl2IGlkPSJodG1sX2I0YjM1OWU2NzY2YzRkMGFiOWRmZjg3ZWZlNzY3YjZjIiBzdHlsZT0id2lkdGg6IDEwMC4wJTsgaGVpZ2h0OiAxMDAuMCU7Ij5jbHVzdGVyID0gMTggJiBtb3N0IHZpc2l0ZWQgY2x1c3RlciA9IDE4ICYgYXZnIHRyaXB0aW1lIGZyb20gdGhpcyBjbHVzdGVyID00MjQuMDwvZGl2PicpWzBdOwogICAgICAgICAgICAgICAgcG9wdXBfYzM2YTM4ZWRhNGYyNDkzMGE2MjljZWRhNDk5Nzk5NGQuc2V0Q29udGVudChodG1sX2I0YjM1OWU2NzY2YzRkMGFiOWRmZjg3ZWZlNzY3YjZjKTsKICAgICAgICAgICAgCgogICAgICAgICAgICBtYXJrZXJfNTE4YWFlOGZhZTNjNGQxYzgwMjRjZWRlN2U1NzU0ODguYmluZFBvcHVwKHBvcHVwX2MzNmEzOGVkYTRmMjQ5MzBhNjI5Y2VkYTQ5OTc5OTRkKTsKCiAgICAgICAgICAgIAogICAgICAgIAogICAgCiAgICAgICAgICAgIHZhciBjaXJjbGVfbWFya2VyXzgzY2ZlNzNkMGVjNzRjMWZhYThkMTFhNDBhNzM5OThhID0gTC5jaXJjbGVNYXJrZXIoCiAgICAgICAgICAgICAgICBbNDAuNzM4NjU4ODgwMywtNzQuMDAxMDcwNjQ0NV0sCiAgICAgICAgICAgICAgICB7CiAgImJ1YmJsaW5nTW91c2VFdmVudHMiOiB0cnVlLAogICJjb2xvciI6ICIjRjA4MDgwIiwKICAiZGFzaEFycmF5IjogbnVsbCwKICAiZGFzaE9mZnNldCI6IG51bGwsCiAgImZpbGwiOiBmYWxzZSwKICAiZmlsbENvbG9yIjogIiMzMTg2Y2MiLAogICJmaWxsT3BhY2l0eSI6IDAuMiwKICAiZmlsbFJ1bGUiOiAiZXZlbm9kZCIsCiAgImxpbmVDYXAiOiAicm91bmQiLAogICJsaW5lSm9pbiI6ICJyb3VuZCIsCiAgIm9wYWNpdHkiOiAxLjAsCiAgInJhZGl1cyI6IDI1LAogICJzdHJva2UiOiB0cnVlLAogICJ3ZWlnaHQiOiAzCn0KICAgICAgICAgICAgICAgICkuYWRkVG8obWFwXzcyNzk4YjZhNjk4ZDQxZjI4YTM3ZTYyZGMxZmEzMDgwKTsKICAgICAgICAgICAgCiAgICAKICAgICAgICAgICAgdmFyIHBvcHVwXzliNDJmNmEyNmIzNTRlZGViODNiNjMzMzIxY2VjMzJjID0gTC5wb3B1cCh7bWF4V2lkdGg6ICczMDAnfSk7CgogICAgICAgICAgICAKICAgICAgICAgICAgICAgIHZhciBodG1sXzc1OWZkMjNkYzc3ZDQ1YTBiNDRlZGI1MDk1ZmZjYTBiID0gJCgnPGRpdiBpZD0iaHRtbF83NTlmZDIzZGM3N2Q0NWEwYjQ0ZWRiNTA5NWZmY2EwYiIgc3R5bGU9IndpZHRoOiAxMDAuMCU7IGhlaWdodDogMTAwLjAlOyI+Y2x1c3RlciA9IDE5ICYgbW9zdCB2aXNpdGVkIGNsdXN0ZXIgPSA3ICYgYXZnIHRyaXB0aW1lIGZyb20gdGhpcyBjbHVzdGVyID04OTQuODE3NjQyNTk2PC9kaXY+JylbMF07CiAgICAgICAgICAgICAgICBwb3B1cF85YjQyZjZhMjZiMzU0ZWRlYjgzYjYzMzMyMWNlYzMyYy5zZXRDb250ZW50KGh0bWxfNzU5ZmQyM2RjNzdkNDVhMGI0NGVkYjUwOTVmZmNhMGIpOwogICAgICAgICAgICAKCiAgICAgICAgICAgIGNpcmNsZV9tYXJrZXJfODNjZmU3M2QwZWM3NGMxZmFhOGQxMWE0MGE3Mzk5OGEuYmluZFBvcHVwKHBvcHVwXzliNDJmNmEyNmIzNTRlZGViODNiNjMzMzIxY2VjMzJjKTsKCiAgICAgICAgICAgIAogICAgICAgIAogICAgCgogICAgICAgICAgICB2YXIgbWFya2VyX2M3MGYyZTMxNjJiNjQ1OGU5YTBlMWI1OWZlYjJlNjRmID0gTC5tYXJrZXIoCiAgICAgICAgICAgICAgICBbNDAuNzM4NjU4ODgwMywtNzQuMDAxMDcwNjQ0NV0sCiAgICAgICAgICAgICAgICB7CiAgICAgICAgICAgICAgICAgICAgaWNvbjogbmV3IEwuSWNvbi5EZWZhdWx0KCkKICAgICAgICAgICAgICAgICAgICB9CiAgICAgICAgICAgICAgICApCiAgICAgICAgICAgICAgICAuYWRkVG8obWFwXzcyNzk4YjZhNjk4ZDQxZjI4YTM3ZTYyZGMxZmEzMDgwKTsKICAgICAgICAgICAgCiAgICAKICAgICAgICAgICAgdmFyIHBvcHVwXzcwYzZhZmI4ODMzYjQ1N2RhMzc1MWU4NGE4ZWUyYTYyID0gTC5wb3B1cCh7bWF4V2lkdGg6ICczMDAnfSk7CgogICAgICAgICAgICAKICAgICAgICAgICAgICAgIHZhciBodG1sX2UxZjc2ZTU1ZjNmZjQ1YThiZGJjMmRiYTJkZGU2MTliID0gJCgnPGRpdiBpZD0iaHRtbF9lMWY3NmU1NWYzZmY0NWE4YmRiYzJkYmEyZGRlNjE5YiIgc3R5bGU9IndpZHRoOiAxMDAuMCU7IGhlaWdodDogMTAwLjAlOyI+Y2x1c3RlciA9IDE5ICYgbW9zdCB2aXNpdGVkIGNsdXN0ZXIgPSA3ICYgYXZnIHRyaXB0aW1lIGZyb20gdGhpcyBjbHVzdGVyID04OTQuODE3NjQyNTk2PC9kaXY+JylbMF07CiAgICAgICAgICAgICAgICBwb3B1cF83MGM2YWZiODgzM2I0NTdkYTM3NTFlODRhOGVlMmE2Mi5zZXRDb250ZW50KGh0bWxfZTFmNzZlNTVmM2ZmNDVhOGJkYmMyZGJhMmRkZTYxOWIpOwogICAgICAgICAgICAKCiAgICAgICAgICAgIG1hcmtlcl9jNzBmMmUzMTYyYjY0NThlOWEwZTFiNTlmZWIyZTY0Zi5iaW5kUG9wdXAocG9wdXBfNzBjNmFmYjg4MzNiNDU3ZGEzNzUxZTg0YThlZTJhNjIpOwoKICAgICAgICAgICAgCiAgICAgICAgCjwvc2NyaXB0Pg==\" style=\"position:absolute;width:100%;height:100%;left:0;top:0;border:none !important;\" allowfullscreen webkitallowfullscreen mozallowfullscreen></iframe></div></div>"
      ],
      "text/plain": [
       "<folium.folium.Map at 0x19013375908>"
      ]
     },
     "execution_count": 70,
     "metadata": {},
     "output_type": "execute_result"
    }
   ],
   "source": [
    "clus_map = clusters_map(centroid_pickups, train_cl, sig =0, zoom =3.2, circle =1, tile = 'Stamen Terrain')\n",
    "clus_map"
   ]
  },
  {
   "cell_type": "markdown",
   "metadata": {},
   "source": [
    "## Findings:\n",
    "## Plots are interactive click on balloon as check out the characteristics of each cluster:\n",
    "## 1. Cluster number\n",
    "## 2. Most frequently visited cluster from clicked cluster\n",
    "## 3. Avg triptime of rides started from this cluster"
   ]
  },
  {
   "cell_type": "markdown",
   "metadata": {},
   "source": [
    "# Step 25: Predict by XGB model for validation & comparision:"
   ]
  },
  {
   "cell_type": "markdown",
   "metadata": {},
   "source": [
    "## 1. Extract same features for test dataset\n",
    "## 2. Train xgboost regressor to see how we are doing with prediction, how much predicting power out extracted features have. \n",
    "## 3. If it did not get high accuracy, extra features will be extracted.\n",
    "\n",
    "## The process:\n",
    "## 1. Extract same features-->2. Train xgboost regressor-->3. If not accurate-->4. Extract more features."
   ]
  },
  {
   "cell_type": "markdown",
   "metadata": {},
   "source": [
    "## Step 25.1: Extracting same features for Test data"
   ]
  },
  {
   "cell_type": "code",
   "execution_count": 71,
   "metadata": {
    "scrolled": true
   },
   "outputs": [
    {
     "data": {
      "text/html": [
       "<div>\n",
       "<style>\n",
       "    .dataframe thead tr:only-child th {\n",
       "        text-align: right;\n",
       "    }\n",
       "\n",
       "    .dataframe thead th {\n",
       "        text-align: left;\n",
       "    }\n",
       "\n",
       "    .dataframe tbody tr th {\n",
       "        vertical-align: top;\n",
       "    }\n",
       "</style>\n",
       "<table border=\"1\" class=\"dataframe\">\n",
       "  <thead>\n",
       "    <tr style=\"text-align: right;\">\n",
       "      <th></th>\n",
       "      <th>id</th>\n",
       "      <th>vendor_id</th>\n",
       "      <th>pickup_datetime</th>\n",
       "      <th>passenger_count</th>\n",
       "      <th>pickup_longitude</th>\n",
       "      <th>pickup_latitude</th>\n",
       "      <th>dropoff_longitude</th>\n",
       "      <th>dropoff_latitude</th>\n",
       "      <th>store_and_fwd_flag</th>\n",
       "      <th>total_distance</th>\n",
       "      <th>total_travel_time</th>\n",
       "      <th>number_of_steps</th>\n",
       "    </tr>\n",
       "  </thead>\n",
       "  <tbody>\n",
       "    <tr>\n",
       "      <th>0</th>\n",
       "      <td>id3004672</td>\n",
       "      <td>1</td>\n",
       "      <td>6/30/2016 23:59</td>\n",
       "      <td>1</td>\n",
       "      <td>-73.988129</td>\n",
       "      <td>40.732029</td>\n",
       "      <td>-73.990173</td>\n",
       "      <td>40.756680</td>\n",
       "      <td>N</td>\n",
       "      <td>3795.9</td>\n",
       "      <td>424.6</td>\n",
       "      <td>4</td>\n",
       "    </tr>\n",
       "    <tr>\n",
       "      <th>1</th>\n",
       "      <td>id3505355</td>\n",
       "      <td>1</td>\n",
       "      <td>6/30/2016 23:59</td>\n",
       "      <td>1</td>\n",
       "      <td>-73.964203</td>\n",
       "      <td>40.679993</td>\n",
       "      <td>-73.959808</td>\n",
       "      <td>40.655403</td>\n",
       "      <td>N</td>\n",
       "      <td>2904.5</td>\n",
       "      <td>200.0</td>\n",
       "      <td>4</td>\n",
       "    </tr>\n",
       "    <tr>\n",
       "      <th>2</th>\n",
       "      <td>id1217141</td>\n",
       "      <td>1</td>\n",
       "      <td>6/30/2016 23:59</td>\n",
       "      <td>1</td>\n",
       "      <td>-73.997437</td>\n",
       "      <td>40.737583</td>\n",
       "      <td>-73.986160</td>\n",
       "      <td>40.729523</td>\n",
       "      <td>N</td>\n",
       "      <td>1499.5</td>\n",
       "      <td>193.2</td>\n",
       "      <td>4</td>\n",
       "    </tr>\n",
       "    <tr>\n",
       "      <th>3</th>\n",
       "      <td>id2150126</td>\n",
       "      <td>2</td>\n",
       "      <td>6/30/2016 23:59</td>\n",
       "      <td>1</td>\n",
       "      <td>-73.956070</td>\n",
       "      <td>40.771900</td>\n",
       "      <td>-73.986427</td>\n",
       "      <td>40.730469</td>\n",
       "      <td>N</td>\n",
       "      <td>7023.9</td>\n",
       "      <td>494.8</td>\n",
       "      <td>11</td>\n",
       "    </tr>\n",
       "    <tr>\n",
       "      <th>4</th>\n",
       "      <td>id1598245</td>\n",
       "      <td>1</td>\n",
       "      <td>6/30/2016 23:59</td>\n",
       "      <td>1</td>\n",
       "      <td>-73.970215</td>\n",
       "      <td>40.761475</td>\n",
       "      <td>-73.961510</td>\n",
       "      <td>40.755890</td>\n",
       "      <td>N</td>\n",
       "      <td>1108.2</td>\n",
       "      <td>103.2</td>\n",
       "      <td>4</td>\n",
       "    </tr>\n",
       "  </tbody>\n",
       "</table>\n",
       "</div>"
      ],
      "text/plain": [
       "          id  vendor_id  pickup_datetime  passenger_count  pickup_longitude  \\\n",
       "0  id3004672          1  6/30/2016 23:59                1        -73.988129   \n",
       "1  id3505355          1  6/30/2016 23:59                1        -73.964203   \n",
       "2  id1217141          1  6/30/2016 23:59                1        -73.997437   \n",
       "3  id2150126          2  6/30/2016 23:59                1        -73.956070   \n",
       "4  id1598245          1  6/30/2016 23:59                1        -73.970215   \n",
       "\n",
       "   pickup_latitude  dropoff_longitude  dropoff_latitude store_and_fwd_flag  \\\n",
       "0        40.732029         -73.990173         40.756680                  N   \n",
       "1        40.679993         -73.959808         40.655403                  N   \n",
       "2        40.737583         -73.986160         40.729523                  N   \n",
       "3        40.771900         -73.986427         40.730469                  N   \n",
       "4        40.761475         -73.961510         40.755890                  N   \n",
       "\n",
       "   total_distance  total_travel_time  number_of_steps  \n",
       "0          3795.9              424.6                4  \n",
       "1          2904.5              200.0                4  \n",
       "2          1499.5              193.2                4  \n",
       "3          7023.9              494.8               11  \n",
       "4          1108.2              103.2                4  "
      ]
     },
     "execution_count": 71,
     "metadata": {},
     "output_type": "execute_result"
    }
   ],
   "source": [
    "# 1. Loading test data from competition and OSRM features for test data\n",
    "test_df = pd.read_csv('data/test.csv')\n",
    "test_fr = pd.read_csv('data/new-york-city-taxi-with-osrm/fastest_routes_test.csv')\n",
    "test_fr_new = test_fr[['id', 'total_distance', 'total_travel_time', 'number_of_steps']]\n",
    "test_df = pd.merge(test_df, test_fr_new, on = 'id', how = 'left')\n",
    "test_df.head()"
   ]
  },
  {
   "cell_type": "markdown",
   "metadata": {},
   "source": [
    "### Extracting date time features"
   ]
  },
  {
   "cell_type": "code",
   "execution_count": 72,
   "metadata": {},
   "outputs": [
    {
     "name": "stdout",
     "output_type": "stream",
     "text": [
      "Time taken by above cell is 218.11219191551208.\n"
     ]
    }
   ],
   "source": [
    "#2. Extracting date time features\n",
    "start = time.time()\n",
    "test_data = test_df.copy()\n",
    "test_data['pickup_datetime'] = pd.to_datetime(test_data.pickup_datetime)\n",
    "test_data.loc[:, 'pick_month'] = test_data['pickup_datetime'].dt.month\n",
    "test_data.loc[:, 'hour'] = test_data['pickup_datetime'].dt.hour\n",
    "test_data.loc[:, 'week_of_year'] = test_data['pickup_datetime'].dt.weekofyear\n",
    "test_data.loc[:, 'day_of_year'] = test_data['pickup_datetime'].dt.dayofyear\n",
    "test_data.loc[:, 'day_of_week'] = test_data['pickup_datetime'].dt.dayofweek\n",
    "end = time.time()\n",
    "print(\"Time taken by above cell is {}.\".format(end-start))"
   ]
  },
  {
   "cell_type": "markdown",
   "metadata": {},
   "source": [
    "### Extracting haversine, manhattan, and bearing distance and directional features "
   ]
  },
  {
   "cell_type": "code",
   "execution_count": 73,
   "metadata": {
    "collapsed": true
   },
   "outputs": [],
   "source": [
    "#3. Extracting haversine, manhattan, and bearing distance and directional features \n",
    "\n",
    "test_data.loc[:,'hvsine_pick_drop'] = haversine_(test_data['pickup_latitude'].values, \n",
    "                                                 test_data['pickup_longitude'].values, \n",
    "                                                 test_data['dropoff_latitude'].values, \n",
    "                                                 test_data['dropoff_longitude'].values)\n",
    "\n",
    "test_data.loc[:,'manhtn_pick_drop'] = manhattan_distance_pd(test_data['pickup_latitude'].values, \n",
    "                                                            test_data['pickup_longitude'].values, \n",
    "                                                            test_data['dropoff_latitude'].values, \n",
    "                                                            test_data['dropoff_longitude'].values)\n",
    "\n",
    "\n",
    "test_data.loc[:,'bearing'] = bearing_array(test_data['pickup_latitude'].values, \n",
    "                                           test_data['pickup_longitude'].values, \n",
    "                                           test_data['dropoff_latitude'].values, \n",
    "                                           test_data['dropoff_longitude'].values)\n"
   ]
  },
  {
   "cell_type": "code",
   "execution_count": 74,
   "metadata": {},
   "outputs": [
    {
     "name": "stdout",
     "output_type": "stream",
     "text": [
      "Time Taken by above cell is 1.7501413822174072.\n"
     ]
    }
   ],
   "source": [
    "# 4. Extracting cluster features\n",
    "start = time.time()\n",
    "test_data['label_pick'] = k_means.predict(test_data[['pickup_longitude','pickup_latitude']])\n",
    "test_data['label_drop'] = k_means.predict(test_data[['dropoff_longitude','dropoff_latitude']])\n",
    "test_cl = pd.merge(test_data, centroid_pickups, how='left', on=['label_pick'])\n",
    "test_cl = pd.merge(test_cl, centroid_dropoff, how='left', on=['label_drop'])\n",
    "#test_cl.head()\n",
    "end = time.time()\n",
    "print(\"Time Taken by above cell is {}.\".format(end-start))"
   ]
  },
  {
   "cell_type": "markdown",
   "metadata": {},
   "source": [
    "\n",
    "\n",
    "test_data.loc[:,'hvsine_pick_drop'] = haversine_(test_data['pickup_latitude'].values, \n",
    "                                                 test_data['pickup_longitude'].values, \n",
    "                                                 test_data['dropoff_latitude'].values, \n",
    "                                                 test_data['dropoff_longitude'].values)\n",
    "\n",
    "test_data.loc[:,'manhtn_pick_drop'] = manhattan_distance_pd(test_data['pickup_latitude'].values, \n",
    "                                                            test_data['pickup_longitude'].values, \n",
    "                                                            test_data['dropoff_latitude'].values, \n",
    "                                                            test_data['dropoff_longitude'].values)\n",
    "\n",
    "\n",
    "test_data.loc[:,'bearing'] = bearing_array(test_data['pickup_latitude'].values, \n",
    "                                           test_data['pickup_longitude'].values, \n",
    "                                           test_data['dropoff_latitude'].values, \n",
    "                                           test_data['dropoff_longitude'].values)\n"
   ]
  },
  {
   "cell_type": "markdown",
   "metadata": {},
   "source": [
    "### Extracting haversine, manhattan, and bearing distance and directional features "
   ]
  },
  {
   "cell_type": "code",
   "execution_count": 75,
   "metadata": {},
   "outputs": [
    {
     "data": {
      "text/html": [
       "<div>\n",
       "<style>\n",
       "    .dataframe thead tr:only-child th {\n",
       "        text-align: right;\n",
       "    }\n",
       "\n",
       "    .dataframe thead th {\n",
       "        text-align: left;\n",
       "    }\n",
       "\n",
       "    .dataframe tbody tr th {\n",
       "        vertical-align: top;\n",
       "    }\n",
       "</style>\n",
       "<table border=\"1\" class=\"dataframe\">\n",
       "  <thead>\n",
       "    <tr style=\"text-align: right;\">\n",
       "      <th></th>\n",
       "      <th>id</th>\n",
       "      <th>vendor_id</th>\n",
       "      <th>pickup_datetime</th>\n",
       "      <th>passenger_count</th>\n",
       "      <th>pickup_longitude</th>\n",
       "      <th>pickup_latitude</th>\n",
       "      <th>dropoff_longitude</th>\n",
       "      <th>dropoff_latitude</th>\n",
       "      <th>store_and_fwd_flag</th>\n",
       "      <th>total_distance</th>\n",
       "      <th>...</th>\n",
       "      <th>hvsine_drop_cent_d</th>\n",
       "      <th>hvsine_cent_p_cent_d</th>\n",
       "      <th>manhtn_pick_cent_p</th>\n",
       "      <th>manhtn_drop_cent_d</th>\n",
       "      <th>manhtn_cent_p_cent_d</th>\n",
       "      <th>bearing_pick_cent_p</th>\n",
       "      <th>bearing_drop_cent_p</th>\n",
       "      <th>bearing_cent_p_cent_d</th>\n",
       "      <th>speed_hvsn</th>\n",
       "      <th>speed_manhtn</th>\n",
       "    </tr>\n",
       "  </thead>\n",
       "  <tbody>\n",
       "    <tr>\n",
       "      <th>0</th>\n",
       "      <td>id3004672</td>\n",
       "      <td>1</td>\n",
       "      <td>2016-06-30 23:59:00</td>\n",
       "      <td>1</td>\n",
       "      <td>-73.988129</td>\n",
       "      <td>40.732029</td>\n",
       "      <td>-73.990173</td>\n",
       "      <td>40.756680</td>\n",
       "      <td>N</td>\n",
       "      <td>3795.9</td>\n",
       "      <td>...</td>\n",
       "      <td>0.460745</td>\n",
       "      <td>2.557813</td>\n",
       "      <td>0.316489</td>\n",
       "      <td>0.572701</td>\n",
       "      <td>2.657047</td>\n",
       "      <td>166.844158</td>\n",
       "      <td>163.485792</td>\n",
       "      <td>-2.267563</td>\n",
       "      <td>0.006468</td>\n",
       "      <td>0.006861</td>\n",
       "    </tr>\n",
       "    <tr>\n",
       "      <th>1</th>\n",
       "      <td>id3505355</td>\n",
       "      <td>1</td>\n",
       "      <td>2016-06-30 23:59:00</td>\n",
       "      <td>1</td>\n",
       "      <td>-73.964203</td>\n",
       "      <td>40.679993</td>\n",
       "      <td>-73.959808</td>\n",
       "      <td>40.655403</td>\n",
       "      <td>N</td>\n",
       "      <td>2904.5</td>\n",
       "      <td>...</td>\n",
       "      <td>4.035734</td>\n",
       "      <td>0.000000</td>\n",
       "      <td>1.680995</td>\n",
       "      <td>4.786109</td>\n",
       "      <td>0.000000</td>\n",
       "      <td>-21.064990</td>\n",
       "      <td>-11.983231</td>\n",
       "      <td>0.000000</td>\n",
       "      <td>0.013796</td>\n",
       "      <td>0.015524</td>\n",
       "    </tr>\n",
       "    <tr>\n",
       "      <th>2</th>\n",
       "      <td>id1217141</td>\n",
       "      <td>1</td>\n",
       "      <td>2016-06-30 23:59:00</td>\n",
       "      <td>1</td>\n",
       "      <td>-73.997437</td>\n",
       "      <td>40.737583</td>\n",
       "      <td>-73.986160</td>\n",
       "      <td>40.729523</td>\n",
       "      <td>N</td>\n",
       "      <td>1499.5</td>\n",
       "      <td>...</td>\n",
       "      <td>0.108194</td>\n",
       "      <td>1.520191</td>\n",
       "      <td>0.425801</td>\n",
       "      <td>0.128053</td>\n",
       "      <td>2.144081</td>\n",
       "      <td>-68.660074</td>\n",
       "      <td>-78.185424</td>\n",
       "      <td>130.816473</td>\n",
       "      <td>0.006761</td>\n",
       "      <td>0.009557</td>\n",
       "    </tr>\n",
       "    <tr>\n",
       "      <th>3</th>\n",
       "      <td>id2150126</td>\n",
       "      <td>2</td>\n",
       "      <td>2016-06-30 23:59:00</td>\n",
       "      <td>1</td>\n",
       "      <td>-73.956070</td>\n",
       "      <td>40.771900</td>\n",
       "      <td>-73.986427</td>\n",
       "      <td>40.730469</td>\n",
       "      <td>N</td>\n",
       "      <td>7023.9</td>\n",
       "      <td>...</td>\n",
       "      <td>0.117694</td>\n",
       "      <td>5.622357</td>\n",
       "      <td>0.327942</td>\n",
       "      <td>0.166443</td>\n",
       "      <td>7.657602</td>\n",
       "      <td>29.968069</td>\n",
       "      <td>-134.876849</td>\n",
       "      <td>-150.583803</td>\n",
       "      <td>0.010649</td>\n",
       "      <td>0.014477</td>\n",
       "    </tr>\n",
       "    <tr>\n",
       "      <th>4</th>\n",
       "      <td>id1598245</td>\n",
       "      <td>1</td>\n",
       "      <td>2016-06-30 23:59:00</td>\n",
       "      <td>1</td>\n",
       "      <td>-73.970215</td>\n",
       "      <td>40.761475</td>\n",
       "      <td>-73.961510</td>\n",
       "      <td>40.755890</td>\n",
       "      <td>N</td>\n",
       "      <td>1108.2</td>\n",
       "      <td>...</td>\n",
       "      <td>1.015384</td>\n",
       "      <td>0.000000</td>\n",
       "      <td>0.620567</td>\n",
       "      <td>1.234924</td>\n",
       "      <td>0.000000</td>\n",
       "      <td>-145.882392</td>\n",
       "      <td>-75.681715</td>\n",
       "      <td>0.000000</td>\n",
       "      <td>0.009310</td>\n",
       "      <td>0.013122</td>\n",
       "    </tr>\n",
       "  </tbody>\n",
       "</table>\n",
       "<p>5 rows × 37 columns</p>\n",
       "</div>"
      ],
      "text/plain": [
       "          id  vendor_id     pickup_datetime  passenger_count  \\\n",
       "0  id3004672          1 2016-06-30 23:59:00                1   \n",
       "1  id3505355          1 2016-06-30 23:59:00                1   \n",
       "2  id1217141          1 2016-06-30 23:59:00                1   \n",
       "3  id2150126          2 2016-06-30 23:59:00                1   \n",
       "4  id1598245          1 2016-06-30 23:59:00                1   \n",
       "\n",
       "   pickup_longitude  pickup_latitude  dropoff_longitude  dropoff_latitude  \\\n",
       "0        -73.988129        40.732029         -73.990173         40.756680   \n",
       "1        -73.964203        40.679993         -73.959808         40.655403   \n",
       "2        -73.997437        40.737583         -73.986160         40.729523   \n",
       "3        -73.956070        40.771900         -73.986427         40.730469   \n",
       "4        -73.970215        40.761475         -73.961510         40.755890   \n",
       "\n",
       "  store_and_fwd_flag  total_distance      ...       hvsine_drop_cent_d  \\\n",
       "0                  N          3795.9      ...                 0.460745   \n",
       "1                  N          2904.5      ...                 4.035734   \n",
       "2                  N          1499.5      ...                 0.108194   \n",
       "3                  N          7023.9      ...                 0.117694   \n",
       "4                  N          1108.2      ...                 1.015384   \n",
       "\n",
       "   hvsine_cent_p_cent_d  manhtn_pick_cent_p  manhtn_drop_cent_d  \\\n",
       "0              2.557813            0.316489            0.572701   \n",
       "1              0.000000            1.680995            4.786109   \n",
       "2              1.520191            0.425801            0.128053   \n",
       "3              5.622357            0.327942            0.166443   \n",
       "4              0.000000            0.620567            1.234924   \n",
       "\n",
       "   manhtn_cent_p_cent_d  bearing_pick_cent_p  bearing_drop_cent_p  \\\n",
       "0              2.657047           166.844158           163.485792   \n",
       "1              0.000000           -21.064990           -11.983231   \n",
       "2              2.144081           -68.660074           -78.185424   \n",
       "3              7.657602            29.968069          -134.876849   \n",
       "4              0.000000          -145.882392           -75.681715   \n",
       "\n",
       "   bearing_cent_p_cent_d  speed_hvsn  speed_manhtn  \n",
       "0              -2.267563    0.006468      0.006861  \n",
       "1               0.000000    0.013796      0.015524  \n",
       "2             130.816473    0.006761      0.009557  \n",
       "3            -150.583803    0.010649      0.014477  \n",
       "4               0.000000    0.009310      0.013122  \n",
       "\n",
       "[5 rows x 37 columns]"
      ]
     },
     "execution_count": 75,
     "metadata": {},
     "output_type": "execute_result"
    }
   ],
   "source": [
    "# 5. Extracting features: pickup/dropoff centroid of kinds of distances, and get aveage speed.\n",
    "\n",
    "test_cl.loc[:,'hvsine_pick_cent_p'] = haversine_(test_cl['pickup_latitude'].values, \n",
    "                                                 test_cl['pickup_longitude'].values, \n",
    "                                                 test_cl['centroid_pick_lat'].values, \n",
    "                                                 test_cl['centroid_pick_long'].values)\n",
    "\n",
    "test_cl.loc[:,'hvsine_drop_cent_d'] = haversine_(test_cl['dropoff_latitude'].values, \n",
    "                                                 test_cl['dropoff_longitude'].values, \n",
    "                                                 test_cl['centroid_drop_lat'].values, \n",
    "                                                 test_cl['centroid_drop_long'].values)\n",
    "\n",
    "test_cl.loc[:,'hvsine_cent_p_cent_d'] = haversine_(test_cl['centroid_pick_lat'].values, \n",
    "                                                   test_cl['centroid_pick_long'].values, \n",
    "                                                   test_cl['centroid_drop_lat'].values, \n",
    "                                                   test_cl['centroid_drop_long'].values)\n",
    "\n",
    "test_cl.loc[:,'manhtn_pick_cent_p'] = manhattan_distance_pd(test_cl['pickup_latitude'].values, \n",
    "                                                            test_cl['pickup_longitude'].values, \n",
    "                                                            test_cl['centroid_pick_lat'].values, \n",
    "                                                            test_cl['centroid_pick_long'].values)\n",
    "\n",
    "test_cl.loc[:,'manhtn_drop_cent_d'] = manhattan_distance_pd(test_cl['dropoff_latitude'].values, \n",
    "                                                            test_cl['dropoff_longitude'].values, \n",
    "                                                            test_cl['centroid_drop_lat'].values, \n",
    "                                                            test_cl['centroid_drop_long'].values)\n",
    "\n",
    "test_cl.loc[:,'manhtn_cent_p_cent_d'] = manhattan_distance_pd(test_cl['centroid_pick_lat'].values, \n",
    "                                                              test_cl['centroid_pick_long'].values, \n",
    "                                                              test_cl['centroid_drop_lat'].values, \n",
    "                                                              test_cl['centroid_drop_long'].values)\n",
    "\n",
    "test_cl.loc[:,'bearing_pick_cent_p'] = bearing_array(test_cl['pickup_latitude'].values, \n",
    "                                                     test_cl['pickup_longitude'].values, \n",
    "                                                     test_cl['centroid_pick_lat'].values, \n",
    "                                                     test_cl['centroid_pick_long'].values)\n",
    "\n",
    "test_cl.loc[:,'bearing_drop_cent_p'] = bearing_array(test_cl['dropoff_latitude'].values, \n",
    "                                                     test_cl['dropoff_longitude'].values, \n",
    "                                                     test_cl['centroid_drop_lat'].values, \n",
    "                                                     test_cl['centroid_drop_long'].values)\n",
    "\n",
    "test_cl.loc[:,'bearing_cent_p_cent_d'] = bearing_array(test_cl['centroid_pick_lat'].values, \n",
    "                                                       test_cl['centroid_pick_long'].values, \n",
    "                                                       test_cl['centroid_drop_lat'].values, \n",
    "                                                       test_cl['centroid_drop_long'].values)\n",
    "\n",
    "test_cl['speed_hvsn'] = test_cl.hvsine_pick_drop/test_cl.total_travel_time\n",
    "test_cl['speed_manhtn'] = test_cl.manhtn_pick_drop/test_cl.total_travel_time\n",
    "\n",
    "test_cl.head()"
   ]
  },
  {
   "cell_type": "markdown",
   "metadata": {},
   "source": [
    "## Step 25.2: Import XGB Model"
   ]
  },
  {
   "cell_type": "markdown",
   "metadata": {},
   "source": [
    "### Use XGBoost regressor for prediction. \n",
    "### 1. Train XGB on training features \n",
    "### 2. Use trained model for prediction."
   ]
  },
  {
   "cell_type": "code",
   "execution_count": 76,
   "metadata": {
    "collapsed": true
   },
   "outputs": [],
   "source": [
    "import xgboost as xgb\n",
    "from sklearn.model_selection import train_test_split\n",
    "from sklearn.decomposition import PCA\n",
    "from sklearn.cluster import MiniBatchKMeans\n",
    "import warnings"
   ]
  },
  {
   "cell_type": "markdown",
   "metadata": {},
   "source": [
    "## Step 25.3: Add PCA features in the model"
   ]
  },
  {
   "cell_type": "code",
   "execution_count": 77,
   "metadata": {},
   "outputs": [
    {
     "name": "stdout",
     "output_type": "stream",
     "text": [
      "Time Taken by above cell is 5.579331636428833.\n"
     ]
    }
   ],
   "source": [
    "train = train_cl\n",
    "test = test_cl\n",
    "start = time.time()\n",
    "coords = np.vstack((train[['pickup_latitude', 'pickup_longitude']].values,\n",
    "                    train[['dropoff_latitude', 'dropoff_longitude']].values,\n",
    "                    test[['pickup_latitude', 'pickup_longitude']].values,\n",
    "                    test[['dropoff_latitude', 'dropoff_longitude']].values))\n",
    "\n",
    "pca = PCA().fit(coords)\n",
    "train['pickup_pca0'] = pca.transform(train[['pickup_latitude', 'pickup_longitude']])[:, 0]\n",
    "train['pickup_pca1'] = pca.transform(train[['pickup_latitude', 'pickup_longitude']])[:, 1]\n",
    "train['dropoff_pca0'] = pca.transform(train[['dropoff_latitude', 'dropoff_longitude']])[:, 0]\n",
    "train['dropoff_pca1'] = pca.transform(train[['dropoff_latitude', 'dropoff_longitude']])[:, 1]\n",
    "test['pickup_pca0'] = pca.transform(test[['pickup_latitude', 'pickup_longitude']])[:, 0]\n",
    "test['pickup_pca1'] = pca.transform(test[['pickup_latitude', 'pickup_longitude']])[:, 1]\n",
    "test['dropoff_pca0'] = pca.transform(test[['dropoff_latitude', 'dropoff_longitude']])[:, 0]\n",
    "test['dropoff_pca1'] = pca.transform(test[['dropoff_latitude', 'dropoff_longitude']])[:, 1]\n",
    "end = time.time()\n",
    "print(\"Time Taken by above cell is {}.\".format(end - start))"
   ]
  },
  {
   "cell_type": "code",
   "execution_count": 78,
   "metadata": {
    "collapsed": true
   },
   "outputs": [],
   "source": [
    "# Replace with 0 or 1:\n",
    "train['store_and_fwd_flag_int'] = np.where(train['store_and_fwd_flag']=='N', 0, 1)\n",
    "test['store_and_fwd_flag_int'] = np.where(test['store_and_fwd_flag']=='N', 0, 1)"
   ]
  },
  {
   "cell_type": "markdown",
   "metadata": {},
   "source": [
    "## Step 25.4: Get the difference of features in train and test"
   ]
  },
  {
   "cell_type": "code",
   "execution_count": 79,
   "metadata": {},
   "outputs": [
    {
     "name": "stdout",
     "output_type": "stream",
     "text": [
      "Difference of features in train and test are ['dropoff_datetime' 'trip_duration']\n",
      "\n",
      "We will be using following features for training ['vendor_id', 'passenger_count', 'pickup_longitude', 'pickup_latitude', 'dropoff_longitude', 'dropoff_latitude', 'total_distance', 'total_travel_time', 'number_of_steps', 'pick_month', 'hour', 'week_of_year', 'day_of_year', 'day_of_week', 'hvsine_pick_drop', 'manhtn_pick_drop', 'bearing', 'label_pick', 'label_drop', 'centroid_pick_long', 'centroid_pick_lat', 'centroid_drop_long', 'centroid_drop_lat', 'hvsine_pick_cent_p', 'hvsine_drop_cent_d', 'hvsine_cent_p_cent_d', 'manhtn_pick_cent_p', 'manhtn_drop_cent_d', 'manhtn_cent_p_cent_d', 'bearing_pick_cent_p', 'bearing_drop_cent_p', 'bearing_cent_p_cent_d', 'speed_hvsn', 'speed_manhtn', 'pickup_pca0', 'pickup_pca1', 'dropoff_pca0', 'dropoff_pca1', 'store_and_fwd_flag_int'].\n",
      "\n",
      "Total number of features are 39.\n"
     ]
    }
   ],
   "source": [
    "feature_names = list(train.columns)\n",
    "print(\"Difference of features in train and test are {}\".format(np.setdiff1d(train.columns, test.columns)))\n",
    "print(\"\")\n",
    "\n",
    "do_not_use_for_training = ['pick_date','id', 'pickup_datetime', 'dropoff_datetime', 'trip_duration', 'store_and_fwd_flag']\n",
    "feature_names = [f for f in train.columns if f not in do_not_use_for_training]\n",
    "\n",
    "print(\"We will be using following features for training {}.\".format(feature_names))\n",
    "print(\"\")\n",
    "print(\"Total number of features are {}.\".format(len(feature_names)))"
   ]
  },
  {
   "cell_type": "markdown",
   "metadata": {},
   "source": [
    "## Step 26.5: Split and train XGB model:"
   ]
  },
  {
   "cell_type": "markdown",
   "metadata": {},
   "source": [
    "## xgb: http://xgboost.readthedocs.io/en/latest/python/python_intro.html"
   ]
  },
  {
   "cell_type": "code",
   "execution_count": 80,
   "metadata": {},
   "outputs": [
    {
     "name": "stdout",
     "output_type": "stream",
     "text": [
      "[0]\ttrain-rmse:4.22632\tvalid-rmse:4.22757\n",
      "Multiple eval metrics have been passed: 'valid-rmse' will be used for early stopping.\n",
      "\n",
      "Will train until valid-rmse hasn't improved in 2 rounds.\n",
      "[1]\ttrain-rmse:2.97634\tvalid-rmse:2.9779\n",
      "[2]\ttrain-rmse:2.10627\tvalid-rmse:2.10828\n",
      "[3]\ttrain-rmse:1.50768\tvalid-rmse:1.51038\n",
      "[4]\ttrain-rmse:1.0977\tvalid-rmse:1.1013\n",
      "[5]\ttrain-rmse:0.82356\tvalid-rmse:0.828341\n",
      "[6]\ttrain-rmse:0.645152\tvalid-rmse:0.651593\n",
      "[7]\ttrain-rmse:0.535765\tvalid-rmse:0.54387\n",
      "[8]\ttrain-rmse:0.472743\tvalid-rmse:0.482233\n",
      "[9]\ttrain-rmse:0.437489\tvalid-rmse:0.448313\n",
      "[10]\ttrain-rmse:0.41794\tvalid-rmse:0.429668\n",
      "[11]\ttrain-rmse:0.407544\tvalid-rmse:0.419869\n",
      "[12]\ttrain-rmse:0.401203\tvalid-rmse:0.414095\n",
      "[13]\ttrain-rmse:0.398004\tvalid-rmse:0.411455\n",
      "[14]\ttrain-rmse:0.395435\tvalid-rmse:0.409449\n",
      "Time taken by above cell is 152.3740096092224.\n",
      "Modeling RMSLE 0.40945\n"
     ]
    }
   ],
   "source": [
    "y = np.log(train['trip_duration'].values + 1)\n",
    "start = time.time()\n",
    "\n",
    "Xtr, Xv, ytr, yv = train_test_split(train[feature_names].values, y, test_size=0.2, random_state=1987)\n",
    "#train_test_split(): Split arrays or matrices into random train and test subsets.\n",
    "#<random_state>:If int, random_state is the seed used by the random number generator.\n",
    "\n",
    "dtrain = xgb.DMatrix(Xtr, label=ytr) #DMatrix: object of XGBoost\n",
    "dvalid = xgb.DMatrix(Xv, label=yv)\n",
    "dtest = xgb.DMatrix(test[feature_names].values)\n",
    "\n",
    "watchlist = [(dtrain, 'train'), (dvalid, 'valid')]\n",
    "\n",
    "xgb_pars = {'min_child_weight': 50, 'eta': 0.3, 'colsample_bytree': 0.3, 'max_depth': 10,\n",
    "            'subsample': 0.8, 'lambda': 1., 'nthread': -1, 'booster' : 'gbtree', 'silent': 1,\n",
    "            'eval_metric': 'rmse', 'objective': 'reg:linear'}\n",
    "\n",
    "model = xgb.train(xgb_pars, dtrain, 15, watchlist, early_stopping_rounds=2,\n",
    "                  maximize=False, verbose_eval=1)\n",
    "#xgb.train(): xgboost.train(params, dtrain, num_boost_round=10, evals=(), obj=None, \n",
    "# feval=None, maximize=False, early_stopping_rounds=None, evals_result=None, verbose_eval=True, \n",
    "# xgb_model=None, callbacks=None, learning_rates=None):\n",
    "#1. xgb_pars: params;\n",
    "#2. dtrain: (DMatrix) – Data to be trained.\n",
    "#3. 15: num_boost_round (int) – Number of boosting iterations.\n",
    "#4. watchlist: (list of pairs (DMatrix, string)):List of items to be evaluated during training, this allows user to watch performance on the validation set.\n",
    "#5. 2: early_stopping_rounds (int) – Activates early stopping. Validation error needs to decrease at least every <early_stopping_rounds> round(s) to continue training. \n",
    "#6. maximize=False: maximize (bool) – Whether to maximize feval.\n",
    "#7. verbose_eval=1: The evaluation metric on the validation set is printed at every given verbose_eval boosting stage.\n",
    "end = time.time()\n",
    "\n",
    "print(\"Time taken by above cell is {}.\".format(end - start))\n",
    "print('Modeling RMSLE %.5f' % model.best_score)"
   ]
  },
  {
   "cell_type": "markdown",
   "metadata": {},
   "source": [
    "# Step 26: Feature Extraction Round 2 with weather data\n",
    "## By Extraction on following features as RMSLE is not going below 0.38\n",
    "## 1. Pick to drop cluster\n",
    "## 2. Drop to pickup cluster\n",
    "## 3. Number of lefts\n",
    "## 4. Number of rights ( 3,4 from osrm data)\n",
    "## 5. Check weather in nyc dataset and see if it can be used as feature"
   ]
  },
  {
   "cell_type": "markdown",
   "metadata": {},
   "source": [
    "## Step 26.1: Preprocess the data loaded:"
   ]
  },
  {
   "cell_type": "code",
   "execution_count": 81,
   "metadata": {},
   "outputs": [
    {
     "data": {
      "text/html": [
       "<div>\n",
       "<style>\n",
       "    .dataframe thead tr:only-child th {\n",
       "        text-align: right;\n",
       "    }\n",
       "\n",
       "    .dataframe thead th {\n",
       "        text-align: left;\n",
       "    }\n",
       "\n",
       "    .dataframe tbody tr th {\n",
       "        vertical-align: top;\n",
       "    }\n",
       "</style>\n",
       "<table border=\"1\" class=\"dataframe\">\n",
       "  <thead>\n",
       "    <tr style=\"text-align: right;\">\n",
       "      <th></th>\n",
       "      <th>date</th>\n",
       "      <th>maximum_temperature</th>\n",
       "      <th>minimum temperature</th>\n",
       "      <th>average_temperature</th>\n",
       "      <th>precipitation</th>\n",
       "      <th>snow fall</th>\n",
       "      <th>snow depth</th>\n",
       "    </tr>\n",
       "  </thead>\n",
       "  <tbody>\n",
       "    <tr>\n",
       "      <th>0</th>\n",
       "      <td>1/1/2016</td>\n",
       "      <td>42</td>\n",
       "      <td>34</td>\n",
       "      <td>38.0</td>\n",
       "      <td>0</td>\n",
       "      <td>0</td>\n",
       "      <td>0</td>\n",
       "    </tr>\n",
       "    <tr>\n",
       "      <th>1</th>\n",
       "      <td>2/1/2016</td>\n",
       "      <td>40</td>\n",
       "      <td>32</td>\n",
       "      <td>36.0</td>\n",
       "      <td>0</td>\n",
       "      <td>0</td>\n",
       "      <td>0</td>\n",
       "    </tr>\n",
       "    <tr>\n",
       "      <th>2</th>\n",
       "      <td>3/1/2016</td>\n",
       "      <td>45</td>\n",
       "      <td>35</td>\n",
       "      <td>40.0</td>\n",
       "      <td>0</td>\n",
       "      <td>0</td>\n",
       "      <td>0</td>\n",
       "    </tr>\n",
       "    <tr>\n",
       "      <th>3</th>\n",
       "      <td>4/1/2016</td>\n",
       "      <td>36</td>\n",
       "      <td>14</td>\n",
       "      <td>25.0</td>\n",
       "      <td>0</td>\n",
       "      <td>0</td>\n",
       "      <td>0</td>\n",
       "    </tr>\n",
       "    <tr>\n",
       "      <th>4</th>\n",
       "      <td>5/1/2016</td>\n",
       "      <td>29</td>\n",
       "      <td>11</td>\n",
       "      <td>20.0</td>\n",
       "      <td>0</td>\n",
       "      <td>0</td>\n",
       "      <td>0</td>\n",
       "    </tr>\n",
       "    <tr>\n",
       "      <th>5</th>\n",
       "      <td>6/1/2016</td>\n",
       "      <td>41</td>\n",
       "      <td>25</td>\n",
       "      <td>33.0</td>\n",
       "      <td>0</td>\n",
       "      <td>0</td>\n",
       "      <td>0</td>\n",
       "    </tr>\n",
       "    <tr>\n",
       "      <th>6</th>\n",
       "      <td>7/1/2016</td>\n",
       "      <td>46</td>\n",
       "      <td>31</td>\n",
       "      <td>38.5</td>\n",
       "      <td>0</td>\n",
       "      <td>0</td>\n",
       "      <td>0</td>\n",
       "    </tr>\n",
       "    <tr>\n",
       "      <th>7</th>\n",
       "      <td>8/1/2016</td>\n",
       "      <td>46</td>\n",
       "      <td>31</td>\n",
       "      <td>38.5</td>\n",
       "      <td>0</td>\n",
       "      <td>0</td>\n",
       "      <td>0</td>\n",
       "    </tr>\n",
       "    <tr>\n",
       "      <th>8</th>\n",
       "      <td>9/1/2016</td>\n",
       "      <td>47</td>\n",
       "      <td>40</td>\n",
       "      <td>43.5</td>\n",
       "      <td>T</td>\n",
       "      <td>0</td>\n",
       "      <td>0</td>\n",
       "    </tr>\n",
       "    <tr>\n",
       "      <th>9</th>\n",
       "      <td>10/1/2016</td>\n",
       "      <td>59</td>\n",
       "      <td>40</td>\n",
       "      <td>49.5</td>\n",
       "      <td>1.8</td>\n",
       "      <td>0</td>\n",
       "      <td>0</td>\n",
       "    </tr>\n",
       "  </tbody>\n",
       "</table>\n",
       "</div>"
      ],
      "text/plain": [
       "        date  maximum_temperature  minimum temperature  average_temperature  \\\n",
       "0   1/1/2016                   42                   34                 38.0   \n",
       "1   2/1/2016                   40                   32                 36.0   \n",
       "2   3/1/2016                   45                   35                 40.0   \n",
       "3   4/1/2016                   36                   14                 25.0   \n",
       "4   5/1/2016                   29                   11                 20.0   \n",
       "5   6/1/2016                   41                   25                 33.0   \n",
       "6   7/1/2016                   46                   31                 38.5   \n",
       "7   8/1/2016                   46                   31                 38.5   \n",
       "8   9/1/2016                   47                   40                 43.5   \n",
       "9  10/1/2016                   59                   40                 49.5   \n",
       "\n",
       "  precipitation snow fall snow depth  \n",
       "0             0         0          0  \n",
       "1             0         0          0  \n",
       "2             0         0          0  \n",
       "3             0         0          0  \n",
       "4             0         0          0  \n",
       "5             0         0          0  \n",
       "6             0         0          0  \n",
       "7             0         0          0  \n",
       "8             T         0          0  \n",
       "9           1.8         0          0  "
      ]
     },
     "execution_count": 81,
     "metadata": {},
     "output_type": "execute_result"
    }
   ],
   "source": [
    "weather = pd.read_csv('data/weather_data_nyc_centralpark_2016.csv')\n",
    "weather[['precipitation']] = weather[['precipitation']].replace(np.nan, 'T', regex=True)\n",
    "weather[['snow_fall']] = weather[['snow_fall']].replace(np.nan, 'T', regex=True)\n",
    "weather.rename(columns={'snow_fall': 'snow fall'}, inplace=True)\n",
    "weather[['snow_depth']] = weather[['snow_depth']].replace(np.nan, 'T', regex=True)\n",
    "weather.rename(columns={'snow_depth': 'snow depth'}, inplace=True)\n",
    "##minimum_temperature\n",
    "weather.rename(columns={'minimum_temperature': 'minimum temperature'}, inplace=True)\n",
    "weather.head(10)"
   ]
  },
  {
   "cell_type": "markdown",
   "metadata": {},
   "source": [
    "## Step 26.2: Filter and Map the format of data:"
   ]
  },
  {
   "cell_type": "code",
   "execution_count": 82,
   "metadata": {},
   "outputs": [
    {
     "name": "stderr",
     "output_type": "stream",
     "text": [
      "C:\\Anaconda3\\lib\\site-packages\\ggplot\\utils.py:81: FutureWarning:\n",
      "\n",
      "pandas.tslib is deprecated and will be removed in a future version.\n",
      "You can access Timestamp as pandas.Timestamp\n",
      "\n",
      "C:\\Anaconda3\\lib\\site-packages\\ggplot\\stats\\smoothers.py:4: FutureWarning:\n",
      "\n",
      "The pandas.lib module is deprecated and will be removed in a future version. These are private functions and can be accessed from pandas._libs.lib instead\n",
      "\n",
      "C:\\Anaconda3\\lib\\importlib\\_bootstrap.py:219: ImportWarning:\n",
      "\n",
      "can't resolve package from __spec__ or __package__, falling back on __name__ and __path__\n",
      "\n",
      "C:\\Anaconda3\\lib\\site-packages\\statsmodels\\compat\\pandas.py:56: FutureWarning:\n",
      "\n",
      "The pandas.core.datetools module is deprecated and will be removed in a future version. Please use the pandas.tseries module instead.\n",
      "\n"
     ]
    },
    {
     "data": {
      "text/html": [
       "<div>\n",
       "<style>\n",
       "    .dataframe thead tr:only-child th {\n",
       "        text-align: right;\n",
       "    }\n",
       "\n",
       "    .dataframe thead th {\n",
       "        text-align: left;\n",
       "    }\n",
       "\n",
       "    .dataframe tbody tr th {\n",
       "        vertical-align: top;\n",
       "    }\n",
       "</style>\n",
       "<table border=\"1\" class=\"dataframe\">\n",
       "  <thead>\n",
       "    <tr style=\"text-align: right;\">\n",
       "      <th></th>\n",
       "      <th>date</th>\n",
       "      <th>maximum_temperature</th>\n",
       "      <th>minimum temperature</th>\n",
       "      <th>average_temperature</th>\n",
       "      <th>precipitation</th>\n",
       "      <th>snow fall</th>\n",
       "      <th>snow depth</th>\n",
       "      <th>day_of_year</th>\n",
       "    </tr>\n",
       "  </thead>\n",
       "  <tbody>\n",
       "    <tr>\n",
       "      <th>0</th>\n",
       "      <td>2016-01-01</td>\n",
       "      <td>42</td>\n",
       "      <td>34</td>\n",
       "      <td>38.0</td>\n",
       "      <td>0.0</td>\n",
       "      <td>0.0</td>\n",
       "      <td>0.0</td>\n",
       "      <td>1</td>\n",
       "    </tr>\n",
       "    <tr>\n",
       "      <th>1</th>\n",
       "      <td>2016-02-01</td>\n",
       "      <td>40</td>\n",
       "      <td>32</td>\n",
       "      <td>36.0</td>\n",
       "      <td>0.0</td>\n",
       "      <td>0.0</td>\n",
       "      <td>0.0</td>\n",
       "      <td>32</td>\n",
       "    </tr>\n",
       "    <tr>\n",
       "      <th>2</th>\n",
       "      <td>2016-03-01</td>\n",
       "      <td>45</td>\n",
       "      <td>35</td>\n",
       "      <td>40.0</td>\n",
       "      <td>0.0</td>\n",
       "      <td>0.0</td>\n",
       "      <td>0.0</td>\n",
       "      <td>61</td>\n",
       "    </tr>\n",
       "    <tr>\n",
       "      <th>3</th>\n",
       "      <td>2016-04-01</td>\n",
       "      <td>36</td>\n",
       "      <td>14</td>\n",
       "      <td>25.0</td>\n",
       "      <td>0.0</td>\n",
       "      <td>0.0</td>\n",
       "      <td>0.0</td>\n",
       "      <td>92</td>\n",
       "    </tr>\n",
       "    <tr>\n",
       "      <th>4</th>\n",
       "      <td>2016-05-01</td>\n",
       "      <td>29</td>\n",
       "      <td>11</td>\n",
       "      <td>20.0</td>\n",
       "      <td>0.0</td>\n",
       "      <td>0.0</td>\n",
       "      <td>0.0</td>\n",
       "      <td>122</td>\n",
       "    </tr>\n",
       "    <tr>\n",
       "      <th>5</th>\n",
       "      <td>2016-06-01</td>\n",
       "      <td>41</td>\n",
       "      <td>25</td>\n",
       "      <td>33.0</td>\n",
       "      <td>0.0</td>\n",
       "      <td>0.0</td>\n",
       "      <td>0.0</td>\n",
       "      <td>153</td>\n",
       "    </tr>\n",
       "    <tr>\n",
       "      <th>6</th>\n",
       "      <td>2016-07-01</td>\n",
       "      <td>46</td>\n",
       "      <td>31</td>\n",
       "      <td>38.5</td>\n",
       "      <td>0.0</td>\n",
       "      <td>0.0</td>\n",
       "      <td>0.0</td>\n",
       "      <td>183</td>\n",
       "    </tr>\n",
       "    <tr>\n",
       "      <th>7</th>\n",
       "      <td>2016-08-01</td>\n",
       "      <td>46</td>\n",
       "      <td>31</td>\n",
       "      <td>38.5</td>\n",
       "      <td>0.0</td>\n",
       "      <td>0.0</td>\n",
       "      <td>0.0</td>\n",
       "      <td>214</td>\n",
       "    </tr>\n",
       "    <tr>\n",
       "      <th>8</th>\n",
       "      <td>2016-09-01</td>\n",
       "      <td>47</td>\n",
       "      <td>40</td>\n",
       "      <td>43.5</td>\n",
       "      <td>0.0</td>\n",
       "      <td>0.0</td>\n",
       "      <td>0.0</td>\n",
       "      <td>245</td>\n",
       "    </tr>\n",
       "    <tr>\n",
       "      <th>9</th>\n",
       "      <td>2016-10-01</td>\n",
       "      <td>59</td>\n",
       "      <td>40</td>\n",
       "      <td>49.5</td>\n",
       "      <td>1.8</td>\n",
       "      <td>0.0</td>\n",
       "      <td>0.0</td>\n",
       "      <td>275</td>\n",
       "    </tr>\n",
       "  </tbody>\n",
       "</table>\n",
       "</div>"
      ],
      "text/plain": [
       "        date  maximum_temperature  minimum temperature  average_temperature  \\\n",
       "0 2016-01-01                   42                   34                 38.0   \n",
       "1 2016-02-01                   40                   32                 36.0   \n",
       "2 2016-03-01                   45                   35                 40.0   \n",
       "3 2016-04-01                   36                   14                 25.0   \n",
       "4 2016-05-01                   29                   11                 20.0   \n",
       "5 2016-06-01                   41                   25                 33.0   \n",
       "6 2016-07-01                   46                   31                 38.5   \n",
       "7 2016-08-01                   46                   31                 38.5   \n",
       "8 2016-09-01                   47                   40                 43.5   \n",
       "9 2016-10-01                   59                   40                 49.5   \n",
       "\n",
       "   precipitation  snow fall  snow depth  day_of_year  \n",
       "0            0.0        0.0         0.0            1  \n",
       "1            0.0        0.0         0.0           32  \n",
       "2            0.0        0.0         0.0           61  \n",
       "3            0.0        0.0         0.0           92  \n",
       "4            0.0        0.0         0.0          122  \n",
       "5            0.0        0.0         0.0          153  \n",
       "6            0.0        0.0         0.0          183  \n",
       "7            0.0        0.0         0.0          214  \n",
       "8            0.0        0.0         0.0          245  \n",
       "9            1.8        0.0         0.0          275  "
      ]
     },
     "execution_count": 82,
     "metadata": {},
     "output_type": "execute_result"
    }
   ],
   "source": [
    "from ggplot import *\n",
    "import matplotlib.pyplot as plt\n",
    "%matplotlib inline\n",
    "\n",
    "weather.date = pd.to_datetime(weather.date)\n",
    "weather['day_of_year']= weather.date.dt.dayofyear\n",
    "\n",
    "weather['precipitation'].unique() #unique(): Returns the sorted unique elements of an array. \n",
    "\n",
    "weather['precipitation'] = np.where(weather['precipitation']=='T', '0.00',weather['precipitation'])\n",
    "weather['precipitation'] = list(map(float, weather['precipitation'])) \n",
    "# map() function applies a given function to each item of an iterable (list, tuple etc.) and returns a list of the results.\n",
    "# so if you want a new list and not just something to iterate over, you either need list(map(float, mylist)\n",
    "\n",
    "weather['snow fall'] = np.where(weather['snow fall']=='T', '0.00',weather['snow fall'])\n",
    "weather['snow fall'] = list(map(float, weather['snow fall']))\n",
    "\n",
    "weather['snow depth'] = np.where(weather['snow depth']=='T', '0.00',weather['snow depth'])\n",
    "weather['snow depth'] = list(map(float, weather['snow depth']))\n",
    "\n",
    "weather.head(10)"
   ]
  },
  {
   "cell_type": "markdown",
   "metadata": {},
   "source": [
    "## Step 26.3:Define function to create dummy for turn type"
   ]
  },
  {
   "cell_type": "code",
   "execution_count": 83,
   "metadata": {
    "collapsed": true
   },
   "outputs": [],
   "source": [
    "def freq_turn(step_dir):\n",
    "    from collections import Counter\n",
    "    \n",
    "    step_dir_new = step_dir.split(\"|\")\n",
    "    a_list = Counter(step_dir_new).most_common()\n",
    "    path = {}\n",
    "    for i in range(len(a_list)):\n",
    "        path.update({a_list[i]})\n",
    "        \n",
    "    a = 0\n",
    "    b = 0\n",
    "    c = 0\n",
    "    \n",
    "    if 'straight' in (path.keys()):\n",
    "        a = path['straight']\n",
    "        #print(a)\n",
    "    if 'left' in (path.keys()):\n",
    "        b = path['left']\n",
    "        #print(b)\n",
    "    if 'right' in (path.keys()):\n",
    "        c = path['right']\n",
    "        #print(c)\n",
    "    return a,b,c\n"
   ]
  },
  {
   "cell_type": "code",
   "execution_count": 84,
   "metadata": {},
   "outputs": [
    {
     "name": "stdout",
     "output_type": "stream",
     "text": [
      "Time Taken by above cell is 42.86594486236572.\n"
     ]
    }
   ],
   "source": [
    "start = time.time()\n",
    "train_fr['straight']= 0\n",
    "train_fr['left'] =0\n",
    "train_fr['right'] = 0\n",
    "train_fr['straight'], train_fr['left'], train_fr['right'] = zip(*train_fr['step_direction'].map(freq_turn))\n",
    "#The zip() function take iterables (can be zero or more), \n",
    "# makes iterator that aggregates elements based on the iterables passed, and returns an iterator of tuples.\n",
    "end = time.time()\n",
    "print(\"Time Taken by above cell is {}.\".format(end - start))"
   ]
  },
  {
   "cell_type": "markdown",
   "metadata": {},
   "source": [
    "## Step 26.3: Merge direction information to data."
   ]
  },
  {
   "cell_type": "code",
   "execution_count": 85,
   "metadata": {},
   "outputs": [
    {
     "name": "stdout",
     "output_type": "stream",
     "text": [
      "47\n"
     ]
    }
   ],
   "source": [
    "train_fr_new = train_fr[['id','straight','left','right']]\n",
    "train = pd.merge(train, train_fr_new, on = 'id', how = 'left')\n",
    "#train = pd.merge(train, weather, on= 'date', how = 'left')\n",
    "print(len(train.columns))"
   ]
  },
  {
   "cell_type": "markdown",
   "metadata": {},
   "source": [
    "# Step 27: Predict traffic with weather data."
   ]
  },
  {
   "cell_type": "markdown",
   "metadata": {},
   "source": [
    "## Step 27.1: Merge weather data, and add centroid information."
   ]
  },
  {
   "cell_type": "code",
   "execution_count": 86,
   "metadata": {},
   "outputs": [
    {
     "data": {
      "text/plain": [
       "1458644"
      ]
     },
     "execution_count": 86,
     "metadata": {},
     "output_type": "execute_result"
    }
   ],
   "source": [
    "train['pickup_datetime'] = pd.to_datetime(train['pickup_datetime'])\n",
    "train['date'] = train['pickup_datetime'].dt.date\n",
    "train.head()\n",
    "\n",
    "train['date'] = pd.to_datetime(train['date'])\n",
    "train = pd.merge(train, weather[['date','minimum temperature', 'precipitation', 'snow fall', 'snow depth']], on= 'date', how = 'left')\n",
    "train.shape[0]"
   ]
  },
  {
   "cell_type": "code",
   "execution_count": 87,
   "metadata": {},
   "outputs": [
    {
     "name": "stdout",
     "output_type": "stream",
     "text": [
      "shape of train_features is 54.\n"
     ]
    }
   ],
   "source": [
    "train.loc[:,'hvsine_pick_cent_d'] = haversine_(train['pickup_latitude'].values, \n",
    "                                               train['pickup_longitude'].values, \n",
    "                                               train['centroid_drop_lat'].values, \n",
    "                                               train['centroid_drop_long'].values)\n",
    "train.loc[:,'hvsine_drop_cent_p'] = haversine_(train['dropoff_latitude'].values, \n",
    "                                               train['dropoff_longitude'].values, \n",
    "                                               train['centroid_pick_lat'].values, \n",
    "                                               train['centroid_pick_long'].values)\n",
    "\n",
    "test.loc[:,'hvsine_pick_cent_d'] = haversine_(test['pickup_latitude'].values, \n",
    "                                              test['pickup_longitude'].values, \n",
    "                                              test['centroid_drop_lat'].values, \n",
    "                                              test['centroid_drop_long'].values)\n",
    "test.loc[:,'hvsine_drop_cent_p'] = haversine_(test['dropoff_latitude'].values, \n",
    "                                              test['dropoff_longitude'].values, \n",
    "                                              test['centroid_pick_lat'].values, \n",
    "                                              test['centroid_pick_long'].values)\n",
    "\n",
    "print(\"shape of train_features is {}.\".format(len(train.columns)))"
   ]
  },
  {
   "cell_type": "markdown",
   "metadata": {},
   "source": [
    "## Step 27.2: Plot and analyze how these new features behave"
   ]
  },
  {
   "cell_type": "markdown",
   "metadata": {},
   "source": [
    "## Scatter Plot: https://plot.ly/python/user-guide/"
   ]
  },
  {
   "cell_type": "markdown",
   "metadata": {},
   "source": [
    "## Finding: Check how these distances are getting compared to that of total distance from OSRM by hovering over above plot."
   ]
  },
  {
   "cell_type": "code",
   "execution_count": 88,
   "metadata": {},
   "outputs": [
    {
     "data": {
      "text/plain": [
       "<matplotlib.axes._subplots.AxesSubplot at 0x1901338c240>"
      ]
     },
     "execution_count": 88,
     "metadata": {},
     "output_type": "execute_result"
    },
    {
     "data": {
      "image/png": "[encoded data removed]",
      "text/plain": [
       "<matplotlib.figure.Figure at 0x190209f1358>"
      ]
     },
     "metadata": {},
     "output_type": "display_data"
    }
   ],
   "source": [
    "%matplotlib inline\n",
    "\n",
    "sns.set(style=\"white\")\n",
    "\n",
    "# Generate a large random dataset\n",
    "temp3 = train.copy()\n",
    "\n",
    "# Compute the correlation matrix\n",
    "corr = temp3.corr()\n",
    "\n",
    "# for the upper triangle: Generate a mask \n",
    "mask = np.zeros_like(corr, dtype=np.bool)\n",
    "mask[np.triu_indices_from(mask)] = True\n",
    "\n",
    "# Set up the matplotlib figure\n",
    "f, ax = plt.subplots(figsize=(15, 13))\n",
    "\n",
    "# Generate a custom diverging colormap\n",
    "cmap = sns.diverging_palette(220, 10, as_cmap=True)\n",
    "\n",
    "# Draw the heatmap with the mask and correct aspect ratio\n",
    "sns.heatmap(corr, mask=mask, cmap=cmap, vmax=.3, center=0,\n",
    "            square=True, linewidths=.5, cbar_kws={\"shrink\": .5})"
   ]
  },
  {
   "cell_type": "markdown",
   "metadata": {},
   "source": [
    "## Findings:\n",
    "### 1. Pick_month, week_of_year, day_of_year etc are of very less importance and are not at all related to other variables.\n",
    "### 2. Positive correlation & negative correlation\n",
    "### 3. OSRM variables are very important => correlation is as high as 0.8"
   ]
  },
  {
   "cell_type": "markdown",
   "metadata": {},
   "source": [
    "## 2.1 Positive Correlation:\n",
    "### drop_longitude & pickup_longitude 0.8\n",
    "### dropoff_latitude & pickup_latitude 0.65\n",
    "### centroid_pick_long & pickup_latitude 0.9\n",
    "### centroid_pick_lat & pickup_latitude 0.8\n",
    "\n",
    "## 2.2 Negative Correlation:\n",
    "### pickup_pca0 & pickup_longitude -0.8"
   ]
  },
  {
   "cell_type": "markdown",
   "metadata": {},
   "source": [
    "# Sentiment Analysis"
   ]
  },
  {
   "cell_type": "markdown",
   "metadata": {},
   "source": [
    "## For validation if there is some consistency with the conclusion generated from algorithms.\n",
    "### Import the necessary methods from tweepy library."
   ]
  },
  {
   "cell_type": "code",
   "execution_count": 89,
   "metadata": {
    "collapsed": true
   },
   "outputs": [],
   "source": [
    "#Import the necessary methods from tweepy library\n",
    "import tweepy\n",
    "from tweepy import Stream\n",
    "from tweepy import OAuthHandler\n",
    "from tweepy.streaming import StreamListener\n",
    "import time\n",
    "from snownlp import SnowNLP\n",
    "\n",
    "# General:\n",
    "import tweepy           # To consume Twitter's API\n",
    "import pandas as pd     # To handle data\n",
    "import numpy as np      # For number computing\n",
    "\n",
    "# For plotting and visualization:\n",
    "from IPython.display import display\n",
    "import matplotlib.pyplot as plt\n",
    "import seaborn as sns\n",
    "from textblob import TextBlob\n",
    "import re\n",
    "\n",
    "%matplotlib inline\n",
    "\n",
    "#Variables that contain the user credentials to access Twitter API\n",
    "#(Note: replace with own values from https://apps.twitter.com/)\n",
    "CONSUMER_KEY='8CfHbmkzWMADgHLiZ8vpYnX5p'\n",
    "CONSUMER_SECRET ='QyqVrq5z4ZBRmGSMSMf43nt4KommzH7qrGal43HW7rjSVwvsHh'\n",
    "\n",
    "ACCESS_TOKEN='1639307029-iWG3oEUZwJoBiLwrTsHxspl7YGlGRj1PhGIYk7Y'\n",
    "ACCESS_SECRET='P3ulSrZk99gcYRMvlLYve89u9JNG10KUr0fX8bZW43FSO'\n",
    "\n"
   ]
  },
  {
   "cell_type": "markdown",
   "metadata": {},
   "source": [
    "## Check the key from: https://apps.twitter.com/app/14971757/show"
   ]
  },
  {
   "cell_type": "code",
   "execution_count": 90,
   "metadata": {
    "collapsed": true
   },
   "outputs": [],
   "source": [
    "# We import our access keys:\n",
    "from credentials import *    # This will allow us to use the keys as variables\n",
    "\n",
    "# API's setup:\n",
    "def twitter_setup():\n",
    "    \"\"\"\n",
    "    Utility function to setup the Twitter's API\n",
    "    with our access keys provided.\n",
    "    \"\"\"\n",
    "    # Authentication and access using keys:\n",
    "    auth = tweepy.OAuthHandler(CONSUMER_KEY, CONSUMER_SECRET)\n",
    "    auth.set_access_token(ACCESS_TOKEN, ACCESS_SECRET)\n",
    "\n",
    "    # Return API with authentication:\n",
    "    api = tweepy.API(auth)\n",
    "    return api"
   ]
  },
  {
   "cell_type": "markdown",
   "metadata": {},
   "source": [
    "## Define some functions: Create Dataframe,Add Data Feature, getTweet, search Keyword and sentimental analysis."
   ]
  },
  {
   "cell_type": "code",
   "execution_count": 91,
   "metadata": {
    "collapsed": true
   },
   "outputs": [],
   "source": [
    "def searchKeyword(keyword):\n",
    "    tweets = api.search(keyword)\n",
    "    return tweets\n",
    "\n",
    "def createDataFrame(tweets):\n",
    "    data = pd.DataFrame(data=[tweet.text for tweet in tweets], columns=['Tweets'])\n",
    "    return data\n",
    "\n",
    "def getTweetObject(tweets): ## Internal methods of a single tweet object:\n",
    "    print(dir(tweets[0])) ### The interesting part from here is the quantity of metadata contained in a single tweet. If we want to obtain data such as the creation date, or the source of creation, we can access the info with this attributes.\n",
    "\n",
    "def AddDataFeature(data, tweets):\n",
    "    # We add relevant data:## we well just add some data to our dataframe. \n",
    "    # For this we will use Pythons list comprehension and a new column will be added to the dataframe \n",
    "    # by just simply adding the name of the content between square brackets and assign the content.\n",
    "    data['len']  = np.array([len(tweet.text) for tweet in tweets])\n",
    "    data['ID']   = np.array([tweet.id for tweet in tweets])\n",
    "    data['Date'] = np.array([tweet.created_at for tweet in tweets])\n",
    "    data['Source'] = np.array([tweet.source for tweet in tweets])\n",
    "    data['Likes']  = np.array([tweet.favorite_count for tweet in tweets])\n",
    "    data['RTs']    = np.array([tweet.retweet_count for tweet in tweets])\n",
    "    return data\n",
    "    \n",
    "def clean_tweet(tweet):\n",
    "    '''\n",
    "    Utility function to clean the text in a tweet by removing \n",
    "    links and special characters using regex.\n",
    "    '''\n",
    "    return ' '.join(re.sub(\"(@[A-Za-z0-9]+)|([^0-9A-Za-z \\t])|(\\w+:\\/\\/\\S+)\", \" \", tweet).split())\n",
    "\n",
    "def analize_sentiment(tweet):\n",
    "    '''\n",
    "    Utility function to classify the polarity of a tweet\n",
    "    using textblob.\n",
    "    '''\n",
    "    analysis = TextBlob(clean_tweet(tweet))\n",
    "    if analysis.sentiment.polarity > 0:\n",
    "        return 1\n",
    "    elif analysis.sentiment.polarity == 0:\n",
    "        return 0\n",
    "    else:\n",
    "        return -1\n",
    "    \n",
    "def analize_sentiment_CHN(tweet):\n",
    "\n",
    "    analysis = SnowNLP(clean_tweet(tweet))\n",
    "    if analysis.sentiments.polarity > 0:\n",
    "        return 1\n",
    "    elif analysis.sentiments.polarity == 0:\n",
    "        return 0\n",
    "    else:\n",
    "        return -1\n",
    "    \n",
    "def addSentimentFeature(data):\n",
    "    # We create a column with the result of the analysis:\n",
    "    data['SA'] = np.array([ analize_sentiment(tweet) for tweet in data['Tweets'] ])\n",
    "    return data\n",
    "\n",
    "def addSentimentFeature_CHN(data):\n",
    "    # We create a column with the result of the analysis:\n",
    "    data['SA'] = np.array([ analize_sentiment_CHN(tweet) for tweet in data['Tweets'] ])\n",
    "    return data\n",
    "    \n",
    "def classifyTweets(data):\n",
    "    # We construct lists with classified tweets:\n",
    "    pos_tweets = [ tweet for index, tweet in enumerate(data['Tweets']) if data['SA'][index] > 0]\n",
    "    neu_tweets = [ tweet for index, tweet in enumerate(data['Tweets']) if data['SA'][index] == 0]\n",
    "    neg_tweets = [ tweet for index, tweet in enumerate(data['Tweets']) if data['SA'][index] < 0]\n",
    "    return pos_tweets, neu_tweets, neg_tweets\n",
    "\n"
   ]
  },
  {
   "cell_type": "markdown",
   "metadata": {},
   "source": [
    "## create an extractor object and call the functions to analysis."
   ]
  },
  {
   "cell_type": "code",
   "execution_count": 92,
   "metadata": {},
   "outputs": [
    {
     "name": "stdout",
     "output_type": "stream",
     "text": [
      "Number of New York traffic tweets extracted: 15.\n",
      "\n"
     ]
    },
    {
     "data": {
      "text/html": [
       "<div>\n",
       "<style>\n",
       "    .dataframe thead tr:only-child th {\n",
       "        text-align: right;\n",
       "    }\n",
       "\n",
       "    .dataframe thead th {\n",
       "        text-align: left;\n",
       "    }\n",
       "\n",
       "    .dataframe tbody tr th {\n",
       "        vertical-align: top;\n",
       "    }\n",
       "</style>\n",
       "<table border=\"1\" class=\"dataframe\">\n",
       "  <thead>\n",
       "    <tr style=\"text-align: right;\">\n",
       "      <th></th>\n",
       "      <th>Tweets</th>\n",
       "    </tr>\n",
       "  </thead>\n",
       "  <tbody>\n",
       "    <tr>\n",
       "      <th>0</th>\n",
       "      <td>RT @Reuters: 'Smallville' actress charged in s...</td>\n",
       "    </tr>\n",
       "    <tr>\n",
       "      <th>1</th>\n",
       "      <td>RT @Reuters: 'Smallville' actress charged in s...</td>\n",
       "    </tr>\n",
       "    <tr>\n",
       "      <th>2</th>\n",
       "      <td>RT @Reuters: 'Smallville' actress charged in s...</td>\n",
       "    </tr>\n",
       "    <tr>\n",
       "      <th>3</th>\n",
       "      <td>@NYGovCuomo We are one New York. I sit in traf...</td>\n",
       "    </tr>\n",
       "    <tr>\n",
       "      <th>4</th>\n",
       "      <td>RT @Reuters: 'Smallville' actress charged in s...</td>\n",
       "    </tr>\n",
       "    <tr>\n",
       "      <th>5</th>\n",
       "      <td>RT @Reuters: 'Smallville' actress charged in s...</td>\n",
       "    </tr>\n",
       "    <tr>\n",
       "      <th>6</th>\n",
       "      <td>RT @Reuters: 'Smallville' actress charged in s...</td>\n",
       "    </tr>\n",
       "    <tr>\n",
       "      <th>7</th>\n",
       "      <td>RT @Reuters: 'Smallville' actress charged in s...</td>\n",
       "    </tr>\n",
       "    <tr>\n",
       "      <th>8</th>\n",
       "      <td>RT @Reuters: 'Smallville' actress charged in s...</td>\n",
       "    </tr>\n",
       "    <tr>\n",
       "      <th>9</th>\n",
       "      <td>RT @Reuters: 'Smallville' actress charged in s...</td>\n",
       "    </tr>\n",
       "  </tbody>\n",
       "</table>\n",
       "</div>"
      ],
      "text/plain": [
       "                                              Tweets\n",
       "0  RT @Reuters: 'Smallville' actress charged in s...\n",
       "1  RT @Reuters: 'Smallville' actress charged in s...\n",
       "2  RT @Reuters: 'Smallville' actress charged in s...\n",
       "3  @NYGovCuomo We are one New York. I sit in traf...\n",
       "4  RT @Reuters: 'Smallville' actress charged in s...\n",
       "5  RT @Reuters: 'Smallville' actress charged in s...\n",
       "6  RT @Reuters: 'Smallville' actress charged in s...\n",
       "7  RT @Reuters: 'Smallville' actress charged in s...\n",
       "8  RT @Reuters: 'Smallville' actress charged in s...\n",
       "9  RT @Reuters: 'Smallville' actress charged in s..."
      ]
     },
     "metadata": {},
     "output_type": "execute_result"
    },
    {
     "name": "stdout",
     "output_type": "stream",
     "text": [
      "After adding features:\n",
      "\n"
     ]
    },
    {
     "data": {
      "text/html": [
       "<div>\n",
       "<style>\n",
       "    .dataframe thead tr:only-child th {\n",
       "        text-align: right;\n",
       "    }\n",
       "\n",
       "    .dataframe thead th {\n",
       "        text-align: left;\n",
       "    }\n",
       "\n",
       "    .dataframe tbody tr th {\n",
       "        vertical-align: top;\n",
       "    }\n",
       "</style>\n",
       "<table border=\"1\" class=\"dataframe\">\n",
       "  <thead>\n",
       "    <tr style=\"text-align: right;\">\n",
       "      <th></th>\n",
       "      <th>Tweets</th>\n",
       "      <th>len</th>\n",
       "      <th>ID</th>\n",
       "      <th>Date</th>\n",
       "      <th>Source</th>\n",
       "      <th>Likes</th>\n",
       "      <th>RTs</th>\n",
       "    </tr>\n",
       "  </thead>\n",
       "  <tbody>\n",
       "    <tr>\n",
       "      <th>0</th>\n",
       "      <td>RT @Reuters: 'Smallville' actress charged in s...</td>\n",
       "      <td>126</td>\n",
       "      <td>987509347684179968</td>\n",
       "      <td>2018-04-21 01:52:30</td>\n",
       "      <td>Twitter for Android</td>\n",
       "      <td>0</td>\n",
       "      <td>97</td>\n",
       "    </tr>\n",
       "    <tr>\n",
       "      <th>1</th>\n",
       "      <td>RT @Reuters: 'Smallville' actress charged in s...</td>\n",
       "      <td>126</td>\n",
       "      <td>987509216830205952</td>\n",
       "      <td>2018-04-21 01:51:58</td>\n",
       "      <td>Twitter for iPhone</td>\n",
       "      <td>0</td>\n",
       "      <td>97</td>\n",
       "    </tr>\n",
       "    <tr>\n",
       "      <th>2</th>\n",
       "      <td>RT @Reuters: 'Smallville' actress charged in s...</td>\n",
       "      <td>126</td>\n",
       "      <td>987508980711854080</td>\n",
       "      <td>2018-04-21 01:51:02</td>\n",
       "      <td>Twitter for Android</td>\n",
       "      <td>0</td>\n",
       "      <td>97</td>\n",
       "    </tr>\n",
       "    <tr>\n",
       "      <th>3</th>\n",
       "      <td>@NYGovCuomo We are one New York. I sit in traf...</td>\n",
       "      <td>140</td>\n",
       "      <td>987508757096693760</td>\n",
       "      <td>2018-04-21 01:50:09</td>\n",
       "      <td>Twitter for iPhone</td>\n",
       "      <td>0</td>\n",
       "      <td>0</td>\n",
       "    </tr>\n",
       "    <tr>\n",
       "      <th>4</th>\n",
       "      <td>RT @Reuters: 'Smallville' actress charged in s...</td>\n",
       "      <td>126</td>\n",
       "      <td>987508521125273602</td>\n",
       "      <td>2018-04-21 01:49:13</td>\n",
       "      <td>Twitter for Android</td>\n",
       "      <td>0</td>\n",
       "      <td>97</td>\n",
       "    </tr>\n",
       "    <tr>\n",
       "      <th>5</th>\n",
       "      <td>RT @Reuters: 'Smallville' actress charged in s...</td>\n",
       "      <td>126</td>\n",
       "      <td>987508500669517824</td>\n",
       "      <td>2018-04-21 01:49:08</td>\n",
       "      <td>Twitter for BlackBerry</td>\n",
       "      <td>0</td>\n",
       "      <td>97</td>\n",
       "    </tr>\n",
       "    <tr>\n",
       "      <th>6</th>\n",
       "      <td>RT @Reuters: 'Smallville' actress charged in s...</td>\n",
       "      <td>126</td>\n",
       "      <td>987507887256866816</td>\n",
       "      <td>2018-04-21 01:46:41</td>\n",
       "      <td>Twitter for iPhone</td>\n",
       "      <td>0</td>\n",
       "      <td>97</td>\n",
       "    </tr>\n",
       "    <tr>\n",
       "      <th>7</th>\n",
       "      <td>RT @Reuters: 'Smallville' actress charged in s...</td>\n",
       "      <td>126</td>\n",
       "      <td>987507784991178752</td>\n",
       "      <td>2018-04-21 01:46:17</td>\n",
       "      <td>Twitter Web Client</td>\n",
       "      <td>0</td>\n",
       "      <td>97</td>\n",
       "    </tr>\n",
       "    <tr>\n",
       "      <th>8</th>\n",
       "      <td>RT @Reuters: 'Smallville' actress charged in s...</td>\n",
       "      <td>126</td>\n",
       "      <td>987507441343582209</td>\n",
       "      <td>2018-04-21 01:44:55</td>\n",
       "      <td>Twitter for Android</td>\n",
       "      <td>0</td>\n",
       "      <td>97</td>\n",
       "    </tr>\n",
       "    <tr>\n",
       "      <th>9</th>\n",
       "      <td>RT @Reuters: 'Smallville' actress charged in s...</td>\n",
       "      <td>126</td>\n",
       "      <td>987507260497760256</td>\n",
       "      <td>2018-04-21 01:44:12</td>\n",
       "      <td>Twitter for iPhone</td>\n",
       "      <td>0</td>\n",
       "      <td>97</td>\n",
       "    </tr>\n",
       "  </tbody>\n",
       "</table>\n",
       "</div>"
      ],
      "text/plain": [
       "                                              Tweets  len                  ID  \\\n",
       "0  RT @Reuters: 'Smallville' actress charged in s...  126  987509347684179968   \n",
       "1  RT @Reuters: 'Smallville' actress charged in s...  126  987509216830205952   \n",
       "2  RT @Reuters: 'Smallville' actress charged in s...  126  987508980711854080   \n",
       "3  @NYGovCuomo We are one New York. I sit in traf...  140  987508757096693760   \n",
       "4  RT @Reuters: 'Smallville' actress charged in s...  126  987508521125273602   \n",
       "5  RT @Reuters: 'Smallville' actress charged in s...  126  987508500669517824   \n",
       "6  RT @Reuters: 'Smallville' actress charged in s...  126  987507887256866816   \n",
       "7  RT @Reuters: 'Smallville' actress charged in s...  126  987507784991178752   \n",
       "8  RT @Reuters: 'Smallville' actress charged in s...  126  987507441343582209   \n",
       "9  RT @Reuters: 'Smallville' actress charged in s...  126  987507260497760256   \n",
       "\n",
       "                 Date                  Source  Likes  RTs  \n",
       "0 2018-04-21 01:52:30     Twitter for Android      0   97  \n",
       "1 2018-04-21 01:51:58      Twitter for iPhone      0   97  \n",
       "2 2018-04-21 01:51:02     Twitter for Android      0   97  \n",
       "3 2018-04-21 01:50:09      Twitter for iPhone      0    0  \n",
       "4 2018-04-21 01:49:13     Twitter for Android      0   97  \n",
       "5 2018-04-21 01:49:08  Twitter for BlackBerry      0   97  \n",
       "6 2018-04-21 01:46:41      Twitter for iPhone      0   97  \n",
       "7 2018-04-21 01:46:17      Twitter Web Client      0   97  \n",
       "8 2018-04-21 01:44:55     Twitter for Android      0   97  \n",
       "9 2018-04-21 01:44:12      Twitter for iPhone      0   97  "
      ]
     },
     "metadata": {},
     "output_type": "execute_result"
    },
    {
     "name": "stdout",
     "output_type": "stream",
     "text": [
      "After adding Sentiment Features:\n",
      "\n"
     ]
    },
    {
     "data": {
      "text/html": [
       "<div>\n",
       "<style>\n",
       "    .dataframe thead tr:only-child th {\n",
       "        text-align: right;\n",
       "    }\n",
       "\n",
       "    .dataframe thead th {\n",
       "        text-align: left;\n",
       "    }\n",
       "\n",
       "    .dataframe tbody tr th {\n",
       "        vertical-align: top;\n",
       "    }\n",
       "</style>\n",
       "<table border=\"1\" class=\"dataframe\">\n",
       "  <thead>\n",
       "    <tr style=\"text-align: right;\">\n",
       "      <th></th>\n",
       "      <th>Tweets</th>\n",
       "      <th>len</th>\n",
       "      <th>ID</th>\n",
       "      <th>Date</th>\n",
       "      <th>Source</th>\n",
       "      <th>Likes</th>\n",
       "      <th>RTs</th>\n",
       "      <th>SA</th>\n",
       "    </tr>\n",
       "  </thead>\n",
       "  <tbody>\n",
       "    <tr>\n",
       "      <th>0</th>\n",
       "      <td>RT @Reuters: 'Smallville' actress charged in s...</td>\n",
       "      <td>126</td>\n",
       "      <td>987509347684179968</td>\n",
       "      <td>2018-04-21 01:52:30</td>\n",
       "      <td>Twitter for Android</td>\n",
       "      <td>0</td>\n",
       "      <td>97</td>\n",
       "      <td>0</td>\n",
       "    </tr>\n",
       "    <tr>\n",
       "      <th>1</th>\n",
       "      <td>RT @Reuters: 'Smallville' actress charged in s...</td>\n",
       "      <td>126</td>\n",
       "      <td>987509216830205952</td>\n",
       "      <td>2018-04-21 01:51:58</td>\n",
       "      <td>Twitter for iPhone</td>\n",
       "      <td>0</td>\n",
       "      <td>97</td>\n",
       "      <td>0</td>\n",
       "    </tr>\n",
       "    <tr>\n",
       "      <th>2</th>\n",
       "      <td>RT @Reuters: 'Smallville' actress charged in s...</td>\n",
       "      <td>126</td>\n",
       "      <td>987508980711854080</td>\n",
       "      <td>2018-04-21 01:51:02</td>\n",
       "      <td>Twitter for Android</td>\n",
       "      <td>0</td>\n",
       "      <td>97</td>\n",
       "      <td>0</td>\n",
       "    </tr>\n",
       "    <tr>\n",
       "      <th>3</th>\n",
       "      <td>@NYGovCuomo We are one New York. I sit in traf...</td>\n",
       "      <td>140</td>\n",
       "      <td>987508757096693760</td>\n",
       "      <td>2018-04-21 01:50:09</td>\n",
       "      <td>Twitter for iPhone</td>\n",
       "      <td>0</td>\n",
       "      <td>0</td>\n",
       "      <td>1</td>\n",
       "    </tr>\n",
       "    <tr>\n",
       "      <th>4</th>\n",
       "      <td>RT @Reuters: 'Smallville' actress charged in s...</td>\n",
       "      <td>126</td>\n",
       "      <td>987508521125273602</td>\n",
       "      <td>2018-04-21 01:49:13</td>\n",
       "      <td>Twitter for Android</td>\n",
       "      <td>0</td>\n",
       "      <td>97</td>\n",
       "      <td>0</td>\n",
       "    </tr>\n",
       "    <tr>\n",
       "      <th>5</th>\n",
       "      <td>RT @Reuters: 'Smallville' actress charged in s...</td>\n",
       "      <td>126</td>\n",
       "      <td>987508500669517824</td>\n",
       "      <td>2018-04-21 01:49:08</td>\n",
       "      <td>Twitter for BlackBerry</td>\n",
       "      <td>0</td>\n",
       "      <td>97</td>\n",
       "      <td>0</td>\n",
       "    </tr>\n",
       "    <tr>\n",
       "      <th>6</th>\n",
       "      <td>RT @Reuters: 'Smallville' actress charged in s...</td>\n",
       "      <td>126</td>\n",
       "      <td>987507887256866816</td>\n",
       "      <td>2018-04-21 01:46:41</td>\n",
       "      <td>Twitter for iPhone</td>\n",
       "      <td>0</td>\n",
       "      <td>97</td>\n",
       "      <td>0</td>\n",
       "    </tr>\n",
       "    <tr>\n",
       "      <th>7</th>\n",
       "      <td>RT @Reuters: 'Smallville' actress charged in s...</td>\n",
       "      <td>126</td>\n",
       "      <td>987507784991178752</td>\n",
       "      <td>2018-04-21 01:46:17</td>\n",
       "      <td>Twitter Web Client</td>\n",
       "      <td>0</td>\n",
       "      <td>97</td>\n",
       "      <td>0</td>\n",
       "    </tr>\n",
       "    <tr>\n",
       "      <th>8</th>\n",
       "      <td>RT @Reuters: 'Smallville' actress charged in s...</td>\n",
       "      <td>126</td>\n",
       "      <td>987507441343582209</td>\n",
       "      <td>2018-04-21 01:44:55</td>\n",
       "      <td>Twitter for Android</td>\n",
       "      <td>0</td>\n",
       "      <td>97</td>\n",
       "      <td>0</td>\n",
       "    </tr>\n",
       "    <tr>\n",
       "      <th>9</th>\n",
       "      <td>RT @Reuters: 'Smallville' actress charged in s...</td>\n",
       "      <td>126</td>\n",
       "      <td>987507260497760256</td>\n",
       "      <td>2018-04-21 01:44:12</td>\n",
       "      <td>Twitter for iPhone</td>\n",
       "      <td>0</td>\n",
       "      <td>97</td>\n",
       "      <td>0</td>\n",
       "    </tr>\n",
       "  </tbody>\n",
       "</table>\n",
       "</div>"
      ],
      "text/plain": [
       "                                              Tweets  len                  ID  \\\n",
       "0  RT @Reuters: 'Smallville' actress charged in s...  126  987509347684179968   \n",
       "1  RT @Reuters: 'Smallville' actress charged in s...  126  987509216830205952   \n",
       "2  RT @Reuters: 'Smallville' actress charged in s...  126  987508980711854080   \n",
       "3  @NYGovCuomo We are one New York. I sit in traf...  140  987508757096693760   \n",
       "4  RT @Reuters: 'Smallville' actress charged in s...  126  987508521125273602   \n",
       "5  RT @Reuters: 'Smallville' actress charged in s...  126  987508500669517824   \n",
       "6  RT @Reuters: 'Smallville' actress charged in s...  126  987507887256866816   \n",
       "7  RT @Reuters: 'Smallville' actress charged in s...  126  987507784991178752   \n",
       "8  RT @Reuters: 'Smallville' actress charged in s...  126  987507441343582209   \n",
       "9  RT @Reuters: 'Smallville' actress charged in s...  126  987507260497760256   \n",
       "\n",
       "                 Date                  Source  Likes  RTs  SA  \n",
       "0 2018-04-21 01:52:30     Twitter for Android      0   97   0  \n",
       "1 2018-04-21 01:51:58      Twitter for iPhone      0   97   0  \n",
       "2 2018-04-21 01:51:02     Twitter for Android      0   97   0  \n",
       "3 2018-04-21 01:50:09      Twitter for iPhone      0    0   1  \n",
       "4 2018-04-21 01:49:13     Twitter for Android      0   97   0  \n",
       "5 2018-04-21 01:49:08  Twitter for BlackBerry      0   97   0  \n",
       "6 2018-04-21 01:46:41      Twitter for iPhone      0   97   0  \n",
       "7 2018-04-21 01:46:17      Twitter Web Client      0   97   0  \n",
       "8 2018-04-21 01:44:55     Twitter for Android      0   97   0  \n",
       "9 2018-04-21 01:44:12      Twitter for iPhone      0   97   0  "
      ]
     },
     "metadata": {},
     "output_type": "execute_result"
    },
    {
     "name": "stdout",
     "output_type": "stream",
     "text": [
      "Percentage of New York traffic positive tweets: 13.333333333333334%\n",
      "Percentage of New York traffic neutral tweets: 86.66666666666667%\n",
      "Percentage de New York traffic negative tweets: 0.0%\n"
     ]
    }
   ],
   "source": [
    "# We create an extractor object:\n",
    "api = twitter_setup()\n",
    "\n",
    "keyword=\"New York traffic\"\n",
    "tweets=searchKeyword(keyword)\n",
    "dftweets=createDataFrame(tweets)\n",
    "\n",
    "print(\"Number of {} tweets extracted: {}.\\n\".format(keyword, len(tweets)))\n",
    "\n",
    "# We display the first 10 elements of the dataframe:\n",
    "display(dftweets.head(10))\n",
    "\n",
    "dftweets=AddDataFeature(dftweets, tweets)\n",
    "\n",
    "print(\"After adding features:\\n\")\n",
    "display(dftweets.head(10))\n",
    "\n",
    "dftweets=addSentimentFeature(dftweets)\n",
    "print(\"After adding Sentiment Features:\\n\")\n",
    "display(dftweets.head(10))\n",
    "\n",
    "pos_tweets, neu_tweets, neg_tweets=classifyTweets(dftweets)\n",
    "\n",
    "print(\"Percentage of {} positive tweets: {}%\".format(keyword, len(pos_tweets)*100/len(dftweets['Tweets'])))\n",
    "print(\"Percentage of {} neutral tweets: {}%\".format(keyword, len(neu_tweets)*100/len(dftweets['Tweets'])))\n",
    "print(\"Percentage de {} negative tweets: {}%\".format(keyword, len(neg_tweets)*100/len(dftweets['Tweets'])))"
   ]
  },
  {
   "cell_type": "markdown",
   "metadata": {},
   "source": [
    "### Same with last session with weather analysis. "
   ]
  },
  {
   "cell_type": "code",
   "execution_count": 93,
   "metadata": {},
   "outputs": [
    {
     "name": "stdout",
     "output_type": "stream",
     "text": [
      "Number of New York weather tweets extracted: 15.\n",
      "\n"
     ]
    },
    {
     "data": {
      "text/html": [
       "<div>\n",
       "<style>\n",
       "    .dataframe thead tr:only-child th {\n",
       "        text-align: right;\n",
       "    }\n",
       "\n",
       "    .dataframe thead th {\n",
       "        text-align: left;\n",
       "    }\n",
       "\n",
       "    .dataframe tbody tr th {\n",
       "        vertical-align: top;\n",
       "    }\n",
       "</style>\n",
       "<table border=\"1\" class=\"dataframe\">\n",
       "  <thead>\n",
       "    <tr style=\"text-align: right;\">\n",
       "      <th></th>\n",
       "      <th>Tweets</th>\n",
       "    </tr>\n",
       "  </thead>\n",
       "  <tbody>\n",
       "    <tr>\n",
       "      <th>0</th>\n",
       "      <td>RT @dsantana310: the New York #Yankees are as ...</td>\n",
       "    </tr>\n",
       "    <tr>\n",
       "      <th>1</th>\n",
       "      <td>RT @dsantana310: the New York #Yankees are as ...</td>\n",
       "    </tr>\n",
       "    <tr>\n",
       "      <th>2</th>\n",
       "      <td>RT @Kuerstin_M: I am a:\\n\\n⚪️ male\\n⚪️ female\\...</td>\n",
       "    </tr>\n",
       "    <tr>\n",
       "      <th>3</th>\n",
       "      <td>RT @dsantana310: the New York #Yankees are as ...</td>\n",
       "    </tr>\n",
       "    <tr>\n",
       "      <th>4</th>\n",
       "      <td>RT @Kuerstin_M: I am a:\\n\\n⚪️ male\\n⚪️ female\\...</td>\n",
       "    </tr>\n",
       "    <tr>\n",
       "      <th>5</th>\n",
       "      <td>RT @Kuerstin_M: I am a:\\n\\n⚪️ male\\n⚪️ female\\...</td>\n",
       "    </tr>\n",
       "    <tr>\n",
       "      <th>6</th>\n",
       "      <td>RT @Kuerstin_M: I am a:\\n\\n⚪️ male\\n⚪️ female\\...</td>\n",
       "    </tr>\n",
       "    <tr>\n",
       "      <th>7</th>\n",
       "      <td>RT @Kuerstin_M: I am a:\\n\\n⚪️ male\\n⚪️ female\\...</td>\n",
       "    </tr>\n",
       "    <tr>\n",
       "      <th>8</th>\n",
       "      <td>RT @Kuerstin_M: I am a:\\n\\n⚪️ male\\n⚪️ female\\...</td>\n",
       "    </tr>\n",
       "    <tr>\n",
       "      <th>9</th>\n",
       "      <td>RT @Kuerstin_M: I am a:\\n\\n⚪️ male\\n⚪️ female\\...</td>\n",
       "    </tr>\n",
       "  </tbody>\n",
       "</table>\n",
       "</div>"
      ],
      "text/plain": [
       "                                              Tweets\n",
       "0  RT @dsantana310: the New York #Yankees are as ...\n",
       "1  RT @dsantana310: the New York #Yankees are as ...\n",
       "2  RT @Kuerstin_M: I am a:\\n\\n⚪️ male\\n⚪️ female\\...\n",
       "3  RT @dsantana310: the New York #Yankees are as ...\n",
       "4  RT @Kuerstin_M: I am a:\\n\\n⚪️ male\\n⚪️ female\\...\n",
       "5  RT @Kuerstin_M: I am a:\\n\\n⚪️ male\\n⚪️ female\\...\n",
       "6  RT @Kuerstin_M: I am a:\\n\\n⚪️ male\\n⚪️ female\\...\n",
       "7  RT @Kuerstin_M: I am a:\\n\\n⚪️ male\\n⚪️ female\\...\n",
       "8  RT @Kuerstin_M: I am a:\\n\\n⚪️ male\\n⚪️ female\\...\n",
       "9  RT @Kuerstin_M: I am a:\\n\\n⚪️ male\\n⚪️ female\\..."
      ]
     },
     "metadata": {},
     "output_type": "execute_result"
    },
    {
     "name": "stdout",
     "output_type": "stream",
     "text": [
      "After adding features:\n",
      "\n"
     ]
    },
    {
     "data": {
      "text/html": [
       "<div>\n",
       "<style>\n",
       "    .dataframe thead tr:only-child th {\n",
       "        text-align: right;\n",
       "    }\n",
       "\n",
       "    .dataframe thead th {\n",
       "        text-align: left;\n",
       "    }\n",
       "\n",
       "    .dataframe tbody tr th {\n",
       "        vertical-align: top;\n",
       "    }\n",
       "</style>\n",
       "<table border=\"1\" class=\"dataframe\">\n",
       "  <thead>\n",
       "    <tr style=\"text-align: right;\">\n",
       "      <th></th>\n",
       "      <th>Tweets</th>\n",
       "      <th>len</th>\n",
       "      <th>ID</th>\n",
       "      <th>Date</th>\n",
       "      <th>Source</th>\n",
       "      <th>Likes</th>\n",
       "      <th>RTs</th>\n",
       "    </tr>\n",
       "  </thead>\n",
       "  <tbody>\n",
       "    <tr>\n",
       "      <th>0</th>\n",
       "      <td>RT @dsantana310: the New York #Yankees are as ...</td>\n",
       "      <td>76</td>\n",
       "      <td>987509031517458432</td>\n",
       "      <td>2018-04-21 01:51:14</td>\n",
       "      <td>Twitter for iPhone</td>\n",
       "      <td>0</td>\n",
       "      <td>5</td>\n",
       "    </tr>\n",
       "    <tr>\n",
       "      <th>1</th>\n",
       "      <td>RT @dsantana310: the New York #Yankees are as ...</td>\n",
       "      <td>76</td>\n",
       "      <td>987508985879146496</td>\n",
       "      <td>2018-04-21 01:51:03</td>\n",
       "      <td>Twitter for Android</td>\n",
       "      <td>0</td>\n",
       "      <td>5</td>\n",
       "    </tr>\n",
       "    <tr>\n",
       "      <th>2</th>\n",
       "      <td>RT @Kuerstin_M: I am a:\\n\\n⚪️ male\\n⚪️ female\\...</td>\n",
       "      <td>130</td>\n",
       "      <td>987508581879644160</td>\n",
       "      <td>2018-04-21 01:49:27</td>\n",
       "      <td>Twitter for iPhone</td>\n",
       "      <td>0</td>\n",
       "      <td>2829</td>\n",
       "    </tr>\n",
       "    <tr>\n",
       "      <th>3</th>\n",
       "      <td>RT @dsantana310: the New York #Yankees are as ...</td>\n",
       "      <td>76</td>\n",
       "      <td>987508412454981632</td>\n",
       "      <td>2018-04-21 01:48:47</td>\n",
       "      <td>Twitter for iPhone</td>\n",
       "      <td>0</td>\n",
       "      <td>5</td>\n",
       "    </tr>\n",
       "    <tr>\n",
       "      <th>4</th>\n",
       "      <td>RT @Kuerstin_M: I am a:\\n\\n⚪️ male\\n⚪️ female\\...</td>\n",
       "      <td>130</td>\n",
       "      <td>987508250122899456</td>\n",
       "      <td>2018-04-21 01:48:08</td>\n",
       "      <td>Twitter for iPhone</td>\n",
       "      <td>0</td>\n",
       "      <td>2829</td>\n",
       "    </tr>\n",
       "    <tr>\n",
       "      <th>5</th>\n",
       "      <td>RT @Kuerstin_M: I am a:\\n\\n⚪️ male\\n⚪️ female\\...</td>\n",
       "      <td>130</td>\n",
       "      <td>987507550659727360</td>\n",
       "      <td>2018-04-21 01:45:21</td>\n",
       "      <td>Twitter for Android</td>\n",
       "      <td>0</td>\n",
       "      <td>2829</td>\n",
       "    </tr>\n",
       "    <tr>\n",
       "      <th>6</th>\n",
       "      <td>RT @Kuerstin_M: I am a:\\n\\n⚪️ male\\n⚪️ female\\...</td>\n",
       "      <td>130</td>\n",
       "      <td>987507397387276288</td>\n",
       "      <td>2018-04-21 01:44:45</td>\n",
       "      <td>Twitter for iPhone</td>\n",
       "      <td>0</td>\n",
       "      <td>2829</td>\n",
       "    </tr>\n",
       "    <tr>\n",
       "      <th>7</th>\n",
       "      <td>RT @Kuerstin_M: I am a:\\n\\n⚪️ male\\n⚪️ female\\...</td>\n",
       "      <td>130</td>\n",
       "      <td>987507128050085889</td>\n",
       "      <td>2018-04-21 01:43:40</td>\n",
       "      <td>Twitter for iPhone</td>\n",
       "      <td>0</td>\n",
       "      <td>2829</td>\n",
       "    </tr>\n",
       "    <tr>\n",
       "      <th>8</th>\n",
       "      <td>RT @Kuerstin_M: I am a:\\n\\n⚪️ male\\n⚪️ female\\...</td>\n",
       "      <td>130</td>\n",
       "      <td>987506919106666496</td>\n",
       "      <td>2018-04-21 01:42:51</td>\n",
       "      <td>Twitter for iPhone</td>\n",
       "      <td>0</td>\n",
       "      <td>2829</td>\n",
       "    </tr>\n",
       "    <tr>\n",
       "      <th>9</th>\n",
       "      <td>RT @Kuerstin_M: I am a:\\n\\n⚪️ male\\n⚪️ female\\...</td>\n",
       "      <td>130</td>\n",
       "      <td>987506804967067649</td>\n",
       "      <td>2018-04-21 01:42:23</td>\n",
       "      <td>Twitter for iPhone</td>\n",
       "      <td>0</td>\n",
       "      <td>2829</td>\n",
       "    </tr>\n",
       "  </tbody>\n",
       "</table>\n",
       "</div>"
      ],
      "text/plain": [
       "                                              Tweets  len                  ID  \\\n",
       "0  RT @dsantana310: the New York #Yankees are as ...   76  987509031517458432   \n",
       "1  RT @dsantana310: the New York #Yankees are as ...   76  987508985879146496   \n",
       "2  RT @Kuerstin_M: I am a:\\n\\n⚪️ male\\n⚪️ female\\...  130  987508581879644160   \n",
       "3  RT @dsantana310: the New York #Yankees are as ...   76  987508412454981632   \n",
       "4  RT @Kuerstin_M: I am a:\\n\\n⚪️ male\\n⚪️ female\\...  130  987508250122899456   \n",
       "5  RT @Kuerstin_M: I am a:\\n\\n⚪️ male\\n⚪️ female\\...  130  987507550659727360   \n",
       "6  RT @Kuerstin_M: I am a:\\n\\n⚪️ male\\n⚪️ female\\...  130  987507397387276288   \n",
       "7  RT @Kuerstin_M: I am a:\\n\\n⚪️ male\\n⚪️ female\\...  130  987507128050085889   \n",
       "8  RT @Kuerstin_M: I am a:\\n\\n⚪️ male\\n⚪️ female\\...  130  987506919106666496   \n",
       "9  RT @Kuerstin_M: I am a:\\n\\n⚪️ male\\n⚪️ female\\...  130  987506804967067649   \n",
       "\n",
       "                 Date               Source  Likes   RTs  \n",
       "0 2018-04-21 01:51:14   Twitter for iPhone      0     5  \n",
       "1 2018-04-21 01:51:03  Twitter for Android      0     5  \n",
       "2 2018-04-21 01:49:27   Twitter for iPhone      0  2829  \n",
       "3 2018-04-21 01:48:47   Twitter for iPhone      0     5  \n",
       "4 2018-04-21 01:48:08   Twitter for iPhone      0  2829  \n",
       "5 2018-04-21 01:45:21  Twitter for Android      0  2829  \n",
       "6 2018-04-21 01:44:45   Twitter for iPhone      0  2829  \n",
       "7 2018-04-21 01:43:40   Twitter for iPhone      0  2829  \n",
       "8 2018-04-21 01:42:51   Twitter for iPhone      0  2829  \n",
       "9 2018-04-21 01:42:23   Twitter for iPhone      0  2829  "
      ]
     },
     "metadata": {},
     "output_type": "execute_result"
    },
    {
     "name": "stdout",
     "output_type": "stream",
     "text": [
      "After adding Sentiment Features:\n",
      "\n"
     ]
    },
    {
     "data": {
      "text/html": [
       "<div>\n",
       "<style>\n",
       "    .dataframe thead tr:only-child th {\n",
       "        text-align: right;\n",
       "    }\n",
       "\n",
       "    .dataframe thead th {\n",
       "        text-align: left;\n",
       "    }\n",
       "\n",
       "    .dataframe tbody tr th {\n",
       "        vertical-align: top;\n",
       "    }\n",
       "</style>\n",
       "<table border=\"1\" class=\"dataframe\">\n",
       "  <thead>\n",
       "    <tr style=\"text-align: right;\">\n",
       "      <th></th>\n",
       "      <th>Tweets</th>\n",
       "      <th>len</th>\n",
       "      <th>ID</th>\n",
       "      <th>Date</th>\n",
       "      <th>Source</th>\n",
       "      <th>Likes</th>\n",
       "      <th>RTs</th>\n",
       "      <th>SA</th>\n",
       "    </tr>\n",
       "  </thead>\n",
       "  <tbody>\n",
       "    <tr>\n",
       "      <th>0</th>\n",
       "      <td>RT @dsantana310: the New York #Yankees are as ...</td>\n",
       "      <td>76</td>\n",
       "      <td>987509031517458432</td>\n",
       "      <td>2018-04-21 01:51:14</td>\n",
       "      <td>Twitter for iPhone</td>\n",
       "      <td>0</td>\n",
       "      <td>5</td>\n",
       "      <td>1</td>\n",
       "    </tr>\n",
       "    <tr>\n",
       "      <th>1</th>\n",
       "      <td>RT @dsantana310: the New York #Yankees are as ...</td>\n",
       "      <td>76</td>\n",
       "      <td>987508985879146496</td>\n",
       "      <td>2018-04-21 01:51:03</td>\n",
       "      <td>Twitter for Android</td>\n",
       "      <td>0</td>\n",
       "      <td>5</td>\n",
       "      <td>1</td>\n",
       "    </tr>\n",
       "    <tr>\n",
       "      <th>2</th>\n",
       "      <td>RT @Kuerstin_M: I am a:\\n\\n⚪️ male\\n⚪️ female\\...</td>\n",
       "      <td>130</td>\n",
       "      <td>987508581879644160</td>\n",
       "      <td>2018-04-21 01:49:27</td>\n",
       "      <td>Twitter for iPhone</td>\n",
       "      <td>0</td>\n",
       "      <td>2829</td>\n",
       "      <td>1</td>\n",
       "    </tr>\n",
       "    <tr>\n",
       "      <th>3</th>\n",
       "      <td>RT @dsantana310: the New York #Yankees are as ...</td>\n",
       "      <td>76</td>\n",
       "      <td>987508412454981632</td>\n",
       "      <td>2018-04-21 01:48:47</td>\n",
       "      <td>Twitter for iPhone</td>\n",
       "      <td>0</td>\n",
       "      <td>5</td>\n",
       "      <td>1</td>\n",
       "    </tr>\n",
       "    <tr>\n",
       "      <th>4</th>\n",
       "      <td>RT @Kuerstin_M: I am a:\\n\\n⚪️ male\\n⚪️ female\\...</td>\n",
       "      <td>130</td>\n",
       "      <td>987508250122899456</td>\n",
       "      <td>2018-04-21 01:48:08</td>\n",
       "      <td>Twitter for iPhone</td>\n",
       "      <td>0</td>\n",
       "      <td>2829</td>\n",
       "      <td>1</td>\n",
       "    </tr>\n",
       "    <tr>\n",
       "      <th>5</th>\n",
       "      <td>RT @Kuerstin_M: I am a:\\n\\n⚪️ male\\n⚪️ female\\...</td>\n",
       "      <td>130</td>\n",
       "      <td>987507550659727360</td>\n",
       "      <td>2018-04-21 01:45:21</td>\n",
       "      <td>Twitter for Android</td>\n",
       "      <td>0</td>\n",
       "      <td>2829</td>\n",
       "      <td>1</td>\n",
       "    </tr>\n",
       "    <tr>\n",
       "      <th>6</th>\n",
       "      <td>RT @Kuerstin_M: I am a:\\n\\n⚪️ male\\n⚪️ female\\...</td>\n",
       "      <td>130</td>\n",
       "      <td>987507397387276288</td>\n",
       "      <td>2018-04-21 01:44:45</td>\n",
       "      <td>Twitter for iPhone</td>\n",
       "      <td>0</td>\n",
       "      <td>2829</td>\n",
       "      <td>1</td>\n",
       "    </tr>\n",
       "    <tr>\n",
       "      <th>7</th>\n",
       "      <td>RT @Kuerstin_M: I am a:\\n\\n⚪️ male\\n⚪️ female\\...</td>\n",
       "      <td>130</td>\n",
       "      <td>987507128050085889</td>\n",
       "      <td>2018-04-21 01:43:40</td>\n",
       "      <td>Twitter for iPhone</td>\n",
       "      <td>0</td>\n",
       "      <td>2829</td>\n",
       "      <td>1</td>\n",
       "    </tr>\n",
       "    <tr>\n",
       "      <th>8</th>\n",
       "      <td>RT @Kuerstin_M: I am a:\\n\\n⚪️ male\\n⚪️ female\\...</td>\n",
       "      <td>130</td>\n",
       "      <td>987506919106666496</td>\n",
       "      <td>2018-04-21 01:42:51</td>\n",
       "      <td>Twitter for iPhone</td>\n",
       "      <td>0</td>\n",
       "      <td>2829</td>\n",
       "      <td>1</td>\n",
       "    </tr>\n",
       "    <tr>\n",
       "      <th>9</th>\n",
       "      <td>RT @Kuerstin_M: I am a:\\n\\n⚪️ male\\n⚪️ female\\...</td>\n",
       "      <td>130</td>\n",
       "      <td>987506804967067649</td>\n",
       "      <td>2018-04-21 01:42:23</td>\n",
       "      <td>Twitter for iPhone</td>\n",
       "      <td>0</td>\n",
       "      <td>2829</td>\n",
       "      <td>1</td>\n",
       "    </tr>\n",
       "  </tbody>\n",
       "</table>\n",
       "</div>"
      ],
      "text/plain": [
       "                                              Tweets  len                  ID  \\\n",
       "0  RT @dsantana310: the New York #Yankees are as ...   76  987509031517458432   \n",
       "1  RT @dsantana310: the New York #Yankees are as ...   76  987508985879146496   \n",
       "2  RT @Kuerstin_M: I am a:\\n\\n⚪️ male\\n⚪️ female\\...  130  987508581879644160   \n",
       "3  RT @dsantana310: the New York #Yankees are as ...   76  987508412454981632   \n",
       "4  RT @Kuerstin_M: I am a:\\n\\n⚪️ male\\n⚪️ female\\...  130  987508250122899456   \n",
       "5  RT @Kuerstin_M: I am a:\\n\\n⚪️ male\\n⚪️ female\\...  130  987507550659727360   \n",
       "6  RT @Kuerstin_M: I am a:\\n\\n⚪️ male\\n⚪️ female\\...  130  987507397387276288   \n",
       "7  RT @Kuerstin_M: I am a:\\n\\n⚪️ male\\n⚪️ female\\...  130  987507128050085889   \n",
       "8  RT @Kuerstin_M: I am a:\\n\\n⚪️ male\\n⚪️ female\\...  130  987506919106666496   \n",
       "9  RT @Kuerstin_M: I am a:\\n\\n⚪️ male\\n⚪️ female\\...  130  987506804967067649   \n",
       "\n",
       "                 Date               Source  Likes   RTs  SA  \n",
       "0 2018-04-21 01:51:14   Twitter for iPhone      0     5   1  \n",
       "1 2018-04-21 01:51:03  Twitter for Android      0     5   1  \n",
       "2 2018-04-21 01:49:27   Twitter for iPhone      0  2829   1  \n",
       "3 2018-04-21 01:48:47   Twitter for iPhone      0     5   1  \n",
       "4 2018-04-21 01:48:08   Twitter for iPhone      0  2829   1  \n",
       "5 2018-04-21 01:45:21  Twitter for Android      0  2829   1  \n",
       "6 2018-04-21 01:44:45   Twitter for iPhone      0  2829   1  \n",
       "7 2018-04-21 01:43:40   Twitter for iPhone      0  2829   1  \n",
       "8 2018-04-21 01:42:51   Twitter for iPhone      0  2829   1  \n",
       "9 2018-04-21 01:42:23   Twitter for iPhone      0  2829   1  "
      ]
     },
     "metadata": {},
     "output_type": "execute_result"
    },
    {
     "name": "stdout",
     "output_type": "stream",
     "text": [
      "Percentage of New York weather positive tweets: 100.0%\n",
      "Percentage of New York weather neutral tweets: 0.0%\n",
      "Percentage de New York weather negative tweets: 0.0%\n"
     ]
    }
   ],
   "source": [
    "# We create an extractor object:\n",
    "\n",
    "keyword=\"New York weather\"\n",
    "tweets=searchKeyword(keyword)\n",
    "dftweets=createDataFrame(tweets)\n",
    "\n",
    "print(\"Number of {} tweets extracted: {}.\\n\".format(keyword, len(tweets)))\n",
    "\n",
    "# We display the first 10 elements of the dataframe:\n",
    "display(dftweets.head(10))\n",
    "\n",
    "dftweets=AddDataFeature(dftweets, tweets)\n",
    "\n",
    "print(\"After adding features:\\n\")\n",
    "display(dftweets.head(10))\n",
    "\n",
    "dftweets=addSentimentFeature(dftweets)\n",
    "print(\"After adding Sentiment Features:\\n\")\n",
    "display(dftweets.head(10))\n",
    "\n",
    "pos_tweets, neu_tweets, neg_tweets=classifyTweets(dftweets)\n",
    "\n",
    "print(\"Percentage of {} positive tweets: {}%\".format(keyword, len(pos_tweets)*100/len(dftweets['Tweets'])))\n",
    "print(\"Percentage of {} neutral tweets: {}%\".format(keyword, len(neu_tweets)*100/len(dftweets['Tweets'])))\n",
    "print(\"Percentage de {} negative tweets: {}%\".format(keyword, len(neg_tweets)*100/len(dftweets['Tweets'])))"
   ]
  },
  {
   "cell_type": "markdown",
   "metadata": {},
   "source": [
    "## The code in the document by Ziwei Fan is licensed under the MIT License：https://opensource.org/licenses/MIT"
   ]
  },
  {
   "cell_type": "code",
   "execution_count": 94,
   "metadata": {},
   "outputs": [
    {
     "data": {
      "text/plain": [
       "'The text is released under the '"
      ]
     },
     "metadata": {},
     "output_type": "display_data"
    },
    {
     "data": {
      "text/html": [
       "<a href=\"https://creativecommons.org/licenses/by/3.0/us/\">CC-BY-NC-ND</a>"
      ],
      "text/plain": [
       "<IPython.core.display.HTML object>"
      ]
     },
     "metadata": {},
     "output_type": "execute_result"
    },
    {
     "data": {
      "text/plain": [
       "'license, and code is released under the '"
      ]
     },
     "metadata": {},
     "output_type": "display_data"
    },
    {
     "data": {
      "text/html": [
       "<a href=\"https://opensource.org/licenses/MIT\">MIT license</a>"
      ],
      "text/plain": [
       "<IPython.core.display.HTML object>"
      ]
     },
     "metadata": {},
     "output_type": "execute_result"
    }
   ],
   "source": [
    "from IPython.core.display import display, HTML\n",
    "display(\"The text is released under the \", \n",
    "         HTML(\"\"\"<a href=\"https://creativecommons.org/licenses/by/3.0/us/\">CC-BY-NC-ND</a>\"\"\"),\n",
    "        \"license, and code is released under the \",\n",
    "        HTML(\"\"\"<a href=\"https://opensource.org/licenses/MIT\">MIT license</a>\"\"\"))\n"
   ]
  },
  {
   "cell_type": "markdown",
   "metadata": {},
   "source": [
    "## MIT license:\n",
    "## Permission is hereby granted, free of charge, to any person obtaining a copy of this software and associated\n",
    "## documentation files (the \"Software\"), to deal in the Software without restriction, \n",
    "## including without limitation the rights to use, copy, modify, merge, publish, distribute, sublicense, \n",
    "## and/or sell copies of the Software, and to permit persons to whom the Software is furnished to do so, \n",
    "## subject to the following conditions:\n",
    "\n",
    "## The above copyright notice and this permission notice shall be included in all copies or substantial portions of \n",
    "## the Software."
   ]
  },
  {
   "cell_type": "code",
   "execution_count": null,
   "metadata": {
    "collapsed": true
   },
   "outputs": [],
   "source": []
  }
 ],
 "metadata": {
  "kernelspec": {
   "display_name": "Python 3",
   "language": "python",
   "name": "python3"
  },
  "language_info": {
   "codemirror_mode": {
    "name": "ipython",
    "version": 3
   },
   "file_extension": ".py",
   "mimetype": "text/x-python",
   "name": "python",
   "nbconvert_exporter": "python",
   "pygments_lexer": "ipython3",
   "version": "3.6.3"
  }
 },
 "nbformat": 4,
 "nbformat_minor": 1
}
