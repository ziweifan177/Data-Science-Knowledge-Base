{
 "cells": [
  {
   "cell_type": "code",
   "execution_count": 1,
   "metadata": {
    "collapsed": true
   },
   "outputs": [],
   "source": [
    "\n",
    "dir = r'C:\\Program Files\\mingw-w64\\x86_64-7.2.0-posix-seh-rt_v5-rev1\\mingw64\\bin'\n",
    "import os\n",
    "os.environ['PATH'].count(dir)\n",
    "os.environ['PATH'].find(dir)\n",
    "os.environ['PATH'] = dir + ';' + os.environ['PATH']\n",
    "import xgboost as xgb\n",
    "\n",
    "import numpy as np\n",
    "import pandas as pd\n",
    "import matplotlib.pyplot as plt\n",
    "import seaborn as sns\n",
    "color = sns.color_palette()\n",
    "\n",
    "from haversine import haversine\n",
    "import datetime as dt\n",
    "\n",
    "# plotly.offline.init_notebook_mode()"
   ]
  },
  {
   "cell_type": "code",
   "execution_count": 2,
   "metadata": {},
   "outputs": [
    {
     "name": "stdout",
     "output_type": "stream",
     "text": [
      "Size of the training set is: 50000 rows and 11 columns\n\n ['id', 'vendor_id', 'pickup_datetime', 'dropoff_datetime', 'passenger_count', 'pickup_longitude', 'pickup_latitude', 'dropoff_longitude', 'dropoff_latitude', 'store_and_fwd_flag', 'trip_duration']\n"
     ]
    }
   ],
   "source": [
    "'''Step1: Load Data'''\n",
    "trainDF = pd.read_csv('data/train.csv', nrows=50000)\n",
    "testDF = pd.read_csv('data/test.csv')\n",
    "print('Size of the training set is: {} rows and {} columns'.format(*trainDF.shape))\n",
    "print (\"\\n\", list(trainDF))\n"
   ]
  },
  {
   "cell_type": "code",
   "execution_count": 3,
   "metadata": {},
   "outputs": [
    {
     "name": "stdout",
     "output_type": "stream",
     "text": [
      "          vendor_id  passenger_count  pickup_longitude  pickup_latitude  \\\ncount  50000.000000     50000.000000      50000.000000     50000.000000   \nmean       1.529440         1.667260        -73.973477        40.751211   \nstd        0.499138         1.316442          0.037974         0.027994   \nmin        1.000000         1.000000        -74.393555        40.449749   \n25%        1.000000         1.000000        -73.991760        40.737579   \n50%        2.000000         1.000000        -73.981644        40.754425   \n75%        2.000000         2.000000        -73.967079        40.768513   \nmax        2.000000         6.000000        -73.518051        41.091171   \n\n       dropoff_longitude  dropoff_latitude  trip_duration  \ncount       50000.000000      50000.000000   50000.000000  \nmean          -73.973374         40.752025     949.708280  \nstd             0.036672          0.032536    3175.391374  \nmin           -74.398514         40.444698       1.000000  \n25%           -73.991348         40.736086     395.000000  \n50%           -73.979698         40.754610     659.000000  \n75%           -73.962868         40.769985    1071.000000  \nmax           -72.711395         41.311520   86357.000000  \nTrain shape :  (50000, 11)\nTest shape :  (625134, 9)\n                 Count Column Type\n0                   id      object\n1            vendor_id       int64\n2      pickup_datetime      object\n3     dropoff_datetime      object\n4      passenger_count       int64\n5     pickup_longitude     float64\n6      pickup_latitude     float64\n7    dropoff_longitude     float64\n8     dropoff_latitude     float64\n9   store_and_fwd_flag      object\n10       trip_duration       int64\n"
     ]
    }
   ],
   "source": [
    "'''Step2: Understand Data'''\n",
    "df = trainDF.describe()\n",
    "print (df)\n",
    "\n",
    "print(\"Train shape : \", trainDF.shape)\n",
    "print(\"Test shape : \", testDF.shape)\n",
    "\n",
    "dtypeDF=trainDF.dtypes.reset_index()# reset_index(): When we reset the index, the old index is added as a column, and a new sequential index is usedWhen we reset the index, the old index is added as a column, and a new sequential index is used\n",
    "dtypeDF.columns=[\"Count\",\"Column Type\"]\n",
    "dtypeDF.groupby(\"Column Type\").aggregate('count')\n",
    "print(dtypeDF)"
   ]
  },
  {
   "cell_type": "code",
   "execution_count": 4,
   "metadata": {},
   "outputs": [
    {
     "data": {
      "image/png": "[encoded data removed]",
      "text/plain": [
       "<matplotlib.figure.Figure at 0x164ec1056a0>"
      ]
     },
     "metadata": {},
     "output_type": "display_data"
    }
   ],
   "source": [
    "'''Step3: Understanding distribution of target variable i.e trip duration.'''\n",
    "plt.figure(figsize=(8,6))\n",
    "plt.scatter(range(trainDF.shape[0]), np.sort(trainDF.trip_duration.values))#Y.shape is (n,m). So Y.shape[0] is n.\n",
    "\n",
    "#Step3.1: Find the outliers & Remove outliers by sorting duration in ascending order:\n",
    "plt.xlabel('index', fontsize=12)\n",
    "plt.ylabel('trip duration', fontsize=12)\n",
    "plt.show()"
   ]
  },
  {
   "cell_type": "code",
   "execution_count": 5,
   "metadata": {},
   "outputs": [
    {
     "data": {
      "image/png": "[encoded data removed]",
      "text/plain": [
       "<matplotlib.figure.Figure at 0x164ec0e6cc0>"
      ]
     },
     "metadata": {},
     "output_type": "display_data"
    }
   ],
   "source": [
    "#Step3.2: Catch outliers and replot\n",
    "th=trainDF.trip_duration.quantile(0.99)\n",
    "tempDF=trainDF\n",
    "tempDF=tempDF[tempDF['trip_duration']<th] #!!!!!!!!!!!!!!! Remain the ones <th\n",
    "plt.figure(figsize=(8,6))\n",
    "plt.scatter(range(tempDF.shape[0]),np.sort(tempDF.trip_duration.values))\n",
    "plt.xlabel('index',fontsize=12)\n",
    "plt.ylabel('trip duration',fontsize=12)\n",
    "plt.show()\n",
    "del tempDF"
   ]
  },
  {
   "cell_type": "code",
   "execution_count": 6,
   "metadata": {
    "collapsed": false
   },
   "outputs": [
    {
     "name": "stdout",
     "output_type": "stream",
     "text": [
      "Missing value number of Training DF:\n id                    0\nvendor_id             0\npickup_datetime       0\ndropoff_datetime      0\npassenger_count       0\npickup_longitude      0\npickup_latitude       0\ndropoff_longitude     0\ndropoff_latitude      0\nstore_and_fwd_flag    0\ntrip_duration         0\ndtype: int64\nMissing value number of Testing DF:\n id                    0\nvendor_id             0\npickup_datetime       0\npassenger_count       0\npickup_longitude      0\npickup_latitude       0\ndropoff_longitude     0\ndropoff_latitude      0\nstore_and_fwd_flag    0\ndtype: int64\n"
     ]
    }
   ],
   "source": [
    "#Step 4: Dealing with missing values\n",
    "variable_missing_value=trainDF.isnull().sum()\n",
    "print('Missing value number of Training DF:\\n',variable_missing_value)\n",
    "variable_missing_value=testDF.isnull().sum()\n",
    "print('Missing value number of Testing DF:\\n',variable_missing_value)"
   ]
  },
  {
   "cell_type": "markdown",
   "metadata": {},
   "source": [
    "## Step 5: Format the date time & Y/N values:\n"
   ]
  },
  {
   "cell_type": "code",
   "execution_count": 7,
   "metadata": {
    "collapsed": true
   },
   "outputs": [],
   "source": [
    "#Step 5: Format the date time & Y/N values:\n",
    "from sklearn.decomposition import PCA\n",
    "from sklearn.cluster import MiniBatchKMeans\n",
    "\n",
    "t0 = dt.datetime.now()\n",
    "train = trainDF\n",
    "test = testDF\n",
    "del trainDF, testDF"
   ]
  },
  {
   "cell_type": "code",
   "execution_count": 8,
   "metadata": {},
   "outputs": [
    {
     "name": "stdout",
     "output_type": "stream",
     "text": [
      "['id', 'vendor_id', 'pickup_datetime', 'dropoff_datetime', 'passenger_count', 'pickup_longitude', 'pickup_latitude', 'dropoff_longitude', 'dropoff_latitude', 'store_and_fwd_flag', 'trip_duration', 'pickup_date']\n"
     ]
    }
   ],
   "source": [
    "train['pickup_datetime']=pd.to_datetime(train.pickup_datetime)\n",
    "test['pickup_datetime'] = pd.to_datetime(test.pickup_datetime)\n",
    "train.loc[:,'pickup_date']=train['pickup_datetime'].dt.date\n",
    "test.loc[:,'pickup_date']=test['pickup_datetime'].dt.date\n",
    "\n",
    "train['dropoff_datetime']=pd.to_datetime(train.dropoff_datetime)\n",
    "\n",
    "train['store_and_fwd_flag']=1*(train.store_and_fwd_flag.values=='Y')\n",
    "test['store_and_fwd_flag']=1*(test.store_and_fwd_flag.values=='Y') #!!!!!!!!!!!!!!!!!\n",
    "print(list(train))"
   ]
  },
  {
   "cell_type": "code",
   "execution_count": 9,
   "metadata": {},
   "outputs": [
    {
     "name": "stdout",
     "output_type": "stream",
     "text": [
      "Trip_Duration & datetime are ok.\n['id', 'vendor_id', 'pickup_datetime', 'dropoff_datetime', 'passenger_count', 'pickup_longitude', 'pickup_latitude', 'dropoff_longitude', 'dropoff_latitude', 'store_and_fwd_flag', 'trip_duration', 'pickup_date', 'check_trip_duration']\n"
     ]
    }
   ],
   "source": [
    "train['check_trip_duration'] = (train['dropoff_datetime'] - train['pickup_datetime']).map(lambda x: x.total_seconds()) \n",
    "#!!!!!!!!! 1. New column 2. Convert to seconds.\n",
    "duration_difference=train[np.abs(train['check_trip_duration'].values-train['trip_duration'].values) > 1] #!!!!!!!!!!!Remain the ones with abs>1\n",
    "print('Trip_Duration & datetime are ok.')\n",
    "print(list(train))"
   ]
  },
  {
   "cell_type": "code",
   "execution_count": 10,
   "metadata": {},
   "outputs": [
    {
     "data": {
      "text/plain": [
       "count    50000.000000\nmean       949.708280\nstd       3175.391374\nmin          1.000000\n25%        395.000000\n50%        659.000000\n75%       1071.000000\nmax      86357.000000\nName: trip_duration, dtype: float64"
      ]
     },
     "execution_count": 10,
     "metadata": {},
     "output_type": "execute_result"
    }
   ],
   "source": [
    "if len(duration_difference[['pickup_datetime', 'dropoff_datetime', 'trip_duration', 'check_trip_duration']])==0:\n",
    "    print('Items of Duration_difference are 0.')\n",
    "\n",
    "train['trip_duration'].describe()\n"
   ]
  },
  {
   "cell_type": "markdown",
   "metadata": {},
   "source": [
    "## Principal components analysis (PCA): is used to extract the important information from a multivariate data table and to express this information. These new variables correspond to a linear combination of the originals. The number of principal components is less than or equal to the number of original variables."
   ]
  },
  {
   "cell_type": "code",
   "execution_count": 11,
   "metadata": {
    "collapsed": true
   },
   "outputs": [],
   "source": [
    "#Step6: Feature Extraction:\n",
    "# np.vstack: Stack arrays in sequence vertically (row wise).\n",
    "coords=np.vstack((train[['pickup_latitude', 'pickup_longitude']].values,\n",
    "                  train[['dropoff_latitude', 'dropoff_longitude']].values,\n",
    "                  test[['pickup_latitude', 'pickup_longitude']].values,\n",
    "                  test[['dropoff_latitude', 'dropoff_longitude']].values))\n",
    "\n",
    "pca=PCA().fit(coords)\n",
    "\n",
    "train['pickup_pca0']=pca.transform(train[['pickup_latitude','pickup_longitude']])[:,0] \n",
    "#transform(X):Apply dimensionality reduction to X.\n",
    "train['pickup_pca1']=pca.transform(train[['pickup_latitude','pickup_longitude']])[:,1]\n",
    "train['dropoff_pca0']=pca.transform(train[['dropoff_latitude', 'dropoff_longitude']])[:,0]\n",
    "train['dropoff_pca1']=pca.transform(train[['dropoff_latitude','dropoff_longitude']])[:,1]\n",
    "\n",
    "test['pickup_pca0']=pca.transform(test[['pickup_latitude','pickup_longitude']])[:,0]\n",
    "test['pickup_pca1']=pca.transform(test[['pickup_latitude','pickup_longitude']])[:,1]\n",
    "test['dropoff_pca0']=pca.transform(test[['dropoff_latitude','dropoff_longitude']])[:,0]\n",
    "test['dropoff_pca1']=pca.transform(test[['dropoff_latitude','dropoff_longitude']])[:,1]\n",
    "#[ : , 0 ] means (more or less) [ first_row:last_row , column_0 ],you get all values in column 0 (from all rows).\n",
    "#df[['a','b']]: select multiple columns."
   ]
  },
  {
   "cell_type": "markdown",
   "metadata": {},
   "source": [
    "## For haversine_Array: http://mlwhiz.com/blog/2017/09/14/kaggle_tricks/"
   ]
  },
  {
   "cell_type": "markdown",
   "metadata": {},
   "source": [
    "## Step7: Distance:"
   ]
  },
  {
   "cell_type": "code",
   "execution_count": 12,
   "metadata": {
    "collapsed": true
   },
   "outputs": [],
   "source": [
    "def haversine_array(lat1,lng1,lat2,lng2):\n",
    "    lat1,lng1,lat2,lng2=map(np.radians, (lat1,lng1,lat2,lng2))\n",
    "    AVG_EARTH_RADIUS=6371 #km\n",
    "    lat=lat2-lat1\n",
    "    lng=lng2-lng1\n",
    "    d=np.sin(lat * 0.5) ** 2 + np.cos(lat1) * np.cos(lat2) * np.sin(lng * 0.5) ** 2\n",
    "    h=2*AVG_EARTH_RADIUS*np.arcsin(np.sqrt(d))\n",
    "    return h\n",
    "\n",
    "def dummy_manhattan_distance(lat1,lng1,lat2,lng2):\n",
    "    a=haversine_array(lat1,lng1,lat1,lng2)\n",
    "    b=haversine_array(lat1,lng1,lat2,lng1)\n",
    "    return a+b\n",
    "\n",
    "def bearing_array(lat1,lng1,lat2,lng2):\n",
    "    AVG_EARTH_RADIUS=6371\n",
    "    lng_delta_rad=np.radians(lng2-lng1)\n",
    "    lat1,lng1,lat2,lng2=map(np.radians,(lat1,lng1,lat2,lng2)) #np.radians(): Convert angles from degrees to radians\n",
    "    y=np.sin(lng_delta_rad)*np.cos(lat2)\n",
    "    x=np.cos(lat1)*np.sin(lat2)-np.sin(lat1)*np.cos(lat2)*np.cos(lng_delta_rad)\n",
    "    return np.degrees(np.arctan2(y,x))"
   ]
  },
  {
   "cell_type": "markdown",
   "metadata": {},
   "source": [
    "## Step 7.1: Generate distance dimension based on prevous processing."
   ]
  },
  {
   "cell_type": "code",
   "execution_count": 13,
   "metadata": {},
   "outputs": [
    {
     "name": "stdout",
     "output_type": "stream",
     "text": [
      "train headers:\n ['id', 'vendor_id', 'pickup_datetime', 'dropoff_datetime', 'passenger_count', 'pickup_longitude', 'pickup_latitude', 'dropoff_longitude', 'dropoff_latitude', 'store_and_fwd_flag', 'trip_duration', 'pickup_date', 'check_trip_duration', 'pickup_pca0', 'pickup_pca1', 'dropoff_pca0', 'dropoff_pca1']\n"
     ]
    }
   ],
   "source": [
    "print('train headers:\\n',list(train))\n",
    "train.loc[:,'distance_haversine']=haversine_array(train['pickup_latitude'].values, train['pickup_longitude'].values, train['dropoff_latitude'].values, train['dropoff_longitude'].values)\n",
    "train.loc[:,'distance_dummy_manhattan']=dummy_manhattan_distance(train['pickup_latitude'].values, train['pickup_longitude'].values, train['dropoff_latitude'].values, train['dropoff_longitude'].values)\n",
    "train.loc[:,'direction']=bearing_array(train['pickup_latitude'].values, train['pickup_longitude'].values, train['dropoff_latitude'].values, train['dropoff_longitude'].values)\n",
    "train.loc[:,'pca_manhattan']=np.abs(train['dropoff_pca1']-train['pickup_pca1'])+np.abs(train['dropoff_pca0']-train['pickup_pca0'])\n",
    "\n",
    "test.loc[:,'distance_haversine']=haversine_array(test['pickup_latitude'].values, test['pickup_longitude'].values, test['dropoff_latitude'].values, test['dropoff_longitude'].values)\n",
    "test.loc[:,'distance_dummy_manhattan']=dummy_manhattan_distance(test['pickup_latitude'].values, test['pickup_longitude'].values, test['dropoff_latitude'].values, test['dropoff_longitude'].values)\n",
    "test.loc[:,'direction']=bearing_array(test['pickup_latitude'].values, test['pickup_longitude'].values, test['dropoff_latitude'].values, test['dropoff_longitude'].values)\n",
    "test.loc[:,'pca_manhattan']=np.abs(test['dropoff_pca1']-test['pickup_pca1'])+np.abs(test['dropoff_pca0']-test['pickup_pca0'])\n",
    "\n",
    "train.loc[:, 'center_latitude'] = (train['pickup_latitude'].values + train['dropoff_latitude'].values) / 2\n",
    "train.loc[:, 'center_longitude'] = (train['pickup_longitude'].values + train['dropoff_longitude'].values) / 2\n",
    "test.loc[:, 'center_latitude'] = (test['pickup_latitude'].values + test['dropoff_latitude'].values) / 2\n",
    "test.loc[:, 'center_longitude'] = (test['pickup_longitude'].values + test['dropoff_longitude'].values) / 2\n"
   ]
  },
  {
   "cell_type": "markdown",
   "metadata": {},
   "source": [
    "## Step8: Datetime features:"
   ]
  },
  {
   "cell_type": "code",
   "execution_count": 14,
   "metadata": {
    "collapsed": true
   },
   "outputs": [],
   "source": [
    "#Step8: Datetime features:\n",
    "train.loc[:,'pickup_weekday']=train['pickup_datetime'].dt.weekday\n",
    "train.loc[:,'pickup_hour_weekofyear']=train['pickup_datetime'].dt.weekofyear\n",
    "train.loc[:,'pickup_hour']=train['pickup_datetime'].dt.hour\n",
    "train.loc[:,'pickup_minute']=train['pickup_datetime'].dt.minute\n",
    "train.loc[:,'pickup_dt']=(train['pickup_datetime']-train['pickup_datetime'].min()).dt.total_seconds()\n",
    "train.loc[:,'pickup_week_hour']=train['pickup_weekday']*24+train['pickup_hour']\n",
    "\n",
    "test.loc[:,'pickup_weekday']=test['pickup_datetime'].dt.weekday\n",
    "test.loc[:,'pickup_hour_weekofyear']=test['pickup_datetime'].dt.weekofyear\n",
    "test.loc[:,'pickup_hour']=test['pickup_datetime'].dt.hour\n",
    "test.loc[:,'pickup_minute']=test['pickup_datetime'].dt.minute\n",
    "test.loc[:,'pickup_dt']=(test['pickup_datetime']-test['pickup_datetime'].min()).dt.total_seconds()\n",
    "test.loc[:,'pickup_week_hour']=test['pickup_weekday']*24+test['pickup_hour']\n",
    "\n",
    "train.loc[:,'week_delta']=train['pickup_datetime'].dt.weekday+((train['pickup_datetime'].dt.hour+(train['pickup_datetime'].dt.minute/60.0))/24.0)\n",
    "test.loc[:,'week_delta']=test['pickup_datetime'].dt.weekday+((test['pickup_datetime'].dt.hour+(test['pickup_datetime'].dt.minute/60.0))/24.0)\n"
   ]
  },
  {
   "cell_type": "code",
   "execution_count": 15,
   "metadata": {
    "collapsed": true
   },
   "outputs": [],
   "source": [
    "#Step 8.1: Make time cyclic:\n",
    "train.loc[:,'week_delta_sin']=np.sin((train['week_delta']/7)*np.pi)**2\n",
    "train.loc[:,'hour_sin']=np.sin((train['pickup_hour']/24)*np.pi)**2\n",
    "test.loc[:,'week_delta_sin']=np.sin((test['week_delta']/7)*np.pi)**2\n",
    "test.loc[:,'hour_sin']=np.sin((test['pickup_hour']/24)*np.pi)**2"
   ]
  },
  {
   "cell_type": "markdown",
   "metadata": {},
   "source": [
    "## Step9: Speed processing:"
   ]
  },
  {
   "cell_type": "code",
   "execution_count": 16,
   "metadata": {
    "collapsed": true
   },
   "outputs": [],
   "source": [
    "train.loc[:,'avg_speed_h']=1000*train['distance_haversine']/train['trip_duration']\n",
    "train.loc[:,'avg_speed_m']=1000*train['distance_dummy_manhattan']/train['trip_duration']\n",
    "train.loc[:,'pickup_lat_bin']=np.round(train['pickup_latitude'],3)\n",
    "train.loc[:,'pickup_long_bin']=np.round(train['pickup_longitude'],3)\n"
   ]
  },
  {
   "cell_type": "code",
   "execution_count": 17,
   "metadata": {
    "collapsed": true
   },
   "outputs": [],
   "source": [
    "#Step9.1: Average speed for regions:\n",
    "gby_cols=['pickup_lat_bin','pickup_long_bin']\n",
    "coord_speed=train.groupby(gby_cols).mean()[['avg_speed_h']].reset_index()\n",
    "coord_count=train.groupby(gby_cols).count()[['id']].reset_index() #!!!!!!!reset_index()\n",
    "coord_stats=pd.merge(coord_speed, coord_count,on=gby_cols)\n",
    "coord_stats=coord_stats[coord_stats['id']>100]\n",
    "\n",
    "train.loc[:,'pickup_lat_bin']=np.round(train['pickup_latitude'],2)\n",
    "train.loc[:,'pickup_long_bin']=np.round(train['pickup_longitude'],2)\n",
    "train.loc[:,'center_lat_bin']=np.round(train['center_latitude'],2)\n",
    "train.loc[:,'center_long_bin']=np.round(train['center_longitude'],2)\n",
    "train.loc[:,'pickup_dt_bin']=(train['pickup_dt']//(3*3600)) #Floor division - division that results into whole number adjusted to the left in the number line\n",
    "\n",
    "test.loc[:,'pickup_lat_bin']=np.round(test['pickup_latitude'],2)\n",
    "test.loc[:,'pickup_long_bin']=np.round(test['pickup_longitude'],2)\n",
    "test.loc[:,'center_lat_bin']=np.round(test['center_latitude'],2)\n",
    "test.loc[:,'center_long_bin']=np.round(test['center_longitude'],2)\n",
    "test.loc[:,'pickup_dt_bin']=(test['pickup_dt']//(3*3600)) #Floor division - division that results into whole number adjusted to the left in the number line\n"
   ]
  },
  {
   "cell_type": "markdown",
   "metadata": {},
   "source": [
    "## Step10: Clustering & Predict by-MiniBatchKMeans:"
   ]
  },
  {
   "cell_type": "code",
   "execution_count": 18,
   "metadata": {},
   "outputs": [
    {
     "name": "stdout",
     "output_type": "stream",
     "text": [
      "the length of coords:\n 1350268\n"
     ]
    }
   ],
   "source": [
    "#Step10: Clustering-MiniBatchKMeans:\n",
    "sample_ind=np.random.permutation(len(coords))[:500000]\n",
    "#np.random.permutation: Randomly permute a sequence, or return a permuted range.\n",
    "#Shuffle the coords and get 500000 items from it.\n",
    "\n",
    "print('the length of coords:\\n', len(coords))\n",
    "\n",
    "kmeans=MiniBatchKMeans(n_clusters=100, batch_size=10000).fit(coords[sample_ind])\n",
    "#MiniBatchKMeans: batch_size controls the number of randomly selected observations in each batch. \n",
    "# The larger the the size of the batch, the more computationally costly the training process.\n"
   ]
  },
  {
   "cell_type": "code",
   "execution_count": 19,
   "metadata": {},
   "outputs": [
    {
     "name": "stdout",
     "output_type": "stream",
     "text": [
      "Time for clustering: 232 seconds\n"
     ]
    }
   ],
   "source": [
    "#Step10.1: Predict by MiniBatchKMeans:\n",
    "train.loc[:,'pickup_cluster']=kmeans.predict(train[['pickup_latitude','pickup_longitude']])\n",
    "train.loc[:,'dropoff_cluster']=kmeans.predict(train[['dropoff_latitude', 'dropoff_longitude']])\n",
    "test.loc[:,'pickup_cluster']=kmeans.predict(test[['pickup_latitude','pickup_longitude']])\n",
    "test.loc[:,'dropoff_cluster']=kmeans.predict(test[['dropoff_latitude','dropoff_longitude']])\n",
    "\n",
    "t1=dt.datetime.now()\n",
    "print('Time for clustering: %i seconds' %(t1-t0).seconds) #!!!!!!!!!!!!!!!!!!!!\n"
   ]
  },
  {
   "cell_type": "code",
   "execution_count": 20,
   "metadata": {
    "collapsed": true
   },
   "outputs": [],
   "source": [
    "train['log_trip_duration']=np.log(train['trip_duration'].values+1)"
   ]
  },
  {
   "cell_type": "code",
   "execution_count": 21,
   "metadata": {},
   "outputs": [
    {
     "name": "stdout",
     "output_type": "stream",
     "text": [
      "['id', 'vendor_id', 'pickup_datetime', 'passenger_count', 'pickup_longitude', 'pickup_latitude', 'dropoff_longitude', 'dropoff_latitude', 'store_and_fwd_flag', 'pickup_date', 'pickup_pca0', 'pickup_pca1', 'dropoff_pca0', 'dropoff_pca1', 'distance_haversine', 'distance_dummy_manhattan', 'direction', 'pca_manhattan', 'center_latitude', 'center_longitude', 'pickup_weekday', 'pickup_hour_weekofyear', 'pickup_hour', 'pickup_minute', 'pickup_dt', 'pickup_week_hour', 'week_delta', 'week_delta_sin', 'hour_sin', 'pickup_lat_bin', 'pickup_long_bin', 'center_lat_bin', 'center_long_bin', 'pickup_dt_bin', 'pickup_cluster', 'dropoff_cluster']\n\n\nTrain:\n['id', 'vendor_id', 'pickup_datetime', 'dropoff_datetime', 'passenger_count', 'pickup_longitude', 'pickup_latitude', 'dropoff_longitude', 'dropoff_latitude', 'store_and_fwd_flag', 'trip_duration', 'pickup_date', 'check_trip_duration', 'pickup_pca0', 'pickup_pca1', 'dropoff_pca0', 'dropoff_pca1', 'distance_haversine', 'distance_dummy_manhattan', 'direction', 'pca_manhattan', 'center_latitude', 'center_longitude', 'pickup_weekday', 'pickup_hour_weekofyear', 'pickup_hour', 'pickup_minute', 'pickup_dt', 'pickup_week_hour', 'week_delta', 'week_delta_sin', 'hour_sin', 'avg_speed_h', 'avg_speed_m', 'pickup_lat_bin', 'pickup_long_bin', 'center_lat_bin', 'center_long_bin', 'pickup_dt_bin', 'pickup_cluster', 'dropoff_cluster', 'log_trip_duration']\n          id  vendor_id     pickup_datetime    dropoff_datetime  \\\n0  id2875421          2 2016-03-14 17:24:00 2016-03-14 17:32:00   \n1  id2377394          1 2016-06-12 00:43:00 2016-06-12 00:54:00   \n2  id3858529          2 2016-01-19 11:35:00 2016-01-19 12:10:00   \n\n   passenger_count  pickup_longitude  pickup_latitude  dropoff_longitude  \\\n0                1        -73.982155        40.767937         -73.964630   \n1                1        -73.980415        40.738564         -73.999481   \n2                1        -73.979027        40.763939         -74.005333   \n\n   dropoff_latitude  store_and_fwd_flag        ...          avg_speed_h  \\\n0         40.765602                   0        ...             3.293453   \n1         40.731152                   0        ...             2.723239   \n2         40.710087                   0        ...             3.006167   \n\n  avg_speed_m  pickup_lat_bin  pickup_long_bin  center_lat_bin  \\\n0    3.814141           40.77           -73.98           40.77   \n1    3.665923           40.74           -73.98           40.73   \n2    3.862324           40.76           -73.98           40.74   \n\n   center_long_bin  pickup_dt_bin  pickup_cluster  dropoff_cluster  \\\n0           -73.97          589.0              95               89   \n1           -73.99         1304.0              36               93   \n2           -73.99          147.0              97               88   \n\n   log_trip_duration  \n0           6.122493  \n1           6.498282  \n2           7.661527  \n\n[3 rows x 42 columns]\n"
     ]
    }
   ],
   "source": [
    "print(list(test))\n",
    "print(\"\\n\")\n",
    "print(\"Train:\")\n",
    "print(list(train))\n",
    "print(train.head(3))"
   ]
  },
  {
   "cell_type": "markdown",
   "metadata": {},
   "source": [
    "## Step11: Temporal and geospatial aggregation"
   ]
  },
  {
   "cell_type": "code",
   "execution_count": 22,
   "metadata": {
    "collapsed": true
   },
   "outputs": [],
   "source": [
    "#Step11: Temporal and geospatial aggregation\n",
    "for gby_col in ['pickup_hour','pickup_date','pickup_dt_bin','pickup_week_hour','pickup_cluster','dropoff_cluster']:\n",
    "    gby=train.groupby(gby_col).mean()[['avg_speed_h','avg_speed_m','log_trip_duration']]\n",
    "    gby.columns=['%s_gby_%s' % (col, gby_col) for col in gby.columns]\n",
    "    train=pd.merge(train, gby,how='left',left_on=gby_col,right_index=True)\n",
    "    test = pd.merge(test, gby, how='left', left_on=gby_col, right_index=True)\n",
    "    #how: left: use only keys from left frame, similar to a SQL left outer join; preserve key order\n",
    "    #right_index: Use the index from the right DataFrame as the join key.\n",
    "    #left_on 和 right_on 来指定列名，从而使不同的列名相互对应，进而进行合并. 如employee, name.\n",
    "\n",
    "\n",
    "for gby_cols in [['center_lat_bin', 'center_long_bin'],\n",
    "                 ['pickup_hour', 'center_lat_bin', 'center_long_bin'],\n",
    "                 ['pickup_hour', 'pickup_cluster'],  ['pickup_hour', 'dropoff_cluster'],\n",
    "                 ['pickup_cluster', 'dropoff_cluster']]:\n",
    "    coord_speed=train.groupby(gby_cols).mean()[['avg_speed_h']].reset_index()\n",
    "    coord_count=train.groupby(gby_cols).count()[['id']].reset_index()\n",
    "    coord_stats=pd.merge(coord_speed,coord_count,on=gby_cols)\n",
    "    coord_stats.columns=gby_cols+['avg_speed_h_%s' % '_'.join(gby_cols),'cnt_%s' % '_'.join(gby_cols)]\n",
    "    #.columns attribute returns an index containg the column names of df.\n",
    "    # df. columns可以得到所有的列标签，同理df.index可以得到所有的行标签。\n",
    "    #eg.:df.columns: Get: Index(['ColumnOne', 'ColumnTwo'], dtype=\n",
    "    train=pd.merge(train,coord_stats,how='left',on=gby_cols)\n",
    "    test=pd.merge(test,coord_stats,how='left',on=gby_cols)\n",
    " "
   ]
  },
  {
   "cell_type": "code",
   "execution_count": 23,
   "metadata": {
    "collapsed": false
   },
   "outputs": [
    {
     "name": "stdout",
     "output_type": "stream",
     "text": [
      "['id', 'vendor_id', 'pickup_datetime', 'passenger_count', 'pickup_longitude', 'pickup_latitude', 'dropoff_longitude', 'dropoff_latitude', 'store_and_fwd_flag', 'pickup_date', 'pickup_pca0', 'pickup_pca1', 'dropoff_pca0', 'dropoff_pca1', 'distance_haversine', 'distance_dummy_manhattan', 'direction', 'pca_manhattan', 'center_latitude', 'center_longitude', 'pickup_weekday', 'pickup_hour_weekofyear', 'pickup_hour', 'pickup_minute', 'pickup_dt', 'pickup_week_hour', 'week_delta', 'week_delta_sin', 'hour_sin', 'pickup_lat_bin', 'pickup_long_bin', 'center_lat_bin', 'center_long_bin', 'pickup_dt_bin', 'pickup_cluster', 'dropoff_cluster', 'avg_speed_h_gby_pickup_hour', 'avg_speed_m_gby_pickup_hour', 'log_trip_duration_gby_pickup_hour', 'avg_speed_h_gby_pickup_date', 'avg_speed_m_gby_pickup_date', 'log_trip_duration_gby_pickup_date', 'avg_speed_h_gby_pickup_dt_bin', 'avg_speed_m_gby_pickup_dt_bin', 'log_trip_duration_gby_pickup_dt_bin', 'avg_speed_h_gby_pickup_week_hour', 'avg_speed_m_gby_pickup_week_hour', 'log_trip_duration_gby_pickup_week_hour', 'avg_speed_h_gby_pickup_cluster', 'avg_speed_m_gby_pickup_cluster', 'log_trip_duration_gby_pickup_cluster', 'avg_speed_h_gby_dropoff_cluster', 'avg_speed_m_gby_dropoff_cluster', 'log_trip_duration_gby_dropoff_cluster', 'avg_speed_h_center_lat_bin_center_long_bin', 'cnt_center_lat_bin_center_long_bin', 'avg_speed_h_pickup_hour_center_lat_bin_center_long_bin', 'cnt_pickup_hour_center_lat_bin_center_long_bin', 'avg_speed_h_pickup_hour_pickup_cluster', 'cnt_pickup_hour_pickup_cluster', 'avg_speed_h_pickup_hour_dropoff_cluster', 'cnt_pickup_hour_dropoff_cluster', 'avg_speed_h_pickup_cluster_dropoff_cluster', 'cnt_pickup_cluster_dropoff_cluster']\n\n\nTrain:\n['id', 'vendor_id', 'pickup_datetime', 'dropoff_datetime', 'passenger_count', 'pickup_longitude', 'pickup_latitude', 'dropoff_longitude', 'dropoff_latitude', 'store_and_fwd_flag', 'trip_duration', 'pickup_date', 'check_trip_duration', 'pickup_pca0', 'pickup_pca1', 'dropoff_pca0', 'dropoff_pca1', 'distance_haversine', 'distance_dummy_manhattan', 'direction', 'pca_manhattan', 'center_latitude', 'center_longitude', 'pickup_weekday', 'pickup_hour_weekofyear', 'pickup_hour', 'pickup_minute', 'pickup_dt', 'pickup_week_hour', 'week_delta', 'week_delta_sin', 'hour_sin', 'avg_speed_h', 'avg_speed_m', 'pickup_lat_bin', 'pickup_long_bin', 'center_lat_bin', 'center_long_bin', 'pickup_dt_bin', 'pickup_cluster', 'dropoff_cluster', 'log_trip_duration', 'avg_speed_h_gby_pickup_hour', 'avg_speed_m_gby_pickup_hour', 'log_trip_duration_gby_pickup_hour', 'avg_speed_h_gby_pickup_date', 'avg_speed_m_gby_pickup_date', 'log_trip_duration_gby_pickup_date', 'avg_speed_h_gby_pickup_dt_bin', 'avg_speed_m_gby_pickup_dt_bin', 'log_trip_duration_gby_pickup_dt_bin', 'avg_speed_h_gby_pickup_week_hour', 'avg_speed_m_gby_pickup_week_hour', 'log_trip_duration_gby_pickup_week_hour', 'avg_speed_h_gby_pickup_cluster', 'avg_speed_m_gby_pickup_cluster', 'log_trip_duration_gby_pickup_cluster', 'avg_speed_h_gby_dropoff_cluster', 'avg_speed_m_gby_dropoff_cluster', 'log_trip_duration_gby_dropoff_cluster', 'avg_speed_h_center_lat_bin_center_long_bin', 'cnt_center_lat_bin_center_long_bin', 'avg_speed_h_pickup_hour_center_lat_bin_center_long_bin', 'cnt_pickup_hour_center_lat_bin_center_long_bin', 'avg_speed_h_pickup_hour_pickup_cluster', 'cnt_pickup_hour_pickup_cluster', 'avg_speed_h_pickup_hour_dropoff_cluster', 'cnt_pickup_hour_dropoff_cluster', 'avg_speed_h_pickup_cluster_dropoff_cluster', 'cnt_pickup_cluster_dropoff_cluster']\n          id  vendor_id     pickup_datetime    dropoff_datetime  \\\n0  id2875421          2 2016-03-14 17:24:00 2016-03-14 17:32:00   \n1  id2377394          1 2016-06-12 00:43:00 2016-06-12 00:54:00   \n2  id3858529          2 2016-01-19 11:35:00 2016-01-19 12:10:00   \n\n   passenger_count  pickup_longitude  pickup_latitude  dropoff_longitude  \\\n0                1        -73.982155        40.767937         -73.964630   \n1                1        -73.980415        40.738564         -73.999481   \n2                1        -73.979027        40.763939         -74.005333   \n\n   dropoff_latitude  store_and_fwd_flag                 ...                  \\\n0         40.765602                   0                 ...                   \n1         40.731152                   0                 ...                   \n2         40.710087                   0                 ...                   \n\n   avg_speed_h_center_lat_bin_center_long_bin  \\\n0                                    3.581992   \n1                                    3.534788   \n2                                    3.402122   \n\n  cnt_center_lat_bin_center_long_bin  \\\n0                               2020   \n1                               1803   \n2                               2823   \n\n   avg_speed_h_pickup_hour_center_lat_bin_center_long_bin  \\\n0                                           3.045406        \n1                                           3.419741        \n2                                           3.025884        \n\n   cnt_pickup_hour_center_lat_bin_center_long_bin  \\\n0                                             146   \n1                                              90   \n2                                             126   \n\n   avg_speed_h_pickup_hour_pickup_cluster  cnt_pickup_hour_pickup_cluster  \\\n0                                3.062373                              84   \n1                                4.783479                              33   \n2                                2.548007                              28   \n\n   avg_speed_h_pickup_hour_dropoff_cluster  cnt_pickup_hour_dropoff_cluster  \\\n0                                 2.898293                               59   \n1                                 3.573259                               28   \n2                                 3.948713                               59   \n\n   avg_speed_h_pickup_cluster_dropoff_cluster  \\\n0                                    2.615266   \n1                                    2.753974   \n2                                    3.776720   \n\n   cnt_pickup_cluster_dropoff_cluster  \n0                                  24  \n1                                  17  \n2                                   5  \n\n[3 rows x 70 columns]\n"
     ]
    }
   ],
   "source": [
    "print(list(test))\n",
    "print(\"\\n\")\n",
    "print(\"Train:\")\n",
    "print(list(train))\n",
    "print(train.head(3))\n"
   ]
  },
  {
   "cell_type": "markdown",
   "metadata": {},
   "source": [
    "## Step12: Get trips around 60 min."
   ]
  },
  {
   "cell_type": "code",
   "execution_count": 24,
   "metadata": {
    "collapsed": false
   },
   "outputs": [
    {
     "name": "stdout",
     "output_type": "stream",
     "text": [
      "          id  vendor_id     pickup_datetime    dropoff_datetime  \\\n0  id2875421          2 2016-03-14 17:24:00 2016-03-14 17:32:00   \n1  id2377394          1 2016-06-12 00:43:00 2016-06-12 00:54:00   \n2  id3858529          2 2016-01-19 11:35:00 2016-01-19 12:10:00   \n\n   passenger_count  pickup_longitude  pickup_latitude  dropoff_longitude  \\\n0                1        -73.982155        40.767937         -73.964630   \n1                1        -73.980415        40.738564         -73.999481   \n2                1        -73.979027        40.763939         -74.005333   \n\n   dropoff_latitude  store_and_fwd_flag          ...            \\\n0         40.765602                   0          ...             \n1         40.731152                   0          ...             \n2         40.710087                   0          ...             \n\n   cnt_center_lat_bin_center_long_bin  \\\n0                                2020   \n1                                1803   \n2                                2823   \n\n  avg_speed_h_pickup_hour_center_lat_bin_center_long_bin  \\\n0                                           3.045406       \n1                                           3.419741       \n2                                           3.025884       \n\n   cnt_pickup_hour_center_lat_bin_center_long_bin  \\\n0                                             146   \n1                                              90   \n2                                             126   \n\n   avg_speed_h_pickup_hour_pickup_cluster  cnt_pickup_hour_pickup_cluster  \\\n0                                3.062373                              84   \n1                                4.783479                              33   \n2                                2.548007                              28   \n\n   avg_speed_h_pickup_hour_dropoff_cluster  cnt_pickup_hour_dropoff_cluster  \\\n0                                 2.898293                               59   \n1                                 3.573259                               28   \n2                                 3.948713                               59   \n\n   avg_speed_h_pickup_cluster_dropoff_cluster  \\\n0                                    2.615266   \n1                                    2.753974   \n2                                    3.776720   \n\n   cnt_pickup_cluster_dropoff_cluster  pickup_datetime_group  \n0                                  24    2016-03-14 17:00:00  \n1                                  17    2016-06-12 01:00:00  \n2                                   5    2016-01-19 12:00:00  \n\n[3 rows x 71 columns]\n"
     ]
    }
   ],
   "source": [
    "   \n",
    "group_freq = '60min'\n",
    "df_all = pd.concat((train, test))[['id', 'pickup_datetime', 'pickup_cluster', 'dropoff_cluster']]\n",
    "train.loc[:, 'pickup_datetime_group'] = train['pickup_datetime'].dt.round(group_freq)\n",
    "test.loc[:, 'pickup_datetime_group'] = test['pickup_datetime'].dt.round(group_freq)\n",
    "print(train.head(3))"
   ]
  },
  {
   "cell_type": "code",
   "execution_count": 25,
   "metadata": {
    "collapsed": false
   },
   "outputs": [
    {
     "name": "stdout",
     "output_type": "stream",
     "text": [
      "          id  vendor_id     pickup_datetime    dropoff_datetime  \\\n0  id2875421          2 2016-03-14 17:24:00 2016-03-14 17:32:00   \n1  id2377394          1 2016-06-12 00:43:00 2016-06-12 00:54:00   \n2  id3858529          2 2016-01-19 11:35:00 2016-01-19 12:10:00   \n\n   passenger_count  pickup_longitude  pickup_latitude  dropoff_longitude  \\\n0                1        -73.982155        40.767937         -73.964630   \n1                1        -73.980415        40.738564         -73.999481   \n2                1        -73.979027        40.763939         -74.005333   \n\n   dropoff_latitude  store_and_fwd_flag     ...       \\\n0         40.765602                   0     ...        \n1         40.731152                   0     ...        \n2         40.710087                   0     ...        \n\n   avg_speed_h_pickup_hour_center_lat_bin_center_long_bin  \\\n0                                           3.045406        \n1                                           3.419741        \n2                                           3.025884        \n\n  cnt_pickup_hour_center_lat_bin_center_long_bin  \\\n0                                            146   \n1                                             90   \n2                                            126   \n\n   avg_speed_h_pickup_hour_pickup_cluster  cnt_pickup_hour_pickup_cluster  \\\n0                                3.062373                              84   \n1                                4.783479                              33   \n2                                2.548007                              28   \n\n   avg_speed_h_pickup_hour_dropoff_cluster  cnt_pickup_hour_dropoff_cluster  \\\n0                                 2.898293                               59   \n1                                 3.573259                               28   \n2                                 3.948713                               59   \n\n   avg_speed_h_pickup_cluster_dropoff_cluster  \\\n0                                    2.615266   \n1                                    2.753974   \n2                                    3.776720   \n\n   cnt_pickup_cluster_dropoff_cluster  pickup_datetime_group  count_60min  \n0                                  24    2016-03-14 17:00:00        206.0  \n1                                  17    2016-06-12 01:00:00        201.0  \n2                                   5    2016-01-19 12:00:00        181.0  \n\n[3 rows x 72 columns]\n"
     ]
    }
   ],
   "source": [
    "# Count trips over 60min\n",
    "df_counts = df_all.set_index('pickup_datetime')[['id']].sort_index()\n",
    "df_counts['count_60min'] = df_counts.isnull().rolling(group_freq).count()['id']\n",
    "train = train.merge(df_counts, on='id', how='left')\n",
    "test = test.merge(df_counts, on='id', how='left')\n",
    "print(train.head(3))"
   ]
  },
  {
   "cell_type": "code",
   "execution_count": 26,
   "metadata": {
    "collapsed": true
   },
   "outputs": [],
   "source": [
    "# Count how many trips are going to each cluster over time\n",
    "dropoff_counts = df_all \\\n",
    "    .set_index('pickup_datetime') \\\n",
    "    .groupby([pd.TimeGrouper(group_freq), 'dropoff_cluster']) \\\n",
    "    .agg({'id': 'count'}) \\\n",
    "    .reset_index().set_index('pickup_datetime') \\\n",
    "    .groupby('dropoff_cluster').rolling('240min').mean() \\\n",
    "    .drop('dropoff_cluster', axis=1) \\\n",
    "    .reset_index().set_index('pickup_datetime').shift(freq='-120min').reset_index() \\\n",
    "    .rename(columns={'pickup_datetime': 'pickup_datetime_group', 'id': 'dropoff_cluster_count'})"
   ]
  },
  {
   "cell_type": "code",
   "execution_count": 27,
   "metadata": {
    "collapsed": true
   },
   "outputs": [],
   "source": [
    "train['dropoff_cluster_count'] = train[['pickup_datetime_group', 'dropoff_cluster']].merge(dropoff_counts, on=['pickup_datetime_group', 'dropoff_cluster'], how='left')['dropoff_cluster_count'].fillna(0)\n",
    "test['dropoff_cluster_count'] = test[['pickup_datetime_group', 'dropoff_cluster']].merge(dropoff_counts, on=['pickup_datetime_group', 'dropoff_cluster'], how='left')['dropoff_cluster_count'].fillna(0)"
   ]
  },
  {
   "cell_type": "markdown",
   "metadata": {},
   "source": [
    "## Count how many trips are going from each cluster over time"
   ]
  },
  {
   "cell_type": "code",
   "execution_count": 28,
   "metadata": {
    "collapsed": true
   },
   "outputs": [],
   "source": [
    "# Count how many trips are going from each cluster over time\n",
    "df_all = pd.concat((train, test))[['id', 'pickup_datetime', 'pickup_cluster', 'dropoff_cluster']]\n",
    "pickup_counts = df_all \\\n",
    "    .set_index('pickup_datetime') \\\n",
    "    .groupby([pd.TimeGrouper(group_freq), 'pickup_cluster']) \\\n",
    "    .agg({'id': 'count'}) \\\n",
    "    .reset_index().set_index('pickup_datetime') \\\n",
    "    .groupby('pickup_cluster').rolling('240min').mean() \\\n",
    "    .drop('pickup_cluster', axis=1) \\\n",
    "    .reset_index().set_index('pickup_datetime').shift(freq='-120min').reset_index() \\\n",
    "    .rename(columns={'pickup_datetime': 'pickup_datetime_group', 'id': 'pickup_cluster_count'})"
   ]
  },
  {
   "cell_type": "code",
   "execution_count": 29,
   "metadata": {
    "collapsed": true
   },
   "outputs": [],
   "source": [
    "train['pickup_cluster_count'] = train[['pickup_datetime_group', 'pickup_cluster']].merge(pickup_counts, on=['pickup_datetime_group', 'pickup_cluster'], how='left')['pickup_cluster_count'].fillna(0)\n",
    "test['pickup_cluster_count'] = test[['pickup_datetime_group', 'pickup_cluster']].merge(pickup_counts, on=['pickup_datetime_group', 'pickup_cluster'], how='left')['pickup_cluster_count'].fillna(0)\n"
   ]
  },
  {
   "cell_type": "markdown",
   "metadata": {},
   "source": [
    "## Step 13: import OSRM data for further processing."
   ]
  },
  {
   "cell_type": "code",
   "execution_count": 30,
   "metadata": {
    "collapsed": true
   },
   "outputs": [],
   "source": [
    "# For this particular problem we can add OSRM ([Open Source Routing Machine](http://project-osrm.org/ \n",
    "# \"OSRM\")) features. This data contains the fastest routes from specific starting points in NY.\n",
    "\n",
    "fr1 = pd.read_csv('data/new-york-city-taxi-with-osrm/fastest_routes_train_part_1.csv',\n",
    "                  usecols=['id', 'total_distance', 'total_travel_time',  'number_of_steps'])\n",
    "\n",
    "fr2 = pd.read_csv('data/new-york-city-taxi-with-osrm/fastest_routes_train_part_2.csv',\n",
    "                  usecols=['id', 'total_distance', 'total_travel_time', 'number_of_steps'])\n",
    "\n",
    "test_street_info = pd.read_csv('data/new-york-city-taxi-with-osrm/fastest_routes_test.csv',\n",
    "                               usecols=['id', 'total_distance', 'total_travel_time', 'number_of_steps'])\n"
   ]
  },
  {
   "cell_type": "code",
   "execution_count": 31,
   "metadata": {
    "collapsed": false
   },
   "outputs": [
    {
     "name": "stdout",
     "output_type": "stream",
     "text": [
      "          id  vendor_id     pickup_datetime    dropoff_datetime  \\\n0  id2875421          2 2016-03-14 17:24:00 2016-03-14 17:32:00   \n1  id2377394          1 2016-06-12 00:43:00 2016-06-12 00:54:00   \n2  id3858529          2 2016-01-19 11:35:00 2016-01-19 12:10:00   \n\n   passenger_count  pickup_longitude  pickup_latitude  dropoff_longitude  \\\n0                1        -73.982155        40.767937         -73.964630   \n1                1        -73.980415        40.738564         -73.999481   \n2                1        -73.979027        40.763939         -74.005333   \n\n   dropoff_latitude  store_and_fwd_flag       ...         \\\n0         40.765602                   0       ...          \n1         40.731152                   0       ...          \n2         40.710087                   0       ...          \n\n   cnt_pickup_hour_dropoff_cluster avg_speed_h_pickup_cluster_dropoff_cluster  \\\n0                               59                                   2.615266   \n1                               28                                   2.753974   \n2                               59                                   3.776720   \n\n   cnt_pickup_cluster_dropoff_cluster  pickup_datetime_group  count_60min  \\\n0                                  24    2016-03-14 17:00:00        206.0   \n1                                  17    2016-06-12 01:00:00        201.0   \n2                                   5    2016-01-19 12:00:00        181.0   \n\n   dropoff_cluster_count  pickup_cluster_count  total_distance  \\\n0                   5.00             10.000000          2009.1   \n1                   2.25              4.666667          2513.2   \n2                   3.50              3.500000         11060.8   \n\n   total_travel_time  number_of_steps  \n0              164.9                5  \n1              332.0                6  \n2              767.6               16  \n\n[3 rows x 77 columns]\n"
     ]
    }
   ],
   "source": [
    "train_street_info=pd.concat((fr1, fr2))\n",
    "train = train.merge(train_street_info, how='left', on='id')\n",
    "test = test.merge(test_street_info, how='left', on='id')\n",
    "print(train.head(3))"
   ]
  },
  {
   "cell_type": "markdown",
   "metadata": {},
   "source": [
    "## Step 14: Feature extraction.."
   ]
  },
  {
   "cell_type": "code",
   "execution_count": 32,
   "metadata": {},
   "outputs": [
    {
     "name": "stdout",
     "output_type": "stream",
     "text": [
      "['avg_speed_h' 'avg_speed_m' 'check_trip_duration' 'dropoff_datetime'\n 'log_trip_duration' 'trip_duration']\nWe have 62 features.\nFeature extraction time: 306 seconds\n"
     ]
    }
   ],
   "source": [
    "#Filter the features we used.\n",
    "feature_names = list(train.columns)\n",
    "print(np.setdiff1d(train.columns, test.columns)) #setdiff1d():Return the sorted, unique values in ar1 that are not in ar2.\n",
    "do_not_use_for_training = ['id', 'log_trip_duration', 'pickup_datetime', 'dropoff_datetime', 'trip_duration', 'check_trip_duration',\n",
    "                           'pickup_date', 'avg_speed_h', 'avg_speed_m', 'pickup_lat_bin', 'pickup_long_bin',\n",
    "                           'center_lat_bin', 'center_long_bin', 'pickup_dt_bin', 'pickup_datetime_group']\n",
    "feature_names = [f for f in train.columns if f not in do_not_use_for_training]\n",
    "\n",
    "print('We have %i features.' % len(feature_names))\n",
    "train[feature_names].count()\n",
    "\n",
    "t1 = dt.datetime.now()\n",
    "print('Feature extraction time: %i seconds' % (t1 - t0).seconds)"
   ]
  },
  {
   "cell_type": "markdown",
   "metadata": {},
   "source": [
    "## Feature check before modeling"
   ]
  },
  {
   "cell_type": "code",
   "execution_count": 33,
   "metadata": {},
   "outputs": [
    {
     "data": {
      "text/html": [
       "<div>\n",
       "<style>\n",
       "    .dataframe thead tr:only-child th {\n",
       "        text-align: right;\n",
       "    }\n",
       "\n",
       "    .dataframe thead th {\n",
       "        text-align: left;\n",
       "    }\n",
       "\n",
       "    .dataframe tbody tr th {\n",
       "        vertical-align: top;\n",
       "    }\n",
       "</style>\n",
       "<table border=\"1\" class=\"dataframe\">\n",
       "  <thead>\n",
       "    <tr style=\"text-align: right;\">\n",
       "      <th></th>\n",
       "      <th>feature</th>\n",
       "      <th>train_test_mean_diff</th>\n",
       "    </tr>\n",
       "  </thead>\n",
       "  <tbody>\n",
       "    <tr>\n",
       "      <th>54</th>\n",
       "      <td>avg_speed_h_pickup_cluster_dropoff_cluster</td>\n",
       "      <td>0.028652</td>\n",
       "    </tr>\n",
       "    <tr>\n",
       "      <th>55</th>\n",
       "      <td>cnt_pickup_cluster_dropoff_cluster</td>\n",
       "      <td>0.035521</td>\n",
       "    </tr>\n",
       "    <tr>\n",
       "      <th>51</th>\n",
       "      <td>cnt_pickup_hour_pickup_cluster</td>\n",
       "      <td>0.038940</td>\n",
       "    </tr>\n",
       "    <tr>\n",
       "      <th>48</th>\n",
       "      <td>avg_speed_h_pickup_hour_center_lat_bin_center_...</td>\n",
       "      <td>0.045448</td>\n",
       "    </tr>\n",
       "    <tr>\n",
       "      <th>53</th>\n",
       "      <td>cnt_pickup_hour_dropoff_cluster</td>\n",
       "      <td>0.046958</td>\n",
       "    </tr>\n",
       "  </tbody>\n",
       "</table>\n",
       "</div>"
      ],
      "text/plain": [
       "<div>\n",
       "<style>\n",
       "    .dataframe thead tr:only-child th {\n",
       "        text-align: right;\n",
       "    }\n",
       "\n",
       "    .dataframe thead th {\n",
       "        text-align: left;\n",
       "    }\n",
       "\n",
       "    .dataframe tbody tr th {\n",
       "        vertical-align: top;\n",
       "    }\n",
       "</style>\n",
       "<table border=\"1\" class=\"dataframe\">\n",
       "  <thead>\n",
       "    <tr style=\"text-align: right;\">\n",
       "      <th></th>\n",
       "      <th>feature</th>\n",
       "      <th>train_test_mean_diff</th>\n",
       "    </tr>\n",
       "  </thead>\n",
       "  <tbody>\n",
       "    <tr>\n",
       "      <th>54</th>\n",
       "      <td>avg_speed_h_pickup_cluster_dropoff_cluster</td>\n",
       "      <td>0.028652</td>\n",
       "    </tr>\n",
       "    <tr>\n",
       "      <th>55</th>\n",
       "      <td>cnt_pickup_cluster_dropoff_cluster</td>\n",
       "      <td>0.035521</td>\n",
       "    </tr>\n",
       "    <tr>\n",
       "      <th>51</th>\n",
       "      <td>cnt_pickup_hour_pickup_cluster</td>\n",
       "      <td>0.038940</td>\n",
       "    </tr>\n",
       "    <tr>\n",
       "      <th>48</th>\n",
       "      <td>avg_speed_h_pickup_hour_center_lat_bin_center_...</td>\n",
       "      <td>0.045448</td>\n",
       "    </tr>\n",
       "    <tr>\n",
       "      <th>53</th>\n",
       "      <td>cnt_pickup_hour_dropoff_cluster</td>\n",
       "      <td>0.046958</td>\n",
       "    </tr>\n",
       "  </tbody>\n",
       "</table>\n",
       "</div>"
      ]
     },
     "execution_count": 33,
     "metadata": {},
     "output_type": "execute_result"
    }
   ],
   "source": [
    "feature_stats = pd.DataFrame({'feature': feature_names})\n",
    "\n",
    "feature_stats.loc[:, 'train_mean'] = np.nanmean(train[feature_names].values, axis=0).round(4)\n",
    "# axis=0:the first running vertically downwards across rows (axis 0), \n",
    "# and the second running horizontally across columns (axis 1)\n",
    "\n",
    "#np.nanmean(): Compute the arithmetic mean along the specified axis, ignoring NaNs.\n",
    "feature_stats.loc[:, 'test_mean'] = np.nanmean(test[feature_names].values, axis=0).round(4)\n",
    "feature_stats.loc[:, 'train_std'] = np.nanstd(train[feature_names].values, axis=0).round(4)\n",
    "feature_stats.loc[:, 'test_std'] = np.nanstd(test[feature_names].values, axis=0).round(4)\n",
    "feature_stats.loc[:, 'train_nan'] = np.mean(np.isnan(train[feature_names].values), axis=0).round(3)\n",
    "feature_stats.loc[:, 'test_nan'] = np.mean(np.isnan(test[feature_names].values), axis=0).round(3)\n",
    "feature_stats.loc[:, 'train_test_mean_diff'] = np.abs(feature_stats['train_mean'] - feature_stats['test_mean']) / np.abs(feature_stats['train_std'] + feature_stats['test_std'])  * 2\n",
    "feature_stats.loc[:, 'train_test_nan_diff'] = np.abs(feature_stats['train_nan'] - feature_stats['test_nan'])\n",
    "feature_stats = feature_stats.sort_values(by='train_test_mean_diff')\n",
    "feature_stats[['feature', 'train_test_mean_diff']].tail()\n"
   ]
  },
  {
   "cell_type": "markdown",
   "metadata": {},
   "source": [
    "## Step 14: Train a simple classifier for prediction trip duration:"
   ]
  },
  {
   "cell_type": "markdown",
   "metadata": {},
   "source": [
    "## Step 14.1: use the TPOT package to handle the cross validation and hyperparameters"
   ]
  },
  {
   "cell_type": "code",
   "execution_count": 34,
   "metadata": {},
   "outputs": [
    {
     "name": "stderr",
     "output_type": "stream",
     "text": [
      "C:\\Anaconda3\\lib\\site-packages\\deap\\tools\\_hypervolume\\pyhv.py:33: ImportWarning: Falling back to the python version of hypervolume module. Expect this to be very slow.\n  \"module. Expect this to be very slow.\", ImportWarning)\n"
     ]
    },
    {
     "name": "stderr",
     "output_type": "stream",
     "text": [
      "C:\\Anaconda3\\lib\\importlib\\_bootstrap.py:219: ImportWarning: can't resolve package from __spec__ or __package__, falling back on __name__ and __path__\n  return f(*args, **kwds)\n"
     ]
    },
    {
     "name": "stdout",
     "output_type": "stream",
     "text": [
      "Version 0.9.2 of tpot is outdated. Version 0.9.3 was released 6 days ago."
     ]
    },
    {
     "name": "stdout",
     "output_type": "stream",
     "text": [
      "\n"
     ]
    }
   ],
   "source": [
    "from tpot import TPOTRegressor\n",
    "auto_classifier = TPOTRegressor(generations=3, population_size=9, verbosity=2)\n",
    "from sklearn.model_selection import train_test_split"
   ]
  },
  {
   "cell_type": "code",
   "execution_count": 35,
   "metadata": {
    "collapsed": false
   },
   "outputs": [
    {
     "name": "stdout",
     "output_type": "stream",
     "text": [
      "feature names:\n"
     ]
    },
    {
     "name": "stdout",
     "output_type": "stream",
     "text": [
      " "
     ]
    },
    {
     "name": "stdout",
     "output_type": "stream",
     "text": [
      "['vendor_id', 'passenger_count', 'pickup_longitude', 'pickup_latitude', 'dropoff_longitude', 'dropoff_latitude', 'store_and_fwd_flag', 'pickup_pca0', 'pickup_pca1', 'dropoff_pca0', 'dropoff_pca1', 'distance_haversine', 'distance_dummy_manhattan', 'direction', 'pca_manhattan', 'center_latitude', 'center_longitude', 'pickup_weekday', 'pickup_hour_weekofyear', 'pickup_hour', 'pickup_minute', 'pickup_dt', 'pickup_week_hour', 'week_delta', 'week_delta_sin', 'hour_sin', 'pickup_cluster', 'dropoff_cluster', 'avg_speed_h_gby_pickup_hour', 'avg_speed_m_gby_pickup_hour', 'log_trip_duration_gby_pickup_hour', 'avg_speed_h_gby_pickup_date', 'avg_speed_m_gby_pickup_date', 'log_trip_duration_gby_pickup_date', 'avg_speed_h_gby_pickup_dt_bin', 'avg_speed_m_gby_pickup_dt_bin', 'log_trip_duration_gby_pickup_dt_bin', 'avg_speed_h_gby_pickup_week_hour', 'avg_speed_m_gby_pickup_week_hour', 'log_trip_duration_gby_pickup_week_hour', 'avg_speed_h_gby_pickup_cluster', 'avg_speed_m_gby_pickup_cluster', 'log_trip_duration_gby_pickup_cluster', 'avg_speed_h_gby_dropoff_cluster', 'avg_speed_m_gby_dropoff_cluster', 'log_trip_duration_gby_dropoff_cluster', 'avg_speed_h_center_lat_bin_center_long_bin', 'cnt_center_lat_bin_center_long_bin', 'avg_speed_h_pickup_hour_center_lat_bin_center_long_bin', 'cnt_pickup_hour_center_lat_bin_center_long_bin', 'avg_speed_h_pickup_hour_pickup_cluster', 'cnt_pickup_hour_pickup_cluster', 'avg_speed_h_pickup_hour_dropoff_cluster', 'cnt_pickup_hour_dropoff_cluster', 'avg_speed_h_pickup_cluster_dropoff_cluster', 'cnt_pickup_cluster_dropoff_cluster', 'count_60min', 'dropoff_cluster_count', 'pickup_cluster_count', 'total_distance', 'total_travel_time', 'number_of_steps']"
     ]
    },
    {
     "name": "stdout",
     "output_type": "stream",
     "text": [
      "\n"
     ]
    },
    {
     "name": "stdout",
     "output_type": "stream",
     "text": [
      "x:\n"
     ]
    },
    {
     "name": "stdout",
     "output_type": "stream",
     "text": [
      " "
     ]
    },
    {
     "name": "stdout",
     "output_type": "stream",
     "text": [
      "[[  2.00000000e+00   1.00000000e+00  -7.39821549e+01 ...,   2.00910000e+03\n    1.64900000e+02   5.00000000e+00]\n [  1.00000000e+00   1.00000000e+00  -7.39804153e+01 ...,   2.51320000e+03\n    3.32000000e+02   6.00000000e+00]\n [  2.00000000e+00   1.00000000e+00  -7.39790268e+01 ...,   1.10608000e+04\n    7.67600000e+02   1.60000000e+01]\n ..., \n [  1.00000000e+00   1.00000000e+00  -7.39679794e+01 ...,   5.20500000e+03\n    5.20000000e+02   6.00000000e+00]\n [  2.00000000e+00   2.00000000e+00  -7.37767410e+01 ...,   1.89727000e+04\n    1.17050000e+03   1.70000000e+01]\n [  1.00000000e+00   2.00000000e+00  -7.40147934e+01 ...,   3.93740000e+03\n    4.24700000e+02   6.00000000e+00]]"
     ]
    },
    {
     "name": "stdout",
     "output_type": "stream",
     "text": [
      "\n"
     ]
    },
    {
     "name": "stdout",
     "output_type": "stream",
     "text": [
      "y:\n"
     ]
    },
    {
     "name": "stdout",
     "output_type": "stream",
     "text": [
      " "
     ]
    },
    {
     "name": "stdout",
     "output_type": "stream",
     "text": [
      "[ 6.12249281  6.49828215  7.66152708 ...,  6.85856503  7.47363711\n  6.42162227]"
     ]
    },
    {
     "name": "stdout",
     "output_type": "stream",
     "text": [
      "\n"
     ]
    },
    {
     "name": "stdout",
     "output_type": "stream",
     "text": [
      "KFold(n_splits=10, random_state=None, shuffle=False)"
     ]
    },
    {
     "name": "stdout",
     "output_type": "stream",
     "text": [
      "\n"
     ]
    }
   ],
   "source": [
    "# Split the training data to train and validate\n",
    "\n",
    "# K Fold Cross Validation\n",
    "from sklearn.model_selection import KFold\n",
    "\n",
    "X = train[feature_names].values\n",
    "y = np.log(train['trip_duration'].values + 1) #SetTarget feature: trip_Duration.\n",
    "\n",
    "kf = KFold(n_splits=10)\n",
    "kf.get_n_splits(X)\n",
    "\n",
    "print(\"feature names:\\n\", feature_names)\n",
    "print(\"x:\\n\",X)\n",
    "print(\"y:\\n\",y)\n",
    "print(kf)  \n"
   ]
  },
  {
   "cell_type": "code",
   "execution_count": 36,
   "metadata": {},
   "outputs": [
    {
     "name": "stdout",
     "output_type": "stream",
     "text": [
      "TRAIN:"
     ]
    },
    {
     "name": "stdout",
     "output_type": "stream",
     "text": [
      " "
     ]
    },
    {
     "name": "stdout",
     "output_type": "stream",
     "text": [
      "[ 5000  5001  5002 ..., 49997 49998 49999]"
     ]
    },
    {
     "name": "stdout",
     "output_type": "stream",
     "text": [
      " "
     ]
    },
    {
     "name": "stdout",
     "output_type": "stream",
     "text": [
      "TEST:"
     ]
    },
    {
     "name": "stdout",
     "output_type": "stream",
     "text": [
      " "
     ]
    },
    {
     "name": "stdout",
     "output_type": "stream",
     "text": [
      "[   0    1    2 ..., 4997 4998 4999]"
     ]
    },
    {
     "name": "stdout",
     "output_type": "stream",
     "text": [
      "\n"
     ]
    },
    {
     "name": "stdout",
     "output_type": "stream",
     "text": [
      "TRAIN:"
     ]
    },
    {
     "name": "stdout",
     "output_type": "stream",
     "text": [
      " "
     ]
    },
    {
     "name": "stdout",
     "output_type": "stream",
     "text": [
      "[    0     1     2 ..., 49997 49998 49999]"
     ]
    },
    {
     "name": "stdout",
     "output_type": "stream",
     "text": [
      " "
     ]
    },
    {
     "name": "stdout",
     "output_type": "stream",
     "text": [
      "TEST:"
     ]
    },
    {
     "name": "stdout",
     "output_type": "stream",
     "text": [
      " "
     ]
    },
    {
     "name": "stdout",
     "output_type": "stream",
     "text": [
      "[5000 5001 5002 ..., 9997 9998 9999]"
     ]
    },
    {
     "name": "stdout",
     "output_type": "stream",
     "text": [
      "\n"
     ]
    },
    {
     "name": "stdout",
     "output_type": "stream",
     "text": [
      "TRAIN:"
     ]
    },
    {
     "name": "stdout",
     "output_type": "stream",
     "text": [
      " "
     ]
    },
    {
     "name": "stdout",
     "output_type": "stream",
     "text": [
      "[    0     1     2 ..., 49997 49998 49999]"
     ]
    },
    {
     "name": "stdout",
     "output_type": "stream",
     "text": [
      " "
     ]
    },
    {
     "name": "stdout",
     "output_type": "stream",
     "text": [
      "TEST:"
     ]
    },
    {
     "name": "stdout",
     "output_type": "stream",
     "text": [
      " "
     ]
    },
    {
     "name": "stdout",
     "output_type": "stream",
     "text": [
      "[10000 10001 10002 ..., 14997 14998 14999]"
     ]
    },
    {
     "name": "stdout",
     "output_type": "stream",
     "text": [
      "\n"
     ]
    },
    {
     "name": "stdout",
     "output_type": "stream",
     "text": [
      "TRAIN:"
     ]
    },
    {
     "name": "stdout",
     "output_type": "stream",
     "text": [
      " "
     ]
    },
    {
     "name": "stdout",
     "output_type": "stream",
     "text": [
      "[    0     1     2 ..., 49997 49998 49999]"
     ]
    },
    {
     "name": "stdout",
     "output_type": "stream",
     "text": [
      " "
     ]
    },
    {
     "name": "stdout",
     "output_type": "stream",
     "text": [
      "TEST:"
     ]
    },
    {
     "name": "stdout",
     "output_type": "stream",
     "text": [
      " "
     ]
    },
    {
     "name": "stdout",
     "output_type": "stream",
     "text": [
      "[15000 15001 15002 ..., 19997 19998 19999]"
     ]
    },
    {
     "name": "stdout",
     "output_type": "stream",
     "text": [
      "\n"
     ]
    },
    {
     "name": "stdout",
     "output_type": "stream",
     "text": [
      "TRAIN:"
     ]
    },
    {
     "name": "stdout",
     "output_type": "stream",
     "text": [
      " "
     ]
    },
    {
     "name": "stdout",
     "output_type": "stream",
     "text": [
      "[    0     1     2 ..., 49997 49998 49999]"
     ]
    },
    {
     "name": "stdout",
     "output_type": "stream",
     "text": [
      " "
     ]
    },
    {
     "name": "stdout",
     "output_type": "stream",
     "text": [
      "TEST:"
     ]
    },
    {
     "name": "stdout",
     "output_type": "stream",
     "text": [
      " "
     ]
    },
    {
     "name": "stdout",
     "output_type": "stream",
     "text": [
      "[20000 20001 20002 ..., 24997 24998 24999]"
     ]
    },
    {
     "name": "stdout",
     "output_type": "stream",
     "text": [
      "\n"
     ]
    },
    {
     "name": "stdout",
     "output_type": "stream",
     "text": [
      "TRAIN:"
     ]
    },
    {
     "name": "stdout",
     "output_type": "stream",
     "text": [
      " "
     ]
    },
    {
     "name": "stdout",
     "output_type": "stream",
     "text": [
      "[    0     1     2 ..., 49997 49998 49999]"
     ]
    },
    {
     "name": "stdout",
     "output_type": "stream",
     "text": [
      " "
     ]
    },
    {
     "name": "stdout",
     "output_type": "stream",
     "text": [
      "TEST:"
     ]
    },
    {
     "name": "stdout",
     "output_type": "stream",
     "text": [
      " "
     ]
    },
    {
     "name": "stdout",
     "output_type": "stream",
     "text": [
      "[25000 25001 25002 ..., 29997 29998 29999]"
     ]
    },
    {
     "name": "stdout",
     "output_type": "stream",
     "text": [
      "\n"
     ]
    },
    {
     "name": "stdout",
     "output_type": "stream",
     "text": [
      "TRAIN:"
     ]
    },
    {
     "name": "stdout",
     "output_type": "stream",
     "text": [
      " "
     ]
    },
    {
     "name": "stdout",
     "output_type": "stream",
     "text": [
      "[    0     1     2 ..., 49997 49998 49999]"
     ]
    },
    {
     "name": "stdout",
     "output_type": "stream",
     "text": [
      " "
     ]
    },
    {
     "name": "stdout",
     "output_type": "stream",
     "text": [
      "TEST:"
     ]
    },
    {
     "name": "stdout",
     "output_type": "stream",
     "text": [
      " "
     ]
    },
    {
     "name": "stdout",
     "output_type": "stream",
     "text": [
      "[30000 30001 30002 ..., 34997 34998 34999]"
     ]
    },
    {
     "name": "stdout",
     "output_type": "stream",
     "text": [
      "\n"
     ]
    },
    {
     "name": "stdout",
     "output_type": "stream",
     "text": [
      "TRAIN:"
     ]
    },
    {
     "name": "stdout",
     "output_type": "stream",
     "text": [
      " "
     ]
    },
    {
     "name": "stdout",
     "output_type": "stream",
     "text": [
      "[    0     1     2 ..., 49997 49998 49999]"
     ]
    },
    {
     "name": "stdout",
     "output_type": "stream",
     "text": [
      " "
     ]
    },
    {
     "name": "stdout",
     "output_type": "stream",
     "text": [
      "TEST:"
     ]
    },
    {
     "name": "stdout",
     "output_type": "stream",
     "text": [
      " "
     ]
    },
    {
     "name": "stdout",
     "output_type": "stream",
     "text": [
      "[35000 35001 35002 ..., 39997 39998 39999]"
     ]
    },
    {
     "name": "stdout",
     "output_type": "stream",
     "text": [
      "\n"
     ]
    },
    {
     "name": "stdout",
     "output_type": "stream",
     "text": [
      "TRAIN:"
     ]
    },
    {
     "name": "stdout",
     "output_type": "stream",
     "text": [
      " "
     ]
    },
    {
     "name": "stdout",
     "output_type": "stream",
     "text": [
      "[    0     1     2 ..., 49997 49998 49999]"
     ]
    },
    {
     "name": "stdout",
     "output_type": "stream",
     "text": [
      " "
     ]
    },
    {
     "name": "stdout",
     "output_type": "stream",
     "text": [
      "TEST:"
     ]
    },
    {
     "name": "stdout",
     "output_type": "stream",
     "text": [
      " "
     ]
    },
    {
     "name": "stdout",
     "output_type": "stream",
     "text": [
      "[40000 40001 40002 ..., 44997 44998 44999]"
     ]
    },
    {
     "name": "stdout",
     "output_type": "stream",
     "text": [
      "\n"
     ]
    },
    {
     "name": "stdout",
     "output_type": "stream",
     "text": [
      "TRAIN:"
     ]
    },
    {
     "name": "stdout",
     "output_type": "stream",
     "text": [
      " "
     ]
    },
    {
     "name": "stdout",
     "output_type": "stream",
     "text": [
      "[    0     1     2 ..., 44997 44998 44999]"
     ]
    },
    {
     "name": "stdout",
     "output_type": "stream",
     "text": [
      " "
     ]
    },
    {
     "name": "stdout",
     "output_type": "stream",
     "text": [
      "TEST:"
     ]
    },
    {
     "name": "stdout",
     "output_type": "stream",
     "text": [
      " "
     ]
    },
    {
     "name": "stdout",
     "output_type": "stream",
     "text": [
      "[45000 45001 45002 ..., 49997 49998 49999]"
     ]
    },
    {
     "name": "stdout",
     "output_type": "stream",
     "text": [
      "\n"
     ]
    }
   ],
   "source": [
    "KFold(n_splits=10, random_state=None, shuffle=False)\n",
    "for train_index, test_index in kf.split(X):\n",
    "    print(\"TRAIN:\", train_index, \"TEST:\", test_index)\n",
    "    X_train, X_valid = X[train_index], X[test_index]\n",
    "    y_train, y_valid = y[train_index], y[test_index]"
   ]
  },
  {
   "cell_type": "code",
   "execution_count": 37,
   "metadata": {},
   "outputs": [
    {
     "name": "stderr",
     "output_type": "stream",
     "text": [
      "\rOptimization Progress:   0%|          | 0/36 [00:00<?, ?pipeline/s]"
     ]
    },
    {
     "name": "stderr",
     "output_type": "stream",
     "text": [
      "\rOptimization Progress:   3%|▎         | 1/36 [00:04<02:44,  4.71s/pipeline]"
     ]
    },
    {
     "name": "stderr",
     "output_type": "stream",
     "text": [
      "\rOptimization Progress:   6%|▌         | 2/36 [02:28<26:14, 46.31s/pipeline]"
     ]
    },
    {
     "name": "stderr",
     "output_type": "stream",
     "text": [
      "\rOptimization Progress:   8%|▊         | 3/36 [03:20<26:29, 48.16s/pipeline]"
     ]
    },
    {
     "name": "stderr",
     "output_type": "stream",
     "text": [
      "\rOptimization Progress:  11%|█         | 4/36 [03:25<18:47, 35.22s/pipeline]"
     ]
    },
    {
     "name": "stderr",
     "output_type": "stream",
     "text": [
      "\rOptimization Progress:  14%|█▍        | 5/36 [06:31<41:35, 80.49s/pipeline]"
     ]
    },
    {
     "name": "stderr",
     "output_type": "stream",
     "text": [
      "\rOptimization Progress:  17%|█▋        | 6/36 [07:28<36:39, 73.31s/pipeline]"
     ]
    },
    {
     "name": "stderr",
     "output_type": "stream",
     "text": [
      "\rOptimization Progress:  19%|█▉        | 7/36 [08:58<37:56, 78.49s/pipeline]"
     ]
    },
    {
     "name": "stderr",
     "output_type": "stream",
     "text": [
      "\rOptimization Progress:  22%|██▏       | 8/36 [09:00<25:53, 55.48s/pipeline]"
     ]
    },
    {
     "name": "stderr",
     "output_type": "stream",
     "text": [
      "\rOptimization Progress:  25%|██▌       | 9/36 [09:50<24:08, 53.66s/pipeline]"
     ]
    },
    {
     "name": "stderr",
     "output_type": "stream",
     "text": [
      "\rOptimization Progress:  28%|██▊       | 10/36 [11:21<28:13, 65.12s/pipeline]"
     ]
    },
    {
     "name": "stderr",
     "output_type": "stream",
     "text": [
      "\rOptimization Progress:  31%|███       | 11/36 [11:26<19:33, 46.95s/pipeline]"
     ]
    },
    {
     "name": "stderr",
     "output_type": "stream",
     "text": [
      "\rOptimization Progress:  33%|███▎      | 12/36 [11:31<13:48, 34.51s/pipeline]"
     ]
    },
    {
     "name": "stderr",
     "output_type": "stream",
     "text": [
      "\rOptimization Progress:  36%|███▌      | 13/36 [12:21<14:58, 39.06s/pipeline]"
     ]
    },
    {
     "name": "stderr",
     "output_type": "stream",
     "text": [
      "\rOptimization Progress:  39%|███▉      | 14/36 [13:35<18:10, 49.55s/pipeline]"
     ]
    },
    {
     "name": "stderr",
     "output_type": "stream",
     "text": [
      "\rOptimization Progress:  42%|████▏     | 15/36 [18:35<43:39, 124.74s/pipeline]"
     ]
    },
    {
     "name": "stderr",
     "output_type": "stream",
     "text": [
      "\rOptimization Progress:  47%|████▋     | 17/36 [19:48<31:06, 98.25s/pipeline] "
     ]
    },
    {
     "name": "stderr",
     "output_type": "stream",
     "text": [
      "\rOptimization Progress:  50%|█████     | 18/36 [24:00<43:18, 144.37s/pipeline]"
     ]
    },
    {
     "name": "stderr",
     "output_type": "stream",
     "text": [
      "\rOptimization Progress:  53%|█████▎    | 19/36 [24:06<29:05, 102.69s/pipeline]"
     ]
    },
    {
     "name": "stderr",
     "output_type": "stream",
     "text": [
      "\r                                                                             "
     ]
    },
    {
     "name": "stderr",
     "output_type": "stream",
     "text": [
      "\r"
     ]
    },
    {
     "name": "stdout",
     "output_type": "stream",
     "text": [
      "Generation 1 - Current best internal CV score: -0.15592352132905096"
     ]
    },
    {
     "name": "stdout",
     "output_type": "stream",
     "text": [
      "\n"
     ]
    },
    {
     "name": "stderr",
     "output_type": "stream",
     "text": [
      "\rOptimization Progress:  53%|█████▎    | 19/36 [24:06<29:05, 102.69s/pipeline]"
     ]
    },
    {
     "name": "stderr",
     "output_type": "stream",
     "text": [
      "\rOptimization Progress:  56%|█████▌    | 20/36 [26:11<29:12, 109.55s/pipeline]"
     ]
    },
    {
     "name": "stderr",
     "output_type": "stream",
     "text": [
      "\rOptimization Progress:  58%|█████▊    | 21/36 [26:12<19:15, 77.07s/pipeline] "
     ]
    },
    {
     "name": "stderr",
     "output_type": "stream",
     "text": [
      "\rOptimization Progress:  61%|██████    | 22/36 [26:16<12:49, 54.99s/pipeline]"
     ]
    },
    {
     "name": "stderr",
     "output_type": "stream",
     "text": [
      "\rOptimization Progress:  64%|██████▍   | 23/36 [26:20<08:36, 39.75s/pipeline]"
     ]
    },
    {
     "name": "stderr",
     "output_type": "stream",
     "text": [
      "\rOptimization Progress:  67%|██████▋   | 24/36 [27:37<10:09, 50.77s/pipeline]"
     ]
    },
    {
     "name": "stderr",
     "output_type": "stream",
     "text": [
      "\rOptimization Progress:  69%|██████▉   | 25/36 [29:02<11:11, 61.04s/pipeline]"
     ]
    },
    {
     "name": "stderr",
     "output_type": "stream",
     "text": [
      "\rOptimization Progress:  72%|███████▏  | 26/36 [29:55<09:47, 58.77s/pipeline]"
     ]
    },
    {
     "name": "stderr",
     "output_type": "stream",
     "text": [
      "\rOptimization Progress:  75%|███████▌  | 27/36 [30:14<07:00, 46.69s/pipeline]"
     ]
    },
    {
     "name": "stderr",
     "output_type": "stream",
     "text": [
      "\rOptimization Progress:  78%|███████▊  | 28/36 [35:14<16:21, 122.73s/pipeline]"
     ]
    },
    {
     "name": "stderr",
     "output_type": "stream",
     "text": [
      "\r                                                                             "
     ]
    },
    {
     "name": "stderr",
     "output_type": "stream",
     "text": [
      "\r"
     ]
    },
    {
     "name": "stdout",
     "output_type": "stream",
     "text": [
      "Generation 2 - Current best internal CV score: -0.15592352132905096"
     ]
    },
    {
     "name": "stdout",
     "output_type": "stream",
     "text": [
      "\n"
     ]
    },
    {
     "name": "stderr",
     "output_type": "stream",
     "text": [
      "\rOptimization Progress:  81%|████████  | 29/36 [35:14<14:19, 122.73s/pipeline]"
     ]
    },
    {
     "name": "stderr",
     "output_type": "stream",
     "text": [
      "\rOptimization Progress:  81%|████████  | 29/36 [35:14<10:01, 85.95s/pipeline] "
     ]
    },
    {
     "name": "stderr",
     "output_type": "stream",
     "text": [
      "\rOptimization Progress:  83%|████████▎ | 30/36 [36:04<07:31, 75.27s/pipeline]"
     ]
    },
    {
     "name": "stderr",
     "output_type": "stream",
     "text": [
      "\rOptimization Progress:  86%|████████▌ | 31/36 [37:06<05:55, 71.18s/pipeline]"
     ]
    },
    {
     "name": "stderr",
     "output_type": "stream",
     "text": [
      "\rOptimization Progress:  89%|████████▉ | 32/36 [39:36<06:19, 94.83s/pipeline]"
     ]
    },
    {
     "name": "stderr",
     "output_type": "stream",
     "text": [
      "\rOptimization Progress:  92%|█████████▏| 33/36 [40:14<03:53, 77.67s/pipeline]"
     ]
    },
    {
     "name": "stderr",
     "output_type": "stream",
     "text": [
      "\rOptimization Progress:  94%|█████████▍| 34/36 [41:28<02:33, 76.82s/pipeline]"
     ]
    },
    {
     "name": "stderr",
     "output_type": "stream",
     "text": [
      "\rOptimization Progress:  97%|█████████▋| 35/36 [42:58<01:20, 80.53s/pipeline]"
     ]
    },
    {
     "name": "stderr",
     "output_type": "stream",
     "text": [
      "\rOptimization Progress: 100%|██████████| 36/36 [43:57<00:00, 74.26s/pipeline]"
     ]
    },
    {
     "name": "stderr",
     "output_type": "stream",
     "text": [
      "\rOptimization Progress: 37pipeline [45:19, 76.58s/pipeline]                  "
     ]
    },
    {
     "name": "stderr",
     "output_type": "stream",
     "text": [
      "\rOptimization Progress: 38pipeline [46:09, 68.42s/pipeline]"
     ]
    },
    {
     "name": "stderr",
     "output_type": "stream",
     "text": [
      "\r                                                          "
     ]
    },
    {
     "name": "stderr",
     "output_type": "stream",
     "text": [
      "\r"
     ]
    },
    {
     "name": "stdout",
     "output_type": "stream",
     "text": [
      "Generation 3 - Current best internal CV score: -0.15592352132905096"
     ]
    },
    {
     "name": "stdout",
     "output_type": "stream",
     "text": [
      "\n"
     ]
    },
    {
     "name": "stderr",
     "output_type": "stream",
     "text": [
      "\rOptimization Progress: 38pipeline [46:09, 68.42s/pipeline]"
     ]
    },
    {
     "name": "stderr",
     "output_type": "stream",
     "text": [
      "\r                                                          "
     ]
    },
    {
     "name": "stderr",
     "output_type": "stream",
     "text": [
      "\r"
     ]
    },
    {
     "name": "stdout",
     "output_type": "stream",
     "text": [
      "\n"
     ]
    },
    {
     "name": "stdout",
     "output_type": "stream",
     "text": [
      "Best pipeline:"
     ]
    },
    {
     "name": "stdout",
     "output_type": "stream",
     "text": [
      " "
     ]
    },
    {
     "name": "stdout",
     "output_type": "stream",
     "text": [
      "XGBRegressor(MinMaxScaler(input_matrix), learning_rate=0.1, max_depth=9, min_child_weight=3, n_estimators=100, nthread=1, subsample=0.15)"
     ]
    },
    {
     "name": "stdout",
     "output_type": "stream",
     "text": [
      "\n"
     ]
    },
    {
     "data": {
      "text/plain": [
       "TPOTRegressor(config_dict={'sklearn.linear_model.ElasticNetCV': {'l1_ratio': array([ 0.  ,  0.05,  0.1 ,  0.15,  0.2 ,  0.25,  0.3 ,  0.35,  0.4 ,\n        0.45,  0.5 ,  0.55,  0.6 ,  0.65,  0.7 ,  0.75,  0.8 ,  0.85,\n        0.9 ,  0.95,  1.  ]), 'tol': [1e-05, 0.0001, 0.001, 0.01, 0.1]}, 'sklearn.ensemble.ExtraT....45,\n        0.5 ,  0.55,  0.6 ,  0.65,  0.7 ,  0.75,  0.8 ,  0.85,  0.9 ,\n        0.95,  1.  ])}}}},\n       crossover_rate=0.1, cv=5, disable_update_check=False,\n       early_stop=None, generations=3, max_eval_time_mins=5,\n       max_time_mins=None, memory=None, mutation_rate=0.9, n_jobs=1,\n       offspring_size=9, periodic_checkpoint_folder=None,\n       population_size=9, random_state=None, scoring=None, subsample=1.0,\n       verbosity=2, warm_start=False)"
      ]
     },
     "execution_count": 37,
     "metadata": {},
     "output_type": "execute_result"
    }
   ],
   "source": [
    "auto_classifier.fit(X_train, y_train)"
   ]
  },
  {
   "cell_type": "markdown",
   "metadata": {},
   "source": [
    "## Step14.2: Save the test[feature_names] to csv file."
   ]
  },
  {
   "cell_type": "code",
   "execution_count": 38,
   "metadata": {
    "collapsed": false
   },
   "outputs": [
    {
     "name": "stdout",
     "output_type": "stream",
     "text": [
      "['vendor_id', 'passenger_count', 'pickup_longitude', 'pickup_latitude', 'dropoff_longitude', 'dropoff_latitude', 'store_and_fwd_flag', 'pickup_pca0', 'pickup_pca1', 'dropoff_pca0', 'dropoff_pca1', 'distance_haversine', 'distance_dummy_manhattan', 'direction', 'pca_manhattan', 'center_latitude', 'center_longitude', 'pickup_weekday', 'pickup_hour_weekofyear', 'pickup_hour', 'pickup_minute', 'pickup_dt', 'pickup_week_hour', 'week_delta', 'week_delta_sin', 'hour_sin', 'pickup_cluster', 'dropoff_cluster', 'avg_speed_h_gby_pickup_hour', 'avg_speed_m_gby_pickup_hour', 'log_trip_duration_gby_pickup_hour', 'avg_speed_h_gby_pickup_date', 'avg_speed_m_gby_pickup_date', 'log_trip_duration_gby_pickup_date', 'avg_speed_h_gby_pickup_dt_bin', 'avg_speed_m_gby_pickup_dt_bin', 'log_trip_duration_gby_pickup_dt_bin', 'avg_speed_h_gby_pickup_week_hour', 'avg_speed_m_gby_pickup_week_hour', 'log_trip_duration_gby_pickup_week_hour', 'avg_speed_h_gby_pickup_cluster', 'avg_speed_m_gby_pickup_cluster', 'log_trip_duration_gby_pickup_cluster', 'avg_speed_h_gby_dropoff_cluster', 'avg_speed_m_gby_dropoff_cluster', 'log_trip_duration_gby_dropoff_cluster', 'avg_speed_h_center_lat_bin_center_long_bin', 'cnt_center_lat_bin_center_long_bin', 'avg_speed_h_pickup_hour_center_lat_bin_center_long_bin', 'cnt_pickup_hour_center_lat_bin_center_long_bin', 'avg_speed_h_pickup_hour_pickup_cluster', 'cnt_pickup_hour_pickup_cluster', 'avg_speed_h_pickup_hour_dropoff_cluster', 'cnt_pickup_hour_dropoff_cluster', 'avg_speed_h_pickup_cluster_dropoff_cluster', 'cnt_pickup_cluster_dropoff_cluster', 'count_60min', 'dropoff_cluster_count', 'pickup_cluster_count', 'total_distance', 'total_travel_time', 'number_of_steps']"
     ]
    },
    {
     "name": "stdout",
     "output_type": "stream",
     "text": [
      "\n"
     ]
    },
    {
     "name": "stdout",
     "output_type": "stream",
     "text": [
      "   vendor_id  passenger_count  pickup_longitude  pickup_latitude  \\\n0          1                1        -73.988129        40.732029   \n1          1                1        -73.964203        40.679993   \n2          1                1        -73.997437        40.737583   \n3          2                1        -73.956070        40.771900   \n4          1                1        -73.970215        40.761475   \n\n   dropoff_longitude  dropoff_latitude  store_and_fwd_flag  pickup_pca0  \\\n0         -73.990173         40.756680                   0     0.016106   \n1         -73.959808         40.655403                   0    -0.003569   \n2         -73.986160         40.729523                   0     0.024939   \n3         -73.986427         40.730469                   0    -0.019047   \n4         -73.961510         40.755890                   0    -0.004111   \n\n   pickup_pca1  dropoff_pca0       ...         \\\n0    -0.018128      0.016167       ...          \n1    -0.071915     -0.005977       ...          \n2    -0.011845      0.014345       ...          \n3     0.019044      0.014536       ...          \n4     0.009786     -0.012341       ...          \n\n   avg_speed_h_pickup_hour_dropoff_cluster  cnt_pickup_hour_dropoff_cluster  \\\n0                                 3.714469                             67.0   \n1                                 5.857216                             15.0   \n2                                 4.952653                             53.0   \n3                                 4.952653                             53.0   \n4                                 3.666584                             28.0   \n\n   avg_speed_h_pickup_cluster_dropoff_cluster  \\\n0                                    2.780913   \n1                                    5.130377   \n2                                    2.986116   \n3                                    4.474475   \n4                                    2.405101   \n\n   cnt_pickup_cluster_dropoff_cluster  count_60min  dropoff_cluster_count  \\\n0                                20.0        212.0                    0.0   \n1                                 3.0        211.0                    0.0   \n2                                27.0        210.0                    0.0   \n3                                 2.0        209.0                    0.0   \n4                                25.0        214.0                    0.0   \n\n   pickup_cluster_count  total_distance  total_travel_time  number_of_steps  \n0                   0.0          3795.9              424.6                4  \n1                   0.0          2904.5              200.0                4  \n2                   0.0          1499.5              193.2                4  \n3                   0.0          7023.9              494.8               11  \n4                   0.0          1108.2              103.2                4  \n\n[5 rows x 62 columns]"
     ]
    },
    {
     "name": "stdout",
     "output_type": "stream",
     "text": [
      "\n"
     ]
    },
    {
     "ename": "PermissionError",
     "evalue": "[Errno 13] Permission denied: 'NYCTaxi_DataTest.csv'",
     "traceback": [
      "\u001b[1;31m---------------------------------------------------------------------------\u001b[0m",
      "\u001b[1;31mPermissionError\u001b[0m                           Traceback (most recent call last)",
      "\u001b[1;32m<ipython-input-38-23fb8aed274e>\u001b[0m in \u001b[0;36m<module>\u001b[1;34m()\u001b[0m\n\u001b[0;32m      1\u001b[0m \u001b[0mprint\u001b[0m\u001b[1;33m(\u001b[0m\u001b[0mfeature_names\u001b[0m\u001b[1;33m)\u001b[0m\u001b[1;33m\u001b[0m\u001b[0m\n\u001b[0;32m      2\u001b[0m \u001b[0mprint\u001b[0m\u001b[1;33m(\u001b[0m\u001b[0mtest\u001b[0m\u001b[1;33m[\u001b[0m\u001b[0mfeature_names\u001b[0m\u001b[1;33m]\u001b[0m\u001b[1;33m.\u001b[0m\u001b[0mhead\u001b[0m\u001b[1;33m(\u001b[0m\u001b[1;36m5\u001b[0m\u001b[1;33m)\u001b[0m\u001b[1;33m)\u001b[0m\u001b[1;33m\u001b[0m\u001b[0m\n\u001b[1;32m----> 3\u001b[1;33m \u001b[0mtest\u001b[0m\u001b[1;33m[\u001b[0m\u001b[0mfeature_names\u001b[0m\u001b[1;33m]\u001b[0m\u001b[1;33m.\u001b[0m\u001b[0mto_csv\u001b[0m\u001b[1;33m(\u001b[0m\u001b[1;34m'NYCTaxi_DataTest.csv'\u001b[0m\u001b[1;33m,\u001b[0m \u001b[0mindex\u001b[0m\u001b[1;33m=\u001b[0m\u001b[1;32mFalse\u001b[0m\u001b[1;33m)\u001b[0m\u001b[1;33m\u001b[0m\u001b[0m\n\u001b[0m",
      "\u001b[1;32mC:\\Anaconda3\\lib\\site-packages\\pandas\\core\\frame.py\u001b[0m in \u001b[0;36mto_csv\u001b[1;34m(self, path_or_buf, sep, na_rep, float_format, columns, header, index, index_label, mode, encoding, compression, quoting, quotechar, line_terminator, chunksize, tupleize_cols, date_format, doublequote, escapechar, decimal)\u001b[0m\n\u001b[0;32m   1401\u001b[0m                                      \u001b[0mdoublequote\u001b[0m\u001b[1;33m=\u001b[0m\u001b[0mdoublequote\u001b[0m\u001b[1;33m,\u001b[0m\u001b[1;33m\u001b[0m\u001b[0m\n\u001b[0;32m   1402\u001b[0m                                      escapechar=escapechar, decimal=decimal)\n\u001b[1;32m-> 1403\u001b[1;33m         \u001b[0mformatter\u001b[0m\u001b[1;33m.\u001b[0m\u001b[0msave\u001b[0m\u001b[1;33m(\u001b[0m\u001b[1;33m)\u001b[0m\u001b[1;33m\u001b[0m\u001b[0m\n\u001b[0m\u001b[0;32m   1404\u001b[0m \u001b[1;33m\u001b[0m\u001b[0m\n\u001b[0;32m   1405\u001b[0m         \u001b[1;32mif\u001b[0m \u001b[0mpath_or_buf\u001b[0m \u001b[1;32mis\u001b[0m \u001b[1;32mNone\u001b[0m\u001b[1;33m:\u001b[0m\u001b[1;33m\u001b[0m\u001b[0m\n",
      "\u001b[1;32mC:\\Anaconda3\\lib\\site-packages\\pandas\\io\\formats\\format.py\u001b[0m in \u001b[0;36msave\u001b[1;34m(self)\u001b[0m\n\u001b[0;32m   1575\u001b[0m             f, handles = _get_handle(self.path_or_buf, self.mode,\n\u001b[0;32m   1576\u001b[0m                                      \u001b[0mencoding\u001b[0m\u001b[1;33m=\u001b[0m\u001b[0mself\u001b[0m\u001b[1;33m.\u001b[0m\u001b[0mencoding\u001b[0m\u001b[1;33m,\u001b[0m\u001b[1;33m\u001b[0m\u001b[0m\n\u001b[1;32m-> 1577\u001b[1;33m                                      compression=self.compression)\n\u001b[0m\u001b[0;32m   1578\u001b[0m             \u001b[0mclose\u001b[0m \u001b[1;33m=\u001b[0m \u001b[1;32mTrue\u001b[0m\u001b[1;33m\u001b[0m\u001b[0m\n\u001b[0;32m   1579\u001b[0m \u001b[1;33m\u001b[0m\u001b[0m\n",
      "\u001b[1;32mC:\\Anaconda3\\lib\\site-packages\\pandas\\io\\common.py\u001b[0m in \u001b[0;36m_get_handle\u001b[1;34m(path_or_buf, mode, encoding, compression, memory_map, is_text)\u001b[0m\n\u001b[0;32m    383\u001b[0m         \u001b[1;32melif\u001b[0m \u001b[0mis_text\u001b[0m\u001b[1;33m:\u001b[0m\u001b[1;33m\u001b[0m\u001b[0m\n\u001b[0;32m    384\u001b[0m             \u001b[1;31m# Python 3 and no explicit encoding\u001b[0m\u001b[1;33m\u001b[0m\u001b[1;33m\u001b[0m\u001b[0m\n\u001b[1;32m--> 385\u001b[1;33m             \u001b[0mf\u001b[0m \u001b[1;33m=\u001b[0m \u001b[0mopen\u001b[0m\u001b[1;33m(\u001b[0m\u001b[0mpath_or_buf\u001b[0m\u001b[1;33m,\u001b[0m \u001b[0mmode\u001b[0m\u001b[1;33m,\u001b[0m \u001b[0merrors\u001b[0m\u001b[1;33m=\u001b[0m\u001b[1;34m'replace'\u001b[0m\u001b[1;33m)\u001b[0m\u001b[1;33m\u001b[0m\u001b[0m\n\u001b[0m\u001b[0;32m    386\u001b[0m         \u001b[1;32melse\u001b[0m\u001b[1;33m:\u001b[0m\u001b[1;33m\u001b[0m\u001b[0m\n\u001b[0;32m    387\u001b[0m             \u001b[1;31m# Python 3 and binary mode\u001b[0m\u001b[1;33m\u001b[0m\u001b[1;33m\u001b[0m\u001b[0m\n",
      "\u001b[1;31mPermissionError\u001b[0m: [Errno 13] Permission denied: 'NYCTaxi_DataTest.csv'"
     ],
     "output_type": "error"
    }
   ],
   "source": [
    "print(feature_names)\n",
    "print(test[feature_names].head(5))\n",
    "test[feature_names].to_csv('NYCTaxi_DataTest.csv', index=False)"
   ]
  },
  {
   "cell_type": "markdown",
   "metadata": {},
   "source": [
    "## Step 15: Predict trip duration with classifier."
   ]
  },
  {
   "cell_type": "code",
   "execution_count": 40,
   "metadata": {},
   "outputs": [
    {
     "name": "stdout",
     "output_type": "stream",
     "text": [
      "Imputing missing values in feature set"
     ]
    },
    {
     "name": "stdout",
     "output_type": "stream",
     "text": [
      "\n"
     ]
    },
    {
     "data": {
      "text/plain": [
       "True"
      ]
     },
     "execution_count": 39,
     "metadata": {},
     "output_type": "execute_result"
    }
   ],
   "source": [
    "test_result = auto_classifier.predict(test[feature_names].values)\n",
    "sub = pd.DataFrame()\n",
    "sub['id'] = test['id']\n",
    "sub['trip_duration'] = np.exp(test_result) \n",
    "#np.exp: Calculate the exponential of all elements in the input array.\n",
    "sub['pickup_weekday']=test['pickup_weekday']\n",
    "sub.to_csv('NYCTaxi_TpotModels.csv', index=False)\n",
    "sub.head()\n",
    "      \n",
    "auto_classifier.export('NYCTaxi_TPOTpipelineResult.py')"
   ]
  },
  {
   "cell_type": "code",
   "execution_count": 41,
   "metadata": {
    "collapsed": false
   },
   "outputs": [
    {
     "name": "stdout",
     "output_type": "stream",
     "text": [
      "vendor_id                                                 False\npassenger_count                                           False\npickup_longitude                                          False\npickup_latitude                                           False\ndropoff_longitude                                         False\ndropoff_latitude                                          False\nstore_and_fwd_flag                                        False\npickup_pca0                                               False\npickup_pca1                                               False\ndropoff_pca0                                              False\ndropoff_pca1                                              False\ndistance_haversine                                        False\ndistance_dummy_manhattan                                  False\ndirection                                                 False\npca_manhattan                                             False\ncenter_latitude                                           False\ncenter_longitude                                          False\npickup_weekday                                            False\npickup_hour_weekofyear                                    False\npickup_hour                                               False\npickup_minute                                             False\npickup_dt                                                 False\npickup_week_hour                                          False\nweek_delta                                                False\nweek_delta_sin                                            False\nhour_sin                                                  False\npickup_cluster                                            False\ndropoff_cluster                                           False\navg_speed_h_gby_pickup_hour                               False\navg_speed_m_gby_pickup_hour                               False\n                                                          ...  \navg_speed_m_gby_pickup_date                               False\nlog_trip_duration_gby_pickup_date                         False\navg_speed_h_gby_pickup_dt_bin                             False\navg_speed_m_gby_pickup_dt_bin                             False\nlog_trip_duration_gby_pickup_dt_bin                       False\navg_speed_h_gby_pickup_week_hour                          False\navg_speed_m_gby_pickup_week_hour                          False\nlog_trip_duration_gby_pickup_week_hour                    False\navg_speed_h_gby_pickup_cluster                            False\navg_speed_m_gby_pickup_cluster                            False\nlog_trip_duration_gby_pickup_cluster                      False\navg_speed_h_gby_dropoff_cluster                           False\navg_speed_m_gby_dropoff_cluster                           False\nlog_trip_duration_gby_dropoff_cluster                     False\navg_speed_h_center_lat_bin_center_long_bin                 True\ncnt_center_lat_bin_center_long_bin                         True\navg_speed_h_pickup_hour_center_lat_bin_center_long_bin     True\ncnt_pickup_hour_center_lat_bin_center_long_bin             True\navg_speed_h_pickup_hour_pickup_cluster                     True\ncnt_pickup_hour_pickup_cluster                             True\navg_speed_h_pickup_hour_dropoff_cluster                    True\ncnt_pickup_hour_dropoff_cluster                            True\navg_speed_h_pickup_cluster_dropoff_cluster                 True\ncnt_pickup_cluster_dropoff_cluster                         True\ncount_60min                                               False\ndropoff_cluster_count                                     False\npickup_cluster_count                                      False\ntotal_distance                                            False\ntotal_travel_time                                         False\nnumber_of_steps                                           False\nLength: 62, dtype: bool"
     ]
    },
    {
     "name": "stdout",
     "output_type": "stream",
     "text": [
      "\n"
     ]
    }
   ],
   "source": [
    "trainDF = pd.read_csv('NYCTaxi_DataTest.csv', nrows=10000)\n",
    "print(trainDF.isnull().any())"
   ]
  },
  {
   "cell_type": "code",
   "execution_count": 42,
   "metadata": {
    "collapsed": true
   },
   "outputs": [],
   "source": [
    "#Fill nan of columns:\n",
    "trainDF['avg_speed_h_center_lat_bin_center_long_bin'].fillna((trainDF['avg_speed_h_center_lat_bin_center_long_bin'].mean()), inplace=True)\n",
    "trainDF['cnt_center_lat_bin_center_long_bin'].fillna((trainDF['cnt_center_lat_bin_center_long_bin'].mean()), inplace=True)\n",
    "trainDF['avg_speed_h_pickup_hour_center_lat_bin_center_long_bin'].fillna((trainDF['avg_speed_h_pickup_hour_center_lat_bin_center_long_bin'].mean()), inplace=True)\n",
    "trainDF['cnt_pickup_hour_center_lat_bin_center_long_bin'].fillna((trainDF['cnt_pickup_hour_center_lat_bin_center_long_bin'].mean()), inplace=True)\n",
    "trainDF['avg_speed_h_pickup_hour_pickup_cluster'].fillna((trainDF['avg_speed_h_pickup_hour_pickup_cluster'].mean()), inplace=True)\n",
    "trainDF['cnt_pickup_hour_pickup_cluster'].fillna((trainDF['cnt_pickup_hour_pickup_cluster'].mean()), inplace=True)\n",
    "trainDF['avg_speed_h_pickup_hour_dropoff_cluster'].fillna((trainDF['avg_speed_h_pickup_hour_dropoff_cluster'].mean()), inplace=True)\n",
    "trainDF['cnt_pickup_hour_dropoff_cluster'].fillna((trainDF['cnt_pickup_hour_dropoff_cluster'].mean()), inplace=True)\n",
    "trainDF['avg_speed_h_pickup_cluster_dropoff_cluster'].fillna((trainDF['avg_speed_h_pickup_cluster_dropoff_cluster'].mean()), inplace=True)\n",
    "trainDF['cnt_pickup_cluster_dropoff_cluster'].fillna((trainDF['cnt_pickup_cluster_dropoff_cluster'].mean()), inplace=True)\n"
   ]
  },
  {
   "cell_type": "markdown",
   "metadata": {},
   "source": [
    "#  Animation the map with time changing:"
   ]
  },
  {
   "cell_type": "code",
   "execution_count": 43,
   "metadata": {},
   "outputs": [
    {
     "data": {
      "text/html": [
       "\n",
       "    <div class=\"bk-root\">\n",
       "        <a href=\"https://bokeh.pydata.org\" target=\"_blank\" class=\"bk-logo bk-logo-small bk-logo-notebook\"></a>\n",
       "        <span id=\"7282b0b5-ec04-4a7e-a9d8-6947396cc2a2\">Loading BokehJS ...</span>\n",
       "    </div>"
      ],
      "text/plain": [
       "\n",
       "    <div class=\"bk-root\">\n",
       "        <a href=\"https://bokeh.pydata.org\" target=\"_blank\" class=\"bk-logo bk-logo-small bk-logo-notebook\"></a>\n",
       "        <span id=\"7282b0b5-ec04-4a7e-a9d8-6947396cc2a2\">Loading BokehJS ...</span>\n",
       "    </div>"
      ]
     },
     "execution_count": 0,
     "metadata": {},
     "output_type": "execute_result"
    },
    {
     "data": {
      "text/html": [
       "\n",
       "    <div class=\"bk-root\">\n",
       "        <a href=\"https://bokeh.pydata.org\" target=\"_blank\" class=\"bk-logo bk-logo-small bk-logo-notebook\"></a>\n",
       "        <span id=\"7282b0b5-ec04-4a7e-a9d8-6947396cc2a2\">Loading BokehJS ...</span>\n",
       "    </div>"
      ],
      "text/plain": [
       "\n",
       "    <div class=\"bk-root\">\n",
       "        <a href=\"https://bokeh.pydata.org\" target=\"_blank\" class=\"bk-logo bk-logo-small bk-logo-notebook\"></a>\n",
       "        <span id=\"7282b0b5-ec04-4a7e-a9d8-6947396cc2a2\">Loading BokehJS ...</span>\n",
       "    </div>"
      ]
     },
     "execution_count": 0,
     "metadata": {},
     "output_type": "execute_result"
    }
   ],
   "source": [
    "import pandas as pd  #pandas for using dataframe and reading csv \n",
    "import numpy as np   #numpy for vector operations and basic maths \n",
    "#import simplejson    #getting JSON in simplified format\n",
    "import urllib        #for url stuff\n",
    "#import gmaps       #for using google maps to visulalize places on maps\n",
    "import re            #for processing regular expressions\n",
    "import datetime      #for datetime operations\n",
    "import calendar      #for calendar for datetime operations\n",
    "import time          #to get the system time\n",
    "import scipy         #for other dependancies\n",
    "from sklearn.cluster import KMeans # for doing K-means clustering\n",
    "from haversine import haversine # for calculating haversine distance\n",
    "import math          #for basic maths operations\n",
    "import seaborn as sns #for making plots\n",
    "import matplotlib.pyplot as plt # for plotting\n",
    "import os  # for os commands\n",
    "# from scipy.misc import imread, imresize, imsave  # for plots \n",
    "import plotly.plotly as py\n",
    "import plotly.graph_objs as go\n",
    "import plotly\n",
    "from bokeh.palettes import Spectral4\n",
    "from bokeh.plotting import figure, output_notebook, show\n",
    "from IPython.display import HTML\n",
    "from matplotlib.pyplot import *\n",
    "from matplotlib import cm\n",
    "from matplotlib import animation\n",
    "import io\n",
    "import base64\n",
    "output_notebook()\n",
    "plotly.offline.init_notebook_mode() # run at the start of every ipython notebook"
   ]
  },
  {
   "cell_type": "markdown",
   "metadata": {},
   "source": [
    "## Step 15: Load data & Processing."
   ]
  },
  {
   "cell_type": "code",
   "execution_count": 44,
   "metadata": {},
   "outputs": [
    {
     "name": "stdout",
     "output_type": "stream",
     "text": [
      "Time taken: 26.0026957988739."
     ]
    },
    {
     "name": "stdout",
     "output_type": "stream",
     "text": [
      "\n"
     ]
    }
   ],
   "source": [
    "s = time.time()\n",
    "train_fr_1 = pd.read_csv('data/new-york-city-taxi-with-osrm/fastest_routes_train_part_1.csv')\n",
    "train_fr_2 = pd.read_csv('data/new-york-city-taxi-with-osrm/fastest_routes_train_part_2.csv')\n",
    "train_fr = pd.concat([train_fr_1, train_fr_2])\n",
    "train_fr_new = train_fr[['id', 'total_distance', 'total_travel_time', 'number_of_steps']]\n",
    "\n",
    "train_df = pd.read_csv('data/new-york-city-taxi-with-osrm/train.csv')\n",
    "train = pd.merge(train_df, train_fr_new, on = 'id', how = 'left')\n",
    "train_df = train.copy()\n",
    "end = time.time()\n",
    "print(\"Time taken: {}.\".format((end-s)))"
   ]
  },
  {
   "cell_type": "code",
   "execution_count": 45,
   "metadata": {},
   "outputs": [
    {
     "name": "stdout",
     "output_type": "stream",
     "text": [
      "Respectively, number of columns and rows and columns are 14 and 1458644 ."
     ]
    },
    {
     "name": "stdout",
     "output_type": "stream",
     "text": [
      "\n"
     ]
    },
    {
     "name": "stdout",
     "output_type": "stream",
     "text": [
      "Train ids are unique"
     ]
    },
    {
     "name": "stdout",
     "output_type": "stream",
     "text": [
      "\n"
     ]
    },
    {
     "name": "stdout",
     "output_type": "stream",
     "text": [
      "Number of Nulls : 3."
     ]
    },
    {
     "name": "stdout",
     "output_type": "stream",
     "text": [
      "\n"
     ]
    },
    {
     "name": "stdout",
     "output_type": "stream",
     "text": [
      "          id  vendor_id      pickup_datetime     dropoff_datetime  \\\n0  id2875421          2  2016-03-14 17:24:55  2016-03-14 17:32:30   \n1  id2377394          1  2016-06-12 00:43:35  2016-06-12 00:54:38   \n2  id3858529          2  2016-01-19 11:35:24  2016-01-19 12:10:48   \n3  id3504673          2  2016-04-06 19:32:31  2016-04-06 19:39:40   \n\n   passenger_count  pickup_longitude  pickup_latitude  dropoff_longitude  \\\n0                1        -73.982155        40.767937         -73.964630   \n1                1        -73.980415        40.738564         -73.999481   \n2                1        -73.979027        40.763939         -74.005333   \n3                1        -74.010040        40.719971         -74.012268   \n\n   dropoff_latitude store_and_fwd_flag  trip_duration  total_distance  \\\n0         40.765602                  N            455          2009.1   \n1         40.731152                  N            663          2513.2   \n2         40.710087                  N           2124         11060.8   \n3         40.706718                  N            429          1779.4   \n\n   total_travel_time  number_of_steps  \n0              164.9              5.0  \n1              332.0              6.0  \n2              767.6             16.0  \n3              235.8              4.0  "
     ]
    },
    {
     "name": "stdout",
     "output_type": "stream",
     "text": [
      "\n"
     ]
    },
    {
     "name": "stdout",
     "output_type": "stream",
     "text": [
      "Time taken 2.3839540481567383."
     ]
    },
    {
     "name": "stdout",
     "output_type": "stream",
     "text": [
      "\n"
     ]
    }
   ],
   "source": [
    "# checking if Ids are unique, and the number of Nulls.\n",
    "start = time.time()\n",
    "train_data = train_df.copy()\n",
    "start = time.time()\n",
    "print(\"Respectively, number of columns and rows and columns are {} and {} .\".format(train_data.shape[1], train_data.shape[0]))\n",
    "if train_data.id.nunique() == train_data.shape[0]: #nunique(): Return number of unique elements in the object.\n",
    "    print(\"Train ids are unique\")\n",
    "print(\"Number of Nulls : {}.\".format(train_data.isnull().sum().sum()))\n",
    "\n",
    "# Remain the items with latitude & longitude between 40.6-40.9 and -74.05--73.7:\n",
    "%matplotlib inline\n",
    "\n",
    "df = train_df.loc[(train_df.pickup_latitude > 40.6) & (train_df.pickup_latitude < 40.9)]\n",
    "df = df.loc[(df.dropoff_latitude>40.6) & (df.dropoff_latitude < 40.9)]\n",
    "df = df.loc[(df.dropoff_longitude > -74.05) & (df.dropoff_longitude < -73.7)]\n",
    "df = df.loc[(df.pickup_longitude > -74.05) & (df.pickup_longitude < -73.7)]\n",
    "\n",
    "train_data_new = df.copy()\n",
    "print(train_data_new.head(4))\n",
    "end = time.time()\n",
    "print(\"Time taken {}.\".format(end-start))"
   ]
  },
  {
   "cell_type": "markdown",
   "metadata": {},
   "source": [
    "## Step 15.2: Processing the information: like checking if trip duration has some correlation with vendors/drivers."
   ]
  },
  {
   "cell_type": "code",
   "execution_count": 46,
   "metadata": {
    "collapsed": true
   },
   "outputs": [],
   "source": [
    "temp = train_data.copy()\n",
    "train_data['pickup_datetime'] = pd.to_datetime(train_data.pickup_datetime)\n",
    "train_data.loc[:, 'pick_date'] = train_data['pickup_datetime'].dt.date\n",
    "train_data.head()\n",
    "\n",
    "ts_v1 = pd.DataFrame(train_data.loc[train_data['vendor_id']==1].groupby('pick_date')['trip_duration'].mean())\n",
    "ts_v1.reset_index(inplace = True)\n",
    "ts_v2 = pd.DataFrame(train_data.loc[train_data.vendor_id==2].groupby('pick_date')['trip_duration'].mean())\n",
    "ts_v2.reset_index(inplace = True)\n",
    "\n",
    "train_data = temp\n"
   ]
  },
  {
   "cell_type": "markdown",
   "metadata": {},
   "source": [
    "#Basic image processing"
   ]
  },
  {
   "cell_type": "markdown",
   "metadata": {},
   "source": [
    "##  Consider each point of this image as a point represented by lat-long\n",
    "## Then take a summary of lat-long and their count, assign a different color for different count range."
   ]
  },
  {
   "cell_type": "markdown",
   "metadata": {},
   "source": [
    "## Step 16: Initialize and handle the pick&drop lat-long for further plot."
   ]
  },
  {
   "cell_type": "code",
   "execution_count": 47,
   "metadata": {},
   "outputs": [
    {
     "name": "stdout",
     "output_type": "stream",
     "text": [
      "dropoff_latitude:\n"
     ]
    },
    {
     "name": "stdout",
     "output_type": "stream",
     "text": [
      " "
     ]
    },
    {
     "name": "stdout",
     "output_type": "stream",
     "text": [
      "0    1656\n1    1311\n2    1100\nName: drop_lat_new, dtype: int64"
     ]
    },
    {
     "name": "stdout",
     "output_type": "stream",
     "text": [
      "\n"
     ]
    },
    {
     "name": "stdout",
     "output_type": "stream",
     "text": [
      "pickup_longitude:\n"
     ]
    },
    {
     "name": "stdout",
     "output_type": "stream",
     "text": [
      " "
     ]
    },
    {
     "name": "stdout",
     "output_type": "stream",
     "text": [
      "0    678\n1    695\n2    709\nName: pick_lon_new, dtype: int64"
     ]
    },
    {
     "name": "stdout",
     "output_type": "stream",
     "text": [
      "\n"
     ]
    },
    {
     "name": "stdout",
     "output_type": "stream",
     "text": [
      "dropoff_longitude:\n"
     ]
    },
    {
     "name": "stdout",
     "output_type": "stream",
     "text": [
      " "
     ]
    },
    {
     "name": "stdout",
     "output_type": "stream",
     "text": [
      "0    853\n1    505\n2    446\nName: drop_lon_new, dtype: int64"
     ]
    },
    {
     "name": "stdout",
     "output_type": "stream",
     "text": [
      "\n"
     ]
    }
   ],
   "source": [
    "# rbg[lat, long, 0/1/2]:Create 3 arrays: with 3500 rows & 3 columns each.\n",
    "rgb = np.zeros((3000, 3500, 3), dtype=np.uint8) # 3000 arrays: with 3500 rows & 3 columns each.\n",
    "rgb[..., 0] = 0 # Assign 0 to every items in column 0;\n",
    "rgb[..., 1] = 0 # Assign 0 to every items in column 1;\n",
    "rgb[..., 2] = 0 # Assign 0 to every items in column 2;\n",
    "\n",
    "train_data_new['pick_lat_new'] = list(map(int, (train_data_new['pickup_latitude'] - (40.6000))*10000))\n",
    "train_data_new['drop_lat_new'] = list(map(int, (train_data_new['dropoff_latitude'] - (40.6000))*10000))\n",
    "train_data_new['pick_lon_new'] = list(map(int, (train_data_new['pickup_longitude'] - (-74.050))*10000))\n",
    "train_data_new['drop_lon_new'] = list(map(int,(train_data_new['dropoff_longitude'] - (-74.050))*10000))\n",
    "# map(): typecasting every element of the list to an integer value. \n",
    "# latitude should be between 40.6 to 40.9; Longitude should be between -74.05 to -73.70\n",
    "summary_plot = pd.DataFrame(train_data_new.groupby(['pick_lat_new', 'pick_lon_new'])['id'].count())\n",
    "\n",
    "#Print new train data after transformation:\n",
    "('pickup_latitude:\\n',train_data_new['pick_lat_new'].head(3))\n",
    "print('dropoff_latitude:\\n',train_data_new['drop_lat_new'].head(3))\n",
    "print('pickup_longitude:\\n',train_data_new['pick_lon_new'].head(3))\n",
    "print('dropoff_longitude:\\n',train_data_new['drop_lon_new'].head(3))\n",
    "# print('summary_plot:\\n')\n",
    "# summary_plot.head(100)"
   ]
  },
  {
   "cell_type": "markdown",
   "metadata": {},
   "source": [
    "## Step 17: Plot geograph:"
   ]
  },
  {
   "cell_type": "code",
   "execution_count": 48,
   "metadata": {},
   "outputs": [
    {
     "name": "stdout",
     "output_type": "stream",
     "text": [
      "Time taken by above cell is 3431.289792776108."
     ]
    },
    {
     "name": "stdout",
     "output_type": "stream",
     "text": [
      "\n"
     ]
    },
    {
     "name": "stdout",
     "output_type": "stream",
     "text": [
      "unit:"
     ]
    },
    {
     "name": "stdout",
     "output_type": "stream",
     "text": [
      " "
     ]
    },
    {
     "name": "stdout",
     "output_type": "stream",
     "text": [
      "[1]"
     ]
    },
    {
     "name": "stdout",
     "output_type": "stream",
     "text": [
      "\n"
     ]
    },
    {
     "data": {
      "image/png": "[encoded data removed]",
      "text/plain": [
       "<matplotlib.figure.Figure at 0x1655c77fd30>"
      ]
     },
     "metadata": {},
     "output_type": "display_data"
    }
   ],
   "source": [
    "summary_plot.reset_index(inplace = True)\n",
    "summary_plot.head(120)\n",
    "lat_list = summary_plot['pick_lat_new'].unique()\n",
    "\n",
    "for i in lat_list: #lat_list: list of unique 'pick_lat_new'\n",
    "    lon_list = summary_plot.loc[summary_plot['pick_lat_new']==i]['pick_lon_new'].tolist()\n",
    "    # Get the longitude mapping with unique latitude.\n",
    "    unit = summary_plot.loc[summary_plot['pick_lat_new']==i]['id'].tolist()\n",
    "    # Get the id mapping with unique latitude.\n",
    "    \n",
    "    for j in lon_list: \n",
    "        a = unit[lon_list.index(j)] # lon_list.index(j): return the index of lon_list(j)\n",
    "        if (a//50) >0: # //: Floor Division: the result is the quotient in which the digits after decimal points are not taken into account.\n",
    "            rgb[i,j, 0] = 191 #Label the count>50 with Green\n",
    "            rgb[i,j, 1] = 255\n",
    "            rgb[i,j, 2] = 0\n",
    "        elif (a//10)>0: #Label the count>10 with Red\n",
    "            rgb[i,j, 0] = 255\n",
    "            rgb[i,j, 1] = 0\n",
    "            rgb[i,j, 2] = 0\n",
    "        else: #Label the count>10 with blue\n",
    "            rgb[i,j, 0] = 0\n",
    "            rgb[i,j, 1] = 64\n",
    "            rgb[i,j, 2] = 255\n",
    "\n",
    "fig, ax = plt.subplots(nrows=1,ncols=1,figsize=(14,20))\n",
    "#plt.subplots():Create a figure and a set of subplots.\n",
    "#nrows, ncols : int, optional, default: 1. Number of rows/columns of the subplot grid.\n",
    "end = time.time()\n",
    "print(\"Time taken by above cell is {}.\".format((end-start)))\n",
    "ax.imshow(rgb, cmap = 'hot') \n",
    "#ax.imshow():Display an image on the axes.\n",
    "ax.set_axis_off() \n",
    "\n",
    "print('unit:',unit)\n"
   ]
  },
  {
   "cell_type": "markdown",
   "metadata": {},
   "source": [
    "# Animation of pickups hot area: "
   ]
  },
  {
   "cell_type": "markdown",
   "metadata": {},
   "source": [
    "## The bearing & manhattan distance: https://www.kaggle.com/gaborfodor/from-eda-to-the-top-lb-0-367"
   ]
  },
  {
   "cell_type": "markdown",
   "metadata": {},
   "source": [
    "## Step 18: Define some distance functions."
   ]
  },
  {
   "cell_type": "code",
   "execution_count": 49,
   "metadata": {},
   "outputs": [
    {
     "name": "stdout",
     "output_type": "stream",
     "text": [
      "Time taken by above cell is 0.004511833190917969."
     ]
    },
    {
     "name": "stdout",
     "output_type": "stream",
     "text": [
      "\n"
     ]
    }
   ],
   "source": [
    "\n",
    "start = time.time()\n",
    "def haversine_(lat1, lng1, lat2, lng2):\n",
    "    \"\"\"function to calculate haversine distance between two co-ordinates\"\"\"\n",
    "    lat1, lng1, lat2, lng2 = map(np.radians, (lat1, lng1, lat2, lng2))\n",
    "    AVG_EARTH_RADIUS = 6371  # in km\n",
    "    lat = lat2 - lat1\n",
    "    lng = lng2 - lng1\n",
    "    d = np.sin(lat * 0.5) ** 2 + np.cos(lat1) * np.cos(lat2) * np.sin(lng * 0.5) ** 2\n",
    "    h = 2 * AVG_EARTH_RADIUS * np.arcsin(np.sqrt(d))\n",
    "    return(h)\n",
    "\n",
    "def manhattan_distance_pd(lat1, lng1, lat2, lng2):\n",
    "    \"\"\"function to calculate manhatten distance between pick_drop\"\"\"\n",
    "    a = haversine_(lat1, lng1, lat1, lng2)\n",
    "    b = haversine_(lat1, lng1, lat2, lng1)\n",
    "    return a + b\n",
    "\n",
    "import math\n",
    "def bearing_array(lat1, lng1, lat2, lng2):\n",
    "    \"\"\" function was taken from beluga's notebook as this function works on array\n",
    "    while my function used to work on individual elements and was noticably slow\"\"\"\n",
    "    AVG_EARTH_RADIUS = 6371  # in km\n",
    "    lng_delta_rad = np.radians(lng2 - lng1)\n",
    "    lat1, lng1, lat2, lng2 = map(np.radians, (lat1, lng1, lat2, lng2))\n",
    "    y = np.sin(lng_delta_rad) * np.cos(lat2)\n",
    "    x = np.cos(lat1) * np.sin(lat2) - np.sin(lat1) * np.cos(lat2) * np.cos(lng_delta_rad)\n",
    "    return np.degrees(np.arctan2(y, x))\n",
    "\n",
    "end = time.time()\n",
    "print(\"Time taken by above cell is {}.\".format((end-start)))"
   ]
  },
  {
   "cell_type": "markdown",
   "metadata": {},
   "source": [
    "## Step 19: Feature extratction"
   ]
  },
  {
   "cell_type": "markdown",
   "metadata": {},
   "source": [
    "## Define funtions to unfold features:\n",
    "##  Find out features which are affecting the trip-duration between a given pickup and drop-off locations. "
   ]
  },
  {
   "cell_type": "code",
   "execution_count": 50,
   "metadata": {},
   "outputs": [
    {
     "name": "stdout",
     "output_type": "stream",
     "text": [
      "Time taken by above cell is 4.362596035003662."
     ]
    },
    {
     "name": "stdout",
     "output_type": "stream",
     "text": [
      "\n"
     ]
    }
   ],
   "source": [
    "start = time.time()\n",
    "train_data = temp.copy()\n",
    "train_data['pickup_datetime'] = pd.to_datetime(train_data.pickup_datetime)\n",
    "train_data.loc[:, 'pick_month'] = train_data['pickup_datetime'].dt.month\n",
    "train_data.loc[:, 'hour'] = train_data['pickup_datetime'].dt.hour\n",
    "train_data.loc[:, 'week_of_year'] = train_data['pickup_datetime'].dt.weekofyear\n",
    "train_data.loc[:, 'day_of_year'] = train_data['pickup_datetime'].dt.dayofyear\n",
    "train_data.loc[:, 'day_of_week'] = train_data['pickup_datetime'].dt.dayofweek\n",
    "train_data.loc[:,'hvsine_pick_drop'] = haversine_(train_data['pickup_latitude'].values, train_data['pickup_longitude'].values, train_data['dropoff_latitude'].values, train_data['dropoff_longitude'].values)\n",
    "train_data.loc[:,'manhtn_pick_drop'] = manhattan_distance_pd(train_data['pickup_latitude'].values, train_data['pickup_longitude'].values, train_data['dropoff_latitude'].values, train_data['dropoff_longitude'].values)\n",
    "train_data.loc[:,'bearing'] = bearing_array(train_data['pickup_latitude'].values, train_data['pickup_longitude'].values, train_data['dropoff_latitude'].values, train_data['dropoff_longitude'].values)\n",
    "\n",
    "end = time.time()\n",
    "print(\"Time taken by above cell is {}.\".format(end-start))"
   ]
  },
  {
   "cell_type": "markdown",
   "metadata": {},
   "source": [
    "# Animation of pickups\n",
    "## Step 20: Make an animation of pickup and see how with pickup hours the traffic changes"
   ]
  },
  {
   "cell_type": "markdown",
   "metadata": {},
   "source": [
    "## https://www.kaggle.com/jiexus/strength-of-visualization-python-visuals-tutorial"
   ]
  },
  {
   "cell_type": "markdown",
   "metadata": {},
   "source": [
    "## Step 20.1: Define some functions for animiation:\n",
    "## making similar heatmaps of pickup locations for different pickup hours，and then will make a gif of those images in order of increasing pickup hour."
   ]
  },
  {
   "cell_type": "code",
   "execution_count": 51,
   "metadata": {},
   "outputs": [
    {
     "name": "stdout",
     "output_type": "stream",
     "text": [
      "Time taken by above cell is 0.0010025501251220703."
     ]
    },
    {
     "name": "stdout",
     "output_type": "stream",
     "text": [
      "\n"
     ]
    }
   ],
   "source": [
    "start = time.time()\n",
    "def color(hour):\n",
    "    \"\"\"function for color change in animation\"\"\"\n",
    "    return(10*hour)\n",
    "\n",
    "def Animation(hour, temp, rgb):\n",
    "    \"\"\"Function to generate return a pic of plotings\"\"\"\n",
    "    train_data_new = temp.loc[temp['hour'] == hour]\n",
    "    start = time.time()\n",
    "    rgb = np.zeros((3000, 3500, 3), dtype=np.uint8)\n",
    "    rgb[..., 0] = 0\n",
    "    rgb[..., 1] = 0\n",
    "    rgb[..., 2] = 0\n",
    "    train_data_new['pick_lat_new'] = list(map(int, (train_data_new['pickup_latitude'] - (40.6000))*10000))\n",
    "    train_data_new['drop_lat_new'] = list(map(int, (train_data_new['dropoff_latitude'] - (40.6000))*10000))\n",
    "    train_data_new['pick_lon_new'] = list(map(int, (train_data_new['pickup_longitude'] - (-74.050))*10000))\n",
    "    train_data_new['drop_lon_new'] = list(map(int,(train_data_new['dropoff_longitude'] - (-74.050))*10000))\n",
    "\n",
    "    summary_plot = pd.DataFrame(train_data_new.groupby(['pick_lat_new', 'pick_lon_new'])['id'].count())\n",
    "\n",
    "    summary_plot.reset_index(inplace = True)\n",
    "    summary_plot.head(120)\n",
    "    \n",
    "    lat_list = summary_plot['pick_lat_new'].unique()\n",
    "    for i in lat_list:\n",
    "        \n",
    "        lon_list = summary_plot.loc[summary_plot['pick_lat_new']==i]['pick_lon_new'].tolist()\n",
    "        unit = summary_plot.loc[summary_plot['pick_lat_new']==i]['id'].tolist()\n",
    "        for j in lon_list:\n",
    "            #j = int(j)\n",
    "            a = unit[lon_list.index(j)]\n",
    "            \n",
    "            if (a//50) >0:\n",
    "                rgb[i][j][0] = 255 - color(hour)\n",
    "                rgb[i,j, 1] = 255 - color(hour)\n",
    "                rgb[i,j, 2] = 0 + color(hour)\n",
    "            elif (a//10)>0:\n",
    "                rgb[i,j, 0] = 0 + color(hour)\n",
    "                rgb[i,j, 1] = 255 - color(hour)\n",
    "                rgb[i,j, 2] = 0 + color(hour)\n",
    "            else:\n",
    "                rgb[i,j, 0] = 255 - color(hour)\n",
    "                rgb[i,j, 1] = 0 + color(hour)\n",
    "                rgb[i,j, 2] = 0 + color(hour)\n",
    "\n",
    "    end = time.time()\n",
    "    print(\"Time taken by above cell is {} for {}.\".format((end-start), hour))\n",
    "    return(rgb)\n",
    "end = time.time()\n",
    "print(\"Time taken by above cell is {}.\".format(end -start))"
   ]
  },
  {
   "cell_type": "markdown",
   "metadata": {},
   "source": [
    "## Step 20.2: makes bunches of images according to hours."
   ]
  },
  {
   "cell_type": "code",
   "execution_count": 52,
   "metadata": {},
   "outputs": [
    {
     "name": "stderr",
     "output_type": "stream",
     "text": [
      "C:\\Anaconda3\\lib\\site-packages\\ipykernel_launcher.py:14: SettingWithCopyWarning:\n\n\nA value is trying to be set on a copy of a slice from a DataFrame.\nTry using .loc[row_indexer,col_indexer] = value instead\n\nSee the caveats in the documentation: http://pandas.pydata.org/pandas-docs/stable/indexing.html#indexing-view-versus-copy\n\n"
     ]
    },
    {
     "name": "stderr",
     "output_type": "stream",
     "text": [
      "C:\\Anaconda3\\lib\\site-packages\\ipykernel_launcher.py:15: SettingWithCopyWarning:\n\n\nA value is trying to be set on a copy of a slice from a DataFrame.\nTry using .loc[row_indexer,col_indexer] = value instead\n\nSee the caveats in the documentation: http://pandas.pydata.org/pandas-docs/stable/indexing.html#indexing-view-versus-copy\n\n"
     ]
    },
    {
     "name": "stderr",
     "output_type": "stream",
     "text": [
      "C:\\Anaconda3\\lib\\site-packages\\ipykernel_launcher.py:16: SettingWithCopyWarning:\n\n\nA value is trying to be set on a copy of a slice from a DataFrame.\nTry using .loc[row_indexer,col_indexer] = value instead\n\nSee the caveats in the documentation: http://pandas.pydata.org/pandas-docs/stable/indexing.html#indexing-view-versus-copy\n\n"
     ]
    },
    {
     "name": "stderr",
     "output_type": "stream",
     "text": [
      "C:\\Anaconda3\\lib\\site-packages\\ipykernel_launcher.py:17: SettingWithCopyWarning:\n\n\nA value is trying to be set on a copy of a slice from a DataFrame.\nTry using .loc[row_indexer,col_indexer] = value instead\n\nSee the caveats in the documentation: http://pandas.pydata.org/pandas-docs/stable/indexing.html#indexing-view-versus-copy\n\n"
     ]
    },
    {
     "name": "stdout",
     "output_type": "stream",
     "text": [
      "Time taken by above cell is 3.4165830612182617 for 0."
     ]
    },
    {
     "name": "stdout",
     "output_type": "stream",
     "text": [
      "\n"
     ]
    },
    {
     "name": "stdout",
     "output_type": "stream",
     "text": [
      "Time taken by above cell is 2.529310941696167 for 1."
     ]
    },
    {
     "name": "stdout",
     "output_type": "stream",
     "text": [
      "\n"
     ]
    },
    {
     "name": "stdout",
     "output_type": "stream",
     "text": [
      "Time taken by above cell is 1.9910523891448975 for 2."
     ]
    },
    {
     "name": "stdout",
     "output_type": "stream",
     "text": [
      "\n"
     ]
    },
    {
     "name": "stdout",
     "output_type": "stream",
     "text": [
      "Time taken by above cell is 1.909182071685791 for 3."
     ]
    },
    {
     "name": "stdout",
     "output_type": "stream",
     "text": [
      "\n"
     ]
    },
    {
     "name": "stdout",
     "output_type": "stream",
     "text": [
      "Time taken by above cell is 2.276050567626953 for 4."
     ]
    },
    {
     "name": "stdout",
     "output_type": "stream",
     "text": [
      "\n"
     ]
    },
    {
     "name": "stdout",
     "output_type": "stream",
     "text": [
      "Time taken by above cell is 2.088054895401001 for 5."
     ]
    },
    {
     "name": "stdout",
     "output_type": "stream",
     "text": [
      "\n"
     ]
    },
    {
     "name": "stdout",
     "output_type": "stream",
     "text": [
      "Time taken by above cell is 2.5583624839782715 for 6."
     ]
    },
    {
     "name": "stdout",
     "output_type": "stream",
     "text": [
      "\n"
     ]
    },
    {
     "name": "stdout",
     "output_type": "stream",
     "text": [
      "Time taken by above cell is 3.0004770755767822 for 7."
     ]
    },
    {
     "name": "stdout",
     "output_type": "stream",
     "text": [
      "\n"
     ]
    },
    {
     "name": "stdout",
     "output_type": "stream",
     "text": [
      "Time taken by above cell is 2.996968984603882 for 8."
     ]
    },
    {
     "name": "stdout",
     "output_type": "stream",
     "text": [
      "\n"
     ]
    },
    {
     "name": "stdout",
     "output_type": "stream",
     "text": [
      "Time taken by above cell is 2.5798611640930176 for 9."
     ]
    },
    {
     "name": "stdout",
     "output_type": "stream",
     "text": [
      "\n"
     ]
    },
    {
     "name": "stdout",
     "output_type": "stream",
     "text": [
      "Time taken by above cell is 2.8446521759033203 for 10."
     ]
    },
    {
     "name": "stdout",
     "output_type": "stream",
     "text": [
      "\n"
     ]
    },
    {
     "name": "stdout",
     "output_type": "stream",
     "text": [
      "Time taken by above cell is 2.6420750617980957 for 11."
     ]
    },
    {
     "name": "stdout",
     "output_type": "stream",
     "text": [
      "\n"
     ]
    },
    {
     "name": "stdout",
     "output_type": "stream",
     "text": [
      "Time taken by above cell is 2.959868907928467 for 12."
     ]
    },
    {
     "name": "stdout",
     "output_type": "stream",
     "text": [
      "\n"
     ]
    },
    {
     "name": "stdout",
     "output_type": "stream",
     "text": [
      "Time taken by above cell is 3.134834051132202 for 13."
     ]
    },
    {
     "name": "stdout",
     "output_type": "stream",
     "text": [
      "\n"
     ]
    },
    {
     "name": "stdout",
     "output_type": "stream",
     "text": [
      "Time taken by above cell is 2.6209664344787598 for 14."
     ]
    },
    {
     "name": "stdout",
     "output_type": "stream",
     "text": [
      "\n"
     ]
    },
    {
     "name": "stdout",
     "output_type": "stream",
     "text": [
      "Time taken by above cell is 2.642820358276367 for 15."
     ]
    },
    {
     "name": "stdout",
     "output_type": "stream",
     "text": [
      "\n"
     ]
    },
    {
     "name": "stdout",
     "output_type": "stream",
     "text": [
      "Time taken by above cell is 2.3904285430908203 for 16."
     ]
    },
    {
     "name": "stdout",
     "output_type": "stream",
     "text": [
      "\n"
     ]
    },
    {
     "name": "stdout",
     "output_type": "stream",
     "text": [
      "Time taken by above cell is 2.835563898086548 for 17."
     ]
    },
    {
     "name": "stdout",
     "output_type": "stream",
     "text": [
      "\n"
     ]
    },
    {
     "name": "stdout",
     "output_type": "stream",
     "text": [
      "Time taken by above cell is 2.6249969005584717 for 18."
     ]
    },
    {
     "name": "stdout",
     "output_type": "stream",
     "text": [
      "\n"
     ]
    },
    {
     "name": "stdout",
     "output_type": "stream",
     "text": [
      "Time taken by above cell is 3.0857033729553223 for 19."
     ]
    },
    {
     "name": "stdout",
     "output_type": "stream",
     "text": [
      "\n"
     ]
    },
    {
     "name": "stdout",
     "output_type": "stream",
     "text": [
      "Time taken by above cell is 2.943826913833618 for 20."
     ]
    },
    {
     "name": "stdout",
     "output_type": "stream",
     "text": [
      "\n"
     ]
    },
    {
     "name": "stdout",
     "output_type": "stream",
     "text": [
      "Time taken by above cell is 2.9448537826538086 for 21."
     ]
    },
    {
     "name": "stdout",
     "output_type": "stream",
     "text": [
      "\n"
     ]
    },
    {
     "name": "stdout",
     "output_type": "stream",
     "text": [
      "Time taken by above cell is 2.7723684310913086 for 22."
     ]
    },
    {
     "name": "stdout",
     "output_type": "stream",
     "text": [
      "\n"
     ]
    },
    {
     "name": "stdout",
     "output_type": "stream",
     "text": [
      "Time taken by above cell is 2.873175621032715 for 23."
     ]
    },
    {
     "name": "stdout",
     "output_type": "stream",
     "text": [
      "\n"
     ]
    },
    {
     "name": "stdout",
     "output_type": "stream",
     "text": [
      "Time taken by above cell is 68.80197072029114."
     ]
    },
    {
     "name": "stdout",
     "output_type": "stream",
     "text": [
      "\n"
     ]
    }
   ],
   "source": [
    "start = time.time()\n",
    "images_list=[]\n",
    "train_data_new['pickup_datetime'] = pd.to_datetime(train_data_new.pickup_datetime)\n",
    "train_data_new.loc[:, 'hour'] = train_data_new['pickup_datetime'].dt.hour\n",
    "\n",
    "for i in list(range(0, 24)):\n",
    "    im = Animation(i, train_data_new, rgb.copy())\n",
    "    images_list.append(im)\n",
    "end = time.time()\n",
    "print(\"Time taken by above cell is {}.\".format(end -start))"
   ]
  },
  {
   "cell_type": "markdown",
   "metadata": {},
   "source": [
    "## Step 20.2: Define a function to build and save gif.\n",
    "## Rule: Generate individual picture according to hours-->img_list-->pass the list into build_gif()."
   ]
  },
  {
   "cell_type": "code",
   "execution_count": 53,
   "metadata": {},
   "outputs": [
    {
     "name": "stdout",
     "output_type": "stream",
     "text": [
      "Time taken by above cell is 0.0"
     ]
    },
    {
     "name": "stdout",
     "output_type": "stream",
     "text": [
      "\n"
     ]
    }
   ],
   "source": [
    "start = time.time()\n",
    "\n",
    "def build_gif(imgs = images_list, show_gif=False, save_gif=True, title=''):\n",
    "    \"\"\"function to create a gif of heatmaps\"\"\"\n",
    "    fig, ax = plt.subplots(nrows=1,ncols=1,figsize=(10,10))\n",
    "    ax.set_axis_off()\n",
    "    hr_range = list(range(0,24))\n",
    "    def show_im(pairs):\n",
    "        ax.clear()\n",
    "        ax.set_title('Traffic- Hour ' + str(int(pairs[0])) + ':00')\n",
    "        ax.imshow(pairs[1])\n",
    "        ax.set_axis_off() \n",
    "    pairs = list(zip(hr_range, imgs))\n",
    "    \n",
    "    im_ani = animation.FuncAnimation(fig, show_im, pairs,interval=500, repeat_delay=0, blit=False)\n",
    "    plt.cla() #Clear the current axes.\n",
    "    if save_gif:\n",
    "        plt.rcParams[\"animation.convert_path\"] = \"C:\\DataAnalytics\\ImageMagick-7.0.7-Q16\\convert.exe\" #magick.exe\n",
    "        im_ani.save('animation.gif', writer='imagemagick') #, writer='imagemagick'\n",
    "    if show_gif:\n",
    "        plt.show()\n",
    "    return\n",
    "\n",
    "end = time.time()\n",
    "print(\"Time taken by above cell is {}\".format(end-start))"
   ]
  },
  {
   "cell_type": "code",
   "execution_count": 54,
   "metadata": {},
   "outputs": [
    {
     "name": "stdout",
     "output_type": "stream",
     "text": [
      "15.912525415420532"
     ]
    },
    {
     "name": "stdout",
     "output_type": "stream",
     "text": [
      "\n"
     ]
    },
    {
     "data": {
      "image/png": "[encoded data removed]",
      "text/plain": [
       "<matplotlib.figure.Figure at 0x1648df36438>"
      ]
     },
     "metadata": {},
     "output_type": "display_data"
    }
   ],
   "source": [
    "start = time.time()\n",
    "build_gif()\n",
    "end = time.time()\n",
    "print(end-start)"
   ]
  },
  {
   "cell_type": "code",
   "execution_count": 55,
   "metadata": {
    "collapsed": true
   },
   "outputs": [],
   "source": [
    "filename = 'animation.gif'\n",
    "video = io.open(filename, 'r+b').read()\n",
    "encoded = base64.b64encode(video)\n",
    "HTML(data='''<img src=\"data:image/gif;base64,{0}\" type=\"gif\" />'''.format(encoded.decode('ascii')))"
   ]
  },
  {
   "cell_type": "markdown",
   "metadata": {
    "collapsed": true
   },
   "source": [
    "## Check the changing .gif on Notebook.\n",
    "## Findings:\n",
    "## 1. The least number of request comes from time 2 AM-7 AM, from 7 AM -4 PM the requests were moderate in number, and from 5 PM-1 AM in night, there is a huge amount of request of cabs in all NYC.\n",
    "## 2. The dot in the top right corner of this animation is JFK Airport: people are moving less between 2 AM to 6 AM with same rules."
   ]
  },
  {
   "cell_type": "markdown",
   "metadata": {},
   "source": [
    "# Features' Exploration (Checking if any explainable pattern)"
   ]
  },
  {
   "cell_type": "markdown",
   "metadata": {},
   "source": [
    "## check if some other dimesions are related to trip duration: e.g.:the average time taken by two different vendors vs weekday"
   ]
  },
  {
   "cell_type": "code",
   "execution_count": 56,
   "metadata": {},
   "outputs": [
    {
     "name": "stderr",
     "output_type": "stream",
     "text": [
      "C:\\Anaconda3\\lib\\site-packages\\seaborn\\timeseries.py:183: UserWarning:\n\nThe tsplot function is deprecated and will be removed or replaced (in a substantially altered version) in a future release.\n\n"
     ]
    },
    {
     "data": {
      "image/png": "[encoded data removed]",
      "text/plain": [
       "<matplotlib.figure.Figure at 0x1648bdfb358>"
      ]
     },
     "metadata": {},
     "output_type": "display_data"
    }
   ],
   "source": [
    "summary_wdays_avg_duration = pd.DataFrame(train_data.groupby(['vendor_id','day_of_week'])['trip_duration'].mean())\n",
    "summary_wdays_avg_duration.reset_index(inplace = True)\n",
    "summary_wdays_avg_duration['unit']=1\n",
    "sns.set(style=\"white\", palette=\"muted\", color_codes=False)\n",
    "sns.set_context(\"poster\")\n",
    "sns.tsplot(data=summary_wdays_avg_duration, time=\"day_of_week\", unit = \"unit\", condition=\"vendor_id\", value=\"trip_duration\")\n",
    "sns.despine(bottom = False)"
   ]
  },
  {
   "cell_type": "markdown",
   "metadata": {},
   "source": [
    "## Findings:\n",
    "1. Vendor 1 is taking more time than vendor 2 on all the days of the week, we can also subset data frame based on the month and that will also give us the same results.  \n",
    "2. The difference between the average time taken by vendor 1 is ~250 seconds more than vendor 2."
   ]
  },
  {
   "cell_type": "markdown",
   "metadata": {},
   "source": [
    "# Step 21: Cluster analysis and visualization"
   ]
  },
  {
   "cell_type": "markdown",
   "metadata": {},
   "source": [
    "## Step 21.1: Define function to assign clusters.\n",
    "## (predict the label_drop according to k_means_pick model.)"
   ]
  },
  {
   "cell_type": "code",
   "execution_count": 57,
   "metadata": {},
   "outputs": [
    {
     "name": "stdout",
     "output_type": "stream",
     "text": [
      "time taken by thie script by now is 0.0."
     ]
    },
    {
     "name": "stdout",
     "output_type": "stream",
     "text": [
      "\n"
     ]
    }
   ],
   "source": [
    "start = time.time()\n",
    "def assign_cluster(df, k):\n",
    "    \"\"\"function to assign clusters \"\"\"\n",
    "    df_pick = df[['pickup_longitude','pickup_latitude']]\n",
    "    df_drop = df[['dropoff_longitude','dropoff_latitude']]\n",
    "\n",
    "    #20 lat-log in init array.\n",
    "    init = np.array([[ -73.98737616,   40.72981533],\n",
    "       [-121.93328857,   37.38933945],\n",
    "       [ -73.78423222,   40.64711269],\n",
    "       [ -73.9546417 ,   40.77377538],\n",
    "       [ -66.84140269,   36.64537175],\n",
    "       [ -73.87040541,   40.77016484],\n",
    "       [ -73.97316185,   40.75814346],\n",
    "       [ -73.98861094,   40.7527791 ],\n",
    "       [ -72.80966949,   51.88108444],\n",
    "       [ -76.99779701,   38.47370625],\n",
    "       [ -73.96975298,   40.69089596],\n",
    "       [ -74.00816622,   40.71414939],\n",
    "       [ -66.97216034,   44.37194443],\n",
    "       [ -61.33552933,   37.85105133],\n",
    "       [ -73.98001393,   40.7783577 ],\n",
    "       [ -72.00626526,   43.20296402],\n",
    "       [ -73.07618713,   35.03469086],\n",
    "       [ -73.95759366,   40.80316361],\n",
    "       [ -79.20167796,   41.04752096],\n",
    "       [ -74.00106031,   40.73867723]])\n",
    "    k_means_pick = KMeans(n_clusters=k, init=init, n_init=1)\n",
    "    k_means_pick.fit(df_pick) #df_pick=df[['pickup_longitude','pickup_latitude']]\n",
    "    \n",
    "    clust_pick = k_means_pick.labels_\n",
    "    \n",
    "    df['label_pick'] = clust_pick.tolist()\n",
    "    \n",
    "    df['label_drop'] = k_means_pick.predict(df_drop) #df_drop = df[['dropoff_longitude','dropoff_latitude']]\n",
    "    #predict the label_drop according to k_means_pick model.\n",
    "    \n",
    "    return df, k_means_pick\n",
    "\n",
    "end = time.time()\n",
    "print(\"time taken by thie script by now is {}.\".format(end-start))"
   ]
  },
  {
   "cell_type": "markdown",
   "metadata": {},
   "source": [
    "## Step 21.2: Add Centroid to dataframe:"
   ]
  },
  {
   "cell_type": "code",
   "execution_count": 58,
   "metadata": {},
   "outputs": [],
   "source": [
    "\n",
    "train_cl, k_means = assign_cluster(train_data, 20)  #K-means: n_clusters=20\n",
    "\n",
    "#Generate Centroid of pickup/dropoff.\n",
    "centroid_pickups = pd.DataFrame(k_means.cluster_centers_, columns = ['centroid_pick_long', 'centroid_pick_lat'])\n",
    "centroid_dropoff = pd.DataFrame(k_means.cluster_centers_, columns = ['centroid_drop_long', 'centroid_drop_lat'])\n",
    "centroid_pickups['label_pick'] = centroid_pickups.index\n",
    "centroid_dropoff['label_drop'] = centroid_dropoff.index\n",
    "\n",
    "#Add centroid to train_cl:\n",
    "train_cl = pd.merge(train_cl, centroid_pickups, how='left', on=['label_pick'])\n",
    "train_cl = pd.merge(train_cl, centroid_dropoff, how='left', on=['label_drop'])\n",
    "#train_cl.head()\n"
   ]
  },
  {
   "cell_type": "markdown",
   "metadata": {},
   "source": [
    "## Step 21.3: Cluster related features:"
   ]
  },
  {
   "cell_type": "markdown",
   "metadata": {},
   "source": [
    "## Generate following data:\n",
    "##1. Distance (haversine, mahnatten) between pickup-drop_off cluster centroids\n",
    "##2. Directional features - bearing direction between cluster centroids"
   ]
  },
  {
   "cell_type": "code",
   "execution_count": 60,
   "metadata": {},
   "outputs": [
    {
     "name": "stdout",
     "output_type": "stream",
     "text": [
      "Time Taken by above cell is 4.151535749435425."
     ]
    },
    {
     "name": "stdout",
     "output_type": "stream",
     "text": [
      "\n"
     ]
    },
    {
     "name": "stdout",
     "output_type": "stream",
     "text": [
      "          id  vendor_id     pickup_datetime     dropoff_datetime  \\\n0  id2875421          2 2016-03-14 17:24:55  2016-03-14 17:32:30   \n1  id2377394          1 2016-06-12 00:43:35  2016-06-12 00:54:38   \n2  id3858529          2 2016-01-19 11:35:24  2016-01-19 12:10:48   \n3  id3504673          2 2016-04-06 19:32:31  2016-04-06 19:39:40   \n4  id2181028          2 2016-03-26 13:30:55  2016-03-26 13:38:10   \n\n   passenger_count  pickup_longitude  pickup_latitude  dropoff_longitude  \\\n0                1        -73.982155        40.767937         -73.964630   \n1                1        -73.980415        40.738564         -73.999481   \n2                1        -73.979027        40.763939         -74.005333   \n3                1        -74.010040        40.719971         -74.012268   \n4                1        -73.973053        40.793209         -73.972923   \n\n   dropoff_latitude store_and_fwd_flag      ...       hvsine_drop_cent_d  \\\n0         40.765602                  N      ...                 1.098585   \n1         40.731152                  N      ...                 0.845448   \n2         40.710087                  N      ...                 0.508922   \n3         40.706718                  N      ...                 0.888828   \n4         40.782520                  N      ...                 0.755820   \n\n   hvsine_cent_p_cent_d  manhtn_pick_cent_p  manhtn_drop_cent_d  \\\n0              2.319857            1.338601            1.549840   \n1              1.520191            1.573052            0.968702   \n2              5.718571            1.135490            0.690697   \n3              0.000000            0.805089            1.161466   \n4              0.000000            2.237846            1.060322   \n\n   manhtn_cent_p_cent_d  bearing_pick_cent_p  bearing_drop_cent_p  \\\n0              2.822553             8.812218          -138.980503   \n1              2.144236          -149.031278            -9.113659   \n2              7.848844           142.642889           -28.669171   \n3              0.000000           166.837718            22.515049   \n4              0.000000          -160.438403          -127.746230   \n\n   bearing_cent_p_cent_d  speed_hvsn  speed_manhtn  \n0             165.640915    0.009087      0.010524  \n1             -49.174617    0.005438      0.007321  \n2            -148.907292    0.008318      0.010687  \n3               0.000000    0.006300      0.007046  \n4               0.000000    0.008484      0.008561  \n\n[5 rows x 39 columns]"
     ]
    },
    {
     "name": "stdout",
     "output_type": "stream",
     "text": [
      "\n"
     ]
    }
   ],
   "source": [
    "start = time.time()\n",
    "train_cl.loc[:,'hvsine_pick_cent_p'] = haversine_(train_cl['pickup_latitude'].values, train_cl['pickup_longitude'].values, train_cl['centroid_pick_lat'].values, train_cl['centroid_pick_long'].values)\n",
    "train_cl.loc[:,'hvsine_drop_cent_d'] = haversine_(train_cl['dropoff_latitude'].values, train_cl['dropoff_longitude'].values, train_cl['centroid_drop_lat'].values, train_cl['centroid_drop_long'].values)\n",
    "train_cl.loc[:,'hvsine_cent_p_cent_d'] = haversine_(train_cl['centroid_pick_lat'].values, train_cl['centroid_pick_long'].values, train_cl['centroid_drop_lat'].values, train_cl['centroid_drop_long'].values)\n",
    "train_cl.loc[:,'manhtn_pick_cent_p'] = manhattan_distance_pd(train_cl['pickup_latitude'].values, train_cl['pickup_longitude'].values, train_cl['centroid_pick_lat'].values, train_cl['centroid_pick_long'].values)\n",
    "train_cl.loc[:,'manhtn_drop_cent_d'] = manhattan_distance_pd(train_cl['dropoff_latitude'].values, train_cl['dropoff_longitude'].values, train_cl['centroid_drop_lat'].values, train_cl['centroid_drop_long'].values)\n",
    "train_cl.loc[:,'manhtn_cent_p_cent_d'] = manhattan_distance_pd(train_cl['centroid_pick_lat'].values, train_cl['centroid_pick_long'].values, train_cl['centroid_drop_lat'].values, train_cl['centroid_drop_long'].values)\n",
    "\n",
    "train_cl.loc[:,'bearing_pick_cent_p'] = bearing_array(train_cl['pickup_latitude'].values, train_cl['pickup_longitude'].values, train_cl['centroid_pick_lat'].values, train_cl['centroid_pick_long'].values)\n",
    "train_cl.loc[:,'bearing_drop_cent_p'] = bearing_array(train_cl['dropoff_latitude'].values, train_cl['dropoff_longitude'].values, train_cl['centroid_drop_lat'].values, train_cl['centroid_drop_long'].values)\n",
    "train_cl.loc[:,'bearing_cent_p_cent_d'] = bearing_array(train_cl['centroid_pick_lat'].values, train_cl['centroid_pick_long'].values, train_cl['centroid_drop_lat'].values, train_cl['centroid_drop_long'].values)\n",
    "train_cl['speed_hvsn'] = train_cl.hvsine_pick_drop/train_cl.total_travel_time\n",
    "train_cl['speed_manhtn'] = train_cl.manhtn_pick_drop/train_cl.total_travel_time\n",
    "end = time.time()\n",
    "print(\"Time Taken by above cell is {}.\".format(end-start))\n",
    "print(train_cl.head())"
   ]
  },
  {
   "cell_type": "markdown",
   "metadata": {},
   "source": [
    "# Step 22： Cluster visualization using folium"
   ]
  },
  {
   "cell_type": "markdown",
   "metadata": {},
   "source": [
    "## In the next, cluster summary function is to find the cluster characteristics of given cluster list( a cluster list is the list of significant clusters, not all clusters are significant in size.) So, a list of the significant cluster can be passed to summarized those clusters. Significant clusters are clusters having more than 70 thousand rides as the pickup location. Then we will make plots:\n",
    "## 1. Showing pickups location on NYC map using stamen toner terrain\n",
    "## 2. Showing all clusters on Map of America"
   ]
  },
  {
   "cell_type": "markdown",
   "metadata": {},
   "source": [
    "## Step 22.1: Define a function to calculate summary of given list of clusters: groupby('label_pick')"
   ]
  },
  {
   "cell_type": "code",
   "execution_count": 61,
   "metadata": {},
   "outputs": [],
   "source": [
    "start = time.time()\n",
    "def cluster_summary(sum_df):\n",
    "    #agg_func = {'trip_duration':'mean','label_drop':'count','bearing':'mean','id':'count'} \n",
    "    #that's how to use agg function with groupby\n",
    "    summary_avg_time = pd.DataFrame(sum_df.groupby('label_pick')['trip_duration'].mean())\n",
    "    summary_avg_time.reset_index(inplace = True)\n",
    "    summary_pref_cluster = pd.DataFrame(sum_df.groupby(['label_pick', 'label_drop'])['id'].count())\n",
    "    summary_pref_cluster = summary_pref_cluster.reset_index()\n",
    "    summary_pref_cluster = summary_pref_cluster.loc[summary_pref_cluster.groupby('label_pick')['id'].idxmax()]\n",
    "    summary =pd.merge(summary_avg_time, summary_pref_cluster, how = 'left', on = 'label_pick')\n",
    "    summary = summary.rename(columns={'trip_duration':'avg_triptime'})\n",
    "    return summary\n"
   ]
  },
  {
   "cell_type": "markdown",
   "metadata": {},
   "source": [
    "#Step 23: plot by Folium:"
   ]
  },
  {
   "cell_type": "markdown",
   "metadata": {},
   "source": [
    "## Folium citing: http://folium.readthedocs.io/en/latest/quickstart.html"
   ]
  },
  {
   "cell_type": "markdown",
   "metadata": {},
   "source": [
    "##Step 23.1: Define functions:\n",
    "## 1. function to generate map and add the pick up and drop coordinates\n",
    "## 2. the function is to plot clusters on map."
   ]
  },
  {
   "cell_type": "code",
   "execution_count": 62,
   "metadata": {},
   "outputs": [],
   "source": [
    "import folium\n",
    "def show_fmaps(train_data, path=1):\n",
    "    \"\"\"function to generate map and add the pick up and drop coordinates\n",
    "    1. Path = 1 : Join pickup (blue) and drop(red) using a straight line\n",
    "    \"\"\"\n",
    "    full_data = train_data\n",
    "    summary_full_data = pd.DataFrame(full_data.groupby('label_pick')['id'].count())\n",
    "    summary_full_data.reset_index(inplace = True)\n",
    "    summary_full_data = summary_full_data.loc[summary_full_data['id']>70000]\n",
    "    \n",
    "    map_1 = folium.Map(location=[40.767937, -73.982155], zoom_start=10)\n",
    "    # manually added centre\n",
    "    \n",
    "    new_df = train_data.loc[train_data['label_pick'].isin(summary_full_data.label_pick.tolist())].sample(50)\n",
    "    #isin(): Return boolean DataFrame showing whether each element in the DataFrame is contained in values.\n",
    "    \n",
    "    new_df.reset_index(inplace = True, drop = True)\n",
    "    \n",
    "    for i in range(new_df.shape[0]): # :iterations: Get top of the label_pick with count in descent order.\n",
    "        pick_long = new_df.loc[new_df.index ==i]['pickup_longitude'].values[0]\n",
    "        pick_lat = new_df.loc[new_df.index ==i]['pickup_latitude'].values[0]\n",
    "        dest_long = new_df.loc[new_df.index ==i]['dropoff_longitude'].values[0]\n",
    "        dest_lat = new_df.loc[new_df.index ==i]['dropoff_latitude'].values[0]\n",
    "        \n",
    "        folium.Marker([pick_lat, pick_long]).add_to(map_1)#Add this label_pick(lat-long) to map.\n",
    "        folium.Marker([dest_lat, dest_long]).add_to(map_1)\n",
    "    return map_1\n",
    "\n",
    "\n",
    "def clusters_map(clus_data, full_data, tile = 'OpenStreetMap', sig = 0, zoom = 12, circle = 0, radius_ = 25):\n",
    "    \"\"\" the function is to plot clusters on map\"\"\"\n",
    "    map_1 = folium.Map(location=[40.767923, -73.982168], zoom_start=zoom,tiles= tile) # 'Mapbox' 'Stamen Toner'\n",
    "    \n",
    "    summary_full_data = pd.DataFrame(full_data.groupby('label_pick')['id'].count())\n",
    "    summary_full_data.reset_index(inplace = True)\n",
    "    \n",
    "    if sig == 1:\n",
    "        summary_full_data = summary_full_data.loc[summary_full_data['id']>70000]\n",
    "        \n",
    "    sig_cluster = summary_full_data['label_pick'].tolist()\n",
    "    clus_summary = cluster_summary(full_data)\n",
    "    \n",
    "    for i in sig_cluster:\n",
    "        pick_long = clus_data.loc[clus_data.index ==i]['centroid_pick_long'].values[0]\n",
    "        pick_lat = clus_data.loc[clus_data.index ==i]['centroid_pick_lat'].values[0]\n",
    "        clus_no = clus_data.loc[clus_data.index ==i]['label_pick'].values[0]\n",
    "        most_visited_clus = clus_summary.loc[clus_summary['label_pick']==i]['label_drop'].values[0]\n",
    "        avg_triptime = clus_summary.loc[clus_summary['label_pick']==i]['avg_triptime'].values[0]\n",
    "        pop = 'cluster = '+str(clus_no)+' & most visited cluster = ' +str(most_visited_clus) +' & avg triptime from this cluster =' + str(avg_triptime)\n",
    "        \n",
    "        if circle == 1:\n",
    "            folium.CircleMarker(location=[pick_lat, pick_long], radius=radius_,\n",
    "                    color='#F08080',\n",
    "                    fill_color='#3186cc', popup=pop).add_to(map_1)\n",
    "        folium.Marker([pick_lat, pick_long], popup=pop).add_to(map_1)\n",
    "        \n",
    "    return map_1"
   ]
  },
  {
   "cell_type": "code",
   "execution_count": 63,
   "metadata": {
    "collapsed": true
   },
   "outputs": [
    {
     "data": {
      "text/html": [
       "<div style=\"width:100%;\"><div style=\"position:relative;width:100%;height:0;padding-bottom:60%;\"><iframe src=\"data:text/html;charset=utf-8;base64,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\" style=\"position:absolute;width:100%;height:100%;left:0;top:0;border:none !important;\" allowfullscreen webkitallowfullscreen mozallowfullscreen></iframe></div></div>"
      ],
      "text/plain": [
       "<div style=\"width:100%;\"><div style=\"position:relative;width:100%;height:0;padding-bottom:60%;\"><iframe src=\"data:text/html;charset=utf-8;base64,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\" style=\"position:absolute;width:100%;height:100%;left:0;top:0;border:none !important;\" allowfullscreen webkitallowfullscreen mozallowfullscreen></iframe></div></div>"
      ]
     },
     "execution_count": 63,
     "metadata": {},
     "output_type": "execute_result"
    }
   ],
   "source": [
    "osm = show_fmaps(train_data, path=1)\n",
    "osm"
   ]
  },
  {
   "cell_type": "markdown",
   "metadata": {},
   "source": [
    "## Findings :\n",
    "## 1. Clusters with more than 70k pickups are taken for plotting thismap, and they are covering about 80% of the rides\n",
    "## 2. This maps shows that most of the rides are started from manhattan."
   ]
  },
  {
   "cell_type": "code",
   "execution_count": 64,
   "metadata": {
    "collapsed": false
   },
   "outputs": [
    {
     "data": {
      "text/html": [
       "<div style=\"width:100%;\"><div style=\"position:relative;width:100%;height:0;padding-bottom:60%;\"><iframe src=\"data:text/html;charset=utf-8;base64,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\" style=\"position:absolute;width:100%;height:100%;left:0;top:0;border:none !important;\" allowfullscreen webkitallowfullscreen mozallowfullscreen></iframe></div></div>"
      ],
      "text/plain": [
       "<div style=\"width:100%;\"><div style=\"position:relative;width:100%;height:0;padding-bottom:60%;\"><iframe src=\"data:text/html;charset=utf-8;base64,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\" style=\"position:absolute;width:100%;height:100%;left:0;top:0;border:none !important;\" allowfullscreen webkitallowfullscreen mozallowfullscreen></iframe></div></div>"
      ]
     },
     "execution_count": 64,
     "metadata": {},
     "output_type": "execute_result"
    }
   ],
   "source": [
    "clus_map = clusters_map(centroid_pickups, train_cl, sig =0, zoom =3.2, circle =1, tile = 'Stamen Terrain')\n",
    "clus_map"
   ]
  },
  {
   "cell_type": "markdown",
   "metadata": {},
   "source": [
    "## Findings:\n",
    "## Plots are interactive click on balloon as check out the characteristics of each cluster:\n",
    "## 1. Cluster number\n",
    "## 2. Most frequently visited cluster from clicked cluster\n",
    "## 3. Avg triptime of rides started from this cluster"
   ]
  },
  {
   "cell_type": "markdown",
   "metadata": {},
   "source": [
    "# Step 25: Predict by XGB model for validation & comparision:"
   ]
  },
  {
   "cell_type": "markdown",
   "metadata": {},
   "source": [
    "## 1. Extract same features for test dataset\n",
    "## 2. Train xgboost regressor to see how we are doing with prediction, how much predicting power out extracted features have. \n",
    "## 3. If it did not get high accuracy, extra features will be extracted.\n",
    "\n",
    "## The process:\n",
    "## 1. Extract same features-->2. Train xgboost regressor-->3. If not accurate-->4. Extract more features."
   ]
  },
  {
   "cell_type": "markdown",
   "metadata": {},
   "source": [
    "## Step 25.1: Extracting same features for Test data"
   ]
  },
  {
   "cell_type": "code",
   "execution_count": 65,
   "metadata": {},
   "outputs": [
    {
     "data": {
      "text/html": [
       "<div>\n",
       "<style>\n",
       "    .dataframe thead tr:only-child th {\n",
       "        text-align: right;\n",
       "    }\n",
       "\n",
       "    .dataframe thead th {\n",
       "        text-align: left;\n",
       "    }\n",
       "\n",
       "    .dataframe tbody tr th {\n",
       "        vertical-align: top;\n",
       "    }\n",
       "</style>\n",
       "<table border=\"1\" class=\"dataframe\">\n",
       "  <thead>\n",
       "    <tr style=\"text-align: right;\">\n",
       "      <th></th>\n",
       "      <th>id</th>\n",
       "      <th>vendor_id</th>\n",
       "      <th>pickup_datetime</th>\n",
       "      <th>passenger_count</th>\n",
       "      <th>pickup_longitude</th>\n",
       "      <th>pickup_latitude</th>\n",
       "      <th>dropoff_longitude</th>\n",
       "      <th>dropoff_latitude</th>\n",
       "      <th>store_and_fwd_flag</th>\n",
       "      <th>total_distance</th>\n",
       "      <th>total_travel_time</th>\n",
       "      <th>number_of_steps</th>\n",
       "    </tr>\n",
       "  </thead>\n",
       "  <tbody>\n",
       "    <tr>\n",
       "      <th>0</th>\n",
       "      <td>id3004672</td>\n",
       "      <td>1</td>\n",
       "      <td>6/30/2016 23:59</td>\n",
       "      <td>1</td>\n",
       "      <td>-73.988129</td>\n",
       "      <td>40.732029</td>\n",
       "      <td>-73.990173</td>\n",
       "      <td>40.756680</td>\n",
       "      <td>N</td>\n",
       "      <td>3795.9</td>\n",
       "      <td>424.6</td>\n",
       "      <td>4</td>\n",
       "    </tr>\n",
       "    <tr>\n",
       "      <th>1</th>\n",
       "      <td>id3505355</td>\n",
       "      <td>1</td>\n",
       "      <td>6/30/2016 23:59</td>\n",
       "      <td>1</td>\n",
       "      <td>-73.964203</td>\n",
       "      <td>40.679993</td>\n",
       "      <td>-73.959808</td>\n",
       "      <td>40.655403</td>\n",
       "      <td>N</td>\n",
       "      <td>2904.5</td>\n",
       "      <td>200.0</td>\n",
       "      <td>4</td>\n",
       "    </tr>\n",
       "    <tr>\n",
       "      <th>2</th>\n",
       "      <td>id1217141</td>\n",
       "      <td>1</td>\n",
       "      <td>6/30/2016 23:59</td>\n",
       "      <td>1</td>\n",
       "      <td>-73.997437</td>\n",
       "      <td>40.737583</td>\n",
       "      <td>-73.986160</td>\n",
       "      <td>40.729523</td>\n",
       "      <td>N</td>\n",
       "      <td>1499.5</td>\n",
       "      <td>193.2</td>\n",
       "      <td>4</td>\n",
       "    </tr>\n",
       "    <tr>\n",
       "      <th>3</th>\n",
       "      <td>id2150126</td>\n",
       "      <td>2</td>\n",
       "      <td>6/30/2016 23:59</td>\n",
       "      <td>1</td>\n",
       "      <td>-73.956070</td>\n",
       "      <td>40.771900</td>\n",
       "      <td>-73.986427</td>\n",
       "      <td>40.730469</td>\n",
       "      <td>N</td>\n",
       "      <td>7023.9</td>\n",
       "      <td>494.8</td>\n",
       "      <td>11</td>\n",
       "    </tr>\n",
       "    <tr>\n",
       "      <th>4</th>\n",
       "      <td>id1598245</td>\n",
       "      <td>1</td>\n",
       "      <td>6/30/2016 23:59</td>\n",
       "      <td>1</td>\n",
       "      <td>-73.970215</td>\n",
       "      <td>40.761475</td>\n",
       "      <td>-73.961510</td>\n",
       "      <td>40.755890</td>\n",
       "      <td>N</td>\n",
       "      <td>1108.2</td>\n",
       "      <td>103.2</td>\n",
       "      <td>4</td>\n",
       "    </tr>\n",
       "  </tbody>\n",
       "</table>\n",
       "</div>"
      ],
      "text/plain": [
       "<div>\n",
       "<style>\n",
       "    .dataframe thead tr:only-child th {\n",
       "        text-align: right;\n",
       "    }\n",
       "\n",
       "    .dataframe thead th {\n",
       "        text-align: left;\n",
       "    }\n",
       "\n",
       "    .dataframe tbody tr th {\n",
       "        vertical-align: top;\n",
       "    }\n",
       "</style>\n",
       "<table border=\"1\" class=\"dataframe\">\n",
       "  <thead>\n",
       "    <tr style=\"text-align: right;\">\n",
       "      <th></th>\n",
       "      <th>id</th>\n",
       "      <th>vendor_id</th>\n",
       "      <th>pickup_datetime</th>\n",
       "      <th>passenger_count</th>\n",
       "      <th>pickup_longitude</th>\n",
       "      <th>pickup_latitude</th>\n",
       "      <th>dropoff_longitude</th>\n",
       "      <th>dropoff_latitude</th>\n",
       "      <th>store_and_fwd_flag</th>\n",
       "      <th>total_distance</th>\n",
       "      <th>total_travel_time</th>\n",
       "      <th>number_of_steps</th>\n",
       "    </tr>\n",
       "  </thead>\n",
       "  <tbody>\n",
       "    <tr>\n",
       "      <th>0</th>\n",
       "      <td>id3004672</td>\n",
       "      <td>1</td>\n",
       "      <td>6/30/2016 23:59</td>\n",
       "      <td>1</td>\n",
       "      <td>-73.988129</td>\n",
       "      <td>40.732029</td>\n",
       "      <td>-73.990173</td>\n",
       "      <td>40.756680</td>\n",
       "      <td>N</td>\n",
       "      <td>3795.9</td>\n",
       "      <td>424.6</td>\n",
       "      <td>4</td>\n",
       "    </tr>\n",
       "    <tr>\n",
       "      <th>1</th>\n",
       "      <td>id3505355</td>\n",
       "      <td>1</td>\n",
       "      <td>6/30/2016 23:59</td>\n",
       "      <td>1</td>\n",
       "      <td>-73.964203</td>\n",
       "      <td>40.679993</td>\n",
       "      <td>-73.959808</td>\n",
       "      <td>40.655403</td>\n",
       "      <td>N</td>\n",
       "      <td>2904.5</td>\n",
       "      <td>200.0</td>\n",
       "      <td>4</td>\n",
       "    </tr>\n",
       "    <tr>\n",
       "      <th>2</th>\n",
       "      <td>id1217141</td>\n",
       "      <td>1</td>\n",
       "      <td>6/30/2016 23:59</td>\n",
       "      <td>1</td>\n",
       "      <td>-73.997437</td>\n",
       "      <td>40.737583</td>\n",
       "      <td>-73.986160</td>\n",
       "      <td>40.729523</td>\n",
       "      <td>N</td>\n",
       "      <td>1499.5</td>\n",
       "      <td>193.2</td>\n",
       "      <td>4</td>\n",
       "    </tr>\n",
       "    <tr>\n",
       "      <th>3</th>\n",
       "      <td>id2150126</td>\n",
       "      <td>2</td>\n",
       "      <td>6/30/2016 23:59</td>\n",
       "      <td>1</td>\n",
       "      <td>-73.956070</td>\n",
       "      <td>40.771900</td>\n",
       "      <td>-73.986427</td>\n",
       "      <td>40.730469</td>\n",
       "      <td>N</td>\n",
       "      <td>7023.9</td>\n",
       "      <td>494.8</td>\n",
       "      <td>11</td>\n",
       "    </tr>\n",
       "    <tr>\n",
       "      <th>4</th>\n",
       "      <td>id1598245</td>\n",
       "      <td>1</td>\n",
       "      <td>6/30/2016 23:59</td>\n",
       "      <td>1</td>\n",
       "      <td>-73.970215</td>\n",
       "      <td>40.761475</td>\n",
       "      <td>-73.961510</td>\n",
       "      <td>40.755890</td>\n",
       "      <td>N</td>\n",
       "      <td>1108.2</td>\n",
       "      <td>103.2</td>\n",
       "      <td>4</td>\n",
       "    </tr>\n",
       "  </tbody>\n",
       "</table>\n",
       "</div>"
      ]
     },
     "execution_count": 65,
     "metadata": {},
     "output_type": "execute_result"
    }
   ],
   "source": [
    "# 1. Loading test data from competition and OSRM features for test data\n",
    "test_df = pd.read_csv('data/test.csv')\n",
    "test_fr = pd.read_csv('data/new-york-city-taxi-with-osrm/fastest_routes_test.csv')\n",
    "test_fr_new = test_fr[['id', 'total_distance', 'total_travel_time', 'number_of_steps']]\n",
    "test_df = pd.merge(test_df, test_fr_new, on = 'id', how = 'left')\n",
    "test_df.head()"
   ]
  },
  {
   "cell_type": "code",
   "execution_count": 66,
   "metadata": {},
   "outputs": [
    {
     "name": "stdout",
     "output_type": "stream",
     "text": [
      "Time taken by above cell is 159.9324450492859."
     ]
    },
    {
     "name": "stdout",
     "output_type": "stream",
     "text": [
      "\n"
     ]
    }
   ],
   "source": [
    "#2. Extracting date time features\n",
    "start = time.time()\n",
    "test_data = test_df.copy()\n",
    "test_data['pickup_datetime'] = pd.to_datetime(test_data.pickup_datetime)\n",
    "test_data.loc[:, 'pick_month'] = test_data['pickup_datetime'].dt.month\n",
    "test_data.loc[:, 'hour'] = test_data['pickup_datetime'].dt.hour\n",
    "test_data.loc[:, 'week_of_year'] = test_data['pickup_datetime'].dt.weekofyear\n",
    "test_data.loc[:, 'day_of_year'] = test_data['pickup_datetime'].dt.dayofyear\n",
    "test_data.loc[:, 'day_of_week'] = test_data['pickup_datetime'].dt.dayofweek\n",
    "end = time.time()\n",
    "print(\"Time taken by above cell is {}.\".format(end-start))"
   ]
  },
  {
   "cell_type": "code",
   "execution_count": 67,
   "metadata": {},
   "outputs": [],
   "source": [
    "#3. Extracting haversine, manhattan, and bearing distance and directional features \n",
    "\n",
    "test_data.loc[:,'hvsine_pick_drop'] = haversine_(test_data['pickup_latitude'].values, \n",
    "                                                 test_data['pickup_longitude'].values, \n",
    "                                                 test_data['dropoff_latitude'].values, \n",
    "                                                 test_data['dropoff_longitude'].values)\n",
    "\n",
    "test_data.loc[:,'manhtn_pick_drop'] = manhattan_distance_pd(test_data['pickup_latitude'].values, \n",
    "                                                            test_data['pickup_longitude'].values, \n",
    "                                                            test_data['dropoff_latitude'].values, \n",
    "                                                            test_data['dropoff_longitude'].values)\n",
    "\n",
    "\n",
    "test_data.loc[:,'bearing'] = bearing_array(test_data['pickup_latitude'].values, \n",
    "                                           test_data['pickup_longitude'].values, \n",
    "                                           test_data['dropoff_latitude'].values, \n",
    "                                           test_data['dropoff_longitude'].values)\n"
   ]
  },
  {
   "cell_type": "code",
   "execution_count": 68,
   "metadata": {},
   "outputs": [
    {
     "name": "stdout",
     "output_type": "stream",
     "text": [
      "Time Taken by above cell is 2.5051591396331787."
     ]
    },
    {
     "name": "stdout",
     "output_type": "stream",
     "text": [
      "\n"
     ]
    }
   ],
   "source": [
    "# 4. Extracting cluster features\n",
    "start = time.time()\n",
    "test_data['label_pick'] = k_means.predict(test_data[['pickup_longitude','pickup_latitude']])\n",
    "test_data['label_drop'] = k_means.predict(test_data[['dropoff_longitude','dropoff_latitude']])\n",
    "test_cl = pd.merge(test_data, centroid_pickups, how='left', on=['label_pick'])\n",
    "test_cl = pd.merge(test_cl, centroid_dropoff, how='left', on=['label_drop'])\n",
    "#test_cl.head()\n",
    "end = time.time()\n",
    "print(\"Time Taken by above cell is {}.\".format(end-start))"
   ]
  },
  {
   "cell_type": "code",
   "execution_count": 69,
   "metadata": {},
   "outputs": [
    {
     "data": {
      "text/html": [
       "<div>\n",
       "<style>\n",
       "    .dataframe thead tr:only-child th {\n",
       "        text-align: right;\n",
       "    }\n",
       "\n",
       "    .dataframe thead th {\n",
       "        text-align: left;\n",
       "    }\n",
       "\n",
       "    .dataframe tbody tr th {\n",
       "        vertical-align: top;\n",
       "    }\n",
       "</style>\n",
       "<table border=\"1\" class=\"dataframe\">\n",
       "  <thead>\n",
       "    <tr style=\"text-align: right;\">\n",
       "      <th></th>\n",
       "      <th>id</th>\n",
       "      <th>vendor_id</th>\n",
       "      <th>pickup_datetime</th>\n",
       "      <th>passenger_count</th>\n",
       "      <th>pickup_longitude</th>\n",
       "      <th>pickup_latitude</th>\n",
       "      <th>dropoff_longitude</th>\n",
       "      <th>dropoff_latitude</th>\n",
       "      <th>store_and_fwd_flag</th>\n",
       "      <th>total_distance</th>\n",
       "      <th>...</th>\n",
       "      <th>hvsine_drop_cent_d</th>\n",
       "      <th>hvsine_cent_p_cent_d</th>\n",
       "      <th>manhtn_pick_cent_p</th>\n",
       "      <th>manhtn_drop_cent_d</th>\n",
       "      <th>manhtn_cent_p_cent_d</th>\n",
       "      <th>bearing_pick_cent_p</th>\n",
       "      <th>bearing_drop_cent_p</th>\n",
       "      <th>bearing_cent_p_cent_d</th>\n",
       "      <th>speed_hvsn</th>\n",
       "      <th>speed_manhtn</th>\n",
       "    </tr>\n",
       "  </thead>\n",
       "  <tbody>\n",
       "    <tr>\n",
       "      <th>0</th>\n",
       "      <td>id3004672</td>\n",
       "      <td>1</td>\n",
       "      <td>2016-06-30 23:59:00</td>\n",
       "      <td>1</td>\n",
       "      <td>-73.988129</td>\n",
       "      <td>40.732029</td>\n",
       "      <td>-73.990173</td>\n",
       "      <td>40.756680</td>\n",
       "      <td>N</td>\n",
       "      <td>3795.9</td>\n",
       "      <td>...</td>\n",
       "      <td>0.460745</td>\n",
       "      <td>2.557813</td>\n",
       "      <td>0.316489</td>\n",
       "      <td>0.572701</td>\n",
       "      <td>2.657047</td>\n",
       "      <td>166.844158</td>\n",
       "      <td>163.485792</td>\n",
       "      <td>-2.267563</td>\n",
       "      <td>0.006468</td>\n",
       "      <td>0.006861</td>\n",
       "    </tr>\n",
       "    <tr>\n",
       "      <th>1</th>\n",
       "      <td>id3505355</td>\n",
       "      <td>1</td>\n",
       "      <td>2016-06-30 23:59:00</td>\n",
       "      <td>1</td>\n",
       "      <td>-73.964203</td>\n",
       "      <td>40.679993</td>\n",
       "      <td>-73.959808</td>\n",
       "      <td>40.655403</td>\n",
       "      <td>N</td>\n",
       "      <td>2904.5</td>\n",
       "      <td>...</td>\n",
       "      <td>4.035734</td>\n",
       "      <td>0.000000</td>\n",
       "      <td>1.680995</td>\n",
       "      <td>4.786109</td>\n",
       "      <td>0.000000</td>\n",
       "      <td>-21.064990</td>\n",
       "      <td>-11.983231</td>\n",
       "      <td>0.000000</td>\n",
       "      <td>0.013796</td>\n",
       "      <td>0.015524</td>\n",
       "    </tr>\n",
       "    <tr>\n",
       "      <th>2</th>\n",
       "      <td>id1217141</td>\n",
       "      <td>1</td>\n",
       "      <td>2016-06-30 23:59:00</td>\n",
       "      <td>1</td>\n",
       "      <td>-73.997437</td>\n",
       "      <td>40.737583</td>\n",
       "      <td>-73.986160</td>\n",
       "      <td>40.729523</td>\n",
       "      <td>N</td>\n",
       "      <td>1499.5</td>\n",
       "      <td>...</td>\n",
       "      <td>0.108194</td>\n",
       "      <td>1.520191</td>\n",
       "      <td>0.425801</td>\n",
       "      <td>0.128053</td>\n",
       "      <td>2.144081</td>\n",
       "      <td>-68.660074</td>\n",
       "      <td>-78.185424</td>\n",
       "      <td>130.816473</td>\n",
       "      <td>0.006761</td>\n",
       "      <td>0.009557</td>\n",
       "    </tr>\n",
       "    <tr>\n",
       "      <th>3</th>\n",
       "      <td>id2150126</td>\n",
       "      <td>2</td>\n",
       "      <td>2016-06-30 23:59:00</td>\n",
       "      <td>1</td>\n",
       "      <td>-73.956070</td>\n",
       "      <td>40.771900</td>\n",
       "      <td>-73.986427</td>\n",
       "      <td>40.730469</td>\n",
       "      <td>N</td>\n",
       "      <td>7023.9</td>\n",
       "      <td>...</td>\n",
       "      <td>0.117694</td>\n",
       "      <td>5.622357</td>\n",
       "      <td>0.327942</td>\n",
       "      <td>0.166443</td>\n",
       "      <td>7.657602</td>\n",
       "      <td>29.968069</td>\n",
       "      <td>-134.876849</td>\n",
       "      <td>-150.583803</td>\n",
       "      <td>0.010649</td>\n",
       "      <td>0.014477</td>\n",
       "    </tr>\n",
       "    <tr>\n",
       "      <th>4</th>\n",
       "      <td>id1598245</td>\n",
       "      <td>1</td>\n",
       "      <td>2016-06-30 23:59:00</td>\n",
       "      <td>1</td>\n",
       "      <td>-73.970215</td>\n",
       "      <td>40.761475</td>\n",
       "      <td>-73.961510</td>\n",
       "      <td>40.755890</td>\n",
       "      <td>N</td>\n",
       "      <td>1108.2</td>\n",
       "      <td>...</td>\n",
       "      <td>1.015384</td>\n",
       "      <td>0.000000</td>\n",
       "      <td>0.620567</td>\n",
       "      <td>1.234924</td>\n",
       "      <td>0.000000</td>\n",
       "      <td>-145.882392</td>\n",
       "      <td>-75.681715</td>\n",
       "      <td>0.000000</td>\n",
       "      <td>0.009310</td>\n",
       "      <td>0.013122</td>\n",
       "    </tr>\n",
       "  </tbody>\n",
       "</table>\n",
       "<p>5 rows × 37 columns</p>\n",
       "</div>"
      ],
      "text/plain": [
       "<div>\n",
       "<style>\n",
       "    .dataframe thead tr:only-child th {\n",
       "        text-align: right;\n",
       "    }\n",
       "\n",
       "    .dataframe thead th {\n",
       "        text-align: left;\n",
       "    }\n",
       "\n",
       "    .dataframe tbody tr th {\n",
       "        vertical-align: top;\n",
       "    }\n",
       "</style>\n",
       "<table border=\"1\" class=\"dataframe\">\n",
       "  <thead>\n",
       "    <tr style=\"text-align: right;\">\n",
       "      <th></th>\n",
       "      <th>id</th>\n",
       "      <th>vendor_id</th>\n",
       "      <th>pickup_datetime</th>\n",
       "      <th>passenger_count</th>\n",
       "      <th>pickup_longitude</th>\n",
       "      <th>pickup_latitude</th>\n",
       "      <th>dropoff_longitude</th>\n",
       "      <th>dropoff_latitude</th>\n",
       "      <th>store_and_fwd_flag</th>\n",
       "      <th>total_distance</th>\n",
       "      <th>...</th>\n",
       "      <th>hvsine_drop_cent_d</th>\n",
       "      <th>hvsine_cent_p_cent_d</th>\n",
       "      <th>manhtn_pick_cent_p</th>\n",
       "      <th>manhtn_drop_cent_d</th>\n",
       "      <th>manhtn_cent_p_cent_d</th>\n",
       "      <th>bearing_pick_cent_p</th>\n",
       "      <th>bearing_drop_cent_p</th>\n",
       "      <th>bearing_cent_p_cent_d</th>\n",
       "      <th>speed_hvsn</th>\n",
       "      <th>speed_manhtn</th>\n",
       "    </tr>\n",
       "  </thead>\n",
       "  <tbody>\n",
       "    <tr>\n",
       "      <th>0</th>\n",
       "      <td>id3004672</td>\n",
       "      <td>1</td>\n",
       "      <td>2016-06-30 23:59:00</td>\n",
       "      <td>1</td>\n",
       "      <td>-73.988129</td>\n",
       "      <td>40.732029</td>\n",
       "      <td>-73.990173</td>\n",
       "      <td>40.756680</td>\n",
       "      <td>N</td>\n",
       "      <td>3795.9</td>\n",
       "      <td>...</td>\n",
       "      <td>0.460745</td>\n",
       "      <td>2.557813</td>\n",
       "      <td>0.316489</td>\n",
       "      <td>0.572701</td>\n",
       "      <td>2.657047</td>\n",
       "      <td>166.844158</td>\n",
       "      <td>163.485792</td>\n",
       "      <td>-2.267563</td>\n",
       "      <td>0.006468</td>\n",
       "      <td>0.006861</td>\n",
       "    </tr>\n",
       "    <tr>\n",
       "      <th>1</th>\n",
       "      <td>id3505355</td>\n",
       "      <td>1</td>\n",
       "      <td>2016-06-30 23:59:00</td>\n",
       "      <td>1</td>\n",
       "      <td>-73.964203</td>\n",
       "      <td>40.679993</td>\n",
       "      <td>-73.959808</td>\n",
       "      <td>40.655403</td>\n",
       "      <td>N</td>\n",
       "      <td>2904.5</td>\n",
       "      <td>...</td>\n",
       "      <td>4.035734</td>\n",
       "      <td>0.000000</td>\n",
       "      <td>1.680995</td>\n",
       "      <td>4.786109</td>\n",
       "      <td>0.000000</td>\n",
       "      <td>-21.064990</td>\n",
       "      <td>-11.983231</td>\n",
       "      <td>0.000000</td>\n",
       "      <td>0.013796</td>\n",
       "      <td>0.015524</td>\n",
       "    </tr>\n",
       "    <tr>\n",
       "      <th>2</th>\n",
       "      <td>id1217141</td>\n",
       "      <td>1</td>\n",
       "      <td>2016-06-30 23:59:00</td>\n",
       "      <td>1</td>\n",
       "      <td>-73.997437</td>\n",
       "      <td>40.737583</td>\n",
       "      <td>-73.986160</td>\n",
       "      <td>40.729523</td>\n",
       "      <td>N</td>\n",
       "      <td>1499.5</td>\n",
       "      <td>...</td>\n",
       "      <td>0.108194</td>\n",
       "      <td>1.520191</td>\n",
       "      <td>0.425801</td>\n",
       "      <td>0.128053</td>\n",
       "      <td>2.144081</td>\n",
       "      <td>-68.660074</td>\n",
       "      <td>-78.185424</td>\n",
       "      <td>130.816473</td>\n",
       "      <td>0.006761</td>\n",
       "      <td>0.009557</td>\n",
       "    </tr>\n",
       "    <tr>\n",
       "      <th>3</th>\n",
       "      <td>id2150126</td>\n",
       "      <td>2</td>\n",
       "      <td>2016-06-30 23:59:00</td>\n",
       "      <td>1</td>\n",
       "      <td>-73.956070</td>\n",
       "      <td>40.771900</td>\n",
       "      <td>-73.986427</td>\n",
       "      <td>40.730469</td>\n",
       "      <td>N</td>\n",
       "      <td>7023.9</td>\n",
       "      <td>...</td>\n",
       "      <td>0.117694</td>\n",
       "      <td>5.622357</td>\n",
       "      <td>0.327942</td>\n",
       "      <td>0.166443</td>\n",
       "      <td>7.657602</td>\n",
       "      <td>29.968069</td>\n",
       "      <td>-134.876849</td>\n",
       "      <td>-150.583803</td>\n",
       "      <td>0.010649</td>\n",
       "      <td>0.014477</td>\n",
       "    </tr>\n",
       "    <tr>\n",
       "      <th>4</th>\n",
       "      <td>id1598245</td>\n",
       "      <td>1</td>\n",
       "      <td>2016-06-30 23:59:00</td>\n",
       "      <td>1</td>\n",
       "      <td>-73.970215</td>\n",
       "      <td>40.761475</td>\n",
       "      <td>-73.961510</td>\n",
       "      <td>40.755890</td>\n",
       "      <td>N</td>\n",
       "      <td>1108.2</td>\n",
       "      <td>...</td>\n",
       "      <td>1.015384</td>\n",
       "      <td>0.000000</td>\n",
       "      <td>0.620567</td>\n",
       "      <td>1.234924</td>\n",
       "      <td>0.000000</td>\n",
       "      <td>-145.882392</td>\n",
       "      <td>-75.681715</td>\n",
       "      <td>0.000000</td>\n",
       "      <td>0.009310</td>\n",
       "      <td>0.013122</td>\n",
       "    </tr>\n",
       "  </tbody>\n",
       "</table>\n",
       "<p>5 rows × 37 columns</p>\n",
       "</div>"
      ]
     },
     "execution_count": 69,
     "metadata": {},
     "output_type": "execute_result"
    }
   ],
   "source": [
    "# 5. Extracting features: pickup/dropoff centroid of kinds of distances, and get aveage speed.\n",
    "\n",
    "test_cl.loc[:,'hvsine_pick_cent_p'] = haversine_(test_cl['pickup_latitude'].values, \n",
    "                                                 test_cl['pickup_longitude'].values, \n",
    "                                                 test_cl['centroid_pick_lat'].values, \n",
    "                                                 test_cl['centroid_pick_long'].values)\n",
    "\n",
    "test_cl.loc[:,'hvsine_drop_cent_d'] = haversine_(test_cl['dropoff_latitude'].values, \n",
    "                                                 test_cl['dropoff_longitude'].values, \n",
    "                                                 test_cl['centroid_drop_lat'].values, \n",
    "                                                 test_cl['centroid_drop_long'].values)\n",
    "\n",
    "test_cl.loc[:,'hvsine_cent_p_cent_d'] = haversine_(test_cl['centroid_pick_lat'].values, \n",
    "                                                   test_cl['centroid_pick_long'].values, \n",
    "                                                   test_cl['centroid_drop_lat'].values, \n",
    "                                                   test_cl['centroid_drop_long'].values)\n",
    "\n",
    "test_cl.loc[:,'manhtn_pick_cent_p'] = manhattan_distance_pd(test_cl['pickup_latitude'].values, \n",
    "                                                            test_cl['pickup_longitude'].values, \n",
    "                                                            test_cl['centroid_pick_lat'].values, \n",
    "                                                            test_cl['centroid_pick_long'].values)\n",
    "\n",
    "test_cl.loc[:,'manhtn_drop_cent_d'] = manhattan_distance_pd(test_cl['dropoff_latitude'].values, \n",
    "                                                            test_cl['dropoff_longitude'].values, \n",
    "                                                            test_cl['centroid_drop_lat'].values, \n",
    "                                                            test_cl['centroid_drop_long'].values)\n",
    "\n",
    "test_cl.loc[:,'manhtn_cent_p_cent_d'] = manhattan_distance_pd(test_cl['centroid_pick_lat'].values, \n",
    "                                                              test_cl['centroid_pick_long'].values, \n",
    "                                                              test_cl['centroid_drop_lat'].values, \n",
    "                                                              test_cl['centroid_drop_long'].values)\n",
    "\n",
    "test_cl.loc[:,'bearing_pick_cent_p'] = bearing_array(test_cl['pickup_latitude'].values, \n",
    "                                                     test_cl['pickup_longitude'].values, \n",
    "                                                     test_cl['centroid_pick_lat'].values, \n",
    "                                                     test_cl['centroid_pick_long'].values)\n",
    "\n",
    "test_cl.loc[:,'bearing_drop_cent_p'] = bearing_array(test_cl['dropoff_latitude'].values, \n",
    "                                                     test_cl['dropoff_longitude'].values, \n",
    "                                                     test_cl['centroid_drop_lat'].values, \n",
    "                                                     test_cl['centroid_drop_long'].values)\n",
    "\n",
    "test_cl.loc[:,'bearing_cent_p_cent_d'] = bearing_array(test_cl['centroid_pick_lat'].values, \n",
    "                                                       test_cl['centroid_pick_long'].values, \n",
    "                                                       test_cl['centroid_drop_lat'].values, \n",
    "                                                       test_cl['centroid_drop_long'].values)\n",
    "\n",
    "test_cl['speed_hvsn'] = test_cl.hvsine_pick_drop/test_cl.total_travel_time\n",
    "test_cl['speed_manhtn'] = test_cl.manhtn_pick_drop/test_cl.total_travel_time\n",
    "\n",
    "test_cl.head()"
   ]
  },
  {
   "cell_type": "markdown",
   "metadata": {},
   "source": [
    "## Step 25.2: Import XGB Model"
   ]
  },
  {
   "cell_type": "markdown",
   "metadata": {},
   "source": [
    "## Use XGBoost regressor for prediction. \n",
    "## 1. Train XGB on training features \n",
    "## 2. Use trained model for prediction."
   ]
  },
  {
   "cell_type": "code",
   "execution_count": 70,
   "metadata": {},
   "outputs": [],
   "source": [
    "import xgboost as xgb\n",
    "from sklearn.model_selection import train_test_split\n",
    "from sklearn.decomposition import PCA\n",
    "from sklearn.cluster import MiniBatchKMeans\n",
    "import warnings"
   ]
  },
  {
   "cell_type": "markdown",
   "metadata": {},
   "source": [
    "## Step 25.3: Add PCA features in the model"
   ]
  },
  {
   "cell_type": "code",
   "execution_count": 72,
   "metadata": {},
   "outputs": [
    {
     "name": "stdout",
     "output_type": "stream",
     "text": [
      "Time Taken by above cell is 3.774226427078247."
     ]
    },
    {
     "name": "stdout",
     "output_type": "stream",
     "text": [
      "\n"
     ]
    }
   ],
   "source": [
    "train = train_cl\n",
    "test = test_cl\n",
    "start = time.time()\n",
    "coords = np.vstack((train[['pickup_latitude', 'pickup_longitude']].values,\n",
    "                    train[['dropoff_latitude', 'dropoff_longitude']].values,\n",
    "                    test[['pickup_latitude', 'pickup_longitude']].values,\n",
    "                    test[['dropoff_latitude', 'dropoff_longitude']].values))\n",
    "\n",
    "pca = PCA().fit(coords)\n",
    "train['pickup_pca0'] = pca.transform(train[['pickup_latitude', 'pickup_longitude']])[:, 0]\n",
    "train['pickup_pca1'] = pca.transform(train[['pickup_latitude', 'pickup_longitude']])[:, 1]\n",
    "train['dropoff_pca0'] = pca.transform(train[['dropoff_latitude', 'dropoff_longitude']])[:, 0]\n",
    "train['dropoff_pca1'] = pca.transform(train[['dropoff_latitude', 'dropoff_longitude']])[:, 1]\n",
    "test['pickup_pca0'] = pca.transform(test[['pickup_latitude', 'pickup_longitude']])[:, 0]\n",
    "test['pickup_pca1'] = pca.transform(test[['pickup_latitude', 'pickup_longitude']])[:, 1]\n",
    "test['dropoff_pca0'] = pca.transform(test[['dropoff_latitude', 'dropoff_longitude']])[:, 0]\n",
    "test['dropoff_pca1'] = pca.transform(test[['dropoff_latitude', 'dropoff_longitude']])[:, 1]\n",
    "end = time.time()\n",
    "print(\"Time Taken by above cell is {}.\".format(end - start))"
   ]
  },
  {
   "cell_type": "code",
   "execution_count": 72,
   "metadata": {},
   "outputs": [],
   "source": [
    "# Replace with 0 or 1:\n",
    "train['store_and_fwd_flag_int'] = np.where(train['store_and_fwd_flag']=='N', 0, 1)\n",
    "test['store_and_fwd_flag_int'] = np.where(test['store_and_fwd_flag']=='N', 0, 1)"
   ]
  },
  {
   "cell_type": "markdown",
   "metadata": {},
   "source": [
    "## Step 25.4: Get the difference of features in train and test"
   ]
  },
  {
   "cell_type": "code",
   "execution_count": 73,
   "metadata": {},
   "outputs": [
    {
     "name": "stdout",
     "output_type": "stream",
     "text": [
      "Difference of features in train and test are ['dropoff_datetime' 'trip_duration']"
     ]
    },
    {
     "name": "stdout",
     "output_type": "stream",
     "text": [
      "\n"
     ]
    },
    {
     "name": "stdout",
     "output_type": "stream",
     "text": [
      "\n"
     ]
    },
    {
     "name": "stdout",
     "output_type": "stream",
     "text": [
      "We will be using following features for training ['vendor_id', 'passenger_count', 'pickup_longitude', 'pickup_latitude', 'dropoff_longitude', 'dropoff_latitude', 'total_distance', 'total_travel_time', 'number_of_steps', 'pick_month', 'hour', 'week_of_year', 'day_of_year', 'day_of_week', 'hvsine_pick_drop', 'manhtn_pick_drop', 'bearing', 'label_pick', 'label_drop', 'centroid_pick_long', 'centroid_pick_lat', 'centroid_drop_long', 'centroid_drop_lat', 'hvsine_pick_cent_p', 'hvsine_drop_cent_d', 'hvsine_cent_p_cent_d', 'manhtn_pick_cent_p', 'manhtn_drop_cent_d', 'manhtn_cent_p_cent_d', 'bearing_pick_cent_p', 'bearing_drop_cent_p', 'bearing_cent_p_cent_d', 'speed_hvsn', 'speed_manhtn', 'pickup_pca0', 'pickup_pca1', 'dropoff_pca0', 'dropoff_pca1', 'store_and_fwd_flag_int']."
     ]
    },
    {
     "name": "stdout",
     "output_type": "stream",
     "text": [
      "\n"
     ]
    },
    {
     "name": "stdout",
     "output_type": "stream",
     "text": [
      "\n"
     ]
    },
    {
     "name": "stdout",
     "output_type": "stream",
     "text": [
      "Total number of features are 39."
     ]
    }
   ],
   "source": [
    "feature_names = list(train.columns)\n",
    "print(\"Difference of features in train and test are {}\".format(np.setdiff1d(train.columns, test.columns)))\n",
    "print(\"\")\n",
    "\n",
    "do_not_use_for_training = ['pick_date','id', 'pickup_datetime', 'dropoff_datetime', 'trip_duration', 'store_and_fwd_flag']\n",
    "feature_names = [f for f in train.columns if f not in do_not_use_for_training]\n",
    "\n",
    "print(\"We will be using following features for training {}.\".format(feature_names))\n",
    "print(\"\")\n",
    "print(\"Total number of features are {}.\".format(len(feature_names)))"
   ]
  },
  {
   "cell_type": "markdown",
   "metadata": {},
   "source": [
    "## Step 26.5: Split and train XGB model:"
   ]
  },
  {
   "cell_type": "markdown",
   "metadata": {},
   "source": [
    "## xgb: http://xgboost.readthedocs.io/en/latest/python/python_intro.html"
   ]
  },
  {
   "cell_type": "code",
   "execution_count": 74,
   "metadata": {},
   "outputs": [
    {
     "name": "stdout",
     "output_type": "stream",
     "text": [
      "[0]\ttrain-rmse:4.22632\tvalid-rmse:4.22757\n"
     ]
    },
    {
     "name": "stdout",
     "output_type": "stream",
     "text": [
      "Multiple eval metrics have been passed: 'valid-rmse' will be used for early stopping.\n\n"
     ]
    },
    {
     "name": "stdout",
     "output_type": "stream",
     "text": [
      "Will train until valid-rmse hasn't improved in 2 rounds.\n"
     ]
    },
    {
     "name": "stdout",
     "output_type": "stream",
     "text": [
      "[1]\ttrain-rmse:2.97634\tvalid-rmse:2.9779\n"
     ]
    },
    {
     "name": "stdout",
     "output_type": "stream",
     "text": [
      "[2]\ttrain-rmse:2.10627\tvalid-rmse:2.10828\n"
     ]
    },
    {
     "name": "stdout",
     "output_type": "stream",
     "text": [
      "[3]\ttrain-rmse:1.50768\tvalid-rmse:1.51038\n"
     ]
    },
    {
     "name": "stdout",
     "output_type": "stream",
     "text": [
      "[4]\ttrain-rmse:1.0977\tvalid-rmse:1.1013\n"
     ]
    },
    {
     "name": "stdout",
     "output_type": "stream",
     "text": [
      "[5]\ttrain-rmse:0.82356\tvalid-rmse:0.828341\n"
     ]
    },
    {
     "name": "stdout",
     "output_type": "stream",
     "text": [
      "[6]\ttrain-rmse:0.645152\tvalid-rmse:0.651593\n"
     ]
    },
    {
     "name": "stdout",
     "output_type": "stream",
     "text": [
      "[7]\ttrain-rmse:0.535765\tvalid-rmse:0.54387\n"
     ]
    },
    {
     "name": "stdout",
     "output_type": "stream",
     "text": [
      "[8]\ttrain-rmse:0.472743\tvalid-rmse:0.482233\n"
     ]
    },
    {
     "name": "stdout",
     "output_type": "stream",
     "text": [
      "[9]\ttrain-rmse:0.437489\tvalid-rmse:0.448313\n"
     ]
    },
    {
     "name": "stdout",
     "output_type": "stream",
     "text": [
      "[10]\ttrain-rmse:0.41794\tvalid-rmse:0.429668\n"
     ]
    },
    {
     "name": "stdout",
     "output_type": "stream",
     "text": [
      "[11]\ttrain-rmse:0.407544\tvalid-rmse:0.419869\n"
     ]
    },
    {
     "name": "stdout",
     "output_type": "stream",
     "text": [
      "[12]\ttrain-rmse:0.401203\tvalid-rmse:0.414095\n"
     ]
    },
    {
     "name": "stdout",
     "output_type": "stream",
     "text": [
      "[13]\ttrain-rmse:0.398004\tvalid-rmse:0.411455\n"
     ]
    },
    {
     "name": "stdout",
     "output_type": "stream",
     "text": [
      "[14]\ttrain-rmse:0.395435\tvalid-rmse:0.409449\n"
     ]
    },
    {
     "name": "stdout",
     "output_type": "stream",
     "text": [
      "Time taken by above cell is 115.44998908042908."
     ]
    },
    {
     "name": "stdout",
     "output_type": "stream",
     "text": [
      "\n"
     ]
    },
    {
     "name": "stdout",
     "output_type": "stream",
     "text": [
      "Modeling RMSLE 0.40945"
     ]
    },
    {
     "name": "stdout",
     "output_type": "stream",
     "text": [
      "\n"
     ]
    }
   ],
   "source": [
    "y = np.log(train['trip_duration'].values + 1)\n",
    "start = time.time()\n",
    "\n",
    "Xtr, Xv, ytr, yv = train_test_split(train[feature_names].values, y, test_size=0.2, random_state=1987)\n",
    "#train_test_split(): Split arrays or matrices into random train and test subsets.\n",
    "#<random_state>:If int, random_state is the seed used by the random number generator.\n",
    "\n",
    "dtrain = xgb.DMatrix(Xtr, label=ytr) #DMatrix: object of XGBoost\n",
    "dvalid = xgb.DMatrix(Xv, label=yv)\n",
    "dtest = xgb.DMatrix(test[feature_names].values)\n",
    "\n",
    "watchlist = [(dtrain, 'train'), (dvalid, 'valid')]\n",
    "\n",
    "xgb_pars = {'min_child_weight': 50, 'eta': 0.3, 'colsample_bytree': 0.3, 'max_depth': 10,\n",
    "            'subsample': 0.8, 'lambda': 1., 'nthread': -1, 'booster' : 'gbtree', 'silent': 1,\n",
    "            'eval_metric': 'rmse', 'objective': 'reg:linear'}\n",
    "\n",
    "model = xgb.train(xgb_pars, dtrain, 15, watchlist, early_stopping_rounds=2,\n",
    "                  maximize=False, verbose_eval=1)\n",
    "#xgb.train(): xgboost.train(params, dtrain, num_boost_round=10, evals=(), obj=None, \n",
    "# feval=None, maximize=False, early_stopping_rounds=None, evals_result=None, verbose_eval=True, \n",
    "# xgb_model=None, callbacks=None, learning_rates=None):\n",
    "#1. xgb_pars: params;\n",
    "#2. dtrain: (DMatrix) – Data to be trained.\n",
    "#3. 15: num_boost_round (int) – Number of boosting iterations.\n",
    "#4. watchlist: (list of pairs (DMatrix, string)):List of items to be evaluated during training, this allows user to watch performance on the validation set.\n",
    "#5. 2: early_stopping_rounds (int) – Activates early stopping. Validation error needs to decrease at least every <early_stopping_rounds> round(s) to continue training. \n",
    "#6. maximize=False: maximize (bool) – Whether to maximize feval.\n",
    "#7. verbose_eval=1: The evaluation metric on the validation set is printed at every given verbose_eval boosting stage.\n",
    "end = time.time()\n",
    "\n",
    "print(\"Time taken by above cell is {}.\".format(end - start))\n",
    "print('Modeling RMSLE %.5f' % model.best_score)"
   ]
  },
  {
   "cell_type": "markdown",
   "metadata": {},
   "source": [
    "# Step 26: Feature Extraction Round 2 with weather data\n",
    "## By Extraction on following features as RMSLE is not going below 0.38\n",
    "## 1. Pick to drop cluster\n",
    "## 2. Drop to pickup cluster\n",
    "## 3. Number of lefts\n",
    "## 4. Number of rights ( 3,4 from osrm data)\n",
    "## 5. Check weather in nyc dataset and see if it can be used as feature"
   ]
  },
  {
   "cell_type": "markdown",
   "metadata": {},
   "source": [
    "## Step 26.1: Preprocess the data loaded:"
   ]
  },
  {
   "cell_type": "code",
   "execution_count": 75,
   "metadata": {},
   "outputs": [
    {
     "data": {
      "text/html": [
       "<div>\n",
       "<style>\n",
       "    .dataframe thead tr:only-child th {\n",
       "        text-align: right;\n",
       "    }\n",
       "\n",
       "    .dataframe thead th {\n",
       "        text-align: left;\n",
       "    }\n",
       "\n",
       "    .dataframe tbody tr th {\n",
       "        vertical-align: top;\n",
       "    }\n",
       "</style>\n",
       "<table border=\"1\" class=\"dataframe\">\n",
       "  <thead>\n",
       "    <tr style=\"text-align: right;\">\n",
       "      <th></th>\n",
       "      <th>date</th>\n",
       "      <th>maximum_temperature</th>\n",
       "      <th>minimum temperature</th>\n",
       "      <th>average_temperature</th>\n",
       "      <th>precipitation</th>\n",
       "      <th>snow fall</th>\n",
       "      <th>snow depth</th>\n",
       "    </tr>\n",
       "  </thead>\n",
       "  <tbody>\n",
       "    <tr>\n",
       "      <th>0</th>\n",
       "      <td>1/1/2016</td>\n",
       "      <td>42</td>\n",
       "      <td>34</td>\n",
       "      <td>38.0</td>\n",
       "      <td>0</td>\n",
       "      <td>0</td>\n",
       "      <td>0</td>\n",
       "    </tr>\n",
       "    <tr>\n",
       "      <th>1</th>\n",
       "      <td>2/1/2016</td>\n",
       "      <td>40</td>\n",
       "      <td>32</td>\n",
       "      <td>36.0</td>\n",
       "      <td>0</td>\n",
       "      <td>0</td>\n",
       "      <td>0</td>\n",
       "    </tr>\n",
       "    <tr>\n",
       "      <th>2</th>\n",
       "      <td>3/1/2016</td>\n",
       "      <td>45</td>\n",
       "      <td>35</td>\n",
       "      <td>40.0</td>\n",
       "      <td>0</td>\n",
       "      <td>0</td>\n",
       "      <td>0</td>\n",
       "    </tr>\n",
       "    <tr>\n",
       "      <th>3</th>\n",
       "      <td>4/1/2016</td>\n",
       "      <td>36</td>\n",
       "      <td>14</td>\n",
       "      <td>25.0</td>\n",
       "      <td>0</td>\n",
       "      <td>0</td>\n",
       "      <td>0</td>\n",
       "    </tr>\n",
       "    <tr>\n",
       "      <th>4</th>\n",
       "      <td>5/1/2016</td>\n",
       "      <td>29</td>\n",
       "      <td>11</td>\n",
       "      <td>20.0</td>\n",
       "      <td>0</td>\n",
       "      <td>0</td>\n",
       "      <td>0</td>\n",
       "    </tr>\n",
       "    <tr>\n",
       "      <th>5</th>\n",
       "      <td>6/1/2016</td>\n",
       "      <td>41</td>\n",
       "      <td>25</td>\n",
       "      <td>33.0</td>\n",
       "      <td>0</td>\n",
       "      <td>0</td>\n",
       "      <td>0</td>\n",
       "    </tr>\n",
       "    <tr>\n",
       "      <th>6</th>\n",
       "      <td>7/1/2016</td>\n",
       "      <td>46</td>\n",
       "      <td>31</td>\n",
       "      <td>38.5</td>\n",
       "      <td>0</td>\n",
       "      <td>0</td>\n",
       "      <td>0</td>\n",
       "    </tr>\n",
       "    <tr>\n",
       "      <th>7</th>\n",
       "      <td>8/1/2016</td>\n",
       "      <td>46</td>\n",
       "      <td>31</td>\n",
       "      <td>38.5</td>\n",
       "      <td>0</td>\n",
       "      <td>0</td>\n",
       "      <td>0</td>\n",
       "    </tr>\n",
       "    <tr>\n",
       "      <th>8</th>\n",
       "      <td>9/1/2016</td>\n",
       "      <td>47</td>\n",
       "      <td>40</td>\n",
       "      <td>43.5</td>\n",
       "      <td>T</td>\n",
       "      <td>0</td>\n",
       "      <td>0</td>\n",
       "    </tr>\n",
       "    <tr>\n",
       "      <th>9</th>\n",
       "      <td>10/1/2016</td>\n",
       "      <td>59</td>\n",
       "      <td>40</td>\n",
       "      <td>49.5</td>\n",
       "      <td>1.8</td>\n",
       "      <td>0</td>\n",
       "      <td>0</td>\n",
       "    </tr>\n",
       "  </tbody>\n",
       "</table>\n",
       "</div>"
      ],
      "text/plain": [
       "<div>\n",
       "<style>\n",
       "    .dataframe thead tr:only-child th {\n",
       "        text-align: right;\n",
       "    }\n",
       "\n",
       "    .dataframe thead th {\n",
       "        text-align: left;\n",
       "    }\n",
       "\n",
       "    .dataframe tbody tr th {\n",
       "        vertical-align: top;\n",
       "    }\n",
       "</style>\n",
       "<table border=\"1\" class=\"dataframe\">\n",
       "  <thead>\n",
       "    <tr style=\"text-align: right;\">\n",
       "      <th></th>\n",
       "      <th>date</th>\n",
       "      <th>maximum_temperature</th>\n",
       "      <th>minimum temperature</th>\n",
       "      <th>average_temperature</th>\n",
       "      <th>precipitation</th>\n",
       "      <th>snow fall</th>\n",
       "      <th>snow depth</th>\n",
       "    </tr>\n",
       "  </thead>\n",
       "  <tbody>\n",
       "    <tr>\n",
       "      <th>0</th>\n",
       "      <td>1/1/2016</td>\n",
       "      <td>42</td>\n",
       "      <td>34</td>\n",
       "      <td>38.0</td>\n",
       "      <td>0</td>\n",
       "      <td>0</td>\n",
       "      <td>0</td>\n",
       "    </tr>\n",
       "    <tr>\n",
       "      <th>1</th>\n",
       "      <td>2/1/2016</td>\n",
       "      <td>40</td>\n",
       "      <td>32</td>\n",
       "      <td>36.0</td>\n",
       "      <td>0</td>\n",
       "      <td>0</td>\n",
       "      <td>0</td>\n",
       "    </tr>\n",
       "    <tr>\n",
       "      <th>2</th>\n",
       "      <td>3/1/2016</td>\n",
       "      <td>45</td>\n",
       "      <td>35</td>\n",
       "      <td>40.0</td>\n",
       "      <td>0</td>\n",
       "      <td>0</td>\n",
       "      <td>0</td>\n",
       "    </tr>\n",
       "    <tr>\n",
       "      <th>3</th>\n",
       "      <td>4/1/2016</td>\n",
       "      <td>36</td>\n",
       "      <td>14</td>\n",
       "      <td>25.0</td>\n",
       "      <td>0</td>\n",
       "      <td>0</td>\n",
       "      <td>0</td>\n",
       "    </tr>\n",
       "    <tr>\n",
       "      <th>4</th>\n",
       "      <td>5/1/2016</td>\n",
       "      <td>29</td>\n",
       "      <td>11</td>\n",
       "      <td>20.0</td>\n",
       "      <td>0</td>\n",
       "      <td>0</td>\n",
       "      <td>0</td>\n",
       "    </tr>\n",
       "    <tr>\n",
       "      <th>5</th>\n",
       "      <td>6/1/2016</td>\n",
       "      <td>41</td>\n",
       "      <td>25</td>\n",
       "      <td>33.0</td>\n",
       "      <td>0</td>\n",
       "      <td>0</td>\n",
       "      <td>0</td>\n",
       "    </tr>\n",
       "    <tr>\n",
       "      <th>6</th>\n",
       "      <td>7/1/2016</td>\n",
       "      <td>46</td>\n",
       "      <td>31</td>\n",
       "      <td>38.5</td>\n",
       "      <td>0</td>\n",
       "      <td>0</td>\n",
       "      <td>0</td>\n",
       "    </tr>\n",
       "    <tr>\n",
       "      <th>7</th>\n",
       "      <td>8/1/2016</td>\n",
       "      <td>46</td>\n",
       "      <td>31</td>\n",
       "      <td>38.5</td>\n",
       "      <td>0</td>\n",
       "      <td>0</td>\n",
       "      <td>0</td>\n",
       "    </tr>\n",
       "    <tr>\n",
       "      <th>8</th>\n",
       "      <td>9/1/2016</td>\n",
       "      <td>47</td>\n",
       "      <td>40</td>\n",
       "      <td>43.5</td>\n",
       "      <td>T</td>\n",
       "      <td>0</td>\n",
       "      <td>0</td>\n",
       "    </tr>\n",
       "    <tr>\n",
       "      <th>9</th>\n",
       "      <td>10/1/2016</td>\n",
       "      <td>59</td>\n",
       "      <td>40</td>\n",
       "      <td>49.5</td>\n",
       "      <td>1.8</td>\n",
       "      <td>0</td>\n",
       "      <td>0</td>\n",
       "    </tr>\n",
       "  </tbody>\n",
       "</table>\n",
       "</div>"
      ]
     },
     "execution_count": 75,
     "metadata": {},
     "output_type": "execute_result"
    }
   ],
   "source": [
    "weather = pd.read_csv('data/weather_data_nyc_centralpark_2016.csv')\n",
    "weather[['precipitation']] = weather[['precipitation']].replace(np.nan, 'T', regex=True)\n",
    "weather[['snow_fall']] = weather[['snow_fall']].replace(np.nan, 'T', regex=True)\n",
    "weather.rename(columns={'snow_fall': 'snow fall'}, inplace=True)\n",
    "weather[['snow_depth']] = weather[['snow_depth']].replace(np.nan, 'T', regex=True)\n",
    "weather.rename(columns={'snow_depth': 'snow depth'}, inplace=True)\n",
    "##minimum_temperature\n",
    "weather.rename(columns={'minimum_temperature': 'minimum temperature'}, inplace=True)\n",
    "weather.head(10)"
   ]
  },
  {
   "cell_type": "markdown",
   "metadata": {},
   "source": [
    "## Step 26.2: Filter and Map the format of data:"
   ]
  },
  {
   "cell_type": "code",
   "execution_count": 76,
   "metadata": {},
   "outputs": [
    {
     "name": "stderr",
     "output_type": "stream",
     "text": [
      "C:\\Anaconda3\\lib\\site-packages\\ggplot\\utils.py:81: FutureWarning:\n\npandas.tslib is deprecated and will be removed in a future version.\nYou can access Timestamp as pandas.Timestamp\n\n"
     ]
    },
    {
     "name": "stderr",
     "output_type": "stream",
     "text": [
      "C:\\Anaconda3\\lib\\site-packages\\ggplot\\stats\\smoothers.py:4: FutureWarning:\n\nThe pandas.lib module is deprecated and will be removed in a future version. These are private functions and can be accessed from pandas._libs.lib instead\n\n"
     ]
    },
    {
     "name": "stderr",
     "output_type": "stream",
     "text": [
      "C:\\Anaconda3\\lib\\importlib\\_bootstrap.py:219: ImportWarning:\n\ncan't resolve package from __spec__ or __package__, falling back on __name__ and __path__\n\n"
     ]
    },
    {
     "name": "stderr",
     "output_type": "stream",
     "text": [
      "C:\\Anaconda3\\lib\\site-packages\\statsmodels\\compat\\pandas.py:56: FutureWarning:\n\nThe pandas.core.datetools module is deprecated and will be removed in a future version. Please use the pandas.tseries module instead.\n\n"
     ]
    },
    {
     "data": {
      "text/html": [
       "<div>\n",
       "<style>\n",
       "    .dataframe thead tr:only-child th {\n",
       "        text-align: right;\n",
       "    }\n",
       "\n",
       "    .dataframe thead th {\n",
       "        text-align: left;\n",
       "    }\n",
       "\n",
       "    .dataframe tbody tr th {\n",
       "        vertical-align: top;\n",
       "    }\n",
       "</style>\n",
       "<table border=\"1\" class=\"dataframe\">\n",
       "  <thead>\n",
       "    <tr style=\"text-align: right;\">\n",
       "      <th></th>\n",
       "      <th>date</th>\n",
       "      <th>maximum_temperature</th>\n",
       "      <th>minimum temperature</th>\n",
       "      <th>average_temperature</th>\n",
       "      <th>precipitation</th>\n",
       "      <th>snow fall</th>\n",
       "      <th>snow depth</th>\n",
       "      <th>day_of_year</th>\n",
       "    </tr>\n",
       "  </thead>\n",
       "  <tbody>\n",
       "    <tr>\n",
       "      <th>0</th>\n",
       "      <td>2016-01-01</td>\n",
       "      <td>42</td>\n",
       "      <td>34</td>\n",
       "      <td>38.0</td>\n",
       "      <td>0.0</td>\n",
       "      <td>0.0</td>\n",
       "      <td>0.0</td>\n",
       "      <td>1</td>\n",
       "    </tr>\n",
       "    <tr>\n",
       "      <th>1</th>\n",
       "      <td>2016-02-01</td>\n",
       "      <td>40</td>\n",
       "      <td>32</td>\n",
       "      <td>36.0</td>\n",
       "      <td>0.0</td>\n",
       "      <td>0.0</td>\n",
       "      <td>0.0</td>\n",
       "      <td>32</td>\n",
       "    </tr>\n",
       "    <tr>\n",
       "      <th>2</th>\n",
       "      <td>2016-03-01</td>\n",
       "      <td>45</td>\n",
       "      <td>35</td>\n",
       "      <td>40.0</td>\n",
       "      <td>0.0</td>\n",
       "      <td>0.0</td>\n",
       "      <td>0.0</td>\n",
       "      <td>61</td>\n",
       "    </tr>\n",
       "    <tr>\n",
       "      <th>3</th>\n",
       "      <td>2016-04-01</td>\n",
       "      <td>36</td>\n",
       "      <td>14</td>\n",
       "      <td>25.0</td>\n",
       "      <td>0.0</td>\n",
       "      <td>0.0</td>\n",
       "      <td>0.0</td>\n",
       "      <td>92</td>\n",
       "    </tr>\n",
       "    <tr>\n",
       "      <th>4</th>\n",
       "      <td>2016-05-01</td>\n",
       "      <td>29</td>\n",
       "      <td>11</td>\n",
       "      <td>20.0</td>\n",
       "      <td>0.0</td>\n",
       "      <td>0.0</td>\n",
       "      <td>0.0</td>\n",
       "      <td>122</td>\n",
       "    </tr>\n",
       "    <tr>\n",
       "      <th>5</th>\n",
       "      <td>2016-06-01</td>\n",
       "      <td>41</td>\n",
       "      <td>25</td>\n",
       "      <td>33.0</td>\n",
       "      <td>0.0</td>\n",
       "      <td>0.0</td>\n",
       "      <td>0.0</td>\n",
       "      <td>153</td>\n",
       "    </tr>\n",
       "    <tr>\n",
       "      <th>6</th>\n",
       "      <td>2016-07-01</td>\n",
       "      <td>46</td>\n",
       "      <td>31</td>\n",
       "      <td>38.5</td>\n",
       "      <td>0.0</td>\n",
       "      <td>0.0</td>\n",
       "      <td>0.0</td>\n",
       "      <td>183</td>\n",
       "    </tr>\n",
       "    <tr>\n",
       "      <th>7</th>\n",
       "      <td>2016-08-01</td>\n",
       "      <td>46</td>\n",
       "      <td>31</td>\n",
       "      <td>38.5</td>\n",
       "      <td>0.0</td>\n",
       "      <td>0.0</td>\n",
       "      <td>0.0</td>\n",
       "      <td>214</td>\n",
       "    </tr>\n",
       "    <tr>\n",
       "      <th>8</th>\n",
       "      <td>2016-09-01</td>\n",
       "      <td>47</td>\n",
       "      <td>40</td>\n",
       "      <td>43.5</td>\n",
       "      <td>0.0</td>\n",
       "      <td>0.0</td>\n",
       "      <td>0.0</td>\n",
       "      <td>245</td>\n",
       "    </tr>\n",
       "    <tr>\n",
       "      <th>9</th>\n",
       "      <td>2016-10-01</td>\n",
       "      <td>59</td>\n",
       "      <td>40</td>\n",
       "      <td>49.5</td>\n",
       "      <td>1.8</td>\n",
       "      <td>0.0</td>\n",
       "      <td>0.0</td>\n",
       "      <td>275</td>\n",
       "    </tr>\n",
       "  </tbody>\n",
       "</table>\n",
       "</div>"
      ],
      "text/plain": [
       "<div>\n",
       "<style>\n",
       "    .dataframe thead tr:only-child th {\n",
       "        text-align: right;\n",
       "    }\n",
       "\n",
       "    .dataframe thead th {\n",
       "        text-align: left;\n",
       "    }\n",
       "\n",
       "    .dataframe tbody tr th {\n",
       "        vertical-align: top;\n",
       "    }\n",
       "</style>\n",
       "<table border=\"1\" class=\"dataframe\">\n",
       "  <thead>\n",
       "    <tr style=\"text-align: right;\">\n",
       "      <th></th>\n",
       "      <th>date</th>\n",
       "      <th>maximum_temperature</th>\n",
       "      <th>minimum temperature</th>\n",
       "      <th>average_temperature</th>\n",
       "      <th>precipitation</th>\n",
       "      <th>snow fall</th>\n",
       "      <th>snow depth</th>\n",
       "      <th>day_of_year</th>\n",
       "    </tr>\n",
       "  </thead>\n",
       "  <tbody>\n",
       "    <tr>\n",
       "      <th>0</th>\n",
       "      <td>2016-01-01</td>\n",
       "      <td>42</td>\n",
       "      <td>34</td>\n",
       "      <td>38.0</td>\n",
       "      <td>0.0</td>\n",
       "      <td>0.0</td>\n",
       "      <td>0.0</td>\n",
       "      <td>1</td>\n",
       "    </tr>\n",
       "    <tr>\n",
       "      <th>1</th>\n",
       "      <td>2016-02-01</td>\n",
       "      <td>40</td>\n",
       "      <td>32</td>\n",
       "      <td>36.0</td>\n",
       "      <td>0.0</td>\n",
       "      <td>0.0</td>\n",
       "      <td>0.0</td>\n",
       "      <td>32</td>\n",
       "    </tr>\n",
       "    <tr>\n",
       "      <th>2</th>\n",
       "      <td>2016-03-01</td>\n",
       "      <td>45</td>\n",
       "      <td>35</td>\n",
       "      <td>40.0</td>\n",
       "      <td>0.0</td>\n",
       "      <td>0.0</td>\n",
       "      <td>0.0</td>\n",
       "      <td>61</td>\n",
       "    </tr>\n",
       "    <tr>\n",
       "      <th>3</th>\n",
       "      <td>2016-04-01</td>\n",
       "      <td>36</td>\n",
       "      <td>14</td>\n",
       "      <td>25.0</td>\n",
       "      <td>0.0</td>\n",
       "      <td>0.0</td>\n",
       "      <td>0.0</td>\n",
       "      <td>92</td>\n",
       "    </tr>\n",
       "    <tr>\n",
       "      <th>4</th>\n",
       "      <td>2016-05-01</td>\n",
       "      <td>29</td>\n",
       "      <td>11</td>\n",
       "      <td>20.0</td>\n",
       "      <td>0.0</td>\n",
       "      <td>0.0</td>\n",
       "      <td>0.0</td>\n",
       "      <td>122</td>\n",
       "    </tr>\n",
       "    <tr>\n",
       "      <th>5</th>\n",
       "      <td>2016-06-01</td>\n",
       "      <td>41</td>\n",
       "      <td>25</td>\n",
       "      <td>33.0</td>\n",
       "      <td>0.0</td>\n",
       "      <td>0.0</td>\n",
       "      <td>0.0</td>\n",
       "      <td>153</td>\n",
       "    </tr>\n",
       "    <tr>\n",
       "      <th>6</th>\n",
       "      <td>2016-07-01</td>\n",
       "      <td>46</td>\n",
       "      <td>31</td>\n",
       "      <td>38.5</td>\n",
       "      <td>0.0</td>\n",
       "      <td>0.0</td>\n",
       "      <td>0.0</td>\n",
       "      <td>183</td>\n",
       "    </tr>\n",
       "    <tr>\n",
       "      <th>7</th>\n",
       "      <td>2016-08-01</td>\n",
       "      <td>46</td>\n",
       "      <td>31</td>\n",
       "      <td>38.5</td>\n",
       "      <td>0.0</td>\n",
       "      <td>0.0</td>\n",
       "      <td>0.0</td>\n",
       "      <td>214</td>\n",
       "    </tr>\n",
       "    <tr>\n",
       "      <th>8</th>\n",
       "      <td>2016-09-01</td>\n",
       "      <td>47</td>\n",
       "      <td>40</td>\n",
       "      <td>43.5</td>\n",
       "      <td>0.0</td>\n",
       "      <td>0.0</td>\n",
       "      <td>0.0</td>\n",
       "      <td>245</td>\n",
       "    </tr>\n",
       "    <tr>\n",
       "      <th>9</th>\n",
       "      <td>2016-10-01</td>\n",
       "      <td>59</td>\n",
       "      <td>40</td>\n",
       "      <td>49.5</td>\n",
       "      <td>1.8</td>\n",
       "      <td>0.0</td>\n",
       "      <td>0.0</td>\n",
       "      <td>275</td>\n",
       "    </tr>\n",
       "  </tbody>\n",
       "</table>\n",
       "</div>"
      ]
     },
     "execution_count": 76,
     "metadata": {},
     "output_type": "execute_result"
    }
   ],
   "source": [
    "from ggplot import *\n",
    "import matplotlib.pyplot as plt\n",
    "%matplotlib inline\n",
    "\n",
    "weather.date = pd.to_datetime(weather.date)\n",
    "weather['day_of_year']= weather.date.dt.dayofyear\n",
    "\n",
    "weather['precipitation'].unique() #unique(): Returns the sorted unique elements of an array. \n",
    "\n",
    "weather['precipitation'] = np.where(weather['precipitation']=='T', '0.00',weather['precipitation'])\n",
    "weather['precipitation'] = list(map(float, weather['precipitation'])) \n",
    "# map() function applies a given function to each item of an iterable (list, tuple etc.) and returns a list of the results.\n",
    "# so if you want a new list and not just something to iterate over, you either need list(map(float, mylist)\n",
    "\n",
    "weather['snow fall'] = np.where(weather['snow fall']=='T', '0.00',weather['snow fall'])\n",
    "weather['snow fall'] = list(map(float, weather['snow fall']))\n",
    "\n",
    "weather['snow depth'] = np.where(weather['snow depth']=='T', '0.00',weather['snow depth'])\n",
    "weather['snow depth'] = list(map(float, weather['snow depth']))\n",
    "\n",
    "weather.head(10)"
   ]
  },
  {
   "cell_type": "markdown",
   "metadata": {},
   "source": [
    "## Step 26.3:Define function to create dummy for turn type"
   ]
  },
  {
   "cell_type": "code",
   "execution_count": 77,
   "metadata": {},
   "outputs": [],
   "source": [
    "def freq_turn(step_dir):\n",
    "    from collections import Counter\n",
    "    \n",
    "    step_dir_new = step_dir.split(\"|\")\n",
    "    a_list = Counter(step_dir_new).most_common()\n",
    "    path = {}\n",
    "    for i in range(len(a_list)):\n",
    "        path.update({a_list[i]})\n",
    "        \n",
    "    a = 0\n",
    "    b = 0\n",
    "    c = 0\n",
    "    \n",
    "    if 'straight' in (path.keys()):\n",
    "        a = path['straight']\n",
    "        #print(a)\n",
    "    if 'left' in (path.keys()):\n",
    "        b = path['left']\n",
    "        #print(b)\n",
    "    if 'right' in (path.keys()):\n",
    "        c = path['right']\n",
    "        #print(c)\n",
    "    return a,b,c\n"
   ]
  },
  {
   "cell_type": "code",
   "execution_count": 78,
   "metadata": {},
   "outputs": [
    {
     "name": "stdout",
     "output_type": "stream",
     "text": [
      "Time Taken by above cell is 30.11122155189514."
     ]
    },
    {
     "name": "stdout",
     "output_type": "stream",
     "text": [
      "\n"
     ]
    }
   ],
   "source": [
    "start = time.time()\n",
    "train_fr['straight']= 0\n",
    "train_fr['left'] =0\n",
    "train_fr['right'] = 0\n",
    "train_fr['straight'], train_fr['left'], train_fr['right'] = zip(*train_fr['step_direction'].map(freq_turn))\n",
    "#The zip() function take iterables (can be zero or more), \n",
    "# makes iterator that aggregates elements based on the iterables passed, and returns an iterator of tuples.\n",
    "end = time.time()\n",
    "print(\"Time Taken by above cell is {}.\".format(end - start))"
   ]
  },
  {
   "cell_type": "markdown",
   "metadata": {},
   "source": [
    "## Step 26.3: Merge direction information to data."
   ]
  },
  {
   "cell_type": "code",
   "execution_count": 79,
   "metadata": {},
   "outputs": [
    {
     "name": "stdout",
     "output_type": "stream",
     "text": [
      "47"
     ]
    },
    {
     "name": "stdout",
     "output_type": "stream",
     "text": [
      "\n"
     ]
    }
   ],
   "source": [
    "train_fr_new = train_fr[['id','straight','left','right']]\n",
    "train = pd.merge(train, train_fr_new, on = 'id', how = 'left')\n",
    "#train = pd.merge(train, weather, on= 'date', how = 'left')\n",
    "print(len(train.columns))"
   ]
  },
  {
   "cell_type": "markdown",
   "metadata": {},
   "source": [
    "# Step 27: Predict traffic with weather data."
   ]
  },
  {
   "cell_type": "markdown",
   "metadata": {},
   "source": [
    "## Step 27.1: Merge weather data, and add centroid information."
   ]
  },
  {
   "cell_type": "code",
   "execution_count": 80,
   "metadata": {},
   "outputs": [
    {
     "data": {
      "text/plain": [
       "1458644"
      ]
     },
     "execution_count": 80,
     "metadata": {},
     "output_type": "execute_result"
    }
   ],
   "source": [
    "train['pickup_datetime'] = pd.to_datetime(train['pickup_datetime'])\n",
    "train['date'] = train['pickup_datetime'].dt.date\n",
    "train.head()\n",
    "\n",
    "train['date'] = pd.to_datetime(train['date'])\n",
    "train = pd.merge(train, weather[['date','minimum temperature', 'precipitation', 'snow fall', 'snow depth']], on= 'date', how = 'left')\n",
    "train.shape[0]"
   ]
  },
  {
   "cell_type": "code",
   "execution_count": 81,
   "metadata": {},
   "outputs": [
    {
     "name": "stdout",
     "output_type": "stream",
     "text": [
      "shape of train_features is 54."
     ]
    },
    {
     "name": "stdout",
     "output_type": "stream",
     "text": [
      "\n"
     ]
    }
   ],
   "source": [
    "train.loc[:,'hvsine_pick_cent_d'] = haversine_(train['pickup_latitude'].values, \n",
    "                                               train['pickup_longitude'].values, \n",
    "                                               train['centroid_drop_lat'].values, \n",
    "                                               train['centroid_drop_long'].values)\n",
    "train.loc[:,'hvsine_drop_cent_p'] = haversine_(train['dropoff_latitude'].values, \n",
    "                                               train['dropoff_longitude'].values, \n",
    "                                               train['centroid_pick_lat'].values, \n",
    "                                               train['centroid_pick_long'].values)\n",
    "\n",
    "test.loc[:,'hvsine_pick_cent_d'] = haversine_(test['pickup_latitude'].values, \n",
    "                                              test['pickup_longitude'].values, \n",
    "                                              test['centroid_drop_lat'].values, \n",
    "                                              test['centroid_drop_long'].values)\n",
    "test.loc[:,'hvsine_drop_cent_p'] = haversine_(test['dropoff_latitude'].values, \n",
    "                                              test['dropoff_longitude'].values, \n",
    "                                              test['centroid_pick_lat'].values, \n",
    "                                              test['centroid_pick_long'].values)\n",
    "\n",
    "print(\"shape of train_features is {}.\".format(len(train.columns)))"
   ]
  },
  {
   "cell_type": "markdown",
   "metadata": {},
   "source": [
    "## Step 27.2: Plot and analyze how these new features behave"
   ]
  },
  {
   "cell_type": "markdown",
   "metadata": {},
   "source": [
    "## Scatter Plot: https://plot.ly/python/user-guide/"
   ]
  },
  {
   "cell_type": "markdown",
   "metadata": {},
   "source": [
    "## Finding: Check how these distances are getting compared to that of total distance from OSRM by hovering over above plot."
   ]
  },
  {
   "cell_type": "code",
   "execution_count": 82,
   "metadata": {},
   "outputs": [
    {
     "data": {
      "text/plain": [
       "<matplotlib.axes._subplots.AxesSubplot at 0x165ea96f1d0>"
      ]
     },
     "execution_count": 82,
     "metadata": {},
     "output_type": "execute_result"
    },
    {
     "data": {
      "image/png": "[encoded data removed]",
      "text/plain": [
       "<matplotlib.figure.Figure at 0x165ea96f2e8>"
      ]
     },
     "metadata": {},
     "output_type": "display_data"
    }
   ],
   "source": [
    "%matplotlib inline\n",
    "\n",
    "sns.set(style=\"white\")\n",
    "\n",
    "# Generate a large random dataset\n",
    "temp3 = train.copy()\n",
    "\n",
    "# Compute the correlation matrix\n",
    "corr = temp3.corr()\n",
    "\n",
    "# for the upper triangle: Generate a mask \n",
    "mask = np.zeros_like(corr, dtype=np.bool)\n",
    "mask[np.triu_indices_from(mask)] = True\n",
    "\n",
    "# Set up the matplotlib figure\n",
    "f, ax = plt.subplots(figsize=(15, 13))\n",
    "\n",
    "# Generate a custom diverging colormap\n",
    "cmap = sns.diverging_palette(220, 10, as_cmap=True)\n",
    "\n",
    "# Draw the heatmap with the mask and correct aspect ratio\n",
    "sns.heatmap(corr, mask=mask, cmap=cmap, vmax=.3, center=0,\n",
    "            square=True, linewidths=.5, cbar_kws={\"shrink\": .5})"
   ]
  },
  {
   "cell_type": "markdown",
   "metadata": {},
   "source": [
    "## Findings:\n",
    "## 1. Pick_month, week_of_year, day_of_year etc are of very less importance and are not at all related to other variables.\n",
    "## 2. Positive correlation & negative correlation\n",
    "## 3. OSRM variables are very important => correlation is as high as 0.8"
   ]
  },
  {
   "cell_type": "markdown",
   "metadata": {},
   "source": [
    "## 2.1 Positive Correlation:\n",
    "## drop_longitude & pickup_longitude 0.8\n",
    "## dropoff_latitude & pickup_latitude 0.65\n",
    "## centroid_pick_long & pickup_latitude 0.9\n",
    "## centroid_pick_lat & pickup_latitude 0.8\n",
    "\n",
    "## 2.2 Negative Correlation:\n",
    "## pickup_pca0 & pickup_longitude -0.8"
   ]
  },
  {
   "cell_type": "markdown",
   "metadata": {},
   "source": [
    "# Sentiment Analysis"
   ]
  },
  {
   "cell_type": "code",
   "execution_count": 95,
   "metadata": {},
   "outputs": [],
   "source": [
    "#Import the necessary methods from tweepy library\n",
    "import tweepy\n",
    "from tweepy import Stream\n",
    "from tweepy import OAuthHandler\n",
    "from tweepy.streaming import StreamListener\n",
    "import time\n",
    "from snownlp import SnowNLP\n",
    "\n",
    "# General:\n",
    "import tweepy           # To consume Twitter's API\n",
    "import pandas as pd     # To handle data\n",
    "import numpy as np      # For number computing\n",
    "\n",
    "# For plotting and visualization:\n",
    "from IPython.display import display\n",
    "import matplotlib.pyplot as plt\n",
    "import seaborn as sns\n",
    "from textblob import TextBlob\n",
    "import re\n",
    "\n",
    "%matplotlib inline\n",
    "\n",
    "#Variables that contain the user credentials to access Twitter API\n",
    "#(Note: replace with own values from https://apps.twitter.com/)\n",
    "CONSUMER_KEY='8CfHbmkzWMADgHLiZ8vpYnX5p'\n",
    "CONSUMER_SECRET ='QyqVrq5z4ZBRmGSMSMf43nt4KommzH7qrGal43HW7rjSVwvsHh'\n",
    "\n",
    "ACCESS_TOKEN='1639307029-iWG3oEUZwJoBiLwrTsHxspl7YGlGRj1PhGIYk7Y'\n",
    "ACCESS_SECRET='P3ulSrZk99gcYRMvlLYve89u9JNG10KUr0fX8bZW43FSO'\n",
    "\n"
   ]
  },
  {
   "cell_type": "markdown",
   "metadata": {},
   "source": [
    "## Check the key from: https://apps.twitter.com/app/14971757/show"
   ]
  },
  {
   "cell_type": "code",
   "execution_count": 96,
   "metadata": {},
   "outputs": [],
   "source": [
    "# We import our access keys:\n",
    "from credentials import *    # This will allow us to use the keys as variables\n",
    "\n",
    "# API's setup:\n",
    "def twitter_setup():\n",
    "    \"\"\"\n",
    "    Utility function to setup the Twitter's API\n",
    "    with our access keys provided.\n",
    "    \"\"\"\n",
    "    # Authentication and access using keys:\n",
    "    auth = tweepy.OAuthHandler(CONSUMER_KEY, CONSUMER_SECRET)\n",
    "    auth.set_access_token(ACCESS_TOKEN, ACCESS_SECRET)\n",
    "\n",
    "    # Return API with authentication:\n",
    "    api = tweepy.API(auth)\n",
    "    return api"
   ]
  },
  {
   "cell_type": "code",
   "execution_count": 97,
   "metadata": {},
   "outputs": [],
   "source": [
    "def searchKeyword(keyword):\n",
    "    tweets = api.search(keyword)\n",
    "    return tweets\n",
    "\n",
    "def createDataFrame(tweets):\n",
    "    data = pd.DataFrame(data=[tweet.text for tweet in tweets], columns=['Tweets'])\n",
    "    return data\n",
    "\n",
    "def getTweetObject(tweets): ## Internal methods of a single tweet object:\n",
    "    print(dir(tweets[0])) ### The interesting part from here is the quantity of metadata contained in a single tweet. If we want to obtain data such as the creation date, or the source of creation, we can access the info with this attributes.\n",
    "\n",
    "def AddDataFeature(data, tweets):\n",
    "    # We add relevant data:## we well just add some data to our dataframe. \n",
    "    # For this we will use Pythons list comprehension and a new column will be added to the dataframe \n",
    "    # by just simply adding the name of the content between square brackets and assign the content.\n",
    "    data['len']  = np.array([len(tweet.text) for tweet in tweets])\n",
    "    data['ID']   = np.array([tweet.id for tweet in tweets])\n",
    "    data['Date'] = np.array([tweet.created_at for tweet in tweets])\n",
    "    data['Source'] = np.array([tweet.source for tweet in tweets])\n",
    "    data['Likes']  = np.array([tweet.favorite_count for tweet in tweets])\n",
    "    data['RTs']    = np.array([tweet.retweet_count for tweet in tweets])\n",
    "    return data\n",
    "    \n",
    "def clean_tweet(tweet):\n",
    "    '''\n",
    "    Utility function to clean the text in a tweet by removing \n",
    "    links and special characters using regex.\n",
    "    '''\n",
    "    return ' '.join(re.sub(\"(@[A-Za-z0-9]+)|([^0-9A-Za-z \\t])|(\\w+:\\/\\/\\S+)\", \" \", tweet).split())\n",
    "\n",
    "def analize_sentiment(tweet):\n",
    "    '''\n",
    "    Utility function to classify the polarity of a tweet\n",
    "    using textblob.\n",
    "    '''\n",
    "    analysis = TextBlob(clean_tweet(tweet))\n",
    "    if analysis.sentiment.polarity > 0:\n",
    "        return 1\n",
    "    elif analysis.sentiment.polarity == 0:\n",
    "        return 0\n",
    "    else:\n",
    "        return -1\n",
    "    \n",
    "def analize_sentiment_CHN(tweet):\n",
    "\n",
    "    analysis = SnowNLP(clean_tweet(tweet))\n",
    "    if analysis.sentiments.polarity > 0:\n",
    "        return 1\n",
    "    elif analysis.sentiments.polarity == 0:\n",
    "        return 0\n",
    "    else:\n",
    "        return -1\n",
    "    \n",
    "def addSentimentFeature(data):\n",
    "    # We create a column with the result of the analysis:\n",
    "    data['SA'] = np.array([ analize_sentiment(tweet) for tweet in data['Tweets'] ])\n",
    "    return data\n",
    "\n",
    "def addSentimentFeature_CHN(data):\n",
    "    # We create a column with the result of the analysis:\n",
    "    data['SA'] = np.array([ analize_sentiment_CHN(tweet) for tweet in data['Tweets'] ])\n",
    "    return data\n",
    "    \n",
    "def classifyTweets(data):\n",
    "    # We construct lists with classified tweets:\n",
    "    pos_tweets = [ tweet for index, tweet in enumerate(data['Tweets']) if data['SA'][index] > 0]\n",
    "    neu_tweets = [ tweet for index, tweet in enumerate(data['Tweets']) if data['SA'][index] == 0]\n",
    "    neg_tweets = [ tweet for index, tweet in enumerate(data['Tweets']) if data['SA'][index] < 0]\n",
    "    return pos_tweets, neu_tweets, neg_tweets\n",
    "\n"
   ]
  },
  {
   "cell_type": "code",
   "execution_count": 98,
   "metadata": {},
   "outputs": [
    {
     "name": "stdout",
     "output_type": "stream",
     "text": [
      "Number of New York traffic tweets extracted: 15.\n"
     ]
    },
    {
     "name": "stdout",
     "output_type": "stream",
     "text": [
      "\n"
     ]
    },
    {
     "data": {
      "text/html": [
       "<div>\n",
       "<style>\n",
       "    .dataframe thead tr:only-child th {\n",
       "        text-align: right;\n",
       "    }\n",
       "\n",
       "    .dataframe thead th {\n",
       "        text-align: left;\n",
       "    }\n",
       "\n",
       "    .dataframe tbody tr th {\n",
       "        vertical-align: top;\n",
       "    }\n",
       "</style>\n",
       "<table border=\"1\" class=\"dataframe\">\n",
       "  <thead>\n",
       "    <tr style=\"text-align: right;\">\n",
       "      <th></th>\n",
       "      <th>Tweets</th>\n",
       "    </tr>\n",
       "  </thead>\n",
       "  <tbody>\n",
       "    <tr>\n",
       "      <th>0</th>\n",
       "      <td>RT @schlthss: Two stats in America that have n...</td>\n",
       "    </tr>\n",
       "    <tr>\n",
       "      <th>1</th>\n",
       "      <td>RT @gatewaypundit: 5.) Exhibit 5 Western Journ...</td>\n",
       "    </tr>\n",
       "    <tr>\n",
       "      <th>2</th>\n",
       "      <td>RT @gatewaypundit: 5.) Exhibit 5 Western Journ...</td>\n",
       "    </tr>\n",
       "    <tr>\n",
       "      <th>3</th>\n",
       "      <td>RT @gatewaypundit: 5.) Exhibit 5 Western Journ...</td>\n",
       "    </tr>\n",
       "    <tr>\n",
       "      <th>4</th>\n",
       "      <td>RT @gatewaypundit: 5.) Exhibit 5 Western Journ...</td>\n",
       "    </tr>\n",
       "    <tr>\n",
       "      <th>5</th>\n",
       "      <td>RT @gatewaypundit: 5.) Exhibit 5 Western Journ...</td>\n",
       "    </tr>\n",
       "    <tr>\n",
       "      <th>6</th>\n",
       "      <td>@UnstableJessica “20 minutes away...great...fu...</td>\n",
       "    </tr>\n",
       "    <tr>\n",
       "      <th>7</th>\n",
       "      <td>RT @sarahkendzior: Dennis Shields, the residen...</td>\n",
       "    </tr>\n",
       "    <tr>\n",
       "      <th>8</th>\n",
       "      <td>RT @gatewaypundit: 5.) Exhibit 5 Western Journ...</td>\n",
       "    </tr>\n",
       "    <tr>\n",
       "      <th>9</th>\n",
       "      <td>RT @gatewaypundit: 5.) Exhibit 5 Western Journ...</td>\n",
       "    </tr>\n",
       "  </tbody>\n",
       "</table>\n",
       "</div>"
      ],
      "text/plain": [
       "<div>\n",
       "<style>\n",
       "    .dataframe thead tr:only-child th {\n",
       "        text-align: right;\n",
       "    }\n",
       "\n",
       "    .dataframe thead th {\n",
       "        text-align: left;\n",
       "    }\n",
       "\n",
       "    .dataframe tbody tr th {\n",
       "        vertical-align: top;\n",
       "    }\n",
       "</style>\n",
       "<table border=\"1\" class=\"dataframe\">\n",
       "  <thead>\n",
       "    <tr style=\"text-align: right;\">\n",
       "      <th></th>\n",
       "      <th>Tweets</th>\n",
       "    </tr>\n",
       "  </thead>\n",
       "  <tbody>\n",
       "    <tr>\n",
       "      <th>0</th>\n",
       "      <td>RT @schlthss: Two stats in America that have n...</td>\n",
       "    </tr>\n",
       "    <tr>\n",
       "      <th>1</th>\n",
       "      <td>RT @gatewaypundit: 5.) Exhibit 5 Western Journ...</td>\n",
       "    </tr>\n",
       "    <tr>\n",
       "      <th>2</th>\n",
       "      <td>RT @gatewaypundit: 5.) Exhibit 5 Western Journ...</td>\n",
       "    </tr>\n",
       "    <tr>\n",
       "      <th>3</th>\n",
       "      <td>RT @gatewaypundit: 5.) Exhibit 5 Western Journ...</td>\n",
       "    </tr>\n",
       "    <tr>\n",
       "      <th>4</th>\n",
       "      <td>RT @gatewaypundit: 5.) Exhibit 5 Western Journ...</td>\n",
       "    </tr>\n",
       "    <tr>\n",
       "      <th>5</th>\n",
       "      <td>RT @gatewaypundit: 5.) Exhibit 5 Western Journ...</td>\n",
       "    </tr>\n",
       "    <tr>\n",
       "      <th>6</th>\n",
       "      <td>@UnstableJessica “20 minutes away...great...fu...</td>\n",
       "    </tr>\n",
       "    <tr>\n",
       "      <th>7</th>\n",
       "      <td>RT @sarahkendzior: Dennis Shields, the residen...</td>\n",
       "    </tr>\n",
       "    <tr>\n",
       "      <th>8</th>\n",
       "      <td>RT @gatewaypundit: 5.) Exhibit 5 Western Journ...</td>\n",
       "    </tr>\n",
       "    <tr>\n",
       "      <th>9</th>\n",
       "      <td>RT @gatewaypundit: 5.) Exhibit 5 Western Journ...</td>\n",
       "    </tr>\n",
       "  </tbody>\n",
       "</table>\n",
       "</div>"
      ]
     },
     "execution_count": 0,
     "metadata": {},
     "output_type": "execute_result"
    },
    {
     "name": "stdout",
     "output_type": "stream",
     "text": [
      "After adding features:\n"
     ]
    },
    {
     "name": "stdout",
     "output_type": "stream",
     "text": [
      "\n"
     ]
    },
    {
     "data": {
      "text/html": [
       "<div>\n",
       "<style>\n",
       "    .dataframe thead tr:only-child th {\n",
       "        text-align: right;\n",
       "    }\n",
       "\n",
       "    .dataframe thead th {\n",
       "        text-align: left;\n",
       "    }\n",
       "\n",
       "    .dataframe tbody tr th {\n",
       "        vertical-align: top;\n",
       "    }\n",
       "</style>\n",
       "<table border=\"1\" class=\"dataframe\">\n",
       "  <thead>\n",
       "    <tr style=\"text-align: right;\">\n",
       "      <th></th>\n",
       "      <th>Tweets</th>\n",
       "      <th>len</th>\n",
       "      <th>ID</th>\n",
       "      <th>Date</th>\n",
       "      <th>Source</th>\n",
       "      <th>Likes</th>\n",
       "      <th>RTs</th>\n",
       "    </tr>\n",
       "  </thead>\n",
       "  <tbody>\n",
       "    <tr>\n",
       "      <th>0</th>\n",
       "      <td>RT @schlthss: Two stats in America that have n...</td>\n",
       "      <td>148</td>\n",
       "      <td>984112078347743237</td>\n",
       "      <td>2018-04-11 16:52:58</td>\n",
       "      <td>Twitter for iPhone</td>\n",
       "      <td>0</td>\n",
       "      <td>19</td>\n",
       "    </tr>\n",
       "    <tr>\n",
       "      <th>1</th>\n",
       "      <td>RT @gatewaypundit: 5.) Exhibit 5 Western Journ...</td>\n",
       "      <td>140</td>\n",
       "      <td>984110674744827905</td>\n",
       "      <td>2018-04-11 16:47:23</td>\n",
       "      <td>Twitter Web Client</td>\n",
       "      <td>0</td>\n",
       "      <td>55</td>\n",
       "    </tr>\n",
       "    <tr>\n",
       "      <th>2</th>\n",
       "      <td>RT @gatewaypundit: 5.) Exhibit 5 Western Journ...</td>\n",
       "      <td>140</td>\n",
       "      <td>984110477604212736</td>\n",
       "      <td>2018-04-11 16:46:36</td>\n",
       "      <td>Twitter Web Client</td>\n",
       "      <td>0</td>\n",
       "      <td>55</td>\n",
       "    </tr>\n",
       "    <tr>\n",
       "      <th>3</th>\n",
       "      <td>RT @gatewaypundit: 5.) Exhibit 5 Western Journ...</td>\n",
       "      <td>140</td>\n",
       "      <td>984107888162598912</td>\n",
       "      <td>2018-04-11 16:36:19</td>\n",
       "      <td>Twitter Web Client</td>\n",
       "      <td>0</td>\n",
       "      <td>55</td>\n",
       "    </tr>\n",
       "    <tr>\n",
       "      <th>4</th>\n",
       "      <td>RT @gatewaypundit: 5.) Exhibit 5 Western Journ...</td>\n",
       "      <td>140</td>\n",
       "      <td>984107544594534400</td>\n",
       "      <td>2018-04-11 16:34:57</td>\n",
       "      <td>Twitter Web Client</td>\n",
       "      <td>0</td>\n",
       "      <td>55</td>\n",
       "    </tr>\n",
       "    <tr>\n",
       "      <th>5</th>\n",
       "      <td>RT @gatewaypundit: 5.) Exhibit 5 Western Journ...</td>\n",
       "      <td>140</td>\n",
       "      <td>984107064514498560</td>\n",
       "      <td>2018-04-11 16:33:02</td>\n",
       "      <td>Twitter for iPhone</td>\n",
       "      <td>0</td>\n",
       "      <td>55</td>\n",
       "    </tr>\n",
       "    <tr>\n",
       "      <th>6</th>\n",
       "      <td>@UnstableJessica “20 minutes away...great...fu...</td>\n",
       "      <td>89</td>\n",
       "      <td>984106950655819776</td>\n",
       "      <td>2018-04-11 16:32:35</td>\n",
       "      <td>Twitter for iPhone</td>\n",
       "      <td>0</td>\n",
       "      <td>0</td>\n",
       "    </tr>\n",
       "    <tr>\n",
       "      <th>7</th>\n",
       "      <td>RT @sarahkendzior: Dennis Shields, the residen...</td>\n",
       "      <td>140</td>\n",
       "      <td>984106473277009923</td>\n",
       "      <td>2018-04-11 16:30:41</td>\n",
       "      <td>Twitter for Android</td>\n",
       "      <td>0</td>\n",
       "      <td>288</td>\n",
       "    </tr>\n",
       "    <tr>\n",
       "      <th>8</th>\n",
       "      <td>RT @gatewaypundit: 5.) Exhibit 5 Western Journ...</td>\n",
       "      <td>140</td>\n",
       "      <td>984106009114365955</td>\n",
       "      <td>2018-04-11 16:28:51</td>\n",
       "      <td>Twitter Lite</td>\n",
       "      <td>0</td>\n",
       "      <td>55</td>\n",
       "    </tr>\n",
       "    <tr>\n",
       "      <th>9</th>\n",
       "      <td>RT @gatewaypundit: 5.) Exhibit 5 Western Journ...</td>\n",
       "      <td>140</td>\n",
       "      <td>984105727529807872</td>\n",
       "      <td>2018-04-11 16:27:43</td>\n",
       "      <td>Twitter for iPhone</td>\n",
       "      <td>0</td>\n",
       "      <td>55</td>\n",
       "    </tr>\n",
       "  </tbody>\n",
       "</table>\n",
       "</div>"
      ],
      "text/plain": [
       "<div>\n",
       "<style>\n",
       "    .dataframe thead tr:only-child th {\n",
       "        text-align: right;\n",
       "    }\n",
       "\n",
       "    .dataframe thead th {\n",
       "        text-align: left;\n",
       "    }\n",
       "\n",
       "    .dataframe tbody tr th {\n",
       "        vertical-align: top;\n",
       "    }\n",
       "</style>\n",
       "<table border=\"1\" class=\"dataframe\">\n",
       "  <thead>\n",
       "    <tr style=\"text-align: right;\">\n",
       "      <th></th>\n",
       "      <th>Tweets</th>\n",
       "      <th>len</th>\n",
       "      <th>ID</th>\n",
       "      <th>Date</th>\n",
       "      <th>Source</th>\n",
       "      <th>Likes</th>\n",
       "      <th>RTs</th>\n",
       "    </tr>\n",
       "  </thead>\n",
       "  <tbody>\n",
       "    <tr>\n",
       "      <th>0</th>\n",
       "      <td>RT @schlthss: Two stats in America that have n...</td>\n",
       "      <td>148</td>\n",
       "      <td>984112078347743237</td>\n",
       "      <td>2018-04-11 16:52:58</td>\n",
       "      <td>Twitter for iPhone</td>\n",
       "      <td>0</td>\n",
       "      <td>19</td>\n",
       "    </tr>\n",
       "    <tr>\n",
       "      <th>1</th>\n",
       "      <td>RT @gatewaypundit: 5.) Exhibit 5 Western Journ...</td>\n",
       "      <td>140</td>\n",
       "      <td>984110674744827905</td>\n",
       "      <td>2018-04-11 16:47:23</td>\n",
       "      <td>Twitter Web Client</td>\n",
       "      <td>0</td>\n",
       "      <td>55</td>\n",
       "    </tr>\n",
       "    <tr>\n",
       "      <th>2</th>\n",
       "      <td>RT @gatewaypundit: 5.) Exhibit 5 Western Journ...</td>\n",
       "      <td>140</td>\n",
       "      <td>984110477604212736</td>\n",
       "      <td>2018-04-11 16:46:36</td>\n",
       "      <td>Twitter Web Client</td>\n",
       "      <td>0</td>\n",
       "      <td>55</td>\n",
       "    </tr>\n",
       "    <tr>\n",
       "      <th>3</th>\n",
       "      <td>RT @gatewaypundit: 5.) Exhibit 5 Western Journ...</td>\n",
       "      <td>140</td>\n",
       "      <td>984107888162598912</td>\n",
       "      <td>2018-04-11 16:36:19</td>\n",
       "      <td>Twitter Web Client</td>\n",
       "      <td>0</td>\n",
       "      <td>55</td>\n",
       "    </tr>\n",
       "    <tr>\n",
       "      <th>4</th>\n",
       "      <td>RT @gatewaypundit: 5.) Exhibit 5 Western Journ...</td>\n",
       "      <td>140</td>\n",
       "      <td>984107544594534400</td>\n",
       "      <td>2018-04-11 16:34:57</td>\n",
       "      <td>Twitter Web Client</td>\n",
       "      <td>0</td>\n",
       "      <td>55</td>\n",
       "    </tr>\n",
       "    <tr>\n",
       "      <th>5</th>\n",
       "      <td>RT @gatewaypundit: 5.) Exhibit 5 Western Journ...</td>\n",
       "      <td>140</td>\n",
       "      <td>984107064514498560</td>\n",
       "      <td>2018-04-11 16:33:02</td>\n",
       "      <td>Twitter for iPhone</td>\n",
       "      <td>0</td>\n",
       "      <td>55</td>\n",
       "    </tr>\n",
       "    <tr>\n",
       "      <th>6</th>\n",
       "      <td>@UnstableJessica “20 minutes away...great...fu...</td>\n",
       "      <td>89</td>\n",
       "      <td>984106950655819776</td>\n",
       "      <td>2018-04-11 16:32:35</td>\n",
       "      <td>Twitter for iPhone</td>\n",
       "      <td>0</td>\n",
       "      <td>0</td>\n",
       "    </tr>\n",
       "    <tr>\n",
       "      <th>7</th>\n",
       "      <td>RT @sarahkendzior: Dennis Shields, the residen...</td>\n",
       "      <td>140</td>\n",
       "      <td>984106473277009923</td>\n",
       "      <td>2018-04-11 16:30:41</td>\n",
       "      <td>Twitter for Android</td>\n",
       "      <td>0</td>\n",
       "      <td>288</td>\n",
       "    </tr>\n",
       "    <tr>\n",
       "      <th>8</th>\n",
       "      <td>RT @gatewaypundit: 5.) Exhibit 5 Western Journ...</td>\n",
       "      <td>140</td>\n",
       "      <td>984106009114365955</td>\n",
       "      <td>2018-04-11 16:28:51</td>\n",
       "      <td>Twitter Lite</td>\n",
       "      <td>0</td>\n",
       "      <td>55</td>\n",
       "    </tr>\n",
       "    <tr>\n",
       "      <th>9</th>\n",
       "      <td>RT @gatewaypundit: 5.) Exhibit 5 Western Journ...</td>\n",
       "      <td>140</td>\n",
       "      <td>984105727529807872</td>\n",
       "      <td>2018-04-11 16:27:43</td>\n",
       "      <td>Twitter for iPhone</td>\n",
       "      <td>0</td>\n",
       "      <td>55</td>\n",
       "    </tr>\n",
       "  </tbody>\n",
       "</table>\n",
       "</div>"
      ]
     },
     "execution_count": 0,
     "metadata": {},
     "output_type": "execute_result"
    },
    {
     "name": "stdout",
     "output_type": "stream",
     "text": [
      "After adding Sentiment Features:\n"
     ]
    },
    {
     "name": "stdout",
     "output_type": "stream",
     "text": [
      "\n"
     ]
    },
    {
     "data": {
      "text/html": [
       "<div>\n",
       "<style>\n",
       "    .dataframe thead tr:only-child th {\n",
       "        text-align: right;\n",
       "    }\n",
       "\n",
       "    .dataframe thead th {\n",
       "        text-align: left;\n",
       "    }\n",
       "\n",
       "    .dataframe tbody tr th {\n",
       "        vertical-align: top;\n",
       "    }\n",
       "</style>\n",
       "<table border=\"1\" class=\"dataframe\">\n",
       "  <thead>\n",
       "    <tr style=\"text-align: right;\">\n",
       "      <th></th>\n",
       "      <th>Tweets</th>\n",
       "      <th>len</th>\n",
       "      <th>ID</th>\n",
       "      <th>Date</th>\n",
       "      <th>Source</th>\n",
       "      <th>Likes</th>\n",
       "      <th>RTs</th>\n",
       "      <th>SA</th>\n",
       "    </tr>\n",
       "  </thead>\n",
       "  <tbody>\n",
       "    <tr>\n",
       "      <th>0</th>\n",
       "      <td>RT @schlthss: Two stats in America that have n...</td>\n",
       "      <td>148</td>\n",
       "      <td>984112078347743237</td>\n",
       "      <td>2018-04-11 16:52:58</td>\n",
       "      <td>Twitter for iPhone</td>\n",
       "      <td>0</td>\n",
       "      <td>19</td>\n",
       "      <td>1</td>\n",
       "    </tr>\n",
       "    <tr>\n",
       "      <th>1</th>\n",
       "      <td>RT @gatewaypundit: 5.) Exhibit 5 Western Journ...</td>\n",
       "      <td>140</td>\n",
       "      <td>984110674744827905</td>\n",
       "      <td>2018-04-11 16:47:23</td>\n",
       "      <td>Twitter Web Client</td>\n",
       "      <td>0</td>\n",
       "      <td>55</td>\n",
       "      <td>1</td>\n",
       "    </tr>\n",
       "    <tr>\n",
       "      <th>2</th>\n",
       "      <td>RT @gatewaypundit: 5.) Exhibit 5 Western Journ...</td>\n",
       "      <td>140</td>\n",
       "      <td>984110477604212736</td>\n",
       "      <td>2018-04-11 16:46:36</td>\n",
       "      <td>Twitter Web Client</td>\n",
       "      <td>0</td>\n",
       "      <td>55</td>\n",
       "      <td>1</td>\n",
       "    </tr>\n",
       "    <tr>\n",
       "      <th>3</th>\n",
       "      <td>RT @gatewaypundit: 5.) Exhibit 5 Western Journ...</td>\n",
       "      <td>140</td>\n",
       "      <td>984107888162598912</td>\n",
       "      <td>2018-04-11 16:36:19</td>\n",
       "      <td>Twitter Web Client</td>\n",
       "      <td>0</td>\n",
       "      <td>55</td>\n",
       "      <td>1</td>\n",
       "    </tr>\n",
       "    <tr>\n",
       "      <th>4</th>\n",
       "      <td>RT @gatewaypundit: 5.) Exhibit 5 Western Journ...</td>\n",
       "      <td>140</td>\n",
       "      <td>984107544594534400</td>\n",
       "      <td>2018-04-11 16:34:57</td>\n",
       "      <td>Twitter Web Client</td>\n",
       "      <td>0</td>\n",
       "      <td>55</td>\n",
       "      <td>1</td>\n",
       "    </tr>\n",
       "    <tr>\n",
       "      <th>5</th>\n",
       "      <td>RT @gatewaypundit: 5.) Exhibit 5 Western Journ...</td>\n",
       "      <td>140</td>\n",
       "      <td>984107064514498560</td>\n",
       "      <td>2018-04-11 16:33:02</td>\n",
       "      <td>Twitter for iPhone</td>\n",
       "      <td>0</td>\n",
       "      <td>55</td>\n",
       "      <td>1</td>\n",
       "    </tr>\n",
       "    <tr>\n",
       "      <th>6</th>\n",
       "      <td>@UnstableJessica “20 minutes away...great...fu...</td>\n",
       "      <td>89</td>\n",
       "      <td>984106950655819776</td>\n",
       "      <td>2018-04-11 16:32:35</td>\n",
       "      <td>Twitter for iPhone</td>\n",
       "      <td>0</td>\n",
       "      <td>0</td>\n",
       "      <td>1</td>\n",
       "    </tr>\n",
       "    <tr>\n",
       "      <th>7</th>\n",
       "      <td>RT @sarahkendzior: Dennis Shields, the residen...</td>\n",
       "      <td>140</td>\n",
       "      <td>984106473277009923</td>\n",
       "      <td>2018-04-11 16:30:41</td>\n",
       "      <td>Twitter for Android</td>\n",
       "      <td>0</td>\n",
       "      <td>288</td>\n",
       "      <td>0</td>\n",
       "    </tr>\n",
       "    <tr>\n",
       "      <th>8</th>\n",
       "      <td>RT @gatewaypundit: 5.) Exhibit 5 Western Journ...</td>\n",
       "      <td>140</td>\n",
       "      <td>984106009114365955</td>\n",
       "      <td>2018-04-11 16:28:51</td>\n",
       "      <td>Twitter Lite</td>\n",
       "      <td>0</td>\n",
       "      <td>55</td>\n",
       "      <td>1</td>\n",
       "    </tr>\n",
       "    <tr>\n",
       "      <th>9</th>\n",
       "      <td>RT @gatewaypundit: 5.) Exhibit 5 Western Journ...</td>\n",
       "      <td>140</td>\n",
       "      <td>984105727529807872</td>\n",
       "      <td>2018-04-11 16:27:43</td>\n",
       "      <td>Twitter for iPhone</td>\n",
       "      <td>0</td>\n",
       "      <td>55</td>\n",
       "      <td>1</td>\n",
       "    </tr>\n",
       "  </tbody>\n",
       "</table>\n",
       "</div>"
      ],
      "text/plain": [
       "<div>\n",
       "<style>\n",
       "    .dataframe thead tr:only-child th {\n",
       "        text-align: right;\n",
       "    }\n",
       "\n",
       "    .dataframe thead th {\n",
       "        text-align: left;\n",
       "    }\n",
       "\n",
       "    .dataframe tbody tr th {\n",
       "        vertical-align: top;\n",
       "    }\n",
       "</style>\n",
       "<table border=\"1\" class=\"dataframe\">\n",
       "  <thead>\n",
       "    <tr style=\"text-align: right;\">\n",
       "      <th></th>\n",
       "      <th>Tweets</th>\n",
       "      <th>len</th>\n",
       "      <th>ID</th>\n",
       "      <th>Date</th>\n",
       "      <th>Source</th>\n",
       "      <th>Likes</th>\n",
       "      <th>RTs</th>\n",
       "      <th>SA</th>\n",
       "    </tr>\n",
       "  </thead>\n",
       "  <tbody>\n",
       "    <tr>\n",
       "      <th>0</th>\n",
       "      <td>RT @schlthss: Two stats in America that have n...</td>\n",
       "      <td>148</td>\n",
       "      <td>984112078347743237</td>\n",
       "      <td>2018-04-11 16:52:58</td>\n",
       "      <td>Twitter for iPhone</td>\n",
       "      <td>0</td>\n",
       "      <td>19</td>\n",
       "      <td>1</td>\n",
       "    </tr>\n",
       "    <tr>\n",
       "      <th>1</th>\n",
       "      <td>RT @gatewaypundit: 5.) Exhibit 5 Western Journ...</td>\n",
       "      <td>140</td>\n",
       "      <td>984110674744827905</td>\n",
       "      <td>2018-04-11 16:47:23</td>\n",
       "      <td>Twitter Web Client</td>\n",
       "      <td>0</td>\n",
       "      <td>55</td>\n",
       "      <td>1</td>\n",
       "    </tr>\n",
       "    <tr>\n",
       "      <th>2</th>\n",
       "      <td>RT @gatewaypundit: 5.) Exhibit 5 Western Journ...</td>\n",
       "      <td>140</td>\n",
       "      <td>984110477604212736</td>\n",
       "      <td>2018-04-11 16:46:36</td>\n",
       "      <td>Twitter Web Client</td>\n",
       "      <td>0</td>\n",
       "      <td>55</td>\n",
       "      <td>1</td>\n",
       "    </tr>\n",
       "    <tr>\n",
       "      <th>3</th>\n",
       "      <td>RT @gatewaypundit: 5.) Exhibit 5 Western Journ...</td>\n",
       "      <td>140</td>\n",
       "      <td>984107888162598912</td>\n",
       "      <td>2018-04-11 16:36:19</td>\n",
       "      <td>Twitter Web Client</td>\n",
       "      <td>0</td>\n",
       "      <td>55</td>\n",
       "      <td>1</td>\n",
       "    </tr>\n",
       "    <tr>\n",
       "      <th>4</th>\n",
       "      <td>RT @gatewaypundit: 5.) Exhibit 5 Western Journ...</td>\n",
       "      <td>140</td>\n",
       "      <td>984107544594534400</td>\n",
       "      <td>2018-04-11 16:34:57</td>\n",
       "      <td>Twitter Web Client</td>\n",
       "      <td>0</td>\n",
       "      <td>55</td>\n",
       "      <td>1</td>\n",
       "    </tr>\n",
       "    <tr>\n",
       "      <th>5</th>\n",
       "      <td>RT @gatewaypundit: 5.) Exhibit 5 Western Journ...</td>\n",
       "      <td>140</td>\n",
       "      <td>984107064514498560</td>\n",
       "      <td>2018-04-11 16:33:02</td>\n",
       "      <td>Twitter for iPhone</td>\n",
       "      <td>0</td>\n",
       "      <td>55</td>\n",
       "      <td>1</td>\n",
       "    </tr>\n",
       "    <tr>\n",
       "      <th>6</th>\n",
       "      <td>@UnstableJessica “20 minutes away...great...fu...</td>\n",
       "      <td>89</td>\n",
       "      <td>984106950655819776</td>\n",
       "      <td>2018-04-11 16:32:35</td>\n",
       "      <td>Twitter for iPhone</td>\n",
       "      <td>0</td>\n",
       "      <td>0</td>\n",
       "      <td>1</td>\n",
       "    </tr>\n",
       "    <tr>\n",
       "      <th>7</th>\n",
       "      <td>RT @sarahkendzior: Dennis Shields, the residen...</td>\n",
       "      <td>140</td>\n",
       "      <td>984106473277009923</td>\n",
       "      <td>2018-04-11 16:30:41</td>\n",
       "      <td>Twitter for Android</td>\n",
       "      <td>0</td>\n",
       "      <td>288</td>\n",
       "      <td>0</td>\n",
       "    </tr>\n",
       "    <tr>\n",
       "      <th>8</th>\n",
       "      <td>RT @gatewaypundit: 5.) Exhibit 5 Western Journ...</td>\n",
       "      <td>140</td>\n",
       "      <td>984106009114365955</td>\n",
       "      <td>2018-04-11 16:28:51</td>\n",
       "      <td>Twitter Lite</td>\n",
       "      <td>0</td>\n",
       "      <td>55</td>\n",
       "      <td>1</td>\n",
       "    </tr>\n",
       "    <tr>\n",
       "      <th>9</th>\n",
       "      <td>RT @gatewaypundit: 5.) Exhibit 5 Western Journ...</td>\n",
       "      <td>140</td>\n",
       "      <td>984105727529807872</td>\n",
       "      <td>2018-04-11 16:27:43</td>\n",
       "      <td>Twitter for iPhone</td>\n",
       "      <td>0</td>\n",
       "      <td>55</td>\n",
       "      <td>1</td>\n",
       "    </tr>\n",
       "  </tbody>\n",
       "</table>\n",
       "</div>"
      ]
     },
     "execution_count": 0,
     "metadata": {},
     "output_type": "execute_result"
    },
    {
     "name": "stdout",
     "output_type": "stream",
     "text": [
      "Percentage of New York traffic positive tweets: 86.66666666666667%"
     ]
    },
    {
     "name": "stdout",
     "output_type": "stream",
     "text": [
      "\n"
     ]
    },
    {
     "name": "stdout",
     "output_type": "stream",
     "text": [
      "Percentage of New York traffic neutral tweets: 13.333333333333334%"
     ]
    },
    {
     "name": "stdout",
     "output_type": "stream",
     "text": [
      "\n"
     ]
    },
    {
     "name": "stdout",
     "output_type": "stream",
     "text": [
      "Percentage de New York traffic negative tweets: 0.0%"
     ]
    },
    {
     "name": "stdout",
     "output_type": "stream",
     "text": [
      "\n"
     ]
    }
   ],
   "source": [
    "# We create an extractor object:\n",
    "api = twitter_setup()\n",
    "\n",
    "keyword=\"New York traffic\"\n",
    "tweets=searchKeyword(keyword)\n",
    "dftweets=createDataFrame(tweets)\n",
    "\n",
    "print(\"Number of {} tweets extracted: {}.\\n\".format(keyword, len(tweets)))\n",
    "\n",
    "# We display the first 10 elements of the dataframe:\n",
    "display(dftweets.head(10))\n",
    "\n",
    "dftweets=AddDataFeature(dftweets, tweets)\n",
    "\n",
    "print(\"After adding features:\\n\")\n",
    "display(dftweets.head(10))\n",
    "\n",
    "dftweets=addSentimentFeature(dftweets)\n",
    "print(\"After adding Sentiment Features:\\n\")\n",
    "display(dftweets.head(10))\n",
    "\n",
    "pos_tweets, neu_tweets, neg_tweets=classifyTweets(dftweets)\n",
    "\n",
    "print(\"Percentage of {} positive tweets: {}%\".format(keyword, len(pos_tweets)*100/len(dftweets['Tweets'])))\n",
    "print(\"Percentage of {} neutral tweets: {}%\".format(keyword, len(neu_tweets)*100/len(dftweets['Tweets'])))\n",
    "print(\"Percentage de {} negative tweets: {}%\".format(keyword, len(neg_tweets)*100/len(dftweets['Tweets'])))"
   ]
  },
  {
   "cell_type": "code",
   "execution_count": 99,
   "metadata": {},
   "outputs": [
    {
     "name": "stdout",
     "output_type": "stream",
     "text": [
      "Number of New York weather tweets extracted: 15.\n"
     ]
    },
    {
     "name": "stdout",
     "output_type": "stream",
     "text": [
      "\n"
     ]
    },
    {
     "data": {
      "text/html": [
       "<div>\n",
       "<style>\n",
       "    .dataframe thead tr:only-child th {\n",
       "        text-align: right;\n",
       "    }\n",
       "\n",
       "    .dataframe thead th {\n",
       "        text-align: left;\n",
       "    }\n",
       "\n",
       "    .dataframe tbody tr th {\n",
       "        vertical-align: top;\n",
       "    }\n",
       "</style>\n",
       "<table border=\"1\" class=\"dataframe\">\n",
       "  <thead>\n",
       "    <tr style=\"text-align: right;\">\n",
       "      <th></th>\n",
       "      <th>Tweets</th>\n",
       "    </tr>\n",
       "  </thead>\n",
       "  <tbody>\n",
       "    <tr>\n",
       "      <th>0</th>\n",
       "      <td>RT @EnjoyNature: Cherry Blossom and Spring Mor...</td>\n",
       "    </tr>\n",
       "    <tr>\n",
       "      <th>1</th>\n",
       "      <td>New York weather as of 05:01 PM: 47.59 F</td>\n",
       "    </tr>\n",
       "    <tr>\n",
       "      <th>2</th>\n",
       "      <td>Sexy, seductive, sophisticated... all aptly de...</td>\n",
       "    </tr>\n",
       "    <tr>\n",
       "      <th>3</th>\n",
       "      <td>current weather in New York: broken clouds, 47...</td>\n",
       "    </tr>\n",
       "    <tr>\n",
       "      <th>4</th>\n",
       "      <td>@LanceBass Thanks for the reminder, Lance. It'...</td>\n",
       "    </tr>\n",
       "    <tr>\n",
       "      <th>5</th>\n",
       "      <td>The knowledge is in your joints. By @Ali_Lev #...</td>\n",
       "    </tr>\n",
       "    <tr>\n",
       "      <th>6</th>\n",
       "      <td>Just waiting for the weather to be valid in Ne...</td>\n",
       "    </tr>\n",
       "    <tr>\n",
       "      <th>7</th>\n",
       "      <td>RT @accuweather: AccuFan Weather Photo of the ...</td>\n",
       "    </tr>\n",
       "    <tr>\n",
       "      <th>8</th>\n",
       "      <td>@KAliceCompeau It's only 44° in New York, but ...</td>\n",
       "    </tr>\n",
       "    <tr>\n",
       "      <th>9</th>\n",
       "      <td>New York weather as of 04:31 PM: 47.23 F</td>\n",
       "    </tr>\n",
       "  </tbody>\n",
       "</table>\n",
       "</div>"
      ],
      "text/plain": [
       "<div>\n",
       "<style>\n",
       "    .dataframe thead tr:only-child th {\n",
       "        text-align: right;\n",
       "    }\n",
       "\n",
       "    .dataframe thead th {\n",
       "        text-align: left;\n",
       "    }\n",
       "\n",
       "    .dataframe tbody tr th {\n",
       "        vertical-align: top;\n",
       "    }\n",
       "</style>\n",
       "<table border=\"1\" class=\"dataframe\">\n",
       "  <thead>\n",
       "    <tr style=\"text-align: right;\">\n",
       "      <th></th>\n",
       "      <th>Tweets</th>\n",
       "    </tr>\n",
       "  </thead>\n",
       "  <tbody>\n",
       "    <tr>\n",
       "      <th>0</th>\n",
       "      <td>RT @EnjoyNature: Cherry Blossom and Spring Mor...</td>\n",
       "    </tr>\n",
       "    <tr>\n",
       "      <th>1</th>\n",
       "      <td>New York weather as of 05:01 PM: 47.59 F</td>\n",
       "    </tr>\n",
       "    <tr>\n",
       "      <th>2</th>\n",
       "      <td>Sexy, seductive, sophisticated... all aptly de...</td>\n",
       "    </tr>\n",
       "    <tr>\n",
       "      <th>3</th>\n",
       "      <td>current weather in New York: broken clouds, 47...</td>\n",
       "    </tr>\n",
       "    <tr>\n",
       "      <th>4</th>\n",
       "      <td>@LanceBass Thanks for the reminder, Lance. It'...</td>\n",
       "    </tr>\n",
       "    <tr>\n",
       "      <th>5</th>\n",
       "      <td>The knowledge is in your joints. By @Ali_Lev #...</td>\n",
       "    </tr>\n",
       "    <tr>\n",
       "      <th>6</th>\n",
       "      <td>Just waiting for the weather to be valid in Ne...</td>\n",
       "    </tr>\n",
       "    <tr>\n",
       "      <th>7</th>\n",
       "      <td>RT @accuweather: AccuFan Weather Photo of the ...</td>\n",
       "    </tr>\n",
       "    <tr>\n",
       "      <th>8</th>\n",
       "      <td>@KAliceCompeau It's only 44° in New York, but ...</td>\n",
       "    </tr>\n",
       "    <tr>\n",
       "      <th>9</th>\n",
       "      <td>New York weather as of 04:31 PM: 47.23 F</td>\n",
       "    </tr>\n",
       "  </tbody>\n",
       "</table>\n",
       "</div>"
      ]
     },
     "execution_count": 0,
     "metadata": {},
     "output_type": "execute_result"
    },
    {
     "name": "stdout",
     "output_type": "stream",
     "text": [
      "After adding features:\n"
     ]
    },
    {
     "name": "stdout",
     "output_type": "stream",
     "text": [
      "\n"
     ]
    },
    {
     "data": {
      "text/html": [
       "<div>\n",
       "<style>\n",
       "    .dataframe thead tr:only-child th {\n",
       "        text-align: right;\n",
       "    }\n",
       "\n",
       "    .dataframe thead th {\n",
       "        text-align: left;\n",
       "    }\n",
       "\n",
       "    .dataframe tbody tr th {\n",
       "        vertical-align: top;\n",
       "    }\n",
       "</style>\n",
       "<table border=\"1\" class=\"dataframe\">\n",
       "  <thead>\n",
       "    <tr style=\"text-align: right;\">\n",
       "      <th></th>\n",
       "      <th>Tweets</th>\n",
       "      <th>len</th>\n",
       "      <th>ID</th>\n",
       "      <th>Date</th>\n",
       "      <th>Source</th>\n",
       "      <th>Likes</th>\n",
       "      <th>RTs</th>\n",
       "    </tr>\n",
       "  </thead>\n",
       "  <tbody>\n",
       "    <tr>\n",
       "      <th>0</th>\n",
       "      <td>RT @EnjoyNature: Cherry Blossom and Spring Mor...</td>\n",
       "      <td>140</td>\n",
       "      <td>984114737939173376</td>\n",
       "      <td>2018-04-11 17:03:32</td>\n",
       "      <td>Twitter Web Client</td>\n",
       "      <td>0</td>\n",
       "      <td>121</td>\n",
       "    </tr>\n",
       "    <tr>\n",
       "      <th>1</th>\n",
       "      <td>New York weather as of 05:01 PM: 47.59 F</td>\n",
       "      <td>40</td>\n",
       "      <td>984114206839595009</td>\n",
       "      <td>2018-04-11 17:01:25</td>\n",
       "      <td>data_project_twitter</td>\n",
       "      <td>0</td>\n",
       "      <td>0</td>\n",
       "    </tr>\n",
       "    <tr>\n",
       "      <th>2</th>\n",
       "      <td>Sexy, seductive, sophisticated... all aptly de...</td>\n",
       "      <td>143</td>\n",
       "      <td>984114155941658624</td>\n",
       "      <td>2018-04-11 17:01:13</td>\n",
       "      <td>Likeable Business</td>\n",
       "      <td>0</td>\n",
       "      <td>0</td>\n",
       "    </tr>\n",
       "    <tr>\n",
       "      <th>3</th>\n",
       "      <td>current weather in New York: broken clouds, 47...</td>\n",
       "      <td>89</td>\n",
       "      <td>984113025505308673</td>\n",
       "      <td>2018-04-11 16:56:43</td>\n",
       "      <td>Cities</td>\n",
       "      <td>0</td>\n",
       "      <td>0</td>\n",
       "    </tr>\n",
       "    <tr>\n",
       "      <th>4</th>\n",
       "      <td>@LanceBass Thanks for the reminder, Lance. It'...</td>\n",
       "      <td>140</td>\n",
       "      <td>984111000168357888</td>\n",
       "      <td>2018-04-11 16:48:40</td>\n",
       "      <td>TweetDeck</td>\n",
       "      <td>0</td>\n",
       "      <td>0</td>\n",
       "    </tr>\n",
       "    <tr>\n",
       "      <th>5</th>\n",
       "      <td>The knowledge is in your joints. By @Ali_Lev #...</td>\n",
       "      <td>77</td>\n",
       "      <td>984110106672541696</td>\n",
       "      <td>2018-04-11 16:45:07</td>\n",
       "      <td>Sprout Social</td>\n",
       "      <td>1</td>\n",
       "      <td>0</td>\n",
       "    </tr>\n",
       "    <tr>\n",
       "      <th>6</th>\n",
       "      <td>Just waiting for the weather to be valid in Ne...</td>\n",
       "      <td>74</td>\n",
       "      <td>984108292623470594</td>\n",
       "      <td>2018-04-11 16:37:55</td>\n",
       "      <td>Twitter for iPhone</td>\n",
       "      <td>0</td>\n",
       "      <td>0</td>\n",
       "    </tr>\n",
       "    <tr>\n",
       "      <th>7</th>\n",
       "      <td>RT @accuweather: AccuFan Weather Photo of the ...</td>\n",
       "      <td>140</td>\n",
       "      <td>984107948497604609</td>\n",
       "      <td>2018-04-11 16:36:33</td>\n",
       "      <td>Twitter Web Client</td>\n",
       "      <td>0</td>\n",
       "      <td>3</td>\n",
       "    </tr>\n",
       "    <tr>\n",
       "      <th>8</th>\n",
       "      <td>@KAliceCompeau It's only 44° in New York, but ...</td>\n",
       "      <td>139</td>\n",
       "      <td>984107149533106176</td>\n",
       "      <td>2018-04-11 16:33:22</td>\n",
       "      <td>Twitter for Android</td>\n",
       "      <td>1</td>\n",
       "      <td>0</td>\n",
       "    </tr>\n",
       "    <tr>\n",
       "      <th>9</th>\n",
       "      <td>New York weather as of 04:31 PM: 47.23 F</td>\n",
       "      <td>40</td>\n",
       "      <td>984106561051258880</td>\n",
       "      <td>2018-04-11 16:31:02</td>\n",
       "      <td>data_project_twitter</td>\n",
       "      <td>0</td>\n",
       "      <td>0</td>\n",
       "    </tr>\n",
       "  </tbody>\n",
       "</table>\n",
       "</div>"
      ],
      "text/plain": [
       "<div>\n",
       "<style>\n",
       "    .dataframe thead tr:only-child th {\n",
       "        text-align: right;\n",
       "    }\n",
       "\n",
       "    .dataframe thead th {\n",
       "        text-align: left;\n",
       "    }\n",
       "\n",
       "    .dataframe tbody tr th {\n",
       "        vertical-align: top;\n",
       "    }\n",
       "</style>\n",
       "<table border=\"1\" class=\"dataframe\">\n",
       "  <thead>\n",
       "    <tr style=\"text-align: right;\">\n",
       "      <th></th>\n",
       "      <th>Tweets</th>\n",
       "      <th>len</th>\n",
       "      <th>ID</th>\n",
       "      <th>Date</th>\n",
       "      <th>Source</th>\n",
       "      <th>Likes</th>\n",
       "      <th>RTs</th>\n",
       "    </tr>\n",
       "  </thead>\n",
       "  <tbody>\n",
       "    <tr>\n",
       "      <th>0</th>\n",
       "      <td>RT @EnjoyNature: Cherry Blossom and Spring Mor...</td>\n",
       "      <td>140</td>\n",
       "      <td>984114737939173376</td>\n",
       "      <td>2018-04-11 17:03:32</td>\n",
       "      <td>Twitter Web Client</td>\n",
       "      <td>0</td>\n",
       "      <td>121</td>\n",
       "    </tr>\n",
       "    <tr>\n",
       "      <th>1</th>\n",
       "      <td>New York weather as of 05:01 PM: 47.59 F</td>\n",
       "      <td>40</td>\n",
       "      <td>984114206839595009</td>\n",
       "      <td>2018-04-11 17:01:25</td>\n",
       "      <td>data_project_twitter</td>\n",
       "      <td>0</td>\n",
       "      <td>0</td>\n",
       "    </tr>\n",
       "    <tr>\n",
       "      <th>2</th>\n",
       "      <td>Sexy, seductive, sophisticated... all aptly de...</td>\n",
       "      <td>143</td>\n",
       "      <td>984114155941658624</td>\n",
       "      <td>2018-04-11 17:01:13</td>\n",
       "      <td>Likeable Business</td>\n",
       "      <td>0</td>\n",
       "      <td>0</td>\n",
       "    </tr>\n",
       "    <tr>\n",
       "      <th>3</th>\n",
       "      <td>current weather in New York: broken clouds, 47...</td>\n",
       "      <td>89</td>\n",
       "      <td>984113025505308673</td>\n",
       "      <td>2018-04-11 16:56:43</td>\n",
       "      <td>Cities</td>\n",
       "      <td>0</td>\n",
       "      <td>0</td>\n",
       "    </tr>\n",
       "    <tr>\n",
       "      <th>4</th>\n",
       "      <td>@LanceBass Thanks for the reminder, Lance. It'...</td>\n",
       "      <td>140</td>\n",
       "      <td>984111000168357888</td>\n",
       "      <td>2018-04-11 16:48:40</td>\n",
       "      <td>TweetDeck</td>\n",
       "      <td>0</td>\n",
       "      <td>0</td>\n",
       "    </tr>\n",
       "    <tr>\n",
       "      <th>5</th>\n",
       "      <td>The knowledge is in your joints. By @Ali_Lev #...</td>\n",
       "      <td>77</td>\n",
       "      <td>984110106672541696</td>\n",
       "      <td>2018-04-11 16:45:07</td>\n",
       "      <td>Sprout Social</td>\n",
       "      <td>1</td>\n",
       "      <td>0</td>\n",
       "    </tr>\n",
       "    <tr>\n",
       "      <th>6</th>\n",
       "      <td>Just waiting for the weather to be valid in Ne...</td>\n",
       "      <td>74</td>\n",
       "      <td>984108292623470594</td>\n",
       "      <td>2018-04-11 16:37:55</td>\n",
       "      <td>Twitter for iPhone</td>\n",
       "      <td>0</td>\n",
       "      <td>0</td>\n",
       "    </tr>\n",
       "    <tr>\n",
       "      <th>7</th>\n",
       "      <td>RT @accuweather: AccuFan Weather Photo of the ...</td>\n",
       "      <td>140</td>\n",
       "      <td>984107948497604609</td>\n",
       "      <td>2018-04-11 16:36:33</td>\n",
       "      <td>Twitter Web Client</td>\n",
       "      <td>0</td>\n",
       "      <td>3</td>\n",
       "    </tr>\n",
       "    <tr>\n",
       "      <th>8</th>\n",
       "      <td>@KAliceCompeau It's only 44° in New York, but ...</td>\n",
       "      <td>139</td>\n",
       "      <td>984107149533106176</td>\n",
       "      <td>2018-04-11 16:33:22</td>\n",
       "      <td>Twitter for Android</td>\n",
       "      <td>1</td>\n",
       "      <td>0</td>\n",
       "    </tr>\n",
       "    <tr>\n",
       "      <th>9</th>\n",
       "      <td>New York weather as of 04:31 PM: 47.23 F</td>\n",
       "      <td>40</td>\n",
       "      <td>984106561051258880</td>\n",
       "      <td>2018-04-11 16:31:02</td>\n",
       "      <td>data_project_twitter</td>\n",
       "      <td>0</td>\n",
       "      <td>0</td>\n",
       "    </tr>\n",
       "  </tbody>\n",
       "</table>\n",
       "</div>"
      ]
     },
     "execution_count": 0,
     "metadata": {},
     "output_type": "execute_result"
    },
    {
     "name": "stdout",
     "output_type": "stream",
     "text": [
      "After adding Sentiment Features:\n"
     ]
    },
    {
     "name": "stdout",
     "output_type": "stream",
     "text": [
      "\n"
     ]
    },
    {
     "data": {
      "text/html": [
       "<div>\n",
       "<style>\n",
       "    .dataframe thead tr:only-child th {\n",
       "        text-align: right;\n",
       "    }\n",
       "\n",
       "    .dataframe thead th {\n",
       "        text-align: left;\n",
       "    }\n",
       "\n",
       "    .dataframe tbody tr th {\n",
       "        vertical-align: top;\n",
       "    }\n",
       "</style>\n",
       "<table border=\"1\" class=\"dataframe\">\n",
       "  <thead>\n",
       "    <tr style=\"text-align: right;\">\n",
       "      <th></th>\n",
       "      <th>Tweets</th>\n",
       "      <th>len</th>\n",
       "      <th>ID</th>\n",
       "      <th>Date</th>\n",
       "      <th>Source</th>\n",
       "      <th>Likes</th>\n",
       "      <th>RTs</th>\n",
       "      <th>SA</th>\n",
       "    </tr>\n",
       "  </thead>\n",
       "  <tbody>\n",
       "    <tr>\n",
       "      <th>0</th>\n",
       "      <td>RT @EnjoyNature: Cherry Blossom and Spring Mor...</td>\n",
       "      <td>140</td>\n",
       "      <td>984114737939173376</td>\n",
       "      <td>2018-04-11 17:03:32</td>\n",
       "      <td>Twitter Web Client</td>\n",
       "      <td>0</td>\n",
       "      <td>121</td>\n",
       "      <td>1</td>\n",
       "    </tr>\n",
       "    <tr>\n",
       "      <th>1</th>\n",
       "      <td>New York weather as of 05:01 PM: 47.59 F</td>\n",
       "      <td>40</td>\n",
       "      <td>984114206839595009</td>\n",
       "      <td>2018-04-11 17:01:25</td>\n",
       "      <td>data_project_twitter</td>\n",
       "      <td>0</td>\n",
       "      <td>0</td>\n",
       "      <td>1</td>\n",
       "    </tr>\n",
       "    <tr>\n",
       "      <th>2</th>\n",
       "      <td>Sexy, seductive, sophisticated... all aptly de...</td>\n",
       "      <td>143</td>\n",
       "      <td>984114155941658624</td>\n",
       "      <td>2018-04-11 17:01:13</td>\n",
       "      <td>Likeable Business</td>\n",
       "      <td>0</td>\n",
       "      <td>0</td>\n",
       "      <td>1</td>\n",
       "    </tr>\n",
       "    <tr>\n",
       "      <th>3</th>\n",
       "      <td>current weather in New York: broken clouds, 47...</td>\n",
       "      <td>89</td>\n",
       "      <td>984113025505308673</td>\n",
       "      <td>2018-04-11 16:56:43</td>\n",
       "      <td>Cities</td>\n",
       "      <td>0</td>\n",
       "      <td>0</td>\n",
       "      <td>-1</td>\n",
       "    </tr>\n",
       "    <tr>\n",
       "      <th>4</th>\n",
       "      <td>@LanceBass Thanks for the reminder, Lance. It'...</td>\n",
       "      <td>140</td>\n",
       "      <td>984111000168357888</td>\n",
       "      <td>2018-04-11 16:48:40</td>\n",
       "      <td>TweetDeck</td>\n",
       "      <td>0</td>\n",
       "      <td>0</td>\n",
       "      <td>1</td>\n",
       "    </tr>\n",
       "    <tr>\n",
       "      <th>5</th>\n",
       "      <td>The knowledge is in your joints. By @Ali_Lev #...</td>\n",
       "      <td>77</td>\n",
       "      <td>984110106672541696</td>\n",
       "      <td>2018-04-11 16:45:07</td>\n",
       "      <td>Sprout Social</td>\n",
       "      <td>1</td>\n",
       "      <td>0</td>\n",
       "      <td>0</td>\n",
       "    </tr>\n",
       "    <tr>\n",
       "      <th>6</th>\n",
       "      <td>Just waiting for the weather to be valid in Ne...</td>\n",
       "      <td>74</td>\n",
       "      <td>984108292623470594</td>\n",
       "      <td>2018-04-11 16:37:55</td>\n",
       "      <td>Twitter for iPhone</td>\n",
       "      <td>0</td>\n",
       "      <td>0</td>\n",
       "      <td>1</td>\n",
       "    </tr>\n",
       "    <tr>\n",
       "      <th>7</th>\n",
       "      <td>RT @accuweather: AccuFan Weather Photo of the ...</td>\n",
       "      <td>140</td>\n",
       "      <td>984107948497604609</td>\n",
       "      <td>2018-04-11 16:36:33</td>\n",
       "      <td>Twitter Web Client</td>\n",
       "      <td>0</td>\n",
       "      <td>3</td>\n",
       "      <td>1</td>\n",
       "    </tr>\n",
       "    <tr>\n",
       "      <th>8</th>\n",
       "      <td>@KAliceCompeau It's only 44° in New York, but ...</td>\n",
       "      <td>139</td>\n",
       "      <td>984107149533106176</td>\n",
       "      <td>2018-04-11 16:33:22</td>\n",
       "      <td>Twitter for Android</td>\n",
       "      <td>1</td>\n",
       "      <td>0</td>\n",
       "      <td>-1</td>\n",
       "    </tr>\n",
       "    <tr>\n",
       "      <th>9</th>\n",
       "      <td>New York weather as of 04:31 PM: 47.23 F</td>\n",
       "      <td>40</td>\n",
       "      <td>984106561051258880</td>\n",
       "      <td>2018-04-11 16:31:02</td>\n",
       "      <td>data_project_twitter</td>\n",
       "      <td>0</td>\n",
       "      <td>0</td>\n",
       "      <td>1</td>\n",
       "    </tr>\n",
       "  </tbody>\n",
       "</table>\n",
       "</div>"
      ],
      "text/plain": [
       "<div>\n",
       "<style>\n",
       "    .dataframe thead tr:only-child th {\n",
       "        text-align: right;\n",
       "    }\n",
       "\n",
       "    .dataframe thead th {\n",
       "        text-align: left;\n",
       "    }\n",
       "\n",
       "    .dataframe tbody tr th {\n",
       "        vertical-align: top;\n",
       "    }\n",
       "</style>\n",
       "<table border=\"1\" class=\"dataframe\">\n",
       "  <thead>\n",
       "    <tr style=\"text-align: right;\">\n",
       "      <th></th>\n",
       "      <th>Tweets</th>\n",
       "      <th>len</th>\n",
       "      <th>ID</th>\n",
       "      <th>Date</th>\n",
       "      <th>Source</th>\n",
       "      <th>Likes</th>\n",
       "      <th>RTs</th>\n",
       "      <th>SA</th>\n",
       "    </tr>\n",
       "  </thead>\n",
       "  <tbody>\n",
       "    <tr>\n",
       "      <th>0</th>\n",
       "      <td>RT @EnjoyNature: Cherry Blossom and Spring Mor...</td>\n",
       "      <td>140</td>\n",
       "      <td>984114737939173376</td>\n",
       "      <td>2018-04-11 17:03:32</td>\n",
       "      <td>Twitter Web Client</td>\n",
       "      <td>0</td>\n",
       "      <td>121</td>\n",
       "      <td>1</td>\n",
       "    </tr>\n",
       "    <tr>\n",
       "      <th>1</th>\n",
       "      <td>New York weather as of 05:01 PM: 47.59 F</td>\n",
       "      <td>40</td>\n",
       "      <td>984114206839595009</td>\n",
       "      <td>2018-04-11 17:01:25</td>\n",
       "      <td>data_project_twitter</td>\n",
       "      <td>0</td>\n",
       "      <td>0</td>\n",
       "      <td>1</td>\n",
       "    </tr>\n",
       "    <tr>\n",
       "      <th>2</th>\n",
       "      <td>Sexy, seductive, sophisticated... all aptly de...</td>\n",
       "      <td>143</td>\n",
       "      <td>984114155941658624</td>\n",
       "      <td>2018-04-11 17:01:13</td>\n",
       "      <td>Likeable Business</td>\n",
       "      <td>0</td>\n",
       "      <td>0</td>\n",
       "      <td>1</td>\n",
       "    </tr>\n",
       "    <tr>\n",
       "      <th>3</th>\n",
       "      <td>current weather in New York: broken clouds, 47...</td>\n",
       "      <td>89</td>\n",
       "      <td>984113025505308673</td>\n",
       "      <td>2018-04-11 16:56:43</td>\n",
       "      <td>Cities</td>\n",
       "      <td>0</td>\n",
       "      <td>0</td>\n",
       "      <td>-1</td>\n",
       "    </tr>\n",
       "    <tr>\n",
       "      <th>4</th>\n",
       "      <td>@LanceBass Thanks for the reminder, Lance. It'...</td>\n",
       "      <td>140</td>\n",
       "      <td>984111000168357888</td>\n",
       "      <td>2018-04-11 16:48:40</td>\n",
       "      <td>TweetDeck</td>\n",
       "      <td>0</td>\n",
       "      <td>0</td>\n",
       "      <td>1</td>\n",
       "    </tr>\n",
       "    <tr>\n",
       "      <th>5</th>\n",
       "      <td>The knowledge is in your joints. By @Ali_Lev #...</td>\n",
       "      <td>77</td>\n",
       "      <td>984110106672541696</td>\n",
       "      <td>2018-04-11 16:45:07</td>\n",
       "      <td>Sprout Social</td>\n",
       "      <td>1</td>\n",
       "      <td>0</td>\n",
       "      <td>0</td>\n",
       "    </tr>\n",
       "    <tr>\n",
       "      <th>6</th>\n",
       "      <td>Just waiting for the weather to be valid in Ne...</td>\n",
       "      <td>74</td>\n",
       "      <td>984108292623470594</td>\n",
       "      <td>2018-04-11 16:37:55</td>\n",
       "      <td>Twitter for iPhone</td>\n",
       "      <td>0</td>\n",
       "      <td>0</td>\n",
       "      <td>1</td>\n",
       "    </tr>\n",
       "    <tr>\n",
       "      <th>7</th>\n",
       "      <td>RT @accuweather: AccuFan Weather Photo of the ...</td>\n",
       "      <td>140</td>\n",
       "      <td>984107948497604609</td>\n",
       "      <td>2018-04-11 16:36:33</td>\n",
       "      <td>Twitter Web Client</td>\n",
       "      <td>0</td>\n",
       "      <td>3</td>\n",
       "      <td>1</td>\n",
       "    </tr>\n",
       "    <tr>\n",
       "      <th>8</th>\n",
       "      <td>@KAliceCompeau It's only 44° in New York, but ...</td>\n",
       "      <td>139</td>\n",
       "      <td>984107149533106176</td>\n",
       "      <td>2018-04-11 16:33:22</td>\n",
       "      <td>Twitter for Android</td>\n",
       "      <td>1</td>\n",
       "      <td>0</td>\n",
       "      <td>-1</td>\n",
       "    </tr>\n",
       "    <tr>\n",
       "      <th>9</th>\n",
       "      <td>New York weather as of 04:31 PM: 47.23 F</td>\n",
       "      <td>40</td>\n",
       "      <td>984106561051258880</td>\n",
       "      <td>2018-04-11 16:31:02</td>\n",
       "      <td>data_project_twitter</td>\n",
       "      <td>0</td>\n",
       "      <td>0</td>\n",
       "      <td>1</td>\n",
       "    </tr>\n",
       "  </tbody>\n",
       "</table>\n",
       "</div>"
      ]
     },
     "execution_count": 0,
     "metadata": {},
     "output_type": "execute_result"
    },
    {
     "name": "stdout",
     "output_type": "stream",
     "text": [
      "Percentage of New York weather positive tweets: 60.0%"
     ]
    },
    {
     "name": "stdout",
     "output_type": "stream",
     "text": [
      "\n"
     ]
    },
    {
     "name": "stdout",
     "output_type": "stream",
     "text": [
      "Percentage of New York weather neutral tweets: 13.333333333333334%"
     ]
    },
    {
     "name": "stdout",
     "output_type": "stream",
     "text": [
      "\n"
     ]
    },
    {
     "name": "stdout",
     "output_type": "stream",
     "text": [
      "Percentage de New York weather negative tweets: 26.666666666666668%"
     ]
    },
    {
     "name": "stdout",
     "output_type": "stream",
     "text": [
      "\n"
     ]
    }
   ],
   "source": [
    "# We create an extractor object:\n",
    "\n",
    "keyword=\"New York weather\"\n",
    "tweets=searchKeyword(keyword)\n",
    "dftweets=createDataFrame(tweets)\n",
    "\n",
    "print(\"Number of {} tweets extracted: {}.\\n\".format(keyword, len(tweets)))\n",
    "\n",
    "# We display the first 10 elements of the dataframe:\n",
    "display(dftweets.head(10))\n",
    "\n",
    "dftweets=AddDataFeature(dftweets, tweets)\n",
    "\n",
    "print(\"After adding features:\\n\")\n",
    "display(dftweets.head(10))\n",
    "\n",
    "dftweets=addSentimentFeature(dftweets)\n",
    "print(\"After adding Sentiment Features:\\n\")\n",
    "display(dftweets.head(10))\n",
    "\n",
    "pos_tweets, neu_tweets, neg_tweets=classifyTweets(dftweets)\n",
    "\n",
    "print(\"Percentage of {} positive tweets: {}%\".format(keyword, len(pos_tweets)*100/len(dftweets['Tweets'])))\n",
    "print(\"Percentage of {} neutral tweets: {}%\".format(keyword, len(neu_tweets)*100/len(dftweets['Tweets'])))\n",
    "print(\"Percentage de {} negative tweets: {}%\".format(keyword, len(neg_tweets)*100/len(dftweets['Tweets'])))"
   ]
  },
  {
   "cell_type": "markdown",
   "metadata": {},
   "source": [
    "## The text is released under the CC-BY-NC-ND license, and code is released under the MIT license"
   ]
  },
  {
   "cell_type": "code",
   "execution_count": 97,
   "metadata": {},
   "outputs": [
    {
     "data": {
      "text/plain": [
       "'The text is released under the '"
      ]
     },
     "execution_count": 0,
     "metadata": {},
     "output_type": "execute_result"
    },
    {
     "data": {
      "text/html": [
       "<a href=\"https://google.at\">CC-BY-NC-ND</a>"
      ],
      "text/plain": [
       "<a href=\"https://google.at\">CC-BY-NC-ND</a>"
      ]
     },
     "execution_count": 0,
     "metadata": {},
     "output_type": "execute_result"
    },
    {
     "data": {
      "text/plain": [
       "'license, and code is released under the '"
      ]
     },
     "execution_count": 0,
     "metadata": {},
     "output_type": "execute_result"
    },
    {
     "data": {
      "text/html": [
       "<a href=\"https://opensource.org/licenses/MIT\">MIT license</a>"
      ],
      "text/plain": [
       "<a href=\"https://opensource.org/licenses/MIT\">MIT license</a>"
      ]
     },
     "execution_count": 0,
     "metadata": {},
     "output_type": "execute_result"
    }
   ],
   "source": [
    "from IPython.core.display import display, HTML\n",
    "display(\"The text is released under the \", \n",
    "         HTML(\"\"\"<a href=\"https://creativecommons.org/licenses/by/3.0/us/\">CC-BY-NC-ND</a>\"\"\"),\n",
    "        \"license, and code is released under the \",\n",
    "        HTML(\"\"\"<a href=\"https://opensource.org/licenses/MIT\">MIT license</a>\"\"\"))\n"
   ]
  },
  {
   "cell_type": "markdown",
   "metadata": {},
   "source": [
    "## MIT license:\n",
    "## Permission is hereby granted, free of charge, to any person obtaining a copy of this software and associated\n",
    "## documentation files (the \"Software\"), to deal in the Software without restriction, \n",
    "## including without limitation the rights to use, copy, modify, merge, publish, distribute, sublicense, \n",
    "## and/or sell copies of the Software, and to permit persons to whom the Software is furnished to do so, \n",
    "## subject to the following conditions:\n",
    "\n",
    "## The above copyright notice and this permission notice shall be included in all copies or substantial portions of \n",
    "## the Software."
   ]
  },
  {
   "cell_type": "markdown",
   "metadata": {},
   "source": [
    "## CC license:\n",
    "## You are free to: Share — copy and redistribute the material in any medium or format. Adapt — remix, transform, and build upon the material\n",
    "## for any purpose, even commercially."
   ]
  },
  {
   "cell_type": "code",
   "execution_count": null,
   "metadata": {},
   "outputs": [],
   "source": []
  }
 ],
 "metadata": {
  "kernelspec": {
   "display_name": "Python 3",
   "language": "python",
   "name": "python3"
  },
  "language_info": {
   "codemirror_mode": {
    "name": "ipython",
    "version": 3
   },
   "file_extension": ".py",
   "mimetype": "text/x-python",
   "name": "python",
   "nbconvert_exporter": "python",
   "pygments_lexer": "ipython3",
   "version": "3.6.3"
  }
 },
 "nbformat": 4,
 "nbformat_minor": 1
}
