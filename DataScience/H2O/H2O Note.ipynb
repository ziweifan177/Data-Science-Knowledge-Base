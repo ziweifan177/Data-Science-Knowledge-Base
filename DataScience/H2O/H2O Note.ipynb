{
 "cells": [
  {
   "cell_type": "markdown",
   "metadata": {},
   "source": [
    "### H2O"
   ]
  },
  {
   "cell_type": "markdown",
   "metadata": {},
   "source": [
    "##### http://h2o-release.s3.amazonaws.com/h2o/rel-xu/3/docs-website/h2o-py/docs/intro.html#what-is-h2o"
   ]
  },
  {
   "cell_type": "markdown",
   "metadata": {},
   "source": [
    "#### 1. H2O:\n",
    "* The goal of H2O is to allow simple horizontal scaling to a given problem in order to produce a solution faster."
   ]
  },
  {
   "cell_type": "markdown",
   "metadata": {},
   "source": [
    "* H2O is a Java-based software for data modeling and general computing. The H2O software is many things, but the primary purpose of H2O is as a distributed (many machines), parallel (many CPUs), in memory (several hundred GBs Xmx) processing engine.  \n"
   ]
  },
  {
   "cell_type": "markdown",
   "metadata": {},
   "source": [
    "* There are two levels of parallelism:\n",
    "\n",
    "* (1) within node\n",
    "* (2) across (or between) nodes"
   ]
  },
  {
   "cell_type": "markdown",
   "metadata": {},
   "source": [
    "#### 2. The H2O Object System:"
   ]
  },
  {
   "cell_type": "markdown",
   "metadata": {},
   "source": [
    "*  H2O uses a distributed key-value store (the “DKV”) that contains pointers to the various objects of the H2O ecosystem:  \n",
    "  \n",
    "* (1) Some shared objects are mutable by the client;\n",
    "* (2) some shared objects are read-only by the client, but are mutable by H2O (e.g. a model being constructed will change over time); \n",
    "* (3) actions by the client may have side-effects on other clients (multi-tenancy is not a supported model of use, but it is possible for multiple clients to attach to a single H2O cloud)."
   ]
  },
  {
   "cell_type": "markdown",
   "metadata": {},
   "source": [
    "##### For JVM understanding:\n",
    "* Key: A key is an entry in the DKV that maps to an object in H2O.\n",
    "* Frame: A Frame is a collection of Vec objects. It is a 2D array of elements.\n",
    "* Vec: A Vec is a collection of Chunk objects. It is a 1D array of elements.\n",
    "* Chunk: A Chunk holds a fraction of the BigData. It is a 1D array of elements.\n",
    "* ModelMetrics: A collection of metrics for a given category of model.\n",
    "* Model: A model is an immutable object having predict and metrics methods.\n",
    "* Job: A Job is a non-blocking task that performs a finite amount of work."
   ]
  },
  {
   "cell_type": "code",
   "execution_count": null,
   "metadata": {},
   "outputs": [],
   "source": []
  }
 ],
 "metadata": {
  "kernelspec": {
   "display_name": "Python 3",
   "language": "python",
   "name": "python3"
  },
  "language_info": {
   "codemirror_mode": {
    "name": "ipython",
    "version": 3
   },
   "file_extension": ".py",
   "mimetype": "text/x-python",
   "name": "python",
   "nbconvert_exporter": "python",
   "pygments_lexer": "ipython3",
   "version": "3.7.1"
  }
 },
 "nbformat": 4,
 "nbformat_minor": 2
}
