{
 "cells": [
  {
   "cell_type": "markdown",
   "metadata": {},
   "source": [
    "### GUI toolkits available for Python: https://wiki.python.org/moin/GUI%20Programming%20in%20Python\n",
    "### GUI Programming in Python: https://wiki.python.org/moin/GuiProgramming"
   ]
  },
  {
   "cell_type": "markdown",
   "metadata": {},
   "source": [
    "### 1. Interact & with fixed value\n",
    "*** (The interact function (ipywidgets.interact) automatically creates user interface (UI) controls for exploring code and data interactively. It is the easiest way to get started using IPython's widgets.)"
   ]
  },
  {
   "cell_type": "code",
   "execution_count": 1,
   "metadata": {},
   "outputs": [],
   "source": [
    "from ipywidgets import interact, interactive, fixed\n",
    "import ipywidgets as widgets"
   ]
  },
  {
   "cell_type": "code",
   "execution_count": 48,
   "metadata": {},
   "outputs": [],
   "source": [
    "# 1. Typical:\n",
    "def func(x,y):\n",
    "    return (x, y**2)"
   ]
  },
  {
   "cell_type": "code",
   "execution_count": 49,
   "metadata": {},
   "outputs": [
    {
     "data": {
      "application/vnd.jupyter.widget-view+json": {
       "model_id": "b6edfc96b1c74097ba1deb5fa2f3509a",
       "version_major": 2,
       "version_minor": 0
      },
      "text/plain": [
       "interactive(children=(Checkbox(value=True, description='x'), IntSlider(value=10, description='y', max=30, min=…"
      ]
     },
     "metadata": {},
     "output_type": "display_data"
    },
    {
     "data": {
      "text/plain": [
       "'interact: creates user interface (UI) controls for exploring code and data interactively.'"
      ]
     },
     "execution_count": 49,
     "metadata": {},
     "output_type": "execute_result"
    }
   ],
   "source": [
    "interact(func,x=True, y=10)\n",
    "'''interact: creates user interface (UI) controls for exploring code and data interactively.'''"
   ]
  },
  {
   "cell_type": "code",
   "execution_count": 6,
   "metadata": {},
   "outputs": [
    {
     "data": {
      "application/vnd.jupyter.widget-view+json": {
       "model_id": "ff686e889ca84b8cb4944fbed1c03727",
       "version_major": 2,
       "version_minor": 0
      },
      "text/plain": [
       "interactive(children=(Checkbox(value=True, description='x'), Output()), _dom_classes=('widget-interact',))"
      ]
     },
     "metadata": {},
     "output_type": "display_data"
    },
    {
     "data": {
      "text/plain": [
       "<function __main__.func(x, y)>"
      ]
     },
     "execution_count": 6,
     "metadata": {},
     "output_type": "execute_result"
    }
   ],
   "source": [
    "interact(func,x=True, y=fixed(10))\n",
    "'''fixed: fix some value'''"
   ]
  },
  {
   "cell_type": "code",
   "execution_count": 7,
   "metadata": {},
   "outputs": [
    {
     "data": {
      "application/vnd.jupyter.widget-view+json": {
       "model_id": "0df2e7c2c0e548b3a93dc47db5aa42a7",
       "version_major": 2,
       "version_minor": 0
      },
      "text/plain": [
       "interactive(children=(Text(value='Input something...', description='x'), Checkbox(value=True, description='y')…"
      ]
     },
     "metadata": {},
     "output_type": "display_data"
    },
    {
     "data": {
      "text/plain": [
       "<function __main__.func(x, y)>"
      ]
     },
     "execution_count": 7,
     "metadata": {},
     "output_type": "execute_result"
    }
   ],
   "source": [
    "interact(func, x='Input something...', y=True)"
   ]
  },
  {
   "cell_type": "code",
   "execution_count": 8,
   "metadata": {},
   "outputs": [
    {
     "data": {
      "application/vnd.jupyter.widget-view+json": {
       "model_id": "fa7056dfb2664dff95007294e5b6df72",
       "version_major": 2,
       "version_minor": 0
      },
      "text/plain": [
       "interactive(children=(Text(value='Hello', description='x'), Checkbox(value=False, description='y'), FloatSlide…"
      ]
     },
     "metadata": {},
     "output_type": "display_data"
    }
   ],
   "source": [
    "#2. Decorator in interact:\n",
    "@interact(x='Hello', y=False, z=1.0)\n",
    "\n",
    "def func2(x,y,z):\n",
    "    return (x,y,z)"
   ]
  },
  {
   "cell_type": "code",
   "execution_count": 22,
   "metadata": {},
   "outputs": [
    {
     "data": {
      "application/vnd.jupyter.widget-view+json": {
       "model_id": "4d10bbfb8545487cbfc06504099dddfe",
       "version_major": 2,
       "version_minor": 0
      },
      "text/plain": [
       "interactive(children=(IntSlider(value=6, description='x', max=10, min=-10), Checkbox(value=True, description='…"
      ]
     },
     "metadata": {},
     "output_type": "display_data"
    },
    {
     "data": {
      "text/plain": [
       "'1. widgets.IntSlider: set the min, max, step and default value.\\n   2. num of interact MUST match the original func(x,y)'"
      ]
     },
     "execution_count": 22,
     "metadata": {},
     "output_type": "execute_result"
    }
   ],
   "source": [
    "# 3-1. set max, min in Slider:\n",
    "interact(func, x=widgets.IntSlider(value=6, min=-10, max=10, step=1), y = True)\n",
    "'''1. widgets.IntSlider: set the min, max, step and default value.\n",
    "   2. num of interact MUST match the original func(x,y)'''"
   ]
  },
  {
   "cell_type": "code",
   "execution_count": 21,
   "metadata": {},
   "outputs": [
    {
     "data": {
      "application/vnd.jupyter.widget-view+json": {
       "model_id": "0024f08b599240e7ad30bd7ac722b05b",
       "version_major": 2,
       "version_minor": 0
      },
      "text/plain": [
       "interactive(children=(IntSlider(value=1, description='x', max=10, min=-10, step=2), Checkbox(value=True, descr…"
      ]
     },
     "metadata": {},
     "output_type": "display_data"
    },
    {
     "data": {
      "text/plain": [
       "<function __main__.func(x, y)>"
      ]
     },
     "execution_count": 21,
     "metadata": {},
     "output_type": "execute_result"
    }
   ],
   "source": [
    "# 3-2. set max, min in Slider-Another way:\n",
    "interact(func, x=widgets.IntSlider(1, -10, 10, 2), y=True) #widgets.IntSlider(defaultValue, min, max, step)"
   ]
  },
  {
   "cell_type": "code",
   "execution_count": 31,
   "metadata": {},
   "outputs": [
    {
     "data": {
      "application/vnd.jupyter.widget-view+json": {
       "model_id": "049ecb3fdafb47a2b0cb185e4ea2dd97",
       "version_major": 2,
       "version_minor": 0
      },
      "text/plain": [
       "interactive(children=(FloatSlider(value=-0.19999999999999996, description='x', max=1.2, min=-1.2, step=0.2), O…"
      ]
     },
     "metadata": {},
     "output_type": "display_data"
    },
    {
     "data": {
      "text/plain": [
       "<function __main__.fun_float(x)>"
      ]
     },
     "execution_count": 31,
     "metadata": {},
     "output_type": "execute_result"
    }
   ],
   "source": [
    "# 3-3. Float Slider:\n",
    "\n",
    "def fun_float(x):\n",
    "    return (x)\n",
    "\n",
    "interact(fun_float, x=(-1.2, 1.2, 0.2))"
   ]
  },
  {
   "cell_type": "code",
   "execution_count": 34,
   "metadata": {},
   "outputs": [
    {
     "data": {
      "application/vnd.jupyter.widget-view+json": {
       "model_id": "194959219b6947dda3df8d3e42312b54",
       "version_major": 2,
       "version_minor": 0
      },
      "text/plain": [
       "interactive(children=(FloatSlider(value=-0.19999999999999996, description='x', max=1.2, min=-1.2, step=0.2), O…"
      ]
     },
     "metadata": {},
     "output_type": "display_data"
    }
   ],
   "source": [
    "# 3-4. Float Slider in Decorator:\n",
    "@interact(x=(-1.2, 1.2, 0.2))\n",
    "\n",
    "def fun_float2(x):\n",
    "    return (x)"
   ]
  },
  {
   "cell_type": "code",
   "execution_count": 39,
   "metadata": {},
   "outputs": [
    {
     "data": {
      "application/vnd.jupyter.widget-view+json": {
       "model_id": "337053ae13864a27b06bf866c4fdf8ad",
       "version_major": 2,
       "version_minor": 0
      },
      "text/plain": [
       "interactive(children=(Dropdown(description='x', options=('apple', 'peach', 'orange'), value='apple'), Output()…"
      ]
     },
     "metadata": {},
     "output_type": "display_data"
    },
    {
     "data": {
      "text/plain": [
       "<function __main__.fun_list(x)>"
      ]
     },
     "execution_count": 39,
     "metadata": {},
     "output_type": "execute_result"
    }
   ],
   "source": [
    "# 3-5. Interact by list(dropdownlist):\n",
    "def fun_list(x):\n",
    "    return (x)\n",
    "\n",
    "interact(fun_list, x=['apple','peach','orange'])\n",
    "#interact(fun_list, x=('apple','peach')) # ERROR: ('apple', 'peach') cannot be transformed to a widget"
   ]
  },
  {
   "cell_type": "code",
   "execution_count": 40,
   "metadata": {},
   "outputs": [
    {
     "data": {
      "application/vnd.jupyter.widget-view+json": {
       "model_id": "48f7b79308d544dba63d9a35432c2950",
       "version_major": 2,
       "version_minor": 0
      },
      "text/plain": [
       "interactive(children=(Dropdown(description='x', options={'1': 'apple', '2': 'orange', '3': 'peach'}, value='ap…"
      ]
     },
     "metadata": {},
     "output_type": "display_data"
    },
    {
     "data": {
      "text/plain": [
       "<function __main__.fun_dict(x)>"
      ]
     },
     "execution_count": 40,
     "metadata": {},
     "output_type": "execute_result"
    }
   ],
   "source": [
    "#3-6. Dictionary testing:\n",
    "\n",
    "def fun_dict(x):\n",
    "    return (x)\n",
    "\n",
    "interact(fun_dict, x={'1':'apple','2':'orange','3':'peach'}) # Just key kept in the dropdownlist, no values."
   ]
  },
  {
   "cell_type": "markdown",
   "metadata": {},
   "source": [
    "### 2. Interactive:\n",
    "***That is useful when you want to reuse the widgets that are produced or access the data that is bound to the UI controls."
   ]
  },
  {
   "cell_type": "code",
   "execution_count": 53,
   "metadata": {},
   "outputs": [
    {
     "data": {
      "application/vnd.jupyter.widget-view+json": {
       "model_id": "283f55ccef7341899cf745e37a8c8e06",
       "version_major": 2,
       "version_minor": 0
      },
      "text/plain": [
       "interactive(children=(IntSlider(value=10, description='x', max=30, min=-10), IntSlider(value=4, description='y…"
      ]
     },
     "metadata": {},
     "output_type": "display_data"
    }
   ],
   "source": [
    "#1. Original: BY interact.\n",
    "@interact(x=10, y=4, z=1.2)\n",
    "\n",
    "def func_add(x,y,z):\n",
    "    return (x+y+z)"
   ]
  },
  {
   "cell_type": "code",
   "execution_count": 50,
   "metadata": {},
   "outputs": [
    {
     "data": {
      "application/vnd.jupyter.widget-view+json": {
       "model_id": "5ed08dcc37df4cc4a882bd75d578203d",
       "version_major": 2,
       "version_minor": 0
      },
      "text/plain": [
       "interactive(children=(IntSlider(value=4, description='a', max=12, min=-4), IntSlider(value=10, description='b'…"
      ]
     },
     "metadata": {},
     "output_type": "display_data"
    },
    {
     "data": {
      "text/plain": [
       "<function __main__.addTest(a=2, b=9)>"
      ]
     },
     "execution_count": 50,
     "metadata": {},
     "output_type": "execute_result"
    }
   ],
   "source": [
    "def addTest(a=2,b=9):\n",
    "    return (a+b)\n",
    "\n",
    "interact(addTest, a=4, b=10)"
   ]
  },
  {
   "cell_type": "code",
   "execution_count": 68,
   "metadata": {},
   "outputs": [
    {
     "data": {
      "application/vnd.jupyter.widget-view+json": {
       "model_id": "229331b8c2a54051b0f0d1f6ce47143f",
       "version_major": 2,
       "version_minor": 0
      },
      "text/plain": [
       "interactive(children=(IntSlider(value=2, description='x', max=6, min=-2), IntSlider(value=4, description='y', …"
      ]
     },
     "metadata": {},
     "output_type": "display_data"
    }
   ],
   "source": [
    "# 2. BY interactive:\n",
    "#from IPython.display import display\n",
    "\n",
    "def fun_add2(x,y):\n",
    "    display(x+y) #If no display here, the result on the corner will not display.\n",
    "    return (x+y)\n",
    "\n",
    "interactive(fun_add2, x=2, y=4)"
   ]
  },
  {
   "cell_type": "code",
   "execution_count": 69,
   "metadata": {},
   "outputs": [
    {
     "name": "stdout",
     "output_type": "stream",
     "text": [
      "<class 'ipywidgets.widgets.interaction.interactive'>\n",
      "(IntSlider(value=2, description='x', max=6, min=-2), IntSlider(value=4, description='y', max=12, min=-4), Output())\n"
     ]
    }
   ],
   "source": [
    "w=interactive(fun_add2, x=2, y=4)\n",
    "print(type(w)) #<class 'ipywidgets.widgets.interaction.interactive'>\n",
    "print(w.children)"
   ]
  },
  {
   "cell_type": "markdown",
   "metadata": {},
   "source": [
    "### 3. Widget List:"
   ]
  },
  {
   "cell_type": "code",
   "execution_count": 70,
   "metadata": {},
   "outputs": [],
   "source": [
    "import ipywidgets as widgets\n"
   ]
  },
  {
   "cell_type": "code",
   "execution_count": 73,
   "metadata": {},
   "outputs": [
    {
     "name": "stdout",
     "output_type": "stream",
     "text": [
      "('@jupyter-widgets/base', '1.1.0', 'LayoutModel', '@jupyter-widgets/base', '1.1.0', 'LayoutView')\n",
      "('@jupyter-widgets/controls', '1.4.0', 'AccordionModel', '@jupyter-widgets/controls', '1.4.0', 'AccordionView')\n",
      "('@jupyter-widgets/controls', '1.4.0', 'AudioModel', '@jupyter-widgets/controls', '1.4.0', 'AudioView')\n",
      "('@jupyter-widgets/controls', '1.4.0', 'BoundedFloatTextModel', '@jupyter-widgets/controls', '1.4.0', 'FloatTextView')\n",
      "('@jupyter-widgets/controls', '1.4.0', 'BoundedIntTextModel', '@jupyter-widgets/controls', '1.4.0', 'IntTextView')\n",
      "('@jupyter-widgets/controls', '1.4.0', 'BoxModel', '@jupyter-widgets/controls', '1.4.0', 'BoxView')\n",
      "('@jupyter-widgets/controls', '1.4.0', 'ButtonModel', '@jupyter-widgets/controls', '1.4.0', 'ButtonView')\n",
      "('@jupyter-widgets/controls', '1.4.0', 'ButtonStyleModel', '@jupyter-widgets/base', '1.1.0', 'StyleView')\n",
      "('@jupyter-widgets/controls', '1.4.0', 'CheckboxModel', '@jupyter-widgets/controls', '1.4.0', 'CheckboxView')\n",
      "('@jupyter-widgets/controls', '1.4.0', 'ColorPickerModel', '@jupyter-widgets/controls', '1.4.0', 'ColorPickerView')\n",
      "('@jupyter-widgets/controls', '1.4.0', 'ControllerAxisModel', '@jupyter-widgets/controls', '1.4.0', 'ControllerAxisView')\n",
      "('@jupyter-widgets/controls', '1.4.0', 'ControllerButtonModel', '@jupyter-widgets/controls', '1.4.0', 'ControllerButtonView')\n",
      "('@jupyter-widgets/controls', '1.4.0', 'ControllerModel', '@jupyter-widgets/controls', '1.4.0', 'ControllerView')\n",
      "('@jupyter-widgets/controls', '1.4.0', 'DOMWidgetModel', '@jupyter-widgets/controls', '1.4.0', None)\n",
      "('@jupyter-widgets/controls', '1.4.0', 'DatePickerModel', '@jupyter-widgets/controls', '1.4.0', 'DatePickerView')\n",
      "('@jupyter-widgets/controls', '1.4.0', 'DescriptionStyleModel', '@jupyter-widgets/base', '1.1.0', 'StyleView')\n",
      "('@jupyter-widgets/controls', '1.4.0', 'DirectionalLinkModel', '@jupyter-widgets/controls', '1.4.0', None)\n",
      "('@jupyter-widgets/controls', '1.4.0', 'DropdownModel', '@jupyter-widgets/controls', '1.4.0', 'DropdownView')\n",
      "('@jupyter-widgets/controls', '1.4.0', 'FloatLogSliderModel', '@jupyter-widgets/controls', '1.4.0', 'FloatLogSliderView')\n",
      "('@jupyter-widgets/controls', '1.4.0', 'FloatProgressModel', '@jupyter-widgets/controls', '1.4.0', 'ProgressView')\n",
      "('@jupyter-widgets/controls', '1.4.0', 'FloatRangeSliderModel', '@jupyter-widgets/controls', '1.4.0', 'FloatRangeSliderView')\n",
      "('@jupyter-widgets/controls', '1.4.0', 'FloatSliderModel', '@jupyter-widgets/controls', '1.4.0', 'FloatSliderView')\n",
      "('@jupyter-widgets/controls', '1.4.0', 'FloatTextModel', '@jupyter-widgets/controls', '1.4.0', 'FloatTextView')\n",
      "('@jupyter-widgets/controls', '1.4.0', 'GridBoxModel', '@jupyter-widgets/controls', '1.4.0', 'GridBoxView')\n",
      "('@jupyter-widgets/controls', '1.4.0', 'HBoxModel', '@jupyter-widgets/controls', '1.4.0', 'HBoxView')\n",
      "('@jupyter-widgets/controls', '1.4.0', 'HTMLMathModel', '@jupyter-widgets/controls', '1.4.0', 'HTMLMathView')\n",
      "('@jupyter-widgets/controls', '1.4.0', 'HTMLModel', '@jupyter-widgets/controls', '1.4.0', 'HTMLView')\n",
      "('@jupyter-widgets/controls', '1.4.0', 'ImageModel', '@jupyter-widgets/controls', '1.4.0', 'ImageView')\n",
      "('@jupyter-widgets/controls', '1.4.0', 'IntProgressModel', '@jupyter-widgets/controls', '1.4.0', 'ProgressView')\n",
      "('@jupyter-widgets/controls', '1.4.0', 'IntRangeSliderModel', '@jupyter-widgets/controls', '1.4.0', 'IntRangeSliderView')\n",
      "('@jupyter-widgets/controls', '1.4.0', 'IntSliderModel', '@jupyter-widgets/controls', '1.4.0', 'IntSliderView')\n",
      "('@jupyter-widgets/controls', '1.4.0', 'IntTextModel', '@jupyter-widgets/controls', '1.4.0', 'IntTextView')\n",
      "('@jupyter-widgets/controls', '1.4.0', 'LabelModel', '@jupyter-widgets/controls', '1.4.0', 'LabelView')\n",
      "('@jupyter-widgets/controls', '1.4.0', 'LinkModel', '@jupyter-widgets/controls', '1.4.0', None)\n",
      "('@jupyter-widgets/controls', '1.4.0', 'PasswordModel', '@jupyter-widgets/controls', '1.4.0', 'PasswordView')\n",
      "('@jupyter-widgets/controls', '1.4.0', 'PlayModel', '@jupyter-widgets/controls', '1.4.0', 'PlayView')\n",
      "('@jupyter-widgets/controls', '1.4.0', 'ProgressStyleModel', '@jupyter-widgets/base', '1.1.0', 'StyleView')\n",
      "('@jupyter-widgets/controls', '1.4.0', 'RadioButtonsModel', '@jupyter-widgets/controls', '1.4.0', 'RadioButtonsView')\n",
      "('@jupyter-widgets/controls', '1.4.0', 'SelectModel', '@jupyter-widgets/controls', '1.4.0', 'SelectView')\n",
      "('@jupyter-widgets/controls', '1.4.0', 'SelectMultipleModel', '@jupyter-widgets/controls', '1.4.0', 'SelectMultipleView')\n",
      "('@jupyter-widgets/controls', '1.4.0', 'SelectionRangeSliderModel', '@jupyter-widgets/controls', '1.4.0', 'SelectionRangeSliderView')\n",
      "('@jupyter-widgets/controls', '1.4.0', 'SelectionSliderModel', '@jupyter-widgets/controls', '1.4.0', 'SelectionSliderView')\n",
      "('@jupyter-widgets/controls', '1.4.0', 'SliderStyleModel', '@jupyter-widgets/base', '1.1.0', 'StyleView')\n",
      "('@jupyter-widgets/controls', '1.4.0', 'TabModel', '@jupyter-widgets/controls', '1.4.0', 'TabView')\n",
      "('@jupyter-widgets/controls', '1.4.0', 'TextModel', '@jupyter-widgets/controls', '1.4.0', 'TextView')\n",
      "('@jupyter-widgets/controls', '1.4.0', 'TextareaModel', '@jupyter-widgets/controls', '1.4.0', 'TextareaView')\n",
      "('@jupyter-widgets/controls', '1.4.0', 'ToggleButtonModel', '@jupyter-widgets/controls', '1.4.0', 'ToggleButtonView')\n",
      "('@jupyter-widgets/controls', '1.4.0', 'ToggleButtonsModel', '@jupyter-widgets/controls', '1.4.0', 'ToggleButtonsView')\n",
      "('@jupyter-widgets/controls', '1.4.0', 'ToggleButtonsStyleModel', '@jupyter-widgets/base', '1.1.0', 'StyleView')\n",
      "('@jupyter-widgets/controls', '1.4.0', 'VBoxModel', '@jupyter-widgets/controls', '1.4.0', 'VBoxView')\n",
      "('@jupyter-widgets/controls', '1.4.0', 'ValidModel', '@jupyter-widgets/controls', '1.4.0', 'ValidView')\n",
      "('@jupyter-widgets/controls', '1.4.0', 'VideoModel', '@jupyter-widgets/controls', '1.4.0', 'VideoView')\n",
      "('@jupyter-widgets/output', '1.0.0', 'OutputModel', '@jupyter-widgets/output', '1.0.0', 'OutputView')\n"
     ]
    }
   ],
   "source": [
    "for item in widgets.Widget.widget_types.items():\n",
    "    print(item[0])"
   ]
  },
  {
   "cell_type": "code",
   "execution_count": 76,
   "metadata": {},
   "outputs": [
    {
     "data": {
      "application/vnd.jupyter.widget-view+json": {
       "model_id": "f0a3cbff215b42f79e42a50b7c488a6d",
       "version_major": 2,
       "version_minor": 0
      },
      "text/plain": [
       "IntProgress(value=7, bar_style='success', description='Loading:', max=10)"
      ]
     },
     "metadata": {},
     "output_type": "display_data"
    }
   ],
   "source": [
    "#1. IntProgress:\n",
    "widgets.IntProgress(value=7,min=0,max=10, step=1,\n",
    "                    description='Loading:',\n",
    "                    bar_style='success', # 'success', 'info', 'warning', 'danger' or ''\n",
    "                    orientation='horizontal'\n",
    ")"
   ]
  },
  {
   "cell_type": "code",
   "execution_count": 79,
   "metadata": {},
   "outputs": [
    {
     "data": {
      "application/vnd.jupyter.widget-view+json": {
       "model_id": "4b544461375c459887b5e9572c9ba02d",
       "version_major": 2,
       "version_minor": 0
      },
      "text/plain": [
       "ToggleButton(value=False, description='Click', icon='check', tooltip='Description')"
      ]
     },
     "metadata": {},
     "output_type": "display_data"
    }
   ],
   "source": [
    "#2. ToggleButton:\n",
    "widgets.ToggleButton(value=False, \n",
    "                    description=\"Click\",\n",
    "                    disabled=False,\n",
    "                    button_style='', # 'success', 'info', 'warning', 'danger' or ''\n",
    "                    tooltip='Description',\n",
    "                    icon='check')"
   ]
  },
  {
   "cell_type": "code",
   "execution_count": 81,
   "metadata": {},
   "outputs": [
    {
     "data": {
      "application/vnd.jupyter.widget-view+json": {
       "model_id": "731a09ee8df34608a81fc62a3e06f02c",
       "version_major": 2,
       "version_minor": 0
      },
      "text/plain": [
       "HTML(value='Hello <b>World</b>', description='Description', placeholder='Some HTML')"
      ]
     },
     "metadata": {},
     "output_type": "display_data"
    }
   ],
   "source": [
    "#3. HTML:\n",
    "widgets.HTML(\n",
    "    value=\"Hello <b>World</b>\",\n",
    "    placeholder='Some HTML',\n",
    "    description='Description'\n",
    ")"
   ]
  },
  {
   "cell_type": "markdown",
   "metadata": {},
   "source": [
    "### 4. Widgets layout & styling:\n"
   ]
  },
  {
   "cell_type": "code",
   "execution_count": 83,
   "metadata": {},
   "outputs": [
    {
     "data": {
      "application/vnd.jupyter.widget-view+json": {
       "model_id": "03d6b3e469ed4278ba57ac2b9bacd160",
       "version_major": 2,
       "version_minor": 0
      },
      "text/plain": [
       "IntSlider(value=0)"
      ]
     },
     "metadata": {},
     "output_type": "display_data"
    }
   ],
   "source": [
    "import ipywidgets as widgets\n",
    "from IPython.display import display\n",
    "\n",
    "w = widgets.IntSlider()\n",
    "display(w)"
   ]
  },
  {
   "cell_type": "code",
   "execution_count": 84,
   "metadata": {},
   "outputs": [],
   "source": [
    "w.layout.margin=\"auto\"\n",
    "w.layout.height=\"75px\""
   ]
  },
  {
   "cell_type": "code",
   "execution_count": 86,
   "metadata": {},
   "outputs": [
    {
     "data": {
      "application/vnd.jupyter.widget-view+json": {
       "model_id": "e3b0113462f646aaa3a1c5e9a94d8903",
       "version_major": 2,
       "version_minor": 0
      },
      "text/plain": [
       "Button(description='Click', style=ButtonStyle())"
      ]
     },
     "metadata": {},
     "output_type": "display_data"
    }
   ],
   "source": [
    "# 2. Button style:\n",
    "b2 = widgets.Button(description = \"Click\")\n",
    "b2"
   ]
  },
  {
   "cell_type": "code",
   "execution_count": 89,
   "metadata": {},
   "outputs": [],
   "source": [
    "b2.style.button_color = 'lightgreen'"
   ]
  },
  {
   "cell_type": "code",
   "execution_count": 90,
   "metadata": {},
   "outputs": [
    {
     "data": {
      "application/vnd.jupyter.widget-view+json": {
       "model_id": "e3b0113462f646aaa3a1c5e9a94d8903",
       "version_major": 2,
       "version_minor": 0
      },
      "text/plain": [
       "Button(description='Click', style=ButtonStyle(button_color='lightgreen'))"
      ]
     },
     "metadata": {},
     "output_type": "display_data"
    }
   ],
   "source": [
    "b2"
   ]
  },
  {
   "cell_type": "code",
   "execution_count": 92,
   "metadata": {},
   "outputs": [
    {
     "data": {
      "application/vnd.jupyter.widget-view+json": {
       "model_id": "32bf2d585a4945ba80db295dcbdac6f9",
       "version_major": 2,
       "version_minor": 0
      },
      "text/plain": [
       "Button(description='Click_Button1', style=ButtonStyle(button_color='lightgreen'))"
      ]
     },
     "metadata": {},
     "output_type": "display_data"
    }
   ],
   "source": [
    "b1 = widgets.Button(description = \"Click_Button1\")\n",
    "b1.style = b2.style #Copy style to b1.\n",
    "\n",
    "b1"
   ]
  },
  {
   "cell_type": "code",
   "execution_count": 94,
   "metadata": {},
   "outputs": [
    {
     "data": {
      "text/plain": [
       "['_model_module',\n",
       " '_model_module_version',\n",
       " '_model_name',\n",
       " '_view_count',\n",
       " '_view_module',\n",
       " '_view_module_version',\n",
       " '_view_name',\n",
       " 'button_color',\n",
       " 'font_weight']"
      ]
     },
     "execution_count": 94,
     "metadata": {},
     "output_type": "execute_result"
    }
   ],
   "source": [
    "b1.style.keys"
   ]
  }
 ],
 "metadata": {
  "kernelspec": {
   "display_name": "Python 3",
   "language": "python",
   "name": "python3"
  },
  "language_info": {
   "codemirror_mode": {
    "name": "ipython",
    "version": 3
   },
   "file_extension": ".py",
   "mimetype": "text/x-python",
   "name": "python",
   "nbconvert_exporter": "python",
   "pygments_lexer": "ipython3",
   "version": "3.7.1"
  }
 },
 "nbformat": 4,
 "nbformat_minor": 2
}
