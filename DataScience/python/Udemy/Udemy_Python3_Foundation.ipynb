{
 "cells": [
  {
   "cell_type": "markdown",
   "metadata": {},
   "source": [
    "#### Python 2 VS Python3:\n",
    "#### http://sebastianraschka.com/Articles/2014_python_2_3_key_diff.html#python-2-4"
   ]
  },
  {
   "cell_type": "code",
   "execution_count": 13,
   "metadata": {},
   "outputs": [],
   "source": [
    "a=\"abcdefghijklmnop\""
   ]
  },
  {
   "cell_type": "code",
   "execution_count": 14,
   "metadata": {},
   "outputs": [
    {
     "data": {
      "text/plain": [
       "'abcdefghijklmnop'"
      ]
     },
     "execution_count": 14,
     "metadata": {},
     "output_type": "execute_result"
    }
   ],
   "source": [
    "a[0:] #Grab from index[0] to the end."
   ]
  },
  {
   "cell_type": "code",
   "execution_count": 15,
   "metadata": {},
   "outputs": [
    {
     "data": {
      "text/plain": [
       "'cdefghijklmnop'"
      ]
     },
     "execution_count": 15,
     "metadata": {},
     "output_type": "execute_result"
    }
   ],
   "source": [
    "a[2:] #Grab from index[2] c to the end."
   ]
  },
  {
   "cell_type": "code",
   "execution_count": 16,
   "metadata": {},
   "outputs": [
    {
     "data": {
      "text/plain": [
       "'abc'"
      ]
     },
     "execution_count": 16,
     "metadata": {},
     "output_type": "execute_result"
    }
   ],
   "source": [
    "a[:3] \n",
    "#Grab from the beginning to the one with index[3], \n",
    "#but the d with index of 3 will not be included."
   ]
  },
  {
   "cell_type": "code",
   "execution_count": 17,
   "metadata": {},
   "outputs": [
    {
     "data": {
      "text/plain": [
       "'def'"
      ]
     },
     "execution_count": 17,
     "metadata": {},
     "output_type": "execute_result"
    }
   ],
   "source": [
    "a[3:6]"
   ]
  },
  {
   "cell_type": "code",
   "execution_count": 18,
   "metadata": {},
   "outputs": [
    {
     "data": {
      "text/plain": [
       "'acegikmo'"
      ]
     },
     "execution_count": 18,
     "metadata": {},
     "output_type": "execute_result"
    }
   ],
   "source": [
    "#Step sides:\n",
    "a[::2] #Grab the letter with step side of 2."
   ]
  },
  {
   "cell_type": "code",
   "execution_count": 19,
   "metadata": {},
   "outputs": [
    {
     "data": {
      "text/plain": [
       "'cfil'"
      ]
     },
     "execution_count": 19,
     "metadata": {},
     "output_type": "execute_result"
    }
   ],
   "source": [
    "a[2:14:3] #a[2:14]:cdefghijklmn, with 3 step side:"
   ]
  },
  {
   "cell_type": "code",
   "execution_count": 20,
   "metadata": {},
   "outputs": [
    {
     "data": {
      "text/plain": [
       "'ponmlkjihgfedcba'"
      ]
     },
     "execution_count": 20,
     "metadata": {},
     "output_type": "execute_result"
    }
   ],
   "source": [
    "a[::-1]"
   ]
  },
  {
   "cell_type": "markdown",
   "metadata": {},
   "source": [
    "String immutability"
   ]
  },
  {
   "cell_type": "code",
   "execution_count": 23,
   "metadata": {},
   "outputs": [
    {
     "ename": "TypeError",
     "evalue": "'str' object does not support item assignment",
     "output_type": "error",
     "traceback": [
      "\u001b[1;31m---------------------------------------------------------------------------\u001b[0m",
      "\u001b[1;31mTypeError\u001b[0m                                 Traceback (most recent call last)",
      "\u001b[1;32m<ipython-input-23-5b6c8fc376c8>\u001b[0m in \u001b[0;36m<module>\u001b[1;34m\u001b[0m\n\u001b[1;32m----> 1\u001b[1;33m \u001b[0ma\u001b[0m\u001b[1;33m[\u001b[0m\u001b[1;36m1\u001b[0m\u001b[1;33m]\u001b[0m\u001b[1;33m=\u001b[0m\u001b[1;34m'c'\u001b[0m \u001b[1;31m#Error: TypeError: 'str' object does not support item assignment\u001b[0m\u001b[1;33m\u001b[0m\u001b[1;33m\u001b[0m\u001b[0m\n\u001b[0m",
      "\u001b[1;31mTypeError\u001b[0m: 'str' object does not support item assignment"
     ]
    }
   ],
   "source": [
    "a[1]='c' #Error: TypeError: 'str' object does not support item assignment"
   ]
  },
  {
   "cell_type": "code",
   "execution_count": 24,
   "metadata": {},
   "outputs": [
    {
     "data": {
      "text/plain": [
       "'accdefghijklmnop'"
      ]
     },
     "execution_count": 24,
     "metadata": {},
     "output_type": "execute_result"
    }
   ],
   "source": [
    "#Slicing+Adding:\n",
    "a[0]+'c'+a[2:]"
   ]
  },
  {
   "cell_type": "code",
   "execution_count": 25,
   "metadata": {},
   "outputs": [
    {
     "data": {
      "text/plain": [
       "'abcdefghijklmnopabcdefghijklmnopabcdefghijklmnop'"
      ]
     },
     "execution_count": 25,
     "metadata": {},
     "output_type": "execute_result"
    }
   ],
   "source": [
    "a*3"
   ]
  },
  {
   "cell_type": "code",
   "execution_count": 26,
   "metadata": {},
   "outputs": [],
   "source": [
    "b=\"Hi this is a string.\""
   ]
  },
  {
   "cell_type": "code",
   "execution_count": 27,
   "metadata": {},
   "outputs": [
    {
     "data": {
      "text/plain": [
       "['Hi', 'this', 'is', 'a', 'string.']"
      ]
     },
     "execution_count": 27,
     "metadata": {},
     "output_type": "execute_result"
    }
   ],
   "source": [
    "b.split() #Default split by space."
   ]
  },
  {
   "cell_type": "code",
   "execution_count": 28,
   "metadata": {},
   "outputs": [
    {
     "data": {
      "text/plain": [
       "['H', ' th', 's ', 's a str', 'ng.']"
      ]
     },
     "execution_count": 28,
     "metadata": {},
     "output_type": "execute_result"
    }
   ],
   "source": [
    "b.split('i') #Get the list of splited strings."
   ]
  },
  {
   "cell_type": "code",
   "execution_count": 31,
   "metadata": {},
   "outputs": [
    {
     "data": {
      "text/plain": [
       "'HI THIS IS A STRING.'"
      ]
     },
     "execution_count": 31,
     "metadata": {},
     "output_type": "execute_result"
    }
   ],
   "source": [
    "b.upper()"
   ]
  },
  {
   "cell_type": "code",
   "execution_count": 30,
   "metadata": {},
   "outputs": [
    {
     "data": {
      "text/plain": [
       "'hi this is a string.'"
      ]
     },
     "execution_count": 30,
     "metadata": {},
     "output_type": "execute_result"
    }
   ],
   "source": [
    "b.lower()"
   ]
  },
  {
   "cell_type": "markdown",
   "metadata": {},
   "source": [
    "### String format"
   ]
  },
  {
   "cell_type": "code",
   "execution_count": 36,
   "metadata": {},
   "outputs": [
    {
     "name": "stdout",
     "output_type": "stream",
     "text": [
      "The quick brown fox\n"
     ]
    }
   ],
   "source": [
    "print('The {} {} {}'.format('quick','brown','fox'))"
   ]
  },
  {
   "cell_type": "code",
   "execution_count": 35,
   "metadata": {},
   "outputs": [
    {
     "name": "stdout",
     "output_type": "stream",
     "text": [
      "The quick brown fox\n"
     ]
    }
   ],
   "source": [
    "print('The {1} {2} {0}'.format('fox','quick','brown'))"
   ]
  },
  {
   "cell_type": "code",
   "execution_count": 37,
   "metadata": {},
   "outputs": [
    {
     "name": "stdout",
     "output_type": "stream",
     "text": [
      "The quick brown fox\n"
     ]
    }
   ],
   "source": [
    "print('The {q} {b} {f}'.format(f='fox',q='quick',b='brown'))"
   ]
  },
  {
   "cell_type": "markdown",
   "metadata": {},
   "source": [
    "#### String format with 'f' in print"
   ]
  },
  {
   "cell_type": "code",
   "execution_count": 41,
   "metadata": {},
   "outputs": [],
   "source": [
    "f='fox'\n",
    "q='quick'\n",
    "b='brown'"
   ]
  },
  {
   "cell_type": "code",
   "execution_count": 42,
   "metadata": {},
   "outputs": [
    {
     "name": "stdout",
     "output_type": "stream",
     "text": [
      "The quick brown fox\n"
     ]
    }
   ],
   "source": [
    "print(f'The {q} {b} {f}') \n",
    "#Use f in 3.6 or higher version to make format more brief."
   ]
  },
  {
   "cell_type": "code",
   "execution_count": 43,
   "metadata": {},
   "outputs": [
    {
     "name": "stdout",
     "output_type": "stream",
     "text": [
      "Sam is 3 years old.\n"
     ]
    }
   ],
   "source": [
    "name='Sam'\n",
    "age=3\n",
    "print(f'{name} is {age} years old.')"
   ]
  },
  {
   "cell_type": "markdown",
   "metadata": {},
   "source": [
    "Decimal round with format"
   ]
  },
  {
   "cell_type": "code",
   "execution_count": 38,
   "metadata": {},
   "outputs": [],
   "source": [
    "a=104.1234556"
   ]
  },
  {
   "cell_type": "code",
   "execution_count": 39,
   "metadata": {},
   "outputs": [
    {
     "name": "stdout",
     "output_type": "stream",
     "text": [
      "The result is    104.123\n"
     ]
    }
   ],
   "source": [
    "print('The result is {result:10.3f}'.format(result=a)) \n",
    "#{float num:width.precision f}"
   ]
  },
  {
   "cell_type": "code",
   "execution_count": 40,
   "metadata": {},
   "outputs": [
    {
     "name": "stdout",
     "output_type": "stream",
     "text": [
      "The result is 104.1235\n"
     ]
    }
   ],
   "source": [
    "print('The result is {result:2.4f}'.format(result=a))"
   ]
  },
  {
   "cell_type": "markdown",
   "metadata": {},
   "source": [
    "### List Operation"
   ]
  },
  {
   "cell_type": "markdown",
   "metadata": {},
   "source": [
    "#### Indexing:"
   ]
  },
  {
   "cell_type": "code",
   "execution_count": 3,
   "metadata": {},
   "outputs": [
    {
     "name": "stdout",
     "output_type": "stream",
     "text": [
      "['one', 2, 3.5, 'four', 2, 'four']\n",
      "one\n",
      "3.5\n"
     ]
    }
   ],
   "source": [
    "list=['one',2,3.5,'four',2,'four'] #List items could be duplicated!\n",
    "print(list)\n",
    "print(list[0])\n",
    "print(list[2])"
   ]
  },
  {
   "cell_type": "markdown",
   "metadata": {},
   "source": [
    "#### Slicing-Similar to string operation."
   ]
  },
  {
   "cell_type": "code",
   "execution_count": 67,
   "metadata": {},
   "outputs": [
    {
     "name": "stdout",
     "output_type": "stream",
     "text": [
      "['one', 2]\n",
      "[2, 3.5, 'four']\n"
     ]
    }
   ],
   "source": [
    "print(list[:2]) \n",
    "print(list[1:4])"
   ]
  },
  {
   "cell_type": "markdown",
   "metadata": {},
   "source": [
    "#### Catenation-Similar to string operation."
   ]
  },
  {
   "cell_type": "code",
   "execution_count": 68,
   "metadata": {},
   "outputs": [
    {
     "name": "stdout",
     "output_type": "stream",
     "text": [
      "['one', 2, 3.5, 'four', 'three', 5]\n"
     ]
    }
   ],
   "source": [
    "another_list=['three',5]\n",
    "print(list+another_list)"
   ]
  },
  {
   "cell_type": "markdown",
   "metadata": {},
   "source": [
    "#### List mutability-Different from String."
   ]
  },
  {
   "cell_type": "code",
   "execution_count": 69,
   "metadata": {},
   "outputs": [
    {
     "name": "stdout",
     "output_type": "stream",
     "text": [
      "['ONE', 2, 3.5, 'four']\n"
     ]
    }
   ],
   "source": [
    "list[0]='ONE'\n",
    "print(list) #list from ['one',2,3.5,'four'] to ['ONE', 2, 3.5, 'four']"
   ]
  },
  {
   "cell_type": "markdown",
   "metadata": {},
   "source": [
    "#### List append"
   ]
  },
  {
   "cell_type": "code",
   "execution_count": 70,
   "metadata": {},
   "outputs": [],
   "source": [
    "another_list.append('seven')"
   ]
  },
  {
   "cell_type": "code",
   "execution_count": 71,
   "metadata": {},
   "outputs": [
    {
     "name": "stdout",
     "output_type": "stream",
     "text": [
      "['three', 5, 'seven']\n"
     ]
    }
   ],
   "source": [
    "print(another_list)"
   ]
  },
  {
   "cell_type": "code",
   "execution_count": 72,
   "metadata": {},
   "outputs": [
    {
     "ename": "TypeError",
     "evalue": "can only concatenate list (not \"str\") to list",
     "output_type": "error",
     "traceback": [
      "\u001b[1;31m---------------------------------------------------------------------------\u001b[0m",
      "\u001b[1;31mTypeError\u001b[0m                                 Traceback (most recent call last)",
      "\u001b[1;32m<ipython-input-72-8c641fbdc982>\u001b[0m in \u001b[0;36m<module>\u001b[1;34m\u001b[0m\n\u001b[1;32m----> 1\u001b[1;33m \u001b[0mprint\u001b[0m\u001b[1;33m(\u001b[0m\u001b[0manother_list\u001b[0m\u001b[1;33m+\u001b[0m\u001b[1;34m'seven'\u001b[0m\u001b[1;33m)\u001b[0m \u001b[1;31m#List could not add new items.Different from string.\u001b[0m\u001b[1;33m\u001b[0m\u001b[1;33m\u001b[0m\u001b[0m\n\u001b[0m",
      "\u001b[1;31mTypeError\u001b[0m: can only concatenate list (not \"str\") to list"
     ]
    }
   ],
   "source": [
    "print(another_list+'seven') #List could not add new items.Different from string."
   ]
  },
  {
   "cell_type": "code",
   "execution_count": 73,
   "metadata": {},
   "outputs": [
    {
     "name": "stdout",
     "output_type": "stream",
     "text": [
      "['three', 5, 'seven', ['ONE', 2, 3.5, 'four']]\n"
     ]
    }
   ],
   "source": [
    "another_list.append(list)\n",
    "print(another_list) #append the whole list, not the items."
   ]
  },
  {
   "cell_type": "markdown",
   "metadata": {},
   "source": [
    "#### List Sort & assign"
   ]
  },
  {
   "cell_type": "code",
   "execution_count": 81,
   "metadata": {},
   "outputs": [],
   "source": [
    "list_str=['d','i','a','k','b']\n",
    "list_num=[4,6,1,7,8]"
   ]
  },
  {
   "cell_type": "code",
   "execution_count": 82,
   "metadata": {},
   "outputs": [
    {
     "name": "stdout",
     "output_type": "stream",
     "text": [
      "<class 'NoneType'>\n"
     ]
    }
   ],
   "source": [
    "new_list_str=list_str.sort()\n",
    "print(type(new_list_str)) #the result after sorting could not be assigned to a new list, as it is None Type."
   ]
  },
  {
   "cell_type": "code",
   "execution_count": 83,
   "metadata": {},
   "outputs": [
    {
     "name": "stdout",
     "output_type": "stream",
     "text": [
      "['a', 'b', 'd', 'i', 'k']\n"
     ]
    }
   ],
   "source": [
    "#If you want to assign the new list to another variable list:\n",
    "list_str.sort()\n",
    "new_list_str=list_str #The sorting will be operated on the original list and return NONE.\n",
    "\n",
    "print(new_list_str)"
   ]
  },
  {
   "cell_type": "code",
   "execution_count": 84,
   "metadata": {},
   "outputs": [
    {
     "name": "stdout",
     "output_type": "stream",
     "text": [
      "None\n"
     ]
    }
   ],
   "source": [
    "print(list_num.sort()) #print nothing after sorting. Must check original list."
   ]
  },
  {
   "cell_type": "code",
   "execution_count": 85,
   "metadata": {},
   "outputs": [
    {
     "name": "stdout",
     "output_type": "stream",
     "text": [
      "[1, 4, 6, 7, 8]\n"
     ]
    }
   ],
   "source": [
    "list_num.sort() #The sorting will be operated on the original list and return NONE.\n",
    "print(list_num)"
   ]
  },
  {
   "cell_type": "markdown",
   "metadata": {},
   "source": [
    "#### List Reverse()"
   ]
  },
  {
   "cell_type": "code",
   "execution_count": 86,
   "metadata": {},
   "outputs": [
    {
     "name": "stdout",
     "output_type": "stream",
     "text": [
      "None\n",
      "None\n"
     ]
    }
   ],
   "source": [
    "print(list_str.reverse()) #similar to sort.\n",
    "print(list_num.reverse())"
   ]
  },
  {
   "cell_type": "code",
   "execution_count": 87,
   "metadata": {},
   "outputs": [
    {
     "name": "stdout",
     "output_type": "stream",
     "text": [
      "['a', 'b', 'd', 'i', 'k']\n",
      "[1, 4, 6, 7, 8]\n"
     ]
    }
   ],
   "source": [
    "list_str.reverse()\n",
    "list_num.reverse()\n",
    "print(list_str)\n",
    "print(list_num)"
   ]
  },
  {
   "cell_type": "markdown",
   "metadata": {},
   "source": [
    "#### List Pop()"
   ]
  },
  {
   "cell_type": "code",
   "execution_count": 88,
   "metadata": {},
   "outputs": [
    {
     "data": {
      "text/plain": [
       "'k'"
      ]
     },
     "execution_count": 88,
     "metadata": {},
     "output_type": "execute_result"
    }
   ],
   "source": [
    "list_str.pop() #Return the item has been poped out."
   ]
  },
  {
   "cell_type": "code",
   "execution_count": 89,
   "metadata": {},
   "outputs": [
    {
     "name": "stdout",
     "output_type": "stream",
     "text": [
      "['a', 'b', 'i']\n"
     ]
    }
   ],
   "source": [
    "list_str.pop(2) #Return the item assigned should be poped out: d\n",
    "print(list_str)"
   ]
  },
  {
   "cell_type": "code",
   "execution_count": 90,
   "metadata": {},
   "outputs": [
    {
     "ename": "SyntaxError",
     "evalue": "invalid syntax (<ipython-input-90-1dd139e5522c>, line 1)",
     "output_type": "error",
     "traceback": [
      "\u001b[1;36m  File \u001b[1;32m\"<ipython-input-90-1dd139e5522c>\"\u001b[1;36m, line \u001b[1;32m1\u001b[0m\n\u001b[1;33m    list_num.pop(2:4)\u001b[0m\n\u001b[1;37m                  ^\u001b[0m\n\u001b[1;31mSyntaxError\u001b[0m\u001b[1;31m:\u001b[0m invalid syntax\n"
     ]
    }
   ],
   "source": [
    "list_num.pop(2:4) #Could not pop as [:] format."
   ]
  },
  {
   "cell_type": "markdown",
   "metadata": {},
   "source": [
    "#### List max & min:"
   ]
  },
  {
   "cell_type": "code",
   "execution_count": 42,
   "metadata": {},
   "outputs": [
    {
     "name": "stdout",
     "output_type": "stream",
     "text": [
      "788\n",
      "7\n",
      "z\n",
      "daf\n"
     ]
    }
   ],
   "source": [
    "listInt=[335,623,7,246,788,135]\n",
    "print(max(listInt))\n",
    "print(min(listInt))\n",
    "\n",
    "listStr=['daf','ewe','ysd','peo','z']\n",
    "print(max(listStr))\n",
    "print(min(listStr))"
   ]
  },
  {
   "cell_type": "markdown",
   "metadata": {},
   "source": [
    "#### List  comprehension: Generate list by python simple type. (means append())"
   ]
  },
  {
   "cell_type": "code",
   "execution_count": 61,
   "metadata": {},
   "outputs": [
    {
     "name": "stdout",
     "output_type": "stream",
     "text": [
      "[0, 1, 2, 3, 4, 5, 6, 7, 8, 9]\n"
     ]
    }
   ],
   "source": [
    "listInt=[num for num in range(0,10)]\n",
    "print(listInt)"
   ]
  },
  {
   "cell_type": "markdown",
   "metadata": {},
   "source": [
    "####  List  comprehension: Generate list by python simple type + operation ahead"
   ]
  },
  {
   "cell_type": "code",
   "execution_count": 62,
   "metadata": {},
   "outputs": [
    {
     "name": "stdout",
     "output_type": "stream",
     "text": [
      "[1, 4, 9, 16]\n"
     ]
    }
   ],
   "source": [
    "listInt=[num**2 for num in range(1,5)]\n",
    "print(listInt)"
   ]
  },
  {
   "cell_type": "markdown",
   "metadata": {},
   "source": [
    "####  List  comprehension: Generate list by python simple type + operation ahead + condition behind."
   ]
  },
  {
   "cell_type": "code",
   "execution_count": 63,
   "metadata": {},
   "outputs": [
    {
     "name": "stdout",
     "output_type": "stream",
     "text": [
      "[4, 16]\n"
     ]
    }
   ],
   "source": [
    "listInt=[num**2 for num in range(1,5) if num%2==0] #Just square on the even num.\n",
    "print(listInt)"
   ]
  },
  {
   "cell_type": "code",
   "execution_count": 72,
   "metadata": {},
   "outputs": [
    {
     "ename": "SyntaxError",
     "evalue": "invalid syntax (<ipython-input-72-1a17ad9a2167>, line 1)",
     "output_type": "error",
     "traceback": [
      "\u001b[1;36m  File \u001b[1;32m\"<ipython-input-72-1a17ad9a2167>\"\u001b[1;36m, line \u001b[1;32m1\u001b[0m\n\u001b[1;33m    listInt=[num**2  if num%2==0 for num in range(1,5)] # Pure IF: must be on the rear.\u001b[0m\n\u001b[1;37m                                   ^\u001b[0m\n\u001b[1;31mSyntaxError\u001b[0m\u001b[1;31m:\u001b[0m invalid syntax\n"
     ]
    }
   ],
   "source": [
    "listInt=[num**2  if num%2==0 for num in range(1,5)] # Pure IF: must be on the rear.\n",
    "print(listInt)"
   ]
  },
  {
   "cell_type": "code",
   "execution_count": 64,
   "metadata": {},
   "outputs": [
    {
     "name": "stdout",
     "output_type": "stream",
     "text": [
      "[93.2, 71.6, 68.0]\n"
     ]
    }
   ],
   "source": [
    "#Another e.g:\n",
    "celcius=[34,22,12,20]\n",
    "fahrenheit=[(9/5)*temp+32 for temp in celcius if temp>15]\n",
    "print(fahrenheit)"
   ]
  },
  {
   "cell_type": "code",
   "execution_count": 66,
   "metadata": {},
   "outputs": [
    {
     "name": "stdout",
     "output_type": "stream",
     "text": [
      "[0, 'odd', 4, 'odd', 16, 'odd', 36, 'odd', 64, 'odd']\n"
     ]
    }
   ],
   "source": [
    "#### List  comprehension: Different positions! with else.\n",
    "listInt=[num**2 if num%2==0 else \"odd\" for num in range(0,10)]\n",
    "print(listInt)"
   ]
  },
  {
   "cell_type": "code",
   "execution_count": 70,
   "metadata": {},
   "outputs": [
    {
     "ename": "SyntaxError",
     "evalue": "invalid syntax (<ipython-input-70-4fc84652953f>, line 1)",
     "output_type": "error",
     "traceback": [
      "\u001b[1;36m  File \u001b[1;32m\"<ipython-input-70-4fc84652953f>\"\u001b[1;36m, line \u001b[1;32m1\u001b[0m\n\u001b[1;33m    listInt=[num**2 for num in range(0,10) if num%2==0 else:\"odd\"]\u001b[0m\n\u001b[1;37m                                                          ^\u001b[0m\n\u001b[1;31mSyntaxError\u001b[0m\u001b[1;31m:\u001b[0m invalid syntax\n"
     ]
    }
   ],
   "source": [
    "listInt=[num**2 for num in range(0,10) if num%2==0 else \"odd\"] #IF ELSE will be error if put on the rear.\n",
    "print(listInt)"
   ]
  },
  {
   "cell_type": "markdown",
   "metadata": {},
   "source": [
    "#### List Comprehension: Recommend Readable first!"
   ]
  },
  {
   "cell_type": "code",
   "execution_count": 78,
   "metadata": {},
   "outputs": [
    {
     "name": "stdout",
     "output_type": "stream",
     "text": [
      "[100, 200, 300, 200, 400, 600, 300, 600, 900]\n",
      "[100, 200, 300, 200, 400, 600, 300, 600, 900]\n"
     ]
    }
   ],
   "source": [
    "#I. Times by 2 for loop:\n",
    "listres=[]\n",
    "x=[1,2,3]\n",
    "y=[100,200,300]\n",
    "\n",
    "for numx in x:\n",
    "    for numy in y:\n",
    "        listres.append(numx*numy)\n",
    "print(listres)\n",
    "\n",
    "#II. By list comprehension:\n",
    "listres=[numx*numy for numx in x for numy in y] #But not readable...\n",
    "print(listres)"
   ]
  },
  {
   "cell_type": "markdown",
   "metadata": {},
   "source": [
    "### Dictionary"
   ]
  },
  {
   "cell_type": "markdown",
   "metadata": {},
   "source": [
    "#### Dictionary definition, grab value by keys"
   ]
  },
  {
   "cell_type": "code",
   "execution_count": 5,
   "metadata": {},
   "outputs": [
    {
     "name": "stdout",
     "output_type": "stream",
     "text": [
      "{'apple': 3.3, 'orange': 2.0, 'peach': 1.8, 'milk': 1.6, 'egg': 2.9}\n"
     ]
    }
   ],
   "source": [
    "dic_price={'apple':3.3, 'orange':2.0, 'peach':1.8,'milk':1.5, 'egg':2.9,'egg':2.9,'milk':1.6} \n",
    "#Dictionary definition by {}!\n",
    "print(dic_price)\n",
    "# Dictionary:Only one unique key with the lastest value in it."
   ]
  },
  {
   "cell_type": "code",
   "execution_count": 110,
   "metadata": {},
   "outputs": [
    {
     "name": "stdout",
     "output_type": "stream",
     "text": [
      "2.0\n"
     ]
    }
   ],
   "source": [
    "#Grab value by key:\n",
    "price_orange=dic_price['orange']\n",
    "print(price_orange)"
   ]
  },
  {
   "cell_type": "markdown",
   "metadata": {},
   "source": [
    "#### Dictionary add new pair:"
   ]
  },
  {
   "cell_type": "code",
   "execution_count": 111,
   "metadata": {},
   "outputs": [
    {
     "name": "stdout",
     "output_type": "stream",
     "text": [
      "{'apple': 3.3, 'orange': 2.0, 'peach': 1.8, 'milk': 1.5, 'egg': 2.9, 'bread': 3.0}\n"
     ]
    }
   ],
   "source": [
    "dic_price['bread']=3.0\n",
    "print(dic_price)"
   ]
  },
  {
   "cell_type": "markdown",
   "metadata": {},
   "source": [
    "#### Dictionary Reassign value of one item"
   ]
  },
  {
   "cell_type": "code",
   "execution_count": 112,
   "metadata": {},
   "outputs": [
    {
     "name": "stdout",
     "output_type": "stream",
     "text": [
      "{'apple': 3.3, 'orange': 2.0, 'peach': 2.4, 'milk': 1.5, 'egg': 2.9, 'bread': 3.0}\n"
     ]
    }
   ],
   "source": [
    "dic_price['peach']=2.4\n",
    "print(dic_price)"
   ]
  },
  {
   "cell_type": "markdown",
   "metadata": {},
   "source": [
    "#### Dictionary Grab all keys, values & items"
   ]
  },
  {
   "cell_type": "code",
   "execution_count": 113,
   "metadata": {},
   "outputs": [
    {
     "name": "stdout",
     "output_type": "stream",
     "text": [
      "dict_keys(['apple', 'orange', 'peach', 'milk', 'egg', 'bread'])\n",
      "dict_values([3.3, 2.0, 2.4, 1.5, 2.9, 3.0])\n",
      "dict_items([('apple', 3.3), ('orange', 2.0), ('peach', 2.4), ('milk', 1.5), ('egg', 2.9), ('bread', 3.0)])\n"
     ]
    }
   ],
   "source": [
    "print(dic_price.keys())\n",
    "print(dic_price.values())\n",
    "print(dic_price.items())"
   ]
  },
  {
   "cell_type": "markdown",
   "metadata": {},
   "source": [
    "#### Dictionary with flexible types"
   ]
  },
  {
   "cell_type": "code",
   "execution_count": 114,
   "metadata": {},
   "outputs": [],
   "source": [
    "dic_mixed={'key1':1, 'key2':'two', 'key3':[0,1,2,3], 'key4':{'0':1,'1':'one','2':2.0,'3':'three','4':4.00}}"
   ]
  },
  {
   "cell_type": "markdown",
   "metadata": {},
   "source": [
    "#### Dictionary: grab subitem of list by index"
   ]
  },
  {
   "cell_type": "code",
   "execution_count": 115,
   "metadata": {},
   "outputs": [
    {
     "name": "stdout",
     "output_type": "stream",
     "text": [
      "[0, 1, 2, 3]\n",
      "2\n"
     ]
    }
   ],
   "source": [
    "item=dic_mixed['key3']\n",
    "print(item)\n",
    "\n",
    "value=dic_mixed['key3'][2]\n",
    "print(value)"
   ]
  },
  {
   "cell_type": "markdown",
   "metadata": {},
   "source": [
    "#### Dictionary: Grab sub-value by sub-key:"
   ]
  },
  {
   "cell_type": "code",
   "execution_count": 116,
   "metadata": {},
   "outputs": [
    {
     "name": "stdout",
     "output_type": "stream",
     "text": [
      "{'0': 1, '1': 'one', '2': 2.0, '3': 'three', '4': 4.0}\n",
      "4.0\n"
     ]
    }
   ],
   "source": [
    "item=dic_mixed['key4']\n",
    "print(item)\n",
    "\n",
    "subvalue=dic_mixed['key4']['4']\n",
    "print(subvalue)"
   ]
  },
  {
   "cell_type": "markdown",
   "metadata": {},
   "source": [
    "#### Dictionary: mixed operations with Upper()..."
   ]
  },
  {
   "cell_type": "code",
   "execution_count": 117,
   "metadata": {},
   "outputs": [
    {
     "name": "stdout",
     "output_type": "stream",
     "text": [
      "{'key1': 1, 'key2': 'two', 'key3': [0, 1, 2, 3], 'key4': {'0': 1, '1': 'one', '2': 2.0, '3': 'THREE', '4': 4.0}}\n"
     ]
    }
   ],
   "source": [
    "dic_mixed['key4']['3']=dic_mixed['key4']['3'].upper()\n",
    "print(dic_mixed)"
   ]
  },
  {
   "cell_type": "markdown",
   "metadata": {},
   "source": [
    "### Tuple"
   ]
  },
  {
   "cell_type": "markdown",
   "metadata": {},
   "source": [
    "#### Tuple definition: pure type & multiple types."
   ]
  },
  {
   "cell_type": "code",
   "execution_count": 6,
   "metadata": {},
   "outputs": [],
   "source": [
    "t=(10,23,8,13,19,19) #Tuple: could be duplicated!\n",
    "t_m=('ten',23,'eight',13,' ',19.0,13)"
   ]
  },
  {
   "cell_type": "code",
   "execution_count": 7,
   "metadata": {},
   "outputs": [
    {
     "name": "stdout",
     "output_type": "stream",
     "text": [
      "(10, 23, 8, 13, 19, 19)\n"
     ]
    }
   ],
   "source": [
    "print(t)"
   ]
  },
  {
   "cell_type": "markdown",
   "metadata": {},
   "source": [
    "#### Tuple length:"
   ]
  },
  {
   "cell_type": "code",
   "execution_count": 8,
   "metadata": {},
   "outputs": [
    {
     "name": "stdout",
     "output_type": "stream",
     "text": [
      "6\n",
      "7\n"
     ]
    }
   ],
   "source": [
    "print(len(t))\n",
    "print(len(t_m))"
   ]
  },
  {
   "cell_type": "markdown",
   "metadata": {},
   "source": [
    "#### Tuple count how many times occurrs and the index of 1st time occurs:"
   ]
  },
  {
   "cell_type": "code",
   "execution_count": 128,
   "metadata": {},
   "outputs": [
    {
     "name": "stdout",
     "output_type": "stream",
     "text": [
      "2\n"
     ]
    }
   ],
   "source": [
    "print(t_m.count(13))"
   ]
  },
  {
   "cell_type": "code",
   "execution_count": 129,
   "metadata": {},
   "outputs": [
    {
     "name": "stdout",
     "output_type": "stream",
     "text": [
      "3\n"
     ]
    }
   ],
   "source": [
    "print(t_m.index(13)) #the 1st time of 13 occurs in t_m tuple."
   ]
  },
  {
   "cell_type": "markdown",
   "metadata": {},
   "source": [
    "#### Tuple: validate if immutable"
   ]
  },
  {
   "cell_type": "code",
   "execution_count": 132,
   "metadata": {},
   "outputs": [
    {
     "ename": "TypeError",
     "evalue": "'tuple' object does not support item assignment",
     "output_type": "error",
     "traceback": [
      "\u001b[1;31m---------------------------------------------------------------------------\u001b[0m",
      "\u001b[1;31mTypeError\u001b[0m                                 Traceback (most recent call last)",
      "\u001b[1;32m<ipython-input-132-e3a30e153dee>\u001b[0m in \u001b[0;36m<module>\u001b[1;34m\u001b[0m\n\u001b[1;32m----> 1\u001b[1;33m \u001b[0mt_m\u001b[0m\u001b[1;33m[\u001b[0m\u001b[1;36m3\u001b[0m\u001b[1;33m]\u001b[0m\u001b[1;33m=\u001b[0m\u001b[1;34m'thirteen'\u001b[0m \u001b[1;31m# IMMUTABLE! similar to string.\u001b[0m\u001b[1;33m\u001b[0m\u001b[1;33m\u001b[0m\u001b[0m\n\u001b[0m",
      "\u001b[1;31mTypeError\u001b[0m: 'tuple' object does not support item assignment"
     ]
    }
   ],
   "source": [
    "t_m[3]='thirteen' # IMMUTABLE! similar to string."
   ]
  },
  {
   "cell_type": "markdown",
   "metadata": {},
   "source": [
    "#### Tuple: embeded tuples"
   ]
  },
  {
   "cell_type": "code",
   "execution_count": 133,
   "metadata": {},
   "outputs": [],
   "source": [
    "t_e=((2,1),3,4)"
   ]
  },
  {
   "cell_type": "code",
   "execution_count": 134,
   "metadata": {},
   "outputs": [
    {
     "name": "stdout",
     "output_type": "stream",
     "text": [
      "(2, 1)\n",
      "3\n"
     ]
    }
   ],
   "source": [
    "print(t_e[0])\n",
    "print(t_e[1])"
   ]
  },
  {
   "cell_type": "markdown",
   "metadata": {},
   "source": [
    "### Sets"
   ]
  },
  {
   "cell_type": "markdown",
   "metadata": {},
   "source": [
    "#### Sets: definition(By adding), type checking."
   ]
  },
  {
   "cell_type": "code",
   "execution_count": 9,
   "metadata": {},
   "outputs": [],
   "source": [
    "myset=set()\n",
    "\n",
    "myset.add(4)\n",
    "myset.add(2)\n",
    "myset.add('test')\n",
    "myset.add(1)\n",
    "myset.add(1)\n",
    "myset.add('test')"
   ]
  },
  {
   "cell_type": "code",
   "execution_count": 11,
   "metadata": {},
   "outputs": [
    {
     "name": "stdout",
     "output_type": "stream",
     "text": [
      "{1, 2, 4, 'test'}\n",
      "<class 'set'>\n"
     ]
    }
   ],
   "source": [
    "print(myset) #Set: could NOT be duplicated!\n",
    "print(type(myset))"
   ]
  },
  {
   "cell_type": "markdown",
   "metadata": {},
   "source": [
    "#### Sets: unique item checking:"
   ]
  },
  {
   "cell_type": "code",
   "execution_count": 140,
   "metadata": {},
   "outputs": [
    {
     "name": "stdout",
     "output_type": "stream",
     "text": [
      "{1, 2, 4, 'test'}\n"
     ]
    }
   ],
   "source": [
    "myset.add('test') #Unique! Remove duplicated ones automatically.\n",
    "print(myset)"
   ]
  },
  {
   "cell_type": "markdown",
   "metadata": {},
   "source": [
    "#### Sets: Re-type list to sets."
   ]
  },
  {
   "cell_type": "code",
   "execution_count": 141,
   "metadata": {},
   "outputs": [
    {
     "name": "stdout",
     "output_type": "stream",
     "text": [
      "{1, 2, 4, 'test'}\n"
     ]
    }
   ],
   "source": [
    "mylist=[4,2,'test',1]\n",
    "myset=set(mylist)\n",
    "\n",
    "print(myset)"
   ]
  },
  {
   "cell_type": "markdown",
   "metadata": {},
   "source": [
    "#### Set: Re-type string to sets."
   ]
  },
  {
   "cell_type": "code",
   "execution_count": 143,
   "metadata": {},
   "outputs": [
    {
     "name": "stdout",
     "output_type": "stream",
     "text": [
      "{'p', 'i', 's', 'M'}\n"
     ]
    }
   ],
   "source": [
    "print(set('Mississippi'))"
   ]
  },
  {
   "cell_type": "markdown",
   "metadata": {},
   "source": [
    "### Boolean:"
   ]
  },
  {
   "cell_type": "code",
   "execution_count": 145,
   "metadata": {},
   "outputs": [
    {
     "name": "stdout",
     "output_type": "stream",
     "text": [
      "True\n"
     ]
    }
   ],
   "source": [
    "b=None\n",
    "print(b==None)"
   ]
  },
  {
   "cell_type": "markdown",
   "metadata": {},
   "source": [
    "### File I/O:"
   ]
  },
  {
   "cell_type": "code",
   "execution_count": 154,
   "metadata": {},
   "outputs": [
    {
     "name": "stdout",
     "output_type": "stream",
     "text": [
      "Overwriting testfile.txt\n"
     ]
    }
   ],
   "source": [
    "%%writefile testfile.txt \n",
    "#The file will be saved as the same paths with currrent .ipynb file.\n",
    "hello, this is a test file\n",
    "This is 2nd line.\n",
    "This is 3rd line."
   ]
  },
  {
   "cell_type": "code",
   "execution_count": 158,
   "metadata": {},
   "outputs": [
    {
     "data": {
      "text/plain": [
       "'C:\\\\Users\\\\Zi Wei Fan'"
      ]
     },
     "execution_count": 158,
     "metadata": {},
     "output_type": "execute_result"
    }
   ],
   "source": [
    "pwd"
   ]
  },
  {
   "cell_type": "code",
   "execution_count": 159,
   "metadata": {},
   "outputs": [],
   "source": [
    "testfile=open('testfile.txt')"
   ]
  },
  {
   "cell_type": "code",
   "execution_count": 160,
   "metadata": {},
   "outputs": [
    {
     "data": {
      "text/plain": [
       "'#The file will be saved as the same paths with currrent .ipynb file.\\nhello, this is a test file\\nThis is 2nd line.\\nThis is 3rd line.\\n'"
      ]
     },
     "execution_count": 160,
     "metadata": {},
     "output_type": "execute_result"
    }
   ],
   "source": [
    "testfile.read() "
   ]
  },
  {
   "cell_type": "code",
   "execution_count": 162,
   "metadata": {},
   "outputs": [
    {
     "data": {
      "text/plain": [
       "''"
      ]
     },
     "execution_count": 162,
     "metadata": {},
     "output_type": "execute_result"
    }
   ],
   "source": [
    "testfile.read()"
   ]
  },
  {
   "cell_type": "markdown",
   "metadata": {},
   "source": [
    "#### the 'cursor' will go to the end of the file so there will not be more content output.\n",
    "#### If you want to read again after 1st reading, use seek(0) to make the 'cursor' to the beginning after the 1st time reading.\n",
    "\n"
   ]
  },
  {
   "cell_type": "code",
   "execution_count": 161,
   "metadata": {},
   "outputs": [
    {
     "data": {
      "text/plain": [
       "'#The file will be saved as the same paths with currrent .ipynb file.\\nhello, this is a test file\\nThis is 2nd line.\\nThis is 3rd line.\\n'"
      ]
     },
     "execution_count": 161,
     "metadata": {},
     "output_type": "execute_result"
    }
   ],
   "source": [
    "testfile.seek(0)\n",
    "testfile.read()"
   ]
  },
  {
   "cell_type": "code",
   "execution_count": 163,
   "metadata": {},
   "outputs": [
    {
     "data": {
      "text/plain": [
       "'he file will be saved as the same paths with currrent .ipynb file.\\nhello, this is a test file\\nThis is 2nd line.\\nThis is 3rd line.\\n'"
      ]
     },
     "execution_count": 163,
     "metadata": {},
     "output_type": "execute_result"
    }
   ],
   "source": [
    "testfile.seek(2) # Assign the 'cursor' location to read out.\n",
    "testfile.read()"
   ]
  },
  {
   "cell_type": "code",
   "execution_count": 165,
   "metadata": {
    "scrolled": true
   },
   "outputs": [
    {
     "data": {
      "text/plain": [
       "['#The file will be saved as the same paths with currrent .ipynb file.\\n',\n",
       " 'hello, this is a test file\\n',\n",
       " 'This is 2nd line.\\n',\n",
       " 'This is 3rd line.\\n']"
      ]
     },
     "execution_count": 165,
     "metadata": {},
     "output_type": "execute_result"
    }
   ],
   "source": [
    "testfile.seek(0)\n",
    "testfile.readlines() #Read lines one by one without \\."
   ]
  },
  {
   "cell_type": "markdown",
   "metadata": {},
   "source": [
    "#### Write Doc and close:"
   ]
  },
  {
   "cell_type": "code",
   "execution_count": 198,
   "metadata": {},
   "outputs": [
    {
     "name": "stdout",
     "output_type": "stream",
     "text": [
      "Helloworld\n"
     ]
    }
   ],
   "source": [
    "file=open(\"C:\\\\Learning\\\\mysql-init.txt\",mode=\"w\")\n",
    "file.write(\"Helloworld\")\n",
    "file.close()\n",
    "\n",
    "file=open(\"C:\\\\Learning\\\\mysql-init.txt\",mode=\"r\")\n",
    "file=file.read() #Read out.\n",
    "print(file)"
   ]
  },
  {
   "cell_type": "markdown",
   "metadata": {},
   "source": [
    "#### Read file locates in other paths:"
   ]
  },
  {
   "cell_type": "code",
   "execution_count": 184,
   "metadata": {},
   "outputs": [
    {
     "data": {
      "text/plain": [
       "\"#The file will be saved as the same paths with currrent .ipynb file.\\\\n',\\n 'hello, this is a test file\\\\n',\\n 'This is 2nd line.\\\\n',\\n 'This is 3rd line.\""
      ]
     },
     "execution_count": 184,
     "metadata": {},
     "output_type": "execute_result"
    }
   ],
   "source": [
    "testAnotherfile=open(\"C:\\\\Learning\\\\mysql-init.txt\") #Another path different from current .ipynb file.\n",
    "testAnotherfile.seek(0)\n",
    "testAnotherfile.read()"
   ]
  },
  {
   "cell_type": "markdown",
   "metadata": {},
   "source": [
    "#### Close file in 2 ways:"
   ]
  },
  {
   "cell_type": "code",
   "execution_count": 185,
   "metadata": {},
   "outputs": [],
   "source": [
    "testAnotherfile.close() #I. Close mannually."
   ]
  },
  {
   "cell_type": "code",
   "execution_count": 186,
   "metadata": {},
   "outputs": [
    {
     "name": "stdout",
     "output_type": "stream",
     "text": [
      "#The file will be saved as the same paths with currrent .ipynb file.\\n',\n",
      " 'hello, this is a test file\\n',\n",
      " 'This is 2nd line.\\n',\n",
      " 'This is 3rd line.\n"
     ]
    }
   ],
   "source": [
    "with open(\"C:\\\\Learning\\\\mysql-init.txt\",mode='r') as testAnotherfile:\n",
    "    testAnotherfile=testAnotherfile.read()\n",
    "    \n",
    "print(testAnotherfile)"
   ]
  },
  {
   "cell_type": "code",
   "execution_count": 187,
   "metadata": {},
   "outputs": [
    {
     "name": "stdout",
     "output_type": "stream",
     "text": [
      "#The file will be saved as the same paths with currrent .ipynb file.\\n',\n",
      " 'hello, this is a test file\\n',\n",
      " 'This is 2nd line.\\n',\n",
      " 'This is 3rd line.\n"
     ]
    }
   ],
   "source": [
    "with open(\"C:\\\\Learning\\\\mysql-init.txt\",mode='r+') as testAnotherfile: #Permission issues.\n",
    "    testAnotherfile=testAnotherfile.read()\n",
    "    \n",
    "print(testAnotherfile)"
   ]
  },
  {
   "cell_type": "markdown",
   "metadata": {},
   "source": [
    "#### Permission in 5 modes:\n",
    "#### \"r\",\"w\",\"a\"(append),\"r+\"(reading & writing),\"w+\"(overwrite or create)\n",
    "#### Append:"
   ]
  },
  {
   "cell_type": "code",
   "execution_count": 189,
   "metadata": {},
   "outputs": [
    {
     "name": "stdout",
     "output_type": "stream",
     "text": [
      "#The file will be saved as the same paths with currrent .ipynb file.\\n',\n",
      " 'hello, this is a test file\\n',\n",
      " 'This is 2nd line.\\n',\n",
      " 'This is 3rd line.\n",
      " This is 4th lined appended.\n"
     ]
    }
   ],
   "source": [
    "with open(\"C:\\\\Learning\\\\mysql-init.txt\",mode='a') as f:\n",
    "          f.write(\"\\n This is 4th lined appended.\")\n",
    "with open(\"C:\\\\Learning\\\\mysql-init.txt\",mode='r') as f:\n",
    "          print(f.read())"
   ]
  },
  {
   "cell_type": "code",
   "execution_count": 195,
   "metadata": {},
   "outputs": [
    {
     "name": "stdout",
     "output_type": "stream",
     "text": [
      "I created the file if the file doesn't exist!\n"
     ]
    }
   ],
   "source": [
    "with open(\"C:\\\\Learning\\\\dafosfhhsaeu.txt\", mode=\"w+\") as f:\n",
    "    f.write(\"I created the file if the file doesn't exist!\")\n",
    "    #Creat the file if the same file doesn't exist!\n",
    "    \n",
    "with open(\"dafosfhhsaeu.txt\", mode=\"r\") as f:\n",
    "    f=f.read() #Read the file out.\n",
    "    \n",
    "print(f)"
   ]
  },
  {
   "cell_type": "markdown",
   "metadata": {},
   "source": [
    "### Comparison Operator"
   ]
  },
  {
   "cell_type": "code",
   "execution_count": 1,
   "metadata": {},
   "outputs": [
    {
     "data": {
      "text/plain": [
       "True"
      ]
     },
     "execution_count": 1,
     "metadata": {},
     "output_type": "execute_result"
    }
   ],
   "source": [
    "2.0==2"
   ]
  },
  {
   "cell_type": "code",
   "execution_count": 2,
   "metadata": {},
   "outputs": [
    {
     "data": {
      "text/plain": [
       "True"
      ]
     },
     "execution_count": 2,
     "metadata": {},
     "output_type": "execute_result"
    }
   ],
   "source": [
    "\"Bye\"==\"Bye\""
   ]
  },
  {
   "cell_type": "markdown",
   "metadata": {},
   "source": [
    "#### Chain comparison operator"
   ]
  },
  {
   "cell_type": "code",
   "execution_count": 13,
   "metadata": {},
   "outputs": [
    {
     "data": {
      "text/plain": [
       "False"
      ]
     },
     "execution_count": 13,
     "metadata": {},
     "output_type": "execute_result"
    }
   ],
   "source": [
    "2<3>5 #2<3 AND 3>5"
   ]
  },
  {
   "cell_type": "code",
   "execution_count": 14,
   "metadata": {},
   "outputs": [
    {
     "data": {
      "text/plain": [
       "True"
      ]
     },
     "execution_count": 14,
     "metadata": {},
     "output_type": "execute_result"
    }
   ],
   "source": [
    "2<5>3"
   ]
  },
  {
   "cell_type": "code",
   "execution_count": 15,
   "metadata": {},
   "outputs": [
    {
     "data": {
      "text/plain": [
       "True"
      ]
     },
     "execution_count": 15,
     "metadata": {},
     "output_type": "execute_result"
    }
   ],
   "source": [
    "not (2>5)"
   ]
  },
  {
   "cell_type": "markdown",
   "metadata": {},
   "source": [
    "### Conditional operation:"
   ]
  },
  {
   "cell_type": "code",
   "execution_count": 16,
   "metadata": {},
   "outputs": [
    {
     "name": "stdout",
     "output_type": "stream",
     "text": [
      "No this person.\n"
     ]
    }
   ],
   "source": [
    "name='Jose'\n",
    "\n",
    "if name=='Frank':\n",
    "    print('Hello, Frank!')\n",
    "elif name=='Tom':\n",
    "    print('Hello,this is Tom!')\n",
    "elif name =='Bob':\n",
    "    print('Hello, this is Bob!')\n",
    "else:\n",
    "    print('No this person.')"
   ]
  },
  {
   "cell_type": "code",
   "execution_count": 17,
   "metadata": {},
   "outputs": [
    {
     "name": "stdout",
     "output_type": "stream",
     "text": [
      "Hello, Frank!\n"
     ]
    }
   ],
   "source": [
    "name='Frank'\n",
    "\n",
    "if name=='Frank':\n",
    "    print('Hello, Frank!')\n",
    "elif name=='Tom':\n",
    "    print('Hello,this is Tom!')\n",
    "elif name =='Bob':\n",
    "    print('Hello, this is Bob!')\n",
    "else:\n",
    "    print('No this person.')"
   ]
  },
  {
   "cell_type": "markdown",
   "metadata": {},
   "source": [
    "### For Loop:"
   ]
  },
  {
   "cell_type": "markdown",
   "metadata": {},
   "source": [
    "#### 1. Loop in list to pick up even, get sum.\n",
    "#### 2. Loop in tuples, sub tuples with unpacked values, with unbalanced tuples.\n",
    "#### 3. Loop in dictionary: items, values and unpakced key-value pairs."
   ]
  },
  {
   "cell_type": "markdown",
   "metadata": {},
   "source": [
    "#### 1. Loop in list to pick up even, get sum."
   ]
  },
  {
   "cell_type": "code",
   "execution_count": 20,
   "metadata": {},
   "outputs": [
    {
     "name": "stdout",
     "output_type": "stream",
     "text": [
      "odd num: 3\n",
      "odd num: 5\n",
      "odd num: 1\n",
      "even num: 64\n",
      "even num: 46\n",
      "even num: 134\n",
      "odd num: 75\n",
      "odd num: 87\n",
      "even num: 42\n",
      "even num: 146\n",
      "even num: 76\n"
     ]
    }
   ],
   "source": [
    "list1=[3,5,1,64,46,134,75,87,42,146,76]\n",
    "\n",
    "for num in list1: #Loop in list to pick up even\n",
    "    if num%2==0:\n",
    "        print(f\"even num: {num}\")\n",
    "    else:\n",
    "        print(f\"odd num: {num}\")\n",
    "        "
   ]
  },
  {
   "cell_type": "code",
   "execution_count": 21,
   "metadata": {},
   "outputs": [
    {
     "name": "stdout",
     "output_type": "stream",
     "text": [
      "Current sum: 3\n",
      "Current sum: 8\n",
      "Current sum: 9\n",
      "Current sum: 73\n",
      "Current sum: 119\n",
      "Current sum: 253\n",
      "Current sum: 328\n",
      "Current sum: 415\n",
      "Current sum: 457\n",
      "Current sum: 603\n",
      "Current sum: 679\n",
      "Total sum: 679\n"
     ]
    }
   ],
   "source": [
    "# get sum\n",
    "list1=[3,5,1,64,46,134,75,87,42,146,76]\n",
    "sum=0\n",
    "\n",
    "for num in list1:\n",
    "    sum=sum+num\n",
    "    print(f\"Current sum: {sum}\")\n",
    "print(f\"Total sum: {sum}\")"
   ]
  },
  {
   "cell_type": "markdown",
   "metadata": {},
   "source": [
    "#### 2. Loop in tuples, sub tuples with unpacked values, with unbalanced tuples."
   ]
  },
  {
   "cell_type": "code",
   "execution_count": 22,
   "metadata": {},
   "outputs": [
    {
     "name": "stdout",
     "output_type": "stream",
     "text": [
      "3\n",
      "5\n",
      "one\n",
      "two\n",
      "4\n",
      "eight\n"
     ]
    }
   ],
   "source": [
    "##### Loop in tuples, sub tuples with unpacked values, with unbalanced tuples.\n",
    "tuple1=(3,5,'one','two',4,'eight')\n",
    "for t in tuple1:\n",
    "    print(t)"
   ]
  },
  {
   "cell_type": "code",
   "execution_count": 23,
   "metadata": {},
   "outputs": [
    {
     "name": "stdout",
     "output_type": "stream",
     "text": [
      "('three', 3)\n",
      "(4, 'four')\n",
      "('one', 1)\n",
      "(2, 'two')\n",
      "('five', 5)\n"
     ]
    }
   ],
   "source": [
    "tuplePair=(('three',3),(4,'four'),('one',1),(2,'two'),('five',5)) #sub tuples\n",
    "\n",
    "for item in tuplePair:\n",
    "    print(item)"
   ]
  },
  {
   "cell_type": "code",
   "execution_count": 27,
   "metadata": {},
   "outputs": [
    {
     "name": "stdout",
     "output_type": "stream",
     "text": [
      "loop pairs: ('three', 3)\n",
      "loop first value:three\n",
      "loop second value:3\n",
      "loop pairs: (4, 'four')\n",
      "loop first value:4\n",
      "loop second value:four\n",
      "loop pairs: ('one', 1)\n",
      "loop first value:one\n",
      "loop second value:1\n",
      "loop pairs: (2, 'two')\n",
      "loop first value:2\n",
      "loop second value:two\n",
      "loop pairs: ('five', 5)\n",
      "loop first value:five\n",
      "loop second value:5\n"
     ]
    }
   ],
   "source": [
    "# sub tuples with unpacked values\n",
    "for (value1, value2) in tuplePair:\n",
    "    print(f\"loop pairs: {value1, value2}\")\n",
    "    print(f\"loop first value:{value1}\")\n",
    "    print(f\"loop second value:{value2}\")"
   ]
  },
  {
   "cell_type": "code",
   "execution_count": 34,
   "metadata": {},
   "outputs": [
    {
     "name": "stdout",
     "output_type": "stream",
     "text": [
      "('three', 3, 3)\n",
      "(4, 'four', 4)\n",
      "('one', 1, 1)\n",
      "(2, 'two')\n",
      "('five', 5)\n"
     ]
    }
   ],
   "source": [
    "tuplePair_Unbalanced=(('three',3,3),(4,'four',4),('one',1,1),(2,'two'),('five',5)) #Unbalanced pair.\n",
    "\n",
    "for item in tuplePair_Unbalanced:\n",
    "    print(item)"
   ]
  },
  {
   "cell_type": "code",
   "execution_count": 35,
   "metadata": {},
   "outputs": [
    {
     "name": "stdout",
     "output_type": "stream",
     "text": [
      "three\n",
      "4\n",
      "one\n"
     ]
    },
    {
     "ename": "ValueError",
     "evalue": "not enough values to unpack (expected 3, got 2)",
     "output_type": "error",
     "traceback": [
      "\u001b[1;31m---------------------------------------------------------------------------\u001b[0m",
      "\u001b[1;31mValueError\u001b[0m                                Traceback (most recent call last)",
      "\u001b[1;32m<ipython-input-35-49e87c996683>\u001b[0m in \u001b[0;36m<module>\u001b[1;34m\u001b[0m\n\u001b[1;32m----> 1\u001b[1;33m \u001b[1;32mfor\u001b[0m \u001b[1;33m(\u001b[0m\u001b[0msubitem1\u001b[0m\u001b[1;33m,\u001b[0m\u001b[0msubitem2\u001b[0m\u001b[1;33m,\u001b[0m\u001b[0msubitem3\u001b[0m\u001b[1;33m)\u001b[0m \u001b[1;32min\u001b[0m \u001b[0mtuplePair_Unbalanced\u001b[0m\u001b[1;33m:\u001b[0m\u001b[1;33m\u001b[0m\u001b[1;33m\u001b[0m\u001b[0m\n\u001b[0m\u001b[0;32m      2\u001b[0m     \u001b[0mprint\u001b[0m\u001b[1;33m(\u001b[0m\u001b[0msubitem1\u001b[0m\u001b[1;33m)\u001b[0m\u001b[1;33m\u001b[0m\u001b[1;33m\u001b[0m\u001b[0m\n",
      "\u001b[1;31mValueError\u001b[0m: not enough values to unpack (expected 3, got 2)"
     ]
    }
   ],
   "source": [
    "for (subitem1,subitem2,subitem3) in tuplePair_Unbalanced: #For pair with 3 items it works, but doesn't work in the item with 2 items.\n",
    "    print(subitem1)"
   ]
  },
  {
   "cell_type": "code",
   "execution_count": 36,
   "metadata": {},
   "outputs": [
    {
     "ename": "ValueError",
     "evalue": "too many values to unpack (expected 2)",
     "output_type": "error",
     "traceback": [
      "\u001b[1;31m---------------------------------------------------------------------------\u001b[0m",
      "\u001b[1;31mValueError\u001b[0m                                Traceback (most recent call last)",
      "\u001b[1;32m<ipython-input-36-afdad930c576>\u001b[0m in \u001b[0;36m<module>\u001b[1;34m\u001b[0m\n\u001b[1;32m----> 1\u001b[1;33m \u001b[1;32mfor\u001b[0m \u001b[1;33m(\u001b[0m\u001b[0msubitem1\u001b[0m\u001b[1;33m,\u001b[0m\u001b[0msubitem2\u001b[0m\u001b[1;33m)\u001b[0m \u001b[1;32min\u001b[0m \u001b[0mtuplePair_Unbalanced\u001b[0m\u001b[1;33m:\u001b[0m\u001b[1;33m\u001b[0m\u001b[1;33m\u001b[0m\u001b[0m\n\u001b[0m\u001b[0;32m      2\u001b[0m     \u001b[0mprint\u001b[0m\u001b[1;33m(\u001b[0m\u001b[0msubitem1\u001b[0m\u001b[1;33m)\u001b[0m\u001b[1;33m\u001b[0m\u001b[1;33m\u001b[0m\u001b[0m\n",
      "\u001b[1;31mValueError\u001b[0m: too many values to unpack (expected 2)"
     ]
    }
   ],
   "source": [
    "for (subitem1,subitem2) in tuplePair_Unbalanced: # Doesn't work with 3 sub-values.\n",
    "    print(subitem1)"
   ]
  },
  {
   "cell_type": "markdown",
   "metadata": {},
   "source": [
    "#### 3. Loop in dictionary: items, values and unpakced key-value pairs."
   ]
  },
  {
   "cell_type": "code",
   "execution_count": 43,
   "metadata": {},
   "outputs": [
    {
     "name": "stdout",
     "output_type": "stream",
     "text": [
      "{'apple': 3.3, 'orange': 2.0, 'peach': 1.8, 'milk': 1.6, 'egg': 2.9}\n",
      "apple\n",
      "orange\n",
      "peach\n",
      "milk\n",
      "egg\n"
     ]
    }
   ],
   "source": [
    "dic_price={'apple':3.3, 'orange':2.0, 'peach':1.8,'milk':1.5, 'egg':2.9,'egg':2.9,'milk':1.6}\n",
    "print(dic_price)\n",
    "\n",
    "for item in dic_price: #Just return key.\n",
    "    print(item)"
   ]
  },
  {
   "cell_type": "code",
   "execution_count": 38,
   "metadata": {},
   "outputs": [
    {
     "name": "stdout",
     "output_type": "stream",
     "text": [
      "('apple', 3.3)\n",
      "('orange', 2.0)\n",
      "('peach', 1.8)\n",
      "('milk', 1.6)\n",
      "('egg', 2.9)\n"
     ]
    }
   ],
   "source": [
    "for item in dic_price.items(): #Return pairs.\n",
    "    print(item)"
   ]
  },
  {
   "cell_type": "code",
   "execution_count": 41,
   "metadata": {},
   "outputs": [
    {
     "name": "stdout",
     "output_type": "stream",
     "text": [
      "apple\n",
      "orange\n",
      "peach\n",
      "milk\n",
      "egg\n"
     ]
    }
   ],
   "source": [
    "for (key, value) in dic_price.items():\n",
    "    print(key)"
   ]
  },
  {
   "cell_type": "code",
   "execution_count": 42,
   "metadata": {},
   "outputs": [
    {
     "name": "stdout",
     "output_type": "stream",
     "text": [
      "3.3\n",
      "2.0\n",
      "1.8\n",
      "1.6\n",
      "2.9\n"
     ]
    }
   ],
   "source": [
    "for (key, value) in dic_price.items():\n",
    "    print(value)"
   ]
  },
  {
   "cell_type": "markdown",
   "metadata": {},
   "source": [
    "### While Loops\n",
    "#### 1. Typical while loops\n",
    "#### 2. Break; \n",
    "#### 3. Continue; \n",
    "#### 4. Pass;"
   ]
  },
  {
   "cell_type": "code",
   "execution_count": 48,
   "metadata": {},
   "outputs": [
    {
     "name": "stdout",
     "output_type": "stream",
     "text": [
      "x < 5\n",
      "1\n",
      "x < 5\n",
      "2\n",
      "x < 5\n",
      "3\n",
      "x < 5\n",
      "4\n",
      "x < 5\n",
      "5\n",
      "x=5\n"
     ]
    }
   ],
   "source": [
    "# 1. Typcial While loop:\n",
    "x=0\n",
    "while x<5:\n",
    "    print(\"x < 5\")\n",
    "    x+=1\n",
    "    print(x)\n",
    "else:               #While...else...\n",
    "    print(\"x=5\")\n",
    "     "
   ]
  },
  {
   "cell_type": "code",
   "execution_count": 282,
   "metadata": {},
   "outputs": [
    {
     "name": "stdout",
     "output_type": "stream",
     "text": [
      "S\n",
      "a\n",
      "m\n"
     ]
    }
   ],
   "source": [
    "# 2.1 Break: Break out of current closet loop;\n",
    "strTest=\"Sammy\"\n",
    "\n",
    "for letter in strTest:\n",
    "    print(letter)\n",
    "    if letter ==\"m\":\n",
    "        break;\n"
   ]
  },
  {
   "cell_type": "code",
   "execution_count": 283,
   "metadata": {},
   "outputs": [
    {
     "name": "stdout",
     "output_type": "stream",
     "text": [
      "S\n",
      "a\n"
     ]
    }
   ],
   "source": [
    "# 2.2 Break: Break out of current closet loop;\n",
    "strTest=\"Sammy\"\n",
    "\n",
    "for letter in strTest:\n",
    "    if letter ==\"m\":\n",
    "        break;\n",
    "    print(letter)"
   ]
  },
  {
   "cell_type": "code",
   "execution_count": 53,
   "metadata": {},
   "outputs": [
    {
     "name": "stdout",
     "output_type": "stream",
     "text": [
      "1\n",
      "2\n"
     ]
    }
   ],
   "source": [
    "# 2.3 Break: Break out of current closet loop;\n",
    "x=0\n",
    "\n",
    "while x<5:\n",
    "    x+=1\n",
    "    if x==3:\n",
    "        break\n",
    "    print(x)"
   ]
  },
  {
   "cell_type": "code",
   "execution_count": 284,
   "metadata": {},
   "outputs": [
    {
     "name": "stdout",
     "output_type": "stream",
     "text": [
      "S\n",
      "a\n",
      "y\n"
     ]
    }
   ],
   "source": [
    "# 3 Continue: Goes to the top of the closest loop.\n",
    "strTest=\"Sammy\"\n",
    "for letter in strTest:\n",
    "    if letter ==\"m\": \n",
    "        continue # If it is m, then go to the top of the loop, that Will pass all m.\n",
    "    print(letter)"
   ]
  },
  {
   "cell_type": "code",
   "execution_count": 56,
   "metadata": {},
   "outputs": [
    {
     "name": "stdout",
     "output_type": "stream",
     "text": [
      "1\n",
      "2\n",
      "4\n",
      "5\n"
     ]
    }
   ],
   "source": [
    "# 3.1 Continue:\n",
    "x=0\n",
    "\n",
    "while x<5:\n",
    "    x+=1\n",
    "    if x==3:\n",
    "        continue # If it is 3, then go to the top of the loop, that Will pass 3.\n",
    "    print(x)"
   ]
  },
  {
   "cell_type": "code",
   "execution_count": 2,
   "metadata": {},
   "outputs": [
    {
     "name": "stdout",
     "output_type": "stream",
     "text": [
      "0\n"
     ]
    }
   ],
   "source": [
    "# 4. Pass: Do NOTHING in if:\n",
    "x=0\n",
    "\n",
    "if x<5:\n",
    "    pass #prepare for testing or TODO.\n",
    "\n",
    "print(x)"
   ]
  },
  {
   "cell_type": "code",
   "execution_count": 6,
   "metadata": {},
   "outputs": [
    {
     "name": "stdout",
     "output_type": "stream",
     "text": [
      "[1, 2, 3]\n"
     ]
    }
   ],
   "source": [
    "# 4. Pass: Do NOTHING in for:\n",
    "x=[1,2,3]\n",
    "\n",
    "for num in x:\n",
    "    num+=1\n",
    "    pass #prepare for testing or TODO.\n",
    "\n",
    "print(x)"
   ]
  },
  {
   "cell_type": "code",
   "execution_count": null,
   "metadata": {},
   "outputs": [],
   "source": [
    "#### !Notice: CANNOT use in WHILE! then locked loop."
   ]
  },
  {
   "cell_type": "markdown",
   "metadata": {},
   "source": [
    "### Range\n",
    "#### 1. Range with start, end;\n",
    "#### 2. Range with start, end, step;\n",
    "#### 3. Range into list;\n",
    "#### 4. Range with tuple pair;"
   ]
  },
  {
   "cell_type": "code",
   "execution_count": 9,
   "metadata": {},
   "outputs": [
    {
     "name": "stdout",
     "output_type": "stream",
     "text": [
      "2\n",
      "3\n",
      "4\n",
      "5\n",
      "6\n",
      "7\n",
      "8\n",
      "9\n"
     ]
    }
   ],
   "source": [
    "# 1. Range with start, end:\n",
    "for num in range(2,10):\n",
    "    print (num)\n",
    "#Notice: 10 will not be included, but the beginning 2 will be included."
   ]
  },
  {
   "cell_type": "code",
   "execution_count": 10,
   "metadata": {},
   "outputs": [
    {
     "name": "stdout",
     "output_type": "stream",
     "text": [
      "2\n",
      "5\n",
      "8\n"
     ]
    }
   ],
   "source": [
    "# 2 Range with start, end, step:\n",
    "for num in range(2,10,3):\n",
    "    print(num)"
   ]
  },
  {
   "cell_type": "code",
   "execution_count": 12,
   "metadata": {},
   "outputs": [
    {
     "name": "stdout",
     "output_type": "stream",
     "text": [
      "[2, 5, 8]\n"
     ]
    }
   ],
   "source": [
    "# 3. Range into list:\n",
    "listnum=list(range(2,10,3))\n",
    "print(listnum)"
   ]
  },
  {
   "cell_type": "code",
   "execution_count": 20,
   "metadata": {},
   "outputs": [
    {
     "name": "stdout",
     "output_type": "stream",
     "text": [
      "The index 0 is of char S.\n",
      "The index 1 is of char a.\n",
      "The index 2 is of char m.\n",
      "The index 3 is of char m.\n",
      "The index 4 is of char y.\n"
     ]
    }
   ],
   "source": [
    "# 4.0 Range \n",
    "strTest=\"Sammy\"\n",
    "indexstr=0\n",
    "\n",
    "for item in strTest:\n",
    "    print(\"The index {} is of char {}.\".format(indexstr, item))\n",
    "    indexstr+=1"
   ]
  },
  {
   "cell_type": "code",
   "execution_count": 21,
   "metadata": {},
   "outputs": [
    {
     "name": "stdout",
     "output_type": "stream",
     "text": [
      "0 S\n",
      "1 a\n",
      "2 m\n",
      "3 m\n",
      "4 y\n"
     ]
    }
   ],
   "source": [
    "# 4.1 Range \n",
    "strTest=\"Sammy\"\n",
    "indexstr=0\n",
    "\n",
    "for item in strTest:\n",
    "    print(indexstr, str[indexstr])\n",
    "    indexstr+=1"
   ]
  },
  {
   "cell_type": "code",
   "execution_count": 291,
   "metadata": {},
   "outputs": [
    {
     "name": "stdout",
     "output_type": "stream",
     "text": [
      "(0, 'S')\n",
      "<class 'tuple'>\n",
      "(1, 'a')\n",
      "<class 'tuple'>\n",
      "(2, 'm')\n",
      "<class 'tuple'>\n",
      "(3, 'm')\n",
      "<class 'tuple'>\n",
      "(4, 'y')\n",
      "<class 'tuple'>\n"
     ]
    }
   ],
   "source": [
    "# 4.2 Range with tuple pair:\n",
    "strTest=\"Sammy\"\n",
    "\n",
    "for item in enumerate(strTest): #Get tuples by enumerate().\n",
    "    print(item)\n",
    "    print(type(item))"
   ]
  },
  {
   "cell_type": "code",
   "execution_count": 27,
   "metadata": {},
   "outputs": [
    {
     "name": "stdout",
     "output_type": "stream",
     "text": [
      "0\n",
      "S\n",
      "1\n",
      "a\n",
      "2\n",
      "m\n",
      "3\n",
      "m\n",
      "4\n",
      "y\n"
     ]
    }
   ],
   "source": [
    "#4.3 Get value from tuple:\n",
    "strTest=\"Sammy\"\n",
    "\n",
    "for (key, value) in enumerate(strTest):\n",
    "    print(key) #Get key & value\n",
    "    print(value)"
   ]
  },
  {
   "cell_type": "markdown",
   "metadata": {},
   "source": [
    "### 5. In():"
   ]
  },
  {
   "cell_type": "code",
   "execution_count": 29,
   "metadata": {},
   "outputs": [
    {
     "name": "stdout",
     "output_type": "stream",
     "text": [
      "True\n",
      "True\n"
     ]
    }
   ],
   "source": [
    "# 5. Check if sth. in sth:\n",
    "print(\"s\" in \"string\")\n",
    "print(5 in [3,4,1,5])"
   ]
  },
  {
   "cell_type": "code",
   "execution_count": 30,
   "metadata": {},
   "outputs": [
    {
     "name": "stdout",
     "output_type": "stream",
     "text": [
      "True\n"
     ]
    }
   ],
   "source": [
    "# 5.1 Check if sth. in dictionary:\n",
    "print('key' in {\"key\":\"value\"})"
   ]
  },
  {
   "cell_type": "code",
   "execution_count": 31,
   "metadata": {},
   "outputs": [
    {
     "name": "stdout",
     "output_type": "stream",
     "text": [
      "True\n"
     ]
    }
   ],
   "source": [
    "dic={\"key1\":\"value1\",\"key2\":\"value2\",\"key3\":\"value3\"}\n",
    "print('key1' in dic)"
   ]
  },
  {
   "cell_type": "code",
   "execution_count": 39,
   "metadata": {},
   "outputs": [
    {
     "name": "stdout",
     "output_type": "stream",
     "text": [
      "True\n",
      "True\n"
     ]
    }
   ],
   "source": [
    "dic={\"key1\":\"value1\",\"key2\":\"value2\",\"key3\":\"value3\"}\n",
    "print('key1' in dic.keys()) #dic.keys(): Get keys by list: dict_keys(['key1', 'key2', 'key3'])\n",
    "\n",
    "dic={\"key1\":\"value1\",\"key2\":\"value2\",\"key3\":\"value3\"}\n",
    "print('value2' in dic.values()) #dic.values(): Get values by list: dict_values(['value1', 'value2', 'value3'])"
   ]
  },
  {
   "cell_type": "markdown",
   "metadata": {},
   "source": [
    "### 6. random library:\n",
    "#### 1. shuffle numbers;\n",
    "#### 2. Get random number;"
   ]
  },
  {
   "cell_type": "code",
   "execution_count": 47,
   "metadata": {},
   "outputs": [
    {
     "name": "stdout",
     "output_type": "stream",
     "text": [
      "None\n",
      "[9, 1, 2, 3, 7, 8, 6, 10, 5, 4]\n",
      "['e', 'b', 'c', 'd', 'a']\n"
     ]
    }
   ],
   "source": [
    "# 1. shuffle numbers:\n",
    "from random import shuffle\n",
    "listInt=[1,2,3,4,5,6,7,8,9,10]\n",
    "\n",
    "shuffledList=shuffle(listInt) #None return when call shuffle function.\n",
    "\n",
    "print(shuffledList)\n",
    "print(listInt)\n",
    "\n",
    "# 1.1 Shuffle chars:\n",
    "liststr=[\"a\",\"b\",\"c\",\"d\",\"e\"]\n",
    "shuffle(liststr)\n",
    "print(liststr)"
   ]
  },
  {
   "cell_type": "code",
   "execution_count": 50,
   "metadata": {},
   "outputs": [
    {
     "name": "stdout",
     "output_type": "stream",
     "text": [
      "30\n"
     ]
    }
   ],
   "source": [
    "# 2. Get random number.\n",
    "from random import randint\n",
    "\n",
    "result=randint(3,39) #randint(start, end)\n",
    "print(result)"
   ]
  },
  {
   "cell_type": "markdown",
   "metadata": {},
   "source": [
    "### 7. input()\n",
    "#### 1. Get input as parameters;\n",
    "#### 2. Transfer input to int."
   ]
  },
  {
   "cell_type": "code",
   "execution_count": 51,
   "metadata": {},
   "outputs": [
    {
     "name": "stdout",
     "output_type": "stream",
     "text": [
      "Please input:test\n",
      "test\n"
     ]
    }
   ],
   "source": [
    "# 7.1 Get input:\n",
    "para=input(\"Please input:\")\n",
    "print(para)"
   ]
  },
  {
   "cell_type": "code",
   "execution_count": 54,
   "metadata": {},
   "outputs": [
    {
     "name": "stdout",
     "output_type": "stream",
     "text": [
      "Input an integer:33\n",
      "<class 'str'>\n",
      "<class 'int'>\n"
     ]
    }
   ],
   "source": [
    "#7.2 transfer to int:\n",
    "para=input(\"Input an integer:\")\n",
    "print(type(para)) #Originally, all the input will be in string.\n",
    "\n",
    "para=int(para) #Transfer to integer.\n",
    "print(type(para))"
   ]
  },
  {
   "cell_type": "markdown",
   "metadata": {},
   "source": [
    "### 8. Help & Documentation:"
   ]
  },
  {
   "cell_type": "code",
   "execution_count": 4,
   "metadata": {},
   "outputs": [
    {
     "name": "stdout",
     "output_type": "stream",
     "text": [
      "[3, 4, 2, 7]\n"
     ]
    }
   ],
   "source": [
    "# Hit Shift+Tab to get built-in help in Jupyter.\n",
    "listInt=[3,4,2]\n",
    "listInt2=listInt.append(7)\n",
    "print(listInt)"
   ]
  },
  {
   "cell_type": "markdown",
   "metadata": {},
   "source": [
    "### 9. Functions:\n",
    "#### 9.1 parameter & parameter with default value;\n",
    "#### 9.2 Return the result and check the type;\n",
    "#### 9.3 Condition optimize: when Boolean\n",
    "#### 9.4 Pig latin e.g."
   ]
  },
  {
   "cell_type": "code",
   "execution_count": 10,
   "metadata": {},
   "outputs": [],
   "source": [
    "# 9.1 parameter & parameter with default value;\n",
    "def hello(name=\"DEFAULT_NAME\"):\n",
    "    print(\"hello \"+name)"
   ]
  },
  {
   "cell_type": "code",
   "execution_count": 11,
   "metadata": {},
   "outputs": [
    {
     "name": "stdout",
     "output_type": "stream",
     "text": [
      "hello David\n"
     ]
    }
   ],
   "source": [
    "hello(\"David\")"
   ]
  },
  {
   "cell_type": "code",
   "execution_count": 12,
   "metadata": {},
   "outputs": [
    {
     "name": "stdout",
     "output_type": "stream",
     "text": [
      "hello DEFAULT_NAME\n"
     ]
    }
   ],
   "source": [
    "hello() #Default parameter: avoid the missed parameter."
   ]
  },
  {
   "cell_type": "code",
   "execution_count": 13,
   "metadata": {},
   "outputs": [],
   "source": [
    "# 9.2 Return the result and check the type;\n",
    "def add(n1,n2=0):\n",
    "    result=n1+n2"
   ]
  },
  {
   "cell_type": "code",
   "execution_count": 16,
   "metadata": {},
   "outputs": [
    {
     "data": {
      "text/plain": [
       "NoneType"
      ]
     },
     "execution_count": 16,
     "metadata": {},
     "output_type": "execute_result"
    }
   ],
   "source": [
    "type(add(3,4)) #No return, so the type of function is none."
   ]
  },
  {
   "cell_type": "code",
   "execution_count": 17,
   "metadata": {},
   "outputs": [],
   "source": [
    "def add(n1,n2=0):\n",
    "    result=n1+n2\n",
    "    return result"
   ]
  },
  {
   "cell_type": "code",
   "execution_count": 18,
   "metadata": {},
   "outputs": [
    {
     "data": {
      "text/plain": [
       "int"
      ]
     },
     "execution_count": 18,
     "metadata": {},
     "output_type": "execute_result"
    }
   ],
   "source": [
    "type(add(3,4))"
   ]
  },
  {
   "cell_type": "code",
   "execution_count": 285,
   "metadata": {},
   "outputs": [
    {
     "name": "stdout",
     "output_type": "stream",
     "text": [
      "True\n",
      "False\n"
     ]
    }
   ],
   "source": [
    "#### 9.3 Condition optimize: when Boolean\n",
    "def dog_check(strTest='default'): #Not too simple.\n",
    "    if 'dog' in strTest.lower():\n",
    "        return True\n",
    "    else: \n",
    "        return False\n",
    "\n",
    "print(dog_check(\"My Dog ran away.\"))\n",
    "print(dog_check(\"My cat ran away.\"))"
   ]
  },
  {
   "cell_type": "code",
   "execution_count": 308,
   "metadata": {},
   "outputs": [
    {
     "name": "stdout",
     "output_type": "stream",
     "text": [
      "True\n",
      "False\n"
     ]
    }
   ],
   "source": [
    "def dog_check(str_Test='default'):\n",
    "    return 'dog' in str_Test.lower() #This is much more better in one line.\n",
    "\n",
    "print(dog_check(\"My Dog ran away.\"))\n",
    "print(dog_check(\"My cat ran away.\"))"
   ]
  },
  {
   "cell_type": "code",
   "execution_count": 27,
   "metadata": {},
   "outputs": [],
   "source": [
    "# 9.4 Pig latin:\n",
    "# if a word starts with vowel (\"aeiou\"), add 'ay' to the end.\n",
    "# if a word doesn't start with vowel, put the 1st letter to the end and add 'ay' to the end.\n",
    "# e.g.: 'word'-->ordway; 'apple'-->appleay\n",
    "\n",
    "def pig_latin(word='default'):\n",
    "    if word[0] in 'aeiou':\n",
    "        return word+'ay'\n",
    "    else:\n",
    "        return word[1:]+word[0]+'ay'\n"
   ]
  },
  {
   "cell_type": "code",
   "execution_count": 28,
   "metadata": {},
   "outputs": [
    {
     "data": {
      "text/plain": [
       "'appleay'"
      ]
     },
     "execution_count": 28,
     "metadata": {},
     "output_type": "execute_result"
    }
   ],
   "source": [
    "pig_latin('apple')"
   ]
  },
  {
   "cell_type": "code",
   "execution_count": 29,
   "metadata": {},
   "outputs": [
    {
     "data": {
      "text/plain": [
       "'ordway'"
      ]
     },
     "execution_count": 29,
     "metadata": {},
     "output_type": "execute_result"
    }
   ],
   "source": [
    "pig_latin('word')"
   ]
  },
  {
   "cell_type": "markdown",
   "metadata": {},
   "source": [
    "### 10.*args & **kwargs"
   ]
  },
  {
   "cell_type": "markdown",
   "metadata": {},
   "source": [
    "#### 1. *args: multiple argument will be transfered and considered as a bundle TUPLE.\n",
    "#### 2. **kwargs: multiple argument with keyword & values will be transferred and considered as a bundle DICTIONARY."
   ]
  },
  {
   "cell_type": "code",
   "execution_count": 3,
   "metadata": {},
   "outputs": [
    {
     "data": {
      "text/plain": [
       "8"
      ]
     },
     "execution_count": 3,
     "metadata": {},
     "output_type": "execute_result"
    }
   ],
   "source": [
    "# 10.1 Original withouth *args:\n",
    "def myfun(a,b,c): #Positional arguments.\n",
    "    return a+b+c\n",
    "\n",
    "myfun(3,4,1)"
   ]
  },
  {
   "cell_type": "code",
   "execution_count": 30,
   "metadata": {},
   "outputs": [
    {
     "name": "stdout",
     "output_type": "stream",
     "text": [
      "(3, 4, 1)\n",
      "3\n",
      "4\n",
      "1\n"
     ]
    },
    {
     "data": {
      "text/plain": [
       "8"
      ]
     },
     "execution_count": 30,
     "metadata": {},
     "output_type": "execute_result"
    }
   ],
   "source": [
    "# 10.2 With *args in tuple:\n",
    "def myfun(*args):\n",
    "    print(args) #print the args in tuple.\n",
    "    \n",
    "    for item in args: #iterate all items in tuple.\n",
    "        print(item)\n",
    "        \n",
    "    return sum(args) #args: withouth *; means it could receive multiple arguments as a tuple.\n",
    "\n",
    "myfun(3,4,1)"
   ]
  },
  {
   "cell_type": "code",
   "execution_count": 20,
   "metadata": {},
   "outputs": [
    {
     "name": "stdout",
     "output_type": "stream",
     "text": [
      "{'fruit': 'apple'}\n"
     ]
    },
    {
     "data": {
      "text/plain": [
       "'this is my fruit: apple'"
      ]
     },
     "execution_count": 20,
     "metadata": {},
     "output_type": "execute_result"
    }
   ],
   "source": [
    "# 10.3 With **kwargs:\n",
    "def myfunc(**kwargs):\n",
    "    print(kwargs)\n",
    "    if 'fruit' in kwargs:\n",
    "        return (\"this is my fruit: {}\".format(kwargs['fruit']))\n",
    "    else:\n",
    "        return (\"I do not know.\")\n",
    "\n",
    "myfunc(fruit=\"apple\") #Pass keyword.\n"
   ]
  },
  {
   "cell_type": "code",
   "execution_count": 21,
   "metadata": {},
   "outputs": [
    {
     "name": "stdout",
     "output_type": "stream",
     "text": [
      "{'veggi': 'lettuce'}\n"
     ]
    },
    {
     "data": {
      "text/plain": [
       "'I do not know.'"
      ]
     },
     "execution_count": 21,
     "metadata": {},
     "output_type": "execute_result"
    }
   ],
   "source": [
    "myfunc(veggi=\"lettuce\")"
   ]
  },
  {
   "cell_type": "code",
   "execution_count": 22,
   "metadata": {},
   "outputs": [
    {
     "name": "stdout",
     "output_type": "stream",
     "text": [
      "{'fruit': 'apple', 'veggi': 'lettuce'}\n"
     ]
    },
    {
     "data": {
      "text/plain": [
       "'this is my fruit: apple'"
      ]
     },
     "execution_count": 22,
     "metadata": {},
     "output_type": "execute_result"
    }
   ],
   "source": [
    "myfunc(fruit=\"apple\",veggi=\"lettuce\")"
   ]
  },
  {
   "cell_type": "code",
   "execution_count": 26,
   "metadata": {},
   "outputs": [
    {
     "name": "stdout",
     "output_type": "stream",
     "text": [
      "(23, 34, 44)\n",
      "{'fruit': 'apple', 'veggi': 'lettuce', 'animal': 'dog'}\n"
     ]
    },
    {
     "data": {
      "text/plain": [
       "'I would like 23 lettuce.'"
      ]
     },
     "execution_count": 26,
     "metadata": {},
     "output_type": "execute_result"
    }
   ],
   "source": [
    "# 10.3 Combination: *args & **kwargs.\n",
    "def myfunc(*args, **kwargs):\n",
    "    print(args)\n",
    "    print(kwargs)\n",
    "    \n",
    "    if 'veggi' in kwargs:\n",
    "        return (\"I would like {} {}.\".format(args[0], kwargs['veggi']))\n",
    "    else:\n",
    "        return (\"No idea.\")\n",
    "    \n",
    "myfunc(23,34,44, fruit=\"apple\",veggi=\"lettuce\",animal=\"dog\") #keep in the order: args(in tuple) then kwargs in dictionay."
   ]
  },
  {
   "cell_type": "code",
   "execution_count": 27,
   "metadata": {},
   "outputs": [
    {
     "ename": "SyntaxError",
     "evalue": "positional argument follows keyword argument (<ipython-input-27-6a9671db2e54>, line 1)",
     "output_type": "error",
     "traceback": [
      "\u001b[1;36m  File \u001b[1;32m\"<ipython-input-27-6a9671db2e54>\"\u001b[1;36m, line \u001b[1;32m1\u001b[0m\n\u001b[1;33m    myfunc(23,34,44, fruit=\"apple\",veggi=\"lettuce\",animal=\"dog\", 20)\u001b[0m\n\u001b[1;37m                                                                ^\u001b[0m\n\u001b[1;31mSyntaxError\u001b[0m\u001b[1;31m:\u001b[0m positional argument follows keyword argument\n"
     ]
    }
   ],
   "source": [
    "myfunc(23,34,44, fruit=\"apple\",veggi=\"lettuce\",animal=\"dog\", 20) # ERROR: 20 should be in the args."
   ]
  },
  {
   "cell_type": "code",
   "execution_count": 293,
   "metadata": {},
   "outputs": [
    {
     "name": "stdout",
     "output_type": "stream",
     "text": [
      "0 t\n",
      "<class 'int'> <class 'str'>\n",
      "1 e\n",
      "<class 'int'> <class 'str'>\n",
      "2 s\n",
      "<class 'int'> <class 'str'>\n",
      "3 t\n",
      "<class 'int'> <class 'str'>\n",
      "4 T\n",
      "<class 'int'> <class 'str'>\n",
      "5 h\n",
      "<class 'int'> <class 'str'>\n",
      "6 e\n",
      "<class 'int'> <class 'str'>\n",
      "7 s\n",
      "<class 'int'> <class 'str'>\n",
      "8 e\n",
      "<class 'int'> <class 'str'>\n",
      "9 N\n",
      "<class 'int'> <class 'str'>\n",
      "10 T\n",
      "<class 'int'> <class 'str'>\n",
      "11 e\n",
      "<class 'int'> <class 'str'>\n",
      "12 n\n",
      "<class 'int'> <class 'str'>\n",
      "13 s\n",
      "<class 'int'> <class 'str'>\n",
      "14 e\n",
      "<class 'int'> <class 'str'>\n"
     ]
    },
    {
     "data": {
      "text/plain": [
       "'TeStThEsEnTeNsE'"
      ]
     },
     "execution_count": 293,
     "metadata": {},
     "output_type": "execute_result"
    }
   ],
   "source": [
    "# e.g.: Skyline: even letter-->turn to Upper case; odd letter-->turn to lower case;\n",
    "def myfunc(strTest):\n",
    "    newstr=\"\"\n",
    "    for (index, item) in enumerate(strTest): #enumerate(): make string into \"index\"+\"string\"; OR make string into tuple: for item in enumerate(str)\n",
    "        print(index, item)\n",
    "        print(type(index), type(item))\n",
    "        \n",
    "        if index%2==0:\n",
    "            newstr+=item.upper() #String: No append(), just +; List: append()\n",
    "        else:\n",
    "            newstr+=item.lower()\n",
    "    return newstr\n",
    "\n",
    "myfunc('testTheseNTense')"
   ]
  },
  {
   "cell_type": "markdown",
   "metadata": {},
   "source": [
    "### 11. map()-for\n",
    "#### 1.map func to iteration. "
   ]
  },
  {
   "cell_type": "code",
   "execution_count": 55,
   "metadata": {},
   "outputs": [],
   "source": [
    "# map():\n",
    "def myfunc(num):\n",
    "    return num**2"
   ]
  },
  {
   "cell_type": "code",
   "execution_count": 58,
   "metadata": {},
   "outputs": [
    {
     "name": "stdout",
     "output_type": "stream",
     "text": [
      "<map object at 0x00000203140024A8>\n",
      "<class 'map'>\n",
      "[4, 25, 49, 1, 64]\n"
     ]
    }
   ],
   "source": [
    "listInt=[2,5,7,1,8] # Any iteration-list\n",
    "\n",
    "print(map(myfunc, listInt))\n",
    "print(type(map(myfunc, listInt)))\n",
    "print(list(map(myfunc, listInt)))"
   ]
  },
  {
   "cell_type": "code",
   "execution_count": 59,
   "metadata": {},
   "outputs": [
    {
     "name": "stdout",
     "output_type": "stream",
     "text": [
      "4\n",
      "25\n",
      "49\n",
      "1\n",
      "64\n"
     ]
    }
   ],
   "source": [
    "for item in map(myfunc, listInt):\n",
    "    print(item)"
   ]
  },
  {
   "cell_type": "code",
   "execution_count": 61,
   "metadata": {},
   "outputs": [
    {
     "name": "stdout",
     "output_type": "stream",
     "text": [
      "<map object at 0x0000020313FF5CF8>\n",
      "<class 'map'>\n",
      "[4, 25, 49, 1, 64]\n"
     ]
    }
   ],
   "source": [
    "tupleInt=(2,5,7,1,8) # Any iteration-tuple\n",
    "\n",
    "print(map(myfunc, tupleInt))\n",
    "print(type(map(myfunc, tupleInt)))\n",
    "print(list(map(myfunc, tupleInt)))"
   ]
  },
  {
   "cell_type": "markdown",
   "metadata": {},
   "source": [
    "### 12. filter()-for+if:\n"
   ]
  },
  {
   "cell_type": "code",
   "execution_count": 66,
   "metadata": {},
   "outputs": [],
   "source": [
    "def check_even(num):\n",
    "    if num%2==0:\n",
    "        return True\n",
    "    \n",
    "def check_even2(num):\n",
    "    if num%2!=0:\n",
    "        return False\n",
    "    else:\n",
    "        return True"
   ]
  },
  {
   "cell_type": "code",
   "execution_count": 67,
   "metadata": {},
   "outputs": [
    {
     "name": "stdout",
     "output_type": "stream",
     "text": [
      "<filter object at 0x0000020313FF5AC8>\n",
      "<class 'filter'>\n",
      "[2, 8]\n"
     ]
    }
   ],
   "source": [
    "nums=[2,5,7,1,8]\n",
    "print(filter(check_even, nums))\n",
    "print(type(filter(check_even, nums)))\n",
    "print(list(filter(check_even, nums)))"
   ]
  },
  {
   "cell_type": "code",
   "execution_count": 68,
   "metadata": {},
   "outputs": [
    {
     "name": "stdout",
     "output_type": "stream",
     "text": [
      "<filter object at 0x0000020313FF5400>\n",
      "<class 'filter'>\n",
      "[2, 8]\n"
     ]
    }
   ],
   "source": [
    "nums=[2,5,7,1,8]\n",
    "print(filter(check_even2, nums))\n",
    "print(type(filter(check_even2, nums)))# Filter: filter TRUE!\n",
    "print(list(filter(check_even2, nums))) "
   ]
  },
  {
   "cell_type": "markdown",
   "metadata": {},
   "source": [
    "### 13. Lambda():\n",
    "#### 13.1 square-map;\n",
    "#### 13.2 check_even-filter;\n",
    "#### 13.3 first letter;\n",
    "#### 13.4 reverse name;\n",
    "#### 13.5 Map+lambda;"
   ]
  },
  {
   "cell_type": "code",
   "execution_count": 69,
   "metadata": {},
   "outputs": [],
   "source": [
    "# 13.1 square-Original:\n",
    "def square(num):\n",
    "    return num**2"
   ]
  },
  {
   "cell_type": "code",
   "execution_count": 73,
   "metadata": {},
   "outputs": [
    {
     "name": "stdout",
     "output_type": "stream",
     "text": [
      "<map object at 0x0000020313FE4E48>\n",
      "[4, 25, 49, 1, 64]\n"
     ]
    }
   ],
   "source": [
    "listInt=[2,5,7,1,8]\n",
    "print(map(lambda num:num**2, listInt))\n",
    "print(list(map(lambda num:num**2, listInt)))\n",
    "print()"
   ]
  },
  {
   "cell_type": "code",
   "execution_count": 74,
   "metadata": {},
   "outputs": [
    {
     "name": "stdout",
     "output_type": "stream",
     "text": [
      "[2, 8]\n"
     ]
    }
   ],
   "source": [
    "# 13.2 check_even+filter:\n",
    "print(list(filter(lambda num:num%2==0, listInt)))"
   ]
  },
  {
   "cell_type": "code",
   "execution_count": 297,
   "metadata": {},
   "outputs": [
    {
     "name": "stdout",
     "output_type": "stream",
     "text": [
      "['S', 'E', 'T']\n"
     ]
    }
   ],
   "source": [
    "# 13.3 get the 1st letter\n",
    "listname=['Sally','Eve','Tom']\n",
    "\n",
    "print(list(map(lambda strTest: strTest[0], listname)))"
   ]
  },
  {
   "cell_type": "code",
   "execution_count": 298,
   "metadata": {},
   "outputs": [
    {
     "name": "stdout",
     "output_type": "stream",
     "text": [
      "['yllaS', 'evE', 'moT']\n"
     ]
    }
   ],
   "source": [
    "# 13.4 Reverse the letters in the names:\n",
    "print(list(map(lambda str_test: str_test[::-1], listname)))"
   ]
  },
  {
   "cell_type": "code",
   "execution_count": 314,
   "metadata": {},
   "outputs": [
    {
     "name": "stdout",
     "output_type": "stream",
     "text": [
      "[16, 4, 36, 1, 49]\n"
     ]
    }
   ],
   "source": [
    "# 13.5 Map+Lambda:\n",
    "items = [4,2,6,1,7]\n",
    "items = list(map(lambda x:x**2, items)) # map(function_to_apply, list_of_inputs)\n",
    "print(items)"
   ]
  },
  {
   "cell_type": "markdown",
   "metadata": {},
   "source": [
    "### 14. Variable scope:\n",
    "#### Rules: LEGB: Local, enclosing, global, built-in\n",
    "#### 1. scope example"
   ]
  },
  {
   "cell_type": "code",
   "execution_count": 120,
   "metadata": {},
   "outputs": [],
   "source": [
    "# 14.1\n",
    "x='Global' #GLOBAL\n",
    "\n",
    "def func_outer(x):\n",
    "    x='Enclosing rewritten Global'\n",
    "    print(x)\n",
    "    \n",
    "    def func_inner(x):\n",
    "        x='Local rewritten Global'#LOCAL\n",
    "        print(x)\n",
    "    "
   ]
  },
  {
   "cell_type": "code",
   "execution_count": 121,
   "metadata": {},
   "outputs": [
    {
     "name": "stdout",
     "output_type": "stream",
     "text": [
      "Enclosing rewritten Global\n",
      "None\n",
      "Global\n"
     ]
    }
   ],
   "source": [
    "print(func_outer(x)) \n",
    "print(x)"
   ]
  },
  {
   "cell_type": "code",
   "execution_count": 113,
   "metadata": {},
   "outputs": [],
   "source": [
    "x='Global'\n",
    "def func_outer():\n",
    "    \n",
    "    global x # Affect global x overall, but should avoid to use this.\n",
    "    print(f'X1 is {x}') #X1 is Global\n",
    "    \n",
    "    x='Enclosing rewritten Global'\n",
    "    print(f'X2 is {x}') #X2 is Enclosing rewritten Global"
   ]
  },
  {
   "cell_type": "code",
   "execution_count": 114,
   "metadata": {},
   "outputs": [
    {
     "name": "stdout",
     "output_type": "stream",
     "text": [
      "Global\n",
      "X1 is Global\n",
      "X2 is Enclosing rewritten Global\n",
      "None\n",
      "Enclosing rewritten Global\n"
     ]
    }
   ],
   "source": [
    "print(x) #Global\n",
    "print(func_outer()) #X1 is Global,X2 is Enclosing rewritten Global\n",
    "print(x) #Enclosing rewritten Global(Global x affected.)"
   ]
  },
  {
   "cell_type": "code",
   "execution_count": 123,
   "metadata": {},
   "outputs": [],
   "source": [
    "x='Global'\n",
    "def func_outer():\n",
    "    \n",
    "    global x # Affect global x overall, but should avoid to use this.\n",
    "    print(f'X1 is {x}') #X1 is Global\n",
    "    \n",
    "    def func_inner():\n",
    "        x='Enclosing rewritten Global'\n",
    "        print(f'X2 is {x}') #X2 is Enclosing rewritten Global"
   ]
  },
  {
   "cell_type": "code",
   "execution_count": 124,
   "metadata": {},
   "outputs": [
    {
     "name": "stdout",
     "output_type": "stream",
     "text": [
      "Global\n",
      "X1 is Global\n",
      "None\n",
      "Global\n"
     ]
    }
   ],
   "source": [
    "print(x) #Enclosing rewritten Global(Global x affected.)\n",
    "print(func_outer())\n",
    "print(x)"
   ]
  },
  {
   "cell_type": "code",
   "execution_count": 129,
   "metadata": {},
   "outputs": [],
   "source": [
    "# 14.2 another eg.:\n",
    "name=\"GLOBAL\"\n",
    "\n",
    "def func_out():\n",
    "    name=\"ENCLOSE\"\n",
    "    \n",
    "    def func_in():\n",
    "        name=\"LOCAL\"\n",
    "        print(name)\n",
    "        \n",
    "    print(name)     #ENCLOSE\n",
    "    func_in()       #LOCAL\n",
    "    print(name)     #ENCLOSE"
   ]
  },
  {
   "cell_type": "code",
   "execution_count": 131,
   "metadata": {},
   "outputs": [
    {
     "name": "stdout",
     "output_type": "stream",
     "text": [
      "ENCLOSE\n",
      "LOCAL\n",
      "ENCLOSE\n",
      "None\n",
      "Global\n"
     ]
    }
   ],
   "source": [
    "print(func_out())\n",
    "print(x)"
   ]
  },
  {
   "cell_type": "markdown",
   "metadata": {},
   "source": [
    "### 15. OOP:\n",
    "#### 1. Create the Class\n",
    "#### 2. Create the instance and assign attributes.\n",
    "#### 3. Get the type and attributes.\n",
    "#### 4. Reassign the default paratmeters\n",
    "#### 5. Reassign a different type of default parameters:\n",
    "#### 6. Another way to assign values to attributes.\n",
    "#### 7. Class attributes VS instanct attributes.\n",
    "#### 8. Methods:\n",
    "#### 9. Anothe case."
   ]
  },
  {
   "cell_type": "code",
   "execution_count": 144,
   "metadata": {},
   "outputs": [],
   "source": [
    "# 15.1: Create the class:\n",
    "class Dog():\n",
    "    def __init__(self, breed, name, spots=False): # parameters: breed, name, spots.Self: the instant and connect it with the class.\n",
    "        self.dogBreed=breed # Attribute: dogBreed, name, IfSpots.(MUST call attributes! not parameter name.)\n",
    "        self.name=name # Self: the instant and connect it with the attributes.\n",
    "        self.IfSpots=spots"
   ]
  },
  {
   "cell_type": "code",
   "execution_count": 145,
   "metadata": {},
   "outputs": [
    {
     "ename": "TypeError",
     "evalue": "__init__() missing 2 required positional arguments: 'breed' and 'name'",
     "output_type": "error",
     "traceback": [
      "\u001b[1;31m---------------------------------------------------------------------------\u001b[0m",
      "\u001b[1;31mTypeError\u001b[0m                                 Traceback (most recent call last)",
      "\u001b[1;32m<ipython-input-145-77310048b0ef>\u001b[0m in \u001b[0;36m<module>\u001b[1;34m\u001b[0m\n\u001b[0;32m      1\u001b[0m \u001b[1;31m# 15.2: Create the instance and assign attributes:\u001b[0m\u001b[1;33m\u001b[0m\u001b[1;33m\u001b[0m\u001b[1;33m\u001b[0m\u001b[0m\n\u001b[1;32m----> 2\u001b[1;33m \u001b[0mmydog\u001b[0m\u001b[1;33m=\u001b[0m\u001b[0mDog\u001b[0m\u001b[1;33m(\u001b[0m\u001b[1;33m)\u001b[0m \u001b[1;31m#MUST assign attributes.\u001b[0m\u001b[1;33m\u001b[0m\u001b[1;33m\u001b[0m\u001b[0m\n\u001b[0m",
      "\u001b[1;31mTypeError\u001b[0m: __init__() missing 2 required positional arguments: 'breed' and 'name'"
     ]
    }
   ],
   "source": [
    "# 15.2: Create the instance and assign attributes:\n",
    "mydog=Dog() # MUST assign attributes if some parameter assigned in the Class definition."
   ]
  },
  {
   "cell_type": "code",
   "execution_count": 146,
   "metadata": {},
   "outputs": [],
   "source": [
    "mydog=Dog('lab','Sammy')"
   ]
  },
  {
   "cell_type": "code",
   "execution_count": 149,
   "metadata": {},
   "outputs": [
    {
     "name": "stdout",
     "output_type": "stream",
     "text": [
      "<class '__main__.Dog'> lab Sammy False\n"
     ]
    }
   ],
   "source": [
    "# 15.3 Get the type and attributes.\n",
    "print(type(mydog),mydog.dogBreed, mydog.name, mydog.IfSpots) #(MUST call attributes! not parameter name.)"
   ]
  },
  {
   "cell_type": "code",
   "execution_count": 151,
   "metadata": {},
   "outputs": [
    {
     "name": "stdout",
     "output_type": "stream",
     "text": [
      "lab1 Tom True\n"
     ]
    }
   ],
   "source": [
    "# 15.4 Reassign the default paratmeters:\n",
    "mydog=Dog('lab1','Tom', True)\n",
    "print(mydog.dogBreed, mydog.name, mydog.IfSpots)"
   ]
  },
  {
   "cell_type": "code",
   "execution_count": 152,
   "metadata": {},
   "outputs": [
    {
     "name": "stdout",
     "output_type": "stream",
     "text": [
      "lab2 Jerry NO spots\n"
     ]
    }
   ],
   "source": [
    "# 15.5 Reassign a different type of default parameters:\n",
    "mydog=Dog('lab2','Jerry','NO spots')\n",
    "print(mydog.dogBreed, mydog.name, mydog.IfSpots) #Python will not identify the type of parameters."
   ]
  },
  {
   "cell_type": "code",
   "execution_count": 155,
   "metadata": {},
   "outputs": [
    {
     "name": "stdout",
     "output_type": "stream",
     "text": [
      "lab2 Jerry NO spots\n"
     ]
    }
   ],
   "source": [
    "# 15.6 Another way to assign values to attributes.\n",
    "mydog=Dog(breed='lab2', name='Jerry', spots='NO spots') # Assign with the name of parameters, NOT attributes name.\n",
    "print(mydog.dogBreed, mydog.name, mydog.IfSpots) "
   ]
  },
  {
   "cell_type": "code",
   "execution_count": 156,
   "metadata": {},
   "outputs": [],
   "source": [
    "# 15.7 Class Attributes:\n",
    "class Dog():\n",
    "    species=\"mammal\"\n",
    "    def __init__(self, breed, name, spots=False): # parameters: breed, name, spots.Self: the instant and connect it with the class.\n",
    "        self.dogBreed=breed # Attribute: dogBreed, name, IfSpots.(MUST call attributes! not parameter name.)\n",
    "        self.name=name # Self: the instant and connect it with the attributes.\n",
    "        self.IfSpots=spots"
   ]
  },
  {
   "cell_type": "code",
   "execution_count": 157,
   "metadata": {},
   "outputs": [],
   "source": [
    "mydog=Dog('lab3','Danny', True)"
   ]
  },
  {
   "cell_type": "code",
   "execution_count": 158,
   "metadata": {},
   "outputs": [
    {
     "name": "stdout",
     "output_type": "stream",
     "text": [
      "mammal lab3 Danny True\n"
     ]
    }
   ],
   "source": [
    "print(mydog.species, mydog.dogBreed, mydog.name, mydog.IfSpots) #species: Class attributes."
   ]
  },
  {
   "cell_type": "code",
   "execution_count": 163,
   "metadata": {},
   "outputs": [],
   "source": [
    "# 15.8: Method：\n",
    "class Dog():\n",
    "    species=\"mammal\"\n",
    "    def __init__(self, breed, name, spots=False): # parameters: breed, name, spots.Self: the instant and connect it with the class.\n",
    "        self.dogBreed=breed # Attribute: dogBreed, name, IfSpots.(MUST call attributes! not parameter name.)\n",
    "        self.name=name # Self: the instant and connect it with the attributes.\n",
    "        self.IfSpots=spots\n",
    "        \n",
    "    def bark(self, number): # number: Outer parameter, not the instant number.So no self. in front of it.\n",
    "        print(\"My name is {}, I am a {} breed dog spots {} and my num is {}\".format(self.name, self.dogBreed, self.IfSpots, number))"
   ]
  },
  {
   "cell_type": "code",
   "execution_count": 164,
   "metadata": {},
   "outputs": [],
   "source": [
    "mydog=Dog('Sammy','lab1')"
   ]
  },
  {
   "cell_type": "code",
   "execution_count": 166,
   "metadata": {},
   "outputs": [
    {
     "name": "stdout",
     "output_type": "stream",
     "text": [
      "My name is lab1, I am a Sammy breed dog spots False and my num is 10\n"
     ]
    }
   ],
   "source": [
    "mydog.bark(10) # breed: Class attributes, name: instance attributes, spots: default FALSE, number: outer parameter.s"
   ]
  },
  {
   "cell_type": "code",
   "execution_count": 171,
   "metadata": {},
   "outputs": [],
   "source": [
    "# 9. Another case: Circle\n",
    "class Circle():\n",
    "    pi=3.14\n",
    "    \n",
    "    def __init__(self, radius=1):\n",
    "        self.radius=radius\n",
    "        self.area=self.radius*self.radius*Circle.pi #Class attribute.\n",
    "        \n",
    "    def get_circumference(self): #The method in the class: MUST have self to connect the particular instance to the method.\n",
    "        return (2*Circle.pi*self.radius)"
   ]
  },
  {
   "cell_type": "code",
   "execution_count": 174,
   "metadata": {},
   "outputs": [
    {
     "name": "stdout",
     "output_type": "stream",
     "text": [
      "28.26\n",
      "3\n",
      "18.84\n"
     ]
    }
   ],
   "source": [
    "c=Circle(3)\n",
    "print(c.area)\n",
    "print(c.radius)\n",
    "print(c.get_circumference())"
   ]
  },
  {
   "cell_type": "markdown",
   "metadata": {},
   "source": [
    "### 16. Inheritance\n",
    "#### 1. Father class;\n",
    "#### 2. Son class and call father methods;\n",
    "#### 3. Overwrite father methods.\n",
    "#### 4. Add new methods\n"
   ]
  },
  {
   "cell_type": "code",
   "execution_count": 193,
   "metadata": {},
   "outputs": [],
   "source": [
    "# 1. Father class:\n",
    "class Animal():\n",
    "    def __init__(self):\n",
    "        print(\"Animal created.\")\n",
    "        \n",
    "    def eat(self):\n",
    "        print(\"Animal eats.\")"
   ]
  },
  {
   "cell_type": "code",
   "execution_count": 194,
   "metadata": {},
   "outputs": [],
   "source": [
    "#2. Son class:\n",
    "class Dog(Animal):\n",
    "    def __init__(self):\n",
    "        Animal.__init__(self) #Animal will not call animal.__init__() if without this statement.\n",
    "        print(\"dog created.\")\n",
    "        \n",
    "    def bark(self):\n",
    "        print(\"dog bark.\")"
   ]
  },
  {
   "cell_type": "code",
   "execution_count": 195,
   "metadata": {},
   "outputs": [
    {
     "name": "stdout",
     "output_type": "stream",
     "text": [
      "Animal created.\n",
      "dog created.\n"
     ]
    }
   ],
   "source": [
    "dog=Dog()"
   ]
  },
  {
   "cell_type": "code",
   "execution_count": 196,
   "metadata": {},
   "outputs": [
    {
     "name": "stdout",
     "output_type": "stream",
     "text": [
      "Animal eats.\n"
     ]
    }
   ],
   "source": [
    "dog.eat() #Call father methods if no overwritten."
   ]
  },
  {
   "cell_type": "code",
   "execution_count": 200,
   "metadata": {},
   "outputs": [],
   "source": [
    "# 3. Overwrite:\n",
    "class Dog(Animal):\n",
    "    def __init__(self):\n",
    "        Animal.__init__(self) #Animal will not call animal.__init__() if without this statement.\n",
    "        print(\"dog created.\")\n",
    "        \n",
    "    def eat(self):\n",
    "        print(\"Dog eat.\")"
   ]
  },
  {
   "cell_type": "code",
   "execution_count": 201,
   "metadata": {},
   "outputs": [
    {
     "name": "stdout",
     "output_type": "stream",
     "text": [
      "Animal created.\n",
      "dog created.\n",
      "Dog eat.\n"
     ]
    }
   ],
   "source": [
    "dog=Dog()\n",
    "dog.eat() # OVERWRITE: to dog's methods."
   ]
  },
  {
   "cell_type": "code",
   "execution_count": 202,
   "metadata": {},
   "outputs": [],
   "source": [
    "# 3. Overwrite:\n",
    "class Dog(Animal):\n",
    "    def __init__(self):\n",
    "        Animal.__init__(self) #Animal will not call animal.__init__() if without this statement.\n",
    "        print(\"dog created.\")\n",
    "    \n",
    "    def eat(self):\n",
    "        print(\"Dog eat.\")\n",
    "        \n",
    "    def bark(self): #NEW Added.\n",
    "        print(\"dog bark.\")"
   ]
  },
  {
   "cell_type": "code",
   "execution_count": 203,
   "metadata": {},
   "outputs": [
    {
     "name": "stdout",
     "output_type": "stream",
     "text": [
      "Animal created.\n",
      "dog created.\n",
      "dog bark.\n"
     ]
    }
   ],
   "source": [
    "dog=Dog()\n",
    "dog.bark()"
   ]
  },
  {
   "cell_type": "markdown",
   "metadata": {},
   "source": [
    "### 16. Polymorphism\n",
    "#### 1. 2 classes;\n",
    "#### 2. in FOR loop;\n",
    "#### 3. in shared methods."
   ]
  },
  {
   "cell_type": "code",
   "execution_count": 232,
   "metadata": {},
   "outputs": [],
   "source": [
    "# 1. 2 classes share the method with same names:\n",
    "class Dog():\n",
    "    def __init__(self, name):\n",
    "        self.name=name\n",
    "        \n",
    "    def speak(self):\n",
    "        print(\"{}: Woofs!\".format(self.name))\n",
    "        \n",
    "class Cat():\n",
    "    def __init__(self, name):\n",
    "        self.name=name\n",
    "        \n",
    "    def speak(self):\n",
    "        print(\"{}: Meow!\".format(self.name))"
   ]
  },
  {
   "cell_type": "code",
   "execution_count": 233,
   "metadata": {},
   "outputs": [
    {
     "name": "stdout",
     "output_type": "stream",
     "text": [
      "Tommy: Woofs!\n",
      "Kitty: Meow!\n"
     ]
    }
   ],
   "source": [
    "dog=Dog('Tommy')\n",
    "cat=Cat('Kitty')\n",
    "\n",
    "dog.speak() #Same names of the methods, but different results.\n",
    "cat.speak()"
   ]
  },
  {
   "cell_type": "code",
   "execution_count": 209,
   "metadata": {},
   "outputs": [
    {
     "name": "stdout",
     "output_type": "stream",
     "text": [
      "Woofs!\n",
      "Meow!\n"
     ]
    }
   ],
   "source": [
    "# 2. FOR loops:\n",
    "for pet in [dog, cat]:\n",
    "    pet.speak()"
   ]
  },
  {
   "cell_type": "code",
   "execution_count": 236,
   "metadata": {},
   "outputs": [],
   "source": [
    "# 3. Differen pets in shared methods:\n",
    "def pet_speak(self):\n",
    "    self.speak()"
   ]
  },
  {
   "cell_type": "code",
   "execution_count": 238,
   "metadata": {},
   "outputs": [
    {
     "name": "stdout",
     "output_type": "stream",
     "text": [
      "Tommy: Woofs!\n",
      "Kitty: Meow!\n"
     ]
    }
   ],
   "source": [
    "pet_speak(dog)\n",
    "pet_speak(cat)"
   ]
  },
  {
   "cell_type": "markdown",
   "metadata": {},
   "source": [
    "### 17. Abstract:\n",
    "#### 1. implement the abstract method in abstract father class."
   ]
  },
  {
   "cell_type": "code",
   "execution_count": 240,
   "metadata": {},
   "outputs": [],
   "source": [
    "# 1. implement the abstract method in abstract father class.\n",
    "class Animal():\n",
    "    def __init__(self, name):\n",
    "        self.name=name\n",
    "        \n",
    "    def speak(self):\n",
    "        raise NotImplementedError(\"Subclass must implement this abstract method!\")"
   ]
  },
  {
   "cell_type": "code",
   "execution_count": 248,
   "metadata": {},
   "outputs": [
    {
     "ename": "NotImplementedError",
     "evalue": "Subclass must implement this abstract method!",
     "output_type": "error",
     "traceback": [
      "\u001b[1;31m---------------------------------------------------------------------------\u001b[0m",
      "\u001b[1;31mNotImplementedError\u001b[0m                       Traceback (most recent call last)",
      "\u001b[1;32m<ipython-input-248-7dcaa86b26d4>\u001b[0m in \u001b[0;36m<module>\u001b[1;34m\u001b[0m\n\u001b[0;32m      1\u001b[0m \u001b[0ma\u001b[0m\u001b[1;33m=\u001b[0m\u001b[0mAnimal\u001b[0m\u001b[1;33m(\u001b[0m\u001b[1;34m\"animalHello\"\u001b[0m\u001b[1;33m)\u001b[0m\u001b[1;33m\u001b[0m\u001b[1;33m\u001b[0m\u001b[0m\n\u001b[1;32m----> 2\u001b[1;33m \u001b[0ma\u001b[0m\u001b[1;33m.\u001b[0m\u001b[0mspeak\u001b[0m\u001b[1;33m(\u001b[0m\u001b[1;33m)\u001b[0m\u001b[1;33m\u001b[0m\u001b[1;33m\u001b[0m\u001b[0m\n\u001b[0m",
      "\u001b[1;32m<ipython-input-240-9e263c36f0b2>\u001b[0m in \u001b[0;36mspeak\u001b[1;34m(self)\u001b[0m\n\u001b[0;32m      4\u001b[0m         \u001b[0mself\u001b[0m\u001b[1;33m.\u001b[0m\u001b[0mname\u001b[0m\u001b[1;33m=\u001b[0m\u001b[0mname\u001b[0m\u001b[1;33m\u001b[0m\u001b[1;33m\u001b[0m\u001b[0m\n\u001b[0;32m      5\u001b[0m     \u001b[1;32mdef\u001b[0m \u001b[0mspeak\u001b[0m\u001b[1;33m(\u001b[0m\u001b[0mself\u001b[0m\u001b[1;33m)\u001b[0m\u001b[1;33m:\u001b[0m\u001b[1;33m\u001b[0m\u001b[1;33m\u001b[0m\u001b[0m\n\u001b[1;32m----> 6\u001b[1;33m         \u001b[1;32mraise\u001b[0m \u001b[0mNotImplementedError\u001b[0m\u001b[1;33m(\u001b[0m\u001b[1;34m\"Subclass must implement this abstract method!\"\u001b[0m\u001b[1;33m)\u001b[0m\u001b[1;33m\u001b[0m\u001b[1;33m\u001b[0m\u001b[0m\n\u001b[0m",
      "\u001b[1;31mNotImplementedError\u001b[0m: Subclass must implement this abstract method!"
     ]
    }
   ],
   "source": [
    "a=Animal(\"animalHello\")\n",
    "a.speak() # NotImplementedError: Subclass must implement this abstract method! if no implenmentation."
   ]
  },
  {
   "cell_type": "code",
   "execution_count": 258,
   "metadata": {},
   "outputs": [],
   "source": [
    "class Dog(Animal):\n",
    "    def __init__(self,name):\n",
    "        self.name=name\n",
    "        \n",
    "    def speak(self): #IMPLEMENT the abstract method.\n",
    "        print(\"{}: Whoofs\".format(self.name))"
   ]
  },
  {
   "cell_type": "code",
   "execution_count": 259,
   "metadata": {},
   "outputs": [],
   "source": [
    "dog=Dog(\"Frakie\")"
   ]
  },
  {
   "cell_type": "code",
   "execution_count": 260,
   "metadata": {},
   "outputs": [
    {
     "name": "stdout",
     "output_type": "stream",
     "text": [
      "Frakie: Whoofs\n"
     ]
    }
   ],
   "source": [
    "dog.speak()"
   ]
  },
  {
   "cell_type": "code",
   "execution_count": 265,
   "metadata": {},
   "outputs": [],
   "source": [
    "class Cat(Animal):\n",
    "    def __init__(self,name):\n",
    "        self.name=name\n",
    "    \n",
    "    def speak(self): #IMPLEMENT the abstract method.\n",
    "        print(\"{}: Meow\".format(self.name))"
   ]
  },
  {
   "cell_type": "code",
   "execution_count": 266,
   "metadata": {},
   "outputs": [
    {
     "name": "stdout",
     "output_type": "stream",
     "text": [
      "Katty: Meow\n"
     ]
    }
   ],
   "source": [
    "cat=Cat(\"Katty\")\n",
    "cat.speak()"
   ]
  },
  {
   "cell_type": "markdown",
   "metadata": {},
   "source": [
    "### 18. Special methods.\n",
    "#### 1. print/call directly.\n",
    "#### 2. __str__ & print， __len__ & print\n",
    "#### 3. del & __del__ & del & call this object.\n",
    "##### (Methods like __str__, __init__ and __del__ are called special methods. They aren't completely redefined, but they describe the behavior that we want our object to have when an action is called upon it.)"
   ]
  },
  {
   "cell_type": "code",
   "execution_count": 271,
   "metadata": {},
   "outputs": [],
   "source": [
    "class Book():\n",
    "    def __init__(self, title, author, pages):\n",
    "        self.title=title\n",
    "        self.author=author\n",
    "        self.pages=pages"
   ]
  },
  {
   "cell_type": "code",
   "execution_count": 273,
   "metadata": {},
   "outputs": [
    {
     "name": "stdout",
     "output_type": "stream",
     "text": [
      "<__main__.Book object at 0x0000020314653BE0>\n"
     ]
    },
    {
     "ename": "TypeError",
     "evalue": "object of type 'Book' has no len()",
     "output_type": "error",
     "traceback": [
      "\u001b[1;31m---------------------------------------------------------------------------\u001b[0m",
      "\u001b[1;31mTypeError\u001b[0m                                 Traceback (most recent call last)",
      "\u001b[1;32m<ipython-input-273-82e3732cbdd8>\u001b[0m in \u001b[0;36m<module>\u001b[1;34m\u001b[0m\n\u001b[0;32m      1\u001b[0m \u001b[0mb\u001b[0m\u001b[1;33m=\u001b[0m\u001b[0mBook\u001b[0m\u001b[1;33m(\u001b[0m\u001b[1;34m\"Python guide\"\u001b[0m\u001b[1;33m,\u001b[0m\u001b[1;34m\"Jose\"\u001b[0m\u001b[1;33m,\u001b[0m\u001b[1;36m200\u001b[0m\u001b[1;33m)\u001b[0m\u001b[1;33m\u001b[0m\u001b[1;33m\u001b[0m\u001b[0m\n\u001b[0;32m      2\u001b[0m \u001b[0mprint\u001b[0m\u001b[1;33m(\u001b[0m\u001b[0mb\u001b[0m\u001b[1;33m)\u001b[0m \u001b[1;31m#Memory: <__main__.Book object at 0x0000020314653668>\u001b[0m\u001b[1;33m\u001b[0m\u001b[1;33m\u001b[0m\u001b[0m\n\u001b[1;32m----> 3\u001b[1;33m \u001b[0mlen\u001b[0m\u001b[1;33m(\u001b[0m\u001b[0mb\u001b[0m\u001b[1;33m)\u001b[0m\u001b[1;33m\u001b[0m\u001b[1;33m\u001b[0m\u001b[0m\n\u001b[0m",
      "\u001b[1;31mTypeError\u001b[0m: object of type 'Book' has no len()"
     ]
    }
   ],
   "source": [
    "b=Book(\"Python guide\",\"Jose\",200)\n",
    "print(b) #Memory: <__main__.Book object at 0x0000020314653668>\n",
    "len(b) #ERROR: TypeError: object of type 'Book' has no len()"
   ]
  },
  {
   "cell_type": "code",
   "execution_count": 309,
   "metadata": {},
   "outputs": [],
   "source": [
    "class Book():\n",
    "    def __init__(self, title, author, pages):\n",
    "        self.title=title\n",
    "        self.author=author\n",
    "        self.pages=pages\n",
    "    \n",
    "    def __str__(self):\n",
    "        return (f\"BOOK Name:{self.title}, AUTHOR:{self.author}, PAGES: {self.pages}\")\n",
    "    \n",
    "    def __len__(self):\n",
    "        return self.pages "
   ]
  },
  {
   "cell_type": "code",
   "execution_count": 310,
   "metadata": {},
   "outputs": [
    {
     "name": "stdout",
     "output_type": "stream",
     "text": [
      "BOOK Name:Python guide, AUTHOR:Jose, PAGES: 200\n"
     ]
    }
   ],
   "source": [
    "b=Book(\"Python guide\",\"Jose\",200)\n",
    "print(b) #Previously: memory, NOW: Call __str__(): BOOK Name:Python guide, AUTHOR:Jose, PAGES: 200"
   ]
  },
  {
   "cell_type": "code",
   "execution_count": 311,
   "metadata": {},
   "outputs": [
    {
     "ename": "TypeError",
     "evalue": "'list' object is not callable",
     "output_type": "error",
     "traceback": [
      "\u001b[1;31m---------------------------------------------------------------------------\u001b[0m",
      "\u001b[1;31mTypeError\u001b[0m                                 Traceback (most recent call last)",
      "\u001b[1;32m<ipython-input-311-07c20ce37ce0>\u001b[0m in \u001b[0;36m<module>\u001b[1;34m\u001b[0m\n\u001b[1;32m----> 1\u001b[1;33m \u001b[0mstr\u001b[0m\u001b[1;33m(\u001b[0m\u001b[0mb\u001b[0m\u001b[1;33m)\u001b[0m\u001b[1;33m\u001b[0m\u001b[1;33m\u001b[0m\u001b[0m\n\u001b[0m",
      "\u001b[1;31mTypeError\u001b[0m: 'list' object is not callable"
     ]
    }
   ],
   "source": [
    "str(b)"
   ]
  },
  {
   "cell_type": "code",
   "execution_count": 310,
   "metadata": {},
   "outputs": [],
   "source": [
    "del b"
   ]
  },
  {
   "cell_type": "code",
   "execution_count": 311,
   "metadata": {},
   "outputs": [
    {
     "ename": "NameError",
     "evalue": "name 'b' is not defined",
     "output_type": "error",
     "traceback": [
      "\u001b[1;31m---------------------------------------------------------------------------\u001b[0m",
      "\u001b[1;31mNameError\u001b[0m                                 Traceback (most recent call last)",
      "\u001b[1;32m<ipython-input-311-b0bbe1c05577>\u001b[0m in \u001b[0;36m<module>\u001b[1;34m\u001b[0m\n\u001b[1;32m----> 1\u001b[1;33m \u001b[0mb\u001b[0m \u001b[1;31m# b will deleted after del(b) without message.\u001b[0m\u001b[1;33m\u001b[0m\u001b[1;33m\u001b[0m\u001b[0m\n\u001b[0m",
      "\u001b[1;31mNameError\u001b[0m: name 'b' is not defined"
     ]
    }
   ],
   "source": [
    "b # b will deleted after del(b) without message."
   ]
  },
  {
   "cell_type": "code",
   "execution_count": 337,
   "metadata": {},
   "outputs": [],
   "source": [
    "class Book():\n",
    "    def __init__(self, title, author, pages):\n",
    "        self.title=title\n",
    "        self.author=author\n",
    "        self.pages=pages\n",
    "    \n",
    "    def __str__(self):\n",
    "        return (f\"BOOK Name:{self.title}, AUTHOR:{self.author}, PAGES: {self.pages}\")\n",
    "    \n",
    "    def __len__(self):\n",
    "        return self.pages \n",
    "    \n",
    "    def __del__(self):\n",
    "        print(\"the book has been deleted!\")"
   ]
  },
  {
   "cell_type": "code",
   "execution_count": 338,
   "metadata": {},
   "outputs": [],
   "source": [
    "b=Book(\"Python guide\",\"Jose\",200)"
   ]
  },
  {
   "cell_type": "code",
   "execution_count": 339,
   "metadata": {},
   "outputs": [
    {
     "name": "stdout",
     "output_type": "stream",
     "text": [
      "BOOK Name:Python guide, AUTHOR:Jose, PAGES: 200\n"
     ]
    }
   ],
   "source": [
    "print(b)"
   ]
  },
  {
   "cell_type": "code",
   "execution_count": 340,
   "metadata": {},
   "outputs": [
    {
     "data": {
      "text/plain": [
       "200"
      ]
     },
     "execution_count": 340,
     "metadata": {},
     "output_type": "execute_result"
    }
   ],
   "source": [
    "len(b)"
   ]
  },
  {
   "cell_type": "code",
   "execution_count": 341,
   "metadata": {},
   "outputs": [
    {
     "name": "stdout",
     "output_type": "stream",
     "text": [
      "the book has been deleted!\n"
     ]
    }
   ],
   "source": [
    "del(b)"
   ]
  },
  {
   "cell_type": "markdown",
   "metadata": {},
   "source": [
    "### 19. Error & Exception Handling:\n",
    "#### 1. Specific Error:\n",
    "#### 2. Other Errors:\n",
    "#### 3. While + Exception handling:"
   ]
  },
  {
   "cell_type": "code",
   "execution_count": 345,
   "metadata": {},
   "outputs": [
    {
     "name": "stdout",
     "output_type": "stream",
     "text": [
      "input an int:32\n",
      "NOTICE: This is a typeError.\n"
     ]
    }
   ],
   "source": [
    "# 1. Specific Error:\n",
    "num2=20\n",
    "try:\n",
    "    num1=input(\"input an int:\")\n",
    "    print(num1+num2)\n",
    "    \n",
    "except TypeError:\n",
    "    print(\"NOTICE: This is a typeError.\") #Because the inputted num is a STRING!"
   ]
  },
  {
   "cell_type": "code",
   "execution_count": 348,
   "metadata": {},
   "outputs": [
    {
     "name": "stdout",
     "output_type": "stream",
     "text": [
      "FINALLY: ALL Ways run!\n"
     ]
    }
   ],
   "source": [
    "# 2. Other Errors(Built-in errors):\n",
    "try:\n",
    "    f=open(\"TestingFile.ipynb\",\"w\")\n",
    "    f.write(\"print('Try to re-write.')\")\n",
    "    \n",
    "except TypeError:\n",
    "    print(\"NOTICE: This is a typeError.\")\n",
    "except:\n",
    "    print(\"NOTICE: Other Exceptions.\")\n",
    "    \n",
    "finally:\n",
    "    print(\"FINALLY: ALL Ways run!\") #No matter if any error happen, this command will run all the time with \"FINALLY\""
   ]
  },
  {
   "cell_type": "code",
   "execution_count": 349,
   "metadata": {},
   "outputs": [
    {
     "name": "stdout",
     "output_type": "stream",
     "text": [
      "NOTICE: Other Exceptions.\n",
      "FINALLY: ALL Ways run!\n"
     ]
    }
   ],
   "source": [
    "# 2-1. Other Errors(Built-in errors):\n",
    "try:\n",
    "    f=open(\"TestingFile.ipynb\",\"r\")\n",
    "    f.write(\"print('Try to re-write.')\")\n",
    "    \n",
    "except TypeError:\n",
    "    print(\"NOTICE: This is a typeError.\")\n",
    "except:\n",
    "    print(\"NOTICE: Other Exceptions.\") #This is not a TypeError, it should be permission error.\n",
    "    \n",
    "finally:\n",
    "    print(\"FINALLY: ALL Ways run!\") #No matter if any error happen, this command will run all the time with \"FINALLY\""
   ]
  },
  {
   "cell_type": "code",
   "execution_count": 351,
   "metadata": {},
   "outputs": [],
   "source": [
    "# 3. While + Exception handling-Original:\n",
    "def ask_for_int():\n",
    "    try:\n",
    "        num=int(input(\"Input an int:\"))\n",
    "    except:\n",
    "        print(\"Not an int!\")\n",
    "    else:\n",
    "        print(\"Great!\")\n",
    "    finally:\n",
    "        print(\"RUN all the way!\")\n",
    "        "
   ]
  },
  {
   "cell_type": "code",
   "execution_count": 352,
   "metadata": {},
   "outputs": [
    {
     "name": "stdout",
     "output_type": "stream",
     "text": [
      "Input an int:d\n",
      "Not an int!\n",
      "RUN all the way!\n"
     ]
    }
   ],
   "source": [
    "ask_for_int()"
   ]
  },
  {
   "cell_type": "code",
   "execution_count": 353,
   "metadata": {},
   "outputs": [
    {
     "name": "stdout",
     "output_type": "stream",
     "text": [
      "Input an int:10\n",
      "Great!\n",
      "RUN all the way!\n"
     ]
    }
   ],
   "source": [
    "ask_for_int()"
   ]
  },
  {
   "cell_type": "code",
   "execution_count": 1,
   "metadata": {},
   "outputs": [],
   "source": [
    "# 3.1 While + Exception handling-Upgraded\n",
    "def ask_for_int():\n",
    "    while True:\n",
    "        try:\n",
    "            num=int(input(\"Input an int:\"))\n",
    "        except:                                 #Condition 1: Exception--continue while loop to ask.\n",
    "            print(\"Not an int!\")\n",
    "            continue\n",
    "        else:                                   #Condition 2: No exception--Break while loop to finally.\n",
    "            print(\"Great!\")\n",
    "            break\n",
    "            \n",
    "        finally:\n",
    "            print(\"RUN all the way!\")"
   ]
  },
  {
   "cell_type": "code",
   "execution_count": 2,
   "metadata": {
    "scrolled": true
   },
   "outputs": [
    {
     "name": "stdout",
     "output_type": "stream",
     "text": [
      "Input an int:d\n",
      "Not an int!\n",
      "RUN all the way!\n",
      "Input an int:r\n",
      "Not an int!\n",
      "RUN all the way!\n",
      "Input an int:10\n",
      "Great!\n",
      "RUN all the way!\n"
     ]
    }
   ],
   "source": [
    "ask_for_int()"
   ]
  },
  {
   "cell_type": "markdown",
   "metadata": {},
   "source": [
    "### 20. Testing-Pylint & Unittest\n",
    "#### 1. test Unittest:\n",
    "#### 2. Pylint for evaluating the code."
   ]
  },
  {
   "cell_type": "code",
   "execution_count": 5,
   "metadata": {},
   "outputs": [
    {
     "data": {
      "text/plain": [
       "'Ddd'"
      ]
     },
     "execution_count": 5,
     "metadata": {},
     "output_type": "execute_result"
    }
   ],
   "source": [
    "#### 1. test Unittest:\n",
    "from testModule import cap_txt #testModule.py is parallel to this file.\n",
    "cap_txt(\"ddd\")\n",
    "\n",
    "# testModule.py:\n",
    "# def cap_txt(text):\n",
    "#     return text.capitalize()"
   ]
  },
  {
   "cell_type": "code",
   "execution_count": 12,
   "metadata": {},
   "outputs": [
    {
     "name": "stderr",
     "output_type": "stream",
     "text": [
      "E\n",
      "======================================================================\n",
      "ERROR: C:\\Users\\Zi Wei Fan\\AppData\\Roaming\\jupyter\\runtime\\kernel-58d70dc7-b3c4-4d08-8b0f-539a3471e47f (unittest.loader._FailedTest)\n",
      "----------------------------------------------------------------------\n",
      "AttributeError: module '__main__' has no attribute 'C:\\Users\\Zi Wei Fan\\AppData\\Roaming\\jupyter\\runtime\\kernel-58d70dc7-b3c4-4d08-8b0f-539a3471e47f'\n",
      "\n",
      "----------------------------------------------------------------------\n",
      "Ran 1 test in 0.001s\n",
      "\n",
      "FAILED (errors=1)\n"
     ]
    },
    {
     "ename": "SystemExit",
     "evalue": "True",
     "output_type": "error",
     "traceback": [
      "An exception has occurred, use %tb to see the full traceback.\n",
      "\u001b[1;31mSystemExit\u001b[0m\u001b[1;31m:\u001b[0m True\n"
     ]
    },
    {
     "name": "stderr",
     "output_type": "stream",
     "text": [
      "C:\\Anaconda3\\Anaconda3_2\\lib\\site-packages\\IPython\\core\\interactiveshell.py:3275: UserWarning: To exit: use 'exit', 'quit', or Ctrl-D.\n",
      "  warn(\"To exit: use 'exit', 'quit', or Ctrl-D.\", stacklevel=1)\n"
     ]
    }
   ],
   "source": [
    "from testModule import cap_txt\n",
    "import unittest\n",
    "\n",
    "class TestCap(unittest.TestCase):\n",
    "    def test_one_word(self):\n",
    "        text = \"testthis\"\n",
    "        result=testModule.cap_txt(text)\n",
    "        self.assertEqual(result, \"Testthis\")\n",
    "    \n",
    "    def test_multi_words(self):\n",
    "        text = \"test this one\"\n",
    "        result = testModule.cap_txt(text)\n",
    "        self.asertEqual(result, \"Test This One\") #The actual returned result is \"Test this one\", so it failed.\n",
    "        \n",
    "if __name__ == '__main__':\n",
    "    unittest.main()"
   ]
  },
  {
   "cell_type": "markdown",
   "metadata": {},
   "source": [
    "### 21. Decorations:\n",
    "#### 1. function assignments;\n",
    "#### 2. inside function calling;\n",
    "#### 3. outside calling;\n",
    "#### 4. Directly calling by errors;\n",
    "#### 5. Assign/return function within an outer function;\n",
    "#### 6. DECORATOR-typical concepts;\n",
    "#### 7. DECORATOR- @;"
   ]
  },
  {
   "cell_type": "code",
   "execution_count": 13,
   "metadata": {},
   "outputs": [],
   "source": [
    " # 1. function assignments;\n",
    "def hello():\n",
    "    return \"Hello\""
   ]
  },
  {
   "cell_type": "code",
   "execution_count": 14,
   "metadata": {},
   "outputs": [
    {
     "name": "stdout",
     "output_type": "stream",
     "text": [
      "Hello\n",
      "<function hello at 0x000001C15376FAE8>\n"
     ]
    }
   ],
   "source": [
    "print(hello())\n",
    "print(hello)"
   ]
  },
  {
   "cell_type": "code",
   "execution_count": 15,
   "metadata": {},
   "outputs": [],
   "source": [
    "greet = hello"
   ]
  },
  {
   "cell_type": "code",
   "execution_count": 16,
   "metadata": {},
   "outputs": [
    {
     "name": "stdout",
     "output_type": "stream",
     "text": [
      "Hello\n",
      "<function hello at 0x000001C15376FAE8>\n"
     ]
    }
   ],
   "source": [
    "print(greet()) #greet has been assigned by hello().\n",
    "print(greet)"
   ]
  },
  {
   "cell_type": "code",
   "execution_count": 22,
   "metadata": {},
   "outputs": [],
   "source": [
    "# 2. inside function calling;\n",
    "def hello(name=\"Jose\"):\n",
    "    print(\"This is hello!\")\n",
    "    \n",
    "    def greet():\n",
    "        print(\"\\t This is greet in Hello!\")\n",
    "    \n",
    "    def welcome():\n",
    "        print(\"\\t This is welcome in Hello!\")\n",
    "        \n",
    "    greet() #Must call! if want to call them.\n",
    "    welcome()\n",
    "    print(\"End of Hello!\")"
   ]
  },
  {
   "cell_type": "code",
   "execution_count": 23,
   "metadata": {},
   "outputs": [
    {
     "name": "stdout",
     "output_type": "stream",
     "text": [
      "This is hello!\n",
      "\t This is greet in Hello!\n",
      "\t This is welcome in Hello!\n",
      "End of Hello!\n"
     ]
    }
   ],
   "source": [
    "hello()"
   ]
  },
  {
   "cell_type": "code",
   "execution_count": 30,
   "metadata": {},
   "outputs": [],
   "source": [
    "# 2-1. inside function calling;-without print\n",
    "def hello(name=\"Jose\"):\n",
    "    print(\"This is hello!\")\n",
    "    \n",
    "    def greet_hello():\n",
    "        print(\"\\t This is greet in Hello!\")\n",
    "    \n",
    "    def welcome_hello():\n",
    "        print(\"\\t This is welcome in Hello!\")\n",
    "    print(\"End of Hello!\")"
   ]
  },
  {
   "cell_type": "code",
   "execution_count": 31,
   "metadata": {},
   "outputs": [
    {
     "name": "stdout",
     "output_type": "stream",
     "text": [
      "This is hello!\n",
      "End of Hello!\n"
     ]
    }
   ],
   "source": [
    "hello() #If without calling the greet & welcome inside outter function Hello, they will not be executed."
   ]
  },
  {
   "cell_type": "code",
   "execution_count": 33,
   "metadata": {},
   "outputs": [
    {
     "ename": "NameError",
     "evalue": "name 'greet_hello' is not defined",
     "output_type": "error",
     "traceback": [
      "\u001b[1;31m---------------------------------------------------------------------------\u001b[0m",
      "\u001b[1;31mNameError\u001b[0m                                 Traceback (most recent call last)",
      "\u001b[1;32m<ipython-input-33-1a79d9129d16>\u001b[0m in \u001b[0;36m<module>\u001b[1;34m\u001b[0m\n\u001b[1;32m----> 1\u001b[1;33m \u001b[0mgreet_hello\u001b[0m\u001b[1;33m(\u001b[0m\u001b[1;33m)\u001b[0m \u001b[1;31m#ERROR: if call an inside function without calling outter function.\u001b[0m\u001b[1;33m\u001b[0m\u001b[1;33m\u001b[0m\u001b[0m\n\u001b[0m\u001b[0;32m      2\u001b[0m \u001b[0mwelcome_hello\u001b[0m\u001b[1;33m(\u001b[0m\u001b[1;33m)\u001b[0m\u001b[1;33m\u001b[0m\u001b[1;33m\u001b[0m\u001b[0m\n",
      "\u001b[1;31mNameError\u001b[0m: name 'greet_hello' is not defined"
     ]
    }
   ],
   "source": [
    "greet_hello() #ERROR: if call an inside function without calling outter function.\n",
    "welcome_hello()"
   ]
  },
  {
   "cell_type": "code",
   "execution_count": 34,
   "metadata": {},
   "outputs": [],
   "source": [
    "# 5. Assign/return function within an outer function;\n",
    "def hello(name=\"Jose\"):\n",
    "    print(\"This is hello!\")\n",
    "    \n",
    "    def greet_hello():\n",
    "        print(\"\\t This is greet in Hello!\")\n",
    "    \n",
    "    def welcome_hello():\n",
    "        print(\"\\t This is welcome in Hello!\")\n",
    "        \n",
    "    if name == \"Jose\":\n",
    "        return greet_hello\n",
    "    else:\n",
    "        return welcome_hello\n",
    "    \n",
    "    print(\"End of Hello.\")"
   ]
  },
  {
   "cell_type": "code",
   "execution_count": 36,
   "metadata": {},
   "outputs": [
    {
     "name": "stdout",
     "output_type": "stream",
     "text": [
      "This is hello!\n",
      "<function hello.<locals>.greet_hello at 0x000001C15376F8C8>\n",
      "\t This is greet in Hello!\n",
      "None\n"
     ]
    }
   ],
   "source": [
    "newfunc = hello(\"Jose\") #This is hello!\n",
    "print(newfunc) # function hello.<locals>.greet_hello at 0x000001C15376F8C8\n",
    "print(newfunc()) #This is greet in Hello!"
   ]
  },
  {
   "cell_type": "code",
   "execution_count": 37,
   "metadata": {},
   "outputs": [],
   "source": [
    "# 5-2. Assign/return function within an outer function;\n",
    "def cool():\n",
    "    def super_cool():\n",
    "        print(\"This is super_cool!\")\n",
    "    return super_cool"
   ]
  },
  {
   "cell_type": "code",
   "execution_count": 38,
   "metadata": {},
   "outputs": [
    {
     "name": "stdout",
     "output_type": "stream",
     "text": [
      "<function cool.<locals>.super_cool at 0x000001C15376F598>\n",
      "This is super_cool!\n",
      "None\n"
     ]
    }
   ],
   "source": [
    "myfunc=cool()\n",
    "print(myfunc) #<function cool.<locals>.super_cool at 0x000001C15376F598>\n",
    "print(myfunc()) #This is super_cool!"
   ]
  },
  {
   "cell_type": "code",
   "execution_count": 43,
   "metadata": {},
   "outputs": [],
   "source": [
    "# 5-3. Assign/return function within an outer function;\n",
    "def hello():\n",
    "    print(\"Hello!\")\n",
    "    \n",
    "def otherfunc(somefuns):\n",
    "    print(\"this is otherfunc.\")\n",
    "    print(somefuns())"
   ]
  },
  {
   "cell_type": "code",
   "execution_count": 46,
   "metadata": {},
   "outputs": [
    {
     "name": "stdout",
     "output_type": "stream",
     "text": [
      "this is otherfunc.\n",
      "Hello!\n",
      "None\n"
     ]
    }
   ],
   "source": [
    "otherfunc(hello)"
   ]
  },
  {
   "cell_type": "code",
   "execution_count": 54,
   "metadata": {},
   "outputs": [],
   "source": [
    "# 5-4. Assign/return function within an outer function;\n",
    "def hello():\n",
    "    print(\"Hello!\")\n",
    "    \n",
    "def otherfunc(somefuns):\n",
    "    print(\"this is otherfunc.\")\n",
    "    return (somefuns())"
   ]
  },
  {
   "cell_type": "code",
   "execution_count": 55,
   "metadata": {
    "scrolled": true
   },
   "outputs": [
    {
     "name": "stdout",
     "output_type": "stream",
     "text": [
      "this is otherfunc.\n",
      "Hello!\n"
     ]
    }
   ],
   "source": [
    "otherfunc(hello)"
   ]
  },
  {
   "cell_type": "code",
   "execution_count": 62,
   "metadata": {},
   "outputs": [],
   "source": [
    "# 6. DECORATOR-typical concepts;\n",
    "def decorator(original_func):\n",
    "    \n",
    "    def wrap_dec():\n",
    "        print(\"Before decorated...\")\n",
    "        original_func()\n",
    "        print(\"After decorated!\")\n",
    "    return wrap_dec\n",
    "\n",
    "def hello_needs_decorate():\n",
    "    print(\"hello_needs_decorate!\")"
   ]
  },
  {
   "cell_type": "code",
   "execution_count": 66,
   "metadata": {
    "scrolled": true
   },
   "outputs": [
    {
     "data": {
      "text/plain": [
       "<function __main__.decorator.<locals>.wrap_dec()>"
      ]
     },
     "execution_count": 66,
     "metadata": {},
     "output_type": "execute_result"
    }
   ],
   "source": [
    "decoratedFunc=decorator(hello_needs_decorate)\n",
    "decoratedFunc"
   ]
  },
  {
   "cell_type": "code",
   "execution_count": 67,
   "metadata": {},
   "outputs": [
    {
     "name": "stdout",
     "output_type": "stream",
     "text": [
      "Before decorated...\n",
      "hello_needs_decorate!\n",
      "After decorated!\n"
     ]
    }
   ],
   "source": [
    "decoratedFunc()"
   ]
  },
  {
   "cell_type": "code",
   "execution_count": 68,
   "metadata": {},
   "outputs": [],
   "source": [
    "# 6. DECORATOR-@: \n",
    "@decorator #USE @ to mark the original function needs to be decorated.\n",
    "def hello_needs_decorate():\n",
    "    print(\"hello_needs_decorate!\")"
   ]
  },
  {
   "cell_type": "code",
   "execution_count": 69,
   "metadata": {},
   "outputs": [
    {
     "name": "stdout",
     "output_type": "stream",
     "text": [
      "Before decorated...\n",
      "hello_needs_decorate!\n",
      "After decorated!\n"
     ]
    }
   ],
   "source": [
    "hello_needs_decorate()"
   ]
  },
  {
   "cell_type": "markdown",
   "metadata": {},
   "source": [
    "### 22. Generator:\n",
    "#### 1. Warm up:\n",
    "#### 2. Iterator-Easy:\n",
    "#### 3. Generator-yield & convert to list;\n",
    "#### 4. Fibonacci by yield;\n",
    "#### 5. Fibonacci by list;\n",
    "#### 6. next()\n",
    "#### 7. iter()"
   ]
  },
  {
   "cell_type": "code",
   "execution_count": 71,
   "metadata": {},
   "outputs": [],
   "source": [
    "# 1. Warm up:\n",
    "def create_cubes(value):\n",
    "    result=[]\n",
    "    for i in range(value):\n",
    "        result.append(i**3)\n",
    "    return result"
   ]
  },
  {
   "cell_type": "code",
   "execution_count": 72,
   "metadata": {},
   "outputs": [
    {
     "data": {
      "text/plain": [
       "[0, 1, 8, 27, 64, 125, 216, 343, 512, 729]"
      ]
     },
     "execution_count": 72,
     "metadata": {},
     "output_type": "execute_result"
    }
   ],
   "source": [
    "create_cubes(10)"
   ]
  },
  {
   "cell_type": "code",
   "execution_count": 73,
   "metadata": {},
   "outputs": [
    {
     "name": "stdout",
     "output_type": "stream",
     "text": [
      "0\n",
      "1\n",
      "8\n",
      "27\n",
      "64\n",
      "125\n",
      "216\n",
      "343\n",
      "512\n",
      "729\n"
     ]
    }
   ],
   "source": [
    "for i in create_cubes(10):\n",
    "    print(i)"
   ]
  },
  {
   "cell_type": "code",
   "execution_count": 76,
   "metadata": {},
   "outputs": [
    {
     "name": "stdout",
     "output_type": "stream",
     "text": [
      "<class 'generator'>\n",
      "0\n",
      "2\n",
      "4\n",
      "6\n",
      "8\n"
     ]
    }
   ],
   "source": [
    "# 2. Iterator-Easy:\n",
    "'''It is just the same except you used () instead of []. \n",
    "BUT, you can not perform for i in mygenerator a second time since generators can only be used once: \n",
    "they calculate 0, then forget about it and calculate 1, and end calculating 4, one by one.'''\n",
    "\n",
    "generator=(x*2 for x in range(5))\n",
    "print(type(generator))\n",
    "\n",
    "for i in generator:\n",
    "    print(i)\n",
    "    "
   ]
  },
  {
   "cell_type": "code",
   "execution_count": 78,
   "metadata": {},
   "outputs": [],
   "source": [
    "# 3. Generator-yield & convert to list;\n",
    "# yield():yield is a keyword that is used like return, except the function will return a generator.\n",
    "# yield(): the yield statement is used to define generators,\n",
    "# replacing the return of a function to provide a result to its caller without destroying local variables.\n",
    "# yield only used with generators.\n",
    "def create_cubes(value):\n",
    "    for i in range(value):\n",
    "        yield i**3"
   ]
  },
  {
   "cell_type": "code",
   "execution_count": 79,
   "metadata": {},
   "outputs": [
    {
     "data": {
      "text/plain": [
       "<generator object create_cubes at 0x000001C1530B2390>"
      ]
     },
     "execution_count": 79,
     "metadata": {},
     "output_type": "execute_result"
    }
   ],
   "source": [
    "create_cubes(10)"
   ]
  },
  {
   "cell_type": "code",
   "execution_count": 80,
   "metadata": {},
   "outputs": [
    {
     "name": "stdout",
     "output_type": "stream",
     "text": [
      "<generator object create_cubes at 0x000001C1534DD0C0>\n"
     ]
    }
   ],
   "source": [
    "print(create_cubes(10))"
   ]
  },
  {
   "cell_type": "code",
   "execution_count": 82,
   "metadata": {},
   "outputs": [
    {
     "data": {
      "text/plain": [
       "[0, 1, 8, 27, 64, 125, 216, 343, 512, 729]"
      ]
     },
     "execution_count": 82,
     "metadata": {},
     "output_type": "execute_result"
    }
   ],
   "source": [
    "list(create_cubes(10)) #If need to generate a list based on generator, MUST have a list() to convert."
   ]
  },
  {
   "cell_type": "code",
   "execution_count": 122,
   "metadata": {},
   "outputs": [
    {
     "name": "stdout",
     "output_type": "stream",
     "text": [
      "[0, 2, 4, 6, 8]\n",
      "<class 'list'>\n",
      "5\n"
     ]
    }
   ],
   "source": [
    "# 3.1 Compare generator & list:\n",
    "# List\n",
    "lis=[x+x for x in range(5)]\n",
    "print(lis)\n",
    "\n",
    "print(type(lis))\n",
    "print(len(lis))"
   ]
  },
  {
   "cell_type": "code",
   "execution_count": 125,
   "metadata": {},
   "outputs": [
    {
     "name": "stdout",
     "output_type": "stream",
     "text": [
      "<generator object <genexpr> at 0x000001C1534DD4F8>\n",
      "<class 'generator'>\n",
      "0\n",
      "2\n",
      "4\n",
      "6\n",
      "8\n"
     ]
    },
    {
     "ename": "StopIteration",
     "evalue": "",
     "output_type": "error",
     "traceback": [
      "\u001b[1;31m---------------------------------------------------------------------------\u001b[0m",
      "\u001b[1;31mStopIteration\u001b[0m                             Traceback (most recent call last)",
      "\u001b[1;32m<ipython-input-125-a07c1356aed9>\u001b[0m in \u001b[0;36m<module>\u001b[1;34m\u001b[0m\n\u001b[0;32m     10\u001b[0m \u001b[0mprint\u001b[0m\u001b[1;33m(\u001b[0m\u001b[0mnext\u001b[0m\u001b[1;33m(\u001b[0m\u001b[0mgen\u001b[0m\u001b[1;33m)\u001b[0m\u001b[1;33m)\u001b[0m\u001b[1;33m\u001b[0m\u001b[1;33m\u001b[0m\u001b[0m\n\u001b[0;32m     11\u001b[0m \u001b[0mprint\u001b[0m\u001b[1;33m(\u001b[0m\u001b[0mnext\u001b[0m\u001b[1;33m(\u001b[0m\u001b[0mgen\u001b[0m\u001b[1;33m)\u001b[0m\u001b[1;33m)\u001b[0m\u001b[1;33m\u001b[0m\u001b[1;33m\u001b[0m\u001b[0m\n\u001b[1;32m---> 12\u001b[1;33m \u001b[0mprint\u001b[0m\u001b[1;33m(\u001b[0m\u001b[0mnext\u001b[0m\u001b[1;33m(\u001b[0m\u001b[0mgen\u001b[0m\u001b[1;33m)\u001b[0m\u001b[1;33m)\u001b[0m\u001b[1;33m\u001b[0m\u001b[1;33m\u001b[0m\u001b[0m\n\u001b[0m\u001b[0;32m     13\u001b[0m \u001b[1;33m\u001b[0m\u001b[0m\n\u001b[0;32m     14\u001b[0m \u001b[0mprint\u001b[0m\u001b[1;33m(\u001b[0m\u001b[0mlen\u001b[0m\u001b[1;33m(\u001b[0m\u001b[0mgen\u001b[0m\u001b[1;33m)\u001b[0m\u001b[1;33m)\u001b[0m \u001b[1;31m# ERROR: object of type 'generator' has no len()\u001b[0m\u001b[1;33m\u001b[0m\u001b[1;33m\u001b[0m\u001b[0m\n",
      "\u001b[1;31mStopIteration\u001b[0m: "
     ]
    }
   ],
   "source": [
    "# Generator:\n",
    "gen=(x+x for x in range(5)) #Define a generator:\n",
    "\n",
    "print(gen)\n",
    "\n",
    "print(type(gen)) #class 'generator'\n",
    "\n",
    "print(next(gen)) #0\n",
    "print(next(gen)) #2\n",
    "print(next(gen)) #4\n",
    "print(next(gen)) #6\n",
    "print(next(gen)) #8\n",
    "print(next(gen)) #STOP here: StopIteration! \n",
    "\n",
    "print(len(gen)) # ERROR: object of type 'generator' has no len():\n",
    "#generator is iterable, it is not a collection, and thus has no length.\n",
    "\n",
    "'''Collections (lists, tuples, sets, etc) keep all values in memory and we can access them whenever needed. \n",
    "A generator calculates the values on the fly and forgets them, \n",
    "so it does not have any overview about the own result set.'''"
   ]
  },
  {
   "cell_type": "code",
   "execution_count": 87,
   "metadata": {},
   "outputs": [],
   "source": [
    "# 4. Fibonacci by yield:\n",
    "def gen_fibon(value):\n",
    "    a = 1\n",
    "    b = 1\n",
    "    for i in range(value):\n",
    "        yield a\n",
    "        print(f\"Step1: a:{a},b:{b}\")\n",
    "        a, b = b, a+b # a1=b0, b1=a0+b0\n",
    "        print(f\"Step2: a:{a},b:{b}\")"
   ]
  },
  {
   "cell_type": "code",
   "execution_count": 88,
   "metadata": {},
   "outputs": [
    {
     "name": "stdout",
     "output_type": "stream",
     "text": [
      "1\n",
      "Step1: a:1,b:1\n",
      "Step2: a:1,b:2\n",
      "1\n",
      "Step1: a:1,b:2\n",
      "Step2: a:2,b:3\n",
      "2\n",
      "Step1: a:2,b:3\n",
      "Step2: a:3,b:5\n",
      "3\n",
      "Step1: a:3,b:5\n",
      "Step2: a:5,b:8\n",
      "5\n",
      "Step1: a:5,b:8\n",
      "Step2: a:8,b:13\n",
      "8\n",
      "Step1: a:8,b:13\n",
      "Step2: a:13,b:21\n",
      "13\n",
      "Step1: a:13,b:21\n",
      "Step2: a:21,b:34\n",
      "21\n",
      "Step1: a:21,b:34\n",
      "Step2: a:34,b:55\n",
      "34\n",
      "Step1: a:34,b:55\n",
      "Step2: a:55,b:89\n",
      "55\n",
      "Step1: a:55,b:89\n",
      "Step2: a:89,b:144\n"
     ]
    }
   ],
   "source": [
    "for i in gen_fibon(10):\n",
    "    print(i)"
   ]
  },
  {
   "cell_type": "code",
   "execution_count": 94,
   "metadata": {},
   "outputs": [],
   "source": [
    "# 5. Fibonacci by list;\n",
    "def gen_fibon(value):\n",
    "    a = 1\n",
    "    b = 1\n",
    "    result=[]\n",
    "    \n",
    "    for i in range(value):\n",
    "        result.append(a)\n",
    "        \n",
    "        print(f\"Step1: a:{a},b:{b}\")\n",
    "        a, b = b, a+b # a1=b0, b1=a0+b0\n",
    "        print(f\"Step2: a:{a},b:{b}\")\n",
    "    return result"
   ]
  },
  {
   "cell_type": "code",
   "execution_count": 98,
   "metadata": {},
   "outputs": [
    {
     "name": "stdout",
     "output_type": "stream",
     "text": [
      "Step1: a:1,b:1\n",
      "Step2: a:1,b:2\n",
      "Step1: a:1,b:2\n",
      "Step2: a:2,b:3\n",
      "Step1: a:2,b:3\n",
      "Step2: a:3,b:5\n",
      "Step1: a:3,b:5\n",
      "Step2: a:5,b:8\n",
      "Step1: a:5,b:8\n",
      "Step2: a:8,b:13\n",
      "Step1: a:8,b:13\n",
      "Step2: a:13,b:21\n",
      "Step1: a:13,b:21\n",
      "Step2: a:21,b:34\n",
      "Step1: a:21,b:34\n",
      "Step2: a:34,b:55\n",
      "Step1: a:34,b:55\n",
      "Step2: a:55,b:89\n",
      "Step1: a:55,b:89\n",
      "Step2: a:89,b:144\n",
      "[1, 1, 2, 3, 5, 8, 13, 21, 34, 55]\n"
     ]
    }
   ],
   "source": [
    "result = gen_fibon(10) #gen_fibon（）返回的是一个生成器对象，此时函数体中的代码并不会执行，只有显示或隐示地调用next的时候才会真正执行里面的代码。\n",
    "print(result)"
   ]
  },
  {
   "cell_type": "code",
   "execution_count": 99,
   "metadata": {},
   "outputs": [
    {
     "name": "stdout",
     "output_type": "stream",
     "text": [
      "Step1: a:1,b:1\n",
      "Step2: a:1,b:2\n",
      "Step1: a:1,b:2\n",
      "Step2: a:2,b:3\n",
      "Step1: a:2,b:3\n",
      "Step2: a:3,b:5\n",
      "Step1: a:3,b:5\n",
      "Step2: a:5,b:8\n",
      "Step1: a:5,b:8\n",
      "Step2: a:8,b:13\n",
      "Step1: a:8,b:13\n",
      "Step2: a:13,b:21\n",
      "Step1: a:13,b:21\n",
      "Step2: a:21,b:34\n",
      "Step1: a:21,b:34\n",
      "Step2: a:34,b:55\n",
      "Step1: a:34,b:55\n",
      "Step2: a:55,b:89\n",
      "Step1: a:55,b:89\n",
      "Step2: a:89,b:144\n",
      "1\n",
      "1\n",
      "2\n",
      "3\n",
      "5\n",
      "8\n",
      "13\n",
      "21\n",
      "34\n",
      "55\n"
     ]
    }
   ],
   "source": [
    "for i in gen_fibon(10):\n",
    "    print(i) #Store everything in the list."
   ]
  },
  {
   "cell_type": "code",
   "execution_count": 110,
   "metadata": {},
   "outputs": [],
   "source": [
    "# 6. next()-The next() returns the next item from the iterator. \n",
    "# The next() function allows us to access the next element in a sequence.\n",
    "def gen(value):\n",
    "    for i in range(value):\n",
    "        yield i"
   ]
  },
  {
   "cell_type": "code",
   "execution_count": 111,
   "metadata": {},
   "outputs": [
    {
     "name": "stdout",
     "output_type": "stream",
     "text": [
      "<generator object gen at 0x000001C1534DD318>\n"
     ]
    }
   ],
   "source": [
    "print(gen(3))"
   ]
  },
  {
   "cell_type": "code",
   "execution_count": 112,
   "metadata": {},
   "outputs": [
    {
     "name": "stdout",
     "output_type": "stream",
     "text": [
      "0\n",
      "1\n",
      "2\n"
     ]
    }
   ],
   "source": [
    "for num in gen(3):\n",
    "    print(num)"
   ]
  },
  {
   "cell_type": "code",
   "execution_count": 114,
   "metadata": {},
   "outputs": [
    {
     "name": "stdout",
     "output_type": "stream",
     "text": [
      "0\n"
     ]
    }
   ],
   "source": [
    "print(next(gen(3)))"
   ]
  },
  {
   "cell_type": "code",
   "execution_count": 115,
   "metadata": {},
   "outputs": [
    {
     "name": "stdout",
     "output_type": "stream",
     "text": [
      "0\n"
     ]
    }
   ],
   "source": [
    "print(next(gen(10)))"
   ]
  },
  {
   "cell_type": "code",
   "execution_count": 116,
   "metadata": {},
   "outputs": [
    {
     "name": "stdout",
     "output_type": "stream",
     "text": [
      "0\n"
     ]
    }
   ],
   "source": [
    "print(next(gen(10)))"
   ]
  },
  {
   "cell_type": "code",
   "execution_count": 117,
   "metadata": {},
   "outputs": [],
   "source": [
    "g=gen(3) #"
   ]
  },
  {
   "cell_type": "code",
   "execution_count": 118,
   "metadata": {},
   "outputs": [
    {
     "name": "stdout",
     "output_type": "stream",
     "text": [
      "0\n"
     ]
    }
   ],
   "source": [
    "print(next(g))"
   ]
  },
  {
   "cell_type": "code",
   "execution_count": 119,
   "metadata": {},
   "outputs": [
    {
     "name": "stdout",
     "output_type": "stream",
     "text": [
      "1\n"
     ]
    }
   ],
   "source": [
    "print(next(g))"
   ]
  },
  {
   "cell_type": "code",
   "execution_count": 120,
   "metadata": {},
   "outputs": [
    {
     "name": "stdout",
     "output_type": "stream",
     "text": [
      "2\n"
     ]
    }
   ],
   "source": [
    "print(next(g))"
   ]
  },
  {
   "cell_type": "code",
   "execution_count": 121,
   "metadata": {},
   "outputs": [
    {
     "ename": "StopIteration",
     "evalue": "",
     "output_type": "error",
     "traceback": [
      "\u001b[1;31m---------------------------------------------------------------------------\u001b[0m",
      "\u001b[1;31mStopIteration\u001b[0m                             Traceback (most recent call last)",
      "\u001b[1;32m<ipython-input-121-1dfb29d6357e>\u001b[0m in \u001b[0;36m<module>\u001b[1;34m\u001b[0m\n\u001b[1;32m----> 1\u001b[1;33m \u001b[0mprint\u001b[0m\u001b[1;33m(\u001b[0m\u001b[0mnext\u001b[0m\u001b[1;33m(\u001b[0m\u001b[0mg\u001b[0m\u001b[1;33m)\u001b[0m\u001b[1;33m)\u001b[0m\u001b[1;33m\u001b[0m\u001b[1;33m\u001b[0m\u001b[0m\n\u001b[0m",
      "\u001b[1;31mStopIteration\u001b[0m: "
     ]
    }
   ],
   "source": [
    "print(next(g)) # out of iterator.\n",
    "''' why don’t we get this error while using a for loop?\n",
    "A for loop automatically catches this error and stops calling next().'''"
   ]
  },
  {
   "cell_type": "code",
   "execution_count": 302,
   "metadata": {},
   "outputs": [
    {
     "name": "stdout",
     "output_type": "stream",
     "text": [
      "['h', 'e', 'l', 'l', 'o']\n"
     ]
    }
   ],
   "source": [
    "# 7. iter():\n",
    "str_test = 'hello'\n",
    "print(list(str_test))"
   ]
  },
  {
   "cell_type": "code",
   "execution_count": 303,
   "metadata": {},
   "outputs": [
    {
     "name": "stdout",
     "output_type": "stream",
     "text": [
      "h\n",
      "e\n",
      "l\n",
      "l\n",
      "o\n"
     ]
    }
   ],
   "source": [
    "for letter in str_test:\n",
    "    print(letter)"
   ]
  },
  {
   "cell_type": "code",
   "execution_count": 134,
   "metadata": {},
   "outputs": [
    {
     "name": "stdout",
     "output_type": "stream",
     "text": [
      "<str_iterator object at 0x000001C1534DAE48>\n"
     ]
    }
   ],
   "source": [
    "# USE iter():\n",
    "str_iter = iter(str_test)\n",
    "print(str_iter)"
   ]
  },
  {
   "cell_type": "code",
   "execution_count": 137,
   "metadata": {},
   "outputs": [
    {
     "data": {
      "text/plain": [
       "'h'"
      ]
     },
     "execution_count": 137,
     "metadata": {},
     "output_type": "execute_result"
    }
   ],
   "source": [
    "next(str_iter)"
   ]
  },
  {
   "cell_type": "code",
   "execution_count": 138,
   "metadata": {},
   "outputs": [
    {
     "data": {
      "text/plain": [
       "'e'"
      ]
     },
     "execution_count": 138,
     "metadata": {},
     "output_type": "execute_result"
    }
   ],
   "source": [
    "next(str_iter)"
   ]
  },
  {
   "cell_type": "code",
   "execution_count": 139,
   "metadata": {},
   "outputs": [
    {
     "data": {
      "text/plain": [
       "'l'"
      ]
     },
     "execution_count": 139,
     "metadata": {},
     "output_type": "execute_result"
    }
   ],
   "source": [
    "next(str_iter)"
   ]
  },
  {
   "cell_type": "code",
   "execution_count": 140,
   "metadata": {},
   "outputs": [
    {
     "name": "stdout",
     "output_type": "stream",
     "text": [
      "apple\n",
      "peach\n",
      "orange\n",
      "mango\n"
     ]
    }
   ],
   "source": [
    "# 7.1. iter()-Another case:\n",
    "fruit_li=['apple','peach','orange','mango']\n",
    "\n",
    "for item in fruit_li:\n",
    "    print(item)"
   ]
  },
  {
   "cell_type": "code",
   "execution_count": 141,
   "metadata": {},
   "outputs": [
    {
     "name": "stdout",
     "output_type": "stream",
     "text": [
      "apple\n",
      "peach\n",
      "orange\n",
      "mango\n"
     ]
    }
   ],
   "source": [
    "fruit_li=iter(['apple','peach','orange','mango'])\n",
    "\n",
    "print(next(fruit_li))\n",
    "print(next(fruit_li))\n",
    "print(next(fruit_li))\n",
    "print(next(fruit_li))"
   ]
  },
  {
   "cell_type": "code",
   "execution_count": 142,
   "metadata": {
    "scrolled": false
   },
   "outputs": [
    {
     "ename": "StopIteration",
     "evalue": "",
     "output_type": "error",
     "traceback": [
      "\u001b[1;31m---------------------------------------------------------------------------\u001b[0m",
      "\u001b[1;31mStopIteration\u001b[0m                             Traceback (most recent call last)",
      "\u001b[1;32m<ipython-input-142-eaca0ae15c94>\u001b[0m in \u001b[0;36m<module>\u001b[1;34m\u001b[0m\n\u001b[1;32m----> 1\u001b[1;33m \u001b[0mprint\u001b[0m\u001b[1;33m(\u001b[0m\u001b[0mnext\u001b[0m\u001b[1;33m(\u001b[0m\u001b[0mfruit_li\u001b[0m\u001b[1;33m)\u001b[0m\u001b[1;33m)\u001b[0m\u001b[1;33m\u001b[0m\u001b[1;33m\u001b[0m\u001b[0m\n\u001b[0m",
      "\u001b[1;31mStopIteration\u001b[0m: "
     ]
    }
   ],
   "source": [
    "print(next(fruit_li))"
   ]
  },
  {
   "cell_type": "code",
   "execution_count": 154,
   "metadata": {},
   "outputs": [
    {
     "name": "stdout",
     "output_type": "stream",
     "text": [
      "<generator object test_yield_in_iter at 0x000001C1534DD570>\n",
      "['apple', 'peach', 'orange', 'mango']\n"
     ]
    }
   ],
   "source": [
    "#iterator: could be printed by yield & converted to list as well.\n",
    "fruit_li=iter(['apple','peach','orange','mango'])\n",
    "\n",
    "def test_yield_in_iter(iterLis):\n",
    "    for item in iterLis:\n",
    "        yield item\n",
    "    \n",
    "res_test_yield_in_iter = test_yield_in_iter(fruit_li)\n",
    "\n",
    "print(res_test_yield_in_iter) #<generator object test_yield_in_iter at 0x000001C1534DD570>\n",
    "print(list(res_test_yield_in_iter)) #['apple', 'peach', 'orange', 'mango']\n"
   ]
  },
  {
   "cell_type": "code",
   "execution_count": null,
   "metadata": {},
   "outputs": [],
   "source": [
    "'''Iterator & Generator:\n",
    "1. Generators simplifies creation of iterators. \n",
    "A generator is a function that produces a sequence of results instead of a single value.\n",
    "2. generator is also an iterator.\n",
    "3. Generator Expressions are generator version of list comprehensions. \n",
    "They look like list comprehensions, but returns a generator back instead of a list: a = (x*x for x in range(10))\n",
    "4. Iterators are objects that have an __iter__() and a __next__() (next in Python 2) method. \n",
    "Generators provide an easy, built-in way to create instances of Iterators:\n",
    "yield in it is still a function, that, when called, returns an instance of a generator object.\n",
    "5. So a generator function is the easiest way to create an Iterator object.\n",
    "6. Generator可以用更少地中间变量写流式代码，此外，相比其它容器对象它更能节省内存和CPU\n",
    "（迭代海量数据时，显然生成器更合适。）\n",
    "'''"
   ]
  },
  {
   "cell_type": "code",
   "execution_count": 145,
   "metadata": {},
   "outputs": [
    {
     "name": "stdout",
     "output_type": "stream",
     "text": [
      "apple\n",
      "peach\n",
      "orange\n",
      "mango\n",
      "<class 'generator'>\n"
     ]
    }
   ],
   "source": [
    "# *Testing generator in 2 ways: \n",
    "# Generator objects can be used in a  for loop or with the built-in function next() which returns the next value from generator.\n",
    "\n",
    "# I. yield in loop:\n",
    "fruit_li= ['apple','peach','orange','mango']\n",
    "\n",
    "def gen_fruit(fruit):\n",
    "    for item in fruit:\n",
    "        yield item\n",
    "\n",
    "for fruit in gen_fruit(fruit_li):\n",
    "    print(fruit)\n",
    "\n",
    "print(type(gen_fruit(fruit_li))) #<class 'generator'>"
   ]
  },
  {
   "cell_type": "code",
   "execution_count": 146,
   "metadata": {
    "scrolled": true
   },
   "outputs": [
    {
     "name": "stdout",
     "output_type": "stream",
     "text": [
      "apple\n",
      "peach\n",
      "orange\n",
      "mango\n"
     ]
    },
    {
     "ename": "StopIteration",
     "evalue": "",
     "output_type": "error",
     "traceback": [
      "\u001b[1;31m---------------------------------------------------------------------------\u001b[0m",
      "\u001b[1;31mStopIteration\u001b[0m                             Traceback (most recent call last)",
      "\u001b[1;32m<ipython-input-146-e58614009291>\u001b[0m in \u001b[0;36m<module>\u001b[1;34m\u001b[0m\n\u001b[0;32m      5\u001b[0m \u001b[0mprint\u001b[0m\u001b[1;33m(\u001b[0m\u001b[0mnext\u001b[0m\u001b[1;33m(\u001b[0m\u001b[0mgenerator_fruits\u001b[0m\u001b[1;33m)\u001b[0m\u001b[1;33m)\u001b[0m\u001b[1;33m\u001b[0m\u001b[1;33m\u001b[0m\u001b[0m\n\u001b[0;32m      6\u001b[0m \u001b[0mprint\u001b[0m\u001b[1;33m(\u001b[0m\u001b[0mnext\u001b[0m\u001b[1;33m(\u001b[0m\u001b[0mgenerator_fruits\u001b[0m\u001b[1;33m)\u001b[0m\u001b[1;33m)\u001b[0m\u001b[1;33m\u001b[0m\u001b[1;33m\u001b[0m\u001b[0m\n\u001b[1;32m----> 7\u001b[1;33m \u001b[0mprint\u001b[0m\u001b[1;33m(\u001b[0m\u001b[0mnext\u001b[0m\u001b[1;33m(\u001b[0m\u001b[0mgenerator_fruits\u001b[0m\u001b[1;33m)\u001b[0m\u001b[1;33m)\u001b[0m\u001b[1;33m\u001b[0m\u001b[1;33m\u001b[0m\u001b[0m\n\u001b[0m",
      "\u001b[1;31mStopIteration\u001b[0m: "
     ]
    }
   ],
   "source": [
    "# II. next()\n",
    "\n",
    "generator_fruits = gen_fruit(fruit_li)\n",
    "\n",
    "print(next(generator_fruits))\n",
    "print(next(generator_fruits))\n",
    "print(next(generator_fruits))\n",
    "print(next(generator_fruits))\n",
    "print(next(generator_fruits))"
   ]
  },
  {
   "cell_type": "markdown",
   "metadata": {},
   "source": [
    "### *** Project Page: https://github.com/jmportilla/Complete-Python-Bootcamp/blob/master/Final%20Capstone%20Projects/Projects-Solutions/Solution%20Links.md"
   ]
  },
  {
   "cell_type": "markdown",
   "metadata": {},
   "source": [
    "### 23. Collection Module:\n",
    "##### (Collection: Python’s general purpose built-in containers, dict, list, set, and tuple.)\n",
    "#### 1. Counter\n",
    "#### 2. DefaultDict:\n",
    "**A defaultdict will never raise a KeyError. Any key that does not exist gets the value returned by the default factory.**\n",
    "#### 3. OrderDict: \n",
    "**An OrderedDict is a dictionary subclass that remembers the order in which its contents are added.**\n"
   ]
  },
  {
   "cell_type": "code",
   "execution_count": 162,
   "metadata": {},
   "outputs": [],
   "source": [
    "# 1. Counter:\n",
    "# It is an unordered collection where elements are stored as dictionary keys and their counts are stored as dictionary values. \n",
    "from collections import Counter\n",
    "\n",
    "list_num=['apple','mango','apple','orange','mango','orange','peach','apple','apple','peach']\n",
    "counter_dic=Counter(list_num)"
   ]
  },
  {
   "cell_type": "code",
   "execution_count": 161,
   "metadata": {},
   "outputs": [
    {
     "name": "stdout",
     "output_type": "stream",
     "text": [
      "Counter({'apple': 4, 'mango': 2, 'orange': 2, 'peach': 2})\n",
      "The apple counts:4\n"
     ]
    }
   ],
   "source": [
    "print(counter_dic)\n",
    "print(f\"The apple counts:{counter_dic['apple']}\")"
   ]
  },
  {
   "cell_type": "code",
   "execution_count": 163,
   "metadata": {},
   "outputs": [
    {
     "data": {
      "text/plain": [
       "Counter({'f': 5,\n",
       "         'l': 2,\n",
       "         'a': 6,\n",
       "         's': 3,\n",
       "         'j': 3,\n",
       "         'p': 1,\n",
       "         'd': 2,\n",
       "         'o': 1,\n",
       "         'e': 2,\n",
       "         'w': 2,\n",
       "         'i': 1,\n",
       "         'n': 1,\n",
       "         'h': 1})"
      ]
     },
     "execution_count": 163,
     "metadata": {},
     "output_type": "execute_result"
    }
   ],
   "source": [
    "# 1-1. Counter-Count letter in string:\n",
    "strTest=\"flasjfpasdafojewijaewnfdahslfa\"\n",
    "Counter(strTest)"
   ]
  },
  {
   "cell_type": "code",
   "execution_count": 304,
   "metadata": {},
   "outputs": [
    {
     "name": "stdout",
     "output_type": "stream",
     "text": [
      "Counter({'each': 3, 'word': 3, 'times': 2, 'How': 1, 'many': 1, 'does': 1, 'show': 1, 'up': 1, 'in': 1, 'this': 1, 'sentence': 1})\n"
     ]
    },
    {
     "data": {
      "text/plain": [
       "collections.Counter"
      ]
     },
     "execution_count": 304,
     "metadata": {},
     "output_type": "execute_result"
    }
   ],
   "source": [
    "# 1-2. Counter-Count word in sentence:\n",
    "strTest=\"How many times does each word show up in this sentence word times each each word\"\n",
    "strTest=strTest.split(\" \")\n",
    "\n",
    "print(Counter(strTest))\n",
    "type(Counter(strTest)) #collections.Counter"
   ]
  },
  {
   "cell_type": "code",
   "execution_count": 305,
   "metadata": {},
   "outputs": [
    {
     "data": {
      "text/plain": [
       "[('each', 3), ('word', 3), ('times', 2)]"
      ]
     },
     "execution_count": 305,
     "metadata": {},
     "output_type": "execute_result"
    }
   ],
   "source": [
    "c = Counter(strTest)\n",
    "c.most_common(3) #Get the top3 common words."
   ]
  },
  {
   "cell_type": "markdown",
   "metadata": {},
   "source": [
    "    sum(c.values())                 # total of all counts\n",
    "    c.clear()                       # reset all counts\n",
    "    list(c)                         # list unique elements\n",
    "    set(c)                          # convert to a set\n",
    "    dict(c)                         # convert to a regular dictionary\n",
    "    c.items()                       # convert to a list of (elem, cnt) pairs\n",
    "    Counter(dict(list_of_pairs))    # convert from a list of (elem, cnt) pairs\n",
    "    c.most_common()[:-n-1:-1]       # n least common elements\n",
    "    c += Counter()                  # remove zero and negative counts"
   ]
  },
  {
   "cell_type": "code",
   "execution_count": 169,
   "metadata": {},
   "outputs": [
    {
     "data": {
      "text/plain": [
       "16"
      ]
     },
     "execution_count": 169,
     "metadata": {},
     "output_type": "execute_result"
    }
   ],
   "source": [
    "sum(c.values())"
   ]
  },
  {
   "cell_type": "code",
   "execution_count": 170,
   "metadata": {},
   "outputs": [
    {
     "name": "stdout",
     "output_type": "stream",
     "text": [
      "['How', 'many', 'times', 'does', 'each', 'word', 'show', 'up', 'in', 'this', 'sentence']\n"
     ]
    }
   ],
   "source": [
    "print(list(c))"
   ]
  },
  {
   "cell_type": "code",
   "execution_count": 171,
   "metadata": {},
   "outputs": [
    {
     "name": "stdout",
     "output_type": "stream",
     "text": [
      "{'this', 'in', 'How', 'times', 'each', 'many', 'does', 'sentence', 'show', 'up', 'word'}\n"
     ]
    }
   ],
   "source": [
    "print(set(c))"
   ]
  },
  {
   "cell_type": "code",
   "execution_count": 172,
   "metadata": {},
   "outputs": [
    {
     "name": "stdout",
     "output_type": "stream",
     "text": [
      "{'How': 1, 'many': 1, 'times': 2, 'does': 1, 'each': 3, 'word': 3, 'show': 1, 'up': 1, 'in': 1, 'this': 1, 'sentence': 1}\n"
     ]
    }
   ],
   "source": [
    "print(dict(c))"
   ]
  },
  {
   "cell_type": "code",
   "execution_count": 173,
   "metadata": {},
   "outputs": [
    {
     "name": "stdout",
     "output_type": "stream",
     "text": [
      "dict_items([('How', 1), ('many', 1), ('times', 2), ('does', 1), ('each', 3), ('word', 3), ('show', 1), ('up', 1), ('in', 1), ('this', 1), ('sentence', 1)])\n"
     ]
    }
   ],
   "source": [
    "print(c.items())"
   ]
  },
  {
   "cell_type": "code",
   "execution_count": 175,
   "metadata": {},
   "outputs": [
    {
     "data": {
      "text/plain": [
       "[('sentence', 1)]"
      ]
     },
     "execution_count": 175,
     "metadata": {},
     "output_type": "execute_result"
    }
   ],
   "source": [
    "c.most_common()[:-2:-1] #The least common words top n-1:"
   ]
  },
  {
   "cell_type": "code",
   "execution_count": 176,
   "metadata": {},
   "outputs": [
    {
     "data": {
      "text/plain": [
       "[('sentence', 1), ('this', 1)]"
      ]
     },
     "execution_count": 176,
     "metadata": {},
     "output_type": "execute_result"
    }
   ],
   "source": [
    "c.most_common()[:-3:-1] #count backwards：the least 2 common ones."
   ]
  },
  {
   "cell_type": "code",
   "execution_count": 179,
   "metadata": {},
   "outputs": [
    {
     "name": "stdout",
     "output_type": "stream",
     "text": [
      "Counter({'each': 3, 'word': 3, 'times': 2, 'How': 1, 'many': 1, 'does': 1, 'show': 1, 'up': 1, 'in': 1, 'this': 1, 'sentence': 1})\n"
     ]
    }
   ],
   "source": [
    "c+=Counter()\n",
    "print(c) # remove zero and negative counts"
   ]
  },
  {
   "cell_type": "code",
   "execution_count": 181,
   "metadata": {},
   "outputs": [
    {
     "ename": "KeyError",
     "evalue": "'one'",
     "output_type": "error",
     "traceback": [
      "\u001b[1;31m---------------------------------------------------------------------------\u001b[0m",
      "\u001b[1;31mKeyError\u001b[0m                                  Traceback (most recent call last)",
      "\u001b[1;32m<ipython-input-181-c35202556b13>\u001b[0m in \u001b[0;36m<module>\u001b[1;34m\u001b[0m\n\u001b[0;32m      1\u001b[0m \u001b[1;31m# 2. DefaultDict-Original:\u001b[0m\u001b[1;33m\u001b[0m\u001b[1;33m\u001b[0m\u001b[1;33m\u001b[0m\u001b[0m\n\u001b[0;32m      2\u001b[0m \u001b[0md\u001b[0m\u001b[1;33m=\u001b[0m\u001b[1;33m{\u001b[0m\u001b[1;34m'two'\u001b[0m\u001b[1;33m:\u001b[0m\u001b[1;36m2\u001b[0m\u001b[1;33m,\u001b[0m\u001b[1;34m'three'\u001b[0m\u001b[1;33m:\u001b[0m\u001b[1;36m3\u001b[0m\u001b[1;33m,\u001b[0m\u001b[1;34m'four'\u001b[0m\u001b[1;33m:\u001b[0m\u001b[1;36m4\u001b[0m\u001b[1;33m}\u001b[0m\u001b[1;33m\u001b[0m\u001b[1;33m\u001b[0m\u001b[0m\n\u001b[1;32m----> 3\u001b[1;33m \u001b[0md\u001b[0m\u001b[1;33m[\u001b[0m\u001b[1;34m'one'\u001b[0m\u001b[1;33m]\u001b[0m\u001b[1;33m\u001b[0m\u001b[1;33m\u001b[0m\u001b[0m\n\u001b[0m",
      "\u001b[1;31mKeyError\u001b[0m: 'one'"
     ]
    }
   ],
   "source": [
    "# 2. DefaultDict-Original:\n",
    "\n",
    "d={'two':2,'three':3,'four':4}\n",
    "d['one'] #KeyError: 'one' because no this key."
   ]
  },
  {
   "cell_type": "code",
   "execution_count": 193,
   "metadata": {},
   "outputs": [
    {
     "data": {
      "text/plain": [
       "<object at 0x1c153d2fb70>"
      ]
     },
     "execution_count": 193,
     "metadata": {},
     "output_type": "execute_result"
    }
   ],
   "source": [
    "# 2-1. DefaultDict-Improved by defaultdict\n",
    "\n",
    "from collections import defaultdict\n",
    "\n",
    "d = defaultdict(object)\n",
    "\n",
    "d['one'] #Even though there is no 'one' key, but no keyerrors."
   ]
  },
  {
   "cell_type": "code",
   "execution_count": 184,
   "metadata": {},
   "outputs": [
    {
     "name": "stdout",
     "output_type": "stream",
     "text": [
      "one\n"
     ]
    }
   ],
   "source": [
    "for item in d:\n",
    "    print(item) # One is the item assigned to dict."
   ]
  },
  {
   "cell_type": "code",
   "execution_count": 187,
   "metadata": {},
   "outputs": [
    {
     "name": "stdout",
     "output_type": "stream",
     "text": [
      "<object object at 0x000001C153D2FB60>\n"
     ]
    }
   ],
   "source": [
    "print(d['one'])"
   ]
  },
  {
   "cell_type": "code",
   "execution_count": 191,
   "metadata": {},
   "outputs": [
    {
     "ename": "AttributeError",
     "evalue": "'object' object has no attribute 'values'",
     "output_type": "error",
     "traceback": [
      "\u001b[1;31m---------------------------------------------------------------------------\u001b[0m",
      "\u001b[1;31mAttributeError\u001b[0m                            Traceback (most recent call last)",
      "\u001b[1;32m<ipython-input-191-d2a15390f61f>\u001b[0m in \u001b[0;36m<module>\u001b[1;34m\u001b[0m\n\u001b[1;32m----> 1\u001b[1;33m \u001b[0mprint\u001b[0m\u001b[1;33m(\u001b[0m\u001b[0md\u001b[0m\u001b[1;33m[\u001b[0m\u001b[1;34m'one'\u001b[0m\u001b[1;33m]\u001b[0m\u001b[1;33m.\u001b[0m\u001b[0mvalues\u001b[0m\u001b[1;33m(\u001b[0m\u001b[1;33m)\u001b[0m\u001b[1;33m)\u001b[0m\u001b[1;33m\u001b[0m\u001b[1;33m\u001b[0m\u001b[0m\n\u001b[0m",
      "\u001b[1;31mAttributeError\u001b[0m: 'object' object has no attribute 'values'"
     ]
    }
   ],
   "source": [
    "print(d['one'].values())"
   ]
  },
  {
   "cell_type": "code",
   "execution_count": 188,
   "metadata": {},
   "outputs": [],
   "source": [
    "#2-2.DefaultDict-Improved by defaultdict lambda\n",
    "\n",
    "d2 = defaultdict(lambda:5)\n",
    "\n",
    "d2['one']\n",
    "d2['two'] = 2"
   ]
  },
  {
   "cell_type": "code",
   "execution_count": 186,
   "metadata": {},
   "outputs": [
    {
     "name": "stdout",
     "output_type": "stream",
     "text": [
      "dict_items([('one', 5), ('two', 2)])\n"
     ]
    }
   ],
   "source": [
    "print(d2.items())#dict_items([('one', 5), ('two', 2)]): no assigned value to d2['one'], the default value will be lambda value"
   ]
  },
  {
   "cell_type": "code",
   "execution_count": 196,
   "metadata": {},
   "outputs": [
    {
     "name": "stdout",
     "output_type": "stream",
     "text": [
      "two 5\n",
      "one 2\n",
      "three 3\n"
     ]
    }
   ],
   "source": [
    "# 2-3. OrderDict-Original:\n",
    "d = {}\n",
    "d['two'] = 5\n",
    "d['one'] =2\n",
    "d['three'] = 3\n",
    "\n",
    "for k,v in d.items():\n",
    "    print (k,v)"
   ]
  },
  {
   "cell_type": "code",
   "execution_count": 199,
   "metadata": {},
   "outputs": [
    {
     "name": "stdout",
     "output_type": "stream",
     "text": [
      "<class 'collections.OrderedDict'>\n",
      "odict_items([('three', 3), ('one', 1), ('two', 2)])\n"
     ]
    }
   ],
   "source": [
    "# 2-3. OrderDict-OrderDict:\n",
    "from collections import OrderedDict\n",
    "\n",
    "d = OrderedDict()\n",
    "d['three'] = 3\n",
    "d['one'] = 1\n",
    "d['two'] = 2\n",
    "\n",
    "print(type(d))\n",
    "print(d.items())"
   ]
  },
  {
   "cell_type": "code",
   "execution_count": 200,
   "metadata": {},
   "outputs": [
    {
     "name": "stdout",
     "output_type": "stream",
     "text": [
      "two 5\n",
      "one 2\n",
      "three 3\n",
      "three 3\n",
      "one 1\n",
      "two 2\n"
     ]
    }
   ],
   "source": [
    "#2-4. Compare items in Normal dict:\n",
    "\n",
    "#Initialize one normal dictionary:\n",
    "nd1 = {}\n",
    "nd1['two'] = 5\n",
    "nd1['one'] =2\n",
    "nd1['three'] = 3\n",
    "\n",
    "for k,v in nd1.items():\n",
    "    print (k,v)\n",
    "    \n",
    "#Initialize another normal dictionary:\n",
    "nd2 = {}\n",
    "nd2['two'] = 5\n",
    "nd2['one'] =2\n",
    "nd2['three'] = 3\n",
    "\n",
    "for k,v in d.items():\n",
    "    print (k,v)"
   ]
  },
  {
   "cell_type": "code",
   "execution_count": 201,
   "metadata": {},
   "outputs": [
    {
     "name": "stdout",
     "output_type": "stream",
     "text": [
      "True\n"
     ]
    }
   ],
   "source": [
    "#compare the 2 normal dictionaries:\n",
    "if nd1 == nd2:\n",
    "    print(True)\n",
    "else:\n",
    "    print(False)\n",
    "    '''The normal Dictionaries will be equal to the other if they hold the same key & values'''"
   ]
  },
  {
   "cell_type": "code",
   "execution_count": 203,
   "metadata": {},
   "outputs": [
    {
     "name": "stdout",
     "output_type": "stream",
     "text": [
      "three 3\n",
      "one 1\n",
      "two 2\n"
     ]
    }
   ],
   "source": [
    "#Initialize another normal dictionary:\n",
    "nd3 = {}\n",
    "nd3['three'] = 3\n",
    "nd3['one'] =2\n",
    "nd3['two'] = 5\n",
    "\n",
    "for k,v in d.items():\n",
    "    print (k,v)"
   ]
  },
  {
   "cell_type": "code",
   "execution_count": 204,
   "metadata": {},
   "outputs": [
    {
     "name": "stdout",
     "output_type": "stream",
     "text": [
      "True\n"
     ]
    }
   ],
   "source": [
    "#compare the 2 normal dictionaries:\n",
    "if nd1 == nd3:\n",
    "    print(True)\n",
    "else:\n",
    "    print(False)\n",
    "    '''Whatever the order is, they will be equal to the others if hold the same items.'''"
   ]
  },
  {
   "cell_type": "code",
   "execution_count": 205,
   "metadata": {},
   "outputs": [
    {
     "name": "stdout",
     "output_type": "stream",
     "text": [
      "odict_items([('three', 3), ('one', 1), ('two', 2)])\n",
      "odict_items([('three', 3), ('one', 1), ('two', 2)])\n"
     ]
    }
   ],
   "source": [
    "# 2-5. Compare the OrderDicts:\n",
    "\n",
    "# Initialize the 1st OD:\n",
    "from collections import OrderedDict\n",
    "\n",
    "od1 = OrderedDict()\n",
    "od1['three'] = 3\n",
    "od1['one'] = 1\n",
    "od1['two'] = 2\n",
    "\n",
    "print(od1.items())\n",
    "\n",
    "# Initialize the 2nd OD:\n",
    "from collections import OrderedDict\n",
    "\n",
    "od2 = OrderedDict()\n",
    "od2['three'] = 3\n",
    "od2['one'] = 1\n",
    "od2['two'] = 2\n",
    "\n",
    "print(od2.items())"
   ]
  },
  {
   "cell_type": "code",
   "execution_count": 206,
   "metadata": {},
   "outputs": [
    {
     "name": "stdout",
     "output_type": "stream",
     "text": [
      "True\n"
     ]
    }
   ],
   "source": [
    "# Compare if they are equal:\n",
    "if od1 == od2:\n",
    "    print(True) \n",
    "else:\n",
    "    print(False)\n",
    "    '''If they have the same orders when initialize their items, they are equal to the others.'''"
   ]
  },
  {
   "cell_type": "code",
   "execution_count": 207,
   "metadata": {},
   "outputs": [
    {
     "name": "stdout",
     "output_type": "stream",
     "text": [
      "odict_items([('two', 2), ('one', 1), ('three', 3)])\n"
     ]
    }
   ],
   "source": [
    "# 2.6-Compare OD if they don't have the same orders:\n",
    "# Initialize the 2nd OD:\n",
    "from collections import OrderedDict\n",
    "\n",
    "od3 = OrderedDict()\n",
    "od3['two'] = 2\n",
    "od3['one'] = 1\n",
    "od3['three'] = 3\n",
    "\n",
    "print(od3.items())"
   ]
  },
  {
   "cell_type": "code",
   "execution_count": 208,
   "metadata": {},
   "outputs": [
    {
     "name": "stdout",
     "output_type": "stream",
     "text": [
      "False\n"
     ]
    }
   ],
   "source": [
    "# Compare if they are equal:\n",
    "if od1 == od3:\n",
    "    print(True) \n",
    "else:\n",
    "    print(False) \n",
    "    '''If they don't have the same orders when initialize their items, they are NOT equal to the others.'''"
   ]
  },
  {
   "cell_type": "markdown",
   "metadata": {},
   "source": [
    "### 24. Collections-Namedtuple:\n",
    "#### 1. Original tuple:\n",
    "#### 2. Namedtuple:"
   ]
  },
  {
   "cell_type": "code",
   "execution_count": 209,
   "metadata": {},
   "outputs": [
    {
     "name": "stdout",
     "output_type": "stream",
     "text": [
      "mango\n"
     ]
    }
   ],
   "source": [
    "# 1. Original tuple:\n",
    "t = ('apple','mango','apple','orange','mango','orange','peach','apple','apple','peach')\n",
    "print(t[4])\n",
    "\n",
    "'''Remembering which index should be used for each value can lead to errors, \n",
    "especially if the tuple has a lot of fields and is constructed far from where it is used. \n",
    "A namedtuple assigns names, as well as the numerical index, to each remember.'''"
   ]
  },
  {
   "cell_type": "code",
   "execution_count": 211,
   "metadata": {},
   "outputs": [],
   "source": [
    "from collections import namedtuple\n",
    "\n",
    "DogNamedtuple = namedtuple('Dog','age breed name') #a very quick way of creating a new object/class\n",
    "\n",
    "Dog_Sam = DogNamedtuple(age = 2, breed = 'Lab', name = 'Sam')\n",
    "\n",
    "'''Each kind of namedtuple is represented by its own class, created by using the namedtuple() factory function. \n",
    "The arguments are the name of the new class and a string containing the names of the elements.\n",
    "You can basically think of namedtuples as a very quick way of creating a new object/class type with some attribute fields.'''"
   ]
  },
  {
   "cell_type": "code",
   "execution_count": 212,
   "metadata": {},
   "outputs": [
    {
     "data": {
      "text/plain": [
       "Dog(age=2, breed='Lab', name='Sam')"
      ]
     },
     "execution_count": 212,
     "metadata": {},
     "output_type": "execute_result"
    }
   ],
   "source": [
    "Dog_Sam # Dog Class, with these attributes."
   ]
  },
  {
   "cell_type": "code",
   "execution_count": 214,
   "metadata": {},
   "outputs": [
    {
     "name": "stdout",
     "output_type": "stream",
     "text": [
      "2\n",
      "Lab\n",
      "Sam\n"
     ]
    }
   ],
   "source": [
    "print(Dog_Sam.age) #OR Dog_Sam[0]\n",
    "print(Dog_Sam.breed)\n",
    "print(Dog_Sam.name)"
   ]
  },
  {
   "cell_type": "code",
   "execution_count": 216,
   "metadata": {},
   "outputs": [
    {
     "ename": "TypeError",
     "evalue": "namedtuple() takes 2 positional arguments but 4 were given",
     "output_type": "error",
     "traceback": [
      "\u001b[1;31m---------------------------------------------------------------------------\u001b[0m",
      "\u001b[1;31mTypeError\u001b[0m                                 Traceback (most recent call last)",
      "\u001b[1;32m<ipython-input-216-c335653f54df>\u001b[0m in \u001b[0;36m<module>\u001b[1;34m\u001b[0m\n\u001b[1;32m----> 1\u001b[1;33m \u001b[0mDogNamedtuple\u001b[0m \u001b[1;33m=\u001b[0m \u001b[0mnamedtuple\u001b[0m\u001b[1;33m(\u001b[0m\u001b[1;34m'Dog'\u001b[0m\u001b[1;33m,\u001b[0m\u001b[1;34m'age'\u001b[0m\u001b[1;33m,\u001b[0m \u001b[1;34m'breed'\u001b[0m\u001b[1;33m,\u001b[0m\u001b[1;34m'name'\u001b[0m\u001b[1;33m)\u001b[0m\u001b[1;33m\u001b[0m\u001b[1;33m\u001b[0m\u001b[0m\n\u001b[0m",
      "\u001b[1;31mTypeError\u001b[0m: namedtuple() takes 2 positional arguments but 4 were given"
     ]
    }
   ],
   "source": [
    "DogNamedtuple = namedtuple('Dog','age', 'breed','name') # namedtuple() takes 2 positional arguments but 4 were given"
   ]
  },
  {
   "cell_type": "markdown",
   "metadata": {},
   "source": [
    "### 25. Module DateTime:\n",
    "#### 1. Time:\n",
    "#### 2. Date:"
   ]
  },
  {
   "cell_type": "code",
   "execution_count": 220,
   "metadata": {},
   "outputs": [
    {
     "ename": "ValueError",
     "evalue": "second must be in 0..59",
     "output_type": "error",
     "traceback": [
      "\u001b[1;31m---------------------------------------------------------------------------\u001b[0m",
      "\u001b[1;31mValueError\u001b[0m                                Traceback (most recent call last)",
      "\u001b[1;32m<ipython-input-220-65a9ec99a041>\u001b[0m in \u001b[0;36m<module>\u001b[1;34m\u001b[0m\n\u001b[0;32m      2\u001b[0m \u001b[1;32mimport\u001b[0m \u001b[0mdatetime\u001b[0m\u001b[1;33m\u001b[0m\u001b[1;33m\u001b[0m\u001b[0m\n\u001b[0;32m      3\u001b[0m \u001b[1;33m\u001b[0m\u001b[0m\n\u001b[1;32m----> 4\u001b[1;33m \u001b[0mt\u001b[0m \u001b[1;33m=\u001b[0m \u001b[0mdatetime\u001b[0m\u001b[1;33m.\u001b[0m\u001b[0mtime\u001b[0m\u001b[1;33m(\u001b[0m\u001b[1;36m5\u001b[0m\u001b[1;33m,\u001b[0m\u001b[1;36m20\u001b[0m\u001b[1;33m,\u001b[0m\u001b[1;36m2019\u001b[0m\u001b[1;33m)\u001b[0m\u001b[1;33m\u001b[0m\u001b[1;33m\u001b[0m\u001b[0m\n\u001b[0m\u001b[0;32m      5\u001b[0m \u001b[0mprint\u001b[0m\u001b[1;33m(\u001b[0m\u001b[0mt\u001b[0m\u001b[1;33m)\u001b[0m\u001b[1;33m\u001b[0m\u001b[1;33m\u001b[0m\u001b[0m\n",
      "\u001b[1;31mValueError\u001b[0m: second must be in 0..59"
     ]
    }
   ],
   "source": [
    "# 1. Time:\n",
    "import datetime\n",
    "\n",
    "t = datetime.time(5,20,2019) #second must be in 0..59\n",
    "print(t)"
   ]
  },
  {
   "cell_type": "code",
   "execution_count": 221,
   "metadata": {
    "scrolled": true
   },
   "outputs": [
    {
     "ename": "ValueError",
     "evalue": "minute must be in 0..59",
     "output_type": "error",
     "traceback": [
      "\u001b[1;31m---------------------------------------------------------------------------\u001b[0m",
      "\u001b[1;31mValueError\u001b[0m                                Traceback (most recent call last)",
      "\u001b[1;32m<ipython-input-221-3b9b78f83c77>\u001b[0m in \u001b[0;36m<module>\u001b[1;34m\u001b[0m\n\u001b[1;32m----> 1\u001b[1;33m \u001b[0mt\u001b[0m \u001b[1;33m=\u001b[0m \u001b[0mdatetime\u001b[0m\u001b[1;33m.\u001b[0m\u001b[0mtime\u001b[0m\u001b[1;33m(\u001b[0m\u001b[1;36m5\u001b[0m\u001b[1;33m,\u001b[0m\u001b[1;36m88\u001b[0m\u001b[1;33m,\u001b[0m \u001b[1;36m89\u001b[0m\u001b[1;33m)\u001b[0m\u001b[1;33m\u001b[0m\u001b[1;33m\u001b[0m\u001b[0m\n\u001b[0m\u001b[0;32m      2\u001b[0m \u001b[0mprint\u001b[0m\u001b[1;33m(\u001b[0m\u001b[0mt\u001b[0m\u001b[1;33m)\u001b[0m\u001b[1;33m\u001b[0m\u001b[1;33m\u001b[0m\u001b[0m\n",
      "\u001b[1;31mValueError\u001b[0m: minute must be in 0..59"
     ]
    }
   ],
   "source": [
    "t = datetime.time(5,88, 89) #minute must be in 0..59\n",
    "print(t)"
   ]
  },
  {
   "cell_type": "code",
   "execution_count": 222,
   "metadata": {},
   "outputs": [
    {
     "ename": "ValueError",
     "evalue": "hour must be in 0..23",
     "output_type": "error",
     "traceback": [
      "\u001b[1;31m---------------------------------------------------------------------------\u001b[0m",
      "\u001b[1;31mValueError\u001b[0m                                Traceback (most recent call last)",
      "\u001b[1;32m<ipython-input-222-fe34b14d1c48>\u001b[0m in \u001b[0;36m<module>\u001b[1;34m\u001b[0m\n\u001b[1;32m----> 1\u001b[1;33m \u001b[0mt\u001b[0m \u001b[1;33m=\u001b[0m \u001b[0mdatetime\u001b[0m\u001b[1;33m.\u001b[0m\u001b[0mtime\u001b[0m\u001b[1;33m(\u001b[0m\u001b[1;36m25\u001b[0m\u001b[1;33m,\u001b[0m\u001b[1;36m12\u001b[0m\u001b[1;33m,\u001b[0m\u001b[1;36m48\u001b[0m\u001b[1;33m)\u001b[0m\u001b[1;33m\u001b[0m\u001b[1;33m\u001b[0m\u001b[0m\n\u001b[0m\u001b[0;32m      2\u001b[0m \u001b[0mprint\u001b[0m\u001b[1;33m(\u001b[0m\u001b[0mt\u001b[0m\u001b[1;33m)\u001b[0m\u001b[1;33m\u001b[0m\u001b[1;33m\u001b[0m\u001b[0m\n",
      "\u001b[1;31mValueError\u001b[0m: hour must be in 0..23"
     ]
    }
   ],
   "source": [
    "t = datetime.time(25,12,48) #hour must be in 0..23\n",
    "print(t)"
   ]
  },
  {
   "cell_type": "code",
   "execution_count": 223,
   "metadata": {},
   "outputs": [
    {
     "name": "stdout",
     "output_type": "stream",
     "text": [
      "22:12:48\n"
     ]
    }
   ],
   "source": [
    "t = datetime.time(22,12,48) # hour, minute, second.\n",
    "print(t)"
   ]
  },
  {
   "cell_type": "code",
   "execution_count": 225,
   "metadata": {},
   "outputs": [
    {
     "name": "stdout",
     "output_type": "stream",
     "text": [
      "23:59:59.999999\n",
      "00:00:00\n",
      "0:00:00.000001\n"
     ]
    }
   ],
   "source": [
    "# 1-1. Time-operation:\n",
    "print(t.max)\n",
    "print(t.min)\n",
    "print(t.resolution)"
   ]
  },
  {
   "cell_type": "code",
   "execution_count": 227,
   "metadata": {},
   "outputs": [
    {
     "name": "stdout",
     "output_type": "stream",
     "text": [
      "22\n",
      "12\n",
      "48\n",
      "0\n"
     ]
    }
   ],
   "source": [
    "print(t.hour)\n",
    "print(t.minute)\n",
    "print(t.second)\n",
    "print(t.microsecond)"
   ]
  },
  {
   "cell_type": "code",
   "execution_count": 228,
   "metadata": {},
   "outputs": [
    {
     "name": "stdout",
     "output_type": "stream",
     "text": [
      "2019-01-20\n",
      "2019\n",
      "1\n",
      "20\n",
      "9999-12-31\n",
      "0001-01-01\n",
      "1 day, 0:00:00\n"
     ]
    }
   ],
   "source": [
    "# 2-1.Date-Definition:\n",
    "\n",
    "import datetime\n",
    "\n",
    "d = datetime.date.today()\n",
    "\n",
    "print(d)\n",
    "print(d.year)\n",
    "print(d.month)\n",
    "print(d.day)\n",
    "print(d.max)\n",
    "print(d.min)\n",
    "print(d.resolution)"
   ]
  },
  {
   "cell_type": "code",
   "execution_count": 230,
   "metadata": {},
   "outputs": [
    {
     "name": "stdout",
     "output_type": "stream",
     "text": [
      "time.struct_time(tm_year=2019, tm_mon=1, tm_mday=20, tm_hour=0, tm_min=0, tm_sec=0, tm_wday=6, tm_yday=20, tm_isdst=-1)\n"
     ]
    }
   ],
   "source": [
    "datetuple = d.timetuple()\n",
    "print(datetuple)"
   ]
  },
  {
   "cell_type": "code",
   "execution_count": 231,
   "metadata": {},
   "outputs": [
    {
     "ename": "TypeError",
     "evalue": "tuple indices must be integers or slices, not str",
     "output_type": "error",
     "traceback": [
      "\u001b[1;31m---------------------------------------------------------------------------\u001b[0m",
      "\u001b[1;31mTypeError\u001b[0m                                 Traceback (most recent call last)",
      "\u001b[1;32m<ipython-input-231-7a7202068563>\u001b[0m in \u001b[0;36m<module>\u001b[1;34m\u001b[0m\n\u001b[1;32m----> 1\u001b[1;33m \u001b[0mprint\u001b[0m\u001b[1;33m(\u001b[0m\u001b[0mdatetuple\u001b[0m\u001b[1;33m[\u001b[0m\u001b[1;34m'tm_year'\u001b[0m\u001b[1;33m]\u001b[0m\u001b[1;33m)\u001b[0m\u001b[1;33m\u001b[0m\u001b[1;33m\u001b[0m\u001b[0m\n\u001b[0m",
      "\u001b[1;31mTypeError\u001b[0m: tuple indices must be integers or slices, not str"
     ]
    }
   ],
   "source": [
    "print(datetuple['tm_year']) #tuple indices must be integers or slices, not str"
   ]
  },
  {
   "cell_type": "code",
   "execution_count": 234,
   "metadata": {},
   "outputs": [
    {
     "name": "stdout",
     "output_type": "stream",
     "text": [
      "20\n"
     ]
    }
   ],
   "source": [
    "print(datetuple[2]) #tm_mday=20"
   ]
  },
  {
   "cell_type": "code",
   "execution_count": 238,
   "metadata": {},
   "outputs": [
    {
     "name": "stdout",
     "output_type": "stream",
     "text": [
      "1990-12-11\n"
     ]
    }
   ],
   "source": [
    "# 2-2. Create a date:\n",
    "newdate1 = datetime.date(1990,12,11)\n",
    "print(newdate1)"
   ]
  },
  {
   "cell_type": "code",
   "execution_count": 240,
   "metadata": {},
   "outputs": [
    {
     "name": "stdout",
     "output_type": "stream",
     "text": [
      "1990-12-11\n"
     ]
    }
   ],
   "source": [
    "newdate1 = datetime.date(1990,12,11) #month must be in 1..12\n",
    "print(newdate1)"
   ]
  },
  {
   "cell_type": "code",
   "execution_count": 241,
   "metadata": {},
   "outputs": [
    {
     "name": "stdout",
     "output_type": "stream",
     "text": [
      "2018-12-11\n"
     ]
    }
   ],
   "source": [
    "# Replace a new year:\n",
    "newdate2 = newdate1.replace(year=2018)\n",
    "print(newdate2)"
   ]
  },
  {
   "cell_type": "code",
   "execution_count": 243,
   "metadata": {},
   "outputs": [
    {
     "name": "stdout",
     "output_type": "stream",
     "text": [
      "10227 days, 0:00:00\n",
      "-10227 days, 0:00:00\n"
     ]
    }
   ],
   "source": [
    "# Arithmetic:\n",
    "print(newdate2-newdate1)\n",
    "print(newdate1-newdate2)"
   ]
  },
  {
   "cell_type": "markdown",
   "metadata": {},
   "source": [
    "### 26. Python Debugger:\n",
    "#### The pdb module implements an interactive debugging environment for Python programs. It includes features to let you pause your program, look at the values of variables, and watch program execution step-by-step, so you can understand what your program actually does and find bugs in the logic.\n",
    "#### You can use 'q' to quit the debugger.\n",
    "#### Note: Keep in mind it would be pretty unusual to use pdb in an iPython Notebook setting."
   ]
  },
  {
   "cell_type": "code",
   "execution_count": 244,
   "metadata": {},
   "outputs": [
    {
     "ename": "TypeError",
     "evalue": "can only concatenate list (not \"int\") to list",
     "output_type": "error",
     "traceback": [
      "\u001b[1;31m---------------------------------------------------------------------------\u001b[0m",
      "\u001b[1;31mTypeError\u001b[0m                                 Traceback (most recent call last)",
      "\u001b[1;32m<ipython-input-244-cbf50c17f740>\u001b[0m in \u001b[0;36m<module>\u001b[1;34m\u001b[0m\n\u001b[0;32m      5\u001b[0m \u001b[0mz\u001b[0m \u001b[1;33m=\u001b[0m \u001b[1;36m19\u001b[0m\u001b[1;33m\u001b[0m\u001b[1;33m\u001b[0m\u001b[0m\n\u001b[0;32m      6\u001b[0m \u001b[1;33m\u001b[0m\u001b[0m\n\u001b[1;32m----> 7\u001b[1;33m \u001b[0mprint\u001b[0m\u001b[1;33m(\u001b[0m\u001b[0mx\u001b[0m\u001b[1;33m+\u001b[0m\u001b[0my\u001b[0m\u001b[1;33m)\u001b[0m\u001b[1;33m\u001b[0m\u001b[1;33m\u001b[0m\u001b[0m\n\u001b[0m",
      "\u001b[1;31mTypeError\u001b[0m: can only concatenate list (not \"int\") to list"
     ]
    }
   ],
   "source": [
    "# 1. Original:\n",
    "import pdb\n",
    "\n",
    "x = [2,3,5]\n",
    "y = 83\n",
    "z = 19\n",
    "\n",
    "print(x+y)"
   ]
  },
  {
   "cell_type": "code",
   "execution_count": 246,
   "metadata": {},
   "outputs": [
    {
     "name": "stdout",
     "output_type": "stream",
     "text": [
      "--Return--\n",
      "> <ipython-input-246-2ce9f17f580b>(5)<module>()->None\n",
      "-> pdb.set_trace()\n",
      "(Pdb) x\n",
      "[2, 3, 5]\n",
      "(Pdb) y\n",
      "83\n",
      "(Pdb) z\n",
      "19\n",
      "(Pdb) y+z\n",
      "102\n",
      "(Pdb) x+z\n",
      "*** TypeError: can only concatenate list (not \"int\") to list\n",
      "(Pdb) q\n"
     ]
    },
    {
     "ename": "BdbQuit",
     "evalue": "",
     "output_type": "error",
     "traceback": [
      "\u001b[1;31m---------------------------------------------------------------------------\u001b[0m",
      "\u001b[1;31mBdbQuit\u001b[0m                                   Traceback (most recent call last)",
      "\u001b[1;32m<ipython-input-246-2ce9f17f580b>\u001b[0m in \u001b[0;36m<module>\u001b[1;34m\u001b[0m\n\u001b[0;32m      3\u001b[0m \u001b[0mz\u001b[0m \u001b[1;33m=\u001b[0m \u001b[1;36m19\u001b[0m\u001b[1;33m\u001b[0m\u001b[1;33m\u001b[0m\u001b[0m\n\u001b[0;32m      4\u001b[0m \u001b[1;33m\u001b[0m\u001b[0m\n\u001b[1;32m----> 5\u001b[1;33m \u001b[0mpdb\u001b[0m\u001b[1;33m.\u001b[0m\u001b[0mset_trace\u001b[0m\u001b[1;33m(\u001b[0m\u001b[1;33m)\u001b[0m\u001b[1;33m\u001b[0m\u001b[1;33m\u001b[0m\u001b[0m\n\u001b[0m\u001b[0;32m      6\u001b[0m \u001b[1;33m\u001b[0m\u001b[0m\n\u001b[0;32m      7\u001b[0m \u001b[0mprint\u001b[0m\u001b[1;33m(\u001b[0m\u001b[0mx\u001b[0m\u001b[1;33m+\u001b[0m\u001b[0my\u001b[0m\u001b[1;33m)\u001b[0m\u001b[1;33m\u001b[0m\u001b[1;33m\u001b[0m\u001b[0m\n",
      "\u001b[1;32mC:\\Anaconda3\\Anaconda3_2\\lib\\bdb.py\u001b[0m in \u001b[0;36mtrace_dispatch\u001b[1;34m(self, frame, event, arg)\u001b[0m\n\u001b[0;32m     90\u001b[0m             \u001b[1;32mreturn\u001b[0m \u001b[0mself\u001b[0m\u001b[1;33m.\u001b[0m\u001b[0mdispatch_call\u001b[0m\u001b[1;33m(\u001b[0m\u001b[0mframe\u001b[0m\u001b[1;33m,\u001b[0m \u001b[0marg\u001b[0m\u001b[1;33m)\u001b[0m\u001b[1;33m\u001b[0m\u001b[1;33m\u001b[0m\u001b[0m\n\u001b[0;32m     91\u001b[0m         \u001b[1;32mif\u001b[0m \u001b[0mevent\u001b[0m \u001b[1;33m==\u001b[0m \u001b[1;34m'return'\u001b[0m\u001b[1;33m:\u001b[0m\u001b[1;33m\u001b[0m\u001b[1;33m\u001b[0m\u001b[0m\n\u001b[1;32m---> 92\u001b[1;33m             \u001b[1;32mreturn\u001b[0m \u001b[0mself\u001b[0m\u001b[1;33m.\u001b[0m\u001b[0mdispatch_return\u001b[0m\u001b[1;33m(\u001b[0m\u001b[0mframe\u001b[0m\u001b[1;33m,\u001b[0m \u001b[0marg\u001b[0m\u001b[1;33m)\u001b[0m\u001b[1;33m\u001b[0m\u001b[1;33m\u001b[0m\u001b[0m\n\u001b[0m\u001b[0;32m     93\u001b[0m         \u001b[1;32mif\u001b[0m \u001b[0mevent\u001b[0m \u001b[1;33m==\u001b[0m \u001b[1;34m'exception'\u001b[0m\u001b[1;33m:\u001b[0m\u001b[1;33m\u001b[0m\u001b[1;33m\u001b[0m\u001b[0m\n\u001b[0;32m     94\u001b[0m             \u001b[1;32mreturn\u001b[0m \u001b[0mself\u001b[0m\u001b[1;33m.\u001b[0m\u001b[0mdispatch_exception\u001b[0m\u001b[1;33m(\u001b[0m\u001b[0mframe\u001b[0m\u001b[1;33m,\u001b[0m \u001b[0marg\u001b[0m\u001b[1;33m)\u001b[0m\u001b[1;33m\u001b[0m\u001b[1;33m\u001b[0m\u001b[0m\n",
      "\u001b[1;32mC:\\Anaconda3\\Anaconda3_2\\lib\\bdb.py\u001b[0m in \u001b[0;36mdispatch_return\u001b[1;34m(self, frame, arg)\u001b[0m\n\u001b[0;32m    152\u001b[0m             \u001b[1;32mfinally\u001b[0m\u001b[1;33m:\u001b[0m\u001b[1;33m\u001b[0m\u001b[1;33m\u001b[0m\u001b[0m\n\u001b[0;32m    153\u001b[0m                 \u001b[0mself\u001b[0m\u001b[1;33m.\u001b[0m\u001b[0mframe_returning\u001b[0m \u001b[1;33m=\u001b[0m \u001b[1;32mNone\u001b[0m\u001b[1;33m\u001b[0m\u001b[1;33m\u001b[0m\u001b[0m\n\u001b[1;32m--> 154\u001b[1;33m             \u001b[1;32mif\u001b[0m \u001b[0mself\u001b[0m\u001b[1;33m.\u001b[0m\u001b[0mquitting\u001b[0m\u001b[1;33m:\u001b[0m \u001b[1;32mraise\u001b[0m \u001b[0mBdbQuit\u001b[0m\u001b[1;33m\u001b[0m\u001b[1;33m\u001b[0m\u001b[0m\n\u001b[0m\u001b[0;32m    155\u001b[0m             \u001b[1;31m# The user issued a 'next' or 'until' command.\u001b[0m\u001b[1;33m\u001b[0m\u001b[1;33m\u001b[0m\u001b[1;33m\u001b[0m\u001b[0m\n\u001b[0;32m    156\u001b[0m             \u001b[1;32mif\u001b[0m \u001b[0mself\u001b[0m\u001b[1;33m.\u001b[0m\u001b[0mstopframe\u001b[0m \u001b[1;32mis\u001b[0m \u001b[0mframe\u001b[0m \u001b[1;32mand\u001b[0m \u001b[0mself\u001b[0m\u001b[1;33m.\u001b[0m\u001b[0mstoplineno\u001b[0m \u001b[1;33m!=\u001b[0m \u001b[1;33m-\u001b[0m\u001b[1;36m1\u001b[0m\u001b[1;33m:\u001b[0m\u001b[1;33m\u001b[0m\u001b[1;33m\u001b[0m\u001b[0m\n",
      "\u001b[1;31mBdbQuit\u001b[0m: "
     ]
    }
   ],
   "source": [
    "#2. Debug with pdb:\n",
    "x = [2,3,5]\n",
    "y = 83\n",
    "z = 19\n",
    "\n",
    "pdb.set_trace()\n",
    "\n",
    "print(x+y)"
   ]
  },
  {
   "cell_type": "markdown",
   "metadata": {},
   "source": [
    "### 27. Timing the code:\n",
    "#### 1. timeit"
   ]
  },
  {
   "cell_type": "code",
   "execution_count": 306,
   "metadata": {},
   "outputs": [
    {
     "data": {
      "text/plain": [
       "0.31773156399140134"
      ]
     },
     "execution_count": 306,
     "metadata": {},
     "output_type": "execute_result"
    }
   ],
   "source": [
    "# 1.1-timeit by function:\n",
    "\n",
    "import timeit\n",
    "\n",
    "timeit.timeit('\"-\".join([str(n) for n in range(100)])', number=10000)"
   ]
  },
  {
   "cell_type": "code",
   "execution_count": 307,
   "metadata": {},
   "outputs": [
    {
     "ename": "TypeError",
     "evalue": "'list' object is not callable",
     "output_type": "error",
     "traceback": [
      "\u001b[1;31m---------------------------------------------------------------------------\u001b[0m",
      "\u001b[1;31mTypeError\u001b[0m                                 Traceback (most recent call last)",
      "\u001b[1;32m<ipython-input-307-ec6b3a790505>\u001b[0m in \u001b[0;36m<module>\u001b[1;34m\u001b[0m\n\u001b[0;32m      1\u001b[0m \u001b[1;31m# 1.2-timeit by specific format in Jupyter Notebook--Python Jupter Built-in magic line.\u001b[0m\u001b[1;33m\u001b[0m\u001b[1;33m\u001b[0m\u001b[1;33m\u001b[0m\u001b[0m\n\u001b[0;32m      2\u001b[0m \u001b[1;33m\u001b[0m\u001b[0m\n\u001b[1;32m----> 3\u001b[1;33m \u001b[0mget_ipython\u001b[0m\u001b[1;33m(\u001b[0m\u001b[1;33m)\u001b[0m\u001b[1;33m.\u001b[0m\u001b[0mrun_line_magic\u001b[0m\u001b[1;33m(\u001b[0m\u001b[1;34m'timeit'\u001b[0m\u001b[1;33m,\u001b[0m \u001b[1;34m'\"-\".join([str(n) for n in range(100)])'\u001b[0m\u001b[1;33m)\u001b[0m\u001b[1;33m\u001b[0m\u001b[1;33m\u001b[0m\u001b[0m\n\u001b[0m",
      "\u001b[1;32mC:\\Anaconda3\\Anaconda3_2\\lib\\site-packages\\IPython\\core\\interactiveshell.py\u001b[0m in \u001b[0;36mrun_line_magic\u001b[1;34m(self, magic_name, line, _stack_depth)\u001b[0m\n\u001b[0;32m   2285\u001b[0m                 \u001b[0mkwargs\u001b[0m\u001b[1;33m[\u001b[0m\u001b[1;34m'local_ns'\u001b[0m\u001b[1;33m]\u001b[0m \u001b[1;33m=\u001b[0m \u001b[0msys\u001b[0m\u001b[1;33m.\u001b[0m\u001b[0m_getframe\u001b[0m\u001b[1;33m(\u001b[0m\u001b[0mstack_depth\u001b[0m\u001b[1;33m)\u001b[0m\u001b[1;33m.\u001b[0m\u001b[0mf_locals\u001b[0m\u001b[1;33m\u001b[0m\u001b[1;33m\u001b[0m\u001b[0m\n\u001b[0;32m   2286\u001b[0m             \u001b[1;32mwith\u001b[0m \u001b[0mself\u001b[0m\u001b[1;33m.\u001b[0m\u001b[0mbuiltin_trap\u001b[0m\u001b[1;33m:\u001b[0m\u001b[1;33m\u001b[0m\u001b[1;33m\u001b[0m\u001b[0m\n\u001b[1;32m-> 2287\u001b[1;33m                 \u001b[0mresult\u001b[0m \u001b[1;33m=\u001b[0m \u001b[0mfn\u001b[0m\u001b[1;33m(\u001b[0m\u001b[1;33m*\u001b[0m\u001b[0margs\u001b[0m\u001b[1;33m,\u001b[0m\u001b[1;33m**\u001b[0m\u001b[0mkwargs\u001b[0m\u001b[1;33m)\u001b[0m\u001b[1;33m\u001b[0m\u001b[1;33m\u001b[0m\u001b[0m\n\u001b[0m\u001b[0;32m   2288\u001b[0m             \u001b[1;32mreturn\u001b[0m \u001b[0mresult\u001b[0m\u001b[1;33m\u001b[0m\u001b[1;33m\u001b[0m\u001b[0m\n\u001b[0;32m   2289\u001b[0m \u001b[1;33m\u001b[0m\u001b[0m\n",
      "\u001b[1;32m<decorator-gen-62>\u001b[0m in \u001b[0;36mtimeit\u001b[1;34m(self, line, cell, local_ns)\u001b[0m\n",
      "\u001b[1;32mC:\\Anaconda3\\Anaconda3_2\\lib\\site-packages\\IPython\\core\\magic.py\u001b[0m in \u001b[0;36m<lambda>\u001b[1;34m(f, *a, **k)\u001b[0m\n\u001b[0;32m    185\u001b[0m     \u001b[1;31m# but it's overkill for just that one bit of state.\u001b[0m\u001b[1;33m\u001b[0m\u001b[1;33m\u001b[0m\u001b[1;33m\u001b[0m\u001b[0m\n\u001b[0;32m    186\u001b[0m     \u001b[1;32mdef\u001b[0m \u001b[0mmagic_deco\u001b[0m\u001b[1;33m(\u001b[0m\u001b[0marg\u001b[0m\u001b[1;33m)\u001b[0m\u001b[1;33m:\u001b[0m\u001b[1;33m\u001b[0m\u001b[1;33m\u001b[0m\u001b[0m\n\u001b[1;32m--> 187\u001b[1;33m         \u001b[0mcall\u001b[0m \u001b[1;33m=\u001b[0m \u001b[1;32mlambda\u001b[0m \u001b[0mf\u001b[0m\u001b[1;33m,\u001b[0m \u001b[1;33m*\u001b[0m\u001b[0ma\u001b[0m\u001b[1;33m,\u001b[0m \u001b[1;33m**\u001b[0m\u001b[0mk\u001b[0m\u001b[1;33m:\u001b[0m \u001b[0mf\u001b[0m\u001b[1;33m(\u001b[0m\u001b[1;33m*\u001b[0m\u001b[0ma\u001b[0m\u001b[1;33m,\u001b[0m \u001b[1;33m**\u001b[0m\u001b[0mk\u001b[0m\u001b[1;33m)\u001b[0m\u001b[1;33m\u001b[0m\u001b[1;33m\u001b[0m\u001b[0m\n\u001b[0m\u001b[0;32m    188\u001b[0m \u001b[1;33m\u001b[0m\u001b[0m\n\u001b[0;32m    189\u001b[0m         \u001b[1;32mif\u001b[0m \u001b[0mcallable\u001b[0m\u001b[1;33m(\u001b[0m\u001b[0marg\u001b[0m\u001b[1;33m)\u001b[0m\u001b[1;33m:\u001b[0m\u001b[1;33m\u001b[0m\u001b[1;33m\u001b[0m\u001b[0m\n",
      "\u001b[1;32mC:\\Anaconda3\\Anaconda3_2\\lib\\site-packages\\IPython\\core\\magics\\execution.py\u001b[0m in \u001b[0;36mtimeit\u001b[1;34m(self, line, cell, local_ns)\u001b[0m\n\u001b[0;32m   1129\u001b[0m             \u001b[1;32mfor\u001b[0m \u001b[0mindex\u001b[0m \u001b[1;32min\u001b[0m \u001b[0mrange\u001b[0m\u001b[1;33m(\u001b[0m\u001b[1;36m0\u001b[0m\u001b[1;33m,\u001b[0m \u001b[1;36m10\u001b[0m\u001b[1;33m)\u001b[0m\u001b[1;33m:\u001b[0m\u001b[1;33m\u001b[0m\u001b[1;33m\u001b[0m\u001b[0m\n\u001b[0;32m   1130\u001b[0m                 \u001b[0mnumber\u001b[0m \u001b[1;33m=\u001b[0m \u001b[1;36m10\u001b[0m \u001b[1;33m**\u001b[0m \u001b[0mindex\u001b[0m\u001b[1;33m\u001b[0m\u001b[1;33m\u001b[0m\u001b[0m\n\u001b[1;32m-> 1131\u001b[1;33m                 \u001b[0mtime_number\u001b[0m \u001b[1;33m=\u001b[0m \u001b[0mtimer\u001b[0m\u001b[1;33m.\u001b[0m\u001b[0mtimeit\u001b[0m\u001b[1;33m(\u001b[0m\u001b[0mnumber\u001b[0m\u001b[1;33m)\u001b[0m\u001b[1;33m\u001b[0m\u001b[1;33m\u001b[0m\u001b[0m\n\u001b[0m\u001b[0;32m   1132\u001b[0m                 \u001b[1;32mif\u001b[0m \u001b[0mtime_number\u001b[0m \u001b[1;33m>=\u001b[0m \u001b[1;36m0.2\u001b[0m\u001b[1;33m:\u001b[0m\u001b[1;33m\u001b[0m\u001b[1;33m\u001b[0m\u001b[0m\n\u001b[0;32m   1133\u001b[0m                     \u001b[1;32mbreak\u001b[0m\u001b[1;33m\u001b[0m\u001b[1;33m\u001b[0m\u001b[0m\n",
      "\u001b[1;32mC:\\Anaconda3\\Anaconda3_2\\lib\\site-packages\\IPython\\core\\magics\\execution.py\u001b[0m in \u001b[0;36mtimeit\u001b[1;34m(self, number)\u001b[0m\n\u001b[0;32m    158\u001b[0m         \u001b[0mgc\u001b[0m\u001b[1;33m.\u001b[0m\u001b[0mdisable\u001b[0m\u001b[1;33m(\u001b[0m\u001b[1;33m)\u001b[0m\u001b[1;33m\u001b[0m\u001b[1;33m\u001b[0m\u001b[0m\n\u001b[0;32m    159\u001b[0m         \u001b[1;32mtry\u001b[0m\u001b[1;33m:\u001b[0m\u001b[1;33m\u001b[0m\u001b[1;33m\u001b[0m\u001b[0m\n\u001b[1;32m--> 160\u001b[1;33m             \u001b[0mtiming\u001b[0m \u001b[1;33m=\u001b[0m \u001b[0mself\u001b[0m\u001b[1;33m.\u001b[0m\u001b[0minner\u001b[0m\u001b[1;33m(\u001b[0m\u001b[0mit\u001b[0m\u001b[1;33m,\u001b[0m \u001b[0mself\u001b[0m\u001b[1;33m.\u001b[0m\u001b[0mtimer\u001b[0m\u001b[1;33m)\u001b[0m\u001b[1;33m\u001b[0m\u001b[1;33m\u001b[0m\u001b[0m\n\u001b[0m\u001b[0;32m    161\u001b[0m         \u001b[1;32mfinally\u001b[0m\u001b[1;33m:\u001b[0m\u001b[1;33m\u001b[0m\u001b[1;33m\u001b[0m\u001b[0m\n\u001b[0;32m    162\u001b[0m             \u001b[1;32mif\u001b[0m \u001b[0mgcold\u001b[0m\u001b[1;33m:\u001b[0m\u001b[1;33m\u001b[0m\u001b[1;33m\u001b[0m\u001b[0m\n",
      "\u001b[1;32m<magic-timeit>\u001b[0m in \u001b[0;36minner\u001b[1;34m(_it, _timer)\u001b[0m\n",
      "\u001b[1;32m<magic-timeit>\u001b[0m in \u001b[0;36m<listcomp>\u001b[1;34m(.0)\u001b[0m\n",
      "\u001b[1;31mTypeError\u001b[0m: 'list' object is not callable"
     ]
    }
   ],
   "source": [
    "# 1.2-timeit by specific format in Jupyter Notebook--Python Jupter Built-in magic line.\n",
    "\n",
    "%timeit \"-\".join([str(n) for n in range(100)])"
   ]
  },
  {
   "cell_type": "markdown",
   "metadata": {},
   "source": [
    "### 28. Regular expression:\n",
    "#### 1. re.search\n",
    "#### 2. search and return result.\n",
    "#### 3. other operations of re.\n",
    "#### 4. Repetition Syntax:\n",
    "#### 5. Character Sets\n",
    "#### 6. Exclusion:\n",
    "#### 7. Character Range:\n",
    "#### 8. Escape Codes:"
   ]
  },
  {
   "cell_type": "code",
   "execution_count": 317,
   "metadata": {},
   "outputs": [
    {
     "data": {
      "text/plain": [
       "<re.Match object; span=(18, 22), match='term'>"
      ]
     },
     "execution_count": 317,
     "metadata": {},
     "output_type": "execute_result"
    }
   ],
   "source": [
    "# 1. re.search\n",
    "import re\n",
    "\n",
    "term_a = \"term\"\n",
    "term1 = \"this is the first term and some others terms will be next.\"\n",
    "re.search(term_a, term1)"
   ]
  },
  {
   "cell_type": "code",
   "execution_count": 320,
   "metadata": {},
   "outputs": [
    {
     "name": "stdout",
     "output_type": "stream",
     "text": [
      "Search for pattern \"term1\" in sentence: \"this is the first term1 and some others terms will be next.\"\n",
      "Matched 'term1' in sentences: 'this is the first term1 and some others terms will be next.'\n",
      "Search for pattern \"term2\" in sentence: \"this is the first term1 and some others terms will be next.\"\n",
      "No this pattern: 'term2'\n",
      "Search for pattern \"term3\" in sentence: \"this is the first term1 and some others terms will be next.\"\n",
      "No this pattern: 'term3'\n"
     ]
    }
   ],
   "source": [
    "# 2. search and return result customerized.\n",
    "\n",
    "patterns = ['term1', 'term2', 'term3']\n",
    "sen1 = \"this is the first term1 and some others terms will be next.\"\n",
    "\n",
    "for pattern in patterns:\n",
    "    print('Search for pattern \"%s\" in sentence: \"%s\"' %(pattern, sen1)) #Another argument type imported.\n",
    "    \n",
    "    if re.search(pattern, sen1):\n",
    "        print(\"Matched '%s' in sentences: '%s'\" %(pattern, sen1))\n",
    "    else:\n",
    "        print(\"No this pattern: '%s'\" %pattern)"
   ]
  },
  {
   "cell_type": "code",
   "execution_count": 322,
   "metadata": {},
   "outputs": [
    {
     "name": "stdout",
     "output_type": "stream",
     "text": [
      "['Is this your email: ziwiefan', 'yahoo.com?']\n"
     ]
    }
   ],
   "source": [
    "# 3. Other operations-split:\n",
    "sen1 = \"Is this your email: ziwiefan@yahoo.com?\"\n",
    "term_b = \"@\"\n",
    "print(re.split(term_b, sen1))"
   ]
  },
  {
   "cell_type": "code",
   "execution_count": 326,
   "metadata": {},
   "outputs": [
    {
     "name": "stdout",
     "output_type": "stream",
     "text": [
      "['term1', 'term1', 'term1']\n",
      "18\n",
      "23\n"
     ]
    }
   ],
   "source": [
    "# 3. Other operations-find all, match information:\n",
    "sen1 = \"this is the first term1 and some others terms will be next. term1, term1.\"\n",
    "\n",
    "print(re.findall(\"term1\", sen1))\n",
    "'''re.findall() to find all the instances of a pattern in a string.'''\n",
    "\n",
    "match = re.search(\"term1\", sen1)\n",
    "print(match.start())\n",
    "print(match.end())\n",
    "\n",
    "'''This Match object returned by the search() method is more than just a Boolean or None, \n",
    "it contains information about the match, \n",
    "including the original input string, the regular expression that was used, and the location of the match. '''"
   ]
  },
  {
   "cell_type": "code",
   "execution_count": 329,
   "metadata": {},
   "outputs": [
    {
     "name": "stdout",
     "output_type": "stream",
     "text": [
      "Looking for pattern matched: '@'\n",
      "['@']\n",
      "\n",
      "\n",
      "Looking for pattern matched: 'email'\n",
      "['email']\n",
      "\n",
      "\n",
      "Looking for pattern matched: 'term'\n",
      "[]\n",
      "\n",
      "\n"
     ]
    }
   ],
   "source": [
    "# 3. Other opearations-findall eg.\n",
    "patterns = [\"@\",\"email\",\"term\"]\n",
    "phrase = 'What is the domain name of someone with the email: hello@gmail.com'\n",
    "\n",
    "for term in patterns:\n",
    "    print(\"Looking for pattern matched: '%s'\" %term)\n",
    "    print(re.findall(term, phrase))\n",
    "    print(\"\\n\")"
   ]
  },
  {
   "cell_type": "code",
   "execution_count": 331,
   "metadata": {},
   "outputs": [],
   "source": [
    "# 4. Repetition Syntax:\n",
    "test_phrase = 'sdsd..sssddd...sdddsddd...dsds...dsssss...sdddd'\n",
    "\n",
    "char_sets = ['sd*', #s + 0 or more d(s)\n",
    "           'sd+', #s + 1 or more d(s)\n",
    "           'sd?', #s + 0 or 1 d\n",
    "           'sd{3}', #s+ 3 ds\n",
    "           'sd{2,3}'] #s + 2 to 3 d(s)"
   ]
  },
  {
   "cell_type": "code",
   "execution_count": 332,
   "metadata": {},
   "outputs": [],
   "source": [
    "def multi_re_find(patterns, phrase):\n",
    "    for pattern in patterns:\n",
    "        print(\"checking '%s': \" %pattern)\n",
    "        print(re.findall(pattern, phrase))\n",
    "        print(\"\\n\")"
   ]
  },
  {
   "cell_type": "code",
   "execution_count": 333,
   "metadata": {},
   "outputs": [
    {
     "name": "stdout",
     "output_type": "stream",
     "text": [
      "checking 'sd*': \n",
      "['sd', 'sd', 's', 's', 'sddd', 'sddd', 'sddd', 'sd', 's', 's', 's', 's', 's', 's', 'sdddd']\n",
      "\n",
      "\n",
      "checking 'sd+': \n",
      "['sd', 'sd', 'sddd', 'sddd', 'sddd', 'sd', 'sdddd']\n",
      "\n",
      "\n",
      "checking 'sd?': \n",
      "['sd', 'sd', 's', 's', 'sd', 'sd', 'sd', 'sd', 's', 's', 's', 's', 's', 's', 'sd']\n",
      "\n",
      "\n",
      "checking 'sd{3}': \n",
      "['sddd', 'sddd', 'sddd', 'sddd']\n",
      "\n",
      "\n",
      "checking 'sd{2,3}': \n",
      "['sddd', 'sddd', 'sddd', 'sddd']\n",
      "\n",
      "\n"
     ]
    }
   ],
   "source": [
    "multi_re_find(char_sets, test_phrase)"
   ]
  },
  {
   "cell_type": "code",
   "execution_count": 334,
   "metadata": {},
   "outputs": [
    {
     "name": "stdout",
     "output_type": "stream",
     "text": [
      "checking '[sd]': \n",
      "['s', 'd', 's', 'd', 's', 's', 's', 'd', 'd', 'd', 's', 'd', 'd', 'd', 's', 'd', 'd', 'd', 'd', 's', 'd', 's', 'd', 's', 's', 's', 's', 's', 's', 'd', 'd', 'd', 'd']\n",
      "\n",
      "\n",
      "checking 's[sd]+': \n",
      "['sdsd', 'sssddd', 'sdddsddd', 'sds', 'sssss', 'sdddd']\n",
      "\n",
      "\n"
     ]
    }
   ],
   "source": [
    "# 5. Character Sets:\n",
    "'''Character sets are used when you wish to match any one of a group of characters at a point in the input. \n",
    "Brackets are used to construct character set inputs. \n",
    "For example: the input [ab] searches for occurrences of either a** or **b. '''\n",
    "\n",
    "test_phrase = 'sdsd..sssddd...sdddsddd...dsds...dsssss...sdddd'\n",
    "char_sets2=['[sd]',# s or d \n",
    "            's[sd]+'] # s + 1 or more (s or d)\n",
    "\n",
    "multi_re_find(char_sets2, test_phrase)"
   ]
  },
  {
   "cell_type": "code",
   "execution_count": 338,
   "metadata": {},
   "outputs": [
    {
     "data": {
      "text/plain": [
       "['This',\n",
       " 'is',\n",
       " 'a',\n",
       " 'string',\n",
       " 'But',\n",
       " 'it',\n",
       " 'has',\n",
       " 'punctuation',\n",
       " 'How',\n",
       " 'can',\n",
       " 'we',\n",
       " 'remove',\n",
       " 'it']"
      ]
     },
     "execution_count": 338,
     "metadata": {},
     "output_type": "execute_result"
    }
   ],
   "source": [
    "# 6. Exclusion:\n",
    "'''Exclusion\n",
    "We can use ^ to exclude terms by incorporating it into the bracket syntax notation. \n",
    "For example: [^...] will match any single character not in the brackets. '''\n",
    "\n",
    "test_phrase = 'This is a string! But it has punctuation. How can we remove it?'\n",
    "exclusion_pattern = '[^.!? ]+'\n",
    "\n",
    "re.findall(exclusion_pattern, test_phrase)"
   ]
  },
  {
   "cell_type": "code",
   "execution_count": 339,
   "metadata": {
    "scrolled": true
   },
   "outputs": [
    {
     "name": "stdout",
     "output_type": "stream",
     "text": [
      "checking '[a-z]+': \n",
      "['his', 'is', 'an', 'example', 'sentence', 'ets', 'see', 'if', 'we', 'can', 'find', 'some', 'letters']\n",
      "\n",
      "\n",
      "checking '[A-Z]+': \n",
      "['T', 'L']\n",
      "\n",
      "\n",
      "checking '[a-zA-Z]+': \n",
      "['This', 'is', 'an', 'example', 'sentence', 'Lets', 'see', 'if', 'we', 'can', 'find', 'some', 'letters']\n",
      "\n",
      "\n",
      "checking '[A-Z][a-z]+': \n",
      "['This', 'Lets']\n",
      "\n",
      "\n"
     ]
    }
   ],
   "source": [
    "# 7. Character Range:\n",
    "test_phrase = 'This is an example sentence. Lets see if we can find some letters.'\n",
    "test_pattern = ['[a-z]+', # sequences of lower case letters\n",
    "               '[A-Z]+', # sequences of upper case letters\n",
    "               '[a-zA-Z]+', # sequences of lower or upper case letters: ['This', 'is', 'an', 'example',...\n",
    "               '[A-Z][a-z]+'] # In the order: one upper case letter followed by lower case letters: ['This', 'Lets']\n",
    "\n",
    "multi_re_find(test_pattern, test_phrase)"
   ]
  },
  {
   "cell_type": "markdown",
   "metadata": {},
   "source": [
    "#### 8. Escape Codes:\n",
    "You can use special escape codes to find specific types of patterns in your data, such as digits, non-digits, whitespace, and more. For example:\n",
    "\n",
    "<table border=\"1\" class=\"docutils\">\n",
    "<colgroup>\n",
    "<col width=\"14%\" />\n",
    "<col width=\"86%\" />\n",
    "</colgroup>\n",
    "<thead valign=\"bottom\">\n",
    "<tr class=\"row-odd\"><th class=\"head\">Code</th>\n",
    "<th class=\"head\">Meaning</th>\n",
    "</tr>\n",
    "</thead>\n",
    "<tbody valign=\"top\">\n",
    "<tr class=\"row-even\"><td><tt class=\"docutils literal\"><span class=\"pre\">\\d</span></tt></td>\n",
    "<td>a digit</td>\n",
    "</tr>\n",
    "<tr class=\"row-odd\"><td><tt class=\"docutils literal\"><span class=\"pre\">\\D</span></tt></td>\n",
    "<td>a non-digit</td>\n",
    "</tr>\n",
    "<tr class=\"row-even\"><td><tt class=\"docutils literal\"><span class=\"pre\">\\s</span></tt></td>\n",
    "<td>whitespace (tab, space, newline, etc.)</td>\n",
    "</tr>\n",
    "<tr class=\"row-odd\"><td><tt class=\"docutils literal\"><span class=\"pre\">\\S</span></tt></td>\n",
    "<td>non-whitespace</td>\n",
    "</tr>\n",
    "<tr class=\"row-even\"><td><tt class=\"docutils literal\"><span class=\"pre\">\\w</span></tt></td>\n",
    "<td>alphanumeric</td>\n",
    "</tr>\n",
    "<tr class=\"row-odd\"><td><tt class=\"docutils literal\"><span class=\"pre\">\\W</span></tt></td>\n",
    "<td>non-alphanumeric</td>\n",
    "</tr>\n",
    "</tbody>\n",
    "</table>\n",
    "\n",
    "Escapes are indicated by prefixing the character with a backslash <code>\\</code>."
   ]
  },
  {
   "cell_type": "code",
   "execution_count": 341,
   "metadata": {},
   "outputs": [
    {
     "name": "stdout",
     "output_type": "stream",
     "text": [
      "checking '\\d+': \n",
      "['1233']\n",
      "\n",
      "\n",
      "checking '\\D+': \n",
      "['This is a string with some numbers ', ' and a symbol #hashtag']\n",
      "\n",
      "\n",
      "checking '\\s+': \n",
      "[' ', ' ', ' ', ' ', ' ', ' ', ' ', ' ', ' ', ' ', ' ']\n",
      "\n",
      "\n",
      "checking '\\S+': \n",
      "['This', 'is', 'a', 'string', 'with', 'some', 'numbers', '1233', 'and', 'a', 'symbol', '#hashtag']\n",
      "\n",
      "\n",
      "checking '\\w+': \n",
      "['This', 'is', 'a', 'string', 'with', 'some', 'numbers', '1233', 'and', 'a', 'symbol', 'hashtag']\n",
      "\n",
      "\n",
      "checking '\\W+': \n",
      "[' ', ' ', ' ', ' ', ' ', ' ', ' ', ' ', ' ', ' ', ' #']\n",
      "\n",
      "\n"
     ]
    },
    {
     "data": {
      "text/plain": [
       "'Upper case: means NON-...'"
      ]
     },
     "execution_count": 341,
     "metadata": {},
     "output_type": "execute_result"
    }
   ],
   "source": [
    "test_phrase = 'This is a string with some numbers 1233 and a symbol #hashtag'\n",
    "\n",
    "test_patterns=[ r'\\d+', # sequence of digits: ['1233']\n",
    "                r'\\D+', # sequence of non-digits: ['This is a string with some numbers ', ' and a symbol #hashtag']\n",
    "                r'\\s+', # sequence of whitespace: [' ', ' ', ' ', ' ', ' ', ' ', ' ', ' ', ' ', ' ', ' ']\n",
    "                r'\\S+', # sequence of non-whitespace: ['This', 'is', 'a', 'string', 'with', 'some', 'numbers', '1233', 'and', 'a', 'symbol', '#hashtag']\n",
    "                r'\\w+', # alphanumeric characters: ['This', 'is', 'a', 'string', 'with', 'some', 'numbers', '1233', 'and', 'a', 'symbol', 'hashtag']\n",
    "                r'\\W+', # non-alphanumeric: [' ', ' ', ' ', ' ', ' ', ' ', ' ', ' ', ' ', ' ', ' #']\n",
    "                ]\n",
    "\n",
    "multi_re_find(test_patterns,test_phrase)\n",
    "'''Upper case: means NON-...'''"
   ]
  },
  {
   "cell_type": "markdown",
   "metadata": {},
   "source": [
    "### 29. StringIO:"
   ]
  },
  {
   "cell_type": "code",
   "execution_count": 342,
   "metadata": {},
   "outputs": [],
   "source": [
    "# 1. StringIO:\n",
    "import io"
   ]
  },
  {
   "cell_type": "code",
   "execution_count": 343,
   "metadata": {},
   "outputs": [
    {
     "data": {
      "text/plain": [
       "'This is just a normal string.'"
      ]
     },
     "execution_count": 343,
     "metadata": {},
     "output_type": "execute_result"
    }
   ],
   "source": [
    "message = 'This is just a normal string.'\n",
    "file = io.StringIO(message)\n",
    "\n",
    "file.read()"
   ]
  },
  {
   "cell_type": "code",
   "execution_count": 344,
   "metadata": {},
   "outputs": [
    {
     "data": {
      "text/plain": [
       "''"
      ]
     },
     "execution_count": 344,
     "metadata": {},
     "output_type": "execute_result"
    }
   ],
   "source": [
    "file.write('Another string.')\n",
    "file.read() #No content as the file has finished reading till the end."
   ]
  },
  {
   "cell_type": "code",
   "execution_count": 345,
   "metadata": {},
   "outputs": [
    {
     "data": {
      "text/plain": [
       "'This is just a normal string.Another string.'"
      ]
     },
     "execution_count": 345,
     "metadata": {},
     "output_type": "execute_result"
    }
   ],
   "source": [
    "file.seek(0) # As same as FileIO, we have to go back to the beginning by 'seek(X)'.\n",
    "file.read()"
   ]
  },
  {
   "cell_type": "markdown",
   "metadata": {},
   "source": [
    "### 30. Advanced Number:\n"
   ]
  },
  {
   "cell_type": "code",
   "execution_count": 348,
   "metadata": {},
   "outputs": [
    {
     "data": {
      "text/plain": [
       "'0xdc'"
      ]
     },
     "execution_count": 348,
     "metadata": {},
     "output_type": "execute_result"
    }
   ],
   "source": [
    "# 1. Hexadecimal:\n",
    "# Using the function hex() you can convert numbers into a hexadecimal format:\n",
    "\n",
    "hex(220) #'0xdc'\n",
    "hex(\"you\") # ERROR:'str' object cannot be interpreted as an integer"
   ]
  },
  {
   "cell_type": "code",
   "execution_count": 350,
   "metadata": {},
   "outputs": [
    {
     "data": {
      "text/plain": [
       "'0b11110000'"
      ]
     },
     "execution_count": 350,
     "metadata": {},
     "output_type": "execute_result"
    }
   ],
   "source": [
    "bin(240) # 0b11110000\n",
    "bin(-240) #'-0b11110000'"
   ]
  },
  {
   "cell_type": "code",
   "execution_count": 352,
   "metadata": {},
   "outputs": [
    {
     "name": "stdout",
     "output_type": "stream",
     "text": [
      "16\n",
      "16\n",
      "1\n"
     ]
    }
   ],
   "source": [
    "print(2**4) # 16\n",
    "print(pow(2,4)) # 16 \n",
    "print(pow(2,4,3)) # 1"
   ]
  },
  {
   "cell_type": "code",
   "execution_count": 354,
   "metadata": {},
   "outputs": [
    {
     "name": "stdout",
     "output_type": "stream",
     "text": [
      "3.13\n",
      "3.13\n"
     ]
    }
   ],
   "source": [
    "print(abs(3.13))\n",
    "print(abs(-3.13))"
   ]
  },
  {
   "cell_type": "code",
   "execution_count": 357,
   "metadata": {},
   "outputs": [
    {
     "name": "stdout",
     "output_type": "stream",
     "text": [
      "3\n",
      "-3\n",
      "3.14\n",
      "-3.14\n",
      "-3.146\n"
     ]
    }
   ],
   "source": [
    "print(round(3.14))\n",
    "print(round(-3.14))\n",
    "print(round(3.1415926, 2))\n",
    "print(round(-3.1415926, 2))\n",
    "print(round(-3.1456789, 3))"
   ]
  },
  {
   "cell_type": "markdown",
   "metadata": {},
   "source": [
    "### 31.Advanced String:"
   ]
  },
  {
   "cell_type": "code",
   "execution_count": 365,
   "metadata": {},
   "outputs": [
    {
     "name": "stdout",
     "output_type": "stream",
     "text": [
      "hello isupper?: False\n",
      "hello islower?: True\n",
      "Hello\n",
      "Hello isupper?: False\n",
      "Hello islower?: False\n"
     ]
    }
   ],
   "source": [
    "#1. capitalize, upper/isupper, lower/islower:\n",
    "string_test1 = 'hello'\n",
    "\n",
    "print(\"%s isupper?:\" %string_test1, string_test1.isupper())\n",
    "print(\"%s islower?:\" %string_test1, string_test1.islower())\n",
    "\n",
    "temp_str = string_test1.capitalize() #Caplitalize the 1st letter.\n",
    "\n",
    "print(temp_str)\n",
    "print(\"%s isupper?:\" %temp_str, temp_str.isupper()) # All characters should be upper!\n",
    "print(\"%s islower?:\" %temp_str, temp_str.islower()) # All characters should be lower!"
   ]
  },
  {
   "cell_type": "code",
   "execution_count": 368,
   "metadata": {},
   "outputs": [
    {
     "name": "stdout",
     "output_type": "stream",
     "text": [
      "2\n",
      "1\n",
      "0\n"
     ]
    }
   ],
   "source": [
    "# 2. Count the letter(s):\n",
    "print(string_test1.count('l')) #2\n",
    "print(string_test1.count('lo'))#1\n",
    "print(string_test1.count('u')) #0"
   ]
  },
  {
   "cell_type": "code",
   "execution_count": 369,
   "metadata": {},
   "outputs": [
    {
     "data": {
      "text/plain": [
       "3"
      ]
     },
     "execution_count": 369,
     "metadata": {},
     "output_type": "execute_result"
    }
   ],
   "source": [
    "# 3.Find the 1st index of some letter:\n",
    "string_test1.find('lo')"
   ]
  },
  {
   "cell_type": "code",
   "execution_count": 372,
   "metadata": {},
   "outputs": [
    {
     "name": "stdout",
     "output_type": "stream",
     "text": [
      "zzzzzzzzhellozzzzzzzz\n",
      "zzhellozzz\n"
     ]
    }
   ],
   "source": [
    "# 4. center(total_len, filled_with_XXX):\n",
    "print(string_test1.center(21, 'z'))\n",
    "print(string_test1.center(10, 'z'))"
   ]
  },
  {
   "cell_type": "code",
   "execution_count": 375,
   "metadata": {},
   "outputs": [
    {
     "name": "stdout",
     "output_type": "stream",
     "text": [
      "hello\tworld\n",
      "hello \tworld\n",
      "hello \t world\n"
     ]
    }
   ],
   "source": [
    "# 5. \"\\t\"：\n",
    "print(\"hello\\tworld\")\n",
    "print(\"hello \\tworld\")\n",
    "print(\"hello \\t world\")"
   ]
  },
  {
   "cell_type": "code",
   "execution_count": 379,
   "metadata": {},
   "outputs": [
    {
     "name": "stdout",
     "output_type": "stream",
     "text": [
      "hello\tworld\n",
      "hello world\n"
     ]
    }
   ],
   "source": [
    "# 5.1 expand tabs:\n",
    "s = \"hello\\tworld\"\n",
    "s.expandtabs().expandtabs()\n",
    "print(s)\n",
    "\n",
    "s1 = \"hello world\"\n",
    "print(s1.expandtabs()) #Just work on the string with \\t."
   ]
  },
  {
   "cell_type": "code",
   "execution_count": 386,
   "metadata": {},
   "outputs": [
    {
     "name": "stdout",
     "output_type": "stream",
     "text": [
      "False\n",
      "False\n",
      "True\n",
      "True\n",
      "True\n"
     ]
    }
   ],
   "source": [
    "# 6.isalnum(): isalnum() will return True if all characters in s are alphanumeric\n",
    "s1 = \"hello world\" #Space here...\n",
    "print(s1.isalnum())\n",
    "\n",
    "s2 = \"hello_world\" #Some sign here.\n",
    "print(s2.isalnum())\n",
    "\n",
    "s3 = \"helloworld\"\n",
    "print(s3.isalnum())\n",
    "\n",
    "s4 = \"helloworld2\"\n",
    "print(s4.isalnum())\n",
    "\n",
    "s5 = \"3048\"\n",
    "print(s5.isalnum())"
   ]
  },
  {
   "cell_type": "code",
   "execution_count": 388,
   "metadata": {},
   "outputs": [
    {
     "name": "stdout",
     "output_type": "stream",
     "text": [
      "False\n",
      "False\n",
      "True\n"
     ]
    }
   ],
   "source": [
    "# 7. isspace(): will return True if all characters in string are whitespace.\n",
    "print(s1.isspace()) #s1 = \"hello world\" \n",
    "print(s2.isspace()) #s2 = \"hello_world\"\n",
    "print(\"    \".isspace()) #ALL spaces!"
   ]
  },
  {
   "cell_type": "code",
   "execution_count": 391,
   "metadata": {},
   "outputs": [
    {
     "name": "stdout",
     "output_type": "stream",
     "text": [
      "False\n",
      "False\n",
      "False\n",
      "True\n"
     ]
    }
   ],
   "source": [
    "# 8. isalpha(): will return True if all characters in s are alphabetic.\n",
    "# s1 = \"hello world\"\n",
    "# s4 = \"helloworld2\"\n",
    "# s5 = \"3048\"\n",
    "# s3 = \"helloworld\"\n",
    "\n",
    "print(s1.isalpha())\n",
    "print(s4.isalpha())\n",
    "print(s5.isalpha())\n",
    "print(s3.isalpha())"
   ]
  },
  {
   "cell_type": "code",
   "execution_count": 394,
   "metadata": {},
   "outputs": [
    {
     "name": "stdout",
     "output_type": "stream",
     "text": [
      "False\n",
      "False\n",
      "True\n",
      "False\n",
      "True\n"
     ]
    }
   ],
   "source": [
    "# 9. istitle():\n",
    "# will return True if s** is a title cased string and there is at least one character in **s,\n",
    "# i.e. uppercase characters may only follow uncased characters and lowercase characters only cased ones. \n",
    "# It returns False otherwise.\n",
    "\n",
    "print(s1.istitle()) #False\n",
    "\n",
    "s6 = \"Hello world\"\n",
    "s7 = \"Hello World!\"\n",
    "s8 = \"HELLO WORLD\"\n",
    "s9 = \"Hello World\"\n",
    "\n",
    "print(s6.istitle()) #False\n",
    "print(s7.istitle()) #True \n",
    "print(s8.istitle()) #False\n",
    "print(s9.istitle()) #True"
   ]
  },
  {
   "cell_type": "code",
   "execution_count": 401,
   "metadata": {},
   "outputs": [
    {
     "name": "stdout",
     "output_type": "stream",
     "text": [
      "True\n",
      "False\n",
      "True\n",
      "False\n"
     ]
    },
    {
     "ename": "TypeError",
     "evalue": "endswith first arg must be str or a tuple of str, not int",
     "output_type": "error",
     "traceback": [
      "\u001b[1;31m---------------------------------------------------------------------------\u001b[0m",
      "\u001b[1;31mTypeError\u001b[0m                                 Traceback (most recent call last)",
      "\u001b[1;32m<ipython-input-401-e608ae93f1ff>\u001b[0m in \u001b[0;36m<module>\u001b[1;34m\u001b[0m\n\u001b[0;32m      8\u001b[0m \u001b[1;33m\u001b[0m\u001b[0m\n\u001b[0;32m      9\u001b[0m \u001b[0ms10\u001b[0m \u001b[1;33m=\u001b[0m \u001b[1;36m38491\u001b[0m\u001b[1;33m\u001b[0m\u001b[1;33m\u001b[0m\u001b[0m\n\u001b[1;32m---> 10\u001b[1;33m \u001b[0mprint\u001b[0m\u001b[1;33m(\u001b[0m\u001b[0ms6\u001b[0m\u001b[1;33m.\u001b[0m\u001b[0mendswith\u001b[0m\u001b[1;33m(\u001b[0m\u001b[1;36m1\u001b[0m\u001b[1;33m)\u001b[0m\u001b[1;33m)\u001b[0m \u001b[1;31m#ERROR:endswith first arg must be str or a tuple of str, not int\u001b[0m\u001b[1;33m\u001b[0m\u001b[1;33m\u001b[0m\u001b[0m\n\u001b[0m\u001b[0;32m     11\u001b[0m \u001b[1;33m\u001b[0m\u001b[0m\n",
      "\u001b[1;31mTypeError\u001b[0m: endswith first arg must be str or a tuple of str, not int"
     ]
    }
   ],
   "source": [
    "# 10. endswith(): is essentially the same as a boolean check on s[-1].\n",
    "# s6 = \"Hello world\"\n",
    "\n",
    "print(s6.endswith('d')) #True\n",
    "print(s6.endswith('od')) #False\n",
    "print(s6.endswith('ld')) #True\n",
    "print(s6.endswith('1')) #False\n",
    "\n",
    "s10 = 38491\n",
    "print(s6.endswith(1)) #ERROR:endswith first arg must be str or a tuple of str, not int\n",
    "\n"
   ]
  },
  {
   "cell_type": "code",
   "execution_count": 403,
   "metadata": {},
   "outputs": [
    {
     "name": "stdout",
     "output_type": "stream",
     "text": [
      "['h', 'hh', '', '', '', 'h', 'h', 'h hhh']\n"
     ]
    }
   ],
   "source": [
    "# 11. split & partition:\n",
    "s11 = \"hihhiiiihihih hhh\"\n",
    "print(s11.split('i'))"
   ]
  },
  {
   "cell_type": "code",
   "execution_count": 404,
   "metadata": {},
   "outputs": [
    {
     "name": "stdout",
     "output_type": "stream",
     "text": [
      "('h', 'i', 'hhiiiihihih hhh')\n"
     ]
    }
   ],
   "source": [
    "s11 = \"hihhiiiihihih hhh\"\n",
    "print(s11.partition('i')) # ('h', 'i', 'hhiiiihihih hhh') 1st part, seperator, end half.\n",
    "\n",
    "# partition(): return a tuple that includes the first occurrence of the separator sandwiched \n",
    "# between the first half and the end half."
   ]
  },
  {
   "cell_type": "markdown",
   "metadata": {},
   "source": [
    "### 31. Advanced Sets:"
   ]
  },
  {
   "cell_type": "code",
   "execution_count": 408,
   "metadata": {},
   "outputs": [
    {
     "name": "stdout",
     "output_type": "stream",
     "text": [
      "{'apple', 'peach', 'orange'}\n"
     ]
    }
   ],
   "source": [
    "#1. add():\n",
    "s = set()\n",
    "s.add(\"peach\")\n",
    "s.add(\"peach\")\n",
    "\n",
    "s.add(\"apple\")\n",
    "s.add(\"orange\")\n",
    "\n",
    "print(s) #Set is UNIQUE and UN-Ordered."
   ]
  },
  {
   "cell_type": "code",
   "execution_count": 409,
   "metadata": {},
   "outputs": [
    {
     "name": "stdout",
     "output_type": "stream",
     "text": [
      "set()\n"
     ]
    }
   ],
   "source": [
    "#2. clear()\n",
    "s.clear()\n",
    "print(s)"
   ]
  },
  {
   "cell_type": "code",
   "execution_count": 412,
   "metadata": {},
   "outputs": [
    {
     "name": "stdout",
     "output_type": "stream",
     "text": [
      "{'apple', 'banana', 'orange', 'peach', 'pineapple'}\n",
      "{'apple', 'peach', 'orange'}\n"
     ]
    }
   ],
   "source": [
    "#3. copy():\n",
    "s1 = {'apple', 'peach', 'orange'}\n",
    "s2 = {'apple', 'peach', 'orange','pineapple', 'banana'}\n",
    "\n",
    "s3 = s2.copy()\n",
    "print(s3)\n",
    "\n",
    "s3 = s1.copy() #will be overwritten.\n",
    "print(s3)"
   ]
  },
  {
   "cell_type": "code",
   "execution_count": 413,
   "metadata": {},
   "outputs": [
    {
     "name": "stdout",
     "output_type": "stream",
     "text": [
      "{'apple', 'added-item', 'peach', 'orange'}\n",
      "{'apple', 'peach', 'orange'}\n"
     ]
    }
   ],
   "source": [
    "# 3.1 Check difference after copying:\n",
    "s3.add('added-item')\n",
    "\n",
    "print(s3)\n",
    "print(s1) #The original will be the same as before."
   ]
  },
  {
   "cell_type": "code",
   "execution_count": 417,
   "metadata": {},
   "outputs": [
    {
     "name": "stdout",
     "output_type": "stream",
     "text": [
      "{'added-item'}\n",
      "{'added-item'}\n",
      "set()\n",
      "{'banana', 'pineapple'}\n"
     ]
    }
   ],
   "source": [
    "#4. difference():\n",
    "#s1 = {'apple', 'peach', 'orange'}\n",
    "#s3 = {'apple', 'added-item', 'peach', 'orange'}\n",
    "#s2 = {'apple', 'peach', 'orange','pineapple', 'banana'}\n",
    "\n",
    "print(s3.difference(s1)) #{'added-item'}\n",
    "print(s3.difference(s2)) #{'added-item'}\n",
    "\n",
    "print(s1.difference(s3)) #set()\n",
    "print(s2.difference(s3)) #{'banana', 'pineapple'}\n",
    "'''The previous one-the argument one.'''"
   ]
  },
  {
   "cell_type": "code",
   "execution_count": 423,
   "metadata": {},
   "outputs": [
    {
     "name": "stdout",
     "output_type": "stream",
     "text": [
      "set()\n",
      "{'banana', 'pineapple'}\n",
      "{'added-item'}\n"
     ]
    }
   ],
   "source": [
    "#5. different_update()--KEEP DIFFERENCE.\n",
    "# set1.difference_update(set2): the method returns set1 after removing elements found in set2\n",
    "\n",
    "s1 = {'apple', 'peach', 'orange'}\n",
    "s2 = {'apple', 'peach', 'orange','pineapple', 'banana'}\n",
    "\n",
    "s1.difference_update(s2) #set()\n",
    "print(s1)\n",
    "\n",
    "\n",
    "s1 = {'apple', 'peach', 'orange'}\n",
    "s2 = {'apple', 'peach', 'orange','pineapple', 'banana'}\n",
    "\n",
    "s2.difference_update(s1) # {'banana','pineapple'}\n",
    "print(s2) #{'banana', 'pineapple'}\n",
    "\n",
    "s2 = {'apple', 'peach', 'orange','pineapple', 'banana'}\n",
    "s3 = {'apple', 'peach', 'orange','added-item'}\n",
    "s3.difference_update(s2) #'added-item'\n",
    "print(s3) #{'added-item'}"
   ]
  },
  {
   "cell_type": "code",
   "execution_count": 428,
   "metadata": {},
   "outputs": [
    {
     "name": "stdout",
     "output_type": "stream",
     "text": [
      "None\n",
      "{'apple', 'orange'}\n",
      "{'apple', 'banana', 'orange', 'peach', 'pineapple'}\n",
      "{'apple', 'orange', 'peach', 'pineapple'}\n",
      "{'apple', 'orange', 'peach', 'pineapple'}\n"
     ]
    }
   ],
   "source": [
    "#6.Discard():\n",
    "print(s1.discard('peach')) #None\n",
    "print(s1) # s1={'apple', 'orange'}\n",
    "\n",
    "s11 = {'apple', 'peach', 'orange','pineapple', 'banana'}\n",
    "s12 = {'apple', 'peach'}\n",
    "s11.discard(s12) # {'apple', 'banana', 'orange', 'peach', 'pineapple'}\n",
    "print(s11)\n",
    "\n",
    "s11.discard('banana') #{'apple', 'orange', 'peach', 'pineapple'}\n",
    "print(s11)\n",
    "\n",
    "s11.discard('new-item') #{'apple', 'orange', 'peach', 'pineapple'}\n",
    "print(s11)"
   ]
  },
  {
   "cell_type": "code",
   "execution_count": 438,
   "metadata": {},
   "outputs": [
    {
     "name": "stdout",
     "output_type": "stream",
     "text": [
      "{'apple', 'peach'}\n",
      "{'apple', 'banana', 'orange', 'peach', 'pineapple'}\n",
      "{'apple', 'peach', 'newitem'}\n"
     ]
    }
   ],
   "source": [
    "#7.intersection():\n",
    "s11 = {'apple', 'peach', 'orange','pineapple', 'banana'}\n",
    "s12 = {'apple', 'peach', 'newitem'}\n",
    "\n",
    "print(s11.intersection(s12)) #{'apple', 'peach'}\n",
    "print(s11)\n",
    "print(s12)"
   ]
  },
  {
   "cell_type": "code",
   "execution_count": 446,
   "metadata": {},
   "outputs": [
    {
     "name": "stdout",
     "output_type": "stream",
     "text": [
      "{'apple', 'peach'}\n"
     ]
    }
   ],
   "source": [
    "#8. intersection_update():-交集\n",
    "# intersection_update will update a set with the intersection of itself and another.\n",
    "s11 = {'apple', 'peach', 'orange','pineapple', 'banana'}\n",
    "s12 = {'apple', 'peach', 'newitem'}\n",
    "\n",
    "s12.intersection_update(s11)\n",
    "print(s12)"
   ]
  },
  {
   "cell_type": "code",
   "execution_count": 445,
   "metadata": {},
   "outputs": [
    {
     "data": {
      "text/plain": [
       "{1, 3}"
      ]
     },
     "execution_count": 445,
     "metadata": {},
     "output_type": "execute_result"
    }
   ],
   "source": [
    "s11={1,3,5,6}\n",
    "s12={1,3,4,8}\n",
    "\n",
    "s12.intersection_update(s11)\n",
    "s12"
   ]
  },
  {
   "cell_type": "code",
   "execution_count": 526,
   "metadata": {},
   "outputs": [
    {
     "name": "stdout",
     "output_type": "stream",
     "text": [
      "{'orange', 'banana', 'pineapple'}\n",
      "{'apple', 'banana', 'orange', 'peach', 'pineapple'}\n"
     ]
    }
   ],
   "source": [
    "#12.Symmetric_difference():\n",
    "# Return the symmetric difference of two sets as a new set.(i.e. all elements that are in exactly one of the sets.)\n",
    "s11 = {'apple', 'peach', 'orange','pineapple', 'banana'}\n",
    "s12 = {'apple', 'peach'}\n",
    "\n",
    "print(s11.symmetric_difference(s12)) #{'orange', 'banana', 'pineapple'}\n",
    "print(s11)"
   ]
  },
  {
   "cell_type": "code",
   "execution_count": 528,
   "metadata": {},
   "outputs": [
    {
     "name": "stdout",
     "output_type": "stream",
     "text": [
      "{2, 7}\n",
      "{2, 7}\n"
     ]
    }
   ],
   "source": [
    "set1 = {2,3,1,5,6,8}\n",
    "set2 = {3,1,7,5,6,8}\n",
    "\n",
    "print(set2.symmetric_difference(set1)) #{2, 7}\n",
    "print(set1.symmetric_difference(set2)) #{2, 7}"
   ]
  },
  {
   "cell_type": "code",
   "execution_count": 461,
   "metadata": {},
   "outputs": [
    {
     "name": "stdout",
     "output_type": "stream",
     "text": [
      "{'orange', 'banana', 'pineapple'}\n"
     ]
    },
    {
     "data": {
      "text/plain": [
       "'Update a set with the symmetric difference of itself and another.\\nType:  builtin_function_or_method'"
      ]
     },
     "execution_count": 461,
     "metadata": {},
     "output_type": "execute_result"
    }
   ],
   "source": [
    "#13. Symmetric difference update():\n",
    "s11 = {'apple', 'peach', 'orange','pineapple', 'banana'}\n",
    "s12 = {'apple', 'peach'}\n",
    "\n",
    "s12.symmetric_difference_update(s11)\n",
    "print(s12) #{'orange', 'banana', 'pineapple'}\n",
    "\n",
    "'''Update a set with the symmetric difference of itself and another.\n",
    "Type:  builtin_function_or_method'''"
   ]
  },
  {
   "cell_type": "code",
   "execution_count": 462,
   "metadata": {},
   "outputs": [
    {
     "name": "stdout",
     "output_type": "stream",
     "text": [
      "{'banana', 'orange', 'pineapple'}\n"
     ]
    }
   ],
   "source": [
    "s11 = {'apple', 'peach', 'orange','pineapple', 'banana'}\n",
    "s12 = {'apple', 'peach'}\n",
    "\n",
    "s11.symmetric_difference_update(s12) #{'orange', 'banana', 'pineapple'}\n",
    "print(s11)"
   ]
  },
  {
   "cell_type": "code",
   "execution_count": 447,
   "metadata": {},
   "outputs": [
    {
     "data": {
      "text/plain": [
       "True"
      ]
     },
     "execution_count": 447,
     "metadata": {},
     "output_type": "execute_result"
    }
   ],
   "source": [
    "#9.isdisjoint():\n",
    "#  return True if two sets have a null intersection.\n",
    "s11 = {'orange','pineapple', 'banana'}\n",
    "s12 = {'apple', 'peach', 'newitem'}\n",
    "\n",
    "s11.isdisjoint(s12)"
   ]
  },
  {
   "cell_type": "code",
   "execution_count": 448,
   "metadata": {},
   "outputs": [
    {
     "data": {
      "text/plain": [
       "False"
      ]
     },
     "execution_count": 448,
     "metadata": {},
     "output_type": "execute_result"
    }
   ],
   "source": [
    "s11 = {'apple', 'peach', 'orange','pineapple', 'banana'}\n",
    "s12 = {'apple', 'peach', 'newitem'}\n",
    "\n",
    "s11.isdisjoint(s12)"
   ]
  },
  {
   "cell_type": "code",
   "execution_count": 451,
   "metadata": {},
   "outputs": [
    {
     "name": "stdout",
     "output_type": "stream",
     "text": [
      "False\n",
      "False\n"
     ]
    }
   ],
   "source": [
    "#10. issubset():\n",
    "s11 = {'apple', 'peach', 'orange','pineapple', 'banana'}\n",
    "s12 = {'apple', 'peach', 'newitem'}\n",
    "\n",
    "print(s11.issubset(s12))\n",
    "print(s12.issubset(s11))"
   ]
  },
  {
   "cell_type": "code",
   "execution_count": 452,
   "metadata": {},
   "outputs": [
    {
     "name": "stdout",
     "output_type": "stream",
     "text": [
      "True\n"
     ]
    }
   ],
   "source": [
    "s11 = {'apple', 'peach', 'orange','pineapple', 'banana'}\n",
    "s12 = {'apple', 'peach'}\n",
    "\n",
    "print(s12.issubset(s11)) #Subset.issubset(superset)"
   ]
  },
  {
   "cell_type": "code",
   "execution_count": 456,
   "metadata": {},
   "outputs": [
    {
     "name": "stdout",
     "output_type": "stream",
     "text": [
      "True\n",
      "False\n"
     ]
    }
   ],
   "source": [
    "#11. issuperset():\n",
    "s11 = {'apple', 'peach', 'orange','pineapple', 'banana'}\n",
    "s12 = {'apple', 'peach'}\n",
    "\n",
    "print(s11.issuperset(s12)) #True\n",
    "print(s12.issuperset(s11)) #False\n",
    "#False"
   ]
  },
  {
   "cell_type": "code",
   "execution_count": 464,
   "metadata": {},
   "outputs": [
    {
     "name": "stdout",
     "output_type": "stream",
     "text": [
      "{'apple', 'banana', 'orange', 'peach', 'pineapple'}\n",
      "{'apple', 'peach', 'banana'} {'banana', 'orange', 'pineapple'}\n"
     ]
    }
   ],
   "source": [
    "#14.union():\n",
    "s1={'orange','pineapple', 'banana'}\n",
    "s2={'apple', 'peach','banana'}\n",
    "\n",
    "print(s2.union(s1)) #{'apple', 'banana', 'orange', 'peach', 'pineapple'}\n",
    "print(s2, s1)"
   ]
  },
  {
   "cell_type": "code",
   "execution_count": 467,
   "metadata": {},
   "outputs": [
    {
     "name": "stdout",
     "output_type": "stream",
     "text": [
      "{'apple', 'banana', 'orange', 'peach', 'pineapple'}\n"
     ]
    }
   ],
   "source": [
    "#15. update():\n",
    "# Update a set with the union of itself and others.\n",
    "s1={'orange','pineapple', 'banana'}\n",
    "s2={'apple', 'peach','banana'}\n",
    "\n",
    "s2.update(s1) #{'apple', 'banana', 'orange', 'peach', 'pineapple'}\n",
    "print(s2)"
   ]
  },
  {
   "cell_type": "markdown",
   "metadata": {},
   "source": [
    "### 32.Advanced Dictionary:\n",
    "#### 1. Dictionary comprehension:\n",
    "#### 2. Iteration over items, keys, values.\n",
    "#### 3. Viewing keys, values and items"
   ]
  },
  {
   "cell_type": "code",
   "execution_count": 469,
   "metadata": {},
   "outputs": [
    {
     "name": "stdout",
     "output_type": "stream",
     "text": [
      "{0: 0, 1: 1, 2: 4, 3: 9, 4: 16, 5: 25, 6: 36, 7: 49, 8: 64, 9: 81}\n"
     ]
    }
   ],
   "source": [
    "#1. Dictionary comprehension:\n",
    "print({x: x**2 for x in range(10)})"
   ]
  },
  {
   "cell_type": "code",
   "execution_count": 471,
   "metadata": {},
   "outputs": [
    {
     "name": "stdout",
     "output_type": "stream",
     "text": [
      "{'a': 0, 'b': 1, 'c': 4}\n"
     ]
    }
   ],
   "source": [
    "print({k:v**2 for k,v in zip(['a','b','c'], range(3))})"
   ]
  },
  {
   "cell_type": "code",
   "execution_count": 475,
   "metadata": {},
   "outputs": [
    {
     "name": "stdout",
     "output_type": "stream",
     "text": [
      "k1\n",
      "k2\n",
      "k3\n",
      "4\n",
      "9\n",
      "21\n",
      "('k1', 4)\n",
      "('k2', 9)\n",
      "('k3', 21)\n"
     ]
    }
   ],
   "source": [
    "#2. Iteration over keys, values, and items\n",
    "dic = {'k1': 4, 'k2':9, 'k3':21}\n",
    "\n",
    "for key in dic.keys():\n",
    "    print(key)\n",
    "    \n",
    "for value in dic.values():\n",
    "    print(value)\n",
    "    \n",
    "for item in dic.items():\n",
    "    print(item)"
   ]
  },
  {
   "cell_type": "code",
   "execution_count": 477,
   "metadata": {},
   "outputs": [
    {
     "name": "stdout",
     "output_type": "stream",
     "text": [
      "dict_keys(['k1', 'k2', 'k3'])\n"
     ]
    }
   ],
   "source": [
    "# 3. Viewing keys, values and items\n",
    "dic.keys()"
   ]
  },
  {
   "cell_type": "code",
   "execution_count": 480,
   "metadata": {},
   "outputs": [
    {
     "data": {
      "text/plain": [
       "21"
      ]
     },
     "execution_count": 480,
     "metadata": {},
     "output_type": "execute_result"
    }
   ],
   "source": [
    "dic['k3']"
   ]
  },
  {
   "cell_type": "markdown",
   "metadata": {},
   "source": [
    "### 33. Advanced List"
   ]
  },
  {
   "cell_type": "code",
   "execution_count": 509,
   "metadata": {},
   "outputs": [
    {
     "name": "stdout",
     "output_type": "stream",
     "text": [
      "[4, 2, 6, 7, 1, 9]\n",
      "[4, 2, 6, 7, 1, 9, [3, 5, 8], 8]\n",
      "[4, 2, 6, 7, 1, 3, 5]\n"
     ]
    }
   ],
   "source": [
    "#1. append & extend()\n",
    "l=[4,2,6,7,1]\n",
    "l.append(9)\n",
    "print(l)\n",
    "\n",
    "l.append([3,5,8]) #Extend the list to be one LIST.\n",
    "l.append(8)\n",
    "print(l)\n",
    "\n",
    "l2=[4,2,6,7,1]\n",
    "l2.extend([3,5]) # Extend the list/objects as individual obj.\n",
    "print(l2)"
   ]
  },
  {
   "cell_type": "code",
   "execution_count": 510,
   "metadata": {},
   "outputs": [
    {
     "name": "stdout",
     "output_type": "stream",
     "text": [
      "[4, 2, 6, 7, 1, 9, [3, 5, 8], 8]\n",
      "1\n"
     ]
    }
   ],
   "source": [
    "#2. count():\n",
    "print(l)\n",
    "print(l.count(8)) #Count the time of some obj([3,5,8] is an entire obj, not for 8.)"
   ]
  },
  {
   "cell_type": "code",
   "execution_count": 511,
   "metadata": {},
   "outputs": [
    {
     "name": "stdout",
     "output_type": "stream",
     "text": [
      "2\n"
     ]
    },
    {
     "ename": "ValueError",
     "evalue": "3 is not in list",
     "output_type": "error",
     "traceback": [
      "\u001b[1;31m---------------------------------------------------------------------------\u001b[0m",
      "\u001b[1;31mValueError\u001b[0m                                Traceback (most recent call last)",
      "\u001b[1;32m<ipython-input-511-5fe8dca0f632>\u001b[0m in \u001b[0;36m<module>\u001b[1;34m\u001b[0m\n\u001b[0;32m      1\u001b[0m \u001b[1;31m#3. index():\u001b[0m\u001b[1;33m\u001b[0m\u001b[1;33m\u001b[0m\u001b[1;33m\u001b[0m\u001b[0m\n\u001b[0;32m      2\u001b[0m \u001b[0mprint\u001b[0m\u001b[1;33m(\u001b[0m\u001b[0ml\u001b[0m\u001b[1;33m.\u001b[0m\u001b[0mindex\u001b[0m\u001b[1;33m(\u001b[0m\u001b[1;36m6\u001b[0m\u001b[1;33m)\u001b[0m\u001b[1;33m)\u001b[0m \u001b[1;31m#2\u001b[0m\u001b[1;33m\u001b[0m\u001b[1;33m\u001b[0m\u001b[0m\n\u001b[1;32m----> 3\u001b[1;33m \u001b[0mprint\u001b[0m\u001b[1;33m(\u001b[0m\u001b[0ml\u001b[0m\u001b[1;33m.\u001b[0m\u001b[0mindex\u001b[0m\u001b[1;33m(\u001b[0m\u001b[1;36m3\u001b[0m\u001b[1;33m)\u001b[0m\u001b[1;33m)\u001b[0m \u001b[1;31m#ERROR:3 is not in list\u001b[0m\u001b[1;33m\u001b[0m\u001b[1;33m\u001b[0m\u001b[0m\n\u001b[0m",
      "\u001b[1;31mValueError\u001b[0m: 3 is not in list"
     ]
    }
   ],
   "source": [
    "#3. index():\n",
    "print(l.index(6)) #2\n",
    "print(l.index(3)) #ERROR:3 is not in list"
   ]
  },
  {
   "cell_type": "code",
   "execution_count": 516,
   "metadata": {},
   "outputs": [],
   "source": [
    "#4. insert():\n",
    "# takes in two arguments: insert(index,object) This method places the object at the index supplied. \n",
    "l.insert(7,'inserted')\n",
    "l.insert(11,'inserted')\n",
    "l.insert(222, 'MOREInserted') #If the index is beyond the range, it will insert to the end."
   ]
  },
  {
   "cell_type": "code",
   "execution_count": 517,
   "metadata": {},
   "outputs": [
    {
     "name": "stdout",
     "output_type": "stream",
     "text": [
      "[4, 2, 6, 1, 9, [3, 5, 8], 8, 'inserted', 'inserted', 'MOREInserted']\n"
     ]
    }
   ],
   "source": [
    "print(l)"
   ]
  },
  {
   "cell_type": "code",
   "execution_count": 518,
   "metadata": {},
   "outputs": [
    {
     "name": "stdout",
     "output_type": "stream",
     "text": [
      "[4, 2, 6, 1, 9, [3, 5, 8], 8, 'inserted', 'inserted']\n",
      "[4, 2, 6, 9, [3, 5, 8], 8, 'inserted', 'inserted']\n"
     ]
    },
    {
     "ename": "IndexError",
     "evalue": "pop index out of range",
     "output_type": "error",
     "traceback": [
      "\u001b[1;31m---------------------------------------------------------------------------\u001b[0m",
      "\u001b[1;31mIndexError\u001b[0m                                Traceback (most recent call last)",
      "\u001b[1;32m<ipython-input-518-bb88985701a2>\u001b[0m in \u001b[0;36m<module>\u001b[1;34m\u001b[0m\n\u001b[0;32m      6\u001b[0m \u001b[0mprint\u001b[0m\u001b[1;33m(\u001b[0m\u001b[0ml\u001b[0m\u001b[1;33m)\u001b[0m\u001b[1;33m\u001b[0m\u001b[1;33m\u001b[0m\u001b[0m\n\u001b[0;32m      7\u001b[0m \u001b[1;33m\u001b[0m\u001b[0m\n\u001b[1;32m----> 8\u001b[1;33m \u001b[0ml\u001b[0m\u001b[1;33m.\u001b[0m\u001b[0mpop\u001b[0m\u001b[1;33m(\u001b[0m\u001b[1;36m222\u001b[0m\u001b[1;33m)\u001b[0m \u001b[1;31m# ERROR: pop index out of range\u001b[0m\u001b[1;33m\u001b[0m\u001b[1;33m\u001b[0m\u001b[0m\n\u001b[0m\u001b[0;32m      9\u001b[0m \u001b[0mprint\u001b[0m\u001b[1;33m(\u001b[0m\u001b[0ml\u001b[0m\u001b[1;33m)\u001b[0m\u001b[1;33m\u001b[0m\u001b[1;33m\u001b[0m\u001b[0m\n",
      "\u001b[1;31mIndexError\u001b[0m: pop index out of range"
     ]
    }
   ],
   "source": [
    "#5. pop():\n",
    "l.pop()\n",
    "print(l)\n",
    "\n",
    "l.pop(3) # pop(index)\n",
    "print(l)\n",
    "\n",
    "l.pop(222) # ERROR: pop index out of range\n",
    "print(l)"
   ]
  },
  {
   "cell_type": "code",
   "execution_count": 519,
   "metadata": {},
   "outputs": [
    {
     "name": "stdout",
     "output_type": "stream",
     "text": [
      "[4, 2, 6, 9, [3, 5, 8], 8, 'inserted', 'inserted']\n",
      "[4, 2, 6, 9, [3, 5, 8], 8, 'inserted']\n"
     ]
    }
   ],
   "source": [
    "#6. remove():\n",
    "# Removes the first occurrence of a value. \n",
    "print(l) #[4, 2, 6, 1, 9, [3, 5, 8], 'inserted', 'inserted', 8, 'MOREInserted']\n",
    "\n",
    "l.remove('inserted') # Removes the first occurrence of a value. \n",
    "print(l)"
   ]
  },
  {
   "cell_type": "code",
   "execution_count": 520,
   "metadata": {},
   "outputs": [],
   "source": [
    "#7.reverse():\n",
    "l.reverse()"
   ]
  },
  {
   "cell_type": "code",
   "execution_count": 521,
   "metadata": {},
   "outputs": [
    {
     "data": {
      "text/plain": [
       "['inserted', 8, [3, 5, 8], 9, 6, 2, 4]"
      ]
     },
     "execution_count": 521,
     "metadata": {},
     "output_type": "execute_result"
    }
   ],
   "source": [
    "l"
   ]
  },
  {
   "cell_type": "code",
   "execution_count": 522,
   "metadata": {},
   "outputs": [
    {
     "ename": "TypeError",
     "evalue": "'<' not supported between instances of 'int' and 'str'",
     "output_type": "error",
     "traceback": [
      "\u001b[1;31m---------------------------------------------------------------------------\u001b[0m",
      "\u001b[1;31mTypeError\u001b[0m                                 Traceback (most recent call last)",
      "\u001b[1;32m<ipython-input-522-9b952ae36c4d>\u001b[0m in \u001b[0;36m<module>\u001b[1;34m\u001b[0m\n\u001b[0;32m      1\u001b[0m \u001b[1;31m#8.sort()\u001b[0m\u001b[1;33m\u001b[0m\u001b[1;33m\u001b[0m\u001b[1;33m\u001b[0m\u001b[0m\n\u001b[1;32m----> 2\u001b[1;33m \u001b[0ml\u001b[0m\u001b[1;33m.\u001b[0m\u001b[0msort\u001b[0m\u001b[1;33m(\u001b[0m\u001b[1;33m)\u001b[0m\u001b[1;33m\u001b[0m\u001b[1;33m\u001b[0m\u001b[0m\n\u001b[0m\u001b[0;32m      3\u001b[0m \u001b[0ml\u001b[0m\u001b[1;33m\u001b[0m\u001b[1;33m\u001b[0m\u001b[0m\n",
      "\u001b[1;31mTypeError\u001b[0m: '<' not supported between instances of 'int' and 'str'"
     ]
    }
   ],
   "source": [
    "#8.sort()\n",
    "l.sort() #ERROR:'<' not supported between instances of 'int' and 'str'\n",
    "l"
   ]
  },
  {
   "cell_type": "code",
   "execution_count": 524,
   "metadata": {},
   "outputs": [
    {
     "data": {
      "text/plain": [
       "[4, 6, 12, 13, 23, 38, 56, 95]"
      ]
     },
     "execution_count": 524,
     "metadata": {},
     "output_type": "execute_result"
    }
   ],
   "source": [
    "l2=[38,13,4,95,23,56,12,6]\n",
    "l2.sort()\n",
    "l2"
   ]
  },
  {
   "cell_type": "code",
   "execution_count": 525,
   "metadata": {},
   "outputs": [
    {
     "data": {
      "text/plain": [
       "['a', 'op', 'sd', 'test']"
      ]
     },
     "execution_count": 525,
     "metadata": {},
     "output_type": "execute_result"
    }
   ],
   "source": [
    "l3=['sd','a','op','test']\n",
    "l3.sort()\n",
    "l3"
   ]
  },
  {
   "cell_type": "code",
   "execution_count": null,
   "metadata": {},
   "outputs": [],
   "source": []
  }
 ],
 "metadata": {
  "kernelspec": {
   "display_name": "Python 3",
   "language": "python",
   "name": "python3"
  },
  "language_info": {
   "codemirror_mode": {
    "name": "ipython",
    "version": 3
   },
   "file_extension": ".py",
   "mimetype": "text/x-python",
   "name": "python",
   "nbconvert_exporter": "python",
   "pygments_lexer": "ipython3",
   "version": "3.7.1"
  }
 },
 "nbformat": 4,
 "nbformat_minor": 2
}
