{
 "cells": [
  {
   "cell_type": "code",
   "execution_count": 13,
   "metadata": {},
   "outputs": [],
   "source": [
    "a=\"abcdefghijklmnop\""
   ]
  },
  {
   "cell_type": "code",
   "execution_count": 14,
   "metadata": {},
   "outputs": [
    {
     "data": {
      "text/plain": [
       "'abcdefghijklmnop'"
      ]
     },
     "execution_count": 14,
     "metadata": {},
     "output_type": "execute_result"
    }
   ],
   "source": [
    "a[0:] #Grab from index[0] to the end."
   ]
  },
  {
   "cell_type": "code",
   "execution_count": 15,
   "metadata": {},
   "outputs": [
    {
     "data": {
      "text/plain": [
       "'cdefghijklmnop'"
      ]
     },
     "execution_count": 15,
     "metadata": {},
     "output_type": "execute_result"
    }
   ],
   "source": [
    "a[2:] #Grab from index[2] c to the end."
   ]
  },
  {
   "cell_type": "code",
   "execution_count": 16,
   "metadata": {},
   "outputs": [
    {
     "data": {
      "text/plain": [
       "'abc'"
      ]
     },
     "execution_count": 16,
     "metadata": {},
     "output_type": "execute_result"
    }
   ],
   "source": [
    "a[:3] \n",
    "#Grab from the beginning to the one with index[3], \n",
    "#but the d with index of 3 will not be included."
   ]
  },
  {
   "cell_type": "code",
   "execution_count": 17,
   "metadata": {},
   "outputs": [
    {
     "data": {
      "text/plain": [
       "'def'"
      ]
     },
     "execution_count": 17,
     "metadata": {},
     "output_type": "execute_result"
    }
   ],
   "source": [
    "a[3:6]"
   ]
  },
  {
   "cell_type": "code",
   "execution_count": 18,
   "metadata": {},
   "outputs": [
    {
     "data": {
      "text/plain": [
       "'acegikmo'"
      ]
     },
     "execution_count": 18,
     "metadata": {},
     "output_type": "execute_result"
    }
   ],
   "source": [
    "#Step sides:\n",
    "a[::2] #Grab the letter with step side of 2."
   ]
  },
  {
   "cell_type": "code",
   "execution_count": 19,
   "metadata": {},
   "outputs": [
    {
     "data": {
      "text/plain": [
       "'cfil'"
      ]
     },
     "execution_count": 19,
     "metadata": {},
     "output_type": "execute_result"
    }
   ],
   "source": [
    "a[2:14:3] #a[2:14]:cdefghijklmn, with 3 step side:"
   ]
  },
  {
   "cell_type": "code",
   "execution_count": 20,
   "metadata": {},
   "outputs": [
    {
     "data": {
      "text/plain": [
       "'ponmlkjihgfedcba'"
      ]
     },
     "execution_count": 20,
     "metadata": {},
     "output_type": "execute_result"
    }
   ],
   "source": [
    "a[::-1]"
   ]
  },
  {
   "cell_type": "markdown",
   "metadata": {},
   "source": [
    "String immutability"
   ]
  },
  {
   "cell_type": "code",
   "execution_count": 23,
   "metadata": {},
   "outputs": [
    {
     "ename": "TypeError",
     "evalue": "'str' object does not support item assignment",
     "output_type": "error",
     "traceback": [
      "\u001b[1;31m---------------------------------------------------------------------------\u001b[0m",
      "\u001b[1;31mTypeError\u001b[0m                                 Traceback (most recent call last)",
      "\u001b[1;32m<ipython-input-23-5b6c8fc376c8>\u001b[0m in \u001b[0;36m<module>\u001b[1;34m\u001b[0m\n\u001b[1;32m----> 1\u001b[1;33m \u001b[0ma\u001b[0m\u001b[1;33m[\u001b[0m\u001b[1;36m1\u001b[0m\u001b[1;33m]\u001b[0m\u001b[1;33m=\u001b[0m\u001b[1;34m'c'\u001b[0m \u001b[1;31m#Error: TypeError: 'str' object does not support item assignment\u001b[0m\u001b[1;33m\u001b[0m\u001b[1;33m\u001b[0m\u001b[0m\n\u001b[0m",
      "\u001b[1;31mTypeError\u001b[0m: 'str' object does not support item assignment"
     ]
    }
   ],
   "source": [
    "a[1]='c' #Error: TypeError: 'str' object does not support item assignment"
   ]
  },
  {
   "cell_type": "code",
   "execution_count": 24,
   "metadata": {},
   "outputs": [
    {
     "data": {
      "text/plain": [
       "'accdefghijklmnop'"
      ]
     },
     "execution_count": 24,
     "metadata": {},
     "output_type": "execute_result"
    }
   ],
   "source": [
    "#Slicing+Adding:\n",
    "a[0]+'c'+a[2:]"
   ]
  },
  {
   "cell_type": "code",
   "execution_count": 25,
   "metadata": {},
   "outputs": [
    {
     "data": {
      "text/plain": [
       "'abcdefghijklmnopabcdefghijklmnopabcdefghijklmnop'"
      ]
     },
     "execution_count": 25,
     "metadata": {},
     "output_type": "execute_result"
    }
   ],
   "source": [
    "a*3"
   ]
  },
  {
   "cell_type": "code",
   "execution_count": 26,
   "metadata": {},
   "outputs": [],
   "source": [
    "b=\"Hi this is a string.\""
   ]
  },
  {
   "cell_type": "code",
   "execution_count": 27,
   "metadata": {},
   "outputs": [
    {
     "data": {
      "text/plain": [
       "['Hi', 'this', 'is', 'a', 'string.']"
      ]
     },
     "execution_count": 27,
     "metadata": {},
     "output_type": "execute_result"
    }
   ],
   "source": [
    "b.split() #Default split by space."
   ]
  },
  {
   "cell_type": "code",
   "execution_count": 28,
   "metadata": {},
   "outputs": [
    {
     "data": {
      "text/plain": [
       "['H', ' th', 's ', 's a str', 'ng.']"
      ]
     },
     "execution_count": 28,
     "metadata": {},
     "output_type": "execute_result"
    }
   ],
   "source": [
    "b.split('i') #Get the list of splited strings."
   ]
  },
  {
   "cell_type": "code",
   "execution_count": 31,
   "metadata": {},
   "outputs": [
    {
     "data": {
      "text/plain": [
       "'HI THIS IS A STRING.'"
      ]
     },
     "execution_count": 31,
     "metadata": {},
     "output_type": "execute_result"
    }
   ],
   "source": [
    "b.upper()"
   ]
  },
  {
   "cell_type": "code",
   "execution_count": 30,
   "metadata": {},
   "outputs": [
    {
     "data": {
      "text/plain": [
       "'hi this is a string.'"
      ]
     },
     "execution_count": 30,
     "metadata": {},
     "output_type": "execute_result"
    }
   ],
   "source": [
    "b.lower()"
   ]
  },
  {
   "cell_type": "markdown",
   "metadata": {},
   "source": [
    "### String format"
   ]
  },
  {
   "cell_type": "code",
   "execution_count": 36,
   "metadata": {},
   "outputs": [
    {
     "name": "stdout",
     "output_type": "stream",
     "text": [
      "The quick brown fox\n"
     ]
    }
   ],
   "source": [
    "print('The {} {} {}'.format('quick','brown','fox'))"
   ]
  },
  {
   "cell_type": "code",
   "execution_count": 35,
   "metadata": {},
   "outputs": [
    {
     "name": "stdout",
     "output_type": "stream",
     "text": [
      "The quick brown fox\n"
     ]
    }
   ],
   "source": [
    "print('The {1} {2} {0}'.format('fox','quick','brown'))"
   ]
  },
  {
   "cell_type": "code",
   "execution_count": 37,
   "metadata": {},
   "outputs": [
    {
     "name": "stdout",
     "output_type": "stream",
     "text": [
      "The quick brown fox\n"
     ]
    }
   ],
   "source": [
    "print('The {q} {b} {f}'.format(f='fox',q='quick',b='brown'))"
   ]
  },
  {
   "cell_type": "markdown",
   "metadata": {},
   "source": [
    "#### String format with 'f' in print"
   ]
  },
  {
   "cell_type": "code",
   "execution_count": 41,
   "metadata": {},
   "outputs": [],
   "source": [
    "f='fox'\n",
    "q='quick'\n",
    "b='brown'"
   ]
  },
  {
   "cell_type": "code",
   "execution_count": 42,
   "metadata": {},
   "outputs": [
    {
     "name": "stdout",
     "output_type": "stream",
     "text": [
      "The quick brown fox\n"
     ]
    }
   ],
   "source": [
    "print(f'The {q} {b} {f}') \n",
    "#Use f in 3.6 or higher version to make format more brief."
   ]
  },
  {
   "cell_type": "code",
   "execution_count": 43,
   "metadata": {},
   "outputs": [
    {
     "name": "stdout",
     "output_type": "stream",
     "text": [
      "Sam is 3 years old.\n"
     ]
    }
   ],
   "source": [
    "name='Sam'\n",
    "age=3\n",
    "print(f'{name} is {age} years old.')"
   ]
  },
  {
   "cell_type": "markdown",
   "metadata": {},
   "source": [
    "Decimal round with format"
   ]
  },
  {
   "cell_type": "code",
   "execution_count": 38,
   "metadata": {},
   "outputs": [],
   "source": [
    "a=104.1234556"
   ]
  },
  {
   "cell_type": "code",
   "execution_count": 39,
   "metadata": {},
   "outputs": [
    {
     "name": "stdout",
     "output_type": "stream",
     "text": [
      "The result is    104.123\n"
     ]
    }
   ],
   "source": [
    "print('The result is {result:10.3f}'.format(result=a)) \n",
    "#{float num:width.precision f}"
   ]
  },
  {
   "cell_type": "code",
   "execution_count": 40,
   "metadata": {},
   "outputs": [
    {
     "name": "stdout",
     "output_type": "stream",
     "text": [
      "The result is 104.1235\n"
     ]
    }
   ],
   "source": [
    "print('The result is {result:2.4f}'.format(result=a))"
   ]
  },
  {
   "cell_type": "markdown",
   "metadata": {},
   "source": [
    "### List Operation"
   ]
  },
  {
   "cell_type": "markdown",
   "metadata": {},
   "source": [
    "#### Indexing:"
   ]
  },
  {
   "cell_type": "code",
   "execution_count": 3,
   "metadata": {},
   "outputs": [
    {
     "name": "stdout",
     "output_type": "stream",
     "text": [
      "['one', 2, 3.5, 'four', 2, 'four']\n",
      "one\n",
      "3.5\n"
     ]
    }
   ],
   "source": [
    "list=['one',2,3.5,'four',2,'four'] #List items could be duplicated!\n",
    "print(list)\n",
    "print(list[0])\n",
    "print(list[2])"
   ]
  },
  {
   "cell_type": "markdown",
   "metadata": {},
   "source": [
    "#### Slicing-Similar to string operation."
   ]
  },
  {
   "cell_type": "code",
   "execution_count": 67,
   "metadata": {},
   "outputs": [
    {
     "name": "stdout",
     "output_type": "stream",
     "text": [
      "['one', 2]\n",
      "[2, 3.5, 'four']\n"
     ]
    }
   ],
   "source": [
    "print(list[:2]) \n",
    "print(list[1:4])"
   ]
  },
  {
   "cell_type": "markdown",
   "metadata": {},
   "source": [
    "#### Catenation-Similar to string operation."
   ]
  },
  {
   "cell_type": "code",
   "execution_count": 68,
   "metadata": {},
   "outputs": [
    {
     "name": "stdout",
     "output_type": "stream",
     "text": [
      "['one', 2, 3.5, 'four', 'three', 5]\n"
     ]
    }
   ],
   "source": [
    "another_list=['three',5]\n",
    "print(list+another_list)"
   ]
  },
  {
   "cell_type": "markdown",
   "metadata": {},
   "source": [
    "#### List mutability-Different from String."
   ]
  },
  {
   "cell_type": "code",
   "execution_count": 69,
   "metadata": {},
   "outputs": [
    {
     "name": "stdout",
     "output_type": "stream",
     "text": [
      "['ONE', 2, 3.5, 'four']\n"
     ]
    }
   ],
   "source": [
    "list[0]='ONE'\n",
    "print(list) #list from ['one',2,3.5,'four'] to ['ONE', 2, 3.5, 'four']"
   ]
  },
  {
   "cell_type": "markdown",
   "metadata": {},
   "source": [
    "#### List append"
   ]
  },
  {
   "cell_type": "code",
   "execution_count": 70,
   "metadata": {},
   "outputs": [],
   "source": [
    "another_list.append('seven')"
   ]
  },
  {
   "cell_type": "code",
   "execution_count": 71,
   "metadata": {},
   "outputs": [
    {
     "name": "stdout",
     "output_type": "stream",
     "text": [
      "['three', 5, 'seven']\n"
     ]
    }
   ],
   "source": [
    "print(another_list)"
   ]
  },
  {
   "cell_type": "code",
   "execution_count": 72,
   "metadata": {},
   "outputs": [
    {
     "ename": "TypeError",
     "evalue": "can only concatenate list (not \"str\") to list",
     "output_type": "error",
     "traceback": [
      "\u001b[1;31m---------------------------------------------------------------------------\u001b[0m",
      "\u001b[1;31mTypeError\u001b[0m                                 Traceback (most recent call last)",
      "\u001b[1;32m<ipython-input-72-8c641fbdc982>\u001b[0m in \u001b[0;36m<module>\u001b[1;34m\u001b[0m\n\u001b[1;32m----> 1\u001b[1;33m \u001b[0mprint\u001b[0m\u001b[1;33m(\u001b[0m\u001b[0manother_list\u001b[0m\u001b[1;33m+\u001b[0m\u001b[1;34m'seven'\u001b[0m\u001b[1;33m)\u001b[0m \u001b[1;31m#List could not add new items.Different from string.\u001b[0m\u001b[1;33m\u001b[0m\u001b[1;33m\u001b[0m\u001b[0m\n\u001b[0m",
      "\u001b[1;31mTypeError\u001b[0m: can only concatenate list (not \"str\") to list"
     ]
    }
   ],
   "source": [
    "print(another_list+'seven') #List could not add new items.Different from string."
   ]
  },
  {
   "cell_type": "code",
   "execution_count": 73,
   "metadata": {},
   "outputs": [
    {
     "name": "stdout",
     "output_type": "stream",
     "text": [
      "['three', 5, 'seven', ['ONE', 2, 3.5, 'four']]\n"
     ]
    }
   ],
   "source": [
    "another_list.append(list)\n",
    "print(another_list) #append the whole list, not the items."
   ]
  },
  {
   "cell_type": "markdown",
   "metadata": {},
   "source": [
    "#### List Sort & assign"
   ]
  },
  {
   "cell_type": "code",
   "execution_count": 81,
   "metadata": {},
   "outputs": [],
   "source": [
    "list_str=['d','i','a','k','b']\n",
    "list_num=[4,6,1,7,8]"
   ]
  },
  {
   "cell_type": "code",
   "execution_count": 82,
   "metadata": {},
   "outputs": [
    {
     "name": "stdout",
     "output_type": "stream",
     "text": [
      "<class 'NoneType'>\n"
     ]
    }
   ],
   "source": [
    "new_list_str=list_str.sort()\n",
    "print(type(new_list_str)) #the result after sorting could not be assigned to a new list, as it is None Type."
   ]
  },
  {
   "cell_type": "code",
   "execution_count": 83,
   "metadata": {},
   "outputs": [
    {
     "name": "stdout",
     "output_type": "stream",
     "text": [
      "['a', 'b', 'd', 'i', 'k']\n"
     ]
    }
   ],
   "source": [
    "#If you want to assign the new list to another variable list:\n",
    "list_str.sort()\n",
    "new_list_str=list_str #The sorting will be operated on the original list and return NONE.\n",
    "\n",
    "print(new_list_str)"
   ]
  },
  {
   "cell_type": "code",
   "execution_count": 84,
   "metadata": {},
   "outputs": [
    {
     "name": "stdout",
     "output_type": "stream",
     "text": [
      "None\n"
     ]
    }
   ],
   "source": [
    "print(list_num.sort()) #print nothing after sorting. Must check original list."
   ]
  },
  {
   "cell_type": "code",
   "execution_count": 85,
   "metadata": {},
   "outputs": [
    {
     "name": "stdout",
     "output_type": "stream",
     "text": [
      "[1, 4, 6, 7, 8]\n"
     ]
    }
   ],
   "source": [
    "list_num.sort() #The sorting will be operated on the original list and return NONE.\n",
    "print(list_num)"
   ]
  },
  {
   "cell_type": "markdown",
   "metadata": {},
   "source": [
    "#### List Reverse()"
   ]
  },
  {
   "cell_type": "code",
   "execution_count": 86,
   "metadata": {},
   "outputs": [
    {
     "name": "stdout",
     "output_type": "stream",
     "text": [
      "None\n",
      "None\n"
     ]
    }
   ],
   "source": [
    "print(list_str.reverse()) #similar to sort.\n",
    "print(list_num.reverse())"
   ]
  },
  {
   "cell_type": "code",
   "execution_count": 87,
   "metadata": {},
   "outputs": [
    {
     "name": "stdout",
     "output_type": "stream",
     "text": [
      "['a', 'b', 'd', 'i', 'k']\n",
      "[1, 4, 6, 7, 8]\n"
     ]
    }
   ],
   "source": [
    "list_str.reverse()\n",
    "list_num.reverse()\n",
    "print(list_str)\n",
    "print(list_num)"
   ]
  },
  {
   "cell_type": "markdown",
   "metadata": {},
   "source": [
    "#### List Pop()"
   ]
  },
  {
   "cell_type": "code",
   "execution_count": 88,
   "metadata": {},
   "outputs": [
    {
     "data": {
      "text/plain": [
       "'k'"
      ]
     },
     "execution_count": 88,
     "metadata": {},
     "output_type": "execute_result"
    }
   ],
   "source": [
    "list_str.pop() #Return the item has been poped out."
   ]
  },
  {
   "cell_type": "code",
   "execution_count": 89,
   "metadata": {},
   "outputs": [
    {
     "name": "stdout",
     "output_type": "stream",
     "text": [
      "['a', 'b', 'i']\n"
     ]
    }
   ],
   "source": [
    "list_str.pop(2) #Return the item assigned should be poped out: d\n",
    "print(list_str)"
   ]
  },
  {
   "cell_type": "code",
   "execution_count": 90,
   "metadata": {},
   "outputs": [
    {
     "ename": "SyntaxError",
     "evalue": "invalid syntax (<ipython-input-90-1dd139e5522c>, line 1)",
     "output_type": "error",
     "traceback": [
      "\u001b[1;36m  File \u001b[1;32m\"<ipython-input-90-1dd139e5522c>\"\u001b[1;36m, line \u001b[1;32m1\u001b[0m\n\u001b[1;33m    list_num.pop(2:4)\u001b[0m\n\u001b[1;37m                  ^\u001b[0m\n\u001b[1;31mSyntaxError\u001b[0m\u001b[1;31m:\u001b[0m invalid syntax\n"
     ]
    }
   ],
   "source": [
    "list_num.pop(2:4) #Could not pop as [:] format."
   ]
  },
  {
   "cell_type": "markdown",
   "metadata": {},
   "source": [
    "#### List max & min:"
   ]
  },
  {
   "cell_type": "code",
   "execution_count": 42,
   "metadata": {},
   "outputs": [
    {
     "name": "stdout",
     "output_type": "stream",
     "text": [
      "788\n",
      "7\n",
      "z\n",
      "daf\n"
     ]
    }
   ],
   "source": [
    "listInt=[335,623,7,246,788,135]\n",
    "print(max(listInt))\n",
    "print(min(listInt))\n",
    "\n",
    "listStr=['daf','ewe','ysd','peo','z']\n",
    "print(max(listStr))\n",
    "print(min(listStr))"
   ]
  },
  {
   "cell_type": "markdown",
   "metadata": {},
   "source": [
    "#### List  comprehension: Generate list by python simple type. (means append())"
   ]
  },
  {
   "cell_type": "code",
   "execution_count": 61,
   "metadata": {},
   "outputs": [
    {
     "name": "stdout",
     "output_type": "stream",
     "text": [
      "[0, 1, 2, 3, 4, 5, 6, 7, 8, 9]\n"
     ]
    }
   ],
   "source": [
    "listInt=[num for num in range(0,10)]\n",
    "print(listInt)"
   ]
  },
  {
   "cell_type": "markdown",
   "metadata": {},
   "source": [
    "####  List  comprehension: Generate list by python simple type + operation ahead"
   ]
  },
  {
   "cell_type": "code",
   "execution_count": 62,
   "metadata": {},
   "outputs": [
    {
     "name": "stdout",
     "output_type": "stream",
     "text": [
      "[1, 4, 9, 16]\n"
     ]
    }
   ],
   "source": [
    "listInt=[num**2 for num in range(1,5)]\n",
    "print(listInt)"
   ]
  },
  {
   "cell_type": "markdown",
   "metadata": {},
   "source": [
    "####  List  comprehension: Generate list by python simple type + operation ahead + condition behind."
   ]
  },
  {
   "cell_type": "code",
   "execution_count": 63,
   "metadata": {},
   "outputs": [
    {
     "name": "stdout",
     "output_type": "stream",
     "text": [
      "[4, 16]\n"
     ]
    }
   ],
   "source": [
    "listInt=[num**2 for num in range(1,5) if num%2==0] #Just square on the even num.\n",
    "print(listInt)"
   ]
  },
  {
   "cell_type": "code",
   "execution_count": 72,
   "metadata": {},
   "outputs": [
    {
     "ename": "SyntaxError",
     "evalue": "invalid syntax (<ipython-input-72-1a17ad9a2167>, line 1)",
     "output_type": "error",
     "traceback": [
      "\u001b[1;36m  File \u001b[1;32m\"<ipython-input-72-1a17ad9a2167>\"\u001b[1;36m, line \u001b[1;32m1\u001b[0m\n\u001b[1;33m    listInt=[num**2  if num%2==0 for num in range(1,5)] # Pure IF: must be on the rear.\u001b[0m\n\u001b[1;37m                                   ^\u001b[0m\n\u001b[1;31mSyntaxError\u001b[0m\u001b[1;31m:\u001b[0m invalid syntax\n"
     ]
    }
   ],
   "source": [
    "listInt=[num**2  if num%2==0 for num in range(1,5)] # Pure IF: must be on the rear.\n",
    "print(listInt)"
   ]
  },
  {
   "cell_type": "code",
   "execution_count": 64,
   "metadata": {},
   "outputs": [
    {
     "name": "stdout",
     "output_type": "stream",
     "text": [
      "[93.2, 71.6, 68.0]\n"
     ]
    }
   ],
   "source": [
    "#Another e.g:\n",
    "celcius=[34,22,12,20]\n",
    "fahrenheit=[(9/5)*temp+32 for temp in celcius if temp>15]\n",
    "print(fahrenheit)"
   ]
  },
  {
   "cell_type": "code",
   "execution_count": 66,
   "metadata": {},
   "outputs": [
    {
     "name": "stdout",
     "output_type": "stream",
     "text": [
      "[0, 'odd', 4, 'odd', 16, 'odd', 36, 'odd', 64, 'odd']\n"
     ]
    }
   ],
   "source": [
    "#### List  comprehension: Different positions! with else.\n",
    "listInt=[num**2 if num%2==0 else \"odd\" for num in range(0,10)]\n",
    "print(listInt)"
   ]
  },
  {
   "cell_type": "code",
   "execution_count": 70,
   "metadata": {},
   "outputs": [
    {
     "ename": "SyntaxError",
     "evalue": "invalid syntax (<ipython-input-70-4fc84652953f>, line 1)",
     "output_type": "error",
     "traceback": [
      "\u001b[1;36m  File \u001b[1;32m\"<ipython-input-70-4fc84652953f>\"\u001b[1;36m, line \u001b[1;32m1\u001b[0m\n\u001b[1;33m    listInt=[num**2 for num in range(0,10) if num%2==0 else:\"odd\"]\u001b[0m\n\u001b[1;37m                                                          ^\u001b[0m\n\u001b[1;31mSyntaxError\u001b[0m\u001b[1;31m:\u001b[0m invalid syntax\n"
     ]
    }
   ],
   "source": [
    "listInt=[num**2 for num in range(0,10) if num%2==0 else \"odd\"] #IF ELSE will be error if put on the rear.\n",
    "print(listInt)"
   ]
  },
  {
   "cell_type": "markdown",
   "metadata": {},
   "source": [
    "#### List Comprehension: Recommend Readable first!"
   ]
  },
  {
   "cell_type": "code",
   "execution_count": 78,
   "metadata": {},
   "outputs": [
    {
     "name": "stdout",
     "output_type": "stream",
     "text": [
      "[100, 200, 300, 200, 400, 600, 300, 600, 900]\n",
      "[100, 200, 300, 200, 400, 600, 300, 600, 900]\n"
     ]
    }
   ],
   "source": [
    "#I. Times by 2 for loop:\n",
    "listres=[]\n",
    "x=[1,2,3]\n",
    "y=[100,200,300]\n",
    "\n",
    "for numx in x:\n",
    "    for numy in y:\n",
    "        listres.append(numx*numy)\n",
    "print(listres)\n",
    "\n",
    "#II. By list comprehension:\n",
    "listres=[numx*numy for numx in x for numy in y] #But not readable...\n",
    "print(listres)"
   ]
  },
  {
   "cell_type": "markdown",
   "metadata": {},
   "source": [
    "### Dictionary"
   ]
  },
  {
   "cell_type": "markdown",
   "metadata": {},
   "source": [
    "#### Dictionary definition, grab value by keys"
   ]
  },
  {
   "cell_type": "code",
   "execution_count": 5,
   "metadata": {},
   "outputs": [
    {
     "name": "stdout",
     "output_type": "stream",
     "text": [
      "{'apple': 3.3, 'orange': 2.0, 'peach': 1.8, 'milk': 1.6, 'egg': 2.9}\n"
     ]
    }
   ],
   "source": [
    "dic_price={'apple':3.3, 'orange':2.0, 'peach':1.8,'milk':1.5, 'egg':2.9,'egg':2.9,'milk':1.6} \n",
    "#Dictionary definition by {}!\n",
    "print(dic_price)\n",
    "# Dictionary:Only one unique key with the lastest value in it."
   ]
  },
  {
   "cell_type": "code",
   "execution_count": 110,
   "metadata": {},
   "outputs": [
    {
     "name": "stdout",
     "output_type": "stream",
     "text": [
      "2.0\n"
     ]
    }
   ],
   "source": [
    "#Grab value by key:\n",
    "price_orange=dic_price['orange']\n",
    "print(price_orange)"
   ]
  },
  {
   "cell_type": "markdown",
   "metadata": {},
   "source": [
    "#### Dictionary add new pair:"
   ]
  },
  {
   "cell_type": "code",
   "execution_count": 111,
   "metadata": {},
   "outputs": [
    {
     "name": "stdout",
     "output_type": "stream",
     "text": [
      "{'apple': 3.3, 'orange': 2.0, 'peach': 1.8, 'milk': 1.5, 'egg': 2.9, 'bread': 3.0}\n"
     ]
    }
   ],
   "source": [
    "dic_price['bread']=3.0\n",
    "print(dic_price)"
   ]
  },
  {
   "cell_type": "markdown",
   "metadata": {},
   "source": [
    "#### Dictionary Reassign value of one item"
   ]
  },
  {
   "cell_type": "code",
   "execution_count": 112,
   "metadata": {},
   "outputs": [
    {
     "name": "stdout",
     "output_type": "stream",
     "text": [
      "{'apple': 3.3, 'orange': 2.0, 'peach': 2.4, 'milk': 1.5, 'egg': 2.9, 'bread': 3.0}\n"
     ]
    }
   ],
   "source": [
    "dic_price['peach']=2.4\n",
    "print(dic_price)"
   ]
  },
  {
   "cell_type": "markdown",
   "metadata": {},
   "source": [
    "#### Dictionary Grab all keys, values & items"
   ]
  },
  {
   "cell_type": "code",
   "execution_count": 113,
   "metadata": {},
   "outputs": [
    {
     "name": "stdout",
     "output_type": "stream",
     "text": [
      "dict_keys(['apple', 'orange', 'peach', 'milk', 'egg', 'bread'])\n",
      "dict_values([3.3, 2.0, 2.4, 1.5, 2.9, 3.0])\n",
      "dict_items([('apple', 3.3), ('orange', 2.0), ('peach', 2.4), ('milk', 1.5), ('egg', 2.9), ('bread', 3.0)])\n"
     ]
    }
   ],
   "source": [
    "print(dic_price.keys())\n",
    "print(dic_price.values())\n",
    "print(dic_price.items())"
   ]
  },
  {
   "cell_type": "markdown",
   "metadata": {},
   "source": [
    "#### Dictionary with flexible types"
   ]
  },
  {
   "cell_type": "code",
   "execution_count": 114,
   "metadata": {},
   "outputs": [],
   "source": [
    "dic_mixed={'key1':1, 'key2':'two', 'key3':[0,1,2,3], 'key4':{'0':1,'1':'one','2':2.0,'3':'three','4':4.00}}"
   ]
  },
  {
   "cell_type": "markdown",
   "metadata": {},
   "source": [
    "#### Dictionary: grab subitem of list by index"
   ]
  },
  {
   "cell_type": "code",
   "execution_count": 115,
   "metadata": {},
   "outputs": [
    {
     "name": "stdout",
     "output_type": "stream",
     "text": [
      "[0, 1, 2, 3]\n",
      "2\n"
     ]
    }
   ],
   "source": [
    "item=dic_mixed['key3']\n",
    "print(item)\n",
    "\n",
    "value=dic_mixed['key3'][2]\n",
    "print(value)"
   ]
  },
  {
   "cell_type": "markdown",
   "metadata": {},
   "source": [
    "#### Dictionary: Grab sub-value by sub-key:"
   ]
  },
  {
   "cell_type": "code",
   "execution_count": 116,
   "metadata": {},
   "outputs": [
    {
     "name": "stdout",
     "output_type": "stream",
     "text": [
      "{'0': 1, '1': 'one', '2': 2.0, '3': 'three', '4': 4.0}\n",
      "4.0\n"
     ]
    }
   ],
   "source": [
    "item=dic_mixed['key4']\n",
    "print(item)\n",
    "\n",
    "subvalue=dic_mixed['key4']['4']\n",
    "print(subvalue)"
   ]
  },
  {
   "cell_type": "markdown",
   "metadata": {},
   "source": [
    "#### Dictionary: mixed operations with Upper()..."
   ]
  },
  {
   "cell_type": "code",
   "execution_count": 117,
   "metadata": {},
   "outputs": [
    {
     "name": "stdout",
     "output_type": "stream",
     "text": [
      "{'key1': 1, 'key2': 'two', 'key3': [0, 1, 2, 3], 'key4': {'0': 1, '1': 'one', '2': 2.0, '3': 'THREE', '4': 4.0}}\n"
     ]
    }
   ],
   "source": [
    "dic_mixed['key4']['3']=dic_mixed['key4']['3'].upper()\n",
    "print(dic_mixed)"
   ]
  },
  {
   "cell_type": "markdown",
   "metadata": {},
   "source": [
    "### Tuple"
   ]
  },
  {
   "cell_type": "markdown",
   "metadata": {},
   "source": [
    "#### Tuple definition: pure type & multiple types."
   ]
  },
  {
   "cell_type": "code",
   "execution_count": 6,
   "metadata": {},
   "outputs": [],
   "source": [
    "t=(10,23,8,13,19,19) #Tuple: could be duplicated!\n",
    "t_m=('ten',23,'eight',13,' ',19.0,13)"
   ]
  },
  {
   "cell_type": "code",
   "execution_count": 7,
   "metadata": {},
   "outputs": [
    {
     "name": "stdout",
     "output_type": "stream",
     "text": [
      "(10, 23, 8, 13, 19, 19)\n"
     ]
    }
   ],
   "source": [
    "print(t)"
   ]
  },
  {
   "cell_type": "markdown",
   "metadata": {},
   "source": [
    "#### Tuple length:"
   ]
  },
  {
   "cell_type": "code",
   "execution_count": 8,
   "metadata": {},
   "outputs": [
    {
     "name": "stdout",
     "output_type": "stream",
     "text": [
      "6\n",
      "7\n"
     ]
    }
   ],
   "source": [
    "print(len(t))\n",
    "print(len(t_m))"
   ]
  },
  {
   "cell_type": "markdown",
   "metadata": {},
   "source": [
    "#### Tuple count how many times occurrs and the index of 1st time occurs:"
   ]
  },
  {
   "cell_type": "code",
   "execution_count": 128,
   "metadata": {},
   "outputs": [
    {
     "name": "stdout",
     "output_type": "stream",
     "text": [
      "2\n"
     ]
    }
   ],
   "source": [
    "print(t_m.count(13))"
   ]
  },
  {
   "cell_type": "code",
   "execution_count": 129,
   "metadata": {},
   "outputs": [
    {
     "name": "stdout",
     "output_type": "stream",
     "text": [
      "3\n"
     ]
    }
   ],
   "source": [
    "print(t_m.index(13)) #the 1st time of 13 occurs in t_m tuple."
   ]
  },
  {
   "cell_type": "markdown",
   "metadata": {},
   "source": [
    "#### Tuple: validate if immutable"
   ]
  },
  {
   "cell_type": "code",
   "execution_count": 132,
   "metadata": {},
   "outputs": [
    {
     "ename": "TypeError",
     "evalue": "'tuple' object does not support item assignment",
     "output_type": "error",
     "traceback": [
      "\u001b[1;31m---------------------------------------------------------------------------\u001b[0m",
      "\u001b[1;31mTypeError\u001b[0m                                 Traceback (most recent call last)",
      "\u001b[1;32m<ipython-input-132-e3a30e153dee>\u001b[0m in \u001b[0;36m<module>\u001b[1;34m\u001b[0m\n\u001b[1;32m----> 1\u001b[1;33m \u001b[0mt_m\u001b[0m\u001b[1;33m[\u001b[0m\u001b[1;36m3\u001b[0m\u001b[1;33m]\u001b[0m\u001b[1;33m=\u001b[0m\u001b[1;34m'thirteen'\u001b[0m \u001b[1;31m# IMMUTABLE! similar to string.\u001b[0m\u001b[1;33m\u001b[0m\u001b[1;33m\u001b[0m\u001b[0m\n\u001b[0m",
      "\u001b[1;31mTypeError\u001b[0m: 'tuple' object does not support item assignment"
     ]
    }
   ],
   "source": [
    "t_m[3]='thirteen' # IMMUTABLE! similar to string."
   ]
  },
  {
   "cell_type": "markdown",
   "metadata": {},
   "source": [
    "#### Tuple: embeded tuples"
   ]
  },
  {
   "cell_type": "code",
   "execution_count": 133,
   "metadata": {},
   "outputs": [],
   "source": [
    "t_e=((2,1),3,4)"
   ]
  },
  {
   "cell_type": "code",
   "execution_count": 134,
   "metadata": {},
   "outputs": [
    {
     "name": "stdout",
     "output_type": "stream",
     "text": [
      "(2, 1)\n",
      "3\n"
     ]
    }
   ],
   "source": [
    "print(t_e[0])\n",
    "print(t_e[1])"
   ]
  },
  {
   "cell_type": "markdown",
   "metadata": {},
   "source": [
    "### Sets"
   ]
  },
  {
   "cell_type": "markdown",
   "metadata": {},
   "source": [
    "#### Sets: definition(By adding), type checking."
   ]
  },
  {
   "cell_type": "code",
   "execution_count": 9,
   "metadata": {},
   "outputs": [],
   "source": [
    "myset=set()\n",
    "\n",
    "myset.add(4)\n",
    "myset.add(2)\n",
    "myset.add('test')\n",
    "myset.add(1)\n",
    "myset.add(1)\n",
    "myset.add('test')"
   ]
  },
  {
   "cell_type": "code",
   "execution_count": 11,
   "metadata": {},
   "outputs": [
    {
     "name": "stdout",
     "output_type": "stream",
     "text": [
      "{1, 2, 4, 'test'}\n",
      "<class 'set'>\n"
     ]
    }
   ],
   "source": [
    "print(myset) #Set: could NOT be duplicated!\n",
    "print(type(myset))"
   ]
  },
  {
   "cell_type": "markdown",
   "metadata": {},
   "source": [
    "#### Sets: unique item checking:"
   ]
  },
  {
   "cell_type": "code",
   "execution_count": 140,
   "metadata": {},
   "outputs": [
    {
     "name": "stdout",
     "output_type": "stream",
     "text": [
      "{1, 2, 4, 'test'}\n"
     ]
    }
   ],
   "source": [
    "myset.add('test') #Unique! Remove duplicated ones automatically.\n",
    "print(myset)"
   ]
  },
  {
   "cell_type": "markdown",
   "metadata": {},
   "source": [
    "#### Sets: Re-type list to sets."
   ]
  },
  {
   "cell_type": "code",
   "execution_count": 141,
   "metadata": {},
   "outputs": [
    {
     "name": "stdout",
     "output_type": "stream",
     "text": [
      "{1, 2, 4, 'test'}\n"
     ]
    }
   ],
   "source": [
    "mylist=[4,2,'test',1]\n",
    "myset=set(mylist)\n",
    "\n",
    "print(myset)"
   ]
  },
  {
   "cell_type": "markdown",
   "metadata": {},
   "source": [
    "#### Set: Re-type string to sets."
   ]
  },
  {
   "cell_type": "code",
   "execution_count": 143,
   "metadata": {},
   "outputs": [
    {
     "name": "stdout",
     "output_type": "stream",
     "text": [
      "{'p', 'i', 's', 'M'}\n"
     ]
    }
   ],
   "source": [
    "print(set('Mississippi'))"
   ]
  },
  {
   "cell_type": "markdown",
   "metadata": {},
   "source": [
    "### Boolean:"
   ]
  },
  {
   "cell_type": "code",
   "execution_count": 145,
   "metadata": {},
   "outputs": [
    {
     "name": "stdout",
     "output_type": "stream",
     "text": [
      "True\n"
     ]
    }
   ],
   "source": [
    "b=None\n",
    "print(b==None)"
   ]
  },
  {
   "cell_type": "markdown",
   "metadata": {},
   "source": [
    "### File I/O:"
   ]
  },
  {
   "cell_type": "code",
   "execution_count": 154,
   "metadata": {},
   "outputs": [
    {
     "name": "stdout",
     "output_type": "stream",
     "text": [
      "Overwriting testfile.txt\n"
     ]
    }
   ],
   "source": [
    "%%writefile testfile.txt \n",
    "#The file will be saved as the same paths with currrent .ipynb file.\n",
    "hello, this is a test file\n",
    "This is 2nd line.\n",
    "This is 3rd line."
   ]
  },
  {
   "cell_type": "code",
   "execution_count": 158,
   "metadata": {},
   "outputs": [
    {
     "data": {
      "text/plain": [
       "'C:\\\\Users\\\\Zi Wei Fan'"
      ]
     },
     "execution_count": 158,
     "metadata": {},
     "output_type": "execute_result"
    }
   ],
   "source": [
    "pwd"
   ]
  },
  {
   "cell_type": "code",
   "execution_count": 159,
   "metadata": {},
   "outputs": [],
   "source": [
    "testfile=open('testfile.txt')"
   ]
  },
  {
   "cell_type": "code",
   "execution_count": 160,
   "metadata": {},
   "outputs": [
    {
     "data": {
      "text/plain": [
       "'#The file will be saved as the same paths with currrent .ipynb file.\\nhello, this is a test file\\nThis is 2nd line.\\nThis is 3rd line.\\n'"
      ]
     },
     "execution_count": 160,
     "metadata": {},
     "output_type": "execute_result"
    }
   ],
   "source": [
    "testfile.read() "
   ]
  },
  {
   "cell_type": "code",
   "execution_count": 162,
   "metadata": {},
   "outputs": [
    {
     "data": {
      "text/plain": [
       "''"
      ]
     },
     "execution_count": 162,
     "metadata": {},
     "output_type": "execute_result"
    }
   ],
   "source": [
    "testfile.read()"
   ]
  },
  {
   "cell_type": "markdown",
   "metadata": {},
   "source": [
    "#### the 'cursor' will go to the end of the file so there will not be more content output.\n",
    "#### If you want to read again after 1st reading, use seek(0) to make the 'cursor' to the beginning after the 1st time reading.\n",
    "\n"
   ]
  },
  {
   "cell_type": "code",
   "execution_count": 161,
   "metadata": {},
   "outputs": [
    {
     "data": {
      "text/plain": [
       "'#The file will be saved as the same paths with currrent .ipynb file.\\nhello, this is a test file\\nThis is 2nd line.\\nThis is 3rd line.\\n'"
      ]
     },
     "execution_count": 161,
     "metadata": {},
     "output_type": "execute_result"
    }
   ],
   "source": [
    "testfile.seek(0)\n",
    "testfile.read()"
   ]
  },
  {
   "cell_type": "code",
   "execution_count": 163,
   "metadata": {},
   "outputs": [
    {
     "data": {
      "text/plain": [
       "'he file will be saved as the same paths with currrent .ipynb file.\\nhello, this is a test file\\nThis is 2nd line.\\nThis is 3rd line.\\n'"
      ]
     },
     "execution_count": 163,
     "metadata": {},
     "output_type": "execute_result"
    }
   ],
   "source": [
    "testfile.seek(2) # Assign the 'cursor' location to read out.\n",
    "testfile.read()"
   ]
  },
  {
   "cell_type": "code",
   "execution_count": 165,
   "metadata": {
    "scrolled": true
   },
   "outputs": [
    {
     "data": {
      "text/plain": [
       "['#The file will be saved as the same paths with currrent .ipynb file.\\n',\n",
       " 'hello, this is a test file\\n',\n",
       " 'This is 2nd line.\\n',\n",
       " 'This is 3rd line.\\n']"
      ]
     },
     "execution_count": 165,
     "metadata": {},
     "output_type": "execute_result"
    }
   ],
   "source": [
    "testfile.seek(0)\n",
    "testfile.readlines() #Read lines one by one without \\."
   ]
  },
  {
   "cell_type": "markdown",
   "metadata": {},
   "source": [
    "#### Write Doc and close:"
   ]
  },
  {
   "cell_type": "code",
   "execution_count": 198,
   "metadata": {},
   "outputs": [
    {
     "name": "stdout",
     "output_type": "stream",
     "text": [
      "Helloworld\n"
     ]
    }
   ],
   "source": [
    "file=open(\"C:\\\\Learning\\\\mysql-init.txt\",mode=\"w\")\n",
    "file.write(\"Helloworld\")\n",
    "file.close()\n",
    "\n",
    "file=open(\"C:\\\\Learning\\\\mysql-init.txt\",mode=\"r\")\n",
    "file=file.read() #Read out.\n",
    "print(file)"
   ]
  },
  {
   "cell_type": "markdown",
   "metadata": {},
   "source": [
    "#### Read file locates in other paths:"
   ]
  },
  {
   "cell_type": "code",
   "execution_count": 184,
   "metadata": {},
   "outputs": [
    {
     "data": {
      "text/plain": [
       "\"#The file will be saved as the same paths with currrent .ipynb file.\\\\n',\\n 'hello, this is a test file\\\\n',\\n 'This is 2nd line.\\\\n',\\n 'This is 3rd line.\""
      ]
     },
     "execution_count": 184,
     "metadata": {},
     "output_type": "execute_result"
    }
   ],
   "source": [
    "testAnotherfile=open(\"C:\\\\Learning\\\\mysql-init.txt\") #Another path different from current .ipynb file.\n",
    "testAnotherfile.seek(0)\n",
    "testAnotherfile.read()"
   ]
  },
  {
   "cell_type": "markdown",
   "metadata": {},
   "source": [
    "#### Close file in 2 ways:"
   ]
  },
  {
   "cell_type": "code",
   "execution_count": 185,
   "metadata": {},
   "outputs": [],
   "source": [
    "testAnotherfile.close() #I. Close mannually."
   ]
  },
  {
   "cell_type": "code",
   "execution_count": 186,
   "metadata": {},
   "outputs": [
    {
     "name": "stdout",
     "output_type": "stream",
     "text": [
      "#The file will be saved as the same paths with currrent .ipynb file.\\n',\n",
      " 'hello, this is a test file\\n',\n",
      " 'This is 2nd line.\\n',\n",
      " 'This is 3rd line.\n"
     ]
    }
   ],
   "source": [
    "with open(\"C:\\\\Learning\\\\mysql-init.txt\",mode='r') as testAnotherfile:\n",
    "    testAnotherfile=testAnotherfile.read()\n",
    "    \n",
    "print(testAnotherfile)"
   ]
  },
  {
   "cell_type": "code",
   "execution_count": 187,
   "metadata": {},
   "outputs": [
    {
     "name": "stdout",
     "output_type": "stream",
     "text": [
      "#The file will be saved as the same paths with currrent .ipynb file.\\n',\n",
      " 'hello, this is a test file\\n',\n",
      " 'This is 2nd line.\\n',\n",
      " 'This is 3rd line.\n"
     ]
    }
   ],
   "source": [
    "with open(\"C:\\\\Learning\\\\mysql-init.txt\",mode='r+') as testAnotherfile: #Permission issues.\n",
    "    testAnotherfile=testAnotherfile.read()\n",
    "    \n",
    "print(testAnotherfile)"
   ]
  },
  {
   "cell_type": "markdown",
   "metadata": {},
   "source": [
    "#### Permission in 5 modes:\n",
    "#### \"r\",\"w\",\"a\"(append),\"r+\"(reading & writing),\"w+\"(overwrite or create)\n",
    "#### Append:"
   ]
  },
  {
   "cell_type": "code",
   "execution_count": 189,
   "metadata": {},
   "outputs": [
    {
     "name": "stdout",
     "output_type": "stream",
     "text": [
      "#The file will be saved as the same paths with currrent .ipynb file.\\n',\n",
      " 'hello, this is a test file\\n',\n",
      " 'This is 2nd line.\\n',\n",
      " 'This is 3rd line.\n",
      " This is 4th lined appended.\n"
     ]
    }
   ],
   "source": [
    "with open(\"C:\\\\Learning\\\\mysql-init.txt\",mode='a') as f:\n",
    "          f.write(\"\\n This is 4th lined appended.\")\n",
    "with open(\"C:\\\\Learning\\\\mysql-init.txt\",mode='r') as f:\n",
    "          print(f.read())"
   ]
  },
  {
   "cell_type": "code",
   "execution_count": 195,
   "metadata": {},
   "outputs": [
    {
     "name": "stdout",
     "output_type": "stream",
     "text": [
      "I created the file if the file doesn't exist!\n"
     ]
    }
   ],
   "source": [
    "with open(\"C:\\\\Learning\\\\dafosfhhsaeu.txt\", mode=\"w+\") as f:\n",
    "    f.write(\"I created the file if the file doesn't exist!\")\n",
    "    #Creat the file if the same file doesn't exist!\n",
    "    \n",
    "with open(\"dafosfhhsaeu.txt\", mode=\"r\") as f:\n",
    "    f=f.read() #Read the file out.\n",
    "    \n",
    "print(f)"
   ]
  },
  {
   "cell_type": "markdown",
   "metadata": {},
   "source": [
    "### Comparison Operator"
   ]
  },
  {
   "cell_type": "code",
   "execution_count": 1,
   "metadata": {},
   "outputs": [
    {
     "data": {
      "text/plain": [
       "True"
      ]
     },
     "execution_count": 1,
     "metadata": {},
     "output_type": "execute_result"
    }
   ],
   "source": [
    "2.0==2"
   ]
  },
  {
   "cell_type": "code",
   "execution_count": 2,
   "metadata": {},
   "outputs": [
    {
     "data": {
      "text/plain": [
       "True"
      ]
     },
     "execution_count": 2,
     "metadata": {},
     "output_type": "execute_result"
    }
   ],
   "source": [
    "\"Bye\"==\"Bye\""
   ]
  },
  {
   "cell_type": "markdown",
   "metadata": {},
   "source": [
    "#### Chain comparison operator"
   ]
  },
  {
   "cell_type": "code",
   "execution_count": 13,
   "metadata": {},
   "outputs": [
    {
     "data": {
      "text/plain": [
       "False"
      ]
     },
     "execution_count": 13,
     "metadata": {},
     "output_type": "execute_result"
    }
   ],
   "source": [
    "2<3>5 #2<3 AND 3>5"
   ]
  },
  {
   "cell_type": "code",
   "execution_count": 14,
   "metadata": {},
   "outputs": [
    {
     "data": {
      "text/plain": [
       "True"
      ]
     },
     "execution_count": 14,
     "metadata": {},
     "output_type": "execute_result"
    }
   ],
   "source": [
    "2<5>3"
   ]
  },
  {
   "cell_type": "code",
   "execution_count": 15,
   "metadata": {},
   "outputs": [
    {
     "data": {
      "text/plain": [
       "True"
      ]
     },
     "execution_count": 15,
     "metadata": {},
     "output_type": "execute_result"
    }
   ],
   "source": [
    "not (2>5)"
   ]
  },
  {
   "cell_type": "markdown",
   "metadata": {},
   "source": [
    "### Conditional operation:"
   ]
  },
  {
   "cell_type": "code",
   "execution_count": 16,
   "metadata": {},
   "outputs": [
    {
     "name": "stdout",
     "output_type": "stream",
     "text": [
      "No this person.\n"
     ]
    }
   ],
   "source": [
    "name='Jose'\n",
    "\n",
    "if name=='Frank':\n",
    "    print('Hello, Frank!')\n",
    "elif name=='Tom':\n",
    "    print('Hello,this is Tom!')\n",
    "elif name =='Bob':\n",
    "    print('Hello, this is Bob!')\n",
    "else:\n",
    "    print('No this person.')"
   ]
  },
  {
   "cell_type": "code",
   "execution_count": 17,
   "metadata": {},
   "outputs": [
    {
     "name": "stdout",
     "output_type": "stream",
     "text": [
      "Hello, Frank!\n"
     ]
    }
   ],
   "source": [
    "name='Frank'\n",
    "\n",
    "if name=='Frank':\n",
    "    print('Hello, Frank!')\n",
    "elif name=='Tom':\n",
    "    print('Hello,this is Tom!')\n",
    "elif name =='Bob':\n",
    "    print('Hello, this is Bob!')\n",
    "else:\n",
    "    print('No this person.')"
   ]
  },
  {
   "cell_type": "markdown",
   "metadata": {},
   "source": [
    "### For Loop:"
   ]
  },
  {
   "cell_type": "markdown",
   "metadata": {},
   "source": [
    "#### 1. Loop in list to pick up even, get sum.\n",
    "#### 2. Loop in tuples, sub tuples with unpacked values, with unbalanced tuples.\n",
    "#### 3. Loop in dictionary: items, values and unpakced key-value pairs."
   ]
  },
  {
   "cell_type": "markdown",
   "metadata": {},
   "source": [
    "#### 1. Loop in list to pick up even, get sum."
   ]
  },
  {
   "cell_type": "code",
   "execution_count": 20,
   "metadata": {},
   "outputs": [
    {
     "name": "stdout",
     "output_type": "stream",
     "text": [
      "odd num: 3\n",
      "odd num: 5\n",
      "odd num: 1\n",
      "even num: 64\n",
      "even num: 46\n",
      "even num: 134\n",
      "odd num: 75\n",
      "odd num: 87\n",
      "even num: 42\n",
      "even num: 146\n",
      "even num: 76\n"
     ]
    }
   ],
   "source": [
    "list1=[3,5,1,64,46,134,75,87,42,146,76]\n",
    "\n",
    "for num in list1: #Loop in list to pick up even\n",
    "    if num%2==0:\n",
    "        print(f\"even num: {num}\")\n",
    "    else:\n",
    "        print(f\"odd num: {num}\")\n",
    "        "
   ]
  },
  {
   "cell_type": "code",
   "execution_count": 21,
   "metadata": {},
   "outputs": [
    {
     "name": "stdout",
     "output_type": "stream",
     "text": [
      "Current sum: 3\n",
      "Current sum: 8\n",
      "Current sum: 9\n",
      "Current sum: 73\n",
      "Current sum: 119\n",
      "Current sum: 253\n",
      "Current sum: 328\n",
      "Current sum: 415\n",
      "Current sum: 457\n",
      "Current sum: 603\n",
      "Current sum: 679\n",
      "Total sum: 679\n"
     ]
    }
   ],
   "source": [
    "# get sum\n",
    "list1=[3,5,1,64,46,134,75,87,42,146,76]\n",
    "sum=0\n",
    "\n",
    "for num in list1:\n",
    "    sum=sum+num\n",
    "    print(f\"Current sum: {sum}\")\n",
    "print(f\"Total sum: {sum}\")"
   ]
  },
  {
   "cell_type": "markdown",
   "metadata": {},
   "source": [
    "#### 2. Loop in tuples, sub tuples with unpacked values, with unbalanced tuples."
   ]
  },
  {
   "cell_type": "code",
   "execution_count": 22,
   "metadata": {},
   "outputs": [
    {
     "name": "stdout",
     "output_type": "stream",
     "text": [
      "3\n",
      "5\n",
      "one\n",
      "two\n",
      "4\n",
      "eight\n"
     ]
    }
   ],
   "source": [
    "##### Loop in tuples, sub tuples with unpacked values, with unbalanced tuples.\n",
    "tuple1=(3,5,'one','two',4,'eight')\n",
    "for t in tuple1:\n",
    "    print(t)"
   ]
  },
  {
   "cell_type": "code",
   "execution_count": 23,
   "metadata": {},
   "outputs": [
    {
     "name": "stdout",
     "output_type": "stream",
     "text": [
      "('three', 3)\n",
      "(4, 'four')\n",
      "('one', 1)\n",
      "(2, 'two')\n",
      "('five', 5)\n"
     ]
    }
   ],
   "source": [
    "tuplePair=(('three',3),(4,'four'),('one',1),(2,'two'),('five',5)) #sub tuples\n",
    "\n",
    "for item in tuplePair:\n",
    "    print(item)"
   ]
  },
  {
   "cell_type": "code",
   "execution_count": 27,
   "metadata": {},
   "outputs": [
    {
     "name": "stdout",
     "output_type": "stream",
     "text": [
      "loop pairs: ('three', 3)\n",
      "loop first value:three\n",
      "loop second value:3\n",
      "loop pairs: (4, 'four')\n",
      "loop first value:4\n",
      "loop second value:four\n",
      "loop pairs: ('one', 1)\n",
      "loop first value:one\n",
      "loop second value:1\n",
      "loop pairs: (2, 'two')\n",
      "loop first value:2\n",
      "loop second value:two\n",
      "loop pairs: ('five', 5)\n",
      "loop first value:five\n",
      "loop second value:5\n"
     ]
    }
   ],
   "source": [
    "# sub tuples with unpacked values\n",
    "for (value1, value2) in tuplePair:\n",
    "    print(f\"loop pairs: {value1, value2}\")\n",
    "    print(f\"loop first value:{value1}\")\n",
    "    print(f\"loop second value:{value2}\")"
   ]
  },
  {
   "cell_type": "code",
   "execution_count": 34,
   "metadata": {},
   "outputs": [
    {
     "name": "stdout",
     "output_type": "stream",
     "text": [
      "('three', 3, 3)\n",
      "(4, 'four', 4)\n",
      "('one', 1, 1)\n",
      "(2, 'two')\n",
      "('five', 5)\n"
     ]
    }
   ],
   "source": [
    "tuplePair_Unbalanced=(('three',3,3),(4,'four',4),('one',1,1),(2,'two'),('five',5)) #Unbalanced pair.\n",
    "\n",
    "for item in tuplePair_Unbalanced:\n",
    "    print(item)"
   ]
  },
  {
   "cell_type": "code",
   "execution_count": 35,
   "metadata": {},
   "outputs": [
    {
     "name": "stdout",
     "output_type": "stream",
     "text": [
      "three\n",
      "4\n",
      "one\n"
     ]
    },
    {
     "ename": "ValueError",
     "evalue": "not enough values to unpack (expected 3, got 2)",
     "output_type": "error",
     "traceback": [
      "\u001b[1;31m---------------------------------------------------------------------------\u001b[0m",
      "\u001b[1;31mValueError\u001b[0m                                Traceback (most recent call last)",
      "\u001b[1;32m<ipython-input-35-49e87c996683>\u001b[0m in \u001b[0;36m<module>\u001b[1;34m\u001b[0m\n\u001b[1;32m----> 1\u001b[1;33m \u001b[1;32mfor\u001b[0m \u001b[1;33m(\u001b[0m\u001b[0msubitem1\u001b[0m\u001b[1;33m,\u001b[0m\u001b[0msubitem2\u001b[0m\u001b[1;33m,\u001b[0m\u001b[0msubitem3\u001b[0m\u001b[1;33m)\u001b[0m \u001b[1;32min\u001b[0m \u001b[0mtuplePair_Unbalanced\u001b[0m\u001b[1;33m:\u001b[0m\u001b[1;33m\u001b[0m\u001b[1;33m\u001b[0m\u001b[0m\n\u001b[0m\u001b[0;32m      2\u001b[0m     \u001b[0mprint\u001b[0m\u001b[1;33m(\u001b[0m\u001b[0msubitem1\u001b[0m\u001b[1;33m)\u001b[0m\u001b[1;33m\u001b[0m\u001b[1;33m\u001b[0m\u001b[0m\n",
      "\u001b[1;31mValueError\u001b[0m: not enough values to unpack (expected 3, got 2)"
     ]
    }
   ],
   "source": [
    "for (subitem1,subitem2,subitem3) in tuplePair_Unbalanced: #For pair with 3 items it works, but doesn't work in the item with 2 items.\n",
    "    print(subitem1)"
   ]
  },
  {
   "cell_type": "code",
   "execution_count": 36,
   "metadata": {},
   "outputs": [
    {
     "ename": "ValueError",
     "evalue": "too many values to unpack (expected 2)",
     "output_type": "error",
     "traceback": [
      "\u001b[1;31m---------------------------------------------------------------------------\u001b[0m",
      "\u001b[1;31mValueError\u001b[0m                                Traceback (most recent call last)",
      "\u001b[1;32m<ipython-input-36-afdad930c576>\u001b[0m in \u001b[0;36m<module>\u001b[1;34m\u001b[0m\n\u001b[1;32m----> 1\u001b[1;33m \u001b[1;32mfor\u001b[0m \u001b[1;33m(\u001b[0m\u001b[0msubitem1\u001b[0m\u001b[1;33m,\u001b[0m\u001b[0msubitem2\u001b[0m\u001b[1;33m)\u001b[0m \u001b[1;32min\u001b[0m \u001b[0mtuplePair_Unbalanced\u001b[0m\u001b[1;33m:\u001b[0m\u001b[1;33m\u001b[0m\u001b[1;33m\u001b[0m\u001b[0m\n\u001b[0m\u001b[0;32m      2\u001b[0m     \u001b[0mprint\u001b[0m\u001b[1;33m(\u001b[0m\u001b[0msubitem1\u001b[0m\u001b[1;33m)\u001b[0m\u001b[1;33m\u001b[0m\u001b[1;33m\u001b[0m\u001b[0m\n",
      "\u001b[1;31mValueError\u001b[0m: too many values to unpack (expected 2)"
     ]
    }
   ],
   "source": [
    "for (subitem1,subitem2) in tuplePair_Unbalanced: # Doesn't work with 3 sub-values.\n",
    "    print(subitem1)"
   ]
  },
  {
   "cell_type": "markdown",
   "metadata": {},
   "source": [
    "#### 3. Loop in dictionary: items, values and unpakced key-value pairs."
   ]
  },
  {
   "cell_type": "code",
   "execution_count": 43,
   "metadata": {},
   "outputs": [
    {
     "name": "stdout",
     "output_type": "stream",
     "text": [
      "{'apple': 3.3, 'orange': 2.0, 'peach': 1.8, 'milk': 1.6, 'egg': 2.9}\n",
      "apple\n",
      "orange\n",
      "peach\n",
      "milk\n",
      "egg\n"
     ]
    }
   ],
   "source": [
    "dic_price={'apple':3.3, 'orange':2.0, 'peach':1.8,'milk':1.5, 'egg':2.9,'egg':2.9,'milk':1.6}\n",
    "print(dic_price)\n",
    "\n",
    "for item in dic_price: #Just return key.\n",
    "    print(item)"
   ]
  },
  {
   "cell_type": "code",
   "execution_count": 38,
   "metadata": {},
   "outputs": [
    {
     "name": "stdout",
     "output_type": "stream",
     "text": [
      "('apple', 3.3)\n",
      "('orange', 2.0)\n",
      "('peach', 1.8)\n",
      "('milk', 1.6)\n",
      "('egg', 2.9)\n"
     ]
    }
   ],
   "source": [
    "for item in dic_price.items(): #Return pairs.\n",
    "    print(item)"
   ]
  },
  {
   "cell_type": "code",
   "execution_count": 41,
   "metadata": {},
   "outputs": [
    {
     "name": "stdout",
     "output_type": "stream",
     "text": [
      "apple\n",
      "orange\n",
      "peach\n",
      "milk\n",
      "egg\n"
     ]
    }
   ],
   "source": [
    "for (key, value) in dic_price.items():\n",
    "    print(key)"
   ]
  },
  {
   "cell_type": "code",
   "execution_count": 42,
   "metadata": {},
   "outputs": [
    {
     "name": "stdout",
     "output_type": "stream",
     "text": [
      "3.3\n",
      "2.0\n",
      "1.8\n",
      "1.6\n",
      "2.9\n"
     ]
    }
   ],
   "source": [
    "for (key, value) in dic_price.items():\n",
    "    print(value)"
   ]
  },
  {
   "cell_type": "markdown",
   "metadata": {},
   "source": [
    "### While Loops\n",
    "#### 1. Typical while loops\n",
    "#### 2. Break; \n",
    "#### 3. Continue; \n",
    "#### 4. Pass;"
   ]
  },
  {
   "cell_type": "code",
   "execution_count": 48,
   "metadata": {},
   "outputs": [
    {
     "name": "stdout",
     "output_type": "stream",
     "text": [
      "x < 5\n",
      "1\n",
      "x < 5\n",
      "2\n",
      "x < 5\n",
      "3\n",
      "x < 5\n",
      "4\n",
      "x < 5\n",
      "5\n",
      "x=5\n"
     ]
    }
   ],
   "source": [
    "# 1. Typcial While loop:\n",
    "x=0\n",
    "while x<5:\n",
    "    print(\"x < 5\")\n",
    "    x+=1\n",
    "    print(x)\n",
    "else:               #While...else...\n",
    "    print(\"x=5\")\n",
    "     "
   ]
  },
  {
   "cell_type": "code",
   "execution_count": 49,
   "metadata": {},
   "outputs": [
    {
     "name": "stdout",
     "output_type": "stream",
     "text": [
      "S\n",
      "a\n",
      "m\n"
     ]
    }
   ],
   "source": [
    "# 2.1 Break: Break out of current closet loop;\n",
    "str=\"Sammy\"\n",
    "\n",
    "for letter in str:\n",
    "    print(letter)\n",
    "    if letter ==\"m\":\n",
    "        break;\n"
   ]
  },
  {
   "cell_type": "code",
   "execution_count": 51,
   "metadata": {},
   "outputs": [
    {
     "name": "stdout",
     "output_type": "stream",
     "text": [
      "S\n",
      "a\n"
     ]
    }
   ],
   "source": [
    "# 2.2 Break: Break out of current closet loop;\n",
    "str=\"Sammy\"\n",
    "\n",
    "for letter in str:\n",
    "    if letter ==\"m\":\n",
    "        break;\n",
    "    print(letter)"
   ]
  },
  {
   "cell_type": "code",
   "execution_count": 53,
   "metadata": {},
   "outputs": [
    {
     "name": "stdout",
     "output_type": "stream",
     "text": [
      "1\n",
      "2\n"
     ]
    }
   ],
   "source": [
    "# 2.3 Break: Break out of current closet loop;\n",
    "x=0\n",
    "\n",
    "while x<5:\n",
    "    x+=1\n",
    "    if x==3:\n",
    "        break\n",
    "    print(x)"
   ]
  },
  {
   "cell_type": "code",
   "execution_count": 54,
   "metadata": {},
   "outputs": [
    {
     "name": "stdout",
     "output_type": "stream",
     "text": [
      "S\n",
      "a\n",
      "y\n"
     ]
    }
   ],
   "source": [
    "# 3 Continue: Goes to the top of the closest loop.\n",
    "str=\"Sammy\"\n",
    "for letter in str:\n",
    "    if letter ==\"m\": \n",
    "        continue # If it is m, then go to the top of the loop, that Will pass all m.\n",
    "    print(letter)"
   ]
  },
  {
   "cell_type": "code",
   "execution_count": 56,
   "metadata": {},
   "outputs": [
    {
     "name": "stdout",
     "output_type": "stream",
     "text": [
      "1\n",
      "2\n",
      "4\n",
      "5\n"
     ]
    }
   ],
   "source": [
    "# 3.1 Continue:\n",
    "x=0\n",
    "\n",
    "while x<5:\n",
    "    x+=1\n",
    "    if x==3:\n",
    "        continue # If it is 3, then go to the top of the loop, that Will pass 3.\n",
    "    print(x)"
   ]
  },
  {
   "cell_type": "code",
   "execution_count": 2,
   "metadata": {},
   "outputs": [
    {
     "name": "stdout",
     "output_type": "stream",
     "text": [
      "0\n"
     ]
    }
   ],
   "source": [
    "# 4. Pass: Do NOTHING in if:\n",
    "x=0\n",
    "\n",
    "if x<5:\n",
    "    pass #prepare for testing or TODO.\n",
    "\n",
    "print(x)"
   ]
  },
  {
   "cell_type": "code",
   "execution_count": 6,
   "metadata": {},
   "outputs": [
    {
     "name": "stdout",
     "output_type": "stream",
     "text": [
      "[1, 2, 3]\n"
     ]
    }
   ],
   "source": [
    "# 4. Pass: Do NOTHING in for:\n",
    "x=[1,2,3]\n",
    "\n",
    "for num in x:\n",
    "    num+=1\n",
    "    pass #prepare for testing or TODO.\n",
    "\n",
    "print(x)"
   ]
  },
  {
   "cell_type": "code",
   "execution_count": null,
   "metadata": {},
   "outputs": [],
   "source": [
    "#### !Notice: CANNOT use in WHILE! then locked loop."
   ]
  },
  {
   "cell_type": "markdown",
   "metadata": {},
   "source": [
    "### Range\n",
    "#### 1. Range with start, end;\n",
    "#### 2. Range with start, end, step;\n",
    "#### 3. Range into list;\n",
    "#### 4. Range with tuple pair;"
   ]
  },
  {
   "cell_type": "code",
   "execution_count": 9,
   "metadata": {},
   "outputs": [
    {
     "name": "stdout",
     "output_type": "stream",
     "text": [
      "2\n",
      "3\n",
      "4\n",
      "5\n",
      "6\n",
      "7\n",
      "8\n",
      "9\n"
     ]
    }
   ],
   "source": [
    "# 1. Range with start, end:\n",
    "for num in range(2,10):\n",
    "    print (num)\n",
    "#Notice: 10 will not be included, but the beginning 2 will be included."
   ]
  },
  {
   "cell_type": "code",
   "execution_count": 10,
   "metadata": {},
   "outputs": [
    {
     "name": "stdout",
     "output_type": "stream",
     "text": [
      "2\n",
      "5\n",
      "8\n"
     ]
    }
   ],
   "source": [
    "# 2 Range with start, end, step:\n",
    "for num in range(2,10,3):\n",
    "    print(num)"
   ]
  },
  {
   "cell_type": "code",
   "execution_count": 12,
   "metadata": {},
   "outputs": [
    {
     "name": "stdout",
     "output_type": "stream",
     "text": [
      "[2, 5, 8]\n"
     ]
    }
   ],
   "source": [
    "# 3. Range into list:\n",
    "listnum=list(range(2,10,3))\n",
    "print(listnum)"
   ]
  },
  {
   "cell_type": "code",
   "execution_count": 20,
   "metadata": {},
   "outputs": [
    {
     "name": "stdout",
     "output_type": "stream",
     "text": [
      "The index 0 is of char S.\n",
      "The index 1 is of char a.\n",
      "The index 2 is of char m.\n",
      "The index 3 is of char m.\n",
      "The index 4 is of char y.\n"
     ]
    }
   ],
   "source": [
    "# 4.0 Range \n",
    "str=\"Sammy\"\n",
    "indexstr=0\n",
    "\n",
    "for item in str:\n",
    "    print(\"The index {} is of char {}.\".format(indexstr, item))\n",
    "    indexstr+=1"
   ]
  },
  {
   "cell_type": "code",
   "execution_count": 21,
   "metadata": {},
   "outputs": [
    {
     "name": "stdout",
     "output_type": "stream",
     "text": [
      "0 S\n",
      "1 a\n",
      "2 m\n",
      "3 m\n",
      "4 y\n"
     ]
    }
   ],
   "source": [
    "# 4.1 Range \n",
    "str=\"Sammy\"\n",
    "indexstr=0\n",
    "\n",
    "for item in str:\n",
    "    print(indexstr, str[indexstr])\n",
    "    indexstr+=1"
   ]
  },
  {
   "cell_type": "code",
   "execution_count": 51,
   "metadata": {},
   "outputs": [
    {
     "name": "stdout",
     "output_type": "stream",
     "text": [
      "(0, 'S')\n",
      "<class 'tuple'>\n",
      "(1, 'a')\n",
      "<class 'tuple'>\n",
      "(2, 'm')\n",
      "<class 'tuple'>\n",
      "(3, 'm')\n",
      "<class 'tuple'>\n",
      "(4, 'y')\n",
      "<class 'tuple'>\n"
     ]
    }
   ],
   "source": [
    "# 4.2 Range with tuple pair:\n",
    "str=\"Sammy\"\n",
    "\n",
    "for item in enumerate(str): #Get tuples by enumerate().\n",
    "    print(item)\n",
    "    print(type(item))"
   ]
  },
  {
   "cell_type": "code",
   "execution_count": 27,
   "metadata": {},
   "outputs": [
    {
     "name": "stdout",
     "output_type": "stream",
     "text": [
      "0\n",
      "S\n",
      "1\n",
      "a\n",
      "2\n",
      "m\n",
      "3\n",
      "m\n",
      "4\n",
      "y\n"
     ]
    }
   ],
   "source": [
    "#4.3 Get value from tuple:\n",
    "str=\"Sammy\"\n",
    "\n",
    "for (key, value) in enumerate(str):\n",
    "    print(key) #Get key & value\n",
    "    print(value)"
   ]
  },
  {
   "cell_type": "markdown",
   "metadata": {},
   "source": [
    "### 5. In():"
   ]
  },
  {
   "cell_type": "code",
   "execution_count": 29,
   "metadata": {},
   "outputs": [
    {
     "name": "stdout",
     "output_type": "stream",
     "text": [
      "True\n",
      "True\n"
     ]
    }
   ],
   "source": [
    "# 5. Check if sth. in sth:\n",
    "print(\"s\" in \"string\")\n",
    "print(5 in [3,4,1,5])"
   ]
  },
  {
   "cell_type": "code",
   "execution_count": 30,
   "metadata": {},
   "outputs": [
    {
     "name": "stdout",
     "output_type": "stream",
     "text": [
      "True\n"
     ]
    }
   ],
   "source": [
    "# 5.1 Check if sth. in dictionary:\n",
    "print('key' in {\"key\":\"value\"})"
   ]
  },
  {
   "cell_type": "code",
   "execution_count": 31,
   "metadata": {},
   "outputs": [
    {
     "name": "stdout",
     "output_type": "stream",
     "text": [
      "True\n"
     ]
    }
   ],
   "source": [
    "dic={\"key1\":\"value1\",\"key2\":\"value2\",\"key3\":\"value3\"}\n",
    "print('key1' in dic)"
   ]
  },
  {
   "cell_type": "code",
   "execution_count": 39,
   "metadata": {},
   "outputs": [
    {
     "name": "stdout",
     "output_type": "stream",
     "text": [
      "True\n",
      "True\n"
     ]
    }
   ],
   "source": [
    "dic={\"key1\":\"value1\",\"key2\":\"value2\",\"key3\":\"value3\"}\n",
    "print('key1' in dic.keys()) #dic.keys(): Get keys by list: dict_keys(['key1', 'key2', 'key3'])\n",
    "\n",
    "dic={\"key1\":\"value1\",\"key2\":\"value2\",\"key3\":\"value3\"}\n",
    "print('value2' in dic.values()) #dic.values(): Get values by list: dict_values(['value1', 'value2', 'value3'])"
   ]
  },
  {
   "cell_type": "markdown",
   "metadata": {},
   "source": [
    "### 6. random library:\n",
    "#### 1. shuffle numbers;\n",
    "#### 2. Get random number;"
   ]
  },
  {
   "cell_type": "code",
   "execution_count": 47,
   "metadata": {},
   "outputs": [
    {
     "name": "stdout",
     "output_type": "stream",
     "text": [
      "None\n",
      "[9, 1, 2, 3, 7, 8, 6, 10, 5, 4]\n",
      "['e', 'b', 'c', 'd', 'a']\n"
     ]
    }
   ],
   "source": [
    "# 1. shuffle numbers:\n",
    "from random import shuffle\n",
    "listInt=[1,2,3,4,5,6,7,8,9,10]\n",
    "\n",
    "shuffledList=shuffle(listInt) #None return when call shuffle function.\n",
    "\n",
    "print(shuffledList)\n",
    "print(listInt)\n",
    "\n",
    "# 1.1 Shuffle chars:\n",
    "liststr=[\"a\",\"b\",\"c\",\"d\",\"e\"]\n",
    "shuffle(liststr)\n",
    "print(liststr)"
   ]
  },
  {
   "cell_type": "code",
   "execution_count": 50,
   "metadata": {},
   "outputs": [
    {
     "name": "stdout",
     "output_type": "stream",
     "text": [
      "30\n"
     ]
    }
   ],
   "source": [
    "# 2. Get random number.\n",
    "from random import randint\n",
    "\n",
    "result=randint(3,39) #randint(start, end)\n",
    "print(result)"
   ]
  },
  {
   "cell_type": "markdown",
   "metadata": {},
   "source": [
    "### 7. input()\n",
    "#### 1. Get input as parameters;\n",
    "#### 2. Transfer input to int."
   ]
  },
  {
   "cell_type": "code",
   "execution_count": 51,
   "metadata": {},
   "outputs": [
    {
     "name": "stdout",
     "output_type": "stream",
     "text": [
      "Please input:test\n",
      "test\n"
     ]
    }
   ],
   "source": [
    "# 7.1 Get input:\n",
    "para=input(\"Please input:\")\n",
    "print(para)"
   ]
  },
  {
   "cell_type": "code",
   "execution_count": 54,
   "metadata": {},
   "outputs": [
    {
     "name": "stdout",
     "output_type": "stream",
     "text": [
      "Input an integer:33\n",
      "<class 'str'>\n",
      "<class 'int'>\n"
     ]
    }
   ],
   "source": [
    "#7.2 transfer to int:\n",
    "para=input(\"Input an integer:\")\n",
    "print(type(para)) #Originally, all the input will be in string.\n",
    "\n",
    "para=int(para) #Transfer to integer.\n",
    "print(type(para))"
   ]
  },
  {
   "cell_type": "markdown",
   "metadata": {},
   "source": [
    "### 8. Help & Documentation:"
   ]
  },
  {
   "cell_type": "code",
   "execution_count": 4,
   "metadata": {},
   "outputs": [
    {
     "name": "stdout",
     "output_type": "stream",
     "text": [
      "[3, 4, 2, 7]\n"
     ]
    }
   ],
   "source": [
    "# Hit Shift+Tab to get built-in help in Jupyter.\n",
    "listInt=[3,4,2]\n",
    "listInt2=listInt.append(7)\n",
    "print(listInt)"
   ]
  },
  {
   "cell_type": "markdown",
   "metadata": {},
   "source": [
    "### 9. Functions:\n",
    "#### 9.1 parameter & parameter with default value;\n",
    "#### 9.2 Return the result and check the type;\n",
    "#### 9.3 Condition optimize: when Boolean\n",
    "#### 9.4 Pig latin e.g."
   ]
  },
  {
   "cell_type": "code",
   "execution_count": 10,
   "metadata": {},
   "outputs": [],
   "source": [
    "# 9.1 parameter & parameter with default value;\n",
    "def hello(name=\"DEFAULT_NAME\"):\n",
    "    print(\"hello \"+name)"
   ]
  },
  {
   "cell_type": "code",
   "execution_count": 11,
   "metadata": {},
   "outputs": [
    {
     "name": "stdout",
     "output_type": "stream",
     "text": [
      "hello David\n"
     ]
    }
   ],
   "source": [
    "hello(\"David\")"
   ]
  },
  {
   "cell_type": "code",
   "execution_count": 12,
   "metadata": {},
   "outputs": [
    {
     "name": "stdout",
     "output_type": "stream",
     "text": [
      "hello DEFAULT_NAME\n"
     ]
    }
   ],
   "source": [
    "hello() #Default parameter: avoid the missed parameter."
   ]
  },
  {
   "cell_type": "code",
   "execution_count": 13,
   "metadata": {},
   "outputs": [],
   "source": [
    "# 9.2 Return the result and check the type;\n",
    "def add(n1,n2=0):\n",
    "    result=n1+n2"
   ]
  },
  {
   "cell_type": "code",
   "execution_count": 16,
   "metadata": {},
   "outputs": [
    {
     "data": {
      "text/plain": [
       "NoneType"
      ]
     },
     "execution_count": 16,
     "metadata": {},
     "output_type": "execute_result"
    }
   ],
   "source": [
    "type(add(3,4)) #No return, so the type of function is none."
   ]
  },
  {
   "cell_type": "code",
   "execution_count": 17,
   "metadata": {},
   "outputs": [],
   "source": [
    "def add(n1,n2=0):\n",
    "    result=n1+n2\n",
    "    return result"
   ]
  },
  {
   "cell_type": "code",
   "execution_count": 18,
   "metadata": {},
   "outputs": [
    {
     "data": {
      "text/plain": [
       "int"
      ]
     },
     "execution_count": 18,
     "metadata": {},
     "output_type": "execute_result"
    }
   ],
   "source": [
    "type(add(3,4))"
   ]
  },
  {
   "cell_type": "code",
   "execution_count": 25,
   "metadata": {},
   "outputs": [
    {
     "name": "stdout",
     "output_type": "stream",
     "text": [
      "True\n",
      "False\n"
     ]
    }
   ],
   "source": [
    "#### 9.3 Condition optimize: when Boolean\n",
    "def dog_check(str='default'): #Not too simple.\n",
    "    if 'dog' in str.lower():\n",
    "        return True\n",
    "    else: \n",
    "        return False\n",
    "\n",
    "print(dog_check(\"My Dog ran away.\"))\n",
    "print(dog_check(\"My cat ran away.\"))"
   ]
  },
  {
   "cell_type": "code",
   "execution_count": 26,
   "metadata": {},
   "outputs": [
    {
     "name": "stdout",
     "output_type": "stream",
     "text": [
      "True\n",
      "False\n"
     ]
    }
   ],
   "source": [
    "def dog_check(str='default'):\n",
    "    return 'dog' in str.lower() #This is much more better in one line.\n",
    "\n",
    "print(dog_check(\"My Dog ran away.\"))\n",
    "print(dog_check(\"My cat ran away.\"))"
   ]
  },
  {
   "cell_type": "code",
   "execution_count": 27,
   "metadata": {},
   "outputs": [],
   "source": [
    "# 9.4 Pig latin:\n",
    "# if a word starts with vowel (\"aeiou\"), add 'ay' to the end.\n",
    "# if a word doesn't start with vowel, put the 1st letter to the end and add 'ay' to the end.\n",
    "# e.g.: 'word'-->ordway; 'apple'-->appleay\n",
    "\n",
    "def pig_latin(word='default'):\n",
    "    if word[0] in 'aeiou':\n",
    "        return word+'ay'\n",
    "    else:\n",
    "        return word[1:]+word[0]+'ay'\n"
   ]
  },
  {
   "cell_type": "code",
   "execution_count": 28,
   "metadata": {},
   "outputs": [
    {
     "data": {
      "text/plain": [
       "'appleay'"
      ]
     },
     "execution_count": 28,
     "metadata": {},
     "output_type": "execute_result"
    }
   ],
   "source": [
    "pig_latin('apple')"
   ]
  },
  {
   "cell_type": "code",
   "execution_count": 29,
   "metadata": {},
   "outputs": [
    {
     "data": {
      "text/plain": [
       "'ordway'"
      ]
     },
     "execution_count": 29,
     "metadata": {},
     "output_type": "execute_result"
    }
   ],
   "source": [
    "pig_latin('word')"
   ]
  },
  {
   "cell_type": "markdown",
   "metadata": {},
   "source": [
    "### 10.*args & **kwargs"
   ]
  },
  {
   "cell_type": "markdown",
   "metadata": {},
   "source": [
    "#### 1. *args: multiple argument will be transfered and considered as a bundle TUPLE.\n",
    "#### 2. **kwargs: multiple argument with keyword & values will be transferred and considered as a bundle DICTIONARY."
   ]
  },
  {
   "cell_type": "code",
   "execution_count": 3,
   "metadata": {},
   "outputs": [
    {
     "data": {
      "text/plain": [
       "8"
      ]
     },
     "execution_count": 3,
     "metadata": {},
     "output_type": "execute_result"
    }
   ],
   "source": [
    "# 10.1 Original withouth *args:\n",
    "def myfun(a,b,c): #Positional arguments.\n",
    "    return a+b+c\n",
    "\n",
    "myfun(3,4,1)"
   ]
  },
  {
   "cell_type": "code",
   "execution_count": 30,
   "metadata": {},
   "outputs": [
    {
     "name": "stdout",
     "output_type": "stream",
     "text": [
      "(3, 4, 1)\n",
      "3\n",
      "4\n",
      "1\n"
     ]
    },
    {
     "data": {
      "text/plain": [
       "8"
      ]
     },
     "execution_count": 30,
     "metadata": {},
     "output_type": "execute_result"
    }
   ],
   "source": [
    "# 10.2 With *args in tuple:\n",
    "def myfun(*args):\n",
    "    print(args) #print the args in tuple.\n",
    "    \n",
    "    for item in args: #iterate all items in tuple.\n",
    "        print(item)\n",
    "        \n",
    "    return sum(args) #args: withouth *; means it could receive multiple arguments as a tuple.\n",
    "\n",
    "myfun(3,4,1)"
   ]
  },
  {
   "cell_type": "code",
   "execution_count": 20,
   "metadata": {},
   "outputs": [
    {
     "name": "stdout",
     "output_type": "stream",
     "text": [
      "{'fruit': 'apple'}\n"
     ]
    },
    {
     "data": {
      "text/plain": [
       "'this is my fruit: apple'"
      ]
     },
     "execution_count": 20,
     "metadata": {},
     "output_type": "execute_result"
    }
   ],
   "source": [
    "# 10.3 With **kwargs:\n",
    "def myfunc(**kwargs):\n",
    "    print(kwargs)\n",
    "    if 'fruit' in kwargs:\n",
    "        return (\"this is my fruit: {}\".format(kwargs['fruit']))\n",
    "    else:\n",
    "        return (\"I do not know.\")\n",
    "\n",
    "myfunc(fruit=\"apple\") #Pass keyword.\n"
   ]
  },
  {
   "cell_type": "code",
   "execution_count": 21,
   "metadata": {},
   "outputs": [
    {
     "name": "stdout",
     "output_type": "stream",
     "text": [
      "{'veggi': 'lettuce'}\n"
     ]
    },
    {
     "data": {
      "text/plain": [
       "'I do not know.'"
      ]
     },
     "execution_count": 21,
     "metadata": {},
     "output_type": "execute_result"
    }
   ],
   "source": [
    "myfunc(veggi=\"lettuce\")"
   ]
  },
  {
   "cell_type": "code",
   "execution_count": 22,
   "metadata": {},
   "outputs": [
    {
     "name": "stdout",
     "output_type": "stream",
     "text": [
      "{'fruit': 'apple', 'veggi': 'lettuce'}\n"
     ]
    },
    {
     "data": {
      "text/plain": [
       "'this is my fruit: apple'"
      ]
     },
     "execution_count": 22,
     "metadata": {},
     "output_type": "execute_result"
    }
   ],
   "source": [
    "myfunc(fruit=\"apple\",veggi=\"lettuce\")"
   ]
  },
  {
   "cell_type": "code",
   "execution_count": 26,
   "metadata": {},
   "outputs": [
    {
     "name": "stdout",
     "output_type": "stream",
     "text": [
      "(23, 34, 44)\n",
      "{'fruit': 'apple', 'veggi': 'lettuce', 'animal': 'dog'}\n"
     ]
    },
    {
     "data": {
      "text/plain": [
       "'I would like 23 lettuce.'"
      ]
     },
     "execution_count": 26,
     "metadata": {},
     "output_type": "execute_result"
    }
   ],
   "source": [
    "# 10.3 Combination: *args & **kwargs.\n",
    "def myfunc(*args, **kwargs):\n",
    "    print(args)\n",
    "    print(kwargs)\n",
    "    \n",
    "    if 'veggi' in kwargs:\n",
    "        return (\"I would like {} {}.\".format(args[0], kwargs['veggi']))\n",
    "    else:\n",
    "        return (\"No idea.\")\n",
    "    \n",
    "myfunc(23,34,44, fruit=\"apple\",veggi=\"lettuce\",animal=\"dog\") #keep in the order: args(in tuple) then kwargs in dictionay."
   ]
  },
  {
   "cell_type": "code",
   "execution_count": 27,
   "metadata": {},
   "outputs": [
    {
     "ename": "SyntaxError",
     "evalue": "positional argument follows keyword argument (<ipython-input-27-6a9671db2e54>, line 1)",
     "output_type": "error",
     "traceback": [
      "\u001b[1;36m  File \u001b[1;32m\"<ipython-input-27-6a9671db2e54>\"\u001b[1;36m, line \u001b[1;32m1\u001b[0m\n\u001b[1;33m    myfunc(23,34,44, fruit=\"apple\",veggi=\"lettuce\",animal=\"dog\", 20)\u001b[0m\n\u001b[1;37m                                                                ^\u001b[0m\n\u001b[1;31mSyntaxError\u001b[0m\u001b[1;31m:\u001b[0m positional argument follows keyword argument\n"
     ]
    }
   ],
   "source": [
    "myfunc(23,34,44, fruit=\"apple\",veggi=\"lettuce\",animal=\"dog\", 20) # ERROR: 20 should be in the args."
   ]
  },
  {
   "cell_type": "code",
   "execution_count": 53,
   "metadata": {},
   "outputs": [
    {
     "name": "stdout",
     "output_type": "stream",
     "text": [
      "0 t\n",
      "<class 'int'> <class 'str'>\n",
      "1 e\n",
      "<class 'int'> <class 'str'>\n",
      "2 s\n",
      "<class 'int'> <class 'str'>\n",
      "3 t\n",
      "<class 'int'> <class 'str'>\n",
      "4 T\n",
      "<class 'int'> <class 'str'>\n",
      "5 h\n",
      "<class 'int'> <class 'str'>\n",
      "6 e\n",
      "<class 'int'> <class 'str'>\n",
      "7 s\n",
      "<class 'int'> <class 'str'>\n",
      "8 e\n",
      "<class 'int'> <class 'str'>\n",
      "9 N\n",
      "<class 'int'> <class 'str'>\n",
      "10 T\n",
      "<class 'int'> <class 'str'>\n",
      "11 e\n",
      "<class 'int'> <class 'str'>\n",
      "12 n\n",
      "<class 'int'> <class 'str'>\n",
      "13 s\n",
      "<class 'int'> <class 'str'>\n",
      "14 e\n",
      "<class 'int'> <class 'str'>\n"
     ]
    },
    {
     "data": {
      "text/plain": [
       "'TeStThEsEnTeNsE'"
      ]
     },
     "execution_count": 53,
     "metadata": {},
     "output_type": "execute_result"
    }
   ],
   "source": [
    "# e.g.: Skyline: even letter-->turn to Upper case; odd letter-->turn to lower case;\n",
    "def myfunc(str):\n",
    "    newstr=\"\"\n",
    "    for (index, item) in enumerate(str): #enumerate(): make string into \"index\"+\"string\"; OR make string into tuple: for item in enumerate(str)\n",
    "        print(index, item)\n",
    "        print(type(index), type(item))\n",
    "        \n",
    "        if index%2==0:\n",
    "            newstr+=item.upper() #String: No append(), just +; List: append()\n",
    "        else:\n",
    "            newstr+=item.lower()\n",
    "    return newstr\n",
    "\n",
    "myfunc('testTheseNTense')"
   ]
  },
  {
   "cell_type": "markdown",
   "metadata": {},
   "source": [
    "### 11. map()-for\n",
    "#### 1.map func to iteration. "
   ]
  },
  {
   "cell_type": "code",
   "execution_count": 55,
   "metadata": {},
   "outputs": [],
   "source": [
    "# map():\n",
    "def myfunc(num):\n",
    "    return num**2"
   ]
  },
  {
   "cell_type": "code",
   "execution_count": 58,
   "metadata": {},
   "outputs": [
    {
     "name": "stdout",
     "output_type": "stream",
     "text": [
      "<map object at 0x00000203140024A8>\n",
      "<class 'map'>\n",
      "[4, 25, 49, 1, 64]\n"
     ]
    }
   ],
   "source": [
    "listInt=[2,5,7,1,8] # Any iteration-list\n",
    "\n",
    "print(map(myfunc, listInt))\n",
    "print(type(map(myfunc, listInt)))\n",
    "print(list(map(myfunc, listInt)))"
   ]
  },
  {
   "cell_type": "code",
   "execution_count": 59,
   "metadata": {},
   "outputs": [
    {
     "name": "stdout",
     "output_type": "stream",
     "text": [
      "4\n",
      "25\n",
      "49\n",
      "1\n",
      "64\n"
     ]
    }
   ],
   "source": [
    "for item in map(myfunc, listInt):\n",
    "    print(item)"
   ]
  },
  {
   "cell_type": "code",
   "execution_count": 61,
   "metadata": {},
   "outputs": [
    {
     "name": "stdout",
     "output_type": "stream",
     "text": [
      "<map object at 0x0000020313FF5CF8>\n",
      "<class 'map'>\n",
      "[4, 25, 49, 1, 64]\n"
     ]
    }
   ],
   "source": [
    "tupleInt=(2,5,7,1,8) # Any iteration-tuple\n",
    "\n",
    "print(map(myfunc, tupleInt))\n",
    "print(type(map(myfunc, tupleInt)))\n",
    "print(list(map(myfunc, tupleInt)))"
   ]
  },
  {
   "cell_type": "markdown",
   "metadata": {},
   "source": [
    "### 12. filter()-for+if:\n"
   ]
  },
  {
   "cell_type": "code",
   "execution_count": 66,
   "metadata": {},
   "outputs": [],
   "source": [
    "def check_even(num):\n",
    "    if num%2==0:\n",
    "        return True\n",
    "    \n",
    "def check_even2(num):\n",
    "    if num%2!=0:\n",
    "        return False\n",
    "    else:\n",
    "        return True"
   ]
  },
  {
   "cell_type": "code",
   "execution_count": 67,
   "metadata": {},
   "outputs": [
    {
     "name": "stdout",
     "output_type": "stream",
     "text": [
      "<filter object at 0x0000020313FF5AC8>\n",
      "<class 'filter'>\n",
      "[2, 8]\n"
     ]
    }
   ],
   "source": [
    "nums=[2,5,7,1,8]\n",
    "print(filter(check_even, nums))\n",
    "print(type(filter(check_even, nums)))\n",
    "print(list(filter(check_even, nums)))"
   ]
  },
  {
   "cell_type": "code",
   "execution_count": 68,
   "metadata": {},
   "outputs": [
    {
     "name": "stdout",
     "output_type": "stream",
     "text": [
      "<filter object at 0x0000020313FF5400>\n",
      "<class 'filter'>\n",
      "[2, 8]\n"
     ]
    }
   ],
   "source": [
    "nums=[2,5,7,1,8]\n",
    "print(filter(check_even2, nums))\n",
    "print(type(filter(check_even2, nums)))# Filter: filter TRUE!\n",
    "print(list(filter(check_even2, nums))) "
   ]
  },
  {
   "cell_type": "markdown",
   "metadata": {},
   "source": [
    "### 13. Lambda():\n",
    "#### 13.1 square-map;\n",
    "#### 13.2 check_even-filter;\n",
    "#### 13.3 first letter;\n",
    "#### 13.4 reverse name;"
   ]
  },
  {
   "cell_type": "code",
   "execution_count": 69,
   "metadata": {},
   "outputs": [],
   "source": [
    "# 13.1 square-Original:\n",
    "def square(num):\n",
    "    return num**2"
   ]
  },
  {
   "cell_type": "code",
   "execution_count": 73,
   "metadata": {},
   "outputs": [
    {
     "name": "stdout",
     "output_type": "stream",
     "text": [
      "<map object at 0x0000020313FE4E48>\n",
      "[4, 25, 49, 1, 64]\n"
     ]
    }
   ],
   "source": [
    "listInt=[2,5,7,1,8]\n",
    "print(map(lambda num:num**2, listInt))\n",
    "print(list(map(lambda num:num**2, listInt)))\n",
    "print()"
   ]
  },
  {
   "cell_type": "code",
   "execution_count": 74,
   "metadata": {},
   "outputs": [
    {
     "name": "stdout",
     "output_type": "stream",
     "text": [
      "[2, 8]\n"
     ]
    }
   ],
   "source": [
    "# 13.2 check_even+filter:\n",
    "print(list(filter(lambda num:num%2==0, listInt)))"
   ]
  },
  {
   "cell_type": "code",
   "execution_count": 78,
   "metadata": {},
   "outputs": [
    {
     "name": "stdout",
     "output_type": "stream",
     "text": [
      "['S', 'E', 'T']\n"
     ]
    }
   ],
   "source": [
    "# 13.3 get the 1st letter\n",
    "listname=['Sally','Eve','Tom']\n",
    "\n",
    "print(list(map(lambda str: str[0], listname)))"
   ]
  },
  {
   "cell_type": "code",
   "execution_count": 79,
   "metadata": {},
   "outputs": [
    {
     "name": "stdout",
     "output_type": "stream",
     "text": [
      "['yllaS', 'evE', 'moT']\n"
     ]
    }
   ],
   "source": [
    "# 13.4 Reverse the letters in the names:\n",
    "print(list(map(lambda str: str[::-1], listname)))"
   ]
  },
  {
   "cell_type": "markdown",
   "metadata": {},
   "source": [
    "### 14. Variable scope:\n",
    "#### Rules: LEGB: Local, enclosing, global, built-in\n",
    "#### 1. scope example"
   ]
  },
  {
   "cell_type": "code",
   "execution_count": 120,
   "metadata": {},
   "outputs": [],
   "source": [
    "# 14.1\n",
    "x='Global' #GLOBAL\n",
    "\n",
    "def func_outer(x):\n",
    "    x='Enclosing rewritten Global'\n",
    "    print(x)\n",
    "    \n",
    "    def func_inner(x):\n",
    "        x='Local rewritten Global'#LOCAL\n",
    "        print(x)\n",
    "    "
   ]
  },
  {
   "cell_type": "code",
   "execution_count": 121,
   "metadata": {},
   "outputs": [
    {
     "name": "stdout",
     "output_type": "stream",
     "text": [
      "Enclosing rewritten Global\n",
      "None\n",
      "Global\n"
     ]
    }
   ],
   "source": [
    "print(func_outer(x)) \n",
    "print(x)"
   ]
  },
  {
   "cell_type": "code",
   "execution_count": 113,
   "metadata": {},
   "outputs": [],
   "source": [
    "x='Global'\n",
    "def func_outer():\n",
    "    \n",
    "    global x # Affect global x overall, but should avoid to use this.\n",
    "    print(f'X1 is {x}') #X1 is Global\n",
    "    \n",
    "    x='Enclosing rewritten Global'\n",
    "    print(f'X2 is {x}') #X2 is Enclosing rewritten Global"
   ]
  },
  {
   "cell_type": "code",
   "execution_count": 114,
   "metadata": {},
   "outputs": [
    {
     "name": "stdout",
     "output_type": "stream",
     "text": [
      "Global\n",
      "X1 is Global\n",
      "X2 is Enclosing rewritten Global\n",
      "None\n",
      "Enclosing rewritten Global\n"
     ]
    }
   ],
   "source": [
    "print(x) #Global\n",
    "print(func_outer()) #X1 is Global,X2 is Enclosing rewritten Global\n",
    "print(x) #Enclosing rewritten Global(Global x affected.)"
   ]
  },
  {
   "cell_type": "code",
   "execution_count": 123,
   "metadata": {},
   "outputs": [],
   "source": [
    "x='Global'\n",
    "def func_outer():\n",
    "    \n",
    "    global x # Affect global x overall, but should avoid to use this.\n",
    "    print(f'X1 is {x}') #X1 is Global\n",
    "    \n",
    "    def func_inner():\n",
    "        x='Enclosing rewritten Global'\n",
    "        print(f'X2 is {x}') #X2 is Enclosing rewritten Global"
   ]
  },
  {
   "cell_type": "code",
   "execution_count": 124,
   "metadata": {},
   "outputs": [
    {
     "name": "stdout",
     "output_type": "stream",
     "text": [
      "Global\n",
      "X1 is Global\n",
      "None\n",
      "Global\n"
     ]
    }
   ],
   "source": [
    "print(x) #Enclosing rewritten Global(Global x affected.)\n",
    "print(func_outer())\n",
    "print(x)"
   ]
  },
  {
   "cell_type": "code",
   "execution_count": 129,
   "metadata": {},
   "outputs": [],
   "source": [
    "# 14.2 another eg.:\n",
    "name=\"GLOBAL\"\n",
    "\n",
    "def func_out():\n",
    "    name=\"ENCLOSE\"\n",
    "    \n",
    "    def func_in():\n",
    "        name=\"LOCAL\"\n",
    "        print(name)\n",
    "        \n",
    "    print(name)     #ENCLOSE\n",
    "    func_in()       #LOCAL\n",
    "    print(name)     #ENCLOSE"
   ]
  },
  {
   "cell_type": "code",
   "execution_count": 131,
   "metadata": {},
   "outputs": [
    {
     "name": "stdout",
     "output_type": "stream",
     "text": [
      "ENCLOSE\n",
      "LOCAL\n",
      "ENCLOSE\n",
      "None\n",
      "Global\n"
     ]
    }
   ],
   "source": [
    "print(func_out())\n",
    "print(x)"
   ]
  },
  {
   "cell_type": "markdown",
   "metadata": {},
   "source": [
    "### 15. OOP:\n",
    "#### 1. Create the Class\n",
    "#### 2. Create the instance and assign attributes.\n",
    "#### 3. Get the type and attributes.\n",
    "#### 4. Reassign the default paratmeters\n",
    "#### 5. Reassign a different type of default parameters:\n",
    "#### 6. Another way to assign values to attributes.\n",
    "#### 7. Class attributes VS instanct attributes.\n",
    "#### 8. Methods:\n",
    "#### 9. Anothe case."
   ]
  },
  {
   "cell_type": "code",
   "execution_count": 144,
   "metadata": {},
   "outputs": [],
   "source": [
    "# 15.1: Create the class:\n",
    "class Dog():\n",
    "    def __init__(self, breed, name, spots=False): # parameters: breed, name, spots.Self: the instant and connect it with the class.\n",
    "        self.dogBreed=breed # Attribute: dogBreed, name, IfSpots.(MUST call attributes! not parameter name.)\n",
    "        self.name=name # Self: the instant and connect it with the attributes.\n",
    "        self.IfSpots=spots"
   ]
  },
  {
   "cell_type": "code",
   "execution_count": 145,
   "metadata": {},
   "outputs": [
    {
     "ename": "TypeError",
     "evalue": "__init__() missing 2 required positional arguments: 'breed' and 'name'",
     "output_type": "error",
     "traceback": [
      "\u001b[1;31m---------------------------------------------------------------------------\u001b[0m",
      "\u001b[1;31mTypeError\u001b[0m                                 Traceback (most recent call last)",
      "\u001b[1;32m<ipython-input-145-77310048b0ef>\u001b[0m in \u001b[0;36m<module>\u001b[1;34m\u001b[0m\n\u001b[0;32m      1\u001b[0m \u001b[1;31m# 15.2: Create the instance and assign attributes:\u001b[0m\u001b[1;33m\u001b[0m\u001b[1;33m\u001b[0m\u001b[1;33m\u001b[0m\u001b[0m\n\u001b[1;32m----> 2\u001b[1;33m \u001b[0mmydog\u001b[0m\u001b[1;33m=\u001b[0m\u001b[0mDog\u001b[0m\u001b[1;33m(\u001b[0m\u001b[1;33m)\u001b[0m \u001b[1;31m#MUST assign attributes.\u001b[0m\u001b[1;33m\u001b[0m\u001b[1;33m\u001b[0m\u001b[0m\n\u001b[0m",
      "\u001b[1;31mTypeError\u001b[0m: __init__() missing 2 required positional arguments: 'breed' and 'name'"
     ]
    }
   ],
   "source": [
    "# 15.2: Create the instance and assign attributes:\n",
    "mydog=Dog() # MUST assign attributes if some parameter assigned in the Class definition."
   ]
  },
  {
   "cell_type": "code",
   "execution_count": 146,
   "metadata": {},
   "outputs": [],
   "source": [
    "mydog=Dog('lab','Sammy')"
   ]
  },
  {
   "cell_type": "code",
   "execution_count": 149,
   "metadata": {},
   "outputs": [
    {
     "name": "stdout",
     "output_type": "stream",
     "text": [
      "<class '__main__.Dog'> lab Sammy False\n"
     ]
    }
   ],
   "source": [
    "# 15.3 Get the type and attributes.\n",
    "print(type(mydog),mydog.dogBreed, mydog.name, mydog.IfSpots) #(MUST call attributes! not parameter name.)"
   ]
  },
  {
   "cell_type": "code",
   "execution_count": 151,
   "metadata": {},
   "outputs": [
    {
     "name": "stdout",
     "output_type": "stream",
     "text": [
      "lab1 Tom True\n"
     ]
    }
   ],
   "source": [
    "# 15.4 Reassign the default paratmeters:\n",
    "mydog=Dog('lab1','Tom', True)\n",
    "print(mydog.dogBreed, mydog.name, mydog.IfSpots)"
   ]
  },
  {
   "cell_type": "code",
   "execution_count": 152,
   "metadata": {},
   "outputs": [
    {
     "name": "stdout",
     "output_type": "stream",
     "text": [
      "lab2 Jerry NO spots\n"
     ]
    }
   ],
   "source": [
    "# 15.5 Reassign a different type of default parameters:\n",
    "mydog=Dog('lab2','Jerry','NO spots')\n",
    "print(mydog.dogBreed, mydog.name, mydog.IfSpots) #Python will not identify the type of parameters."
   ]
  },
  {
   "cell_type": "code",
   "execution_count": 155,
   "metadata": {},
   "outputs": [
    {
     "name": "stdout",
     "output_type": "stream",
     "text": [
      "lab2 Jerry NO spots\n"
     ]
    }
   ],
   "source": [
    "# 15.6 Another way to assign values to attributes.\n",
    "mydog=Dog(breed='lab2', name='Jerry', spots='NO spots') # Assign with the name of parameters, NOT attributes name.\n",
    "print(mydog.dogBreed, mydog.name, mydog.IfSpots) "
   ]
  },
  {
   "cell_type": "code",
   "execution_count": 156,
   "metadata": {},
   "outputs": [],
   "source": [
    "# 15.7 Class Attributes:\n",
    "class Dog():\n",
    "    species=\"mammal\"\n",
    "    def __init__(self, breed, name, spots=False): # parameters: breed, name, spots.Self: the instant and connect it with the class.\n",
    "        self.dogBreed=breed # Attribute: dogBreed, name, IfSpots.(MUST call attributes! not parameter name.)\n",
    "        self.name=name # Self: the instant and connect it with the attributes.\n",
    "        self.IfSpots=spots"
   ]
  },
  {
   "cell_type": "code",
   "execution_count": 157,
   "metadata": {},
   "outputs": [],
   "source": [
    "mydog=Dog('lab3','Danny', True)"
   ]
  },
  {
   "cell_type": "code",
   "execution_count": 158,
   "metadata": {},
   "outputs": [
    {
     "name": "stdout",
     "output_type": "stream",
     "text": [
      "mammal lab3 Danny True\n"
     ]
    }
   ],
   "source": [
    "print(mydog.species, mydog.dogBreed, mydog.name, mydog.IfSpots) #species: Class attributes."
   ]
  },
  {
   "cell_type": "code",
   "execution_count": 163,
   "metadata": {},
   "outputs": [],
   "source": [
    "# 15.8: Method：\n",
    "class Dog():\n",
    "    species=\"mammal\"\n",
    "    def __init__(self, breed, name, spots=False): # parameters: breed, name, spots.Self: the instant and connect it with the class.\n",
    "        self.dogBreed=breed # Attribute: dogBreed, name, IfSpots.(MUST call attributes! not parameter name.)\n",
    "        self.name=name # Self: the instant and connect it with the attributes.\n",
    "        self.IfSpots=spots\n",
    "        \n",
    "    def bark(self, number): # number: Outer parameter, not the instant number.So no self. in front of it.\n",
    "        print(\"My name is {}, I am a {} breed dog spots {} and my num is {}\".format(self.name, self.dogBreed, self.IfSpots, number))"
   ]
  },
  {
   "cell_type": "code",
   "execution_count": 164,
   "metadata": {},
   "outputs": [],
   "source": [
    "mydog=Dog('Sammy','lab1')"
   ]
  },
  {
   "cell_type": "code",
   "execution_count": 166,
   "metadata": {},
   "outputs": [
    {
     "name": "stdout",
     "output_type": "stream",
     "text": [
      "My name is lab1, I am a Sammy breed dog spots False and my num is 10\n"
     ]
    }
   ],
   "source": [
    "mydog.bark(10) # breed: Class attributes, name: instance attributes, spots: default FALSE, number: outer parameter.s"
   ]
  },
  {
   "cell_type": "code",
   "execution_count": 171,
   "metadata": {},
   "outputs": [],
   "source": [
    "# 9. Another case: Circle\n",
    "class Circle():\n",
    "    pi=3.14\n",
    "    \n",
    "    def __init__(self, radius=1):\n",
    "        self.radius=radius\n",
    "        self.area=self.radius*self.radius*Circle.pi #Class attribute.\n",
    "        \n",
    "    def get_circumference(self): #The method in the class: MUST have self to connect the particular instance to the method.\n",
    "        return (2*Circle.pi*self.radius)"
   ]
  },
  {
   "cell_type": "code",
   "execution_count": 174,
   "metadata": {},
   "outputs": [
    {
     "name": "stdout",
     "output_type": "stream",
     "text": [
      "28.26\n",
      "3\n",
      "18.84\n"
     ]
    }
   ],
   "source": [
    "c=Circle(3)\n",
    "print(c.area)\n",
    "print(c.radius)\n",
    "print(c.get_circumference())"
   ]
  },
  {
   "cell_type": "markdown",
   "metadata": {},
   "source": [
    "### 16. Inheritance\n",
    "#### 1. Father class;\n",
    "#### 2. Son class and call father methods;\n",
    "#### 3. Overwrite father methods.\n",
    "#### 4. Add new methods\n"
   ]
  },
  {
   "cell_type": "code",
   "execution_count": 193,
   "metadata": {},
   "outputs": [],
   "source": [
    "# 1. Father class:\n",
    "class Animal():\n",
    "    def __init__(self):\n",
    "        print(\"Animal created.\")\n",
    "        \n",
    "    def eat(self):\n",
    "        print(\"Animal eats.\")"
   ]
  },
  {
   "cell_type": "code",
   "execution_count": 194,
   "metadata": {},
   "outputs": [],
   "source": [
    "#2. Son class:\n",
    "class Dog(Animal):\n",
    "    def __init__(self):\n",
    "        Animal.__init__(self) #Animal will not call animal.__init__() if without this statement.\n",
    "        print(\"dog created.\")\n",
    "        \n",
    "    def bark(self):\n",
    "        print(\"dog bark.\")"
   ]
  },
  {
   "cell_type": "code",
   "execution_count": 195,
   "metadata": {},
   "outputs": [
    {
     "name": "stdout",
     "output_type": "stream",
     "text": [
      "Animal created.\n",
      "dog created.\n"
     ]
    }
   ],
   "source": [
    "dog=Dog()"
   ]
  },
  {
   "cell_type": "code",
   "execution_count": 196,
   "metadata": {},
   "outputs": [
    {
     "name": "stdout",
     "output_type": "stream",
     "text": [
      "Animal eats.\n"
     ]
    }
   ],
   "source": [
    "dog.eat() #Call father methods if no overwritten."
   ]
  },
  {
   "cell_type": "code",
   "execution_count": 200,
   "metadata": {},
   "outputs": [],
   "source": [
    "# 3. Overwrite:\n",
    "class Dog(Animal):\n",
    "    def __init__(self):\n",
    "        Animal.__init__(self) #Animal will not call animal.__init__() if without this statement.\n",
    "        print(\"dog created.\")\n",
    "        \n",
    "    def eat(self):\n",
    "        print(\"Dog eat.\")"
   ]
  },
  {
   "cell_type": "code",
   "execution_count": 201,
   "metadata": {},
   "outputs": [
    {
     "name": "stdout",
     "output_type": "stream",
     "text": [
      "Animal created.\n",
      "dog created.\n",
      "Dog eat.\n"
     ]
    }
   ],
   "source": [
    "dog=Dog()\n",
    "dog.eat() # OVERWRITE: to dog's methods."
   ]
  },
  {
   "cell_type": "code",
   "execution_count": 202,
   "metadata": {},
   "outputs": [],
   "source": [
    "# 3. Overwrite:\n",
    "class Dog(Animal):\n",
    "    def __init__(self):\n",
    "        Animal.__init__(self) #Animal will not call animal.__init__() if without this statement.\n",
    "        print(\"dog created.\")\n",
    "    \n",
    "    def eat(self):\n",
    "        print(\"Dog eat.\")\n",
    "        \n",
    "    def bark(self): #NEW Added.\n",
    "        print(\"dog bark.\")"
   ]
  },
  {
   "cell_type": "code",
   "execution_count": 203,
   "metadata": {},
   "outputs": [
    {
     "name": "stdout",
     "output_type": "stream",
     "text": [
      "Animal created.\n",
      "dog created.\n",
      "dog bark.\n"
     ]
    }
   ],
   "source": [
    "dog=Dog()\n",
    "dog.bark()"
   ]
  },
  {
   "cell_type": "markdown",
   "metadata": {},
   "source": [
    "### 16. Polymorphism\n",
    "#### 1. 2 classes;\n",
    "#### 2. in FOR loop;\n",
    "#### 3. in shared methods."
   ]
  },
  {
   "cell_type": "code",
   "execution_count": 232,
   "metadata": {},
   "outputs": [],
   "source": [
    "# 1. 2 classes share the method with same names:\n",
    "class Dog():\n",
    "    def __init__(self, name):\n",
    "        self.name=name\n",
    "        \n",
    "    def speak(self):\n",
    "        print(\"{}: Woofs!\".format(self.name))\n",
    "        \n",
    "class Cat():\n",
    "    def __init__(self, name):\n",
    "        self.name=name\n",
    "        \n",
    "    def speak(self):\n",
    "        print(\"{}: Meow!\".format(self.name))"
   ]
  },
  {
   "cell_type": "code",
   "execution_count": 233,
   "metadata": {},
   "outputs": [
    {
     "name": "stdout",
     "output_type": "stream",
     "text": [
      "Tommy: Woofs!\n",
      "Kitty: Meow!\n"
     ]
    }
   ],
   "source": [
    "dog=Dog('Tommy')\n",
    "cat=Cat('Kitty')\n",
    "\n",
    "dog.speak() #Same names of the methods, but different results.\n",
    "cat.speak()"
   ]
  },
  {
   "cell_type": "code",
   "execution_count": 209,
   "metadata": {},
   "outputs": [
    {
     "name": "stdout",
     "output_type": "stream",
     "text": [
      "Woofs!\n",
      "Meow!\n"
     ]
    }
   ],
   "source": [
    "# 2. FOR loops:\n",
    "for pet in [dog, cat]:\n",
    "    pet.speak()"
   ]
  },
  {
   "cell_type": "code",
   "execution_count": 236,
   "metadata": {},
   "outputs": [],
   "source": [
    "# 3. Differen pets in shared methods:\n",
    "def pet_speak(self):\n",
    "    self.speak()"
   ]
  },
  {
   "cell_type": "code",
   "execution_count": 238,
   "metadata": {},
   "outputs": [
    {
     "name": "stdout",
     "output_type": "stream",
     "text": [
      "Tommy: Woofs!\n",
      "Kitty: Meow!\n"
     ]
    }
   ],
   "source": [
    "pet_speak(dog)\n",
    "pet_speak(cat)"
   ]
  },
  {
   "cell_type": "markdown",
   "metadata": {},
   "source": [
    "### 17. Abstract:\n",
    "#### 1. implement the abstract method in abstract father class."
   ]
  },
  {
   "cell_type": "code",
   "execution_count": 240,
   "metadata": {},
   "outputs": [],
   "source": [
    "# 1. implement the abstract method in abstract father class.\n",
    "class Animal():\n",
    "    def __init__(self, name):\n",
    "        self.name=name\n",
    "        \n",
    "    def speak(self):\n",
    "        raise NotImplementedError(\"Subclass must implement this abstract method!\")"
   ]
  },
  {
   "cell_type": "code",
   "execution_count": 248,
   "metadata": {},
   "outputs": [
    {
     "ename": "NotImplementedError",
     "evalue": "Subclass must implement this abstract method!",
     "output_type": "error",
     "traceback": [
      "\u001b[1;31m---------------------------------------------------------------------------\u001b[0m",
      "\u001b[1;31mNotImplementedError\u001b[0m                       Traceback (most recent call last)",
      "\u001b[1;32m<ipython-input-248-7dcaa86b26d4>\u001b[0m in \u001b[0;36m<module>\u001b[1;34m\u001b[0m\n\u001b[0;32m      1\u001b[0m \u001b[0ma\u001b[0m\u001b[1;33m=\u001b[0m\u001b[0mAnimal\u001b[0m\u001b[1;33m(\u001b[0m\u001b[1;34m\"animalHello\"\u001b[0m\u001b[1;33m)\u001b[0m\u001b[1;33m\u001b[0m\u001b[1;33m\u001b[0m\u001b[0m\n\u001b[1;32m----> 2\u001b[1;33m \u001b[0ma\u001b[0m\u001b[1;33m.\u001b[0m\u001b[0mspeak\u001b[0m\u001b[1;33m(\u001b[0m\u001b[1;33m)\u001b[0m\u001b[1;33m\u001b[0m\u001b[1;33m\u001b[0m\u001b[0m\n\u001b[0m",
      "\u001b[1;32m<ipython-input-240-9e263c36f0b2>\u001b[0m in \u001b[0;36mspeak\u001b[1;34m(self)\u001b[0m\n\u001b[0;32m      4\u001b[0m         \u001b[0mself\u001b[0m\u001b[1;33m.\u001b[0m\u001b[0mname\u001b[0m\u001b[1;33m=\u001b[0m\u001b[0mname\u001b[0m\u001b[1;33m\u001b[0m\u001b[1;33m\u001b[0m\u001b[0m\n\u001b[0;32m      5\u001b[0m     \u001b[1;32mdef\u001b[0m \u001b[0mspeak\u001b[0m\u001b[1;33m(\u001b[0m\u001b[0mself\u001b[0m\u001b[1;33m)\u001b[0m\u001b[1;33m:\u001b[0m\u001b[1;33m\u001b[0m\u001b[1;33m\u001b[0m\u001b[0m\n\u001b[1;32m----> 6\u001b[1;33m         \u001b[1;32mraise\u001b[0m \u001b[0mNotImplementedError\u001b[0m\u001b[1;33m(\u001b[0m\u001b[1;34m\"Subclass must implement this abstract method!\"\u001b[0m\u001b[1;33m)\u001b[0m\u001b[1;33m\u001b[0m\u001b[1;33m\u001b[0m\u001b[0m\n\u001b[0m",
      "\u001b[1;31mNotImplementedError\u001b[0m: Subclass must implement this abstract method!"
     ]
    }
   ],
   "source": [
    "a=Animal(\"animalHello\")\n",
    "a.speak() # NotImplementedError: Subclass must implement this abstract method! if no implenmentation."
   ]
  },
  {
   "cell_type": "code",
   "execution_count": 258,
   "metadata": {},
   "outputs": [],
   "source": [
    "class Dog(Animal):\n",
    "    def __init__(self,name):\n",
    "        self.name=name\n",
    "        \n",
    "    def speak(self): #IMPLEMENT the abstract method.\n",
    "        print(\"{}: Whoofs\".format(self.name))"
   ]
  },
  {
   "cell_type": "code",
   "execution_count": 259,
   "metadata": {},
   "outputs": [],
   "source": [
    "dog=Dog(\"Frakie\")"
   ]
  },
  {
   "cell_type": "code",
   "execution_count": 260,
   "metadata": {},
   "outputs": [
    {
     "name": "stdout",
     "output_type": "stream",
     "text": [
      "Frakie: Whoofs\n"
     ]
    }
   ],
   "source": [
    "dog.speak()"
   ]
  },
  {
   "cell_type": "code",
   "execution_count": 265,
   "metadata": {},
   "outputs": [],
   "source": [
    "class Cat(Animal):\n",
    "    def __init__(self,name):\n",
    "        self.name=name\n",
    "    \n",
    "    def speak(self): #IMPLEMENT the abstract method.\n",
    "        print(\"{}: Meow\".format(self.name))"
   ]
  },
  {
   "cell_type": "code",
   "execution_count": 266,
   "metadata": {},
   "outputs": [
    {
     "name": "stdout",
     "output_type": "stream",
     "text": [
      "Katty: Meow\n"
     ]
    }
   ],
   "source": [
    "cat=Cat(\"Katty\")\n",
    "cat.speak()"
   ]
  },
  {
   "cell_type": "markdown",
   "metadata": {},
   "source": [
    "### 18. Special methods.\n",
    "#### 1. print/call directly.\n",
    "#### 2. __str__ & print， __len__ & print\n",
    "#### 3. del & __del__ & del & call this object.\n",
    "##### (Methods like __str__, __init__ and __del__ are called special methods. They aren't completely redefined, but they describe the behavior that we want our object to have when an action is called upon it.)"
   ]
  },
  {
   "cell_type": "code",
   "execution_count": 271,
   "metadata": {},
   "outputs": [],
   "source": [
    "class Book():\n",
    "    def __init__(self, title, author, pages):\n",
    "        self.title=title\n",
    "        self.author=author\n",
    "        self.pages=pages"
   ]
  },
  {
   "cell_type": "code",
   "execution_count": 273,
   "metadata": {},
   "outputs": [
    {
     "name": "stdout",
     "output_type": "stream",
     "text": [
      "<__main__.Book object at 0x0000020314653BE0>\n"
     ]
    },
    {
     "ename": "TypeError",
     "evalue": "object of type 'Book' has no len()",
     "output_type": "error",
     "traceback": [
      "\u001b[1;31m---------------------------------------------------------------------------\u001b[0m",
      "\u001b[1;31mTypeError\u001b[0m                                 Traceback (most recent call last)",
      "\u001b[1;32m<ipython-input-273-82e3732cbdd8>\u001b[0m in \u001b[0;36m<module>\u001b[1;34m\u001b[0m\n\u001b[0;32m      1\u001b[0m \u001b[0mb\u001b[0m\u001b[1;33m=\u001b[0m\u001b[0mBook\u001b[0m\u001b[1;33m(\u001b[0m\u001b[1;34m\"Python guide\"\u001b[0m\u001b[1;33m,\u001b[0m\u001b[1;34m\"Jose\"\u001b[0m\u001b[1;33m,\u001b[0m\u001b[1;36m200\u001b[0m\u001b[1;33m)\u001b[0m\u001b[1;33m\u001b[0m\u001b[1;33m\u001b[0m\u001b[0m\n\u001b[0;32m      2\u001b[0m \u001b[0mprint\u001b[0m\u001b[1;33m(\u001b[0m\u001b[0mb\u001b[0m\u001b[1;33m)\u001b[0m \u001b[1;31m#Memory: <__main__.Book object at 0x0000020314653668>\u001b[0m\u001b[1;33m\u001b[0m\u001b[1;33m\u001b[0m\u001b[0m\n\u001b[1;32m----> 3\u001b[1;33m \u001b[0mlen\u001b[0m\u001b[1;33m(\u001b[0m\u001b[0mb\u001b[0m\u001b[1;33m)\u001b[0m\u001b[1;33m\u001b[0m\u001b[1;33m\u001b[0m\u001b[0m\n\u001b[0m",
      "\u001b[1;31mTypeError\u001b[0m: object of type 'Book' has no len()"
     ]
    }
   ],
   "source": [
    "b=Book(\"Python guide\",\"Jose\",200)\n",
    "print(b) #Memory: <__main__.Book object at 0x0000020314653668>\n",
    "len(b) #ERROR: TypeError: object of type 'Book' has no len()"
   ]
  },
  {
   "cell_type": "code",
   "execution_count": 307,
   "metadata": {},
   "outputs": [],
   "source": [
    "class Book():\n",
    "    def __init__(self, title, author, pages):\n",
    "        self.title=title\n",
    "        self.author=author\n",
    "        self.pages=pages\n",
    "    \n",
    "    def __str__(self):\n",
    "        return (f\"BOOK Name:{self.title}, AUTHOR:{self.author}, PAGES: {self.pages}\")\n",
    "    \n",
    "    def __len__(self):\n",
    "        return self.pages "
   ]
  },
  {
   "cell_type": "code",
   "execution_count": 308,
   "metadata": {},
   "outputs": [
    {
     "name": "stdout",
     "output_type": "stream",
     "text": [
      "BOOK Name:Python guide, AUTHOR:Jose, PAGES: 200\n"
     ]
    }
   ],
   "source": [
    "b=Book(\"Python guide\",\"Jose\",200)\n",
    "print(b) #Previously: memory, NOW: Call __str__(): BOOK Name:Python guide, AUTHOR:Jose, PAGES: 200"
   ]
  },
  {
   "cell_type": "code",
   "execution_count": 309,
   "metadata": {},
   "outputs": [
    {
     "ename": "TypeError",
     "evalue": "'str' object is not callable",
     "output_type": "error",
     "traceback": [
      "\u001b[1;31m---------------------------------------------------------------------------\u001b[0m",
      "\u001b[1;31mTypeError\u001b[0m                                 Traceback (most recent call last)",
      "\u001b[1;32m<ipython-input-309-07c20ce37ce0>\u001b[0m in \u001b[0;36m<module>\u001b[1;34m\u001b[0m\n\u001b[1;32m----> 1\u001b[1;33m \u001b[0mstr\u001b[0m\u001b[1;33m(\u001b[0m\u001b[0mb\u001b[0m\u001b[1;33m)\u001b[0m\u001b[1;33m\u001b[0m\u001b[1;33m\u001b[0m\u001b[0m\n\u001b[0m",
      "\u001b[1;31mTypeError\u001b[0m: 'str' object is not callable"
     ]
    }
   ],
   "source": [
    "str(b)"
   ]
  },
  {
   "cell_type": "code",
   "execution_count": 310,
   "metadata": {},
   "outputs": [],
   "source": [
    "del b"
   ]
  },
  {
   "cell_type": "code",
   "execution_count": 311,
   "metadata": {},
   "outputs": [
    {
     "ename": "NameError",
     "evalue": "name 'b' is not defined",
     "output_type": "error",
     "traceback": [
      "\u001b[1;31m---------------------------------------------------------------------------\u001b[0m",
      "\u001b[1;31mNameError\u001b[0m                                 Traceback (most recent call last)",
      "\u001b[1;32m<ipython-input-311-b0bbe1c05577>\u001b[0m in \u001b[0;36m<module>\u001b[1;34m\u001b[0m\n\u001b[1;32m----> 1\u001b[1;33m \u001b[0mb\u001b[0m \u001b[1;31m# b will deleted after del(b) without message.\u001b[0m\u001b[1;33m\u001b[0m\u001b[1;33m\u001b[0m\u001b[0m\n\u001b[0m",
      "\u001b[1;31mNameError\u001b[0m: name 'b' is not defined"
     ]
    }
   ],
   "source": [
    "b # b will deleted after del(b) without message."
   ]
  },
  {
   "cell_type": "code",
   "execution_count": 337,
   "metadata": {},
   "outputs": [],
   "source": [
    "class Book():\n",
    "    def __init__(self, title, author, pages):\n",
    "        self.title=title\n",
    "        self.author=author\n",
    "        self.pages=pages\n",
    "    \n",
    "    def __str__(self):\n",
    "        return (f\"BOOK Name:{self.title}, AUTHOR:{self.author}, PAGES: {self.pages}\")\n",
    "    \n",
    "    def __len__(self):\n",
    "        return self.pages \n",
    "    \n",
    "    def __del__(self):\n",
    "        print(\"the book has been deleted!\")"
   ]
  },
  {
   "cell_type": "code",
   "execution_count": 338,
   "metadata": {},
   "outputs": [],
   "source": [
    "b=Book(\"Python guide\",\"Jose\",200)"
   ]
  },
  {
   "cell_type": "code",
   "execution_count": 339,
   "metadata": {},
   "outputs": [
    {
     "name": "stdout",
     "output_type": "stream",
     "text": [
      "BOOK Name:Python guide, AUTHOR:Jose, PAGES: 200\n"
     ]
    }
   ],
   "source": [
    "print(b)"
   ]
  },
  {
   "cell_type": "code",
   "execution_count": 340,
   "metadata": {},
   "outputs": [
    {
     "data": {
      "text/plain": [
       "200"
      ]
     },
     "execution_count": 340,
     "metadata": {},
     "output_type": "execute_result"
    }
   ],
   "source": [
    "len(b)"
   ]
  },
  {
   "cell_type": "code",
   "execution_count": 341,
   "metadata": {},
   "outputs": [
    {
     "name": "stdout",
     "output_type": "stream",
     "text": [
      "the book has been deleted!\n"
     ]
    }
   ],
   "source": [
    "del(b)"
   ]
  },
  {
   "cell_type": "code",
   "execution_count": null,
   "metadata": {},
   "outputs": [],
   "source": []
  }
 ],
 "metadata": {
  "kernelspec": {
   "display_name": "Python 3",
   "language": "python",
   "name": "python3"
  },
  "language_info": {
   "codemirror_mode": {
    "name": "ipython",
    "version": 3
   },
   "file_extension": ".py",
   "mimetype": "text/x-python",
   "name": "python",
   "nbconvert_exporter": "python",
   "pygments_lexer": "ipython3",
   "version": "3.7.1"
  }
 },
 "nbformat": 4,
 "nbformat_minor": 2
}
