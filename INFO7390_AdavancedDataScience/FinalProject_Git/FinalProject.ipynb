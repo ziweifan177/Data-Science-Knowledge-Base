{
 "cells": [
  {
   "cell_type": "code",
   "execution_count": 1,
   "metadata": {
    "collapsed": true
   },
   "outputs": [],
   "source": [
    "dir = r'C:\\Program Files\\mingw-w64\\x86_64-7.2.0-posix-seh-rt_v5-rev1\\mingw64\\bin'\n",
    "import os\n",
    "os.environ['PATH'].count(dir)\n",
    "os.environ['PATH'].find(dir)\n",
    "os.environ['PATH'] = dir + ';' + os.environ['PATH']\n",
    "import xgboost as xgb\n",
    "\n",
    "import numpy as np\n",
    "import pandas as pd\n",
    "import matplotlib.pyplot as plt\n",
    "import seaborn as sns\n",
    "color = sns.color_palette()\n",
    "\n",
    "from haversine import haversine\n",
    "import datetime as dt"
   ]
  },
  {
   "cell_type": "code",
   "execution_count": 2,
   "metadata": {},
   "outputs": [
    {
     "name": "stdout",
     "output_type": "stream",
     "text": [
      "Size of the training set is: 50000 rows and 11 columns\n\n ['id', 'vendor_id', 'pickup_datetime', 'dropoff_datetime', 'passenger_count', 'pickup_longitude', 'pickup_latitude', 'dropoff_longitude', 'dropoff_latitude', 'store_and_fwd_flag', 'trip_duration']\n"
     ]
    }
   ],
   "source": [
    "'''Step1: Load Data'''\n",
    "trainDF = pd.read_csv('data/train.csv', nrows=50000)\n",
    "testDF = pd.read_csv('data/test.csv')\n",
    "print('Size of the training set is: {} rows and {} columns'.format(*trainDF.shape))\n",
    "print (\"\\n\", list(trainDF))\n"
   ]
  },
  {
   "cell_type": "code",
   "execution_count": 3,
   "metadata": {},
   "outputs": [
    {
     "name": "stdout",
     "output_type": "stream",
     "text": [
      "          vendor_id  passenger_count  pickup_longitude  pickup_latitude  \\\ncount  50000.000000     50000.000000      50000.000000     50000.000000   \nmean       1.529440         1.667260        -73.973477        40.751211   \nstd        0.499138         1.316442          0.037974         0.027994   \nmin        1.000000         1.000000        -74.393555        40.449749   \n25%        1.000000         1.000000        -73.991760        40.737579   \n50%        2.000000         1.000000        -73.981644        40.754425   \n75%        2.000000         2.000000        -73.967079        40.768513   \nmax        2.000000         6.000000        -73.518051        41.091171   \n\n       dropoff_longitude  dropoff_latitude  trip_duration  \ncount       50000.000000      50000.000000   50000.000000  \nmean          -73.973374         40.752025     949.708280  \nstd             0.036672          0.032536    3175.391374  \nmin           -74.398514         40.444698       1.000000  \n25%           -73.991348         40.736086     395.000000  \n50%           -73.979698         40.754610     659.000000  \n75%           -73.962868         40.769985    1071.000000  \nmax           -72.711395         41.311520   86357.000000  \nTrain shape :  (50000, 11)\nTest shape :  (625134, 9)\n                 Count Column Type\n0                   id      object\n1            vendor_id       int64\n2      pickup_datetime      object\n3     dropoff_datetime      object\n4      passenger_count       int64\n5     pickup_longitude     float64\n6      pickup_latitude     float64\n7    dropoff_longitude     float64\n8     dropoff_latitude     float64\n9   store_and_fwd_flag      object\n10       trip_duration       int64\n"
     ]
    }
   ],
   "source": [
    "'''Step2: Understand Data'''\n",
    "df = trainDF.describe()\n",
    "print (df)\n",
    "\n",
    "print(\"Train shape : \", trainDF.shape)\n",
    "print(\"Test shape : \", testDF.shape)\n",
    "\n",
    "dtypeDF=trainDF.dtypes.reset_index()# reset_index(): When we reset the index, the old index is added as a column, and a new sequential index is usedWhen we reset the index, the old index is added as a column, and a new sequential index is used\n",
    "dtypeDF.columns=[\"Count\",\"Column Type\"]\n",
    "dtypeDF.groupby(\"Column Type\").aggregate('count')\n",
    "print(dtypeDF)"
   ]
  },
  {
   "cell_type": "code",
   "execution_count": 4,
   "metadata": {},
   "outputs": [
    {
     "data": {
      "image/png": "[encoded data removed]",
      "text/plain": [
       "<matplotlib.figure.Figure at 0x270209946a0>"
      ]
     },
     "metadata": {},
     "output_type": "display_data"
    }
   ],
   "source": [
    "'''Step3: Understanding distribution of target variable i.e trip duration.'''\n",
    "plt.figure(figsize=(8,6))\n",
    "plt.scatter(range(trainDF.shape[0]), np.sort(trainDF.trip_duration.values))#Y.shape is (n,m). So Y.shape[0] is n.\n",
    "\n",
    "#Step3.1: Find the outliers & Remove outliers by sorting duration in ascending order:\n",
    "plt.xlabel('index', fontsize=12)\n",
    "plt.ylabel('trip duration', fontsize=12)\n",
    "plt.show()"
   ]
  },
  {
   "cell_type": "code",
   "execution_count": 5,
   "metadata": {},
   "outputs": [
    {
     "data": {
      "image/png": "[encoded data removed]",
      "text/plain": [
       "<matplotlib.figure.Figure at 0x270252c1c50>"
      ]
     },
     "metadata": {},
     "output_type": "display_data"
    }
   ],
   "source": [
    "#Step3.2: Catch outliers and replot\n",
    "th=trainDF.trip_duration.quantile(0.99)\n",
    "tempDF=trainDF\n",
    "tempDF=tempDF[tempDF['trip_duration']<th] #!!!!!!!!!!!!!!! Remain the ones <th\n",
    "plt.figure(figsize=(8,6))\n",
    "plt.scatter(range(tempDF.shape[0]),np.sort(tempDF.trip_duration.values))\n",
    "plt.xlabel('index',fontsize=12)\n",
    "plt.ylabel('trip duration',fontsize=12)\n",
    "plt.show()\n",
    "del tempDF"
   ]
  },
  {
   "cell_type": "code",
   "execution_count": 6,
   "metadata": {
    "collapsed": true
   },
   "outputs": [
    {
     "name": "stdout",
     "output_type": "stream",
     "text": [
      "Missing value number of Training DF:\n id                    0\nvendor_id             0\npickup_datetime       0\ndropoff_datetime      0\npassenger_count       0\npickup_longitude      0\npickup_latitude       0\ndropoff_longitude     0\ndropoff_latitude      0\nstore_and_fwd_flag    0\ntrip_duration         0\ndtype: int64\nMissing value number of Testing DF:\n "
     ]
    },
    {
     "name": "stdout",
     "output_type": "stream",
     "text": [
      "id                    0\nvendor_id             0\npickup_datetime       0\npassenger_count       0\npickup_longitude      0\npickup_latitude       0\ndropoff_longitude     0\ndropoff_latitude      0\nstore_and_fwd_flag    0\ndtype: int64\n"
     ]
    }
   ],
   "source": [
    "#Step 4: Dealing with missing values\n",
    "variable_missing_value=trainDF.isnull().sum()\n",
    "print('Missing value number of Training DF:\\n',variable_missing_value)\n",
    "variable_missing_value=testDF.isnull().sum()\n",
    "print('Missing value number of Testing DF:\\n',variable_missing_value)"
   ]
  },
  {
   "cell_type": "code",
   "execution_count": 7,
   "metadata": {
    "collapsed": true
   },
   "outputs": [],
   "source": [
    "#Step 5: Format the date time & Y/N values:\n",
    "from sklearn.decomposition import PCA\n",
    "#Principal components analysis (PCA):illustrating how a point cloud can be very flat in one direction–which is where PCA comes in to choose a direction that is not flat.\n",
    "from sklearn.cluster import MiniBatchKMeans\n",
    "\n",
    "t0 = dt.datetime.now()\n",
    "train = trainDF\n",
    "test = testDF\n",
    "del trainDF, testDF"
   ]
  },
  {
   "cell_type": "code",
   "execution_count": 10,
   "metadata": {},
   "outputs": [
    {
     "name": "stdout",
     "output_type": "stream",
     "text": [
      "['id', 'vendor_id', 'pickup_datetime', 'dropoff_datetime', 'passenger_count', 'pickup_longitude', 'pickup_latitude', 'dropoff_longitude', 'dropoff_latitude', 'store_and_fwd_flag', 'trip_duration', 'pickup_date']\n"
     ]
    },
    {
     "name": "stderr",
     "output_type": "stream",
     "text": [
      "C:\\Anaconda3\\lib\\site-packages\\ipykernel_launcher.py:8: FutureWarning: elementwise comparison failed; returning scalar instead, but in the future will perform elementwise comparison\n  \nC:\\Anaconda3\\lib\\site-packages\\ipykernel_launcher.py:9: FutureWarning: elementwise comparison failed; returning scalar instead, but in the future will perform elementwise comparison\n  if __name__ == '__main__':\n"
     ]
    }
   ],
   "source": [
    "train['pickup_datetime']=pd.to_datetime(train.pickup_datetime)\n",
    "test['pickup_datetime'] = pd.to_datetime(test.pickup_datetime)\n",
    "train.loc[:,'pickup_date']=train['pickup_datetime'].dt.date\n",
    "test.loc[:,'pickup_date']=test['pickup_datetime'].dt.date\n",
    "\n",
    "train['dropoff_datetime']=pd.to_datetime(train.dropoff_datetime)\n",
    "\n",
    "train['store_and_fwd_flag']=1*(train.store_and_fwd_flag.values=='Y')\n",
    "test['store_and_fwd_flag']=1*(test.store_and_fwd_flag.values=='Y') #!!!!!!!!!!!!!!!!!\n",
    "print(list(train))"
   ]
  },
  {
   "cell_type": "code",
   "execution_count": 11,
   "metadata": {},
   "outputs": [
    {
     "name": "stdout",
     "output_type": "stream",
     "text": [
      "Trip_Duration & datetime are ok.\n['id', 'vendor_id', 'pickup_datetime', 'dropoff_datetime', 'passenger_count', 'pickup_longitude', 'pickup_latitude', 'dropoff_longitude', 'dropoff_latitude', 'store_and_fwd_flag', 'trip_duration', 'pickup_date', 'check_trip_duration']\n"
     ]
    }
   ],
   "source": [
    "train['check_trip_duration'] = (train['dropoff_datetime'] - train['pickup_datetime']).map(lambda x: x.total_seconds()) #!!!!!!!!! 1. New column 2. Convert to seconds.\n",
    "duration_difference=train[np.abs(train['check_trip_duration'].values-train['trip_duration'].values) > 1] #!!!!!!!!!!!Remain the ones with abs>1\n",
    "print('Trip_Duration & datetime are ok.')\n",
    "print(list(train))"
   ]
  },
  {
   "cell_type": "code",
   "execution_count": 12,
   "metadata": {},
   "outputs": [
    {
     "data": {
      "text/plain": [
       "count    50000.000000\nmean       949.708280\nstd       3175.391374\nmin          1.000000\n25%        395.000000\n50%        659.000000\n75%       1071.000000\nmax      86357.000000\nName: trip_duration, dtype: float64"
      ]
     },
     "execution_count": 12,
     "metadata": {},
     "output_type": "execute_result"
    }
   ],
   "source": [
    "if len(duration_difference[['pickup_datetime', 'dropoff_datetime', 'trip_duration', 'check_trip_duration']])==0:\n",
    "    print('Items of Duration_difference are 0.')\n",
    "\n",
    "train['trip_duration'].describe()\n"
   ]
  },
  {
   "cell_type": "code",
   "execution_count": 13,
   "metadata": {
    "collapsed": true
   },
   "outputs": [],
   "source": [
    "#Step6: Feature Extraction:\n",
    "coords=np.vstack((train[['pickup_latitude', 'pickup_longitude']].values,\n",
    "                  train[['dropoff_latitude', 'dropoff_longitude']].values,\n",
    "                  test[['pickup_latitude', 'pickup_longitude']].values,\n",
    "                  test[['dropoff_latitude', 'dropoff_longitude']].values))\n",
    "\n",
    "pca=PCA().fit(coords)\n",
    "train['pickup_pca0']=pca.transform(train[['pickup_latitude','pickup_longitude']])[:,0] \n",
    "#transform(X):Apply dimensionality reduction to X.\n",
    "train['pickup_pca1']=pca.transform(train[['pickup_latitude','pickup_longitude']])[:,1]\n",
    "train['dropoff_pca0']=pca.transform(train[['dropoff_latitude', 'dropoff_longitude']])[:,0]\n",
    "train['dropoff_pca1']=pca.transform(train[['dropoff_latitude','dropoff_longitude']])[:,1]\n",
    "\n",
    "test['pickup_pca0']=pca.transform(test[['pickup_latitude','pickup_longitude']])[:,0]\n",
    "test['pickup_pca1']=pca.transform(test[['pickup_latitude','pickup_longitude']])[:,1]\n",
    "test['dropoff_pca0']=pca.transform(test[['dropoff_latitude','dropoff_longitude']])[:,0]\n",
    "test['dropoff_pca1']=pca.transform(test[['dropoff_latitude','dropoff_longitude']])[:,1]\n",
    "#[ : , 0 ] means (more or less) [ first_row:last_row , column_0 ],you get all values in column 0 (from all rows).\n",
    "#df[['a','b']]: select multiple columns."
   ]
  },
  {
   "cell_type": "markdown",
   "metadata": {},
   "source": [
    "## For haversine_Array: http://mlwhiz.com/blog/2017/09/14/kaggle_tricks/"
   ]
  },
  {
   "cell_type": "code",
   "execution_count": 14,
   "metadata": {
    "collapsed": true
   },
   "outputs": [],
   "source": [
    "#Step7: Distance:\n",
    "def haversine_array(lat1,lng1,lat2,lng2):\n",
    "    lat1,lng1,lat2,lng2=map(np.radians, (lat1,lng1,lat2,lng2))\n",
    "    AVG_EARTH_RADIUS=6371 #km\n",
    "    lat=lat2-lat1\n",
    "    lng=lng2-lng1\n",
    "    d=np.sin(lat * 0.5) ** 2 + np.cos(lat1) * np.cos(lat2) * np.sin(lng * 0.5) ** 2\n",
    "    h=2*AVG_EARTH_RADIUS*np.arcsin(np.sqrt(d))\n",
    "    return h\n",
    "\n",
    "def dummy_manhattan_distance(lat1,lng1,lat2,lng2):\n",
    "    a=haversine_array(lat1,lng1,lat1,lng2)\n",
    "    b=haversine_array(lat1,lng1,lat2,lng1)\n",
    "    return a+b\n",
    "\n",
    "def bearing_array(lat1,lng1,lat2,lng2):\n",
    "    AVG_EARTH_RADIUS=6371\n",
    "    lng_delta_rad=np.radians(lng2-lng1)\n",
    "    lat1,lng1,lat2,lng2=map(np.radians,(lat1,lng1,lat2,lng2)) #np.radians(): Convert angles from degrees to radians\n",
    "    y=np.sin(lng_delta_rad)*np.cos(lat2)\n",
    "    x=np.cos(lat1)*np.sin(lat2)-np.sin(lat1)*np.cos(lat2)*np.cos(lng_delta_rad)\n",
    "    return np.degrees(np.arctan2(y,x))"
   ]
  },
  {
   "cell_type": "code",
   "execution_count": 15,
   "metadata": {},
   "outputs": [
    {
     "name": "stdout",
     "output_type": "stream",
     "text": [
      "train headers:\n ['id', 'vendor_id', 'pickup_datetime', 'dropoff_datetime', 'passenger_count', 'pickup_longitude', 'pickup_latitude', 'dropoff_longitude', 'dropoff_latitude', 'store_and_fwd_flag', 'trip_duration', 'pickup_date', 'check_trip_duration', 'pickup_pca0', 'pickup_pca1', 'dropoff_pca0', 'dropoff_pca1']\n"
     ]
    }
   ],
   "source": [
    "print('train headers:\\n',list(train))\n",
    "train.loc[:,'distance_haversine']=haversine_array(train['pickup_latitude'].values, train['pickup_longitude'].values, train['dropoff_latitude'].values, train['dropoff_longitude'].values)\n",
    "train.loc[:,'distance_dummy_manhattan']=dummy_manhattan_distance(train['pickup_latitude'].values, train['pickup_longitude'].values, train['dropoff_latitude'].values, train['dropoff_longitude'].values)\n",
    "train.loc[:,'direction']=bearing_array(train['pickup_latitude'].values, train['pickup_longitude'].values, train['dropoff_latitude'].values, train['dropoff_longitude'].values)\n",
    "train.loc[:,'pca_manhattan']=np.abs(train['dropoff_pca1']-train['pickup_pca1'])+np.abs(train['dropoff_pca0']-train['pickup_pca0'])\n",
    "\n",
    "test.loc[:,'distance_haversine']=haversine_array(test['pickup_latitude'].values, test['pickup_longitude'].values, test['dropoff_latitude'].values, test['dropoff_longitude'].values)\n",
    "test.loc[:,'distance_dummy_manhattan']=dummy_manhattan_distance(test['pickup_latitude'].values, test['pickup_longitude'].values, test['dropoff_latitude'].values, test['dropoff_longitude'].values)\n",
    "test.loc[:,'direction']=bearing_array(test['pickup_latitude'].values, test['pickup_longitude'].values, test['dropoff_latitude'].values, test['dropoff_longitude'].values)\n",
    "test.loc[:,'pca_manhattan']=np.abs(test['dropoff_pca1']-test['pickup_pca1'])+np.abs(test['dropoff_pca0']-test['pickup_pca0'])\n",
    "\n",
    "train.loc[:, 'center_latitude'] = (train['pickup_latitude'].values + train['dropoff_latitude'].values) / 2\n",
    "train.loc[:, 'center_longitude'] = (train['pickup_longitude'].values + train['dropoff_longitude'].values) / 2\n",
    "test.loc[:, 'center_latitude'] = (test['pickup_latitude'].values + test['dropoff_latitude'].values) / 2\n",
    "test.loc[:, 'center_longitude'] = (test['pickup_longitude'].values + test['dropoff_longitude'].values) / 2\n"
   ]
  },
  {
   "cell_type": "code",
   "execution_count": 16,
   "metadata": {
    "collapsed": true
   },
   "outputs": [],
   "source": [
    "#Step8: Datetime features:\n",
    "train.loc[:,'pickup_weekday']=train['pickup_datetime'].dt.weekday\n",
    "train.loc[:,'pickup_hour_weekofyear']=train['pickup_datetime'].dt.weekofyear\n",
    "train.loc[:,'pickup_hour']=train['pickup_datetime'].dt.hour\n",
    "train.loc[:,'pickup_minute']=train['pickup_datetime'].dt.minute\n",
    "train.loc[:,'pickup_dt']=(train['pickup_datetime']-train['pickup_datetime'].min()).dt.total_seconds()\n",
    "train.loc[:,'pickup_week_hour']=train['pickup_weekday']*24+train['pickup_hour']\n",
    "\n",
    "test.loc[:,'pickup_weekday']=test['pickup_datetime'].dt.weekday\n",
    "test.loc[:,'pickup_hour_weekofyear']=test['pickup_datetime'].dt.weekofyear\n",
    "test.loc[:,'pickup_hour']=test['pickup_datetime'].dt.hour\n",
    "test.loc[:,'pickup_minute']=test['pickup_datetime'].dt.minute\n",
    "test.loc[:,'pickup_dt']=(test['pickup_datetime']-test['pickup_datetime'].min()).dt.total_seconds()\n",
    "test.loc[:,'pickup_week_hour']=test['pickup_weekday']*24+test['pickup_hour']\n",
    "\n",
    "train.loc[:,'week_delta']=train['pickup_datetime'].dt.weekday+((train['pickup_datetime'].dt.hour+(train['pickup_datetime'].dt.minute/60.0))/24.0)\n",
    "test.loc[:,'week_delta']=test['pickup_datetime'].dt.weekday+((test['pickup_datetime'].dt.hour+(test['pickup_datetime'].dt.minute/60.0))/24.0)\n"
   ]
  },
  {
   "cell_type": "code",
   "execution_count": 17,
   "metadata": {
    "collapsed": true
   },
   "outputs": [],
   "source": [
    "#Step 8.1: Make time cyclic:\n",
    "train.loc[:,'week_delta_sin']=np.sin((train['week_delta']/7)*np.pi)**2\n",
    "train.loc[:,'hour_sin']=np.sin((train['pickup_hour']/24)*np.pi)**2\n",
    "test.loc[:,'week_delta_sin']=np.sin((test['week_delta']/7)*np.pi)**2\n",
    "test.loc[:,'hour_sin']=np.sin((test['pickup_hour']/24)*np.pi)**2"
   ]
  },
  {
   "cell_type": "code",
   "execution_count": 18,
   "metadata": {
    "collapsed": true
   },
   "outputs": [],
   "source": [
    "#Step9: Speed processing:\n",
    "train.loc[:,'avg_speed_h']=1000*train['distance_haversine']/train['trip_duration']\n",
    "train.loc[:,'avg_speed_m']=1000*train['distance_dummy_manhattan']/train['trip_duration']\n",
    "train.loc[:,'pickup_lat_bin']=np.round(train['pickup_latitude'],3)\n",
    "train.loc[:,'pickup_long_bin']=np.round(train['pickup_longitude'],3)\n"
   ]
  },
  {
   "cell_type": "code",
   "execution_count": 19,
   "metadata": {
    "collapsed": true
   },
   "outputs": [],
   "source": [
    "#Step9.1: Average speed for regions:\n",
    "gby_cols=['pickup_lat_bin','pickup_long_bin']\n",
    "coord_speed=train.groupby(gby_cols).mean()[['avg_speed_h']].reset_index()\n",
    "coord_count=train.groupby(gby_cols).count()[['id']].reset_index() #!!!!!!!reset_index()\n",
    "coord_stats=pd.merge(coord_speed, coord_count,on=gby_cols)\n",
    "coord_stats=coord_stats[coord_stats['id']>100]\n",
    "\n",
    "train.loc[:,'pickup_lat_bin']=np.round(train['pickup_latitude'],2)\n",
    "train.loc[:,'pickup_long_bin']=np.round(train['pickup_longitude'],2)\n",
    "train.loc[:,'center_lat_bin']=np.round(train['center_latitude'],2)\n",
    "train.loc[:,'center_long_bin']=np.round(train['center_longitude'],2)\n",
    "train.loc[:,'pickup_dt_bin']=(train['pickup_dt']//(3*3600)) #Floor division - division that results into whole number adjusted to the left in the number line\n",
    "\n",
    "test.loc[:,'pickup_lat_bin']=np.round(test['pickup_latitude'],2)\n",
    "test.loc[:,'pickup_long_bin']=np.round(test['pickup_longitude'],2)\n",
    "test.loc[:,'center_lat_bin']=np.round(test['center_latitude'],2)\n",
    "test.loc[:,'center_long_bin']=np.round(test['center_longitude'],2)\n",
    "test.loc[:,'pickup_dt_bin']=(test['pickup_dt']//(3*3600)) #Floor division - division that results into whole number adjusted to the left in the number line\n"
   ]
  },
  {
   "cell_type": "code",
   "execution_count": 20,
   "metadata": {},
   "outputs": [
    {
     "name": "stdout",
     "output_type": "stream",
     "text": [
      "length of coords:\n 1350268\n"
     ]
    }
   ],
   "source": [
    "#Step10: Clustering-MiniBatchKMeans:\n",
    "sample_ind=np.random.permutation(len(coords))[:500000]\n",
    "#np.random.permutation: Randomly permute a sequence, or return a permuted range.\n",
    "#Shuffle the coords and get 500000 items from it.\n",
    "\n",
    "print('length of coords:\\n', len(coords))\n",
    "kmeans=MiniBatchKMeans(n_clusters=100, batch_size=10000).fit(coords[sample_ind])\n",
    "#MiniBatchKMeans: batch_size controls the number of randomly selected observations in each batch. The larger the the size of the batch, the more computationally costly the training process.\n"
   ]
  },
  {
   "cell_type": "code",
   "execution_count": 21,
   "metadata": {},
   "outputs": [
    {
     "name": "stdout",
     "output_type": "stream",
     "text": [
      "Time for clustering: 371 seconds\n"
     ]
    }
   ],
   "source": [
    "#Step10.1: Predict by MiniBatchKMeans:\n",
    "train.loc[:,'pickup_cluster']=kmeans.predict(train[['pickup_latitude','pickup_longitude']])\n",
    "train.loc[:,'dropoff_cluster']=kmeans.predict(train[['dropoff_latitude', 'dropoff_longitude']])\n",
    "test.loc[:,'pickup_cluster']=kmeans.predict(test[['pickup_latitude','pickup_longitude']])\n",
    "test.loc[:,'dropoff_cluster']=kmeans.predict(test[['dropoff_latitude','dropoff_longitude']])\n",
    "\n",
    "t1=dt.datetime.now()\n",
    "print('Time for clustering: %i seconds' %(t1-t0).seconds) #!!!!!!!!!!!!!!!!!!!!\n"
   ]
  },
  {
   "cell_type": "code",
   "execution_count": 22,
   "metadata": {
    "collapsed": true
   },
   "outputs": [],
   "source": [
    "train['log_trip_duration']=np.log(train['trip_duration'].values+1)"
   ]
  },
  {
   "cell_type": "code",
   "execution_count": 23,
   "metadata": {},
   "outputs": [
    {
     "name": "stdout",
     "output_type": "stream",
     "text": [
      "['id', 'vendor_id', 'pickup_datetime', 'passenger_count', 'pickup_longitude', 'pickup_latitude', 'dropoff_longitude', 'dropoff_latitude', 'store_and_fwd_flag', 'pickup_date', 'pickup_pca0', 'pickup_pca1', 'dropoff_pca0', 'dropoff_pca1', 'distance_haversine', 'distance_dummy_manhattan', 'direction', 'pca_manhattan', 'center_latitude', 'center_longitude', 'pickup_weekday', 'pickup_hour_weekofyear', 'pickup_hour', 'pickup_minute', 'pickup_dt', 'pickup_week_hour', 'week_delta', 'week_delta_sin', 'hour_sin', 'pickup_lat_bin', 'pickup_long_bin', 'center_lat_bin', 'center_long_bin', 'pickup_dt_bin', 'pickup_cluster', 'dropoff_cluster']\n\n\nTrain:\n['id', 'vendor_id', 'pickup_datetime', 'dropoff_datetime', 'passenger_count', 'pickup_longitude', 'pickup_latitude', 'dropoff_longitude', 'dropoff_latitude', 'store_and_fwd_flag', 'trip_duration', 'pickup_date', 'check_trip_duration', 'pickup_pca0', 'pickup_pca1', 'dropoff_pca0', 'dropoff_pca1', 'distance_haversine', 'distance_dummy_manhattan', 'direction', 'pca_manhattan', 'center_latitude', 'center_longitude', 'pickup_weekday', 'pickup_hour_weekofyear', 'pickup_hour', 'pickup_minute', 'pickup_dt', 'pickup_week_hour', 'week_delta', 'week_delta_sin', 'hour_sin', 'avg_speed_h', 'avg_speed_m', 'pickup_lat_bin', 'pickup_long_bin', 'center_lat_bin', 'center_long_bin', 'pickup_dt_bin', 'pickup_cluster', 'dropoff_cluster', 'log_trip_duration']\n          id  vendor_id     pickup_datetime    dropoff_datetime  \\\n0  id2875421          2 2016-03-14 17:24:00 2016-03-14 17:32:00   \n1  id2377394          1 2016-06-12 00:43:00 2016-06-12 00:54:00   \n2  id3858529          2 2016-01-19 11:35:00 2016-01-19 12:10:00   \n\n   passenger_count  pickup_longitude  pickup_latitude  dropoff_longitude  \\\n0                1        -73.982155        40.767937         -73.964630   \n1                1        -73.980415        40.738564         -73.999481   \n2                1        -73.979027        40.763939         -74.005333   \n\n   dropoff_latitude  store_and_fwd_flag        ...          avg_speed_h  \\\n0         40.765602                   0        ...             3.293453   \n1         40.731152                   0        ...             2.723239   \n2         40.710087                   0        ...             3.006167   \n\n  avg_speed_m  pickup_lat_bin  pickup_long_bin  center_lat_bin  \\\n0    3.814141           40.77           -73.98           40.77   \n1    3.665923           40.74           -73.98           40.73   \n2    3.862324           40.76           -73.98           40.74   \n\n   center_long_bin  pickup_dt_bin  pickup_cluster  dropoff_cluster  \\\n0           -73.97          589.0              11               62   \n1           -73.99         1304.0              89               44   \n2           -73.99          147.0              99               98   \n\n   log_trip_duration  \n0           6.122493  \n1           6.498282  \n2           7.661527  \n\n[3 rows x 42 columns]\n"
     ]
    }
   ],
   "source": [
    "print(list(test))\n",
    "print(\"\\n\")\n",
    "print(\"Train:\")\n",
    "print(list(train))\n",
    "print(train.head(3))"
   ]
  },
  {
   "cell_type": "code",
   "execution_count": 24,
   "metadata": {
    "collapsed": true
   },
   "outputs": [],
   "source": [
    "#Step11: Temporal and geospatial aggregation\n",
    "for gby_col in ['pickup_hour','pickup_date','pickup_dt_bin','pickup_week_hour','pickup_cluster','dropoff_cluster']:\n",
    "    gby=train.groupby(gby_col).mean()[['avg_speed_h','avg_speed_m','log_trip_duration']]\n",
    "    gby.columns=['%s_gby_%s' % (col, gby_col) for col in gby.columns]\n",
    "    train=pd.merge(train, gby,how='left',left_on=gby_col,right_index=True)\n",
    "    test = pd.merge(test, gby, how='left', left_on=gby_col, right_index=True)\n",
    "    #how: left: use only keys from left frame, similar to a SQL left outer join; preserve key order\n",
    "    #right_index: Use the index from the right DataFrame as the join key.\n",
    "    #left_on 和 right_on 来指定列名，从而使不同的列名相互对应，进而进行合并. 如employee, name.\n",
    "\n",
    "\n",
    "for gby_cols in [['center_lat_bin', 'center_long_bin'],\n",
    "                 ['pickup_hour', 'center_lat_bin', 'center_long_bin'],\n",
    "                 ['pickup_hour', 'pickup_cluster'],  ['pickup_hour', 'dropoff_cluster'],\n",
    "                 ['pickup_cluster', 'dropoff_cluster']]:\n",
    "    coord_speed=train.groupby(gby_cols).mean()[['avg_speed_h']].reset_index()\n",
    "    coord_count=train.groupby(gby_cols).count()[['id']].reset_index()\n",
    "    coord_stats=pd.merge(coord_speed,coord_count,on=gby_cols)\n",
    "    coord_stats.columns=gby_cols+['avg_speed_h_%s' % '_'.join(gby_cols),'cnt_%s' % '_'.join(gby_cols)]\n",
    "    #.columns attribute returns an index containg the column names of df.df. columns可以得到所有的列标签，同理df.index可以得到所有的行标签。\n",
    "    #eg.:df.columns: Get: Index(['ColumnOne', 'ColumnTwo'], dtype=\n",
    "    train=pd.merge(train,coord_stats,how='left',on=gby_cols)\n",
    "    test=pd.merge(test,coord_stats,how='left',on=gby_cols)\n",
    " "
   ]
  },
  {
   "cell_type": "code",
   "execution_count": 25,
   "metadata": {
    "collapsed": true
   },
   "outputs": [
    {
     "name": "stdout",
     "output_type": "stream",
     "text": [
      "['id', 'vendor_id', 'pickup_datetime', 'passenger_count', 'pickup_longitude', 'pickup_latitude', 'dropoff_longitude', 'dropoff_latitude', 'store_and_fwd_flag', 'pickup_date', 'pickup_pca0', 'pickup_pca1', 'dropoff_pca0', 'dropoff_pca1', 'distance_haversine', 'distance_dummy_manhattan', 'direction', 'pca_manhattan', 'center_latitude', 'center_longitude', 'pickup_weekday', 'pickup_hour_weekofyear', 'pickup_hour', 'pickup_minute', 'pickup_dt', 'pickup_week_hour', 'week_delta', 'week_delta_sin', 'hour_sin', 'pickup_lat_bin', 'pickup_long_bin', 'center_lat_bin', 'center_long_bin', 'pickup_dt_bin', 'pickup_cluster', 'dropoff_cluster', 'avg_speed_h_gby_pickup_hour', 'avg_speed_m_gby_pickup_hour', 'log_trip_duration_gby_pickup_hour', 'avg_speed_h_gby_pickup_date', 'avg_speed_m_gby_pickup_date', 'log_trip_duration_gby_pickup_date', 'avg_speed_h_gby_pickup_dt_bin', 'avg_speed_m_gby_pickup_dt_bin', 'log_trip_duration_gby_pickup_dt_bin', 'avg_speed_h_gby_pickup_week_hour', 'avg_speed_m_gby_pickup_week_hour', 'log_trip_duration_gby_pickup_week_hour', 'avg_speed_h_gby_pickup_cluster', 'avg_speed_m_gby_pickup_cluster', 'log_trip_duration_gby_pickup_cluster', 'avg_speed_h_gby_dropoff_cluster', 'avg_speed_m_gby_dropoff_cluster', 'log_trip_duration_gby_dropoff_cluster', 'avg_speed_h_center_lat_bin_center_long_bin', 'cnt_center_lat_bin_center_long_bin', 'avg_speed_h_pickup_hour_center_lat_bin_center_long_bin', 'cnt_pickup_hour_center_lat_bin_center_long_bin', 'avg_speed_h_pickup_hour_pickup_cluster', 'cnt_pickup_hour_pickup_cluster', 'avg_speed_h_pickup_hour_dropoff_cluster', 'cnt_pickup_hour_dropoff_cluster', 'avg_speed_h_pickup_cluster_dropoff_cluster', 'cnt_pickup_cluster_dropoff_cluster']\n\n\nTrain:\n['id', 'vendor_id', 'pickup_datetime', 'dropoff_datetime', 'passenger_count', 'pickup_longitude', 'pickup_latitude', 'dropoff_longitude', 'dropoff_latitude', 'store_and_fwd_flag', 'trip_duration', 'pickup_date', 'check_trip_duration', 'pickup_pca0', 'pickup_pca1', 'dropoff_pca0', 'dropoff_pca1', 'distance_haversine', 'distance_dummy_manhattan', 'direction', 'pca_manhattan', 'center_latitude', 'center_longitude', 'pickup_weekday', 'pickup_hour_weekofyear', 'pickup_hour', 'pickup_minute', 'pickup_dt', 'pickup_week_hour', 'week_delta', 'week_delta_sin', 'hour_sin', 'avg_speed_h', 'avg_speed_m', 'pickup_lat_bin', 'pickup_long_bin', 'center_lat_bin', 'center_long_bin', 'pickup_dt_bin', 'pickup_cluster', 'dropoff_cluster', 'log_trip_duration', 'avg_speed_h_gby_pickup_hour', 'avg_speed_m_gby_pickup_hour', 'log_trip_duration_gby_pickup_hour', 'avg_speed_h_gby_pickup_date', 'avg_speed_m_gby_pickup_date', 'log_trip_duration_gby_pickup_date', 'avg_speed_h_gby_pickup_dt_bin', 'avg_speed_m_gby_pickup_dt_bin', 'log_trip_duration_gby_pickup_dt_bin', 'avg_speed_h_gby_pickup_week_hour', 'avg_speed_m_gby_pickup_week_hour', 'log_trip_duration_gby_pickup_week_hour', 'avg_speed_h_gby_pickup_cluster', 'avg_speed_m_gby_pickup_cluster', 'log_trip_duration_gby_pickup_cluster', 'avg_speed_h_gby_dropoff_cluster', 'avg_speed_m_gby_dropoff_cluster', 'log_trip_duration_gby_dropoff_cluster', 'avg_speed_h_center_lat_bin_center_long_bin', 'cnt_center_lat_bin_center_long_bin', 'avg_speed_h_pickup_hour_center_lat_bin_center_long_bin', 'cnt_pickup_hour_center_lat_bin_center_long_bin', 'avg_speed_h_pickup_hour_pickup_cluster', 'cnt_pickup_hour_pickup_cluster', 'avg_speed_h_pickup_hour_dropoff_cluster', 'cnt_pickup_hour_dropoff_cluster', 'avg_speed_h_pickup_cluster_dropoff_cluster', 'cnt_pickup_cluster_dropoff_cluster']\n          id  vendor_id     pickup_datetime    dropoff_datetime  \\\n0  id2875421          2 2016-03-14 17:24:00 2016-03-14 17:32:00   \n1  id2377394          1 2016-06-12 00:43:00 2016-06-12 00:54:00   \n2  id3858529          2 2016-01-19 11:35:00 2016-01-19 12:10:00   \n\n   passenger_count  pickup_longitude  pickup_latitude  dropoff_longitude  \\\n0                1        -73.982155        40.767937         -73.964630   \n1                1        -73.980415        40.738564         -73.999481   \n2                1        -73.979027        40.763939         -74.005333   \n\n   dropoff_latitude  store_and_fwd_flag                 ...                  \\\n0         40.765602                   0                 ...                   \n1         40.731152                   0                 ...                   \n2         40.710087                   0                 ...                   \n\n   avg_speed_h_center_lat_bin_center_long_bin  \\\n0                                    3.581992   \n1                                    3.534788   \n2                                    3.402122   \n\n  cnt_center_lat_bin_center_long_bin  \\\n0                               2020   \n1                               1803   \n2                               2823   \n\n   avg_speed_h_pickup_hour_center_lat_bin_center_long_bin  \\\n0                                           3.045406        \n1                                           3.419741        \n2                                           3.025884        \n\n   cnt_pickup_hour_center_lat_bin_center_long_bin  \\\n0                                             146   \n1                                              90   \n2                                             126   \n\n   avg_speed_h_pickup_hour_pickup_cluster  cnt_pickup_hour_pickup_cluster  \\\n0                                2.985313                              57   \n1                                4.504133                              16   \n2                                2.860902                              65   \n\n   avg_speed_h_pickup_hour_dropoff_cluster  cnt_pickup_hour_dropoff_cluster  \\\n0                                 3.258895                               70   \n1                                 3.385017                               17   \n2                                 3.769567                               21   \n\n   avg_speed_h_pickup_cluster_dropoff_cluster  \\\n0                                    2.943386   \n1                                    3.111163   \n2                                    3.006167   \n\n   cnt_pickup_cluster_dropoff_cluster  \n0                                  30  \n1                                  11  \n2                                   1  \n\n[3 rows x 70 columns]\n"
     ]
    }
   ],
   "source": [
    "print(list(test))\n",
    "print(\"\\n\")\n",
    "print(\"Train:\")\n",
    "print(list(train))\n",
    "print(train.head(3))\n"
   ]
  },
  {
   "cell_type": "code",
   "execution_count": 26,
   "metadata": {
    "collapsed": true
   },
   "outputs": [
    {
     "name": "stdout",
     "output_type": "stream",
     "text": [
      "          id  vendor_id     pickup_datetime    dropoff_datetime  \\\n0  id2875421          2 2016-03-14 17:24:00 2016-03-14 17:32:00   \n1  id2377394          1 2016-06-12 00:43:00 2016-06-12 00:54:00   \n2  id3858529          2 2016-01-19 11:35:00 2016-01-19 12:10:00   \n\n   passenger_count  pickup_longitude  pickup_latitude  dropoff_longitude  \\\n0                1        -73.982155        40.767937         -73.964630   \n1                1        -73.980415        40.738564         -73.999481   \n2                1        -73.979027        40.763939         -74.005333   \n\n   dropoff_latitude  store_and_fwd_flag          ...            \\\n0         40.765602                   0          ...             \n1         40.731152                   0          ...             \n2         40.710087                   0          ...             \n\n   cnt_center_lat_bin_center_long_bin  \\\n0                                2020   \n1                                1803   \n2                                2823   \n\n  avg_speed_h_pickup_hour_center_lat_bin_center_long_bin  \\\n0                                           3.045406       \n1                                           3.419741       \n2                                           3.025884       \n\n   cnt_pickup_hour_center_lat_bin_center_long_bin  \\\n0                                             146   \n1                                              90   \n2                                             126   \n\n   avg_speed_h_pickup_hour_pickup_cluster  cnt_pickup_hour_pickup_cluster  \\\n0                                2.985313                              57   \n1                                4.504133                              16   \n2                                2.860902                              65   \n\n   avg_speed_h_pickup_hour_dropoff_cluster  cnt_pickup_hour_dropoff_cluster  \\\n0                                 3.258895                               70   \n1                                 3.385017                               17   \n2                                 3.769567                               21   \n\n   avg_speed_h_pickup_cluster_dropoff_cluster  \\\n0                                    2.943386   \n1                                    3.111163   \n2                                    3.006167   \n\n   cnt_pickup_cluster_dropoff_cluster  pickup_datetime_group  \n0                                  30    2016-03-14 17:00:00  \n1                                  11    2016-06-12 01:00:00  \n2                                   1    2016-01-19 12:00:00  \n\n[3 rows x 71 columns]\n"
     ]
    }
   ],
   "source": [
    "   \n",
    "group_freq = '60min'\n",
    "df_all = pd.concat((train, test))[['id', 'pickup_datetime', 'pickup_cluster', 'dropoff_cluster']]\n",
    "train.loc[:, 'pickup_datetime_group'] = train['pickup_datetime'].dt.round(group_freq)\n",
    "test.loc[:, 'pickup_datetime_group'] = test['pickup_datetime'].dt.round(group_freq)\n",
    "print(train.head(3))"
   ]
  },
  {
   "cell_type": "code",
   "execution_count": 27,
   "metadata": {
    "collapsed": true
   },
   "outputs": [
    {
     "name": "stdout",
     "output_type": "stream",
     "text": [
      "          id  vendor_id     pickup_datetime    dropoff_datetime  \\\n0  id2875421          2 2016-03-14 17:24:00 2016-03-14 17:32:00   \n1  id2377394          1 2016-06-12 00:43:00 2016-06-12 00:54:00   \n2  id3858529          2 2016-01-19 11:35:00 2016-01-19 12:10:00   \n\n   passenger_count  pickup_longitude  pickup_latitude  dropoff_longitude  \\\n0                1        -73.982155        40.767937         -73.964630   \n1                1        -73.980415        40.738564         -73.999481   \n2                1        -73.979027        40.763939         -74.005333   \n\n   dropoff_latitude  store_and_fwd_flag     ...       \\\n0         40.765602                   0     ...        \n1         40.731152                   0     ...        \n2         40.710087                   0     ...        \n\n   avg_speed_h_pickup_hour_center_lat_bin_center_long_bin  \\\n0                                           3.045406        \n1                                           3.419741        \n2                                           3.025884        \n\n  cnt_pickup_hour_center_lat_bin_center_long_bin  \\\n0                                            146   \n1                                             90   \n2                                            126   \n\n   avg_speed_h_pickup_hour_pickup_cluster  cnt_pickup_hour_pickup_cluster  \\\n0                                2.985313                              57   \n1                                4.504133                              16   \n2                                2.860902                              65   \n\n   avg_speed_h_pickup_hour_dropoff_cluster  cnt_pickup_hour_dropoff_cluster  \\\n0                                 3.258895                               70   \n1                                 3.385017                               17   \n2                                 3.769567                               21   \n\n   avg_speed_h_pickup_cluster_dropoff_cluster  \\\n0                                    2.943386   \n1                                    3.111163   \n2                                    3.006167   \n\n   cnt_pickup_cluster_dropoff_cluster  pickup_datetime_group  count_60min  \n0                                  30    2016-03-14 17:00:00        206.0  \n1                                  11    2016-06-12 01:00:00        201.0  \n2                                   1    2016-01-19 12:00:00        181.0  \n\n[3 rows x 72 columns]\n"
     ]
    }
   ],
   "source": [
    "# Count trips over 60min\n",
    "df_counts = df_all.set_index('pickup_datetime')[['id']].sort_index()\n",
    "df_counts['count_60min'] = df_counts.isnull().rolling(group_freq).count()['id']\n",
    "train = train.merge(df_counts, on='id', how='left')\n",
    "test = test.merge(df_counts, on='id', how='left')\n",
    "print(train.head(3))"
   ]
  },
  {
   "cell_type": "code",
   "execution_count": 28,
   "metadata": {
    "collapsed": true
   },
   "outputs": [],
   "source": [
    "# Count how many trips are going to each cluster over time\n",
    "dropoff_counts = df_all \\\n",
    "    .set_index('pickup_datetime') \\\n",
    "    .groupby([pd.TimeGrouper(group_freq), 'dropoff_cluster']) \\\n",
    "    .agg({'id': 'count'}) \\\n",
    "    .reset_index().set_index('pickup_datetime') \\\n",
    "    .groupby('dropoff_cluster').rolling('240min').mean() \\\n",
    "    .drop('dropoff_cluster', axis=1) \\\n",
    "    .reset_index().set_index('pickup_datetime').shift(freq='-120min').reset_index() \\\n",
    "    .rename(columns={'pickup_datetime': 'pickup_datetime_group', 'id': 'dropoff_cluster_count'})"
   ]
  },
  {
   "cell_type": "code",
   "execution_count": 29,
   "metadata": {
    "collapsed": true
   },
   "outputs": [],
   "source": [
    "train['dropoff_cluster_count'] = train[['pickup_datetime_group', 'dropoff_cluster']].merge(dropoff_counts, on=['pickup_datetime_group', 'dropoff_cluster'], how='left')['dropoff_cluster_count'].fillna(0)\n",
    "test['dropoff_cluster_count'] = test[['pickup_datetime_group', 'dropoff_cluster']].merge(dropoff_counts, on=['pickup_datetime_group', 'dropoff_cluster'], how='left')['dropoff_cluster_count'].fillna(0)"
   ]
  },
  {
   "cell_type": "code",
   "execution_count": 30,
   "metadata": {
    "collapsed": true
   },
   "outputs": [],
   "source": [
    "# Count how many trips are going from each cluster over time\n",
    "df_all = pd.concat((train, test))[['id', 'pickup_datetime', 'pickup_cluster', 'dropoff_cluster']]\n",
    "pickup_counts = df_all \\\n",
    "    .set_index('pickup_datetime') \\\n",
    "    .groupby([pd.TimeGrouper(group_freq), 'pickup_cluster']) \\\n",
    "    .agg({'id': 'count'}) \\\n",
    "    .reset_index().set_index('pickup_datetime') \\\n",
    "    .groupby('pickup_cluster').rolling('240min').mean() \\\n",
    "    .drop('pickup_cluster', axis=1) \\\n",
    "    .reset_index().set_index('pickup_datetime').shift(freq='-120min').reset_index() \\\n",
    "    .rename(columns={'pickup_datetime': 'pickup_datetime_group', 'id': 'pickup_cluster_count'})"
   ]
  },
  {
   "cell_type": "code",
   "execution_count": 31,
   "metadata": {
    "collapsed": true
   },
   "outputs": [],
   "source": [
    "train['pickup_cluster_count'] = train[['pickup_datetime_group', 'pickup_cluster']].merge(pickup_counts, on=['pickup_datetime_group', 'pickup_cluster'], how='left')['pickup_cluster_count'].fillna(0)\n",
    "test['pickup_cluster_count'] = test[['pickup_datetime_group', 'pickup_cluster']].merge(pickup_counts, on=['pickup_datetime_group', 'pickup_cluster'], how='left')['pickup_cluster_count'].fillna(0)\n"
   ]
  },
  {
   "cell_type": "code",
   "execution_count": 32,
   "metadata": {
    "collapsed": true
   },
   "outputs": [],
   "source": [
    "# For this particular problem we can add OSRM ([Open Source Routing Machine](http://project-osrm.org/ \n",
    "# \"OSRM\")) features. This data contains the fastest routes from specific starting points in NY.\n",
    "\n",
    "fr1 = pd.read_csv('data/new-york-city-taxi-with-osrm/fastest_routes_train_part_1.csv',\n",
    "                  usecols=['id', 'total_distance', 'total_travel_time',  'number_of_steps'])\n",
    "\n",
    "fr2 = pd.read_csv('data/new-york-city-taxi-with-osrm/fastest_routes_train_part_2.csv',\n",
    "                  usecols=['id', 'total_distance', 'total_travel_time', 'number_of_steps'])\n",
    "\n",
    "test_street_info = pd.read_csv('data/new-york-city-taxi-with-osrm/fastest_routes_test.csv',\n",
    "                               usecols=['id', 'total_distance', 'total_travel_time', 'number_of_steps'])\n"
   ]
  },
  {
   "cell_type": "code",
   "execution_count": 33,
   "metadata": {
    "collapsed": true
   },
   "outputs": [
    {
     "name": "stdout",
     "output_type": "stream",
     "text": [
      "          id  vendor_id     pickup_datetime    dropoff_datetime  \\\n0  id2875421          2 2016-03-14 17:24:00 2016-03-14 17:32:00   \n1  id2377394          1 2016-06-12 00:43:00 2016-06-12 00:54:00   \n2  id3858529          2 2016-01-19 11:35:00 2016-01-19 12:10:00   \n\n   passenger_count  pickup_longitude  pickup_latitude  dropoff_longitude  \\\n0                1        -73.982155        40.767937         -73.964630   \n1                1        -73.980415        40.738564         -73.999481   \n2                1        -73.979027        40.763939         -74.005333   \n\n   dropoff_latitude  store_and_fwd_flag       ...         \\\n0         40.765602                   0       ...          \n1         40.731152                   0       ...          \n2         40.710087                   0       ...          \n\n   cnt_pickup_hour_dropoff_cluster avg_speed_h_pickup_cluster_dropoff_cluster  \\\n0                               70                                   2.943386   \n1                               17                                   3.111163   \n2                               21                                   3.006167   \n\n   cnt_pickup_cluster_dropoff_cluster  pickup_datetime_group  count_60min  \\\n0                                  30    2016-03-14 17:00:00        206.0   \n1                                  11    2016-06-12 01:00:00        201.0   \n2                                   1    2016-01-19 12:00:00        181.0   \n\n   dropoff_cluster_count  pickup_cluster_count  total_distance  \\\n0                   5.25              6.000000          2009.1   \n1                   0.00              2.666667          2513.2   \n2                   2.25              3.750000         11060.8   \n\n   total_travel_time  number_of_steps  \n0              164.9                5  \n1              332.0                6  \n2              767.6               16  \n\n[3 rows x 77 columns]\n"
     ]
    }
   ],
   "source": [
    "train_street_info=pd.concat((fr1, fr2))\n",
    "train = train.merge(train_street_info, how='left', on='id')\n",
    "test = test.merge(test_street_info, how='left', on='id')\n",
    "print(train.head(3))"
   ]
  },
  {
   "cell_type": "code",
   "execution_count": 34,
   "metadata": {},
   "outputs": [
    {
     "name": "stdout",
     "output_type": "stream",
     "text": [
      "['avg_speed_h' 'avg_speed_m' 'check_trip_duration' 'dropoff_datetime'\n 'log_trip_duration' 'trip_duration']\nWe have 62 features.\nFeature extraction time: 441 seconds\n"
     ]
    }
   ],
   "source": [
    "feature_names = list(train.columns)\n",
    "print(np.setdiff1d(train.columns, test.columns))\n",
    "do_not_use_for_training = ['id', 'log_trip_duration', 'pickup_datetime', 'dropoff_datetime', 'trip_duration', 'check_trip_duration',\n",
    "                           'pickup_date', 'avg_speed_h', 'avg_speed_m', 'pickup_lat_bin', 'pickup_long_bin',\n",
    "                           'center_lat_bin', 'center_long_bin', 'pickup_dt_bin', 'pickup_datetime_group']\n",
    "feature_names = [f for f in train.columns if f not in do_not_use_for_training]\n",
    "# print(feature_names)\n",
    "print('We have %i features.' % len(feature_names))\n",
    "train[feature_names].count()\n",
    "\n",
    "t1 = dt.datetime.now()\n",
    "print('Feature extraction time: %i seconds' % (t1 - t0).seconds)"
   ]
  },
  {
   "cell_type": "heading",
   "metadata": {},
   "level": 1,
   "source": [
    "Feature check before modeling"
   ]
  },
  {
   "cell_type": "code",
   "execution_count": 35,
   "metadata": {},
   "outputs": [
    {
     "data": {
      "text/html": [
       "<div>\n",
       "<style>\n",
       "    .dataframe thead tr:only-child th {\n",
       "        text-align: right;\n",
       "    }\n",
       "\n",
       "    .dataframe thead th {\n",
       "        text-align: left;\n",
       "    }\n",
       "\n",
       "    .dataframe tbody tr th {\n",
       "        vertical-align: top;\n",
       "    }\n",
       "</style>\n",
       "<table border=\"1\" class=\"dataframe\">\n",
       "  <thead>\n",
       "    <tr style=\"text-align: right;\">\n",
       "      <th></th>\n",
       "      <th>feature</th>\n",
       "      <th>train_test_mean_diff</th>\n",
       "    </tr>\n",
       "  </thead>\n",
       "  <tbody>\n",
       "    <tr>\n",
       "      <th>55</th>\n",
       "      <td>cnt_pickup_cluster_dropoff_cluster</td>\n",
       "      <td>0.031627</td>\n",
       "    </tr>\n",
       "    <tr>\n",
       "      <th>51</th>\n",
       "      <td>cnt_pickup_hour_pickup_cluster</td>\n",
       "      <td>0.036648</td>\n",
       "    </tr>\n",
       "    <tr>\n",
       "      <th>53</th>\n",
       "      <td>cnt_pickup_hour_dropoff_cluster</td>\n",
       "      <td>0.041682</td>\n",
       "    </tr>\n",
       "    <tr>\n",
       "      <th>48</th>\n",
       "      <td>avg_speed_h_pickup_hour_center_lat_bin_center_...</td>\n",
       "      <td>0.045448</td>\n",
       "    </tr>\n",
       "    <tr>\n",
       "      <th>6</th>\n",
       "      <td>store_and_fwd_flag</td>\n",
       "      <td>NaN</td>\n",
       "    </tr>\n",
       "  </tbody>\n",
       "</table>\n",
       "</div>"
      ],
      "text/plain": [
       "<div>\n",
       "<style>\n",
       "    .dataframe thead tr:only-child th {\n",
       "        text-align: right;\n",
       "    }\n",
       "\n",
       "    .dataframe thead th {\n",
       "        text-align: left;\n",
       "    }\n",
       "\n",
       "    .dataframe tbody tr th {\n",
       "        vertical-align: top;\n",
       "    }\n",
       "</style>\n",
       "<table border=\"1\" class=\"dataframe\">\n",
       "  <thead>\n",
       "    <tr style=\"text-align: right;\">\n",
       "      <th></th>\n",
       "      <th>feature</th>\n",
       "      <th>train_test_mean_diff</th>\n",
       "    </tr>\n",
       "  </thead>\n",
       "  <tbody>\n",
       "    <tr>\n",
       "      <th>55</th>\n",
       "      <td>cnt_pickup_cluster_dropoff_cluster</td>\n",
       "      <td>0.031627</td>\n",
       "    </tr>\n",
       "    <tr>\n",
       "      <th>51</th>\n",
       "      <td>cnt_pickup_hour_pickup_cluster</td>\n",
       "      <td>0.036648</td>\n",
       "    </tr>\n",
       "    <tr>\n",
       "      <th>53</th>\n",
       "      <td>cnt_pickup_hour_dropoff_cluster</td>\n",
       "      <td>0.041682</td>\n",
       "    </tr>\n",
       "    <tr>\n",
       "      <th>48</th>\n",
       "      <td>avg_speed_h_pickup_hour_center_lat_bin_center_...</td>\n",
       "      <td>0.045448</td>\n",
       "    </tr>\n",
       "    <tr>\n",
       "      <th>6</th>\n",
       "      <td>store_and_fwd_flag</td>\n",
       "      <td>NaN</td>\n",
       "    </tr>\n",
       "  </tbody>\n",
       "</table>\n",
       "</div>"
      ]
     },
     "execution_count": 35,
     "metadata": {},
     "output_type": "execute_result"
    }
   ],
   "source": [
    "feature_stats = pd.DataFrame({'feature': feature_names})\n",
    "\n",
    "feature_stats = pd.DataFrame({'feature': feature_names})\n",
    "feature_stats.loc[:, 'train_mean'] = np.nanmean(train[feature_names].values, axis=0).round(4)\n",
    "feature_stats.loc[:, 'test_mean'] = np.nanmean(test[feature_names].values, axis=0).round(4)\n",
    "feature_stats.loc[:, 'train_std'] = np.nanstd(train[feature_names].values, axis=0).round(4)\n",
    "feature_stats.loc[:, 'test_std'] = np.nanstd(test[feature_names].values, axis=0).round(4)\n",
    "feature_stats.loc[:, 'train_nan'] = np.mean(np.isnan(train[feature_names].values), axis=0).round(3)\n",
    "feature_stats.loc[:, 'test_nan'] = np.mean(np.isnan(test[feature_names].values), axis=0).round(3)\n",
    "feature_stats.loc[:, 'train_test_mean_diff'] = np.abs(feature_stats['train_mean'] - feature_stats['test_mean']) / np.abs(feature_stats['train_std'] + feature_stats['test_std'])  * 2\n",
    "feature_stats.loc[:, 'train_test_nan_diff'] = np.abs(feature_stats['train_nan'] - feature_stats['test_nan'])\n",
    "feature_stats = feature_stats.sort_values(by='train_test_mean_diff')\n",
    "feature_stats[['feature', 'train_test_mean_diff']].tail()\n"
   ]
  },
  {
   "cell_type": "heading",
   "metadata": {},
   "level": 1,
   "source": [
    "Train a simple classifier:"
   ]
  },
  {
   "cell_type": "heading",
   "metadata": {},
   "level": 2,
   "source": [
    "use the TPOT package to handle the cross validation and hyperparameters"
   ]
  },
  {
   "cell_type": "code",
   "execution_count": 36,
   "metadata": {},
   "outputs": [
    {
     "name": "stderr",
     "output_type": "stream",
     "text": [
      "C:\\Anaconda3\\lib\\site-packages\\deap\\tools\\_hypervolume\\pyhv.py:33: ImportWarning: Falling back to the python version of hypervolume module. Expect this to be very slow.\n  \"module. Expect this to be very slow.\", ImportWarning)\n"
     ]
    },
    {
     "name": "stderr",
     "output_type": "stream",
     "text": [
      "C:\\Anaconda3\\lib\\importlib\\_bootstrap.py:219: ImportWarning: can't resolve package from __spec__ or __package__, falling back on __name__ and __path__\n  return f(*args, **kwds)\n"
     ]
    }
   ],
   "source": [
    "from tpot import TPOTRegressor\n",
    "auto_classifier = TPOTRegressor(generations=3, population_size=9, verbosity=2)\n",
    "from sklearn.model_selection import train_test_split"
   ]
  },
  {
   "cell_type": "code",
   "execution_count": 37,
   "metadata": {
    "collapsed": true
   },
   "outputs": [
    {
     "name": "stdout",
     "output_type": "stream",
     "text": [
      "feature names:\n"
     ]
    },
    {
     "name": "stdout",
     "output_type": "stream",
     "text": [
      " "
     ]
    },
    {
     "name": "stdout",
     "output_type": "stream",
     "text": [
      "['vendor_id', 'passenger_count', 'pickup_longitude', 'pickup_latitude', 'dropoff_longitude', 'dropoff_latitude', 'store_and_fwd_flag', 'pickup_pca0', 'pickup_pca1', 'dropoff_pca0', 'dropoff_pca1', 'distance_haversine', 'distance_dummy_manhattan', 'direction', 'pca_manhattan', 'center_latitude', 'center_longitude', 'pickup_weekday', 'pickup_hour_weekofyear', 'pickup_hour', 'pickup_minute', 'pickup_dt', 'pickup_week_hour', 'week_delta', 'week_delta_sin', 'hour_sin', 'pickup_cluster', 'dropoff_cluster', 'avg_speed_h_gby_pickup_hour', 'avg_speed_m_gby_pickup_hour', 'log_trip_duration_gby_pickup_hour', 'avg_speed_h_gby_pickup_date', 'avg_speed_m_gby_pickup_date', 'log_trip_duration_gby_pickup_date', 'avg_speed_h_gby_pickup_dt_bin', 'avg_speed_m_gby_pickup_dt_bin', 'log_trip_duration_gby_pickup_dt_bin', 'avg_speed_h_gby_pickup_week_hour', 'avg_speed_m_gby_pickup_week_hour', 'log_trip_duration_gby_pickup_week_hour', 'avg_speed_h_gby_pickup_cluster', 'avg_speed_m_gby_pickup_cluster', 'log_trip_duration_gby_pickup_cluster', 'avg_speed_h_gby_dropoff_cluster', 'avg_speed_m_gby_dropoff_cluster', 'log_trip_duration_gby_dropoff_cluster', 'avg_speed_h_center_lat_bin_center_long_bin', 'cnt_center_lat_bin_center_long_bin', 'avg_speed_h_pickup_hour_center_lat_bin_center_long_bin', 'cnt_pickup_hour_center_lat_bin_center_long_bin', 'avg_speed_h_pickup_hour_pickup_cluster', 'cnt_pickup_hour_pickup_cluster', 'avg_speed_h_pickup_hour_dropoff_cluster', 'cnt_pickup_hour_dropoff_cluster', 'avg_speed_h_pickup_cluster_dropoff_cluster', 'cnt_pickup_cluster_dropoff_cluster', 'count_60min', 'dropoff_cluster_count', 'pickup_cluster_count', 'total_distance', 'total_travel_time', 'number_of_steps']"
     ]
    },
    {
     "name": "stdout",
     "output_type": "stream",
     "text": [
      "\n"
     ]
    },
    {
     "name": "stdout",
     "output_type": "stream",
     "text": [
      "x:\n"
     ]
    },
    {
     "name": "stdout",
     "output_type": "stream",
     "text": [
      " "
     ]
    },
    {
     "name": "stdout",
     "output_type": "stream",
     "text": [
      "[[  2.00000000e+00   1.00000000e+00  -7.39821549e+01 ...,   2.00910000e+03\n    1.64900000e+02   5.00000000e+00]\n [  1.00000000e+00   1.00000000e+00  -7.39804153e+01 ...,   2.51320000e+03\n    3.32000000e+02   6.00000000e+00]\n [  2.00000000e+00   1.00000000e+00  -7.39790268e+01 ...,   1.10608000e+04\n    7.67600000e+02   1.60000000e+01]\n ..., \n [  1.00000000e+00   1.00000000e+00  -7.39679794e+01 ...,   5.20500000e+03\n    5.20000000e+02   6.00000000e+00]\n [  2.00000000e+00   2.00000000e+00  -7.37767410e+01 ...,   1.89727000e+04\n    1.17050000e+03   1.70000000e+01]\n [  1.00000000e+00   2.00000000e+00  -7.40147934e+01 ...,   3.93740000e+03\n    4.24700000e+02   6.00000000e+00]]"
     ]
    },
    {
     "name": "stdout",
     "output_type": "stream",
     "text": [
      "\n"
     ]
    },
    {
     "name": "stdout",
     "output_type": "stream",
     "text": [
      "y:\n"
     ]
    },
    {
     "name": "stdout",
     "output_type": "stream",
     "text": [
      " "
     ]
    },
    {
     "name": "stdout",
     "output_type": "stream",
     "text": [
      "[ 6.12249281  6.49828215  7.66152708 ...,  6.85856503  7.47363711\n  6.42162227]"
     ]
    },
    {
     "name": "stdout",
     "output_type": "stream",
     "text": [
      "\n"
     ]
    },
    {
     "name": "stdout",
     "output_type": "stream",
     "text": [
      "KFold(n_splits=10, random_state=None, shuffle=False)"
     ]
    },
    {
     "name": "stdout",
     "output_type": "stream",
     "text": [
      "\n"
     ]
    }
   ],
   "source": [
    "# Split the training data to train and validate\n",
    "\n",
    "# K Fold Cross Validation\n",
    "from sklearn.model_selection import KFold\n",
    "\n",
    "X = train[feature_names].values\n",
    "y = np.log(train['trip_duration'].values + 1) \n",
    "\n",
    "kf = KFold(n_splits=10)\n",
    "kf.get_n_splits(X)\n",
    "\n",
    "print(\"feature names:\\n\", feature_names)\n",
    "print(\"x:\\n\",X)\n",
    "print(\"y:\\n\",y)\n",
    "print(kf)  \n"
   ]
  },
  {
   "cell_type": "code",
   "execution_count": 38,
   "metadata": {},
   "outputs": [
    {
     "name": "stdout",
     "output_type": "stream",
     "text": [
      "TRAIN:"
     ]
    },
    {
     "name": "stdout",
     "output_type": "stream",
     "text": [
      " "
     ]
    },
    {
     "name": "stdout",
     "output_type": "stream",
     "text": [
      "[ 5000  5001  5002 ..., 49997 49998 49999]"
     ]
    },
    {
     "name": "stdout",
     "output_type": "stream",
     "text": [
      " "
     ]
    },
    {
     "name": "stdout",
     "output_type": "stream",
     "text": [
      "TEST:"
     ]
    },
    {
     "name": "stdout",
     "output_type": "stream",
     "text": [
      " "
     ]
    },
    {
     "name": "stdout",
     "output_type": "stream",
     "text": [
      "[   0    1    2 ..., 4997 4998 4999]"
     ]
    },
    {
     "name": "stdout",
     "output_type": "stream",
     "text": [
      "\n"
     ]
    },
    {
     "name": "stdout",
     "output_type": "stream",
     "text": [
      "TRAIN:"
     ]
    },
    {
     "name": "stdout",
     "output_type": "stream",
     "text": [
      " "
     ]
    },
    {
     "name": "stdout",
     "output_type": "stream",
     "text": [
      "[    0     1     2 ..., 49997 49998 49999]"
     ]
    },
    {
     "name": "stdout",
     "output_type": "stream",
     "text": [
      " "
     ]
    },
    {
     "name": "stdout",
     "output_type": "stream",
     "text": [
      "TEST:"
     ]
    },
    {
     "name": "stdout",
     "output_type": "stream",
     "text": [
      " "
     ]
    },
    {
     "name": "stdout",
     "output_type": "stream",
     "text": [
      "[5000 5001 5002 ..., 9997 9998 9999]"
     ]
    },
    {
     "name": "stdout",
     "output_type": "stream",
     "text": [
      "\n"
     ]
    },
    {
     "name": "stdout",
     "output_type": "stream",
     "text": [
      "TRAIN:"
     ]
    },
    {
     "name": "stdout",
     "output_type": "stream",
     "text": [
      " "
     ]
    },
    {
     "name": "stdout",
     "output_type": "stream",
     "text": [
      "[    0     1     2 ..., 49997 49998 49999]"
     ]
    },
    {
     "name": "stdout",
     "output_type": "stream",
     "text": [
      " "
     ]
    },
    {
     "name": "stdout",
     "output_type": "stream",
     "text": [
      "TEST:"
     ]
    },
    {
     "name": "stdout",
     "output_type": "stream",
     "text": [
      " "
     ]
    },
    {
     "name": "stdout",
     "output_type": "stream",
     "text": [
      "[10000 10001 10002 ..., 14997 14998 14999]"
     ]
    },
    {
     "name": "stdout",
     "output_type": "stream",
     "text": [
      "\n"
     ]
    },
    {
     "name": "stdout",
     "output_type": "stream",
     "text": [
      "TRAIN:"
     ]
    },
    {
     "name": "stdout",
     "output_type": "stream",
     "text": [
      " "
     ]
    },
    {
     "name": "stdout",
     "output_type": "stream",
     "text": [
      "[    0     1     2 ..., 49997 49998 49999]"
     ]
    },
    {
     "name": "stdout",
     "output_type": "stream",
     "text": [
      " "
     ]
    },
    {
     "name": "stdout",
     "output_type": "stream",
     "text": [
      "TEST:"
     ]
    },
    {
     "name": "stdout",
     "output_type": "stream",
     "text": [
      " "
     ]
    },
    {
     "name": "stdout",
     "output_type": "stream",
     "text": [
      "[15000 15001 15002 ..., 19997 19998 19999]"
     ]
    },
    {
     "name": "stdout",
     "output_type": "stream",
     "text": [
      "\n"
     ]
    },
    {
     "name": "stdout",
     "output_type": "stream",
     "text": [
      "TRAIN:"
     ]
    },
    {
     "name": "stdout",
     "output_type": "stream",
     "text": [
      " "
     ]
    },
    {
     "name": "stdout",
     "output_type": "stream",
     "text": [
      "[    0     1     2 ..., 49997 49998 49999]"
     ]
    },
    {
     "name": "stdout",
     "output_type": "stream",
     "text": [
      " "
     ]
    },
    {
     "name": "stdout",
     "output_type": "stream",
     "text": [
      "TEST:"
     ]
    },
    {
     "name": "stdout",
     "output_type": "stream",
     "text": [
      " "
     ]
    },
    {
     "name": "stdout",
     "output_type": "stream",
     "text": [
      "[20000 20001 20002 ..., 24997 24998 24999]"
     ]
    },
    {
     "name": "stdout",
     "output_type": "stream",
     "text": [
      "\n"
     ]
    },
    {
     "name": "stdout",
     "output_type": "stream",
     "text": [
      "TRAIN:"
     ]
    },
    {
     "name": "stdout",
     "output_type": "stream",
     "text": [
      " "
     ]
    },
    {
     "name": "stdout",
     "output_type": "stream",
     "text": [
      "[    0     1     2 ..., 49997 49998 49999]"
     ]
    },
    {
     "name": "stdout",
     "output_type": "stream",
     "text": [
      " "
     ]
    },
    {
     "name": "stdout",
     "output_type": "stream",
     "text": [
      "TEST:"
     ]
    },
    {
     "name": "stdout",
     "output_type": "stream",
     "text": [
      " "
     ]
    },
    {
     "name": "stdout",
     "output_type": "stream",
     "text": [
      "[25000 25001 25002 ..., 29997 29998 29999]"
     ]
    },
    {
     "name": "stdout",
     "output_type": "stream",
     "text": [
      "\n"
     ]
    },
    {
     "name": "stdout",
     "output_type": "stream",
     "text": [
      "TRAIN:"
     ]
    },
    {
     "name": "stdout",
     "output_type": "stream",
     "text": [
      " "
     ]
    },
    {
     "name": "stdout",
     "output_type": "stream",
     "text": [
      "[    0     1     2 ..., 49997 49998 49999]"
     ]
    },
    {
     "name": "stdout",
     "output_type": "stream",
     "text": [
      " "
     ]
    },
    {
     "name": "stdout",
     "output_type": "stream",
     "text": [
      "TEST:"
     ]
    },
    {
     "name": "stdout",
     "output_type": "stream",
     "text": [
      " "
     ]
    },
    {
     "name": "stdout",
     "output_type": "stream",
     "text": [
      "[30000 30001 30002 ..., 34997 34998 34999]"
     ]
    },
    {
     "name": "stdout",
     "output_type": "stream",
     "text": [
      "\n"
     ]
    },
    {
     "name": "stdout",
     "output_type": "stream",
     "text": [
      "TRAIN:"
     ]
    },
    {
     "name": "stdout",
     "output_type": "stream",
     "text": [
      " "
     ]
    },
    {
     "name": "stdout",
     "output_type": "stream",
     "text": [
      "[    0     1     2 ..., 49997 49998 49999]"
     ]
    },
    {
     "name": "stdout",
     "output_type": "stream",
     "text": [
      " "
     ]
    },
    {
     "name": "stdout",
     "output_type": "stream",
     "text": [
      "TEST:"
     ]
    },
    {
     "name": "stdout",
     "output_type": "stream",
     "text": [
      " "
     ]
    },
    {
     "name": "stdout",
     "output_type": "stream",
     "text": [
      "[35000 35001 35002 ..., 39997 39998 39999]"
     ]
    },
    {
     "name": "stdout",
     "output_type": "stream",
     "text": [
      "\n"
     ]
    },
    {
     "name": "stdout",
     "output_type": "stream",
     "text": [
      "TRAIN:"
     ]
    },
    {
     "name": "stdout",
     "output_type": "stream",
     "text": [
      " "
     ]
    },
    {
     "name": "stdout",
     "output_type": "stream",
     "text": [
      "[    0     1     2 ..., 49997 49998 49999]"
     ]
    },
    {
     "name": "stdout",
     "output_type": "stream",
     "text": [
      " "
     ]
    },
    {
     "name": "stdout",
     "output_type": "stream",
     "text": [
      "TEST:"
     ]
    },
    {
     "name": "stdout",
     "output_type": "stream",
     "text": [
      " "
     ]
    },
    {
     "name": "stdout",
     "output_type": "stream",
     "text": [
      "[40000 40001 40002 ..., 44997 44998 44999]"
     ]
    },
    {
     "name": "stdout",
     "output_type": "stream",
     "text": [
      "\n"
     ]
    },
    {
     "name": "stdout",
     "output_type": "stream",
     "text": [
      "TRAIN:"
     ]
    },
    {
     "name": "stdout",
     "output_type": "stream",
     "text": [
      " "
     ]
    },
    {
     "name": "stdout",
     "output_type": "stream",
     "text": [
      "[    0     1     2 ..., 44997 44998 44999]"
     ]
    },
    {
     "name": "stdout",
     "output_type": "stream",
     "text": [
      " "
     ]
    },
    {
     "name": "stdout",
     "output_type": "stream",
     "text": [
      "TEST:"
     ]
    },
    {
     "name": "stdout",
     "output_type": "stream",
     "text": [
      " "
     ]
    },
    {
     "name": "stdout",
     "output_type": "stream",
     "text": [
      "[45000 45001 45002 ..., 49997 49998 49999]"
     ]
    },
    {
     "name": "stdout",
     "output_type": "stream",
     "text": [
      "\n"
     ]
    }
   ],
   "source": [
    "KFold(n_splits=10, random_state=None, shuffle=False)\n",
    "for train_index, test_index in kf.split(X):\n",
    "    print(\"TRAIN:\", train_index, \"TEST:\", test_index)\n",
    "    X_train, X_valid = X[train_index], X[test_index]\n",
    "    y_train, y_valid = y[train_index], y[test_index]"
   ]
  },
  {
   "cell_type": "code",
   "execution_count": 39,
   "metadata": {},
   "outputs": [
    {
     "name": "stderr",
     "output_type": "stream",
     "text": [
      "\rOptimization Progress:   0%|          | 0/36 [00:00<?, ?pipeline/s]"
     ]
    },
    {
     "name": "stderr",
     "output_type": "stream",
     "text": [
      "\rOptimization Progress:   3%|▎         | 1/36 [00:10<06:10, 10.59s/pipeline]"
     ]
    },
    {
     "name": "stderr",
     "output_type": "stream",
     "text": [
      "\rOptimization Progress:   6%|▌         | 2/36 [00:16<05:12,  9.20s/pipeline]"
     ]
    },
    {
     "name": "stderr",
     "output_type": "stream",
     "text": [
      "\rOptimization Progress:   8%|▊         | 3/36 [02:25<24:47, 45.07s/pipeline]"
     ]
    },
    {
     "name": "stderr",
     "output_type": "stream",
     "text": [
      "\rOptimization Progress:  11%|█         | 4/36 [02:26<17:04, 32.02s/pipeline]"
     ]
    },
    {
     "name": "stderr",
     "output_type": "stream",
     "text": [
      "\rOptimization Progress:  14%|█▍        | 5/36 [02:54<15:47, 30.58s/pipeline]"
     ]
    },
    {
     "name": "stderr",
     "output_type": "stream",
     "text": [
      "\rOptimization Progress:  17%|█▋        | 6/36 [04:40<26:41, 53.38s/pipeline]"
     ]
    },
    {
     "name": "stderr",
     "output_type": "stream",
     "text": [
      "\rOptimization Progress:  19%|█▉        | 7/36 [06:20<32:29, 67.21s/pipeline]"
     ]
    },
    {
     "name": "stderr",
     "output_type": "stream",
     "text": [
      "\rOptimization Progress:  22%|██▏       | 8/36 [08:12<37:44, 80.89s/pipeline]"
     ]
    },
    {
     "name": "stderr",
     "output_type": "stream",
     "text": [
      "\rOptimization Progress:  25%|██▌       | 9/36 [10:20<42:42, 94.92s/pipeline]"
     ]
    },
    {
     "name": "stderr",
     "output_type": "stream",
     "text": [
      "\rOptimization Progress:  28%|██▊       | 10/36 [12:21<44:32, 102.79s/pipeline]"
     ]
    },
    {
     "name": "stderr",
     "output_type": "stream",
     "text": [
      "\rOptimization Progress:  31%|███       | 11/36 [13:49<40:56, 98.25s/pipeline] "
     ]
    },
    {
     "name": "stderr",
     "output_type": "stream",
     "text": [
      "\rOptimization Progress:  33%|███▎      | 12/36 [15:58<43:02, 107.59s/pipeline]"
     ]
    },
    {
     "name": "stderr",
     "output_type": "stream",
     "text": [
      "\rOptimization Progress:  36%|███▌      | 13/36 [16:00<29:05, 75.90s/pipeline] "
     ]
    },
    {
     "name": "stderr",
     "output_type": "stream",
     "text": [
      "\rOptimization Progress:  39%|███▉      | 14/36 [17:39<30:17, 82.61s/pipeline]"
     ]
    },
    {
     "name": "stderr",
     "output_type": "stream",
     "text": [
      "\rOptimization Progress:  42%|████▏     | 15/36 [18:13<23:49, 68.05s/pipeline]"
     ]
    },
    {
     "name": "stderr",
     "output_type": "stream",
     "text": [
      "\rOptimization Progress:  44%|████▍     | 16/36 [19:57<26:20, 79.04s/pipeline]"
     ]
    },
    {
     "name": "stderr",
     "output_type": "stream",
     "text": [
      "\rOptimization Progress:  47%|████▋     | 17/36 [20:03<18:01, 56.94s/pipeline]"
     ]
    },
    {
     "name": "stderr",
     "output_type": "stream",
     "text": [
      "\rOptimization Progress:  50%|█████     | 18/36 [27:26<51:49, 172.76s/pipeline]"
     ]
    },
    {
     "name": "stderr",
     "output_type": "stream",
     "text": [
      "\r                                                                             "
     ]
    },
    {
     "name": "stderr",
     "output_type": "stream",
     "text": [
      "\r"
     ]
    },
    {
     "name": "stdout",
     "output_type": "stream",
     "text": [
      "Generation 1 - Current best internal CV score: -0.15839809861359572"
     ]
    },
    {
     "name": "stdout",
     "output_type": "stream",
     "text": [
      "\n"
     ]
    },
    {
     "name": "stderr",
     "output_type": "stream",
     "text": [
      "\rOptimization Progress:  53%|█████▎    | 19/36 [27:26<48:56, 172.76s/pipeline]"
     ]
    },
    {
     "name": "stderr",
     "output_type": "stream",
     "text": [
      "\rOptimization Progress:  53%|█████▎    | 19/36 [27:27<34:20, 121.22s/pipeline]"
     ]
    },
    {
     "name": "stderr",
     "output_type": "stream",
     "text": [
      "\rOptimization Progress:  56%|█████▌    | 20/36 [27:36<23:21, 87.61s/pipeline] "
     ]
    },
    {
     "name": "stderr",
     "output_type": "stream",
     "text": [
      "\rOptimization Progress:  58%|█████▊    | 21/36 [32:36<37:51, 151.44s/pipeline]"
     ]
    },
    {
     "name": "stderr",
     "output_type": "stream",
     "text": [
      "\rOptimization Progress:  64%|██████▍   | 23/36 [34:30<26:40, 123.11s/pipeline]"
     ]
    },
    {
     "name": "stderr",
     "output_type": "stream",
     "text": [
      "\rOptimization Progress:  67%|██████▋   | 24/36 [36:30<24:24, 122.04s/pipeline]"
     ]
    },
    {
     "name": "stderr",
     "output_type": "stream",
     "text": [
      "\rOptimization Progress:  69%|██████▉   | 25/36 [36:37<16:04, 87.71s/pipeline] "
     ]
    },
    {
     "name": "stderr",
     "output_type": "stream",
     "text": [
      "\rOptimization Progress:  72%|███████▏  | 26/36 [36:45<10:37, 63.79s/pipeline]"
     ]
    },
    {
     "name": "stderr",
     "output_type": "stream",
     "text": [
      "\rOptimization Progress:  75%|███████▌  | 27/36 [36:48<06:49, 45.51s/pipeline]"
     ]
    },
    {
     "name": "stderr",
     "output_type": "stream",
     "text": [
      "\rOptimization Progress:  78%|███████▊  | 28/36 [36:57<04:36, 34.60s/pipeline]"
     ]
    },
    {
     "name": "stderr",
     "output_type": "stream",
     "text": [
      "\rOptimization Progress:  81%|████████  | 29/36 [37:52<04:43, 40.51s/pipeline]"
     ]
    },
    {
     "name": "stderr",
     "output_type": "stream",
     "text": [
      "\r                                                                            "
     ]
    },
    {
     "name": "stderr",
     "output_type": "stream",
     "text": [
      "\r"
     ]
    },
    {
     "name": "stdout",
     "output_type": "stream",
     "text": [
      "Generation 2 - Current best internal CV score: -0.15839809861359572"
     ]
    },
    {
     "name": "stdout",
     "output_type": "stream",
     "text": [
      "\n"
     ]
    },
    {
     "name": "stderr",
     "output_type": "stream",
     "text": [
      "\rOptimization Progress:  81%|████████  | 29/36 [37:52<04:43, 40.51s/pipeline]"
     ]
    },
    {
     "name": "stderr",
     "output_type": "stream",
     "text": [
      "\rOptimization Progress:  83%|████████▎ | 30/36 [37:52<02:51, 28.54s/pipeline]"
     ]
    },
    {
     "name": "stderr",
     "output_type": "stream",
     "text": [
      "\rOptimization Progress:  86%|████████▌ | 31/36 [38:02<01:54, 22.89s/pipeline]"
     ]
    },
    {
     "name": "stderr",
     "output_type": "stream",
     "text": [
      "\rOptimization Progress:  89%|████████▉ | 32/36 [38:08<01:11, 17.81s/pipeline]"
     ]
    },
    {
     "name": "stderr",
     "output_type": "stream",
     "text": [
      "\rOptimization Progress:  92%|█████████▏| 33/36 [38:27<00:54, 18.15s/pipeline]"
     ]
    },
    {
     "name": "stderr",
     "output_type": "stream",
     "text": [
      "\rOptimization Progress:  94%|█████████▍| 34/36 [40:37<01:43, 51.80s/pipeline]"
     ]
    },
    {
     "name": "stderr",
     "output_type": "stream",
     "text": [
      "\rOptimization Progress:  97%|█████████▋| 35/36 [43:02<01:19, 79.69s/pipeline]"
     ]
    },
    {
     "name": "stderr",
     "output_type": "stream",
     "text": [
      "\rOptimization Progress: 100%|██████████| 36/36 [43:09<00:00, 57.85s/pipeline]"
     ]
    },
    {
     "name": "stderr",
     "output_type": "stream",
     "text": [
      "\rOptimization Progress: 37pipeline [44:15, 60.22s/pipeline]                  "
     ]
    },
    {
     "name": "stderr",
     "output_type": "stream",
     "text": [
      "\rOptimization Progress: 38pipeline [45:35, 66.33s/pipeline]"
     ]
    },
    {
     "name": "stderr",
     "output_type": "stream",
     "text": [
      "\r                                                          "
     ]
    },
    {
     "name": "stderr",
     "output_type": "stream",
     "text": [
      "\r"
     ]
    },
    {
     "name": "stdout",
     "output_type": "stream",
     "text": [
      "Generation 3 - Current best internal CV score: -0.15839809861359572"
     ]
    },
    {
     "name": "stdout",
     "output_type": "stream",
     "text": [
      "\n"
     ]
    },
    {
     "name": "stderr",
     "output_type": "stream",
     "text": [
      "\rOptimization Progress: 38pipeline [45:35, 66.33s/pipeline]"
     ]
    },
    {
     "name": "stderr",
     "output_type": "stream",
     "text": [
      "\r                                                          "
     ]
    },
    {
     "name": "stderr",
     "output_type": "stream",
     "text": [
      "\r"
     ]
    },
    {
     "name": "stdout",
     "output_type": "stream",
     "text": [
      "\n"
     ]
    },
    {
     "name": "stdout",
     "output_type": "stream",
     "text": [
      "Best pipeline:"
     ]
    },
    {
     "name": "stdout",
     "output_type": "stream",
     "text": [
      " "
     ]
    },
    {
     "name": "stdout",
     "output_type": "stream",
     "text": [
      "GradientBoostingRegressor(input_matrix, alpha=0.95, learning_rate=0.5, loss=ls, max_depth=4, max_features=0.45, min_samples_leaf=14, min_samples_split=6, n_estimators=100, subsample=0.95)"
     ]
    },
    {
     "name": "stdout",
     "output_type": "stream",
     "text": [
      "\n"
     ]
    },
    {
     "data": {
      "text/plain": [
       "TPOTRegressor(config_dict={'sklearn.linear_model.ElasticNetCV': {'l1_ratio': array([ 0.  ,  0.05,  0.1 ,  0.15,  0.2 ,  0.25,  0.3 ,  0.35,  0.4 ,\n        0.45,  0.5 ,  0.55,  0.6 ,  0.65,  0.7 ,  0.75,  0.8 ,  0.85,\n        0.9 ,  0.95,  1.  ]), 'tol': [1e-05, 0.0001, 0.001, 0.01, 0.1]}, 'sklearn.ensemble.ExtraT....45,\n        0.5 ,  0.55,  0.6 ,  0.65,  0.7 ,  0.75,  0.8 ,  0.85,  0.9 ,\n        0.95,  1.  ])}}}},\n       crossover_rate=0.1, cv=5, disable_update_check=False,\n       early_stop=None, generations=3, max_eval_time_mins=5,\n       max_time_mins=None, memory=None, mutation_rate=0.9, n_jobs=1,\n       offspring_size=9, periodic_checkpoint_folder=None,\n       population_size=9, random_state=None, scoring=None, subsample=1.0,\n       verbosity=2, warm_start=False)"
      ]
     },
     "execution_count": 39,
     "metadata": {},
     "output_type": "execute_result"
    }
   ],
   "source": [
    "auto_classifier.fit(X_train, y_train)"
   ]
  },
  {
   "cell_type": "code",
   "execution_count": 40,
   "metadata": {
    "collapsed": true
   },
   "outputs": [
    {
     "name": "stdout",
     "output_type": "stream",
     "text": [
      "['vendor_id', 'passenger_count', 'pickup_longitude', 'pickup_latitude', 'dropoff_longitude', 'dropoff_latitude', 'store_and_fwd_flag', 'pickup_pca0', 'pickup_pca1', 'dropoff_pca0', 'dropoff_pca1', 'distance_haversine', 'distance_dummy_manhattan', 'direction', 'pca_manhattan', 'center_latitude', 'center_longitude', 'pickup_weekday', 'pickup_hour_weekofyear', 'pickup_hour', 'pickup_minute', 'pickup_dt', 'pickup_week_hour', 'week_delta', 'week_delta_sin', 'hour_sin', 'pickup_cluster', 'dropoff_cluster', 'avg_speed_h_gby_pickup_hour', 'avg_speed_m_gby_pickup_hour', 'log_trip_duration_gby_pickup_hour', 'avg_speed_h_gby_pickup_date', 'avg_speed_m_gby_pickup_date', 'log_trip_duration_gby_pickup_date', 'avg_speed_h_gby_pickup_dt_bin', 'avg_speed_m_gby_pickup_dt_bin', 'log_trip_duration_gby_pickup_dt_bin', 'avg_speed_h_gby_pickup_week_hour', 'avg_speed_m_gby_pickup_week_hour', 'log_trip_duration_gby_pickup_week_hour', 'avg_speed_h_gby_pickup_cluster', 'avg_speed_m_gby_pickup_cluster', 'log_trip_duration_gby_pickup_cluster', 'avg_speed_h_gby_dropoff_cluster', 'avg_speed_m_gby_dropoff_cluster', 'log_trip_duration_gby_dropoff_cluster', 'avg_speed_h_center_lat_bin_center_long_bin', 'cnt_center_lat_bin_center_long_bin', 'avg_speed_h_pickup_hour_center_lat_bin_center_long_bin', 'cnt_pickup_hour_center_lat_bin_center_long_bin', 'avg_speed_h_pickup_hour_pickup_cluster', 'cnt_pickup_hour_pickup_cluster', 'avg_speed_h_pickup_hour_dropoff_cluster', 'cnt_pickup_hour_dropoff_cluster', 'avg_speed_h_pickup_cluster_dropoff_cluster', 'cnt_pickup_cluster_dropoff_cluster', 'count_60min', 'dropoff_cluster_count', 'pickup_cluster_count', 'total_distance', 'total_travel_time', 'number_of_steps']"
     ]
    },
    {
     "name": "stdout",
     "output_type": "stream",
     "text": [
      "\n"
     ]
    },
    {
     "name": "stdout",
     "output_type": "stream",
     "text": [
      "   vendor_id  passenger_count  pickup_longitude  pickup_latitude  \\\n0          1                1        -73.988129        40.732029   \n1          1                1        -73.964203        40.679993   \n2          1                1        -73.997437        40.737583   \n3          2                1        -73.956070        40.771900   \n4          1                1        -73.970215        40.761475   \n\n   dropoff_longitude  dropoff_latitude  store_and_fwd_flag  pickup_pca0  \\\n0         -73.990173         40.756680                   0     0.016106   \n1         -73.959808         40.655403                   0    -0.003569   \n2         -73.986160         40.729523                   0     0.024939   \n3         -73.986427         40.730469                   0    -0.019047   \n4         -73.961510         40.755890                   0    -0.004111   \n\n   pickup_pca1  dropoff_pca0       ...         \\\n0    -0.018128      0.016167       ...          \n1    -0.071915     -0.005977       ...          \n2    -0.011845      0.014345       ...          \n3     0.019044      0.014536       ...          \n4     0.009786     -0.012341       ...          \n\n   avg_speed_h_pickup_hour_dropoff_cluster  cnt_pickup_hour_dropoff_cluster  \\\n0                                 3.678946                             56.0   \n1                                 5.823430                             16.0   \n2                                 5.303769                             36.0   \n3                                 5.303769                             36.0   \n4                                 4.133868                             36.0   \n\n   avg_speed_h_pickup_cluster_dropoff_cluster  \\\n0                                    2.804316   \n1                                    4.134624   \n2                                    3.019189   \n3                                         NaN   \n4                                    2.456165   \n\n   cnt_pickup_cluster_dropoff_cluster  count_60min  dropoff_cluster_count  \\\n0                                18.0        212.0                    0.0   \n1                                 1.0        211.0                    0.0   \n2                                26.0        210.0                    0.0   \n3                                 NaN        209.0                    0.0   \n4                                35.0        214.0                    0.0   \n\n   pickup_cluster_count  total_distance  total_travel_time  number_of_steps  \n0                   0.0          3795.9              424.6                4  \n1                   0.0          2904.5              200.0                4  \n2                   0.0          1499.5              193.2                4  \n3                   0.0          7023.9              494.8               11  \n4                   0.0          1108.2              103.2                4  \n\n[5 rows x 62 columns]"
     ]
    },
    {
     "name": "stdout",
     "output_type": "stream",
     "text": [
      "\n"
     ]
    }
   ],
   "source": [
    "print(feature_names)\n",
    "print(test[feature_names].head(5))\n",
    "test[feature_names].to_csv('NYCTaxi_DataTest.csv', index=False)"
   ]
  },
  {
   "cell_type": "code",
   "execution_count": 41,
   "metadata": {},
   "outputs": [
    {
     "name": "stdout",
     "output_type": "stream",
     "text": [
      "Imputing missing values in feature set"
     ]
    },
    {
     "name": "stdout",
     "output_type": "stream",
     "text": [
      "\n"
     ]
    },
    {
     "data": {
      "text/plain": [
       "True"
      ]
     },
     "execution_count": 41,
     "metadata": {},
     "output_type": "execute_result"
    }
   ],
   "source": [
    "test_result = auto_classifier.predict(test[feature_names].values)\n",
    "sub = pd.DataFrame()\n",
    "sub['id'] = test['id']\n",
    "sub['trip_duration'] = np.exp(test_result)\n",
    "sub['pickup_weekday']=test['pickup_weekday']\n",
    "sub.to_csv('NYCTaxi_TpotModels.csv', index=False)\n",
    "sub.head()\n",
    "      \n",
    "auto_classifier.export('NYCTaxi_TPOTpipelineResult.py')"
   ]
  },
  {
   "cell_type": "code",
   "execution_count": 42,
   "metadata": {
    "collapsed": true
   },
   "outputs": [
    {
     "name": "stderr",
     "output_type": "stream",
     "text": [
      "C:\\Anaconda3\\lib\\site-packages\\sklearn\\cross_validation.py:41: DeprecationWarning: This module was deprecated in version 0.18 in favor of the model_selection module into which all the refactored classes and functions are moved. Also note that the interface of the new CV iterators are different from that of this module. This module will be removed in 0.20.\n  \"This module will be removed in 0.20.\", DeprecationWarning)\n"
     ]
    }
   ],
   "source": [
    "from sklearn.ensemble import RandomForestRegressor\n",
    "from sklearn import cross_validation, metrics\n",
    "\n",
    "exported_pipeline = RandomForestRegressor(bootstrap=False, max_features=0.35000000000000003, min_samples_leaf=13, min_samples_split=12, n_estimators=100)\n",
    "\n",
    "exported_pipeline.fit(X_train, y_train)\n",
    "results = exported_pipeline.predict(X_valid)\n",
    "\n"
   ]
  },
  {
   "cell_type": "code",
   "execution_count": 43,
   "metadata": {
    "collapsed": true
   },
   "outputs": [
    {
     "name": "stdout",
     "output_type": "stream",
     "text": [
      "vendor_id                                                 False\npassenger_count                                           False\npickup_longitude                                          False\npickup_latitude                                           False\ndropoff_longitude                                         False\ndropoff_latitude                                          False\nstore_and_fwd_flag                                        False\npickup_pca0                                               False\npickup_pca1                                               False\ndropoff_pca0                                              False\ndropoff_pca1                                              False\ndistance_haversine                                        False\ndistance_dummy_manhattan                                  False\ndirection                                                 False\npca_manhattan                                             False\ncenter_latitude                                           False\ncenter_longitude                                          False\npickup_weekday                                            False\npickup_hour_weekofyear                                    False\npickup_hour                                               False\npickup_minute                                             False\npickup_dt                                                 False\npickup_week_hour                                          False\nweek_delta                                                False\nweek_delta_sin                                            False\nhour_sin                                                  False\npickup_cluster                                            False\ndropoff_cluster                                           False\navg_speed_h_gby_pickup_hour                               False\navg_speed_m_gby_pickup_hour                               False\n                                                          ...  \navg_speed_m_gby_pickup_date                               False\nlog_trip_duration_gby_pickup_date                         False\navg_speed_h_gby_pickup_dt_bin                             False\navg_speed_m_gby_pickup_dt_bin                             False\nlog_trip_duration_gby_pickup_dt_bin                       False\navg_speed_h_gby_pickup_week_hour                          False\navg_speed_m_gby_pickup_week_hour                          False\nlog_trip_duration_gby_pickup_week_hour                    False\navg_speed_h_gby_pickup_cluster                            False\navg_speed_m_gby_pickup_cluster                            False\nlog_trip_duration_gby_pickup_cluster                      False\navg_speed_h_gby_dropoff_cluster                           False\navg_speed_m_gby_dropoff_cluster                           False\nlog_trip_duration_gby_dropoff_cluster                     False\navg_speed_h_center_lat_bin_center_long_bin                 True\ncnt_center_lat_bin_center_long_bin                         True\navg_speed_h_pickup_hour_center_lat_bin_center_long_bin     True\ncnt_pickup_hour_center_lat_bin_center_long_bin             True\navg_speed_h_pickup_hour_pickup_cluster                     True\ncnt_pickup_hour_pickup_cluster                             True\navg_speed_h_pickup_hour_dropoff_cluster                    True\ncnt_pickup_hour_dropoff_cluster                            True\navg_speed_h_pickup_cluster_dropoff_cluster                 True\ncnt_pickup_cluster_dropoff_cluster                         True\ncount_60min                                               False\ndropoff_cluster_count                                     False\npickup_cluster_count                                      False\ntotal_distance                                            False\ntotal_travel_time                                         False\nnumber_of_steps                                           False\nLength: 62, dtype: bool"
     ]
    },
    {
     "name": "stdout",
     "output_type": "stream",
     "text": [
      "\n"
     ]
    }
   ],
   "source": [
    "trainDF = pd.read_csv('NYCTaxi_DataTest.csv', nrows=10000)\n",
    "print(trainDF.isnull().any())"
   ]
  },
  {
   "cell_type": "code",
   "execution_count": 44,
   "metadata": {
    "collapsed": true
   },
   "outputs": [],
   "source": [
    "#Fill nan of columns:\n",
    "trainDF['avg_speed_h_center_lat_bin_center_long_bin'].fillna((trainDF['avg_speed_h_center_lat_bin_center_long_bin'].mean()), inplace=True)\n",
    "trainDF['cnt_center_lat_bin_center_long_bin'].fillna((trainDF['cnt_center_lat_bin_center_long_bin'].mean()), inplace=True)\n",
    "trainDF['avg_speed_h_pickup_hour_center_lat_bin_center_long_bin'].fillna((trainDF['avg_speed_h_pickup_hour_center_lat_bin_center_long_bin'].mean()), inplace=True)\n",
    "trainDF['cnt_pickup_hour_center_lat_bin_center_long_bin'].fillna((trainDF['cnt_pickup_hour_center_lat_bin_center_long_bin'].mean()), inplace=True)\n",
    "trainDF['avg_speed_h_pickup_hour_pickup_cluster'].fillna((trainDF['avg_speed_h_pickup_hour_pickup_cluster'].mean()), inplace=True)\n",
    "trainDF['cnt_pickup_hour_pickup_cluster'].fillna((trainDF['cnt_pickup_hour_pickup_cluster'].mean()), inplace=True)\n",
    "trainDF['avg_speed_h_pickup_hour_dropoff_cluster'].fillna((trainDF['avg_speed_h_pickup_hour_dropoff_cluster'].mean()), inplace=True)\n",
    "trainDF['cnt_pickup_hour_dropoff_cluster'].fillna((trainDF['cnt_pickup_hour_dropoff_cluster'].mean()), inplace=True)\n",
    "trainDF['avg_speed_h_pickup_cluster_dropoff_cluster'].fillna((trainDF['avg_speed_h_pickup_cluster_dropoff_cluster'].mean()), inplace=True)\n",
    "trainDF['cnt_pickup_cluster_dropoff_cluster'].fillna((trainDF['cnt_pickup_cluster_dropoff_cluster'].mean()), inplace=True)\n"
   ]
  },
  {
   "cell_type": "markdown",
   "metadata": {},
   "source": [
    "#  Animation the map with time changing:"
   ]
  },
  {
   "cell_type": "code",
   "execution_count": 45,
   "metadata": {},
   "outputs": [
    {
     "data": {
      "text/html": [
       "\n",
       "    <div class=\"bk-root\">\n",
       "        <a href=\"https://bokeh.pydata.org\" target=\"_blank\" class=\"bk-logo bk-logo-small bk-logo-notebook\"></a>\n",
       "        <span id=\"daecbb11-67f8-4e67-91a0-dd8fc960a311\">Loading BokehJS ...</span>\n",
       "    </div>"
      ],
      "text/plain": [
       "\n",
       "    <div class=\"bk-root\">\n",
       "        <a href=\"https://bokeh.pydata.org\" target=\"_blank\" class=\"bk-logo bk-logo-small bk-logo-notebook\"></a>\n",
       "        <span id=\"daecbb11-67f8-4e67-91a0-dd8fc960a311\">Loading BokehJS ...</span>\n",
       "    </div>"
      ]
     },
     "execution_count": 0,
     "metadata": {},
     "output_type": "execute_result"
    },
    {
     "data": {
      "text/html": [
       "\n",
       "    <div class=\"bk-root\">\n",
       "        <a href=\"https://bokeh.pydata.org\" target=\"_blank\" class=\"bk-logo bk-logo-small bk-logo-notebook\"></a>\n",
       "        <span id=\"daecbb11-67f8-4e67-91a0-dd8fc960a311\">Loading BokehJS ...</span>\n",
       "    </div>"
      ],
      "text/plain": [
       "\n",
       "    <div class=\"bk-root\">\n",
       "        <a href=\"https://bokeh.pydata.org\" target=\"_blank\" class=\"bk-logo bk-logo-small bk-logo-notebook\"></a>\n",
       "        <span id=\"daecbb11-67f8-4e67-91a0-dd8fc960a311\">Loading BokehJS ...</span>\n",
       "    </div>"
      ]
     },
     "execution_count": 0,
     "metadata": {},
     "output_type": "execute_result"
    }
   ],
   "source": [
    "import pandas as pd  #pandas for using dataframe and reading csv \n",
    "import numpy as np   #numpy for vector operations and basic maths \n",
    "#import simplejson    #getting JSON in simplified format\n",
    "import urllib        #for url stuff\n",
    "#import gmaps       #for using google maps to visulalize places on maps\n",
    "import re            #for processing regular expressions\n",
    "import datetime      #for datetime operations\n",
    "import calendar      #for calendar for datetime operations\n",
    "import time          #to get the system time\n",
    "import scipy         #for other dependancies\n",
    "from sklearn.cluster import KMeans # for doing K-means clustering\n",
    "from haversine import haversine # for calculating haversine distance\n",
    "import math          #for basic maths operations\n",
    "import seaborn as sns #for making plots\n",
    "import matplotlib.pyplot as plt # for plotting\n",
    "import os  # for os commands\n",
    "# from scipy.misc import imread, imresize, imsave  # for plots \n",
    "import plotly.plotly as py\n",
    "import plotly.graph_objs as go\n",
    "import plotly\n",
    "from bokeh.palettes import Spectral4\n",
    "from bokeh.plotting import figure, output_notebook, show\n",
    "from IPython.display import HTML\n",
    "from matplotlib.pyplot import *\n",
    "from matplotlib import cm\n",
    "from matplotlib import animation\n",
    "import io\n",
    "import base64\n",
    "output_notebook()\n",
    "plotly.offline.init_notebook_mode() # run at the start of every ipython notebook"
   ]
  },
  {
   "cell_type": "code",
   "execution_count": 46,
   "metadata": {},
   "outputs": [
    {
     "name": "stdout",
     "output_type": "stream",
     "text": [
      "Time taken: 39.47292947769165."
     ]
    },
    {
     "name": "stdout",
     "output_type": "stream",
     "text": [
      "\n"
     ]
    }
   ],
   "source": [
    "s = time.time()\n",
    "train_fr_1 = pd.read_csv('data/new-york-city-taxi-with-osrm/fastest_routes_train_part_1.csv')\n",
    "train_fr_2 = pd.read_csv('data/new-york-city-taxi-with-osrm/fastest_routes_train_part_2.csv')\n",
    "train_fr = pd.concat([train_fr_1, train_fr_2])\n",
    "train_fr_new = train_fr[['id', 'total_distance', 'total_travel_time', 'number_of_steps']]\n",
    "\n",
    "train_df = pd.read_csv('data/new-york-city-taxi-with-osrm/train.csv')\n",
    "train = pd.merge(train_df, train_fr_new, on = 'id', how = 'left')\n",
    "train_df = train.copy()\n",
    "end = time.time()\n",
    "print(\"Time taken: {}.\".format((end-s)))"
   ]
  },
  {
   "cell_type": "code",
   "execution_count": 47,
   "metadata": {},
   "outputs": [
    {
     "name": "stdout",
     "output_type": "stream",
     "text": [
      "Respectively, number of columns and rows and columns are 14 and 1458644 ."
     ]
    },
    {
     "name": "stdout",
     "output_type": "stream",
     "text": [
      "\n"
     ]
    },
    {
     "name": "stdout",
     "output_type": "stream",
     "text": [
      "Train ids are unique"
     ]
    },
    {
     "name": "stdout",
     "output_type": "stream",
     "text": [
      "\n"
     ]
    },
    {
     "name": "stdout",
     "output_type": "stream",
     "text": [
      "Number of Nulls : 3."
     ]
    },
    {
     "name": "stdout",
     "output_type": "stream",
     "text": [
      "\n"
     ]
    },
    {
     "name": "stdout",
     "output_type": "stream",
     "text": [
      "          id  vendor_id      pickup_datetime     dropoff_datetime  \\\n0  id2875421          2  2016-03-14 17:24:55  2016-03-14 17:32:30   \n1  id2377394          1  2016-06-12 00:43:35  2016-06-12 00:54:38   \n2  id3858529          2  2016-01-19 11:35:24  2016-01-19 12:10:48   \n3  id3504673          2  2016-04-06 19:32:31  2016-04-06 19:39:40   \n\n   passenger_count  pickup_longitude  pickup_latitude  dropoff_longitude  \\\n0                1        -73.982155        40.767937         -73.964630   \n1                1        -73.980415        40.738564         -73.999481   \n2                1        -73.979027        40.763939         -74.005333   \n3                1        -74.010040        40.719971         -74.012268   \n\n   dropoff_latitude store_and_fwd_flag  trip_duration  total_distance  \\\n0         40.765602                  N            455          2009.1   \n1         40.731152                  N            663          2513.2   \n2         40.710087                  N           2124         11060.8   \n3         40.706718                  N            429          1779.4   \n\n   total_travel_time  number_of_steps  \n0              164.9              5.0  \n1              332.0              6.0  \n2              767.6             16.0  \n3              235.8              4.0  "
     ]
    },
    {
     "name": "stdout",
     "output_type": "stream",
     "text": [
      "\n"
     ]
    },
    {
     "name": "stdout",
     "output_type": "stream",
     "text": [
      "Time taken 6.963511228561401."
     ]
    },
    {
     "name": "stdout",
     "output_type": "stream",
     "text": [
      "\n"
     ]
    }
   ],
   "source": [
    "# checking if Ids are unique, and the number of Nulls.\n",
    "start = time.time()\n",
    "train_data = train_df.copy()\n",
    "start = time.time()\n",
    "print(\"Respectively, number of columns and rows and columns are {} and {} .\".format(train_data.shape[1], train_data.shape[0]))\n",
    "if train_data.id.nunique() == train_data.shape[0]: #nunique(): Return number of unique elements in the object.\n",
    "    print(\"Train ids are unique\")\n",
    "print(\"Number of Nulls : {}.\".format(train_data.isnull().sum().sum()))\n",
    "\n",
    "# Remain the items with latitude & longitude between 40.6-40.9 and -74.05--73.7:\n",
    "%matplotlib inline\n",
    "\n",
    "df = train_df.loc[(train_df.pickup_latitude > 40.6) & (train_df.pickup_latitude < 40.9)]\n",
    "df = df.loc[(df.dropoff_latitude>40.6) & (df.dropoff_latitude < 40.9)]\n",
    "df = df.loc[(df.dropoff_longitude > -74.05) & (df.dropoff_longitude < -73.7)]\n",
    "df = df.loc[(df.pickup_longitude > -74.05) & (df.pickup_longitude < -73.7)]\n",
    "\n",
    "train_data_new = df.copy()\n",
    "print(train_data_new.head(4))\n",
    "end = time.time()\n",
    "print(\"Time taken {}.\".format(end-start))"
   ]
  },
  {
   "cell_type": "code",
   "execution_count": 48,
   "metadata": {
    "collapsed": true
   },
   "outputs": [],
   "source": [
    "temp = train_data.copy()\n",
    "train_data['pickup_datetime'] = pd.to_datetime(train_data.pickup_datetime)\n",
    "train_data.loc[:, 'pick_date'] = train_data['pickup_datetime'].dt.date\n",
    "train_data.head()\n",
    "\n",
    "ts_v1 = pd.DataFrame(train_data.loc[train_data['vendor_id']==1].groupby('pick_date')['trip_duration'].mean())\n",
    "ts_v1.reset_index(inplace = True)\n",
    "ts_v2 = pd.DataFrame(train_data.loc[train_data.vendor_id==2].groupby('pick_date')['trip_duration'].mean())\n",
    "ts_v2.reset_index(inplace = True)\n",
    "\n",
    "train_data = temp\n"
   ]
  },
  {
   "cell_type": "markdown",
   "metadata": {},
   "source": [
    "#  Basic image processing"
   ]
  },
  {
   "cell_type": "markdown",
   "metadata": {},
   "source": [
    "##  Consider each point of this image as a point represented by lat-long\n",
    "## Then take a summary of lat-long and their count, assign a different color for different count range."
   ]
  },
  {
   "cell_type": "code",
   "execution_count": 49,
   "metadata": {},
   "outputs": [
    {
     "name": "stdout",
     "output_type": "stream",
     "text": [
      "dropoff_latitude:\n"
     ]
    },
    {
     "name": "stdout",
     "output_type": "stream",
     "text": [
      " "
     ]
    },
    {
     "name": "stdout",
     "output_type": "stream",
     "text": [
      "0    1656\n1    1311\n2    1100\nName: drop_lat_new, dtype: int64"
     ]
    },
    {
     "name": "stdout",
     "output_type": "stream",
     "text": [
      "\n"
     ]
    },
    {
     "name": "stdout",
     "output_type": "stream",
     "text": [
      "pickup_longitude:\n"
     ]
    },
    {
     "name": "stdout",
     "output_type": "stream",
     "text": [
      " "
     ]
    },
    {
     "name": "stdout",
     "output_type": "stream",
     "text": [
      "0    678\n1    695\n2    709\nName: pick_lon_new, dtype: int64"
     ]
    },
    {
     "name": "stdout",
     "output_type": "stream",
     "text": [
      "\n"
     ]
    },
    {
     "name": "stdout",
     "output_type": "stream",
     "text": [
      "dropoff_longitude:\n"
     ]
    },
    {
     "name": "stdout",
     "output_type": "stream",
     "text": [
      " "
     ]
    },
    {
     "name": "stdout",
     "output_type": "stream",
     "text": [
      "0    853\n1    505\n2    446\nName: drop_lon_new, dtype: int64"
     ]
    },
    {
     "name": "stdout",
     "output_type": "stream",
     "text": [
      "\n"
     ]
    }
   ],
   "source": [
    "# Create 3 arrays: with 3500 rows & 3 columns each.\n",
    "start = time.time()\n",
    "rgb = np.zeros((3000, 3500, 3), dtype=np.uint8) # 3000 arrays: with 3500 rows & 3 columns each.\n",
    "rgb[..., 0] = 0 # Assign 0 to every items in column 0;\n",
    "rgb[..., 1] = 0 # Assign 0 to every items in column 1;\n",
    "rgb[..., 2] = 0 # Assign 0 to every items in column 2;\n",
    "\n",
    "train_data_new['pick_lat_new'] = list(map(int, (train_data_new['pickup_latitude'] - (40.6000))*10000))\n",
    "train_data_new['drop_lat_new'] = list(map(int, (train_data_new['dropoff_latitude'] - (40.6000))*10000))\n",
    "train_data_new['pick_lon_new'] = list(map(int, (train_data_new['pickup_longitude'] - (-74.050))*10000))\n",
    "train_data_new['drop_lon_new'] = list(map(int,(train_data_new['dropoff_longitude'] - (-74.050))*10000))\n",
    "# map(): typecasting every element of the list to an integer value. \n",
    "# latitude should be between 40.6 to 40.9; Longitude should be between -74.05 to -73.70\n",
    "summary_plot = pd.DataFrame(train_data_new.groupby(['pick_lat_new', 'pick_lon_new'])['id'].count())\n",
    "\n",
    "#Print new train data after transformation:\n",
    "('pickup_latitude:\\n',train_data_new['pick_lat_new'].head(3))\n",
    "print('dropoff_latitude:\\n',train_data_new['drop_lat_new'].head(3))\n",
    "print('pickup_longitude:\\n',train_data_new['pick_lon_new'].head(3))\n",
    "print('dropoff_longitude:\\n',train_data_new['drop_lon_new'].head(3))\n",
    "# print('summary_plot:\\n')\n",
    "# summary_plot.head(100)"
   ]
  },
  {
   "cell_type": "code",
   "execution_count": 51,
   "metadata": {},
   "outputs": [
    {
     "name": "stdout",
     "output_type": "stream",
     "text": [
      "Time taken by above cell is 1768.0888392925262."
     ]
    },
    {
     "name": "stdout",
     "output_type": "stream",
     "text": [
      "\n"
     ]
    },
    {
     "name": "stdout",
     "output_type": "stream",
     "text": [
      "unit:"
     ]
    },
    {
     "name": "stdout",
     "output_type": "stream",
     "text": [
      " "
     ]
    },
    {
     "name": "stdout",
     "output_type": "stream",
     "text": [
      "[1]"
     ]
    },
    {
     "name": "stdout",
     "output_type": "stream",
     "text": [
      "\n"
     ]
    },
    {
     "data": {
      "image/png": "[encoded data removed]",
      "text/plain": [
       "<matplotlib.figure.Figure at 0x270f39e46d8>"
      ]
     },
     "metadata": {},
     "output_type": "display_data"
    }
   ],
   "source": [
    "#Plot geograph:\n",
    "summary_plot.reset_index(inplace = True)\n",
    "summary_plot.head(120)\n",
    "lat_list = summary_plot['pick_lat_new'].unique()\n",
    "\n",
    "for i in lat_list: #lat_list: list of unique 'pick_lat_new'\n",
    "    lon_list = summary_plot.loc[summary_plot['pick_lat_new']==i]['pick_lon_new'].tolist()\n",
    "    # Get the longitude mapping with unique latitude.\n",
    "    unit = summary_plot.loc[summary_plot['pick_lat_new']==i]['id'].tolist()\n",
    "    # Get the id mapping with unique latitude.\n",
    "    \n",
    "    for j in lon_list: \n",
    "        a = unit[lon_list.index(j)] # lon_list.index(j): return the index of lon_list(j)\n",
    "        if (a//50) >0: # //: Floor Division: the result is the quotient in which the digits after decimal points are not taken into account.\n",
    "            rgb[i,j, 0] = 191 #Label the count>50 with Green\n",
    "            rgb[i,j, 1] = 255\n",
    "            rgb[i,j, 2] = 0\n",
    "        elif (a//10)>0: #Label the count>10 with Red\n",
    "            rgb[i,j, 0] = 255\n",
    "            rgb[i,j, 1] = 0\n",
    "            rgb[i,j, 2] = 0\n",
    "        else: #Label the count>10 with blue\n",
    "            rgb[i,j, 0] = 0\n",
    "            rgb[i,j, 1] = 64\n",
    "            rgb[i,j, 2] = 255\n",
    "\n",
    "fig, ax = plt.subplots(nrows=1,ncols=1,figsize=(14,20))\n",
    "end = time.time()\n",
    "print(\"Time taken by above cell is {}.\".format((end-start)))\n",
    "ax.imshow(rgb, cmap = 'hot')\n",
    "ax.set_axis_off() \n",
    "\n",
    "print('unit:',unit)\n"
   ]
  },
  {
   "cell_type": "markdown",
   "metadata": {},
   "source": [
    "# Feature Extraction:"
   ]
  },
  {
   "cell_type": "markdown",
   "metadata": {},
   "source": [
    "## Define funtions to unfold features:\n",
    "##  Find out features which are affecting the trip-duration between a given pickup and drop-off locations. "
   ]
  },
  {
   "cell_type": "markdown",
   "metadata": {},
   "source": [
    "## The bearing & manhattan distance: https://www.kaggle.com/gaborfodor/from-eda-to-the-top-lb-0-367"
   ]
  },
  {
   "cell_type": "code",
   "execution_count": 52,
   "metadata": {},
   "outputs": [
    {
     "name": "stdout",
     "output_type": "stream",
     "text": [
      "Time taken by above cell is 0.0005002021789550781."
     ]
    },
    {
     "name": "stdout",
     "output_type": "stream",
     "text": [
      "\n"
     ]
    }
   ],
   "source": [
    "\n",
    "start = time.time()\n",
    "def haversine_(lat1, lng1, lat2, lng2):\n",
    "    \"\"\"function to calculate haversine distance between two co-ordinates\"\"\"\n",
    "    lat1, lng1, lat2, lng2 = map(np.radians, (lat1, lng1, lat2, lng2))\n",
    "    AVG_EARTH_RADIUS = 6371  # in km\n",
    "    lat = lat2 - lat1\n",
    "    lng = lng2 - lng1\n",
    "    d = np.sin(lat * 0.5) ** 2 + np.cos(lat1) * np.cos(lat2) * np.sin(lng * 0.5) ** 2\n",
    "    h = 2 * AVG_EARTH_RADIUS * np.arcsin(np.sqrt(d))\n",
    "    return(h)\n",
    "\n",
    "def manhattan_distance_pd(lat1, lng1, lat2, lng2):\n",
    "    \"\"\"function to calculate manhatten distance between pick_drop\"\"\"\n",
    "    a = haversine_(lat1, lng1, lat1, lng2)\n",
    "    b = haversine_(lat1, lng1, lat2, lng1)\n",
    "    return a + b\n",
    "\n",
    "import math\n",
    "def bearing_array(lat1, lng1, lat2, lng2):\n",
    "    \"\"\" function was taken from beluga's notebook as this function works on array\n",
    "    while my function used to work on individual elements and was noticably slow\"\"\"\n",
    "    AVG_EARTH_RADIUS = 6371  # in km\n",
    "    lng_delta_rad = np.radians(lng2 - lng1)\n",
    "    lat1, lng1, lat2, lng2 = map(np.radians, (lat1, lng1, lat2, lng2))\n",
    "    y = np.sin(lng_delta_rad) * np.cos(lat2)\n",
    "    x = np.cos(lat1) * np.sin(lat2) - np.sin(lat1) * np.cos(lat2) * np.cos(lng_delta_rad)\n",
    "    return np.degrees(np.arctan2(y, x))\n",
    "\n",
    "end = time.time()\n",
    "print(\"Time taken by above cell is {}.\".format((end-start)))"
   ]
  },
  {
   "cell_type": "markdown",
   "metadata": {},
   "source": [
    "##Feature extratction"
   ]
  },
  {
   "cell_type": "code",
   "execution_count": 53,
   "metadata": {},
   "outputs": [
    {
     "name": "stdout",
     "output_type": "stream",
     "text": [
      "Time taken by above cell is 5.975921392440796."
     ]
    },
    {
     "name": "stdout",
     "output_type": "stream",
     "text": [
      "\n"
     ]
    }
   ],
   "source": [
    "start = time.time()\n",
    "train_data = temp.copy()\n",
    "train_data['pickup_datetime'] = pd.to_datetime(train_data.pickup_datetime)\n",
    "train_data.loc[:, 'pick_month'] = train_data['pickup_datetime'].dt.month\n",
    "train_data.loc[:, 'hour'] = train_data['pickup_datetime'].dt.hour\n",
    "train_data.loc[:, 'week_of_year'] = train_data['pickup_datetime'].dt.weekofyear\n",
    "train_data.loc[:, 'day_of_year'] = train_data['pickup_datetime'].dt.dayofyear\n",
    "train_data.loc[:, 'day_of_week'] = train_data['pickup_datetime'].dt.dayofweek\n",
    "train_data.loc[:,'hvsine_pick_drop'] = haversine_(train_data['pickup_latitude'].values, train_data['pickup_longitude'].values, train_data['dropoff_latitude'].values, train_data['dropoff_longitude'].values)\n",
    "train_data.loc[:,'manhtn_pick_drop'] = manhattan_distance_pd(train_data['pickup_latitude'].values, train_data['pickup_longitude'].values, train_data['dropoff_latitude'].values, train_data['dropoff_longitude'].values)\n",
    "train_data.loc[:,'bearing'] = bearing_array(train_data['pickup_latitude'].values, train_data['pickup_longitude'].values, train_data['dropoff_latitude'].values, train_data['dropoff_longitude'].values)\n",
    "\n",
    "end = time.time()\n",
    "print(\"Time taken by above cell is {}.\".format(end-start))"
   ]
  },
  {
   "cell_type": "markdown",
   "metadata": {},
   "source": [
    "# Animation of pickups\n",
    "## Make an animation of pickup and see how with pickup hours the traffic changes"
   ]
  },
  {
   "cell_type": "code",
   "execution_count": 54,
   "metadata": {},
   "outputs": [
    {
     "name": "stdout",
     "output_type": "stream",
     "text": [
      "Time taken by above cell is 0.0005016326904296875."
     ]
    },
    {
     "name": "stdout",
     "output_type": "stream",
     "text": [
      "\n"
     ]
    }
   ],
   "source": [
    "# making similar heatmaps of pickup locations for different pickup hours，\n",
    "# and then will make a gif of those images in order of increasing pickup hour.\n",
    "\n",
    "start = time.time()\n",
    "def color(hour):\n",
    "    \"\"\"function for color change in animation\"\"\"\n",
    "    return(10*hour)\n",
    "\n",
    "def Animation(hour, temp, rgb):\n",
    "    \"\"\"Function to generate return a pic of plotings\"\"\"\n",
    "    train_data_new = temp.loc[temp['hour'] == hour]\n",
    "    start = time.time()\n",
    "    rgb = np.zeros((3000, 3500, 3), dtype=np.uint8)\n",
    "    rgb[..., 0] = 0\n",
    "    rgb[..., 1] = 0\n",
    "    rgb[..., 2] = 0\n",
    "    train_data_new['pick_lat_new'] = list(map(int, (train_data_new['pickup_latitude'] - (40.6000))*10000))\n",
    "    train_data_new['drop_lat_new'] = list(map(int, (train_data_new['dropoff_latitude'] - (40.6000))*10000))\n",
    "    train_data_new['pick_lon_new'] = list(map(int, (train_data_new['pickup_longitude'] - (-74.050))*10000))\n",
    "    train_data_new['drop_lon_new'] = list(map(int,(train_data_new['dropoff_longitude'] - (-74.050))*10000))\n",
    "\n",
    "    summary_plot = pd.DataFrame(train_data_new.groupby(['pick_lat_new', 'pick_lon_new'])['id'].count())\n",
    "\n",
    "    summary_plot.reset_index(inplace = True)\n",
    "    summary_plot.head(120)\n",
    "    lat_list = summary_plot['pick_lat_new'].unique()\n",
    "    for i in lat_list:\n",
    "        #print(i)\n",
    "        lon_list = summary_plot.loc[summary_plot['pick_lat_new']==i]['pick_lon_new'].tolist()\n",
    "        unit = summary_plot.loc[summary_plot['pick_lat_new']==i]['id'].tolist()\n",
    "        for j in lon_list:\n",
    "            #j = int(j)\n",
    "            a = unit[lon_list.index(j)]\n",
    "            #print(a)\n",
    "            if (a//50) >0:\n",
    "                rgb[i][j][0] = 255 - color(hour)\n",
    "                rgb[i,j, 1] = 255 - color(hour)\n",
    "                rgb[i,j, 2] = 0 + color(hour)\n",
    "            elif (a//10)>0:\n",
    "                rgb[i,j, 0] = 0 + color(hour)\n",
    "                rgb[i,j, 1] = 255 - color(hour)\n",
    "                rgb[i,j, 2] = 0 + color(hour)\n",
    "            else:\n",
    "                rgb[i,j, 0] = 255 - color(hour)\n",
    "                rgb[i,j, 1] = 0 + color(hour)\n",
    "                rgb[i,j, 2] = 0 + color(hour)\n",
    "\n",
    "    end = time.time()\n",
    "    print(\"Time taken by above cell is {} for {}.\".format((end-start), hour))\n",
    "    return(rgb)\n",
    "end = time.time()\n",
    "print(\"Time taken by above cell is {}.\".format(end -start))"
   ]
  },
  {
   "cell_type": "code",
   "execution_count": 57,
   "metadata": {},
   "outputs": [
    {
     "name": "stderr",
     "output_type": "stream",
     "text": [
      "C:\\Anaconda3\\lib\\site-packages\\ipykernel_launcher.py:17: SettingWithCopyWarning:\n\n\nA value is trying to be set on a copy of a slice from a DataFrame.\nTry using .loc[row_indexer,col_indexer] = value instead\n\nSee the caveats in the documentation: http://pandas.pydata.org/pandas-docs/stable/indexing.html#indexing-view-versus-copy\n\n"
     ]
    },
    {
     "name": "stderr",
     "output_type": "stream",
     "text": [
      "C:\\Anaconda3\\lib\\site-packages\\ipykernel_launcher.py:18: SettingWithCopyWarning:\n\n\nA value is trying to be set on a copy of a slice from a DataFrame.\nTry using .loc[row_indexer,col_indexer] = value instead\n\nSee the caveats in the documentation: http://pandas.pydata.org/pandas-docs/stable/indexing.html#indexing-view-versus-copy\n\n"
     ]
    },
    {
     "name": "stderr",
     "output_type": "stream",
     "text": [
      "C:\\Anaconda3\\lib\\site-packages\\ipykernel_launcher.py:19: SettingWithCopyWarning:\n\n\nA value is trying to be set on a copy of a slice from a DataFrame.\nTry using .loc[row_indexer,col_indexer] = value instead\n\nSee the caveats in the documentation: http://pandas.pydata.org/pandas-docs/stable/indexing.html#indexing-view-versus-copy\n\n"
     ]
    },
    {
     "name": "stderr",
     "output_type": "stream",
     "text": [
      "C:\\Anaconda3\\lib\\site-packages\\ipykernel_launcher.py:20: SettingWithCopyWarning:\n\n\nA value is trying to be set on a copy of a slice from a DataFrame.\nTry using .loc[row_indexer,col_indexer] = value instead\n\nSee the caveats in the documentation: http://pandas.pydata.org/pandas-docs/stable/indexing.html#indexing-view-versus-copy\n\n"
     ]
    },
    {
     "name": "stdout",
     "output_type": "stream",
     "text": [
      "Time taken by above cell is 9.380939483642578 for 0."
     ]
    },
    {
     "name": "stdout",
     "output_type": "stream",
     "text": [
      "\n"
     ]
    },
    {
     "name": "stdout",
     "output_type": "stream",
     "text": [
      "Time taken by above cell is 10.390117883682251 for 1."
     ]
    },
    {
     "name": "stdout",
     "output_type": "stream",
     "text": [
      "\n"
     ]
    },
    {
     "name": "stdout",
     "output_type": "stream",
     "text": [
      "Time taken by above cell is 5.593869686126709 for 2."
     ]
    },
    {
     "name": "stdout",
     "output_type": "stream",
     "text": [
      "\n"
     ]
    },
    {
     "name": "stdout",
     "output_type": "stream",
     "text": [
      "Time taken by above cell is 4.025700092315674 for 3."
     ]
    },
    {
     "name": "stdout",
     "output_type": "stream",
     "text": [
      "\n"
     ]
    },
    {
     "name": "stdout",
     "output_type": "stream",
     "text": [
      "Time taken by above cell is 3.697329044342041 for 4."
     ]
    },
    {
     "name": "stdout",
     "output_type": "stream",
     "text": [
      "\n"
     ]
    },
    {
     "name": "stdout",
     "output_type": "stream",
     "text": [
      "Time taken by above cell is 4.612783193588257 for 5."
     ]
    },
    {
     "name": "stdout",
     "output_type": "stream",
     "text": [
      "\n"
     ]
    },
    {
     "name": "stdout",
     "output_type": "stream",
     "text": [
      "Time taken by above cell is 4.463865280151367 for 6."
     ]
    },
    {
     "name": "stdout",
     "output_type": "stream",
     "text": [
      "\n"
     ]
    },
    {
     "name": "stdout",
     "output_type": "stream",
     "text": [
      "Time taken by above cell is 4.6969828605651855 for 7."
     ]
    },
    {
     "name": "stdout",
     "output_type": "stream",
     "text": [
      "\n"
     ]
    },
    {
     "name": "stdout",
     "output_type": "stream",
     "text": [
      "Time taken by above cell is 4.539067506790161 for 8."
     ]
    },
    {
     "name": "stdout",
     "output_type": "stream",
     "text": [
      "\n"
     ]
    },
    {
     "name": "stdout",
     "output_type": "stream",
     "text": [
      "Time taken by above cell is 4.350067138671875 for 9."
     ]
    },
    {
     "name": "stdout",
     "output_type": "stream",
     "text": [
      "\n"
     ]
    },
    {
     "name": "stdout",
     "output_type": "stream",
     "text": [
      "Time taken by above cell is 4.156048774719238 for 10."
     ]
    },
    {
     "name": "stdout",
     "output_type": "stream",
     "text": [
      "\n"
     ]
    },
    {
     "name": "stdout",
     "output_type": "stream",
     "text": [
      "Time taken by above cell is 3.844219446182251 for 11."
     ]
    },
    {
     "name": "stdout",
     "output_type": "stream",
     "text": [
      "\n"
     ]
    },
    {
     "name": "stdout",
     "output_type": "stream",
     "text": [
      "Time taken by above cell is 4.404720306396484 for 12."
     ]
    },
    {
     "name": "stdout",
     "output_type": "stream",
     "text": [
      "\n"
     ]
    },
    {
     "name": "stdout",
     "output_type": "stream",
     "text": [
      "Time taken by above cell is 4.267845392227173 for 13."
     ]
    },
    {
     "name": "stdout",
     "output_type": "stream",
     "text": [
      "\n"
     ]
    },
    {
     "name": "stdout",
     "output_type": "stream",
     "text": [
      "Time taken by above cell is 4.366607666015625 for 14."
     ]
    },
    {
     "name": "stdout",
     "output_type": "stream",
     "text": [
      "\n"
     ]
    },
    {
     "name": "stdout",
     "output_type": "stream",
     "text": [
      "Time taken by above cell is 4.175601959228516 for 15."
     ]
    },
    {
     "name": "stdout",
     "output_type": "stream",
     "text": [
      "\n"
     ]
    },
    {
     "name": "stdout",
     "output_type": "stream",
     "text": [
      "Time taken by above cell is 3.8788111209869385 for 16."
     ]
    },
    {
     "name": "stdout",
     "output_type": "stream",
     "text": [
      "\n"
     ]
    },
    {
     "name": "stdout",
     "output_type": "stream",
     "text": [
      "Time taken by above cell is 4.339536190032959 for 17."
     ]
    },
    {
     "name": "stdout",
     "output_type": "stream",
     "text": [
      "\n"
     ]
    },
    {
     "name": "stdout",
     "output_type": "stream",
     "text": [
      "Time taken by above cell is 4.544589996337891 for 18."
     ]
    },
    {
     "name": "stdout",
     "output_type": "stream",
     "text": [
      "\n"
     ]
    },
    {
     "name": "stdout",
     "output_type": "stream",
     "text": [
      "Time taken by above cell is 4.442810773849487 for 19."
     ]
    },
    {
     "name": "stdout",
     "output_type": "stream",
     "text": [
      "\n"
     ]
    },
    {
     "name": "stdout",
     "output_type": "stream",
     "text": [
      "Time taken by above cell is 4.386662006378174 for 20."
     ]
    },
    {
     "name": "stdout",
     "output_type": "stream",
     "text": [
      "\n"
     ]
    },
    {
     "name": "stdout",
     "output_type": "stream",
     "text": [
      "Time taken by above cell is 4.123459339141846 for 21."
     ]
    },
    {
     "name": "stdout",
     "output_type": "stream",
     "text": [
      "\n"
     ]
    },
    {
     "name": "stdout",
     "output_type": "stream",
     "text": [
      "Time taken by above cell is 5.025362968444824 for 22."
     ]
    },
    {
     "name": "stdout",
     "output_type": "stream",
     "text": [
      "\n"
     ]
    },
    {
     "name": "stdout",
     "output_type": "stream",
     "text": [
      "Time taken by above cell is 4.466895341873169 for 23."
     ]
    },
    {
     "name": "stdout",
     "output_type": "stream",
     "text": [
      "\n"
     ]
    },
    {
     "name": "stdout",
     "output_type": "stream",
     "text": [
      "Time taken by above cell is 118.72465682029724."
     ]
    },
    {
     "name": "stdout",
     "output_type": "stream",
     "text": [
      "\n"
     ]
    }
   ],
   "source": [
    "start = time.time()\n",
    "images_list=[]\n",
    "train_data_new['pickup_datetime'] = pd.to_datetime(train_data_new.pickup_datetime)\n",
    "train_data_new.loc[:, 'hour'] = train_data_new['pickup_datetime'].dt.hour\n",
    "\n",
    "for i in list(range(0, 24)):\n",
    "    im = Animation(i, train_data_new, rgb.copy())\n",
    "    images_list.append(im)\n",
    "end = time.time()\n",
    "print(\"Time taken by above cell is {}.\".format(end -start))"
   ]
  },
  {
   "cell_type": "code",
   "execution_count": 57,
   "metadata": {},
   "outputs": [
    {
     "name": "stdout",
     "output_type": "stream",
     "text": [
      "Time taken by above cell is 0.0005016326904296875"
     ]
    },
    {
     "name": "stdout",
     "output_type": "stream",
     "text": [
      "\n"
     ]
    }
   ],
   "source": [
    "start = time.time()\n",
    "\n",
    "def build_gif(imgs = images_list, show_gif=False, save_gif=True, title=''):\n",
    "    \"\"\"function to create a gif of heatmaps\"\"\"\n",
    "    fig, ax = plt.subplots(nrows=1,ncols=1,figsize=(10,10))\n",
    "    ax.set_axis_off()\n",
    "    hr_range = list(range(0,24))\n",
    "    def show_im(pairs):\n",
    "        ax.clear()\n",
    "        ax.set_title('Absolute Traffic - Hour ' + str(int(pairs[0])) + ':00')\n",
    "        ax.imshow(pairs[1])\n",
    "        ax.set_axis_off() \n",
    "    pairs = list(zip(hr_range, imgs))\n",
    "    #ims = map(lambda x: (ax.imshow(x), ax.set_title(title)), imgs)\n",
    "    im_ani = animation.FuncAnimation(fig, show_im, pairs,interval=500, repeat_delay=0, blit=False)\n",
    "    plt.cla()\n",
    "    if save_gif:\n",
    "        plt.rcParams[\"animation.convert_path\"] = \"C:\\DataAnalytics\\ImageMagick-7.0.7-Q16\\convert.exe\" #magick.exe\n",
    "        im_ani.save('animation.gif', writer='imagemagick') #, writer='imagemagick'\n",
    "    if show_gif:\n",
    "        plt.show()\n",
    "    return\n",
    "end = time.time()\n",
    "print(\"Time taken by above cell is {}\".format(end-start))"
   ]
  },
  {
   "cell_type": "code",
   "execution_count": 58,
   "metadata": {},
   "outputs": [
    {
     "name": "stdout",
     "output_type": "stream",
     "text": [
      "21.703890085220337"
     ]
    },
    {
     "name": "stdout",
     "output_type": "stream",
     "text": [
      "\n"
     ]
    },
    {
     "data": {
      "image/png": "[encoded data removed]",
      "text/plain": [
       "<matplotlib.figure.Figure at 0x2703ec2f208>"
      ]
     },
     "metadata": {},
     "output_type": "display_data"
    }
   ],
   "source": [
    "start = time.time()\n",
    "build_gif()\n",
    "end = time.time()\n",
    "print(end-start)"
   ]
  },
  {
   "cell_type": "code",
   "execution_count": 59,
   "metadata": {
    "collapsed": true
   },
   "outputs": [],
   "source": [
    "filename = 'animation.gif'\n",
    "video = io.open(filename, 'r+b').read()\n",
    "encoded = base64.b64encode(video)\n",
    "HTML(data='''<img src=\"data:image/gif;base64,{0}\" type=\"gif\" />'''.format(encoded.decode('ascii')))"
   ]
  },
  {
   "cell_type": "markdown",
   "metadata": {
    "collapsed": true
   },
   "source": [
    "## Check the changing .gif on Notebook.\n",
    "## Findings:\n",
    "## 1. The least number of request comes from time 2 AM-7 AM, from 7 AM -4 PM the requests were moderate in number, and from 5 PM-1 AM in night, there is a huge amount of request of cabs in all NYC.\n",
    "## 2. The dot in the top right corner of this animation is JFK Airport: people are moving less between 2 AM to 6 AM with same rules."
   ]
  },
  {
   "cell_type": "markdown",
   "metadata": {},
   "source": [
    "# Features' Exploration (Checking if any explainable pattern)"
   ]
  },
  {
   "cell_type": "markdown",
   "metadata": {},
   "source": [
    "## check the average time taken by two different vendors vs weekday"
   ]
  },
  {
   "cell_type": "code",
   "execution_count": 60,
   "metadata": {},
   "outputs": [
    {
     "name": "stderr",
     "output_type": "stream",
     "text": [
      "C:\\Anaconda3\\lib\\site-packages\\seaborn\\timeseries.py:183: UserWarning:\n\nThe tsplot function is deprecated and will be removed or replaced (in a substantially altered version) in a future release.\n\n"
     ]
    },
    {
     "name": "stdout",
     "output_type": "stream",
     "text": [
      "0.492372989654541"
     ]
    },
    {
     "name": "stdout",
     "output_type": "stream",
     "text": [
      "\n"
     ]
    },
    {
     "data": {
      "image/png": "[encoded data removed]",
      "text/plain": [
       "<matplotlib.figure.Figure at 0x270a6e38a20>"
      ]
     },
     "metadata": {},
     "output_type": "display_data"
    }
   ],
   "source": [
    "start = time.time()\n",
    "summary_wdays_avg_duration = pd.DataFrame(train_data.groupby(['vendor_id','day_of_week'])['trip_duration'].mean())\n",
    "summary_wdays_avg_duration.reset_index(inplace = True)\n",
    "summary_wdays_avg_duration['unit']=1\n",
    "sns.set(style=\"white\", palette=\"muted\", color_codes=False)\n",
    "sns.set_context(\"poster\")\n",
    "sns.tsplot(data=summary_wdays_avg_duration, time=\"day_of_week\", unit = \"unit\", condition=\"vendor_id\", value=\"trip_duration\")\n",
    "sns.despine(bottom = False)\n",
    "end = time.time()\n",
    "print(end - start)"
   ]
  },
  {
   "cell_type": "markdown",
   "metadata": {},
   "source": [
    "## Findings:\n",
    "1. Vendor 1 is taking more time than vendor 2 on all the days of the week, we can also subset data frame based on the month and that will also give us the same results.  \n",
    "2. The difference between the average time taken by vendor 1 is ~250 seconds more than vendor 2."
   ]
  },
  {
   "cell_type": "markdown",
   "metadata": {},
   "source": [
    "# Cluster analysis and visualization"
   ]
  },
  {
   "cell_type": "code",
   "execution_count": 61,
   "metadata": {},
   "outputs": [
    {
     "name": "stdout",
     "output_type": "stream",
     "text": [
      "time taken by thie script by now is 0.0005009174346923828."
     ]
    },
    {
     "name": "stdout",
     "output_type": "stream",
     "text": [
      "\n"
     ]
    }
   ],
   "source": [
    "start = time.time()\n",
    "def assign_cluster(df, k):\n",
    "    \"\"\"function to assign clusters \"\"\"\n",
    "    df_pick = df[['pickup_longitude','pickup_latitude']]\n",
    "    df_drop = df[['dropoff_longitude','dropoff_latitude']]\n",
    "    \"\"\"I am using initialization as from the output of\n",
    "    k-means from my local machine to save time in this kernel\"\"\"\n",
    "    init = np.array([[ -73.98737616,   40.72981533],\n",
    "       [-121.93328857,   37.38933945],\n",
    "       [ -73.78423222,   40.64711269],\n",
    "       [ -73.9546417 ,   40.77377538],\n",
    "       [ -66.84140269,   36.64537175],\n",
    "       [ -73.87040541,   40.77016484],\n",
    "       [ -73.97316185,   40.75814346],\n",
    "       [ -73.98861094,   40.7527791 ],\n",
    "       [ -72.80966949,   51.88108444],\n",
    "       [ -76.99779701,   38.47370625],\n",
    "       [ -73.96975298,   40.69089596],\n",
    "       [ -74.00816622,   40.71414939],\n",
    "       [ -66.97216034,   44.37194443],\n",
    "       [ -61.33552933,   37.85105133],\n",
    "       [ -73.98001393,   40.7783577 ],\n",
    "       [ -72.00626526,   43.20296402],\n",
    "       [ -73.07618713,   35.03469086],\n",
    "       [ -73.95759366,   40.80316361],\n",
    "       [ -79.20167796,   41.04752096],\n",
    "       [ -74.00106031,   40.73867723]])\n",
    "    k_means_pick = KMeans(n_clusters=k, init=init, n_init=1)\n",
    "    k_means_pick.fit(df_pick)\n",
    "    clust_pick = k_means_pick.labels_\n",
    "    df['label_pick'] = clust_pick.tolist()\n",
    "    df['label_drop'] = k_means_pick.predict(df_drop)\n",
    "    return df, k_means_pick\n",
    "\n",
    "end = time.time()\n",
    "print(\"time taken by thie script by now is {}.\".format(end-start))"
   ]
  },
  {
   "cell_type": "code",
   "execution_count": 62,
   "metadata": {},
   "outputs": [
    {
     "name": "stdout",
     "output_type": "stream",
     "text": [
      "Time taken in clustering is 4.570148944854736."
     ]
    },
    {
     "name": "stdout",
     "output_type": "stream",
     "text": [
      "\n"
     ]
    }
   ],
   "source": [
    "start = time.time()\n",
    "train_cl, k_means = assign_cluster(train_data, 20)  # make it 100 when extracting features \n",
    "centroid_pickups = pd.DataFrame(k_means.cluster_centers_, columns = ['centroid_pick_long', 'centroid_pick_lat'])\n",
    "centroid_dropoff = pd.DataFrame(k_means.cluster_centers_, columns = ['centroid_drop_long', 'centroid_drop_lat'])\n",
    "centroid_pickups['label_pick'] = centroid_pickups.index\n",
    "centroid_dropoff['label_drop'] = centroid_dropoff.index\n",
    "#centroid_pickups.head()\n",
    "train_cl = pd.merge(train_cl, centroid_pickups, how='left', on=['label_pick'])\n",
    "train_cl = pd.merge(train_cl, centroid_dropoff, how='left', on=['label_drop'])\n",
    "#train_cl.head()\n",
    "end = time.time()\n",
    "print(\"Time taken in clustering is {}.\".format(end - start))"
   ]
  },
  {
   "cell_type": "markdown",
   "metadata": {},
   "source": [
    "# Cluster related features"
   ]
  },
  {
   "cell_type": "markdown",
   "metadata": {},
   "source": [
    "## Distance (haversine, mahnatten) between pickup-drop_off cluster centroids\n",
    "## Directional features - bearing direction between cluster centroids"
   ]
  },
  {
   "cell_type": "code",
   "execution_count": 63,
   "metadata": {},
   "outputs": [
    {
     "name": "stdout",
     "output_type": "stream",
     "text": [
      "Time Taken by above cell is 5.651033639907837."
     ]
    },
    {
     "name": "stdout",
     "output_type": "stream",
     "text": [
      "\n"
     ]
    },
    {
     "data": {
      "text/html": [
       "<div>\n",
       "<style>\n",
       "    .dataframe thead tr:only-child th {\n",
       "        text-align: right;\n",
       "    }\n",
       "\n",
       "    .dataframe thead th {\n",
       "        text-align: left;\n",
       "    }\n",
       "\n",
       "    .dataframe tbody tr th {\n",
       "        vertical-align: top;\n",
       "    }\n",
       "</style>\n",
       "<table border=\"1\" class=\"dataframe\">\n",
       "  <thead>\n",
       "    <tr style=\"text-align: right;\">\n",
       "      <th></th>\n",
       "      <th>id</th>\n",
       "      <th>vendor_id</th>\n",
       "      <th>pickup_datetime</th>\n",
       "      <th>dropoff_datetime</th>\n",
       "      <th>passenger_count</th>\n",
       "      <th>pickup_longitude</th>\n",
       "      <th>pickup_latitude</th>\n",
       "      <th>dropoff_longitude</th>\n",
       "      <th>dropoff_latitude</th>\n",
       "      <th>store_and_fwd_flag</th>\n",
       "      <th>...</th>\n",
       "      <th>hvsine_drop_cent_d</th>\n",
       "      <th>hvsine_cent_p_cent_d</th>\n",
       "      <th>manhtn_pick_cent_p</th>\n",
       "      <th>manhtn_drop_cent_d</th>\n",
       "      <th>manhtn_cent_p_cent_d</th>\n",
       "      <th>bearing_pick_cent_p</th>\n",
       "      <th>bearing_drop_cent_p</th>\n",
       "      <th>bearing_cent_p_cent_d</th>\n",
       "      <th>speed_hvsn</th>\n",
       "      <th>speed_manhtn</th>\n",
       "    </tr>\n",
       "  </thead>\n",
       "  <tbody>\n",
       "    <tr>\n",
       "      <th>0</th>\n",
       "      <td>id2875421</td>\n",
       "      <td>2</td>\n",
       "      <td>2016-03-14 17:24:55</td>\n",
       "      <td>2016-03-14 17:32:30</td>\n",
       "      <td>1</td>\n",
       "      <td>-73.982155</td>\n",
       "      <td>40.767937</td>\n",
       "      <td>-73.964630</td>\n",
       "      <td>40.765602</td>\n",
       "      <td>N</td>\n",
       "      <td>...</td>\n",
       "      <td>1.098585</td>\n",
       "      <td>2.319857</td>\n",
       "      <td>1.338601</td>\n",
       "      <td>1.549840</td>\n",
       "      <td>2.822553</td>\n",
       "      <td>8.812218</td>\n",
       "      <td>-138.980503</td>\n",
       "      <td>165.640915</td>\n",
       "      <td>0.009087</td>\n",
       "      <td>0.010524</td>\n",
       "    </tr>\n",
       "    <tr>\n",
       "      <th>1</th>\n",
       "      <td>id2377394</td>\n",
       "      <td>1</td>\n",
       "      <td>2016-06-12 00:43:35</td>\n",
       "      <td>2016-06-12 00:54:38</td>\n",
       "      <td>1</td>\n",
       "      <td>-73.980415</td>\n",
       "      <td>40.738564</td>\n",
       "      <td>-73.999481</td>\n",
       "      <td>40.731152</td>\n",
       "      <td>N</td>\n",
       "      <td>...</td>\n",
       "      <td>0.845448</td>\n",
       "      <td>1.520191</td>\n",
       "      <td>1.573052</td>\n",
       "      <td>0.968702</td>\n",
       "      <td>2.144236</td>\n",
       "      <td>-149.031278</td>\n",
       "      <td>-9.113659</td>\n",
       "      <td>-49.174617</td>\n",
       "      <td>0.005438</td>\n",
       "      <td>0.007321</td>\n",
       "    </tr>\n",
       "    <tr>\n",
       "      <th>2</th>\n",
       "      <td>id3858529</td>\n",
       "      <td>2</td>\n",
       "      <td>2016-01-19 11:35:24</td>\n",
       "      <td>2016-01-19 12:10:48</td>\n",
       "      <td>1</td>\n",
       "      <td>-73.979027</td>\n",
       "      <td>40.763939</td>\n",
       "      <td>-74.005333</td>\n",
       "      <td>40.710087</td>\n",
       "      <td>N</td>\n",
       "      <td>...</td>\n",
       "      <td>0.508922</td>\n",
       "      <td>5.718571</td>\n",
       "      <td>1.135490</td>\n",
       "      <td>0.690697</td>\n",
       "      <td>7.848844</td>\n",
       "      <td>142.642889</td>\n",
       "      <td>-28.669171</td>\n",
       "      <td>-148.907292</td>\n",
       "      <td>0.008318</td>\n",
       "      <td>0.010687</td>\n",
       "    </tr>\n",
       "    <tr>\n",
       "      <th>3</th>\n",
       "      <td>id3504673</td>\n",
       "      <td>2</td>\n",
       "      <td>2016-04-06 19:32:31</td>\n",
       "      <td>2016-04-06 19:39:40</td>\n",
       "      <td>1</td>\n",
       "      <td>-74.010040</td>\n",
       "      <td>40.719971</td>\n",
       "      <td>-74.012268</td>\n",
       "      <td>40.706718</td>\n",
       "      <td>N</td>\n",
       "      <td>...</td>\n",
       "      <td>0.888828</td>\n",
       "      <td>0.000000</td>\n",
       "      <td>0.805089</td>\n",
       "      <td>1.161466</td>\n",
       "      <td>0.000000</td>\n",
       "      <td>166.837718</td>\n",
       "      <td>22.515049</td>\n",
       "      <td>0.000000</td>\n",
       "      <td>0.006300</td>\n",
       "      <td>0.007046</td>\n",
       "    </tr>\n",
       "    <tr>\n",
       "      <th>4</th>\n",
       "      <td>id2181028</td>\n",
       "      <td>2</td>\n",
       "      <td>2016-03-26 13:30:55</td>\n",
       "      <td>2016-03-26 13:38:10</td>\n",
       "      <td>1</td>\n",
       "      <td>-73.973053</td>\n",
       "      <td>40.793209</td>\n",
       "      <td>-73.972923</td>\n",
       "      <td>40.782520</td>\n",
       "      <td>N</td>\n",
       "      <td>...</td>\n",
       "      <td>0.755820</td>\n",
       "      <td>0.000000</td>\n",
       "      <td>2.237846</td>\n",
       "      <td>1.060322</td>\n",
       "      <td>0.000000</td>\n",
       "      <td>-160.438403</td>\n",
       "      <td>-127.746230</td>\n",
       "      <td>0.000000</td>\n",
       "      <td>0.008484</td>\n",
       "      <td>0.008561</td>\n",
       "    </tr>\n",
       "  </tbody>\n",
       "</table>\n",
       "<p>5 rows × 39 columns</p>\n",
       "</div>"
      ],
      "text/plain": [
       "<div>\n",
       "<style>\n",
       "    .dataframe thead tr:only-child th {\n",
       "        text-align: right;\n",
       "    }\n",
       "\n",
       "    .dataframe thead th {\n",
       "        text-align: left;\n",
       "    }\n",
       "\n",
       "    .dataframe tbody tr th {\n",
       "        vertical-align: top;\n",
       "    }\n",
       "</style>\n",
       "<table border=\"1\" class=\"dataframe\">\n",
       "  <thead>\n",
       "    <tr style=\"text-align: right;\">\n",
       "      <th></th>\n",
       "      <th>id</th>\n",
       "      <th>vendor_id</th>\n",
       "      <th>pickup_datetime</th>\n",
       "      <th>dropoff_datetime</th>\n",
       "      <th>passenger_count</th>\n",
       "      <th>pickup_longitude</th>\n",
       "      <th>pickup_latitude</th>\n",
       "      <th>dropoff_longitude</th>\n",
       "      <th>dropoff_latitude</th>\n",
       "      <th>store_and_fwd_flag</th>\n",
       "      <th>...</th>\n",
       "      <th>hvsine_drop_cent_d</th>\n",
       "      <th>hvsine_cent_p_cent_d</th>\n",
       "      <th>manhtn_pick_cent_p</th>\n",
       "      <th>manhtn_drop_cent_d</th>\n",
       "      <th>manhtn_cent_p_cent_d</th>\n",
       "      <th>bearing_pick_cent_p</th>\n",
       "      <th>bearing_drop_cent_p</th>\n",
       "      <th>bearing_cent_p_cent_d</th>\n",
       "      <th>speed_hvsn</th>\n",
       "      <th>speed_manhtn</th>\n",
       "    </tr>\n",
       "  </thead>\n",
       "  <tbody>\n",
       "    <tr>\n",
       "      <th>0</th>\n",
       "      <td>id2875421</td>\n",
       "      <td>2</td>\n",
       "      <td>2016-03-14 17:24:55</td>\n",
       "      <td>2016-03-14 17:32:30</td>\n",
       "      <td>1</td>\n",
       "      <td>-73.982155</td>\n",
       "      <td>40.767937</td>\n",
       "      <td>-73.964630</td>\n",
       "      <td>40.765602</td>\n",
       "      <td>N</td>\n",
       "      <td>...</td>\n",
       "      <td>1.098585</td>\n",
       "      <td>2.319857</td>\n",
       "      <td>1.338601</td>\n",
       "      <td>1.549840</td>\n",
       "      <td>2.822553</td>\n",
       "      <td>8.812218</td>\n",
       "      <td>-138.980503</td>\n",
       "      <td>165.640915</td>\n",
       "      <td>0.009087</td>\n",
       "      <td>0.010524</td>\n",
       "    </tr>\n",
       "    <tr>\n",
       "      <th>1</th>\n",
       "      <td>id2377394</td>\n",
       "      <td>1</td>\n",
       "      <td>2016-06-12 00:43:35</td>\n",
       "      <td>2016-06-12 00:54:38</td>\n",
       "      <td>1</td>\n",
       "      <td>-73.980415</td>\n",
       "      <td>40.738564</td>\n",
       "      <td>-73.999481</td>\n",
       "      <td>40.731152</td>\n",
       "      <td>N</td>\n",
       "      <td>...</td>\n",
       "      <td>0.845448</td>\n",
       "      <td>1.520191</td>\n",
       "      <td>1.573052</td>\n",
       "      <td>0.968702</td>\n",
       "      <td>2.144236</td>\n",
       "      <td>-149.031278</td>\n",
       "      <td>-9.113659</td>\n",
       "      <td>-49.174617</td>\n",
       "      <td>0.005438</td>\n",
       "      <td>0.007321</td>\n",
       "    </tr>\n",
       "    <tr>\n",
       "      <th>2</th>\n",
       "      <td>id3858529</td>\n",
       "      <td>2</td>\n",
       "      <td>2016-01-19 11:35:24</td>\n",
       "      <td>2016-01-19 12:10:48</td>\n",
       "      <td>1</td>\n",
       "      <td>-73.979027</td>\n",
       "      <td>40.763939</td>\n",
       "      <td>-74.005333</td>\n",
       "      <td>40.710087</td>\n",
       "      <td>N</td>\n",
       "      <td>...</td>\n",
       "      <td>0.508922</td>\n",
       "      <td>5.718571</td>\n",
       "      <td>1.135490</td>\n",
       "      <td>0.690697</td>\n",
       "      <td>7.848844</td>\n",
       "      <td>142.642889</td>\n",
       "      <td>-28.669171</td>\n",
       "      <td>-148.907292</td>\n",
       "      <td>0.008318</td>\n",
       "      <td>0.010687</td>\n",
       "    </tr>\n",
       "    <tr>\n",
       "      <th>3</th>\n",
       "      <td>id3504673</td>\n",
       "      <td>2</td>\n",
       "      <td>2016-04-06 19:32:31</td>\n",
       "      <td>2016-04-06 19:39:40</td>\n",
       "      <td>1</td>\n",
       "      <td>-74.010040</td>\n",
       "      <td>40.719971</td>\n",
       "      <td>-74.012268</td>\n",
       "      <td>40.706718</td>\n",
       "      <td>N</td>\n",
       "      <td>...</td>\n",
       "      <td>0.888828</td>\n",
       "      <td>0.000000</td>\n",
       "      <td>0.805089</td>\n",
       "      <td>1.161466</td>\n",
       "      <td>0.000000</td>\n",
       "      <td>166.837718</td>\n",
       "      <td>22.515049</td>\n",
       "      <td>0.000000</td>\n",
       "      <td>0.006300</td>\n",
       "      <td>0.007046</td>\n",
       "    </tr>\n",
       "    <tr>\n",
       "      <th>4</th>\n",
       "      <td>id2181028</td>\n",
       "      <td>2</td>\n",
       "      <td>2016-03-26 13:30:55</td>\n",
       "      <td>2016-03-26 13:38:10</td>\n",
       "      <td>1</td>\n",
       "      <td>-73.973053</td>\n",
       "      <td>40.793209</td>\n",
       "      <td>-73.972923</td>\n",
       "      <td>40.782520</td>\n",
       "      <td>N</td>\n",
       "      <td>...</td>\n",
       "      <td>0.755820</td>\n",
       "      <td>0.000000</td>\n",
       "      <td>2.237846</td>\n",
       "      <td>1.060322</td>\n",
       "      <td>0.000000</td>\n",
       "      <td>-160.438403</td>\n",
       "      <td>-127.746230</td>\n",
       "      <td>0.000000</td>\n",
       "      <td>0.008484</td>\n",
       "      <td>0.008561</td>\n",
       "    </tr>\n",
       "  </tbody>\n",
       "</table>\n",
       "<p>5 rows × 39 columns</p>\n",
       "</div>"
      ]
     },
     "execution_count": 63,
     "metadata": {},
     "output_type": "execute_result"
    }
   ],
   "source": [
    "start = time.time()\n",
    "train_cl.loc[:,'hvsine_pick_cent_p'] = haversine_(train_cl['pickup_latitude'].values, train_cl['pickup_longitude'].values, train_cl['centroid_pick_lat'].values, train_cl['centroid_pick_long'].values)\n",
    "train_cl.loc[:,'hvsine_drop_cent_d'] = haversine_(train_cl['dropoff_latitude'].values, train_cl['dropoff_longitude'].values, train_cl['centroid_drop_lat'].values, train_cl['centroid_drop_long'].values)\n",
    "train_cl.loc[:,'hvsine_cent_p_cent_d'] = haversine_(train_cl['centroid_pick_lat'].values, train_cl['centroid_pick_long'].values, train_cl['centroid_drop_lat'].values, train_cl['centroid_drop_long'].values)\n",
    "train_cl.loc[:,'manhtn_pick_cent_p'] = manhattan_distance_pd(train_cl['pickup_latitude'].values, train_cl['pickup_longitude'].values, train_cl['centroid_pick_lat'].values, train_cl['centroid_pick_long'].values)\n",
    "train_cl.loc[:,'manhtn_drop_cent_d'] = manhattan_distance_pd(train_cl['dropoff_latitude'].values, train_cl['dropoff_longitude'].values, train_cl['centroid_drop_lat'].values, train_cl['centroid_drop_long'].values)\n",
    "train_cl.loc[:,'manhtn_cent_p_cent_d'] = manhattan_distance_pd(train_cl['centroid_pick_lat'].values, train_cl['centroid_pick_long'].values, train_cl['centroid_drop_lat'].values, train_cl['centroid_drop_long'].values)\n",
    "\n",
    "train_cl.loc[:,'bearing_pick_cent_p'] = bearing_array(train_cl['pickup_latitude'].values, train_cl['pickup_longitude'].values, train_cl['centroid_pick_lat'].values, train_cl['centroid_pick_long'].values)\n",
    "train_cl.loc[:,'bearing_drop_cent_p'] = bearing_array(train_cl['dropoff_latitude'].values, train_cl['dropoff_longitude'].values, train_cl['centroid_drop_lat'].values, train_cl['centroid_drop_long'].values)\n",
    "train_cl.loc[:,'bearing_cent_p_cent_d'] = bearing_array(train_cl['centroid_pick_lat'].values, train_cl['centroid_pick_long'].values, train_cl['centroid_drop_lat'].values, train_cl['centroid_drop_long'].values)\n",
    "train_cl['speed_hvsn'] = train_cl.hvsine_pick_drop/train_cl.total_travel_time\n",
    "train_cl['speed_manhtn'] = train_cl.manhtn_pick_drop/train_cl.total_travel_time\n",
    "end = time.time()\n",
    "print(\"Time Taken by above cell is {}.\".format(end-start))\n",
    "train_cl.head()"
   ]
  },
  {
   "cell_type": "markdown",
   "metadata": {},
   "source": [
    "# Cluster visualization using folium"
   ]
  },
  {
   "cell_type": "markdown",
   "metadata": {},
   "source": [
    "## In the next, cluster summary function is to find the cluster characteristics of given cluster list( a cluster list is the list of significant clusters, not all clusters are significant in size.) So, a list of the significant cluster can be passed to summarized those clusters. Significant clusters are clusters having more than 70 thousand rides as the pickup location. Then we will make plots:\n",
    "## 1. Showing pickups location on NYC map using stamen toner terrain\n",
    "## 2. Showing all clusters on Map of America"
   ]
  },
  {
   "cell_type": "code",
   "execution_count": 64,
   "metadata": {},
   "outputs": [
    {
     "name": "stdout",
     "output_type": "stream",
     "text": [
      "Time Taken by above cell is 0.0005011558532714844."
     ]
    },
    {
     "name": "stdout",
     "output_type": "stream",
     "text": [
      "\n"
     ]
    }
   ],
   "source": [
    "start = time.time()\n",
    "def cluster_summary(sum_df):\n",
    "    \"\"\"function to calculate summary of given list of clusters \"\"\"\n",
    "    #agg_func = {'trip_duration':'mean','label_drop':'count','bearing':'mean','id':'count'} # that's how you use agg function with groupby\n",
    "    summary_avg_time = pd.DataFrame(sum_df.groupby('label_pick')['trip_duration'].mean())\n",
    "    summary_avg_time.reset_index(inplace = True)\n",
    "    summary_pref_clus = pd.DataFrame(sum_df.groupby(['label_pick', 'label_drop'])['id'].count())\n",
    "    summary_pref_clus = summary_pref_clus.reset_index()\n",
    "    summary_pref_clus = summary_pref_clus.loc[summary_pref_clus.groupby('label_pick')['id'].idxmax()]\n",
    "    summary =pd.merge(summary_avg_time, summary_pref_clus, how = 'left', on = 'label_pick')\n",
    "    summary = summary.rename(columns={'trip_duration':'avg_triptime'})\n",
    "    return summary\n",
    "end = time.time()\n",
    "print(\"Time Taken by above cell is {}.\".format(end-start))"
   ]
  },
  {
   "cell_type": "markdown",
   "metadata": {},
   "source": [
    "## Folium citing: http://folium.readthedocs.io/en/latest/quickstart.html"
   ]
  },
  {
   "cell_type": "code",
   "execution_count": 100,
   "metadata": {},
   "outputs": [],
   "source": [
    "import folium\n",
    "def show_fmaps(train_data, path=1):\n",
    "    \"\"\"function to generate map and add the pick up and drop coordinates\n",
    "    1. Path = 1 : Join pickup (blue) and drop(red) using a straight line\n",
    "    \"\"\"\n",
    "    full_data = train_data\n",
    "    summary_full_data = pd.DataFrame(full_data.groupby('label_pick')['id'].count())\n",
    "    summary_full_data.reset_index(inplace = True)\n",
    "    summary_full_data = summary_full_data.loc[summary_full_data['id']>70000]\n",
    "    # map_1 = folium.Map(location=[40.767937, -73.982155], zoom_start=10,tiles='Stamen Toner') \n",
    "    map_1 = folium.Map(location=[40.767937, -73.982155], zoom_start=10)\n",
    "    # manually added centre\n",
    "    new_df = train_data.loc[train_data['label_pick'].isin(summary_full_data.label_pick.tolist())].sample(50)\n",
    "    new_df.reset_index(inplace = True, drop = True)\n",
    "    for i in range(new_df.shape[0]):\n",
    "        pick_long = new_df.loc[new_df.index ==i]['pickup_longitude'].values[0]\n",
    "        pick_lat = new_df.loc[new_df.index ==i]['pickup_latitude'].values[0]\n",
    "        dest_long = new_df.loc[new_df.index ==i]['dropoff_longitude'].values[0]\n",
    "        dest_lat = new_df.loc[new_df.index ==i]['dropoff_latitude'].values[0]\n",
    "        folium.Marker([pick_lat, pick_long]).add_to(map_1)\n",
    "        folium.Marker([dest_lat, dest_long]).add_to(map_1)\n",
    "    return map_1\n",
    "\n",
    "def clusters_map(clus_data, full_data, tile = 'OpenStreetMap', sig = 0, zoom = 12, circle = 0, radius_ = 30):\n",
    "    \"\"\" function to plot clusters on map\"\"\"\n",
    "    map_1 = folium.Map(location=[40.767937, -73.982155], zoom_start=zoom,tiles= tile) # 'Mapbox' 'Stamen Toner'\n",
    "    summary_full_data = pd.DataFrame(full_data.groupby('label_pick')['id'].count())\n",
    "    summary_full_data.reset_index(inplace = True)\n",
    "    if sig == 1:\n",
    "        summary_full_data = summary_full_data.loc[summary_full_data['id']>70000]\n",
    "    sig_cluster = summary_full_data['label_pick'].tolist()\n",
    "    clus_summary = cluster_summary(full_data)\n",
    "    for i in sig_cluster:\n",
    "        pick_long = clus_data.loc[clus_data.index ==i]['centroid_pick_long'].values[0]\n",
    "        pick_lat = clus_data.loc[clus_data.index ==i]['centroid_pick_lat'].values[0]\n",
    "        clus_no = clus_data.loc[clus_data.index ==i]['label_pick'].values[0]\n",
    "        most_visited_clus = clus_summary.loc[clus_summary['label_pick']==i]['label_drop'].values[0]\n",
    "        avg_triptime = clus_summary.loc[clus_summary['label_pick']==i]['avg_triptime'].values[0]\n",
    "        pop = 'cluster = '+str(clus_no)+' & most visited cluster = ' +str(most_visited_clus) +' & avg triptime from this cluster =' + str(avg_triptime)\n",
    "        if circle == 1:\n",
    "            folium.CircleMarker(location=[pick_lat, pick_long], radius=radius_,\n",
    "                    color='#F08080',\n",
    "                    fill_color='#3186cc', popup=pop).add_to(map_1)\n",
    "        folium.Marker([pick_lat, pick_long], popup=pop).add_to(map_1)\n",
    "    return map_1"
   ]
  },
  {
   "cell_type": "code",
   "execution_count": 101,
   "metadata": {
    "collapsed": false
   },
   "outputs": [
    {
     "data": {
      "text/html": [
       "<div style=\"width:100%;\"><div style=\"position:relative;width:100%;height:0;padding-bottom:60%;\"><iframe src=\"data:text/html;charset=utf-8;base64,PCFET0NUWVBFIGh0bWw+CjxoZWFkPiAgICAKICAgIDxtZXRhIGh0dHAtZXF1aXY9ImNvbnRlbnQtdHlwZSIgY29udGVudD0idGV4dC9odG1sOyBjaGFyc2V0PVVURi04IiAvPgogICAgPHNjcmlwdD5MX1BSRUZFUl9DQU5WQVMgPSBmYWxzZTsgTF9OT19UT1VDSCA9IGZhbHNlOyBMX0RJU0FCTEVfM0QgPSBmYWxzZTs8L3NjcmlwdD4KICAgIDxzY3JpcHQgc3JjPSJodHRwczovL2Nkbi5qc2RlbGl2ci5uZXQvbnBtL2xlYWZsZXRAMS4yLjAvZGlzdC9sZWFmbGV0LmpzIj48L3NjcmlwdD4KICAgIDxzY3JpcHQgc3JjPSJodHRwczovL2FqYXguZ29vZ2xlYXBpcy5jb20vYWpheC9saWJzL2pxdWVyeS8xLjExLjEvanF1ZXJ5Lm1pbi5qcyI+PC9zY3JpcHQ+CiAgICA8c2NyaXB0IHNyYz0iaHR0cHM6Ly9tYXhjZG4uYm9vdHN0cmFwY2RuLmNvbS9ib290c3RyYXAvMy4yLjAvanMvYm9vdHN0cmFwLm1pbi5qcyI+PC9zY3JpcHQ+CiAgICA8c2NyaXB0IHNyYz0iaHR0cHM6Ly9jZG5qcy5jbG91ZGZsYXJlLmNvbS9hamF4L2xpYnMvTGVhZmxldC5hd2Vzb21lLW1hcmtlcnMvMi4wLjIvbGVhZmxldC5hd2Vzb21lLW1hcmtlcnMuanMiPjwvc2NyaXB0PgogICAgPGxpbmsgcmVsPSJzdHlsZXNoZWV0IiBocmVmPSJodHRwczovL2Nkbi5qc2RlbGl2ci5uZXQvbnBtL2xlYWZsZXRAMS4yLjAvZGlzdC9sZWFmbGV0LmNzcyIgLz4KICAgIDxsaW5rIHJlbD0ic3R5bGVzaGVldCIgaHJlZj0iaHR0cHM6Ly9tYXhjZG4uYm9vdHN0cmFwY2RuLmNvbS9ib290c3RyYXAvMy4yLjAvY3NzL2Jvb3RzdHJhcC5taW4uY3NzIiAvPgogICAgPGxpbmsgcmVsPSJzdHlsZXNoZWV0IiBocmVmPSJodHRwczovL21heGNkbi5ib290c3RyYXBjZG4uY29tL2Jvb3RzdHJhcC8zLjIuMC9jc3MvYm9vdHN0cmFwLXRoZW1lLm1pbi5jc3MiIC8+CiAgICA8bGluayByZWw9InN0eWxlc2hlZXQiIGhyZWY9Imh0dHBzOi8vbWF4Y2RuLmJvb3RzdHJhcGNkbi5jb20vZm9udC1hd2Vzb21lLzQuNi4zL2Nzcy9mb250LWF3ZXNvbWUubWluLmNzcyIgLz4KICAgIDxsaW5rIHJlbD0ic3R5bGVzaGVldCIgaHJlZj0iaHR0cHM6Ly9jZG5qcy5jbG91ZGZsYXJlLmNvbS9hamF4L2xpYnMvTGVhZmxldC5hd2Vzb21lLW1hcmtlcnMvMi4wLjIvbGVhZmxldC5hd2Vzb21lLW1hcmtlcnMuY3NzIiAvPgogICAgPGxpbmsgcmVsPSJzdHlsZXNoZWV0IiBocmVmPSJodHRwczovL3Jhd2dpdC5jb20vcHl0aG9uLXZpc3VhbGl6YXRpb24vZm9saXVtL21hc3Rlci9mb2xpdW0vdGVtcGxhdGVzL2xlYWZsZXQuYXdlc29tZS5yb3RhdGUuY3NzIiAvPgogICAgPHN0eWxlPmh0bWwsIGJvZHkge3dpZHRoOiAxMDAlO2hlaWdodDogMTAwJTttYXJnaW46IDA7cGFkZGluZzogMDt9PC9zdHlsZT4KICAgIDxzdHlsZT4jbWFwIHtwb3NpdGlvbjphYnNvbHV0ZTt0b3A6MDtib3R0b206MDtyaWdodDowO2xlZnQ6MDt9PC9zdHlsZT4KICAgIAogICAgICAgICAgICA8c3R5bGU+ICNtYXBfZjRmZTdjYjdkY2RlNGRlZWFiOWMxOWZiN2ZmMDY1ZGEgewogICAgICAgICAgICAgICAgcG9zaXRpb24gOiByZWxhdGl2ZTsKICAgICAgICAgICAgICAgIHdpZHRoIDogMTAwLjAlOwogICAgICAgICAgICAgICAgaGVpZ2h0OiAxMDAuMCU7CiAgICAgICAgICAgICAgICBsZWZ0OiAwLjAlOwogICAgICAgICAgICAgICAgdG9wOiAwLjAlOwogICAgICAgICAgICAgICAgfQogICAgICAgICAgICA8L3N0eWxlPgogICAgICAgIAo8L2hlYWQ+Cjxib2R5PiAgICAKICAgIAogICAgICAgICAgICA8ZGl2IGNsYXNzPSJmb2xpdW0tbWFwIiBpZD0ibWFwX2Y0ZmU3Y2I3ZGNkZTRkZWVhYjljMTlmYjdmZjA2NWRhIiA+PC9kaXY+CiAgICAgICAgCjwvYm9keT4KPHNjcmlwdD4gICAgCiAgICAKCiAgICAgICAgICAgIAogICAgICAgICAgICAgICAgdmFyIGJvdW5kcyA9IG51bGw7CiAgICAgICAgICAgIAoKICAgICAgICAgICAgdmFyIG1hcF9mNGZlN2NiN2RjZGU0ZGVlYWI5YzE5ZmI3ZmYwNjVkYSA9IEwubWFwKAogICAgICAgICAgICAgICAgICAgICAgICAgICAgICAgICAgJ21hcF9mNGZlN2NiN2RjZGU0ZGVlYWI5YzE5ZmI3ZmYwNjVkYScsCiAgICAgICAgICAgICAgICAgICAgICAgICAgICAgICAgICB7Y2VudGVyOiBbNDAuNzY3OTM3LC03My45ODIxNTVdLAogICAgICAgICAgICAgICAgICAgICAgICAgICAgICAgICAgem9vbTogMTAsCiAgICAgICAgICAgICAgICAgICAgICAgICAgICAgICAgICBtYXhCb3VuZHM6IGJvdW5kcywKICAgICAgICAgICAgICAgICAgICAgICAgICAgICAgICAgIGxheWVyczogW10sCiAgICAgICAgICAgICAgICAgICAgICAgICAgICAgICAgICB3b3JsZENvcHlKdW1wOiBmYWxzZSwKICAgICAgICAgICAgICAgICAgICAgICAgICAgICAgICAgIGNyczogTC5DUlMuRVBTRzM4NTcKICAgICAgICAgICAgICAgICAgICAgICAgICAgICAgICAgfSk7CiAgICAgICAgICAgIAogICAgICAgIAogICAgCiAgICAgICAgICAgIHZhciB0aWxlX2xheWVyXzc1NDgxZDA2ZWQwNzQ4OGQ5NTU2M2ZiNmM4ZjVhYzk0ID0gTC50aWxlTGF5ZXIoCiAgICAgICAgICAgICAgICAnaHR0cHM6Ly97c30udGlsZS5vcGVuc3RyZWV0bWFwLm9yZy97en0ve3h9L3t5fS5wbmcnLAogICAgICAgICAgICAgICAgewogICJhdHRyaWJ1dGlvbiI6IG51bGwsCiAgImRldGVjdFJldGluYSI6IGZhbHNlLAogICJtYXhab29tIjogMTgsCiAgIm1pblpvb20iOiAxLAogICJub1dyYXAiOiBmYWxzZSwKICAic3ViZG9tYWlucyI6ICJhYmMiCn0KICAgICAgICAgICAgICAgICkuYWRkVG8obWFwX2Y0ZmU3Y2I3ZGNkZTRkZWVhYjljMTlmYjdmZjA2NWRhKTsKICAgICAgICAKICAgIAoKICAgICAgICAgICAgdmFyIG1hcmtlcl81OWRkMmEzNTQ2YzY0ZDBiYmZiZGViMzgxMWQ3N2IzMyA9IEwubWFya2VyKAogICAgICAgICAgICAgICAgWzQwLjczODM5NTY5MDksLTc0LjAwMzc1MzY2MjFdLAogICAgICAgICAgICAgICAgewogICAgICAgICAgICAgICAgICAgIGljb246IG5ldyBMLkljb24uRGVmYXVsdCgpCiAgICAgICAgICAgICAgICAgICAgfQogICAgICAgICAgICAgICAgKQogICAgICAgICAgICAgICAgLmFkZFRvKG1hcF9mNGZlN2NiN2RjZGU0ZGVlYWI5YzE5ZmI3ZmYwNjVkYSk7CiAgICAgICAgICAgIAogICAgCgogICAgICAgICAgICB2YXIgbWFya2VyX2IwMTk2NWEyOWRmZDRhMjBhN2M4MDhiOTVkNDIwNGRlID0gTC5tYXJrZXIoCiAgICAgICAgICAgICAgICBbNDAuNjUyNDQ2NzQ2OCwtNzMuOTUxNzUxNzA5XSwKICAgICAgICAgICAgICAgIHsKICAgICAgICAgICAgICAgICAgICBpY29uOiBuZXcgTC5JY29uLkRlZmF1bHQoKQogICAgICAgICAgICAgICAgICAgIH0KICAgICAgICAgICAgICAgICkKICAgICAgICAgICAgICAgIC5hZGRUbyhtYXBfZjRmZTdjYjdkY2RlNGRlZWFiOWMxOWZiN2ZmMDY1ZGEpOwogICAgICAgICAgICAKICAgIAoKICAgICAgICAgICAgdmFyIG1hcmtlcl82M2NjMzRhZGE3NTE0ZTRlYjY1OTFjYmI0YTliZWM3ZSA9IEwubWFya2VyKAogICAgICAgICAgICAgICAgWzQwLjc1OTAyNTU3MzcsLTczLjk5NTk0ODc5MTVdLAogICAgICAgICAgICAgICAgewogICAgICAgICAgICAgICAgICAgIGljb246IG5ldyBMLkljb24uRGVmYXVsdCgpCiAgICAgICAgICAgICAgICAgICAgfQogICAgICAgICAgICAgICAgKQogICAgICAgICAgICAgICAgLmFkZFRvKG1hcF9mNGZlN2NiN2RjZGU0ZGVlYWI5YzE5ZmI3ZmYwNjVkYSk7CiAgICAgICAgICAgIAogICAgCgogICAgICAgICAgICB2YXIgbWFya2VyXzQ3NDQyNGNjZTc3NDRmZjI5NzIxMzg3MDUzZTI2N2IwID0gTC5tYXJrZXIoCiAgICAgICAgICAgICAgICBbNDAuODE1Njg5MDg2OSwtNzMuOTU4MzU4NzY0Nl0sCiAgICAgICAgICAgICAgICB7CiAgICAgICAgICAgICAgICAgICAgaWNvbjogbmV3IEwuSWNvbi5EZWZhdWx0KCkKICAgICAgICAgICAgICAgICAgICB9CiAgICAgICAgICAgICAgICApCiAgICAgICAgICAgICAgICAuYWRkVG8obWFwX2Y0ZmU3Y2I3ZGNkZTRkZWVhYjljMTlmYjdmZjA2NWRhKTsKICAgICAgICAgICAgCiAgICAKCiAgICAgICAgICAgIHZhciBtYXJrZXJfZDgzMTFhYzU3OTZjNDdkNjgzNjJmZGU5YTdmMjRmYTAgPSBMLm1hcmtlcigKICAgICAgICAgICAgICAgIFs0MC43NDI1OTU2NzI2LC03NC4wMDQxNDI3NjEyXSwKICAgICAgICAgICAgICAgIHsKICAgICAgICAgICAgICAgICAgICBpY29uOiBuZXcgTC5JY29uLkRlZmF1bHQoKQogICAgICAgICAgICAgICAgICAgIH0KICAgICAgICAgICAgICAgICkKICAgICAgICAgICAgICAgIC5hZGRUbyhtYXBfZjRmZTdjYjdkY2RlNGRlZWFiOWMxOWZiN2ZmMDY1ZGEpOwogICAgICAgICAgICAKICAgIAoKICAgICAgICAgICAgdmFyIG1hcmtlcl80OTZiMzc4NTdkOWM0NzZkYjYyMzBjODQ4ZThkMWI4YSA9IEwubWFya2VyKAogICAgICAgICAgICAgICAgWzQwLjc0ODg1MTc3NjEsLTczLjk4ODU2MzUzNzZdLAogICAgICAgICAgICAgICAgewogICAgICAgICAgICAgICAgICAgIGljb246IG5ldyBMLkljb24uRGVmYXVsdCgpCiAgICAgICAgICAgICAgICAgICAgfQogICAgICAgICAgICAgICAgKQogICAgICAgICAgICAgICAgLmFkZFRvKG1hcF9mNGZlN2NiN2RjZGU0ZGVlYWI5YzE5ZmI3ZmYwNjVkYSk7CiAgICAgICAgICAgIAogICAgCgogICAgICAgICAgICB2YXIgbWFya2VyXzMwM2U4Zjg2N2FlNTQ3MGNhYTU0MTlmYjFkNzY3YTMwID0gTC5tYXJrZXIoCiAgICAgICAgICAgICAgICBbNDAuNzU5NzU0MTgwOSwtNzMuOTc0MDM3MTcwNF0sCiAgICAgICAgICAgICAgICB7CiAgICAgICAgICAgICAgICAgICAgaWNvbjogbmV3IEwuSWNvbi5EZWZhdWx0KCkKICAgICAgICAgICAgICAgICAgICB9CiAgICAgICAgICAgICAgICApCiAgICAgICAgICAgICAgICAuYWRkVG8obWFwX2Y0ZmU3Y2I3ZGNkZTRkZWVhYjljMTlmYjdmZjA2NWRhKTsKICAgICAgICAgICAgCiAgICAKCiAgICAgICAgICAgIHZhciBtYXJrZXJfZWE1NWEzM2E4YzVmNDI0Zjk0YmYyZDZiYjYwODE5YTcgPSBMLm1hcmtlcigKICAgICAgICAgICAgICAgIFs0MC43Njc1NzA0OTU2LC03My45NTYxNjE0OTldLAogICAgICAgICAgICAgICAgewogICAgICAgICAgICAgICAgICAgIGljb246IG5ldyBMLkljb24uRGVmYXVsdCgpCiAgICAgICAgICAgICAgICAgICAgfQogICAgICAgICAgICAgICAgKQogICAgICAgICAgICAgICAgLmFkZFRvKG1hcF9mNGZlN2NiN2RjZGU0ZGVlYWI5YzE5ZmI3ZmYwNjVkYSk7CiAgICAgICAgICAgIAogICAgCgogICAgICAgICAgICB2YXIgbWFya2VyXzcyZGVmYzBhYWQwOTQyNmFiNmE0NjM4ZTc5MWE5NTY0ID0gTC5tYXJrZXIoCiAgICAgICAgICAgICAgICBbNDAuNzcyNDY4NTY2OSwtNzMuOTUyNjU5NjA2OV0sCiAgICAgICAgICAgICAgICB7CiAgICAgICAgICAgICAgICAgICAgaWNvbjogbmV3IEwuSWNvbi5EZWZhdWx0KCkKICAgICAgICAgICAgICAgICAgICB9CiAgICAgICAgICAgICAgICApCiAgICAgICAgICAgICAgICAuYWRkVG8obWFwX2Y0ZmU3Y2I3ZGNkZTRkZWVhYjljMTlmYjdmZjA2NWRhKTsKICAgICAgICAgICAgCiAgICAKCiAgICAgICAgICAgIHZhciBtYXJrZXJfZmQ3NjhjYTk0OTFhNDMyZGIzZGNhZjlmOTFlYzRkOTkgPSBMLm1hcmtlcigKICAgICAgICAgICAgICAgIFs0MC43ODI1MDg4NTAxLC03My45NDkxMTE5Mzg1XSwKICAgICAgICAgICAgICAgIHsKICAgICAgICAgICAgICAgICAgICBpY29uOiBuZXcgTC5JY29uLkRlZmF1bHQoKQogICAgICAgICAgICAgICAgICAgIH0KICAgICAgICAgICAgICAgICkKICAgICAgICAgICAgICAgIC5hZGRUbyhtYXBfZjRmZTdjYjdkY2RlNGRlZWFiOWMxOWZiN2ZmMDY1ZGEpOwogICAgICAgICAgICAKICAgIAoKICAgICAgICAgICAgdmFyIG1hcmtlcl82NDg3ZDBhYjIwNDQ0MzE0YmJjNTdhMjEwYWE5MDZiYSA9IEwubWFya2VyKAogICAgICAgICAgICAgICAgWzQwLjc2NjE4MTk0NTgsLTczLjk4Mjk4NjQ1MDJdLAogICAgICAgICAgICAgICAgewogICAgICAgICAgICAgICAgICAgIGljb246IG5ldyBMLkljb24uRGVmYXVsdCgpCiAgICAgICAgICAgICAgICAgICAgfQogICAgICAgICAgICAgICAgKQogICAgICAgICAgICAgICAgLmFkZFRvKG1hcF9mNGZlN2NiN2RjZGU0ZGVlYWI5YzE5ZmI3ZmYwNjVkYSk7CiAgICAgICAgICAgIAogICAgCgogICAgICAgICAgICB2YXIgbWFya2VyXzlkNjY3N2QwOTMyMjQ4NGZiMTU3OWI1NTljOGEzY2YxID0gTC5tYXJrZXIoCiAgICAgICAgICAgICAgICBbNDAuNzA3NjYwNjc1LC03NC4wMDc4MDQ4NzA2XSwKICAgICAgICAgICAgICAgIHsKICAgICAgICAgICAgICAgICAgICBpY29uOiBuZXcgTC5JY29uLkRlZmF1bHQoKQogICAgICAgICAgICAgICAgICAgIH0KICAgICAgICAgICAgICAgICkKICAgICAgICAgICAgICAgIC5hZGRUbyhtYXBfZjRmZTdjYjdkY2RlNGRlZWFiOWMxOWZiN2ZmMDY1ZGEpOwogICAgICAgICAgICAKICAgIAoKICAgICAgICAgICAgdmFyIG1hcmtlcl83ZTg1ZDM5MTliNmI0NGViYjgxNDE4ZTk3ZGU5ODk5MyA9IEwubWFya2VyKAogICAgICAgICAgICAgICAgWzQwLjcyMDQ4MTg3MjYsLTczLjk4NzE2NzM1ODRdLAogICAgICAgICAgICAgICAgewogICAgICAgICAgICAgICAgICAgIGljb246IG5ldyBMLkljb24uRGVmYXVsdCgpCiAgICAgICAgICAgICAgICAgICAgfQogICAgICAgICAgICAgICAgKQogICAgICAgICAgICAgICAgLmFkZFRvKG1hcF9mNGZlN2NiN2RjZGU0ZGVlYWI5YzE5ZmI3ZmYwNjVkYSk7CiAgICAgICAgICAgIAogICAgCgogICAgICAgICAgICB2YXIgbWFya2VyX2QxMGRiZWY4MDcyZjQwZDE5ZTQxMDRkNjgyYTE2YWM5ID0gTC5tYXJrZXIoCiAgICAgICAgICAgICAgICBbNDAuNzcwNzgyNDcwNywtNzMuOTUzODM0NTMzN10sCiAgICAgICAgICAgICAgICB7CiAgICAgICAgICAgICAgICAgICAgaWNvbjogbmV3IEwuSWNvbi5EZWZhdWx0KCkKICAgICAgICAgICAgICAgICAgICB9CiAgICAgICAgICAgICAgICApCiAgICAgICAgICAgICAgICAuYWRkVG8obWFwX2Y0ZmU3Y2I3ZGNkZTRkZWVhYjljMTlmYjdmZjA2NWRhKTsKICAgICAgICAgICAgCiAgICAKCiAgICAgICAgICAgIHZhciBtYXJrZXJfMGVkMGFkZTVkNGVjNGIwN2I0Y2IxNTM4NjNjNGJmZmUgPSBMLm1hcmtlcigKICAgICAgICAgICAgICAgIFs0MC43NTQzNzE2NDMxLC03My45Nzc1NTQzMjEzXSwKICAgICAgICAgICAgICAgIHsKICAgICAgICAgICAgICAgICAgICBpY29uOiBuZXcgTC5JY29uLkRlZmF1bHQoKQogICAgICAgICAgICAgICAgICAgIH0KICAgICAgICAgICAgICAgICkKICAgICAgICAgICAgICAgIC5hZGRUbyhtYXBfZjRmZTdjYjdkY2RlNGRlZWFiOWMxOWZiN2ZmMDY1ZGEpOwogICAgICAgICAgICAKICAgIAoKICAgICAgICAgICAgdmFyIG1hcmtlcl82NDhjZWY5YTIyNjI0YTM3YWVhOWZkZDg1YzM3MmZhNyA9IEwubWFya2VyKAogICAgICAgICAgICAgICAgWzQwLjc0MzQzODcyMDcsLTczLjk4NDM5Nzg4ODJdLAogICAgICAgICAgICAgICAgewogICAgICAgICAgICAgICAgICAgIGljb246IG5ldyBMLkljb24uRGVmYXVsdCgpCiAgICAgICAgICAgICAgICAgICAgfQogICAgICAgICAgICAgICAgKQogICAgICAgICAgICAgICAgLmFkZFRvKG1hcF9mNGZlN2NiN2RjZGU0ZGVlYWI5YzE5ZmI3ZmYwNjVkYSk7CiAgICAgICAgICAgIAogICAgCgogICAgICAgICAgICB2YXIgbWFya2VyX2U5ZDcxMGU5YjI3NjQ2Y2ZiZDZjOWNiZGE4ZDRkZTllID0gTC5tYXJrZXIoCiAgICAgICAgICAgICAgICBbNDAuNzc4NzY2NjMyMSwtNzMuOTgxNTI5MjM1OF0sCiAgICAgICAgICAgICAgICB7CiAgICAgICAgICAgICAgICAgICAgaWNvbjogbmV3IEwuSWNvbi5EZWZhdWx0KCkKICAgICAgICAgICAgICAgICAgICB9CiAgICAgICAgICAgICAgICApCiAgICAgICAgICAgICAgICAuYWRkVG8obWFwX2Y0ZmU3Y2I3ZGNkZTRkZWVhYjljMTlmYjdmZjA2NWRhKTsKICAgICAgICAgICAgCiAgICAKCiAgICAgICAgICAgIHZhciBtYXJrZXJfNGYyOTdkZTRkMWRjNDE4ZDgyOTQ3OTlhYzc4YzNjMTUgPSBMLm1hcmtlcigKICAgICAgICAgICAgICAgIFs0MC43ODQ3MTc1NTk4LC03My45NzU4MzAwNzgxXSwKICAgICAgICAgICAgICAgIHsKICAgICAgICAgICAgICAgICAgICBpY29uOiBuZXcgTC5JY29uLkRlZmF1bHQoKQogICAgICAgICAgICAgICAgICAgIH0KICAgICAgICAgICAgICAgICkKICAgICAgICAgICAgICAgIC5hZGRUbyhtYXBfZjRmZTdjYjdkY2RlNGRlZWFiOWMxOWZiN2ZmMDY1ZGEpOwogICAgICAgICAgICAKICAgIAoKICAgICAgICAgICAgdmFyIG1hcmtlcl8xYTRlMDc0ZWI4MGY0ZmQyOTU5YzIyMGQ5ZDQ5MjVhMiA9IEwubWFya2VyKAogICAgICAgICAgICAgICAgWzQwLjc2OTA3MzQ4NjMsLTczLjk1OTM0Mjk1NjVdLAogICAgICAgICAgICAgICAgewogICAgICAgICAgICAgICAgICAgIGljb246IG5ldyBMLkljb24uRGVmYXVsdCgpCiAgICAgICAgICAgICAgICAgICAgfQogICAgICAgICAgICAgICAgKQogICAgICAgICAgICAgICAgLmFkZFRvKG1hcF9mNGZlN2NiN2RjZGU0ZGVlYWI5YzE5ZmI3ZmYwNjVkYSk7CiAgICAgICAgICAgIAogICAgCgogICAgICAgICAgICB2YXIgbWFya2VyX2FlMjVjODBlMDdjYzRmMTE4NWZjMjVmNDc4MjZjYzg1ID0gTC5tYXJrZXIoCiAgICAgICAgICAgICAgICBbNDAuNzc3NzkzODg0MywtNzMuOTQ5MzYzNzA4NV0sCiAgICAgICAgICAgICAgICB7CiAgICAgICAgICAgICAgICAgICAgaWNvbjogbmV3IEwuSWNvbi5EZWZhdWx0KCkKICAgICAgICAgICAgICAgICAgICB9CiAgICAgICAgICAgICAgICApCiAgICAgICAgICAgICAgICAuYWRkVG8obWFwX2Y0ZmU3Y2I3ZGNkZTRkZWVhYjljMTlmYjdmZjA2NWRhKTsKICAgICAgICAgICAgCiAgICAKCiAgICAgICAgICAgIHZhciBtYXJrZXJfNTg4MWU3ZjY2ZDFkNDA0ZjlhYWYwZjc4NDE4ODk4ZGQgPSBMLm1hcmtlcigKICAgICAgICAgICAgICAgIFs0MC43MTU3ODU5ODAyLC03NC4wMTUyNTg3ODkxXSwKICAgICAgICAgICAgICAgIHsKICAgICAgICAgICAgICAgICAgICBpY29uOiBuZXcgTC5JY29uLkRlZmF1bHQoKQogICAgICAgICAgICAgICAgICAgIH0KICAgICAgICAgICAgICAgICkKICAgICAgICAgICAgICAgIC5hZGRUbyhtYXBfZjRmZTdjYjdkY2RlNGRlZWFiOWMxOWZiN2ZmMDY1ZGEpOwogICAgICAgICAgICAKICAgIAoKICAgICAgICAgICAgdmFyIG1hcmtlcl9jZmZmNDZlMWExNzU0NTU4YWFiN2ZmOTU0ZmQ1NzY5MiA9IEwubWFya2VyKAogICAgICAgICAgICAgICAgWzQwLjcyODgyODQzMDIsLTc0LjAwMjYwOTI1MjldLAogICAgICAgICAgICAgICAgewogICAgICAgICAgICAgICAgICAgIGljb246IG5ldyBMLkljb24uRGVmYXVsdCgpCiAgICAgICAgICAgICAgICAgICAgfQogICAgICAgICAgICAgICAgKQogICAgICAgICAgICAgICAgLmFkZFRvKG1hcF9mNGZlN2NiN2RjZGU0ZGVlYWI5YzE5ZmI3ZmYwNjVkYSk7CiAgICAgICAgICAgIAogICAgCgogICAgICAgICAgICB2YXIgbWFya2VyX2Q4ZTMwN2E1ZjdhNjRkNWJiOTJiMDI5NGU3OWU5MTRjID0gTC5tYXJrZXIoCiAgICAgICAgICAgICAgICBbNDAuNzc3MzQ3NTY0NywtNzMuOTUyMDQxNjI2XSwKICAgICAgICAgICAgICAgIHsKICAgICAgICAgICAgICAgICAgICBpY29uOiBuZXcgTC5JY29uLkRlZmF1bHQoKQogICAgICAgICAgICAgICAgICAgIH0KICAgICAgICAgICAgICAgICkKICAgICAgICAgICAgICAgIC5hZGRUbyhtYXBfZjRmZTdjYjdkY2RlNGRlZWFiOWMxOWZiN2ZmMDY1ZGEpOwogICAgICAgICAgICAKICAgIAoKICAgICAgICAgICAgdmFyIG1hcmtlcl83ZmZiMzFhNDQyYmQ0MmQ2ODA3NjNiZGFjZWYyZTdhMiA9IEwubWFya2VyKAogICAgICAgICAgICAgICAgWzQwLjc3MjQ5OTA4NDUsLTczLjk0NjY0MDAxNDZdLAogICAgICAgICAgICAgICAgewogICAgICAgICAgICAgICAgICAgIGljb246IG5ldyBMLkljb24uRGVmYXVsdCgpCiAgICAgICAgICAgICAgICAgICAgfQogICAgICAgICAgICAgICAgKQogICAgICAgICAgICAgICAgLmFkZFRvKG1hcF9mNGZlN2NiN2RjZGU0ZGVlYWI5YzE5ZmI3ZmYwNjVkYSk7CiAgICAgICAgICAgIAogICAgCgogICAgICAgICAgICB2YXIgbWFya2VyXzJjNWY4ZTdmNWE1ZTRhZDY4NTU1YzE1MTY1ODYzMTE1ID0gTC5tYXJrZXIoCiAgICAgICAgICAgICAgICBbNDAuNzc1NzQ1MzkxOCwtNzMuOTg3MjU4OTExMV0sCiAgICAgICAgICAgICAgICB7CiAgICAgICAgICAgICAgICAgICAgaWNvbjogbmV3IEwuSWNvbi5EZWZhdWx0KCkKICAgICAgICAgICAgICAgICAgICB9CiAgICAgICAgICAgICAgICApCiAgICAgICAgICAgICAgICAuYWRkVG8obWFwX2Y0ZmU3Y2I3ZGNkZTRkZWVhYjljMTlmYjdmZjA2NWRhKTsKICAgICAgICAgICAgCiAgICAKCiAgICAgICAgICAgIHZhciBtYXJrZXJfZTQ5OThhMjM1Y2VjNDllZGI2NGFlMDhhMzMxNjIwZGMgPSBMLm1hcmtlcigKICAgICAgICAgICAgICAgIFs0MC43NDQ5ODM2NzMxLC03My45ODg1NjM1Mzc2XSwKICAgICAgICAgICAgICAgIHsKICAgICAgICAgICAgICAgICAgICBpY29uOiBuZXcgTC5JY29uLkRlZmF1bHQoKQogICAgICAgICAgICAgICAgICAgIH0KICAgICAgICAgICAgICAgICkKICAgICAgICAgICAgICAgIC5hZGRUbyhtYXBfZjRmZTdjYjdkY2RlNGRlZWFiOWMxOWZiN2ZmMDY1ZGEpOwogICAgICAgICAgICAKICAgIAoKICAgICAgICAgICAgdmFyIG1hcmtlcl83NzZlMTQ5YzA4NDE0OWZjOGQzYWMxYzQ5YzFkN2QzOSA9IEwubWFya2VyKAogICAgICAgICAgICAgICAgWzQwLjc4NTA5MTQwMDEsLTczLjk1NTY4MDg0NzJdLAogICAgICAgICAgICAgICAgewogICAgICAgICAgICAgICAgICAgIGljb246IG5ldyBMLkljb24uRGVmYXVsdCgpCiAgICAgICAgICAgICAgICAgICAgfQogICAgICAgICAgICAgICAgKQogICAgICAgICAgICAgICAgLmFkZFRvKG1hcF9mNGZlN2NiN2RjZGU0ZGVlYWI5YzE5ZmI3ZmYwNjVkYSk7CiAgICAgICAgICAgIAogICAgCgogICAgICAgICAgICB2YXIgbWFya2VyX2I1ZDI1ZTYwNDgzZTRlNTViMjU5MTM0ZmViMzAzZmRkID0gTC5tYXJrZXIoCiAgICAgICAgICAgICAgICBbNDAuNzg1NzEzMTk1OCwtNzMuOTgwMzA4NTMyN10sCiAgICAgICAgICAgICAgICB7CiAgICAgICAgICAgICAgICAgICAgaWNvbjogbmV3IEwuSWNvbi5EZWZhdWx0KCkKICAgICAgICAgICAgICAgICAgICB9CiAgICAgICAgICAgICAgICApCiAgICAgICAgICAgICAgICAuYWRkVG8obWFwX2Y0ZmU3Y2I3ZGNkZTRkZWVhYjljMTlmYjdmZjA2NWRhKTsKICAgICAgICAgICAgCiAgICAKCiAgICAgICAgICAgIHZhciBtYXJrZXJfZWM4ZWZjZWFhMTVlNDA2YWFhOWE5NTE1ZDBiYWVhNzQgPSBMLm1hcmtlcigKICAgICAgICAgICAgICAgIFs0MC43Njc5MjE0NDc4LC03My45ODUxMzc5Mzk1XSwKICAgICAgICAgICAgICAgIHsKICAgICAgICAgICAgICAgICAgICBpY29uOiBuZXcgTC5JY29uLkRlZmF1bHQoKQogICAgICAgICAgICAgICAgICAgIH0KICAgICAgICAgICAgICAgICkKICAgICAgICAgICAgICAgIC5hZGRUbyhtYXBfZjRmZTdjYjdkY2RlNGRlZWFiOWMxOWZiN2ZmMDY1ZGEpOwogICAgICAgICAgICAKICAgIAoKICAgICAgICAgICAgdmFyIG1hcmtlcl9hOWU1MGRlZDEzNjM0NzVjOGI1NzgyYWQ4NzU2MGJhYSA9IEwubWFya2VyKAogICAgICAgICAgICAgICAgWzQwLjc1NjM1NTI4NTYsLTczLjk5NDExMDEwNzRdLAogICAgICAgICAgICAgICAgewogICAgICAgICAgICAgICAgICAgIGljb246IG5ldyBMLkljb24uRGVmYXVsdCgpCiAgICAgICAgICAgICAgICAgICAgfQogICAgICAgICAgICAgICAgKQogICAgICAgICAgICAgICAgLmFkZFRvKG1hcF9mNGZlN2NiN2RjZGU0ZGVlYWI5YzE5ZmI3ZmYwNjVkYSk7CiAgICAgICAgICAgIAogICAgCgogICAgICAgICAgICB2YXIgbWFya2VyXzQzMTQxMDJkNzVhZjQ1OTJhZDljMzRlMjVmMWE5MGM4ID0gTC5tYXJrZXIoCiAgICAgICAgICAgICAgICBbNDAuNzM3NTIyMTI1MiwtNzMuOTk3MDAxNjQ3OV0sCiAgICAgICAgICAgICAgICB7CiAgICAgICAgICAgICAgICAgICAgaWNvbjogbmV3IEwuSWNvbi5EZWZhdWx0KCkKICAgICAgICAgICAgICAgICAgICB9CiAgICAgICAgICAgICAgICApCiAgICAgICAgICAgICAgICAuYWRkVG8obWFwX2Y0ZmU3Y2I3ZGNkZTRkZWVhYjljMTlmYjdmZjA2NWRhKTsKICAgICAgICAgICAgCiAgICAKCiAgICAgICAgICAgIHZhciBtYXJrZXJfMjRmYTZiZWM3ZTljNDQzOWJiNzJjNjkwOTFiYjk2NmMgPSBMLm1hcmtlcigKICAgICAgICAgICAgICAgIFs0MC43MTY5MDc1MDEyLC03My45ODkwOTc1OTUyXSwKICAgICAgICAgICAgICAgIHsKICAgICAgICAgICAgICAgICAgICBpY29uOiBuZXcgTC5JY29uLkRlZmF1bHQoKQogICAgICAgICAgICAgICAgICAgIH0KICAgICAgICAgICAgICAgICkKICAgICAgICAgICAgICAgIC5hZGRUbyhtYXBfZjRmZTdjYjdkY2RlNGRlZWFiOWMxOWZiN2ZmMDY1ZGEpOwogICAgICAgICAgICAKICAgIAoKICAgICAgICAgICAgdmFyIG1hcmtlcl80NDRiNDAwMWFjMmU0MzcyOGI0MmJiYjk1OTU4NmZmZCA9IEwubWFya2VyKAogICAgICAgICAgICAgICAgWzQwLjc1NjAzNDg1MTEsLTczLjk5MDcwNzM5NzVdLAogICAgICAgICAgICAgICAgewogICAgICAgICAgICAgICAgICAgIGljb246IG5ldyBMLkljb24uRGVmYXVsdCgpCiAgICAgICAgICAgICAgICAgICAgfQogICAgICAgICAgICAgICAgKQogICAgICAgICAgICAgICAgLmFkZFRvKG1hcF9mNGZlN2NiN2RjZGU0ZGVlYWI5YzE5ZmI3ZmYwNjVkYSk7CiAgICAgICAgICAgIAogICAgCgogICAgICAgICAgICB2YXIgbWFya2VyXzlkMjNlYTdiNzkwMDQyNTA4MjY2MzIzNDc0YzMyZDI0ID0gTC5tYXJrZXIoCiAgICAgICAgICAgICAgICBbNDAuNzc3ODIwNTg3MiwtNzMuOTU2Nzg3MTA5NF0sCiAgICAgICAgICAgICAgICB7CiAgICAgICAgICAgICAgICAgICAgaWNvbjogbmV3IEwuSWNvbi5EZWZhdWx0KCkKICAgICAgICAgICAgICAgICAgICB9CiAgICAgICAgICAgICAgICApCiAgICAgICAgICAgICAgICAuYWRkVG8obWFwX2Y0ZmU3Y2I3ZGNkZTRkZWVhYjljMTlmYjdmZjA2NWRhKTsKICAgICAgICAgICAgCiAgICAKCiAgICAgICAgICAgIHZhciBtYXJrZXJfMTliNTNjM2Q1NmFjNGJiNGE1YzVhMGVmMTRmYzA1ZTggPSBMLm1hcmtlcigKICAgICAgICAgICAgICAgIFs0MC43NzEwOTkwOTA2LC03My45ODIzNDU1ODExXSwKICAgICAgICAgICAgICAgIHsKICAgICAgICAgICAgICAgICAgICBpY29uOiBuZXcgTC5JY29uLkRlZmF1bHQoKQogICAgICAgICAgICAgICAgICAgIH0KICAgICAgICAgICAgICAgICkKICAgICAgICAgICAgICAgIC5hZGRUbyhtYXBfZjRmZTdjYjdkY2RlNGRlZWFiOWMxOWZiN2ZmMDY1ZGEpOwogICAgICAgICAgICAKICAgIAoKICAgICAgICAgICAgdmFyIG1hcmtlcl80YmM2NjZjY2UwMWU0YzU4YjdiMmRmMjMzODI2YTI5ZSA9IEwubWFya2VyKAogICAgICAgICAgICAgICAgWzQwLjc2MDYxMjQ4NzgsLTczLjk4MjUxMzQyNzddLAogICAgICAgICAgICAgICAgewogICAgICAgICAgICAgICAgICAgIGljb246IG5ldyBMLkljb24uRGVmYXVsdCgpCiAgICAgICAgICAgICAgICAgICAgfQogICAgICAgICAgICAgICAgKQogICAgICAgICAgICAgICAgLmFkZFRvKG1hcF9mNGZlN2NiN2RjZGU0ZGVlYWI5YzE5ZmI3ZmYwNjVkYSk7CiAgICAgICAgICAgIAogICAgCgogICAgICAgICAgICB2YXIgbWFya2VyX2RjOTBlZjM0YjYzNTQ2NmZiMmQyMDdjODYwMzUwNjNjID0gTC5tYXJrZXIoCiAgICAgICAgICAgICAgICBbNDAuNzUyOTMzNTAyMiwtNzMuOTc4MTU3MDQzNV0sCiAgICAgICAgICAgICAgICB7CiAgICAgICAgICAgICAgICAgICAgaWNvbjogbmV3IEwuSWNvbi5EZWZhdWx0KCkKICAgICAgICAgICAgICAgICAgICB9CiAgICAgICAgICAgICAgICApCiAgICAgICAgICAgICAgICAuYWRkVG8obWFwX2Y0ZmU3Y2I3ZGNkZTRkZWVhYjljMTlmYjdmZjA2NWRhKTsKICAgICAgICAgICAgCiAgICAKCiAgICAgICAgICAgIHZhciBtYXJrZXJfYWM4NzY2YzRmN2I5NDZhZWE4MzkyYTkyOTM3NzQ4YjQgPSBMLm1hcmtlcigKICAgICAgICAgICAgICAgIFs0MC43NTc1NzIxNzQxLC03NC4wMDAzNTg1ODE1XSwKICAgICAgICAgICAgICAgIHsKICAgICAgICAgICAgICAgICAgICBpY29uOiBuZXcgTC5JY29uLkRlZmF1bHQoKQogICAgICAgICAgICAgICAgICAgIH0KICAgICAgICAgICAgICAgICkKICAgICAgICAgICAgICAgIC5hZGRUbyhtYXBfZjRmZTdjYjdkY2RlNGRlZWFiOWMxOWZiN2ZmMDY1ZGEpOwogICAgICAgICAgICAKICAgIAoKICAgICAgICAgICAgdmFyIG1hcmtlcl8zOTRlMzE5NTJhYmM0MGZkYmZhZTI2MGY3ZTU1ZTRhMyA9IEwubWFya2VyKAogICAgICAgICAgICAgICAgWzQwLjc0MTUxNjExMzMsLTczLjk4NzM4MDk4MTRdLAogICAgICAgICAgICAgICAgewogICAgICAgICAgICAgICAgICAgIGljb246IG5ldyBMLkljb24uRGVmYXVsdCgpCiAgICAgICAgICAgICAgICAgICAgfQogICAgICAgICAgICAgICAgKQogICAgICAgICAgICAgICAgLmFkZFRvKG1hcF9mNGZlN2NiN2RjZGU0ZGVlYWI5YzE5ZmI3ZmYwNjVkYSk7CiAgICAgICAgICAgIAogICAgCgogICAgICAgICAgICB2YXIgbWFya2VyX2YxZDY1OGMzY2MzNjQyY2FhOGVkNzYzNmYwNjMxMjc2ID0gTC5tYXJrZXIoCiAgICAgICAgICAgICAgICBbNDAuNzYyOTQ3MDgyNSwtNzMuOTcxODE3MDE2Nl0sCiAgICAgICAgICAgICAgICB7CiAgICAgICAgICAgICAgICAgICAgaWNvbjogbmV3IEwuSWNvbi5EZWZhdWx0KCkKICAgICAgICAgICAgICAgICAgICB9CiAgICAgICAgICAgICAgICApCiAgICAgICAgICAgICAgICAuYWRkVG8obWFwX2Y0ZmU3Y2I3ZGNkZTRkZWVhYjljMTlmYjdmZjA2NWRhKTsKICAgICAgICAgICAgCiAgICAKCiAgICAgICAgICAgIHZhciBtYXJrZXJfZDZlNjg3MTM0MDRhNDNkOTk3ZTI4MGE3MDI5MWQ5MTQgPSBMLm1hcmtlcigKICAgICAgICAgICAgICAgIFs0MC43NDUxMjQ4MTY5LC03My45NzI1NTcwNjc5XSwKICAgICAgICAgICAgICAgIHsKICAgICAgICAgICAgICAgICAgICBpY29uOiBuZXcgTC5JY29uLkRlZmF1bHQoKQogICAgICAgICAgICAgICAgICAgIH0KICAgICAgICAgICAgICAgICkKICAgICAgICAgICAgICAgIC5hZGRUbyhtYXBfZjRmZTdjYjdkY2RlNGRlZWFiOWMxOWZiN2ZmMDY1ZGEpOwogICAgICAgICAgICAKICAgIAoKICAgICAgICAgICAgdmFyIG1hcmtlcl80MmUyZWI0NWE3MDg0NzQ3OWQ4N2NmMDhkNmMxNmQ2OSA9IEwubWFya2VyKAogICAgICAgICAgICAgICAgWzQwLjc1NDEwODQyOSwtNzMuOTcxOTY5NjA0NV0sCiAgICAgICAgICAgICAgICB7CiAgICAgICAgICAgICAgICAgICAgaWNvbjogbmV3IEwuSWNvbi5EZWZhdWx0KCkKICAgICAgICAgICAgICAgICAgICB9CiAgICAgICAgICAgICAgICApCiAgICAgICAgICAgICAgICAuYWRkVG8obWFwX2Y0ZmU3Y2I3ZGNkZTRkZWVhYjljMTlmYjdmZjA2NWRhKTsKICAgICAgICAgICAgCiAgICAKCiAgICAgICAgICAgIHZhciBtYXJrZXJfMmE5YTBiYWM2YWNlNDZhMThkMjAyMWIzNDVkZTAwNDAgPSBMLm1hcmtlcigKICAgICAgICAgICAgICAgIFs0MC43NTUzMjkxMzIxLC03My45ODM0MjEzMjU3XSwKICAgICAgICAgICAgICAgIHsKICAgICAgICAgICAgICAgICAgICBpY29uOiBuZXcgTC5JY29uLkRlZmF1bHQoKQogICAgICAgICAgICAgICAgICAgIH0KICAgICAgICAgICAgICAgICkKICAgICAgICAgICAgICAgIC5hZGRUbyhtYXBfZjRmZTdjYjdkY2RlNGRlZWFiOWMxOWZiN2ZmMDY1ZGEpOwogICAgICAgICAgICAKICAgIAoKICAgICAgICAgICAgdmFyIG1hcmtlcl9hNDM4YTE1OTA3NmQ0OTEwYjk2NzEzMGI4Y2NiNTg1MSA9IEwubWFya2VyKAogICAgICAgICAgICAgICAgWzQwLjc1OTQ4NzE1MjEsLTczLjk4ODE0MzkyMDldLAogICAgICAgICAgICAgICAgewogICAgICAgICAgICAgICAgICAgIGljb246IG5ldyBMLkljb24uRGVmYXVsdCgpCiAgICAgICAgICAgICAgICAgICAgfQogICAgICAgICAgICAgICAgKQogICAgICAgICAgICAgICAgLmFkZFRvKG1hcF9mNGZlN2NiN2RjZGU0ZGVlYWI5YzE5ZmI3ZmYwNjVkYSk7CiAgICAgICAgICAgIAogICAgCgogICAgICAgICAgICB2YXIgbWFya2VyXzRmNDVkOWU3NDBlNTQwYjQ5MzVhODk3YzQ4YjY4MTExID0gTC5tYXJrZXIoCiAgICAgICAgICAgICAgICBbNDAuNzY4ODI5MzQ1NywtNzMuOTYxMDM2NjgyMV0sCiAgICAgICAgICAgICAgICB7CiAgICAgICAgICAgICAgICAgICAgaWNvbjogbmV3IEwuSWNvbi5EZWZhdWx0KCkKICAgICAgICAgICAgICAgICAgICB9CiAgICAgICAgICAgICAgICApCiAgICAgICAgICAgICAgICAuYWRkVG8obWFwX2Y0ZmU3Y2I3ZGNkZTRkZWVhYjljMTlmYjdmZjA2NWRhKTsKICAgICAgICAgICAgCiAgICAKCiAgICAgICAgICAgIHZhciBtYXJrZXJfN2QyMzhmOTRlMWJkNDFhM2FjMDNkNWQ4YjZmMGRlNzMgPSBMLm1hcmtlcigKICAgICAgICAgICAgICAgIFs0MC43NTkzMzQ1NjQyLC03My45ODA1ODMxOTA5XSwKICAgICAgICAgICAgICAgIHsKICAgICAgICAgICAgICAgICAgICBpY29uOiBuZXcgTC5JY29uLkRlZmF1bHQoKQogICAgICAgICAgICAgICAgICAgIH0KICAgICAgICAgICAgICAgICkKICAgICAgICAgICAgICAgIC5hZGRUbyhtYXBfZjRmZTdjYjdkY2RlNGRlZWFiOWMxOWZiN2ZmMDY1ZGEpOwogICAgICAgICAgICAKICAgIAoKICAgICAgICAgICAgdmFyIG1hcmtlcl9lNWVlZDdhNGQ0YjE0ZmI4OWFhNTRlM2ZmYTQ1NzIzNSA9IEwubWFya2VyKAogICAgICAgICAgICAgICAgWzQwLjc3MDY0NTE0MTYsLTczLjk2ODM2ODUzMDNdLAogICAgICAgICAgICAgICAgewogICAgICAgICAgICAgICAgICAgIGljb246IG5ldyBMLkljb24uRGVmYXVsdCgpCiAgICAgICAgICAgICAgICAgICAgfQogICAgICAgICAgICAgICAgKQogICAgICAgICAgICAgICAgLmFkZFRvKG1hcF9mNGZlN2NiN2RjZGU0ZGVlYWI5YzE5ZmI3ZmYwNjVkYSk7CiAgICAgICAgICAgIAogICAgCgogICAgICAgICAgICB2YXIgbWFya2VyXzNlMzZlNWRjNDk4YzQxYmI5ZTk0Yjg1MDdmZmMxZTVmID0gTC5tYXJrZXIoCiAgICAgICAgICAgICAgICBbNDAuNzU4NTE0NDA0MywtNzMuOTc3NzQ1MDU2Ml0sCiAgICAgICAgICAgICAgICB7CiAgICAgICAgICAgICAgICAgICAgaWNvbjogbmV3IEwuSWNvbi5EZWZhdWx0KCkKICAgICAgICAgICAgICAgICAgICB9CiAgICAgICAgICAgICAgICApCiAgICAgICAgICAgICAgICAuYWRkVG8obWFwX2Y0ZmU3Y2I3ZGNkZTRkZWVhYjljMTlmYjdmZjA2NWRhKTsKICAgICAgICAgICAgCiAgICAKCiAgICAgICAgICAgIHZhciBtYXJrZXJfODFhZDNjMWQyNTVmNDU5NjhmNDU0NjExMzk1MjNkMDYgPSBMLm1hcmtlcigKICAgICAgICAgICAgICAgIFs0MC43MTExMjA2MDU1LC03NC4wMDgyNzc4OTMxXSwKICAgICAgICAgICAgICAgIHsKICAgICAgICAgICAgICAgICAgICBpY29uOiBuZXcgTC5JY29uLkRlZmF1bHQoKQogICAgICAgICAgICAgICAgICAgIH0KICAgICAgICAgICAgICAgICkKICAgICAgICAgICAgICAgIC5hZGRUbyhtYXBfZjRmZTdjYjdkY2RlNGRlZWFiOWMxOWZiN2ZmMDY1ZGEpOwogICAgICAgICAgICAKICAgIAoKICAgICAgICAgICAgdmFyIG1hcmtlcl9kZmI1ZTc5ZDk0ZTc0MDFiYjBjYjczNDJhYWFmYmJhYyA9IEwubWFya2VyKAogICAgICAgICAgICAgICAgWzQwLjc0MjI0ODUzNTIsLTczLjk3NDU0MDcxMDRdLAogICAgICAgICAgICAgICAgewogICAgICAgICAgICAgICAgICAgIGljb246IG5ldyBMLkljb24uRGVmYXVsdCgpCiAgICAgICAgICAgICAgICAgICAgfQogICAgICAgICAgICAgICAgKQogICAgICAgICAgICAgICAgLmFkZFRvKG1hcF9mNGZlN2NiN2RjZGU0ZGVlYWI5YzE5ZmI3ZmYwNjVkYSk7CiAgICAgICAgICAgIAogICAgCgogICAgICAgICAgICB2YXIgbWFya2VyX2VhNjM0MzY1YzVmZTQ4YjM5YWZmMGM4ZjVkM2E5YTllID0gTC5tYXJrZXIoCiAgICAgICAgICAgICAgICBbNDAuNzg1NTg3MzEwOCwtNzMuOTY5Nzc5OTY4M10sCiAgICAgICAgICAgICAgICB7CiAgICAgICAgICAgICAgICAgICAgaWNvbjogbmV3IEwuSWNvbi5EZWZhdWx0KCkKICAgICAgICAgICAgICAgICAgICB9CiAgICAgICAgICAgICAgICApCiAgICAgICAgICAgICAgICAuYWRkVG8obWFwX2Y0ZmU3Y2I3ZGNkZTRkZWVhYjljMTlmYjdmZjA2NWRhKTsKICAgICAgICAgICAgCiAgICAKCiAgICAgICAgICAgIHZhciBtYXJrZXJfNDg1NzNlNzY2MjgwNDczNjk5OTA2ZDBhMTA1NmMxMDIgPSBMLm1hcmtlcigKICAgICAgICAgICAgICAgIFs0MC43ODI0MDIwMzg2LC03My45NTc2NDkyMzFdLAogICAgICAgICAgICAgICAgewogICAgICAgICAgICAgICAgICAgIGljb246IG5ldyBMLkljb24uRGVmYXVsdCgpCiAgICAgICAgICAgICAgICAgICAgfQogICAgICAgICAgICAgICAgKQogICAgICAgICAgICAgICAgLmFkZFRvKG1hcF9mNGZlN2NiN2RjZGU0ZGVlYWI5YzE5ZmI3ZmYwNjVkYSk7CiAgICAgICAgICAgIAogICAgCgogICAgICAgICAgICB2YXIgbWFya2VyXzI1ZWRhYmFhMjFiMjQ4Njk4NzJiZDUwMzliMjMzNzY0ID0gTC5tYXJrZXIoCiAgICAgICAgICAgICAgICBbNDAuNzU3NDA0MzI3NCwtNzMuOTczNTg3MDM2MV0sCiAgICAgICAgICAgICAgICB7CiAgICAgICAgICAgICAgICAgICAgaWNvbjogbmV3IEwuSWNvbi5EZWZhdWx0KCkKICAgICAgICAgICAgICAgICAgICB9CiAgICAgICAgICAgICAgICApCiAgICAgICAgICAgICAgICAuYWRkVG8obWFwX2Y0ZmU3Y2I3ZGNkZTRkZWVhYjljMTlmYjdmZjA2NWRhKTsKICAgICAgICAgICAgCiAgICAKCiAgICAgICAgICAgIHZhciBtYXJrZXJfMmUwZjU5Nzg4NjkzNGRhZGFlMTMxNzdmMmY3Nzg4MzcgPSBMLm1hcmtlcigKICAgICAgICAgICAgICAgIFs0MC43NDI3NDgyNjA1LC03My45OTk3MTc3MTI0XSwKICAgICAgICAgICAgICAgIHsKICAgICAgICAgICAgICAgICAgICBpY29uOiBuZXcgTC5JY29uLkRlZmF1bHQoKQogICAgICAgICAgICAgICAgICAgIH0KICAgICAgICAgICAgICAgICkKICAgICAgICAgICAgICAgIC5hZGRUbyhtYXBfZjRmZTdjYjdkY2RlNGRlZWFiOWMxOWZiN2ZmMDY1ZGEpOwogICAgICAgICAgICAKICAgIAoKICAgICAgICAgICAgdmFyIG1hcmtlcl83YjEwZmVhMGVmNzY0YTEwOWVhY2ZlNDc0YTZjZGNiZiA9IEwubWFya2VyKAogICAgICAgICAgICAgICAgWzQwLjc2ODY1Mzg2OTYsLTczLjk5MjY0NTI2MzddLAogICAgICAgICAgICAgICAgewogICAgICAgICAgICAgICAgICAgIGljb246IG5ldyBMLkljb24uRGVmYXVsdCgpCiAgICAgICAgICAgICAgICAgICAgfQogICAgICAgICAgICAgICAgKQogICAgICAgICAgICAgICAgLmFkZFRvKG1hcF9mNGZlN2NiN2RjZGU0ZGVlYWI5YzE5ZmI3ZmYwNjVkYSk7CiAgICAgICAgICAgIAogICAgCgogICAgICAgICAgICB2YXIgbWFya2VyX2UzYTEzNjE3MGI4ZDQwZTZhYWE3ODcyMDIzNDVhYzkxID0gTC5tYXJrZXIoCiAgICAgICAgICAgICAgICBbNDAuNzczNTQ4MTI2MiwtNzMuOTg5Mzg3NTEyMl0sCiAgICAgICAgICAgICAgICB7CiAgICAgICAgICAgICAgICAgICAgaWNvbjogbmV3IEwuSWNvbi5EZWZhdWx0KCkKICAgICAgICAgICAgICAgICAgICB9CiAgICAgICAgICAgICAgICApCiAgICAgICAgICAgICAgICAuYWRkVG8obWFwX2Y0ZmU3Y2I3ZGNkZTRkZWVhYjljMTlmYjdmZjA2NWRhKTsKICAgICAgICAgICAgCiAgICAKCiAgICAgICAgICAgIHZhciBtYXJrZXJfMzA4ZTVkYzViZGMzNDk3NTg3MWE3MTAwOTFkMTI0OTYgPSBMLm1hcmtlcigKICAgICAgICAgICAgICAgIFs0MC43NjE2MTU3NTMyLC03My45ODQwMzE2NzcyXSwKICAgICAgICAgICAgICAgIHsKICAgICAgICAgICAgICAgICAgICBpY29uOiBuZXcgTC5JY29uLkRlZmF1bHQoKQogICAgICAgICAgICAgICAgICAgIH0KICAgICAgICAgICAgICAgICkKICAgICAgICAgICAgICAgIC5hZGRUbyhtYXBfZjRmZTdjYjdkY2RlNGRlZWFiOWMxOWZiN2ZmMDY1ZGEpOwogICAgICAgICAgICAKICAgIAoKICAgICAgICAgICAgdmFyIG1hcmtlcl84NzgyZjRmODU3MTQ0ZDkxOWRkYmJiNDE3NmYzZDFhNiA9IEwubWFya2VyKAogICAgICAgICAgICAgICAgWzQwLjc1NzUxMTEzODksLTczLjk3NDc3NzIyMTddLAogICAgICAgICAgICAgICAgewogICAgICAgICAgICAgICAgICAgIGljb246IG5ldyBMLkljb24uRGVmYXVsdCgpCiAgICAgICAgICAgICAgICAgICAgfQogICAgICAgICAgICAgICAgKQogICAgICAgICAgICAgICAgLmFkZFRvKG1hcF9mNGZlN2NiN2RjZGU0ZGVlYWI5YzE5ZmI3ZmYwNjVkYSk7CiAgICAgICAgICAgIAogICAgCgogICAgICAgICAgICB2YXIgbWFya2VyXzk4ODhkNDhkMzUzMzRhYzdiYjQwNDZlYWM1YmEyZjE2ID0gTC5tYXJrZXIoCiAgICAgICAgICAgICAgICBbNDAuNzMxNTEwMTYyNCwtNzMuOTg4NDg3MjQzN10sCiAgICAgICAgICAgICAgICB7CiAgICAgICAgICAgICAgICAgICAgaWNvbjogbmV3IEwuSWNvbi5EZWZhdWx0KCkKICAgICAgICAgICAgICAgICAgICB9CiAgICAgICAgICAgICAgICApCiAgICAgICAgICAgICAgICAuYWRkVG8obWFwX2Y0ZmU3Y2I3ZGNkZTRkZWVhYjljMTlmYjdmZjA2NWRhKTsKICAgICAgICAgICAgCiAgICAKCiAgICAgICAgICAgIHZhciBtYXJrZXJfZmRmN2Q4ODY5OGI2NDQ4YTllNDcxYmQ1MjExYjdkNTQgPSBMLm1hcmtlcigKICAgICAgICAgICAgICAgIFs0MC43MjIwMDAxMjIxLC03My45ODUyNTIzODA0XSwKICAgICAgICAgICAgICAgIHsKICAgICAgICAgICAgICAgICAgICBpY29uOiBuZXcgTC5JY29uLkRlZmF1bHQoKQogICAgICAgICAgICAgICAgICAgIH0KICAgICAgICAgICAgICAgICkKICAgICAgICAgICAgICAgIC5hZGRUbyhtYXBfZjRmZTdjYjdkY2RlNGRlZWFiOWMxOWZiN2ZmMDY1ZGEpOwogICAgICAgICAgICAKICAgIAoKICAgICAgICAgICAgdmFyIG1hcmtlcl81NDlkYjVhZWYwYjc0OTJiODZmMDJmMjFhYzQyYTFiYSA9IEwubWFya2VyKAogICAgICAgICAgICAgICAgWzQwLjczMTg2ODc0MzksLTc0LjAwMDg3NzM4MDRdLAogICAgICAgICAgICAgICAgewogICAgICAgICAgICAgICAgICAgIGljb246IG5ldyBMLkljb24uRGVmYXVsdCgpCiAgICAgICAgICAgICAgICAgICAgfQogICAgICAgICAgICAgICAgKQogICAgICAgICAgICAgICAgLmFkZFRvKG1hcF9mNGZlN2NiN2RjZGU0ZGVlYWI5YzE5ZmI3ZmYwNjVkYSk7CiAgICAgICAgICAgIAogICAgCgogICAgICAgICAgICB2YXIgbWFya2VyXzFiMWRjNjcwODNjYTRmNDM4NjkzMDlmZDVjYmE3MGY5ID0gTC5tYXJrZXIoCiAgICAgICAgICAgICAgICBbNDAuNzM2NTc5ODk1LC03My45OTA4MzcwOTcyXSwKICAgICAgICAgICAgICAgIHsKICAgICAgICAgICAgICAgICAgICBpY29uOiBuZXcgTC5JY29uLkRlZmF1bHQoKQogICAgICAgICAgICAgICAgICAgIH0KICAgICAgICAgICAgICAgICkKICAgICAgICAgICAgICAgIC5hZGRUbyhtYXBfZjRmZTdjYjdkY2RlNGRlZWFiOWMxOWZiN2ZmMDY1ZGEpOwogICAgICAgICAgICAKICAgIAoKICAgICAgICAgICAgdmFyIG1hcmtlcl8xNDU2MmQwZDY3MWQ0NzIzOGVhMmQxYzRiNmJiMzU4OCA9IEwubWFya2VyKAogICAgICAgICAgICAgICAgWzQwLjczMDQ5MTYzODIsLTczLjk5MjQ2OTc4NzZdLAogICAgICAgICAgICAgICAgewogICAgICAgICAgICAgICAgICAgIGljb246IG5ldyBMLkljb24uRGVmYXVsdCgpCiAgICAgICAgICAgICAgICAgICAgfQogICAgICAgICAgICAgICAgKQogICAgICAgICAgICAgICAgLmFkZFRvKG1hcF9mNGZlN2NiN2RjZGU0ZGVlYWI5YzE5ZmI3ZmYwNjVkYSk7CiAgICAgICAgICAgIAogICAgCgogICAgICAgICAgICB2YXIgbWFya2VyX2QyZDRhYmU5NjhjYjRkYTlhNjIxMjUxYzJiZjgzOTE0ID0gTC5tYXJrZXIoCiAgICAgICAgICAgICAgICBbNDAuNzQ2NDAyNzQwNSwtNzMuOTkwMjcyNTIyXSwKICAgICAgICAgICAgICAgIHsKICAgICAgICAgICAgICAgICAgICBpY29uOiBuZXcgTC5JY29uLkRlZmF1bHQoKQogICAgICAgICAgICAgICAgICAgIH0KICAgICAgICAgICAgICAgICkKICAgICAgICAgICAgICAgIC5hZGRUbyhtYXBfZjRmZTdjYjdkY2RlNGRlZWFiOWMxOWZiN2ZmMDY1ZGEpOwogICAgICAgICAgICAKICAgIAoKICAgICAgICAgICAgdmFyIG1hcmtlcl85MjYyYTE3MTBlMjU0ZWIxYTI0YTVkZTIzYTQ2MjYwNyA9IEwubWFya2VyKAogICAgICAgICAgICAgICAgWzQwLjczMzM0NTAzMTcsLTczLjk5NTY3NDEzMzNdLAogICAgICAgICAgICAgICAgewogICAgICAgICAgICAgICAgICAgIGljb246IG5ldyBMLkljb24uRGVmYXVsdCgpCiAgICAgICAgICAgICAgICAgICAgfQogICAgICAgICAgICAgICAgKQogICAgICAgICAgICAgICAgLmFkZFRvKG1hcF9mNGZlN2NiN2RjZGU0ZGVlYWI5YzE5ZmI3ZmYwNjVkYSk7CiAgICAgICAgICAgIAogICAgCgogICAgICAgICAgICB2YXIgbWFya2VyXzVjN2NjNmVmMTgwYjQzNjNiMGIwM2UzN2Y3NmU1ZmY5ID0gTC5tYXJrZXIoCiAgICAgICAgICAgICAgICBbNDAuNzY1MzMxMjY4MywtNzMuOTY4MDMyODM2OV0sCiAgICAgICAgICAgICAgICB7CiAgICAgICAgICAgICAgICAgICAgaWNvbjogbmV3IEwuSWNvbi5EZWZhdWx0KCkKICAgICAgICAgICAgICAgICAgICB9CiAgICAgICAgICAgICAgICApCiAgICAgICAgICAgICAgICAuYWRkVG8obWFwX2Y0ZmU3Y2I3ZGNkZTRkZWVhYjljMTlmYjdmZjA2NWRhKTsKICAgICAgICAgICAgCiAgICAKCiAgICAgICAgICAgIHZhciBtYXJrZXJfZDUxZmNlZjMzOGNjNGI5MGE3OTUyZmIxMTM4N2Q3NDQgPSBMLm1hcmtlcigKICAgICAgICAgICAgICAgIFs0MC43NjQ5MzgzNTQ1LC03My45ODMwNzAzNzM1XSwKICAgICAgICAgICAgICAgIHsKICAgICAgICAgICAgICAgICAgICBpY29uOiBuZXcgTC5JY29uLkRlZmF1bHQoKQogICAgICAgICAgICAgICAgICAgIH0KICAgICAgICAgICAgICAgICkKICAgICAgICAgICAgICAgIC5hZGRUbyhtYXBfZjRmZTdjYjdkY2RlNGRlZWFiOWMxOWZiN2ZmMDY1ZGEpOwogICAgICAgICAgICAKICAgIAoKICAgICAgICAgICAgdmFyIG1hcmtlcl9kZGVhNTE0MGM2Njg0N2RjOWJkMTNlNGE2ZWUwMzU0MyA9IEwubWFya2VyKAogICAgICAgICAgICAgICAgWzQwLjc0NjIwMDU2MTUsLTc0LjAwMTAyMjMzODldLAogICAgICAgICAgICAgICAgewogICAgICAgICAgICAgICAgICAgIGljb246IG5ldyBMLkljb24uRGVmYXVsdCgpCiAgICAgICAgICAgICAgICAgICAgfQogICAgICAgICAgICAgICAgKQogICAgICAgICAgICAgICAgLmFkZFRvKG1hcF9mNGZlN2NiN2RjZGU0ZGVlYWI5YzE5ZmI3ZmYwNjVkYSk7CiAgICAgICAgICAgIAogICAgCgogICAgICAgICAgICB2YXIgbWFya2VyXzdmYzFlMjU2ZTJhYzQ1MDk4MWQ5YjFhN2ZlMzBjNDdkID0gTC5tYXJrZXIoCiAgICAgICAgICAgICAgICBbNDAuNzU3NTQ5Mjg1OSwtNzMuOTc1NDcxNDk2Nl0sCiAgICAgICAgICAgICAgICB7CiAgICAgICAgICAgICAgICAgICAgaWNvbjogbmV3IEwuSWNvbi5EZWZhdWx0KCkKICAgICAgICAgICAgICAgICAgICB9CiAgICAgICAgICAgICAgICApCiAgICAgICAgICAgICAgICAuYWRkVG8obWFwX2Y0ZmU3Y2I3ZGNkZTRkZWVhYjljMTlmYjdmZjA2NWRhKTsKICAgICAgICAgICAgCiAgICAKCiAgICAgICAgICAgIHZhciBtYXJrZXJfYWY2NTJiZDAwMTMxNGUzMTk3YTRlNmQyMGZhMjA4YzEgPSBMLm1hcmtlcigKICAgICAgICAgICAgICAgIFs0MC43Nzg1MTg2NzY4LC03My45NDU1ODcxNTgyXSwKICAgICAgICAgICAgICAgIHsKICAgICAgICAgICAgICAgICAgICBpY29uOiBuZXcgTC5JY29uLkRlZmF1bHQoKQogICAgICAgICAgICAgICAgICAgIH0KICAgICAgICAgICAgICAgICkKICAgICAgICAgICAgICAgIC5hZGRUbyhtYXBfZjRmZTdjYjdkY2RlNGRlZWFiOWMxOWZiN2ZmMDY1ZGEpOwogICAgICAgICAgICAKICAgIAoKICAgICAgICAgICAgdmFyIG1hcmtlcl84YWZiYmYxYjlkOTg0ZWM4YjEyMGZlMzg4YzZkZGRlNiA9IEwubWFya2VyKAogICAgICAgICAgICAgICAgWzQwLjc2Mzc4NjMxNTksLTczLjk2OTEyMzg0MDNdLAogICAgICAgICAgICAgICAgewogICAgICAgICAgICAgICAgICAgIGljb246IG5ldyBMLkljb24uRGVmYXVsdCgpCiAgICAgICAgICAgICAgICAgICAgfQogICAgICAgICAgICAgICAgKQogICAgICAgICAgICAgICAgLmFkZFRvKG1hcF9mNGZlN2NiN2RjZGU0ZGVlYWI5YzE5ZmI3ZmYwNjVkYSk7CiAgICAgICAgICAgIAogICAgCgogICAgICAgICAgICB2YXIgbWFya2VyXzlkY2RlMGZkYWM4MDQ3YjdhNmZiMmViODZkNzgxYjBiID0gTC5tYXJrZXIoCiAgICAgICAgICAgICAgICBbNDAuNzYxMjE5MDI0NywtNzMuOTc3NzI5Nzk3NF0sCiAgICAgICAgICAgICAgICB7CiAgICAgICAgICAgICAgICAgICAgaWNvbjogbmV3IEwuSWNvbi5EZWZhdWx0KCkKICAgICAgICAgICAgICAgICAgICB9CiAgICAgICAgICAgICAgICApCiAgICAgICAgICAgICAgICAuYWRkVG8obWFwX2Y0ZmU3Y2I3ZGNkZTRkZWVhYjljMTlmYjdmZjA2NWRhKTsKICAgICAgICAgICAgCiAgICAKCiAgICAgICAgICAgIHZhciBtYXJrZXJfNjAxNjliMGIxZGIwNGZmZGI4NzFkZDk4NzNkMzA3MWQgPSBMLm1hcmtlcigKICAgICAgICAgICAgICAgIFs0MC43NDk0NTA2ODM2LC03My45OTIzNDc3MTczXSwKICAgICAgICAgICAgICAgIHsKICAgICAgICAgICAgICAgICAgICBpY29uOiBuZXcgTC5JY29uLkRlZmF1bHQoKQogICAgICAgICAgICAgICAgICAgIH0KICAgICAgICAgICAgICAgICkKICAgICAgICAgICAgICAgIC5hZGRUbyhtYXBfZjRmZTdjYjdkY2RlNGRlZWFiOWMxOWZiN2ZmMDY1ZGEpOwogICAgICAgICAgICAKICAgIAoKICAgICAgICAgICAgdmFyIG1hcmtlcl8yZTFmNjQ1OTY2ZTU0MzlmYjU3ODBiZTk4YjQ2OTRhMyA9IEwubWFya2VyKAogICAgICAgICAgICAgICAgWzQwLjc1OTg2MDk5MjQsLTczLjk4Nzc2MjQ1MTJdLAogICAgICAgICAgICAgICAgewogICAgICAgICAgICAgICAgICAgIGljb246IG5ldyBMLkljb24uRGVmYXVsdCgpCiAgICAgICAgICAgICAgICAgICAgfQogICAgICAgICAgICAgICAgKQogICAgICAgICAgICAgICAgLmFkZFRvKG1hcF9mNGZlN2NiN2RjZGU0ZGVlYWI5YzE5ZmI3ZmYwNjVkYSk7CiAgICAgICAgICAgIAogICAgCgogICAgICAgICAgICB2YXIgbWFya2VyXzUzOWQ1NTFlNTJiYTRlYmNiNjI1ZGNhYWRhMDIzNTVjID0gTC5tYXJrZXIoCiAgICAgICAgICAgICAgICBbNDAuNzcyMzAwNzIwMiwtNzMuOTY3Mjc3NTI2OV0sCiAgICAgICAgICAgICAgICB7CiAgICAgICAgICAgICAgICAgICAgaWNvbjogbmV3IEwuSWNvbi5EZWZhdWx0KCkKICAgICAgICAgICAgICAgICAgICB9CiAgICAgICAgICAgICAgICApCiAgICAgICAgICAgICAgICAuYWRkVG8obWFwX2Y0ZmU3Y2I3ZGNkZTRkZWVhYjljMTlmYjdmZjA2NWRhKTsKICAgICAgICAgICAgCiAgICAKCiAgICAgICAgICAgIHZhciBtYXJrZXJfZGI5ZjI4ZTI3NTg4NDI5NTljY2E0YWM4ZjE3MDYxMmUgPSBMLm1hcmtlcigKICAgICAgICAgICAgICAgIFs0MC43NTQ1MDg5NzIyLC03My45Nzk3MzYzMjgxXSwKICAgICAgICAgICAgICAgIHsKICAgICAgICAgICAgICAgICAgICBpY29uOiBuZXcgTC5JY29uLkRlZmF1bHQoKQogICAgICAgICAgICAgICAgICAgIH0KICAgICAgICAgICAgICAgICkKICAgICAgICAgICAgICAgIC5hZGRUbyhtYXBfZjRmZTdjYjdkY2RlNGRlZWFiOWMxOWZiN2ZmMDY1ZGEpOwogICAgICAgICAgICAKICAgIAoKICAgICAgICAgICAgdmFyIG1hcmtlcl8zYjVlY2FiY2MwMTA0MWYyODczMmI5MjMzZGY0MTAxMCA9IEwubWFya2VyKAogICAgICAgICAgICAgICAgWzQwLjc0OTgzNTk2OCwtNzMuOTQxMjM4NDAzM10sCiAgICAgICAgICAgICAgICB7CiAgICAgICAgICAgICAgICAgICAgaWNvbjogbmV3IEwuSWNvbi5EZWZhdWx0KCkKICAgICAgICAgICAgICAgICAgICB9CiAgICAgICAgICAgICAgICApCiAgICAgICAgICAgICAgICAuYWRkVG8obWFwX2Y0ZmU3Y2I3ZGNkZTRkZWVhYjljMTlmYjdmZjA2NWRhKTsKICAgICAgICAgICAgCiAgICAKCiAgICAgICAgICAgIHZhciBtYXJrZXJfNzAyNDQ3Y2I5Y2FhNDg1ODgwZGM5YjMxYjE4MGY0NzAgPSBMLm1hcmtlcigKICAgICAgICAgICAgICAgIFs0MC43MDE0NTAzNDc5LC03My44MDc5ODMzOTg0XSwKICAgICAgICAgICAgICAgIHsKICAgICAgICAgICAgICAgICAgICBpY29uOiBuZXcgTC5JY29uLkRlZmF1bHQoKQogICAgICAgICAgICAgICAgICAgIH0KICAgICAgICAgICAgICAgICkKICAgICAgICAgICAgICAgIC5hZGRUbyhtYXBfZjRmZTdjYjdkY2RlNGRlZWFiOWMxOWZiN2ZmMDY1ZGEpOwogICAgICAgICAgICAKICAgIAoKICAgICAgICAgICAgdmFyIG1hcmtlcl84YTEwOWU4Y2ZkZTI0MWRkYTZkNDcwYmIyNjBkYmE5YiA9IEwubWFya2VyKAogICAgICAgICAgICAgICAgWzQwLjczODU0ODI3ODgsLTczLjk4NzgyMzQ4NjNdLAogICAgICAgICAgICAgICAgewogICAgICAgICAgICAgICAgICAgIGljb246IG5ldyBMLkljb24uRGVmYXVsdCgpCiAgICAgICAgICAgICAgICAgICAgfQogICAgICAgICAgICAgICAgKQogICAgICAgICAgICAgICAgLmFkZFRvKG1hcF9mNGZlN2NiN2RjZGU0ZGVlYWI5YzE5ZmI3ZmYwNjVkYSk7CiAgICAgICAgICAgIAogICAgCgogICAgICAgICAgICB2YXIgbWFya2VyX2ZhNmU1YWFlNjk1NTQ0NDFhOGE4MGFlMzIyMmQzOTY4ID0gTC5tYXJrZXIoCiAgICAgICAgICAgICAgICBbNDAuNzUyNTIxNTE0OSwtNzMuOTg0MTIzMjNdLAogICAgICAgICAgICAgICAgewogICAgICAgICAgICAgICAgICAgIGljb246IG5ldyBMLkljb24uRGVmYXVsdCgpCiAgICAgICAgICAgICAgICAgICAgfQogICAgICAgICAgICAgICAgKQogICAgICAgICAgICAgICAgLmFkZFRvKG1hcF9mNGZlN2NiN2RjZGU0ZGVlYWI5YzE5ZmI3ZmYwNjVkYSk7CiAgICAgICAgICAgIAogICAgCgogICAgICAgICAgICB2YXIgbWFya2VyXzZiMTIzMjJhOGVlMTRkODlhNTlkNWMwM2Q4MDY3YjYwID0gTC5tYXJrZXIoCiAgICAgICAgICAgICAgICBbNDAuNzY1MTg2MzA5OCwtNzMuOTYzMDgxMzU5OV0sCiAgICAgICAgICAgICAgICB7CiAgICAgICAgICAgICAgICAgICAgaWNvbjogbmV3IEwuSWNvbi5EZWZhdWx0KCkKICAgICAgICAgICAgICAgICAgICB9CiAgICAgICAgICAgICAgICApCiAgICAgICAgICAgICAgICAuYWRkVG8obWFwX2Y0ZmU3Y2I3ZGNkZTRkZWVhYjljMTlmYjdmZjA2NWRhKTsKICAgICAgICAgICAgCiAgICAKCiAgICAgICAgICAgIHZhciBtYXJrZXJfZjAzOWE4MWJkZGE4NDNmZWJhNjAxZjIzNzEyNzU0M2IgPSBMLm1hcmtlcigKICAgICAgICAgICAgICAgIFs0MC43NDYxNzc2NzMzLC03My45NzE1MTk0NzAyXSwKICAgICAgICAgICAgICAgIHsKICAgICAgICAgICAgICAgICAgICBpY29uOiBuZXcgTC5JY29uLkRlZmF1bHQoKQogICAgICAgICAgICAgICAgICAgIH0KICAgICAgICAgICAgICAgICkKICAgICAgICAgICAgICAgIC5hZGRUbyhtYXBfZjRmZTdjYjdkY2RlNGRlZWFiOWMxOWZiN2ZmMDY1ZGEpOwogICAgICAgICAgICAKICAgIAoKICAgICAgICAgICAgdmFyIG1hcmtlcl83OTQwNmM4Y2EzZGY0YmEwOTk0ODIwOGQ3MWE3MjU1NiA9IEwubWFya2VyKAogICAgICAgICAgICAgICAgWzQwLjc5MTQyMzc5NzYsLTczLjk3MjI4MjQwOTddLAogICAgICAgICAgICAgICAgewogICAgICAgICAgICAgICAgICAgIGljb246IG5ldyBMLkljb24uRGVmYXVsdCgpCiAgICAgICAgICAgICAgICAgICAgfQogICAgICAgICAgICAgICAgKQogICAgICAgICAgICAgICAgLmFkZFRvKG1hcF9mNGZlN2NiN2RjZGU0ZGVlYWI5YzE5ZmI3ZmYwNjVkYSk7CiAgICAgICAgICAgIAogICAgCgogICAgICAgICAgICB2YXIgbWFya2VyXzM5YTE4OThmMmZhZjRmMmQ4NmI1ZjA5ZDNjOGZhYWYyID0gTC5tYXJrZXIoCiAgICAgICAgICAgICAgICBbNDAuNzc4MDQ1NjU0MywtNzMuOTU2NDI4NTI3OF0sCiAgICAgICAgICAgICAgICB7CiAgICAgICAgICAgICAgICAgICAgaWNvbjogbmV3IEwuSWNvbi5EZWZhdWx0KCkKICAgICAgICAgICAgICAgICAgICB9CiAgICAgICAgICAgICAgICApCiAgICAgICAgICAgICAgICAuYWRkVG8obWFwX2Y0ZmU3Y2I3ZGNkZTRkZWVhYjljMTlmYjdmZjA2NWRhKTsKICAgICAgICAgICAgCiAgICAKCiAgICAgICAgICAgIHZhciBtYXJrZXJfZWQ2NGQxYjBmZjgwNDk2ODlkMDQ2Y2I5N2FkM2M2YzYgPSBMLm1hcmtlcigKICAgICAgICAgICAgICAgIFs0MC43MzQxOTE4OTQ1LC03NC4wMDYyMDI2OTc4XSwKICAgICAgICAgICAgICAgIHsKICAgICAgICAgICAgICAgICAgICBpY29uOiBuZXcgTC5JY29uLkRlZmF1bHQoKQogICAgICAgICAgICAgICAgICAgIH0KICAgICAgICAgICAgICAgICkKICAgICAgICAgICAgICAgIC5hZGRUbyhtYXBfZjRmZTdjYjdkY2RlNGRlZWFiOWMxOWZiN2ZmMDY1ZGEpOwogICAgICAgICAgICAKICAgIAoKICAgICAgICAgICAgdmFyIG1hcmtlcl9lZTk0MTFjOTU0ZGI0MTY5OWM1MDdlOTZkODk0MzAzYiA9IEwubWFya2VyKAogICAgICAgICAgICAgICAgWzQwLjc4NzU4MjM5NzUsLTczLjk3ODc1OTc2NTZdLAogICAgICAgICAgICAgICAgewogICAgICAgICAgICAgICAgICAgIGljb246IG5ldyBMLkljb24uRGVmYXVsdCgpCiAgICAgICAgICAgICAgICAgICAgfQogICAgICAgICAgICAgICAgKQogICAgICAgICAgICAgICAgLmFkZFRvKG1hcF9mNGZlN2NiN2RjZGU0ZGVlYWI5YzE5ZmI3ZmYwNjVkYSk7CiAgICAgICAgICAgIAogICAgCgogICAgICAgICAgICB2YXIgbWFya2VyX2FmYzFlODJmNTJjMjQ1YjE4OTcwMTg1NmYwNjgyMmY4ID0gTC5tYXJrZXIoCiAgICAgICAgICAgICAgICBbNDAuNzU5NjgxNzAxNywtNzMuOTg4MTI4NjYyMV0sCiAgICAgICAgICAgICAgICB7CiAgICAgICAgICAgICAgICAgICAgaWNvbjogbmV3IEwuSWNvbi5EZWZhdWx0KCkKICAgICAgICAgICAgICAgICAgICB9CiAgICAgICAgICAgICAgICApCiAgICAgICAgICAgICAgICAuYWRkVG8obWFwX2Y0ZmU3Y2I3ZGNkZTRkZWVhYjljMTlmYjdmZjA2NWRhKTsKICAgICAgICAgICAgCiAgICAKCiAgICAgICAgICAgIHZhciBtYXJrZXJfZWNjODllNGY4MzAyNDMxOTliZTc3YWE2Yjc4MDk0N2IgPSBMLm1hcmtlcigKICAgICAgICAgICAgICAgIFs0MC43NjkxMzQ1MjE1LC03My45NjUyMDk5NjA5XSwKICAgICAgICAgICAgICAgIHsKICAgICAgICAgICAgICAgICAgICBpY29uOiBuZXcgTC5JY29uLkRlZmF1bHQoKQogICAgICAgICAgICAgICAgICAgIH0KICAgICAgICAgICAgICAgICkKICAgICAgICAgICAgICAgIC5hZGRUbyhtYXBfZjRmZTdjYjdkY2RlNGRlZWFiOWMxOWZiN2ZmMDY1ZGEpOwogICAgICAgICAgICAKICAgIAoKICAgICAgICAgICAgdmFyIG1hcmtlcl8wNGZjYTg4YWU5Njk0YmFiYTRmNWYwYjFhYTUwZDNiNSA9IEwubWFya2VyKAogICAgICAgICAgICAgICAgWzQwLjc0MjA3MzA1OTEsLTczLjk5MzI2MzI0NDZdLAogICAgICAgICAgICAgICAgewogICAgICAgICAgICAgICAgICAgIGljb246IG5ldyBMLkljb24uRGVmYXVsdCgpCiAgICAgICAgICAgICAgICAgICAgfQogICAgICAgICAgICAgICAgKQogICAgICAgICAgICAgICAgLmFkZFRvKG1hcF9mNGZlN2NiN2RjZGU0ZGVlYWI5YzE5ZmI3ZmYwNjVkYSk7CiAgICAgICAgICAgIAogICAgCgogICAgICAgICAgICB2YXIgbWFya2VyXzhjMjdhNjk5MDMyNDRmOTg4YjQ2NWU0YjIyOWE1ZTI2ID0gTC5tYXJrZXIoCiAgICAgICAgICAgICAgICBbNDAuNzUxNDM4MTQwOSwtNzMuOTcxNzg2NDk5XSwKICAgICAgICAgICAgICAgIHsKICAgICAgICAgICAgICAgICAgICBpY29uOiBuZXcgTC5JY29uLkRlZmF1bHQoKQogICAgICAgICAgICAgICAgICAgIH0KICAgICAgICAgICAgICAgICkKICAgICAgICAgICAgICAgIC5hZGRUbyhtYXBfZjRmZTdjYjdkY2RlNGRlZWFiOWMxOWZiN2ZmMDY1ZGEpOwogICAgICAgICAgICAKICAgIAoKICAgICAgICAgICAgdmFyIG1hcmtlcl8wNzAxMzM0MjA0YTk0NTU4YTRlMTBiNTM5ODc5NWRiNSA9IEwubWFya2VyKAogICAgICAgICAgICAgICAgWzQwLjc2NzQyNTUzNzEsLTczLjk4MDU5ODQ0OTddLAogICAgICAgICAgICAgICAgewogICAgICAgICAgICAgICAgICAgIGljb246IG5ldyBMLkljb24uRGVmYXVsdCgpCiAgICAgICAgICAgICAgICAgICAgfQogICAgICAgICAgICAgICAgKQogICAgICAgICAgICAgICAgLmFkZFRvKG1hcF9mNGZlN2NiN2RjZGU0ZGVlYWI5YzE5ZmI3ZmYwNjVkYSk7CiAgICAgICAgICAgIAogICAgCgogICAgICAgICAgICB2YXIgbWFya2VyXzhmZTA2OTJiZTlmNDQ1ZTg5MDAzZTlmMzk5Y2JlMzZiID0gTC5tYXJrZXIoCiAgICAgICAgICAgICAgICBbNDAuNzY0NzU5MDYzNywtNzMuOTY4MTQ3Mjc3OF0sCiAgICAgICAgICAgICAgICB7CiAgICAgICAgICAgICAgICAgICAgaWNvbjogbmV3IEwuSWNvbi5EZWZhdWx0KCkKICAgICAgICAgICAgICAgICAgICB9CiAgICAgICAgICAgICAgICApCiAgICAgICAgICAgICAgICAuYWRkVG8obWFwX2Y0ZmU3Y2I3ZGNkZTRkZWVhYjljMTlmYjdmZjA2NWRhKTsKICAgICAgICAgICAgCiAgICAKCiAgICAgICAgICAgIHZhciBtYXJrZXJfNjJjYjFjZTU5MTg1NDMyOWJlMmI3YmUzYzg0MTVmZmQgPSBMLm1hcmtlcigKICAgICAgICAgICAgICAgIFs0MC43NDU5MTA2NDQ1LC03My45ODg0ODcyNDM3XSwKICAgICAgICAgICAgICAgIHsKICAgICAgICAgICAgICAgICAgICBpY29uOiBuZXcgTC5JY29uLkRlZmF1bHQoKQogICAgICAgICAgICAgICAgICAgIH0KICAgICAgICAgICAgICAgICkKICAgICAgICAgICAgICAgIC5hZGRUbyhtYXBfZjRmZTdjYjdkY2RlNGRlZWFiOWMxOWZiN2ZmMDY1ZGEpOwogICAgICAgICAgICAKICAgIAoKICAgICAgICAgICAgdmFyIG1hcmtlcl9kZTRkZTliMDAzOTQ0YjBhODE2MDFmNWU3YTRiZmJiOCA9IEwubWFya2VyKAogICAgICAgICAgICAgICAgWzQwLjc1MzIxOTYwNDUsLTczLjk3Nzk5NjgyNjJdLAogICAgICAgICAgICAgICAgewogICAgICAgICAgICAgICAgICAgIGljb246IG5ldyBMLkljb24uRGVmYXVsdCgpCiAgICAgICAgICAgICAgICAgICAgfQogICAgICAgICAgICAgICAgKQogICAgICAgICAgICAgICAgLmFkZFRvKG1hcF9mNGZlN2NiN2RjZGU0ZGVlYWI5YzE5ZmI3ZmYwNjVkYSk7CiAgICAgICAgICAgIAogICAgCgogICAgICAgICAgICB2YXIgbWFya2VyX2M2NGQ1MDYxMWQ2NTQ4YjU4MGNkMTcyODczMmM0ZGYzID0gTC5tYXJrZXIoCiAgICAgICAgICAgICAgICBbNDAuNzcyOTg3MzY1NywtNzMuOTc4NDMxNzAxN10sCiAgICAgICAgICAgICAgICB7CiAgICAgICAgICAgICAgICAgICAgaWNvbjogbmV3IEwuSWNvbi5EZWZhdWx0KCkKICAgICAgICAgICAgICAgICAgICB9CiAgICAgICAgICAgICAgICApCiAgICAgICAgICAgICAgICAuYWRkVG8obWFwX2Y0ZmU3Y2I3ZGNkZTRkZWVhYjljMTlmYjdmZjA2NWRhKTsKICAgICAgICAgICAgCiAgICAKCiAgICAgICAgICAgIHZhciBtYXJrZXJfNTdkYTAyNjY0MWVjNGVlNGJjMmVkNmQwOWU2OWU0NzAgPSBMLm1hcmtlcigKICAgICAgICAgICAgICAgIFs0MC43NjIwNTA2Mjg3LC03My45NzQxMjEwOTM4XSwKICAgICAgICAgICAgICAgIHsKICAgICAgICAgICAgICAgICAgICBpY29uOiBuZXcgTC5JY29uLkRlZmF1bHQoKQogICAgICAgICAgICAgICAgICAgIH0KICAgICAgICAgICAgICAgICkKICAgICAgICAgICAgICAgIC5hZGRUbyhtYXBfZjRmZTdjYjdkY2RlNGRlZWFiOWMxOWZiN2ZmMDY1ZGEpOwogICAgICAgICAgICAKICAgIAoKICAgICAgICAgICAgdmFyIG1hcmtlcl8yYmU2NmJlYjUyZDM0OTVmYjdjNjk1NTlhNDk4YjI0ZSA9IEwubWFya2VyKAogICAgICAgICAgICAgICAgWzQwLjc4NTc3NDIzMSwtNzMuOTc4NjIyNDM2NV0sCiAgICAgICAgICAgICAgICB7CiAgICAgICAgICAgICAgICAgICAgaWNvbjogbmV3IEwuSWNvbi5EZWZhdWx0KCkKICAgICAgICAgICAgICAgICAgICB9CiAgICAgICAgICAgICAgICApCiAgICAgICAgICAgICAgICAuYWRkVG8obWFwX2Y0ZmU3Y2I3ZGNkZTRkZWVhYjljMTlmYjdmZjA2NWRhKTsKICAgICAgICAgICAgCiAgICAKCiAgICAgICAgICAgIHZhciBtYXJrZXJfY2E1NmQ3OGQwNjc3NGZmNmI3MjNiZTQ1ZDBlNDE1NWEgPSBMLm1hcmtlcigKICAgICAgICAgICAgICAgIFs0MC43NjU5MTExMDIzLC03My45ODExMDE5ODk3XSwKICAgICAgICAgICAgICAgIHsKICAgICAgICAgICAgICAgICAgICBpY29uOiBuZXcgTC5JY29uLkRlZmF1bHQoKQogICAgICAgICAgICAgICAgICAgIH0KICAgICAgICAgICAgICAgICkKICAgICAgICAgICAgICAgIC5hZGRUbyhtYXBfZjRmZTdjYjdkY2RlNGRlZWFiOWMxOWZiN2ZmMDY1ZGEpOwogICAgICAgICAgICAKICAgIAoKICAgICAgICAgICAgdmFyIG1hcmtlcl8xYTAzOWYzMWMyNTA0NTkxOTliZmZlZDEyN2Y3OTIwYiA9IEwubWFya2VyKAogICAgICAgICAgICAgICAgWzQwLjc2ODM3NTM5NjcsLTczLjk1NTg0MTA2NDVdLAogICAgICAgICAgICAgICAgewogICAgICAgICAgICAgICAgICAgIGljb246IG5ldyBMLkljb24uRGVmYXVsdCgpCiAgICAgICAgICAgICAgICAgICAgfQogICAgICAgICAgICAgICAgKQogICAgICAgICAgICAgICAgLmFkZFRvKG1hcF9mNGZlN2NiN2RjZGU0ZGVlYWI5YzE5ZmI3ZmYwNjVkYSk7CiAgICAgICAgICAgIAogICAgCgogICAgICAgICAgICB2YXIgbWFya2VyXzc5YmQ3MzUzNzFlZDQwNTE5NzZmYTg4YjhkODcyMjNlID0gTC5tYXJrZXIoCiAgICAgICAgICAgICAgICBbNDAuNzczMTcwNDcxMiwtNzMuOTUyMDQ5MjU1NF0sCiAgICAgICAgICAgICAgICB7CiAgICAgICAgICAgICAgICAgICAgaWNvbjogbmV3IEwuSWNvbi5EZWZhdWx0KCkKICAgICAgICAgICAgICAgICAgICB9CiAgICAgICAgICAgICAgICApCiAgICAgICAgICAgICAgICAuYWRkVG8obWFwX2Y0ZmU3Y2I3ZGNkZTRkZWVhYjljMTlmYjdmZjA2NWRhKTsKICAgICAgICAgICAgCjwvc2NyaXB0Pg==\" style=\"position:absolute;width:100%;height:100%;left:0;top:0;border:none !important;\" allowfullscreen webkitallowfullscreen mozallowfullscreen></iframe></div></div>"
      ],
      "text/plain": [
       "<div style=\"width:100%;\"><div style=\"position:relative;width:100%;height:0;padding-bottom:60%;\"><iframe src=\"data:text/html;charset=utf-8;base64,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\" style=\"position:absolute;width:100%;height:100%;left:0;top:0;border:none !important;\" allowfullscreen webkitallowfullscreen mozallowfullscreen></iframe></div></div>"
      ]
     },
     "execution_count": 101,
     "metadata": {},
     "output_type": "execute_result"
    }
   ],
   "source": [
    "osm = show_fmaps(train_data, path=1)\n",
    "osm"
   ]
  },
  {
   "cell_type": "markdown",
   "metadata": {},
   "source": [
    "## Findings :\n",
    "## 1. Clusters with more than 70k pickups are taken for plotting thismap, and they are covering about 80% of the rides\n",
    "## 2. This maps shows that most of the rides are started from manhattan."
   ]
  },
  {
   "cell_type": "code",
   "execution_count": 67,
   "metadata": {
    "collapsed": false
   },
   "outputs": [
    {
     "data": {
      "text/html": [
       "<div style=\"width:100%;\"><div style=\"position:relative;width:100%;height:0;padding-bottom:60%;\"><iframe src=\"data:text/html;charset=utf-8;base64,PCFET0NUWVBFIGh0bWw+CjxoZWFkPiAgICAKICAgIDxtZXRhIGh0dHAtZXF1aXY9ImNvbnRlbnQtdHlwZSIgY29udGVudD0idGV4dC9odG1sOyBjaGFyc2V0PVVURi04IiAvPgogICAgPHNjcmlwdD5MX1BSRUZFUl9DQU5WQVMgPSBmYWxzZTsgTF9OT19UT1VDSCA9IGZhbHNlOyBMX0RJU0FCTEVfM0QgPSBmYWxzZTs8L3NjcmlwdD4KICAgIDxzY3JpcHQgc3JjPSJodHRwczovL2Nkbi5qc2RlbGl2ci5uZXQvbnBtL2xlYWZsZXRAMS4yLjAvZGlzdC9sZWFmbGV0LmpzIj48L3NjcmlwdD4KICAgIDxzY3JpcHQgc3JjPSJodHRwczovL2FqYXguZ29vZ2xlYXBpcy5jb20vYWpheC9saWJzL2pxdWVyeS8xLjExLjEvanF1ZXJ5Lm1pbi5qcyI+PC9zY3JpcHQ+CiAgICA8c2NyaXB0IHNyYz0iaHR0cHM6Ly9tYXhjZG4uYm9vdHN0cmFwY2RuLmNvbS9ib290c3RyYXAvMy4yLjAvanMvYm9vdHN0cmFwLm1pbi5qcyI+PC9zY3JpcHQ+CiAgICA8c2NyaXB0IHNyYz0iaHR0cHM6Ly9jZG5qcy5jbG91ZGZsYXJlLmNvbS9hamF4L2xpYnMvTGVhZmxldC5hd2Vzb21lLW1hcmtlcnMvMi4wLjIvbGVhZmxldC5hd2Vzb21lLW1hcmtlcnMuanMiPjwvc2NyaXB0PgogICAgPGxpbmsgcmVsPSJzdHlsZXNoZWV0IiBocmVmPSJodHRwczovL2Nkbi5qc2RlbGl2ci5uZXQvbnBtL2xlYWZsZXRAMS4yLjAvZGlzdC9sZWFmbGV0LmNzcyIgLz4KICAgIDxsaW5rIHJlbD0ic3R5bGVzaGVldCIgaHJlZj0iaHR0cHM6Ly9tYXhjZG4uYm9vdHN0cmFwY2RuLmNvbS9ib290c3RyYXAvMy4yLjAvY3NzL2Jvb3RzdHJhcC5taW4uY3NzIiAvPgogICAgPGxpbmsgcmVsPSJzdHlsZXNoZWV0IiBocmVmPSJodHRwczovL21heGNkbi5ib290c3RyYXBjZG4uY29tL2Jvb3RzdHJhcC8zLjIuMC9jc3MvYm9vdHN0cmFwLXRoZW1lLm1pbi5jc3MiIC8+CiAgICA8bGluayByZWw9InN0eWxlc2hlZXQiIGhyZWY9Imh0dHBzOi8vbWF4Y2RuLmJvb3RzdHJhcGNkbi5jb20vZm9udC1hd2Vzb21lLzQuNi4zL2Nzcy9mb250LWF3ZXNvbWUubWluLmNzcyIgLz4KICAgIDxsaW5rIHJlbD0ic3R5bGVzaGVldCIgaHJlZj0iaHR0cHM6Ly9jZG5qcy5jbG91ZGZsYXJlLmNvbS9hamF4L2xpYnMvTGVhZmxldC5hd2Vzb21lLW1hcmtlcnMvMi4wLjIvbGVhZmxldC5hd2Vzb21lLW1hcmtlcnMuY3NzIiAvPgogICAgPGxpbmsgcmVsPSJzdHlsZXNoZWV0IiBocmVmPSJodHRwczovL3Jhd2dpdC5jb20vcHl0aG9uLXZpc3VhbGl6YXRpb24vZm9saXVtL21hc3Rlci9mb2xpdW0vdGVtcGxhdGVzL2xlYWZsZXQuYXdlc29tZS5yb3RhdGUuY3NzIiAvPgogICAgPHN0eWxlPmh0bWwsIGJvZHkge3dpZHRoOiAxMDAlO2hlaWdodDogMTAwJTttYXJnaW46IDA7cGFkZGluZzogMDt9PC9zdHlsZT4KICAgIDxzdHlsZT4jbWFwIHtwb3NpdGlvbjphYnNvbHV0ZTt0b3A6MDtib3R0b206MDtyaWdodDowO2xlZnQ6MDt9PC9zdHlsZT4KICAgIAogICAgICAgICAgICA8c3R5bGU+ICNtYXBfYzYwODljYjE1MDFhNDFkZDg1ZTYwODk5ZjNlZGVlODkgewogICAgICAgICAgICAgICAgcG9zaXRpb24gOiByZWxhdGl2ZTsKICAgICAgICAgICAgICAgIHdpZHRoIDogMTAwLjAlOwogICAgICAgICAgICAgICAgaGVpZ2h0OiAxMDAuMCU7CiAgICAgICAgICAgICAgICBsZWZ0OiAwLjAlOwogICAgICAgICAgICAgICAgdG9wOiAwLjAlOwogICAgICAgICAgICAgICAgfQogICAgICAgICAgICA8L3N0eWxlPgogICAgICAgIAo8L2hlYWQ+Cjxib2R5PiAgICAKICAgIAogICAgICAgICAgICA8ZGl2IGNsYXNzPSJmb2xpdW0tbWFwIiBpZD0ibWFwX2M2MDg5Y2IxNTAxYTQxZGQ4NWU2MDg5OWYzZWRlZTg5IiA+PC9kaXY+CiAgICAgICAgCjwvYm9keT4KPHNjcmlwdD4gICAgCiAgICAKCiAgICAgICAgICAgIAogICAgICAgICAgICAgICAgdmFyIGJvdW5kcyA9IG51bGw7CiAgICAgICAgICAgIAoKICAgICAgICAgICAgdmFyIG1hcF9jNjA4OWNiMTUwMWE0MWRkODVlNjA4OTlmM2VkZWU4OSA9IEwubWFwKAogICAgICAgICAgICAgICAgICAgICAgICAgICAgICAgICAgJ21hcF9jNjA4OWNiMTUwMWE0MWRkODVlNjA4OTlmM2VkZWU4OScsCiAgICAgICAgICAgICAgICAgICAgICAgICAgICAgICAgICB7Y2VudGVyOiBbNDAuNzY3OTM3LC03My45ODIxNTVdLAogICAgICAgICAgICAgICAgICAgICAgICAgICAgICAgICAgem9vbTogMy4yLAogICAgICAgICAgICAgICAgICAgICAgICAgICAgICAgICAgbWF4Qm91bmRzOiBib3VuZHMsCiAgICAgICAgICAgICAgICAgICAgICAgICAgICAgICAgICBsYXllcnM6IFtdLAogICAgICAgICAgICAgICAgICAgICAgICAgICAgICAgICAgd29ybGRDb3B5SnVtcDogZmFsc2UsCiAgICAgICAgICAgICAgICAgICAgICAgICAgICAgICAgICBjcnM6IEwuQ1JTLkVQU0czODU3CiAgICAgICAgICAgICAgICAgICAgICAgICAgICAgICAgIH0pOwogICAgICAgICAgICAKICAgICAgICAKICAgIAogICAgICAgICAgICB2YXIgdGlsZV9sYXllcl8xOWI0MGQ3NDg5ZmY0OGNmOGFmMTk3ZDJkYmFlMjRmNiA9IEwudGlsZUxheWVyKAogICAgICAgICAgICAgICAgJ2h0dHBzOi8vc3RhbWVuLXRpbGVzLXtzfS5hLnNzbC5mYXN0bHkubmV0L3RlcnJhaW4ve3p9L3t4fS97eX0uanBnJywKICAgICAgICAgICAgICAgIHsKICAiYXR0cmlidXRpb24iOiBudWxsLAogICJkZXRlY3RSZXRpbmEiOiBmYWxzZSwKICAibWF4Wm9vbSI6IDE4LAogICJtaW5ab29tIjogMSwKICAibm9XcmFwIjogZmFsc2UsCiAgInN1YmRvbWFpbnMiOiAiYWJjIgp9CiAgICAgICAgICAgICAgICApLmFkZFRvKG1hcF9jNjA4OWNiMTUwMWE0MWRkODVlNjA4OTlmM2VkZWU4OSk7CiAgICAgICAgCiAgICAKICAgICAgICAgICAgdmFyIGNpcmNsZV9tYXJrZXJfOTBmNmJmZDk0ZDkxNGI4Yjg0ODY3YWEzNjQ0ZGY3YTUgPSBMLmNpcmNsZU1hcmtlcigKICAgICAgICAgICAgICAgIFs0MC43Mjk3MjE5MjE4LC03My45ODc0MTcwNzY4XSwKICAgICAgICAgICAgICAgIHsKICAiYnViYmxpbmdNb3VzZUV2ZW50cyI6IHRydWUsCiAgImNvbG9yIjogIiNGMDgwODAiLAogICJkYXNoQXJyYXkiOiBudWxsLAogICJkYXNoT2Zmc2V0IjogbnVsbCwKICAiZmlsbCI6IGZhbHNlLAogICJmaWxsQ29sb3IiOiAiIzMxODZjYyIsCiAgImZpbGxPcGFjaXR5IjogMC4yLAogICJmaWxsUnVsZSI6ICJldmVub2RkIiwKICAibGluZUNhcCI6ICJyb3VuZCIsCiAgImxpbmVKb2luIjogInJvdW5kIiwKICAib3BhY2l0eSI6IDEuMCwKICAicmFkaXVzIjogMzAsCiAgInN0cm9rZSI6IHRydWUsCiAgIndlaWdodCI6IDMKfQogICAgICAgICAgICAgICAgKS5hZGRUbyhtYXBfYzYwODljYjE1MDFhNDFkZDg1ZTYwODk5ZjNlZGVlODkpOwogICAgICAgICAgICAKICAgIAogICAgICAgICAgICB2YXIgcG9wdXBfNThkYzQ5MDVhYTI1NDE3YjlkMWY1Y2I5ZDM2MWMzMGMgPSBMLnBvcHVwKHttYXhXaWR0aDogJzMwMCd9KTsKCiAgICAgICAgICAgIAogICAgICAgICAgICAgICAgdmFyIGh0bWxfNjRhNDkyZmZlNmYwNDFjZTg4Yzk1MjY3MzgxZDUyZjYgPSAkKCc8ZGl2IGlkPSJodG1sXzY0YTQ5MmZmZTZmMDQxY2U4OGM5NTI2NzM4MWQ1MmY2IiBzdHlsZT0id2lkdGg6IDEwMC4wJTsgaGVpZ2h0OiAxMDAuMCU7Ij5jbHVzdGVyID0gMCAmIG1vc3QgdmlzaXRlZCBjbHVzdGVyID0gMCAmIGF2ZyB0cmlwdGltZSBmcm9tIHRoaXMgY2x1c3RlciA9OTA4Ljg1MTkyODI3MTwvZGl2PicpWzBdOwogICAgICAgICAgICAgICAgcG9wdXBfNThkYzQ5MDVhYTI1NDE3YjlkMWY1Y2I5ZDM2MWMzMGMuc2V0Q29udGVudChodG1sXzY0YTQ5MmZmZTZmMDQxY2U4OGM5NTI2NzM4MWQ1MmY2KTsKICAgICAgICAgICAgCgogICAgICAgICAgICBjaXJjbGVfbWFya2VyXzkwZjZiZmQ5NGQ5MTRiOGI4NDg2N2FhMzY0NGRmN2E1LmJpbmRQb3B1cChwb3B1cF81OGRjNDkwNWFhMjU0MTdiOWQxZjVjYjlkMzYxYzMwYyk7CgogICAgICAgICAgICAKICAgICAgICAKICAgIAoKICAgICAgICAgICAgdmFyIG1hcmtlcl81MzZkZDEwMDg1NGY0OWZhODA0NDA2MGZjMDY5YmE5ZCA9IEwubWFya2VyKAogICAgICAgICAgICAgICAgWzQwLjcyOTcyMTkyMTgsLTczLjk4NzQxNzA3NjhdLAogICAgICAgICAgICAgICAgewogICAgICAgICAgICAgICAgICAgIGljb246IG5ldyBMLkljb24uRGVmYXVsdCgpCiAgICAgICAgICAgICAgICAgICAgfQogICAgICAgICAgICAgICAgKQogICAgICAgICAgICAgICAgLmFkZFRvKG1hcF9jNjA4OWNiMTUwMWE0MWRkODVlNjA4OTlmM2VkZWU4OSk7CiAgICAgICAgICAgIAogICAgCiAgICAgICAgICAgIHZhciBwb3B1cF9jMzBlZDdlNDQ3MjY0MDY4YTU1NjJiMWJlZjEzMDE5NSA9IEwucG9wdXAoe21heFdpZHRoOiAnMzAwJ30pOwoKICAgICAgICAgICAgCiAgICAgICAgICAgICAgICB2YXIgaHRtbF9kYzI3Y2U5MTFjYTg0MTRmYWQ2OTkzYjNkOTlhZDAzMyA9ICQoJzxkaXYgaWQ9Imh0bWxfZGMyN2NlOTExY2E4NDE0ZmFkNjk5M2IzZDk5YWQwMzMiIHN0eWxlPSJ3aWR0aDogMTAwLjAlOyBoZWlnaHQ6IDEwMC4wJTsiPmNsdXN0ZXIgPSAwICYgbW9zdCB2aXNpdGVkIGNsdXN0ZXIgPSAwICYgYXZnIHRyaXB0aW1lIGZyb20gdGhpcyBjbHVzdGVyID05MDguODUxOTI4MjcxPC9kaXY+JylbMF07CiAgICAgICAgICAgICAgICBwb3B1cF9jMzBlZDdlNDQ3MjY0MDY4YTU1NjJiMWJlZjEzMDE5NS5zZXRDb250ZW50KGh0bWxfZGMyN2NlOTExY2E4NDE0ZmFkNjk5M2IzZDk5YWQwMzMpOwogICAgICAgICAgICAKCiAgICAgICAgICAgIG1hcmtlcl81MzZkZDEwMDg1NGY0OWZhODA0NDA2MGZjMDY5YmE5ZC5iaW5kUG9wdXAocG9wdXBfYzMwZWQ3ZTQ0NzI2NDA2OGE1NTYyYjFiZWYxMzAxOTUpOwoKICAgICAgICAgICAgCiAgICAgICAgCiAgICAKICAgICAgICAgICAgdmFyIGNpcmNsZV9tYXJrZXJfZTg2NzQ3MmE4YWU0NDMyZDg0NTQ1MmRiZmJjY2ZiZGUgPSBMLmNpcmNsZU1hcmtlcigKICAgICAgICAgICAgICAgIFszNy4zODkzMzk0NDcsLTEyMS45MzMyODg1NzRdLAogICAgICAgICAgICAgICAgewogICJidWJibGluZ01vdXNlRXZlbnRzIjogdHJ1ZSwKICAiY29sb3IiOiAiI0YwODA4MCIsCiAgImRhc2hBcnJheSI6IG51bGwsCiAgImRhc2hPZmZzZXQiOiBudWxsLAogICJmaWxsIjogZmFsc2UsCiAgImZpbGxDb2xvciI6ICIjMzE4NmNjIiwKICAiZmlsbE9wYWNpdHkiOiAwLjIsCiAgImZpbGxSdWxlIjogImV2ZW5vZGQiLAogICJsaW5lQ2FwIjogInJvdW5kIiwKICAibGluZUpvaW4iOiAicm91bmQiLAogICJvcGFjaXR5IjogMS4wLAogICJyYWRpdXMiOiAzMCwKICAic3Ryb2tlIjogdHJ1ZSwKICAid2VpZ2h0IjogMwp9CiAgICAgICAgICAgICAgICApLmFkZFRvKG1hcF9jNjA4OWNiMTUwMWE0MWRkODVlNjA4OTlmM2VkZWU4OSk7CiAgICAgICAgICAgIAogICAgCiAgICAgICAgICAgIHZhciBwb3B1cF8yMmU3MTNjODI5YzE0ZTFkOWEwOWZlYzFhMTU0OGI4ZSA9IEwucG9wdXAoe21heFdpZHRoOiAnMzAwJ30pOwoKICAgICAgICAgICAgCiAgICAgICAgICAgICAgICB2YXIgaHRtbF9lYjllYTUyZDQxNGI0OTI3OWY4ODdiYTNlNDVmMzhjZCA9ICQoJzxkaXYgaWQ9Imh0bWxfZWI5ZWE1MmQ0MTRiNDkyNzlmODg3YmEzZTQ1ZjM4Y2QiIHN0eWxlPSJ3aWR0aDogMTAwLjAlOyBoZWlnaHQ6IDEwMC4wJTsiPmNsdXN0ZXIgPSAxICYgbW9zdCB2aXNpdGVkIGNsdXN0ZXIgPSAxICYgYXZnIHRyaXB0aW1lIGZyb20gdGhpcyBjbHVzdGVyID04MDIuMDwvZGl2PicpWzBdOwogICAgICAgICAgICAgICAgcG9wdXBfMjJlNzEzYzgyOWMxNGUxZDlhMDlmZWMxYTE1NDhiOGUuc2V0Q29udGVudChodG1sX2ViOWVhNTJkNDE0YjQ5Mjc5Zjg4N2JhM2U0NWYzOGNkKTsKICAgICAgICAgICAgCgogICAgICAgICAgICBjaXJjbGVfbWFya2VyX2U4Njc0NzJhOGFlNDQzMmQ4NDU0NTJkYmZiY2NmYmRlLmJpbmRQb3B1cChwb3B1cF8yMmU3MTNjODI5YzE0ZTFkOWEwOWZlYzFhMTU0OGI4ZSk7CgogICAgICAgICAgICAKICAgICAgICAKICAgIAoKICAgICAgICAgICAgdmFyIG1hcmtlcl9mOGRlMWIwNDVjZDU0YTY4YmZiZWU3MTcyNmMyMDQ4NiA9IEwubWFya2VyKAogICAgICAgICAgICAgICAgWzM3LjM4OTMzOTQ0NywtMTIxLjkzMzI4ODU3NF0sCiAgICAgICAgICAgICAgICB7CiAgICAgICAgICAgICAgICAgICAgaWNvbjogbmV3IEwuSWNvbi5EZWZhdWx0KCkKICAgICAgICAgICAgICAgICAgICB9CiAgICAgICAgICAgICAgICApCiAgICAgICAgICAgICAgICAuYWRkVG8obWFwX2M2MDg5Y2IxNTAxYTQxZGQ4NWU2MDg5OWYzZWRlZTg5KTsKICAgICAgICAgICAgCiAgICAKICAgICAgICAgICAgdmFyIHBvcHVwXzNkMzIzZDI5MDNlZTQ2ZjNhMWI2OGRiN2I3YzNkNzQ2ID0gTC5wb3B1cCh7bWF4V2lkdGg6ICczMDAnfSk7CgogICAgICAgICAgICAKICAgICAgICAgICAgICAgIHZhciBodG1sXzA1MzlhZjgyM2VjMjQ5NmM4NTAzZjlhNzQxNzIyNWUyID0gJCgnPGRpdiBpZD0iaHRtbF8wNTM5YWY4MjNlYzI0OTZjODUwM2Y5YTc0MTcyMjVlMiIgc3R5bGU9IndpZHRoOiAxMDAuMCU7IGhlaWdodDogMTAwLjAlOyI+Y2x1c3RlciA9IDEgJiBtb3N0IHZpc2l0ZWQgY2x1c3RlciA9IDEgJiBhdmcgdHJpcHRpbWUgZnJvbSB0aGlzIGNsdXN0ZXIgPTgwMi4wPC9kaXY+JylbMF07CiAgICAgICAgICAgICAgICBwb3B1cF8zZDMyM2QyOTAzZWU0NmYzYTFiNjhkYjdiN2MzZDc0Ni5zZXRDb250ZW50KGh0bWxfMDUzOWFmODIzZWMyNDk2Yzg1MDNmOWE3NDE3MjI1ZTIpOwogICAgICAgICAgICAKCiAgICAgICAgICAgIG1hcmtlcl9mOGRlMWIwNDVjZDU0YTY4YmZiZWU3MTcyNmMyMDQ4Ni5iaW5kUG9wdXAocG9wdXBfM2QzMjNkMjkwM2VlNDZmM2ExYjY4ZGI3YjdjM2Q3NDYpOwoKICAgICAgICAgICAgCiAgICAgICAgCiAgICAKICAgICAgICAgICAgdmFyIGNpcmNsZV9tYXJrZXJfZjE1YmFiNzQ5Mzc1NGFhNjliNGUwMDQzNjVhMzExMTcgPSBMLmNpcmNsZU1hcmtlcigKICAgICAgICAgICAgICAgIFs0MC42NDcxMTI2OTQ5LC03My43ODQyMzIyMTUyXSwKICAgICAgICAgICAgICAgIHsKICAiYnViYmxpbmdNb3VzZUV2ZW50cyI6IHRydWUsCiAgImNvbG9yIjogIiNGMDgwODAiLAogICJkYXNoQXJyYXkiOiBudWxsLAogICJkYXNoT2Zmc2V0IjogbnVsbCwKICAiZmlsbCI6IGZhbHNlLAogICJmaWxsQ29sb3IiOiAiIzMxODZjYyIsCiAgImZpbGxPcGFjaXR5IjogMC4yLAogICJmaWxsUnVsZSI6ICJldmVub2RkIiwKICAibGluZUNhcCI6ICJyb3VuZCIsCiAgImxpbmVKb2luIjogInJvdW5kIiwKICAib3BhY2l0eSI6IDEuMCwKICAicmFkaXVzIjogMzAsCiAgInN0cm9rZSI6IHRydWUsCiAgIndlaWdodCI6IDMKfQogICAgICAgICAgICAgICAgKS5hZGRUbyhtYXBfYzYwODljYjE1MDFhNDFkZDg1ZTYwODk5ZjNlZGVlODkpOwogICAgICAgICAgICAKICAgIAogICAgICAgICAgICB2YXIgcG9wdXBfMGZiZDNhN2EwYzRlNGZjN2JjYzQyZDU0N2EzMzMzZjggPSBMLnBvcHVwKHttYXhXaWR0aDogJzMwMCd9KTsKCiAgICAgICAgICAgIAogICAgICAgICAgICAgICAgdmFyIGh0bWxfM2ExMDg2MzYyYmVhNDRhMzlmMGQ5MWUyYzlmOWZlZjUgPSAkKCc8ZGl2IGlkPSJodG1sXzNhMTA4NjM2MmJlYTQ0YTM5ZjBkOTFlMmM5ZjlmZWY1IiBzdHlsZT0id2lkdGg6IDEwMC4wJTsgaGVpZ2h0OiAxMDAuMCU7Ij5jbHVzdGVyID0gMiAmIG1vc3QgdmlzaXRlZCBjbHVzdGVyID0gMTAgJiBhdmcgdHJpcHRpbWUgZnJvbSB0aGlzIGNsdXN0ZXIgPTI3MTYuOTg5MjUyMTc8L2Rpdj4nKVswXTsKICAgICAgICAgICAgICAgIHBvcHVwXzBmYmQzYTdhMGM0ZTRmYzdiY2M0MmQ1NDdhMzMzM2Y4LnNldENvbnRlbnQoaHRtbF8zYTEwODYzNjJiZWE0NGEzOWYwZDkxZTJjOWY5ZmVmNSk7CiAgICAgICAgICAgIAoKICAgICAgICAgICAgY2lyY2xlX21hcmtlcl9mMTViYWI3NDkzNzU0YWE2OWI0ZTAwNDM2NWEzMTExNy5iaW5kUG9wdXAocG9wdXBfMGZiZDNhN2EwYzRlNGZjN2JjYzQyZDU0N2EzMzMzZjgpOwoKICAgICAgICAgICAgCiAgICAgICAgCiAgICAKCiAgICAgICAgICAgIHZhciBtYXJrZXJfYmY5MWNlMjFlZTA3NDVkYWI0YzU3NDg0YjM1NGJlZjYgPSBMLm1hcmtlcigKICAgICAgICAgICAgICAgIFs0MC42NDcxMTI2OTQ5LC03My43ODQyMzIyMTUyXSwKICAgICAgICAgICAgICAgIHsKICAgICAgICAgICAgICAgICAgICBpY29uOiBuZXcgTC5JY29uLkRlZmF1bHQoKQogICAgICAgICAgICAgICAgICAgIH0KICAgICAgICAgICAgICAgICkKICAgICAgICAgICAgICAgIC5hZGRUbyhtYXBfYzYwODljYjE1MDFhNDFkZDg1ZTYwODk5ZjNlZGVlODkpOwogICAgICAgICAgICAKICAgIAogICAgICAgICAgICB2YXIgcG9wdXBfZTcyMmYxMGY3ZjkxNDA4MGEyY2UyODY5OTJmMDJiNjEgPSBMLnBvcHVwKHttYXhXaWR0aDogJzMwMCd9KTsKCiAgICAgICAgICAgIAogICAgICAgICAgICAgICAgdmFyIGh0bWxfZDc0ZDVkMGM4YTY1NDVkNTgyMGZlODRlMzk4NGQ2NTUgPSAkKCc8ZGl2IGlkPSJodG1sX2Q3NGQ1ZDBjOGE2NTQ1ZDU4MjBmZTg0ZTM5ODRkNjU1IiBzdHlsZT0id2lkdGg6IDEwMC4wJTsgaGVpZ2h0OiAxMDAuMCU7Ij5jbHVzdGVyID0gMiAmIG1vc3QgdmlzaXRlZCBjbHVzdGVyID0gMTAgJiBhdmcgdHJpcHRpbWUgZnJvbSB0aGlzIGNsdXN0ZXIgPTI3MTYuOTg5MjUyMTc8L2Rpdj4nKVswXTsKICAgICAgICAgICAgICAgIHBvcHVwX2U3MjJmMTBmN2Y5MTQwODBhMmNlMjg2OTkyZjAyYjYxLnNldENvbnRlbnQoaHRtbF9kNzRkNWQwYzhhNjU0NWQ1ODIwZmU4NGUzOTg0ZDY1NSk7CiAgICAgICAgICAgIAoKICAgICAgICAgICAgbWFya2VyX2JmOTFjZTIxZWUwNzQ1ZGFiNGM1NzQ4NGIzNTRiZWY2LmJpbmRQb3B1cChwb3B1cF9lNzIyZjEwZjdmOTE0MDgwYTJjZTI4Njk5MmYwMmI2MSk7CgogICAgICAgICAgICAKICAgICAgICAKICAgIAogICAgICAgICAgICB2YXIgY2lyY2xlX21hcmtlcl83YWRkYzU4YjliYTA0NTliYTE2MjUyMzVmNTZkMDQyYSA9IEwuY2lyY2xlTWFya2VyKAogICAgICAgICAgICAgICAgWzQwLjc3Mzc3MDc4NzUsLTczLjk1NDY0NTY1MzZdLAogICAgICAgICAgICAgICAgewogICJidWJibGluZ01vdXNlRXZlbnRzIjogdHJ1ZSwKICAiY29sb3IiOiAiI0YwODA4MCIsCiAgImRhc2hBcnJheSI6IG51bGwsCiAgImRhc2hPZmZzZXQiOiBudWxsLAogICJmaWxsIjogZmFsc2UsCiAgImZpbGxDb2xvciI6ICIjMzE4NmNjIiwKICAiZmlsbE9wYWNpdHkiOiAwLjIsCiAgImZpbGxSdWxlIjogImV2ZW5vZGQiLAogICJsaW5lQ2FwIjogInJvdW5kIiwKICAibGluZUpvaW4iOiAicm91bmQiLAogICJvcGFjaXR5IjogMS4wLAogICJyYWRpdXMiOiAzMCwKICAic3Ryb2tlIjogdHJ1ZSwKICAid2VpZ2h0IjogMwp9CiAgICAgICAgICAgICAgICApLmFkZFRvKG1hcF9jNjA4OWNiMTUwMWE0MWRkODVlNjA4OTlmM2VkZWU4OSk7CiAgICAgICAgICAgIAogICAgCiAgICAgICAgICAgIHZhciBwb3B1cF85MDU4OWE3MDU3MWU0NWYzODgxN2RiODZmMzQ5ODcxMyA9IEwucG9wdXAoe21heFdpZHRoOiAnMzAwJ30pOwoKICAgICAgICAgICAgCiAgICAgICAgICAgICAgICB2YXIgaHRtbF9kNWEyYzU4ODdmNTc0YzJmYjM4YWE4Yzc4ZjcwZWVlNiA9ICQoJzxkaXYgaWQ9Imh0bWxfZDVhMmM1ODg3ZjU3NGMyZmIzOGFhOGM3OGY3MGVlZTYiIHN0eWxlPSJ3aWR0aDogMTAwLjAlOyBoZWlnaHQ6IDEwMC4wJTsiPmNsdXN0ZXIgPSAzICYgbW9zdCB2aXNpdGVkIGNsdXN0ZXIgPSAzICYgYXZnIHRyaXB0aW1lIGZyb20gdGhpcyBjbHVzdGVyID04MjAuMTMyNzgwODE0PC9kaXY+JylbMF07CiAgICAgICAgICAgICAgICBwb3B1cF85MDU4OWE3MDU3MWU0NWYzODgxN2RiODZmMzQ5ODcxMy5zZXRDb250ZW50KGh0bWxfZDVhMmM1ODg3ZjU3NGMyZmIzOGFhOGM3OGY3MGVlZTYpOwogICAgICAgICAgICAKCiAgICAgICAgICAgIGNpcmNsZV9tYXJrZXJfN2FkZGM1OGI5YmEwNDU5YmExNjI1MjM1ZjU2ZDA0MmEuYmluZFBvcHVwKHBvcHVwXzkwNTg5YTcwNTcxZTQ1ZjM4ODE3ZGI4NmYzNDk4NzEzKTsKCiAgICAgICAgICAgIAogICAgICAgIAogICAgCgogICAgICAgICAgICB2YXIgbWFya2VyXzkzYzZiMjBlZTAwYjRiMzg4ZjkyMWZiMzAwMGU2ZGJkID0gTC5tYXJrZXIoCiAgICAgICAgICAgICAgICBbNDAuNzczNzcwNzg3NSwtNzMuOTU0NjQ1NjUzNl0sCiAgICAgICAgICAgICAgICB7CiAgICAgICAgICAgICAgICAgICAgaWNvbjogbmV3IEwuSWNvbi5EZWZhdWx0KCkKICAgICAgICAgICAgICAgICAgICB9CiAgICAgICAgICAgICAgICApCiAgICAgICAgICAgICAgICAuYWRkVG8obWFwX2M2MDg5Y2IxNTAxYTQxZGQ4NWU2MDg5OWYzZWRlZTg5KTsKICAgICAgICAgICAgCiAgICAKICAgICAgICAgICAgdmFyIHBvcHVwX2RmZjFlOGVlMjZmYjRmZGM5NzAxNjk2MDEzZWNiZDgyID0gTC5wb3B1cCh7bWF4V2lkdGg6ICczMDAnfSk7CgogICAgICAgICAgICAKICAgICAgICAgICAgICAgIHZhciBodG1sXzY1Y2Y3MTc1N2NkOTRjYTBiMmE2OTJhNjE4YmE0ZGFmID0gJCgnPGRpdiBpZD0iaHRtbF82NWNmNzE3NTdjZDk0Y2EwYjJhNjkyYTYxOGJhNGRhZiIgc3R5bGU9IndpZHRoOiAxMDAuMCU7IGhlaWdodDogMTAwLjAlOyI+Y2x1c3RlciA9IDMgJiBtb3N0IHZpc2l0ZWQgY2x1c3RlciA9IDMgJiBhdmcgdHJpcHRpbWUgZnJvbSB0aGlzIGNsdXN0ZXIgPTgyMC4xMzI3ODA4MTQ8L2Rpdj4nKVswXTsKICAgICAgICAgICAgICAgIHBvcHVwX2RmZjFlOGVlMjZmYjRmZGM5NzAxNjk2MDEzZWNiZDgyLnNldENvbnRlbnQoaHRtbF82NWNmNzE3NTdjZDk0Y2EwYjJhNjkyYTYxOGJhNGRhZik7CiAgICAgICAgICAgIAoKICAgICAgICAgICAgbWFya2VyXzkzYzZiMjBlZTAwYjRiMzg4ZjkyMWZiMzAwMGU2ZGJkLmJpbmRQb3B1cChwb3B1cF9kZmYxZThlZTI2ZmI0ZmRjOTcwMTY5NjAxM2VjYmQ4Mik7CgogICAgICAgICAgICAKICAgICAgICAKICAgIAogICAgICAgICAgICB2YXIgY2lyY2xlX21hcmtlcl8xODVlOTQ5M2NhNzg0MGUxYWJlOTdkY2MxNTdjOTI0YiA9IEwuY2lyY2xlTWFya2VyKAogICAgICAgICAgICAgICAgWzM2LjY0NTM3MTc1NSwtNjYuODQxNDAyNjg5Nl0sCiAgICAgICAgICAgICAgICB7CiAgImJ1YmJsaW5nTW91c2VFdmVudHMiOiB0cnVlLAogICJjb2xvciI6ICIjRjA4MDgwIiwKICAiZGFzaEFycmF5IjogbnVsbCwKICAiZGFzaE9mZnNldCI6IG51bGwsCiAgImZpbGwiOiBmYWxzZSwKICAiZmlsbENvbG9yIjogIiMzMTg2Y2MiLAogICJmaWxsT3BhY2l0eSI6IDAuMiwKICAiZmlsbFJ1bGUiOiAiZXZlbm9kZCIsCiAgImxpbmVDYXAiOiAicm91bmQiLAogICJsaW5lSm9pbiI6ICJyb3VuZCIsCiAgIm9wYWNpdHkiOiAxLjAsCiAgInJhZGl1cyI6IDMwLAogICJzdHJva2UiOiB0cnVlLAogICJ3ZWlnaHQiOiAzCn0KICAgICAgICAgICAgICAgICkuYWRkVG8obWFwX2M2MDg5Y2IxNTAxYTQxZGQ4NWU2MDg5OWYzZWRlZTg5KTsKICAgICAgICAgICAgCiAgICAKICAgICAgICAgICAgdmFyIHBvcHVwXzBlMjA2Yzc1ZWYzYTRjZmNiZTRkNGRhY2VhYTY5MGU4ID0gTC5wb3B1cCh7bWF4V2lkdGg6ICczMDAnfSk7CgogICAgICAgICAgICAKICAgICAgICAgICAgICAgIHZhciBodG1sXzg5MTNkOWJjMjdlYjQxMjQ5YzM1MDczYzJjNDU3NzUyID0gJCgnPGRpdiBpZD0iaHRtbF84OTEzZDliYzI3ZWI0MTI0OWMzNTA3M2MyYzQ1Nzc1MiIgc3R5bGU9IndpZHRoOiAxMDAuMCU7IGhlaWdodDogMTAwLjAlOyI+Y2x1c3RlciA9IDQgJiBtb3N0IHZpc2l0ZWQgY2x1c3RlciA9IDQgJiBhdmcgdHJpcHRpbWUgZnJvbSB0aGlzIGNsdXN0ZXIgPTU1OC4zMzMzMzMzMzM8L2Rpdj4nKVswXTsKICAgICAgICAgICAgICAgIHBvcHVwXzBlMjA2Yzc1ZWYzYTRjZmNiZTRkNGRhY2VhYTY5MGU4LnNldENvbnRlbnQoaHRtbF84OTEzZDliYzI3ZWI0MTI0OWMzNTA3M2MyYzQ1Nzc1Mik7CiAgICAgICAgICAgIAoKICAgICAgICAgICAgY2lyY2xlX21hcmtlcl8xODVlOTQ5M2NhNzg0MGUxYWJlOTdkY2MxNTdjOTI0Yi5iaW5kUG9wdXAocG9wdXBfMGUyMDZjNzVlZjNhNGNmY2JlNGQ0ZGFjZWFhNjkwZTgpOwoKICAgICAgICAgICAgCiAgICAgICAgCiAgICAKCiAgICAgICAgICAgIHZhciBtYXJrZXJfNWE4ZDMwODA2OTUyNDI4MTkxMTNhMjYyYmFlNGE0NzkgPSBMLm1hcmtlcigKICAgICAgICAgICAgICAgIFszNi42NDUzNzE3NTUsLTY2Ljg0MTQwMjY4OTZdLAogICAgICAgICAgICAgICAgewogICAgICAgICAgICAgICAgICAgIGljb246IG5ldyBMLkljb24uRGVmYXVsdCgpCiAgICAgICAgICAgICAgICAgICAgfQogICAgICAgICAgICAgICAgKQogICAgICAgICAgICAgICAgLmFkZFRvKG1hcF9jNjA4OWNiMTUwMWE0MWRkODVlNjA4OTlmM2VkZWU4OSk7CiAgICAgICAgICAgIAogICAgCiAgICAgICAgICAgIHZhciBwb3B1cF85ZDlmNDBmYjU0NmM0NmE1OWMxYTliOGFhMzBhZTEyMCA9IEwucG9wdXAoe21heFdpZHRoOiAnMzAwJ30pOwoKICAgICAgICAgICAgCiAgICAgICAgICAgICAgICB2YXIgaHRtbF9lYzJhMmI0ZmZhZDA0M2I0YmJjMzlmMTQ3MDdkMWJlYyA9ICQoJzxkaXYgaWQ9Imh0bWxfZWMyYTJiNGZmYWQwNDNiNGJiYzM5ZjE0NzA3ZDFiZWMiIHN0eWxlPSJ3aWR0aDogMTAwLjAlOyBoZWlnaHQ6IDEwMC4wJTsiPmNsdXN0ZXIgPSA0ICYgbW9zdCB2aXNpdGVkIGNsdXN0ZXIgPSA0ICYgYXZnIHRyaXB0aW1lIGZyb20gdGhpcyBjbHVzdGVyID01NTguMzMzMzMzMzMzPC9kaXY+JylbMF07CiAgICAgICAgICAgICAgICBwb3B1cF85ZDlmNDBmYjU0NmM0NmE1OWMxYTliOGFhMzBhZTEyMC5zZXRDb250ZW50KGh0bWxfZWMyYTJiNGZmYWQwNDNiNGJiYzM5ZjE0NzA3ZDFiZWMpOwogICAgICAgICAgICAKCiAgICAgICAgICAgIG1hcmtlcl81YThkMzA4MDY5NTI0MjgxOTExM2EyNjJiYWU0YTQ3OS5iaW5kUG9wdXAocG9wdXBfOWQ5ZjQwZmI1NDZjNDZhNTljMWE5YjhhYTMwYWUxMjApOwoKICAgICAgICAgICAgCiAgICAgICAgCiAgICAKICAgICAgICAgICAgdmFyIGNpcmNsZV9tYXJrZXJfOTM0MGFmMWUyZWQzNGNkOTlkNWI5MmU1NmIwMDliNTYgPSBMLmNpcmNsZU1hcmtlcigKICAgICAgICAgICAgICAgIFs0MC43NzAxNjQ5NTQ1LC03My44NzA0MDY0MDkxXSwKICAgICAgICAgICAgICAgIHsKICAiYnViYmxpbmdNb3VzZUV2ZW50cyI6IHRydWUsCiAgImNvbG9yIjogIiNGMDgwODAiLAogICJkYXNoQXJyYXkiOiBudWxsLAogICJkYXNoT2Zmc2V0IjogbnVsbCwKICAiZmlsbCI6IGZhbHNlLAogICJmaWxsQ29sb3IiOiAiIzMxODZjYyIsCiAgImZpbGxPcGFjaXR5IjogMC4yLAogICJmaWxsUnVsZSI6ICJldmVub2RkIiwKICAibGluZUNhcCI6ICJyb3VuZCIsCiAgImxpbmVKb2luIjogInJvdW5kIiwKICAib3BhY2l0eSI6IDEuMCwKICAicmFkaXVzIjogMzAsCiAgInN0cm9rZSI6IHRydWUsCiAgIndlaWdodCI6IDMKfQogICAgICAgICAgICAgICAgKS5hZGRUbyhtYXBfYzYwODljYjE1MDFhNDFkZDg1ZTYwODk5ZjNlZGVlODkpOwogICAgICAgICAgICAKICAgIAogICAgICAgICAgICB2YXIgcG9wdXBfZDA4NTc3ZjFhNzg4NDY1ZGEzMDQ2YWU5YTBlNTdiMjQgPSBMLnBvcHVwKHttYXhXaWR0aDogJzMwMCd9KTsKCiAgICAgICAgICAgIAogICAgICAgICAgICAgICAgdmFyIGh0bWxfYmM1YTg3MGUwNjdiNGI4ZTk1NjEyYzZiZjRmYWZhMzEgPSAkKCc8ZGl2IGlkPSJodG1sX2JjNWE4NzBlMDY3YjRiOGU5NTYxMmM2YmY0ZmFmYTMxIiBzdHlsZT0id2lkdGg6IDEwMC4wJTsgaGVpZ2h0OiAxMDAuMCU7Ij5jbHVzdGVyID0gNSAmIG1vc3QgdmlzaXRlZCBjbHVzdGVyID0gNiAmIGF2ZyB0cmlwdGltZSBmcm9tIHRoaXMgY2x1c3RlciA9MTgxMS40NjU0NDUwMzwvZGl2PicpWzBdOwogICAgICAgICAgICAgICAgcG9wdXBfZDA4NTc3ZjFhNzg4NDY1ZGEzMDQ2YWU5YTBlNTdiMjQuc2V0Q29udGVudChodG1sX2JjNWE4NzBlMDY3YjRiOGU5NTYxMmM2YmY0ZmFmYTMxKTsKICAgICAgICAgICAgCgogICAgICAgICAgICBjaXJjbGVfbWFya2VyXzkzNDBhZjFlMmVkMzRjZDk5ZDViOTJlNTZiMDA5YjU2LmJpbmRQb3B1cChwb3B1cF9kMDg1NzdmMWE3ODg0NjVkYTMwNDZhZTlhMGU1N2IyNCk7CgogICAgICAgICAgICAKICAgICAgICAKICAgIAoKICAgICAgICAgICAgdmFyIG1hcmtlcl8wZDUxZWQ3M2Y4YTQ0YTQzOGM2OTJlYzIyNGZjYzgwZCA9IEwubWFya2VyKAogICAgICAgICAgICAgICAgWzQwLjc3MDE2NDk1NDUsLTczLjg3MDQwNjQwOTFdLAogICAgICAgICAgICAgICAgewogICAgICAgICAgICAgICAgICAgIGljb246IG5ldyBMLkljb24uRGVmYXVsdCgpCiAgICAgICAgICAgICAgICAgICAgfQogICAgICAgICAgICAgICAgKQogICAgICAgICAgICAgICAgLmFkZFRvKG1hcF9jNjA4OWNiMTUwMWE0MWRkODVlNjA4OTlmM2VkZWU4OSk7CiAgICAgICAgICAgIAogICAgCiAgICAgICAgICAgIHZhciBwb3B1cF9jNzk1ODdiMTlkMmI0N2Q4OGZiZDg4NDBiOWYwMmU3YiA9IEwucG9wdXAoe21heFdpZHRoOiAnMzAwJ30pOwoKICAgICAgICAgICAgCiAgICAgICAgICAgICAgICB2YXIgaHRtbF9hZGM5ZmZkYWYwMTc0ZTQ4ODlkNTJiMjBhNTk0M2YzZCA9ICQoJzxkaXYgaWQ9Imh0bWxfYWRjOWZmZGFmMDE3NGU0ODg5ZDUyYjIwYTU5NDNmM2QiIHN0eWxlPSJ3aWR0aDogMTAwLjAlOyBoZWlnaHQ6IDEwMC4wJTsiPmNsdXN0ZXIgPSA1ICYgbW9zdCB2aXNpdGVkIGNsdXN0ZXIgPSA2ICYgYXZnIHRyaXB0aW1lIGZyb20gdGhpcyBjbHVzdGVyID0xODExLjQ2NTQ0NTAzPC9kaXY+JylbMF07CiAgICAgICAgICAgICAgICBwb3B1cF9jNzk1ODdiMTlkMmI0N2Q4OGZiZDg4NDBiOWYwMmU3Yi5zZXRDb250ZW50KGh0bWxfYWRjOWZmZGFmMDE3NGU0ODg5ZDUyYjIwYTU5NDNmM2QpOwogICAgICAgICAgICAKCiAgICAgICAgICAgIG1hcmtlcl8wZDUxZWQ3M2Y4YTQ0YTQzOGM2OTJlYzIyNGZjYzgwZC5iaW5kUG9wdXAocG9wdXBfYzc5NTg3YjE5ZDJiNDdkODhmYmQ4ODQwYjlmMDJlN2IpOwoKICAgICAgICAgICAgCiAgICAgICAgCiAgICAKICAgICAgICAgICAgdmFyIGNpcmNsZV9tYXJrZXJfYzYxZjllM2U4OWNkNDcyNGExYTdhNTE3YjBhMTY3MDIgPSBMLmNpcmNsZU1hcmtlcigKICAgICAgICAgICAgICAgIFs0MC43NTgxNDc2MTMzLC03My45NzMxOTA1NDI0XSwKICAgICAgICAgICAgICAgIHsKICAiYnViYmxpbmdNb3VzZUV2ZW50cyI6IHRydWUsCiAgImNvbG9yIjogIiNGMDgwODAiLAogICJkYXNoQXJyYXkiOiBudWxsLAogICJkYXNoT2Zmc2V0IjogbnVsbCwKICAiZmlsbCI6IGZhbHNlLAogICJmaWxsQ29sb3IiOiAiIzMxODZjYyIsCiAgImZpbGxPcGFjaXR5IjogMC4yLAogICJmaWxsUnVsZSI6ICJldmVub2RkIiwKICAibGluZUNhcCI6ICJyb3VuZCIsCiAgImxpbmVKb2luIjogInJvdW5kIiwKICAib3BhY2l0eSI6IDEuMCwKICAicmFkaXVzIjogMzAsCiAgInN0cm9rZSI6IHRydWUsCiAgIndlaWdodCI6IDMKfQogICAgICAgICAgICAgICAgKS5hZGRUbyhtYXBfYzYwODljYjE1MDFhNDFkZDg1ZTYwODk5ZjNlZGVlODkpOwogICAgICAgICAgICAKICAgIAogICAgICAgICAgICB2YXIgcG9wdXBfYWFhMGNiYzQzNjlmNDYxMThlNGZlZGYzZTliYTNhN2QgPSBMLnBvcHVwKHttYXhXaWR0aDogJzMwMCd9KTsKCiAgICAgICAgICAgIAogICAgICAgICAgICAgICAgdmFyIGh0bWxfNmQ5NWFjMDM4ZjM4NDIyZjkyMmNkNWM2Y2I2NGU5YmEgPSAkKCc8ZGl2IGlkPSJodG1sXzZkOTVhYzAzOGYzODQyMmY5MjJjZDVjNmNiNjRlOWJhIiBzdHlsZT0id2lkdGg6IDEwMC4wJTsgaGVpZ2h0OiAxMDAuMCU7Ij5jbHVzdGVyID0gNiAmIG1vc3QgdmlzaXRlZCBjbHVzdGVyID0gNiAmIGF2ZyB0cmlwdGltZSBmcm9tIHRoaXMgY2x1c3RlciA9ODgyLjQ4MzE1NzU2PC9kaXY+JylbMF07CiAgICAgICAgICAgICAgICBwb3B1cF9hYWEwY2JjNDM2OWY0NjExOGU0ZmVkZjNlOWJhM2E3ZC5zZXRDb250ZW50KGh0bWxfNmQ5NWFjMDM4ZjM4NDIyZjkyMmNkNWM2Y2I2NGU5YmEpOwogICAgICAgICAgICAKCiAgICAgICAgICAgIGNpcmNsZV9tYXJrZXJfYzYxZjllM2U4OWNkNDcyNGExYTdhNTE3YjBhMTY3MDIuYmluZFBvcHVwKHBvcHVwX2FhYTBjYmM0MzY5ZjQ2MTE4ZTRmZWRmM2U5YmEzYTdkKTsKCiAgICAgICAgICAgIAogICAgICAgIAogICAgCgogICAgICAgICAgICB2YXIgbWFya2VyXzlkNGFmYzY5YmFlYzRlZDM4MzdmZjk3ZjQ2YmRlNjAwID0gTC5tYXJrZXIoCiAgICAgICAgICAgICAgICBbNDAuNzU4MTQ3NjEzMywtNzMuOTczMTkwNTQyNF0sCiAgICAgICAgICAgICAgICB7CiAgICAgICAgICAgICAgICAgICAgaWNvbjogbmV3IEwuSWNvbi5EZWZhdWx0KCkKICAgICAgICAgICAgICAgICAgICB9CiAgICAgICAgICAgICAgICApCiAgICAgICAgICAgICAgICAuYWRkVG8obWFwX2M2MDg5Y2IxNTAxYTQxZGQ4NWU2MDg5OWYzZWRlZTg5KTsKICAgICAgICAgICAgCiAgICAKICAgICAgICAgICAgdmFyIHBvcHVwXzcyZDI5ODAyZjM3YjRiMDJhOTY3ODAzZDdmMTY0MGQ5ID0gTC5wb3B1cCh7bWF4V2lkdGg6ICczMDAnfSk7CgogICAgICAgICAgICAKICAgICAgICAgICAgICAgIHZhciBodG1sXzM5ZGIyN2JhODFmYzRlYTBiMjY1ZmQ5OWM4MDM0OTA2ID0gJCgnPGRpdiBpZD0iaHRtbF8zOWRiMjdiYTgxZmM0ZWEwYjI2NWZkOTljODAzNDkwNiIgc3R5bGU9IndpZHRoOiAxMDAuMCU7IGhlaWdodDogMTAwLjAlOyI+Y2x1c3RlciA9IDYgJiBtb3N0IHZpc2l0ZWQgY2x1c3RlciA9IDYgJiBhdmcgdHJpcHRpbWUgZnJvbSB0aGlzIGNsdXN0ZXIgPTg4Mi40ODMxNTc1NjwvZGl2PicpWzBdOwogICAgICAgICAgICAgICAgcG9wdXBfNzJkMjk4MDJmMzdiNGIwMmE5Njc4MDNkN2YxNjQwZDkuc2V0Q29udGVudChodG1sXzM5ZGIyN2JhODFmYzRlYTBiMjY1ZmQ5OWM4MDM0OTA2KTsKICAgICAgICAgICAgCgogICAgICAgICAgICBtYXJrZXJfOWQ0YWZjNjliYWVjNGVkMzgzN2ZmOTdmNDZiZGU2MDAuYmluZFBvcHVwKHBvcHVwXzcyZDI5ODAyZjM3YjRiMDJhOTY3ODAzZDdmMTY0MGQ5KTsKCiAgICAgICAgICAgIAogICAgICAgIAogICAgCiAgICAgICAgICAgIHZhciBjaXJjbGVfbWFya2VyX2QzNzgxMWY0MjI4ZjRhZDI4YTM4MDIyZmVlN2JlY2NhID0gTC5jaXJjbGVNYXJrZXIoCiAgICAgICAgICAgICAgICBbNDAuNzUyNzA2ODY0NCwtNzMuOTg4NjE4NTI0N10sCiAgICAgICAgICAgICAgICB7CiAgImJ1YmJsaW5nTW91c2VFdmVudHMiOiB0cnVlLAogICJjb2xvciI6ICIjRjA4MDgwIiwKICAiZGFzaEFycmF5IjogbnVsbCwKICAiZGFzaE9mZnNldCI6IG51bGwsCiAgImZpbGwiOiBmYWxzZSwKICAiZmlsbENvbG9yIjogIiMzMTg2Y2MiLAogICJmaWxsT3BhY2l0eSI6IDAuMiwKICAiZmlsbFJ1bGUiOiAiZXZlbm9kZCIsCiAgImxpbmVDYXAiOiAicm91bmQiLAogICJsaW5lSm9pbiI6ICJyb3VuZCIsCiAgIm9wYWNpdHkiOiAxLjAsCiAgInJhZGl1cyI6IDMwLAogICJzdHJva2UiOiB0cnVlLAogICJ3ZWlnaHQiOiAzCn0KICAgICAgICAgICAgICAgICkuYWRkVG8obWFwX2M2MDg5Y2IxNTAxYTQxZGQ4NWU2MDg5OWYzZWRlZTg5KTsKICAgICAgICAgICAgCiAgICAKICAgICAgICAgICAgdmFyIHBvcHVwXzI5YWE2YTVmMzVhZTQ3ZWJhOTNlMjFmYTk5MjFmZjNkID0gTC5wb3B1cCh7bWF4V2lkdGg6ICczMDAnfSk7CgogICAgICAgICAgICAKICAgICAgICAgICAgICAgIHZhciBodG1sXzdmZWYzM2EzZWFkMDRiYjQ5ZTk3ODBhMTdkMjVhYjA3ID0gJCgnPGRpdiBpZD0iaHRtbF83ZmVmMzNhM2VhZDA0YmI0OWU5NzgwYTE3ZDI1YWIwNyIgc3R5bGU9IndpZHRoOiAxMDAuMCU7IGhlaWdodDogMTAwLjAlOyI+Y2x1c3RlciA9IDcgJiBtb3N0IHZpc2l0ZWQgY2x1c3RlciA9IDcgJiBhdmcgdHJpcHRpbWUgZnJvbSB0aGlzIGNsdXN0ZXIgPTkxMy4zNTc5NDMzMDk8L2Rpdj4nKVswXTsKICAgICAgICAgICAgICAgIHBvcHVwXzI5YWE2YTVmMzVhZTQ3ZWJhOTNlMjFmYTk5MjFmZjNkLnNldENvbnRlbnQoaHRtbF83ZmVmMzNhM2VhZDA0YmI0OWU5NzgwYTE3ZDI1YWIwNyk7CiAgICAgICAgICAgIAoKICAgICAgICAgICAgY2lyY2xlX21hcmtlcl9kMzc4MTFmNDIyOGY0YWQyOGEzODAyMmZlZTdiZWNjYS5iaW5kUG9wdXAocG9wdXBfMjlhYTZhNWYzNWFlNDdlYmE5M2UyMWZhOTkyMWZmM2QpOwoKICAgICAgICAgICAgCiAgICAgICAgCiAgICAKCiAgICAgICAgICAgIHZhciBtYXJrZXJfNjE1ZjE1ZTAxYjYwNDQ3MmFiYWQwNzU1NGY1MmJiMzkgPSBMLm1hcmtlcigKICAgICAgICAgICAgICAgIFs0MC43NTI3MDY4NjQ0LC03My45ODg2MTg1MjQ3XSwKICAgICAgICAgICAgICAgIHsKICAgICAgICAgICAgICAgICAgICBpY29uOiBuZXcgTC5JY29uLkRlZmF1bHQoKQogICAgICAgICAgICAgICAgICAgIH0KICAgICAgICAgICAgICAgICkKICAgICAgICAgICAgICAgIC5hZGRUbyhtYXBfYzYwODljYjE1MDFhNDFkZDg1ZTYwODk5ZjNlZGVlODkpOwogICAgICAgICAgICAKICAgIAogICAgICAgICAgICB2YXIgcG9wdXBfMGNjYjg4NmFjY2QyNDdjZjkxOGYyMjE2OTkxZjM4NmQgPSBMLnBvcHVwKHttYXhXaWR0aDogJzMwMCd9KTsKCiAgICAgICAgICAgIAogICAgICAgICAgICAgICAgdmFyIGh0bWxfZDNhODQyNmQ3OGUyNDljMDhjNTU0MzQxNDkwMWJkYWEgPSAkKCc8ZGl2IGlkPSJodG1sX2QzYTg0MjZkNzhlMjQ5YzA4YzU1NDM0MTQ5MDFiZGFhIiBzdHlsZT0id2lkdGg6IDEwMC4wJTsgaGVpZ2h0OiAxMDAuMCU7Ij5jbHVzdGVyID0gNyAmIG1vc3QgdmlzaXRlZCBjbHVzdGVyID0gNyAmIGF2ZyB0cmlwdGltZSBmcm9tIHRoaXMgY2x1c3RlciA9OTEzLjM1Nzk0MzMwOTwvZGl2PicpWzBdOwogICAgICAgICAgICAgICAgcG9wdXBfMGNjYjg4NmFjY2QyNDdjZjkxOGYyMjE2OTkxZjM4NmQuc2V0Q29udGVudChodG1sX2QzYTg0MjZkNzhlMjQ5YzA4YzU1NDM0MTQ5MDFiZGFhKTsKICAgICAgICAgICAgCgogICAgICAgICAgICBtYXJrZXJfNjE1ZjE1ZTAxYjYwNDQ3MmFiYWQwNzU1NGY1MmJiMzkuYmluZFBvcHVwKHBvcHVwXzBjY2I4ODZhY2NkMjQ3Y2Y5MThmMjIxNjk5MWYzODZkKTsKCiAgICAgICAgICAgIAogICAgICAgIAogICAgCiAgICAgICAgICAgIHZhciBjaXJjbGVfbWFya2VyX2ZjMjg1MjZmMThlYzQwYWZhN2Y0NTI0ZGIyN2EzMGJjID0gTC5jaXJjbGVNYXJrZXIoCiAgICAgICAgICAgICAgICBbNTEuODgxMDg0NDQyMSwtNzIuODA5NjY5NDk0Nl0sCiAgICAgICAgICAgICAgICB7CiAgImJ1YmJsaW5nTW91c2VFdmVudHMiOiB0cnVlLAogICJjb2xvciI6ICIjRjA4MDgwIiwKICAiZGFzaEFycmF5IjogbnVsbCwKICAiZGFzaE9mZnNldCI6IG51bGwsCiAgImZpbGwiOiBmYWxzZSwKICAiZmlsbENvbG9yIjogIiMzMTg2Y2MiLAogICJmaWxsT3BhY2l0eSI6IDAuMiwKICAiZmlsbFJ1bGUiOiAiZXZlbm9kZCIsCiAgImxpbmVDYXAiOiAicm91bmQiLAogICJsaW5lSm9pbiI6ICJyb3VuZCIsCiAgIm9wYWNpdHkiOiAxLjAsCiAgInJhZGl1cyI6IDMwLAogICJzdHJva2UiOiB0cnVlLAogICJ3ZWlnaHQiOiAzCn0KICAgICAgICAgICAgICAgICkuYWRkVG8obWFwX2M2MDg5Y2IxNTAxYTQxZGQ4NWU2MDg5OWYzZWRlZTg5KTsKICAgICAgICAgICAgCiAgICAKICAgICAgICAgICAgdmFyIHBvcHVwXzA3YjBjNGFjM2VlMDRjYTg4NzI4NTNlNTgyNTEyNTM5ID0gTC5wb3B1cCh7bWF4V2lkdGg6ICczMDAnfSk7CgogICAgICAgICAgICAKICAgICAgICAgICAgICAgIHZhciBodG1sX2FhMzBjYTMyY2IzYjQxNGVhOTY0Mzc5NjAwY2Q0YTYwID0gJCgnPGRpdiBpZD0iaHRtbF9hYTMwY2EzMmNiM2I0MTRlYTk2NDM3OTYwMGNkNGE2MCIgc3R5bGU9IndpZHRoOiAxMDAuMCU7IGhlaWdodDogMTAwLjAlOyI+Y2x1c3RlciA9IDggJiBtb3N0IHZpc2l0ZWQgY2x1c3RlciA9IDcgJiBhdmcgdHJpcHRpbWUgZnJvbSB0aGlzIGNsdXN0ZXIgPTc5Mi4wPC9kaXY+JylbMF07CiAgICAgICAgICAgICAgICBwb3B1cF8wN2IwYzRhYzNlZTA0Y2E4ODcyODUzZTU4MjUxMjUzOS5zZXRDb250ZW50KGh0bWxfYWEzMGNhMzJjYjNiNDE0ZWE5NjQzNzk2MDBjZDRhNjApOwogICAgICAgICAgICAKCiAgICAgICAgICAgIGNpcmNsZV9tYXJrZXJfZmMyODUyNmYxOGVjNDBhZmE3ZjQ1MjRkYjI3YTMwYmMuYmluZFBvcHVwKHBvcHVwXzA3YjBjNGFjM2VlMDRjYTg4NzI4NTNlNTgyNTEyNTM5KTsKCiAgICAgICAgICAgIAogICAgICAgIAogICAgCgogICAgICAgICAgICB2YXIgbWFya2VyXzUzZGYwZDI2NjBmNzRjYjI4MGZjZDI2MTRkNTU4ZGJmID0gTC5tYXJrZXIoCiAgICAgICAgICAgICAgICBbNTEuODgxMDg0NDQyMSwtNzIuODA5NjY5NDk0Nl0sCiAgICAgICAgICAgICAgICB7CiAgICAgICAgICAgICAgICAgICAgaWNvbjogbmV3IEwuSWNvbi5EZWZhdWx0KCkKICAgICAgICAgICAgICAgICAgICB9CiAgICAgICAgICAgICAgICApCiAgICAgICAgICAgICAgICAuYWRkVG8obWFwX2M2MDg5Y2IxNTAxYTQxZGQ4NWU2MDg5OWYzZWRlZTg5KTsKICAgICAgICAgICAgCiAgICAKICAgICAgICAgICAgdmFyIHBvcHVwXzQxNGQ5YTNlZTMyNDQ4NDViYmZlY2QxYjVkZmM3MWVjID0gTC5wb3B1cCh7bWF4V2lkdGg6ICczMDAnfSk7CgogICAgICAgICAgICAKICAgICAgICAgICAgICAgIHZhciBodG1sXzY2MWEwMWQwMTc2ZjRjYTk5ZjlmOTY1ZmJiOGVmMmZiID0gJCgnPGRpdiBpZD0iaHRtbF82NjFhMDFkMDE3NmY0Y2E5OWY5Zjk2NWZiYjhlZjJmYiIgc3R5bGU9IndpZHRoOiAxMDAuMCU7IGhlaWdodDogMTAwLjAlOyI+Y2x1c3RlciA9IDggJiBtb3N0IHZpc2l0ZWQgY2x1c3RlciA9IDcgJiBhdmcgdHJpcHRpbWUgZnJvbSB0aGlzIGNsdXN0ZXIgPTc5Mi4wPC9kaXY+JylbMF07CiAgICAgICAgICAgICAgICBwb3B1cF80MTRkOWEzZWUzMjQ0ODQ1YmJmZWNkMWI1ZGZjNzFlYy5zZXRDb250ZW50KGh0bWxfNjYxYTAxZDAxNzZmNGNhOTlmOWY5NjVmYmI4ZWYyZmIpOwogICAgICAgICAgICAKCiAgICAgICAgICAgIG1hcmtlcl81M2RmMGQyNjYwZjc0Y2IyODBmY2QyNjE0ZDU1OGRiZi5iaW5kUG9wdXAocG9wdXBfNDE0ZDlhM2VlMzI0NDg0NWJiZmVjZDFiNWRmYzcxZWMpOwoKICAgICAgICAgICAgCiAgICAgICAgCiAgICAKICAgICAgICAgICAgdmFyIGNpcmNsZV9tYXJrZXJfMjFhYjhjOWMwNGZiNDBmYWE2YmRhYmY4ZTgxMjE3NDcgPSBMLmNpcmNsZU1hcmtlcigKICAgICAgICAgICAgICAgIFszOC40NzM3MDYyNDU0LC03Ni45OTc3OTcwMTIzXSwKICAgICAgICAgICAgICAgIHsKICAiYnViYmxpbmdNb3VzZUV2ZW50cyI6IHRydWUsCiAgImNvbG9yIjogIiNGMDgwODAiLAogICJkYXNoQXJyYXkiOiBudWxsLAogICJkYXNoT2Zmc2V0IjogbnVsbCwKICAiZmlsbCI6IGZhbHNlLAogICJmaWxsQ29sb3IiOiAiIzMxODZjYyIsCiAgImZpbGxPcGFjaXR5IjogMC4yLAogICJmaWxsUnVsZSI6ICJldmVub2RkIiwKICAibGluZUNhcCI6ICJyb3VuZCIsCiAgImxpbmVKb2luIjogInJvdW5kIiwKICAib3BhY2l0eSI6IDEuMCwKICAicmFkaXVzIjogMzAsCiAgInN0cm9rZSI6IHRydWUsCiAgIndlaWdodCI6IDMKfQogICAgICAgICAgICAgICAgKS5hZGRUbyhtYXBfYzYwODljYjE1MDFhNDFkZDg1ZTYwODk5ZjNlZGVlODkpOwogICAgICAgICAgICAKICAgIAogICAgICAgICAgICB2YXIgcG9wdXBfNWY2YmMwODUwY2ZiNDZmYzg2OWFhNjRmMDgzNTE3ZGIgPSBMLnBvcHVwKHttYXhXaWR0aDogJzMwMCd9KTsKCiAgICAgICAgICAgIAogICAgICAgICAgICAgICAgdmFyIGh0bWxfNjlmMGI0MzUzYmExNGFhMmE3Y2Y4YmIzYTUxYzA0ODYgPSAkKCc8ZGl2IGlkPSJodG1sXzY5ZjBiNDM1M2JhMTRhYTJhN2NmOGJiM2E1MWMwNDg2IiBzdHlsZT0id2lkdGg6IDEwMC4wJTsgaGVpZ2h0OiAxMDAuMCU7Ij5jbHVzdGVyID0gOSAmIG1vc3QgdmlzaXRlZCBjbHVzdGVyID0gOSAmIGF2ZyB0cmlwdGltZSBmcm9tIHRoaXMgY2x1c3RlciA9MzY2Ljg3NTwvZGl2PicpWzBdOwogICAgICAgICAgICAgICAgcG9wdXBfNWY2YmMwODUwY2ZiNDZmYzg2OWFhNjRmMDgzNTE3ZGIuc2V0Q29udGVudChodG1sXzY5ZjBiNDM1M2JhMTRhYTJhN2NmOGJiM2E1MWMwNDg2KTsKICAgICAgICAgICAgCgogICAgICAgICAgICBjaXJjbGVfbWFya2VyXzIxYWI4YzljMDRmYjQwZmFhNmJkYWJmOGU4MTIxNzQ3LmJpbmRQb3B1cChwb3B1cF81ZjZiYzA4NTBjZmI0NmZjODY5YWE2NGYwODM1MTdkYik7CgogICAgICAgICAgICAKICAgICAgICAKICAgIAoKICAgICAgICAgICAgdmFyIG1hcmtlcl8xZDBjNDZmOGExMTA0OTFmYTc0MjY4ZDVkYjMzMjgzYiA9IEwubWFya2VyKAogICAgICAgICAgICAgICAgWzM4LjQ3MzcwNjI0NTQsLTc2Ljk5Nzc5NzAxMjNdLAogICAgICAgICAgICAgICAgewogICAgICAgICAgICAgICAgICAgIGljb246IG5ldyBMLkljb24uRGVmYXVsdCgpCiAgICAgICAgICAgICAgICAgICAgfQogICAgICAgICAgICAgICAgKQogICAgICAgICAgICAgICAgLmFkZFRvKG1hcF9jNjA4OWNiMTUwMWE0MWRkODVlNjA4OTlmM2VkZWU4OSk7CiAgICAgICAgICAgIAogICAgCiAgICAgICAgICAgIHZhciBwb3B1cF82ZWE4NjU4OTA3MTM0ZDhmYTUxMzBjYzZhZTEyNTQ0ZiA9IEwucG9wdXAoe21heFdpZHRoOiAnMzAwJ30pOwoKICAgICAgICAgICAgCiAgICAgICAgICAgICAgICB2YXIgaHRtbF8zM2IzMTg1NzIwZWQ0ZjVkOGIyMzc0ODAwMmU5ZDNmZSA9ICQoJzxkaXYgaWQ9Imh0bWxfMzNiMzE4NTcyMGVkNGY1ZDhiMjM3NDgwMDJlOWQzZmUiIHN0eWxlPSJ3aWR0aDogMTAwLjAlOyBoZWlnaHQ6IDEwMC4wJTsiPmNsdXN0ZXIgPSA5ICYgbW9zdCB2aXNpdGVkIGNsdXN0ZXIgPSA5ICYgYXZnIHRyaXB0aW1lIGZyb20gdGhpcyBjbHVzdGVyID0zNjYuODc1PC9kaXY+JylbMF07CiAgICAgICAgICAgICAgICBwb3B1cF82ZWE4NjU4OTA3MTM0ZDhmYTUxMzBjYzZhZTEyNTQ0Zi5zZXRDb250ZW50KGh0bWxfMzNiMzE4NTcyMGVkNGY1ZDhiMjM3NDgwMDJlOWQzZmUpOwogICAgICAgICAgICAKCiAgICAgICAgICAgIG1hcmtlcl8xZDBjNDZmOGExMTA0OTFmYTc0MjY4ZDVkYjMzMjgzYi5iaW5kUG9wdXAocG9wdXBfNmVhODY1ODkwNzEzNGQ4ZmE1MTMwY2M2YWUxMjU0NGYpOwoKICAgICAgICAgICAgCiAgICAgICAgCiAgICAKICAgICAgICAgICAgdmFyIGNpcmNsZV9tYXJrZXJfYTFjN2JkMjg3ODJmNDlhYmI1NGY0Zjk2NWM5M2Q4MGYgPSBMLmNpcmNsZU1hcmtlcigKICAgICAgICAgICAgICAgIFs0MC42OTA5MDYwMzUxLC03My45Njk3NDY2NjEyXSwKICAgICAgICAgICAgICAgIHsKICAiYnViYmxpbmdNb3VzZUV2ZW50cyI6IHRydWUsCiAgImNvbG9yIjogIiNGMDgwODAiLAogICJkYXNoQXJyYXkiOiBudWxsLAogICJkYXNoT2Zmc2V0IjogbnVsbCwKICAiZmlsbCI6IGZhbHNlLAogICJmaWxsQ29sb3IiOiAiIzMxODZjYyIsCiAgImZpbGxPcGFjaXR5IjogMC4yLAogICJmaWxsUnVsZSI6ICJldmVub2RkIiwKICAibGluZUNhcCI6ICJyb3VuZCIsCiAgImxpbmVKb2luIjogInJvdW5kIiwKICAib3BhY2l0eSI6IDEuMCwKICAicmFkaXVzIjogMzAsCiAgInN0cm9rZSI6IHRydWUsCiAgIndlaWdodCI6IDMKfQogICAgICAgICAgICAgICAgKS5hZGRUbyhtYXBfYzYwODljYjE1MDFhNDFkZDg1ZTYwODk5ZjNlZGVlODkpOwogICAgICAgICAgICAKICAgIAogICAgICAgICAgICB2YXIgcG9wdXBfNzllNjM3YzkzZmJmNGQwZGJiZjQyYmQwMzQwNmExOTIgPSBMLnBvcHVwKHttYXhXaWR0aDogJzMwMCd9KTsKCiAgICAgICAgICAgIAogICAgICAgICAgICAgICAgdmFyIGh0bWxfM2I3NzgyMTk2MmM1NGQyY2I5MzQ3OTVhMGEwYzc5ZjcgPSAkKCc8ZGl2IGlkPSJodG1sXzNiNzc4MjE5NjJjNTRkMmNiOTM0Nzk1YTBhMGM3OWY3IiBzdHlsZT0id2lkdGg6IDEwMC4wJTsgaGVpZ2h0OiAxMDAuMCU7Ij5jbHVzdGVyID0gMTAgJiBtb3N0IHZpc2l0ZWQgY2x1c3RlciA9IDEwICYgYXZnIHRyaXB0aW1lIGZyb20gdGhpcyBjbHVzdGVyID05NTYuMTM0Mjk4NDAzPC9kaXY+JylbMF07CiAgICAgICAgICAgICAgICBwb3B1cF83OWU2MzdjOTNmYmY0ZDBkYmJmNDJiZDAzNDA2YTE5Mi5zZXRDb250ZW50KGh0bWxfM2I3NzgyMTk2MmM1NGQyY2I5MzQ3OTVhMGEwYzc5ZjcpOwogICAgICAgICAgICAKCiAgICAgICAgICAgIGNpcmNsZV9tYXJrZXJfYTFjN2JkMjg3ODJmNDlhYmI1NGY0Zjk2NWM5M2Q4MGYuYmluZFBvcHVwKHBvcHVwXzc5ZTYzN2M5M2ZiZjRkMGRiYmY0MmJkMDM0MDZhMTkyKTsKCiAgICAgICAgICAgIAogICAgICAgIAogICAgCgogICAgICAgICAgICB2YXIgbWFya2VyXzlkNGVlNGIyN2M2ODRmYTM4OGY2NDg2NjdlMTZiYzE5ID0gTC5tYXJrZXIoCiAgICAgICAgICAgICAgICBbNDAuNjkwOTA2MDM1MSwtNzMuOTY5NzQ2NjYxMl0sCiAgICAgICAgICAgICAgICB7CiAgICAgICAgICAgICAgICAgICAgaWNvbjogbmV3IEwuSWNvbi5EZWZhdWx0KCkKICAgICAgICAgICAgICAgICAgICB9CiAgICAgICAgICAgICAgICApCiAgICAgICAgICAgICAgICAuYWRkVG8obWFwX2M2MDg5Y2IxNTAxYTQxZGQ4NWU2MDg5OWYzZWRlZTg5KTsKICAgICAgICAgICAgCiAgICAKICAgICAgICAgICAgdmFyIHBvcHVwXzFmNGRlOTM5NTc4NjRiOWViMTk0MjczMTFkMjY5ZTQxID0gTC5wb3B1cCh7bWF4V2lkdGg6ICczMDAnfSk7CgogICAgICAgICAgICAKICAgICAgICAgICAgICAgIHZhciBodG1sXzM5MWFiOWY4ZmQ4MjRjYTk5MmE0MTFlZDg0NzM4N2FjID0gJCgnPGRpdiBpZD0iaHRtbF8zOTFhYjlmOGZkODI0Y2E5OTJhNDExZWQ4NDczODdhYyIgc3R5bGU9IndpZHRoOiAxMDAuMCU7IGhlaWdodDogMTAwLjAlOyI+Y2x1c3RlciA9IDEwICYgbW9zdCB2aXNpdGVkIGNsdXN0ZXIgPSAxMCAmIGF2ZyB0cmlwdGltZSBmcm9tIHRoaXMgY2x1c3RlciA9OTU2LjEzNDI5ODQwMzwvZGl2PicpWzBdOwogICAgICAgICAgICAgICAgcG9wdXBfMWY0ZGU5Mzk1Nzg2NGI5ZWIxOTQyNzMxMWQyNjllNDEuc2V0Q29udGVudChodG1sXzM5MWFiOWY4ZmQ4MjRjYTk5MmE0MTFlZDg0NzM4N2FjKTsKICAgICAgICAgICAgCgogICAgICAgICAgICBtYXJrZXJfOWQ0ZWU0YjI3YzY4NGZhMzg4ZjY0ODY2N2UxNmJjMTkuYmluZFBvcHVwKHBvcHVwXzFmNGRlOTM5NTc4NjRiOWViMTk0MjczMTFkMjY5ZTQxKTsKCiAgICAgICAgICAgIAogICAgICAgIAogICAgCiAgICAgICAgICAgIHZhciBjaXJjbGVfbWFya2VyX2I1MzgwODBiNjMxMTRjOTg5NmFkODA3ZDk0MWVmMTc3ID0gTC5jaXJjbGVNYXJrZXIoCiAgICAgICAgICAgICAgICBbNDAuNzE0MTAyNTMxNCwtNzQuMDA4MjI5ODEyOV0sCiAgICAgICAgICAgICAgICB7CiAgImJ1YmJsaW5nTW91c2VFdmVudHMiOiB0cnVlLAogICJjb2xvciI6ICIjRjA4MDgwIiwKICAiZGFzaEFycmF5IjogbnVsbCwKICAiZGFzaE9mZnNldCI6IG51bGwsCiAgImZpbGwiOiBmYWxzZSwKICAiZmlsbENvbG9yIjogIiMzMTg2Y2MiLAogICJmaWxsT3BhY2l0eSI6IDAuMiwKICAiZmlsbFJ1bGUiOiAiZXZlbm9kZCIsCiAgImxpbmVDYXAiOiAicm91bmQiLAogICJsaW5lSm9pbiI6ICJyb3VuZCIsCiAgIm9wYWNpdHkiOiAxLjAsCiAgInJhZGl1cyI6IDMwLAogICJzdHJva2UiOiB0cnVlLAogICJ3ZWlnaHQiOiAzCn0KICAgICAgICAgICAgICAgICkuYWRkVG8obWFwX2M2MDg5Y2IxNTAxYTQxZGQ4NWU2MDg5OWYzZWRlZTg5KTsKICAgICAgICAgICAgCiAgICAKICAgICAgICAgICAgdmFyIHBvcHVwXzFlYjcxZjA3YjYwNTRiODY4OGYyMDE5MjU3M2VkN2QzID0gTC5wb3B1cCh7bWF4V2lkdGg6ICczMDAnfSk7CgogICAgICAgICAgICAKICAgICAgICAgICAgICAgIHZhciBodG1sXzlhZjc3OGQ0ZTE4NDRmMWZiOTMzOTcwYTdhYjNjZWMzID0gJCgnPGRpdiBpZD0iaHRtbF85YWY3NzhkNGUxODQ0ZjFmYjkzMzk3MGE3YWIzY2VjMyIgc3R5bGU9IndpZHRoOiAxMDAuMCU7IGhlaWdodDogMTAwLjAlOyI+Y2x1c3RlciA9IDExICYgbW9zdCB2aXNpdGVkIGNsdXN0ZXIgPSAxMSAmIGF2ZyB0cmlwdGltZSBmcm9tIHRoaXMgY2x1c3RlciA9MTA3MS4yODk0NDY3NzwvZGl2PicpWzBdOwogICAgICAgICAgICAgICAgcG9wdXBfMWViNzFmMDdiNjA1NGI4Njg4ZjIwMTkyNTczZWQ3ZDMuc2V0Q29udGVudChodG1sXzlhZjc3OGQ0ZTE4NDRmMWZiOTMzOTcwYTdhYjNjZWMzKTsKICAgICAgICAgICAgCgogICAgICAgICAgICBjaXJjbGVfbWFya2VyX2I1MzgwODBiNjMxMTRjOTg5NmFkODA3ZDk0MWVmMTc3LmJpbmRQb3B1cChwb3B1cF8xZWI3MWYwN2I2MDU0Yjg2ODhmMjAxOTI1NzNlZDdkMyk7CgogICAgICAgICAgICAKICAgICAgICAKICAgIAoKICAgICAgICAgICAgdmFyIG1hcmtlcl85MTJlZjI2NTAyNzI0ODNhYmMyNDJlZmMxYjdmMDNlZiA9IEwubWFya2VyKAogICAgICAgICAgICAgICAgWzQwLjcxNDEwMjUzMTQsLTc0LjAwODIyOTgxMjldLAogICAgICAgICAgICAgICAgewogICAgICAgICAgICAgICAgICAgIGljb246IG5ldyBMLkljb24uRGVmYXVsdCgpCiAgICAgICAgICAgICAgICAgICAgfQogICAgICAgICAgICAgICAgKQogICAgICAgICAgICAgICAgLmFkZFRvKG1hcF9jNjA4OWNiMTUwMWE0MWRkODVlNjA4OTlmM2VkZWU4OSk7CiAgICAgICAgICAgIAogICAgCiAgICAgICAgICAgIHZhciBwb3B1cF84NzFlYzZlNDBkNWM0ZDEyOTIxZmQzYjRkYmZkYjY1MSA9IEwucG9wdXAoe21heFdpZHRoOiAnMzAwJ30pOwoKICAgICAgICAgICAgCiAgICAgICAgICAgICAgICB2YXIgaHRtbF80YjJlOTYzOTQ2ZjQ0MmIzYjkzZjMyMTIwOTM1YWM0OSA9ICQoJzxkaXYgaWQ9Imh0bWxfNGIyZTk2Mzk0NmY0NDJiM2I5M2YzMjEyMDkzNWFjNDkiIHN0eWxlPSJ3aWR0aDogMTAwLjAlOyBoZWlnaHQ6IDEwMC4wJTsiPmNsdXN0ZXIgPSAxMSAmIG1vc3QgdmlzaXRlZCBjbHVzdGVyID0gMTEgJiBhdmcgdHJpcHRpbWUgZnJvbSB0aGlzIGNsdXN0ZXIgPTEwNzEuMjg5NDQ2Nzc8L2Rpdj4nKVswXTsKICAgICAgICAgICAgICAgIHBvcHVwXzg3MWVjNmU0MGQ1YzRkMTI5MjFmZDNiNGRiZmRiNjUxLnNldENvbnRlbnQoaHRtbF80YjJlOTYzOTQ2ZjQ0MmIzYjkzZjMyMTIwOTM1YWM0OSk7CiAgICAgICAgICAgIAoKICAgICAgICAgICAgbWFya2VyXzkxMmVmMjY1MDI3MjQ4M2FiYzI0MmVmYzFiN2YwM2VmLmJpbmRQb3B1cChwb3B1cF84NzFlYzZlNDBkNWM0ZDEyOTIxZmQzYjRkYmZkYjY1MSk7CgogICAgICAgICAgICAKICAgICAgICAKICAgIAogICAgICAgICAgICB2YXIgY2lyY2xlX21hcmtlcl8wYzJhZTlhODdhNDU0N2IxYTdmYzBiZDRhMDkwYzk5ZSA9IEwuY2lyY2xlTWFya2VyKAogICAgICAgICAgICAgICAgWzQ0LjM3MTk0NDQyNzUsLTY2Ljk3MjE2MDMzOTRdLAogICAgICAgICAgICAgICAgewogICJidWJibGluZ01vdXNlRXZlbnRzIjogdHJ1ZSwKICAiY29sb3IiOiAiI0YwODA4MCIsCiAgImRhc2hBcnJheSI6IG51bGwsCiAgImRhc2hPZmZzZXQiOiBudWxsLAogICJmaWxsIjogZmFsc2UsCiAgImZpbGxDb2xvciI6ICIjMzE4NmNjIiwKICAiZmlsbE9wYWNpdHkiOiAwLjIsCiAgImZpbGxSdWxlIjogImV2ZW5vZGQiLAogICJsaW5lQ2FwIjogInJvdW5kIiwKICAibGluZUpvaW4iOiAicm91bmQiLAogICJvcGFjaXR5IjogMS4wLAogICJyYWRpdXMiOiAzMCwKICAic3Ryb2tlIjogdHJ1ZSwKICAid2VpZ2h0IjogMwp9CiAgICAgICAgICAgICAgICApLmFkZFRvKG1hcF9jNjA4OWNiMTUwMWE0MWRkODVlNjA4OTlmM2VkZWU4OSk7CiAgICAgICAgICAgIAogICAgCiAgICAgICAgICAgIHZhciBwb3B1cF80MGQ1NDIxYmE2NzY0YWM3YjBkZGRiZGQ2ZDUwOTNiNSA9IEwucG9wdXAoe21heFdpZHRoOiAnMzAwJ30pOwoKICAgICAgICAgICAgCiAgICAgICAgICAgICAgICB2YXIgaHRtbF85NjU3YTNjYjYzNjQ0YzFhODUxZThhYTU5MDczMmFiZiA9ICQoJzxkaXYgaWQ9Imh0bWxfOTY1N2EzY2I2MzY0NGMxYTg1MWU4YWE1OTA3MzJhYmYiIHN0eWxlPSJ3aWR0aDogMTAwLjAlOyBoZWlnaHQ6IDEwMC4wJTsiPmNsdXN0ZXIgPSAxMiAmIG1vc3QgdmlzaXRlZCBjbHVzdGVyID0gMTIgJiBhdmcgdHJpcHRpbWUgZnJvbSB0aGlzIGNsdXN0ZXIgPTExMzEuMDwvZGl2PicpWzBdOwogICAgICAgICAgICAgICAgcG9wdXBfNDBkNTQyMWJhNjc2NGFjN2IwZGRkYmRkNmQ1MDkzYjUuc2V0Q29udGVudChodG1sXzk2NTdhM2NiNjM2NDRjMWE4NTFlOGFhNTkwNzMyYWJmKTsKICAgICAgICAgICAgCgogICAgICAgICAgICBjaXJjbGVfbWFya2VyXzBjMmFlOWE4N2E0NTQ3YjFhN2ZjMGJkNGEwOTBjOTllLmJpbmRQb3B1cChwb3B1cF80MGQ1NDIxYmE2NzY0YWM3YjBkZGRiZGQ2ZDUwOTNiNSk7CgogICAgICAgICAgICAKICAgICAgICAKICAgIAoKICAgICAgICAgICAgdmFyIG1hcmtlcl8wYzA3ODgxZGMwNjk0YWUyODZmYjhmOGMzMTk1MmQzMSA9IEwubWFya2VyKAogICAgICAgICAgICAgICAgWzQ0LjM3MTk0NDQyNzUsLTY2Ljk3MjE2MDMzOTRdLAogICAgICAgICAgICAgICAgewogICAgICAgICAgICAgICAgICAgIGljb246IG5ldyBMLkljb24uRGVmYXVsdCgpCiAgICAgICAgICAgICAgICAgICAgfQogICAgICAgICAgICAgICAgKQogICAgICAgICAgICAgICAgLmFkZFRvKG1hcF9jNjA4OWNiMTUwMWE0MWRkODVlNjA4OTlmM2VkZWU4OSk7CiAgICAgICAgICAgIAogICAgCiAgICAgICAgICAgIHZhciBwb3B1cF84YjVhZGQzYTg4MDY0NzAzODRiZGQ4ZGFjZGRmNjEzMyA9IEwucG9wdXAoe21heFdpZHRoOiAnMzAwJ30pOwoKICAgICAgICAgICAgCiAgICAgICAgICAgICAgICB2YXIgaHRtbF8yNjMyM2UyMjE5MmY0NzA5YjRiZTdhOGJhNDRjZGY0ZSA9ICQoJzxkaXYgaWQ9Imh0bWxfMjYzMjNlMjIxOTJmNDcwOWI0YmU3YThiYTQ0Y2RmNGUiIHN0eWxlPSJ3aWR0aDogMTAwLjAlOyBoZWlnaHQ6IDEwMC4wJTsiPmNsdXN0ZXIgPSAxMiAmIG1vc3QgdmlzaXRlZCBjbHVzdGVyID0gMTIgJiBhdmcgdHJpcHRpbWUgZnJvbSB0aGlzIGNsdXN0ZXIgPTExMzEuMDwvZGl2PicpWzBdOwogICAgICAgICAgICAgICAgcG9wdXBfOGI1YWRkM2E4ODA2NDcwMzg0YmRkOGRhY2RkZjYxMzMuc2V0Q29udGVudChodG1sXzI2MzIzZTIyMTkyZjQ3MDliNGJlN2E4YmE0NGNkZjRlKTsKICAgICAgICAgICAgCgogICAgICAgICAgICBtYXJrZXJfMGMwNzg4MWRjMDY5NGFlMjg2ZmI4ZjhjMzE5NTJkMzEuYmluZFBvcHVwKHBvcHVwXzhiNWFkZDNhODgwNjQ3MDM4NGJkZDhkYWNkZGY2MTMzKTsKCiAgICAgICAgICAgIAogICAgICAgIAogICAgCiAgICAgICAgICAgIHZhciBjaXJjbGVfbWFya2VyX2U2NTU1ZDBhZGYyMTQ0Njc4NDVkZGU4YmZmZDZjMjI1ID0gTC5jaXJjbGVNYXJrZXIoCiAgICAgICAgICAgICAgICBbMzcuODUxMDUxMzMwNiwtNjEuMzM1NTI5MzI3NF0sCiAgICAgICAgICAgICAgICB7CiAgImJ1YmJsaW5nTW91c2VFdmVudHMiOiB0cnVlLAogICJjb2xvciI6ICIjRjA4MDgwIiwKICAiZGFzaEFycmF5IjogbnVsbCwKICAiZGFzaE9mZnNldCI6IG51bGwsCiAgImZpbGwiOiBmYWxzZSwKICAiZmlsbENvbG9yIjogIiMzMTg2Y2MiLAogICJmaWxsT3BhY2l0eSI6IDAuMiwKICAiZmlsbFJ1bGUiOiAiZXZlbm9kZCIsCiAgImxpbmVDYXAiOiAicm91bmQiLAogICJsaW5lSm9pbiI6ICJyb3VuZCIsCiAgIm9wYWNpdHkiOiAxLjAsCiAgInJhZGl1cyI6IDMwLAogICJzdHJva2UiOiB0cnVlLAogICJ3ZWlnaHQiOiAzCn0KICAgICAgICAgICAgICAgICkuYWRkVG8obWFwX2M2MDg5Y2IxNTAxYTQxZGQ4NWU2MDg5OWYzZWRlZTg5KTsKICAgICAgICAgICAgCiAgICAKICAgICAgICAgICAgdmFyIHBvcHVwX2Y2MGY3OGQ4OGM2MTQwZWM5NzRmYzc0NjRiNjI0YWJkID0gTC5wb3B1cCh7bWF4V2lkdGg6ICczMDAnfSk7CgogICAgICAgICAgICAKICAgICAgICAgICAgICAgIHZhciBodG1sXzFhMzNjN2YyYTQ4YzQyMGJhNDUyYTA4M2I1NTI3ZWI2ID0gJCgnPGRpdiBpZD0iaHRtbF8xYTMzYzdmMmE0OGM0MjBiYTQ1MmEwODNiNTUyN2ViNiIgc3R5bGU9IndpZHRoOiAxMDAuMCU7IGhlaWdodDogMTAwLjAlOyI+Y2x1c3RlciA9IDEzICYgbW9zdCB2aXNpdGVkIGNsdXN0ZXIgPSAxMyAmIGF2ZyB0cmlwdGltZSBmcm9tIHRoaXMgY2x1c3RlciA9MzY5LjA8L2Rpdj4nKVswXTsKICAgICAgICAgICAgICAgIHBvcHVwX2Y2MGY3OGQ4OGM2MTQwZWM5NzRmYzc0NjRiNjI0YWJkLnNldENvbnRlbnQoaHRtbF8xYTMzYzdmMmE0OGM0MjBiYTQ1MmEwODNiNTUyN2ViNik7CiAgICAgICAgICAgIAoKICAgICAgICAgICAgY2lyY2xlX21hcmtlcl9lNjU1NWQwYWRmMjE0NDY3ODQ1ZGRlOGJmZmQ2YzIyNS5iaW5kUG9wdXAocG9wdXBfZjYwZjc4ZDg4YzYxNDBlYzk3NGZjNzQ2NGI2MjRhYmQpOwoKICAgICAgICAgICAgCiAgICAgICAgCiAgICAKCiAgICAgICAgICAgIHZhciBtYXJrZXJfYjYwOTNiNmZiYjEwNDRlYmEzNGI3M2MzN2ZhNzg0NjEgPSBMLm1hcmtlcigKICAgICAgICAgICAgICAgIFszNy44NTEwNTEzMzA2LC02MS4zMzU1MjkzMjc0XSwKICAgICAgICAgICAgICAgIHsKICAgICAgICAgICAgICAgICAgICBpY29uOiBuZXcgTC5JY29uLkRlZmF1bHQoKQogICAgICAgICAgICAgICAgICAgIH0KICAgICAgICAgICAgICAgICkKICAgICAgICAgICAgICAgIC5hZGRUbyhtYXBfYzYwODljYjE1MDFhNDFkZDg1ZTYwODk5ZjNlZGVlODkpOwogICAgICAgICAgICAKICAgIAogICAgICAgICAgICB2YXIgcG9wdXBfMDMyN2M4ZTg4ZjBhNDdkZTg0ZjJiOGEwM2UwNDM5YzYgPSBMLnBvcHVwKHttYXhXaWR0aDogJzMwMCd9KTsKCiAgICAgICAgICAgIAogICAgICAgICAgICAgICAgdmFyIGh0bWxfNTNhOTlmNDg3ZGE1NGE5NzlhM2M1NjZlNGE0NWRkNWQgPSAkKCc8ZGl2IGlkPSJodG1sXzUzYTk5ZjQ4N2RhNTRhOTc5YTNjNTY2ZTRhNDVkZDVkIiBzdHlsZT0id2lkdGg6IDEwMC4wJTsgaGVpZ2h0OiAxMDAuMCU7Ij5jbHVzdGVyID0gMTMgJiBtb3N0IHZpc2l0ZWQgY2x1c3RlciA9IDEzICYgYXZnIHRyaXB0aW1lIGZyb20gdGhpcyBjbHVzdGVyID0zNjkuMDwvZGl2PicpWzBdOwogICAgICAgICAgICAgICAgcG9wdXBfMDMyN2M4ZTg4ZjBhNDdkZTg0ZjJiOGEwM2UwNDM5YzYuc2V0Q29udGVudChodG1sXzUzYTk5ZjQ4N2RhNTRhOTc5YTNjNTY2ZTRhNDVkZDVkKTsKICAgICAgICAgICAgCgogICAgICAgICAgICBtYXJrZXJfYjYwOTNiNmZiYjEwNDRlYmEzNGI3M2MzN2ZhNzg0NjEuYmluZFBvcHVwKHBvcHVwXzAzMjdjOGU4OGYwYTQ3ZGU4NGYyYjhhMDNlMDQzOWM2KTsKCiAgICAgICAgICAgIAogICAgICAgIAogICAgCiAgICAgICAgICAgIHZhciBjaXJjbGVfbWFya2VyXzNhODFjZjBlYmM2ZTRhNDU5ZThiMTNjMDgyMGJhOTMyID0gTC5jaXJjbGVNYXJrZXIoCiAgICAgICAgICAgICAgICBbNDAuNzc4MzU5MDM3LC03My45ODAwMjExMjc2XSwKICAgICAgICAgICAgICAgIHsKICAiYnViYmxpbmdNb3VzZUV2ZW50cyI6IHRydWUsCiAgImNvbG9yIjogIiNGMDgwODAiLAogICJkYXNoQXJyYXkiOiBudWxsLAogICJkYXNoT2Zmc2V0IjogbnVsbCwKICAiZmlsbCI6IGZhbHNlLAogICJmaWxsQ29sb3IiOiAiIzMxODZjYyIsCiAgImZpbGxPcGFjaXR5IjogMC4yLAogICJmaWxsUnVsZSI6ICJldmVub2RkIiwKICAibGluZUNhcCI6ICJyb3VuZCIsCiAgImxpbmVKb2luIjogInJvdW5kIiwKICAib3BhY2l0eSI6IDEuMCwKICAicmFkaXVzIjogMzAsCiAgInN0cm9rZSI6IHRydWUsCiAgIndlaWdodCI6IDMKfQogICAgICAgICAgICAgICAgKS5hZGRUbyhtYXBfYzYwODljYjE1MDFhNDFkZDg1ZTYwODk5ZjNlZGVlODkpOwogICAgICAgICAgICAKICAgIAogICAgICAgICAgICB2YXIgcG9wdXBfY2M3MDkzOTUyMjBlNDgxMjhkNDQ1ZjVmYTQyOGVjNzkgPSBMLnBvcHVwKHttYXhXaWR0aDogJzMwMCd9KTsKCiAgICAgICAgICAgIAogICAgICAgICAgICAgICAgdmFyIGh0bWxfMzY1Njc3YzljMWJjNDRjZWI0ZTg3NWViNzVjYmY1NTYgPSAkKCc8ZGl2IGlkPSJodG1sXzM2NTY3N2M5YzFiYzQ0Y2ViNGU4NzVlYjc1Y2JmNTU2IiBzdHlsZT0id2lkdGg6IDEwMC4wJTsgaGVpZ2h0OiAxMDAuMCU7Ij5jbHVzdGVyID0gMTQgJiBtb3N0IHZpc2l0ZWQgY2x1c3RlciA9IDE0ICYgYXZnIHRyaXB0aW1lIGZyb20gdGhpcyBjbHVzdGVyID04MTkuODA2NDg1Mjk5PC9kaXY+JylbMF07CiAgICAgICAgICAgICAgICBwb3B1cF9jYzcwOTM5NTIyMGU0ODEyOGQ0NDVmNWZhNDI4ZWM3OS5zZXRDb250ZW50KGh0bWxfMzY1Njc3YzljMWJjNDRjZWI0ZTg3NWViNzVjYmY1NTYpOwogICAgICAgICAgICAKCiAgICAgICAgICAgIGNpcmNsZV9tYXJrZXJfM2E4MWNmMGViYzZlNGE0NTllOGIxM2MwODIwYmE5MzIuYmluZFBvcHVwKHBvcHVwX2NjNzA5Mzk1MjIwZTQ4MTI4ZDQ0NWY1ZmE0MjhlYzc5KTsKCiAgICAgICAgICAgIAogICAgICAgIAogICAgCgogICAgICAgICAgICB2YXIgbWFya2VyX2Y5OTVkZDRlZWFjMjQ1N2FiMWI0NWJlYjEyYjgzMjA2ID0gTC5tYXJrZXIoCiAgICAgICAgICAgICAgICBbNDAuNzc4MzU5MDM3LC03My45ODAwMjExMjc2XSwKICAgICAgICAgICAgICAgIHsKICAgICAgICAgICAgICAgICAgICBpY29uOiBuZXcgTC5JY29uLkRlZmF1bHQoKQogICAgICAgICAgICAgICAgICAgIH0KICAgICAgICAgICAgICAgICkKICAgICAgICAgICAgICAgIC5hZGRUbyhtYXBfYzYwODljYjE1MDFhNDFkZDg1ZTYwODk5ZjNlZGVlODkpOwogICAgICAgICAgICAKICAgIAogICAgICAgICAgICB2YXIgcG9wdXBfM2U0YTIyZDlmZmZmNDIyMzk1YjczMDUyMWYwMTBjY2UgPSBMLnBvcHVwKHttYXhXaWR0aDogJzMwMCd9KTsKCiAgICAgICAgICAgIAogICAgICAgICAgICAgICAgdmFyIGh0bWxfMzM2MTYzMTFlNTU3NDFhMThmYjVjZmE3ODZhMzA5NGEgPSAkKCc8ZGl2IGlkPSJodG1sXzMzNjE2MzExZTU1NzQxYTE4ZmI1Y2ZhNzg2YTMwOTRhIiBzdHlsZT0id2lkdGg6IDEwMC4wJTsgaGVpZ2h0OiAxMDAuMCU7Ij5jbHVzdGVyID0gMTQgJiBtb3N0IHZpc2l0ZWQgY2x1c3RlciA9IDE0ICYgYXZnIHRyaXB0aW1lIGZyb20gdGhpcyBjbHVzdGVyID04MTkuODA2NDg1Mjk5PC9kaXY+JylbMF07CiAgICAgICAgICAgICAgICBwb3B1cF8zZTRhMjJkOWZmZmY0MjIzOTViNzMwNTIxZjAxMGNjZS5zZXRDb250ZW50KGh0bWxfMzM2MTYzMTFlNTU3NDFhMThmYjVjZmE3ODZhMzA5NGEpOwogICAgICAgICAgICAKCiAgICAgICAgICAgIG1hcmtlcl9mOTk1ZGQ0ZWVhYzI0NTdhYjFiNDViZWIxMmI4MzIwNi5iaW5kUG9wdXAocG9wdXBfM2U0YTIyZDlmZmZmNDIyMzk1YjczMDUyMWYwMTBjY2UpOwoKICAgICAgICAgICAgCiAgICAgICAgCiAgICAKICAgICAgICAgICAgdmFyIGNpcmNsZV9tYXJrZXJfODg3NDc1ZWY5NDgyNDEyNTgyNDgxMmMzN2ZjMjgyOTggPSBMLmNpcmNsZU1hcmtlcigKICAgICAgICAgICAgICAgIFs0My4yMDI5NjQwMTk4LC03Mi4wMDYyNjUyNTg4XSwKICAgICAgICAgICAgICAgIHsKICAiYnViYmxpbmdNb3VzZUV2ZW50cyI6IHRydWUsCiAgImNvbG9yIjogIiNGMDgwODAiLAogICJkYXNoQXJyYXkiOiBudWxsLAogICJkYXNoT2Zmc2V0IjogbnVsbCwKICAiZmlsbCI6IGZhbHNlLAogICJmaWxsQ29sb3IiOiAiIzMxODZjYyIsCiAgImZpbGxPcGFjaXR5IjogMC4yLAogICJmaWxsUnVsZSI6ICJldmVub2RkIiwKICAibGluZUNhcCI6ICJyb3VuZCIsCiAgImxpbmVKb2luIjogInJvdW5kIiwKICAib3BhY2l0eSI6IDEuMCwKICAicmFkaXVzIjogMzAsCiAgInN0cm9rZSI6IHRydWUsCiAgIndlaWdodCI6IDMKfQogICAgICAgICAgICAgICAgKS5hZGRUbyhtYXBfYzYwODljYjE1MDFhNDFkZDg1ZTYwODk5ZjNlZGVlODkpOwogICAgICAgICAgICAKICAgIAogICAgICAgICAgICB2YXIgcG9wdXBfOGUzODdlMzhmZDM5NGE3MWJhODU1MTZlNzg0ODU3YzUgPSBMLnBvcHVwKHttYXhXaWR0aDogJzMwMCd9KTsKCiAgICAgICAgICAgIAogICAgICAgICAgICAgICAgdmFyIGh0bWxfOGJlOWM3YTk2NDM0NDkwZTk2NzM3NTg1ZGY2MWM3ZDEgPSAkKCc8ZGl2IGlkPSJodG1sXzhiZTljN2E5NjQzNDQ5MGU5NjczNzU4NWRmNjFjN2QxIiBzdHlsZT0id2lkdGg6IDEwMC4wJTsgaGVpZ2h0OiAxMDAuMCU7Ij5jbHVzdGVyID0gMTUgJiBtb3N0IHZpc2l0ZWQgY2x1c3RlciA9IDE1ICYgYXZnIHRyaXB0aW1lIGZyb20gdGhpcyBjbHVzdGVyID03NjMuMDwvZGl2PicpWzBdOwogICAgICAgICAgICAgICAgcG9wdXBfOGUzODdlMzhmZDM5NGE3MWJhODU1MTZlNzg0ODU3YzUuc2V0Q29udGVudChodG1sXzhiZTljN2E5NjQzNDQ5MGU5NjczNzU4NWRmNjFjN2QxKTsKICAgICAgICAgICAgCgogICAgICAgICAgICBjaXJjbGVfbWFya2VyXzg4NzQ3NWVmOTQ4MjQxMjU4MjQ4MTJjMzdmYzI4Mjk4LmJpbmRQb3B1cChwb3B1cF84ZTM4N2UzOGZkMzk0YTcxYmE4NTUxNmU3ODQ4NTdjNSk7CgogICAgICAgICAgICAKICAgICAgICAKICAgIAoKICAgICAgICAgICAgdmFyIG1hcmtlcl81M2Q0NTE3YzYyMjA0ZGJhYTc4NWEwYWU5NWFjNWUzZiA9IEwubWFya2VyKAogICAgICAgICAgICAgICAgWzQzLjIwMjk2NDAxOTgsLTcyLjAwNjI2NTI1ODhdLAogICAgICAgICAgICAgICAgewogICAgICAgICAgICAgICAgICAgIGljb246IG5ldyBMLkljb24uRGVmYXVsdCgpCiAgICAgICAgICAgICAgICAgICAgfQogICAgICAgICAgICAgICAgKQogICAgICAgICAgICAgICAgLmFkZFRvKG1hcF9jNjA4OWNiMTUwMWE0MWRkODVlNjA4OTlmM2VkZWU4OSk7CiAgICAgICAgICAgIAogICAgCiAgICAgICAgICAgIHZhciBwb3B1cF81MGM3NjgxMDM4Nzg0YjkxOTc0MTkwYWM3ZWVmOGQ0ZCA9IEwucG9wdXAoe21heFdpZHRoOiAnMzAwJ30pOwoKICAgICAgICAgICAgCiAgICAgICAgICAgICAgICB2YXIgaHRtbF81NGU0ZDc0ODQ1YmE0YzdmYTIxZTNiOGUxODFkM2JlMiA9ICQoJzxkaXYgaWQ9Imh0bWxfNTRlNGQ3NDg0NWJhNGM3ZmEyMWUzYjhlMTgxZDNiZTIiIHN0eWxlPSJ3aWR0aDogMTAwLjAlOyBoZWlnaHQ6IDEwMC4wJTsiPmNsdXN0ZXIgPSAxNSAmIG1vc3QgdmlzaXRlZCBjbHVzdGVyID0gMTUgJiBhdmcgdHJpcHRpbWUgZnJvbSB0aGlzIGNsdXN0ZXIgPTc2My4wPC9kaXY+JylbMF07CiAgICAgICAgICAgICAgICBwb3B1cF81MGM3NjgxMDM4Nzg0YjkxOTc0MTkwYWM3ZWVmOGQ0ZC5zZXRDb250ZW50KGh0bWxfNTRlNGQ3NDg0NWJhNGM3ZmEyMWUzYjhlMTgxZDNiZTIpOwogICAgICAgICAgICAKCiAgICAgICAgICAgIG1hcmtlcl81M2Q0NTE3YzYyMjA0ZGJhYTc4NWEwYWU5NWFjNWUzZi5iaW5kUG9wdXAocG9wdXBfNTBjNzY4MTAzODc4NGI5MTk3NDE5MGFjN2VlZjhkNGQpOwoKICAgICAgICAgICAgCiAgICAgICAgCiAgICAKICAgICAgICAgICAgdmFyIGNpcmNsZV9tYXJrZXJfMTFjYzdmYTUwOWM2NDQ4NzljNmViNDU1ZWJhYjdiYzggPSBMLmNpcmNsZU1hcmtlcigKICAgICAgICAgICAgICAgIFszNS4wMzQ2OTA4NTY5LC03My4wNzYxODcxMzM4XSwKICAgICAgICAgICAgICAgIHsKICAiYnViYmxpbmdNb3VzZUV2ZW50cyI6IHRydWUsCiAgImNvbG9yIjogIiNGMDgwODAiLAogICJkYXNoQXJyYXkiOiBudWxsLAogICJkYXNoT2Zmc2V0IjogbnVsbCwKICAiZmlsbCI6IGZhbHNlLAogICJmaWxsQ29sb3IiOiAiIzMxODZjYyIsCiAgImZpbGxPcGFjaXR5IjogMC4yLAogICJmaWxsUnVsZSI6ICJldmVub2RkIiwKICAibGluZUNhcCI6ICJyb3VuZCIsCiAgImxpbmVKb2luIjogInJvdW5kIiwKICAib3BhY2l0eSI6IDEuMCwKICAicmFkaXVzIjogMzAsCiAgInN0cm9rZSI6IHRydWUsCiAgIndlaWdodCI6IDMKfQogICAgICAgICAgICAgICAgKS5hZGRUbyhtYXBfYzYwODljYjE1MDFhNDFkZDg1ZTYwODk5ZjNlZGVlODkpOwogICAgICAgICAgICAKICAgIAogICAgICAgICAgICB2YXIgcG9wdXBfYjY3Y2IyODE3OGQ3NDM4YWE4MGMzNGE0YzQ2ZTVkMDUgPSBMLnBvcHVwKHttYXhXaWR0aDogJzMwMCd9KTsKCiAgICAgICAgICAgIAogICAgICAgICAgICAgICAgdmFyIGh0bWxfYjQwN2I5YmFmYTU2NDFkZjg5ZTM2MDc4YTQxZmNiOGIgPSAkKCc8ZGl2IGlkPSJodG1sX2I0MDdiOWJhZmE1NjQxZGY4OWUzNjA3OGE0MWZjYjhiIiBzdHlsZT0id2lkdGg6IDEwMC4wJTsgaGVpZ2h0OiAxMDAuMCU7Ij5jbHVzdGVyID0gMTYgJiBtb3N0IHZpc2l0ZWQgY2x1c3RlciA9IDE2ICYgYXZnIHRyaXB0aW1lIGZyb20gdGhpcyBjbHVzdGVyID02MDEuMDwvZGl2PicpWzBdOwogICAgICAgICAgICAgICAgcG9wdXBfYjY3Y2IyODE3OGQ3NDM4YWE4MGMzNGE0YzQ2ZTVkMDUuc2V0Q29udGVudChodG1sX2I0MDdiOWJhZmE1NjQxZGY4OWUzNjA3OGE0MWZjYjhiKTsKICAgICAgICAgICAgCgogICAgICAgICAgICBjaXJjbGVfbWFya2VyXzExY2M3ZmE1MDljNjQ0ODc5YzZlYjQ1NWViYWI3YmM4LmJpbmRQb3B1cChwb3B1cF9iNjdjYjI4MTc4ZDc0MzhhYTgwYzM0YTRjNDZlNWQwNSk7CgogICAgICAgICAgICAKICAgICAgICAKICAgIAoKICAgICAgICAgICAgdmFyIG1hcmtlcl82MzdkZDljMjVjY2U0NDI3YmQwZTRlYzE2NzJiOTg2NyA9IEwubWFya2VyKAogICAgICAgICAgICAgICAgWzM1LjAzNDY5MDg1NjksLTczLjA3NjE4NzEzMzhdLAogICAgICAgICAgICAgICAgewogICAgICAgICAgICAgICAgICAgIGljb246IG5ldyBMLkljb24uRGVmYXVsdCgpCiAgICAgICAgICAgICAgICAgICAgfQogICAgICAgICAgICAgICAgKQogICAgICAgICAgICAgICAgLmFkZFRvKG1hcF9jNjA4OWNiMTUwMWE0MWRkODVlNjA4OTlmM2VkZWU4OSk7CiAgICAgICAgICAgIAogICAgCiAgICAgICAgICAgIHZhciBwb3B1cF8wMmQ5ZjlhOTAxNzU0ZWU5YTYzYmIyNDczZWM0N2Y1MSA9IEwucG9wdXAoe21heFdpZHRoOiAnMzAwJ30pOwoKICAgICAgICAgICAgCiAgICAgICAgICAgICAgICB2YXIgaHRtbF85NDI0YzkwYzYxYzI0NjFjYmJkNGI3ZGM5YWMzMzJhMiA9ICQoJzxkaXYgaWQ9Imh0bWxfOTQyNGM5MGM2MWMyNDYxY2JiZDRiN2RjOWFjMzMyYTIiIHN0eWxlPSJ3aWR0aDogMTAwLjAlOyBoZWlnaHQ6IDEwMC4wJTsiPmNsdXN0ZXIgPSAxNiAmIG1vc3QgdmlzaXRlZCBjbHVzdGVyID0gMTYgJiBhdmcgdHJpcHRpbWUgZnJvbSB0aGlzIGNsdXN0ZXIgPTYwMS4wPC9kaXY+JylbMF07CiAgICAgICAgICAgICAgICBwb3B1cF8wMmQ5ZjlhOTAxNzU0ZWU5YTYzYmIyNDczZWM0N2Y1MS5zZXRDb250ZW50KGh0bWxfOTQyNGM5MGM2MWMyNDYxY2JiZDRiN2RjOWFjMzMyYTIpOwogICAgICAgICAgICAKCiAgICAgICAgICAgIG1hcmtlcl82MzdkZDljMjVjY2U0NDI3YmQwZTRlYzE2NzJiOTg2Ny5iaW5kUG9wdXAocG9wdXBfMDJkOWY5YTkwMTc1NGVlOWE2M2JiMjQ3M2VjNDdmNTEpOwoKICAgICAgICAgICAgCiAgICAgICAgCiAgICAKICAgICAgICAgICAgdmFyIGNpcmNsZV9tYXJrZXJfNjIwYTJhOTI5NzQ5NDViNDljY2ExYTk3ZmU3NWZkNzggPSBMLmNpcmNsZU1hcmtlcigKICAgICAgICAgICAgICAgIFs0MC44MDMxNzA4NzQyLC03My45NTc1ODM5MzAzXSwKICAgICAgICAgICAgICAgIHsKICAiYnViYmxpbmdNb3VzZUV2ZW50cyI6IHRydWUsCiAgImNvbG9yIjogIiNGMDgwODAiLAogICJkYXNoQXJyYXkiOiBudWxsLAogICJkYXNoT2Zmc2V0IjogbnVsbCwKICAiZmlsbCI6IGZhbHNlLAogICJmaWxsQ29sb3IiOiAiIzMxODZjYyIsCiAgImZpbGxPcGFjaXR5IjogMC4yLAogICJmaWxsUnVsZSI6ICJldmVub2RkIiwKICAibGluZUNhcCI6ICJyb3VuZCIsCiAgImxpbmVKb2luIjogInJvdW5kIiwKICAib3BhY2l0eSI6IDEuMCwKICAicmFkaXVzIjogMzAsCiAgInN0cm9rZSI6IHRydWUsCiAgIndlaWdodCI6IDMKfQogICAgICAgICAgICAgICAgKS5hZGRUbyhtYXBfYzYwODljYjE1MDFhNDFkZDg1ZTYwODk5ZjNlZGVlODkpOwogICAgICAgICAgICAKICAgIAogICAgICAgICAgICB2YXIgcG9wdXBfNzU5MzliMTRhNjBlNDAwNWIxY2QyZjVhZjIyMDg0NDggPSBMLnBvcHVwKHttYXhXaWR0aDogJzMwMCd9KTsKCiAgICAgICAgICAgIAogICAgICAgICAgICAgICAgdmFyIGh0bWxfNzM3Yzg0YTY3ODc2NGFkNjk1NGQzNDVkYzEwYjczOGEgPSAkKCc8ZGl2IGlkPSJodG1sXzczN2M4NGE2Nzg3NjRhZDY5NTRkMzQ1ZGMxMGI3MzhhIiBzdHlsZT0id2lkdGg6IDEwMC4wJTsgaGVpZ2h0OiAxMDAuMCU7Ij5jbHVzdGVyID0gMTcgJiBtb3N0IHZpc2l0ZWQgY2x1c3RlciA9IDE3ICYgYXZnIHRyaXB0aW1lIGZyb20gdGhpcyBjbHVzdGVyID04MzcuNjIxMjQ3MTUzPC9kaXY+JylbMF07CiAgICAgICAgICAgICAgICBwb3B1cF83NTkzOWIxNGE2MGU0MDA1YjFjZDJmNWFmMjIwODQ0OC5zZXRDb250ZW50KGh0bWxfNzM3Yzg0YTY3ODc2NGFkNjk1NGQzNDVkYzEwYjczOGEpOwogICAgICAgICAgICAKCiAgICAgICAgICAgIGNpcmNsZV9tYXJrZXJfNjIwYTJhOTI5NzQ5NDViNDljY2ExYTk3ZmU3NWZkNzguYmluZFBvcHVwKHBvcHVwXzc1OTM5YjE0YTYwZTQwMDViMWNkMmY1YWYyMjA4NDQ4KTsKCiAgICAgICAgICAgIAogICAgICAgIAogICAgCgogICAgICAgICAgICB2YXIgbWFya2VyXzE2NTM2MmJhMDE0MTRiOWM4MTY3NmYyY2RhOGNlMDYzID0gTC5tYXJrZXIoCiAgICAgICAgICAgICAgICBbNDAuODAzMTcwODc0MiwtNzMuOTU3NTgzOTMwM10sCiAgICAgICAgICAgICAgICB7CiAgICAgICAgICAgICAgICAgICAgaWNvbjogbmV3IEwuSWNvbi5EZWZhdWx0KCkKICAgICAgICAgICAgICAgICAgICB9CiAgICAgICAgICAgICAgICApCiAgICAgICAgICAgICAgICAuYWRkVG8obWFwX2M2MDg5Y2IxNTAxYTQxZGQ4NWU2MDg5OWYzZWRlZTg5KTsKICAgICAgICAgICAgCiAgICAKICAgICAgICAgICAgdmFyIHBvcHVwX2IxNGE4NTgxMjQ2NDQzNGI5ZThkMTk1NTZiYWQyOGMxID0gTC5wb3B1cCh7bWF4V2lkdGg6ICczMDAnfSk7CgogICAgICAgICAgICAKICAgICAgICAgICAgICAgIHZhciBodG1sXzYyYjk2NWRkNWMzYzQzODU5MGRiNjBiZDZhZDZhNjQ1ID0gJCgnPGRpdiBpZD0iaHRtbF82MmI5NjVkZDVjM2M0Mzg1OTBkYjYwYmQ2YWQ2YTY0NSIgc3R5bGU9IndpZHRoOiAxMDAuMCU7IGhlaWdodDogMTAwLjAlOyI+Y2x1c3RlciA9IDE3ICYgbW9zdCB2aXNpdGVkIGNsdXN0ZXIgPSAxNyAmIGF2ZyB0cmlwdGltZSBmcm9tIHRoaXMgY2x1c3RlciA9ODM3LjYyMTI0NzE1MzwvZGl2PicpWzBdOwogICAgICAgICAgICAgICAgcG9wdXBfYjE0YTg1ODEyNDY0NDM0YjllOGQxOTU1NmJhZDI4YzEuc2V0Q29udGVudChodG1sXzYyYjk2NWRkNWMzYzQzODU5MGRiNjBiZDZhZDZhNjQ1KTsKICAgICAgICAgICAgCgogICAgICAgICAgICBtYXJrZXJfMTY1MzYyYmEwMTQxNGI5YzgxNjc2ZjJjZGE4Y2UwNjMuYmluZFBvcHVwKHBvcHVwX2IxNGE4NTgxMjQ2NDQzNGI5ZThkMTk1NTZiYWQyOGMxKTsKCiAgICAgICAgICAgIAogICAgICAgIAogICAgCiAgICAgICAgICAgIHZhciBjaXJjbGVfbWFya2VyX2QzMjI1MmYzNzFmMzQzMzM5MmU4ZDhlNTYwNDM2OWQ3ID0gTC5jaXJjbGVNYXJrZXIoCiAgICAgICAgICAgICAgICBbNDEuMDQ3NTIwOTU1NCwtNzkuMjAxNjc3OTU4Ml0sCiAgICAgICAgICAgICAgICB7CiAgImJ1YmJsaW5nTW91c2VFdmVudHMiOiB0cnVlLAogICJjb2xvciI6ICIjRjA4MDgwIiwKICAiZGFzaEFycmF5IjogbnVsbCwKICAiZGFzaE9mZnNldCI6IG51bGwsCiAgImZpbGwiOiBmYWxzZSwKICAiZmlsbENvbG9yIjogIiMzMTg2Y2MiLAogICJmaWxsT3BhY2l0eSI6IDAuMiwKICAiZmlsbFJ1bGUiOiAiZXZlbm9kZCIsCiAgImxpbmVDYXAiOiAicm91bmQiLAogICJsaW5lSm9pbiI6ICJyb3VuZCIsCiAgIm9wYWNpdHkiOiAxLjAsCiAgInJhZGl1cyI6IDMwLAogICJzdHJva2UiOiB0cnVlLAogICJ3ZWlnaHQiOiAzCn0KICAgICAgICAgICAgICAgICkuYWRkVG8obWFwX2M2MDg5Y2IxNTAxYTQxZGQ4NWU2MDg5OWYzZWRlZTg5KTsKICAgICAgICAgICAgCiAgICAKICAgICAgICAgICAgdmFyIHBvcHVwXzRhNjY2ZGE0NGQyNTRiODliMTZkZGMzNDgzYmE3MTBmID0gTC5wb3B1cCh7bWF4V2lkdGg6ICczMDAnfSk7CgogICAgICAgICAgICAKICAgICAgICAgICAgICAgIHZhciBodG1sXzUzMDc5ODQxY2ExYzRjNWE4NjY3MTMxY2IxZDMxNTQyID0gJCgnPGRpdiBpZD0iaHRtbF81MzA3OTg0MWNhMWM0YzVhODY2NzEzMWNiMWQzMTU0MiIgc3R5bGU9IndpZHRoOiAxMDAuMCU7IGhlaWdodDogMTAwLjAlOyI+Y2x1c3RlciA9IDE4ICYgbW9zdCB2aXNpdGVkIGNsdXN0ZXIgPSAxOCAmIGF2ZyB0cmlwdGltZSBmcm9tIHRoaXMgY2x1c3RlciA9NDI0LjA8L2Rpdj4nKVswXTsKICAgICAgICAgICAgICAgIHBvcHVwXzRhNjY2ZGE0NGQyNTRiODliMTZkZGMzNDgzYmE3MTBmLnNldENvbnRlbnQoaHRtbF81MzA3OTg0MWNhMWM0YzVhODY2NzEzMWNiMWQzMTU0Mik7CiAgICAgICAgICAgIAoKICAgICAgICAgICAgY2lyY2xlX21hcmtlcl9kMzIyNTJmMzcxZjM0MzMzOTJlOGQ4ZTU2MDQzNjlkNy5iaW5kUG9wdXAocG9wdXBfNGE2NjZkYTQ0ZDI1NGI4OWIxNmRkYzM0ODNiYTcxMGYpOwoKICAgICAgICAgICAgCiAgICAgICAgCiAgICAKCiAgICAgICAgICAgIHZhciBtYXJrZXJfOWNlNzhhYmY1MTY5NDg5N2I2Yzg5YTk2MGVjMmI2MzUgPSBMLm1hcmtlcigKICAgICAgICAgICAgICAgIFs0MS4wNDc1MjA5NTU0LC03OS4yMDE2Nzc5NTgyXSwKICAgICAgICAgICAgICAgIHsKICAgICAgICAgICAgICAgICAgICBpY29uOiBuZXcgTC5JY29uLkRlZmF1bHQoKQogICAgICAgICAgICAgICAgICAgIH0KICAgICAgICAgICAgICAgICkKICAgICAgICAgICAgICAgIC5hZGRUbyhtYXBfYzYwODljYjE1MDFhNDFkZDg1ZTYwODk5ZjNlZGVlODkpOwogICAgICAgICAgICAKICAgIAogICAgICAgICAgICB2YXIgcG9wdXBfYTdhMjg4MjY2MjI2NDFlYjk3MTk0OWI4ZWUyNmM4ZGEgPSBMLnBvcHVwKHttYXhXaWR0aDogJzMwMCd9KTsKCiAgICAgICAgICAgIAogICAgICAgICAgICAgICAgdmFyIGh0bWxfNDM0NTJkYTBjZDBlNDc3MTg1OTg0N2UyMzJmMTVjMTMgPSAkKCc8ZGl2IGlkPSJodG1sXzQzNDUyZGEwY2QwZTQ3NzE4NTk4NDdlMjMyZjE1YzEzIiBzdHlsZT0id2lkdGg6IDEwMC4wJTsgaGVpZ2h0OiAxMDAuMCU7Ij5jbHVzdGVyID0gMTggJiBtb3N0IHZpc2l0ZWQgY2x1c3RlciA9IDE4ICYgYXZnIHRyaXB0aW1lIGZyb20gdGhpcyBjbHVzdGVyID00MjQuMDwvZGl2PicpWzBdOwogICAgICAgICAgICAgICAgcG9wdXBfYTdhMjg4MjY2MjI2NDFlYjk3MTk0OWI4ZWUyNmM4ZGEuc2V0Q29udGVudChodG1sXzQzNDUyZGEwY2QwZTQ3NzE4NTk4NDdlMjMyZjE1YzEzKTsKICAgICAgICAgICAgCgogICAgICAgICAgICBtYXJrZXJfOWNlNzhhYmY1MTY5NDg5N2I2Yzg5YTk2MGVjMmI2MzUuYmluZFBvcHVwKHBvcHVwX2E3YTI4ODI2NjIyNjQxZWI5NzE5NDliOGVlMjZjOGRhKTsKCiAgICAgICAgICAgIAogICAgICAgIAogICAgCiAgICAgICAgICAgIHZhciBjaXJjbGVfbWFya2VyX2M1M2NiZWM2ZWJmMTRkZTM4NjU4YjdiNWVkZDE1ZDQzID0gTC5jaXJjbGVNYXJrZXIoCiAgICAgICAgICAgICAgICBbNDAuNzM4NjU4ODgwMywtNzQuMDAxMDcwNjQ0NV0sCiAgICAgICAgICAgICAgICB7CiAgImJ1YmJsaW5nTW91c2VFdmVudHMiOiB0cnVlLAogICJjb2xvciI6ICIjRjA4MDgwIiwKICAiZGFzaEFycmF5IjogbnVsbCwKICAiZGFzaE9mZnNldCI6IG51bGwsCiAgImZpbGwiOiBmYWxzZSwKICAiZmlsbENvbG9yIjogIiMzMTg2Y2MiLAogICJmaWxsT3BhY2l0eSI6IDAuMiwKICAiZmlsbFJ1bGUiOiAiZXZlbm9kZCIsCiAgImxpbmVDYXAiOiAicm91bmQiLAogICJsaW5lSm9pbiI6ICJyb3VuZCIsCiAgIm9wYWNpdHkiOiAxLjAsCiAgInJhZGl1cyI6IDMwLAogICJzdHJva2UiOiB0cnVlLAogICJ3ZWlnaHQiOiAzCn0KICAgICAgICAgICAgICAgICkuYWRkVG8obWFwX2M2MDg5Y2IxNTAxYTQxZGQ4NWU2MDg5OWYzZWRlZTg5KTsKICAgICAgICAgICAgCiAgICAKICAgICAgICAgICAgdmFyIHBvcHVwXzNkYjZlYjI4Y2MwMDQ3OTg4ODQ5ZmE3ZGI4ZThiZjU3ID0gTC5wb3B1cCh7bWF4V2lkdGg6ICczMDAnfSk7CgogICAgICAgICAgICAKICAgICAgICAgICAgICAgIHZhciBodG1sXzQwYmU4YjFiZTc0MzQ2M2Q4MmI0ZWQ5YWZlMGZiNmZkID0gJCgnPGRpdiBpZD0iaHRtbF80MGJlOGIxYmU3NDM0NjNkODJiNGVkOWFmZTBmYjZmZCIgc3R5bGU9IndpZHRoOiAxMDAuMCU7IGhlaWdodDogMTAwLjAlOyI+Y2x1c3RlciA9IDE5ICYgbW9zdCB2aXNpdGVkIGNsdXN0ZXIgPSA3ICYgYXZnIHRyaXB0aW1lIGZyb20gdGhpcyBjbHVzdGVyID04OTQuODE3NjQyNTk2PC9kaXY+JylbMF07CiAgICAgICAgICAgICAgICBwb3B1cF8zZGI2ZWIyOGNjMDA0Nzk4ODg0OWZhN2RiOGU4YmY1Ny5zZXRDb250ZW50KGh0bWxfNDBiZThiMWJlNzQzNDYzZDgyYjRlZDlhZmUwZmI2ZmQpOwogICAgICAgICAgICAKCiAgICAgICAgICAgIGNpcmNsZV9tYXJrZXJfYzUzY2JlYzZlYmYxNGRlMzg2NThiN2I1ZWRkMTVkNDMuYmluZFBvcHVwKHBvcHVwXzNkYjZlYjI4Y2MwMDQ3OTg4ODQ5ZmE3ZGI4ZThiZjU3KTsKCiAgICAgICAgICAgIAogICAgICAgIAogICAgCgogICAgICAgICAgICB2YXIgbWFya2VyXzkzMjg1YmFkZDI1YjQ4YzRiZGZhMzllMTZmM2ZmZWU0ID0gTC5tYXJrZXIoCiAgICAgICAgICAgICAgICBbNDAuNzM4NjU4ODgwMywtNzQuMDAxMDcwNjQ0NV0sCiAgICAgICAgICAgICAgICB7CiAgICAgICAgICAgICAgICAgICAgaWNvbjogbmV3IEwuSWNvbi5EZWZhdWx0KCkKICAgICAgICAgICAgICAgICAgICB9CiAgICAgICAgICAgICAgICApCiAgICAgICAgICAgICAgICAuYWRkVG8obWFwX2M2MDg5Y2IxNTAxYTQxZGQ4NWU2MDg5OWYzZWRlZTg5KTsKICAgICAgICAgICAgCiAgICAKICAgICAgICAgICAgdmFyIHBvcHVwXzYzYmY5MWNkYmMwMzQzMTY4M2MwZjc3M2U3ZmYyODQyID0gTC5wb3B1cCh7bWF4V2lkdGg6ICczMDAnfSk7CgogICAgICAgICAgICAKICAgICAgICAgICAgICAgIHZhciBodG1sXzFiOWMzMTg1MTAzODRhM2Q4ZDkwOTVlZDQyMmFmM2Y1ID0gJCgnPGRpdiBpZD0iaHRtbF8xYjljMzE4NTEwMzg0YTNkOGQ5MDk1ZWQ0MjJhZjNmNSIgc3R5bGU9IndpZHRoOiAxMDAuMCU7IGhlaWdodDogMTAwLjAlOyI+Y2x1c3RlciA9IDE5ICYgbW9zdCB2aXNpdGVkIGNsdXN0ZXIgPSA3ICYgYXZnIHRyaXB0aW1lIGZyb20gdGhpcyBjbHVzdGVyID04OTQuODE3NjQyNTk2PC9kaXY+JylbMF07CiAgICAgICAgICAgICAgICBwb3B1cF82M2JmOTFjZGJjMDM0MzE2ODNjMGY3NzNlN2ZmMjg0Mi5zZXRDb250ZW50KGh0bWxfMWI5YzMxODUxMDM4NGEzZDhkOTA5NWVkNDIyYWYzZjUpOwogICAgICAgICAgICAKCiAgICAgICAgICAgIG1hcmtlcl85MzI4NWJhZGQyNWI0OGM0YmRmYTM5ZTE2ZjNmZmVlNC5iaW5kUG9wdXAocG9wdXBfNjNiZjkxY2RiYzAzNDMxNjgzYzBmNzczZTdmZjI4NDIpOwoKICAgICAgICAgICAgCiAgICAgICAgCjwvc2NyaXB0Pg==\" style=\"position:absolute;width:100%;height:100%;left:0;top:0;border:none !important;\" allowfullscreen webkitallowfullscreen mozallowfullscreen></iframe></div></div>"
      ],
      "text/plain": [
       "<div style=\"width:100%;\"><div style=\"position:relative;width:100%;height:0;padding-bottom:60%;\"><iframe src=\"data:text/html;charset=utf-8;base64,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\" style=\"position:absolute;width:100%;height:100%;left:0;top:0;border:none !important;\" allowfullscreen webkitallowfullscreen mozallowfullscreen></iframe></div></div>"
      ]
     },
     "execution_count": 67,
     "metadata": {},
     "output_type": "execute_result"
    }
   ],
   "source": [
    "clus_map = clusters_map(centroid_pickups, train_cl, sig =0, zoom =3.2, circle =1, tile = 'Stamen Terrain')\n",
    "clus_map"
   ]
  },
  {
   "cell_type": "markdown",
   "metadata": {},
   "source": [
    "## Findings:\n",
    "## Plots are interactive click on balloon as check out the characteristics of each cluster:\n",
    "## 1. Cluster number\n",
    "## 2. Most frequently visited cluster from clicked cluster\n",
    "## 3. Avg triptime of rides started from this cluster"
   ]
  },
  {
   "cell_type": "markdown",
   "metadata": {},
   "source": [
    "# Extracting same features for Test data"
   ]
  },
  {
   "cell_type": "markdown",
   "metadata": {},
   "source": [
    "## 1. Extract same features for test dataset\n",
    "## 2. Train xgboost regressor to see how we are doing with prediction, how much predicting power out extracted features have. \n",
    "## 3. If it did not get high accuracy, extra features will be extracted.\n",
    "\n",
    "## The process:\n",
    "## 1. Extract same features-->2. Train xgboost regressor-->3. If not accurate-->4. Extract more features."
   ]
  },
  {
   "cell_type": "code",
   "execution_count": 68,
   "metadata": {},
   "outputs": [
    {
     "data": {
      "text/html": [
       "<div>\n",
       "<style>\n",
       "    .dataframe thead tr:only-child th {\n",
       "        text-align: right;\n",
       "    }\n",
       "\n",
       "    .dataframe thead th {\n",
       "        text-align: left;\n",
       "    }\n",
       "\n",
       "    .dataframe tbody tr th {\n",
       "        vertical-align: top;\n",
       "    }\n",
       "</style>\n",
       "<table border=\"1\" class=\"dataframe\">\n",
       "  <thead>\n",
       "    <tr style=\"text-align: right;\">\n",
       "      <th></th>\n",
       "      <th>id</th>\n",
       "      <th>vendor_id</th>\n",
       "      <th>pickup_datetime</th>\n",
       "      <th>passenger_count</th>\n",
       "      <th>pickup_longitude</th>\n",
       "      <th>pickup_latitude</th>\n",
       "      <th>dropoff_longitude</th>\n",
       "      <th>dropoff_latitude</th>\n",
       "      <th>store_and_fwd_flag</th>\n",
       "      <th>total_distance</th>\n",
       "      <th>total_travel_time</th>\n",
       "      <th>number_of_steps</th>\n",
       "    </tr>\n",
       "  </thead>\n",
       "  <tbody>\n",
       "    <tr>\n",
       "      <th>0</th>\n",
       "      <td>id3004672</td>\n",
       "      <td>1</td>\n",
       "      <td>6/30/2016 23:59</td>\n",
       "      <td>1</td>\n",
       "      <td>-73.988129</td>\n",
       "      <td>40.732029</td>\n",
       "      <td>-73.990173</td>\n",
       "      <td>40.756680</td>\n",
       "      <td>N</td>\n",
       "      <td>3795.9</td>\n",
       "      <td>424.6</td>\n",
       "      <td>4</td>\n",
       "    </tr>\n",
       "    <tr>\n",
       "      <th>1</th>\n",
       "      <td>id3505355</td>\n",
       "      <td>1</td>\n",
       "      <td>6/30/2016 23:59</td>\n",
       "      <td>1</td>\n",
       "      <td>-73.964203</td>\n",
       "      <td>40.679993</td>\n",
       "      <td>-73.959808</td>\n",
       "      <td>40.655403</td>\n",
       "      <td>N</td>\n",
       "      <td>2904.5</td>\n",
       "      <td>200.0</td>\n",
       "      <td>4</td>\n",
       "    </tr>\n",
       "    <tr>\n",
       "      <th>2</th>\n",
       "      <td>id1217141</td>\n",
       "      <td>1</td>\n",
       "      <td>6/30/2016 23:59</td>\n",
       "      <td>1</td>\n",
       "      <td>-73.997437</td>\n",
       "      <td>40.737583</td>\n",
       "      <td>-73.986160</td>\n",
       "      <td>40.729523</td>\n",
       "      <td>N</td>\n",
       "      <td>1499.5</td>\n",
       "      <td>193.2</td>\n",
       "      <td>4</td>\n",
       "    </tr>\n",
       "    <tr>\n",
       "      <th>3</th>\n",
       "      <td>id2150126</td>\n",
       "      <td>2</td>\n",
       "      <td>6/30/2016 23:59</td>\n",
       "      <td>1</td>\n",
       "      <td>-73.956070</td>\n",
       "      <td>40.771900</td>\n",
       "      <td>-73.986427</td>\n",
       "      <td>40.730469</td>\n",
       "      <td>N</td>\n",
       "      <td>7023.9</td>\n",
       "      <td>494.8</td>\n",
       "      <td>11</td>\n",
       "    </tr>\n",
       "    <tr>\n",
       "      <th>4</th>\n",
       "      <td>id1598245</td>\n",
       "      <td>1</td>\n",
       "      <td>6/30/2016 23:59</td>\n",
       "      <td>1</td>\n",
       "      <td>-73.970215</td>\n",
       "      <td>40.761475</td>\n",
       "      <td>-73.961510</td>\n",
       "      <td>40.755890</td>\n",
       "      <td>N</td>\n",
       "      <td>1108.2</td>\n",
       "      <td>103.2</td>\n",
       "      <td>4</td>\n",
       "    </tr>\n",
       "  </tbody>\n",
       "</table>\n",
       "</div>"
      ],
      "text/plain": [
       "<div>\n",
       "<style>\n",
       "    .dataframe thead tr:only-child th {\n",
       "        text-align: right;\n",
       "    }\n",
       "\n",
       "    .dataframe thead th {\n",
       "        text-align: left;\n",
       "    }\n",
       "\n",
       "    .dataframe tbody tr th {\n",
       "        vertical-align: top;\n",
       "    }\n",
       "</style>\n",
       "<table border=\"1\" class=\"dataframe\">\n",
       "  <thead>\n",
       "    <tr style=\"text-align: right;\">\n",
       "      <th></th>\n",
       "      <th>id</th>\n",
       "      <th>vendor_id</th>\n",
       "      <th>pickup_datetime</th>\n",
       "      <th>passenger_count</th>\n",
       "      <th>pickup_longitude</th>\n",
       "      <th>pickup_latitude</th>\n",
       "      <th>dropoff_longitude</th>\n",
       "      <th>dropoff_latitude</th>\n",
       "      <th>store_and_fwd_flag</th>\n",
       "      <th>total_distance</th>\n",
       "      <th>total_travel_time</th>\n",
       "      <th>number_of_steps</th>\n",
       "    </tr>\n",
       "  </thead>\n",
       "  <tbody>\n",
       "    <tr>\n",
       "      <th>0</th>\n",
       "      <td>id3004672</td>\n",
       "      <td>1</td>\n",
       "      <td>6/30/2016 23:59</td>\n",
       "      <td>1</td>\n",
       "      <td>-73.988129</td>\n",
       "      <td>40.732029</td>\n",
       "      <td>-73.990173</td>\n",
       "      <td>40.756680</td>\n",
       "      <td>N</td>\n",
       "      <td>3795.9</td>\n",
       "      <td>424.6</td>\n",
       "      <td>4</td>\n",
       "    </tr>\n",
       "    <tr>\n",
       "      <th>1</th>\n",
       "      <td>id3505355</td>\n",
       "      <td>1</td>\n",
       "      <td>6/30/2016 23:59</td>\n",
       "      <td>1</td>\n",
       "      <td>-73.964203</td>\n",
       "      <td>40.679993</td>\n",
       "      <td>-73.959808</td>\n",
       "      <td>40.655403</td>\n",
       "      <td>N</td>\n",
       "      <td>2904.5</td>\n",
       "      <td>200.0</td>\n",
       "      <td>4</td>\n",
       "    </tr>\n",
       "    <tr>\n",
       "      <th>2</th>\n",
       "      <td>id1217141</td>\n",
       "      <td>1</td>\n",
       "      <td>6/30/2016 23:59</td>\n",
       "      <td>1</td>\n",
       "      <td>-73.997437</td>\n",
       "      <td>40.737583</td>\n",
       "      <td>-73.986160</td>\n",
       "      <td>40.729523</td>\n",
       "      <td>N</td>\n",
       "      <td>1499.5</td>\n",
       "      <td>193.2</td>\n",
       "      <td>4</td>\n",
       "    </tr>\n",
       "    <tr>\n",
       "      <th>3</th>\n",
       "      <td>id2150126</td>\n",
       "      <td>2</td>\n",
       "      <td>6/30/2016 23:59</td>\n",
       "      <td>1</td>\n",
       "      <td>-73.956070</td>\n",
       "      <td>40.771900</td>\n",
       "      <td>-73.986427</td>\n",
       "      <td>40.730469</td>\n",
       "      <td>N</td>\n",
       "      <td>7023.9</td>\n",
       "      <td>494.8</td>\n",
       "      <td>11</td>\n",
       "    </tr>\n",
       "    <tr>\n",
       "      <th>4</th>\n",
       "      <td>id1598245</td>\n",
       "      <td>1</td>\n",
       "      <td>6/30/2016 23:59</td>\n",
       "      <td>1</td>\n",
       "      <td>-73.970215</td>\n",
       "      <td>40.761475</td>\n",
       "      <td>-73.961510</td>\n",
       "      <td>40.755890</td>\n",
       "      <td>N</td>\n",
       "      <td>1108.2</td>\n",
       "      <td>103.2</td>\n",
       "      <td>4</td>\n",
       "    </tr>\n",
       "  </tbody>\n",
       "</table>\n",
       "</div>"
      ]
     },
     "execution_count": 68,
     "metadata": {},
     "output_type": "execute_result"
    }
   ],
   "source": [
    "# 1. Loading test data from competition and OSRM features for test data\n",
    "test_df = pd.read_csv('data/test.csv')\n",
    "test_fr = pd.read_csv('data/new-york-city-taxi-with-osrm/fastest_routes_test.csv')\n",
    "test_fr_new = test_fr[['id', 'total_distance', 'total_travel_time', 'number_of_steps']]\n",
    "test_df = pd.merge(test_df, test_fr_new, on = 'id', how = 'left')\n",
    "test_df.head()"
   ]
  },
  {
   "cell_type": "code",
   "execution_count": 69,
   "metadata": {},
   "outputs": [
    {
     "name": "stdout",
     "output_type": "stream",
     "text": [
      "Time taken by above cell is 119.57023215293884."
     ]
    },
    {
     "name": "stdout",
     "output_type": "stream",
     "text": [
      "\n"
     ]
    }
   ],
   "source": [
    "#2. Extracting date time features\n",
    "start = time.time()\n",
    "test_data = test_df.copy()\n",
    "test_data['pickup_datetime'] = pd.to_datetime(test_data.pickup_datetime)\n",
    "test_data.loc[:, 'pick_month'] = test_data['pickup_datetime'].dt.month\n",
    "test_data.loc[:, 'hour'] = test_data['pickup_datetime'].dt.hour\n",
    "test_data.loc[:, 'week_of_year'] = test_data['pickup_datetime'].dt.weekofyear\n",
    "test_data.loc[:, 'day_of_year'] = test_data['pickup_datetime'].dt.dayofyear\n",
    "test_data.loc[:, 'day_of_week'] = test_data['pickup_datetime'].dt.dayofweek\n",
    "end = time.time()\n",
    "print(\"Time taken by above cell is {}.\".format(end-start))"
   ]
  },
  {
   "cell_type": "code",
   "execution_count": 70,
   "metadata": {},
   "outputs": [
    {
     "name": "stdout",
     "output_type": "stream",
     "text": [
      "Time taken by above cell is 0.8426573276519775."
     ]
    },
    {
     "name": "stdout",
     "output_type": "stream",
     "text": [
      "\n"
     ]
    }
   ],
   "source": [
    "#3. Extracting haversine, manhattan, and bearing distance and directional features \n",
    "strat = time.time()\n",
    "test_data.loc[:,'hvsine_pick_drop'] = haversine_(test_data['pickup_latitude'].values, \n",
    "                                                 test_data['pickup_longitude'].values, \n",
    "                                                 test_data['dropoff_latitude'].values, \n",
    "                                                 test_data['dropoff_longitude'].values)\n",
    "\n",
    "test_data.loc[:,'manhtn_pick_drop'] = manhattan_distance_pd(test_data['pickup_latitude'].values, \n",
    "                                                            test_data['pickup_longitude'].values, \n",
    "                                                            test_data['dropoff_latitude'].values, \n",
    "                                                            test_data['dropoff_longitude'].values)\n",
    "\n",
    "\n",
    "test_data.loc[:,'bearing'] = bearing_array(test_data['pickup_latitude'].values, \n",
    "                                           test_data['pickup_longitude'].values, \n",
    "                                           test_data['dropoff_latitude'].values, \n",
    "                                           test_data['dropoff_longitude'].values)\n",
    "\n",
    "end = time.time()\n",
    "print(\"Time taken by above cell is {}.\".format(end-strat))"
   ]
  },
  {
   "cell_type": "code",
   "execution_count": 71,
   "metadata": {},
   "outputs": [
    {
     "name": "stdout",
     "output_type": "stream",
     "text": [
      "Time Taken by above cell is 1.1750376224517822."
     ]
    },
    {
     "name": "stdout",
     "output_type": "stream",
     "text": [
      "\n"
     ]
    }
   ],
   "source": [
    "# 4. Extracting cluster features\n",
    "start = time.time()\n",
    "test_data['label_pick'] = k_means.predict(test_data[['pickup_longitude','pickup_latitude']])\n",
    "test_data['label_drop'] = k_means.predict(test_data[['dropoff_longitude','dropoff_latitude']])\n",
    "test_cl = pd.merge(test_data, centroid_pickups, how='left', on=['label_pick'])\n",
    "test_cl = pd.merge(test_cl, centroid_dropoff, how='left', on=['label_drop'])\n",
    "#test_cl.head()\n",
    "end = time.time()\n",
    "print(\"Time Taken by above cell is {}.\".format(end-start))"
   ]
  },
  {
   "cell_type": "code",
   "execution_count": 72,
   "metadata": {},
   "outputs": [
    {
     "name": "stdout",
     "output_type": "stream",
     "text": [
      "Time Taken by above cell is 2.290088415145874."
     ]
    },
    {
     "name": "stdout",
     "output_type": "stream",
     "text": [
      "\n"
     ]
    },
    {
     "data": {
      "text/html": [
       "<div>\n",
       "<style>\n",
       "    .dataframe thead tr:only-child th {\n",
       "        text-align: right;\n",
       "    }\n",
       "\n",
       "    .dataframe thead th {\n",
       "        text-align: left;\n",
       "    }\n",
       "\n",
       "    .dataframe tbody tr th {\n",
       "        vertical-align: top;\n",
       "    }\n",
       "</style>\n",
       "<table border=\"1\" class=\"dataframe\">\n",
       "  <thead>\n",
       "    <tr style=\"text-align: right;\">\n",
       "      <th></th>\n",
       "      <th>id</th>\n",
       "      <th>vendor_id</th>\n",
       "      <th>pickup_datetime</th>\n",
       "      <th>passenger_count</th>\n",
       "      <th>pickup_longitude</th>\n",
       "      <th>pickup_latitude</th>\n",
       "      <th>dropoff_longitude</th>\n",
       "      <th>dropoff_latitude</th>\n",
       "      <th>store_and_fwd_flag</th>\n",
       "      <th>total_distance</th>\n",
       "      <th>...</th>\n",
       "      <th>hvsine_drop_cent_d</th>\n",
       "      <th>hvsine_cent_p_cent_d</th>\n",
       "      <th>manhtn_pick_cent_p</th>\n",
       "      <th>manhtn_drop_cent_d</th>\n",
       "      <th>manhtn_cent_p_cent_d</th>\n",
       "      <th>bearing_pick_cent_p</th>\n",
       "      <th>bearing_drop_cent_p</th>\n",
       "      <th>bearing_cent_p_cent_d</th>\n",
       "      <th>speed_hvsn</th>\n",
       "      <th>speed_manhtn</th>\n",
       "    </tr>\n",
       "  </thead>\n",
       "  <tbody>\n",
       "    <tr>\n",
       "      <th>0</th>\n",
       "      <td>id3004672</td>\n",
       "      <td>1</td>\n",
       "      <td>2016-06-30 23:59:00</td>\n",
       "      <td>1</td>\n",
       "      <td>-73.988129</td>\n",
       "      <td>40.732029</td>\n",
       "      <td>-73.990173</td>\n",
       "      <td>40.756680</td>\n",
       "      <td>N</td>\n",
       "      <td>3795.9</td>\n",
       "      <td>...</td>\n",
       "      <td>0.460745</td>\n",
       "      <td>2.557813</td>\n",
       "      <td>0.316489</td>\n",
       "      <td>0.572701</td>\n",
       "      <td>2.657047</td>\n",
       "      <td>166.844158</td>\n",
       "      <td>163.485792</td>\n",
       "      <td>-2.267563</td>\n",
       "      <td>0.006468</td>\n",
       "      <td>0.006861</td>\n",
       "    </tr>\n",
       "    <tr>\n",
       "      <th>1</th>\n",
       "      <td>id3505355</td>\n",
       "      <td>1</td>\n",
       "      <td>2016-06-30 23:59:00</td>\n",
       "      <td>1</td>\n",
       "      <td>-73.964203</td>\n",
       "      <td>40.679993</td>\n",
       "      <td>-73.959808</td>\n",
       "      <td>40.655403</td>\n",
       "      <td>N</td>\n",
       "      <td>2904.5</td>\n",
       "      <td>...</td>\n",
       "      <td>4.035734</td>\n",
       "      <td>0.000000</td>\n",
       "      <td>1.680995</td>\n",
       "      <td>4.786109</td>\n",
       "      <td>0.000000</td>\n",
       "      <td>-21.064990</td>\n",
       "      <td>-11.983231</td>\n",
       "      <td>0.000000</td>\n",
       "      <td>0.013796</td>\n",
       "      <td>0.015524</td>\n",
       "    </tr>\n",
       "    <tr>\n",
       "      <th>2</th>\n",
       "      <td>id1217141</td>\n",
       "      <td>1</td>\n",
       "      <td>2016-06-30 23:59:00</td>\n",
       "      <td>1</td>\n",
       "      <td>-73.997437</td>\n",
       "      <td>40.737583</td>\n",
       "      <td>-73.986160</td>\n",
       "      <td>40.729523</td>\n",
       "      <td>N</td>\n",
       "      <td>1499.5</td>\n",
       "      <td>...</td>\n",
       "      <td>0.108194</td>\n",
       "      <td>1.520191</td>\n",
       "      <td>0.425801</td>\n",
       "      <td>0.128053</td>\n",
       "      <td>2.144081</td>\n",
       "      <td>-68.660074</td>\n",
       "      <td>-78.185424</td>\n",
       "      <td>130.816473</td>\n",
       "      <td>0.006761</td>\n",
       "      <td>0.009557</td>\n",
       "    </tr>\n",
       "    <tr>\n",
       "      <th>3</th>\n",
       "      <td>id2150126</td>\n",
       "      <td>2</td>\n",
       "      <td>2016-06-30 23:59:00</td>\n",
       "      <td>1</td>\n",
       "      <td>-73.956070</td>\n",
       "      <td>40.771900</td>\n",
       "      <td>-73.986427</td>\n",
       "      <td>40.730469</td>\n",
       "      <td>N</td>\n",
       "      <td>7023.9</td>\n",
       "      <td>...</td>\n",
       "      <td>0.117694</td>\n",
       "      <td>5.622357</td>\n",
       "      <td>0.327942</td>\n",
       "      <td>0.166443</td>\n",
       "      <td>7.657602</td>\n",
       "      <td>29.968069</td>\n",
       "      <td>-134.876849</td>\n",
       "      <td>-150.583803</td>\n",
       "      <td>0.010649</td>\n",
       "      <td>0.014477</td>\n",
       "    </tr>\n",
       "    <tr>\n",
       "      <th>4</th>\n",
       "      <td>id1598245</td>\n",
       "      <td>1</td>\n",
       "      <td>2016-06-30 23:59:00</td>\n",
       "      <td>1</td>\n",
       "      <td>-73.970215</td>\n",
       "      <td>40.761475</td>\n",
       "      <td>-73.961510</td>\n",
       "      <td>40.755890</td>\n",
       "      <td>N</td>\n",
       "      <td>1108.2</td>\n",
       "      <td>...</td>\n",
       "      <td>1.015384</td>\n",
       "      <td>0.000000</td>\n",
       "      <td>0.620567</td>\n",
       "      <td>1.234924</td>\n",
       "      <td>0.000000</td>\n",
       "      <td>-145.882392</td>\n",
       "      <td>-75.681715</td>\n",
       "      <td>0.000000</td>\n",
       "      <td>0.009310</td>\n",
       "      <td>0.013122</td>\n",
       "    </tr>\n",
       "  </tbody>\n",
       "</table>\n",
       "<p>5 rows × 37 columns</p>\n",
       "</div>"
      ],
      "text/plain": [
       "<div>\n",
       "<style>\n",
       "    .dataframe thead tr:only-child th {\n",
       "        text-align: right;\n",
       "    }\n",
       "\n",
       "    .dataframe thead th {\n",
       "        text-align: left;\n",
       "    }\n",
       "\n",
       "    .dataframe tbody tr th {\n",
       "        vertical-align: top;\n",
       "    }\n",
       "</style>\n",
       "<table border=\"1\" class=\"dataframe\">\n",
       "  <thead>\n",
       "    <tr style=\"text-align: right;\">\n",
       "      <th></th>\n",
       "      <th>id</th>\n",
       "      <th>vendor_id</th>\n",
       "      <th>pickup_datetime</th>\n",
       "      <th>passenger_count</th>\n",
       "      <th>pickup_longitude</th>\n",
       "      <th>pickup_latitude</th>\n",
       "      <th>dropoff_longitude</th>\n",
       "      <th>dropoff_latitude</th>\n",
       "      <th>store_and_fwd_flag</th>\n",
       "      <th>total_distance</th>\n",
       "      <th>...</th>\n",
       "      <th>hvsine_drop_cent_d</th>\n",
       "      <th>hvsine_cent_p_cent_d</th>\n",
       "      <th>manhtn_pick_cent_p</th>\n",
       "      <th>manhtn_drop_cent_d</th>\n",
       "      <th>manhtn_cent_p_cent_d</th>\n",
       "      <th>bearing_pick_cent_p</th>\n",
       "      <th>bearing_drop_cent_p</th>\n",
       "      <th>bearing_cent_p_cent_d</th>\n",
       "      <th>speed_hvsn</th>\n",
       "      <th>speed_manhtn</th>\n",
       "    </tr>\n",
       "  </thead>\n",
       "  <tbody>\n",
       "    <tr>\n",
       "      <th>0</th>\n",
       "      <td>id3004672</td>\n",
       "      <td>1</td>\n",
       "      <td>2016-06-30 23:59:00</td>\n",
       "      <td>1</td>\n",
       "      <td>-73.988129</td>\n",
       "      <td>40.732029</td>\n",
       "      <td>-73.990173</td>\n",
       "      <td>40.756680</td>\n",
       "      <td>N</td>\n",
       "      <td>3795.9</td>\n",
       "      <td>...</td>\n",
       "      <td>0.460745</td>\n",
       "      <td>2.557813</td>\n",
       "      <td>0.316489</td>\n",
       "      <td>0.572701</td>\n",
       "      <td>2.657047</td>\n",
       "      <td>166.844158</td>\n",
       "      <td>163.485792</td>\n",
       "      <td>-2.267563</td>\n",
       "      <td>0.006468</td>\n",
       "      <td>0.006861</td>\n",
       "    </tr>\n",
       "    <tr>\n",
       "      <th>1</th>\n",
       "      <td>id3505355</td>\n",
       "      <td>1</td>\n",
       "      <td>2016-06-30 23:59:00</td>\n",
       "      <td>1</td>\n",
       "      <td>-73.964203</td>\n",
       "      <td>40.679993</td>\n",
       "      <td>-73.959808</td>\n",
       "      <td>40.655403</td>\n",
       "      <td>N</td>\n",
       "      <td>2904.5</td>\n",
       "      <td>...</td>\n",
       "      <td>4.035734</td>\n",
       "      <td>0.000000</td>\n",
       "      <td>1.680995</td>\n",
       "      <td>4.786109</td>\n",
       "      <td>0.000000</td>\n",
       "      <td>-21.064990</td>\n",
       "      <td>-11.983231</td>\n",
       "      <td>0.000000</td>\n",
       "      <td>0.013796</td>\n",
       "      <td>0.015524</td>\n",
       "    </tr>\n",
       "    <tr>\n",
       "      <th>2</th>\n",
       "      <td>id1217141</td>\n",
       "      <td>1</td>\n",
       "      <td>2016-06-30 23:59:00</td>\n",
       "      <td>1</td>\n",
       "      <td>-73.997437</td>\n",
       "      <td>40.737583</td>\n",
       "      <td>-73.986160</td>\n",
       "      <td>40.729523</td>\n",
       "      <td>N</td>\n",
       "      <td>1499.5</td>\n",
       "      <td>...</td>\n",
       "      <td>0.108194</td>\n",
       "      <td>1.520191</td>\n",
       "      <td>0.425801</td>\n",
       "      <td>0.128053</td>\n",
       "      <td>2.144081</td>\n",
       "      <td>-68.660074</td>\n",
       "      <td>-78.185424</td>\n",
       "      <td>130.816473</td>\n",
       "      <td>0.006761</td>\n",
       "      <td>0.009557</td>\n",
       "    </tr>\n",
       "    <tr>\n",
       "      <th>3</th>\n",
       "      <td>id2150126</td>\n",
       "      <td>2</td>\n",
       "      <td>2016-06-30 23:59:00</td>\n",
       "      <td>1</td>\n",
       "      <td>-73.956070</td>\n",
       "      <td>40.771900</td>\n",
       "      <td>-73.986427</td>\n",
       "      <td>40.730469</td>\n",
       "      <td>N</td>\n",
       "      <td>7023.9</td>\n",
       "      <td>...</td>\n",
       "      <td>0.117694</td>\n",
       "      <td>5.622357</td>\n",
       "      <td>0.327942</td>\n",
       "      <td>0.166443</td>\n",
       "      <td>7.657602</td>\n",
       "      <td>29.968069</td>\n",
       "      <td>-134.876849</td>\n",
       "      <td>-150.583803</td>\n",
       "      <td>0.010649</td>\n",
       "      <td>0.014477</td>\n",
       "    </tr>\n",
       "    <tr>\n",
       "      <th>4</th>\n",
       "      <td>id1598245</td>\n",
       "      <td>1</td>\n",
       "      <td>2016-06-30 23:59:00</td>\n",
       "      <td>1</td>\n",
       "      <td>-73.970215</td>\n",
       "      <td>40.761475</td>\n",
       "      <td>-73.961510</td>\n",
       "      <td>40.755890</td>\n",
       "      <td>N</td>\n",
       "      <td>1108.2</td>\n",
       "      <td>...</td>\n",
       "      <td>1.015384</td>\n",
       "      <td>0.000000</td>\n",
       "      <td>0.620567</td>\n",
       "      <td>1.234924</td>\n",
       "      <td>0.000000</td>\n",
       "      <td>-145.882392</td>\n",
       "      <td>-75.681715</td>\n",
       "      <td>0.000000</td>\n",
       "      <td>0.009310</td>\n",
       "      <td>0.013122</td>\n",
       "    </tr>\n",
       "  </tbody>\n",
       "</table>\n",
       "<p>5 rows × 37 columns</p>\n",
       "</div>"
      ]
     },
     "execution_count": 72,
     "metadata": {},
     "output_type": "execute_result"
    }
   ],
   "source": [
    "start = time.time()\n",
    "test_cl.loc[:,'hvsine_pick_cent_p'] = haversine_(test_cl['pickup_latitude'].values, \n",
    "                                                 test_cl['pickup_longitude'].values, \n",
    "                                                 test_cl['centroid_pick_lat'].values, \n",
    "                                                 test_cl['centroid_pick_long'].values)\n",
    "\n",
    "test_cl.loc[:,'hvsine_drop_cent_d'] = haversine_(test_cl['dropoff_latitude'].values, \n",
    "                                                 test_cl['dropoff_longitude'].values, \n",
    "                                                 test_cl['centroid_drop_lat'].values, \n",
    "                                                 test_cl['centroid_drop_long'].values)\n",
    "\n",
    "test_cl.loc[:,'hvsine_cent_p_cent_d'] = haversine_(test_cl['centroid_pick_lat'].values, \n",
    "                                                   test_cl['centroid_pick_long'].values, \n",
    "                                                   test_cl['centroid_drop_lat'].values, \n",
    "                                                   test_cl['centroid_drop_long'].values)\n",
    "\n",
    "test_cl.loc[:,'manhtn_pick_cent_p'] = manhattan_distance_pd(test_cl['pickup_latitude'].values, \n",
    "                                                            test_cl['pickup_longitude'].values, \n",
    "                                                            test_cl['centroid_pick_lat'].values, \n",
    "                                                            test_cl['centroid_pick_long'].values)\n",
    "\n",
    "test_cl.loc[:,'manhtn_drop_cent_d'] = manhattan_distance_pd(test_cl['dropoff_latitude'].values, \n",
    "                                                            test_cl['dropoff_longitude'].values, \n",
    "                                                            test_cl['centroid_drop_lat'].values, \n",
    "                                                            test_cl['centroid_drop_long'].values)\n",
    "\n",
    "test_cl.loc[:,'manhtn_cent_p_cent_d'] = manhattan_distance_pd(test_cl['centroid_pick_lat'].values, \n",
    "                                                              test_cl['centroid_pick_long'].values, \n",
    "                                                              test_cl['centroid_drop_lat'].values, \n",
    "                                                              test_cl['centroid_drop_long'].values)\n",
    "\n",
    "test_cl.loc[:,'bearing_pick_cent_p'] = bearing_array(test_cl['pickup_latitude'].values, \n",
    "                                                     test_cl['pickup_longitude'].values, \n",
    "                                                     test_cl['centroid_pick_lat'].values, \n",
    "                                                     test_cl['centroid_pick_long'].values)\n",
    "\n",
    "test_cl.loc[:,'bearing_drop_cent_p'] = bearing_array(test_cl['dropoff_latitude'].values, \n",
    "                                                     test_cl['dropoff_longitude'].values, \n",
    "                                                     test_cl['centroid_drop_lat'].values, \n",
    "                                                     test_cl['centroid_drop_long'].values)\n",
    "\n",
    "test_cl.loc[:,'bearing_cent_p_cent_d'] = bearing_array(test_cl['centroid_pick_lat'].values, \n",
    "                                                       test_cl['centroid_pick_long'].values, \n",
    "                                                       test_cl['centroid_drop_lat'].values, \n",
    "                                                       test_cl['centroid_drop_long'].values)\n",
    "\n",
    "test_cl['speed_hvsn'] = test_cl.hvsine_pick_drop/test_cl.total_travel_time\n",
    "test_cl['speed_manhtn'] = test_cl.manhtn_pick_drop/test_cl.total_travel_time\n",
    "end = time.time()\n",
    "print(\"Time Taken by above cell is {}.\".format(end-start))\n",
    "\n",
    "test_cl.head()"
   ]
  },
  {
   "cell_type": "markdown",
   "metadata": {},
   "source": [
    "# Prediction & Validation by XGB Model"
   ]
  },
  {
   "cell_type": "markdown",
   "metadata": {},
   "source": [
    "## Use XGBoost regressor for prediction. \n",
    "## 1. Train XGB on training features \n",
    "## 2. Use trained model for prediction."
   ]
  },
  {
   "cell_type": "code",
   "execution_count": 73,
   "metadata": {},
   "outputs": [],
   "source": [
    "import xgboost as xgb\n",
    "from sklearn.model_selection import train_test_split\n",
    "from sklearn.decomposition import PCA\n",
    "from sklearn.cluster import MiniBatchKMeans\n",
    "import warnings"
   ]
  },
  {
   "cell_type": "markdown",
   "metadata": {},
   "source": [
    "## Add PCA features in the model"
   ]
  },
  {
   "cell_type": "code",
   "execution_count": 74,
   "metadata": {},
   "outputs": [
    {
     "name": "stdout",
     "output_type": "stream",
     "text": [
      "Time Taken by above cell is 3.188908100128174."
     ]
    },
    {
     "name": "stdout",
     "output_type": "stream",
     "text": [
      "\n"
     ]
    }
   ],
   "source": [
    "train = train_cl\n",
    "test = test_cl\n",
    "start = time.time()\n",
    "coords = np.vstack((train[['pickup_latitude', 'pickup_longitude']].values,\n",
    "                    train[['dropoff_latitude', 'dropoff_longitude']].values,\n",
    "                    test[['pickup_latitude', 'pickup_longitude']].values,\n",
    "                    test[['dropoff_latitude', 'dropoff_longitude']].values))\n",
    "\n",
    "pca = PCA().fit(coords)\n",
    "train['pickup_pca0'] = pca.transform(train[['pickup_latitude', 'pickup_longitude']])[:, 0]\n",
    "train['pickup_pca1'] = pca.transform(train[['pickup_latitude', 'pickup_longitude']])[:, 1]\n",
    "train['dropoff_pca0'] = pca.transform(train[['dropoff_latitude', 'dropoff_longitude']])[:, 0]\n",
    "train['dropoff_pca1'] = pca.transform(train[['dropoff_latitude', 'dropoff_longitude']])[:, 1]\n",
    "test['pickup_pca0'] = pca.transform(test[['pickup_latitude', 'pickup_longitude']])[:, 0]\n",
    "test['pickup_pca1'] = pca.transform(test[['pickup_latitude', 'pickup_longitude']])[:, 1]\n",
    "test['dropoff_pca0'] = pca.transform(test[['dropoff_latitude', 'dropoff_longitude']])[:, 0]\n",
    "test['dropoff_pca1'] = pca.transform(test[['dropoff_latitude', 'dropoff_longitude']])[:, 1]\n",
    "end = time.time()\n",
    "print(\"Time Taken by above cell is {}.\".format(end - start))"
   ]
  },
  {
   "cell_type": "code",
   "execution_count": 75,
   "metadata": {},
   "outputs": [],
   "source": [
    "# Replace with 0 or 1:\n",
    "train['store_and_fwd_flag_int'] = np.where(train['store_and_fwd_flag']=='N', 0, 1)\n",
    "test['store_and_fwd_flag_int'] = np.where(test['store_and_fwd_flag']=='N', 0, 1)"
   ]
  },
  {
   "cell_type": "markdown",
   "metadata": {},
   "source": [
    "## Get the difference of features in train and test"
   ]
  },
  {
   "cell_type": "code",
   "execution_count": 76,
   "metadata": {},
   "outputs": [
    {
     "name": "stdout",
     "output_type": "stream",
     "text": [
      "Difference of features in train and test are ['dropoff_datetime' 'trip_duration']"
     ]
    },
    {
     "name": "stdout",
     "output_type": "stream",
     "text": [
      "\n"
     ]
    },
    {
     "name": "stdout",
     "output_type": "stream",
     "text": [
      "\n"
     ]
    },
    {
     "name": "stdout",
     "output_type": "stream",
     "text": [
      "We will be using following features for training ['vendor_id', 'passenger_count', 'pickup_longitude', 'pickup_latitude', 'dropoff_longitude', 'dropoff_latitude', 'total_distance', 'total_travel_time', 'number_of_steps', 'pick_month', 'hour', 'week_of_year', 'day_of_year', 'day_of_week', 'hvsine_pick_drop', 'manhtn_pick_drop', 'bearing', 'label_pick', 'label_drop', 'centroid_pick_long', 'centroid_pick_lat', 'centroid_drop_long', 'centroid_drop_lat', 'hvsine_pick_cent_p', 'hvsine_drop_cent_d', 'hvsine_cent_p_cent_d', 'manhtn_pick_cent_p', 'manhtn_drop_cent_d', 'manhtn_cent_p_cent_d', 'bearing_pick_cent_p', 'bearing_drop_cent_p', 'bearing_cent_p_cent_d', 'speed_hvsn', 'speed_manhtn', 'pickup_pca0', 'pickup_pca1', 'dropoff_pca0', 'dropoff_pca1', 'store_and_fwd_flag_int']."
     ]
    },
    {
     "name": "stdout",
     "output_type": "stream",
     "text": [
      "\n"
     ]
    },
    {
     "name": "stdout",
     "output_type": "stream",
     "text": [
      "\n"
     ]
    },
    {
     "name": "stdout",
     "output_type": "stream",
     "text": [
      "Total number of features are 39."
     ]
    },
    {
     "name": "stdout",
     "output_type": "stream",
     "text": [
      "\n"
     ]
    }
   ],
   "source": [
    "feature_names = list(train.columns)\n",
    "print(\"Difference of features in train and test are {}\".format(np.setdiff1d(train.columns, test.columns)))\n",
    "print(\"\")\n",
    "do_not_use_for_training = ['pick_date','id', 'pickup_datetime', 'dropoff_datetime', 'trip_duration', 'store_and_fwd_flag']\n",
    "feature_names = [f for f in train.columns if f not in do_not_use_for_training]\n",
    "print(\"We will be using following features for training {}.\".format(feature_names))\n",
    "print(\"\")\n",
    "print(\"Total number of features are {}.\".format(len(feature_names)))"
   ]
  },
  {
   "cell_type": "markdown",
   "metadata": {},
   "source": [
    "## xgb: http://xgboost.readthedocs.io/en/latest/python/python_intro.html"
   ]
  },
  {
   "cell_type": "code",
   "execution_count": 79,
   "metadata": {},
   "outputs": [
    {
     "name": "stdout",
     "output_type": "stream",
     "text": [
      "[0]\ttrain-rmse:4.22632\tvalid-rmse:4.22757\n"
     ]
    },
    {
     "name": "stdout",
     "output_type": "stream",
     "text": [
      "Multiple eval metrics have been passed: 'valid-rmse' will be used for early stopping.\n\n"
     ]
    },
    {
     "name": "stdout",
     "output_type": "stream",
     "text": [
      "Will train until valid-rmse hasn't improved in 2 rounds.\n"
     ]
    },
    {
     "name": "stdout",
     "output_type": "stream",
     "text": [
      "[1]\ttrain-rmse:2.97634\tvalid-rmse:2.9779\n"
     ]
    },
    {
     "name": "stdout",
     "output_type": "stream",
     "text": [
      "[2]\ttrain-rmse:2.10627\tvalid-rmse:2.10828\n"
     ]
    },
    {
     "name": "stdout",
     "output_type": "stream",
     "text": [
      "[3]\ttrain-rmse:1.50768\tvalid-rmse:1.51038\n"
     ]
    },
    {
     "name": "stdout",
     "output_type": "stream",
     "text": [
      "[4]\ttrain-rmse:1.0977\tvalid-rmse:1.1013\n"
     ]
    },
    {
     "name": "stdout",
     "output_type": "stream",
     "text": [
      "[5]\ttrain-rmse:0.82356\tvalid-rmse:0.828341\n"
     ]
    },
    {
     "name": "stdout",
     "output_type": "stream",
     "text": [
      "[6]\ttrain-rmse:0.645152\tvalid-rmse:0.651593\n"
     ]
    },
    {
     "name": "stdout",
     "output_type": "stream",
     "text": [
      "[7]\ttrain-rmse:0.535765\tvalid-rmse:0.54387\n"
     ]
    },
    {
     "name": "stdout",
     "output_type": "stream",
     "text": [
      "[8]\ttrain-rmse:0.472743\tvalid-rmse:0.482233\n"
     ]
    },
    {
     "name": "stdout",
     "output_type": "stream",
     "text": [
      "[9]\ttrain-rmse:0.437489\tvalid-rmse:0.448313\n"
     ]
    },
    {
     "name": "stdout",
     "output_type": "stream",
     "text": [
      "[10]\ttrain-rmse:0.41794\tvalid-rmse:0.429668\n"
     ]
    },
    {
     "name": "stdout",
     "output_type": "stream",
     "text": [
      "[11]\ttrain-rmse:0.407544\tvalid-rmse:0.419869\n"
     ]
    },
    {
     "name": "stdout",
     "output_type": "stream",
     "text": [
      "[12]\ttrain-rmse:0.401203\tvalid-rmse:0.414095\n"
     ]
    },
    {
     "name": "stdout",
     "output_type": "stream",
     "text": [
      "[13]\ttrain-rmse:0.398004\tvalid-rmse:0.411455\n"
     ]
    },
    {
     "name": "stdout",
     "output_type": "stream",
     "text": [
      "[14]\ttrain-rmse:0.395435\tvalid-rmse:0.409449\n"
     ]
    },
    {
     "name": "stdout",
     "output_type": "stream",
     "text": [
      "Time taken by above cell is 89.89487862586975."
     ]
    },
    {
     "name": "stdout",
     "output_type": "stream",
     "text": [
      "\n"
     ]
    },
    {
     "name": "stdout",
     "output_type": "stream",
     "text": [
      "Modeling RMSLE 0.40945"
     ]
    },
    {
     "name": "stdout",
     "output_type": "stream",
     "text": [
      "\n"
     ]
    }
   ],
   "source": [
    "y = np.log(train['trip_duration'].values + 1)\n",
    "start = time.time()\n",
    "Xtr, Xv, ytr, yv = train_test_split(train[feature_names].values, y, test_size=0.2, random_state=1987)\n",
    "dtrain = xgb.DMatrix(Xtr, label=ytr) #DMatrix: object of XGBoost\n",
    "dvalid = xgb.DMatrix(Xv, label=yv)\n",
    "dtest = xgb.DMatrix(test[feature_names].values)\n",
    "watchlist = [(dtrain, 'train'), (dvalid, 'valid')]\n",
    "\n",
    "xgb_pars = {'min_child_weight': 50, 'eta': 0.3, 'colsample_bytree': 0.3, 'max_depth': 10,\n",
    "            'subsample': 0.8, 'lambda': 1., 'nthread': -1, 'booster' : 'gbtree', 'silent': 1,\n",
    "            'eval_metric': 'rmse', 'objective': 'reg:linear'}\n",
    "\n",
    "model = xgb.train(xgb_pars, dtrain, 15, watchlist, early_stopping_rounds=2,\n",
    "                  maximize=False, verbose_eval=1)\n",
    "end = time.time()\n",
    "print(\"Time taken by above cell is {}.\".format(end - start))\n",
    "print('Modeling RMSLE %.5f' % model.best_score)"
   ]
  },
  {
   "cell_type": "markdown",
   "metadata": {},
   "source": [
    "# Feature Extraction Round 2 with weather data\n",
    "## By Extraction on following features as RMSLE is not going below 0.38\n",
    "## 1. Pick to drop cluster\n",
    "## 2. Drop to pickup cluster\n",
    "## 3. Number of lefts\n",
    "## 4. Number of rights ( 3,4 from osrm data)\n",
    "## 5. Check weather in nyc dataset and see if it can be used as feature"
   ]
  },
  {
   "cell_type": "code",
   "execution_count": 80,
   "metadata": {},
   "outputs": [
    {
     "data": {
      "text/html": [
       "<div>\n",
       "<style>\n",
       "    .dataframe thead tr:only-child th {\n",
       "        text-align: right;\n",
       "    }\n",
       "\n",
       "    .dataframe thead th {\n",
       "        text-align: left;\n",
       "    }\n",
       "\n",
       "    .dataframe tbody tr th {\n",
       "        vertical-align: top;\n",
       "    }\n",
       "</style>\n",
       "<table border=\"1\" class=\"dataframe\">\n",
       "  <thead>\n",
       "    <tr style=\"text-align: right;\">\n",
       "      <th></th>\n",
       "      <th>date</th>\n",
       "      <th>maximum_temperature</th>\n",
       "      <th>minimum temperature</th>\n",
       "      <th>average_temperature</th>\n",
       "      <th>precipitation</th>\n",
       "      <th>snow fall</th>\n",
       "      <th>snow depth</th>\n",
       "    </tr>\n",
       "  </thead>\n",
       "  <tbody>\n",
       "    <tr>\n",
       "      <th>0</th>\n",
       "      <td>1/1/2016</td>\n",
       "      <td>42</td>\n",
       "      <td>34</td>\n",
       "      <td>38.0</td>\n",
       "      <td>0</td>\n",
       "      <td>0</td>\n",
       "      <td>0</td>\n",
       "    </tr>\n",
       "    <tr>\n",
       "      <th>1</th>\n",
       "      <td>2/1/2016</td>\n",
       "      <td>40</td>\n",
       "      <td>32</td>\n",
       "      <td>36.0</td>\n",
       "      <td>0</td>\n",
       "      <td>0</td>\n",
       "      <td>0</td>\n",
       "    </tr>\n",
       "    <tr>\n",
       "      <th>2</th>\n",
       "      <td>3/1/2016</td>\n",
       "      <td>45</td>\n",
       "      <td>35</td>\n",
       "      <td>40.0</td>\n",
       "      <td>0</td>\n",
       "      <td>0</td>\n",
       "      <td>0</td>\n",
       "    </tr>\n",
       "    <tr>\n",
       "      <th>3</th>\n",
       "      <td>4/1/2016</td>\n",
       "      <td>36</td>\n",
       "      <td>14</td>\n",
       "      <td>25.0</td>\n",
       "      <td>0</td>\n",
       "      <td>0</td>\n",
       "      <td>0</td>\n",
       "    </tr>\n",
       "    <tr>\n",
       "      <th>4</th>\n",
       "      <td>5/1/2016</td>\n",
       "      <td>29</td>\n",
       "      <td>11</td>\n",
       "      <td>20.0</td>\n",
       "      <td>0</td>\n",
       "      <td>0</td>\n",
       "      <td>0</td>\n",
       "    </tr>\n",
       "    <tr>\n",
       "      <th>5</th>\n",
       "      <td>6/1/2016</td>\n",
       "      <td>41</td>\n",
       "      <td>25</td>\n",
       "      <td>33.0</td>\n",
       "      <td>0</td>\n",
       "      <td>0</td>\n",
       "      <td>0</td>\n",
       "    </tr>\n",
       "    <tr>\n",
       "      <th>6</th>\n",
       "      <td>7/1/2016</td>\n",
       "      <td>46</td>\n",
       "      <td>31</td>\n",
       "      <td>38.5</td>\n",
       "      <td>0</td>\n",
       "      <td>0</td>\n",
       "      <td>0</td>\n",
       "    </tr>\n",
       "    <tr>\n",
       "      <th>7</th>\n",
       "      <td>8/1/2016</td>\n",
       "      <td>46</td>\n",
       "      <td>31</td>\n",
       "      <td>38.5</td>\n",
       "      <td>0</td>\n",
       "      <td>0</td>\n",
       "      <td>0</td>\n",
       "    </tr>\n",
       "    <tr>\n",
       "      <th>8</th>\n",
       "      <td>9/1/2016</td>\n",
       "      <td>47</td>\n",
       "      <td>40</td>\n",
       "      <td>43.5</td>\n",
       "      <td>T</td>\n",
       "      <td>0</td>\n",
       "      <td>0</td>\n",
       "    </tr>\n",
       "    <tr>\n",
       "      <th>9</th>\n",
       "      <td>10/1/2016</td>\n",
       "      <td>59</td>\n",
       "      <td>40</td>\n",
       "      <td>49.5</td>\n",
       "      <td>1.8</td>\n",
       "      <td>0</td>\n",
       "      <td>0</td>\n",
       "    </tr>\n",
       "  </tbody>\n",
       "</table>\n",
       "</div>"
      ],
      "text/plain": [
       "<div>\n",
       "<style>\n",
       "    .dataframe thead tr:only-child th {\n",
       "        text-align: right;\n",
       "    }\n",
       "\n",
       "    .dataframe thead th {\n",
       "        text-align: left;\n",
       "    }\n",
       "\n",
       "    .dataframe tbody tr th {\n",
       "        vertical-align: top;\n",
       "    }\n",
       "</style>\n",
       "<table border=\"1\" class=\"dataframe\">\n",
       "  <thead>\n",
       "    <tr style=\"text-align: right;\">\n",
       "      <th></th>\n",
       "      <th>date</th>\n",
       "      <th>maximum_temperature</th>\n",
       "      <th>minimum temperature</th>\n",
       "      <th>average_temperature</th>\n",
       "      <th>precipitation</th>\n",
       "      <th>snow fall</th>\n",
       "      <th>snow depth</th>\n",
       "    </tr>\n",
       "  </thead>\n",
       "  <tbody>\n",
       "    <tr>\n",
       "      <th>0</th>\n",
       "      <td>1/1/2016</td>\n",
       "      <td>42</td>\n",
       "      <td>34</td>\n",
       "      <td>38.0</td>\n",
       "      <td>0</td>\n",
       "      <td>0</td>\n",
       "      <td>0</td>\n",
       "    </tr>\n",
       "    <tr>\n",
       "      <th>1</th>\n",
       "      <td>2/1/2016</td>\n",
       "      <td>40</td>\n",
       "      <td>32</td>\n",
       "      <td>36.0</td>\n",
       "      <td>0</td>\n",
       "      <td>0</td>\n",
       "      <td>0</td>\n",
       "    </tr>\n",
       "    <tr>\n",
       "      <th>2</th>\n",
       "      <td>3/1/2016</td>\n",
       "      <td>45</td>\n",
       "      <td>35</td>\n",
       "      <td>40.0</td>\n",
       "      <td>0</td>\n",
       "      <td>0</td>\n",
       "      <td>0</td>\n",
       "    </tr>\n",
       "    <tr>\n",
       "      <th>3</th>\n",
       "      <td>4/1/2016</td>\n",
       "      <td>36</td>\n",
       "      <td>14</td>\n",
       "      <td>25.0</td>\n",
       "      <td>0</td>\n",
       "      <td>0</td>\n",
       "      <td>0</td>\n",
       "    </tr>\n",
       "    <tr>\n",
       "      <th>4</th>\n",
       "      <td>5/1/2016</td>\n",
       "      <td>29</td>\n",
       "      <td>11</td>\n",
       "      <td>20.0</td>\n",
       "      <td>0</td>\n",
       "      <td>0</td>\n",
       "      <td>0</td>\n",
       "    </tr>\n",
       "    <tr>\n",
       "      <th>5</th>\n",
       "      <td>6/1/2016</td>\n",
       "      <td>41</td>\n",
       "      <td>25</td>\n",
       "      <td>33.0</td>\n",
       "      <td>0</td>\n",
       "      <td>0</td>\n",
       "      <td>0</td>\n",
       "    </tr>\n",
       "    <tr>\n",
       "      <th>6</th>\n",
       "      <td>7/1/2016</td>\n",
       "      <td>46</td>\n",
       "      <td>31</td>\n",
       "      <td>38.5</td>\n",
       "      <td>0</td>\n",
       "      <td>0</td>\n",
       "      <td>0</td>\n",
       "    </tr>\n",
       "    <tr>\n",
       "      <th>7</th>\n",
       "      <td>8/1/2016</td>\n",
       "      <td>46</td>\n",
       "      <td>31</td>\n",
       "      <td>38.5</td>\n",
       "      <td>0</td>\n",
       "      <td>0</td>\n",
       "      <td>0</td>\n",
       "    </tr>\n",
       "    <tr>\n",
       "      <th>8</th>\n",
       "      <td>9/1/2016</td>\n",
       "      <td>47</td>\n",
       "      <td>40</td>\n",
       "      <td>43.5</td>\n",
       "      <td>T</td>\n",
       "      <td>0</td>\n",
       "      <td>0</td>\n",
       "    </tr>\n",
       "    <tr>\n",
       "      <th>9</th>\n",
       "      <td>10/1/2016</td>\n",
       "      <td>59</td>\n",
       "      <td>40</td>\n",
       "      <td>49.5</td>\n",
       "      <td>1.8</td>\n",
       "      <td>0</td>\n",
       "      <td>0</td>\n",
       "    </tr>\n",
       "  </tbody>\n",
       "</table>\n",
       "</div>"
      ]
     },
     "execution_count": 80,
     "metadata": {},
     "output_type": "execute_result"
    }
   ],
   "source": [
    "weather = pd.read_csv('data/weather_data_nyc_centralpark_2016.csv')\n",
    "weather[['precipitation']] = weather[['precipitation']].replace(np.nan, 'T', regex=True)\n",
    "weather[['snow_fall']] = weather[['snow_fall']].replace(np.nan, 'T', regex=True)\n",
    "weather.rename(columns={'snow_fall': 'snow fall'}, inplace=True)\n",
    "weather[['snow_depth']] = weather[['snow_depth']].replace(np.nan, 'T', regex=True)\n",
    "weather.rename(columns={'snow_depth': 'snow depth'}, inplace=True)\n",
    "##minimum_temperature\n",
    "weather.rename(columns={'minimum_temperature': 'minimum temperature'}, inplace=True)\n",
    "weather.head(10)"
   ]
  },
  {
   "cell_type": "code",
   "execution_count": 81,
   "metadata": {},
   "outputs": [
    {
     "name": "stderr",
     "output_type": "stream",
     "text": [
      "C:\\Anaconda3\\lib\\site-packages\\ggplot\\utils.py:81: FutureWarning:\n\npandas.tslib is deprecated and will be removed in a future version.\nYou can access Timestamp as pandas.Timestamp\n\n"
     ]
    },
    {
     "name": "stderr",
     "output_type": "stream",
     "text": [
      "C:\\Anaconda3\\lib\\site-packages\\ggplot\\stats\\smoothers.py:4: FutureWarning:\n\nThe pandas.lib module is deprecated and will be removed in a future version. These are private functions and can be accessed from pandas._libs.lib instead\n\n"
     ]
    },
    {
     "name": "stderr",
     "output_type": "stream",
     "text": [
      "C:\\Anaconda3\\lib\\importlib\\_bootstrap.py:219: ImportWarning:\n\ncan't resolve package from __spec__ or __package__, falling back on __name__ and __path__\n\n"
     ]
    },
    {
     "name": "stderr",
     "output_type": "stream",
     "text": [
      "C:\\Anaconda3\\lib\\site-packages\\statsmodels\\compat\\pandas.py:56: FutureWarning:\n\nThe pandas.core.datetools module is deprecated and will be removed in a future version. Please use the pandas.tseries module instead.\n\n"
     ]
    },
    {
     "data": {
      "text/html": [
       "<div>\n",
       "<style>\n",
       "    .dataframe thead tr:only-child th {\n",
       "        text-align: right;\n",
       "    }\n",
       "\n",
       "    .dataframe thead th {\n",
       "        text-align: left;\n",
       "    }\n",
       "\n",
       "    .dataframe tbody tr th {\n",
       "        vertical-align: top;\n",
       "    }\n",
       "</style>\n",
       "<table border=\"1\" class=\"dataframe\">\n",
       "  <thead>\n",
       "    <tr style=\"text-align: right;\">\n",
       "      <th></th>\n",
       "      <th>date</th>\n",
       "      <th>maximum_temperature</th>\n",
       "      <th>minimum temperature</th>\n",
       "      <th>average_temperature</th>\n",
       "      <th>precipitation</th>\n",
       "      <th>snow fall</th>\n",
       "      <th>snow depth</th>\n",
       "      <th>day_of_year</th>\n",
       "    </tr>\n",
       "  </thead>\n",
       "  <tbody>\n",
       "    <tr>\n",
       "      <th>0</th>\n",
       "      <td>2016-01-01</td>\n",
       "      <td>42</td>\n",
       "      <td>34</td>\n",
       "      <td>38.0</td>\n",
       "      <td>0.0</td>\n",
       "      <td>0.0</td>\n",
       "      <td>0.0</td>\n",
       "      <td>1</td>\n",
       "    </tr>\n",
       "    <tr>\n",
       "      <th>1</th>\n",
       "      <td>2016-02-01</td>\n",
       "      <td>40</td>\n",
       "      <td>32</td>\n",
       "      <td>36.0</td>\n",
       "      <td>0.0</td>\n",
       "      <td>0.0</td>\n",
       "      <td>0.0</td>\n",
       "      <td>32</td>\n",
       "    </tr>\n",
       "    <tr>\n",
       "      <th>2</th>\n",
       "      <td>2016-03-01</td>\n",
       "      <td>45</td>\n",
       "      <td>35</td>\n",
       "      <td>40.0</td>\n",
       "      <td>0.0</td>\n",
       "      <td>0.0</td>\n",
       "      <td>0.0</td>\n",
       "      <td>61</td>\n",
       "    </tr>\n",
       "    <tr>\n",
       "      <th>3</th>\n",
       "      <td>2016-04-01</td>\n",
       "      <td>36</td>\n",
       "      <td>14</td>\n",
       "      <td>25.0</td>\n",
       "      <td>0.0</td>\n",
       "      <td>0.0</td>\n",
       "      <td>0.0</td>\n",
       "      <td>92</td>\n",
       "    </tr>\n",
       "    <tr>\n",
       "      <th>4</th>\n",
       "      <td>2016-05-01</td>\n",
       "      <td>29</td>\n",
       "      <td>11</td>\n",
       "      <td>20.0</td>\n",
       "      <td>0.0</td>\n",
       "      <td>0.0</td>\n",
       "      <td>0.0</td>\n",
       "      <td>122</td>\n",
       "    </tr>\n",
       "    <tr>\n",
       "      <th>5</th>\n",
       "      <td>2016-06-01</td>\n",
       "      <td>41</td>\n",
       "      <td>25</td>\n",
       "      <td>33.0</td>\n",
       "      <td>0.0</td>\n",
       "      <td>0.0</td>\n",
       "      <td>0.0</td>\n",
       "      <td>153</td>\n",
       "    </tr>\n",
       "    <tr>\n",
       "      <th>6</th>\n",
       "      <td>2016-07-01</td>\n",
       "      <td>46</td>\n",
       "      <td>31</td>\n",
       "      <td>38.5</td>\n",
       "      <td>0.0</td>\n",
       "      <td>0.0</td>\n",
       "      <td>0.0</td>\n",
       "      <td>183</td>\n",
       "    </tr>\n",
       "    <tr>\n",
       "      <th>7</th>\n",
       "      <td>2016-08-01</td>\n",
       "      <td>46</td>\n",
       "      <td>31</td>\n",
       "      <td>38.5</td>\n",
       "      <td>0.0</td>\n",
       "      <td>0.0</td>\n",
       "      <td>0.0</td>\n",
       "      <td>214</td>\n",
       "    </tr>\n",
       "    <tr>\n",
       "      <th>8</th>\n",
       "      <td>2016-09-01</td>\n",
       "      <td>47</td>\n",
       "      <td>40</td>\n",
       "      <td>43.5</td>\n",
       "      <td>0.0</td>\n",
       "      <td>0.0</td>\n",
       "      <td>0.0</td>\n",
       "      <td>245</td>\n",
       "    </tr>\n",
       "    <tr>\n",
       "      <th>9</th>\n",
       "      <td>2016-10-01</td>\n",
       "      <td>59</td>\n",
       "      <td>40</td>\n",
       "      <td>49.5</td>\n",
       "      <td>1.8</td>\n",
       "      <td>0.0</td>\n",
       "      <td>0.0</td>\n",
       "      <td>275</td>\n",
       "    </tr>\n",
       "  </tbody>\n",
       "</table>\n",
       "</div>"
      ],
      "text/plain": [
       "<div>\n",
       "<style>\n",
       "    .dataframe thead tr:only-child th {\n",
       "        text-align: right;\n",
       "    }\n",
       "\n",
       "    .dataframe thead th {\n",
       "        text-align: left;\n",
       "    }\n",
       "\n",
       "    .dataframe tbody tr th {\n",
       "        vertical-align: top;\n",
       "    }\n",
       "</style>\n",
       "<table border=\"1\" class=\"dataframe\">\n",
       "  <thead>\n",
       "    <tr style=\"text-align: right;\">\n",
       "      <th></th>\n",
       "      <th>date</th>\n",
       "      <th>maximum_temperature</th>\n",
       "      <th>minimum temperature</th>\n",
       "      <th>average_temperature</th>\n",
       "      <th>precipitation</th>\n",
       "      <th>snow fall</th>\n",
       "      <th>snow depth</th>\n",
       "      <th>day_of_year</th>\n",
       "    </tr>\n",
       "  </thead>\n",
       "  <tbody>\n",
       "    <tr>\n",
       "      <th>0</th>\n",
       "      <td>2016-01-01</td>\n",
       "      <td>42</td>\n",
       "      <td>34</td>\n",
       "      <td>38.0</td>\n",
       "      <td>0.0</td>\n",
       "      <td>0.0</td>\n",
       "      <td>0.0</td>\n",
       "      <td>1</td>\n",
       "    </tr>\n",
       "    <tr>\n",
       "      <th>1</th>\n",
       "      <td>2016-02-01</td>\n",
       "      <td>40</td>\n",
       "      <td>32</td>\n",
       "      <td>36.0</td>\n",
       "      <td>0.0</td>\n",
       "      <td>0.0</td>\n",
       "      <td>0.0</td>\n",
       "      <td>32</td>\n",
       "    </tr>\n",
       "    <tr>\n",
       "      <th>2</th>\n",
       "      <td>2016-03-01</td>\n",
       "      <td>45</td>\n",
       "      <td>35</td>\n",
       "      <td>40.0</td>\n",
       "      <td>0.0</td>\n",
       "      <td>0.0</td>\n",
       "      <td>0.0</td>\n",
       "      <td>61</td>\n",
       "    </tr>\n",
       "    <tr>\n",
       "      <th>3</th>\n",
       "      <td>2016-04-01</td>\n",
       "      <td>36</td>\n",
       "      <td>14</td>\n",
       "      <td>25.0</td>\n",
       "      <td>0.0</td>\n",
       "      <td>0.0</td>\n",
       "      <td>0.0</td>\n",
       "      <td>92</td>\n",
       "    </tr>\n",
       "    <tr>\n",
       "      <th>4</th>\n",
       "      <td>2016-05-01</td>\n",
       "      <td>29</td>\n",
       "      <td>11</td>\n",
       "      <td>20.0</td>\n",
       "      <td>0.0</td>\n",
       "      <td>0.0</td>\n",
       "      <td>0.0</td>\n",
       "      <td>122</td>\n",
       "    </tr>\n",
       "    <tr>\n",
       "      <th>5</th>\n",
       "      <td>2016-06-01</td>\n",
       "      <td>41</td>\n",
       "      <td>25</td>\n",
       "      <td>33.0</td>\n",
       "      <td>0.0</td>\n",
       "      <td>0.0</td>\n",
       "      <td>0.0</td>\n",
       "      <td>153</td>\n",
       "    </tr>\n",
       "    <tr>\n",
       "      <th>6</th>\n",
       "      <td>2016-07-01</td>\n",
       "      <td>46</td>\n",
       "      <td>31</td>\n",
       "      <td>38.5</td>\n",
       "      <td>0.0</td>\n",
       "      <td>0.0</td>\n",
       "      <td>0.0</td>\n",
       "      <td>183</td>\n",
       "    </tr>\n",
       "    <tr>\n",
       "      <th>7</th>\n",
       "      <td>2016-08-01</td>\n",
       "      <td>46</td>\n",
       "      <td>31</td>\n",
       "      <td>38.5</td>\n",
       "      <td>0.0</td>\n",
       "      <td>0.0</td>\n",
       "      <td>0.0</td>\n",
       "      <td>214</td>\n",
       "    </tr>\n",
       "    <tr>\n",
       "      <th>8</th>\n",
       "      <td>2016-09-01</td>\n",
       "      <td>47</td>\n",
       "      <td>40</td>\n",
       "      <td>43.5</td>\n",
       "      <td>0.0</td>\n",
       "      <td>0.0</td>\n",
       "      <td>0.0</td>\n",
       "      <td>245</td>\n",
       "    </tr>\n",
       "    <tr>\n",
       "      <th>9</th>\n",
       "      <td>2016-10-01</td>\n",
       "      <td>59</td>\n",
       "      <td>40</td>\n",
       "      <td>49.5</td>\n",
       "      <td>1.8</td>\n",
       "      <td>0.0</td>\n",
       "      <td>0.0</td>\n",
       "      <td>275</td>\n",
       "    </tr>\n",
       "  </tbody>\n",
       "</table>\n",
       "</div>"
      ]
     },
     "execution_count": 81,
     "metadata": {},
     "output_type": "execute_result"
    }
   ],
   "source": [
    "from ggplot import *\n",
    "weather.date = pd.to_datetime(weather.date)\n",
    "weather['day_of_year']= weather.date.dt.dayofyear\n",
    "\n",
    "import matplotlib.pyplot as plt\n",
    "%matplotlib inline\n",
    "weather['precipitation'].unique() #unique(): Returns the sorted unique elements of an array. \n",
    "\n",
    "weather['precipitation'] = np.where(weather['precipitation']=='T', '0.00',weather['precipitation'])\n",
    "weather['precipitation'] = list(map(float, weather['precipitation'])) \n",
    "# map() function applies a given function to each item of an iterable (list, tuple etc.) and returns a list of the results.\n",
    "# so if you want a new list and not just something to iterate over, you either need list(map(float, mylist)\n",
    "\n",
    "weather['snow fall'] = np.where(weather['snow fall']=='T', '0.00',weather['snow fall'])\n",
    "weather['snow fall'] = list(map(float, weather['snow fall']))\n",
    "\n",
    "weather['snow depth'] = np.where(weather['snow depth']=='T', '0.00',weather['snow depth'])\n",
    "weather['snow depth'] = list(map(float, weather['snow depth']))\n",
    "\n",
    "weather.head(10)"
   ]
  },
  {
   "cell_type": "code",
   "execution_count": 82,
   "metadata": {
    "collapsed": false
   },
   "outputs": [],
   "source": [
    "import plotly.plotly as py\n",
    "import plotly.graph_objs as go\n",
    "import plotly\n",
    "random_x = weather['date'].values\n",
    "random_y0 = weather['precipitation']\n",
    "random_y1 = weather['snow fall']\n",
    "random_y2 = weather['snow depth']\n",
    "\n",
    "# Create traces\n",
    "trace0 = go.Scatter(\n",
    "    x = random_x,\n",
    "    y = random_y0,\n",
    "    mode = 'markers',\n",
    "    name = 'precipitation'\n",
    ")\n",
    "trace1 = go.Scatter(\n",
    "    x = random_x,\n",
    "    y = random_y1,\n",
    "    mode = 'markers',\n",
    "    name = 'snow fall'\n",
    ")\n",
    "trace2 = go.Scatter(\n",
    "    x = random_x,\n",
    "    y = random_y2,\n",
    "    mode = 'markers',\n",
    "    name = 'snow depth'\n",
    ")\n",
    "\n",
    "data = [trace0, trace1, trace2]\n",
    "# plotly.offline.iplot(data, filename='scatter-mode')"
   ]
  },
  {
   "cell_type": "markdown",
   "metadata": {},
   "source": [
    "## Define function to create dummy for turn type"
   ]
  },
  {
   "cell_type": "code",
   "execution_count": 83,
   "metadata": {},
   "outputs": [],
   "source": [
    "def freq_turn(step_dir):\n",
    "    from collections import Counter\n",
    "    step_dir_new = step_dir.split(\"|\")\n",
    "    a_list = Counter(step_dir_new).most_common()\n",
    "    path = {}\n",
    "    for i in range(len(a_list)):\n",
    "        path.update({a_list[i]})\n",
    "    a = 0\n",
    "    b = 0\n",
    "    c = 0\n",
    "    if 'straight' in (path.keys()):\n",
    "        a = path['straight']\n",
    "        #print(a)\n",
    "    if 'left' in (path.keys()):\n",
    "        b = path['left']\n",
    "        #print(b)\n",
    "    if 'right' in (path.keys()):\n",
    "        c = path['right']\n",
    "        #print(c)\n",
    "    return a,b,c\n"
   ]
  },
  {
   "cell_type": "code",
   "execution_count": 84,
   "metadata": {},
   "outputs": [
    {
     "name": "stdout",
     "output_type": "stream",
     "text": [
      "Time Taken by above cell is 21.74204659461975."
     ]
    },
    {
     "name": "stdout",
     "output_type": "stream",
     "text": [
      "\n"
     ]
    }
   ],
   "source": [
    "start = time.time()\n",
    "train_fr['straight']= 0\n",
    "train_fr['left'] =0\n",
    "train_fr['right'] = 0\n",
    "train_fr['straight'], train_fr['left'], train_fr['right'] = zip(*train_fr['step_direction'].map(freq_turn))\n",
    "#The zip() function take iterables (can be zero or more), \n",
    "# makes iterator that aggregates elements based on the iterables passed, and returns an iterator of tuples.\n",
    "end = time.time()\n",
    "print(\"Time Taken by above cell is {}.\".format(end - start))"
   ]
  },
  {
   "cell_type": "code",
   "execution_count": 85,
   "metadata": {},
   "outputs": [
    {
     "name": "stdout",
     "output_type": "stream",
     "text": [
      "47"
     ]
    },
    {
     "name": "stdout",
     "output_type": "stream",
     "text": [
      "\n"
     ]
    }
   ],
   "source": [
    "train_fr_new = train_fr[['id','straight','left','right']]\n",
    "train = pd.merge(train, train_fr_new, on = 'id', how = 'left')\n",
    "#train = pd.merge(train, weather, on= 'date', how = 'left')\n",
    "print(len(train.columns))"
   ]
  },
  {
   "cell_type": "code",
   "execution_count": 86,
   "metadata": {},
   "outputs": [
    {
     "data": {
      "text/plain": [
       "1458644"
      ]
     },
     "execution_count": 86,
     "metadata": {},
     "output_type": "execute_result"
    }
   ],
   "source": [
    "train['pickup_datetime'] = pd.to_datetime(train['pickup_datetime'])\n",
    "train['date'] = train['pickup_datetime'].dt.date\n",
    "train.head()\n",
    "\n",
    "train['date'] = pd.to_datetime(train['date'])\n",
    "train = pd.merge(train, weather[['date','minimum temperature', 'precipitation', 'snow fall', 'snow depth']], on= 'date', how = 'left')\n",
    "train.shape[0]"
   ]
  },
  {
   "cell_type": "code",
   "execution_count": 87,
   "metadata": {},
   "outputs": [
    {
     "name": "stdout",
     "output_type": "stream",
     "text": [
      "shape of train_features is 54."
     ]
    },
    {
     "name": "stdout",
     "output_type": "stream",
     "text": [
      "\n"
     ]
    }
   ],
   "source": [
    "train.loc[:,'hvsine_pick_cent_d'] = haversine_(train['pickup_latitude'].values, \n",
    "                                               train['pickup_longitude'].values, \n",
    "                                               train['centroid_drop_lat'].values, \n",
    "                                               train['centroid_drop_long'].values)\n",
    "train.loc[:,'hvsine_drop_cent_p'] = haversine_(train['dropoff_latitude'].values, \n",
    "                                               train['dropoff_longitude'].values, \n",
    "                                               train['centroid_pick_lat'].values, \n",
    "                                               train['centroid_pick_long'].values)\n",
    "\n",
    "test.loc[:,'hvsine_pick_cent_d'] = haversine_(test['pickup_latitude'].values, \n",
    "                                              test['pickup_longitude'].values, \n",
    "                                              test['centroid_drop_lat'].values, \n",
    "                                              test['centroid_drop_long'].values)\n",
    "test.loc[:,'hvsine_drop_cent_p'] = haversine_(test['dropoff_latitude'].values, \n",
    "                                              test['dropoff_longitude'].values, \n",
    "                                              test['centroid_pick_lat'].values, \n",
    "                                              test['centroid_pick_long'].values)\n",
    "\n",
    "print(\"shape of train_features is {}.\".format(len(train.columns)))"
   ]
  },
  {
   "cell_type": "markdown",
   "metadata": {},
   "source": [
    "## Plot and analyze how these new features behave"
   ]
  },
  {
   "cell_type": "markdown",
   "metadata": {},
   "source": [
    "## Scatter Plot: https://plot.ly/python/user-guide/"
   ]
  },
  {
   "cell_type": "code",
   "execution_count": 88,
   "metadata": {
    "collapsed": true
   },
   "outputs": [
    {
     "name": "stderr",
     "output_type": "stream",
     "text": [
      "C:\\Anaconda3\\lib\\site-packages\\pandas\\core\\series.py:2726: SettingWithCopyWarning:\n\n\nA value is trying to be set on a copy of a slice from a DataFrame\n\nSee the caveats in the documentation: http://pandas.pydata.org/pandas-docs/stable/indexing.html#indexing-view-versus-copy\n\n"
     ]
    },
    {
     "name": "stdout",
     "output_type": "stream",
     "text": [
      "total number of Nulls 0."
     ]
    },
    {
     "name": "stdout",
     "output_type": "stream",
     "text": [
      "\n"
     ]
    },
    {
     "name": "stderr",
     "output_type": "stream",
     "text": [
      "C:\\Anaconda3\\lib\\site-packages\\ipykernel_launcher.py:9: SettingWithCopyWarning:\n\n\nA value is trying to be set on a copy of a slice from a DataFrame.\nTry using .loc[row_indexer,col_indexer] = value instead\n\nSee the caveats in the documentation: http://pandas.pydata.org/pandas-docs/stable/indexing.html#indexing-view-versus-copy\n\n"
     ]
    },
    {
     "name": "stderr",
     "output_type": "stream",
     "text": [
      "C:\\Anaconda3\\lib\\site-packages\\ipykernel_launcher.py:10: SettingWithCopyWarning:\n\n\nA value is trying to be set on a copy of a slice from a DataFrame.\nTry using .loc[row_indexer,col_indexer] = value instead\n\nSee the caveats in the documentation: http://pandas.pydata.org/pandas-docs/stable/indexing.html#indexing-view-versus-copy\n\n"
     ]
    },
    {
     "name": "stderr",
     "output_type": "stream",
     "text": [
      "C:\\Anaconda3\\lib\\site-packages\\ipykernel_launcher.py:11: SettingWithCopyWarning:\n\n\nA value is trying to be set on a copy of a slice from a DataFrame.\nTry using .loc[row_indexer,col_indexer] = value instead\n\nSee the caveats in the documentation: http://pandas.pydata.org/pandas-docs/stable/indexing.html#indexing-view-versus-copy\n\n"
     ]
    },
    {
     "name": "stderr",
     "output_type": "stream",
     "text": [
      "C:\\Anaconda3\\lib\\site-packages\\ipykernel_launcher.py:13: SettingWithCopyWarning:\n\n\nA value is trying to be set on a copy of a slice from a DataFrame.\nTry using .loc[row_indexer,col_indexer] = value instead\n\nSee the caveats in the documentation: http://pandas.pydata.org/pandas-docs/stable/indexing.html#indexing-view-versus-copy\n\n"
     ]
    },
    {
     "name": "stderr",
     "output_type": "stream",
     "text": [
      "C:\\Anaconda3\\lib\\site-packages\\ipykernel_launcher.py:14: SettingWithCopyWarning:\n\n\nA value is trying to be set on a copy of a slice from a DataFrame.\nTry using .loc[row_indexer,col_indexer] = value instead\n\nSee the caveats in the documentation: http://pandas.pydata.org/pandas-docs/stable/indexing.html#indexing-view-versus-copy\n\n"
     ]
    },
    {
     "name": "stderr",
     "output_type": "stream",
     "text": [
      "C:\\Anaconda3\\lib\\site-packages\\ipykernel_launcher.py:15: SettingWithCopyWarning:\n\n\nA value is trying to be set on a copy of a slice from a DataFrame.\nTry using .loc[row_indexer,col_indexer] = value instead\n\nSee the caveats in the documentation: http://pandas.pydata.org/pandas-docs/stable/indexing.html#indexing-view-versus-copy\n\n"
     ]
    },
    {
     "name": "stderr",
     "output_type": "stream",
     "text": [
      "C:\\Anaconda3\\lib\\site-packages\\ipykernel_launcher.py:16: SettingWithCopyWarning:\n\n\nA value is trying to be set on a copy of a slice from a DataFrame.\nTry using .loc[row_indexer,col_indexer] = value instead\n\nSee the caveats in the documentation: http://pandas.pydata.org/pandas-docs/stable/indexing.html#indexing-view-versus-copy\n\n"
     ]
    }
   ],
   "source": [
    "start = time.time()\n",
    "temp = train[['hvsine_drop_cent_p', 'hvsine_pick_cent_d', 'hvsine_drop_cent_d', 'hvsine_pick_cent_p', 'hvsine_pick_drop', 'hvsine_cent_p_cent_d', 'total_distance']]\n",
    "temp.total_distance.dropna(inplace = True)\n",
    "print(\"total number of Nulls {}.\".format(temp.total_distance.isnull().sum()))\n",
    "# Lets take distance of pick---cent_p---cent_d---drop as distance_pick_cp_cd_drop\n",
    "# Lets take distance of pick---cent_d---drop as distance_pick_cd_drop\n",
    "# Lets take distance of pick---cent_p---drop as distance_pick_cp_drop\n",
    "# Lets take distance of pick--drop as total_distance \n",
    "temp['distance_pick_cp_cd_drop'] = temp['hvsine_pick_cent_p'] + temp['hvsine_cent_p_cent_d'] + temp['hvsine_drop_cent_d']\n",
    "temp['distance_pick_cd_drop'] = temp['hvsine_pick_cent_d'] + temp['hvsine_drop_cent_d']\n",
    "temp['distance_pick_cp_drop'] = temp['hvsine_pick_cent_p'] + temp['hvsine_drop_cent_p']\n",
    "\n",
    "temp['total_distance'] = np.floor(temp['total_distance']/1000)\n",
    "temp['distance_pick_cp_drop'] = np.floor(temp['distance_pick_cp_drop'])\n",
    "temp['distance_pick_cd_drop'] = np.floor(temp['distance_pick_cd_drop'])\n",
    "temp['distance_pick_cp_cd_drop'] = np.floor(temp['distance_pick_cp_cd_drop'])\n",
    "#temp.head()\n",
    "temp1 = temp.copy()\n",
    "temp = temp1.sample(100000)\n",
    "\n",
    "aggregation = {'distance_pick_cp_cd_drop':'count', \n",
    "               'distance_pick_cd_drop':'count', \n",
    "               'distance_pick_cp_drop':'count', \n",
    "               'total_distance':'count'}\n",
    "\n",
    "temp2 = pd.DataFrame(temp.groupby('total_distance').agg(aggregation))\n",
    "X_plot = np.linspace(0, temp.total_distance.max(), temp.shape[0])\n",
    "temp2.rename(columns={'total_distance':'count'}, inplace = True)\n",
    "temp2.reset_index(inplace = True)\n",
    "temp2.total_distance = map(int, temp2.total_distance)\n",
    "\n",
    "temp = temp.sample(100000)\n",
    "X_plot = temp.total_distance.unique()\n",
    "a = np.histogram(temp[['total_distance']].values, range(0,95))\n",
    "N = temp.shape[0]\n",
    "data = []\n",
    "\n",
    "#plotly.graph_objs as go\n",
    "trace1 = go.Scatter(x=np.histogram(temp[['total_distance']].values, range(0,95))[1], y=np.histogram(temp[['total_distance']].values, range(0,95))[0],\n",
    "                    mode='lines', fill='tozeroy',\n",
    "                    line=dict(color='black', width=2), \n",
    "                    name='Total_distance_OSRM')\n",
    "data.append(trace1)\n",
    "\n",
    "for kernel in ['distance_pick_cp_cd_drop', 'distance_pick_cd_drop', 'distance_pick_cp_drop']:\n",
    "    trace2 = go.Scatter(x=np.histogram(temp[['total_distance']].values, range(0,95))[1], y=np.histogram(temp[[kernel]].values, range(0,95))[0],\n",
    "                        mode='lines', \n",
    "                        line=dict(width=2, dash='dash'), \n",
    "                        name=kernel)\n",
    "    data.append(trace2)\n",
    "\n",
    "layout=go.Layout(annotations=[dict(x=6, y=0.38, showarrow=False,\n",
    "                                   text=\"N={0} points\".format(N)),\n",
    "                                   ],\n",
    "                 xaxis=dict(zeroline=False), hovermode='closest')\n",
    "fig = go.Figure(data=data, layout=layout)"
   ]
  },
  {
   "cell_type": "code",
   "execution_count": 89,
   "metadata": {
    "collapsed": false
   },
   "outputs": [
    {
     "data": {
      "text/html": [
       "<div id=\"33142212-ad03-41c2-84a8-29884f4bbef8\" style=\"height: 525px; width: 100%;\" class=\"plotly-graph-div\"></div><script type=\"text/javascript\">require([\"plotly\"], function(Plotly) { window.PLOTLYENV=window.PLOTLYENV || {};window.PLOTLYENV.BASE_URL=\"https://plot.ly\";Plotly.newPlot(\"33142212-ad03-41c2-84a8-29884f4bbef8\", [{\"type\": \"scatter\", \"x\": [0, 1, 2, 3, 4, 5, 6, 7, 8, 9, 10, 11, 12, 13, 14, 15, 16, 17, 18, 19, 20, 21, 22, 23, 24, 25, 26, 27, 28, 29, 30, 31, 32, 33, 34, 35, 36, 37, 38, 39, 40, 41, 42, 43, 44, 45, 46, 47, 48, 49, 50, 51, 52, 53, 54, 55, 56, 57, 58, 59, 60, 61, 62, 63, 64, 65, 66, 67, 68, 69, 70, 71, 72, 73, 74, 75, 76, 77, 78, 79, 80, 81, 82, 83, 84, 85, 86, 87, 88, 89, 90, 91, 92, 93, 94], \"y\": [8023, 25460, 20735, 12524, 7554, 4812, 3310, 2644, 2198, 1699, 1378, 1170, 1221, 1152, 943, 709, 509, 348, 293, 299, 233, 170, 141, 170, 214, 281, 327, 358, 443, 312, 171, 63, 38, 24, 16, 10, 5, 1, 2, 5, 8, 7, 1, 1, 2, 2, 0, 0, 0, 0, 2, 1, 0, 3, 1, 0, 1, 0, 0, 0, 1, 0, 0, 1, 1, 1, 0, 0, 0, 1, 0, 0, 0, 1, 0, 0, 0, 0, 0, 0, 0, 0, 0, 0, 0, 0, 0, 0, 0, 0, 0, 0, 0, 0], \"mode\": \"lines\", \"fill\": \"tozeroy\", \"line\": {\"color\": \"black\", \"width\": 2}, \"name\": \"Total_distance_OSRM\"}, {\"type\": \"scatter\", \"x\": [0, 1, 2, 3, 4, 5, 6, 7, 8, 9, 10, 11, 12, 13, 14, 15, 16, 17, 18, 19, 20, 21, 22, 23, 24, 25, 26, 27, 28, 29, 30, 31, 32, 33, 34, 35, 36, 37, 38, 39, 40, 41, 42, 43, 44, 45, 46, 47, 48, 49, 50, 51, 52, 53, 54, 55, 56, 57, 58, 59, 60, 61, 62, 63, 64, 65, 66, 67, 68, 69, 70, 71, 72, 73, 74, 75, 76, 77, 78, 79, 80, 81, 82, 83, 84, 85, 86, 87, 88, 89, 90, 91, 92, 93, 94], \"y\": [2868, 16250, 12714, 19059, 16870, 8463, 5298, 4302, 2087, 2239, 1919, 1406, 872, 597, 665, 399, 308, 223, 227, 248, 487, 1087, 566, 289, 131, 79, 75, 55, 69, 42, 16, 14, 10, 4, 4, 7, 4, 2, 3, 5, 2, 4, 1, 1, 0, 3, 1, 1, 1, 0, 2, 4, 1, 1, 0, 1, 1, 1, 0, 0, 2, 1, 0, 0, 0, 1, 0, 0, 0, 2, 0, 0, 0, 0, 1, 0, 0, 0, 0, 0, 0, 0, 0, 1, 0, 0, 0, 0, 0, 0, 0, 0, 1, 0], \"mode\": \"lines\", \"line\": {\"width\": 2, \"dash\": \"dash\"}, \"name\": \"distance_pick_cp_cd_drop\"}, {\"type\": \"scatter\", \"x\": [0, 1, 2, 3, 4, 5, 6, 7, 8, 9, 10, 11, 12, 13, 14, 15, 16, 17, 18, 19, 20, 21, 22, 23, 24, 25, 26, 27, 28, 29, 30, 31, 32, 33, 34, 35, 36, 37, 38, 39, 40, 41, 42, 43, 44, 45, 46, 47, 48, 49, 50, 51, 52, 53, 54, 55, 56, 57, 58, 59, 60, 61, 62, 63, 64, 65, 66, 67, 68, 69, 70, 71, 72, 73, 74, 75, 76, 77, 78, 79, 80, 81, 82, 83, 84, 85, 86, 87, 88, 89, 90, 91, 92, 93, 94], \"y\": [2895, 21922, 24293, 16311, 9692, 5842, 4203, 2764, 1886, 2022, 1494, 1018, 615, 538, 480, 314, 251, 222, 224, 325, 813, 891, 339, 222, 86, 67, 60, 54, 45, 25, 9, 11, 6, 5, 4, 6, 0, 2, 4, 4, 3, 4, 0, 1, 0, 4, 0, 1, 0, 1, 3, 3, 1, 1, 0, 1, 1, 1, 0, 0, 1, 1, 0, 0, 0, 3, 0, 0, 0, 1, 0, 0, 0, 0, 0, 0, 0, 0, 0, 0, 0, 0, 0, 1, 0, 0, 0, 0, 0, 0, 0, 0, 1, 0], \"mode\": \"lines\", \"line\": {\"width\": 2, \"dash\": \"dash\"}, \"name\": \"distance_pick_cd_drop\"}, {\"type\": \"scatter\", \"x\": [0, 1, 2, 3, 4, 5, 6, 7, 8, 9, 10, 11, 12, 13, 14, 15, 16, 17, 18, 19, 20, 21, 22, 23, 24, 25, 26, 27, 28, 29, 30, 31, 32, 33, 34, 35, 36, 37, 38, 39, 40, 41, 42, 43, 44, 45, 46, 47, 48, 49, 50, 51, 52, 53, 54, 55, 56, 57, 58, 59, 60, 61, 62, 63, 64, 65, 66, 67, 68, 69, 70, 71, 72, 73, 74, 75, 76, 77, 78, 79, 80, 81, 82, 83, 84, 85, 86, 87, 88, 89, 90, 91, 92, 93, 94], \"y\": [2896, 21923, 24044, 16852, 9911, 5848, 4197, 2817, 1848, 2064, 1602, 932, 605, 502, 481, 310, 290, 251, 200, 291, 742, 772, 278, 116, 54, 28, 31, 20, 21, 13, 6, 6, 3, 2, 4, 3, 2, 1, 0, 3, 1, 3, 4, 1, 0, 1, 0, 1, 1, 1, 1, 2, 1, 1, 0, 1, 1, 0, 0, 0, 1, 1, 0, 0, 0, 1, 0, 0, 0, 2, 0, 0, 1, 0, 0, 0, 0, 0, 0, 0, 0, 0, 0, 1, 0, 0, 0, 0, 0, 0, 0, 0, 1, 0], \"mode\": \"lines\", \"line\": {\"width\": 2, \"dash\": \"dash\"}, \"name\": \"distance_pick_cp_drop\"}], {\"annotations\": [{\"x\": 6, \"y\": 0.38, \"showarrow\": false, \"text\": \"N=100000 points\"}], \"xaxis\": {\"zeroline\": false}, \"hovermode\": \"closest\"}, {\"showLink\": true, \"linkText\": \"Export to plot.ly\"})});</script>"
      ],
      "text/plain": [
       "<div id=\"33142212-ad03-41c2-84a8-29884f4bbef8\" style=\"height: 525px; width: 100%;\" class=\"plotly-graph-div\"></div><script type=\"text/javascript\">require([\"plotly\"], function(Plotly) { window.PLOTLYENV=window.PLOTLYENV || {};window.PLOTLYENV.BASE_URL=\"https://plot.ly\";Plotly.newPlot(\"33142212-ad03-41c2-84a8-29884f4bbef8\", [{\"type\": \"scatter\", \"x\": [0, 1, 2, 3, 4, 5, 6, 7, 8, 9, 10, 11, 12, 13, 14, 15, 16, 17, 18, 19, 20, 21, 22, 23, 24, 25, 26, 27, 28, 29, 30, 31, 32, 33, 34, 35, 36, 37, 38, 39, 40, 41, 42, 43, 44, 45, 46, 47, 48, 49, 50, 51, 52, 53, 54, 55, 56, 57, 58, 59, 60, 61, 62, 63, 64, 65, 66, 67, 68, 69, 70, 71, 72, 73, 74, 75, 76, 77, 78, 79, 80, 81, 82, 83, 84, 85, 86, 87, 88, 89, 90, 91, 92, 93, 94], \"y\": [8023, 25460, 20735, 12524, 7554, 4812, 3310, 2644, 2198, 1699, 1378, 1170, 1221, 1152, 943, 709, 509, 348, 293, 299, 233, 170, 141, 170, 214, 281, 327, 358, 443, 312, 171, 63, 38, 24, 16, 10, 5, 1, 2, 5, 8, 7, 1, 1, 2, 2, 0, 0, 0, 0, 2, 1, 0, 3, 1, 0, 1, 0, 0, 0, 1, 0, 0, 1, 1, 1, 0, 0, 0, 1, 0, 0, 0, 1, 0, 0, 0, 0, 0, 0, 0, 0, 0, 0, 0, 0, 0, 0, 0, 0, 0, 0, 0, 0], \"mode\": \"lines\", \"fill\": \"tozeroy\", \"line\": {\"color\": \"black\", \"width\": 2}, \"name\": \"Total_distance_OSRM\"}, {\"type\": \"scatter\", \"x\": [0, 1, 2, 3, 4, 5, 6, 7, 8, 9, 10, 11, 12, 13, 14, 15, 16, 17, 18, 19, 20, 21, 22, 23, 24, 25, 26, 27, 28, 29, 30, 31, 32, 33, 34, 35, 36, 37, 38, 39, 40, 41, 42, 43, 44, 45, 46, 47, 48, 49, 50, 51, 52, 53, 54, 55, 56, 57, 58, 59, 60, 61, 62, 63, 64, 65, 66, 67, 68, 69, 70, 71, 72, 73, 74, 75, 76, 77, 78, 79, 80, 81, 82, 83, 84, 85, 86, 87, 88, 89, 90, 91, 92, 93, 94], \"y\": [2868, 16250, 12714, 19059, 16870, 8463, 5298, 4302, 2087, 2239, 1919, 1406, 872, 597, 665, 399, 308, 223, 227, 248, 487, 1087, 566, 289, 131, 79, 75, 55, 69, 42, 16, 14, 10, 4, 4, 7, 4, 2, 3, 5, 2, 4, 1, 1, 0, 3, 1, 1, 1, 0, 2, 4, 1, 1, 0, 1, 1, 1, 0, 0, 2, 1, 0, 0, 0, 1, 0, 0, 0, 2, 0, 0, 0, 0, 1, 0, 0, 0, 0, 0, 0, 0, 0, 1, 0, 0, 0, 0, 0, 0, 0, 0, 1, 0], \"mode\": \"lines\", \"line\": {\"width\": 2, \"dash\": \"dash\"}, \"name\": \"distance_pick_cp_cd_drop\"}, {\"type\": \"scatter\", \"x\": [0, 1, 2, 3, 4, 5, 6, 7, 8, 9, 10, 11, 12, 13, 14, 15, 16, 17, 18, 19, 20, 21, 22, 23, 24, 25, 26, 27, 28, 29, 30, 31, 32, 33, 34, 35, 36, 37, 38, 39, 40, 41, 42, 43, 44, 45, 46, 47, 48, 49, 50, 51, 52, 53, 54, 55, 56, 57, 58, 59, 60, 61, 62, 63, 64, 65, 66, 67, 68, 69, 70, 71, 72, 73, 74, 75, 76, 77, 78, 79, 80, 81, 82, 83, 84, 85, 86, 87, 88, 89, 90, 91, 92, 93, 94], \"y\": [2895, 21922, 24293, 16311, 9692, 5842, 4203, 2764, 1886, 2022, 1494, 1018, 615, 538, 480, 314, 251, 222, 224, 325, 813, 891, 339, 222, 86, 67, 60, 54, 45, 25, 9, 11, 6, 5, 4, 6, 0, 2, 4, 4, 3, 4, 0, 1, 0, 4, 0, 1, 0, 1, 3, 3, 1, 1, 0, 1, 1, 1, 0, 0, 1, 1, 0, 0, 0, 3, 0, 0, 0, 1, 0, 0, 0, 0, 0, 0, 0, 0, 0, 0, 0, 0, 0, 1, 0, 0, 0, 0, 0, 0, 0, 0, 1, 0], \"mode\": \"lines\", \"line\": {\"width\": 2, \"dash\": \"dash\"}, \"name\": \"distance_pick_cd_drop\"}, {\"type\": \"scatter\", \"x\": [0, 1, 2, 3, 4, 5, 6, 7, 8, 9, 10, 11, 12, 13, 14, 15, 16, 17, 18, 19, 20, 21, 22, 23, 24, 25, 26, 27, 28, 29, 30, 31, 32, 33, 34, 35, 36, 37, 38, 39, 40, 41, 42, 43, 44, 45, 46, 47, 48, 49, 50, 51, 52, 53, 54, 55, 56, 57, 58, 59, 60, 61, 62, 63, 64, 65, 66, 67, 68, 69, 70, 71, 72, 73, 74, 75, 76, 77, 78, 79, 80, 81, 82, 83, 84, 85, 86, 87, 88, 89, 90, 91, 92, 93, 94], \"y\": [2896, 21923, 24044, 16852, 9911, 5848, 4197, 2817, 1848, 2064, 1602, 932, 605, 502, 481, 310, 290, 251, 200, 291, 742, 772, 278, 116, 54, 28, 31, 20, 21, 13, 6, 6, 3, 2, 4, 3, 2, 1, 0, 3, 1, 3, 4, 1, 0, 1, 0, 1, 1, 1, 1, 2, 1, 1, 0, 1, 1, 0, 0, 0, 1, 1, 0, 0, 0, 1, 0, 0, 0, 2, 0, 0, 1, 0, 0, 0, 0, 0, 0, 0, 0, 0, 0, 1, 0, 0, 0, 0, 0, 0, 0, 0, 1, 0], \"mode\": \"lines\", \"line\": {\"width\": 2, \"dash\": \"dash\"}, \"name\": \"distance_pick_cp_drop\"}], {\"annotations\": [{\"x\": 6, \"y\": 0.38, \"showarrow\": false, \"text\": \"N=100000 points\"}], \"xaxis\": {\"zeroline\": false}, \"hovermode\": \"closest\"}, {\"showLink\": true, \"linkText\": \"Export to plot.ly\"})});</script>"
      ]
     },
     "execution_count": 0,
     "metadata": {},
     "output_type": "execute_result"
    },
    {
     "data": {
      "text/plain": [
       "'file://C:\\\\Users\\\\Zi Wei Fan\\\\Desktop\\\\NEU\\\\NEU\\\\Course\\\\CSYE7245_BigData&IntelligenceAnalytics\\\\Assignment\\\\Final_ZiweiFan1855517\\\\file.html'"
      ]
     },
     "execution_count": 89,
     "metadata": {},
     "output_type": "execute_result"
    }
   ],
   "source": [
    "plotly.offline.iplot(fig)  # last 150+ lines of code just to make a beautiful histogram\n",
    "plotly.offline.plot(fig, filename='file.html')"
   ]
  },
  {
   "cell_type": "markdown",
   "metadata": {},
   "source": [
    "## Finding: Check how these distances are getting compared to that of total distance from OSRM by hovering over above plot."
   ]
  },
  {
   "cell_type": "code",
   "execution_count": 90,
   "metadata": {},
   "outputs": [
    {
     "data": {
      "text/plain": [
       "<matplotlib.axes._subplots.AxesSubplot at 0x270003eb240>"
      ]
     },
     "execution_count": 90,
     "metadata": {},
     "output_type": "execute_result"
    }
   ],
   "source": [
    "sns.set(style=\"white\")\n",
    "\n",
    "# Generate a large random dataset\n",
    "temp3 = train.copy()\n",
    "\n",
    "# Compute the correlation matrix\n",
    "corr = temp3.corr()\n",
    "\n",
    "# Generate a mask for the upper triangle\n",
    "mask = np.zeros_like(corr, dtype=np.bool)\n",
    "mask[np.triu_indices_from(mask)] = True\n",
    "\n",
    "# Set up the matplotlib figure\n",
    "f, ax = plt.subplots(figsize=(15, 13))\n",
    "\n",
    "# Generate a custom diverging colormap\n",
    "cmap = sns.diverging_palette(220, 10, as_cmap=True)\n",
    "\n",
    "# Draw the heatmap with the mask and correct aspect ratio\n",
    "sns.heatmap(corr, mask=mask, cmap=cmap, vmax=.3, center=0,\n",
    "            square=True, linewidths=.5, cbar_kws={\"shrink\": .5})"
   ]
  },
  {
   "cell_type": "markdown",
   "metadata": {},
   "source": [
    "## Findings:\n",
    "## 1. Pick_month, week_of_year, day_of_year etc are of very less importance and are not at all related to other variables.\n",
    "## 2. Positive correlation & negative correlation\n",
    "## 3. OSRM variables are very important => correlation is as high as 0.8"
   ]
  },
  {
   "cell_type": "markdown",
   "metadata": {},
   "source": [
    "## 2.1 Positive Correlation:\n",
    "## drop_longitude & pickup_longitude 0.8\n",
    "## dropoff_latitude & pickup_latitude 0.65\n",
    "## centroid_pick_long & pickup_latitude 0.9\n",
    "## centroid_pick_lat & pickup_latitude 0.8\n",
    "\n",
    "## 2.2 Negative Correlation:\n",
    "## pickup_pca0 & pickup_longitude -0.8"
   ]
  },
  {
   "cell_type": "markdown",
   "metadata": {},
   "source": [
    "# Senmentic Analysis"
   ]
  },
  {
   "cell_type": "code",
   "execution_count": 91,
   "metadata": {},
   "outputs": [],
   "source": [
    "#Import the necessary methods from tweepy library\n",
    "import tweepy\n",
    "from tweepy import Stream\n",
    "from tweepy import OAuthHandler\n",
    "from tweepy.streaming import StreamListener\n",
    "import time\n",
    "from snownlp import SnowNLP\n",
    "\n",
    "# General:\n",
    "import tweepy           # To consume Twitter's API\n",
    "import pandas as pd     # To handle data\n",
    "import numpy as np      # For number computing\n",
    "\n",
    "# For plotting and visualization:\n",
    "from IPython.display import display\n",
    "import matplotlib.pyplot as plt\n",
    "import seaborn as sns\n",
    "from textblob import TextBlob\n",
    "import re\n",
    "\n",
    "%matplotlib inline\n",
    "\n",
    "#Variables that contain the user credentials to access Twitter API\n",
    "#(Note: replace with own values from https://apps.twitter.com/)\n",
    "CONSUMER_KEY='8CfHbmkzWMADgHLiZ8vpYnX5p'\n",
    "CONSUMER_SECRET ='QyqVrq5z4ZBRmGSMSMf43nt4KommzH7qrGal43HW7rjSVwvsHh'\n",
    "\n",
    "ACCESS_TOKEN='1639307029-iWG3oEUZwJoBiLwrTsHxspl7YGlGRj1PhGIYk7Y'\n",
    "ACCESS_SECRET='P3ulSrZk99gcYRMvlLYve89u9JNG10KUr0fX8bZW43FSO'\n",
    "\n"
   ]
  },
  {
   "cell_type": "markdown",
   "metadata": {},
   "source": [
    "## Check the key from: https://apps.twitter.com/app/14971757/show"
   ]
  },
  {
   "cell_type": "code",
   "execution_count": 92,
   "metadata": {},
   "outputs": [],
   "source": [
    "# We import our access keys:\n",
    "from credentials import *    # This will allow us to use the keys as variables\n",
    "\n",
    "# API's setup:\n",
    "def twitter_setup():\n",
    "    \"\"\"\n",
    "    Utility function to setup the Twitter's API\n",
    "    with our access keys provided.\n",
    "    \"\"\"\n",
    "    # Authentication and access using keys:\n",
    "    auth = tweepy.OAuthHandler(CONSUMER_KEY, CONSUMER_SECRET)\n",
    "    auth.set_access_token(ACCESS_TOKEN, ACCESS_SECRET)\n",
    "\n",
    "    # Return API with authentication:\n",
    "    api = tweepy.API(auth)\n",
    "    return api"
   ]
  },
  {
   "cell_type": "code",
   "execution_count": null,
   "metadata": {},
   "outputs": [],
   "source": []
  },
  {
   "cell_type": "code",
   "execution_count": 93,
   "metadata": {},
   "outputs": [],
   "source": [
    "def searchKeyword(keyword):\n",
    "    tweets = api.search(keyword)\n",
    "    return tweets\n",
    "\n",
    "def createDataFrame(tweets):\n",
    "    data = pd.DataFrame(data=[tweet.text for tweet in tweets], columns=['Tweets'])\n",
    "    return data\n",
    "\n",
    "def getTweetObject(tweets): ## Internal methods of a single tweet object:\n",
    "    print(dir(tweets[0])) ### The interesting part from here is the quantity of metadata contained in a single tweet. If we want to obtain data such as the creation date, or the source of creation, we can access the info with this attributes.\n",
    "\n",
    "def AddDataFeature(data, tweets):\n",
    "    # We add relevant data:## we well just add some data to our dataframe. \n",
    "    # For this we will use Pythons list comprehension and a new column will be added to the dataframe \n",
    "    # by just simply adding the name of the content between square brackets and assign the content.\n",
    "    data['len']  = np.array([len(tweet.text) for tweet in tweets])\n",
    "    data['ID']   = np.array([tweet.id for tweet in tweets])\n",
    "    data['Date'] = np.array([tweet.created_at for tweet in tweets])\n",
    "    data['Source'] = np.array([tweet.source for tweet in tweets])\n",
    "    data['Likes']  = np.array([tweet.favorite_count for tweet in tweets])\n",
    "    data['RTs']    = np.array([tweet.retweet_count for tweet in tweets])\n",
    "    return data\n",
    "    \n",
    "def clean_tweet(tweet):\n",
    "    '''\n",
    "    Utility function to clean the text in a tweet by removing \n",
    "    links and special characters using regex.\n",
    "    '''\n",
    "    return ' '.join(re.sub(\"(@[A-Za-z0-9]+)|([^0-9A-Za-z \\t])|(\\w+:\\/\\/\\S+)\", \" \", tweet).split())\n",
    "\n",
    "def analize_sentiment(tweet):\n",
    "    '''\n",
    "    Utility function to classify the polarity of a tweet\n",
    "    using textblob.\n",
    "    '''\n",
    "    analysis = TextBlob(clean_tweet(tweet))\n",
    "    if analysis.sentiment.polarity > 0:\n",
    "        return 1\n",
    "    elif analysis.sentiment.polarity == 0:\n",
    "        return 0\n",
    "    else:\n",
    "        return -1\n",
    "    \n",
    "def analize_sentiment_CHN(tweet):\n",
    "\n",
    "    analysis = SnowNLP(clean_tweet(tweet))\n",
    "    if analysis.sentiments.polarity > 0:\n",
    "        return 1\n",
    "    elif analysis.sentiments.polarity == 0:\n",
    "        return 0\n",
    "    else:\n",
    "        return -1\n",
    "    \n",
    "def addSentimentFeature(data):\n",
    "    # We create a column with the result of the analysis:\n",
    "    data['SA'] = np.array([ analize_sentiment(tweet) for tweet in data['Tweets'] ])\n",
    "    return data\n",
    "\n",
    "def addSentimentFeature_CHN(data):\n",
    "    # We create a column with the result of the analysis:\n",
    "    data['SA'] = np.array([ analize_sentiment_CHN(tweet) for tweet in data['Tweets'] ])\n",
    "    return data\n",
    "    \n",
    "def classifyTweets(data):\n",
    "    # We construct lists with classified tweets:\n",
    "    pos_tweets = [ tweet for index, tweet in enumerate(data['Tweets']) if data['SA'][index] > 0]\n",
    "    neu_tweets = [ tweet for index, tweet in enumerate(data['Tweets']) if data['SA'][index] == 0]\n",
    "    neg_tweets = [ tweet for index, tweet in enumerate(data['Tweets']) if data['SA'][index] < 0]\n",
    "    return pos_tweets, neu_tweets, neg_tweets\n",
    "\n"
   ]
  },
  {
   "cell_type": "code",
   "execution_count": 94,
   "metadata": {},
   "outputs": [
    {
     "name": "stdout",
     "output_type": "stream",
     "text": [
      "Number of New York traffic tweets extracted: 15.\n"
     ]
    },
    {
     "name": "stdout",
     "output_type": "stream",
     "text": [
      "\n"
     ]
    },
    {
     "name": "stdout",
     "output_type": "stream",
     "text": [
      "5 recent tweets:\n"
     ]
    },
    {
     "name": "stdout",
     "output_type": "stream",
     "text": [
      "\n"
     ]
    },
    {
     "name": "stdout",
     "output_type": "stream",
     "text": [
      "RT @sarahkendzior: Dennis Shields, the resident who said he got no notice to escape the burning building except for a text from Michael Coh…"
     ]
    },
    {
     "name": "stdout",
     "output_type": "stream",
     "text": [
      "\n"
     ]
    },
    {
     "name": "stdout",
     "output_type": "stream",
     "text": [
      "\n"
     ]
    },
    {
     "name": "stdout",
     "output_type": "stream",
     "text": [
      "CLEARED - traffic jam:New York Ave    Arlington"
     ]
    },
    {
     "name": "stdout",
     "output_type": "stream",
     "text": [
      "\n"
     ]
    },
    {
     "name": "stdout",
     "output_type": "stream",
     "text": [
      "\n"
     ]
    },
    {
     "name": "stdout",
     "output_type": "stream",
     "text": [
      "RT @TotalTrafficDFW: Accident, right lane blocked in #Arlington on 20 WB at New York Ave, stop and go traffic back to Great SW Pky, delay o…"
     ]
    },
    {
     "name": "stdout",
     "output_type": "stream",
     "text": [
      "\n"
     ]
    },
    {
     "name": "stdout",
     "output_type": "stream",
     "text": [
      "\n"
     ]
    },
    {
     "name": "stdout",
     "output_type": "stream",
     "text": [
      "Accident, right lane blocked in #Arlington on 20 WB at New York Ave, stop and go traffic back to Great SW Pky, delay of 6 mins #DFWTraffic"
     ]
    },
    {
     "name": "stdout",
     "output_type": "stream",
     "text": [
      "\n"
     ]
    },
    {
     "name": "stdout",
     "output_type": "stream",
     "text": [
      "\n"
     ]
    },
    {
     "name": "stdout",
     "output_type": "stream",
     "text": [
      "Recent: Shaun White Wins Gold In Halfpipe At The Winter Olympics. New York City bomber sentenced to life in prison.… https://t.co/BPZA09BKwv"
     ]
    },
    {
     "name": "stdout",
     "output_type": "stream",
     "text": [
      "\n"
     ]
    },
    {
     "name": "stdout",
     "output_type": "stream",
     "text": [
      "\n"
     ]
    },
    {
     "data": {
      "text/html": [
       "<div>\n",
       "<style>\n",
       "    .dataframe thead tr:only-child th {\n",
       "        text-align: right;\n",
       "    }\n",
       "\n",
       "    .dataframe thead th {\n",
       "        text-align: left;\n",
       "    }\n",
       "\n",
       "    .dataframe tbody tr th {\n",
       "        vertical-align: top;\n",
       "    }\n",
       "</style>\n",
       "<table border=\"1\" class=\"dataframe\">\n",
       "  <thead>\n",
       "    <tr style=\"text-align: right;\">\n",
       "      <th></th>\n",
       "      <th>Tweets</th>\n",
       "    </tr>\n",
       "  </thead>\n",
       "  <tbody>\n",
       "    <tr>\n",
       "      <th>0</th>\n",
       "      <td>RT @sarahkendzior: Dennis Shields, the residen...</td>\n",
       "    </tr>\n",
       "    <tr>\n",
       "      <th>1</th>\n",
       "      <td>CLEARED - traffic jam:New York Ave    Arlington</td>\n",
       "    </tr>\n",
       "    <tr>\n",
       "      <th>2</th>\n",
       "      <td>RT @TotalTrafficDFW: Accident, right lane bloc...</td>\n",
       "    </tr>\n",
       "    <tr>\n",
       "      <th>3</th>\n",
       "      <td>Accident, right lane blocked in #Arlington on ...</td>\n",
       "    </tr>\n",
       "    <tr>\n",
       "      <th>4</th>\n",
       "      <td>Recent: Shaun White Wins Gold In Halfpipe At T...</td>\n",
       "    </tr>\n",
       "    <tr>\n",
       "      <th>5</th>\n",
       "      <td>RT @IamSamSanyal: @Tharki_Thug @itsSaharsh @_B...</td>\n",
       "    </tr>\n",
       "    <tr>\n",
       "      <th>6</th>\n",
       "      <td>Accident reported in #Arlington on 20 WB at Ne...</td>\n",
       "    </tr>\n",
       "    <tr>\n",
       "      <th>7</th>\n",
       "      <td>New York traffic is horrible</td>\n",
       "    </tr>\n",
       "    <tr>\n",
       "      <th>8</th>\n",
       "      <td>RT @sarahkendzior: Dennis Shields, the residen...</td>\n",
       "    </tr>\n",
       "    <tr>\n",
       "      <th>9</th>\n",
       "      <td>RT @NBCNews: FDNY: 3-alarm fire burning in Tru...</td>\n",
       "    </tr>\n",
       "  </tbody>\n",
       "</table>\n",
       "</div>"
      ],
      "text/plain": [
       "<div>\n",
       "<style>\n",
       "    .dataframe thead tr:only-child th {\n",
       "        text-align: right;\n",
       "    }\n",
       "\n",
       "    .dataframe thead th {\n",
       "        text-align: left;\n",
       "    }\n",
       "\n",
       "    .dataframe tbody tr th {\n",
       "        vertical-align: top;\n",
       "    }\n",
       "</style>\n",
       "<table border=\"1\" class=\"dataframe\">\n",
       "  <thead>\n",
       "    <tr style=\"text-align: right;\">\n",
       "      <th></th>\n",
       "      <th>Tweets</th>\n",
       "    </tr>\n",
       "  </thead>\n",
       "  <tbody>\n",
       "    <tr>\n",
       "      <th>0</th>\n",
       "      <td>RT @sarahkendzior: Dennis Shields, the residen...</td>\n",
       "    </tr>\n",
       "    <tr>\n",
       "      <th>1</th>\n",
       "      <td>CLEARED - traffic jam:New York Ave    Arlington</td>\n",
       "    </tr>\n",
       "    <tr>\n",
       "      <th>2</th>\n",
       "      <td>RT @TotalTrafficDFW: Accident, right lane bloc...</td>\n",
       "    </tr>\n",
       "    <tr>\n",
       "      <th>3</th>\n",
       "      <td>Accident, right lane blocked in #Arlington on ...</td>\n",
       "    </tr>\n",
       "    <tr>\n",
       "      <th>4</th>\n",
       "      <td>Recent: Shaun White Wins Gold In Halfpipe At T...</td>\n",
       "    </tr>\n",
       "    <tr>\n",
       "      <th>5</th>\n",
       "      <td>RT @IamSamSanyal: @Tharki_Thug @itsSaharsh @_B...</td>\n",
       "    </tr>\n",
       "    <tr>\n",
       "      <th>6</th>\n",
       "      <td>Accident reported in #Arlington on 20 WB at Ne...</td>\n",
       "    </tr>\n",
       "    <tr>\n",
       "      <th>7</th>\n",
       "      <td>New York traffic is horrible</td>\n",
       "    </tr>\n",
       "    <tr>\n",
       "      <th>8</th>\n",
       "      <td>RT @sarahkendzior: Dennis Shields, the residen...</td>\n",
       "    </tr>\n",
       "    <tr>\n",
       "      <th>9</th>\n",
       "      <td>RT @NBCNews: FDNY: 3-alarm fire burning in Tru...</td>\n",
       "    </tr>\n",
       "  </tbody>\n",
       "</table>\n",
       "</div>"
      ]
     },
     "execution_count": 0,
     "metadata": {},
     "output_type": "execute_result"
    },
    {
     "name": "stdout",
     "output_type": "stream",
     "text": [
      "After adding features:\n"
     ]
    },
    {
     "name": "stdout",
     "output_type": "stream",
     "text": [
      "\n"
     ]
    },
    {
     "data": {
      "text/html": [
       "<div>\n",
       "<style>\n",
       "    .dataframe thead tr:only-child th {\n",
       "        text-align: right;\n",
       "    }\n",
       "\n",
       "    .dataframe thead th {\n",
       "        text-align: left;\n",
       "    }\n",
       "\n",
       "    .dataframe tbody tr th {\n",
       "        vertical-align: top;\n",
       "    }\n",
       "</style>\n",
       "<table border=\"1\" class=\"dataframe\">\n",
       "  <thead>\n",
       "    <tr style=\"text-align: right;\">\n",
       "      <th></th>\n",
       "      <th>Tweets</th>\n",
       "      <th>len</th>\n",
       "      <th>ID</th>\n",
       "      <th>Date</th>\n",
       "      <th>Source</th>\n",
       "      <th>Likes</th>\n",
       "      <th>RTs</th>\n",
       "    </tr>\n",
       "  </thead>\n",
       "  <tbody>\n",
       "    <tr>\n",
       "      <th>0</th>\n",
       "      <td>RT @sarahkendzior: Dennis Shields, the residen...</td>\n",
       "      <td>140</td>\n",
       "      <td>983146290837118976</td>\n",
       "      <td>2018-04-09 00:55:16</td>\n",
       "      <td>Twitter Web Client</td>\n",
       "      <td>0</td>\n",
       "      <td>264</td>\n",
       "    </tr>\n",
       "    <tr>\n",
       "      <th>1</th>\n",
       "      <td>CLEARED - traffic jam:New York Ave    Arlington</td>\n",
       "      <td>47</td>\n",
       "      <td>983144533352501248</td>\n",
       "      <td>2018-04-09 00:48:17</td>\n",
       "      <td>DFW511PPFTW</td>\n",
       "      <td>0</td>\n",
       "      <td>0</td>\n",
       "    </tr>\n",
       "    <tr>\n",
       "      <th>2</th>\n",
       "      <td>RT @TotalTrafficDFW: Accident, right lane bloc...</td>\n",
       "      <td>140</td>\n",
       "      <td>983134768995938305</td>\n",
       "      <td>2018-04-09 00:09:29</td>\n",
       "      <td>Twitter for Android</td>\n",
       "      <td>0</td>\n",
       "      <td>1</td>\n",
       "    </tr>\n",
       "    <tr>\n",
       "      <th>3</th>\n",
       "      <td>Accident, right lane blocked in #Arlington on ...</td>\n",
       "      <td>138</td>\n",
       "      <td>983133921150939137</td>\n",
       "      <td>2018-04-09 00:06:07</td>\n",
       "      <td>TTN DFW traffic</td>\n",
       "      <td>1</td>\n",
       "      <td>1</td>\n",
       "    </tr>\n",
       "    <tr>\n",
       "      <th>4</th>\n",
       "      <td>Recent: Shaun White Wins Gold In Halfpipe At T...</td>\n",
       "      <td>140</td>\n",
       "      <td>983133838917455873</td>\n",
       "      <td>2018-04-09 00:05:47</td>\n",
       "      <td>Heroic Social</td>\n",
       "      <td>0</td>\n",
       "      <td>0</td>\n",
       "    </tr>\n",
       "    <tr>\n",
       "      <th>5</th>\n",
       "      <td>RT @IamSamSanyal: @Tharki_Thug @itsSaharsh @_B...</td>\n",
       "      <td>140</td>\n",
       "      <td>983130798214692864</td>\n",
       "      <td>2018-04-08 23:53:42</td>\n",
       "      <td>Twitter for Android</td>\n",
       "      <td>0</td>\n",
       "      <td>7</td>\n",
       "    </tr>\n",
       "    <tr>\n",
       "      <th>6</th>\n",
       "      <td>Accident reported in #Arlington on 20 WB at Ne...</td>\n",
       "      <td>127</td>\n",
       "      <td>983130672121503744</td>\n",
       "      <td>2018-04-08 23:53:12</td>\n",
       "      <td>TTN DFW traffic</td>\n",
       "      <td>0</td>\n",
       "      <td>0</td>\n",
       "    </tr>\n",
       "    <tr>\n",
       "      <th>7</th>\n",
       "      <td>New York traffic is horrible</td>\n",
       "      <td>28</td>\n",
       "      <td>983122913032392704</td>\n",
       "      <td>2018-04-08 23:22:22</td>\n",
       "      <td>Twitter for iPhone</td>\n",
       "      <td>0</td>\n",
       "      <td>0</td>\n",
       "    </tr>\n",
       "    <tr>\n",
       "      <th>8</th>\n",
       "      <td>RT @sarahkendzior: Dennis Shields, the residen...</td>\n",
       "      <td>140</td>\n",
       "      <td>983122605484969984</td>\n",
       "      <td>2018-04-08 23:21:09</td>\n",
       "      <td>Twitter for Android</td>\n",
       "      <td>0</td>\n",
       "      <td>264</td>\n",
       "    </tr>\n",
       "    <tr>\n",
       "      <th>9</th>\n",
       "      <td>RT @NBCNews: FDNY: 3-alarm fire burning in Tru...</td>\n",
       "      <td>140</td>\n",
       "      <td>983117072472276992</td>\n",
       "      <td>2018-04-08 22:59:10</td>\n",
       "      <td>Twitter for iPad</td>\n",
       "      <td>0</td>\n",
       "      <td>443</td>\n",
       "    </tr>\n",
       "  </tbody>\n",
       "</table>\n",
       "</div>"
      ],
      "text/plain": [
       "<div>\n",
       "<style>\n",
       "    .dataframe thead tr:only-child th {\n",
       "        text-align: right;\n",
       "    }\n",
       "\n",
       "    .dataframe thead th {\n",
       "        text-align: left;\n",
       "    }\n",
       "\n",
       "    .dataframe tbody tr th {\n",
       "        vertical-align: top;\n",
       "    }\n",
       "</style>\n",
       "<table border=\"1\" class=\"dataframe\">\n",
       "  <thead>\n",
       "    <tr style=\"text-align: right;\">\n",
       "      <th></th>\n",
       "      <th>Tweets</th>\n",
       "      <th>len</th>\n",
       "      <th>ID</th>\n",
       "      <th>Date</th>\n",
       "      <th>Source</th>\n",
       "      <th>Likes</th>\n",
       "      <th>RTs</th>\n",
       "    </tr>\n",
       "  </thead>\n",
       "  <tbody>\n",
       "    <tr>\n",
       "      <th>0</th>\n",
       "      <td>RT @sarahkendzior: Dennis Shields, the residen...</td>\n",
       "      <td>140</td>\n",
       "      <td>983146290837118976</td>\n",
       "      <td>2018-04-09 00:55:16</td>\n",
       "      <td>Twitter Web Client</td>\n",
       "      <td>0</td>\n",
       "      <td>264</td>\n",
       "    </tr>\n",
       "    <tr>\n",
       "      <th>1</th>\n",
       "      <td>CLEARED - traffic jam:New York Ave    Arlington</td>\n",
       "      <td>47</td>\n",
       "      <td>983144533352501248</td>\n",
       "      <td>2018-04-09 00:48:17</td>\n",
       "      <td>DFW511PPFTW</td>\n",
       "      <td>0</td>\n",
       "      <td>0</td>\n",
       "    </tr>\n",
       "    <tr>\n",
       "      <th>2</th>\n",
       "      <td>RT @TotalTrafficDFW: Accident, right lane bloc...</td>\n",
       "      <td>140</td>\n",
       "      <td>983134768995938305</td>\n",
       "      <td>2018-04-09 00:09:29</td>\n",
       "      <td>Twitter for Android</td>\n",
       "      <td>0</td>\n",
       "      <td>1</td>\n",
       "    </tr>\n",
       "    <tr>\n",
       "      <th>3</th>\n",
       "      <td>Accident, right lane blocked in #Arlington on ...</td>\n",
       "      <td>138</td>\n",
       "      <td>983133921150939137</td>\n",
       "      <td>2018-04-09 00:06:07</td>\n",
       "      <td>TTN DFW traffic</td>\n",
       "      <td>1</td>\n",
       "      <td>1</td>\n",
       "    </tr>\n",
       "    <tr>\n",
       "      <th>4</th>\n",
       "      <td>Recent: Shaun White Wins Gold In Halfpipe At T...</td>\n",
       "      <td>140</td>\n",
       "      <td>983133838917455873</td>\n",
       "      <td>2018-04-09 00:05:47</td>\n",
       "      <td>Heroic Social</td>\n",
       "      <td>0</td>\n",
       "      <td>0</td>\n",
       "    </tr>\n",
       "    <tr>\n",
       "      <th>5</th>\n",
       "      <td>RT @IamSamSanyal: @Tharki_Thug @itsSaharsh @_B...</td>\n",
       "      <td>140</td>\n",
       "      <td>983130798214692864</td>\n",
       "      <td>2018-04-08 23:53:42</td>\n",
       "      <td>Twitter for Android</td>\n",
       "      <td>0</td>\n",
       "      <td>7</td>\n",
       "    </tr>\n",
       "    <tr>\n",
       "      <th>6</th>\n",
       "      <td>Accident reported in #Arlington on 20 WB at Ne...</td>\n",
       "      <td>127</td>\n",
       "      <td>983130672121503744</td>\n",
       "      <td>2018-04-08 23:53:12</td>\n",
       "      <td>TTN DFW traffic</td>\n",
       "      <td>0</td>\n",
       "      <td>0</td>\n",
       "    </tr>\n",
       "    <tr>\n",
       "      <th>7</th>\n",
       "      <td>New York traffic is horrible</td>\n",
       "      <td>28</td>\n",
       "      <td>983122913032392704</td>\n",
       "      <td>2018-04-08 23:22:22</td>\n",
       "      <td>Twitter for iPhone</td>\n",
       "      <td>0</td>\n",
       "      <td>0</td>\n",
       "    </tr>\n",
       "    <tr>\n",
       "      <th>8</th>\n",
       "      <td>RT @sarahkendzior: Dennis Shields, the residen...</td>\n",
       "      <td>140</td>\n",
       "      <td>983122605484969984</td>\n",
       "      <td>2018-04-08 23:21:09</td>\n",
       "      <td>Twitter for Android</td>\n",
       "      <td>0</td>\n",
       "      <td>264</td>\n",
       "    </tr>\n",
       "    <tr>\n",
       "      <th>9</th>\n",
       "      <td>RT @NBCNews: FDNY: 3-alarm fire burning in Tru...</td>\n",
       "      <td>140</td>\n",
       "      <td>983117072472276992</td>\n",
       "      <td>2018-04-08 22:59:10</td>\n",
       "      <td>Twitter for iPad</td>\n",
       "      <td>0</td>\n",
       "      <td>443</td>\n",
       "    </tr>\n",
       "  </tbody>\n",
       "</table>\n",
       "</div>"
      ]
     },
     "execution_count": 0,
     "metadata": {},
     "output_type": "execute_result"
    },
    {
     "name": "stdout",
     "output_type": "stream",
     "text": [
      "After adding Sentiment Features:\n"
     ]
    },
    {
     "name": "stdout",
     "output_type": "stream",
     "text": [
      "\n"
     ]
    },
    {
     "data": {
      "text/html": [
       "<div>\n",
       "<style>\n",
       "    .dataframe thead tr:only-child th {\n",
       "        text-align: right;\n",
       "    }\n",
       "\n",
       "    .dataframe thead th {\n",
       "        text-align: left;\n",
       "    }\n",
       "\n",
       "    .dataframe tbody tr th {\n",
       "        vertical-align: top;\n",
       "    }\n",
       "</style>\n",
       "<table border=\"1\" class=\"dataframe\">\n",
       "  <thead>\n",
       "    <tr style=\"text-align: right;\">\n",
       "      <th></th>\n",
       "      <th>Tweets</th>\n",
       "      <th>len</th>\n",
       "      <th>ID</th>\n",
       "      <th>Date</th>\n",
       "      <th>Source</th>\n",
       "      <th>Likes</th>\n",
       "      <th>RTs</th>\n",
       "      <th>SA</th>\n",
       "    </tr>\n",
       "  </thead>\n",
       "  <tbody>\n",
       "    <tr>\n",
       "      <th>0</th>\n",
       "      <td>RT @sarahkendzior: Dennis Shields, the residen...</td>\n",
       "      <td>140</td>\n",
       "      <td>983146290837118976</td>\n",
       "      <td>2018-04-09 00:55:16</td>\n",
       "      <td>Twitter Web Client</td>\n",
       "      <td>0</td>\n",
       "      <td>264</td>\n",
       "      <td>0</td>\n",
       "    </tr>\n",
       "    <tr>\n",
       "      <th>1</th>\n",
       "      <td>CLEARED - traffic jam:New York Ave    Arlington</td>\n",
       "      <td>47</td>\n",
       "      <td>983144533352501248</td>\n",
       "      <td>2018-04-09 00:48:17</td>\n",
       "      <td>DFW511PPFTW</td>\n",
       "      <td>0</td>\n",
       "      <td>0</td>\n",
       "      <td>1</td>\n",
       "    </tr>\n",
       "    <tr>\n",
       "      <th>2</th>\n",
       "      <td>RT @TotalTrafficDFW: Accident, right lane bloc...</td>\n",
       "      <td>140</td>\n",
       "      <td>983134768995938305</td>\n",
       "      <td>2018-04-09 00:09:29</td>\n",
       "      <td>Twitter for Android</td>\n",
       "      <td>0</td>\n",
       "      <td>1</td>\n",
       "      <td>1</td>\n",
       "    </tr>\n",
       "    <tr>\n",
       "      <th>3</th>\n",
       "      <td>Accident, right lane blocked in #Arlington on ...</td>\n",
       "      <td>138</td>\n",
       "      <td>983133921150939137</td>\n",
       "      <td>2018-04-09 00:06:07</td>\n",
       "      <td>TTN DFW traffic</td>\n",
       "      <td>1</td>\n",
       "      <td>1</td>\n",
       "      <td>1</td>\n",
       "    </tr>\n",
       "    <tr>\n",
       "      <th>4</th>\n",
       "      <td>Recent: Shaun White Wins Gold In Halfpipe At T...</td>\n",
       "      <td>140</td>\n",
       "      <td>983133838917455873</td>\n",
       "      <td>2018-04-09 00:05:47</td>\n",
       "      <td>Heroic Social</td>\n",
       "      <td>0</td>\n",
       "      <td>0</td>\n",
       "      <td>1</td>\n",
       "    </tr>\n",
       "    <tr>\n",
       "      <th>5</th>\n",
       "      <td>RT @IamSamSanyal: @Tharki_Thug @itsSaharsh @_B...</td>\n",
       "      <td>140</td>\n",
       "      <td>983130798214692864</td>\n",
       "      <td>2018-04-08 23:53:42</td>\n",
       "      <td>Twitter for Android</td>\n",
       "      <td>0</td>\n",
       "      <td>7</td>\n",
       "      <td>1</td>\n",
       "    </tr>\n",
       "    <tr>\n",
       "      <th>6</th>\n",
       "      <td>Accident reported in #Arlington on 20 WB at Ne...</td>\n",
       "      <td>127</td>\n",
       "      <td>983130672121503744</td>\n",
       "      <td>2018-04-08 23:53:12</td>\n",
       "      <td>TTN DFW traffic</td>\n",
       "      <td>0</td>\n",
       "      <td>0</td>\n",
       "      <td>1</td>\n",
       "    </tr>\n",
       "    <tr>\n",
       "      <th>7</th>\n",
       "      <td>New York traffic is horrible</td>\n",
       "      <td>28</td>\n",
       "      <td>983122913032392704</td>\n",
       "      <td>2018-04-08 23:22:22</td>\n",
       "      <td>Twitter for iPhone</td>\n",
       "      <td>0</td>\n",
       "      <td>0</td>\n",
       "      <td>-1</td>\n",
       "    </tr>\n",
       "    <tr>\n",
       "      <th>8</th>\n",
       "      <td>RT @sarahkendzior: Dennis Shields, the residen...</td>\n",
       "      <td>140</td>\n",
       "      <td>983122605484969984</td>\n",
       "      <td>2018-04-08 23:21:09</td>\n",
       "      <td>Twitter for Android</td>\n",
       "      <td>0</td>\n",
       "      <td>264</td>\n",
       "      <td>0</td>\n",
       "    </tr>\n",
       "    <tr>\n",
       "      <th>9</th>\n",
       "      <td>RT @NBCNews: FDNY: 3-alarm fire burning in Tru...</td>\n",
       "      <td>140</td>\n",
       "      <td>983117072472276992</td>\n",
       "      <td>2018-04-08 22:59:10</td>\n",
       "      <td>Twitter for iPad</td>\n",
       "      <td>0</td>\n",
       "      <td>443</td>\n",
       "      <td>1</td>\n",
       "    </tr>\n",
       "  </tbody>\n",
       "</table>\n",
       "</div>"
      ],
      "text/plain": [
       "<div>\n",
       "<style>\n",
       "    .dataframe thead tr:only-child th {\n",
       "        text-align: right;\n",
       "    }\n",
       "\n",
       "    .dataframe thead th {\n",
       "        text-align: left;\n",
       "    }\n",
       "\n",
       "    .dataframe tbody tr th {\n",
       "        vertical-align: top;\n",
       "    }\n",
       "</style>\n",
       "<table border=\"1\" class=\"dataframe\">\n",
       "  <thead>\n",
       "    <tr style=\"text-align: right;\">\n",
       "      <th></th>\n",
       "      <th>Tweets</th>\n",
       "      <th>len</th>\n",
       "      <th>ID</th>\n",
       "      <th>Date</th>\n",
       "      <th>Source</th>\n",
       "      <th>Likes</th>\n",
       "      <th>RTs</th>\n",
       "      <th>SA</th>\n",
       "    </tr>\n",
       "  </thead>\n",
       "  <tbody>\n",
       "    <tr>\n",
       "      <th>0</th>\n",
       "      <td>RT @sarahkendzior: Dennis Shields, the residen...</td>\n",
       "      <td>140</td>\n",
       "      <td>983146290837118976</td>\n",
       "      <td>2018-04-09 00:55:16</td>\n",
       "      <td>Twitter Web Client</td>\n",
       "      <td>0</td>\n",
       "      <td>264</td>\n",
       "      <td>0</td>\n",
       "    </tr>\n",
       "    <tr>\n",
       "      <th>1</th>\n",
       "      <td>CLEARED - traffic jam:New York Ave    Arlington</td>\n",
       "      <td>47</td>\n",
       "      <td>983144533352501248</td>\n",
       "      <td>2018-04-09 00:48:17</td>\n",
       "      <td>DFW511PPFTW</td>\n",
       "      <td>0</td>\n",
       "      <td>0</td>\n",
       "      <td>1</td>\n",
       "    </tr>\n",
       "    <tr>\n",
       "      <th>2</th>\n",
       "      <td>RT @TotalTrafficDFW: Accident, right lane bloc...</td>\n",
       "      <td>140</td>\n",
       "      <td>983134768995938305</td>\n",
       "      <td>2018-04-09 00:09:29</td>\n",
       "      <td>Twitter for Android</td>\n",
       "      <td>0</td>\n",
       "      <td>1</td>\n",
       "      <td>1</td>\n",
       "    </tr>\n",
       "    <tr>\n",
       "      <th>3</th>\n",
       "      <td>Accident, right lane blocked in #Arlington on ...</td>\n",
       "      <td>138</td>\n",
       "      <td>983133921150939137</td>\n",
       "      <td>2018-04-09 00:06:07</td>\n",
       "      <td>TTN DFW traffic</td>\n",
       "      <td>1</td>\n",
       "      <td>1</td>\n",
       "      <td>1</td>\n",
       "    </tr>\n",
       "    <tr>\n",
       "      <th>4</th>\n",
       "      <td>Recent: Shaun White Wins Gold In Halfpipe At T...</td>\n",
       "      <td>140</td>\n",
       "      <td>983133838917455873</td>\n",
       "      <td>2018-04-09 00:05:47</td>\n",
       "      <td>Heroic Social</td>\n",
       "      <td>0</td>\n",
       "      <td>0</td>\n",
       "      <td>1</td>\n",
       "    </tr>\n",
       "    <tr>\n",
       "      <th>5</th>\n",
       "      <td>RT @IamSamSanyal: @Tharki_Thug @itsSaharsh @_B...</td>\n",
       "      <td>140</td>\n",
       "      <td>983130798214692864</td>\n",
       "      <td>2018-04-08 23:53:42</td>\n",
       "      <td>Twitter for Android</td>\n",
       "      <td>0</td>\n",
       "      <td>7</td>\n",
       "      <td>1</td>\n",
       "    </tr>\n",
       "    <tr>\n",
       "      <th>6</th>\n",
       "      <td>Accident reported in #Arlington on 20 WB at Ne...</td>\n",
       "      <td>127</td>\n",
       "      <td>983130672121503744</td>\n",
       "      <td>2018-04-08 23:53:12</td>\n",
       "      <td>TTN DFW traffic</td>\n",
       "      <td>0</td>\n",
       "      <td>0</td>\n",
       "      <td>1</td>\n",
       "    </tr>\n",
       "    <tr>\n",
       "      <th>7</th>\n",
       "      <td>New York traffic is horrible</td>\n",
       "      <td>28</td>\n",
       "      <td>983122913032392704</td>\n",
       "      <td>2018-04-08 23:22:22</td>\n",
       "      <td>Twitter for iPhone</td>\n",
       "      <td>0</td>\n",
       "      <td>0</td>\n",
       "      <td>-1</td>\n",
       "    </tr>\n",
       "    <tr>\n",
       "      <th>8</th>\n",
       "      <td>RT @sarahkendzior: Dennis Shields, the residen...</td>\n",
       "      <td>140</td>\n",
       "      <td>983122605484969984</td>\n",
       "      <td>2018-04-08 23:21:09</td>\n",
       "      <td>Twitter for Android</td>\n",
       "      <td>0</td>\n",
       "      <td>264</td>\n",
       "      <td>0</td>\n",
       "    </tr>\n",
       "    <tr>\n",
       "      <th>9</th>\n",
       "      <td>RT @NBCNews: FDNY: 3-alarm fire burning in Tru...</td>\n",
       "      <td>140</td>\n",
       "      <td>983117072472276992</td>\n",
       "      <td>2018-04-08 22:59:10</td>\n",
       "      <td>Twitter for iPad</td>\n",
       "      <td>0</td>\n",
       "      <td>443</td>\n",
       "      <td>1</td>\n",
       "    </tr>\n",
       "  </tbody>\n",
       "</table>\n",
       "</div>"
      ]
     },
     "execution_count": 0,
     "metadata": {},
     "output_type": "execute_result"
    },
    {
     "name": "stdout",
     "output_type": "stream",
     "text": [
      "Percentage of New York traffic positive tweets: 66.66666666666667%"
     ]
    },
    {
     "name": "stdout",
     "output_type": "stream",
     "text": [
      "\n"
     ]
    },
    {
     "name": "stdout",
     "output_type": "stream",
     "text": [
      "Percentage of New York traffic neutral tweets: 26.666666666666668%"
     ]
    },
    {
     "name": "stdout",
     "output_type": "stream",
     "text": [
      "\n"
     ]
    },
    {
     "name": "stdout",
     "output_type": "stream",
     "text": [
      "Percentage de New York traffic negative tweets: 6.666666666666667%"
     ]
    },
    {
     "name": "stdout",
     "output_type": "stream",
     "text": [
      "\n"
     ]
    }
   ],
   "source": [
    "# We create an extractor object:\n",
    "api = twitter_setup()\n",
    "\n",
    "keyword=\"New York traffic\"\n",
    "tweets=searchKeyword(keyword)\n",
    "dftweets=createDataFrame(tweets)\n",
    "\n",
    "print(\"Number of {} tweets extracted: {}.\\n\".format(keyword, len(tweets)))\n",
    "\n",
    "# We display the first 10 elements of the dataframe:\n",
    "display(dftweets.head(10))\n",
    "\n",
    "dftweets=AddDataFeature(dftweets, tweets)\n",
    "\n",
    "print(\"After adding features:\\n\")\n",
    "display(dftweets.head(10))\n",
    "\n",
    "dftweets=addSentimentFeature(dftweets)\n",
    "print(\"After adding Sentiment Features:\\n\")\n",
    "display(dftweets.head(10))\n",
    "\n",
    "pos_tweets, neu_tweets, neg_tweets=classifyTweets(dftweets)\n",
    "\n",
    "print(\"Percentage of {} positive tweets: {}%\".format(keyword, len(pos_tweets)*100/len(dftweets['Tweets'])))\n",
    "print(\"Percentage of {} neutral tweets: {}%\".format(keyword, len(neu_tweets)*100/len(dftweets['Tweets'])))\n",
    "print(\"Percentage de {} negative tweets: {}%\".format(keyword, len(neg_tweets)*100/len(dftweets['Tweets'])))"
   ]
  },
  {
   "cell_type": "code",
   "execution_count": 95,
   "metadata": {},
   "outputs": [
    {
     "name": "stdout",
     "output_type": "stream",
     "text": [
      "Number of New York weather tweets extracted: 15.\n"
     ]
    },
    {
     "name": "stdout",
     "output_type": "stream",
     "text": [
      "\n"
     ]
    },
    {
     "data": {
      "text/html": [
       "<div>\n",
       "<style>\n",
       "    .dataframe thead tr:only-child th {\n",
       "        text-align: right;\n",
       "    }\n",
       "\n",
       "    .dataframe thead th {\n",
       "        text-align: left;\n",
       "    }\n",
       "\n",
       "    .dataframe tbody tr th {\n",
       "        vertical-align: top;\n",
       "    }\n",
       "</style>\n",
       "<table border=\"1\" class=\"dataframe\">\n",
       "  <thead>\n",
       "    <tr style=\"text-align: right;\">\n",
       "      <th></th>\n",
       "      <th>Tweets</th>\n",
       "    </tr>\n",
       "  </thead>\n",
       "  <tbody>\n",
       "    <tr>\n",
       "      <th>0</th>\n",
       "      <td>OREGON SUCKS..worst than New York State! https...</td>\n",
       "    </tr>\n",
       "    <tr>\n",
       "      <th>1</th>\n",
       "      <td>New York weather as of 12:46 AM: 38.28 F</td>\n",
       "    </tr>\n",
       "    <tr>\n",
       "      <th>2</th>\n",
       "      <td>Visit our website for latest news and weather ...</td>\n",
       "    </tr>\n",
       "    <tr>\n",
       "      <th>3</th>\n",
       "      <td>RT @igor_chubin: To compare weather in two cit...</td>\n",
       "    </tr>\n",
       "    <tr>\n",
       "      <th>4</th>\n",
       "      <td>New York weather as of 12:30 AM: 39.34 F</td>\n",
       "    </tr>\n",
       "    <tr>\n",
       "      <th>5</th>\n",
       "      <td>I wanna do some shopping before leaving to New...</td>\n",
       "    </tr>\n",
       "    <tr>\n",
       "      <th>6</th>\n",
       "      <td>low-key, no pressure\\njust hang with me and my...</td>\n",
       "    </tr>\n",
       "    <tr>\n",
       "      <th>7</th>\n",
       "      <td>Three weather events top $1 billion in 2018’s ...</td>\n",
       "    </tr>\n",
       "    <tr>\n",
       "      <th>8</th>\n",
       "      <td>I’m finally back in New York, but the differen...</td>\n",
       "    </tr>\n",
       "    <tr>\n",
       "      <th>9</th>\n",
       "      <td>Weather now: scattered clouds, 39°F, 9 mph wes...</td>\n",
       "    </tr>\n",
       "  </tbody>\n",
       "</table>\n",
       "</div>"
      ],
      "text/plain": [
       "<div>\n",
       "<style>\n",
       "    .dataframe thead tr:only-child th {\n",
       "        text-align: right;\n",
       "    }\n",
       "\n",
       "    .dataframe thead th {\n",
       "        text-align: left;\n",
       "    }\n",
       "\n",
       "    .dataframe tbody tr th {\n",
       "        vertical-align: top;\n",
       "    }\n",
       "</style>\n",
       "<table border=\"1\" class=\"dataframe\">\n",
       "  <thead>\n",
       "    <tr style=\"text-align: right;\">\n",
       "      <th></th>\n",
       "      <th>Tweets</th>\n",
       "    </tr>\n",
       "  </thead>\n",
       "  <tbody>\n",
       "    <tr>\n",
       "      <th>0</th>\n",
       "      <td>OREGON SUCKS..worst than New York State! https...</td>\n",
       "    </tr>\n",
       "    <tr>\n",
       "      <th>1</th>\n",
       "      <td>New York weather as of 12:46 AM: 38.28 F</td>\n",
       "    </tr>\n",
       "    <tr>\n",
       "      <th>2</th>\n",
       "      <td>Visit our website for latest news and weather ...</td>\n",
       "    </tr>\n",
       "    <tr>\n",
       "      <th>3</th>\n",
       "      <td>RT @igor_chubin: To compare weather in two cit...</td>\n",
       "    </tr>\n",
       "    <tr>\n",
       "      <th>4</th>\n",
       "      <td>New York weather as of 12:30 AM: 39.34 F</td>\n",
       "    </tr>\n",
       "    <tr>\n",
       "      <th>5</th>\n",
       "      <td>I wanna do some shopping before leaving to New...</td>\n",
       "    </tr>\n",
       "    <tr>\n",
       "      <th>6</th>\n",
       "      <td>low-key, no pressure\\njust hang with me and my...</td>\n",
       "    </tr>\n",
       "    <tr>\n",
       "      <th>7</th>\n",
       "      <td>Three weather events top $1 billion in 2018’s ...</td>\n",
       "    </tr>\n",
       "    <tr>\n",
       "      <th>8</th>\n",
       "      <td>I’m finally back in New York, but the differen...</td>\n",
       "    </tr>\n",
       "    <tr>\n",
       "      <th>9</th>\n",
       "      <td>Weather now: scattered clouds, 39°F, 9 mph wes...</td>\n",
       "    </tr>\n",
       "  </tbody>\n",
       "</table>\n",
       "</div>"
      ]
     },
     "execution_count": 0,
     "metadata": {},
     "output_type": "execute_result"
    },
    {
     "name": "stdout",
     "output_type": "stream",
     "text": [
      "After adding features:\n"
     ]
    },
    {
     "name": "stdout",
     "output_type": "stream",
     "text": [
      "\n"
     ]
    },
    {
     "data": {
      "text/html": [
       "<div>\n",
       "<style>\n",
       "    .dataframe thead tr:only-child th {\n",
       "        text-align: right;\n",
       "    }\n",
       "\n",
       "    .dataframe thead th {\n",
       "        text-align: left;\n",
       "    }\n",
       "\n",
       "    .dataframe tbody tr th {\n",
       "        vertical-align: top;\n",
       "    }\n",
       "</style>\n",
       "<table border=\"1\" class=\"dataframe\">\n",
       "  <thead>\n",
       "    <tr style=\"text-align: right;\">\n",
       "      <th></th>\n",
       "      <th>Tweets</th>\n",
       "      <th>len</th>\n",
       "      <th>ID</th>\n",
       "      <th>Date</th>\n",
       "      <th>Source</th>\n",
       "      <th>Likes</th>\n",
       "      <th>RTs</th>\n",
       "    </tr>\n",
       "  </thead>\n",
       "  <tbody>\n",
       "    <tr>\n",
       "      <th>0</th>\n",
       "      <td>OREGON SUCKS..worst than New York State! https...</td>\n",
       "      <td>64</td>\n",
       "      <td>983146479530360832</td>\n",
       "      <td>2018-04-09 00:56:01</td>\n",
       "      <td>Twitter for Android</td>\n",
       "      <td>0</td>\n",
       "      <td>0</td>\n",
       "    </tr>\n",
       "    <tr>\n",
       "      <th>1</th>\n",
       "      <td>New York weather as of 12:46 AM: 38.28 F</td>\n",
       "      <td>40</td>\n",
       "      <td>983144036725874688</td>\n",
       "      <td>2018-04-09 00:46:18</td>\n",
       "      <td>data_project_twitter</td>\n",
       "      <td>0</td>\n",
       "      <td>0</td>\n",
       "    </tr>\n",
       "    <tr>\n",
       "      <th>2</th>\n",
       "      <td>Visit our website for latest news and weather ...</td>\n",
       "      <td>127</td>\n",
       "      <td>983143854621839360</td>\n",
       "      <td>2018-04-09 00:45:35</td>\n",
       "      <td>New York City Now</td>\n",
       "      <td>0</td>\n",
       "      <td>0</td>\n",
       "    </tr>\n",
       "    <tr>\n",
       "      <th>3</th>\n",
       "      <td>RT @igor_chubin: To compare weather in two cit...</td>\n",
       "      <td>146</td>\n",
       "      <td>983141722912849920</td>\n",
       "      <td>2018-04-09 00:37:07</td>\n",
       "      <td>Twitter for iPhone</td>\n",
       "      <td>0</td>\n",
       "      <td>54</td>\n",
       "    </tr>\n",
       "    <tr>\n",
       "      <th>4</th>\n",
       "      <td>New York weather as of 12:30 AM: 39.34 F</td>\n",
       "      <td>40</td>\n",
       "      <td>983139956922167296</td>\n",
       "      <td>2018-04-09 00:30:06</td>\n",
       "      <td>data_project_twitter</td>\n",
       "      <td>0</td>\n",
       "      <td>0</td>\n",
       "    </tr>\n",
       "    <tr>\n",
       "      <th>5</th>\n",
       "      <td>I wanna do some shopping before leaving to New...</td>\n",
       "      <td>105</td>\n",
       "      <td>983139395514515456</td>\n",
       "      <td>2018-04-09 00:27:52</td>\n",
       "      <td>Twitter for iPhone</td>\n",
       "      <td>0</td>\n",
       "      <td>0</td>\n",
       "    </tr>\n",
       "    <tr>\n",
       "      <th>6</th>\n",
       "      <td>low-key, no pressure\\njust hang with me and my...</td>\n",
       "      <td>108</td>\n",
       "      <td>983139273842061312</td>\n",
       "      <td>2018-04-09 00:27:23</td>\n",
       "      <td>Instagram</td>\n",
       "      <td>1</td>\n",
       "      <td>0</td>\n",
       "    </tr>\n",
       "    <tr>\n",
       "      <th>7</th>\n",
       "      <td>Three weather events top $1 billion in 2018’s ...</td>\n",
       "      <td>113</td>\n",
       "      <td>983138618628751361</td>\n",
       "      <td>2018-04-09 00:24:47</td>\n",
       "      <td>Twitter Web Client</td>\n",
       "      <td>0</td>\n",
       "      <td>0</td>\n",
       "    </tr>\n",
       "    <tr>\n",
       "      <th>8</th>\n",
       "      <td>I’m finally back in New York, but the differen...</td>\n",
       "      <td>82</td>\n",
       "      <td>983138377137639426</td>\n",
       "      <td>2018-04-09 00:23:49</td>\n",
       "      <td>Twitter for iPhone</td>\n",
       "      <td>0</td>\n",
       "      <td>0</td>\n",
       "    </tr>\n",
       "    <tr>\n",
       "      <th>9</th>\n",
       "      <td>Weather now: scattered clouds, 39°F, 9 mph wes...</td>\n",
       "      <td>87</td>\n",
       "      <td>983137423227064320</td>\n",
       "      <td>2018-04-09 00:20:02</td>\n",
       "      <td>New York City Now</td>\n",
       "      <td>0</td>\n",
       "      <td>0</td>\n",
       "    </tr>\n",
       "  </tbody>\n",
       "</table>\n",
       "</div>"
      ],
      "text/plain": [
       "<div>\n",
       "<style>\n",
       "    .dataframe thead tr:only-child th {\n",
       "        text-align: right;\n",
       "    }\n",
       "\n",
       "    .dataframe thead th {\n",
       "        text-align: left;\n",
       "    }\n",
       "\n",
       "    .dataframe tbody tr th {\n",
       "        vertical-align: top;\n",
       "    }\n",
       "</style>\n",
       "<table border=\"1\" class=\"dataframe\">\n",
       "  <thead>\n",
       "    <tr style=\"text-align: right;\">\n",
       "      <th></th>\n",
       "      <th>Tweets</th>\n",
       "      <th>len</th>\n",
       "      <th>ID</th>\n",
       "      <th>Date</th>\n",
       "      <th>Source</th>\n",
       "      <th>Likes</th>\n",
       "      <th>RTs</th>\n",
       "    </tr>\n",
       "  </thead>\n",
       "  <tbody>\n",
       "    <tr>\n",
       "      <th>0</th>\n",
       "      <td>OREGON SUCKS..worst than New York State! https...</td>\n",
       "      <td>64</td>\n",
       "      <td>983146479530360832</td>\n",
       "      <td>2018-04-09 00:56:01</td>\n",
       "      <td>Twitter for Android</td>\n",
       "      <td>0</td>\n",
       "      <td>0</td>\n",
       "    </tr>\n",
       "    <tr>\n",
       "      <th>1</th>\n",
       "      <td>New York weather as of 12:46 AM: 38.28 F</td>\n",
       "      <td>40</td>\n",
       "      <td>983144036725874688</td>\n",
       "      <td>2018-04-09 00:46:18</td>\n",
       "      <td>data_project_twitter</td>\n",
       "      <td>0</td>\n",
       "      <td>0</td>\n",
       "    </tr>\n",
       "    <tr>\n",
       "      <th>2</th>\n",
       "      <td>Visit our website for latest news and weather ...</td>\n",
       "      <td>127</td>\n",
       "      <td>983143854621839360</td>\n",
       "      <td>2018-04-09 00:45:35</td>\n",
       "      <td>New York City Now</td>\n",
       "      <td>0</td>\n",
       "      <td>0</td>\n",
       "    </tr>\n",
       "    <tr>\n",
       "      <th>3</th>\n",
       "      <td>RT @igor_chubin: To compare weather in two cit...</td>\n",
       "      <td>146</td>\n",
       "      <td>983141722912849920</td>\n",
       "      <td>2018-04-09 00:37:07</td>\n",
       "      <td>Twitter for iPhone</td>\n",
       "      <td>0</td>\n",
       "      <td>54</td>\n",
       "    </tr>\n",
       "    <tr>\n",
       "      <th>4</th>\n",
       "      <td>New York weather as of 12:30 AM: 39.34 F</td>\n",
       "      <td>40</td>\n",
       "      <td>983139956922167296</td>\n",
       "      <td>2018-04-09 00:30:06</td>\n",
       "      <td>data_project_twitter</td>\n",
       "      <td>0</td>\n",
       "      <td>0</td>\n",
       "    </tr>\n",
       "    <tr>\n",
       "      <th>5</th>\n",
       "      <td>I wanna do some shopping before leaving to New...</td>\n",
       "      <td>105</td>\n",
       "      <td>983139395514515456</td>\n",
       "      <td>2018-04-09 00:27:52</td>\n",
       "      <td>Twitter for iPhone</td>\n",
       "      <td>0</td>\n",
       "      <td>0</td>\n",
       "    </tr>\n",
       "    <tr>\n",
       "      <th>6</th>\n",
       "      <td>low-key, no pressure\\njust hang with me and my...</td>\n",
       "      <td>108</td>\n",
       "      <td>983139273842061312</td>\n",
       "      <td>2018-04-09 00:27:23</td>\n",
       "      <td>Instagram</td>\n",
       "      <td>1</td>\n",
       "      <td>0</td>\n",
       "    </tr>\n",
       "    <tr>\n",
       "      <th>7</th>\n",
       "      <td>Three weather events top $1 billion in 2018’s ...</td>\n",
       "      <td>113</td>\n",
       "      <td>983138618628751361</td>\n",
       "      <td>2018-04-09 00:24:47</td>\n",
       "      <td>Twitter Web Client</td>\n",
       "      <td>0</td>\n",
       "      <td>0</td>\n",
       "    </tr>\n",
       "    <tr>\n",
       "      <th>8</th>\n",
       "      <td>I’m finally back in New York, but the differen...</td>\n",
       "      <td>82</td>\n",
       "      <td>983138377137639426</td>\n",
       "      <td>2018-04-09 00:23:49</td>\n",
       "      <td>Twitter for iPhone</td>\n",
       "      <td>0</td>\n",
       "      <td>0</td>\n",
       "    </tr>\n",
       "    <tr>\n",
       "      <th>9</th>\n",
       "      <td>Weather now: scattered clouds, 39°F, 9 mph wes...</td>\n",
       "      <td>87</td>\n",
       "      <td>983137423227064320</td>\n",
       "      <td>2018-04-09 00:20:02</td>\n",
       "      <td>New York City Now</td>\n",
       "      <td>0</td>\n",
       "      <td>0</td>\n",
       "    </tr>\n",
       "  </tbody>\n",
       "</table>\n",
       "</div>"
      ]
     },
     "execution_count": 0,
     "metadata": {},
     "output_type": "execute_result"
    },
    {
     "name": "stdout",
     "output_type": "stream",
     "text": [
      "After adding Sentiment Features:\n"
     ]
    },
    {
     "name": "stdout",
     "output_type": "stream",
     "text": [
      "\n"
     ]
    },
    {
     "data": {
      "text/html": [
       "<div>\n",
       "<style>\n",
       "    .dataframe thead tr:only-child th {\n",
       "        text-align: right;\n",
       "    }\n",
       "\n",
       "    .dataframe thead th {\n",
       "        text-align: left;\n",
       "    }\n",
       "\n",
       "    .dataframe tbody tr th {\n",
       "        vertical-align: top;\n",
       "    }\n",
       "</style>\n",
       "<table border=\"1\" class=\"dataframe\">\n",
       "  <thead>\n",
       "    <tr style=\"text-align: right;\">\n",
       "      <th></th>\n",
       "      <th>Tweets</th>\n",
       "      <th>len</th>\n",
       "      <th>ID</th>\n",
       "      <th>Date</th>\n",
       "      <th>Source</th>\n",
       "      <th>Likes</th>\n",
       "      <th>RTs</th>\n",
       "      <th>SA</th>\n",
       "    </tr>\n",
       "  </thead>\n",
       "  <tbody>\n",
       "    <tr>\n",
       "      <th>0</th>\n",
       "      <td>OREGON SUCKS..worst than New York State! https...</td>\n",
       "      <td>64</td>\n",
       "      <td>983146479530360832</td>\n",
       "      <td>2018-04-09 00:56:01</td>\n",
       "      <td>Twitter for Android</td>\n",
       "      <td>0</td>\n",
       "      <td>0</td>\n",
       "      <td>-1</td>\n",
       "    </tr>\n",
       "    <tr>\n",
       "      <th>1</th>\n",
       "      <td>New York weather as of 12:46 AM: 38.28 F</td>\n",
       "      <td>40</td>\n",
       "      <td>983144036725874688</td>\n",
       "      <td>2018-04-09 00:46:18</td>\n",
       "      <td>data_project_twitter</td>\n",
       "      <td>0</td>\n",
       "      <td>0</td>\n",
       "      <td>1</td>\n",
       "    </tr>\n",
       "    <tr>\n",
       "      <th>2</th>\n",
       "      <td>Visit our website for latest news and weather ...</td>\n",
       "      <td>127</td>\n",
       "      <td>983143854621839360</td>\n",
       "      <td>2018-04-09 00:45:35</td>\n",
       "      <td>New York City Now</td>\n",
       "      <td>0</td>\n",
       "      <td>0</td>\n",
       "      <td>1</td>\n",
       "    </tr>\n",
       "    <tr>\n",
       "      <th>3</th>\n",
       "      <td>RT @igor_chubin: To compare weather in two cit...</td>\n",
       "      <td>146</td>\n",
       "      <td>983141722912849920</td>\n",
       "      <td>2018-04-09 00:37:07</td>\n",
       "      <td>Twitter for iPhone</td>\n",
       "      <td>0</td>\n",
       "      <td>54</td>\n",
       "      <td>0</td>\n",
       "    </tr>\n",
       "    <tr>\n",
       "      <th>4</th>\n",
       "      <td>New York weather as of 12:30 AM: 39.34 F</td>\n",
       "      <td>40</td>\n",
       "      <td>983139956922167296</td>\n",
       "      <td>2018-04-09 00:30:06</td>\n",
       "      <td>data_project_twitter</td>\n",
       "      <td>0</td>\n",
       "      <td>0</td>\n",
       "      <td>1</td>\n",
       "    </tr>\n",
       "    <tr>\n",
       "      <th>5</th>\n",
       "      <td>I wanna do some shopping before leaving to New...</td>\n",
       "      <td>105</td>\n",
       "      <td>983139395514515456</td>\n",
       "      <td>2018-04-09 00:27:52</td>\n",
       "      <td>Twitter for iPhone</td>\n",
       "      <td>0</td>\n",
       "      <td>0</td>\n",
       "      <td>-1</td>\n",
       "    </tr>\n",
       "    <tr>\n",
       "      <th>6</th>\n",
       "      <td>low-key, no pressure\\njust hang with me and my...</td>\n",
       "      <td>108</td>\n",
       "      <td>983139273842061312</td>\n",
       "      <td>2018-04-09 00:27:23</td>\n",
       "      <td>Instagram</td>\n",
       "      <td>1</td>\n",
       "      <td>0</td>\n",
       "      <td>1</td>\n",
       "    </tr>\n",
       "    <tr>\n",
       "      <th>7</th>\n",
       "      <td>Three weather events top $1 billion in 2018’s ...</td>\n",
       "      <td>113</td>\n",
       "      <td>983138618628751361</td>\n",
       "      <td>2018-04-09 00:24:47</td>\n",
       "      <td>Twitter Web Client</td>\n",
       "      <td>0</td>\n",
       "      <td>0</td>\n",
       "      <td>1</td>\n",
       "    </tr>\n",
       "    <tr>\n",
       "      <th>8</th>\n",
       "      <td>I’m finally back in New York, but the differen...</td>\n",
       "      <td>82</td>\n",
       "      <td>983138377137639426</td>\n",
       "      <td>2018-04-09 00:23:49</td>\n",
       "      <td>Twitter for iPhone</td>\n",
       "      <td>0</td>\n",
       "      <td>0</td>\n",
       "      <td>-1</td>\n",
       "    </tr>\n",
       "    <tr>\n",
       "      <th>9</th>\n",
       "      <td>Weather now: scattered clouds, 39°F, 9 mph wes...</td>\n",
       "      <td>87</td>\n",
       "      <td>983137423227064320</td>\n",
       "      <td>2018-04-09 00:20:02</td>\n",
       "      <td>New York City Now</td>\n",
       "      <td>0</td>\n",
       "      <td>0</td>\n",
       "      <td>0</td>\n",
       "    </tr>\n",
       "  </tbody>\n",
       "</table>\n",
       "</div>"
      ],
      "text/plain": [
       "<div>\n",
       "<style>\n",
       "    .dataframe thead tr:only-child th {\n",
       "        text-align: right;\n",
       "    }\n",
       "\n",
       "    .dataframe thead th {\n",
       "        text-align: left;\n",
       "    }\n",
       "\n",
       "    .dataframe tbody tr th {\n",
       "        vertical-align: top;\n",
       "    }\n",
       "</style>\n",
       "<table border=\"1\" class=\"dataframe\">\n",
       "  <thead>\n",
       "    <tr style=\"text-align: right;\">\n",
       "      <th></th>\n",
       "      <th>Tweets</th>\n",
       "      <th>len</th>\n",
       "      <th>ID</th>\n",
       "      <th>Date</th>\n",
       "      <th>Source</th>\n",
       "      <th>Likes</th>\n",
       "      <th>RTs</th>\n",
       "      <th>SA</th>\n",
       "    </tr>\n",
       "  </thead>\n",
       "  <tbody>\n",
       "    <tr>\n",
       "      <th>0</th>\n",
       "      <td>OREGON SUCKS..worst than New York State! https...</td>\n",
       "      <td>64</td>\n",
       "      <td>983146479530360832</td>\n",
       "      <td>2018-04-09 00:56:01</td>\n",
       "      <td>Twitter for Android</td>\n",
       "      <td>0</td>\n",
       "      <td>0</td>\n",
       "      <td>-1</td>\n",
       "    </tr>\n",
       "    <tr>\n",
       "      <th>1</th>\n",
       "      <td>New York weather as of 12:46 AM: 38.28 F</td>\n",
       "      <td>40</td>\n",
       "      <td>983144036725874688</td>\n",
       "      <td>2018-04-09 00:46:18</td>\n",
       "      <td>data_project_twitter</td>\n",
       "      <td>0</td>\n",
       "      <td>0</td>\n",
       "      <td>1</td>\n",
       "    </tr>\n",
       "    <tr>\n",
       "      <th>2</th>\n",
       "      <td>Visit our website for latest news and weather ...</td>\n",
       "      <td>127</td>\n",
       "      <td>983143854621839360</td>\n",
       "      <td>2018-04-09 00:45:35</td>\n",
       "      <td>New York City Now</td>\n",
       "      <td>0</td>\n",
       "      <td>0</td>\n",
       "      <td>1</td>\n",
       "    </tr>\n",
       "    <tr>\n",
       "      <th>3</th>\n",
       "      <td>RT @igor_chubin: To compare weather in two cit...</td>\n",
       "      <td>146</td>\n",
       "      <td>983141722912849920</td>\n",
       "      <td>2018-04-09 00:37:07</td>\n",
       "      <td>Twitter for iPhone</td>\n",
       "      <td>0</td>\n",
       "      <td>54</td>\n",
       "      <td>0</td>\n",
       "    </tr>\n",
       "    <tr>\n",
       "      <th>4</th>\n",
       "      <td>New York weather as of 12:30 AM: 39.34 F</td>\n",
       "      <td>40</td>\n",
       "      <td>983139956922167296</td>\n",
       "      <td>2018-04-09 00:30:06</td>\n",
       "      <td>data_project_twitter</td>\n",
       "      <td>0</td>\n",
       "      <td>0</td>\n",
       "      <td>1</td>\n",
       "    </tr>\n",
       "    <tr>\n",
       "      <th>5</th>\n",
       "      <td>I wanna do some shopping before leaving to New...</td>\n",
       "      <td>105</td>\n",
       "      <td>983139395514515456</td>\n",
       "      <td>2018-04-09 00:27:52</td>\n",
       "      <td>Twitter for iPhone</td>\n",
       "      <td>0</td>\n",
       "      <td>0</td>\n",
       "      <td>-1</td>\n",
       "    </tr>\n",
       "    <tr>\n",
       "      <th>6</th>\n",
       "      <td>low-key, no pressure\\njust hang with me and my...</td>\n",
       "      <td>108</td>\n",
       "      <td>983139273842061312</td>\n",
       "      <td>2018-04-09 00:27:23</td>\n",
       "      <td>Instagram</td>\n",
       "      <td>1</td>\n",
       "      <td>0</td>\n",
       "      <td>1</td>\n",
       "    </tr>\n",
       "    <tr>\n",
       "      <th>7</th>\n",
       "      <td>Three weather events top $1 billion in 2018’s ...</td>\n",
       "      <td>113</td>\n",
       "      <td>983138618628751361</td>\n",
       "      <td>2018-04-09 00:24:47</td>\n",
       "      <td>Twitter Web Client</td>\n",
       "      <td>0</td>\n",
       "      <td>0</td>\n",
       "      <td>1</td>\n",
       "    </tr>\n",
       "    <tr>\n",
       "      <th>8</th>\n",
       "      <td>I’m finally back in New York, but the differen...</td>\n",
       "      <td>82</td>\n",
       "      <td>983138377137639426</td>\n",
       "      <td>2018-04-09 00:23:49</td>\n",
       "      <td>Twitter for iPhone</td>\n",
       "      <td>0</td>\n",
       "      <td>0</td>\n",
       "      <td>-1</td>\n",
       "    </tr>\n",
       "    <tr>\n",
       "      <th>9</th>\n",
       "      <td>Weather now: scattered clouds, 39°F, 9 mph wes...</td>\n",
       "      <td>87</td>\n",
       "      <td>983137423227064320</td>\n",
       "      <td>2018-04-09 00:20:02</td>\n",
       "      <td>New York City Now</td>\n",
       "      <td>0</td>\n",
       "      <td>0</td>\n",
       "      <td>0</td>\n",
       "    </tr>\n",
       "  </tbody>\n",
       "</table>\n",
       "</div>"
      ]
     },
     "execution_count": 0,
     "metadata": {},
     "output_type": "execute_result"
    },
    {
     "name": "stdout",
     "output_type": "stream",
     "text": [
      "Percentage of New York weather positive tweets: 53.333333333333336%"
     ]
    },
    {
     "name": "stdout",
     "output_type": "stream",
     "text": [
      "\n"
     ]
    },
    {
     "name": "stdout",
     "output_type": "stream",
     "text": [
      "Percentage of New York weather neutral tweets: 13.333333333333334%"
     ]
    },
    {
     "name": "stdout",
     "output_type": "stream",
     "text": [
      "\n"
     ]
    },
    {
     "name": "stdout",
     "output_type": "stream",
     "text": [
      "Percentage de New York weather negative tweets: 33.333333333333336%"
     ]
    },
    {
     "name": "stdout",
     "output_type": "stream",
     "text": [
      "\n"
     ]
    }
   ],
   "source": [
    "# We create an extractor object:\n",
    "\n",
    "keyword=\"New York weather\"\n",
    "tweets=searchKeyword(keyword)\n",
    "dftweets=createDataFrame(tweets)\n",
    "\n",
    "print(\"Number of {} tweets extracted: {}.\\n\".format(keyword, len(tweets)))\n",
    "\n",
    "# We display the first 10 elements of the dataframe:\n",
    "display(dftweets.head(10))\n",
    "\n",
    "dftweets=AddDataFeature(dftweets, tweets)\n",
    "\n",
    "print(\"After adding features:\\n\")\n",
    "display(dftweets.head(10))\n",
    "\n",
    "dftweets=addSentimentFeature(dftweets)\n",
    "print(\"After adding Sentiment Features:\\n\")\n",
    "display(dftweets.head(10))\n",
    "\n",
    "pos_tweets, neu_tweets, neg_tweets=classifyTweets(dftweets)\n",
    "\n",
    "print(\"Percentage of {} positive tweets: {}%\".format(keyword, len(pos_tweets)*100/len(dftweets['Tweets'])))\n",
    "print(\"Percentage of {} neutral tweets: {}%\".format(keyword, len(neu_tweets)*100/len(dftweets['Tweets'])))\n",
    "print(\"Percentage de {} negative tweets: {}%\".format(keyword, len(neg_tweets)*100/len(dftweets['Tweets'])))"
   ]
  },
  {
   "cell_type": "markdown",
   "metadata": {},
   "source": [
    "## The text is released under the CC-BY-NC-ND license, and code is released under the MIT license"
   ]
  },
  {
   "cell_type": "code",
   "execution_count": 97,
   "metadata": {},
   "outputs": [
    {
     "data": {
      "text/plain": [
       "'The text is released under the '"
      ]
     },
     "execution_count": 0,
     "metadata": {},
     "output_type": "execute_result"
    },
    {
     "data": {
      "text/html": [
       "<a href=\"https://google.at\">CC-BY-NC-ND</a>"
      ],
      "text/plain": [
       "<a href=\"https://google.at\">CC-BY-NC-ND</a>"
      ]
     },
     "execution_count": 0,
     "metadata": {},
     "output_type": "execute_result"
    },
    {
     "data": {
      "text/plain": [
       "'license, and code is released under the '"
      ]
     },
     "execution_count": 0,
     "metadata": {},
     "output_type": "execute_result"
    },
    {
     "data": {
      "text/html": [
       "<a href=\"https://opensource.org/licenses/MIT\">MIT license</a>"
      ],
      "text/plain": [
       "<a href=\"https://opensource.org/licenses/MIT\">MIT license</a>"
      ]
     },
     "execution_count": 0,
     "metadata": {},
     "output_type": "execute_result"
    }
   ],
   "source": [
    "from IPython.core.display import display, HTML\n",
    "display(\"The text is released under the \", \n",
    "         HTML(\"\"\"<a href=\"https://creativecommons.org/licenses/by/3.0/us/\">CC-BY-NC-ND</a>\"\"\"),\n",
    "        \"license, and code is released under the \",\n",
    "        HTML(\"\"\"<a href=\"https://opensource.org/licenses/MIT\">MIT license</a>\"\"\"))\n"
   ]
  },
  {
   "cell_type": "markdown",
   "metadata": {},
   "source": [
    "## MIT license:\n",
    "## Permission is hereby granted, free of charge, to any person obtaining a copy of this software and associated\n",
    "## documentation files (the \"Software\"), to deal in the Software without restriction, \n",
    "## including without limitation the rights to use, copy, modify, merge, publish, distribute, sublicense, \n",
    "## and/or sell copies of the Software, and to permit persons to whom the Software is furnished to do so, \n",
    "## subject to the following conditions:\n",
    "\n",
    "## The above copyright notice and this permission notice shall be included in all copies or substantial portions of \n",
    "## the Software."
   ]
  },
  {
   "cell_type": "markdown",
   "metadata": {},
   "source": [
    "## CC license:\n",
    "## You are free to: Share — copy and redistribute the material in any medium or format. Adapt — remix, transform, and build upon the material\n",
    "## for any purpose, even commercially."
   ]
  },
  {
   "cell_type": "code",
   "execution_count": null,
   "metadata": {},
   "outputs": [],
   "source": []
  }
 ],
 "metadata": {
  "kernelspec": {
   "display_name": "Python 3",
   "language": "python",
   "name": "python3"
  },
  "language_info": {
   "codemirror_mode": {
    "name": "ipython",
    "version": 3
   },
   "file_extension": ".py",
   "mimetype": "text/x-python",
   "name": "python",
   "nbconvert_exporter": "python",
   "pygments_lexer": "ipython3",
   "version": "3.6.3"
  }
 },
 "nbformat": 4,
 "nbformat_minor": 1
}
