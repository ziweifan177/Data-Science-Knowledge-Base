{
 "cells": [
  {
   "cell_type": "code",
   "execution_count": 1,
   "metadata": {
    "collapsed": true
   },
   "outputs": [],
   "source": [
    "dir = r'C:\\Program Files\\mingw-w64\\x86_64-7.2.0-posix-seh-rt_v5-rev1\\mingw64\\bin'\n",
    "import os\n",
    "os.environ['PATH'].count(dir)\n",
    "os.environ['PATH'].find(dir)\n",
    "os.environ['PATH'] = dir + ';' + os.environ['PATH']\n",
    "import xgboost as xgb\n",
    "\n",
    "import numpy as np\n",
    "import pandas as pd\n",
    "import matplotlib.pyplot as plt\n",
    "import seaborn as sns\n",
    "color = sns.color_palette()\n",
    "\n",
    "from haversine import haversine\n",
    "import datetime as dt"
   ]
  },
  {
   "cell_type": "code",
   "execution_count": 2,
   "metadata": {
    "collapsed": false
   },
   "outputs": [
    {
     "name": "stdout",
     "output_type": "stream",
     "text": [
      "Size of the training set is: 50000 rows and 11 columns\n\n ['id', 'vendor_id', 'pickup_datetime', 'dropoff_datetime', 'passenger_count', 'pickup_longitude', 'pickup_latitude', 'dropoff_longitude', 'dropoff_latitude', 'store_and_fwd_flag', 'trip_duration']\n"
     ]
    }
   ],
   "source": [
    "'''Step1: Load Data'''\n",
    "trainDF = pd.read_csv('data/train.csv', nrows=50000)\n",
    "testDF = pd.read_csv('data/test.csv')\n",
    "print('Size of the training set is: {} rows and {} columns'.format(*trainDF.shape))\n",
    "print (\"\\n\", list(trainDF))\n"
   ]
  },
  {
   "cell_type": "code",
   "execution_count": 3,
   "metadata": {
    "collapsed": false
   },
   "outputs": [
    {
     "name": "stdout",
     "output_type": "stream",
     "text": [
      "          vendor_id  passenger_count  pickup_longitude  pickup_latitude  \\\ncount  50000.000000     50000.000000      50000.000000     50000.000000   \nmean       1.529440         1.667260        -73.973477        40.751211   \nstd        0.499138         1.316442          0.037974         0.027994   \nmin        1.000000         1.000000        -74.393555        40.449749   \n25%        1.000000         1.000000        -73.991760        40.737579   \n50%        2.000000         1.000000        -73.981644        40.754425   \n75%        2.000000         2.000000        -73.967079        40.768513   \nmax        2.000000         6.000000        -73.518051        41.091171   \n\n       dropoff_longitude  dropoff_latitude  trip_duration  \ncount       50000.000000      50000.000000   50000.000000  \nmean          -73.973374         40.752025     949.708280  \nstd             0.036672          0.032536    3175.391374  \nmin           -74.398514         40.444698       1.000000  \n25%           -73.991348         40.736086     395.000000  \n50%           -73.979698         40.754610     659.000000  \n75%           -73.962868         40.769985    1071.000000  \nmax           -72.711395         41.311520   86357.000000  \nTrain shape :  (50000, 11)\nTest shape :  (625134, 9)\n                 Count Column Type\n0                   id      object\n1            vendor_id       int64\n2      pickup_datetime      object\n3     dropoff_datetime      object\n4      passenger_count       int64\n5     pickup_longitude     float64\n6      pickup_latitude     float64\n7    dropoff_longitude     float64\n8     dropoff_latitude     float64\n9   store_and_fwd_flag      object\n10       trip_duration       int64\n"
     ]
    }
   ],
   "source": [
    "'''Step2: Understand Data'''\n",
    "df = trainDF.describe()\n",
    "print (df)\n",
    "\n",
    "print(\"Train shape : \", trainDF.shape)\n",
    "print(\"Test shape : \", testDF.shape)\n",
    "\n",
    "dtypeDF=trainDF.dtypes.reset_index()# reset_index(): When we reset the index, the old index is added as a column, and a new sequential index is usedWhen we reset the index, the old index is added as a column, and a new sequential index is used\n",
    "dtypeDF.columns=[\"Count\",\"Column Type\"]\n",
    "dtypeDF.groupby(\"Column Type\").aggregate('count')\n",
    "print(dtypeDF)"
   ]
  },
  {
   "cell_type": "code",
   "execution_count": 4,
   "metadata": {},
   "outputs": [
    {
     "data": {
      "image/png": "[encoded data removed]",
      "text/plain": [
       "<matplotlib.figure.Figure at 0x24132708d68>"
      ]
     },
     "metadata": {},
     "output_type": "display_data"
    }
   ],
   "source": [
    "'''Step3: Understanding distribution of target variable i.e trip duration.'''\n",
    "plt.figure(figsize=(8,6))\n",
    "plt.scatter(range(trainDF.shape[0]), np.sort(trainDF.trip_duration.values))#Y.shape is (n,m). So Y.shape[0] is n.\n",
    "\n",
    "#Step3.1: Find the outliers & Remove outliers by sorting duration in ascending order:\n",
    "plt.xlabel('index', fontsize=12)\n",
    "plt.ylabel('trip duration', fontsize=12)\n",
    "plt.show()"
   ]
  },
  {
   "cell_type": "code",
   "execution_count": 5,
   "metadata": {},
   "outputs": [
    {
     "data": {
      "image/png": "[encoded data removed]",
      "text/plain": [
       "<matplotlib.figure.Figure at 0x241334c72e8>"
      ]
     },
     "metadata": {},
     "output_type": "display_data"
    }
   ],
   "source": [
    "#Step3.2: Catch outliers and replot\n",
    "th=trainDF.trip_duration.quantile(0.99)\n",
    "tempDF=trainDF\n",
    "tempDF=tempDF[tempDF['trip_duration']<th] #!!!!!!!!!!!!!!! Remain the ones <th\n",
    "plt.figure(figsize=(8,6))\n",
    "plt.scatter(range(tempDF.shape[0]),np.sort(tempDF.trip_duration.values))\n",
    "plt.xlabel('index',fontsize=12)\n",
    "plt.ylabel('trip duration',fontsize=12)\n",
    "plt.show()\n",
    "del tempDF"
   ]
  },
  {
   "cell_type": "code",
   "execution_count": 6,
   "metadata": {
    "collapsed": true
   },
   "outputs": [
    {
     "name": "stdout",
     "output_type": "stream",
     "text": [
      "Missing value number of Training DF:\n id                    0\nvendor_id             0\npickup_datetime       0\ndropoff_datetime      0\npassenger_count       0\npickup_longitude      0\npickup_latitude       0\ndropoff_longitude     0\ndropoff_latitude      0\nstore_and_fwd_flag    0\ntrip_duration         0\ndtype: int64\nMissing value number of Testing DF:\n"
     ]
    },
    {
     "name": "stdout",
     "output_type": "stream",
     "text": [
      " id                    0\nvendor_id             0\npickup_datetime       0\npassenger_count       0\npickup_longitude      0\npickup_latitude       0\ndropoff_longitude     0\ndropoff_latitude      0\nstore_and_fwd_flag    0\ndtype: int64\n"
     ]
    }
   ],
   "source": [
    "#Step 4: Dealing with missing values\n",
    "variable_missing_value=trainDF.isnull().sum()\n",
    "print('Missing value number of Training DF:\\n',variable_missing_value)\n",
    "variable_missing_value=testDF.isnull().sum()\n",
    "print('Missing value number of Testing DF:\\n',variable_missing_value)"
   ]
  },
  {
   "cell_type": "code",
   "execution_count": 7,
   "metadata": {
    "collapsed": false
   },
   "outputs": [],
   "source": [
    "#Step 5: Format the date time & Y/N values:\n",
    "from sklearn.decomposition import PCA\n",
    "#Principal components analysis (PCA):illustrating how a point cloud can be very flat in one direction–which is where PCA comes in to choose a direction that is not flat.\n",
    "from sklearn.cluster import MiniBatchKMeans\n",
    "\n",
    "t0 = dt.datetime.now()\n",
    "train = trainDF\n",
    "test = testDF\n",
    "del trainDF, testDF"
   ]
  },
  {
   "cell_type": "code",
   "execution_count": 8,
   "metadata": {},
   "outputs": [
    {
     "name": "stdout",
     "output_type": "stream",
     "text": [
      "['id', 'vendor_id', 'pickup_datetime', 'dropoff_datetime', 'passenger_count', 'pickup_longitude', 'pickup_latitude', 'dropoff_longitude', 'dropoff_latitude', 'store_and_fwd_flag', 'trip_duration', 'pickup_date']\n"
     ]
    }
   ],
   "source": [
    "train['pickup_datetime']=pd.to_datetime(train.pickup_datetime)\n",
    "test['pickup_datetime'] = pd.to_datetime(test.pickup_datetime)\n",
    "train.loc[:,'pickup_date']=train['pickup_datetime'].dt.date\n",
    "test.loc[:,'pickup_date']=test['pickup_datetime'].dt.date\n",
    "\n",
    "train['dropoff_datetime']=pd.to_datetime(train.dropoff_datetime)\n",
    "\n",
    "train['store_and_fwd_flag']=1*(train.store_and_fwd_flag.values=='Y')\n",
    "test['store_and_fwd_flag']=1*(test.store_and_fwd_flag.values=='Y') #!!!!!!!!!!!!!!!!!\n",
    "print(list(train))"
   ]
  },
  {
   "cell_type": "code",
   "execution_count": 9,
   "metadata": {},
   "outputs": [
    {
     "name": "stdout",
     "output_type": "stream",
     "text": [
      "Trip_Duration & datetime are ok.\n['id', 'vendor_id', 'pickup_datetime', 'dropoff_datetime', 'passenger_count', 'pickup_longitude', 'pickup_latitude', 'dropoff_longitude', 'dropoff_latitude', 'store_and_fwd_flag', 'trip_duration', 'pickup_date', 'check_trip_duration']\n"
     ]
    }
   ],
   "source": [
    "train['check_trip_duration'] = (train['dropoff_datetime'] - train['pickup_datetime']).map(lambda x: x.total_seconds()) #!!!!!!!!! 1. New column 2. Convert to seconds.\n",
    "duration_difference=train[np.abs(train['check_trip_duration'].values-train['trip_duration'].values) > 1] #!!!!!!!!!!!Remain the ones with abs>1\n",
    "print('Trip_Duration & datetime are ok.')\n",
    "print(list(train))"
   ]
  },
  {
   "cell_type": "code",
   "execution_count": 10,
   "metadata": {},
   "outputs": [
    {
     "data": {
      "text/plain": [
       "count    50000.000000\nmean       949.708280\nstd       3175.391374\nmin          1.000000\n25%        395.000000\n50%        659.000000\n75%       1071.000000\nmax      86357.000000\nName: trip_duration, dtype: float64"
      ]
     },
     "execution_count": 10,
     "metadata": {},
     "output_type": "execute_result"
    }
   ],
   "source": [
    "if len(duration_difference[['pickup_datetime', 'dropoff_datetime', 'trip_duration', 'check_trip_duration']])==0:\n",
    "    print('Items of Duration_difference are 0.')\n",
    "\n",
    "train['trip_duration'].describe()\n"
   ]
  },
  {
   "cell_type": "code",
   "execution_count": 11,
   "metadata": {},
   "outputs": [],
   "source": [
    "#Step6: Feature Extraction:\n",
    "coords=np.vstack((train[['pickup_latitude', 'pickup_longitude']].values,\n",
    "                  train[['dropoff_latitude', 'dropoff_longitude']].values,\n",
    "                  test[['pickup_latitude', 'pickup_longitude']].values,\n",
    "                  test[['dropoff_latitude', 'dropoff_longitude']].values))\n",
    "\n",
    "pca=PCA().fit(coords)\n",
    "train['pickup_pca0']=pca.transform(train[['pickup_latitude','pickup_longitude']])[:,0] \n",
    "#transform(X):Apply dimensionality reduction to X.\n",
    "train['pickup_pca1']=pca.transform(train[['pickup_latitude','pickup_longitude']])[:,1]\n",
    "train['dropoff_pca0']=pca.transform(train[['dropoff_latitude', 'dropoff_longitude']])[:,0]\n",
    "train['dropoff_pca1']=pca.transform(train[['dropoff_latitude','dropoff_longitude']])[:,1]\n",
    "\n",
    "test['pickup_pca0']=pca.transform(test[['pickup_latitude','pickup_longitude']])[:,0]\n",
    "test['pickup_pca1']=pca.transform(test[['pickup_latitude','pickup_longitude']])[:,1]\n",
    "test['dropoff_pca0']=pca.transform(test[['dropoff_latitude','dropoff_longitude']])[:,0]\n",
    "test['dropoff_pca1']=pca.transform(test[['dropoff_latitude','dropoff_longitude']])[:,1]\n",
    "#[ : , 0 ] means (more or less) [ first_row:last_row , column_0 ],you get all values in column 0 (from all rows).\n",
    "#df[['a','b']]: select multiple columns."
   ]
  },
  {
   "cell_type": "code",
   "execution_count": 12,
   "metadata": {},
   "outputs": [],
   "source": [
    "#Step7: Distance:\n",
    "def haversine_array(lat1,lng1,lat2,lng2):\n",
    "    lat1,lng1,lat2,lng2=map(np.radians, (lat1,lng1,lat2,lng2))\n",
    "    AVG_EARTH_RADIUS=6371 #km\n",
    "    lat=lat2-lat1\n",
    "    lng=lng2-lng1\n",
    "    d=np.sin(lat * 0.5) ** 2 + np.cos(lat1) * np.cos(lat2) * np.sin(lng * 0.5) ** 2\n",
    "    h=2*AVG_EARTH_RADIUS*np.arcsin(np.sqrt(d))\n",
    "    return h\n",
    "\n",
    "def dummy_manhattan_distance(lat1,lng1,lat2,lng2):\n",
    "    a=haversine_array(lat1,lng1,lat1,lng2)\n",
    "    b=haversine_array(lat1,lng1,lat2,lng1)\n",
    "    return a+b\n",
    "\n",
    "def bearing_array(lat1,lng1,lat2,lng2):\n",
    "    AVG_EARTH_RADIUS=6371\n",
    "    lng_delta_rad=np.radians(lng2-lng1)\n",
    "    lat1,lng1,lat2,lng2=map(np.radians,(lat1,lng1,lat2,lng2)) #np.radians(): Convert angles from degrees to radians\n",
    "    y=np.sin(lng_delta_rad)*np.cos(lat2)\n",
    "    x=np.cos(lat1)*np.sin(lat2)-np.sin(lat1)*np.cos(lat2)*np.cos(lng_delta_rad)\n",
    "    return np.degrees(np.arctan2(y,x))"
   ]
  },
  {
   "cell_type": "code",
   "execution_count": 13,
   "metadata": {},
   "outputs": [
    {
     "name": "stdout",
     "output_type": "stream",
     "text": [
      "train headers:\n ['id', 'vendor_id', 'pickup_datetime', 'dropoff_datetime', 'passenger_count', 'pickup_longitude', 'pickup_latitude', 'dropoff_longitude', 'dropoff_latitude', 'store_and_fwd_flag', 'trip_duration', 'pickup_date', 'check_trip_duration', 'pickup_pca0', 'pickup_pca1', 'dropoff_pca0', 'dropoff_pca1']\n"
     ]
    }
   ],
   "source": [
    "print('train headers:\\n',list(train))\n",
    "train.loc[:,'distance_haversine']=haversine_array(train['pickup_latitude'].values, train['pickup_longitude'].values, train['dropoff_latitude'].values, train['dropoff_longitude'].values)\n",
    "train.loc[:,'distance_dummy_manhattan']=dummy_manhattan_distance(train['pickup_latitude'].values, train['pickup_longitude'].values, train['dropoff_latitude'].values, train['dropoff_longitude'].values)\n",
    "train.loc[:,'direction']=bearing_array(train['pickup_latitude'].values, train['pickup_longitude'].values, train['dropoff_latitude'].values, train['dropoff_longitude'].values)\n",
    "train.loc[:,'pca_manhattan']=np.abs(train['dropoff_pca1']-train['pickup_pca1'])+np.abs(train['dropoff_pca0']-train['pickup_pca0'])\n",
    "\n",
    "test.loc[:,'distance_haversine']=haversine_array(test['pickup_latitude'].values, test['pickup_longitude'].values, test['dropoff_latitude'].values, test['dropoff_longitude'].values)\n",
    "test.loc[:,'distance_dummy_manhattan']=dummy_manhattan_distance(test['pickup_latitude'].values, test['pickup_longitude'].values, test['dropoff_latitude'].values, test['dropoff_longitude'].values)\n",
    "test.loc[:,'direction']=bearing_array(test['pickup_latitude'].values, test['pickup_longitude'].values, test['dropoff_latitude'].values, test['dropoff_longitude'].values)\n",
    "test.loc[:,'pca_manhattan']=np.abs(test['dropoff_pca1']-test['pickup_pca1'])+np.abs(test['dropoff_pca0']-test['pickup_pca0'])\n",
    "\n",
    "train.loc[:, 'center_latitude'] = (train['pickup_latitude'].values + train['dropoff_latitude'].values) / 2\n",
    "train.loc[:, 'center_longitude'] = (train['pickup_longitude'].values + train['dropoff_longitude'].values) / 2\n",
    "test.loc[:, 'center_latitude'] = (test['pickup_latitude'].values + test['dropoff_latitude'].values) / 2\n",
    "test.loc[:, 'center_longitude'] = (test['pickup_longitude'].values + test['dropoff_longitude'].values) / 2\n"
   ]
  },
  {
   "cell_type": "code",
   "execution_count": 14,
   "metadata": {},
   "outputs": [],
   "source": [
    "#Step8: Datetime features:\n",
    "train.loc[:,'pickup_weekday']=train['pickup_datetime'].dt.weekday\n",
    "train.loc[:,'pickup_hour_weekofyear']=train['pickup_datetime'].dt.weekofyear\n",
    "train.loc[:,'pickup_hour']=train['pickup_datetime'].dt.hour\n",
    "train.loc[:,'pickup_minute']=train['pickup_datetime'].dt.minute\n",
    "train.loc[:,'pickup_dt']=(train['pickup_datetime']-train['pickup_datetime'].min()).dt.total_seconds()\n",
    "train.loc[:,'pickup_week_hour']=train['pickup_weekday']*24+train['pickup_hour']\n",
    "\n",
    "test.loc[:,'pickup_weekday']=test['pickup_datetime'].dt.weekday\n",
    "test.loc[:,'pickup_hour_weekofyear']=test['pickup_datetime'].dt.weekofyear\n",
    "test.loc[:,'pickup_hour']=test['pickup_datetime'].dt.hour\n",
    "test.loc[:,'pickup_minute']=test['pickup_datetime'].dt.minute\n",
    "test.loc[:,'pickup_dt']=(test['pickup_datetime']-test['pickup_datetime'].min()).dt.total_seconds()\n",
    "test.loc[:,'pickup_week_hour']=test['pickup_weekday']*24+test['pickup_hour']\n",
    "\n",
    "train.loc[:,'week_delta']=train['pickup_datetime'].dt.weekday+((train['pickup_datetime'].dt.hour+(train['pickup_datetime'].dt.minute/60.0))/24.0)\n",
    "test.loc[:,'week_delta']=test['pickup_datetime'].dt.weekday+((test['pickup_datetime'].dt.hour+(test['pickup_datetime'].dt.minute/60.0))/24.0)\n"
   ]
  },
  {
   "cell_type": "code",
   "execution_count": 15,
   "metadata": {},
   "outputs": [],
   "source": [
    "#Step 8.1: Make time cyclic:\n",
    "train.loc[:,'week_delta_sin']=np.sin((train['week_delta']/7)*np.pi)**2\n",
    "train.loc[:,'hour_sin']=np.sin((train['pickup_hour']/24)*np.pi)**2\n",
    "test.loc[:,'week_delta_sin']=np.sin((test['week_delta']/7)*np.pi)**2\n",
    "test.loc[:,'hour_sin']=np.sin((test['pickup_hour']/24)*np.pi)**2"
   ]
  },
  {
   "cell_type": "code",
   "execution_count": 16,
   "metadata": {},
   "outputs": [],
   "source": [
    "#Step9: Speed processing:\n",
    "train.loc[:,'avg_speed_h']=1000*train['distance_haversine']/train['trip_duration']\n",
    "train.loc[:,'avg_speed_m']=1000*train['distance_dummy_manhattan']/train['trip_duration']\n",
    "train.loc[:,'pickup_lat_bin']=np.round(train['pickup_latitude'],3)\n",
    "train.loc[:,'pickup_long_bin']=np.round(train['pickup_longitude'],3)\n"
   ]
  },
  {
   "cell_type": "code",
   "execution_count": 17,
   "metadata": {},
   "outputs": [],
   "source": [
    "#Step9.1: Average speed for regions:\n",
    "gby_cols=['pickup_lat_bin','pickup_long_bin']\n",
    "coord_speed=train.groupby(gby_cols).mean()[['avg_speed_h']].reset_index()\n",
    "coord_count=train.groupby(gby_cols).count()[['id']].reset_index() #!!!!!!!reset_index()\n",
    "coord_stats=pd.merge(coord_speed, coord_count,on=gby_cols)\n",
    "coord_stats=coord_stats[coord_stats['id']>100]\n",
    "\n",
    "train.loc[:,'pickup_lat_bin']=np.round(train['pickup_latitude'],2)\n",
    "train.loc[:,'pickup_long_bin']=np.round(train['pickup_longitude'],2)\n",
    "train.loc[:,'center_lat_bin']=np.round(train['center_latitude'],2)\n",
    "train.loc[:,'center_long_bin']=np.round(train['center_longitude'],2)\n",
    "train.loc[:,'pickup_dt_bin']=(train['pickup_dt']//(3*3600)) #Floor division - division that results into whole number adjusted to the left in the number line\n",
    "\n",
    "test.loc[:,'pickup_lat_bin']=np.round(test['pickup_latitude'],2)\n",
    "test.loc[:,'pickup_long_bin']=np.round(test['pickup_longitude'],2)\n",
    "test.loc[:,'center_lat_bin']=np.round(test['center_latitude'],2)\n",
    "test.loc[:,'center_long_bin']=np.round(test['center_longitude'],2)\n",
    "test.loc[:,'pickup_dt_bin']=(test['pickup_dt']//(3*3600)) #Floor division - division that results into whole number adjusted to the left in the number line\n"
   ]
  },
  {
   "cell_type": "code",
   "execution_count": 18,
   "metadata": {},
   "outputs": [
    {
     "name": "stdout",
     "output_type": "stream",
     "text": [
      "length of coords:\n 1350268\n"
     ]
    }
   ],
   "source": [
    "#Step10: Clustering-MiniBatchKMeans:\n",
    "sample_ind=np.random.permutation(len(coords))[:500000]\n",
    "#np.random.permutation: Randomly permute a sequence, or return a permuted range.\n",
    "#Shuffle the coords and get 500000 items from it.\n",
    "\n",
    "print('length of coords:\\n', len(coords))\n",
    "kmeans=MiniBatchKMeans(n_clusters=100, batch_size=10000).fit(coords[sample_ind])\n",
    "#MiniBatchKMeans: batch_size controls the number of randomly selected observations in each batch. The larger the the size of the batch, the more computationally costly the training process.\n"
   ]
  },
  {
   "cell_type": "code",
   "execution_count": 19,
   "metadata": {},
   "outputs": [
    {
     "name": "stdout",
     "output_type": "stream",
     "text": [
      "Time for clustering: 211 seconds\n"
     ]
    }
   ],
   "source": [
    "#Step10.1: Predict by MiniBatchKMeans:\n",
    "train.loc[:,'pickup_cluster']=kmeans.predict(train[['pickup_latitude','pickup_longitude']])\n",
    "train.loc[:,'dropoff_cluster']=kmeans.predict(train[['dropoff_latitude', 'dropoff_longitude']])\n",
    "test.loc[:,'pickup_cluster']=kmeans.predict(test[['pickup_latitude','pickup_longitude']])\n",
    "test.loc[:,'dropoff_cluster']=kmeans.predict(test[['dropoff_latitude','dropoff_longitude']])\n",
    "\n",
    "t1=dt.datetime.now()\n",
    "print('Time for clustering: %i seconds' %(t1-t0).seconds) #!!!!!!!!!!!!!!!!!!!!\n"
   ]
  },
  {
   "cell_type": "code",
   "execution_count": 20,
   "metadata": {
    "collapsed": true
   },
   "outputs": [],
   "source": [
    "train['log_trip_duration']=np.log(train['trip_duration'].values+1)"
   ]
  },
  {
   "cell_type": "code",
   "execution_count": 21,
   "metadata": {
    "collapsed": true
   },
   "outputs": [
    {
     "name": "stdout",
     "output_type": "stream",
     "text": [
      "['id', 'vendor_id', 'pickup_datetime', 'passenger_count', 'pickup_longitude', 'pickup_latitude', 'dropoff_longitude', 'dropoff_latitude', 'store_and_fwd_flag', 'pickup_date', 'pickup_pca0', 'pickup_pca1', 'dropoff_pca0', 'dropoff_pca1', 'distance_haversine', 'distance_dummy_manhattan', 'direction', 'pca_manhattan', 'center_latitude', 'center_longitude', 'pickup_weekday', 'pickup_hour_weekofyear', 'pickup_hour', 'pickup_minute', 'pickup_dt', 'pickup_week_hour', 'week_delta', 'week_delta_sin', 'hour_sin', 'pickup_lat_bin', 'pickup_long_bin', 'center_lat_bin', 'center_long_bin', 'pickup_dt_bin', 'pickup_cluster', 'dropoff_cluster']\n\n\nTrain:\n['id', 'vendor_id', 'pickup_datetime', 'dropoff_datetime', 'passenger_count', 'pickup_longitude', 'pickup_latitude', 'dropoff_longitude', 'dropoff_latitude', 'store_and_fwd_flag', 'trip_duration', 'pickup_date', 'check_trip_duration', 'pickup_pca0', 'pickup_pca1', 'dropoff_pca0', 'dropoff_pca1', 'distance_haversine', 'distance_dummy_manhattan', 'direction', 'pca_manhattan', 'center_latitude', 'center_longitude', 'pickup_weekday', 'pickup_hour_weekofyear', 'pickup_hour', 'pickup_minute', 'pickup_dt', 'pickup_week_hour', 'week_delta', 'week_delta_sin', 'hour_sin', 'avg_speed_h', 'avg_speed_m', 'pickup_lat_bin', 'pickup_long_bin', 'center_lat_bin', 'center_long_bin', 'pickup_dt_bin', 'pickup_cluster', 'dropoff_cluster', 'log_trip_duration']\n          id  vendor_id     pickup_datetime    dropoff_datetime  \\\n0  id2875421          2 2016-03-14 17:24:00 2016-03-14 17:32:00   \n1  id2377394          1 2016-06-12 00:43:00 2016-06-12 00:54:00   \n2  id3858529          2 2016-01-19 11:35:00 2016-01-19 12:10:00   \n\n   passenger_count  pickup_longitude  pickup_latitude  dropoff_longitude  \\\n0                1        -73.982155        40.767937         -73.964630   \n1                1        -73.980415        40.738564         -73.999481   \n2                1        -73.979027        40.763939         -74.005333   \n\n   dropoff_latitude  store_and_fwd_flag        ...          avg_speed_h  \\\n0         40.765602                   0        ...             3.293453   \n1         40.731152                   0        ...             2.723239   \n2         40.710087                   0        ...             3.006167   \n\n  avg_speed_m  pickup_lat_bin  pickup_long_bin  center_lat_bin  \\\n0    3.814141           40.77           -73.98           40.77   \n1    3.665923           40.74           -73.98           40.73   \n2    3.862324           40.76           -73.98           40.74   \n\n   center_long_bin  pickup_dt_bin  pickup_cluster  dropoff_cluster  \\\n0           -73.97          589.0              31               87   \n1           -73.99         1304.0               7               22   \n2           -73.99          147.0              17               65   \n\n   log_trip_duration  \n0           6.122493  \n1           6.498282  \n2           7.661527  \n\n[3 rows x 42 columns]\n"
     ]
    }
   ],
   "source": [
    "print(list(test))\n",
    "print(\"\\n\")\n",
    "print(\"Train:\")\n",
    "print(list(train))\n",
    "print(train.head(3))"
   ]
  },
  {
   "cell_type": "code",
   "execution_count": 22,
   "metadata": {
    "collapsed": false
   },
   "outputs": [],
   "source": [
    "#Step11: Temporal and geospatial aggregation\n",
    "for gby_col in ['pickup_hour','pickup_date','pickup_dt_bin','pickup_week_hour','pickup_cluster','dropoff_cluster']:\n",
    "    gby=train.groupby(gby_col).mean()[['avg_speed_h','avg_speed_m','log_trip_duration']]\n",
    "    gby.columns=['%s_gby_%s' % (col, gby_col) for col in gby.columns]\n",
    "    train=pd.merge(train, gby,how='left',left_on=gby_col,right_index=True)\n",
    "    test = pd.merge(test, gby, how='left', left_on=gby_col, right_index=True)\n",
    "    #how: left: use only keys from left frame, similar to a SQL left outer join; preserve key order\n",
    "    #right_index: Use the index from the right DataFrame as the join key.\n",
    "    #left_on 和 right_on 来指定列名，从而使不同的列名相互对应，进而进行合并. 如employee, name.\n",
    "\n",
    "\n",
    "for gby_cols in [['center_lat_bin', 'center_long_bin'],\n",
    "                 ['pickup_hour', 'center_lat_bin', 'center_long_bin'],\n",
    "                 ['pickup_hour', 'pickup_cluster'],  ['pickup_hour', 'dropoff_cluster'],\n",
    "                 ['pickup_cluster', 'dropoff_cluster']]:\n",
    "    coord_speed=train.groupby(gby_cols).mean()[['avg_speed_h']].reset_index()\n",
    "    coord_count=train.groupby(gby_cols).count()[['id']].reset_index()\n",
    "    coord_stats=pd.merge(coord_speed,coord_count,on=gby_cols)\n",
    "    coord_stats.columns=gby_cols+['avg_speed_h_%s' % '_'.join(gby_cols),'cnt_%s' % '_'.join(gby_cols)]\n",
    "    #.columns attribute returns an index containg the column names of df.df. columns可以得到所有的列标签，同理df.index可以得到所有的行标签。\n",
    "    #eg.:df.columns: Get: Index(['ColumnOne', 'ColumnTwo'], dtype=\n",
    "    train=pd.merge(train,coord_stats,how='left',on=gby_cols)\n",
    "    test=pd.merge(test,coord_stats,how='left',on=gby_cols)\n",
    " "
   ]
  },
  {
   "cell_type": "code",
   "execution_count": 23,
   "metadata": {
    "collapsed": false
   },
   "outputs": [
    {
     "name": "stdout",
     "output_type": "stream",
     "text": [
      "          id  vendor_id     pickup_datetime    dropoff_datetime  \\\n0  id2875421          2 2016-03-14 17:24:00 2016-03-14 17:32:00   \n1  id2377394          1 2016-06-12 00:43:00 2016-06-12 00:54:00   \n2  id3858529          2 2016-01-19 11:35:00 2016-01-19 12:10:00   \n\n   passenger_count  pickup_longitude  pickup_latitude  dropoff_longitude  \\\n0                1        -73.982155        40.767937         -73.964630   \n1                1        -73.980415        40.738564         -73.999481   \n2                1        -73.979027        40.763939         -74.005333   \n\n   dropoff_latitude  store_and_fwd_flag          ...            \\\n0         40.765602                   0          ...             \n1         40.731152                   0          ...             \n2         40.710087                   0          ...             \n\n   cnt_center_lat_bin_center_long_bin  \\\n0                                2020   \n1                                1803   \n2                                2823   \n\n  avg_speed_h_pickup_hour_center_lat_bin_center_long_bin  \\\n0                                           3.045406       \n1                                           3.419741       \n2                                           3.025884       \n\n   cnt_pickup_hour_center_lat_bin_center_long_bin  \\\n0                                             146   \n1                                              90   \n2                                             126   \n\n   avg_speed_h_pickup_hour_pickup_cluster  cnt_pickup_hour_pickup_cluster  \\\n0                                3.004453                              95   \n1                                4.691492                              29   \n2                                2.933472                              91   \n\n   avg_speed_h_pickup_hour_dropoff_cluster  cnt_pickup_hour_dropoff_cluster  \\\n0                                 3.346536                               43   \n1                                 3.569243                               46   \n2                                 4.369512                               10   \n\n   avg_speed_h_pickup_cluster_dropoff_cluster  \\\n0                                    3.269584   \n1                                    2.688319   \n2                                    4.881144   \n\n   cnt_pickup_cluster_dropoff_cluster  pickup_datetime_group  \n0                                  21    2016-03-14 17:00:00  \n1                                  25    2016-06-12 01:00:00  \n2                                   5    2016-01-19 12:00:00  \n\n[3 rows x 71 columns]\n"
     ]
    }
   ],
   "source": [
    "   \n",
    "group_freq = '60min'\n",
    "df_all = pd.concat((train, test))[['id', 'pickup_datetime', 'pickup_cluster', 'dropoff_cluster']]\n",
    "train.loc[:, 'pickup_datetime_group'] = train['pickup_datetime'].dt.round(group_freq)\n",
    "test.loc[:, 'pickup_datetime_group'] = test['pickup_datetime'].dt.round(group_freq)\n",
    "print(train.head(3))"
   ]
  },
  {
   "cell_type": "code",
   "execution_count": 24,
   "metadata": {
    "collapsed": true
   },
   "outputs": [
    {
     "name": "stdout",
     "output_type": "stream",
     "text": [
      "          id  vendor_id     pickup_datetime    dropoff_datetime  \\\n0  id2875421          2 2016-03-14 17:24:00 2016-03-14 17:32:00   \n1  id2377394          1 2016-06-12 00:43:00 2016-06-12 00:54:00   \n2  id3858529          2 2016-01-19 11:35:00 2016-01-19 12:10:00   \n\n   passenger_count  pickup_longitude  pickup_latitude  dropoff_longitude  \\\n0                1        -73.982155        40.767937         -73.964630   \n1                1        -73.980415        40.738564         -73.999481   \n2                1        -73.979027        40.763939         -74.005333   \n\n   dropoff_latitude  store_and_fwd_flag     ...       \\\n0         40.765602                   0     ...        \n1         40.731152                   0     ...        \n2         40.710087                   0     ...        \n\n   avg_speed_h_pickup_hour_center_lat_bin_center_long_bin  \\\n0                                           3.045406        \n1                                           3.419741        \n2                                           3.025884        \n\n  cnt_pickup_hour_center_lat_bin_center_long_bin  \\\n0                                            146   \n1                                             90   \n2                                            126   \n\n   avg_speed_h_pickup_hour_pickup_cluster  cnt_pickup_hour_pickup_cluster  \\\n0                                3.004453                              95   \n1                                4.691492                              29   \n2                                2.933472                              91   \n\n   avg_speed_h_pickup_hour_dropoff_cluster  cnt_pickup_hour_dropoff_cluster  \\\n0                                 3.346536                               43   \n1                                 3.569243                               46   \n2                                 4.369512                               10   \n\n   avg_speed_h_pickup_cluster_dropoff_cluster  \\\n0                                    3.269584   \n1                                    2.688319   \n2                                    4.881144   \n\n   cnt_pickup_cluster_dropoff_cluster  pickup_datetime_group  count_60min  \n0                                  21    2016-03-14 17:00:00        206.0  \n1                                  25    2016-06-12 01:00:00        201.0  \n2                                   5    2016-01-19 12:00:00        181.0  \n\n[3 rows x 72 columns]\n"
     ]
    }
   ],
   "source": [
    "# Count trips over 60min\n",
    "df_counts = df_all.set_index('pickup_datetime')[['id']].sort_index()\n",
    "df_counts['count_60min'] = df_counts.isnull().rolling(group_freq).count()['id']\n",
    "train = train.merge(df_counts, on='id', how='left')\n",
    "test = test.merge(df_counts, on='id', how='left')\n",
    "print(train.head(3))"
   ]
  },
  {
   "cell_type": "code",
   "execution_count": 25,
   "metadata": {},
   "outputs": [],
   "source": [
    "# Count how many trips are going to each cluster over time\n",
    "dropoff_counts = df_all \\\n",
    "    .set_index('pickup_datetime') \\\n",
    "    .groupby([pd.TimeGrouper(group_freq), 'dropoff_cluster']) \\\n",
    "    .agg({'id': 'count'}) \\\n",
    "    .reset_index().set_index('pickup_datetime') \\\n",
    "    .groupby('dropoff_cluster').rolling('240min').mean() \\\n",
    "    .drop('dropoff_cluster', axis=1) \\\n",
    "    .reset_index().set_index('pickup_datetime').shift(freq='-120min').reset_index() \\\n",
    "    .rename(columns={'pickup_datetime': 'pickup_datetime_group', 'id': 'dropoff_cluster_count'})"
   ]
  },
  {
   "cell_type": "code",
   "execution_count": 26,
   "metadata": {},
   "outputs": [],
   "source": [
    "train['dropoff_cluster_count'] = train[['pickup_datetime_group', 'dropoff_cluster']].merge(dropoff_counts, on=['pickup_datetime_group', 'dropoff_cluster'], how='left')['dropoff_cluster_count'].fillna(0)\n",
    "test['dropoff_cluster_count'] = test[['pickup_datetime_group', 'dropoff_cluster']].merge(dropoff_counts, on=['pickup_datetime_group', 'dropoff_cluster'], how='left')['dropoff_cluster_count'].fillna(0)"
   ]
  },
  {
   "cell_type": "code",
   "execution_count": 27,
   "metadata": {},
   "outputs": [],
   "source": [
    "# Count how many trips are going from each cluster over time\n",
    "df_all = pd.concat((train, test))[['id', 'pickup_datetime', 'pickup_cluster', 'dropoff_cluster']]\n",
    "pickup_counts = df_all \\\n",
    "    .set_index('pickup_datetime') \\\n",
    "    .groupby([pd.TimeGrouper(group_freq), 'pickup_cluster']) \\\n",
    "    .agg({'id': 'count'}) \\\n",
    "    .reset_index().set_index('pickup_datetime') \\\n",
    "    .groupby('pickup_cluster').rolling('240min').mean() \\\n",
    "    .drop('pickup_cluster', axis=1) \\\n",
    "    .reset_index().set_index('pickup_datetime').shift(freq='-120min').reset_index() \\\n",
    "    .rename(columns={'pickup_datetime': 'pickup_datetime_group', 'id': 'pickup_cluster_count'})"
   ]
  },
  {
   "cell_type": "code",
   "execution_count": 28,
   "metadata": {},
   "outputs": [],
   "source": [
    "train['pickup_cluster_count'] = train[['pickup_datetime_group', 'pickup_cluster']].merge(pickup_counts, on=['pickup_datetime_group', 'pickup_cluster'], how='left')['pickup_cluster_count'].fillna(0)\n",
    "test['pickup_cluster_count'] = test[['pickup_datetime_group', 'pickup_cluster']].merge(pickup_counts, on=['pickup_datetime_group', 'pickup_cluster'], how='left')['pickup_cluster_count'].fillna(0)\n"
   ]
  },
  {
   "cell_type": "code",
   "execution_count": 30,
   "metadata": {},
   "outputs": [],
   "source": [
    "# For this particular problem we can add OSRM ([Open Source Routing Machine](http://project-osrm.org/ \n",
    "# \"OSRM\")) features. This data contains the fastest routes from specific starting points in NY.\n",
    "\n",
    "fr1 = pd.read_csv('data/new-york-city-taxi-with-osrm/fastest_routes_train_part_1.csv',\n",
    "                  usecols=['id', 'total_distance', 'total_travel_time',  'number_of_steps'])\n",
    "\n",
    "fr2 = pd.read_csv('data/new-york-city-taxi-with-osrm/fastest_routes_train_part_2.csv',\n",
    "                  usecols=['id', 'total_distance', 'total_travel_time', 'number_of_steps'])\n",
    "\n",
    "test_street_info = pd.read_csv('data/new-york-city-taxi-with-osrm/fastest_routes_test.csv',\n",
    "                               usecols=['id', 'total_distance', 'total_travel_time', 'number_of_steps'])\n"
   ]
  },
  {
   "cell_type": "code",
   "execution_count": 31,
   "metadata": {},
   "outputs": [
    {
     "name": "stdout",
     "output_type": "stream",
     "text": [
      "          id  vendor_id     pickup_datetime    dropoff_datetime  \\\n0  id2875421          2 2016-03-14 17:24:00 2016-03-14 17:32:00   \n1  id2377394          1 2016-06-12 00:43:00 2016-06-12 00:54:00   \n2  id3858529          2 2016-01-19 11:35:00 2016-01-19 12:10:00   \n\n   passenger_count  pickup_longitude  pickup_latitude  dropoff_longitude  \\\n0                1        -73.982155        40.767937         -73.964630   \n1                1        -73.980415        40.738564         -73.999481   \n2                1        -73.979027        40.763939         -74.005333   \n\n   dropoff_latitude  store_and_fwd_flag       ...         \\\n0         40.765602                   0       ...          \n1         40.731152                   0       ...          \n2         40.710087                   0       ...          \n\n   cnt_pickup_hour_dropoff_cluster avg_speed_h_pickup_cluster_dropoff_cluster  \\\n0                               43                                   3.269584   \n1                               46                                   2.688319   \n2                               10                                   4.881144   \n\n   cnt_pickup_cluster_dropoff_cluster  pickup_datetime_group  count_60min  \\\n0                                  21    2016-03-14 17:00:00        206.0   \n1                                  25    2016-06-12 01:00:00        201.0   \n2                                   5    2016-01-19 12:00:00        181.0   \n\n   dropoff_cluster_count  pickup_cluster_count  total_distance  \\\n0                   6.25              9.000000          2009.1   \n1                   4.25              3.333333          2513.2   \n2                   1.50              8.000000         11060.8   \n\n   total_travel_time  number_of_steps  \n0              164.9                5  \n1              332.0                6  \n2              767.6               16  \n\n[3 rows x 77 columns]\n"
     ]
    }
   ],
   "source": [
    "train_street_info=pd.concat((fr1, fr2))\n",
    "train = train.merge(train_street_info, how='left', on='id')\n",
    "test = test.merge(test_street_info, how='left', on='id')\n",
    "print(train.head(3))"
   ]
  },
  {
   "cell_type": "code",
   "execution_count": 32,
   "metadata": {},
   "outputs": [
    {
     "name": "stdout",
     "output_type": "stream",
     "text": [
      "['avg_speed_h' 'avg_speed_m' 'check_trip_duration' 'dropoff_datetime'\n 'log_trip_duration' 'trip_duration']\nWe have 62 features.\nFeature extraction time: 341 seconds\n"
     ]
    }
   ],
   "source": [
    "feature_names = list(train.columns)\n",
    "print(np.setdiff1d(train.columns, test.columns))\n",
    "do_not_use_for_training = ['id', 'log_trip_duration', 'pickup_datetime', 'dropoff_datetime', 'trip_duration', 'check_trip_duration',\n",
    "                           'pickup_date', 'avg_speed_h', 'avg_speed_m', 'pickup_lat_bin', 'pickup_long_bin',\n",
    "                           'center_lat_bin', 'center_long_bin', 'pickup_dt_bin', 'pickup_datetime_group']\n",
    "feature_names = [f for f in train.columns if f not in do_not_use_for_training]\n",
    "# print(feature_names)\n",
    "print('We have %i features.' % len(feature_names))\n",
    "train[feature_names].count()\n",
    "\n",
    "t1 = dt.datetime.now()\n",
    "print('Feature extraction time: %i seconds' % (t1 - t0).seconds)"
   ]
  },
  {
   "cell_type": "heading",
   "metadata": {},
   "level": 1,
   "source": [
    "Feature check before modeling"
   ]
  },
  {
   "cell_type": "code",
   "execution_count": 33,
   "metadata": {},
   "outputs": [
    {
     "data": {
      "text/html": [
       "<div>\n",
       "<style>\n",
       "    .dataframe thead tr:only-child th {\n",
       "        text-align: right;\n",
       "    }\n",
       "\n",
       "    .dataframe thead th {\n",
       "        text-align: left;\n",
       "    }\n",
       "\n",
       "    .dataframe tbody tr th {\n",
       "        vertical-align: top;\n",
       "    }\n",
       "</style>\n",
       "<table border=\"1\" class=\"dataframe\">\n",
       "  <thead>\n",
       "    <tr style=\"text-align: right;\">\n",
       "      <th></th>\n",
       "      <th>feature</th>\n",
       "      <th>train_test_mean_diff</th>\n",
       "    </tr>\n",
       "  </thead>\n",
       "  <tbody>\n",
       "    <tr>\n",
       "      <th>55</th>\n",
       "      <td>cnt_pickup_cluster_dropoff_cluster</td>\n",
       "      <td>0.027371</td>\n",
       "    </tr>\n",
       "    <tr>\n",
       "      <th>51</th>\n",
       "      <td>cnt_pickup_hour_pickup_cluster</td>\n",
       "      <td>0.030921</td>\n",
       "    </tr>\n",
       "    <tr>\n",
       "      <th>54</th>\n",
       "      <td>avg_speed_h_pickup_cluster_dropoff_cluster</td>\n",
       "      <td>0.033199</td>\n",
       "    </tr>\n",
       "    <tr>\n",
       "      <th>53</th>\n",
       "      <td>cnt_pickup_hour_dropoff_cluster</td>\n",
       "      <td>0.040243</td>\n",
       "    </tr>\n",
       "    <tr>\n",
       "      <th>48</th>\n",
       "      <td>avg_speed_h_pickup_hour_center_lat_bin_center_...</td>\n",
       "      <td>0.045448</td>\n",
       "    </tr>\n",
       "  </tbody>\n",
       "</table>\n",
       "</div>"
      ],
      "text/plain": [
       "<div>\n",
       "<style>\n",
       "    .dataframe thead tr:only-child th {\n",
       "        text-align: right;\n",
       "    }\n",
       "\n",
       "    .dataframe thead th {\n",
       "        text-align: left;\n",
       "    }\n",
       "\n",
       "    .dataframe tbody tr th {\n",
       "        vertical-align: top;\n",
       "    }\n",
       "</style>\n",
       "<table border=\"1\" class=\"dataframe\">\n",
       "  <thead>\n",
       "    <tr style=\"text-align: right;\">\n",
       "      <th></th>\n",
       "      <th>feature</th>\n",
       "      <th>train_test_mean_diff</th>\n",
       "    </tr>\n",
       "  </thead>\n",
       "  <tbody>\n",
       "    <tr>\n",
       "      <th>55</th>\n",
       "      <td>cnt_pickup_cluster_dropoff_cluster</td>\n",
       "      <td>0.027371</td>\n",
       "    </tr>\n",
       "    <tr>\n",
       "      <th>51</th>\n",
       "      <td>cnt_pickup_hour_pickup_cluster</td>\n",
       "      <td>0.030921</td>\n",
       "    </tr>\n",
       "    <tr>\n",
       "      <th>54</th>\n",
       "      <td>avg_speed_h_pickup_cluster_dropoff_cluster</td>\n",
       "      <td>0.033199</td>\n",
       "    </tr>\n",
       "    <tr>\n",
       "      <th>53</th>\n",
       "      <td>cnt_pickup_hour_dropoff_cluster</td>\n",
       "      <td>0.040243</td>\n",
       "    </tr>\n",
       "    <tr>\n",
       "      <th>48</th>\n",
       "      <td>avg_speed_h_pickup_hour_center_lat_bin_center_...</td>\n",
       "      <td>0.045448</td>\n",
       "    </tr>\n",
       "  </tbody>\n",
       "</table>\n",
       "</div>"
      ]
     },
     "execution_count": 33,
     "metadata": {},
     "output_type": "execute_result"
    }
   ],
   "source": [
    "feature_stats = pd.DataFrame({'feature': feature_names})\n",
    "\n",
    "feature_stats = pd.DataFrame({'feature': feature_names})\n",
    "feature_stats.loc[:, 'train_mean'] = np.nanmean(train[feature_names].values, axis=0).round(4)\n",
    "feature_stats.loc[:, 'test_mean'] = np.nanmean(test[feature_names].values, axis=0).round(4)\n",
    "feature_stats.loc[:, 'train_std'] = np.nanstd(train[feature_names].values, axis=0).round(4)\n",
    "feature_stats.loc[:, 'test_std'] = np.nanstd(test[feature_names].values, axis=0).round(4)\n",
    "feature_stats.loc[:, 'train_nan'] = np.mean(np.isnan(train[feature_names].values), axis=0).round(3)\n",
    "feature_stats.loc[:, 'test_nan'] = np.mean(np.isnan(test[feature_names].values), axis=0).round(3)\n",
    "feature_stats.loc[:, 'train_test_mean_diff'] = np.abs(feature_stats['train_mean'] - feature_stats['test_mean']) / np.abs(feature_stats['train_std'] + feature_stats['test_std'])  * 2\n",
    "feature_stats.loc[:, 'train_test_nan_diff'] = np.abs(feature_stats['train_nan'] - feature_stats['test_nan'])\n",
    "feature_stats = feature_stats.sort_values(by='train_test_mean_diff')\n",
    "feature_stats[['feature', 'train_test_mean_diff']].tail()\n"
   ]
  },
  {
   "cell_type": "heading",
   "metadata": {},
   "level": 1,
   "source": [
    "Train a simple classifier:"
   ]
  },
  {
   "cell_type": "heading",
   "metadata": {},
   "level": 2,
   "source": [
    "use the TPOT package to handle the cross validation and hyperparameters"
   ]
  },
  {
   "cell_type": "code",
   "execution_count": 34,
   "metadata": {},
   "outputs": [
    {
     "name": "stderr",
     "output_type": "stream",
     "text": [
      "C:\\Anaconda3\\lib\\site-packages\\deap\\tools\\_hypervolume\\pyhv.py:33: ImportWarning: Falling back to the python version of hypervolume module. Expect this to be very slow.\n  \"module. Expect this to be very slow.\", ImportWarning)\n"
     ]
    },
    {
     "name": "stderr",
     "output_type": "stream",
     "text": [
      "C:\\Anaconda3\\lib\\importlib\\_bootstrap.py:219: ImportWarning: can't resolve package from __spec__ or __package__, falling back on __name__ and __path__\n  return f(*args, **kwds)\n"
     ]
    }
   ],
   "source": [
    "from tpot import TPOTRegressor\n",
    "auto_classifier = TPOTRegressor(generations=3, population_size=9, verbosity=2)\n",
    "from sklearn.model_selection import train_test_split"
   ]
  },
  {
   "cell_type": "code",
   "execution_count": 35,
   "metadata": {
    "collapsed": true
   },
   "outputs": [
    {
     "name": "stdout",
     "output_type": "stream",
     "text": [
      "feature names:\n"
     ]
    },
    {
     "name": "stdout",
     "output_type": "stream",
     "text": [
      " "
     ]
    },
    {
     "name": "stdout",
     "output_type": "stream",
     "text": [
      "['vendor_id', 'passenger_count', 'pickup_longitude', 'pickup_latitude', 'dropoff_longitude', 'dropoff_latitude', 'store_and_fwd_flag', 'pickup_pca0', 'pickup_pca1', 'dropoff_pca0', 'dropoff_pca1', 'distance_haversine', 'distance_dummy_manhattan', 'direction', 'pca_manhattan', 'center_latitude', 'center_longitude', 'pickup_weekday', 'pickup_hour_weekofyear', 'pickup_hour', 'pickup_minute', 'pickup_dt', 'pickup_week_hour', 'week_delta', 'week_delta_sin', 'hour_sin', 'pickup_cluster', 'dropoff_cluster', 'avg_speed_h_gby_pickup_hour', 'avg_speed_m_gby_pickup_hour', 'log_trip_duration_gby_pickup_hour', 'avg_speed_h_gby_pickup_date', 'avg_speed_m_gby_pickup_date', 'log_trip_duration_gby_pickup_date', 'avg_speed_h_gby_pickup_dt_bin', 'avg_speed_m_gby_pickup_dt_bin', 'log_trip_duration_gby_pickup_dt_bin', 'avg_speed_h_gby_pickup_week_hour', 'avg_speed_m_gby_pickup_week_hour', 'log_trip_duration_gby_pickup_week_hour', 'avg_speed_h_gby_pickup_cluster', 'avg_speed_m_gby_pickup_cluster', 'log_trip_duration_gby_pickup_cluster', 'avg_speed_h_gby_dropoff_cluster', 'avg_speed_m_gby_dropoff_cluster', 'log_trip_duration_gby_dropoff_cluster', 'avg_speed_h_center_lat_bin_center_long_bin', 'cnt_center_lat_bin_center_long_bin', 'avg_speed_h_pickup_hour_center_lat_bin_center_long_bin', 'cnt_pickup_hour_center_lat_bin_center_long_bin', 'avg_speed_h_pickup_hour_pickup_cluster', 'cnt_pickup_hour_pickup_cluster', 'avg_speed_h_pickup_hour_dropoff_cluster', 'cnt_pickup_hour_dropoff_cluster', 'avg_speed_h_pickup_cluster_dropoff_cluster', 'cnt_pickup_cluster_dropoff_cluster', 'count_60min', 'dropoff_cluster_count', 'pickup_cluster_count', 'total_distance', 'total_travel_time', 'number_of_steps']"
     ]
    },
    {
     "name": "stdout",
     "output_type": "stream",
     "text": [
      "\n"
     ]
    },
    {
     "name": "stdout",
     "output_type": "stream",
     "text": [
      "x:\n"
     ]
    },
    {
     "name": "stdout",
     "output_type": "stream",
     "text": [
      " "
     ]
    },
    {
     "name": "stdout",
     "output_type": "stream",
     "text": [
      "[[  2.00000000e+00   1.00000000e+00  -7.39821549e+01 ...,   2.00910000e+03\n    1.64900000e+02   5.00000000e+00]\n [  1.00000000e+00   1.00000000e+00  -7.39804153e+01 ...,   2.51320000e+03\n    3.32000000e+02   6.00000000e+00]\n [  2.00000000e+00   1.00000000e+00  -7.39790268e+01 ...,   1.10608000e+04\n    7.67600000e+02   1.60000000e+01]\n ..., \n [  1.00000000e+00   1.00000000e+00  -7.39679794e+01 ...,   5.20500000e+03\n    5.20000000e+02   6.00000000e+00]\n [  2.00000000e+00   2.00000000e+00  -7.37767410e+01 ...,   1.89727000e+04\n    1.17050000e+03   1.70000000e+01]\n [  1.00000000e+00   2.00000000e+00  -7.40147934e+01 ...,   3.93740000e+03\n    4.24700000e+02   6.00000000e+00]]"
     ]
    },
    {
     "name": "stdout",
     "output_type": "stream",
     "text": [
      "\n"
     ]
    },
    {
     "name": "stdout",
     "output_type": "stream",
     "text": [
      "y:\n"
     ]
    },
    {
     "name": "stdout",
     "output_type": "stream",
     "text": [
      " "
     ]
    },
    {
     "name": "stdout",
     "output_type": "stream",
     "text": [
      "[ 6.12249281  6.49828215  7.66152708 ...,  6.85856503  7.47363711\n  6.42162227]"
     ]
    },
    {
     "name": "stdout",
     "output_type": "stream",
     "text": [
      "\n"
     ]
    },
    {
     "name": "stdout",
     "output_type": "stream",
     "text": [
      "KFold(n_splits=10, random_state=None, shuffle=False)"
     ]
    },
    {
     "name": "stdout",
     "output_type": "stream",
     "text": [
      "\n"
     ]
    }
   ],
   "source": [
    "# Split the training data to train and validate\n",
    "\n",
    "# K Fold Cross Validation\n",
    "from sklearn.model_selection import KFold\n",
    "\n",
    "X = train[feature_names].values\n",
    "y = np.log(train['trip_duration'].values + 1) \n",
    "\n",
    "kf = KFold(n_splits=10)\n",
    "kf.get_n_splits(X)\n",
    "\n",
    "print(\"feature names:\\n\", feature_names)\n",
    "print(\"x:\\n\",X)\n",
    "print(\"y:\\n\",y)\n",
    "print(kf)  \n"
   ]
  },
  {
   "cell_type": "code",
   "execution_count": 36,
   "metadata": {},
   "outputs": [
    {
     "name": "stdout",
     "output_type": "stream",
     "text": [
      "TRAIN:"
     ]
    },
    {
     "name": "stdout",
     "output_type": "stream",
     "text": [
      " "
     ]
    },
    {
     "name": "stdout",
     "output_type": "stream",
     "text": [
      "[ 5000  5001  5002 ..., 49997 49998 49999]"
     ]
    },
    {
     "name": "stdout",
     "output_type": "stream",
     "text": [
      " "
     ]
    },
    {
     "name": "stdout",
     "output_type": "stream",
     "text": [
      "TEST:"
     ]
    },
    {
     "name": "stdout",
     "output_type": "stream",
     "text": [
      " "
     ]
    },
    {
     "name": "stdout",
     "output_type": "stream",
     "text": [
      "[   0    1    2 ..., 4997 4998 4999]"
     ]
    },
    {
     "name": "stdout",
     "output_type": "stream",
     "text": [
      "\n"
     ]
    },
    {
     "name": "stdout",
     "output_type": "stream",
     "text": [
      "TRAIN:"
     ]
    },
    {
     "name": "stdout",
     "output_type": "stream",
     "text": [
      " "
     ]
    },
    {
     "name": "stdout",
     "output_type": "stream",
     "text": [
      "[    0     1     2 ..., 49997 49998 49999]"
     ]
    },
    {
     "name": "stdout",
     "output_type": "stream",
     "text": [
      " "
     ]
    },
    {
     "name": "stdout",
     "output_type": "stream",
     "text": [
      "TEST:"
     ]
    },
    {
     "name": "stdout",
     "output_type": "stream",
     "text": [
      " "
     ]
    },
    {
     "name": "stdout",
     "output_type": "stream",
     "text": [
      "[5000 5001 5002 ..., 9997 9998 9999]"
     ]
    },
    {
     "name": "stdout",
     "output_type": "stream",
     "text": [
      "\n"
     ]
    },
    {
     "name": "stdout",
     "output_type": "stream",
     "text": [
      "TRAIN:"
     ]
    },
    {
     "name": "stdout",
     "output_type": "stream",
     "text": [
      " "
     ]
    },
    {
     "name": "stdout",
     "output_type": "stream",
     "text": [
      "[    0     1     2 ..., 49997 49998 49999]"
     ]
    },
    {
     "name": "stdout",
     "output_type": "stream",
     "text": [
      " "
     ]
    },
    {
     "name": "stdout",
     "output_type": "stream",
     "text": [
      "TEST:"
     ]
    },
    {
     "name": "stdout",
     "output_type": "stream",
     "text": [
      " "
     ]
    },
    {
     "name": "stdout",
     "output_type": "stream",
     "text": [
      "[10000 10001 10002 ..., 14997 14998 14999]"
     ]
    },
    {
     "name": "stdout",
     "output_type": "stream",
     "text": [
      "\n"
     ]
    },
    {
     "name": "stdout",
     "output_type": "stream",
     "text": [
      "TRAIN:"
     ]
    },
    {
     "name": "stdout",
     "output_type": "stream",
     "text": [
      " "
     ]
    },
    {
     "name": "stdout",
     "output_type": "stream",
     "text": [
      "[    0     1     2 ..., 49997 49998 49999]"
     ]
    },
    {
     "name": "stdout",
     "output_type": "stream",
     "text": [
      " "
     ]
    },
    {
     "name": "stdout",
     "output_type": "stream",
     "text": [
      "TEST:"
     ]
    },
    {
     "name": "stdout",
     "output_type": "stream",
     "text": [
      " "
     ]
    },
    {
     "name": "stdout",
     "output_type": "stream",
     "text": [
      "[15000 15001 15002 ..., 19997 19998 19999]"
     ]
    },
    {
     "name": "stdout",
     "output_type": "stream",
     "text": [
      "\n"
     ]
    },
    {
     "name": "stdout",
     "output_type": "stream",
     "text": [
      "TRAIN:"
     ]
    },
    {
     "name": "stdout",
     "output_type": "stream",
     "text": [
      " "
     ]
    },
    {
     "name": "stdout",
     "output_type": "stream",
     "text": [
      "[    0     1     2 ..., 49997 49998 49999]"
     ]
    },
    {
     "name": "stdout",
     "output_type": "stream",
     "text": [
      " "
     ]
    },
    {
     "name": "stdout",
     "output_type": "stream",
     "text": [
      "TEST:"
     ]
    },
    {
     "name": "stdout",
     "output_type": "stream",
     "text": [
      " "
     ]
    },
    {
     "name": "stdout",
     "output_type": "stream",
     "text": [
      "[20000 20001 20002 ..., 24997 24998 24999]"
     ]
    },
    {
     "name": "stdout",
     "output_type": "stream",
     "text": [
      "\n"
     ]
    },
    {
     "name": "stdout",
     "output_type": "stream",
     "text": [
      "TRAIN:"
     ]
    },
    {
     "name": "stdout",
     "output_type": "stream",
     "text": [
      " "
     ]
    },
    {
     "name": "stdout",
     "output_type": "stream",
     "text": [
      "[    0     1     2 ..., 49997 49998 49999]"
     ]
    },
    {
     "name": "stdout",
     "output_type": "stream",
     "text": [
      " "
     ]
    },
    {
     "name": "stdout",
     "output_type": "stream",
     "text": [
      "TEST:"
     ]
    },
    {
     "name": "stdout",
     "output_type": "stream",
     "text": [
      " "
     ]
    },
    {
     "name": "stdout",
     "output_type": "stream",
     "text": [
      "[25000 25001 25002 ..., 29997 29998 29999]"
     ]
    },
    {
     "name": "stdout",
     "output_type": "stream",
     "text": [
      "\n"
     ]
    },
    {
     "name": "stdout",
     "output_type": "stream",
     "text": [
      "TRAIN:"
     ]
    },
    {
     "name": "stdout",
     "output_type": "stream",
     "text": [
      " "
     ]
    },
    {
     "name": "stdout",
     "output_type": "stream",
     "text": [
      "[    0     1     2 ..., 49997 49998 49999]"
     ]
    },
    {
     "name": "stdout",
     "output_type": "stream",
     "text": [
      " "
     ]
    },
    {
     "name": "stdout",
     "output_type": "stream",
     "text": [
      "TEST:"
     ]
    },
    {
     "name": "stdout",
     "output_type": "stream",
     "text": [
      " "
     ]
    },
    {
     "name": "stdout",
     "output_type": "stream",
     "text": [
      "[30000 30001 30002 ..., 34997 34998 34999]"
     ]
    },
    {
     "name": "stdout",
     "output_type": "stream",
     "text": [
      "\n"
     ]
    },
    {
     "name": "stdout",
     "output_type": "stream",
     "text": [
      "TRAIN:"
     ]
    },
    {
     "name": "stdout",
     "output_type": "stream",
     "text": [
      " "
     ]
    },
    {
     "name": "stdout",
     "output_type": "stream",
     "text": [
      "[    0     1     2 ..., 49997 49998 49999]"
     ]
    },
    {
     "name": "stdout",
     "output_type": "stream",
     "text": [
      " "
     ]
    },
    {
     "name": "stdout",
     "output_type": "stream",
     "text": [
      "TEST:"
     ]
    },
    {
     "name": "stdout",
     "output_type": "stream",
     "text": [
      " "
     ]
    },
    {
     "name": "stdout",
     "output_type": "stream",
     "text": [
      "[35000 35001 35002 ..., 39997 39998 39999]"
     ]
    },
    {
     "name": "stdout",
     "output_type": "stream",
     "text": [
      "\n"
     ]
    },
    {
     "name": "stdout",
     "output_type": "stream",
     "text": [
      "TRAIN:"
     ]
    },
    {
     "name": "stdout",
     "output_type": "stream",
     "text": [
      " "
     ]
    },
    {
     "name": "stdout",
     "output_type": "stream",
     "text": [
      "[    0     1     2 ..., 49997 49998 49999]"
     ]
    },
    {
     "name": "stdout",
     "output_type": "stream",
     "text": [
      " "
     ]
    },
    {
     "name": "stdout",
     "output_type": "stream",
     "text": [
      "TEST:"
     ]
    },
    {
     "name": "stdout",
     "output_type": "stream",
     "text": [
      " "
     ]
    },
    {
     "name": "stdout",
     "output_type": "stream",
     "text": [
      "[40000 40001 40002 ..., 44997 44998 44999]"
     ]
    },
    {
     "name": "stdout",
     "output_type": "stream",
     "text": [
      "\n"
     ]
    },
    {
     "name": "stdout",
     "output_type": "stream",
     "text": [
      "TRAIN:"
     ]
    },
    {
     "name": "stdout",
     "output_type": "stream",
     "text": [
      " "
     ]
    },
    {
     "name": "stdout",
     "output_type": "stream",
     "text": [
      "[    0     1     2 ..., 44997 44998 44999]"
     ]
    },
    {
     "name": "stdout",
     "output_type": "stream",
     "text": [
      " "
     ]
    },
    {
     "name": "stdout",
     "output_type": "stream",
     "text": [
      "TEST:"
     ]
    },
    {
     "name": "stdout",
     "output_type": "stream",
     "text": [
      " "
     ]
    },
    {
     "name": "stdout",
     "output_type": "stream",
     "text": [
      "[45000 45001 45002 ..., 49997 49998 49999]"
     ]
    },
    {
     "name": "stdout",
     "output_type": "stream",
     "text": [
      "\n"
     ]
    }
   ],
   "source": [
    "KFold(n_splits=10, random_state=None, shuffle=False)\n",
    "for train_index, test_index in kf.split(X):\n",
    "    print(\"TRAIN:\", train_index, \"TEST:\", test_index)\n",
    "    X_train, X_valid = X[train_index], X[test_index]\n",
    "    y_train, y_valid = y[train_index], y[test_index]"
   ]
  },
  {
   "cell_type": "code",
   "execution_count": 37,
   "metadata": {
    "collapsed": false
   },
   "outputs": [
    {
     "name": "stderr",
     "output_type": "stream",
     "text": [
      "\rOptimization Progress:   0%|          | 0/36 [00:00<?, ?pipeline/s]"
     ]
    },
    {
     "name": "stderr",
     "output_type": "stream",
     "text": [
      "\rOptimization Progress:   3%|▎         | 1/36 [02:45<1:36:47, 165.92s/pipeline]"
     ]
    },
    {
     "name": "stderr",
     "output_type": "stream",
     "text": [
      "\rOptimization Progress:   6%|▌         | 2/36 [06:42<1:46:00, 187.08s/pipeline]"
     ]
    },
    {
     "name": "stderr",
     "output_type": "stream",
     "text": [
      "\rOptimization Progress:   8%|▊         | 3/36 [06:53<1:13:48, 134.19s/pipeline]"
     ]
    },
    {
     "name": "stderr",
     "output_type": "stream",
     "text": [
      "\rOptimization Progress:  11%|█         | 4/36 [12:12<1:41:09, 189.68s/pipeline]"
     ]
    },
    {
     "name": "stderr",
     "output_type": "stream",
     "text": [
      "\rOptimization Progress:  17%|█▋        | 6/36 [12:14<1:06:31, 133.04s/pipeline]"
     ]
    },
    {
     "name": "stderr",
     "output_type": "stream",
     "text": [
      "\rOptimization Progress:  19%|█▉        | 7/36 [17:14<1:28:35, 183.29s/pipeline]"
     ]
    },
    {
     "name": "stderr",
     "output_type": "stream",
     "text": [
      "\rOptimization Progress:  25%|██▌       | 9/36 [21:22<1:14:28, 165.49s/pipeline]"
     ]
    },
    {
     "name": "stderr",
     "output_type": "stream",
     "text": [
      "\rOptimization Progress:  28%|██▊       | 10/36 [21:27<50:50, 117.33s/pipeline] "
     ]
    },
    {
     "name": "stderr",
     "output_type": "stream",
     "text": [
      "\rOptimization Progress:  31%|███       | 11/36 [21:34<35:02, 84.10s/pipeline] "
     ]
    },
    {
     "name": "stderr",
     "output_type": "stream",
     "text": [
      "\rOptimization Progress:  33%|███▎      | 12/36 [26:55<1:02:08, 155.34s/pipeline]"
     ]
    },
    {
     "name": "stderr",
     "output_type": "stream",
     "text": [
      "\r                                                                               "
     ]
    },
    {
     "name": "stderr",
     "output_type": "stream",
     "text": [
      "\r"
     ]
    },
    {
     "name": "stdout",
     "output_type": "stream",
     "text": [
      "\n"
     ]
    },
    {
     "name": "stderr",
     "output_type": "stream",
     "text": [
      "\rOptimization Progress:  36%|███▌      | 13/36 [29:07<59:32, 155.34s/pipeline]"
     ]
    },
    {
     "name": "stderr",
     "output_type": "stream",
     "text": [
      "\r                                                                             "
     ]
    },
    {
     "name": "stderr",
     "output_type": "stream",
     "text": [
      "\r"
     ]
    },
    {
     "name": "stdout",
     "output_type": "stream",
     "text": [
      "\nTPOT closed prematurely. Will use the current best pipeline."
     ]
    },
    {
     "name": "stdout",
     "output_type": "stream",
     "text": [
      "\n"
     ]
    },
    {
     "name": "stderr",
     "output_type": "stream",
     "text": [
      "\rOptimization Progress:  36%|███▌      | 13/36 [29:07<59:32, 155.34s/pipeline]"
     ]
    },
    {
     "name": "stderr",
     "output_type": "stream",
     "text": [
      "\r                                                                             "
     ]
    },
    {
     "name": "stderr",
     "output_type": "stream",
     "text": [
      "\r"
     ]
    }
   ],
   "source": [
    "auto_classifier.fit(X_train, y_train)"
   ]
  },
  {
   "cell_type": "code",
   "execution_count": 75,
   "metadata": {
    "collapsed": false
   },
   "outputs": [
    {
     "name": "stdout",
     "output_type": "stream",
     "text": [
      "['vendor_id', 'passenger_count', 'pickup_longitude', 'pickup_latitude', 'dropoff_longitude', 'dropoff_latitude', 'store_and_fwd_flag', 'pickup_pca0', 'pickup_pca1', 'dropoff_pca0', 'dropoff_pca1', 'distance_haversine', 'distance_dummy_manhattan', 'direction', 'pca_manhattan', 'center_latitude', 'center_longitude', 'pickup_weekday', 'pickup_hour_weekofyear', 'pickup_hour', 'pickup_minute', 'pickup_dt', 'pickup_week_hour', 'week_delta', 'week_delta_sin', 'hour_sin', 'pickup_cluster', 'dropoff_cluster', 'avg_speed_h_gby_pickup_hour', 'avg_speed_m_gby_pickup_hour', 'log_trip_duration_gby_pickup_hour', 'avg_speed_h_gby_pickup_date', 'avg_speed_m_gby_pickup_date', 'log_trip_duration_gby_pickup_date', 'avg_speed_h_gby_pickup_dt_bin', 'avg_speed_m_gby_pickup_dt_bin', 'log_trip_duration_gby_pickup_dt_bin', 'avg_speed_h_gby_pickup_week_hour', 'avg_speed_m_gby_pickup_week_hour', 'log_trip_duration_gby_pickup_week_hour', 'avg_speed_h_gby_pickup_cluster', 'avg_speed_m_gby_pickup_cluster', 'log_trip_duration_gby_pickup_cluster', 'avg_speed_h_gby_dropoff_cluster', 'avg_speed_m_gby_dropoff_cluster', 'log_trip_duration_gby_dropoff_cluster', 'avg_speed_h_center_lat_bin_center_long_bin', 'cnt_center_lat_bin_center_long_bin', 'avg_speed_h_pickup_hour_center_lat_bin_center_long_bin', 'cnt_pickup_hour_center_lat_bin_center_long_bin', 'avg_speed_h_pickup_hour_pickup_cluster', 'cnt_pickup_hour_pickup_cluster', 'avg_speed_h_pickup_hour_dropoff_cluster', 'cnt_pickup_hour_dropoff_cluster', 'avg_speed_h_pickup_cluster_dropoff_cluster', 'cnt_pickup_cluster_dropoff_cluster', 'count_60min', 'dropoff_cluster_count', 'pickup_cluster_count', 'total_distance', 'total_travel_time', 'number_of_steps']"
     ]
    },
    {
     "name": "stdout",
     "output_type": "stream",
     "text": [
      "\n"
     ]
    },
    {
     "name": "stdout",
     "output_type": "stream",
     "text": [
      "   vendor_id  passenger_count  pickup_longitude  pickup_latitude  \\\n0          1                1        -73.988129        40.732029   \n1          1                1        -73.964203        40.679993   \n2          1                1        -73.997437        40.737583   \n3          2                1        -73.956070        40.771900   \n4          1                1        -73.970215        40.761475   \n\n   dropoff_longitude  dropoff_latitude  store_and_fwd_flag  pickup_pca0  \\\n0         -73.990173         40.756680                   0     0.016106   \n1         -73.959808         40.655403                   0    -0.003569   \n2         -73.986160         40.729523                   0     0.024939   \n3         -73.986427         40.730469                   0    -0.019047   \n4         -73.961510         40.755890                   0    -0.004111   \n\n   pickup_pca1  dropoff_pca0       ...         \\\n0    -0.018128      0.016167       ...          \n1    -0.071915     -0.005977       ...          \n2    -0.011845      0.014345       ...          \n3     0.019044      0.014536       ...          \n4     0.009786     -0.012341       ...          \n\n   avg_speed_h_pickup_hour_dropoff_cluster  cnt_pickup_hour_dropoff_cluster  \\\n0                                 3.428325                             65.0   \n1                                 5.121714                             14.0   \n2                                 4.249574                             26.0   \n3                                 4.249574                             26.0   \n4                                 4.187007                             25.0   \n\n   avg_speed_h_pickup_cluster_dropoff_cluster  \\\n0                                    2.941616   \n1                                    5.240442   \n2                                    3.011571   \n3                                         NaN   \n4                                    2.412821   \n\n   cnt_pickup_cluster_dropoff_cluster  count_60min  dropoff_cluster_count  \\\n0                                20.0        212.0                    0.0   \n1                                 5.0        211.0                    0.0   \n2                                13.0        210.0                    0.0   \n3                                 NaN        209.0                    0.0   \n4                                34.0        214.0                    0.0   \n\n   pickup_cluster_count  total_distance  total_travel_time  number_of_steps  \n0                   0.0          3795.9              424.6                4  \n1                   0.0          2904.5              200.0                4  \n2                   0.0          1499.5              193.2                4  \n3                   0.0          7023.9              494.8               11  \n4                   0.0          1108.2              103.2                4  \n\n[5 rows x 62 columns]"
     ]
    },
    {
     "name": "stdout",
     "output_type": "stream",
     "text": [
      "\n"
     ]
    }
   ],
   "source": [
    "print(feature_names)\n",
    "print(test[feature_names].head(5))\n",
    "test[feature_names].to_csv('NYCTaxi_DataTest.csv', index=False)"
   ]
  },
  {
   "cell_type": "code",
   "execution_count": 78,
   "metadata": {},
   "outputs": [
    {
     "name": "stdout",
     "output_type": "stream",
     "text": [
      "Imputing missing values in feature set"
     ]
    },
    {
     "name": "stdout",
     "output_type": "stream",
     "text": [
      "\n"
     ]
    },
    {
     "data": {
      "text/plain": [
       "True"
      ]
     },
     "execution_count": 78,
     "metadata": {},
     "output_type": "execute_result"
    }
   ],
   "source": [
    "test_result = auto_classifier.predict(test[feature_names].values)\n",
    "sub = pd.DataFrame()\n",
    "sub['id'] = test['id']\n",
    "sub['trip_duration'] = np.exp(test_result)\n",
    "sub['pickup_weekday']=test['pickup_weekday']\n",
    "sub.to_csv('NYCTaxi_TpotModels.csv', index=False)\n",
    "sub.head()\n",
    "      \n",
    "auto_classifier.export('NYCTaxi_TPOTpipelineResult.py')"
   ]
  },
  {
   "cell_type": "code",
   "execution_count": 10,
   "metadata": {},
   "outputs": [
    {
     "name": "stderr",
     "output_type": "stream",
     "text": [
      "C:\\Anaconda3\\lib\\site-packages\\sklearn\\cross_validation.py:41: DeprecationWarning: This module was deprecated in version 0.18 in favor of the model_selection module into which all the refactored classes and functions are moved. Also note that the interface of the new CV iterators are different from that of this module. This module will be removed in 0.20.\n  \"This module will be removed in 0.20.\", DeprecationWarning)\n"
     ]
    },
    {
     "ename": "NameError",
     "evalue": "name 'X_train' is not defined",
     "traceback": [
      "\u001b[1;31m---------------------------------------------------------------------------\u001b[0m",
      "\u001b[1;31mNameError\u001b[0m                                 Traceback (most recent call last)",
      "\u001b[1;32m<ipython-input-10-c63fbfd7baa2>\u001b[0m in \u001b[0;36m<module>\u001b[1;34m()\u001b[0m\n\u001b[0;32m      4\u001b[0m \u001b[0mexported_pipeline\u001b[0m \u001b[1;33m=\u001b[0m \u001b[0mRandomForestRegressor\u001b[0m\u001b[1;33m(\u001b[0m\u001b[0mbootstrap\u001b[0m\u001b[1;33m=\u001b[0m\u001b[1;32mFalse\u001b[0m\u001b[1;33m,\u001b[0m \u001b[0mmax_features\u001b[0m\u001b[1;33m=\u001b[0m\u001b[1;36m0.35000000000000003\u001b[0m\u001b[1;33m,\u001b[0m \u001b[0mmin_samples_leaf\u001b[0m\u001b[1;33m=\u001b[0m\u001b[1;36m13\u001b[0m\u001b[1;33m,\u001b[0m \u001b[0mmin_samples_split\u001b[0m\u001b[1;33m=\u001b[0m\u001b[1;36m12\u001b[0m\u001b[1;33m,\u001b[0m \u001b[0mn_estimators\u001b[0m\u001b[1;33m=\u001b[0m\u001b[1;36m100\u001b[0m\u001b[1;33m)\u001b[0m\u001b[1;33m\u001b[0m\u001b[0m\n\u001b[0;32m      5\u001b[0m \u001b[1;33m\u001b[0m\u001b[0m\n\u001b[1;32m----> 6\u001b[1;33m \u001b[0mexported_pipeline\u001b[0m\u001b[1;33m.\u001b[0m\u001b[0mfit\u001b[0m\u001b[1;33m(\u001b[0m\u001b[0mX_train\u001b[0m\u001b[1;33m,\u001b[0m \u001b[0my_train\u001b[0m\u001b[1;33m)\u001b[0m\u001b[1;33m\u001b[0m\u001b[0m\n\u001b[0m\u001b[0;32m      7\u001b[0m \u001b[0mresults\u001b[0m \u001b[1;33m=\u001b[0m \u001b[0mexported_pipeline\u001b[0m\u001b[1;33m.\u001b[0m\u001b[0mpredict\u001b[0m\u001b[1;33m(\u001b[0m\u001b[0mX_valid\u001b[0m\u001b[1;33m)\u001b[0m\u001b[1;33m\u001b[0m\u001b[0m\n\u001b[0;32m      8\u001b[0m \u001b[1;33m\u001b[0m\u001b[0m\n",
      "\u001b[1;31mNameError\u001b[0m: name 'X_train' is not defined"
     ],
     "output_type": "error"
    }
   ],
   "source": [
    "from sklearn.ensemble import RandomForestRegressor\n",
    "from sklearn import cross_validation, metrics\n",
    "\n",
    "exported_pipeline = RandomForestRegressor(bootstrap=False, max_features=0.35000000000000003, min_samples_leaf=13, min_samples_split=12, n_estimators=100)\n",
    "\n",
    "exported_pipeline.fit(X_train, y_train)\n",
    "results = exported_pipeline.predict(X_valid)\n",
    "\n"
   ]
  },
  {
   "cell_type": "code",
   "execution_count": null,
   "metadata": {},
   "outputs": [],
   "source": []
  }
 ],
 "metadata": {
  "kernelspec": {
   "display_name": "Python 2",
   "language": "python",
   "name": "python2"
  },
  "language_info": {
   "codemirror_mode": {
    "name": "ipython",
    "version": 2
   },
   "file_extension": ".py",
   "mimetype": "text/x-python",
   "name": "python",
   "nbconvert_exporter": "python",
   "pygments_lexer": "ipython2",
   "version": "2.7.6"
  }
 },
 "nbformat": 4,
 "nbformat_minor": 0
}
