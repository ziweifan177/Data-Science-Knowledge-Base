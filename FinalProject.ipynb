{
 "cells": [
  {
   "cell_type": "code",
   "execution_count": 7,
   "metadata": {
    "collapsed": true
   },
   "outputs": [],
   "source": [
    "dir = r'C:\\Program Files\\mingw-w64\\x86_64-7.2.0-posix-seh-rt_v5-rev1\\mingw64\\bin'\n",
    "import os\n",
    "os.environ['PATH'].count(dir)\n",
    "os.environ['PATH'].find(dir)\n",
    "os.environ['PATH'] = dir + ';' + os.environ['PATH']\n",
    "import xgboost as xgb\n",
    "\n",
    "import numpy as np\n",
    "import pandas as pd\n",
    "import matplotlib.pyplot as plt\n",
    "import seaborn as sns\n",
    "color = sns.color_palette()\n",
    "\n",
    "from haversine import haversine\n",
    "import datetime as dt"
   ]
  },
  {
   "cell_type": "code",
   "execution_count": 143,
   "metadata": {},
   "outputs": [
    {
     "name": "stdout",
     "output_type": "stream",
     "text": [
      "Size of the training set is: 50000 rows and 11 columns"
     ]
    },
    {
     "name": "stdout",
     "output_type": "stream",
     "text": [
      "\n"
     ]
    },
    {
     "name": "stdout",
     "output_type": "stream",
     "text": [
      "\n"
     ]
    },
    {
     "name": "stdout",
     "output_type": "stream",
     "text": [
      " "
     ]
    },
    {
     "name": "stdout",
     "output_type": "stream",
     "text": [
      "['id', 'vendor_id', 'pickup_datetime', 'dropoff_datetime', 'passenger_count', 'pickup_longitude', 'pickup_latitude', 'dropoff_longitude', 'dropoff_latitude', 'store_and_fwd_flag', 'trip_duration']"
     ]
    },
    {
     "name": "stdout",
     "output_type": "stream",
     "text": [
      "\n"
     ]
    }
   ],
   "source": [
    "'''Step1: Load Data'''\n",
    "trainDF = pd.read_csv('data/train.csv', nrows=50000)\n",
    "testDF = pd.read_csv('data/test.csv')\n",
    "print('Size of the training set is: {} rows and {} columns'.format(*trainDF.shape))\n",
    "print (\"\\n\", list(trainDF))\n"
   ]
  },
  {
   "cell_type": "code",
   "execution_count": 144,
   "metadata": {},
   "outputs": [
    {
     "name": "stdout",
     "output_type": "stream",
     "text": [
      "          vendor_id  passenger_count  pickup_longitude  pickup_latitude  \\\ncount  50000.000000     50000.000000      50000.000000     50000.000000   \nmean       1.529440         1.667260        -73.973477        40.751211   \nstd        0.499138         1.316442          0.037974         0.027994   \nmin        1.000000         1.000000        -74.393555        40.449749   \n25%        1.000000         1.000000        -73.991760        40.737579   \n50%        2.000000         1.000000        -73.981644        40.754425   \n75%        2.000000         2.000000        -73.967079        40.768513   \nmax        2.000000         6.000000        -73.518051        41.091171   \n\n       dropoff_longitude  dropoff_latitude  trip_duration  \ncount       50000.000000      50000.000000   50000.000000  \nmean          -73.973374         40.752025     949.708280  \nstd             0.036672          0.032536    3175.391374  \nmin           -74.398514         40.444698       1.000000  \n25%           -73.991348         40.736086     395.000000  \n50%           -73.979698         40.754610     659.000000  \n75%           -73.962868         40.769985    1071.000000  \nmax           -72.711395         41.311520   86357.000000  "
     ]
    },
    {
     "name": "stdout",
     "output_type": "stream",
     "text": [
      "\n"
     ]
    },
    {
     "name": "stdout",
     "output_type": "stream",
     "text": [
      "Train shape : "
     ]
    },
    {
     "name": "stdout",
     "output_type": "stream",
     "text": [
      " "
     ]
    },
    {
     "name": "stdout",
     "output_type": "stream",
     "text": [
      "(50000, 11)"
     ]
    },
    {
     "name": "stdout",
     "output_type": "stream",
     "text": [
      "\n"
     ]
    },
    {
     "name": "stdout",
     "output_type": "stream",
     "text": [
      "Test shape : "
     ]
    },
    {
     "name": "stdout",
     "output_type": "stream",
     "text": [
      " "
     ]
    },
    {
     "name": "stdout",
     "output_type": "stream",
     "text": [
      "(625134, 9)"
     ]
    },
    {
     "name": "stdout",
     "output_type": "stream",
     "text": [
      "\n"
     ]
    },
    {
     "name": "stdout",
     "output_type": "stream",
     "text": [
      "                 Count Column Type\n0                   id      object\n1            vendor_id       int64\n2      pickup_datetime      object\n3     dropoff_datetime      object\n4      passenger_count       int64\n5     pickup_longitude     float64\n6      pickup_latitude     float64\n7    dropoff_longitude     float64\n8     dropoff_latitude     float64\n9   store_and_fwd_flag      object\n10       trip_duration       int64"
     ]
    },
    {
     "name": "stdout",
     "output_type": "stream",
     "text": [
      "\n"
     ]
    }
   ],
   "source": [
    "'''Step2: Understand Data'''\n",
    "df = trainDF.describe()\n",
    "print (df)\n",
    "\n",
    "print(\"Train shape : \", trainDF.shape)\n",
    "print(\"Test shape : \", testDF.shape)\n",
    "\n",
    "dtypeDF=trainDF.dtypes.reset_index()# reset_index(): When we reset the index, the old index is added as a column, and a new sequential index is usedWhen we reset the index, the old index is added as a column, and a new sequential index is used\n",
    "dtypeDF.columns=[\"Count\",\"Column Type\"]\n",
    "dtypeDF.groupby(\"Column Type\").aggregate('count')\n",
    "print(dtypeDF)"
   ]
  },
  {
   "cell_type": "code",
   "execution_count": 145,
   "metadata": {},
   "outputs": [
    {
     "data": {
      "image/png": "[encoded data removed]",
      "text/plain": [
       "<matplotlib.figure.Figure at 0x1151158ae80>"
      ]
     },
     "metadata": {},
     "output_type": "display_data"
    }
   ],
   "source": [
    "'''Step3: Understanding distribution of target variable i.e trip duration.'''\n",
    "plt.figure(figsize=(8,6))\n",
    "plt.scatter(range(trainDF.shape[0]), np.sort(trainDF.trip_duration.values))#Y.shape is (n,m). So Y.shape[0] is n.\n",
    "\n",
    "#Step3.1: Find the outliers & Remove outliers by sorting duration in ascending order:\n",
    "plt.xlabel('index', fontsize=12)\n",
    "plt.ylabel('trip duration', fontsize=12)\n",
    "plt.show()"
   ]
  },
  {
   "cell_type": "code",
   "execution_count": 146,
   "metadata": {},
   "outputs": [
    {
     "data": {
      "image/png": "[encoded data removed]",
      "text/plain": [
       "<matplotlib.figure.Figure at 0x115059735f8>"
      ]
     },
     "metadata": {},
     "output_type": "display_data"
    }
   ],
   "source": [
    "#Step3.2: Catch outliers and replot\n",
    "th=trainDF.trip_duration.quantile(0.99)\n",
    "tempDF=trainDF\n",
    "tempDF=tempDF[tempDF['trip_duration']<th] #!!!!!!!!!!!!!!! Remain the ones <th\n",
    "plt.figure(figsize=(8,6))\n",
    "plt.scatter(range(tempDF.shape[0]),np.sort(tempDF.trip_duration.values))\n",
    "plt.xlabel('index',fontsize=12)\n",
    "plt.ylabel('trip duration',fontsize=12)\n",
    "plt.show()\n",
    "del tempDF"
   ]
  },
  {
   "cell_type": "code",
   "execution_count": 147,
   "metadata": {
    "collapsed": true
   },
   "outputs": [
    {
     "name": "stdout",
     "output_type": "stream",
     "text": [
      "Missing value number of Training DF:\n"
     ]
    },
    {
     "name": "stdout",
     "output_type": "stream",
     "text": [
      " "
     ]
    },
    {
     "name": "stdout",
     "output_type": "stream",
     "text": [
      "id                    0\nvendor_id             0\npickup_datetime       0\ndropoff_datetime      0\npassenger_count       0\npickup_longitude      0\npickup_latitude       0\ndropoff_longitude     0\ndropoff_latitude      0\nstore_and_fwd_flag    0\ntrip_duration         0\ndtype: int64"
     ]
    },
    {
     "name": "stdout",
     "output_type": "stream",
     "text": [
      "\n"
     ]
    },
    {
     "name": "stdout",
     "output_type": "stream",
     "text": [
      "Missing value number of Testing DF:\n"
     ]
    },
    {
     "name": "stdout",
     "output_type": "stream",
     "text": [
      " "
     ]
    },
    {
     "name": "stdout",
     "output_type": "stream",
     "text": [
      "id                    0\nvendor_id             0\npickup_datetime       0\npassenger_count       0\npickup_longitude      0\npickup_latitude       0\ndropoff_longitude     0\ndropoff_latitude      0\nstore_and_fwd_flag    0\ndtype: int64"
     ]
    },
    {
     "name": "stdout",
     "output_type": "stream",
     "text": [
      "\n"
     ]
    }
   ],
   "source": [
    "#Step 4: Dealing with missing values\n",
    "variable_missing_value=trainDF.isnull().sum()\n",
    "print('Missing value number of Training DF:\\n',variable_missing_value)\n",
    "variable_missing_value=testDF.isnull().sum()\n",
    "print('Missing value number of Testing DF:\\n',variable_missing_value)"
   ]
  },
  {
   "cell_type": "code",
   "execution_count": 148,
   "metadata": {
    "collapsed": true
   },
   "outputs": [],
   "source": [
    "#Step 5: Format the date time & Y/N values:\n",
    "from sklearn.decomposition import PCA\n",
    "#Principal components analysis (PCA):illustrating how a point cloud can be very flat in one direction–which is where PCA comes in to choose a direction that is not flat.\n",
    "from sklearn.cluster import MiniBatchKMeans\n",
    "\n",
    "t0 = dt.datetime.now()\n",
    "train = trainDF\n",
    "test = testDF\n",
    "del trainDF, testDF"
   ]
  },
  {
   "cell_type": "code",
   "execution_count": 150,
   "metadata": {},
   "outputs": [
    {
     "name": "stderr",
     "output_type": "stream",
     "text": [
      "C:\\Anaconda3\\lib\\site-packages\\ipykernel_launcher.py:8: FutureWarning:\n\nelementwise comparison failed; returning scalar instead, but in the future will perform elementwise comparison\n\n"
     ]
    },
    {
     "name": "stderr",
     "output_type": "stream",
     "text": [
      "C:\\Anaconda3\\lib\\site-packages\\ipykernel_launcher.py:9: FutureWarning:\n\nelementwise comparison failed; returning scalar instead, but in the future will perform elementwise comparison\n\n"
     ]
    },
    {
     "name": "stdout",
     "output_type": "stream",
     "text": [
      "['id', 'vendor_id', 'pickup_datetime', 'dropoff_datetime', 'passenger_count', 'pickup_longitude', 'pickup_latitude', 'dropoff_longitude', 'dropoff_latitude', 'store_and_fwd_flag', 'trip_duration', 'pickup_date']"
     ]
    },
    {
     "name": "stdout",
     "output_type": "stream",
     "text": [
      "\n"
     ]
    }
   ],
   "source": [
    "train['pickup_datetime']=pd.to_datetime(train.pickup_datetime)\n",
    "test['pickup_datetime'] = pd.to_datetime(test.pickup_datetime)\n",
    "train.loc[:,'pickup_date']=train['pickup_datetime'].dt.date\n",
    "test.loc[:,'pickup_date']=test['pickup_datetime'].dt.date\n",
    "\n",
    "train['dropoff_datetime']=pd.to_datetime(train.dropoff_datetime)\n",
    "\n",
    "train['store_and_fwd_flag']=1*(train.store_and_fwd_flag.values=='Y')\n",
    "test['store_and_fwd_flag']=1*(test.store_and_fwd_flag.values=='Y') #!!!!!!!!!!!!!!!!!\n",
    "print(list(train))"
   ]
  },
  {
   "cell_type": "code",
   "execution_count": 151,
   "metadata": {},
   "outputs": [
    {
     "name": "stdout",
     "output_type": "stream",
     "text": [
      "Trip_Duration & datetime are ok."
     ]
    },
    {
     "name": "stdout",
     "output_type": "stream",
     "text": [
      "\n"
     ]
    },
    {
     "name": "stdout",
     "output_type": "stream",
     "text": [
      "['id', 'vendor_id', 'pickup_datetime', 'dropoff_datetime', 'passenger_count', 'pickup_longitude', 'pickup_latitude', 'dropoff_longitude', 'dropoff_latitude', 'store_and_fwd_flag', 'trip_duration', 'pickup_date', 'check_trip_duration']"
     ]
    },
    {
     "name": "stdout",
     "output_type": "stream",
     "text": [
      "\n"
     ]
    }
   ],
   "source": [
    "train['check_trip_duration'] = (train['dropoff_datetime'] - train['pickup_datetime']).map(lambda x: x.total_seconds()) #!!!!!!!!! 1. New column 2. Convert to seconds.\n",
    "duration_difference=train[np.abs(train['check_trip_duration'].values-train['trip_duration'].values) > 1] #!!!!!!!!!!!Remain the ones with abs>1\n",
    "print('Trip_Duration & datetime are ok.')\n",
    "print(list(train))"
   ]
  },
  {
   "cell_type": "code",
   "execution_count": 152,
   "metadata": {},
   "outputs": [
    {
     "data": {
      "text/plain": [
       "count    50000.000000\nmean       949.708280\nstd       3175.391374\nmin          1.000000\n25%        395.000000\n50%        659.000000\n75%       1071.000000\nmax      86357.000000\nName: trip_duration, dtype: float64"
      ]
     },
     "execution_count": 152,
     "metadata": {},
     "output_type": "execute_result"
    }
   ],
   "source": [
    "if len(duration_difference[['pickup_datetime', 'dropoff_datetime', 'trip_duration', 'check_trip_duration']])==0:\n",
    "    print('Items of Duration_difference are 0.')\n",
    "\n",
    "train['trip_duration'].describe()\n"
   ]
  },
  {
   "cell_type": "code",
   "execution_count": 153,
   "metadata": {
    "collapsed": true
   },
   "outputs": [],
   "source": [
    "#Step6: Feature Extraction:\n",
    "coords=np.vstack((train[['pickup_latitude', 'pickup_longitude']].values,\n",
    "                  train[['dropoff_latitude', 'dropoff_longitude']].values,\n",
    "                  test[['pickup_latitude', 'pickup_longitude']].values,\n",
    "                  test[['dropoff_latitude', 'dropoff_longitude']].values))\n",
    "\n",
    "pca=PCA().fit(coords)\n",
    "train['pickup_pca0']=pca.transform(train[['pickup_latitude','pickup_longitude']])[:,0] \n",
    "#transform(X):Apply dimensionality reduction to X.\n",
    "train['pickup_pca1']=pca.transform(train[['pickup_latitude','pickup_longitude']])[:,1]\n",
    "train['dropoff_pca0']=pca.transform(train[['dropoff_latitude', 'dropoff_longitude']])[:,0]\n",
    "train['dropoff_pca1']=pca.transform(train[['dropoff_latitude','dropoff_longitude']])[:,1]\n",
    "\n",
    "test['pickup_pca0']=pca.transform(test[['pickup_latitude','pickup_longitude']])[:,0]\n",
    "test['pickup_pca1']=pca.transform(test[['pickup_latitude','pickup_longitude']])[:,1]\n",
    "test['dropoff_pca0']=pca.transform(test[['dropoff_latitude','dropoff_longitude']])[:,0]\n",
    "test['dropoff_pca1']=pca.transform(test[['dropoff_latitude','dropoff_longitude']])[:,1]\n",
    "#[ : , 0 ] means (more or less) [ first_row:last_row , column_0 ],you get all values in column 0 (from all rows).\n",
    "#df[['a','b']]: select multiple columns."
   ]
  },
  {
   "cell_type": "code",
   "execution_count": 154,
   "metadata": {
    "collapsed": true
   },
   "outputs": [],
   "source": [
    "#Step7: Distance:\n",
    "def haversine_array(lat1,lng1,lat2,lng2):\n",
    "    lat1,lng1,lat2,lng2=map(np.radians, (lat1,lng1,lat2,lng2))\n",
    "    AVG_EARTH_RADIUS=6371 #km\n",
    "    lat=lat2-lat1\n",
    "    lng=lng2-lng1\n",
    "    d=np.sin(lat * 0.5) ** 2 + np.cos(lat1) * np.cos(lat2) * np.sin(lng * 0.5) ** 2\n",
    "    h=2*AVG_EARTH_RADIUS*np.arcsin(np.sqrt(d))\n",
    "    return h\n",
    "\n",
    "def dummy_manhattan_distance(lat1,lng1,lat2,lng2):\n",
    "    a=haversine_array(lat1,lng1,lat1,lng2)\n",
    "    b=haversine_array(lat1,lng1,lat2,lng1)\n",
    "    return a+b\n",
    "\n",
    "def bearing_array(lat1,lng1,lat2,lng2):\n",
    "    AVG_EARTH_RADIUS=6371\n",
    "    lng_delta_rad=np.radians(lng2-lng1)\n",
    "    lat1,lng1,lat2,lng2=map(np.radians,(lat1,lng1,lat2,lng2)) #np.radians(): Convert angles from degrees to radians\n",
    "    y=np.sin(lng_delta_rad)*np.cos(lat2)\n",
    "    x=np.cos(lat1)*np.sin(lat2)-np.sin(lat1)*np.cos(lat2)*np.cos(lng_delta_rad)\n",
    "    return np.degrees(np.arctan2(y,x))"
   ]
  },
  {
   "cell_type": "code",
   "execution_count": 155,
   "metadata": {},
   "outputs": [
    {
     "name": "stdout",
     "output_type": "stream",
     "text": [
      "train headers:\n"
     ]
    },
    {
     "name": "stdout",
     "output_type": "stream",
     "text": [
      " "
     ]
    },
    {
     "name": "stdout",
     "output_type": "stream",
     "text": [
      "['id', 'vendor_id', 'pickup_datetime', 'dropoff_datetime', 'passenger_count', 'pickup_longitude', 'pickup_latitude', 'dropoff_longitude', 'dropoff_latitude', 'store_and_fwd_flag', 'trip_duration', 'pickup_date', 'check_trip_duration', 'pickup_pca0', 'pickup_pca1', 'dropoff_pca0', 'dropoff_pca1']"
     ]
    },
    {
     "name": "stdout",
     "output_type": "stream",
     "text": [
      "\n"
     ]
    }
   ],
   "source": [
    "print('train headers:\\n',list(train))\n",
    "train.loc[:,'distance_haversine']=haversine_array(train['pickup_latitude'].values, train['pickup_longitude'].values, train['dropoff_latitude'].values, train['dropoff_longitude'].values)\n",
    "train.loc[:,'distance_dummy_manhattan']=dummy_manhattan_distance(train['pickup_latitude'].values, train['pickup_longitude'].values, train['dropoff_latitude'].values, train['dropoff_longitude'].values)\n",
    "train.loc[:,'direction']=bearing_array(train['pickup_latitude'].values, train['pickup_longitude'].values, train['dropoff_latitude'].values, train['dropoff_longitude'].values)\n",
    "train.loc[:,'pca_manhattan']=np.abs(train['dropoff_pca1']-train['pickup_pca1'])+np.abs(train['dropoff_pca0']-train['pickup_pca0'])\n",
    "\n",
    "test.loc[:,'distance_haversine']=haversine_array(test['pickup_latitude'].values, test['pickup_longitude'].values, test['dropoff_latitude'].values, test['dropoff_longitude'].values)\n",
    "test.loc[:,'distance_dummy_manhattan']=dummy_manhattan_distance(test['pickup_latitude'].values, test['pickup_longitude'].values, test['dropoff_latitude'].values, test['dropoff_longitude'].values)\n",
    "test.loc[:,'direction']=bearing_array(test['pickup_latitude'].values, test['pickup_longitude'].values, test['dropoff_latitude'].values, test['dropoff_longitude'].values)\n",
    "test.loc[:,'pca_manhattan']=np.abs(test['dropoff_pca1']-test['pickup_pca1'])+np.abs(test['dropoff_pca0']-test['pickup_pca0'])\n",
    "\n",
    "train.loc[:, 'center_latitude'] = (train['pickup_latitude'].values + train['dropoff_latitude'].values) / 2\n",
    "train.loc[:, 'center_longitude'] = (train['pickup_longitude'].values + train['dropoff_longitude'].values) / 2\n",
    "test.loc[:, 'center_latitude'] = (test['pickup_latitude'].values + test['dropoff_latitude'].values) / 2\n",
    "test.loc[:, 'center_longitude'] = (test['pickup_longitude'].values + test['dropoff_longitude'].values) / 2\n"
   ]
  },
  {
   "cell_type": "code",
   "execution_count": 156,
   "metadata": {
    "collapsed": true
   },
   "outputs": [],
   "source": [
    "#Step8: Datetime features:\n",
    "train.loc[:,'pickup_weekday']=train['pickup_datetime'].dt.weekday\n",
    "train.loc[:,'pickup_hour_weekofyear']=train['pickup_datetime'].dt.weekofyear\n",
    "train.loc[:,'pickup_hour']=train['pickup_datetime'].dt.hour\n",
    "train.loc[:,'pickup_minute']=train['pickup_datetime'].dt.minute\n",
    "train.loc[:,'pickup_dt']=(train['pickup_datetime']-train['pickup_datetime'].min()).dt.total_seconds()\n",
    "train.loc[:,'pickup_week_hour']=train['pickup_weekday']*24+train['pickup_hour']\n",
    "\n",
    "test.loc[:,'pickup_weekday']=test['pickup_datetime'].dt.weekday\n",
    "test.loc[:,'pickup_hour_weekofyear']=test['pickup_datetime'].dt.weekofyear\n",
    "test.loc[:,'pickup_hour']=test['pickup_datetime'].dt.hour\n",
    "test.loc[:,'pickup_minute']=test['pickup_datetime'].dt.minute\n",
    "test.loc[:,'pickup_dt']=(test['pickup_datetime']-test['pickup_datetime'].min()).dt.total_seconds()\n",
    "test.loc[:,'pickup_week_hour']=test['pickup_weekday']*24+test['pickup_hour']\n",
    "\n",
    "train.loc[:,'week_delta']=train['pickup_datetime'].dt.weekday+((train['pickup_datetime'].dt.hour+(train['pickup_datetime'].dt.minute/60.0))/24.0)\n",
    "test.loc[:,'week_delta']=test['pickup_datetime'].dt.weekday+((test['pickup_datetime'].dt.hour+(test['pickup_datetime'].dt.minute/60.0))/24.0)\n"
   ]
  },
  {
   "cell_type": "code",
   "execution_count": 157,
   "metadata": {
    "collapsed": true
   },
   "outputs": [],
   "source": [
    "#Step 8.1: Make time cyclic:\n",
    "train.loc[:,'week_delta_sin']=np.sin((train['week_delta']/7)*np.pi)**2\n",
    "train.loc[:,'hour_sin']=np.sin((train['pickup_hour']/24)*np.pi)**2\n",
    "test.loc[:,'week_delta_sin']=np.sin((test['week_delta']/7)*np.pi)**2\n",
    "test.loc[:,'hour_sin']=np.sin((test['pickup_hour']/24)*np.pi)**2"
   ]
  },
  {
   "cell_type": "code",
   "execution_count": 158,
   "metadata": {
    "collapsed": true
   },
   "outputs": [],
   "source": [
    "#Step9: Speed processing:\n",
    "train.loc[:,'avg_speed_h']=1000*train['distance_haversine']/train['trip_duration']\n",
    "train.loc[:,'avg_speed_m']=1000*train['distance_dummy_manhattan']/train['trip_duration']\n",
    "train.loc[:,'pickup_lat_bin']=np.round(train['pickup_latitude'],3)\n",
    "train.loc[:,'pickup_long_bin']=np.round(train['pickup_longitude'],3)\n"
   ]
  },
  {
   "cell_type": "code",
   "execution_count": 159,
   "metadata": {
    "collapsed": true
   },
   "outputs": [],
   "source": [
    "#Step9.1: Average speed for regions:\n",
    "gby_cols=['pickup_lat_bin','pickup_long_bin']\n",
    "coord_speed=train.groupby(gby_cols).mean()[['avg_speed_h']].reset_index()\n",
    "coord_count=train.groupby(gby_cols).count()[['id']].reset_index() #!!!!!!!reset_index()\n",
    "coord_stats=pd.merge(coord_speed, coord_count,on=gby_cols)\n",
    "coord_stats=coord_stats[coord_stats['id']>100]\n",
    "\n",
    "train.loc[:,'pickup_lat_bin']=np.round(train['pickup_latitude'],2)\n",
    "train.loc[:,'pickup_long_bin']=np.round(train['pickup_longitude'],2)\n",
    "train.loc[:,'center_lat_bin']=np.round(train['center_latitude'],2)\n",
    "train.loc[:,'center_long_bin']=np.round(train['center_longitude'],2)\n",
    "train.loc[:,'pickup_dt_bin']=(train['pickup_dt']//(3*3600)) #Floor division - division that results into whole number adjusted to the left in the number line\n",
    "\n",
    "test.loc[:,'pickup_lat_bin']=np.round(test['pickup_latitude'],2)\n",
    "test.loc[:,'pickup_long_bin']=np.round(test['pickup_longitude'],2)\n",
    "test.loc[:,'center_lat_bin']=np.round(test['center_latitude'],2)\n",
    "test.loc[:,'center_long_bin']=np.round(test['center_longitude'],2)\n",
    "test.loc[:,'pickup_dt_bin']=(test['pickup_dt']//(3*3600)) #Floor division - division that results into whole number adjusted to the left in the number line\n"
   ]
  },
  {
   "cell_type": "code",
   "execution_count": 160,
   "metadata": {},
   "outputs": [
    {
     "name": "stdout",
     "output_type": "stream",
     "text": [
      "length of coords:\n"
     ]
    },
    {
     "name": "stdout",
     "output_type": "stream",
     "text": [
      " "
     ]
    },
    {
     "name": "stdout",
     "output_type": "stream",
     "text": [
      "1350268"
     ]
    },
    {
     "name": "stdout",
     "output_type": "stream",
     "text": [
      "\n"
     ]
    }
   ],
   "source": [
    "#Step10: Clustering-MiniBatchKMeans:\n",
    "sample_ind=np.random.permutation(len(coords))[:500000]\n",
    "#np.random.permutation: Randomly permute a sequence, or return a permuted range.\n",
    "#Shuffle the coords and get 500000 items from it.\n",
    "\n",
    "print('length of coords:\\n', len(coords))\n",
    "kmeans=MiniBatchKMeans(n_clusters=100, batch_size=10000).fit(coords[sample_ind])\n",
    "#MiniBatchKMeans: batch_size controls the number of randomly selected observations in each batch. The larger the the size of the batch, the more computationally costly the training process.\n"
   ]
  },
  {
   "cell_type": "code",
   "execution_count": 161,
   "metadata": {},
   "outputs": [
    {
     "name": "stdout",
     "output_type": "stream",
     "text": [
      "Time for clustering: 194 seconds"
     ]
    },
    {
     "name": "stdout",
     "output_type": "stream",
     "text": [
      "\n"
     ]
    }
   ],
   "source": [
    "#Step10.1: Predict by MiniBatchKMeans:\n",
    "train.loc[:,'pickup_cluster']=kmeans.predict(train[['pickup_latitude','pickup_longitude']])\n",
    "train.loc[:,'dropoff_cluster']=kmeans.predict(train[['dropoff_latitude', 'dropoff_longitude']])\n",
    "test.loc[:,'pickup_cluster']=kmeans.predict(test[['pickup_latitude','pickup_longitude']])\n",
    "test.loc[:,'dropoff_cluster']=kmeans.predict(test[['dropoff_latitude','dropoff_longitude']])\n",
    "\n",
    "t1=dt.datetime.now()\n",
    "print('Time for clustering: %i seconds' %(t1-t0).seconds) #!!!!!!!!!!!!!!!!!!!!\n"
   ]
  },
  {
   "cell_type": "code",
   "execution_count": 162,
   "metadata": {
    "collapsed": true
   },
   "outputs": [],
   "source": [
    "train['log_trip_duration']=np.log(train['trip_duration'].values+1)"
   ]
  },
  {
   "cell_type": "code",
   "execution_count": 163,
   "metadata": {},
   "outputs": [
    {
     "name": "stdout",
     "output_type": "stream",
     "text": [
      "['id', 'vendor_id', 'pickup_datetime', 'passenger_count', 'pickup_longitude', 'pickup_latitude', 'dropoff_longitude', 'dropoff_latitude', 'store_and_fwd_flag', 'pickup_date', 'pickup_pca0', 'pickup_pca1', 'dropoff_pca0', 'dropoff_pca1', 'distance_haversine', 'distance_dummy_manhattan', 'direction', 'pca_manhattan', 'center_latitude', 'center_longitude', 'pickup_weekday', 'pickup_hour_weekofyear', 'pickup_hour', 'pickup_minute', 'pickup_dt', 'pickup_week_hour', 'week_delta', 'week_delta_sin', 'hour_sin', 'pickup_lat_bin', 'pickup_long_bin', 'center_lat_bin', 'center_long_bin', 'pickup_dt_bin', 'pickup_cluster', 'dropoff_cluster']"
     ]
    },
    {
     "name": "stdout",
     "output_type": "stream",
     "text": [
      "\n"
     ]
    },
    {
     "name": "stdout",
     "output_type": "stream",
     "text": [
      "\n"
     ]
    },
    {
     "name": "stdout",
     "output_type": "stream",
     "text": [
      "\n"
     ]
    },
    {
     "name": "stdout",
     "output_type": "stream",
     "text": [
      "Train:"
     ]
    },
    {
     "name": "stdout",
     "output_type": "stream",
     "text": [
      "\n"
     ]
    },
    {
     "name": "stdout",
     "output_type": "stream",
     "text": [
      "['id', 'vendor_id', 'pickup_datetime', 'dropoff_datetime', 'passenger_count', 'pickup_longitude', 'pickup_latitude', 'dropoff_longitude', 'dropoff_latitude', 'store_and_fwd_flag', 'trip_duration', 'pickup_date', 'check_trip_duration', 'pickup_pca0', 'pickup_pca1', 'dropoff_pca0', 'dropoff_pca1', 'distance_haversine', 'distance_dummy_manhattan', 'direction', 'pca_manhattan', 'center_latitude', 'center_longitude', 'pickup_weekday', 'pickup_hour_weekofyear', 'pickup_hour', 'pickup_minute', 'pickup_dt', 'pickup_week_hour', 'week_delta', 'week_delta_sin', 'hour_sin', 'avg_speed_h', 'avg_speed_m', 'pickup_lat_bin', 'pickup_long_bin', 'center_lat_bin', 'center_long_bin', 'pickup_dt_bin', 'pickup_cluster', 'dropoff_cluster', 'log_trip_duration']"
     ]
    },
    {
     "name": "stdout",
     "output_type": "stream",
     "text": [
      "\n"
     ]
    },
    {
     "name": "stdout",
     "output_type": "stream",
     "text": [
      "          id  vendor_id     pickup_datetime    dropoff_datetime  \\\n0  id2875421          2 2016-03-14 17:24:00 2016-03-14 17:32:00   \n1  id2377394          1 2016-06-12 00:43:00 2016-06-12 00:54:00   \n2  id3858529          2 2016-01-19 11:35:00 2016-01-19 12:10:00   \n\n   passenger_count  pickup_longitude  pickup_latitude  dropoff_longitude  \\\n0                1        -73.982155        40.767937         -73.964630   \n1                1        -73.980415        40.738564         -73.999481   \n2                1        -73.979027        40.763939         -74.005333   \n\n   dropoff_latitude  store_and_fwd_flag        ...          avg_speed_h  \\\n0         40.765602                   0        ...             3.293453   \n1         40.731152                   0        ...             2.723239   \n2         40.710087                   0        ...             3.006167   \n\n  avg_speed_m  pickup_lat_bin  pickup_long_bin  center_lat_bin  \\\n0    3.814141           40.77           -73.98           40.77   \n1    3.665923           40.74           -73.98           40.73   \n2    3.862324           40.76           -73.98           40.74   \n\n   center_long_bin  pickup_dt_bin  pickup_cluster  dropoff_cluster  \\\n0           -73.97          589.0               5               86   \n1           -73.99         1304.0              81                4   \n2           -73.99          147.0              93               38   \n\n   log_trip_duration  \n0           6.122493  \n1           6.498282  \n2           7.661527  \n\n[3 rows x 42 columns]"
     ]
    },
    {
     "name": "stdout",
     "output_type": "stream",
     "text": [
      "\n"
     ]
    }
   ],
   "source": [
    "print(list(test))\n",
    "print(\"\\n\")\n",
    "print(\"Train:\")\n",
    "print(list(train))\n",
    "print(train.head(3))"
   ]
  },
  {
   "cell_type": "code",
   "execution_count": 164,
   "metadata": {
    "collapsed": true
   },
   "outputs": [],
   "source": [
    "#Step11: Temporal and geospatial aggregation\n",
    "for gby_col in ['pickup_hour','pickup_date','pickup_dt_bin','pickup_week_hour','pickup_cluster','dropoff_cluster']:\n",
    "    gby=train.groupby(gby_col).mean()[['avg_speed_h','avg_speed_m','log_trip_duration']]\n",
    "    gby.columns=['%s_gby_%s' % (col, gby_col) for col in gby.columns]\n",
    "    train=pd.merge(train, gby,how='left',left_on=gby_col,right_index=True)\n",
    "    test = pd.merge(test, gby, how='left', left_on=gby_col, right_index=True)\n",
    "    #how: left: use only keys from left frame, similar to a SQL left outer join; preserve key order\n",
    "    #right_index: Use the index from the right DataFrame as the join key.\n",
    "    #left_on 和 right_on 来指定列名，从而使不同的列名相互对应，进而进行合并. 如employee, name.\n",
    "\n",
    "\n",
    "for gby_cols in [['center_lat_bin', 'center_long_bin'],\n",
    "                 ['pickup_hour', 'center_lat_bin', 'center_long_bin'],\n",
    "                 ['pickup_hour', 'pickup_cluster'],  ['pickup_hour', 'dropoff_cluster'],\n",
    "                 ['pickup_cluster', 'dropoff_cluster']]:\n",
    "    coord_speed=train.groupby(gby_cols).mean()[['avg_speed_h']].reset_index()\n",
    "    coord_count=train.groupby(gby_cols).count()[['id']].reset_index()\n",
    "    coord_stats=pd.merge(coord_speed,coord_count,on=gby_cols)\n",
    "    coord_stats.columns=gby_cols+['avg_speed_h_%s' % '_'.join(gby_cols),'cnt_%s' % '_'.join(gby_cols)]\n",
    "    #.columns attribute returns an index containg the column names of df.df. columns可以得到所有的列标签，同理df.index可以得到所有的行标签。\n",
    "    #eg.:df.columns: Get: Index(['ColumnOne', 'ColumnTwo'], dtype=\n",
    "    train=pd.merge(train,coord_stats,how='left',on=gby_cols)\n",
    "    test=pd.merge(test,coord_stats,how='left',on=gby_cols)\n",
    " "
   ]
  },
  {
   "cell_type": "code",
   "execution_count": 165,
   "metadata": {
    "collapsed": true
   },
   "outputs": [
    {
     "name": "stdout",
     "output_type": "stream",
     "text": [
      "['id', 'vendor_id', 'pickup_datetime', 'passenger_count', 'pickup_longitude', 'pickup_latitude', 'dropoff_longitude', 'dropoff_latitude', 'store_and_fwd_flag', 'pickup_date', 'pickup_pca0', 'pickup_pca1', 'dropoff_pca0', 'dropoff_pca1', 'distance_haversine', 'distance_dummy_manhattan', 'direction', 'pca_manhattan', 'center_latitude', 'center_longitude', 'pickup_weekday', 'pickup_hour_weekofyear', 'pickup_hour', 'pickup_minute', 'pickup_dt', 'pickup_week_hour', 'week_delta', 'week_delta_sin', 'hour_sin', 'pickup_lat_bin', 'pickup_long_bin', 'center_lat_bin', 'center_long_bin', 'pickup_dt_bin', 'pickup_cluster', 'dropoff_cluster', 'avg_speed_h_gby_pickup_hour', 'avg_speed_m_gby_pickup_hour', 'log_trip_duration_gby_pickup_hour', 'avg_speed_h_gby_pickup_date', 'avg_speed_m_gby_pickup_date', 'log_trip_duration_gby_pickup_date', 'avg_speed_h_gby_pickup_dt_bin', 'avg_speed_m_gby_pickup_dt_bin', 'log_trip_duration_gby_pickup_dt_bin', 'avg_speed_h_gby_pickup_week_hour', 'avg_speed_m_gby_pickup_week_hour', 'log_trip_duration_gby_pickup_week_hour', 'avg_speed_h_gby_pickup_cluster', 'avg_speed_m_gby_pickup_cluster', 'log_trip_duration_gby_pickup_cluster', 'avg_speed_h_gby_dropoff_cluster', 'avg_speed_m_gby_dropoff_cluster', 'log_trip_duration_gby_dropoff_cluster', 'avg_speed_h_center_lat_bin_center_long_bin', 'cnt_center_lat_bin_center_long_bin', 'avg_speed_h_pickup_hour_center_lat_bin_center_long_bin', 'cnt_pickup_hour_center_lat_bin_center_long_bin', 'avg_speed_h_pickup_hour_pickup_cluster', 'cnt_pickup_hour_pickup_cluster', 'avg_speed_h_pickup_hour_dropoff_cluster', 'cnt_pickup_hour_dropoff_cluster', 'avg_speed_h_pickup_cluster_dropoff_cluster', 'cnt_pickup_cluster_dropoff_cluster']"
     ]
    },
    {
     "name": "stdout",
     "output_type": "stream",
     "text": [
      "\n"
     ]
    },
    {
     "name": "stdout",
     "output_type": "stream",
     "text": [
      "\n"
     ]
    },
    {
     "name": "stdout",
     "output_type": "stream",
     "text": [
      "\n"
     ]
    },
    {
     "name": "stdout",
     "output_type": "stream",
     "text": [
      "Train:"
     ]
    },
    {
     "name": "stdout",
     "output_type": "stream",
     "text": [
      "\n"
     ]
    },
    {
     "name": "stdout",
     "output_type": "stream",
     "text": [
      "['id', 'vendor_id', 'pickup_datetime', 'dropoff_datetime', 'passenger_count', 'pickup_longitude', 'pickup_latitude', 'dropoff_longitude', 'dropoff_latitude', 'store_and_fwd_flag', 'trip_duration', 'pickup_date', 'check_trip_duration', 'pickup_pca0', 'pickup_pca1', 'dropoff_pca0', 'dropoff_pca1', 'distance_haversine', 'distance_dummy_manhattan', 'direction', 'pca_manhattan', 'center_latitude', 'center_longitude', 'pickup_weekday', 'pickup_hour_weekofyear', 'pickup_hour', 'pickup_minute', 'pickup_dt', 'pickup_week_hour', 'week_delta', 'week_delta_sin', 'hour_sin', 'avg_speed_h', 'avg_speed_m', 'pickup_lat_bin', 'pickup_long_bin', 'center_lat_bin', 'center_long_bin', 'pickup_dt_bin', 'pickup_cluster', 'dropoff_cluster', 'log_trip_duration', 'avg_speed_h_gby_pickup_hour', 'avg_speed_m_gby_pickup_hour', 'log_trip_duration_gby_pickup_hour', 'avg_speed_h_gby_pickup_date', 'avg_speed_m_gby_pickup_date', 'log_trip_duration_gby_pickup_date', 'avg_speed_h_gby_pickup_dt_bin', 'avg_speed_m_gby_pickup_dt_bin', 'log_trip_duration_gby_pickup_dt_bin', 'avg_speed_h_gby_pickup_week_hour', 'avg_speed_m_gby_pickup_week_hour', 'log_trip_duration_gby_pickup_week_hour', 'avg_speed_h_gby_pickup_cluster', 'avg_speed_m_gby_pickup_cluster', 'log_trip_duration_gby_pickup_cluster', 'avg_speed_h_gby_dropoff_cluster', 'avg_speed_m_gby_dropoff_cluster', 'log_trip_duration_gby_dropoff_cluster', 'avg_speed_h_center_lat_bin_center_long_bin', 'cnt_center_lat_bin_center_long_bin', 'avg_speed_h_pickup_hour_center_lat_bin_center_long_bin', 'cnt_pickup_hour_center_lat_bin_center_long_bin', 'avg_speed_h_pickup_hour_pickup_cluster', 'cnt_pickup_hour_pickup_cluster', 'avg_speed_h_pickup_hour_dropoff_cluster', 'cnt_pickup_hour_dropoff_cluster', 'avg_speed_h_pickup_cluster_dropoff_cluster', 'cnt_pickup_cluster_dropoff_cluster']"
     ]
    },
    {
     "name": "stdout",
     "output_type": "stream",
     "text": [
      "\n"
     ]
    },
    {
     "name": "stdout",
     "output_type": "stream",
     "text": [
      "          id  vendor_id     pickup_datetime    dropoff_datetime  \\\n0  id2875421          2 2016-03-14 17:24:00 2016-03-14 17:32:00   \n1  id2377394          1 2016-06-12 00:43:00 2016-06-12 00:54:00   \n2  id3858529          2 2016-01-19 11:35:00 2016-01-19 12:10:00   \n\n   passenger_count  pickup_longitude  pickup_latitude  dropoff_longitude  \\\n0                1        -73.982155        40.767937         -73.964630   \n1                1        -73.980415        40.738564         -73.999481   \n2                1        -73.979027        40.763939         -74.005333   \n\n   dropoff_latitude  store_and_fwd_flag                 ...                  \\\n0         40.765602                   0                 ...                   \n1         40.731152                   0                 ...                   \n2         40.710087                   0                 ...                   \n\n   avg_speed_h_center_lat_bin_center_long_bin  \\\n0                                    3.581992   \n1                                    3.534788   \n2                                    3.402122   \n\n  cnt_center_lat_bin_center_long_bin  \\\n0                               2020   \n1                               1803   \n2                               2823   \n\n   avg_speed_h_pickup_hour_center_lat_bin_center_long_bin  \\\n0                                           3.045406        \n1                                           3.419741        \n2                                           3.025884        \n\n   cnt_pickup_hour_center_lat_bin_center_long_bin  \\\n0                                             146   \n1                                              90   \n2                                             126   \n\n   avg_speed_h_pickup_hour_pickup_cluster  cnt_pickup_hour_pickup_cluster  \\\n0                                2.923949                              65   \n1                                4.337967                              15   \n2                                2.968097                              50   \n\n   avg_speed_h_pickup_hour_dropoff_cluster  cnt_pickup_hour_dropoff_cluster  \\\n0                                 3.053126                               55   \n1                                 3.527114                               35   \n2                                 4.016249                               26   \n\n   avg_speed_h_pickup_cluster_dropoff_cluster  \\\n0                                    2.634277   \n1                                    2.512455   \n2                                    4.816015   \n\n   cnt_pickup_cluster_dropoff_cluster  \n0                                  20  \n1                                   7  \n2                                   3  \n\n[3 rows x 70 columns]"
     ]
    },
    {
     "name": "stdout",
     "output_type": "stream",
     "text": [
      "\n"
     ]
    }
   ],
   "source": [
    "print(list(test))\n",
    "print(\"\\n\")\n",
    "print(\"Train:\")\n",
    "print(list(train))\n",
    "print(train.head(3))\n"
   ]
  },
  {
   "cell_type": "code",
   "execution_count": 166,
   "metadata": {
    "collapsed": true
   },
   "outputs": [
    {
     "name": "stdout",
     "output_type": "stream",
     "text": [
      "          id  vendor_id     pickup_datetime    dropoff_datetime  \\\n0  id2875421          2 2016-03-14 17:24:00 2016-03-14 17:32:00   \n1  id2377394          1 2016-06-12 00:43:00 2016-06-12 00:54:00   \n2  id3858529          2 2016-01-19 11:35:00 2016-01-19 12:10:00   \n\n   passenger_count  pickup_longitude  pickup_latitude  dropoff_longitude  \\\n0                1        -73.982155        40.767937         -73.964630   \n1                1        -73.980415        40.738564         -73.999481   \n2                1        -73.979027        40.763939         -74.005333   \n\n   dropoff_latitude  store_and_fwd_flag          ...            \\\n0         40.765602                   0          ...             \n1         40.731152                   0          ...             \n2         40.710087                   0          ...             \n\n   cnt_center_lat_bin_center_long_bin  \\\n0                                2020   \n1                                1803   \n2                                2823   \n\n  avg_speed_h_pickup_hour_center_lat_bin_center_long_bin  \\\n0                                           3.045406       \n1                                           3.419741       \n2                                           3.025884       \n\n   cnt_pickup_hour_center_lat_bin_center_long_bin  \\\n0                                             146   \n1                                              90   \n2                                             126   \n\n   avg_speed_h_pickup_hour_pickup_cluster  cnt_pickup_hour_pickup_cluster  \\\n0                                2.923949                              65   \n1                                4.337967                              15   \n2                                2.968097                              50   \n\n   avg_speed_h_pickup_hour_dropoff_cluster  cnt_pickup_hour_dropoff_cluster  \\\n0                                 3.053126                               55   \n1                                 3.527114                               35   \n2                                 4.016249                               26   \n\n   avg_speed_h_pickup_cluster_dropoff_cluster  \\\n0                                    2.634277   \n1                                    2.512455   \n2                                    4.816015   \n\n   cnt_pickup_cluster_dropoff_cluster  pickup_datetime_group  \n0                                  20    2016-03-14 17:00:00  \n1                                   7    2016-06-12 01:00:00  \n2                                   3    2016-01-19 12:00:00  \n\n[3 rows x 71 columns]"
     ]
    },
    {
     "name": "stdout",
     "output_type": "stream",
     "text": [
      "\n"
     ]
    }
   ],
   "source": [
    "   \n",
    "group_freq = '60min'\n",
    "df_all = pd.concat((train, test))[['id', 'pickup_datetime', 'pickup_cluster', 'dropoff_cluster']]\n",
    "train.loc[:, 'pickup_datetime_group'] = train['pickup_datetime'].dt.round(group_freq)\n",
    "test.loc[:, 'pickup_datetime_group'] = test['pickup_datetime'].dt.round(group_freq)\n",
    "print(train.head(3))"
   ]
  },
  {
   "cell_type": "code",
   "execution_count": 167,
   "metadata": {
    "collapsed": true
   },
   "outputs": [
    {
     "name": "stdout",
     "output_type": "stream",
     "text": [
      "          id  vendor_id     pickup_datetime    dropoff_datetime  \\\n0  id2875421          2 2016-03-14 17:24:00 2016-03-14 17:32:00   \n1  id2377394          1 2016-06-12 00:43:00 2016-06-12 00:54:00   \n2  id3858529          2 2016-01-19 11:35:00 2016-01-19 12:10:00   \n\n   passenger_count  pickup_longitude  pickup_latitude  dropoff_longitude  \\\n0                1        -73.982155        40.767937         -73.964630   \n1                1        -73.980415        40.738564         -73.999481   \n2                1        -73.979027        40.763939         -74.005333   \n\n   dropoff_latitude  store_and_fwd_flag     ...       \\\n0         40.765602                   0     ...        \n1         40.731152                   0     ...        \n2         40.710087                   0     ...        \n\n   avg_speed_h_pickup_hour_center_lat_bin_center_long_bin  \\\n0                                           3.045406        \n1                                           3.419741        \n2                                           3.025884        \n\n  cnt_pickup_hour_center_lat_bin_center_long_bin  \\\n0                                            146   \n1                                             90   \n2                                            126   \n\n   avg_speed_h_pickup_hour_pickup_cluster  cnt_pickup_hour_pickup_cluster  \\\n0                                2.923949                              65   \n1                                4.337967                              15   \n2                                2.968097                              50   \n\n   avg_speed_h_pickup_hour_dropoff_cluster  cnt_pickup_hour_dropoff_cluster  \\\n0                                 3.053126                               55   \n1                                 3.527114                               35   \n2                                 4.016249                               26   \n\n   avg_speed_h_pickup_cluster_dropoff_cluster  \\\n0                                    2.634277   \n1                                    2.512455   \n2                                    4.816015   \n\n   cnt_pickup_cluster_dropoff_cluster  pickup_datetime_group  count_60min  \n0                                  20    2016-03-14 17:00:00        206.0  \n1                                   7    2016-06-12 01:00:00        201.0  \n2                                   3    2016-01-19 12:00:00        181.0  \n\n[3 rows x 72 columns]"
     ]
    },
    {
     "name": "stdout",
     "output_type": "stream",
     "text": [
      "\n"
     ]
    }
   ],
   "source": [
    "# Count trips over 60min\n",
    "df_counts = df_all.set_index('pickup_datetime')[['id']].sort_index()\n",
    "df_counts['count_60min'] = df_counts.isnull().rolling(group_freq).count()['id']\n",
    "train = train.merge(df_counts, on='id', how='left')\n",
    "test = test.merge(df_counts, on='id', how='left')\n",
    "print(train.head(3))"
   ]
  },
  {
   "cell_type": "code",
   "execution_count": 168,
   "metadata": {
    "collapsed": true
   },
   "outputs": [],
   "source": [
    "# Count how many trips are going to each cluster over time\n",
    "dropoff_counts = df_all \\\n",
    "    .set_index('pickup_datetime') \\\n",
    "    .groupby([pd.TimeGrouper(group_freq), 'dropoff_cluster']) \\\n",
    "    .agg({'id': 'count'}) \\\n",
    "    .reset_index().set_index('pickup_datetime') \\\n",
    "    .groupby('dropoff_cluster').rolling('240min').mean() \\\n",
    "    .drop('dropoff_cluster', axis=1) \\\n",
    "    .reset_index().set_index('pickup_datetime').shift(freq='-120min').reset_index() \\\n",
    "    .rename(columns={'pickup_datetime': 'pickup_datetime_group', 'id': 'dropoff_cluster_count'})"
   ]
  },
  {
   "cell_type": "code",
   "execution_count": 169,
   "metadata": {
    "collapsed": true
   },
   "outputs": [],
   "source": [
    "train['dropoff_cluster_count'] = train[['pickup_datetime_group', 'dropoff_cluster']].merge(dropoff_counts, on=['pickup_datetime_group', 'dropoff_cluster'], how='left')['dropoff_cluster_count'].fillna(0)\n",
    "test['dropoff_cluster_count'] = test[['pickup_datetime_group', 'dropoff_cluster']].merge(dropoff_counts, on=['pickup_datetime_group', 'dropoff_cluster'], how='left')['dropoff_cluster_count'].fillna(0)"
   ]
  },
  {
   "cell_type": "code",
   "execution_count": 170,
   "metadata": {
    "collapsed": true
   },
   "outputs": [],
   "source": [
    "# Count how many trips are going from each cluster over time\n",
    "df_all = pd.concat((train, test))[['id', 'pickup_datetime', 'pickup_cluster', 'dropoff_cluster']]\n",
    "pickup_counts = df_all \\\n",
    "    .set_index('pickup_datetime') \\\n",
    "    .groupby([pd.TimeGrouper(group_freq), 'pickup_cluster']) \\\n",
    "    .agg({'id': 'count'}) \\\n",
    "    .reset_index().set_index('pickup_datetime') \\\n",
    "    .groupby('pickup_cluster').rolling('240min').mean() \\\n",
    "    .drop('pickup_cluster', axis=1) \\\n",
    "    .reset_index().set_index('pickup_datetime').shift(freq='-120min').reset_index() \\\n",
    "    .rename(columns={'pickup_datetime': 'pickup_datetime_group', 'id': 'pickup_cluster_count'})"
   ]
  },
  {
   "cell_type": "code",
   "execution_count": 171,
   "metadata": {
    "collapsed": true
   },
   "outputs": [],
   "source": [
    "train['pickup_cluster_count'] = train[['pickup_datetime_group', 'pickup_cluster']].merge(pickup_counts, on=['pickup_datetime_group', 'pickup_cluster'], how='left')['pickup_cluster_count'].fillna(0)\n",
    "test['pickup_cluster_count'] = test[['pickup_datetime_group', 'pickup_cluster']].merge(pickup_counts, on=['pickup_datetime_group', 'pickup_cluster'], how='left')['pickup_cluster_count'].fillna(0)\n"
   ]
  },
  {
   "cell_type": "code",
   "execution_count": 172,
   "metadata": {
    "collapsed": true
   },
   "outputs": [],
   "source": [
    "# For this particular problem we can add OSRM ([Open Source Routing Machine](http://project-osrm.org/ \n",
    "# \"OSRM\")) features. This data contains the fastest routes from specific starting points in NY.\n",
    "\n",
    "fr1 = pd.read_csv('data/new-york-city-taxi-with-osrm/fastest_routes_train_part_1.csv',\n",
    "                  usecols=['id', 'total_distance', 'total_travel_time',  'number_of_steps'])\n",
    "\n",
    "fr2 = pd.read_csv('data/new-york-city-taxi-with-osrm/fastest_routes_train_part_2.csv',\n",
    "                  usecols=['id', 'total_distance', 'total_travel_time', 'number_of_steps'])\n",
    "\n",
    "test_street_info = pd.read_csv('data/new-york-city-taxi-with-osrm/fastest_routes_test.csv',\n",
    "                               usecols=['id', 'total_distance', 'total_travel_time', 'number_of_steps'])\n"
   ]
  },
  {
   "cell_type": "code",
   "execution_count": 173,
   "metadata": {
    "collapsed": true
   },
   "outputs": [
    {
     "name": "stdout",
     "output_type": "stream",
     "text": [
      "          id  vendor_id     pickup_datetime    dropoff_datetime  \\\n0  id2875421          2 2016-03-14 17:24:00 2016-03-14 17:32:00   \n1  id2377394          1 2016-06-12 00:43:00 2016-06-12 00:54:00   \n2  id3858529          2 2016-01-19 11:35:00 2016-01-19 12:10:00   \n\n   passenger_count  pickup_longitude  pickup_latitude  dropoff_longitude  \\\n0                1        -73.982155        40.767937         -73.964630   \n1                1        -73.980415        40.738564         -73.999481   \n2                1        -73.979027        40.763939         -74.005333   \n\n   dropoff_latitude  store_and_fwd_flag       ...         \\\n0         40.765602                   0       ...          \n1         40.731152                   0       ...          \n2         40.710087                   0       ...          \n\n   cnt_pickup_hour_dropoff_cluster avg_speed_h_pickup_cluster_dropoff_cluster  \\\n0                               55                                   2.634277   \n1                               35                                   2.512455   \n2                               26                                   4.816015   \n\n   cnt_pickup_cluster_dropoff_cluster  pickup_datetime_group  count_60min  \\\n0                                  20    2016-03-14 17:00:00        206.0   \n1                                   7    2016-06-12 01:00:00        201.0   \n2                                   3    2016-01-19 12:00:00        181.0   \n\n   dropoff_cluster_count  pickup_cluster_count  total_distance  \\\n0                   5.25                   5.5          2009.1   \n1                   2.25                   0.0          2513.2   \n2                   2.25                   6.0         11060.8   \n\n   total_travel_time  number_of_steps  \n0              164.9                5  \n1              332.0                6  \n2              767.6               16  \n\n[3 rows x 77 columns]"
     ]
    },
    {
     "name": "stdout",
     "output_type": "stream",
     "text": [
      "\n"
     ]
    }
   ],
   "source": [
    "train_street_info=pd.concat((fr1, fr2))\n",
    "train = train.merge(train_street_info, how='left', on='id')\n",
    "test = test.merge(test_street_info, how='left', on='id')\n",
    "print(train.head(3))"
   ]
  },
  {
   "cell_type": "code",
   "execution_count": 174,
   "metadata": {},
   "outputs": [
    {
     "name": "stdout",
     "output_type": "stream",
     "text": [
      "['avg_speed_h' 'avg_speed_m' 'check_trip_duration' 'dropoff_datetime'\n 'log_trip_duration' 'trip_duration']"
     ]
    },
    {
     "name": "stdout",
     "output_type": "stream",
     "text": [
      "\n"
     ]
    },
    {
     "name": "stdout",
     "output_type": "stream",
     "text": [
      "We have 62 features."
     ]
    },
    {
     "name": "stdout",
     "output_type": "stream",
     "text": [
      "\n"
     ]
    },
    {
     "name": "stdout",
     "output_type": "stream",
     "text": [
      "Feature extraction time: 243 seconds"
     ]
    },
    {
     "name": "stdout",
     "output_type": "stream",
     "text": [
      "\n"
     ]
    }
   ],
   "source": [
    "feature_names = list(train.columns)\n",
    "print(np.setdiff1d(train.columns, test.columns))\n",
    "do_not_use_for_training = ['id', 'log_trip_duration', 'pickup_datetime', 'dropoff_datetime', 'trip_duration', 'check_trip_duration',\n",
    "                           'pickup_date', 'avg_speed_h', 'avg_speed_m', 'pickup_lat_bin', 'pickup_long_bin',\n",
    "                           'center_lat_bin', 'center_long_bin', 'pickup_dt_bin', 'pickup_datetime_group']\n",
    "feature_names = [f for f in train.columns if f not in do_not_use_for_training]\n",
    "# print(feature_names)\n",
    "print('We have %i features.' % len(feature_names))\n",
    "train[feature_names].count()\n",
    "\n",
    "t1 = dt.datetime.now()\n",
    "print('Feature extraction time: %i seconds' % (t1 - t0).seconds)"
   ]
  },
  {
   "cell_type": "heading",
   "metadata": {},
   "level": 1,
   "source": [
    "Feature check before modeling"
   ]
  },
  {
   "cell_type": "code",
   "execution_count": 175,
   "metadata": {},
   "outputs": [
    {
     "data": {
      "text/html": [
       "<div>\n",
       "<style>\n",
       "    .dataframe thead tr:only-child th {\n",
       "        text-align: right;\n",
       "    }\n",
       "\n",
       "    .dataframe thead th {\n",
       "        text-align: left;\n",
       "    }\n",
       "\n",
       "    .dataframe tbody tr th {\n",
       "        vertical-align: top;\n",
       "    }\n",
       "</style>\n",
       "<table border=\"1\" class=\"dataframe\">\n",
       "  <thead>\n",
       "    <tr style=\"text-align: right;\">\n",
       "      <th></th>\n",
       "      <th>feature</th>\n",
       "      <th>train_test_mean_diff</th>\n",
       "    </tr>\n",
       "  </thead>\n",
       "  <tbody>\n",
       "    <tr>\n",
       "      <th>54</th>\n",
       "      <td>avg_speed_h_pickup_cluster_dropoff_cluster</td>\n",
       "      <td>0.031295</td>\n",
       "    </tr>\n",
       "    <tr>\n",
       "      <th>51</th>\n",
       "      <td>cnt_pickup_hour_pickup_cluster</td>\n",
       "      <td>0.037002</td>\n",
       "    </tr>\n",
       "    <tr>\n",
       "      <th>53</th>\n",
       "      <td>cnt_pickup_hour_dropoff_cluster</td>\n",
       "      <td>0.038800</td>\n",
       "    </tr>\n",
       "    <tr>\n",
       "      <th>48</th>\n",
       "      <td>avg_speed_h_pickup_hour_center_lat_bin_center_...</td>\n",
       "      <td>0.045448</td>\n",
       "    </tr>\n",
       "    <tr>\n",
       "      <th>6</th>\n",
       "      <td>store_and_fwd_flag</td>\n",
       "      <td>NaN</td>\n",
       "    </tr>\n",
       "  </tbody>\n",
       "</table>\n",
       "</div>"
      ],
      "text/plain": [
       "<div>\n",
       "<style>\n",
       "    .dataframe thead tr:only-child th {\n",
       "        text-align: right;\n",
       "    }\n",
       "\n",
       "    .dataframe thead th {\n",
       "        text-align: left;\n",
       "    }\n",
       "\n",
       "    .dataframe tbody tr th {\n",
       "        vertical-align: top;\n",
       "    }\n",
       "</style>\n",
       "<table border=\"1\" class=\"dataframe\">\n",
       "  <thead>\n",
       "    <tr style=\"text-align: right;\">\n",
       "      <th></th>\n",
       "      <th>feature</th>\n",
       "      <th>train_test_mean_diff</th>\n",
       "    </tr>\n",
       "  </thead>\n",
       "  <tbody>\n",
       "    <tr>\n",
       "      <th>54</th>\n",
       "      <td>avg_speed_h_pickup_cluster_dropoff_cluster</td>\n",
       "      <td>0.031295</td>\n",
       "    </tr>\n",
       "    <tr>\n",
       "      <th>51</th>\n",
       "      <td>cnt_pickup_hour_pickup_cluster</td>\n",
       "      <td>0.037002</td>\n",
       "    </tr>\n",
       "    <tr>\n",
       "      <th>53</th>\n",
       "      <td>cnt_pickup_hour_dropoff_cluster</td>\n",
       "      <td>0.038800</td>\n",
       "    </tr>\n",
       "    <tr>\n",
       "      <th>48</th>\n",
       "      <td>avg_speed_h_pickup_hour_center_lat_bin_center_...</td>\n",
       "      <td>0.045448</td>\n",
       "    </tr>\n",
       "    <tr>\n",
       "      <th>6</th>\n",
       "      <td>store_and_fwd_flag</td>\n",
       "      <td>NaN</td>\n",
       "    </tr>\n",
       "  </tbody>\n",
       "</table>\n",
       "</div>"
      ]
     },
     "execution_count": 175,
     "metadata": {},
     "output_type": "execute_result"
    }
   ],
   "source": [
    "feature_stats = pd.DataFrame({'feature': feature_names})\n",
    "\n",
    "feature_stats = pd.DataFrame({'feature': feature_names})\n",
    "feature_stats.loc[:, 'train_mean'] = np.nanmean(train[feature_names].values, axis=0).round(4)\n",
    "feature_stats.loc[:, 'test_mean'] = np.nanmean(test[feature_names].values, axis=0).round(4)\n",
    "feature_stats.loc[:, 'train_std'] = np.nanstd(train[feature_names].values, axis=0).round(4)\n",
    "feature_stats.loc[:, 'test_std'] = np.nanstd(test[feature_names].values, axis=0).round(4)\n",
    "feature_stats.loc[:, 'train_nan'] = np.mean(np.isnan(train[feature_names].values), axis=0).round(3)\n",
    "feature_stats.loc[:, 'test_nan'] = np.mean(np.isnan(test[feature_names].values), axis=0).round(3)\n",
    "feature_stats.loc[:, 'train_test_mean_diff'] = np.abs(feature_stats['train_mean'] - feature_stats['test_mean']) / np.abs(feature_stats['train_std'] + feature_stats['test_std'])  * 2\n",
    "feature_stats.loc[:, 'train_test_nan_diff'] = np.abs(feature_stats['train_nan'] - feature_stats['test_nan'])\n",
    "feature_stats = feature_stats.sort_values(by='train_test_mean_diff')\n",
    "feature_stats[['feature', 'train_test_mean_diff']].tail()\n"
   ]
  },
  {
   "cell_type": "heading",
   "metadata": {},
   "level": 1,
   "source": [
    "Train a simple classifier:"
   ]
  },
  {
   "cell_type": "heading",
   "metadata": {},
   "level": 2,
   "source": [
    "use the TPOT package to handle the cross validation and hyperparameters"
   ]
  },
  {
   "cell_type": "code",
   "execution_count": 176,
   "metadata": {},
   "outputs": [],
   "source": [
    "from tpot import TPOTRegressor\n",
    "auto_classifier = TPOTRegressor(generations=3, population_size=9, verbosity=2)\n",
    "from sklearn.model_selection import train_test_split"
   ]
  },
  {
   "cell_type": "code",
   "execution_count": 177,
   "metadata": {
    "collapsed": true
   },
   "outputs": [
    {
     "name": "stdout",
     "output_type": "stream",
     "text": [
      "feature names:\n"
     ]
    },
    {
     "name": "stdout",
     "output_type": "stream",
     "text": [
      " "
     ]
    },
    {
     "name": "stdout",
     "output_type": "stream",
     "text": [
      "['vendor_id', 'passenger_count', 'pickup_longitude', 'pickup_latitude', 'dropoff_longitude', 'dropoff_latitude', 'store_and_fwd_flag', 'pickup_pca0', 'pickup_pca1', 'dropoff_pca0', 'dropoff_pca1', 'distance_haversine', 'distance_dummy_manhattan', 'direction', 'pca_manhattan', 'center_latitude', 'center_longitude', 'pickup_weekday', 'pickup_hour_weekofyear', 'pickup_hour', 'pickup_minute', 'pickup_dt', 'pickup_week_hour', 'week_delta', 'week_delta_sin', 'hour_sin', 'pickup_cluster', 'dropoff_cluster', 'avg_speed_h_gby_pickup_hour', 'avg_speed_m_gby_pickup_hour', 'log_trip_duration_gby_pickup_hour', 'avg_speed_h_gby_pickup_date', 'avg_speed_m_gby_pickup_date', 'log_trip_duration_gby_pickup_date', 'avg_speed_h_gby_pickup_dt_bin', 'avg_speed_m_gby_pickup_dt_bin', 'log_trip_duration_gby_pickup_dt_bin', 'avg_speed_h_gby_pickup_week_hour', 'avg_speed_m_gby_pickup_week_hour', 'log_trip_duration_gby_pickup_week_hour', 'avg_speed_h_gby_pickup_cluster', 'avg_speed_m_gby_pickup_cluster', 'log_trip_duration_gby_pickup_cluster', 'avg_speed_h_gby_dropoff_cluster', 'avg_speed_m_gby_dropoff_cluster', 'log_trip_duration_gby_dropoff_cluster', 'avg_speed_h_center_lat_bin_center_long_bin', 'cnt_center_lat_bin_center_long_bin', 'avg_speed_h_pickup_hour_center_lat_bin_center_long_bin', 'cnt_pickup_hour_center_lat_bin_center_long_bin', 'avg_speed_h_pickup_hour_pickup_cluster', 'cnt_pickup_hour_pickup_cluster', 'avg_speed_h_pickup_hour_dropoff_cluster', 'cnt_pickup_hour_dropoff_cluster', 'avg_speed_h_pickup_cluster_dropoff_cluster', 'cnt_pickup_cluster_dropoff_cluster', 'count_60min', 'dropoff_cluster_count', 'pickup_cluster_count', 'total_distance', 'total_travel_time', 'number_of_steps']"
     ]
    },
    {
     "name": "stdout",
     "output_type": "stream",
     "text": [
      "\n"
     ]
    },
    {
     "name": "stdout",
     "output_type": "stream",
     "text": [
      "x:\n"
     ]
    },
    {
     "name": "stdout",
     "output_type": "stream",
     "text": [
      " "
     ]
    },
    {
     "name": "stdout",
     "output_type": "stream",
     "text": [
      "[[  2.00000000e+00   1.00000000e+00  -7.39821549e+01 ...,   2.00910000e+03\n    1.64900000e+02   5.00000000e+00]\n [  1.00000000e+00   1.00000000e+00  -7.39804153e+01 ...,   2.51320000e+03\n    3.32000000e+02   6.00000000e+00]\n [  2.00000000e+00   1.00000000e+00  -7.39790268e+01 ...,   1.10608000e+04\n    7.67600000e+02   1.60000000e+01]\n ..., \n [  1.00000000e+00   1.00000000e+00  -7.39679794e+01 ...,   5.20500000e+03\n    5.20000000e+02   6.00000000e+00]\n [  2.00000000e+00   2.00000000e+00  -7.37767410e+01 ...,   1.89727000e+04\n    1.17050000e+03   1.70000000e+01]\n [  1.00000000e+00   2.00000000e+00  -7.40147934e+01 ...,   3.93740000e+03\n    4.24700000e+02   6.00000000e+00]]"
     ]
    },
    {
     "name": "stdout",
     "output_type": "stream",
     "text": [
      "\n"
     ]
    },
    {
     "name": "stdout",
     "output_type": "stream",
     "text": [
      "y:\n"
     ]
    },
    {
     "name": "stdout",
     "output_type": "stream",
     "text": [
      " "
     ]
    },
    {
     "name": "stdout",
     "output_type": "stream",
     "text": [
      "[ 6.12249281  6.49828215  7.66152708 ...,  6.85856503  7.47363711\n  6.42162227]"
     ]
    },
    {
     "name": "stdout",
     "output_type": "stream",
     "text": [
      "\n"
     ]
    },
    {
     "name": "stdout",
     "output_type": "stream",
     "text": [
      "KFold(n_splits=10, random_state=None, shuffle=False)"
     ]
    },
    {
     "name": "stdout",
     "output_type": "stream",
     "text": [
      "\n"
     ]
    }
   ],
   "source": [
    "# Split the training data to train and validate\n",
    "\n",
    "# K Fold Cross Validation\n",
    "from sklearn.model_selection import KFold\n",
    "\n",
    "X = train[feature_names].values\n",
    "y = np.log(train['trip_duration'].values + 1) \n",
    "\n",
    "kf = KFold(n_splits=10)\n",
    "kf.get_n_splits(X)\n",
    "\n",
    "print(\"feature names:\\n\", feature_names)\n",
    "print(\"x:\\n\",X)\n",
    "print(\"y:\\n\",y)\n",
    "print(kf)  \n"
   ]
  },
  {
   "cell_type": "code",
   "execution_count": 40,
   "metadata": {},
   "outputs": [
    {
     "name": "stdout",
     "output_type": "stream",
     "text": [
      "TRAIN: [ 5000  5001  5002 ..., 49997 49998 49999] TEST: [   0    1    2 ..., 4997 4998 4999]\n",
      "TRAIN: [    0     1     2 ..., 49997 49998 49999] TEST: [5000 5001 5002 ..., 9997 9998 9999]\n",
      "TRAIN: [    0     1     2 ..., 49997 49998 49999] TEST: [10000 10001 10002 ..., 14997 14998 14999]\n",
      "TRAIN: [    0     1     2 ..., 49997 49998 49999] TEST: [15000 15001 15002 ..., 19997 19998 19999]\n",
      "TRAIN: [    0     1     2 ..., 49997 49998 49999] TEST: [20000 20001 20002 ..., 24997 24998 24999]\n",
      "TRAIN: [    0     1     2 ..., 49997 49998 49999] TEST: [25000 25001 25002 ..., 29997 29998 29999]\n",
      "TRAIN: [    0     1     2 ..., 49997 49998 49999] TEST: [30000 30001 30002 ..., 34997 34998 34999]\n",
      "TRAIN: [    0     1     2 ..., 49997 49998 49999] TEST: [35000 35001 35002 ..., 39997 39998 39999]\n",
      "TRAIN: [    0     1     2 ..., 49997 49998 49999] TEST: [40000 40001 40002 ..., 44997 44998 44999]\n",
      "TRAIN: [    0     1     2 ..., 44997 44998 44999] TEST: [45000 45001 45002 ..., 49997 49998 49999]\n"
     ]
    }
   ],
   "source": [
    "KFold(n_splits=10, random_state=None, shuffle=False)\n",
    "for train_index, test_index in kf.split(X):\n",
    "    print(\"TRAIN:\", train_index, \"TEST:\", test_index)\n",
    "    X_train, X_valid = X[train_index], X[test_index]\n",
    "    y_train, y_valid = y[train_index], y[test_index]"
   ]
  },
  {
   "cell_type": "code",
   "execution_count": 44,
   "metadata": {},
   "outputs": [
    {
     "name": "stderr",
     "output_type": "stream",
     "text": [
      "                                                                              \r"
     ]
    },
    {
     "name": "stdout",
     "output_type": "stream",
     "text": [
      "Generation 1 - Current best internal CV score: -0.1527826655977636\n"
     ]
    },
    {
     "name": "stderr",
     "output_type": "stream",
     "text": [
      "                                                                            \r"
     ]
    },
    {
     "name": "stdout",
     "output_type": "stream",
     "text": [
      "Generation 2 - Current best internal CV score: -0.1527826655977636\n"
     ]
    },
    {
     "name": "stderr",
     "output_type": "stream",
     "text": [
      "                                                                            \r"
     ]
    },
    {
     "name": "stdout",
     "output_type": "stream",
     "text": [
      "Generation 3 - Current best internal CV score: -0.1527826655977636\n"
     ]
    },
    {
     "name": "stderr",
     "output_type": "stream",
     "text": [
      "                                                           \r"
     ]
    },
    {
     "name": "stdout",
     "output_type": "stream",
     "text": [
      "\n",
      "Best pipeline: RandomForestRegressor(input_matrix, bootstrap=False, max_features=0.35, min_samples_leaf=13, min_samples_split=12, n_estimators=100)\n"
     ]
    },
    {
     "data": {
      "text/plain": [
       "TPOTRegressor(config_dict={'sklearn.linear_model.ElasticNetCV': {'l1_ratio': array([ 0.  ,  0.05,  0.1 ,  0.15,  0.2 ,  0.25,  0.3 ,  0.35,  0.4 ,\n",
       "        0.45,  0.5 ,  0.55,  0.6 ,  0.65,  0.7 ,  0.75,  0.8 ,  0.85,\n",
       "        0.9 ,  0.95,  1.  ]), 'tol': [1e-05, 0.0001, 0.001, 0.01, 0.1]}, 'sklearn.ensemble.ExtraT....45,\n",
       "        0.5 ,  0.55,  0.6 ,  0.65,  0.7 ,  0.75,  0.8 ,  0.85,  0.9 ,\n",
       "        0.95,  1.  ])}}}},\n",
       "       crossover_rate=0.1, cv=5, disable_update_check=False,\n",
       "       early_stop=None, generations=3, max_eval_time_mins=5,\n",
       "       max_time_mins=None, memory=None, mutation_rate=0.9, n_jobs=1,\n",
       "       offspring_size=9, periodic_checkpoint_folder=None,\n",
       "       population_size=9, random_state=None, scoring=None, subsample=1.0,\n",
       "       verbosity=2, warm_start=False)"
      ]
     },
     "execution_count": 43,
     "metadata": {},
     "output_type": "execute_result"
    }
   ],
   "source": [
    "auto_classifier.fit(X_train, y_train)"
   ]
  },
  {
   "cell_type": "code",
   "execution_count": 42,
   "metadata": {
    "collapsed": true
   },
   "outputs": [
    {
     "name": "stdout",
     "output_type": "stream",
     "text": [
      "['vendor_id', 'passenger_count', 'pickup_longitude', 'pickup_latitude', 'dropoff_longitude', 'dropoff_latitude', 'store_and_fwd_flag', 'pickup_pca0', 'pickup_pca1', 'dropoff_pca0', 'dropoff_pca1', 'distance_haversine', 'distance_dummy_manhattan', 'direction', 'pca_manhattan', 'center_latitude', 'center_longitude', 'pickup_weekday', 'pickup_hour_weekofyear', 'pickup_hour', 'pickup_minute', 'pickup_dt', 'pickup_week_hour', 'week_delta', 'week_delta_sin', 'hour_sin', 'pickup_cluster', 'dropoff_cluster', 'avg_speed_h_gby_pickup_hour', 'avg_speed_m_gby_pickup_hour', 'log_trip_duration_gby_pickup_hour', 'avg_speed_h_gby_pickup_date', 'avg_speed_m_gby_pickup_date', 'log_trip_duration_gby_pickup_date', 'avg_speed_h_gby_pickup_dt_bin', 'avg_speed_m_gby_pickup_dt_bin', 'log_trip_duration_gby_pickup_dt_bin', 'avg_speed_h_gby_pickup_week_hour', 'avg_speed_m_gby_pickup_week_hour', 'log_trip_duration_gby_pickup_week_hour', 'avg_speed_h_gby_pickup_cluster', 'avg_speed_m_gby_pickup_cluster', 'log_trip_duration_gby_pickup_cluster', 'avg_speed_h_gby_dropoff_cluster', 'avg_speed_m_gby_dropoff_cluster', 'log_trip_duration_gby_dropoff_cluster', 'avg_speed_h_center_lat_bin_center_long_bin', 'cnt_center_lat_bin_center_long_bin', 'avg_speed_h_pickup_hour_center_lat_bin_center_long_bin', 'cnt_pickup_hour_center_lat_bin_center_long_bin', 'avg_speed_h_pickup_hour_pickup_cluster', 'cnt_pickup_hour_pickup_cluster', 'avg_speed_h_pickup_hour_dropoff_cluster', 'cnt_pickup_hour_dropoff_cluster', 'avg_speed_h_pickup_cluster_dropoff_cluster', 'cnt_pickup_cluster_dropoff_cluster', 'count_60min', 'dropoff_cluster_count', 'pickup_cluster_count', 'total_distance', 'total_travel_time', 'number_of_steps']\n",
      "   vendor_id  passenger_count  pickup_longitude  pickup_latitude  \\\n",
      "0          1                1        -73.988129        40.732029   \n",
      "1          1                1        -73.964203        40.679993   \n",
      "2          1                1        -73.997437        40.737583   \n",
      "3          2                1        -73.956070        40.771900   \n",
      "4          1                1        -73.970215        40.761475   \n",
      "\n",
      "   dropoff_longitude  dropoff_latitude  store_and_fwd_flag  pickup_pca0  \\\n",
      "0         -73.990173         40.756680                   0     0.016106   \n",
      "1         -73.959808         40.655403                   0    -0.003569   \n",
      "2         -73.986160         40.729523                   0     0.024939   \n",
      "3         -73.986427         40.730469                   0    -0.019047   \n",
      "4         -73.961510         40.755890                   0    -0.004111   \n",
      "\n",
      "   pickup_pca1  dropoff_pca0       ...         \\\n",
      "0    -0.018128      0.016167       ...          \n",
      "1    -0.071915     -0.005977       ...          \n",
      "2    -0.011845      0.014345       ...          \n",
      "3     0.019044      0.014536       ...          \n",
      "4     0.009786     -0.012341       ...          \n",
      "\n",
      "   avg_speed_h_pickup_hour_dropoff_cluster  cnt_pickup_hour_dropoff_cluster  \\\n",
      "0                                 3.888803                             34.0   \n",
      "1                                 5.690364                             12.0   \n",
      "2                                 3.915602                             76.0   \n",
      "3                                 3.915602                             76.0   \n",
      "4                                 4.230023                             32.0   \n",
      "\n",
      "   avg_speed_h_pickup_cluster_dropoff_cluster  \\\n",
      "0                                    2.598968   \n",
      "1                                    5.172133   \n",
      "2                                    2.814648   \n",
      "3                                    5.586393   \n",
      "4                                    2.322195   \n",
      "\n",
      "   cnt_pickup_cluster_dropoff_cluster  count_60min  dropoff_cluster_count  \\\n",
      "0                                11.0        212.0                    0.0   \n",
      "1                                 4.0        211.0                    0.0   \n",
      "2                                47.0        210.0                    0.0   \n",
      "3                                 7.0        209.0                    0.0   \n",
      "4                                38.0        214.0                    0.0   \n",
      "\n",
      "   pickup_cluster_count  total_distance  total_travel_time  number_of_steps  \n",
      "0                   0.0          3795.9              424.6                4  \n",
      "1                   0.0          2904.5              200.0                4  \n",
      "2                   0.0          1499.5              193.2                4  \n",
      "3                   0.0          7023.9              494.8               11  \n",
      "4                   0.0          1108.2              103.2                4  \n",
      "\n",
      "[5 rows x 62 columns]\n"
     ]
    }
   ],
   "source": [
    "print(feature_names)\n",
    "print(test[feature_names].head(5))\n",
    "test[feature_names].to_csv('NYCTaxi_DataTest.csv', index=False)"
   ]
  },
  {
   "cell_type": "code",
   "execution_count": 42,
   "metadata": {},
   "outputs": [
    {
     "ename": "RuntimeError",
     "evalue": "A pipeline has not yet been optimized. Please call fit() first.",
     "traceback": [
      "\u001b[1;31m---------------------------------------------------------------------------\u001b[0m",
      "\u001b[1;31mRuntimeError\u001b[0m                              Traceback (most recent call last)",
      "\u001b[1;32m<ipython-input-42-eede3433116a>\u001b[0m in \u001b[0;36m<module>\u001b[1;34m()\u001b[0m\n\u001b[1;32m----> 1\u001b[1;33m \u001b[0mtest_result\u001b[0m \u001b[1;33m=\u001b[0m \u001b[0mauto_classifier\u001b[0m\u001b[1;33m.\u001b[0m\u001b[0mpredict\u001b[0m\u001b[1;33m(\u001b[0m\u001b[0mtest\u001b[0m\u001b[1;33m[\u001b[0m\u001b[0mfeature_names\u001b[0m\u001b[1;33m]\u001b[0m\u001b[1;33m.\u001b[0m\u001b[0mvalues\u001b[0m\u001b[1;33m)\u001b[0m\u001b[1;33m\u001b[0m\u001b[0m\n\u001b[0m\u001b[0;32m      2\u001b[0m \u001b[0msub\u001b[0m \u001b[1;33m=\u001b[0m \u001b[0mpd\u001b[0m\u001b[1;33m.\u001b[0m\u001b[0mDataFrame\u001b[0m\u001b[1;33m(\u001b[0m\u001b[1;33m)\u001b[0m\u001b[1;33m\u001b[0m\u001b[0m\n\u001b[0;32m      3\u001b[0m \u001b[0msub\u001b[0m\u001b[1;33m[\u001b[0m\u001b[1;34m'id'\u001b[0m\u001b[1;33m]\u001b[0m \u001b[1;33m=\u001b[0m \u001b[0mtest\u001b[0m\u001b[1;33m[\u001b[0m\u001b[1;34m'id'\u001b[0m\u001b[1;33m]\u001b[0m\u001b[1;33m\u001b[0m\u001b[0m\n\u001b[0;32m      4\u001b[0m \u001b[0msub\u001b[0m\u001b[1;33m[\u001b[0m\u001b[1;34m'trip_duration'\u001b[0m\u001b[1;33m]\u001b[0m \u001b[1;33m=\u001b[0m \u001b[0mnp\u001b[0m\u001b[1;33m.\u001b[0m\u001b[0mexp\u001b[0m\u001b[1;33m(\u001b[0m\u001b[0mtest_result\u001b[0m\u001b[1;33m)\u001b[0m\u001b[1;33m\u001b[0m\u001b[0m\n\u001b[0;32m      5\u001b[0m \u001b[0msub\u001b[0m\u001b[1;33m[\u001b[0m\u001b[1;34m'pickup_weekday'\u001b[0m\u001b[1;33m]\u001b[0m\u001b[1;33m=\u001b[0m\u001b[0mtest\u001b[0m\u001b[1;33m[\u001b[0m\u001b[1;34m'pickup_weekday'\u001b[0m\u001b[1;33m]\u001b[0m\u001b[1;33m\u001b[0m\u001b[0m\n",
      "\u001b[1;32mC:\\Anaconda3\\lib\\site-packages\\tpot\\base.py\u001b[0m in \u001b[0;36mpredict\u001b[1;34m(self, features)\u001b[0m\n\u001b[0;32m    798\u001b[0m         \"\"\"\n\u001b[0;32m    799\u001b[0m         \u001b[1;32mif\u001b[0m \u001b[1;32mnot\u001b[0m \u001b[0mself\u001b[0m\u001b[1;33m.\u001b[0m\u001b[0mfitted_pipeline_\u001b[0m\u001b[1;33m:\u001b[0m\u001b[1;33m\u001b[0m\u001b[0m\n\u001b[1;32m--> 800\u001b[1;33m             \u001b[1;32mraise\u001b[0m \u001b[0mRuntimeError\u001b[0m\u001b[1;33m(\u001b[0m\u001b[1;34m'A pipeline has not yet been optimized. Please call fit() first.'\u001b[0m\u001b[1;33m)\u001b[0m\u001b[1;33m\u001b[0m\u001b[0m\n\u001b[0m\u001b[0;32m    801\u001b[0m \u001b[1;33m\u001b[0m\u001b[0m\n\u001b[0;32m    802\u001b[0m         \u001b[0mfeatures\u001b[0m \u001b[1;33m=\u001b[0m \u001b[0mfeatures\u001b[0m\u001b[1;33m.\u001b[0m\u001b[0mastype\u001b[0m\u001b[1;33m(\u001b[0m\u001b[0mnp\u001b[0m\u001b[1;33m.\u001b[0m\u001b[0mfloat64\u001b[0m\u001b[1;33m)\u001b[0m\u001b[1;33m\u001b[0m\u001b[0m\n",
      "\u001b[1;31mRuntimeError\u001b[0m: A pipeline has not yet been optimized. Please call fit() first."
     ],
     "output_type": "error"
    }
   ],
   "source": [
    "test_result = auto_classifier.predict(test[feature_names].values)\n",
    "sub = pd.DataFrame()\n",
    "sub['id'] = test['id']\n",
    "sub['trip_duration'] = np.exp(test_result)\n",
    "sub['pickup_weekday']=test['pickup_weekday']\n",
    "sub.to_csv('NYCTaxi_TpotModels.csv', index=False)\n",
    "sub.head()\n",
    "      \n",
    "auto_classifier.export('NYCTaxi_TPOTpipelineResult.py')"
   ]
  },
  {
   "cell_type": "code",
   "execution_count": null,
   "metadata": {
    "collapsed": true
   },
   "outputs": [],
   "source": [
    "from sklearn.ensemble import RandomForestRegressor\n",
    "from sklearn import cross_validation, metrics\n",
    "\n",
    "exported_pipeline = RandomForestRegressor(bootstrap=False, max_features=0.35000000000000003, min_samples_leaf=13, min_samples_split=12, n_estimators=100)\n",
    "\n",
    "exported_pipeline.fit(X_train, y_train)\n",
    "results = exported_pipeline.predict(X_valid)\n",
    "\n"
   ]
  },
  {
   "cell_type": "code",
   "execution_count": 178,
   "metadata": {
    "collapsed": true
   },
   "outputs": [
    {
     "name": "stdout",
     "output_type": "stream",
     "text": [
      "vendor_id                                                 False\npassenger_count                                           False\npickup_longitude                                          False\npickup_latitude                                           False\ndropoff_longitude                                         False\ndropoff_latitude                                          False\nstore_and_fwd_flag                                        False\npickup_pca0                                               False\npickup_pca1                                               False\ndropoff_pca0                                              False\ndropoff_pca1                                              False\ndistance_haversine                                        False\ndistance_dummy_manhattan                                  False\ndirection                                                 False\npca_manhattan                                             False\ncenter_latitude                                           False\ncenter_longitude                                          False\npickup_weekday                                            False\npickup_hour_weekofyear                                    False\npickup_hour                                               False\npickup_minute                                             False\npickup_dt                                                 False\npickup_week_hour                                          False\nweek_delta                                                False\nweek_delta_sin                                            False\nhour_sin                                                  False\npickup_cluster                                            False\ndropoff_cluster                                           False\navg_speed_h_gby_pickup_hour                               False\navg_speed_m_gby_pickup_hour                               False\n                                                          ...  \navg_speed_m_gby_pickup_date                               False\nlog_trip_duration_gby_pickup_date                         False\navg_speed_h_gby_pickup_dt_bin                             False\navg_speed_m_gby_pickup_dt_bin                             False\nlog_trip_duration_gby_pickup_dt_bin                       False\navg_speed_h_gby_pickup_week_hour                          False\navg_speed_m_gby_pickup_week_hour                          False\nlog_trip_duration_gby_pickup_week_hour                    False\navg_speed_h_gby_pickup_cluster                            False\navg_speed_m_gby_pickup_cluster                            False\nlog_trip_duration_gby_pickup_cluster                      False\navg_speed_h_gby_dropoff_cluster                           False\navg_speed_m_gby_dropoff_cluster                           False\nlog_trip_duration_gby_dropoff_cluster                     False\navg_speed_h_center_lat_bin_center_long_bin                 True\ncnt_center_lat_bin_center_long_bin                         True\navg_speed_h_pickup_hour_center_lat_bin_center_long_bin     True\ncnt_pickup_hour_center_lat_bin_center_long_bin             True\navg_speed_h_pickup_hour_pickup_cluster                     True\ncnt_pickup_hour_pickup_cluster                             True\navg_speed_h_pickup_hour_dropoff_cluster                    True\ncnt_pickup_hour_dropoff_cluster                            True\navg_speed_h_pickup_cluster_dropoff_cluster                 True\ncnt_pickup_cluster_dropoff_cluster                         True\ncount_60min                                               False\ndropoff_cluster_count                                     False\npickup_cluster_count                                      False\ntotal_distance                                            False\ntotal_travel_time                                         False\nnumber_of_steps                                           False\nLength: 62, dtype: bool"
     ]
    },
    {
     "name": "stdout",
     "output_type": "stream",
     "text": [
      "\n"
     ]
    }
   ],
   "source": [
    "trainDF = pd.read_csv('NYCTaxi_DataTest.csv', nrows=10000)\n",
    "print(trainDF.isnull().any())"
   ]
  },
  {
   "cell_type": "code",
   "execution_count": 179,
   "metadata": {
    "collapsed": true
   },
   "outputs": [],
   "source": [
    "#Fill nan of columns:\n",
    "trainDF['avg_speed_h_center_lat_bin_center_long_bin'].fillna((trainDF['avg_speed_h_center_lat_bin_center_long_bin'].mean()), inplace=True)\n",
    "trainDF['cnt_center_lat_bin_center_long_bin'].fillna((trainDF['cnt_center_lat_bin_center_long_bin'].mean()), inplace=True)\n",
    "trainDF['avg_speed_h_pickup_hour_center_lat_bin_center_long_bin'].fillna((trainDF['avg_speed_h_pickup_hour_center_lat_bin_center_long_bin'].mean()), inplace=True)\n",
    "trainDF['cnt_pickup_hour_center_lat_bin_center_long_bin'].fillna((trainDF['cnt_pickup_hour_center_lat_bin_center_long_bin'].mean()), inplace=True)\n",
    "trainDF['avg_speed_h_pickup_hour_pickup_cluster'].fillna((trainDF['avg_speed_h_pickup_hour_pickup_cluster'].mean()), inplace=True)\n",
    "trainDF['cnt_pickup_hour_pickup_cluster'].fillna((trainDF['cnt_pickup_hour_pickup_cluster'].mean()), inplace=True)\n",
    "trainDF['avg_speed_h_pickup_hour_dropoff_cluster'].fillna((trainDF['avg_speed_h_pickup_hour_dropoff_cluster'].mean()), inplace=True)\n",
    "trainDF['cnt_pickup_hour_dropoff_cluster'].fillna((trainDF['cnt_pickup_hour_dropoff_cluster'].mean()), inplace=True)\n",
    "trainDF['avg_speed_h_pickup_cluster_dropoff_cluster'].fillna((trainDF['avg_speed_h_pickup_cluster_dropoff_cluster'].mean()), inplace=True)\n",
    "trainDF['cnt_pickup_cluster_dropoff_cluster'].fillna((trainDF['cnt_pickup_cluster_dropoff_cluster'].mean()), inplace=True)\n"
   ]
  },
  {
   "cell_type": "markdown",
   "metadata": {},
   "source": [
    "#  Animation the map with time changing:"
   ]
  },
  {
   "cell_type": "code",
   "execution_count": 180,
   "metadata": {},
   "outputs": [
    {
     "data": {
      "text/html": [
       "\n",
       "    <div class=\"bk-root\">\n",
       "        <a href=\"https://bokeh.pydata.org\" target=\"_blank\" class=\"bk-logo bk-logo-small bk-logo-notebook\"></a>\n",
       "        <span id=\"b3de4d91-9f7a-4c6d-9c73-5164022a3013\">Loading BokehJS ...</span>\n",
       "    </div>"
      ],
      "text/plain": [
       "\n",
       "    <div class=\"bk-root\">\n",
       "        <a href=\"https://bokeh.pydata.org\" target=\"_blank\" class=\"bk-logo bk-logo-small bk-logo-notebook\"></a>\n",
       "        <span id=\"b3de4d91-9f7a-4c6d-9c73-5164022a3013\">Loading BokehJS ...</span>\n",
       "    </div>"
      ]
     },
     "execution_count": 0,
     "metadata": {},
     "output_type": "execute_result"
    },
    {
     "data": {
      "text/html": [
       "\n",
       "    <div class=\"bk-root\">\n",
       "        <a href=\"https://bokeh.pydata.org\" target=\"_blank\" class=\"bk-logo bk-logo-small bk-logo-notebook\"></a>\n",
       "        <span id=\"b3de4d91-9f7a-4c6d-9c73-5164022a3013\">Loading BokehJS ...</span>\n",
       "    </div>"
      ],
      "text/plain": [
       "\n",
       "    <div class=\"bk-root\">\n",
       "        <a href=\"https://bokeh.pydata.org\" target=\"_blank\" class=\"bk-logo bk-logo-small bk-logo-notebook\"></a>\n",
       "        <span id=\"b3de4d91-9f7a-4c6d-9c73-5164022a3013\">Loading BokehJS ...</span>\n",
       "    </div>"
      ]
     },
     "execution_count": 0,
     "metadata": {},
     "output_type": "execute_result"
    }
   ],
   "source": [
    "import pandas as pd  #pandas for using dataframe and reading csv \n",
    "import numpy as np   #numpy for vector operations and basic maths \n",
    "#import simplejson    #getting JSON in simplified format\n",
    "import urllib        #for url stuff\n",
    "#import gmaps       #for using google maps to visulalize places on maps\n",
    "import re            #for processing regular expressions\n",
    "import datetime      #for datetime operations\n",
    "import calendar      #for calendar for datetime operations\n",
    "import time          #to get the system time\n",
    "import scipy         #for other dependancies\n",
    "from sklearn.cluster import KMeans # for doing K-means clustering\n",
    "from haversine import haversine # for calculating haversine distance\n",
    "import math          #for basic maths operations\n",
    "import seaborn as sns #for making plots\n",
    "import matplotlib.pyplot as plt # for plotting\n",
    "import os  # for os commands\n",
    "# from scipy.misc import imread, imresize, imsave  # for plots \n",
    "import plotly.plotly as py\n",
    "import plotly.graph_objs as go\n",
    "import plotly\n",
    "from bokeh.palettes import Spectral4\n",
    "from bokeh.plotting import figure, output_notebook, show\n",
    "from IPython.display import HTML\n",
    "from matplotlib.pyplot import *\n",
    "from matplotlib import cm\n",
    "from matplotlib import animation\n",
    "import io\n",
    "import base64\n",
    "output_notebook()\n",
    "plotly.offline.init_notebook_mode() # run at the start of every ipython notebook"
   ]
  },
  {
   "cell_type": "code",
   "execution_count": 181,
   "metadata": {},
   "outputs": [
    {
     "name": "stdout",
     "output_type": "stream",
     "text": [
      "Time taken: 49.009607553482056."
     ]
    },
    {
     "name": "stdout",
     "output_type": "stream",
     "text": [
      "\n"
     ]
    }
   ],
   "source": [
    "s = time.time()\n",
    "train_fr_1 = pd.read_csv('data/new-york-city-taxi-with-osrm/fastest_routes_train_part_1.csv')\n",
    "train_fr_2 = pd.read_csv('data/new-york-city-taxi-with-osrm/fastest_routes_train_part_2.csv')\n",
    "train_fr = pd.concat([train_fr_1, train_fr_2])\n",
    "train_fr_new = train_fr[['id', 'total_distance', 'total_travel_time', 'number_of_steps']]\n",
    "\n",
    "train_df = pd.read_csv('data/new-york-city-taxi-with-osrm/train.csv')\n",
    "train = pd.merge(train_df, train_fr_new, on = 'id', how = 'left')\n",
    "train_df = train.copy()\n",
    "end = time.time()\n",
    "print(\"Time taken: {}.\".format((end-s)))"
   ]
  },
  {
   "cell_type": "code",
   "execution_count": 182,
   "metadata": {},
   "outputs": [
    {
     "name": "stdout",
     "output_type": "stream",
     "text": [
      "Respectively, number of columns and rows and columns are 14 and 1458644 ."
     ]
    },
    {
     "name": "stdout",
     "output_type": "stream",
     "text": [
      "\n"
     ]
    },
    {
     "name": "stdout",
     "output_type": "stream",
     "text": [
      "Train ids are unique"
     ]
    },
    {
     "name": "stdout",
     "output_type": "stream",
     "text": [
      "\n"
     ]
    },
    {
     "name": "stdout",
     "output_type": "stream",
     "text": [
      "Number of Nulls : 3."
     ]
    },
    {
     "name": "stdout",
     "output_type": "stream",
     "text": [
      "\n"
     ]
    },
    {
     "name": "stdout",
     "output_type": "stream",
     "text": [
      "          id  vendor_id      pickup_datetime     dropoff_datetime  \\\n0  id2875421          2  2016-03-14 17:24:55  2016-03-14 17:32:30   \n1  id2377394          1  2016-06-12 00:43:35  2016-06-12 00:54:38   \n2  id3858529          2  2016-01-19 11:35:24  2016-01-19 12:10:48   \n3  id3504673          2  2016-04-06 19:32:31  2016-04-06 19:39:40   \n\n   passenger_count  pickup_longitude  pickup_latitude  dropoff_longitude  \\\n0                1        -73.982155        40.767937         -73.964630   \n1                1        -73.980415        40.738564         -73.999481   \n2                1        -73.979027        40.763939         -74.005333   \n3                1        -74.010040        40.719971         -74.012268   \n\n   dropoff_latitude store_and_fwd_flag  trip_duration  total_distance  \\\n0         40.765602                  N            455          2009.1   \n1         40.731152                  N            663          2513.2   \n2         40.710087                  N           2124         11060.8   \n3         40.706718                  N            429          1779.4   \n\n   total_travel_time  number_of_steps  \n0              164.9              5.0  \n1              332.0              6.0  \n2              767.6             16.0  \n3              235.8              4.0  "
     ]
    },
    {
     "name": "stdout",
     "output_type": "stream",
     "text": [
      "\n"
     ]
    },
    {
     "name": "stdout",
     "output_type": "stream",
     "text": [
      "Time taken 3.0684561729431152."
     ]
    },
    {
     "name": "stdout",
     "output_type": "stream",
     "text": [
      "\n"
     ]
    }
   ],
   "source": [
    "# checking if Ids are unique, and the number of Nulls.\n",
    "start = time.time()\n",
    "train_data = train_df.copy()\n",
    "start = time.time()\n",
    "print(\"Respectively, number of columns and rows and columns are {} and {} .\".format(train_data.shape[1], train_data.shape[0]))\n",
    "if train_data.id.nunique() == train_data.shape[0]: #nunique(): Return number of unique elements in the object.\n",
    "    print(\"Train ids are unique\")\n",
    "print(\"Number of Nulls : {}.\".format(train_data.isnull().sum().sum()))\n",
    "\n",
    "# Remain the items with latitude & longitude between 40.6-40.9 and -74.05--73.7:\n",
    "%matplotlib inline\n",
    "\n",
    "df = train_df.loc[(train_df.pickup_latitude > 40.6) & (train_df.pickup_latitude < 40.9)]\n",
    "df = df.loc[(df.dropoff_latitude>40.6) & (df.dropoff_latitude < 40.9)]\n",
    "df = df.loc[(df.dropoff_longitude > -74.05) & (df.dropoff_longitude < -73.7)]\n",
    "df = df.loc[(df.pickup_longitude > -74.05) & (df.pickup_longitude < -73.7)]\n",
    "\n",
    "train_data_new = df.copy()\n",
    "print(train_data_new.head(4))\n",
    "end = time.time()\n",
    "print(\"Time taken {}.\".format(end-start))"
   ]
  },
  {
   "cell_type": "code",
   "execution_count": 183,
   "metadata": {
    "collapsed": true
   },
   "outputs": [],
   "source": [
    "temp = train_data.copy()\n",
    "train_data['pickup_datetime'] = pd.to_datetime(train_data.pickup_datetime)\n",
    "train_data.loc[:, 'pick_date'] = train_data['pickup_datetime'].dt.date\n",
    "train_data.head()\n",
    "\n",
    "ts_v1 = pd.DataFrame(train_data.loc[train_data['vendor_id']==1].groupby('pick_date')['trip_duration'].mean())\n",
    "ts_v1.reset_index(inplace = True)\n",
    "ts_v2 = pd.DataFrame(train_data.loc[train_data.vendor_id==2].groupby('pick_date')['trip_duration'].mean())\n",
    "ts_v2.reset_index(inplace = True)\n",
    "\n",
    "train_data = temp\n"
   ]
  },
  {
   "cell_type": "markdown",
   "metadata": {},
   "source": [
    "#  Basic image processing"
   ]
  },
  {
   "cell_type": "markdown",
   "metadata": {},
   "source": [
    "##  Consider each point of this image as a point represented by lat-long\n",
    "## Then take a summary of lat-long and their count, assign a different color for different count range."
   ]
  },
  {
   "cell_type": "code",
   "execution_count": 184,
   "metadata": {},
   "outputs": [
    {
     "name": "stdout",
     "output_type": "stream",
     "text": [
      "dropoff_latitude:\n"
     ]
    },
    {
     "name": "stdout",
     "output_type": "stream",
     "text": [
      " "
     ]
    },
    {
     "name": "stdout",
     "output_type": "stream",
     "text": [
      "0    1656\n1    1311\n2    1100\nName: drop_lat_new, dtype: int64"
     ]
    },
    {
     "name": "stdout",
     "output_type": "stream",
     "text": [
      "\n"
     ]
    },
    {
     "name": "stdout",
     "output_type": "stream",
     "text": [
      "pickup_longitude:\n"
     ]
    },
    {
     "name": "stdout",
     "output_type": "stream",
     "text": [
      " "
     ]
    },
    {
     "name": "stdout",
     "output_type": "stream",
     "text": [
      "0    678\n1    695\n2    709\nName: pick_lon_new, dtype: int64"
     ]
    },
    {
     "name": "stdout",
     "output_type": "stream",
     "text": [
      "\n"
     ]
    },
    {
     "name": "stdout",
     "output_type": "stream",
     "text": [
      "dropoff_longitude:\n"
     ]
    },
    {
     "name": "stdout",
     "output_type": "stream",
     "text": [
      " "
     ]
    },
    {
     "name": "stdout",
     "output_type": "stream",
     "text": [
      "0    853\n1    505\n2    446\nName: drop_lon_new, dtype: int64"
     ]
    },
    {
     "name": "stdout",
     "output_type": "stream",
     "text": [
      "\n"
     ]
    }
   ],
   "source": [
    "# Create 3 arrays: with 3500 rows & 3 columns each.\n",
    "start = time.time()\n",
    "rgb = np.zeros((3000, 3500, 3), dtype=np.uint8) # 3000 arrays: with 3500 rows & 3 columns each.\n",
    "rgb[..., 0] = 0 # Assign 0 to every items in column 0;\n",
    "rgb[..., 1] = 0 # Assign 0 to every items in column 1;\n",
    "rgb[..., 2] = 0 # Assign 0 to every items in column 2;\n",
    "\n",
    "train_data_new['pick_lat_new'] = list(map(int, (train_data_new['pickup_latitude'] - (40.6000))*10000))\n",
    "train_data_new['drop_lat_new'] = list(map(int, (train_data_new['dropoff_latitude'] - (40.6000))*10000))\n",
    "train_data_new['pick_lon_new'] = list(map(int, (train_data_new['pickup_longitude'] - (-74.050))*10000))\n",
    "train_data_new['drop_lon_new'] = list(map(int,(train_data_new['dropoff_longitude'] - (-74.050))*10000))\n",
    "# map(): typecasting every element of the list to an integer value. \n",
    "# latitude should be between 40.6 to 40.9; Longitude should be between -74.05 to -73.70\n",
    "summary_plot = pd.DataFrame(train_data_new.groupby(['pick_lat_new', 'pick_lon_new'])['id'].count())\n",
    "\n",
    "#Print new train data after transformation:\n",
    "('pickup_latitude:\\n',train_data_new['pick_lat_new'].head(3))\n",
    "print('dropoff_latitude:\\n',train_data_new['drop_lat_new'].head(3))\n",
    "print('pickup_longitude:\\n',train_data_new['pick_lon_new'].head(3))\n",
    "print('dropoff_longitude:\\n',train_data_new['drop_lon_new'].head(3))\n",
    "# print('summary_plot:\\n')\n",
    "# summary_plot.head(100)"
   ]
  },
  {
   "cell_type": "code",
   "execution_count": 185,
   "metadata": {},
   "outputs": [
    {
     "name": "stdout",
     "output_type": "stream",
     "text": [
      "Time taken by above cell is 10.453585386276245."
     ]
    },
    {
     "name": "stdout",
     "output_type": "stream",
     "text": [
      "\n"
     ]
    },
    {
     "name": "stdout",
     "output_type": "stream",
     "text": [
      "unit:"
     ]
    },
    {
     "name": "stdout",
     "output_type": "stream",
     "text": [
      " "
     ]
    },
    {
     "name": "stdout",
     "output_type": "stream",
     "text": [
      "[1]"
     ]
    },
    {
     "name": "stdout",
     "output_type": "stream",
     "text": [
      "\n"
     ]
    },
    {
     "data": {
      "image/png": "[encoded data removed]",
      "text/plain": [
       "<matplotlib.figure.Figure at 0x1151c3da630>"
      ]
     },
     "metadata": {},
     "output_type": "display_data"
    }
   ],
   "source": [
    "#Plot geograph:\n",
    "summary_plot.reset_index(inplace = True)\n",
    "summary_plot.head(120)\n",
    "lat_list = summary_plot['pick_lat_new'].unique()\n",
    "\n",
    "for i in lat_list: #lat_list: list of unique 'pick_lat_new'\n",
    "    lon_list = summary_plot.loc[summary_plot['pick_lat_new']==i]['pick_lon_new'].tolist()\n",
    "    # Get the longitude mapping with unique latitude.\n",
    "    unit = summary_plot.loc[summary_plot['pick_lat_new']==i]['id'].tolist()\n",
    "    # Get the id mapping with unique latitude.\n",
    "    \n",
    "    for j in lon_list: \n",
    "        a = unit[lon_list.index(j)] # lon_list.index(j): return the index of lon_list(j)\n",
    "        if (a//50) >0: # //: Floor Division: the result is the quotient in which the digits after decimal points are not taken into account.\n",
    "            rgb[i,j, 0] = 191 #Label the count>50 with Green\n",
    "            rgb[i,j, 1] = 255\n",
    "            rgb[i,j, 2] = 0\n",
    "        elif (a//10)>0: #Label the count>10 with Red\n",
    "            rgb[i,j, 0] = 255\n",
    "            rgb[i,j, 1] = 0\n",
    "            rgb[i,j, 2] = 0\n",
    "        else: #Label the count>10 with blue\n",
    "            rgb[i,j, 0] = 0\n",
    "            rgb[i,j, 1] = 64\n",
    "            rgb[i,j, 2] = 255\n",
    "\n",
    "fig, ax = plt.subplots(nrows=1,ncols=1,figsize=(14,20))\n",
    "end = time.time()\n",
    "print(\"Time taken by above cell is {}.\".format((end-start)))\n",
    "ax.imshow(rgb, cmap = 'hot')\n",
    "ax.set_axis_off() \n",
    "\n",
    "print('unit:',unit)\n"
   ]
  },
  {
   "cell_type": "markdown",
   "metadata": {},
   "source": [
    "# Feature Extraction:"
   ]
  },
  {
   "cell_type": "markdown",
   "metadata": {},
   "source": [
    "## Define funtions to unfold features:\n",
    "##  Find out features which are affecting the trip-duration between a given pickup and drop-off locations. "
   ]
  },
  {
   "cell_type": "code",
   "execution_count": 186,
   "metadata": {},
   "outputs": [
    {
     "name": "stdout",
     "output_type": "stream",
     "text": [
      "Time taken by above cell is 0.0005011558532714844."
     ]
    },
    {
     "name": "stdout",
     "output_type": "stream",
     "text": [
      "\n"
     ]
    }
   ],
   "source": [
    "\n",
    "start = time.time()\n",
    "def haversine_(lat1, lng1, lat2, lng2):\n",
    "    \"\"\"function to calculate haversine distance between two co-ordinates\"\"\"\n",
    "    lat1, lng1, lat2, lng2 = map(np.radians, (lat1, lng1, lat2, lng2))\n",
    "    AVG_EARTH_RADIUS = 6371  # in km\n",
    "    lat = lat2 - lat1\n",
    "    lng = lng2 - lng1\n",
    "    d = np.sin(lat * 0.5) ** 2 + np.cos(lat1) * np.cos(lat2) * np.sin(lng * 0.5) ** 2\n",
    "    h = 2 * AVG_EARTH_RADIUS * np.arcsin(np.sqrt(d))\n",
    "    return(h)\n",
    "\n",
    "def manhattan_distance_pd(lat1, lng1, lat2, lng2):\n",
    "    \"\"\"function to calculate manhatten distance between pick_drop\"\"\"\n",
    "    a = haversine_(lat1, lng1, lat1, lng2)\n",
    "    b = haversine_(lat1, lng1, lat2, lng1)\n",
    "    return a + b\n",
    "\n",
    "import math\n",
    "def bearing_array(lat1, lng1, lat2, lng2):\n",
    "    \"\"\" function was taken from beluga's notebook as this function works on array\n",
    "    while my function used to work on individual elements and was noticably slow\"\"\"\n",
    "    AVG_EARTH_RADIUS = 6371  # in km\n",
    "    lng_delta_rad = np.radians(lng2 - lng1)\n",
    "    lat1, lng1, lat2, lng2 = map(np.radians, (lat1, lng1, lat2, lng2))\n",
    "    y = np.sin(lng_delta_rad) * np.cos(lat2)\n",
    "    x = np.cos(lat1) * np.sin(lat2) - np.sin(lat1) * np.cos(lat2) * np.cos(lng_delta_rad)\n",
    "    return np.degrees(np.arctan2(y, x))\n",
    "\n",
    "end = time.time()\n",
    "print(\"Time taken by above cell is {}.\".format((end-start)))"
   ]
  },
  {
   "cell_type": "markdown",
   "metadata": {},
   "source": [
    "##Feature extratction"
   ]
  },
  {
   "cell_type": "code",
   "execution_count": 187,
   "metadata": {},
   "outputs": [
    {
     "name": "stdout",
     "output_type": "stream",
     "text": [
      "Time taken by above cell is 4.483926296234131."
     ]
    },
    {
     "name": "stdout",
     "output_type": "stream",
     "text": [
      "\n"
     ]
    }
   ],
   "source": [
    "start = time.time()\n",
    "train_data = temp.copy()\n",
    "train_data['pickup_datetime'] = pd.to_datetime(train_data.pickup_datetime)\n",
    "train_data.loc[:, 'pick_month'] = train_data['pickup_datetime'].dt.month\n",
    "train_data.loc[:, 'hour'] = train_data['pickup_datetime'].dt.hour\n",
    "train_data.loc[:, 'week_of_year'] = train_data['pickup_datetime'].dt.weekofyear\n",
    "train_data.loc[:, 'day_of_year'] = train_data['pickup_datetime'].dt.dayofyear\n",
    "train_data.loc[:, 'day_of_week'] = train_data['pickup_datetime'].dt.dayofweek\n",
    "train_data.loc[:,'hvsine_pick_drop'] = haversine_(train_data['pickup_latitude'].values, train_data['pickup_longitude'].values, train_data['dropoff_latitude'].values, train_data['dropoff_longitude'].values)\n",
    "train_data.loc[:,'manhtn_pick_drop'] = manhattan_distance_pd(train_data['pickup_latitude'].values, train_data['pickup_longitude'].values, train_data['dropoff_latitude'].values, train_data['dropoff_longitude'].values)\n",
    "train_data.loc[:,'bearing'] = bearing_array(train_data['pickup_latitude'].values, train_data['pickup_longitude'].values, train_data['dropoff_latitude'].values, train_data['dropoff_longitude'].values)\n",
    "\n",
    "end = time.time()\n",
    "print(\"Time taken by above cell is {}.\".format(end-start))"
   ]
  },
  {
   "cell_type": "markdown",
   "metadata": {},
   "source": [
    "# Animation of pickups\n",
    "## Make an animation of pickup and see how with pickup hours the traffic changes"
   ]
  },
  {
   "cell_type": "code",
   "execution_count": 188,
   "metadata": {},
   "outputs": [
    {
     "name": "stdout",
     "output_type": "stream",
     "text": [
      "Time taken by above cell is 0.0010030269622802734."
     ]
    },
    {
     "name": "stdout",
     "output_type": "stream",
     "text": [
      "\n"
     ]
    }
   ],
   "source": [
    "# making similar heatmaps of pickup locations for different pickup hours，\n",
    "# and then will make a gif of those images in order of increasing pickup hour.\n",
    "\n",
    "start = time.time()\n",
    "def color(hour):\n",
    "    \"\"\"function for color change in animation\"\"\"\n",
    "    return(10*hour)\n",
    "\n",
    "def Animation(hour, temp, rgb):\n",
    "    \"\"\"Function to generate return a pic of plotings\"\"\"\n",
    "    train_data_new = temp.loc[temp['hour'] == hour]\n",
    "    start = time.time()\n",
    "    rgb = np.zeros((3000, 3500, 3), dtype=np.uint8)\n",
    "    rgb[..., 0] = 0\n",
    "    rgb[..., 1] = 0\n",
    "    rgb[..., 2] = 0\n",
    "    train_data_new['pick_lat_new'] = list(map(int, (train_data_new['pickup_latitude'] - (40.6000))*10000))\n",
    "    train_data_new['drop_lat_new'] = list(map(int, (train_data_new['dropoff_latitude'] - (40.6000))*10000))\n",
    "    train_data_new['pick_lon_new'] = list(map(int, (train_data_new['pickup_longitude'] - (-74.050))*10000))\n",
    "    train_data_new['drop_lon_new'] = list(map(int,(train_data_new['dropoff_longitude'] - (-74.050))*10000))\n",
    "\n",
    "    summary_plot = pd.DataFrame(train_data_new.groupby(['pick_lat_new', 'pick_lon_new'])['id'].count())\n",
    "\n",
    "    summary_plot.reset_index(inplace = True)\n",
    "    summary_plot.head(120)\n",
    "    lat_list = summary_plot['pick_lat_new'].unique()\n",
    "    for i in lat_list:\n",
    "        #print(i)\n",
    "        lon_list = summary_plot.loc[summary_plot['pick_lat_new']==i]['pick_lon_new'].tolist()\n",
    "        unit = summary_plot.loc[summary_plot['pick_lat_new']==i]['id'].tolist()\n",
    "        for j in lon_list:\n",
    "            #j = int(j)\n",
    "            a = unit[lon_list.index(j)]\n",
    "            #print(a)\n",
    "            if (a//50) >0:\n",
    "                rgb[i][j][0] = 255 - color(hour)\n",
    "                rgb[i,j, 1] = 255 - color(hour)\n",
    "                rgb[i,j, 2] = 0 + color(hour)\n",
    "            elif (a//10)>0:\n",
    "                rgb[i,j, 0] = 0 + color(hour)\n",
    "                rgb[i,j, 1] = 255 - color(hour)\n",
    "                rgb[i,j, 2] = 0 + color(hour)\n",
    "            else:\n",
    "                rgb[i,j, 0] = 255 - color(hour)\n",
    "                rgb[i,j, 1] = 0 + color(hour)\n",
    "                rgb[i,j, 2] = 0 + color(hour)\n",
    "    #fig, ax = plt.subplots(nrows=1,ncols=1,figsize=(14,20))\n",
    "    end = time.time()\n",
    "    print(\"Time taken by above cell is {} for {}.\".format((end-start), hour))\n",
    "    return(rgb)\n",
    "end = time.time()\n",
    "print(\"Time taken by above cell is {}.\".format(end -start))"
   ]
  },
  {
   "cell_type": "code",
   "execution_count": 189,
   "metadata": {},
   "outputs": [
    {
     "name": "stderr",
     "output_type": "stream",
     "text": [
      "C:\\Anaconda3\\lib\\site-packages\\ipykernel_launcher.py:17: SettingWithCopyWarning:\n\n\nA value is trying to be set on a copy of a slice from a DataFrame.\nTry using .loc[row_indexer,col_indexer] = value instead\n\nSee the caveats in the documentation: http://pandas.pydata.org/pandas-docs/stable/indexing.html#indexing-view-versus-copy\n\n"
     ]
    },
    {
     "name": "stderr",
     "output_type": "stream",
     "text": [
      "C:\\Anaconda3\\lib\\site-packages\\ipykernel_launcher.py:18: SettingWithCopyWarning:\n\n\nA value is trying to be set on a copy of a slice from a DataFrame.\nTry using .loc[row_indexer,col_indexer] = value instead\n\nSee the caveats in the documentation: http://pandas.pydata.org/pandas-docs/stable/indexing.html#indexing-view-versus-copy\n\n"
     ]
    },
    {
     "name": "stderr",
     "output_type": "stream",
     "text": [
      "C:\\Anaconda3\\lib\\site-packages\\ipykernel_launcher.py:19: SettingWithCopyWarning:\n\n\nA value is trying to be set on a copy of a slice from a DataFrame.\nTry using .loc[row_indexer,col_indexer] = value instead\n\nSee the caveats in the documentation: http://pandas.pydata.org/pandas-docs/stable/indexing.html#indexing-view-versus-copy\n\n"
     ]
    },
    {
     "name": "stderr",
     "output_type": "stream",
     "text": [
      "C:\\Anaconda3\\lib\\site-packages\\ipykernel_launcher.py:20: SettingWithCopyWarning:\n\n\nA value is trying to be set on a copy of a slice from a DataFrame.\nTry using .loc[row_indexer,col_indexer] = value instead\n\nSee the caveats in the documentation: http://pandas.pydata.org/pandas-docs/stable/indexing.html#indexing-view-versus-copy\n\n"
     ]
    },
    {
     "name": "stdout",
     "output_type": "stream",
     "text": [
      "Time taken by above cell is 2.8927202224731445 for 0."
     ]
    },
    {
     "name": "stdout",
     "output_type": "stream",
     "text": [
      "\n"
     ]
    },
    {
     "name": "stdout",
     "output_type": "stream",
     "text": [
      "Time taken by above cell is 2.7077016830444336 for 1."
     ]
    },
    {
     "name": "stdout",
     "output_type": "stream",
     "text": [
      "\n"
     ]
    },
    {
     "name": "stdout",
     "output_type": "stream",
     "text": [
      "Time taken by above cell is 2.2153944969177246 for 2."
     ]
    },
    {
     "name": "stdout",
     "output_type": "stream",
     "text": [
      "\n"
     ]
    },
    {
     "name": "stdout",
     "output_type": "stream",
     "text": [
      "Time taken by above cell is 2.2142367362976074 for 3."
     ]
    },
    {
     "name": "stdout",
     "output_type": "stream",
     "text": [
      "\n"
     ]
    },
    {
     "name": "stdout",
     "output_type": "stream",
     "text": [
      "Time taken by above cell is 1.9787616729736328 for 4."
     ]
    },
    {
     "name": "stdout",
     "output_type": "stream",
     "text": [
      "\n"
     ]
    },
    {
     "name": "stdout",
     "output_type": "stream",
     "text": [
      "Time taken by above cell is 2.440387725830078 for 5."
     ]
    },
    {
     "name": "stdout",
     "output_type": "stream",
     "text": [
      "\n"
     ]
    },
    {
     "name": "stdout",
     "output_type": "stream",
     "text": [
      "Time taken by above cell is 2.1557838916778564 for 6."
     ]
    },
    {
     "name": "stdout",
     "output_type": "stream",
     "text": [
      "\n"
     ]
    },
    {
     "name": "stdout",
     "output_type": "stream",
     "text": [
      "Time taken by above cell is 2.2705507278442383 for 7."
     ]
    },
    {
     "name": "stdout",
     "output_type": "stream",
     "text": [
      "\n"
     ]
    },
    {
     "name": "stdout",
     "output_type": "stream",
     "text": [
      "Time taken by above cell is 2.4139223098754883 for 8."
     ]
    },
    {
     "name": "stdout",
     "output_type": "stream",
     "text": [
      "\n"
     ]
    },
    {
     "name": "stdout",
     "output_type": "stream",
     "text": [
      "Time taken by above cell is 3.3098032474517822 for 9."
     ]
    },
    {
     "name": "stdout",
     "output_type": "stream",
     "text": [
      "\n"
     ]
    },
    {
     "name": "stdout",
     "output_type": "stream",
     "text": [
      "Time taken by above cell is 2.5984463691711426 for 10."
     ]
    },
    {
     "name": "stdout",
     "output_type": "stream",
     "text": [
      "\n"
     ]
    },
    {
     "name": "stdout",
     "output_type": "stream",
     "text": [
      "Time taken by above cell is 3.842219591140747 for 11."
     ]
    },
    {
     "name": "stdout",
     "output_type": "stream",
     "text": [
      "\n"
     ]
    },
    {
     "name": "stdout",
     "output_type": "stream",
     "text": [
      "Time taken by above cell is 2.648545980453491 for 12."
     ]
    },
    {
     "name": "stdout",
     "output_type": "stream",
     "text": [
      "\n"
     ]
    },
    {
     "name": "stdout",
     "output_type": "stream",
     "text": [
      "Time taken by above cell is 3.947009563446045 for 13."
     ]
    },
    {
     "name": "stdout",
     "output_type": "stream",
     "text": [
      "\n"
     ]
    },
    {
     "name": "stdout",
     "output_type": "stream",
     "text": [
      "Time taken by above cell is 3.441154718399048 for 14."
     ]
    },
    {
     "name": "stdout",
     "output_type": "stream",
     "text": [
      "\n"
     ]
    },
    {
     "name": "stdout",
     "output_type": "stream",
     "text": [
      "Time taken by above cell is 2.7969770431518555 for 15."
     ]
    },
    {
     "name": "stdout",
     "output_type": "stream",
     "text": [
      "\n"
     ]
    },
    {
     "name": "stdout",
     "output_type": "stream",
     "text": [
      "Time taken by above cell is 2.5403361320495605 for 16."
     ]
    },
    {
     "name": "stdout",
     "output_type": "stream",
     "text": [
      "\n"
     ]
    },
    {
     "name": "stdout",
     "output_type": "stream",
     "text": [
      "Time taken by above cell is 3.2115519046783447 for 17."
     ]
    },
    {
     "name": "stdout",
     "output_type": "stream",
     "text": [
      "\n"
     ]
    },
    {
     "name": "stdout",
     "output_type": "stream",
     "text": [
      "Time taken by above cell is 3.5319154262542725 for 18."
     ]
    },
    {
     "name": "stdout",
     "output_type": "stream",
     "text": [
      "\n"
     ]
    },
    {
     "name": "stdout",
     "output_type": "stream",
     "text": [
      "Time taken by above cell is 4.168588399887085 for 19."
     ]
    },
    {
     "name": "stdout",
     "output_type": "stream",
     "text": [
      "\n"
     ]
    },
    {
     "name": "stdout",
     "output_type": "stream",
     "text": [
      "Time taken by above cell is 3.155405282974243 for 20."
     ]
    },
    {
     "name": "stdout",
     "output_type": "stream",
     "text": [
      "\n"
     ]
    },
    {
     "name": "stdout",
     "output_type": "stream",
     "text": [
      "Time taken by above cell is 3.402550458908081 for 21."
     ]
    },
    {
     "name": "stdout",
     "output_type": "stream",
     "text": [
      "\n"
     ]
    },
    {
     "name": "stdout",
     "output_type": "stream",
     "text": [
      "Time taken by above cell is 2.905728816986084 for 22."
     ]
    },
    {
     "name": "stdout",
     "output_type": "stream",
     "text": [
      "\n"
     ]
    },
    {
     "name": "stdout",
     "output_type": "stream",
     "text": [
      "Time taken by above cell is 2.6400606632232666 for 23."
     ]
    },
    {
     "name": "stdout",
     "output_type": "stream",
     "text": [
      "\n"
     ]
    },
    {
     "name": "stdout",
     "output_type": "stream",
     "text": [
      "Time taken by above cell is 72.29875254631042."
     ]
    },
    {
     "name": "stdout",
     "output_type": "stream",
     "text": [
      "\n"
     ]
    }
   ],
   "source": [
    "start = time.time()\n",
    "images_list=[]\n",
    "train_data_new['pickup_datetime'] = pd.to_datetime(train_data_new.pickup_datetime)\n",
    "train_data_new.loc[:, 'hour'] = train_data_new['pickup_datetime'].dt.hour\n",
    "\n",
    "for i in list(range(0, 24)):\n",
    "    im = Animation(i, train_data_new, rgb.copy())\n",
    "    images_list.append(im)\n",
    "end = time.time()\n",
    "print(\"Time taken by above cell is {}.\".format(end -start))"
   ]
  },
  {
   "cell_type": "code",
   "execution_count": 190,
   "metadata": {},
   "outputs": [
    {
     "name": "stdout",
     "output_type": "stream",
     "text": [
      "Time taken by above cell is 0.1178128719329834"
     ]
    },
    {
     "name": "stdout",
     "output_type": "stream",
     "text": [
      "\n"
     ]
    }
   ],
   "source": [
    "start = time.time()\n",
    "\n",
    "def build_gif(imgs = images_list, show_gif=False, save_gif=True, title=''):\n",
    "    \"\"\"function to create a gif of heatmaps\"\"\"\n",
    "    fig, ax = plt.subplots(nrows=1,ncols=1,figsize=(10,10))\n",
    "    ax.set_axis_off()\n",
    "    hr_range = list(range(0,24))\n",
    "    def show_im(pairs):\n",
    "        ax.clear()\n",
    "        ax.set_title('Absolute Traffic - Hour ' + str(int(pairs[0])) + ':00')\n",
    "        ax.imshow(pairs[1])\n",
    "        ax.set_axis_off() \n",
    "    pairs = list(zip(hr_range, imgs))\n",
    "    #ims = map(lambda x: (ax.imshow(x), ax.set_title(title)), imgs)\n",
    "    im_ani = animation.FuncAnimation(fig, show_im, pairs,interval=500, repeat_delay=0, blit=False)\n",
    "    plt.cla()\n",
    "    if save_gif:\n",
    "        plt.rcParams[\"animation.convert_path\"] = \"C:\\DataAnalytics\\ImageMagick-7.0.7-Q16\\convert.exe\" #magick.exe\n",
    "        im_ani.save('animation.gif', writer='imagemagick') #, writer='imagemagick'\n",
    "    if show_gif:\n",
    "        plt.show()\n",
    "    return\n",
    "end = time.time()\n",
    "print(\"Time taken by above cell is {}\".format(end-start))"
   ]
  },
  {
   "cell_type": "code",
   "execution_count": 191,
   "metadata": {},
   "outputs": [
    {
     "name": "stdout",
     "output_type": "stream",
     "text": [
      "16.17846369743347"
     ]
    },
    {
     "name": "stdout",
     "output_type": "stream",
     "text": [
      "\n"
     ]
    },
    {
     "data": {
      "image/png": "[encoded data removed]",
      "text/plain": [
       "<matplotlib.figure.Figure at 0x11511574c50>"
      ]
     },
     "metadata": {},
     "output_type": "display_data"
    }
   ],
   "source": [
    "start = time.time()\n",
    "build_gif()\n",
    "end = time.time()\n",
    "print(end-start)"
   ]
  },
  {
   "cell_type": "code",
   "execution_count": 192,
   "metadata": {
    "collapsed": true
   },
   "outputs": [],
   "source": [
    "filename = 'animation.gif'\n",
    "video = io.open(filename, 'r+b').read()\n",
    "encoded = base64.b64encode(video)\n",
    "HTML(data='''<img src=\"data:image/gif;base64,{0}\" type=\"gif\" />'''.format(encoded.decode('ascii')))"
   ]
  },
  {
   "cell_type": "markdown",
   "metadata": {
    "collapsed": true
   },
   "source": [
    "## Check the changing .gif on Notebook.\n",
    "## Findings:\n",
    "## 1. The least number of request comes from time 2 AM-7 AM, from 7 AM -4 PM the requests were moderate in number, and from 5 PM-1 AM in night, there is a huge amount of request of cabs in all NYC.\n",
    "## 2. The dot in the top right corner of this animation is JFK Airport: people are moving less between 2 AM to 6 AM with same rules."
   ]
  },
  {
   "cell_type": "markdown",
   "metadata": {},
   "source": [
    "# Features' Exploration (Checking if we have any explainable pattern)"
   ]
  },
  {
   "cell_type": "markdown",
   "metadata": {},
   "source": [
    "## check the average time taken by two different vendors vs weekday"
   ]
  },
  {
   "cell_type": "code",
   "execution_count": 193,
   "metadata": {},
   "outputs": [
    {
     "name": "stderr",
     "output_type": "stream",
     "text": [
      "C:\\Anaconda3\\lib\\site-packages\\seaborn\\timeseries.py:183: UserWarning:\n\nThe tsplot function is deprecated and will be removed or replaced (in a substantially altered version) in a future release.\n\n"
     ]
    },
    {
     "name": "stdout",
     "output_type": "stream",
     "text": [
      "0.4886789321899414"
     ]
    },
    {
     "name": "stdout",
     "output_type": "stream",
     "text": [
      "\n"
     ]
    },
    {
     "data": {
      "image/png": "[encoded data removed]",
      "text/plain": [
       "<matplotlib.figure.Figure at 0x1150580e1d0>"
      ]
     },
     "metadata": {},
     "output_type": "display_data"
    }
   ],
   "source": [
    "start = time.time()\n",
    "summary_wdays_avg_duration = pd.DataFrame(train_data.groupby(['vendor_id','day_of_week'])['trip_duration'].mean())\n",
    "summary_wdays_avg_duration.reset_index(inplace = True)\n",
    "summary_wdays_avg_duration['unit']=1\n",
    "sns.set(style=\"white\", palette=\"muted\", color_codes=True)\n",
    "sns.set_context(\"poster\")\n",
    "sns.tsplot(data=summary_wdays_avg_duration, time=\"day_of_week\", unit = \"unit\", condition=\"vendor_id\", value=\"trip_duration\")\n",
    "sns.despine(bottom = False)\n",
    "end = time.time()\n",
    "print(end - start)"
   ]
  },
  {
   "cell_type": "markdown",
   "metadata": {},
   "source": [
    "## Findings:\n",
    "1. Vendor 1 is taking more time than vendor 2 on all the days of the week, we can also subset data frame based on the month and that will also give us the same results.  \n",
    "2. The difference between the average time taken by vendor 1 is ~250 seconds more than vendor 2."
   ]
  },
  {
   "cell_type": "markdown",
   "metadata": {},
   "source": [
    "# Cluster analysis and visualization"
   ]
  },
  {
   "cell_type": "code",
   "execution_count": 194,
   "metadata": {},
   "outputs": [
    {
     "name": "stdout",
     "output_type": "stream",
     "text": [
      "time taken by thie script by now is 0.0005009174346923828."
     ]
    },
    {
     "name": "stdout",
     "output_type": "stream",
     "text": [
      "\n"
     ]
    }
   ],
   "source": [
    "start = time.time()\n",
    "def assign_cluster(df, k):\n",
    "    \"\"\"function to assign clusters \"\"\"\n",
    "    df_pick = df[['pickup_longitude','pickup_latitude']]\n",
    "    df_drop = df[['dropoff_longitude','dropoff_latitude']]\n",
    "    \"\"\"I am using initialization as from the output of\n",
    "    k-means from my local machine to save time in this kernel\"\"\"\n",
    "    init = np.array([[ -73.98737616,   40.72981533],\n",
    "       [-121.93328857,   37.38933945],\n",
    "       [ -73.78423222,   40.64711269],\n",
    "       [ -73.9546417 ,   40.77377538],\n",
    "       [ -66.84140269,   36.64537175],\n",
    "       [ -73.87040541,   40.77016484],\n",
    "       [ -73.97316185,   40.75814346],\n",
    "       [ -73.98861094,   40.7527791 ],\n",
    "       [ -72.80966949,   51.88108444],\n",
    "       [ -76.99779701,   38.47370625],\n",
    "       [ -73.96975298,   40.69089596],\n",
    "       [ -74.00816622,   40.71414939],\n",
    "       [ -66.97216034,   44.37194443],\n",
    "       [ -61.33552933,   37.85105133],\n",
    "       [ -73.98001393,   40.7783577 ],\n",
    "       [ -72.00626526,   43.20296402],\n",
    "       [ -73.07618713,   35.03469086],\n",
    "       [ -73.95759366,   40.80316361],\n",
    "       [ -79.20167796,   41.04752096],\n",
    "       [ -74.00106031,   40.73867723]])\n",
    "    k_means_pick = KMeans(n_clusters=k, init=init, n_init=1)\n",
    "    k_means_pick.fit(df_pick)\n",
    "    clust_pick = k_means_pick.labels_\n",
    "    df['label_pick'] = clust_pick.tolist()\n",
    "    df['label_drop'] = k_means_pick.predict(df_drop)\n",
    "    return df, k_means_pick\n",
    "\n",
    "end = time.time()\n",
    "print(\"time taken by thie script by now is {}.\".format(end-start))"
   ]
  },
  {
   "cell_type": "code",
   "execution_count": 196,
   "metadata": {},
   "outputs": [
    {
     "name": "stdout",
     "output_type": "stream",
     "text": [
      "Time taken in clustering is 4.567673444747925."
     ]
    },
    {
     "name": "stdout",
     "output_type": "stream",
     "text": [
      "\n"
     ]
    }
   ],
   "source": [
    "start = time.time()\n",
    "train_cl, k_means = assign_cluster(train_data, 20)  # make it 100 when extracting features \n",
    "centroid_pickups = pd.DataFrame(k_means.cluster_centers_, columns = ['centroid_pick_long', 'centroid_pick_lat'])\n",
    "centroid_dropoff = pd.DataFrame(k_means.cluster_centers_, columns = ['centroid_drop_long', 'centroid_drop_lat'])\n",
    "centroid_pickups['label_pick'] = centroid_pickups.index\n",
    "centroid_dropoff['label_drop'] = centroid_dropoff.index\n",
    "#centroid_pickups.head()\n",
    "train_cl = pd.merge(train_cl, centroid_pickups, how='left', on=['label_pick'])\n",
    "train_cl = pd.merge(train_cl, centroid_dropoff, how='left', on=['label_drop'])\n",
    "#train_cl.head()\n",
    "end = time.time()\n",
    "print(\"Time taken in clustering is {}.\".format(end - start))"
   ]
  },
  {
   "cell_type": "markdown",
   "metadata": {},
   "source": [
    "# Cluster related features"
   ]
  },
  {
   "cell_type": "markdown",
   "metadata": {},
   "source": [
    "## Distance (haversine, mahnatten) between pickup-drop_off cluster centroids\n",
    "## Directional features - bearing direction between cluster centroids"
   ]
  },
  {
   "cell_type": "code",
   "execution_count": 197,
   "metadata": {},
   "outputs": [
    {
     "name": "stdout",
     "output_type": "stream",
     "text": [
      "Time Taken by above cell is 5.788914203643799."
     ]
    },
    {
     "name": "stdout",
     "output_type": "stream",
     "text": [
      "\n"
     ]
    },
    {
     "data": {
      "text/html": [
       "<div>\n",
       "<style>\n",
       "    .dataframe thead tr:only-child th {\n",
       "        text-align: right;\n",
       "    }\n",
       "\n",
       "    .dataframe thead th {\n",
       "        text-align: left;\n",
       "    }\n",
       "\n",
       "    .dataframe tbody tr th {\n",
       "        vertical-align: top;\n",
       "    }\n",
       "</style>\n",
       "<table border=\"1\" class=\"dataframe\">\n",
       "  <thead>\n",
       "    <tr style=\"text-align: right;\">\n",
       "      <th></th>\n",
       "      <th>id</th>\n",
       "      <th>vendor_id</th>\n",
       "      <th>pickup_datetime</th>\n",
       "      <th>dropoff_datetime</th>\n",
       "      <th>passenger_count</th>\n",
       "      <th>pickup_longitude</th>\n",
       "      <th>pickup_latitude</th>\n",
       "      <th>dropoff_longitude</th>\n",
       "      <th>dropoff_latitude</th>\n",
       "      <th>store_and_fwd_flag</th>\n",
       "      <th>...</th>\n",
       "      <th>hvsine_drop_cent_d</th>\n",
       "      <th>hvsine_cent_p_cent_d</th>\n",
       "      <th>manhtn_pick_cent_p</th>\n",
       "      <th>manhtn_drop_cent_d</th>\n",
       "      <th>manhtn_cent_p_cent_d</th>\n",
       "      <th>bearing_pick_cent_p</th>\n",
       "      <th>bearing_drop_cent_p</th>\n",
       "      <th>bearing_cent_p_cent_d</th>\n",
       "      <th>speed_hvsn</th>\n",
       "      <th>speed_manhtn</th>\n",
       "    </tr>\n",
       "  </thead>\n",
       "  <tbody>\n",
       "    <tr>\n",
       "      <th>0</th>\n",
       "      <td>id2875421</td>\n",
       "      <td>2</td>\n",
       "      <td>2016-03-14 17:24:55</td>\n",
       "      <td>2016-03-14 17:32:30</td>\n",
       "      <td>1</td>\n",
       "      <td>-73.982155</td>\n",
       "      <td>40.767937</td>\n",
       "      <td>-73.964630</td>\n",
       "      <td>40.765602</td>\n",
       "      <td>N</td>\n",
       "      <td>...</td>\n",
       "      <td>1.098585</td>\n",
       "      <td>2.319857</td>\n",
       "      <td>1.338601</td>\n",
       "      <td>1.549840</td>\n",
       "      <td>2.822553</td>\n",
       "      <td>8.812218</td>\n",
       "      <td>-138.980503</td>\n",
       "      <td>165.640915</td>\n",
       "      <td>0.009087</td>\n",
       "      <td>0.010524</td>\n",
       "    </tr>\n",
       "    <tr>\n",
       "      <th>1</th>\n",
       "      <td>id2377394</td>\n",
       "      <td>1</td>\n",
       "      <td>2016-06-12 00:43:35</td>\n",
       "      <td>2016-06-12 00:54:38</td>\n",
       "      <td>1</td>\n",
       "      <td>-73.980415</td>\n",
       "      <td>40.738564</td>\n",
       "      <td>-73.999481</td>\n",
       "      <td>40.731152</td>\n",
       "      <td>N</td>\n",
       "      <td>...</td>\n",
       "      <td>0.845448</td>\n",
       "      <td>1.520191</td>\n",
       "      <td>1.573052</td>\n",
       "      <td>0.968702</td>\n",
       "      <td>2.144236</td>\n",
       "      <td>-149.031278</td>\n",
       "      <td>-9.113659</td>\n",
       "      <td>-49.174617</td>\n",
       "      <td>0.005438</td>\n",
       "      <td>0.007321</td>\n",
       "    </tr>\n",
       "    <tr>\n",
       "      <th>2</th>\n",
       "      <td>id3858529</td>\n",
       "      <td>2</td>\n",
       "      <td>2016-01-19 11:35:24</td>\n",
       "      <td>2016-01-19 12:10:48</td>\n",
       "      <td>1</td>\n",
       "      <td>-73.979027</td>\n",
       "      <td>40.763939</td>\n",
       "      <td>-74.005333</td>\n",
       "      <td>40.710087</td>\n",
       "      <td>N</td>\n",
       "      <td>...</td>\n",
       "      <td>0.508922</td>\n",
       "      <td>5.718571</td>\n",
       "      <td>1.135490</td>\n",
       "      <td>0.690697</td>\n",
       "      <td>7.848844</td>\n",
       "      <td>142.642889</td>\n",
       "      <td>-28.669171</td>\n",
       "      <td>-148.907292</td>\n",
       "      <td>0.008318</td>\n",
       "      <td>0.010687</td>\n",
       "    </tr>\n",
       "    <tr>\n",
       "      <th>3</th>\n",
       "      <td>id3504673</td>\n",
       "      <td>2</td>\n",
       "      <td>2016-04-06 19:32:31</td>\n",
       "      <td>2016-04-06 19:39:40</td>\n",
       "      <td>1</td>\n",
       "      <td>-74.010040</td>\n",
       "      <td>40.719971</td>\n",
       "      <td>-74.012268</td>\n",
       "      <td>40.706718</td>\n",
       "      <td>N</td>\n",
       "      <td>...</td>\n",
       "      <td>0.888828</td>\n",
       "      <td>0.000000</td>\n",
       "      <td>0.805089</td>\n",
       "      <td>1.161466</td>\n",
       "      <td>0.000000</td>\n",
       "      <td>166.837718</td>\n",
       "      <td>22.515049</td>\n",
       "      <td>0.000000</td>\n",
       "      <td>0.006300</td>\n",
       "      <td>0.007046</td>\n",
       "    </tr>\n",
       "    <tr>\n",
       "      <th>4</th>\n",
       "      <td>id2181028</td>\n",
       "      <td>2</td>\n",
       "      <td>2016-03-26 13:30:55</td>\n",
       "      <td>2016-03-26 13:38:10</td>\n",
       "      <td>1</td>\n",
       "      <td>-73.973053</td>\n",
       "      <td>40.793209</td>\n",
       "      <td>-73.972923</td>\n",
       "      <td>40.782520</td>\n",
       "      <td>N</td>\n",
       "      <td>...</td>\n",
       "      <td>0.755820</td>\n",
       "      <td>0.000000</td>\n",
       "      <td>2.237846</td>\n",
       "      <td>1.060322</td>\n",
       "      <td>0.000000</td>\n",
       "      <td>-160.438403</td>\n",
       "      <td>-127.746230</td>\n",
       "      <td>0.000000</td>\n",
       "      <td>0.008484</td>\n",
       "      <td>0.008561</td>\n",
       "    </tr>\n",
       "  </tbody>\n",
       "</table>\n",
       "<p>5 rows × 39 columns</p>\n",
       "</div>"
      ],
      "text/plain": [
       "<div>\n",
       "<style>\n",
       "    .dataframe thead tr:only-child th {\n",
       "        text-align: right;\n",
       "    }\n",
       "\n",
       "    .dataframe thead th {\n",
       "        text-align: left;\n",
       "    }\n",
       "\n",
       "    .dataframe tbody tr th {\n",
       "        vertical-align: top;\n",
       "    }\n",
       "</style>\n",
       "<table border=\"1\" class=\"dataframe\">\n",
       "  <thead>\n",
       "    <tr style=\"text-align: right;\">\n",
       "      <th></th>\n",
       "      <th>id</th>\n",
       "      <th>vendor_id</th>\n",
       "      <th>pickup_datetime</th>\n",
       "      <th>dropoff_datetime</th>\n",
       "      <th>passenger_count</th>\n",
       "      <th>pickup_longitude</th>\n",
       "      <th>pickup_latitude</th>\n",
       "      <th>dropoff_longitude</th>\n",
       "      <th>dropoff_latitude</th>\n",
       "      <th>store_and_fwd_flag</th>\n",
       "      <th>...</th>\n",
       "      <th>hvsine_drop_cent_d</th>\n",
       "      <th>hvsine_cent_p_cent_d</th>\n",
       "      <th>manhtn_pick_cent_p</th>\n",
       "      <th>manhtn_drop_cent_d</th>\n",
       "      <th>manhtn_cent_p_cent_d</th>\n",
       "      <th>bearing_pick_cent_p</th>\n",
       "      <th>bearing_drop_cent_p</th>\n",
       "      <th>bearing_cent_p_cent_d</th>\n",
       "      <th>speed_hvsn</th>\n",
       "      <th>speed_manhtn</th>\n",
       "    </tr>\n",
       "  </thead>\n",
       "  <tbody>\n",
       "    <tr>\n",
       "      <th>0</th>\n",
       "      <td>id2875421</td>\n",
       "      <td>2</td>\n",
       "      <td>2016-03-14 17:24:55</td>\n",
       "      <td>2016-03-14 17:32:30</td>\n",
       "      <td>1</td>\n",
       "      <td>-73.982155</td>\n",
       "      <td>40.767937</td>\n",
       "      <td>-73.964630</td>\n",
       "      <td>40.765602</td>\n",
       "      <td>N</td>\n",
       "      <td>...</td>\n",
       "      <td>1.098585</td>\n",
       "      <td>2.319857</td>\n",
       "      <td>1.338601</td>\n",
       "      <td>1.549840</td>\n",
       "      <td>2.822553</td>\n",
       "      <td>8.812218</td>\n",
       "      <td>-138.980503</td>\n",
       "      <td>165.640915</td>\n",
       "      <td>0.009087</td>\n",
       "      <td>0.010524</td>\n",
       "    </tr>\n",
       "    <tr>\n",
       "      <th>1</th>\n",
       "      <td>id2377394</td>\n",
       "      <td>1</td>\n",
       "      <td>2016-06-12 00:43:35</td>\n",
       "      <td>2016-06-12 00:54:38</td>\n",
       "      <td>1</td>\n",
       "      <td>-73.980415</td>\n",
       "      <td>40.738564</td>\n",
       "      <td>-73.999481</td>\n",
       "      <td>40.731152</td>\n",
       "      <td>N</td>\n",
       "      <td>...</td>\n",
       "      <td>0.845448</td>\n",
       "      <td>1.520191</td>\n",
       "      <td>1.573052</td>\n",
       "      <td>0.968702</td>\n",
       "      <td>2.144236</td>\n",
       "      <td>-149.031278</td>\n",
       "      <td>-9.113659</td>\n",
       "      <td>-49.174617</td>\n",
       "      <td>0.005438</td>\n",
       "      <td>0.007321</td>\n",
       "    </tr>\n",
       "    <tr>\n",
       "      <th>2</th>\n",
       "      <td>id3858529</td>\n",
       "      <td>2</td>\n",
       "      <td>2016-01-19 11:35:24</td>\n",
       "      <td>2016-01-19 12:10:48</td>\n",
       "      <td>1</td>\n",
       "      <td>-73.979027</td>\n",
       "      <td>40.763939</td>\n",
       "      <td>-74.005333</td>\n",
       "      <td>40.710087</td>\n",
       "      <td>N</td>\n",
       "      <td>...</td>\n",
       "      <td>0.508922</td>\n",
       "      <td>5.718571</td>\n",
       "      <td>1.135490</td>\n",
       "      <td>0.690697</td>\n",
       "      <td>7.848844</td>\n",
       "      <td>142.642889</td>\n",
       "      <td>-28.669171</td>\n",
       "      <td>-148.907292</td>\n",
       "      <td>0.008318</td>\n",
       "      <td>0.010687</td>\n",
       "    </tr>\n",
       "    <tr>\n",
       "      <th>3</th>\n",
       "      <td>id3504673</td>\n",
       "      <td>2</td>\n",
       "      <td>2016-04-06 19:32:31</td>\n",
       "      <td>2016-04-06 19:39:40</td>\n",
       "      <td>1</td>\n",
       "      <td>-74.010040</td>\n",
       "      <td>40.719971</td>\n",
       "      <td>-74.012268</td>\n",
       "      <td>40.706718</td>\n",
       "      <td>N</td>\n",
       "      <td>...</td>\n",
       "      <td>0.888828</td>\n",
       "      <td>0.000000</td>\n",
       "      <td>0.805089</td>\n",
       "      <td>1.161466</td>\n",
       "      <td>0.000000</td>\n",
       "      <td>166.837718</td>\n",
       "      <td>22.515049</td>\n",
       "      <td>0.000000</td>\n",
       "      <td>0.006300</td>\n",
       "      <td>0.007046</td>\n",
       "    </tr>\n",
       "    <tr>\n",
       "      <th>4</th>\n",
       "      <td>id2181028</td>\n",
       "      <td>2</td>\n",
       "      <td>2016-03-26 13:30:55</td>\n",
       "      <td>2016-03-26 13:38:10</td>\n",
       "      <td>1</td>\n",
       "      <td>-73.973053</td>\n",
       "      <td>40.793209</td>\n",
       "      <td>-73.972923</td>\n",
       "      <td>40.782520</td>\n",
       "      <td>N</td>\n",
       "      <td>...</td>\n",
       "      <td>0.755820</td>\n",
       "      <td>0.000000</td>\n",
       "      <td>2.237846</td>\n",
       "      <td>1.060322</td>\n",
       "      <td>0.000000</td>\n",
       "      <td>-160.438403</td>\n",
       "      <td>-127.746230</td>\n",
       "      <td>0.000000</td>\n",
       "      <td>0.008484</td>\n",
       "      <td>0.008561</td>\n",
       "    </tr>\n",
       "  </tbody>\n",
       "</table>\n",
       "<p>5 rows × 39 columns</p>\n",
       "</div>"
      ]
     },
     "execution_count": 197,
     "metadata": {},
     "output_type": "execute_result"
    }
   ],
   "source": [
    "start = time.time()\n",
    "train_cl.loc[:,'hvsine_pick_cent_p'] = haversine_(train_cl['pickup_latitude'].values, train_cl['pickup_longitude'].values, train_cl['centroid_pick_lat'].values, train_cl['centroid_pick_long'].values)\n",
    "train_cl.loc[:,'hvsine_drop_cent_d'] = haversine_(train_cl['dropoff_latitude'].values, train_cl['dropoff_longitude'].values, train_cl['centroid_drop_lat'].values, train_cl['centroid_drop_long'].values)\n",
    "train_cl.loc[:,'hvsine_cent_p_cent_d'] = haversine_(train_cl['centroid_pick_lat'].values, train_cl['centroid_pick_long'].values, train_cl['centroid_drop_lat'].values, train_cl['centroid_drop_long'].values)\n",
    "train_cl.loc[:,'manhtn_pick_cent_p'] = manhattan_distance_pd(train_cl['pickup_latitude'].values, train_cl['pickup_longitude'].values, train_cl['centroid_pick_lat'].values, train_cl['centroid_pick_long'].values)\n",
    "train_cl.loc[:,'manhtn_drop_cent_d'] = manhattan_distance_pd(train_cl['dropoff_latitude'].values, train_cl['dropoff_longitude'].values, train_cl['centroid_drop_lat'].values, train_cl['centroid_drop_long'].values)\n",
    "train_cl.loc[:,'manhtn_cent_p_cent_d'] = manhattan_distance_pd(train_cl['centroid_pick_lat'].values, train_cl['centroid_pick_long'].values, train_cl['centroid_drop_lat'].values, train_cl['centroid_drop_long'].values)\n",
    "\n",
    "train_cl.loc[:,'bearing_pick_cent_p'] = bearing_array(train_cl['pickup_latitude'].values, train_cl['pickup_longitude'].values, train_cl['centroid_pick_lat'].values, train_cl['centroid_pick_long'].values)\n",
    "train_cl.loc[:,'bearing_drop_cent_p'] = bearing_array(train_cl['dropoff_latitude'].values, train_cl['dropoff_longitude'].values, train_cl['centroid_drop_lat'].values, train_cl['centroid_drop_long'].values)\n",
    "train_cl.loc[:,'bearing_cent_p_cent_d'] = bearing_array(train_cl['centroid_pick_lat'].values, train_cl['centroid_pick_long'].values, train_cl['centroid_drop_lat'].values, train_cl['centroid_drop_long'].values)\n",
    "train_cl['speed_hvsn'] = train_cl.hvsine_pick_drop/train_cl.total_travel_time\n",
    "train_cl['speed_manhtn'] = train_cl.manhtn_pick_drop/train_cl.total_travel_time\n",
    "end = time.time()\n",
    "print(\"Time Taken by above cell is {}.\".format(end-start))\n",
    "train_cl.head()"
   ]
  },
  {
   "cell_type": "markdown",
   "metadata": {},
   "source": [
    "# Cluster visualization using folium"
   ]
  },
  {
   "cell_type": "markdown",
   "metadata": {},
   "source": [
    "## In the next, cluster summary function is to find the cluster characteristics of given cluster list( a cluster list is the list of significant clusters, not all clusters are significant in size.) So, a list of the significant cluster can be passed to summarized those clusters. Significant clusters are clusters having more than 70 thousand rides as the pickup location. Then we will make plots:\n",
    "## 1. Showing pickups location on NYC map using stamen toner terrain\n",
    "## 2. Showing all clusters on Map of America"
   ]
  },
  {
   "cell_type": "code",
   "execution_count": 198,
   "metadata": {},
   "outputs": [
    {
     "name": "stdout",
     "output_type": "stream",
     "text": [
      "Time Taken by above cell is 0.0."
     ]
    },
    {
     "name": "stdout",
     "output_type": "stream",
     "text": [
      "\n"
     ]
    }
   ],
   "source": [
    "start = time.time()\n",
    "def cluster_summary(sum_df):\n",
    "    \"\"\"function to calculate summary of given list of clusters \"\"\"\n",
    "    #agg_func = {'trip_duration':'mean','label_drop':'count','bearing':'mean','id':'count'} # that's how you use agg function with groupby\n",
    "    summary_avg_time = pd.DataFrame(sum_df.groupby('label_pick')['trip_duration'].mean())\n",
    "    summary_avg_time.reset_index(inplace = True)\n",
    "    summary_pref_clus = pd.DataFrame(sum_df.groupby(['label_pick', 'label_drop'])['id'].count())\n",
    "    summary_pref_clus = summary_pref_clus.reset_index()\n",
    "    summary_pref_clus = summary_pref_clus.loc[summary_pref_clus.groupby('label_pick')['id'].idxmax()]\n",
    "    summary =pd.merge(summary_avg_time, summary_pref_clus, how = 'left', on = 'label_pick')\n",
    "    summary = summary.rename(columns={'trip_duration':'avg_triptime'})\n",
    "    return summary\n",
    "end = time.time()\n",
    "print(\"Time Taken by above cell is {}.\".format(end-start))"
   ]
  },
  {
   "cell_type": "code",
   "execution_count": 199,
   "metadata": {},
   "outputs": [],
   "source": [
    "import folium\n",
    "def show_fmaps(train_data, path=1):\n",
    "    \"\"\"function to generate map and add the pick up and drop coordinates\n",
    "    1. Path = 1 : Join pickup (blue) and drop(red) using a straight line\n",
    "    \"\"\"\n",
    "    full_data = train_data\n",
    "    summary_full_data = pd.DataFrame(full_data.groupby('label_pick')['id'].count())\n",
    "    summary_full_data.reset_index(inplace = True)\n",
    "    summary_full_data = summary_full_data.loc[summary_full_data['id']>70000]\n",
    "    map_1 = folium.Map(location=[40.767937, -73.982155], zoom_start=10,tiles='Stamen Toner') # manually added centre\n",
    "    new_df = train_data.loc[train_data['label_pick'].isin(summary_full_data.label_pick.tolist())].sample(50)\n",
    "    new_df.reset_index(inplace = True, drop = True)\n",
    "    for i in range(new_df.shape[0]):\n",
    "        pick_long = new_df.loc[new_df.index ==i]['pickup_longitude'].values[0]\n",
    "        pick_lat = new_df.loc[new_df.index ==i]['pickup_latitude'].values[0]\n",
    "        dest_long = new_df.loc[new_df.index ==i]['dropoff_longitude'].values[0]\n",
    "        dest_lat = new_df.loc[new_df.index ==i]['dropoff_latitude'].values[0]\n",
    "        folium.Marker([pick_lat, pick_long]).add_to(map_1)\n",
    "        folium.Marker([dest_lat, dest_long]).add_to(map_1)\n",
    "    return map_1\n",
    "\n",
    "def clusters_map(clus_data, full_data, tile = 'OpenStreetMap', sig = 0, zoom = 12, circle = 0, radius_ = 30):\n",
    "    \"\"\" function to plot clusters on map\"\"\"\n",
    "    map_1 = folium.Map(location=[40.767937, -73.982155], zoom_start=zoom,tiles= tile) # 'Mapbox' 'Stamen Toner'\n",
    "    summary_full_data = pd.DataFrame(full_data.groupby('label_pick')['id'].count())\n",
    "    summary_full_data.reset_index(inplace = True)\n",
    "    if sig == 1:\n",
    "        summary_full_data = summary_full_data.loc[summary_full_data['id']>70000]\n",
    "    sig_cluster = summary_full_data['label_pick'].tolist()\n",
    "    clus_summary = cluster_summary(full_data)\n",
    "    for i in sig_cluster:\n",
    "        pick_long = clus_data.loc[clus_data.index ==i]['centroid_pick_long'].values[0]\n",
    "        pick_lat = clus_data.loc[clus_data.index ==i]['centroid_pick_lat'].values[0]\n",
    "        clus_no = clus_data.loc[clus_data.index ==i]['label_pick'].values[0]\n",
    "        most_visited_clus = clus_summary.loc[clus_summary['label_pick']==i]['label_drop'].values[0]\n",
    "        avg_triptime = clus_summary.loc[clus_summary['label_pick']==i]['avg_triptime'].values[0]\n",
    "        pop = 'cluster = '+str(clus_no)+' & most visited cluster = ' +str(most_visited_clus) +' & avg triptime from this cluster =' + str(avg_triptime)\n",
    "        if circle == 1:\n",
    "            folium.CircleMarker(location=[pick_lat, pick_long], radius=radius_,\n",
    "                    color='#F08080',\n",
    "                    fill_color='#3186cc', popup=pop).add_to(map_1)\n",
    "        folium.Marker([pick_lat, pick_long], popup=pop).add_to(map_1)\n",
    "    return map_1"
   ]
  },
  {
   "cell_type": "code",
   "execution_count": 200,
   "metadata": {
    "collapsed": true
   },
   "outputs": [
    {
     "data": {
      "text/html": [
       "<div style=\"width:100%;\"><div style=\"position:relative;width:100%;height:0;padding-bottom:60%;\"><iframe src=\"data:text/html;charset=utf-8;base64,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\" style=\"position:absolute;width:100%;height:100%;left:0;top:0;border:none !important;\" allowfullscreen webkitallowfullscreen mozallowfullscreen></iframe></div></div>"
      ],
      "text/plain": [
       "<div style=\"width:100%;\"><div style=\"position:relative;width:100%;height:0;padding-bottom:60%;\"><iframe src=\"data:text/html;charset=utf-8;base64,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\" style=\"position:absolute;width:100%;height:100%;left:0;top:0;border:none !important;\" allowfullscreen webkitallowfullscreen mozallowfullscreen></iframe></div></div>"
      ]
     },
     "execution_count": 200,
     "metadata": {},
     "output_type": "execute_result"
    }
   ],
   "source": [
    "osm = show_fmaps(train_data, path=1)\n",
    "osm"
   ]
  },
  {
   "cell_type": "markdown",
   "metadata": {},
   "source": [
    "## Findings :\n",
    "## 1. Clusters with more than 70k pickups are taken for plotting thismap, and they are covering about 80% of the rides\n",
    "## 2. This maps shows that most of the rides are started from manhattan."
   ]
  },
  {
   "cell_type": "code",
   "execution_count": 201,
   "metadata": {},
   "outputs": [
    {
     "data": {
      "text/html": [
       "<div style=\"width:100%;\"><div style=\"position:relative;width:100%;height:0;padding-bottom:60%;\"><iframe src=\"data:text/html;charset=utf-8;base64,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\" style=\"position:absolute;width:100%;height:100%;left:0;top:0;border:none !important;\" allowfullscreen webkitallowfullscreen mozallowfullscreen></iframe></div></div>"
      ],
      "text/plain": [
       "<div style=\"width:100%;\"><div style=\"position:relative;width:100%;height:0;padding-bottom:60%;\"><iframe src=\"data:text/html;charset=utf-8;base64,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\" style=\"position:absolute;width:100%;height:100%;left:0;top:0;border:none !important;\" allowfullscreen webkitallowfullscreen mozallowfullscreen></iframe></div></div>"
      ]
     },
     "execution_count": 201,
     "metadata": {},
     "output_type": "execute_result"
    }
   ],
   "source": [
    "clus_map = clusters_map(centroid_pickups, train_cl, sig =0, zoom =3.2, circle =1, tile = 'Stamen Terrain')\n",
    "clus_map"
   ]
  },
  {
   "cell_type": "markdown",
   "metadata": {},
   "source": [
    "## Findings:\n",
    "## Plots are interactive click on balloon as check out the characteristics of each cluster:\n",
    "## 1. Cluster number\n",
    "## 2. Most frequently visited cluster from clicked cluster\n",
    "## 3. Avg triptime of rides started from this cluster"
   ]
  },
  {
   "cell_type": "markdown",
   "metadata": {},
   "source": [
    "# Extracting same features for Test data"
   ]
  },
  {
   "cell_type": "markdown",
   "metadata": {},
   "source": [
    "## 1. Extract same features for test dataset\n",
    "## 2. Train xgboost regressor to see how we are doing with prediction, how much predicting power out extracted features have. \n",
    "## 3. If it did not get high accuracy, extra features will be extracted.\n",
    "\n",
    "## The process:\n",
    "## 1. Extract same features-->2. Train xgboost regressor-->3. If not accurate-->4. Extract more features."
   ]
  },
  {
   "cell_type": "code",
   "execution_count": 202,
   "metadata": {},
   "outputs": [
    {
     "data": {
      "text/html": [
       "<div>\n",
       "<style>\n",
       "    .dataframe thead tr:only-child th {\n",
       "        text-align: right;\n",
       "    }\n",
       "\n",
       "    .dataframe thead th {\n",
       "        text-align: left;\n",
       "    }\n",
       "\n",
       "    .dataframe tbody tr th {\n",
       "        vertical-align: top;\n",
       "    }\n",
       "</style>\n",
       "<table border=\"1\" class=\"dataframe\">\n",
       "  <thead>\n",
       "    <tr style=\"text-align: right;\">\n",
       "      <th></th>\n",
       "      <th>id</th>\n",
       "      <th>vendor_id</th>\n",
       "      <th>pickup_datetime</th>\n",
       "      <th>passenger_count</th>\n",
       "      <th>pickup_longitude</th>\n",
       "      <th>pickup_latitude</th>\n",
       "      <th>dropoff_longitude</th>\n",
       "      <th>dropoff_latitude</th>\n",
       "      <th>store_and_fwd_flag</th>\n",
       "      <th>total_distance</th>\n",
       "      <th>total_travel_time</th>\n",
       "      <th>number_of_steps</th>\n",
       "    </tr>\n",
       "  </thead>\n",
       "  <tbody>\n",
       "    <tr>\n",
       "      <th>0</th>\n",
       "      <td>id3004672</td>\n",
       "      <td>1</td>\n",
       "      <td>6/30/2016 23:59</td>\n",
       "      <td>1</td>\n",
       "      <td>-73.988129</td>\n",
       "      <td>40.732029</td>\n",
       "      <td>-73.990173</td>\n",
       "      <td>40.756680</td>\n",
       "      <td>N</td>\n",
       "      <td>3795.9</td>\n",
       "      <td>424.6</td>\n",
       "      <td>4</td>\n",
       "    </tr>\n",
       "    <tr>\n",
       "      <th>1</th>\n",
       "      <td>id3505355</td>\n",
       "      <td>1</td>\n",
       "      <td>6/30/2016 23:59</td>\n",
       "      <td>1</td>\n",
       "      <td>-73.964203</td>\n",
       "      <td>40.679993</td>\n",
       "      <td>-73.959808</td>\n",
       "      <td>40.655403</td>\n",
       "      <td>N</td>\n",
       "      <td>2904.5</td>\n",
       "      <td>200.0</td>\n",
       "      <td>4</td>\n",
       "    </tr>\n",
       "    <tr>\n",
       "      <th>2</th>\n",
       "      <td>id1217141</td>\n",
       "      <td>1</td>\n",
       "      <td>6/30/2016 23:59</td>\n",
       "      <td>1</td>\n",
       "      <td>-73.997437</td>\n",
       "      <td>40.737583</td>\n",
       "      <td>-73.986160</td>\n",
       "      <td>40.729523</td>\n",
       "      <td>N</td>\n",
       "      <td>1499.5</td>\n",
       "      <td>193.2</td>\n",
       "      <td>4</td>\n",
       "    </tr>\n",
       "    <tr>\n",
       "      <th>3</th>\n",
       "      <td>id2150126</td>\n",
       "      <td>2</td>\n",
       "      <td>6/30/2016 23:59</td>\n",
       "      <td>1</td>\n",
       "      <td>-73.956070</td>\n",
       "      <td>40.771900</td>\n",
       "      <td>-73.986427</td>\n",
       "      <td>40.730469</td>\n",
       "      <td>N</td>\n",
       "      <td>7023.9</td>\n",
       "      <td>494.8</td>\n",
       "      <td>11</td>\n",
       "    </tr>\n",
       "    <tr>\n",
       "      <th>4</th>\n",
       "      <td>id1598245</td>\n",
       "      <td>1</td>\n",
       "      <td>6/30/2016 23:59</td>\n",
       "      <td>1</td>\n",
       "      <td>-73.970215</td>\n",
       "      <td>40.761475</td>\n",
       "      <td>-73.961510</td>\n",
       "      <td>40.755890</td>\n",
       "      <td>N</td>\n",
       "      <td>1108.2</td>\n",
       "      <td>103.2</td>\n",
       "      <td>4</td>\n",
       "    </tr>\n",
       "  </tbody>\n",
       "</table>\n",
       "</div>"
      ],
      "text/plain": [
       "<div>\n",
       "<style>\n",
       "    .dataframe thead tr:only-child th {\n",
       "        text-align: right;\n",
       "    }\n",
       "\n",
       "    .dataframe thead th {\n",
       "        text-align: left;\n",
       "    }\n",
       "\n",
       "    .dataframe tbody tr th {\n",
       "        vertical-align: top;\n",
       "    }\n",
       "</style>\n",
       "<table border=\"1\" class=\"dataframe\">\n",
       "  <thead>\n",
       "    <tr style=\"text-align: right;\">\n",
       "      <th></th>\n",
       "      <th>id</th>\n",
       "      <th>vendor_id</th>\n",
       "      <th>pickup_datetime</th>\n",
       "      <th>passenger_count</th>\n",
       "      <th>pickup_longitude</th>\n",
       "      <th>pickup_latitude</th>\n",
       "      <th>dropoff_longitude</th>\n",
       "      <th>dropoff_latitude</th>\n",
       "      <th>store_and_fwd_flag</th>\n",
       "      <th>total_distance</th>\n",
       "      <th>total_travel_time</th>\n",
       "      <th>number_of_steps</th>\n",
       "    </tr>\n",
       "  </thead>\n",
       "  <tbody>\n",
       "    <tr>\n",
       "      <th>0</th>\n",
       "      <td>id3004672</td>\n",
       "      <td>1</td>\n",
       "      <td>6/30/2016 23:59</td>\n",
       "      <td>1</td>\n",
       "      <td>-73.988129</td>\n",
       "      <td>40.732029</td>\n",
       "      <td>-73.990173</td>\n",
       "      <td>40.756680</td>\n",
       "      <td>N</td>\n",
       "      <td>3795.9</td>\n",
       "      <td>424.6</td>\n",
       "      <td>4</td>\n",
       "    </tr>\n",
       "    <tr>\n",
       "      <th>1</th>\n",
       "      <td>id3505355</td>\n",
       "      <td>1</td>\n",
       "      <td>6/30/2016 23:59</td>\n",
       "      <td>1</td>\n",
       "      <td>-73.964203</td>\n",
       "      <td>40.679993</td>\n",
       "      <td>-73.959808</td>\n",
       "      <td>40.655403</td>\n",
       "      <td>N</td>\n",
       "      <td>2904.5</td>\n",
       "      <td>200.0</td>\n",
       "      <td>4</td>\n",
       "    </tr>\n",
       "    <tr>\n",
       "      <th>2</th>\n",
       "      <td>id1217141</td>\n",
       "      <td>1</td>\n",
       "      <td>6/30/2016 23:59</td>\n",
       "      <td>1</td>\n",
       "      <td>-73.997437</td>\n",
       "      <td>40.737583</td>\n",
       "      <td>-73.986160</td>\n",
       "      <td>40.729523</td>\n",
       "      <td>N</td>\n",
       "      <td>1499.5</td>\n",
       "      <td>193.2</td>\n",
       "      <td>4</td>\n",
       "    </tr>\n",
       "    <tr>\n",
       "      <th>3</th>\n",
       "      <td>id2150126</td>\n",
       "      <td>2</td>\n",
       "      <td>6/30/2016 23:59</td>\n",
       "      <td>1</td>\n",
       "      <td>-73.956070</td>\n",
       "      <td>40.771900</td>\n",
       "      <td>-73.986427</td>\n",
       "      <td>40.730469</td>\n",
       "      <td>N</td>\n",
       "      <td>7023.9</td>\n",
       "      <td>494.8</td>\n",
       "      <td>11</td>\n",
       "    </tr>\n",
       "    <tr>\n",
       "      <th>4</th>\n",
       "      <td>id1598245</td>\n",
       "      <td>1</td>\n",
       "      <td>6/30/2016 23:59</td>\n",
       "      <td>1</td>\n",
       "      <td>-73.970215</td>\n",
       "      <td>40.761475</td>\n",
       "      <td>-73.961510</td>\n",
       "      <td>40.755890</td>\n",
       "      <td>N</td>\n",
       "      <td>1108.2</td>\n",
       "      <td>103.2</td>\n",
       "      <td>4</td>\n",
       "    </tr>\n",
       "  </tbody>\n",
       "</table>\n",
       "</div>"
      ]
     },
     "execution_count": 202,
     "metadata": {},
     "output_type": "execute_result"
    }
   ],
   "source": [
    "# 1. Loading test data from competition and OSRM features for test data\n",
    "test_df = pd.read_csv('data/test.csv')\n",
    "test_fr = pd.read_csv('data/new-york-city-taxi-with-osrm/fastest_routes_test.csv')\n",
    "test_fr_new = test_fr[['id', 'total_distance', 'total_travel_time', 'number_of_steps']]\n",
    "test_df = pd.merge(test_df, test_fr_new, on = 'id', how = 'left')\n",
    "test_df.head()"
   ]
  },
  {
   "cell_type": "code",
   "execution_count": 203,
   "metadata": {},
   "outputs": [
    {
     "name": "stdout",
     "output_type": "stream",
     "text": [
      "Time taken by above cell is 135.9136347770691."
     ]
    },
    {
     "name": "stdout",
     "output_type": "stream",
     "text": [
      "\n"
     ]
    }
   ],
   "source": [
    "#2. Extracting date time features\n",
    "start = time.time()\n",
    "test_data = test_df.copy()\n",
    "test_data['pickup_datetime'] = pd.to_datetime(test_data.pickup_datetime)\n",
    "test_data.loc[:, 'pick_month'] = test_data['pickup_datetime'].dt.month\n",
    "test_data.loc[:, 'hour'] = test_data['pickup_datetime'].dt.hour\n",
    "test_data.loc[:, 'week_of_year'] = test_data['pickup_datetime'].dt.weekofyear\n",
    "test_data.loc[:, 'day_of_year'] = test_data['pickup_datetime'].dt.dayofyear\n",
    "test_data.loc[:, 'day_of_week'] = test_data['pickup_datetime'].dt.dayofweek\n",
    "end = time.time()\n",
    "print(\"Time taken by above cell is {}.\".format(end-start))"
   ]
  },
  {
   "cell_type": "code",
   "execution_count": 204,
   "metadata": {},
   "outputs": [
    {
     "name": "stdout",
     "output_type": "stream",
     "text": [
      "Time taken by above cell is 0.8101544380187988."
     ]
    },
    {
     "name": "stdout",
     "output_type": "stream",
     "text": [
      "\n"
     ]
    }
   ],
   "source": [
    "#3. Extracting haversine, manhattan, and bearing distance and directional features \n",
    "strat = time.time()\n",
    "test_data.loc[:,'hvsine_pick_drop'] = haversine_(test_data['pickup_latitude'].values, \n",
    "                                                 test_data['pickup_longitude'].values, \n",
    "                                                 test_data['dropoff_latitude'].values, \n",
    "                                                 test_data['dropoff_longitude'].values)\n",
    "\n",
    "test_data.loc[:,'manhtn_pick_drop'] = manhattan_distance_pd(test_data['pickup_latitude'].values, \n",
    "                                                            test_data['pickup_longitude'].values, \n",
    "                                                            test_data['dropoff_latitude'].values, \n",
    "                                                            test_data['dropoff_longitude'].values)\n",
    "\n",
    "\n",
    "test_data.loc[:,'bearing'] = bearing_array(test_data['pickup_latitude'].values, \n",
    "                                           test_data['pickup_longitude'].values, \n",
    "                                           test_data['dropoff_latitude'].values, \n",
    "                                           test_data['dropoff_longitude'].values)\n",
    "\n",
    "end = time.time()\n",
    "print(\"Time taken by above cell is {}.\".format(end-strat))"
   ]
  },
  {
   "cell_type": "code",
   "execution_count": 205,
   "metadata": {},
   "outputs": [
    {
     "name": "stdout",
     "output_type": "stream",
     "text": [
      "Time Taken by above cell is 1.2718830108642578."
     ]
    },
    {
     "name": "stdout",
     "output_type": "stream",
     "text": [
      "\n"
     ]
    }
   ],
   "source": [
    "# 4. Extracting cluster features\n",
    "start = time.time()\n",
    "test_data['label_pick'] = k_means.predict(test_data[['pickup_longitude','pickup_latitude']])\n",
    "test_data['label_drop'] = k_means.predict(test_data[['dropoff_longitude','dropoff_latitude']])\n",
    "test_cl = pd.merge(test_data, centroid_pickups, how='left', on=['label_pick'])\n",
    "test_cl = pd.merge(test_cl, centroid_dropoff, how='left', on=['label_drop'])\n",
    "#test_cl.head()\n",
    "end = time.time()\n",
    "print(\"Time Taken by above cell is {}.\".format(end-start))"
   ]
  },
  {
   "cell_type": "code",
   "execution_count": 206,
   "metadata": {},
   "outputs": [
    {
     "name": "stdout",
     "output_type": "stream",
     "text": [
      "Time Taken by above cell is 2.520704984664917."
     ]
    },
    {
     "name": "stdout",
     "output_type": "stream",
     "text": [
      "\n"
     ]
    },
    {
     "data": {
      "text/html": [
       "<div>\n",
       "<style>\n",
       "    .dataframe thead tr:only-child th {\n",
       "        text-align: right;\n",
       "    }\n",
       "\n",
       "    .dataframe thead th {\n",
       "        text-align: left;\n",
       "    }\n",
       "\n",
       "    .dataframe tbody tr th {\n",
       "        vertical-align: top;\n",
       "    }\n",
       "</style>\n",
       "<table border=\"1\" class=\"dataframe\">\n",
       "  <thead>\n",
       "    <tr style=\"text-align: right;\">\n",
       "      <th></th>\n",
       "      <th>id</th>\n",
       "      <th>vendor_id</th>\n",
       "      <th>pickup_datetime</th>\n",
       "      <th>passenger_count</th>\n",
       "      <th>pickup_longitude</th>\n",
       "      <th>pickup_latitude</th>\n",
       "      <th>dropoff_longitude</th>\n",
       "      <th>dropoff_latitude</th>\n",
       "      <th>store_and_fwd_flag</th>\n",
       "      <th>total_distance</th>\n",
       "      <th>...</th>\n",
       "      <th>hvsine_drop_cent_d</th>\n",
       "      <th>hvsine_cent_p_cent_d</th>\n",
       "      <th>manhtn_pick_cent_p</th>\n",
       "      <th>manhtn_drop_cent_d</th>\n",
       "      <th>manhtn_cent_p_cent_d</th>\n",
       "      <th>bearing_pick_cent_p</th>\n",
       "      <th>bearing_drop_cent_p</th>\n",
       "      <th>bearing_cent_p_cent_d</th>\n",
       "      <th>speed_hvsn</th>\n",
       "      <th>speed_manhtn</th>\n",
       "    </tr>\n",
       "  </thead>\n",
       "  <tbody>\n",
       "    <tr>\n",
       "      <th>0</th>\n",
       "      <td>id3004672</td>\n",
       "      <td>1</td>\n",
       "      <td>2016-06-30 23:59:00</td>\n",
       "      <td>1</td>\n",
       "      <td>-73.988129</td>\n",
       "      <td>40.732029</td>\n",
       "      <td>-73.990173</td>\n",
       "      <td>40.756680</td>\n",
       "      <td>N</td>\n",
       "      <td>3795.9</td>\n",
       "      <td>...</td>\n",
       "      <td>0.460745</td>\n",
       "      <td>2.557813</td>\n",
       "      <td>0.316489</td>\n",
       "      <td>0.572701</td>\n",
       "      <td>2.657047</td>\n",
       "      <td>166.844158</td>\n",
       "      <td>163.485792</td>\n",
       "      <td>-2.267563</td>\n",
       "      <td>0.006468</td>\n",
       "      <td>0.006861</td>\n",
       "    </tr>\n",
       "    <tr>\n",
       "      <th>1</th>\n",
       "      <td>id3505355</td>\n",
       "      <td>1</td>\n",
       "      <td>2016-06-30 23:59:00</td>\n",
       "      <td>1</td>\n",
       "      <td>-73.964203</td>\n",
       "      <td>40.679993</td>\n",
       "      <td>-73.959808</td>\n",
       "      <td>40.655403</td>\n",
       "      <td>N</td>\n",
       "      <td>2904.5</td>\n",
       "      <td>...</td>\n",
       "      <td>4.035734</td>\n",
       "      <td>0.000000</td>\n",
       "      <td>1.680995</td>\n",
       "      <td>4.786109</td>\n",
       "      <td>0.000000</td>\n",
       "      <td>-21.064990</td>\n",
       "      <td>-11.983231</td>\n",
       "      <td>0.000000</td>\n",
       "      <td>0.013796</td>\n",
       "      <td>0.015524</td>\n",
       "    </tr>\n",
       "    <tr>\n",
       "      <th>2</th>\n",
       "      <td>id1217141</td>\n",
       "      <td>1</td>\n",
       "      <td>2016-06-30 23:59:00</td>\n",
       "      <td>1</td>\n",
       "      <td>-73.997437</td>\n",
       "      <td>40.737583</td>\n",
       "      <td>-73.986160</td>\n",
       "      <td>40.729523</td>\n",
       "      <td>N</td>\n",
       "      <td>1499.5</td>\n",
       "      <td>...</td>\n",
       "      <td>0.108194</td>\n",
       "      <td>1.520191</td>\n",
       "      <td>0.425801</td>\n",
       "      <td>0.128053</td>\n",
       "      <td>2.144081</td>\n",
       "      <td>-68.660074</td>\n",
       "      <td>-78.185424</td>\n",
       "      <td>130.816473</td>\n",
       "      <td>0.006761</td>\n",
       "      <td>0.009557</td>\n",
       "    </tr>\n",
       "    <tr>\n",
       "      <th>3</th>\n",
       "      <td>id2150126</td>\n",
       "      <td>2</td>\n",
       "      <td>2016-06-30 23:59:00</td>\n",
       "      <td>1</td>\n",
       "      <td>-73.956070</td>\n",
       "      <td>40.771900</td>\n",
       "      <td>-73.986427</td>\n",
       "      <td>40.730469</td>\n",
       "      <td>N</td>\n",
       "      <td>7023.9</td>\n",
       "      <td>...</td>\n",
       "      <td>0.117694</td>\n",
       "      <td>5.622357</td>\n",
       "      <td>0.327942</td>\n",
       "      <td>0.166443</td>\n",
       "      <td>7.657602</td>\n",
       "      <td>29.968069</td>\n",
       "      <td>-134.876849</td>\n",
       "      <td>-150.583803</td>\n",
       "      <td>0.010649</td>\n",
       "      <td>0.014477</td>\n",
       "    </tr>\n",
       "    <tr>\n",
       "      <th>4</th>\n",
       "      <td>id1598245</td>\n",
       "      <td>1</td>\n",
       "      <td>2016-06-30 23:59:00</td>\n",
       "      <td>1</td>\n",
       "      <td>-73.970215</td>\n",
       "      <td>40.761475</td>\n",
       "      <td>-73.961510</td>\n",
       "      <td>40.755890</td>\n",
       "      <td>N</td>\n",
       "      <td>1108.2</td>\n",
       "      <td>...</td>\n",
       "      <td>1.015384</td>\n",
       "      <td>0.000000</td>\n",
       "      <td>0.620567</td>\n",
       "      <td>1.234924</td>\n",
       "      <td>0.000000</td>\n",
       "      <td>-145.882392</td>\n",
       "      <td>-75.681715</td>\n",
       "      <td>0.000000</td>\n",
       "      <td>0.009310</td>\n",
       "      <td>0.013122</td>\n",
       "    </tr>\n",
       "  </tbody>\n",
       "</table>\n",
       "<p>5 rows × 37 columns</p>\n",
       "</div>"
      ],
      "text/plain": [
       "<div>\n",
       "<style>\n",
       "    .dataframe thead tr:only-child th {\n",
       "        text-align: right;\n",
       "    }\n",
       "\n",
       "    .dataframe thead th {\n",
       "        text-align: left;\n",
       "    }\n",
       "\n",
       "    .dataframe tbody tr th {\n",
       "        vertical-align: top;\n",
       "    }\n",
       "</style>\n",
       "<table border=\"1\" class=\"dataframe\">\n",
       "  <thead>\n",
       "    <tr style=\"text-align: right;\">\n",
       "      <th></th>\n",
       "      <th>id</th>\n",
       "      <th>vendor_id</th>\n",
       "      <th>pickup_datetime</th>\n",
       "      <th>passenger_count</th>\n",
       "      <th>pickup_longitude</th>\n",
       "      <th>pickup_latitude</th>\n",
       "      <th>dropoff_longitude</th>\n",
       "      <th>dropoff_latitude</th>\n",
       "      <th>store_and_fwd_flag</th>\n",
       "      <th>total_distance</th>\n",
       "      <th>...</th>\n",
       "      <th>hvsine_drop_cent_d</th>\n",
       "      <th>hvsine_cent_p_cent_d</th>\n",
       "      <th>manhtn_pick_cent_p</th>\n",
       "      <th>manhtn_drop_cent_d</th>\n",
       "      <th>manhtn_cent_p_cent_d</th>\n",
       "      <th>bearing_pick_cent_p</th>\n",
       "      <th>bearing_drop_cent_p</th>\n",
       "      <th>bearing_cent_p_cent_d</th>\n",
       "      <th>speed_hvsn</th>\n",
       "      <th>speed_manhtn</th>\n",
       "    </tr>\n",
       "  </thead>\n",
       "  <tbody>\n",
       "    <tr>\n",
       "      <th>0</th>\n",
       "      <td>id3004672</td>\n",
       "      <td>1</td>\n",
       "      <td>2016-06-30 23:59:00</td>\n",
       "      <td>1</td>\n",
       "      <td>-73.988129</td>\n",
       "      <td>40.732029</td>\n",
       "      <td>-73.990173</td>\n",
       "      <td>40.756680</td>\n",
       "      <td>N</td>\n",
       "      <td>3795.9</td>\n",
       "      <td>...</td>\n",
       "      <td>0.460745</td>\n",
       "      <td>2.557813</td>\n",
       "      <td>0.316489</td>\n",
       "      <td>0.572701</td>\n",
       "      <td>2.657047</td>\n",
       "      <td>166.844158</td>\n",
       "      <td>163.485792</td>\n",
       "      <td>-2.267563</td>\n",
       "      <td>0.006468</td>\n",
       "      <td>0.006861</td>\n",
       "    </tr>\n",
       "    <tr>\n",
       "      <th>1</th>\n",
       "      <td>id3505355</td>\n",
       "      <td>1</td>\n",
       "      <td>2016-06-30 23:59:00</td>\n",
       "      <td>1</td>\n",
       "      <td>-73.964203</td>\n",
       "      <td>40.679993</td>\n",
       "      <td>-73.959808</td>\n",
       "      <td>40.655403</td>\n",
       "      <td>N</td>\n",
       "      <td>2904.5</td>\n",
       "      <td>...</td>\n",
       "      <td>4.035734</td>\n",
       "      <td>0.000000</td>\n",
       "      <td>1.680995</td>\n",
       "      <td>4.786109</td>\n",
       "      <td>0.000000</td>\n",
       "      <td>-21.064990</td>\n",
       "      <td>-11.983231</td>\n",
       "      <td>0.000000</td>\n",
       "      <td>0.013796</td>\n",
       "      <td>0.015524</td>\n",
       "    </tr>\n",
       "    <tr>\n",
       "      <th>2</th>\n",
       "      <td>id1217141</td>\n",
       "      <td>1</td>\n",
       "      <td>2016-06-30 23:59:00</td>\n",
       "      <td>1</td>\n",
       "      <td>-73.997437</td>\n",
       "      <td>40.737583</td>\n",
       "      <td>-73.986160</td>\n",
       "      <td>40.729523</td>\n",
       "      <td>N</td>\n",
       "      <td>1499.5</td>\n",
       "      <td>...</td>\n",
       "      <td>0.108194</td>\n",
       "      <td>1.520191</td>\n",
       "      <td>0.425801</td>\n",
       "      <td>0.128053</td>\n",
       "      <td>2.144081</td>\n",
       "      <td>-68.660074</td>\n",
       "      <td>-78.185424</td>\n",
       "      <td>130.816473</td>\n",
       "      <td>0.006761</td>\n",
       "      <td>0.009557</td>\n",
       "    </tr>\n",
       "    <tr>\n",
       "      <th>3</th>\n",
       "      <td>id2150126</td>\n",
       "      <td>2</td>\n",
       "      <td>2016-06-30 23:59:00</td>\n",
       "      <td>1</td>\n",
       "      <td>-73.956070</td>\n",
       "      <td>40.771900</td>\n",
       "      <td>-73.986427</td>\n",
       "      <td>40.730469</td>\n",
       "      <td>N</td>\n",
       "      <td>7023.9</td>\n",
       "      <td>...</td>\n",
       "      <td>0.117694</td>\n",
       "      <td>5.622357</td>\n",
       "      <td>0.327942</td>\n",
       "      <td>0.166443</td>\n",
       "      <td>7.657602</td>\n",
       "      <td>29.968069</td>\n",
       "      <td>-134.876849</td>\n",
       "      <td>-150.583803</td>\n",
       "      <td>0.010649</td>\n",
       "      <td>0.014477</td>\n",
       "    </tr>\n",
       "    <tr>\n",
       "      <th>4</th>\n",
       "      <td>id1598245</td>\n",
       "      <td>1</td>\n",
       "      <td>2016-06-30 23:59:00</td>\n",
       "      <td>1</td>\n",
       "      <td>-73.970215</td>\n",
       "      <td>40.761475</td>\n",
       "      <td>-73.961510</td>\n",
       "      <td>40.755890</td>\n",
       "      <td>N</td>\n",
       "      <td>1108.2</td>\n",
       "      <td>...</td>\n",
       "      <td>1.015384</td>\n",
       "      <td>0.000000</td>\n",
       "      <td>0.620567</td>\n",
       "      <td>1.234924</td>\n",
       "      <td>0.000000</td>\n",
       "      <td>-145.882392</td>\n",
       "      <td>-75.681715</td>\n",
       "      <td>0.000000</td>\n",
       "      <td>0.009310</td>\n",
       "      <td>0.013122</td>\n",
       "    </tr>\n",
       "  </tbody>\n",
       "</table>\n",
       "<p>5 rows × 37 columns</p>\n",
       "</div>"
      ]
     },
     "execution_count": 206,
     "metadata": {},
     "output_type": "execute_result"
    }
   ],
   "source": [
    "start = time.time()\n",
    "test_cl.loc[:,'hvsine_pick_cent_p'] = haversine_(test_cl['pickup_latitude'].values, \n",
    "                                                 test_cl['pickup_longitude'].values, \n",
    "                                                 test_cl['centroid_pick_lat'].values, \n",
    "                                                 test_cl['centroid_pick_long'].values)\n",
    "\n",
    "test_cl.loc[:,'hvsine_drop_cent_d'] = haversine_(test_cl['dropoff_latitude'].values, \n",
    "                                                 test_cl['dropoff_longitude'].values, \n",
    "                                                 test_cl['centroid_drop_lat'].values, \n",
    "                                                 test_cl['centroid_drop_long'].values)\n",
    "\n",
    "test_cl.loc[:,'hvsine_cent_p_cent_d'] = haversine_(test_cl['centroid_pick_lat'].values, \n",
    "                                                   test_cl['centroid_pick_long'].values, \n",
    "                                                   test_cl['centroid_drop_lat'].values, \n",
    "                                                   test_cl['centroid_drop_long'].values)\n",
    "\n",
    "test_cl.loc[:,'manhtn_pick_cent_p'] = manhattan_distance_pd(test_cl['pickup_latitude'].values, \n",
    "                                                            test_cl['pickup_longitude'].values, \n",
    "                                                            test_cl['centroid_pick_lat'].values, \n",
    "                                                            test_cl['centroid_pick_long'].values)\n",
    "\n",
    "test_cl.loc[:,'manhtn_drop_cent_d'] = manhattan_distance_pd(test_cl['dropoff_latitude'].values, \n",
    "                                                            test_cl['dropoff_longitude'].values, \n",
    "                                                            test_cl['centroid_drop_lat'].values, \n",
    "                                                            test_cl['centroid_drop_long'].values)\n",
    "\n",
    "test_cl.loc[:,'manhtn_cent_p_cent_d'] = manhattan_distance_pd(test_cl['centroid_pick_lat'].values, \n",
    "                                                              test_cl['centroid_pick_long'].values, \n",
    "                                                              test_cl['centroid_drop_lat'].values, \n",
    "                                                              test_cl['centroid_drop_long'].values)\n",
    "\n",
    "test_cl.loc[:,'bearing_pick_cent_p'] = bearing_array(test_cl['pickup_latitude'].values, \n",
    "                                                     test_cl['pickup_longitude'].values, \n",
    "                                                     test_cl['centroid_pick_lat'].values, \n",
    "                                                     test_cl['centroid_pick_long'].values)\n",
    "\n",
    "test_cl.loc[:,'bearing_drop_cent_p'] = bearing_array(test_cl['dropoff_latitude'].values, \n",
    "                                                     test_cl['dropoff_longitude'].values, \n",
    "                                                     test_cl['centroid_drop_lat'].values, \n",
    "                                                     test_cl['centroid_drop_long'].values)\n",
    "\n",
    "test_cl.loc[:,'bearing_cent_p_cent_d'] = bearing_array(test_cl['centroid_pick_lat'].values, \n",
    "                                                       test_cl['centroid_pick_long'].values, \n",
    "                                                       test_cl['centroid_drop_lat'].values, \n",
    "                                                       test_cl['centroid_drop_long'].values)\n",
    "\n",
    "test_cl['speed_hvsn'] = test_cl.hvsine_pick_drop/test_cl.total_travel_time\n",
    "test_cl['speed_manhtn'] = test_cl.manhtn_pick_drop/test_cl.total_travel_time\n",
    "end = time.time()\n",
    "print(\"Time Taken by above cell is {}.\".format(end-start))\n",
    "\n",
    "test_cl.head()"
   ]
  },
  {
   "cell_type": "markdown",
   "metadata": {},
   "source": [
    "# Prediction & Validation by XGB Model"
   ]
  },
  {
   "cell_type": "markdown",
   "metadata": {},
   "source": [
    "## Use XGBoost regressor for prediction. \n",
    "## 1. Train XGB on training features \n",
    "## 2. Use trained model for prediction."
   ]
  },
  {
   "cell_type": "code",
   "execution_count": 207,
   "metadata": {},
   "outputs": [],
   "source": [
    "import xgboost as xgb\n",
    "from sklearn.model_selection import train_test_split\n",
    "from sklearn.decomposition import PCA\n",
    "from sklearn.cluster import MiniBatchKMeans\n",
    "import warnings"
   ]
  },
  {
   "cell_type": "markdown",
   "metadata": {},
   "source": [
    "## Add PCA features in the model"
   ]
  },
  {
   "cell_type": "code",
   "execution_count": 209,
   "metadata": {},
   "outputs": [
    {
     "name": "stdout",
     "output_type": "stream",
     "text": [
      "Time Taken by above cell is 1.3275306224822998."
     ]
    },
    {
     "name": "stdout",
     "output_type": "stream",
     "text": [
      "\n"
     ]
    }
   ],
   "source": [
    "train = train_cl\n",
    "test = test_cl\n",
    "start = time.time()\n",
    "coords = np.vstack((train[['pickup_latitude', 'pickup_longitude']].values,\n",
    "                    train[['dropoff_latitude', 'dropoff_longitude']].values,\n",
    "                    test[['pickup_latitude', 'pickup_longitude']].values,\n",
    "                    test[['dropoff_latitude', 'dropoff_longitude']].values))\n",
    "\n",
    "pca = PCA().fit(coords)\n",
    "train['pickup_pca0'] = pca.transform(train[['pickup_latitude', 'pickup_longitude']])[:, 0]\n",
    "train['pickup_pca1'] = pca.transform(train[['pickup_latitude', 'pickup_longitude']])[:, 1]\n",
    "train['dropoff_pca0'] = pca.transform(train[['dropoff_latitude', 'dropoff_longitude']])[:, 0]\n",
    "train['dropoff_pca1'] = pca.transform(train[['dropoff_latitude', 'dropoff_longitude']])[:, 1]\n",
    "test['pickup_pca0'] = pca.transform(test[['pickup_latitude', 'pickup_longitude']])[:, 0]\n",
    "test['pickup_pca1'] = pca.transform(test[['pickup_latitude', 'pickup_longitude']])[:, 1]\n",
    "test['dropoff_pca0'] = pca.transform(test[['dropoff_latitude', 'dropoff_longitude']])[:, 0]\n",
    "test['dropoff_pca1'] = pca.transform(test[['dropoff_latitude', 'dropoff_longitude']])[:, 1]\n",
    "end = time.time()\n",
    "print(\"Time Taken by above cell is {}.\".format(end - start))"
   ]
  },
  {
   "cell_type": "code",
   "execution_count": 210,
   "metadata": {},
   "outputs": [],
   "source": [
    "# Replace with 0 or 1:\n",
    "train['store_and_fwd_flag_int'] = np.where(train['store_and_fwd_flag']=='N', 0, 1)\n",
    "test['store_and_fwd_flag_int'] = np.where(test['store_and_fwd_flag']=='N', 0, 1)"
   ]
  },
  {
   "cell_type": "markdown",
   "metadata": {},
   "source": [
    "## Get the difference of features in train and test"
   ]
  },
  {
   "cell_type": "code",
   "execution_count": 211,
   "metadata": {},
   "outputs": [
    {
     "name": "stdout",
     "output_type": "stream",
     "text": [
      "Difference of features in train and test are ['dropoff_datetime' 'trip_duration']"
     ]
    },
    {
     "name": "stdout",
     "output_type": "stream",
     "text": [
      "\n"
     ]
    },
    {
     "name": "stdout",
     "output_type": "stream",
     "text": [
      "\n"
     ]
    },
    {
     "name": "stdout",
     "output_type": "stream",
     "text": [
      "We will be using following features for training ['vendor_id', 'passenger_count', 'pickup_longitude', 'pickup_latitude', 'dropoff_longitude', 'dropoff_latitude', 'total_distance', 'total_travel_time', 'number_of_steps', 'pick_month', 'hour', 'week_of_year', 'day_of_year', 'day_of_week', 'hvsine_pick_drop', 'manhtn_pick_drop', 'bearing', 'label_pick', 'label_drop', 'centroid_pick_long', 'centroid_pick_lat', 'centroid_drop_long', 'centroid_drop_lat', 'hvsine_pick_cent_p', 'hvsine_drop_cent_d', 'hvsine_cent_p_cent_d', 'manhtn_pick_cent_p', 'manhtn_drop_cent_d', 'manhtn_cent_p_cent_d', 'bearing_pick_cent_p', 'bearing_drop_cent_p', 'bearing_cent_p_cent_d', 'speed_hvsn', 'speed_manhtn', 'pickup_pca0', 'pickup_pca1', 'dropoff_pca0', 'dropoff_pca1', 'store_and_fwd_flag_int']."
     ]
    },
    {
     "name": "stdout",
     "output_type": "stream",
     "text": [
      "\n"
     ]
    },
    {
     "name": "stdout",
     "output_type": "stream",
     "text": [
      "\n"
     ]
    },
    {
     "name": "stdout",
     "output_type": "stream",
     "text": [
      "Total number of features are 39."
     ]
    },
    {
     "name": "stdout",
     "output_type": "stream",
     "text": [
      "\n"
     ]
    }
   ],
   "source": [
    "feature_names = list(train.columns)\n",
    "print(\"Difference of features in train and test are {}\".format(np.setdiff1d(train.columns, test.columns)))\n",
    "print(\"\")\n",
    "do_not_use_for_training = ['pick_date','id', 'pickup_datetime', 'dropoff_datetime', 'trip_duration', 'store_and_fwd_flag']\n",
    "feature_names = [f for f in train.columns if f not in do_not_use_for_training]\n",
    "print(\"We will be using following features for training {}.\".format(feature_names))\n",
    "print(\"\")\n",
    "print(\"Total number of features are {}.\".format(len(feature_names)))"
   ]
  },
  {
   "cell_type": "code",
   "execution_count": 89,
   "metadata": {},
   "outputs": [
    {
     "name": "stdout",
     "output_type": "stream",
     "text": [
      "[0]\ttrain-rmse:4.22632\tvalid-rmse:4.22757\n"
     ]
    },
    {
     "name": "stdout",
     "output_type": "stream",
     "text": [
      "Multiple eval metrics have been passed: 'valid-rmse' will be used for early stopping.\n\n"
     ]
    },
    {
     "name": "stdout",
     "output_type": "stream",
     "text": [
      "Will train until valid-rmse hasn't improved in 2 rounds.\n"
     ]
    },
    {
     "name": "stdout",
     "output_type": "stream",
     "text": [
      "[1]\ttrain-rmse:2.97634\tvalid-rmse:2.9779\n"
     ]
    },
    {
     "name": "stdout",
     "output_type": "stream",
     "text": [
      "[2]\ttrain-rmse:2.10627\tvalid-rmse:2.10828\n"
     ]
    },
    {
     "name": "stdout",
     "output_type": "stream",
     "text": [
      "[3]\ttrain-rmse:1.50768\tvalid-rmse:1.51038\n"
     ]
    },
    {
     "name": "stdout",
     "output_type": "stream",
     "text": [
      "[4]\ttrain-rmse:1.0977\tvalid-rmse:1.1013\n"
     ]
    },
    {
     "name": "stdout",
     "output_type": "stream",
     "text": [
      "[5]\ttrain-rmse:0.82356\tvalid-rmse:0.828341\n"
     ]
    },
    {
     "name": "stdout",
     "output_type": "stream",
     "text": [
      "[6]\ttrain-rmse:0.645152\tvalid-rmse:0.651593\n"
     ]
    },
    {
     "name": "stdout",
     "output_type": "stream",
     "text": [
      "[7]\ttrain-rmse:0.535765\tvalid-rmse:0.54387\n"
     ]
    },
    {
     "name": "stdout",
     "output_type": "stream",
     "text": [
      "[8]\ttrain-rmse:0.472743\tvalid-rmse:0.482233\n"
     ]
    },
    {
     "name": "stdout",
     "output_type": "stream",
     "text": [
      "[9]\ttrain-rmse:0.437489\tvalid-rmse:0.448313\n"
     ]
    },
    {
     "name": "stdout",
     "output_type": "stream",
     "text": [
      "[10]\ttrain-rmse:0.41794\tvalid-rmse:0.429668\n"
     ]
    },
    {
     "name": "stdout",
     "output_type": "stream",
     "text": [
      "[11]\ttrain-rmse:0.407544\tvalid-rmse:0.419869\n"
     ]
    },
    {
     "name": "stdout",
     "output_type": "stream",
     "text": [
      "[12]\ttrain-rmse:0.401203\tvalid-rmse:0.414095\n"
     ]
    },
    {
     "name": "stdout",
     "output_type": "stream",
     "text": [
      "[13]\ttrain-rmse:0.398004\tvalid-rmse:0.411455\n"
     ]
    }
   ],
   "source": [
    "y = np.log(train['trip_duration'].values + 1)\n",
    "start = time.time()\n",
    "Xtr, Xv, ytr, yv = train_test_split(train[feature_names].values, y, test_size=0.2, random_state=1987)\n",
    "dtrain = xgb.DMatrix(Xtr, label=ytr) #DMatrix: object of XGBoost\n",
    "dvalid = xgb.DMatrix(Xv, label=yv)\n",
    "dtest = xgb.DMatrix(test[feature_names].values)\n",
    "watchlist = [(dtrain, 'train'), (dvalid, 'valid')]\n",
    "\n",
    "xgb_pars = {'min_child_weight': 50, 'eta': 0.3, 'colsample_bytree': 0.3, 'max_depth': 10,\n",
    "            'subsample': 0.8, 'lambda': 1., 'nthread': -1, 'booster' : 'gbtree', 'silent': 1,\n",
    "            'eval_metric': 'rmse', 'objective': 'reg:linear'}\n",
    "\n",
    "model = xgb.train(xgb_pars, dtrain, 15, watchlist, early_stopping_rounds=2,\n",
    "                  maximize=False, verbose_eval=1)\n",
    "end = time.time()\n",
    "print(\"Time taken by above cell is {}.\".format(end - start))\n",
    "print('Modeling RMSLE %.5f' % model.best_score)"
   ]
  },
  {
   "cell_type": "markdown",
   "metadata": {},
   "source": [
    "# Feature Extraction Round 2 with weather data\n",
    "## By Extraction on following features as RMSLE is not going below 0.38\n",
    "## 1. Pick to drop cluster\n",
    "## 2. Drop to pickup cluster\n",
    "## 3. Number of lefts\n",
    "## 4. Number of rights ( 3,4 from osrm data)\n",
    "## 5. Check weather in nyc dataset and see if it can be used as feature"
   ]
  },
  {
   "cell_type": "code",
   "execution_count": 212,
   "metadata": {},
   "outputs": [
    {
     "data": {
      "text/html": [
       "<div>\n",
       "<style>\n",
       "    .dataframe thead tr:only-child th {\n",
       "        text-align: right;\n",
       "    }\n",
       "\n",
       "    .dataframe thead th {\n",
       "        text-align: left;\n",
       "    }\n",
       "\n",
       "    .dataframe tbody tr th {\n",
       "        vertical-align: top;\n",
       "    }\n",
       "</style>\n",
       "<table border=\"1\" class=\"dataframe\">\n",
       "  <thead>\n",
       "    <tr style=\"text-align: right;\">\n",
       "      <th></th>\n",
       "      <th>date</th>\n",
       "      <th>maximum_temperature</th>\n",
       "      <th>minimum temperature</th>\n",
       "      <th>average_temperature</th>\n",
       "      <th>precipitation</th>\n",
       "      <th>snow fall</th>\n",
       "      <th>snow depth</th>\n",
       "    </tr>\n",
       "  </thead>\n",
       "  <tbody>\n",
       "    <tr>\n",
       "      <th>0</th>\n",
       "      <td>1/1/2016</td>\n",
       "      <td>42</td>\n",
       "      <td>34</td>\n",
       "      <td>38.0</td>\n",
       "      <td>0</td>\n",
       "      <td>0</td>\n",
       "      <td>0</td>\n",
       "    </tr>\n",
       "    <tr>\n",
       "      <th>1</th>\n",
       "      <td>2/1/2016</td>\n",
       "      <td>40</td>\n",
       "      <td>32</td>\n",
       "      <td>36.0</td>\n",
       "      <td>0</td>\n",
       "      <td>0</td>\n",
       "      <td>0</td>\n",
       "    </tr>\n",
       "    <tr>\n",
       "      <th>2</th>\n",
       "      <td>3/1/2016</td>\n",
       "      <td>45</td>\n",
       "      <td>35</td>\n",
       "      <td>40.0</td>\n",
       "      <td>0</td>\n",
       "      <td>0</td>\n",
       "      <td>0</td>\n",
       "    </tr>\n",
       "    <tr>\n",
       "      <th>3</th>\n",
       "      <td>4/1/2016</td>\n",
       "      <td>36</td>\n",
       "      <td>14</td>\n",
       "      <td>25.0</td>\n",
       "      <td>0</td>\n",
       "      <td>0</td>\n",
       "      <td>0</td>\n",
       "    </tr>\n",
       "    <tr>\n",
       "      <th>4</th>\n",
       "      <td>5/1/2016</td>\n",
       "      <td>29</td>\n",
       "      <td>11</td>\n",
       "      <td>20.0</td>\n",
       "      <td>0</td>\n",
       "      <td>0</td>\n",
       "      <td>0</td>\n",
       "    </tr>\n",
       "    <tr>\n",
       "      <th>5</th>\n",
       "      <td>6/1/2016</td>\n",
       "      <td>41</td>\n",
       "      <td>25</td>\n",
       "      <td>33.0</td>\n",
       "      <td>0</td>\n",
       "      <td>0</td>\n",
       "      <td>0</td>\n",
       "    </tr>\n",
       "    <tr>\n",
       "      <th>6</th>\n",
       "      <td>7/1/2016</td>\n",
       "      <td>46</td>\n",
       "      <td>31</td>\n",
       "      <td>38.5</td>\n",
       "      <td>0</td>\n",
       "      <td>0</td>\n",
       "      <td>0</td>\n",
       "    </tr>\n",
       "    <tr>\n",
       "      <th>7</th>\n",
       "      <td>8/1/2016</td>\n",
       "      <td>46</td>\n",
       "      <td>31</td>\n",
       "      <td>38.5</td>\n",
       "      <td>0</td>\n",
       "      <td>0</td>\n",
       "      <td>0</td>\n",
       "    </tr>\n",
       "    <tr>\n",
       "      <th>8</th>\n",
       "      <td>9/1/2016</td>\n",
       "      <td>47</td>\n",
       "      <td>40</td>\n",
       "      <td>43.5</td>\n",
       "      <td>T</td>\n",
       "      <td>0</td>\n",
       "      <td>0</td>\n",
       "    </tr>\n",
       "    <tr>\n",
       "      <th>9</th>\n",
       "      <td>10/1/2016</td>\n",
       "      <td>59</td>\n",
       "      <td>40</td>\n",
       "      <td>49.5</td>\n",
       "      <td>1.8</td>\n",
       "      <td>0</td>\n",
       "      <td>0</td>\n",
       "    </tr>\n",
       "  </tbody>\n",
       "</table>\n",
       "</div>"
      ],
      "text/plain": [
       "<div>\n",
       "<style>\n",
       "    .dataframe thead tr:only-child th {\n",
       "        text-align: right;\n",
       "    }\n",
       "\n",
       "    .dataframe thead th {\n",
       "        text-align: left;\n",
       "    }\n",
       "\n",
       "    .dataframe tbody tr th {\n",
       "        vertical-align: top;\n",
       "    }\n",
       "</style>\n",
       "<table border=\"1\" class=\"dataframe\">\n",
       "  <thead>\n",
       "    <tr style=\"text-align: right;\">\n",
       "      <th></th>\n",
       "      <th>date</th>\n",
       "      <th>maximum_temperature</th>\n",
       "      <th>minimum temperature</th>\n",
       "      <th>average_temperature</th>\n",
       "      <th>precipitation</th>\n",
       "      <th>snow fall</th>\n",
       "      <th>snow depth</th>\n",
       "    </tr>\n",
       "  </thead>\n",
       "  <tbody>\n",
       "    <tr>\n",
       "      <th>0</th>\n",
       "      <td>1/1/2016</td>\n",
       "      <td>42</td>\n",
       "      <td>34</td>\n",
       "      <td>38.0</td>\n",
       "      <td>0</td>\n",
       "      <td>0</td>\n",
       "      <td>0</td>\n",
       "    </tr>\n",
       "    <tr>\n",
       "      <th>1</th>\n",
       "      <td>2/1/2016</td>\n",
       "      <td>40</td>\n",
       "      <td>32</td>\n",
       "      <td>36.0</td>\n",
       "      <td>0</td>\n",
       "      <td>0</td>\n",
       "      <td>0</td>\n",
       "    </tr>\n",
       "    <tr>\n",
       "      <th>2</th>\n",
       "      <td>3/1/2016</td>\n",
       "      <td>45</td>\n",
       "      <td>35</td>\n",
       "      <td>40.0</td>\n",
       "      <td>0</td>\n",
       "      <td>0</td>\n",
       "      <td>0</td>\n",
       "    </tr>\n",
       "    <tr>\n",
       "      <th>3</th>\n",
       "      <td>4/1/2016</td>\n",
       "      <td>36</td>\n",
       "      <td>14</td>\n",
       "      <td>25.0</td>\n",
       "      <td>0</td>\n",
       "      <td>0</td>\n",
       "      <td>0</td>\n",
       "    </tr>\n",
       "    <tr>\n",
       "      <th>4</th>\n",
       "      <td>5/1/2016</td>\n",
       "      <td>29</td>\n",
       "      <td>11</td>\n",
       "      <td>20.0</td>\n",
       "      <td>0</td>\n",
       "      <td>0</td>\n",
       "      <td>0</td>\n",
       "    </tr>\n",
       "    <tr>\n",
       "      <th>5</th>\n",
       "      <td>6/1/2016</td>\n",
       "      <td>41</td>\n",
       "      <td>25</td>\n",
       "      <td>33.0</td>\n",
       "      <td>0</td>\n",
       "      <td>0</td>\n",
       "      <td>0</td>\n",
       "    </tr>\n",
       "    <tr>\n",
       "      <th>6</th>\n",
       "      <td>7/1/2016</td>\n",
       "      <td>46</td>\n",
       "      <td>31</td>\n",
       "      <td>38.5</td>\n",
       "      <td>0</td>\n",
       "      <td>0</td>\n",
       "      <td>0</td>\n",
       "    </tr>\n",
       "    <tr>\n",
       "      <th>7</th>\n",
       "      <td>8/1/2016</td>\n",
       "      <td>46</td>\n",
       "      <td>31</td>\n",
       "      <td>38.5</td>\n",
       "      <td>0</td>\n",
       "      <td>0</td>\n",
       "      <td>0</td>\n",
       "    </tr>\n",
       "    <tr>\n",
       "      <th>8</th>\n",
       "      <td>9/1/2016</td>\n",
       "      <td>47</td>\n",
       "      <td>40</td>\n",
       "      <td>43.5</td>\n",
       "      <td>T</td>\n",
       "      <td>0</td>\n",
       "      <td>0</td>\n",
       "    </tr>\n",
       "    <tr>\n",
       "      <th>9</th>\n",
       "      <td>10/1/2016</td>\n",
       "      <td>59</td>\n",
       "      <td>40</td>\n",
       "      <td>49.5</td>\n",
       "      <td>1.8</td>\n",
       "      <td>0</td>\n",
       "      <td>0</td>\n",
       "    </tr>\n",
       "  </tbody>\n",
       "</table>\n",
       "</div>"
      ]
     },
     "execution_count": 212,
     "metadata": {},
     "output_type": "execute_result"
    }
   ],
   "source": [
    "weather = pd.read_csv('data/weather_data_nyc_centralpark_2016.csv')\n",
    "weather[['precipitation']] = weather[['precipitation']].replace(np.nan, 'T', regex=True)\n",
    "weather[['snow_fall']] = weather[['snow_fall']].replace(np.nan, 'T', regex=True)\n",
    "weather.rename(columns={'snow_fall': 'snow fall'}, inplace=True)\n",
    "weather[['snow_depth']] = weather[['snow_depth']].replace(np.nan, 'T', regex=True)\n",
    "weather.rename(columns={'snow_depth': 'snow depth'}, inplace=True)\n",
    "##minimum_temperature\n",
    "weather.rename(columns={'minimum_temperature': 'minimum temperature'}, inplace=True)\n",
    "weather.head(10)"
   ]
  },
  {
   "cell_type": "code",
   "execution_count": 213,
   "metadata": {},
   "outputs": [
    {
     "data": {
      "text/html": [
       "<div>\n",
       "<style>\n",
       "    .dataframe thead tr:only-child th {\n",
       "        text-align: right;\n",
       "    }\n",
       "\n",
       "    .dataframe thead th {\n",
       "        text-align: left;\n",
       "    }\n",
       "\n",
       "    .dataframe tbody tr th {\n",
       "        vertical-align: top;\n",
       "    }\n",
       "</style>\n",
       "<table border=\"1\" class=\"dataframe\">\n",
       "  <thead>\n",
       "    <tr style=\"text-align: right;\">\n",
       "      <th></th>\n",
       "      <th>date</th>\n",
       "      <th>maximum_temperature</th>\n",
       "      <th>minimum temperature</th>\n",
       "      <th>average_temperature</th>\n",
       "      <th>precipitation</th>\n",
       "      <th>snow fall</th>\n",
       "      <th>snow depth</th>\n",
       "      <th>day_of_year</th>\n",
       "    </tr>\n",
       "  </thead>\n",
       "  <tbody>\n",
       "    <tr>\n",
       "      <th>0</th>\n",
       "      <td>2016-01-01</td>\n",
       "      <td>42</td>\n",
       "      <td>34</td>\n",
       "      <td>38.0</td>\n",
       "      <td>0.0</td>\n",
       "      <td>0.0</td>\n",
       "      <td>0.0</td>\n",
       "      <td>1</td>\n",
       "    </tr>\n",
       "    <tr>\n",
       "      <th>1</th>\n",
       "      <td>2016-02-01</td>\n",
       "      <td>40</td>\n",
       "      <td>32</td>\n",
       "      <td>36.0</td>\n",
       "      <td>0.0</td>\n",
       "      <td>0.0</td>\n",
       "      <td>0.0</td>\n",
       "      <td>32</td>\n",
       "    </tr>\n",
       "    <tr>\n",
       "      <th>2</th>\n",
       "      <td>2016-03-01</td>\n",
       "      <td>45</td>\n",
       "      <td>35</td>\n",
       "      <td>40.0</td>\n",
       "      <td>0.0</td>\n",
       "      <td>0.0</td>\n",
       "      <td>0.0</td>\n",
       "      <td>61</td>\n",
       "    </tr>\n",
       "    <tr>\n",
       "      <th>3</th>\n",
       "      <td>2016-04-01</td>\n",
       "      <td>36</td>\n",
       "      <td>14</td>\n",
       "      <td>25.0</td>\n",
       "      <td>0.0</td>\n",
       "      <td>0.0</td>\n",
       "      <td>0.0</td>\n",
       "      <td>92</td>\n",
       "    </tr>\n",
       "    <tr>\n",
       "      <th>4</th>\n",
       "      <td>2016-05-01</td>\n",
       "      <td>29</td>\n",
       "      <td>11</td>\n",
       "      <td>20.0</td>\n",
       "      <td>0.0</td>\n",
       "      <td>0.0</td>\n",
       "      <td>0.0</td>\n",
       "      <td>122</td>\n",
       "    </tr>\n",
       "    <tr>\n",
       "      <th>5</th>\n",
       "      <td>2016-06-01</td>\n",
       "      <td>41</td>\n",
       "      <td>25</td>\n",
       "      <td>33.0</td>\n",
       "      <td>0.0</td>\n",
       "      <td>0.0</td>\n",
       "      <td>0.0</td>\n",
       "      <td>153</td>\n",
       "    </tr>\n",
       "    <tr>\n",
       "      <th>6</th>\n",
       "      <td>2016-07-01</td>\n",
       "      <td>46</td>\n",
       "      <td>31</td>\n",
       "      <td>38.5</td>\n",
       "      <td>0.0</td>\n",
       "      <td>0.0</td>\n",
       "      <td>0.0</td>\n",
       "      <td>183</td>\n",
       "    </tr>\n",
       "    <tr>\n",
       "      <th>7</th>\n",
       "      <td>2016-08-01</td>\n",
       "      <td>46</td>\n",
       "      <td>31</td>\n",
       "      <td>38.5</td>\n",
       "      <td>0.0</td>\n",
       "      <td>0.0</td>\n",
       "      <td>0.0</td>\n",
       "      <td>214</td>\n",
       "    </tr>\n",
       "    <tr>\n",
       "      <th>8</th>\n",
       "      <td>2016-09-01</td>\n",
       "      <td>47</td>\n",
       "      <td>40</td>\n",
       "      <td>43.5</td>\n",
       "      <td>0.0</td>\n",
       "      <td>0.0</td>\n",
       "      <td>0.0</td>\n",
       "      <td>245</td>\n",
       "    </tr>\n",
       "    <tr>\n",
       "      <th>9</th>\n",
       "      <td>2016-10-01</td>\n",
       "      <td>59</td>\n",
       "      <td>40</td>\n",
       "      <td>49.5</td>\n",
       "      <td>1.8</td>\n",
       "      <td>0.0</td>\n",
       "      <td>0.0</td>\n",
       "      <td>275</td>\n",
       "    </tr>\n",
       "  </tbody>\n",
       "</table>\n",
       "</div>"
      ],
      "text/plain": [
       "<div>\n",
       "<style>\n",
       "    .dataframe thead tr:only-child th {\n",
       "        text-align: right;\n",
       "    }\n",
       "\n",
       "    .dataframe thead th {\n",
       "        text-align: left;\n",
       "    }\n",
       "\n",
       "    .dataframe tbody tr th {\n",
       "        vertical-align: top;\n",
       "    }\n",
       "</style>\n",
       "<table border=\"1\" class=\"dataframe\">\n",
       "  <thead>\n",
       "    <tr style=\"text-align: right;\">\n",
       "      <th></th>\n",
       "      <th>date</th>\n",
       "      <th>maximum_temperature</th>\n",
       "      <th>minimum temperature</th>\n",
       "      <th>average_temperature</th>\n",
       "      <th>precipitation</th>\n",
       "      <th>snow fall</th>\n",
       "      <th>snow depth</th>\n",
       "      <th>day_of_year</th>\n",
       "    </tr>\n",
       "  </thead>\n",
       "  <tbody>\n",
       "    <tr>\n",
       "      <th>0</th>\n",
       "      <td>2016-01-01</td>\n",
       "      <td>42</td>\n",
       "      <td>34</td>\n",
       "      <td>38.0</td>\n",
       "      <td>0.0</td>\n",
       "      <td>0.0</td>\n",
       "      <td>0.0</td>\n",
       "      <td>1</td>\n",
       "    </tr>\n",
       "    <tr>\n",
       "      <th>1</th>\n",
       "      <td>2016-02-01</td>\n",
       "      <td>40</td>\n",
       "      <td>32</td>\n",
       "      <td>36.0</td>\n",
       "      <td>0.0</td>\n",
       "      <td>0.0</td>\n",
       "      <td>0.0</td>\n",
       "      <td>32</td>\n",
       "    </tr>\n",
       "    <tr>\n",
       "      <th>2</th>\n",
       "      <td>2016-03-01</td>\n",
       "      <td>45</td>\n",
       "      <td>35</td>\n",
       "      <td>40.0</td>\n",
       "      <td>0.0</td>\n",
       "      <td>0.0</td>\n",
       "      <td>0.0</td>\n",
       "      <td>61</td>\n",
       "    </tr>\n",
       "    <tr>\n",
       "      <th>3</th>\n",
       "      <td>2016-04-01</td>\n",
       "      <td>36</td>\n",
       "      <td>14</td>\n",
       "      <td>25.0</td>\n",
       "      <td>0.0</td>\n",
       "      <td>0.0</td>\n",
       "      <td>0.0</td>\n",
       "      <td>92</td>\n",
       "    </tr>\n",
       "    <tr>\n",
       "      <th>4</th>\n",
       "      <td>2016-05-01</td>\n",
       "      <td>29</td>\n",
       "      <td>11</td>\n",
       "      <td>20.0</td>\n",
       "      <td>0.0</td>\n",
       "      <td>0.0</td>\n",
       "      <td>0.0</td>\n",
       "      <td>122</td>\n",
       "    </tr>\n",
       "    <tr>\n",
       "      <th>5</th>\n",
       "      <td>2016-06-01</td>\n",
       "      <td>41</td>\n",
       "      <td>25</td>\n",
       "      <td>33.0</td>\n",
       "      <td>0.0</td>\n",
       "      <td>0.0</td>\n",
       "      <td>0.0</td>\n",
       "      <td>153</td>\n",
       "    </tr>\n",
       "    <tr>\n",
       "      <th>6</th>\n",
       "      <td>2016-07-01</td>\n",
       "      <td>46</td>\n",
       "      <td>31</td>\n",
       "      <td>38.5</td>\n",
       "      <td>0.0</td>\n",
       "      <td>0.0</td>\n",
       "      <td>0.0</td>\n",
       "      <td>183</td>\n",
       "    </tr>\n",
       "    <tr>\n",
       "      <th>7</th>\n",
       "      <td>2016-08-01</td>\n",
       "      <td>46</td>\n",
       "      <td>31</td>\n",
       "      <td>38.5</td>\n",
       "      <td>0.0</td>\n",
       "      <td>0.0</td>\n",
       "      <td>0.0</td>\n",
       "      <td>214</td>\n",
       "    </tr>\n",
       "    <tr>\n",
       "      <th>8</th>\n",
       "      <td>2016-09-01</td>\n",
       "      <td>47</td>\n",
       "      <td>40</td>\n",
       "      <td>43.5</td>\n",
       "      <td>0.0</td>\n",
       "      <td>0.0</td>\n",
       "      <td>0.0</td>\n",
       "      <td>245</td>\n",
       "    </tr>\n",
       "    <tr>\n",
       "      <th>9</th>\n",
       "      <td>2016-10-01</td>\n",
       "      <td>59</td>\n",
       "      <td>40</td>\n",
       "      <td>49.5</td>\n",
       "      <td>1.8</td>\n",
       "      <td>0.0</td>\n",
       "      <td>0.0</td>\n",
       "      <td>275</td>\n",
       "    </tr>\n",
       "  </tbody>\n",
       "</table>\n",
       "</div>"
      ]
     },
     "execution_count": 213,
     "metadata": {},
     "output_type": "execute_result"
    }
   ],
   "source": [
    "from ggplot import *\n",
    "weather.date = pd.to_datetime(weather.date)\n",
    "weather['day_of_year']= weather.date.dt.dayofyear\n",
    "\n",
    "import matplotlib.pyplot as plt\n",
    "%matplotlib inline\n",
    "weather['precipitation'].unique() #unique(): Returns the sorted unique elements of an array. \n",
    "\n",
    "weather['precipitation'] = np.where(weather['precipitation']=='T', '0.00',weather['precipitation'])\n",
    "weather['precipitation'] = list(map(float, weather['precipitation'])) \n",
    "# map() function applies a given function to each item of an iterable (list, tuple etc.) and returns a list of the results.\n",
    "# so if you want a new list and not just something to iterate over, you either need list(map(float, mylist)\n",
    "\n",
    "weather['snow fall'] = np.where(weather['snow fall']=='T', '0.00',weather['snow fall'])\n",
    "weather['snow fall'] = list(map(float, weather['snow fall']))\n",
    "\n",
    "weather['snow depth'] = np.where(weather['snow depth']=='T', '0.00',weather['snow depth'])\n",
    "weather['snow depth'] = list(map(float, weather['snow depth']))\n",
    "\n",
    "weather.head(10)"
   ]
  },
  {
   "cell_type": "code",
   "execution_count": 214,
   "metadata": {
    "collapsed": false
   },
   "outputs": [],
   "source": [
    "import plotly.plotly as py\n",
    "import plotly.graph_objs as go\n",
    "import plotly\n",
    "random_x = weather['date'].values\n",
    "random_y0 = weather['precipitation']\n",
    "random_y1 = weather['snow fall']\n",
    "random_y2 = weather['snow depth']\n",
    "\n",
    "# Create traces\n",
    "trace0 = go.Scatter(\n",
    "    x = random_x,\n",
    "    y = random_y0,\n",
    "    mode = 'markers',\n",
    "    name = 'precipitation'\n",
    ")\n",
    "trace1 = go.Scatter(\n",
    "    x = random_x,\n",
    "    y = random_y1,\n",
    "    mode = 'markers',\n",
    "    name = 'snow fall'\n",
    ")\n",
    "trace2 = go.Scatter(\n",
    "    x = random_x,\n",
    "    y = random_y2,\n",
    "    mode = 'markers',\n",
    "    name = 'snow depth'\n",
    ")\n",
    "\n",
    "data = [trace0, trace1, trace2]\n",
    "# plotly.offline.iplot(data, filename='scatter-mode')"
   ]
  },
  {
   "cell_type": "markdown",
   "metadata": {},
   "source": [
    "## Define function to create dummy for turn type"
   ]
  },
  {
   "cell_type": "code",
   "execution_count": 215,
   "metadata": {},
   "outputs": [],
   "source": [
    "def freq_turn(step_dir):\n",
    "    from collections import Counter\n",
    "    step_dir_new = step_dir.split(\"|\")\n",
    "    a_list = Counter(step_dir_new).most_common()\n",
    "    path = {}\n",
    "    for i in range(len(a_list)):\n",
    "        path.update({a_list[i]})\n",
    "    a = 0\n",
    "    b = 0\n",
    "    c = 0\n",
    "    if 'straight' in (path.keys()):\n",
    "        a = path['straight']\n",
    "        #print(a)\n",
    "    if 'left' in (path.keys()):\n",
    "        b = path['left']\n",
    "        #print(b)\n",
    "    if 'right' in (path.keys()):\n",
    "        c = path['right']\n",
    "        #print(c)\n",
    "    return a,b,c\n"
   ]
  },
  {
   "cell_type": "code",
   "execution_count": 216,
   "metadata": {},
   "outputs": [
    {
     "name": "stdout",
     "output_type": "stream",
     "text": [
      "Time Taken by above cell is 26.636335134506226."
     ]
    },
    {
     "name": "stdout",
     "output_type": "stream",
     "text": [
      "\n"
     ]
    }
   ],
   "source": [
    "start = time.time()\n",
    "train_fr['straight']= 0\n",
    "train_fr['left'] =0\n",
    "train_fr['right'] = 0\n",
    "train_fr['straight'], train_fr['left'], train_fr['right'] = zip(*train_fr['step_direction'].map(freq_turn))\n",
    "#The zip() function take iterables (can be zero or more), \n",
    "# makes iterator that aggregates elements based on the iterables passed, and returns an iterator of tuples.\n",
    "end = time.time()\n",
    "print(\"Time Taken by above cell is {}.\".format(end - start))"
   ]
  },
  {
   "cell_type": "code",
   "execution_count": 217,
   "metadata": {},
   "outputs": [
    {
     "name": "stdout",
     "output_type": "stream",
     "text": [
      "47"
     ]
    },
    {
     "name": "stdout",
     "output_type": "stream",
     "text": [
      "\n"
     ]
    }
   ],
   "source": [
    "train_fr_new = train_fr[['id','straight','left','right']]\n",
    "train = pd.merge(train, train_fr_new, on = 'id', how = 'left')\n",
    "#train = pd.merge(train, weather, on= 'date', how = 'left')\n",
    "print(len(train.columns))"
   ]
  },
  {
   "cell_type": "code",
   "execution_count": 219,
   "metadata": {},
   "outputs": [
    {
     "data": {
      "text/plain": [
       "1458644"
      ]
     },
     "execution_count": 219,
     "metadata": {},
     "output_type": "execute_result"
    }
   ],
   "source": [
    "train['pickup_datetime'] = pd.to_datetime(train['pickup_datetime'])\n",
    "train['date'] = train['pickup_datetime'].dt.date\n",
    "train.head()\n",
    "\n",
    "train['date'] = pd.to_datetime(train['date'])\n",
    "train = pd.merge(train, weather[['date','minimum temperature', 'precipitation', 'snow fall', 'snow depth']], on= 'date', how = 'left')\n",
    "train.shape[0]"
   ]
  },
  {
   "cell_type": "code",
   "execution_count": 220,
   "metadata": {},
   "outputs": [
    {
     "name": "stdout",
     "output_type": "stream",
     "text": [
      "shape of train_features is 54."
     ]
    },
    {
     "name": "stdout",
     "output_type": "stream",
     "text": [
      "\n"
     ]
    }
   ],
   "source": [
    "train.loc[:,'hvsine_pick_cent_d'] = haversine_(train['pickup_latitude'].values, \n",
    "                                               train['pickup_longitude'].values, \n",
    "                                               train['centroid_drop_lat'].values, \n",
    "                                               train['centroid_drop_long'].values)\n",
    "train.loc[:,'hvsine_drop_cent_p'] = haversine_(train['dropoff_latitude'].values, \n",
    "                                               train['dropoff_longitude'].values, \n",
    "                                               train['centroid_pick_lat'].values, \n",
    "                                               train['centroid_pick_long'].values)\n",
    "\n",
    "test.loc[:,'hvsine_pick_cent_d'] = haversine_(test['pickup_latitude'].values, \n",
    "                                              test['pickup_longitude'].values, \n",
    "                                              test['centroid_drop_lat'].values, \n",
    "                                              test['centroid_drop_long'].values)\n",
    "test.loc[:,'hvsine_drop_cent_p'] = haversine_(test['dropoff_latitude'].values, \n",
    "                                              test['dropoff_longitude'].values, \n",
    "                                              test['centroid_pick_lat'].values, \n",
    "                                              test['centroid_pick_long'].values)\n",
    "\n",
    "print(\"shape of train_features is {}.\".format(len(train.columns)))"
   ]
  },
  {
   "cell_type": "markdown",
   "metadata": {},
   "source": [
    "## Plot and analyze how these new features behave"
   ]
  },
  {
   "cell_type": "code",
   "execution_count": 222,
   "metadata": {
    "collapsed": true
   },
   "outputs": [
    {
     "name": "stderr",
     "output_type": "stream",
     "text": [
      "C:\\Anaconda3\\lib\\site-packages\\pandas\\core\\series.py:2726: SettingWithCopyWarning:\n\n\nA value is trying to be set on a copy of a slice from a DataFrame\n\nSee the caveats in the documentation: http://pandas.pydata.org/pandas-docs/stable/indexing.html#indexing-view-versus-copy\n\n"
     ]
    },
    {
     "name": "stdout",
     "output_type": "stream",
     "text": [
      "total number of Nulls 0."
     ]
    },
    {
     "name": "stdout",
     "output_type": "stream",
     "text": [
      "\n"
     ]
    },
    {
     "name": "stderr",
     "output_type": "stream",
     "text": [
      "C:\\Anaconda3\\lib\\site-packages\\ipykernel_launcher.py:9: SettingWithCopyWarning:\n\n\nA value is trying to be set on a copy of a slice from a DataFrame.\nTry using .loc[row_indexer,col_indexer] = value instead\n\nSee the caveats in the documentation: http://pandas.pydata.org/pandas-docs/stable/indexing.html#indexing-view-versus-copy\n\n"
     ]
    },
    {
     "name": "stderr",
     "output_type": "stream",
     "text": [
      "C:\\Anaconda3\\lib\\site-packages\\ipykernel_launcher.py:10: SettingWithCopyWarning:\n\n\nA value is trying to be set on a copy of a slice from a DataFrame.\nTry using .loc[row_indexer,col_indexer] = value instead\n\nSee the caveats in the documentation: http://pandas.pydata.org/pandas-docs/stable/indexing.html#indexing-view-versus-copy\n\n"
     ]
    },
    {
     "name": "stderr",
     "output_type": "stream",
     "text": [
      "C:\\Anaconda3\\lib\\site-packages\\ipykernel_launcher.py:11: SettingWithCopyWarning:\n\n\nA value is trying to be set on a copy of a slice from a DataFrame.\nTry using .loc[row_indexer,col_indexer] = value instead\n\nSee the caveats in the documentation: http://pandas.pydata.org/pandas-docs/stable/indexing.html#indexing-view-versus-copy\n\n"
     ]
    },
    {
     "name": "stderr",
     "output_type": "stream",
     "text": [
      "C:\\Anaconda3\\lib\\site-packages\\ipykernel_launcher.py:12: SettingWithCopyWarning:\n\n\nA value is trying to be set on a copy of a slice from a DataFrame.\nTry using .loc[row_indexer,col_indexer] = value instead\n\nSee the caveats in the documentation: http://pandas.pydata.org/pandas-docs/stable/indexing.html#indexing-view-versus-copy\n\n"
     ]
    },
    {
     "name": "stderr",
     "output_type": "stream",
     "text": [
      "C:\\Anaconda3\\lib\\site-packages\\ipykernel_launcher.py:13: SettingWithCopyWarning:\n\n\nA value is trying to be set on a copy of a slice from a DataFrame.\nTry using .loc[row_indexer,col_indexer] = value instead\n\nSee the caveats in the documentation: http://pandas.pydata.org/pandas-docs/stable/indexing.html#indexing-view-versus-copy\n\n"
     ]
    },
    {
     "name": "stderr",
     "output_type": "stream",
     "text": [
      "C:\\Anaconda3\\lib\\site-packages\\ipykernel_launcher.py:14: SettingWithCopyWarning:\n\n\nA value is trying to be set on a copy of a slice from a DataFrame.\nTry using .loc[row_indexer,col_indexer] = value instead\n\nSee the caveats in the documentation: http://pandas.pydata.org/pandas-docs/stable/indexing.html#indexing-view-versus-copy\n\n"
     ]
    },
    {
     "name": "stderr",
     "output_type": "stream",
     "text": [
      "C:\\Anaconda3\\lib\\site-packages\\ipykernel_launcher.py:15: SettingWithCopyWarning:\n\n\nA value is trying to be set on a copy of a slice from a DataFrame.\nTry using .loc[row_indexer,col_indexer] = value instead\n\nSee the caveats in the documentation: http://pandas.pydata.org/pandas-docs/stable/indexing.html#indexing-view-versus-copy\n\n"
     ]
    }
   ],
   "source": [
    "start = time.time()\n",
    "temp = train[['hvsine_drop_cent_p', 'hvsine_pick_cent_d', 'hvsine_drop_cent_d', 'hvsine_pick_cent_p', 'hvsine_pick_drop', 'hvsine_cent_p_cent_d', 'total_distance']]\n",
    "temp.total_distance.dropna(inplace = True)\n",
    "print(\"total number of Nulls {}.\".format(temp.total_distance.isnull().sum()))\n",
    "# Lets take distance of pick---cent_p---cent_d---drop as distance_pick_cp_cd_drop\n",
    "# Lets take distance of pick---cent_d---drop as distance_pick_cd_drop\n",
    "# Lets take distance of pick---cent_p---drop as distance_pick_cp_drop\n",
    "# Lets take distance of pick--drop as total_distance \n",
    "temp['distance_pick_cp_cd_drop'] = temp['hvsine_pick_cent_p'] + temp['hvsine_cent_p_cent_d'] + temp['hvsine_drop_cent_d']\n",
    "temp['distance_pick_cd_drop'] = temp['hvsine_pick_cent_d'] + temp['hvsine_drop_cent_d']\n",
    "temp['distance_pick_cp_drop'] = temp['hvsine_pick_cent_p'] + temp['hvsine_drop_cent_p']\n",
    "\n",
    "temp['total_distance'] = np.floor(temp['total_distance']/1000)\n",
    "temp['distance_pick_cp_drop'] = np.floor(temp['distance_pick_cp_drop'])\n",
    "temp['distance_pick_cd_drop'] = np.floor(temp['distance_pick_cd_drop'])\n",
    "temp['distance_pick_cp_cd_drop'] = np.floor(temp['distance_pick_cp_cd_drop'])\n",
    "#temp.head()\n",
    "temp1 = temp.copy()\n",
    "temp = temp1.sample(100000)\n",
    "\n",
    "aggregation = {'distance_pick_cp_cd_drop':'count', \n",
    "               'distance_pick_cd_drop':'count', \n",
    "               'distance_pick_cp_drop':'count', \n",
    "               'total_distance':'count'}\n",
    "\n",
    "temp2 = pd.DataFrame(temp.groupby('total_distance').agg(aggregation))\n",
    "X_plot = np.linspace(0, temp.total_distance.max(), temp.shape[0])\n",
    "temp2.rename(columns={'total_distance':'count'}, inplace = True)\n",
    "temp2.reset_index(inplace = True)\n",
    "temp2.total_distance = map(int, temp2.total_distance)\n",
    "\n",
    "temp = temp.sample(100000)\n",
    "X_plot = temp.total_distance.unique()\n",
    "a = np.histogram(temp[['total_distance']].values, range(0,95))\n",
    "N = temp.shape[0]\n",
    "data = []\n",
    "\n",
    "#plotly.graph_objs as go\n",
    "trace1 = go.Scatter(x=np.histogram(temp[['total_distance']].values, range(0,95))[1], y=np.histogram(temp[['total_distance']].values, range(0,95))[0],\n",
    "                    mode='lines', fill='tozeroy',\n",
    "                    line=dict(color='black', width=2), \n",
    "                    name='Total_distance_OSRM')\n",
    "data.append(trace1)\n",
    "\n",
    "for kernel in ['distance_pick_cp_cd_drop', 'distance_pick_cd_drop', 'distance_pick_cp_drop']:\n",
    "    trace2 = go.Scatter(x=np.histogram(temp[['total_distance']].values, range(0,95))[1], y=np.histogram(temp[[kernel]].values, range(0,95))[0],\n",
    "                        mode='lines', \n",
    "                        line=dict(width=2, dash='dash'), \n",
    "                        name=kernel)\n",
    "    data.append(trace2)\n",
    "\n",
    "layout=go.Layout(annotations=[dict(x=6, y=0.38, showarrow=False,\n",
    "                                   text=\"N={0} points\".format(N)),\n",
    "                                   ],\n",
    "                 xaxis=dict(zeroline=False), hovermode='closest')\n",
    "fig = go.Figure(data=data, layout=layout)"
   ]
  },
  {
   "cell_type": "code",
   "execution_count": 225,
   "metadata": {
    "collapsed": false
   },
   "outputs": [
    {
     "data": {
      "text/html": [
       "<div id=\"64091b8f-f0c8-4cb5-be82-317e7096e4e7\" style=\"height: 525px; width: 100%;\" class=\"plotly-graph-div\"></div><script type=\"text/javascript\">require([\"plotly\"], function(Plotly) { window.PLOTLYENV=window.PLOTLYENV || {};window.PLOTLYENV.BASE_URL=\"https://plot.ly\";Plotly.newPlot(\"64091b8f-f0c8-4cb5-be82-317e7096e4e7\", [{\"type\": \"scatter\", \"x\": [0, 1, 2, 3, 4, 5, 6, 7, 8, 9, 10, 11, 12, 13, 14, 15, 16, 17, 18, 19, 20, 21, 22, 23, 24, 25, 26, 27, 28, 29, 30, 31, 32, 33, 34, 35, 36, 37, 38, 39, 40, 41, 42, 43, 44, 45, 46, 47, 48, 49, 50, 51, 52, 53, 54, 55, 56, 57, 58, 59, 60, 61, 62, 63, 64, 65, 66, 67, 68, 69, 70, 71, 72, 73, 74, 75, 76, 77, 78, 79, 80, 81, 82, 83, 84, 85, 86, 87, 88, 89, 90, 91, 92, 93, 94], \"y\": [8281, 25463, 20616, 12498, 7443, 4829, 3320, 2681, 2173, 1657, 1262, 1220, 1286, 1159, 984, 706, 498, 355, 257, 284, 270, 196, 149, 153, 204, 282, 265, 372, 466, 313, 165, 71, 30, 18, 11, 6, 6, 5, 3, 9, 4, 4, 3, 3, 2, 3, 1, 0, 0, 1, 2, 0, 3, 0, 2, 0, 0, 0, 0, 0, 0, 0, 0, 0, 1, 0, 0, 0, 0, 0, 1, 1, 0, 0, 1, 0, 0, 0, 1, 0, 0, 0, 1, 0, 0, 0, 0, 0, 0, 0, 0, 0, 0, 0], \"mode\": \"lines\", \"fill\": \"tozeroy\", \"line\": {\"color\": \"black\", \"width\": 2}, \"name\": \"Total_distance_OSRM\"}, {\"type\": \"scatter\", \"x\": [0, 1, 2, 3, 4, 5, 6, 7, 8, 9, 10, 11, 12, 13, 14, 15, 16, 17, 18, 19, 20, 21, 22, 23, 24, 25, 26, 27, 28, 29, 30, 31, 32, 33, 34, 35, 36, 37, 38, 39, 40, 41, 42, 43, 44, 45, 46, 47, 48, 49, 50, 51, 52, 53, 54, 55, 56, 57, 58, 59, 60, 61, 62, 63, 64, 65, 66, 67, 68, 69, 70, 71, 72, 73, 74, 75, 76, 77, 78, 79, 80, 81, 82, 83, 84, 85, 86, 87, 88, 89, 90, 91, 92, 93, 94], \"y\": [3021, 16269, 12895, 18989, 16712, 8325, 5290, 4235, 2137, 2269, 1894, 1401, 918, 518, 675, 447, 320, 240, 240, 219, 465, 1105, 570, 289, 163, 79, 58, 49, 56, 33, 23, 16, 6, 16, 7, 3, 3, 5, 2, 3, 3, 3, 2, 0, 0, 2, 1, 0, 4, 1, 0, 0, 1, 1, 0, 0, 0, 1, 1, 0, 0, 0, 0, 0, 0, 2, 0, 0, 0, 1, 0, 0, 0, 1, 0, 0, 0, 0, 1, 0, 0, 1, 1, 0, 1, 0, 0, 0, 1, 0, 0, 0, 0, 2], \"mode\": \"lines\", \"line\": {\"width\": 2, \"dash\": \"dash\"}, \"name\": \"distance_pick_cp_cd_drop\"}, {\"type\": \"scatter\", \"x\": [0, 1, 2, 3, 4, 5, 6, 7, 8, 9, 10, 11, 12, 13, 14, 15, 16, 17, 18, 19, 20, 21, 22, 23, 24, 25, 26, 27, 28, 29, 30, 31, 32, 33, 34, 35, 36, 37, 38, 39, 40, 41, 42, 43, 44, 45, 46, 47, 48, 49, 50, 51, 52, 53, 54, 55, 56, 57, 58, 59, 60, 61, 62, 63, 64, 65, 66, 67, 68, 69, 70, 71, 72, 73, 74, 75, 76, 77, 78, 79, 80, 81, 82, 83, 84, 85, 86, 87, 88, 89, 90, 91, 92, 93, 94], \"y\": [3049, 21936, 24238, 16427, 9568, 5679, 4188, 2743, 1939, 2029, 1464, 1020, 611, 501, 546, 356, 229, 236, 234, 306, 792, 941, 334, 226, 100, 58, 44, 47, 37, 27, 15, 7, 7, 11, 6, 5, 3, 3, 2, 2, 4, 1, 2, 1, 0, 2, 1, 1, 3, 1, 0, 0, 1, 0, 0, 0, 0, 1, 1, 0, 0, 0, 0, 0, 0, 2, 0, 0, 1, 0, 0, 0, 0, 1, 0, 0, 0, 1, 1, 0, 0, 0, 1, 1, 0, 0, 0, 0, 1, 0, 0, 0, 0, 2], \"mode\": \"lines\", \"line\": {\"width\": 2, \"dash\": \"dash\"}, \"name\": \"distance_pick_cd_drop\"}, {\"type\": \"scatter\", \"x\": [0, 1, 2, 3, 4, 5, 6, 7, 8, 9, 10, 11, 12, 13, 14, 15, 16, 17, 18, 19, 20, 21, 22, 23, 24, 25, 26, 27, 28, 29, 30, 31, 32, 33, 34, 35, 36, 37, 38, 39, 40, 41, 42, 43, 44, 45, 46, 47, 48, 49, 50, 51, 52, 53, 54, 55, 56, 57, 58, 59, 60, 61, 62, 63, 64, 65, 66, 67, 68, 69, 70, 71, 72, 73, 74, 75, 76, 77, 78, 79, 80, 81, 82, 83, 84, 85, 86, 87, 88, 89, 90, 91, 92, 93, 94], \"y\": [3043, 21988, 24124, 16823, 9709, 5735, 4209, 2815, 1889, 2080, 1523, 964, 622, 498, 488, 327, 320, 244, 209, 274, 688, 821, 266, 131, 57, 26, 13, 20, 18, 10, 5, 5, 8, 5, 6, 2, 2, 2, 2, 1, 1, 1, 0, 3, 0, 2, 1, 0, 2, 1, 0, 0, 0, 0, 0, 0, 0, 1, 1, 0, 0, 0, 0, 0, 0, 2, 0, 1, 0, 0, 1, 0, 0, 1, 0, 0, 0, 0, 1, 0, 1, 0, 1, 0, 1, 0, 0, 0, 1, 0, 0, 0, 0, 1], \"mode\": \"lines\", \"line\": {\"width\": 2, \"dash\": \"dash\"}, \"name\": \"distance_pick_cp_drop\"}], {\"annotations\": [{\"x\": 6, \"y\": 0.38, \"showarrow\": false, \"text\": \"N=100000 points\"}], \"xaxis\": {\"zeroline\": false}, \"hovermode\": \"closest\"}, {\"showLink\": true, \"linkText\": \"Export to plot.ly\"})});</script>"
      ],
      "text/plain": [
       "<div id=\"64091b8f-f0c8-4cb5-be82-317e7096e4e7\" style=\"height: 525px; width: 100%;\" class=\"plotly-graph-div\"></div><script type=\"text/javascript\">require([\"plotly\"], function(Plotly) { window.PLOTLYENV=window.PLOTLYENV || {};window.PLOTLYENV.BASE_URL=\"https://plot.ly\";Plotly.newPlot(\"64091b8f-f0c8-4cb5-be82-317e7096e4e7\", [{\"type\": \"scatter\", \"x\": [0, 1, 2, 3, 4, 5, 6, 7, 8, 9, 10, 11, 12, 13, 14, 15, 16, 17, 18, 19, 20, 21, 22, 23, 24, 25, 26, 27, 28, 29, 30, 31, 32, 33, 34, 35, 36, 37, 38, 39, 40, 41, 42, 43, 44, 45, 46, 47, 48, 49, 50, 51, 52, 53, 54, 55, 56, 57, 58, 59, 60, 61, 62, 63, 64, 65, 66, 67, 68, 69, 70, 71, 72, 73, 74, 75, 76, 77, 78, 79, 80, 81, 82, 83, 84, 85, 86, 87, 88, 89, 90, 91, 92, 93, 94], \"y\": [8281, 25463, 20616, 12498, 7443, 4829, 3320, 2681, 2173, 1657, 1262, 1220, 1286, 1159, 984, 706, 498, 355, 257, 284, 270, 196, 149, 153, 204, 282, 265, 372, 466, 313, 165, 71, 30, 18, 11, 6, 6, 5, 3, 9, 4, 4, 3, 3, 2, 3, 1, 0, 0, 1, 2, 0, 3, 0, 2, 0, 0, 0, 0, 0, 0, 0, 0, 0, 1, 0, 0, 0, 0, 0, 1, 1, 0, 0, 1, 0, 0, 0, 1, 0, 0, 0, 1, 0, 0, 0, 0, 0, 0, 0, 0, 0, 0, 0], \"mode\": \"lines\", \"fill\": \"tozeroy\", \"line\": {\"color\": \"black\", \"width\": 2}, \"name\": \"Total_distance_OSRM\"}, {\"type\": \"scatter\", \"x\": [0, 1, 2, 3, 4, 5, 6, 7, 8, 9, 10, 11, 12, 13, 14, 15, 16, 17, 18, 19, 20, 21, 22, 23, 24, 25, 26, 27, 28, 29, 30, 31, 32, 33, 34, 35, 36, 37, 38, 39, 40, 41, 42, 43, 44, 45, 46, 47, 48, 49, 50, 51, 52, 53, 54, 55, 56, 57, 58, 59, 60, 61, 62, 63, 64, 65, 66, 67, 68, 69, 70, 71, 72, 73, 74, 75, 76, 77, 78, 79, 80, 81, 82, 83, 84, 85, 86, 87, 88, 89, 90, 91, 92, 93, 94], \"y\": [3021, 16269, 12895, 18989, 16712, 8325, 5290, 4235, 2137, 2269, 1894, 1401, 918, 518, 675, 447, 320, 240, 240, 219, 465, 1105, 570, 289, 163, 79, 58, 49, 56, 33, 23, 16, 6, 16, 7, 3, 3, 5, 2, 3, 3, 3, 2, 0, 0, 2, 1, 0, 4, 1, 0, 0, 1, 1, 0, 0, 0, 1, 1, 0, 0, 0, 0, 0, 0, 2, 0, 0, 0, 1, 0, 0, 0, 1, 0, 0, 0, 0, 1, 0, 0, 1, 1, 0, 1, 0, 0, 0, 1, 0, 0, 0, 0, 2], \"mode\": \"lines\", \"line\": {\"width\": 2, \"dash\": \"dash\"}, \"name\": \"distance_pick_cp_cd_drop\"}, {\"type\": \"scatter\", \"x\": [0, 1, 2, 3, 4, 5, 6, 7, 8, 9, 10, 11, 12, 13, 14, 15, 16, 17, 18, 19, 20, 21, 22, 23, 24, 25, 26, 27, 28, 29, 30, 31, 32, 33, 34, 35, 36, 37, 38, 39, 40, 41, 42, 43, 44, 45, 46, 47, 48, 49, 50, 51, 52, 53, 54, 55, 56, 57, 58, 59, 60, 61, 62, 63, 64, 65, 66, 67, 68, 69, 70, 71, 72, 73, 74, 75, 76, 77, 78, 79, 80, 81, 82, 83, 84, 85, 86, 87, 88, 89, 90, 91, 92, 93, 94], \"y\": [3049, 21936, 24238, 16427, 9568, 5679, 4188, 2743, 1939, 2029, 1464, 1020, 611, 501, 546, 356, 229, 236, 234, 306, 792, 941, 334, 226, 100, 58, 44, 47, 37, 27, 15, 7, 7, 11, 6, 5, 3, 3, 2, 2, 4, 1, 2, 1, 0, 2, 1, 1, 3, 1, 0, 0, 1, 0, 0, 0, 0, 1, 1, 0, 0, 0, 0, 0, 0, 2, 0, 0, 1, 0, 0, 0, 0, 1, 0, 0, 0, 1, 1, 0, 0, 0, 1, 1, 0, 0, 0, 0, 1, 0, 0, 0, 0, 2], \"mode\": \"lines\", \"line\": {\"width\": 2, \"dash\": \"dash\"}, \"name\": \"distance_pick_cd_drop\"}, {\"type\": \"scatter\", \"x\": [0, 1, 2, 3, 4, 5, 6, 7, 8, 9, 10, 11, 12, 13, 14, 15, 16, 17, 18, 19, 20, 21, 22, 23, 24, 25, 26, 27, 28, 29, 30, 31, 32, 33, 34, 35, 36, 37, 38, 39, 40, 41, 42, 43, 44, 45, 46, 47, 48, 49, 50, 51, 52, 53, 54, 55, 56, 57, 58, 59, 60, 61, 62, 63, 64, 65, 66, 67, 68, 69, 70, 71, 72, 73, 74, 75, 76, 77, 78, 79, 80, 81, 82, 83, 84, 85, 86, 87, 88, 89, 90, 91, 92, 93, 94], \"y\": [3043, 21988, 24124, 16823, 9709, 5735, 4209, 2815, 1889, 2080, 1523, 964, 622, 498, 488, 327, 320, 244, 209, 274, 688, 821, 266, 131, 57, 26, 13, 20, 18, 10, 5, 5, 8, 5, 6, 2, 2, 2, 2, 1, 1, 1, 0, 3, 0, 2, 1, 0, 2, 1, 0, 0, 0, 0, 0, 0, 0, 1, 1, 0, 0, 0, 0, 0, 0, 2, 0, 1, 0, 0, 1, 0, 0, 1, 0, 0, 0, 0, 1, 0, 1, 0, 1, 0, 1, 0, 0, 0, 1, 0, 0, 0, 0, 1], \"mode\": \"lines\", \"line\": {\"width\": 2, \"dash\": \"dash\"}, \"name\": \"distance_pick_cp_drop\"}], {\"annotations\": [{\"x\": 6, \"y\": 0.38, \"showarrow\": false, \"text\": \"N=100000 points\"}], \"xaxis\": {\"zeroline\": false}, \"hovermode\": \"closest\"}, {\"showLink\": true, \"linkText\": \"Export to plot.ly\"})});</script>"
      ]
     },
     "execution_count": 0,
     "metadata": {},
     "output_type": "execute_result"
    },
    {
     "data": {
      "text/plain": [
       "'file://C:\\\\Users\\\\Zi Wei Fan\\\\Desktop\\\\NEU\\\\NEU\\\\Course\\\\CSYE7245_BigData&IntelligenceAnalytics\\\\Assignment\\\\Final_ZiweiFan1855517\\\\file.html'"
      ]
     },
     "execution_count": 225,
     "metadata": {},
     "output_type": "execute_result"
    }
   ],
   "source": [
    "plotly.offline.iplot(fig)  # last 150+ lines of code just to make a beautiful histogram\n",
    "plotly.offline.plot(fig, filename='file.html')"
   ]
  },
  {
   "cell_type": "markdown",
   "metadata": {},
   "source": [
    "## Finding: Check how these distances are getting compared to that of total distance from OSRM by hovering over above plot."
   ]
  },
  {
   "cell_type": "code",
   "execution_count": 227,
   "metadata": {},
   "outputs": [
    {
     "data": {
      "text/plain": [
       "<matplotlib.axes._subplots.AxesSubplot at 0x115132902e8>"
      ]
     },
     "execution_count": 227,
     "metadata": {},
     "output_type": "execute_result"
    },
    {
     "data": {
      "image/png": "[encoded data removed]",
      "text/plain": [
       "<matplotlib.figure.Figure at 0x11504ad9208>"
      ]
     },
     "metadata": {},
     "output_type": "display_data"
    }
   ],
   "source": [
    "sns.set(style=\"white\")\n",
    "\n",
    "# Generate a large random dataset\n",
    "temp3 = train.copy()\n",
    "\n",
    "# Compute the correlation matrix\n",
    "corr = temp3.corr()\n",
    "\n",
    "# Generate a mask for the upper triangle\n",
    "mask = np.zeros_like(corr, dtype=np.bool)\n",
    "mask[np.triu_indices_from(mask)] = True\n",
    "\n",
    "# Set up the matplotlib figure\n",
    "f, ax = plt.subplots(figsize=(15, 13))\n",
    "\n",
    "# Generate a custom diverging colormap\n",
    "cmap = sns.diverging_palette(220, 10, as_cmap=True)\n",
    "\n",
    "# Draw the heatmap with the mask and correct aspect ratio\n",
    "sns.heatmap(corr, mask=mask, cmap=cmap, vmax=.3, center=0,\n",
    "            square=True, linewidths=.5, cbar_kws={\"shrink\": .5})"
   ]
  },
  {
   "cell_type": "markdown",
   "metadata": {},
   "source": [
    "## Findings:\n",
    "## 1. Pick_month, week_of_year, day_of_year etc are of very less importance and are not at all related to other variables.\n",
    "## 2. Positive correlation & negative correlation\n",
    "## 3. OSRM variables are very important => correlation is as high as 0.8"
   ]
  },
  {
   "cell_type": "markdown",
   "metadata": {},
   "source": [
    "## 2.1 Positive Correlation:\n",
    "## drop_longitude & pickup_longitude 0.8\n",
    "## dropoff_latitude & pickup_latitude 0.65\n",
    "## centroid_pick_long & pickup_latitude 0.9\n",
    "## centroid_pick_lat & pickup_latitude 0.8\n",
    "\n",
    "## 2.2 Negative Correlation:\n",
    "## pickup_pca0 & pickup_longitude -0.8"
   ]
  },
  {
   "cell_type": "markdown",
   "metadata": {},
   "source": [
    "# Senmentic Analysis"
   ]
  },
  {
   "cell_type": "code",
   "execution_count": 228,
   "metadata": {},
   "outputs": [],
   "source": [
    "from textblob import TextBlob"
   ]
  },
  {
   "cell_type": "code",
   "execution_count": null,
   "metadata": {},
   "outputs": [],
   "source": []
  }
 ],
 "metadata": {
  "kernelspec": {
   "display_name": "Python 3",
   "language": "python",
   "name": "python3"
  },
  "language_info": {
   "codemirror_mode": {
    "name": "ipython",
    "version": 3
   },
   "file_extension": ".py",
   "mimetype": "text/x-python",
   "name": "python",
   "nbconvert_exporter": "python",
   "pygments_lexer": "ipython3",
   "version": "3.6.3"
  }
 },
 "nbformat": 4,
 "nbformat_minor": 1
}
