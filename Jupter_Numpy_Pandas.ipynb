{
 "cells": [
  {
   "cell_type": "code",
   "execution_count": 1,
   "metadata": {
    "collapsed": true
   },
   "outputs": [
    {
     "name": "stdout",
     "output_type": "stream",
     "text": [
      "['a', 'b']\n"
     ]
    }
   ],
   "source": [
    "d=['a','b']\n",
    "print(d)"
   ]
  },
  {
   "cell_type": "code",
   "execution_count": 2,
   "metadata": {},
   "outputs": [
    {
     "name": "stdout",
     "output_type": "stream",
     "text": [
      "a\nb\n"
     ]
    }
   ],
   "source": [
    "for key in d:\n",
    "    print(key)"
   ]
  },
  {
   "cell_type": "code",
   "execution_count": 3,
   "metadata": {},
   "outputs": [
    {
     "name": "stdout",
     "output_type": "stream",
     "text": [
      "[0, 1, 1, 2, 3, 5, 8, 13, 21]\n"
     ]
    }
   ],
   "source": [
    "def fibonacci_seq(n):\n",
    "    result=[0,1]\n",
    "    for i in range(n-2):\n",
    "        result.append(result[-2]+result[-1])\n",
    "    return result\n",
    "\n",
    "print(fibonacci_seq(9))"
   ]
  },
  {
   "cell_type": "code",
   "execution_count": 4,
   "metadata": {},
   "outputs": [],
   "source": [
    "import matplotlib.pyplot as plt\n",
    "import numpy as np\n",
    "import pandas as pd\n",
    "from scipy import stats\n",
    "import seaborn as sns\n",
    "\n",
    "plt.rcParams['figure.figsize']=(10,6)"
   ]
  },
  {
   "cell_type": "code",
   "execution_count": 5,
   "metadata": {
    "collapsed": false
   },
   "outputs": [
    {
     "data": {
      "image/png": "[encoded data removed]",
      "text/plain": [
       "<matplotlib.figure.Figure at 0x19e72e9a4a8>"
      ]
     },
     "metadata": {},
     "output_type": "display_data"
    }
   ],
   "source": [
    "domain = np.arange(-22, 22, 0.1)\n",
    "values = stats.norm(3.3, 5.5).pdf(domain)\n",
    "plt.plot(domain, values, color='r', linewidth=2)\n",
    "plt.fill_between(domain, 0, values, color='#ffb6c1', alpha=0.3)\n",
    "values = stats.norm(4.4, 2.3).pdf(domain)\n",
    "plt.plot(domain, values, color='b', linewidth=2)\n",
    "plt.ylabel(\"Probability\")\n",
    "plt.title(\"Two Normal Distributions\")\n",
    "plt.show()"
   ]
  },
  {
   "cell_type": "code",
   "execution_count": 6,
   "metadata": {},
   "outputs": [
    {
     "data": {
      "text/html": [
       "<div>\n",
       "<style>\n",
       "    .dataframe thead tr:only-child th {\n",
       "        text-align: right;\n",
       "    }\n",
       "\n",
       "    .dataframe thead th {\n",
       "        text-align: left;\n",
       "    }\n",
       "\n",
       "    .dataframe tbody tr th {\n",
       "        vertical-align: top;\n",
       "    }\n",
       "</style>\n",
       "<table border=\"1\" class=\"dataframe\">\n",
       "  <thead>\n",
       "    <tr style=\"text-align: right;\">\n",
       "      <th></th>\n",
       "      <th>SepalLength</th>\n",
       "      <th>SepalWidth</th>\n",
       "      <th>PetalLength</th>\n",
       "      <th>PetalWidth</th>\n",
       "      <th>Species</th>\n",
       "    </tr>\n",
       "  </thead>\n",
       "  <tbody>\n",
       "    <tr>\n",
       "      <th>0</th>\n",
       "      <td>5.1</td>\n",
       "      <td>3.5</td>\n",
       "      <td>1.4</td>\n",
       "      <td>0.2</td>\n",
       "      <td>Iris-setosa</td>\n",
       "    </tr>\n",
       "    <tr>\n",
       "      <th>1</th>\n",
       "      <td>4.9</td>\n",
       "      <td>3.0</td>\n",
       "      <td>1.4</td>\n",
       "      <td>0.2</td>\n",
       "      <td>Iris-setosa</td>\n",
       "    </tr>\n",
       "    <tr>\n",
       "      <th>2</th>\n",
       "      <td>4.7</td>\n",
       "      <td>3.2</td>\n",
       "      <td>1.3</td>\n",
       "      <td>0.2</td>\n",
       "      <td>Iris-setosa</td>\n",
       "    </tr>\n",
       "    <tr>\n",
       "      <th>3</th>\n",
       "      <td>4.6</td>\n",
       "      <td>3.1</td>\n",
       "      <td>1.5</td>\n",
       "      <td>0.2</td>\n",
       "      <td>Iris-setosa</td>\n",
       "    </tr>\n",
       "    <tr>\n",
       "      <th>4</th>\n",
       "      <td>5.0</td>\n",
       "      <td>3.6</td>\n",
       "      <td>1.4</td>\n",
       "      <td>0.2</td>\n",
       "      <td>Iris-setosa</td>\n",
       "    </tr>\n",
       "  </tbody>\n",
       "</table>\n",
       "</div>"
      ],
      "text/plain": [
       "<div>\n",
       "<style>\n",
       "    .dataframe thead tr:only-child th {\n",
       "        text-align: right;\n",
       "    }\n",
       "\n",
       "    .dataframe thead th {\n",
       "        text-align: left;\n",
       "    }\n",
       "\n",
       "    .dataframe tbody tr th {\n",
       "        vertical-align: top;\n",
       "    }\n",
       "</style>\n",
       "<table border=\"1\" class=\"dataframe\">\n",
       "  <thead>\n",
       "    <tr style=\"text-align: right;\">\n",
       "      <th></th>\n",
       "      <th>SepalLength</th>\n",
       "      <th>SepalWidth</th>\n",
       "      <th>PetalLength</th>\n",
       "      <th>PetalWidth</th>\n",
       "      <th>Species</th>\n",
       "    </tr>\n",
       "  </thead>\n",
       "  <tbody>\n",
       "    <tr>\n",
       "      <th>0</th>\n",
       "      <td>5.1</td>\n",
       "      <td>3.5</td>\n",
       "      <td>1.4</td>\n",
       "      <td>0.2</td>\n",
       "      <td>Iris-setosa</td>\n",
       "    </tr>\n",
       "    <tr>\n",
       "      <th>1</th>\n",
       "      <td>4.9</td>\n",
       "      <td>3.0</td>\n",
       "      <td>1.4</td>\n",
       "      <td>0.2</td>\n",
       "      <td>Iris-setosa</td>\n",
       "    </tr>\n",
       "    <tr>\n",
       "      <th>2</th>\n",
       "      <td>4.7</td>\n",
       "      <td>3.2</td>\n",
       "      <td>1.3</td>\n",
       "      <td>0.2</td>\n",
       "      <td>Iris-setosa</td>\n",
       "    </tr>\n",
       "    <tr>\n",
       "      <th>3</th>\n",
       "      <td>4.6</td>\n",
       "      <td>3.1</td>\n",
       "      <td>1.5</td>\n",
       "      <td>0.2</td>\n",
       "      <td>Iris-setosa</td>\n",
       "    </tr>\n",
       "    <tr>\n",
       "      <th>4</th>\n",
       "      <td>5.0</td>\n",
       "      <td>3.6</td>\n",
       "      <td>1.4</td>\n",
       "      <td>0.2</td>\n",
       "      <td>Iris-setosa</td>\n",
       "    </tr>\n",
       "  </tbody>\n",
       "</table>\n",
       "</div>"
      ]
     },
     "execution_count": 6,
     "metadata": {},
     "output_type": "execute_result"
    }
   ],
   "source": [
    "iris=pd.read_csv(\"http://nikbearbrown.com/YouTube/MachineLearning/DATA/iris.csv\",sep=',')\n",
    "iris.head()"
   ]
  },
  {
   "cell_type": "heading",
   "metadata": {},
   "level": 6,
   "source": [
    "-Numpy用于计算矩阵\n"
   ]
  },
  {
   "cell_type": "code",
   "execution_count": 2,
   "metadata": {},
   "outputs": [
    {
     "name": "stdout",
     "output_type": "stream",
     "text": [
      "[[1 2 3]\n [4 5 6]]\ndimension: 2\nshape: (2, 3)\nsize: 6\n"
     ]
    }
   ],
   "source": [
    "import numpy as np\n",
    "array = np.array([[1,2,3],[4,5,6]])\n",
    "print(array)\n",
    "print('dimension:',array.ndim)\n",
    "print('shape:',array.shape)\n",
    "print('size:', array.size)\n"
   ]
  },
  {
   "cell_type": "code",
   "execution_count": 5,
   "metadata": {},
   "outputs": [
    {
     "name": "stdout",
     "output_type": "stream",
     "text": [
      "float64\n"
     ]
    }
   ],
   "source": [
    "a=np.array([2,3,4],dtype=float) #Set type of array\n",
    "print(a.dtype)"
   ]
  },
  {
   "cell_type": "code",
   "execution_count": 7,
   "metadata": {},
   "outputs": [
    {
     "name": "stdout",
     "output_type": "stream",
     "text": [
      "[[ 0.  0.  0.  0.]\n [ 0.  0.  0.  0.]\n [ 0.  0.  0.  0.]]\n"
     ]
    }
   ],
   "source": [
    "a=np.zeros((3,4)) #np.ones()\n",
    "print(a)"
   ]
  },
  {
   "cell_type": "code",
   "execution_count": 8,
   "metadata": {},
   "outputs": [
    {
     "name": "stdout",
     "output_type": "stream",
     "text": [
      "[[1 1 1 1]\n [1 1 1 1]\n [1 1 1 1]]\ntype: int16\n"
     ]
    }
   ],
   "source": [
    "a=np.ones((3,4),dtype=np.int16)\n",
    "print(a)\n",
    "print('type:', a.dtype)"
   ]
  },
  {
   "cell_type": "code",
   "execution_count": 9,
   "metadata": {},
   "outputs": [
    {
     "name": "stdout",
     "output_type": "stream",
     "text": [
      "[[ 0.  0.  0.  0.]\n [ 0.  0.  0.  0.]\n [ 0.  0.  0.  0.]]\n"
     ]
    }
   ],
   "source": [
    "a=np.empty((3,4))\n",
    "print(a)"
   ]
  },
  {
   "cell_type": "code",
   "execution_count": 11,
   "metadata": {},
   "outputs": [
    {
     "name": "stdout",
     "output_type": "stream",
     "text": [
      "[10 12 14 16 18]\n"
     ]
    }
   ],
   "source": [
    "a=np.arange(10,20,2) #Generate ordered array: From 10, To 19, Step 2\n",
    "print(a)"
   ]
  },
  {
   "cell_type": "code",
   "execution_count": 12,
   "metadata": {},
   "outputs": [
    {
     "name": "stdout",
     "output_type": "stream",
     "text": [
      "[[ 0  1  2  3]\n [ 4  5  6  7]\n [ 8  9 10 11]]\n"
     ]
    }
   ],
   "source": [
    "a=np.arange(12).reshape((3,4))\n",
    "print(a)"
   ]
  },
  {
   "cell_type": "code",
   "execution_count": 16,
   "metadata": {},
   "outputs": [
    {
     "name": "stdout",
     "output_type": "stream",
     "text": [
      "[[  1.    2.8   4.6]\n [  6.4   8.2  10. ]]\n"
     ]
    }
   ],
   "source": [
    "a=np.linspace(1,10,6).reshape((2,3)) # Line Type & Reshape: From 1, To 10, Step 6\n",
    "print(a)"
   ]
  },
  {
   "cell_type": "code",
   "execution_count": 18,
   "metadata": {},
   "outputs": [
    {
     "name": "stdout",
     "output_type": "stream",
     "text": [
      "[  1.    2.5   4.    5.5   7.    8.5  10. ]\n"
     ]
    }
   ],
   "source": [
    "a=np.linspace(1,10,7)\n",
    "print(a)"
   ]
  },
  {
   "cell_type": "code",
   "execution_count": 26,
   "metadata": {},
   "outputs": [
    {
     "name": "stdout",
     "output_type": "stream",
     "text": [
      "a: [10 20 30 40]\nb: [0 1 2 3]\n[10 19 28 37]\n[    1    20   900 64000]\n[-5.44021111  9.12945251 -9.88031624  7.4511316 ]\nJudge if <3: [ True  True  True False]\n"
     ]
    }
   ],
   "source": [
    "a=np.array([10,20,30,40])\n",
    "b=np.arange(4)\n",
    "print('a:',a)\n",
    "print('b:',b)\n",
    "print(a-b) #Matrix sub\n",
    "print(a**b) #Square\n",
    "print(10*np.sin(a)) #np.sin()\n",
    "print('Judge if <3:',b<3) #Return the num < 3: Boolean"
   ]
  },
  {
   "cell_type": "code",
   "execution_count": 32,
   "metadata": {},
   "outputs": [
    {
     "name": "stdout",
     "output_type": "stream",
     "text": [
      "a: [[1 0]\n [1 2]]\nb: [[0 1]\n [2 3]]\nGeneral multiply:  [[0 0]\n [2 6]]\nMatrix Multiply-1: [[0 1]\n [4 7]]\nMatrix Multiply-2: [[0 1]\n [4 7]]\n"
     ]
    }
   ],
   "source": [
    "a=np.array([[1,0],[1,2]]).reshape((2,2))\n",
    "b=np.arange(4).reshape((2,2))\n",
    "print('a:',a)\n",
    "print('b:',b)\n",
    "print('General multiply: ',a*b) #General multiply\n",
    "print('Matrix Multiply-1:', np.dot(a,b)) #Matrix Multiply\n",
    "print('Matrix Multiply-2:', a.dot(b))"
   ]
  },
  {
   "cell_type": "code",
   "execution_count": 46,
   "metadata": {},
   "outputs": [
    {
     "name": "stdout",
     "output_type": "stream",
     "text": [
      "a: [[ 0.42434223  0.67558612  0.23925725  0.91853611]\n [ 0.27079694  0.63601493  0.8688333   0.42668263]]\nall sum: 4.46004950546\nall min: 0.239257247748\nall max: 0.918536111764\nsum in line: [ 0.69513917  1.31160105  1.10809055  1.34521874]\nmin in row: [ 0.23925725  0.27079694]\nmax in line: [ 0.42434223  0.67558612  0.8688333   0.91853611]\nindex of min: 2 value of min: 0.239257247748\nmean-1: 0.557506188183\nmean-2: 0.557506188183\nmean of column: [ 0.34756958  0.65580052  0.55404527  0.67260937]\nmean of row: [ 0.56443043  0.55058195]\naverage: 0.557506188183\nmedian of a: 0.531348778572\ncumulate sum: [ 0.42434223  1.09992835  1.3391856   2.25772171  2.52851865  3.16453357\n  4.03336687  4.46004951]\ncumulate difference: [[ 0.25124389 -0.43632887  0.67927886]\n [ 0.36521799  0.23281837 -0.44215067]]\nif zero:  (array([0, 0, 0, 0, 1, 1, 1, 1], dtype=int64), array([0, 1, 2, 3, 0, 1, 2, 3], dtype=int64))\nsort: [[ 0.23925725  0.42434223  0.67558612  0.91853611]\n [ 0.27079694  0.42668263  0.63601493  0.8688333 ]]\ntransporse of Matrix: [[ 0.42434223  0.27079694]\n [ 0.67558612  0.63601493]\n [ 0.23925725  0.8688333 ]\n [ 0.91853611  0.42668263]]\nclip: [[ 0.42434223  0.67558612  0.23925725  0.7       ]\n [ 0.27079694  0.63601493  0.7         0.42668263]]\n"
     ]
    }
   ],
   "source": [
    "a=np.random.random((2,4)) #Random 0-1 matrix\n",
    "print('a:', a)\n",
    "print('all sum:',np.sum(a))\n",
    "print('all min:', np.min(a))\n",
    "print('all max:',np.max(a))\n",
    "print('sum in line:',np.sum(a,axis=0))\n",
    "print('min in row:',np.min(a,axis=1))\n",
    "print('max in line:', np.max(a,axis=0))\n",
    "print('index of min:', np.argmin(a), 'value of min:', np.min(a))\n",
    "print('mean-1:', np.mean(a))\n",
    "print('mean-2:', a.mean())\n",
    "print('mean of column:',np.mean(a,axis=0))\n",
    "print('mean of row:',np.mean(a,axis=1))\n",
    "\n",
    "print('average:', np.average(a)) #Only this one!\n",
    "print('median of a:', np.median(a))\n",
    "print('cumulate sum:', np.cumsum(a)) #Add from 0->N-1\n",
    "print('cumulate difference:', np.diff(a)) # N-(N-1)\n",
    "print('if zero: ',np.nonzero(a))\n",
    "print('sort:', np.sort(a))\n",
    "print('transporse of Matrix:', np.transpose(a))\n",
    "print('clip:',np.clip(a,0.2,0.7)) #if >0.7, digit=0.7; if <0.2, digit=0.2; Others remain.\n",
    "\n"
   ]
  },
  {
   "cell_type": "code",
   "execution_count": 58,
   "metadata": {},
   "outputs": [
    {
     "name": "stdout",
     "output_type": "stream",
     "text": [
      "12\n12\n[11 12 13 14]\n[ 5  9 13]\n[8 9]\na.T: [[ 3  7 11]\n [ 4  8 12]\n [ 5  9 13]\n [ 6 10 14]]\nFor Row:  [3 4 5 6]\nFor Row:  [ 7  8  9 10]\nFor Row:  [11 12 13 14]\nFlatten a: [ 3  4  5  6  7  8  9 10 11 12 13 14]\nGet every item from a:\n3\n4\n5\n6\n7\n8\n9\n10\n11\n12\n13\n14\n"
     ]
    }
   ],
   "source": [
    "a=np.arange(3,15).reshape((3,4))\n",
    "print(a[2][1]) #OR:\n",
    "print(a[2,1])\n",
    "print(a[2,:]) #All in Row 2\n",
    "print(a[:,2]) #All in Colunm 2\n",
    "print(a[1,1:3]) #All in Row 1, Column 1-3\n",
    "print('a.T:',a.T)\n",
    "\n",
    "for row in a:\n",
    "    print('For Row: ',row)\n",
    "    \n",
    "print('Flatten a:', a.flatten())\n",
    "print('Get every item from a:')\n",
    "for item in a.flat:\n",
    "    print(item)"
   ]
  },
  {
   "cell_type": "code",
   "execution_count": 71,
   "metadata": {},
   "outputs": [
    {
     "name": "stdout",
     "output_type": "stream",
     "text": [
      "Vertical: \n[[1 1 1]\n [2 2 2]]\nShape of C: (2, 3)\nHorizontal:\n[1 1 1 2 2 2]\nAdd one dimension on column:\n[[1]\n [1]\n [1]]\nAdd one dimension on row:\n[[1 1 1]]\nEntire way:\n[[1]\n [1]\n [1]]\n[1 1 1 2 2 2 2 2 2 1 1 1]\n"
     ]
    }
   ],
   "source": [
    "a=np.array([1,1,1])\n",
    "b=np.array([2,2,2])\n",
    "c=np.vstack((a,b))#Merge up & down vertically\n",
    "d=np.hstack((a,b))#Merge left & right horizontally\n",
    "\n",
    "print('Vertical: ') \n",
    "print(c)\n",
    "print('Shape of C:', c.shape)\n",
    "\n",
    "print('Horizontal:')\n",
    "print(d)\n",
    "\n",
    "print('Add one dimension on column:')\n",
    "print(a[:,np.newaxis])\n",
    "print('Add one dimension on row:')\n",
    "print(a[np.newaxis,:])\n",
    "\n",
    "d=np.array([1,1,1])[:,np.newaxis]\n",
    "print('Entire way:')\n",
    "print(d)\n",
    "\n",
    "print('multiple array merging by rows & columns: ')\n",
    "c=np.concatenate((a,b,b,a), axis=0) \n",
    "#multiple array merging by rows & columns. axis=0: vertically merge\n",
    "print(c)\n"
   ]
  },
  {
   "cell_type": "code",
   "execution_count": 79,
   "metadata": {},
   "outputs": [
    {
     "name": "stdout",
     "output_type": "stream",
     "text": [
      "Split array in equal parts:\n[array([[0, 1],\n       [4, 5],\n       [8, 9]]), array([[ 2,  3],\n       [ 6,  7],\n       [10, 11]])]\nSplit array in unequal parts:\n[array([[0, 1],\n       [4, 5],\n       [8, 9]]), array([[ 2],\n       [ 6],\n       [10]]), array([[ 3],\n       [ 7],\n       [11]])]\nSplit horizontally:\n[array([[0, 1],\n       [4, 5],\n       [8, 9]]), array([[ 2,  3],\n       [ 6,  7],\n       [10, 11]])]\nSplit vertically:\n[array([[0, 1, 2, 3]]), array([[4, 5, 6, 7]]), array([[ 8,  9, 10, 11]])]\n"
     ]
    }
   ],
   "source": [
    "a=np.arange(12).reshape((3,4))\n",
    "\n",
    "print('Split array in equal parts:')\n",
    "print(np.split(a,2,axis=1)) #等量分割：axis=1: 列方向,分为2个子矩阵，等量分割；axis=0:行方向\n",
    "\n",
    "print('Split array in unequal parts:')\n",
    "print(np.array_split(a,3,axis=1)) #不等量分割。axis=0，axis=1\n",
    "\n",
    "b=np.arange(12).reshape((3,4))\n",
    "print('Split horizontally:')\n",
    "print(np.hsplit(a,2)) #横向分割为2部分；\n",
    "print('Split vertically:')\n",
    "print(np.vsplit(a,3))"
   ]
  },
  {
   "cell_type": "code",
   "execution_count": 81,
   "metadata": {},
   "outputs": [
    {
     "name": "stdout",
     "output_type": "stream",
     "text": [
      "a-1:\n[0 1 2 3]\na-2: [11  1  2  3]\nb: [11  1  2  3]\nc: [11  1  2  3]\nd: [11  1  2  3]\na-3: [11  1 22  3]\nb: [11  1 22  3]\nc: [11  1 22  3]\nd: [11  1 22  3]\n"
     ]
    }
   ],
   "source": [
    "a=np.arange(4)\n",
    "b=a\n",
    "c=a\n",
    "d=b\n",
    "\n",
    "print('a-1:')\n",
    "print(a)\n",
    "\n",
    "a[0]=11\n",
    "print('a-2:',a)\n",
    "print('b:',b) #copy is a references copy.\n",
    "print('c:',c)\n",
    "print('d:',d)\n",
    "\n",
    "d[2]=22\n",
    "print('a-3:',a)\n",
    "print('b:',b) #copy is a references copy.\n",
    "print('c:',c)\n",
    "print('d:',d)"
   ]
  },
  {
   "cell_type": "code",
   "execution_count": 83,
   "metadata": {},
   "outputs": [
    {
     "name": "stdout",
     "output_type": "stream",
     "text": [
      "a-1:\n[0 1 2 3]\na-2: [11  1  2  3]\nb: [0 1 2 3]\n"
     ]
    }
   ],
   "source": [
    "a=np.arange(4)\n",
    "b=a.copy() #Deep copy: Just copy the values.\n",
    "\n",
    "print('a-1:')\n",
    "print(a)\n",
    "\n",
    "a[0]=11\n",
    "print('a-2:',a)\n",
    "print('b:',b) #b will not change with the new value 11."
   ]
  },
  {
   "cell_type": "heading",
   "metadata": {},
   "level": 1,
   "source": [
    "Pandas"
   ]
  },
  {
   "cell_type": "code",
   "execution_count": 84,
   "metadata": {},
   "outputs": [
    {
     "name": "stdout",
     "output_type": "stream",
     "text": [
      "0     1.0\n1     3.0\n2     6.0\n3     NaN\n4    44.0\n5     1.0\ndtype: float64\n"
     ]
    }
   ],
   "source": [
    "import pandas as pd\n",
    "import numpy as np\n",
    "s=pd.Series([1,3,6,np.nan,44,1]) #Series: 带有索引的列表，类似一维数组\n",
    "print(s)"
   ]
  },
  {
   "cell_type": "code",
   "execution_count": 85,
   "metadata": {},
   "outputs": [
    {
     "name": "stdout",
     "output_type": "stream",
     "text": [
      "DatetimeIndex(['2018-01-01', '2018-01-02', '2018-01-03', '2018-01-04',\n               '2018-01-05', '2018-01-06'],\n              dtype='datetime64[ns]', freq='D')\n"
     ]
    }
   ],
   "source": [
    "dates=pd.date_range('20180101', periods=6)\n",
    "print(dates)"
   ]
  },
  {
   "cell_type": "code",
   "execution_count": 87,
   "metadata": {},
   "outputs": [
    {
     "name": "stdout",
     "output_type": "stream",
     "text": [
      "                   a         b         c         d\n2018-01-01  0.033656  0.774785 -0.344974 -0.501500\n2018-01-02  1.446287 -0.163009  0.776231  0.775499\n2018-01-03 -1.225665 -0.668612 -1.024487 -0.448585\n2018-01-04 -0.459659  1.878604 -0.822946 -0.762041\n2018-01-05 -0.046279  1.472584  0.768908  0.782175\n2018-01-06  0.544377  0.355931 -0.772170  0.714260\n"
     ]
    }
   ],
   "source": [
    "df=pd.DataFrame(np.random.randn(6,4),index=dates,columns=['a','b','c','d'])\n",
    "print(df)"
   ]
  },
  {
   "cell_type": "code",
   "execution_count": 89,
   "metadata": {},
   "outputs": [
    {
     "name": "stdout",
     "output_type": "stream",
     "text": [
      "   0  1   2   3\n0  0  1   2   3\n1  4  5   6   7\n2  8  9  10  11\n"
     ]
    }
   ],
   "source": [
    "df=pd.DataFrame(np.arange(12).reshape((3,4)))\n",
    "print(df)"
   ]
  },
  {
   "cell_type": "heading",
   "metadata": {},
   "level": 2,
   "source": [
    "字典："
   ]
  },
  {
   "cell_type": "code",
   "execution_count": 98,
   "metadata": {
    "collapsed": true
   },
   "outputs": [
    {
     "name": "stdout",
     "output_type": "stream",
     "text": [
      "   A          B    C  D      E     F\n0  1 2013-01-02  1.0  3   test  fool\n1  1 2013-01-02  1.0  3  train  fool\n2  1 2013-01-02  1.0  3   test  fool\n3  1 2013-01-02  1.0  3  train  fool\nInt64Index([0, 1, 2, 3], dtype='int64')\nA             int64\nB    datetime64[ns]\nC           float32\nD             int32\nE          category\nF            object\ndtype: object\n[[1 Timestamp('2013-01-02 00:00:00') 1.0 3 'test' 'fool']\n [1 Timestamp('2013-01-02 00:00:00') 1.0 3 'train' 'fool']\n [1 Timestamp('2013-01-02 00:00:00') 1.0 3 'test' 'fool']\n [1 Timestamp('2013-01-02 00:00:00') 1.0 3 'train' 'fool']]\n         A    C    D\ncount  4.0  4.0  4.0\nmean   1.0  1.0  3.0\nstd    0.0  0.0  0.0\nmin    1.0  1.0  3.0\n25%    1.0  1.0  3.0\n50%    1.0  1.0  3.0\n75%    1.0  1.0  3.0\nmax    1.0  1.0  3.0\n                     0                    1                    2  \\\nA                    1                    1                    1   \nB  2013-01-02 00:00:00  2013-01-02 00:00:00  2013-01-02 00:00:00   \nC                    1                    1                    1   \nD                    3                    3                    3   \nE                 test                train                 test   \nF                 fool                 fool                 fool   \n\n                     3  \nA                    1  \nB  2013-01-02 00:00:00  \nC                    1  \nD                    3  \nE                train  \nF                 fool  \nsort_index(axis=1):\n      F      E  D    C          B  A\n0  fool   test  3  1.0 2013-01-02  1\n1  fool  train  3  1.0 2013-01-02  1\n2  fool   test  3  1.0 2013-01-02  1\n3  fool  train  3  1.0 2013-01-02  1\nsort_index(axis=0):\n   A          B    C  D      E     F\n3  1 2013-01-02  1.0  3  train  fool\n2  1 2013-01-02  1.0  3   test  fool\n1  1 2013-01-02  1.0  3  train  fool\n0  1 2013-01-02  1.0  3   test  fool\n"
     ]
    }
   ],
   "source": [
    "df=pd.DataFrame({'A':1,'B':pd.Timestamp('20130102'),'C':pd.Series(1,index=list(range(4)),dtype='float32'),'D':np.array([3]*4,dtype='int32'),'E':pd.Categorical([\"test\",\"train\",\"test\",\"train\"]),'F':'fool'})\n",
    "\n",
    "print(df)\n",
    "print(df.index)\n",
    "print(df.dtypes)\n",
    "print(df.values)\n",
    "print(df.describe())#只对数字形式做描述\n",
    "print(df.T)#对矩阵倒置\n",
    "print('sort_index(axis=1):')\n",
    "print(df.sort_index(axis=1,ascending=False))\n",
    "#axis=1:按列属性排序；axis=0:对行排序\n",
    "#sort_index：按索引排序。\n",
    "print('sort_index(axis=0):')\n",
    "print(df.sort_index(axis=0,ascending=False))\n",
    "\n",
    "print('Sort Values:')\n",
    "print(df.sort_values(by='E')) #对某单行里的值排序"
   ]
  },
  {
   "cell_type": "code",
   "execution_count": 109,
   "metadata": {},
   "outputs": [
    {
     "name": "stdout",
     "output_type": "stream",
     "text": [
      "2013-01-01     0\n2013-01-02     4\n2013-01-03     8\n2013-01-04    12\n2013-01-05    16\n2013-01-06    20\nFreq: D, Name: A, dtype: int32 2013-01-01     0\n2013-01-02     4\n2013-01-03     8\n2013-01-04    12\n2013-01-05    16\n2013-01-06    20\nFreq: D, Name: A, dtype: int32\nGet Line0-3:\n            A  B   C   D\n2013-01-01  0  1   2   3\n2013-01-02  4  5   6   7\n2013-01-03  8  9  10  11\nGet Line with index of 20130103-20130106:\n             A   B   C   D\n2013-01-03   8   9  10  11\n2013-01-04  12  13  14  15\n2013-01-05  16  17  18  19\n2013-01-06  20  21  22  23\nSelect by label: loc():\nA     8\nB     9\nC    10\nD    11\nName: 2013-01-03 00:00:00, dtype: int32\nRows with specific Attributes:\n             A   B\n2013-01-01   0   1\n2013-01-02   4   5\n2013-01-03   8   9\n2013-01-04  12  13\n2013-01-05  16  17\n2013-01-06  20  21\nSpecific Rows & Attributes:\nA    8\nB    9\nName: 2013-01-03 00:00:00, dtype: int32\nSpecific Row by index:\nA    12\nB    13\nC    14\nD    15\nName: 2013-01-04 00:00:00, dtype: int32\nSpecific Row & value by index:\n13\nSlice specific rows and values:\n             B   C\n2013-01-04  13  14\n2013-01-05  17  18\nSelect with specific index:\n             B   C\n2013-01-02   5   6\n2013-01-04  13  14\n2013-01-06  21  22\n"
     ]
    }
   ],
   "source": [
    "dates=pd.date_range('20130101',periods=6)\n",
    "df=pd.DataFrame(np.arange(24).reshape(6,4),index=dates,columns=['A','B','C','D'])\n",
    "print(df['A'],df.A) #打印A列的两种方式。\n",
    "\n",
    "print('Get Line0-3:')\n",
    "print(df[0:3])\n",
    "\n",
    "print('Get Line with index of 20130103-20130106:')\n",
    "print(df['20130103':'20130106'])\n",
    "\n",
    "print('Select by label: loc():')\n",
    "print(df.loc['20130103'])\n",
    "\n",
    "print('Rows with specific Attributes:')\n",
    "print(df.loc[:,['A','B']])\n",
    "\n",
    "print('Specific Rows & Attributes:')\n",
    "print(df.loc['20130103',['A','B']])\n",
    "\n",
    "##Select by position: iloc()\n",
    "print('Specific Row by index:')\n",
    "print(df.iloc[3]) #2013-01-04  12  13  14  15\n",
    "\n",
    "print('Specific Row & value by index:')\n",
    "print(df.iloc[3,1]) #13\n",
    "\n",
    "print('Slice specific rows and values:')\n",
    "print(df.iloc[3:5,1:3]) \n",
    "#切片：第四行到第五行，的第二列到第三列\n",
    "#B   C\n",
    "#2013-01-04  13  14\n",
    "#2013-01-05  17  18\n",
    "\n",
    "print('Select with specific index:')\n",
    "print(df.iloc[[1,3,5],1:3]) #选择第2、4、6行，的第2、3列\n",
    "\n"
   ]
  },
  {
   "cell_type": "heading",
   "metadata": {},
   "level": 2,
   "source": [
    "Boolean Indexing:选择大于、小于、等于某值的行。"
   ]
  },
  {
   "cell_type": "code",
   "execution_count": 124,
   "metadata": {},
   "outputs": [
    {
     "name": "stdout",
     "output_type": "stream",
     "text": [
      "2013-01-01     0\n2013-01-02     4\n2013-01-03     8\n2013-01-04    12\n2013-01-05    16\n2013-01-06    20\nFreq: D, Name: A, dtype: int32\n             A   B   C   D\n2013-01-04  12  13  14  15\n2013-01-05  16  17  18  19\n2013-01-06  20  21  22  23\n             A  B   C   D\n2013-01-01   0  1   2   3\n2013-01-02   4  5   6   7\n2013-01-03   8  9  10  11\n2013-01-04  12  8  14  15\n2013-01-05  16  8  18  19\n2013-01-06  20  8  22  23\n             A  B   C   D\n2013-01-01   0  1   2 NaN\n2013-01-02   4  5   6 NaN\n2013-01-03   8  9  10 NaN\n2013-01-04  12  8  14 NaN\n2013-01-05  16  8  18 NaN\n2013-01-06  20  8  22 NaN\nGenerate new index on Colum C and match previous date index:\n             A  B  C   D\n2013-01-01   0  1  1 NaN\n2013-01-02   4  5  2 NaN\n2013-01-03   8  9  3 NaN\n2013-01-04  12  8  4 NaN\n2013-01-05  16  8  5 NaN\n2013-01-06  20  8  6 NaN\n"
     ]
    }
   ],
   "source": [
    "dates=pd.date_range('20130101',periods=6)\n",
    "df=pd.DataFrame(np.arange(24).reshape(6,4),index=dates,columns=['A','B','C','D'])\n",
    "print(df['A']) \n",
    "print(df[df.A>8])#选择A>8的所有元组。\n",
    "\n",
    "df.B[df.A>8]=8 #所有A属性中>8的数字，B对应的值都改为8.\n",
    "print(df)\n",
    "\n",
    "df['D']=np.nan\n",
    "print(df)\n",
    "\n",
    "print('Generate new index Series on Colum C and match previous date index:')\n",
    "df['C']=pd.Series([1,2,3,4,5,6],index=pd.date_range('20130101',periods=6))\n",
    "print(df)"
   ]
  },
  {
   "cell_type": "code",
   "execution_count": 135,
   "metadata": {},
   "outputs": [
    {
     "name": "stdout",
     "output_type": "stream",
     "text": [
      "                A      B      C      D\n2013-01-01  False   True  False  False\n2013-01-02  False  False   True  False\n2013-01-03  False  False  False  False\n2013-01-04  False  False  False  False\n2013-01-05  False  False  False  False\n2013-01-06  False  False  False  False\nTrue\n             A     B     C   D\n2013-01-03   8   9.0  10.0  11\n2013-01-04  12  13.0  14.0  15\n2013-01-05  16  17.0  18.0  19\n2013-01-06  20  21.0  22.0  23\n             A     B     C   D\n2013-01-01   0   0.0   2.0   3\n2013-01-02   4   5.0   0.0   7\n2013-01-03   8   9.0  10.0  11\n2013-01-04  12  13.0  14.0  15\n2013-01-05  16  17.0  18.0  19\n2013-01-06  20  21.0  22.0  23\n"
     ]
    }
   ],
   "source": [
    "dates=pd.date_range('20130101',periods=6)\n",
    "df=pd.DataFrame(np.arange(24).reshape(6,4),index=dates,columns=['A','B','C','D'])\n",
    "df.iloc[0,1]=np.nan\n",
    "df.iloc[1,2]=np.nan\n",
    "\n",
    "#检验: 是否有Nan?\n",
    "print(df.isnull()) #判断每个元素是否缺失值？\n",
    "print('Is there any nan?')\n",
    "print(np.any(df.isnull())==True)#如果有一个nan，就返回true。判断所有数据最终结论。\n",
    "\n",
    "#处理：1.丢掉；2.替换：\n",
    "print(df.dropna(axis=0,how='any')) #how={'any','all'} #Axis=0:对行操作；# Any:该行中只有有一个是nan，就丢掉整行；All:当所有值都为nan时，才丢掉整行。\n",
    "print(df.fillna(value=0)) #用0填充Nan"
   ]
  },
  {
   "cell_type": "code",
   "execution_count": 143,
   "metadata": {
    "collapsed": false
   },
   "outputs": [
    {
     "name": "stdout",
     "output_type": "stream",
     "text": [
      "             DATE  PRCP  TMAX  TMIN   RAIN\n0      1948-01-01  0.47    51    42   True\n1      1948-01-02  0.59    45    36   True\n2      1948-01-03  0.42    45    35   True\n3      1948-01-04  0.31    45    34   True\n4      1948-01-05  0.17    45    32   True\n5      1948-01-06  0.44    48    39   True\n6      1948-01-07  0.41    50    40   True\n7      1948-01-08  0.04    48    35   True\n8      1948-01-09  0.12    50    31   True\n9      1948-01-10  0.74    43    34   True\n10     1948-01-11  0.01    42    32   True\n11     1948-01-12  0.00    41    26  False\n12     1948-01-13  0.00    45    29  False\n13     1948-01-14  0.00    38    26  False\n14     1948-01-15  0.00    34    31  False\n15     1948-01-16  0.00    34    28  False\n16     1948-01-17  0.00    35    29  False\n17     1948-01-18  0.00    33    28  False\n18     1948-01-19  0.00    34    27  False\n19     1948-01-20  0.00    36    29  False\n20     1948-01-21  0.00    48    32  False\n21     1948-01-22  0.21    47    44   True\n22     1948-01-23  0.00    47    43  False\n23     1948-01-24  0.10    45    34   True\n24     1948-01-25  0.00    46    30  False\n25     1948-01-26  0.00    45    32  False\n26     1948-01-27  0.00    53    33  False\n27     1948-01-28  0.00    53    25  False\n28     1948-01-29  0.22    42    34   True\n29     1948-01-30  0.03    47    30   True\n...           ...   ...   ...   ...    ...\n25521  2017-11-15  0.46    53    43   True\n25522  2017-11-16  0.16    44    42   True\n25523  2017-11-17  0.00    50    42  False\n25524  2017-11-18  0.00    52    41  False\n25525  2017-11-19  0.58    53    39   True\n25526  2017-11-20  0.63    50    41   True\n25527  2017-11-21  1.14    60    38   True\n25528  2017-11-22  0.52    68    56   True\n25529  2017-11-23  0.20    59    48   True\n25530  2017-11-24  0.01    52    46   True\n25531  2017-11-25  0.19    51    43   True\n25532  2017-11-26  0.25    58    42   True\n25533  2017-11-27  0.00    50    42  False\n25534  2017-11-28  0.68    47    43   True\n25535  2017-11-29  0.00    50    41  False\n25536  2017-11-30  0.27    46    41   True\n25537  2017-12-01  0.27    48    38   True\n25538  2017-12-02  0.79    44    41   True\n25539  2017-12-03  0.05    46    39   True\n25540  2017-12-04  0.00    45    34  False\n25541  2017-12-05  0.00    45    33  False\n25542  2017-12-06  0.00    52    36  False\n25543  2017-12-07  0.00    52    34  False\n25544  2017-12-08  0.00    43    29  False\n25545  2017-12-09  0.00    44    29  False\n25546  2017-12-10  0.00    49    34  False\n25547  2017-12-11  0.00    49    29  False\n25548  2017-12-12  0.00    46    32  False\n25549  2017-12-13  0.00    48    34  False\n25550  2017-12-14  0.00    50    36  False\n\n[25551 rows x 5 columns]\n"
     ]
    }
   ],
   "source": [
    "import pandas as pd\n",
    "data=pd.read_csv(r\"C:\\Users\\Zi Wei Fan\\Desktop\\NEU\\NEU\\Course\\INFO7390_AdavancedDataScience\\Assignment1\\seattleWeather_1948-2017.csv\")\n",
    "print(data)\n",
    "\n",
    "data.to_pickle(r\"C:\\Users\\Zi Wei Fan\\Desktop\\NEU\\NEU\\Course\\INFO7390_AdavancedDataScience\\Assignment1\\seattleWeather_1948-2017.pickle\")"
   ]
  },
  {
   "cell_type": "heading",
   "metadata": {
    "collapsed": true
   },
   "level": 6,
   "source": [
    "concatenating"
   ]
  },
  {
   "cell_type": "code",
   "execution_count": 163,
   "metadata": {},
   "outputs": [
    {
     "name": "stdout",
     "output_type": "stream",
     "text": [
      "     a    b    c    d\n0  0.0  0.0  0.0  0.0\n1  0.0  0.0  0.0  0.0\n2  0.0  0.0  0.0  0.0\n     a    b    c    d\n0  1.0  1.0  1.0  1.0\n1  1.0  1.0  1.0  1.0\n2  1.0  1.0  1.0  1.0\n     a    b    c    d\n0  2.0  2.0  2.0  2.0\n1  2.0  2.0  2.0  2.0\n2  2.0  2.0  2.0  2.0\nconcatenated vertically:\n     a    b    c    d\n0  0.0  0.0  0.0  0.0\n1  0.0  0.0  0.0  0.0\n2  0.0  0.0  0.0  0.0\n3  1.0  1.0  1.0  1.0\n4  1.0  1.0  1.0  1.0\n5  1.0  1.0  1.0  1.0\n6  2.0  2.0  2.0  2.0\n7  2.0  2.0  2.0  2.0\n8  2.0  2.0  2.0  2.0\nconcatenated horizontally:\n    0    1    2    3    4    5    6    7    8    9    10   11\n0  0.0  0.0  0.0  0.0  1.0  1.0  1.0  1.0  2.0  2.0  2.0  2.0\n1  0.0  0.0  0.0  0.0  1.0  1.0  1.0  1.0  2.0  2.0  2.0  2.0\n2  0.0  0.0  0.0  0.0  1.0  1.0  1.0  1.0  2.0  2.0  2.0  2.0\n     a    b    c    d\n1  0.0  0.0  0.0  0.0\n2  0.0  0.0  0.0  0.0\n3  0.0  0.0  0.0  0.0\n     b    c    d    e\n2  1.0  1.0  1.0  1.0\n3  1.0  1.0  1.0  1.0\n4  1.0  1.0  1.0  1.0\nJoin by outer:\n     a    b    c    d    e\n1  0.0  0.0  0.0  0.0  NaN\n2  0.0  0.0  0.0  0.0  NaN\n3  0.0  0.0  0.0  0.0  NaN\n2  NaN  1.0  1.0  1.0  1.0\n3  NaN  1.0  1.0  1.0  1.0\n4  NaN  1.0  1.0  1.0  1.0\nJoin by inner:\n     b    c    d\n0  0.0  0.0  0.0\n1  0.0  0.0  0.0\n2  0.0  0.0  0.0\n3  1.0  1.0  1.0\n4  1.0  1.0  1.0\n5  1.0  1.0  1.0\nconcat by without matching one index:\n     a    b    c    d    e\n1  0.0  0.0  0.0  0.0  NaN\n2  0.0  0.0  0.0  0.0  NaN\n3  0.0  0.0  0.0  0.0  NaN\n2  NaN  1.0  1.0  1.0  1.0\n3  NaN  1.0  1.0  1.0  1.0\n4  NaN  1.0  1.0  1.0  1.0\nconcat by matching one index:\n     a    b    c    d    b    c    d    e\n1  0.0  0.0  0.0  0.0  NaN  NaN  NaN  NaN\n2  0.0  0.0  0.0  0.0  1.0  1.0  1.0  1.0\n3  0.0  0.0  0.0  0.0  1.0  1.0  1.0  1.0\nappend:\n     a    b    c    d    e\n0  0.0  0.0  0.0  0.0  NaN\n1  0.0  0.0  0.0  0.0  NaN\n2  0.0  0.0  0.0  0.0  NaN\n3  NaN  1.0  1.0  1.0  1.0\n4  NaN  1.0  1.0  1.0  1.0\n5  NaN  1.0  1.0  1.0  1.0\n6  2.0  2.0  2.0  2.0  NaN\n7  2.0  2.0  2.0  2.0  NaN\n8  2.0  2.0  2.0  2.0  NaN\nAdd new turple into matrix:\n     a    b    c    d\n0  0.0  0.0  0.0  0.0\n1  0.0  0.0  0.0  0.0\n2  0.0  0.0  0.0  0.0\n3  1.0  2.0  3.0  4.0\n"
     ]
    }
   ],
   "source": [
    "df1=pd.DataFrame(np.ones((3,4))*0, columns=['a','b','c','d'])\n",
    "df2=pd.DataFrame(np.ones((3,4))*1, columns=['a','b','c','d'])\n",
    "df3=pd.DataFrame(np.ones((3,4))*2, columns=['a','b','c','d'])\n",
    "print(df1)\n",
    "print(df2)\n",
    "print(df3)\n",
    "\n",
    "#Concatenating:\n",
    "print('concatenated vertically:')\n",
    "print(pd.concat([df1,df2,df3],axis=0,ignore_index=True))\n",
    "print('concatenated horizontally:')\n",
    "print(pd.concat([df1,df2,df3],axis=1,ignore_index=True))\n",
    "\n",
    "#Join:['inner','Outer']\n",
    "df1=pd.DataFrame(np.ones((3,4))*0, columns=['a','b','c','d'],index=[1,2,3])\n",
    "df2=pd.DataFrame(np.ones((3,4))*1, columns=['b','c','d','e'],index=[2,3,4])\n",
    "print(df1)\n",
    "print(df2)\n",
    "print('Join by outer:')\n",
    "print(pd.concat([df1,df2])) #用Nan填充了互相没有的地方。---默认为Outer\n",
    "print('Join by inner:')\n",
    "print(pd.concat([df1,df2],join='inner',ignore_index=True)) #只连接双方都有的属性部分。---Inner\n",
    "\n",
    "print('concat by without matching one index:') #Default\n",
    "print(pd.concat([df1,df2],axis=0))\n",
    "print('concat by matching one index:') \n",
    "print(pd.concat([df1,df2],axis=1,join_axes=[df1.index]))#按df1的index。作为新矩阵的index，只取交集。\n",
    "\n",
    "print('append:') #级联\n",
    "print(df1.append([df2,df3],ignore_index=True))\n",
    "\n",
    "print('Add new turple into matrix:')#添加一个记录到矩阵：\n",
    "t1=pd.Series([1,2,3,4],index=['a','b','c','d'])\n",
    "print(df1.append(t1,ignore_index=True))\n"
   ]
  },
  {
   "cell_type": "heading",
   "metadata": {},
   "level": 2,
   "source": [
    "pandas: Merge"
   ]
  },
  {
   "cell_type": "code",
   "execution_count": 167,
   "metadata": {},
   "outputs": [
    {
     "name": "stdout",
     "output_type": "stream",
     "text": [
      "    A   B key\n0  A0  B0  K0\n1  A1  B1  K1\n2  A2  B2  K2\n    C   D key\n0  C0  D0  K0\n1  C1  D1  K1\n2  C2  D2  K2\n3  C3  D3  K3\nMerge on Key\n    A   B key   C   D\n0  A0  B0  K0  C0  D0\n1  A1  B1  K1  C1  D1\n2  A2  B2  K2  C2  D2\n"
     ]
    }
   ],
   "source": [
    "left=pd.DataFrame({'key':['K0','K1','K2'],'A':['A0','A1','A2'],'B':['B0','B1','B2']})\n",
    "right=pd.DataFrame({'key':['K0','K1','K2','K3'],'C':['C0','C1','C2','C3'],'D':['D0','D1','D2','D3']})\n",
    "print(left)\n",
    "print(right)\n",
    "\n",
    "res=pd.merge(left,right,on='key')\n",
    "print('Merge on Key')\n",
    "print(res)"
   ]
  },
  {
   "cell_type": "heading",
   "metadata": {},
   "level": 2,
   "source": [
    "pandas Merge on 2 keys"
   ]
  },
  {
   "cell_type": "code",
   "execution_count": 172,
   "metadata": {},
   "outputs": [
    {
     "name": "stdout",
     "output_type": "stream",
     "text": [
      "    A   B key1 key2\n0  a0  b0   k0   k0\n1  a1  b1   k0   k1\n2  a2  b2   k1   k0\n3  a3  b3   k2   k1\n    C   D key1 key2\n0  c0  d0   k0   k0\n1  c1  d1   k1   k0\n2  c2  d2   k1   k0\n3  c3  d3   k2   k0\nMerge 2 keys by inner merge:\n    A   B key1 key2   C   D\n0  a0  b0   k0   k0  c0  d0\n1  a2  b2   k1   k0  c1  d1\n2  a2  b2   k1   k0  c2  d2\nMerge 2 keys by outer merge:\n     A    B key1 key2    C    D\n0   a0   b0   k0   k0   c0   d0\n1   a1   b1   k0   k1  NaN  NaN\n2   a2   b2   k1   k0   c1   d1\n3   a2   b2   k1   k0   c2   d2\n4   a3   b3   k2   k1  NaN  NaN\n5  NaN  NaN   k2   k0   c3   d3\nMerge 2 keys by right merge:\n     A    B key1 key2   C   D\n0   a0   b0   k0   k0  c0  d0\n1   a2   b2   k1   k0  c1  d1\n2   a2   b2   k1   k0  c2  d2\n3  NaN  NaN   k2   k0  c3  d3\nMerge 2 keys by left merge:\n    A   B key1 key2    C    D\n0  a0  b0   k0   k0   c0   d0\n1  a1  b1   k0   k1  NaN  NaN\n2  a2  b2   k1   k0   c1   d1\n3  a2  b2   k1   k0   c2   d2\n4  a3  b3   k2   k1  NaN  NaN\n"
     ]
    }
   ],
   "source": [
    "left=pd.DataFrame({'key1':['k0','k0','k1','k2'],'key2':['k0','k1','k0','k1'],'A':['a0','a1','a2','a3'],'B':['b0','b1','b2','b3']})\n",
    "right=pd.DataFrame({'key1':['k0','k1','k1','k2'],'key2':['k0','k0','k0','k0'],'C':['c0','c1','c2','c3'],'D':['d0','d1','d2','d3']})\n",
    "print(left)\n",
    "print(right)\n",
    "print('Merge 2 keys by inner merge:')\n",
    "res=pd.merge(left,right,on=['key1','key2']) #找到left,right相同的key1,key2组合。默认的时 inner合并：how='inner'\n",
    "print(res)\n",
    "\n",
    "print('Merge 2 keys by outer merge:')\n",
    "res=pd.merge(left,right,on=['key1','key2'],how='outer')\n",
    "print (res)\n",
    "\n",
    "print('Merge 2 keys by right merge:')\n",
    "res=pd.merge(left,right,on=['key1','key2'],how='right')\n",
    "print(res)\n",
    "\n",
    "print('Merge 2 keys by left merge:')\n",
    "res=pd.merge(left, right, on=['key1','key2'],how='left')\n",
    "print(res)"
   ]
  },
  {
   "cell_type": "heading",
   "metadata": {},
   "level": 2,
   "source": [
    "Pandas Merge: indicator"
   ]
  },
  {
   "cell_type": "code",
   "execution_count": 175,
   "metadata": {},
   "outputs": [
    {
     "name": "stdout",
     "output_type": "stream",
     "text": [
      "   col1 col_left\n0     0        a\n1     1        b\n   col1  col_right\n0     1          2\n1     2          2\n2     2          1\nmerge by involve indicator:\n   col1 col_left  col_right      _merge\n0     0        a        NaN   left_only\n1     1        b        2.0        both\n2     2      NaN        2.0  right_only\n3     2      NaN        1.0  right_only\n   col1 col_left  col_right indicator_testname\n0     0        a        NaN          left_only\n1     1        b        2.0               both\n2     2      NaN        2.0         right_only\n3     2      NaN        1.0         right_only\n"
     ]
    }
   ],
   "source": [
    "df1=pd.DataFrame({'col1':[0,1],'col_left':['a','b']})\n",
    "df2=pd.DataFrame({'col1':[1,2,2],'col_right':[2,2,1]})\n",
    "print(df1)\n",
    "print(df2)\n",
    "\n",
    "print('merge by involve indicator:')\n",
    "res=pd.merge(df1,df2,on='col1',how='outer',indicator=True)\n",
    "#indicator: 显示出来merge的方式\n",
    "print(res)\n",
    "\n",
    "res=pd.merge(df1,df2,on='col1',how='outer',indicator='indicator_testname')\n",
    "#自定义indicator的行名称\n",
    "print(res)"
   ]
  },
  {
   "cell_type": "heading",
   "metadata": {},
   "level": 2,
   "source": [
    "Pandas merge:Index"
   ]
  },
  {
   "cell_type": "code",
   "execution_count": 177,
   "metadata": {},
   "outputs": [
    {
     "name": "stdout",
     "output_type": "stream",
     "text": [
      "     A   B\nk0  a0  b0\nk1  a1  b1\nk2  a2  b2\n     C   D\nk0  c0  d0\nk2  c2  d2\nk3  c3  d3\n"
     ]
    }
   ],
   "source": [
    "left=pd.DataFrame({'A':['a0','a1','a2'],'B':['b0','b1','b2']},index=['k0','k1','k2'])\n",
    "right=pd.DataFrame({'C':['c0','c2','c3'],'D':['d0','d2','d3']},index=['k0','k2','k3'])\n",
    "print(left)\n",
    "print(right)\n",
    "\n",
    "#merge by index: outer, inner, right, left\n",
    "print('Merge by index & outer:')\n",
    "res=pd.merge(left,right,left_index=True,right_index=True,how='outer')\n",
    "print(res)"
   ]
  },
  {
   "cell_type": "heading",
   "metadata": {},
   "level": 2,
   "source": [
    "Pandas Merge: Suffixes"
   ]
  },
  {
   "cell_type": "code",
   "execution_count": 181,
   "metadata": {},
   "outputs": [
    {
     "name": "stdout",
     "output_type": "stream",
     "text": [
      "boys:\n   age   k\n0    1  k0\n1    2  k1\n2    3  k2\ngirls:\n   age   k\n0    4  k0\n1    5  k0\n2    6  k3\nInner Merge with suffixes:\n   age_boy   k  age_girl\n0        1  k0         4\n1        1  k0         5\nOuter Merge with suffixes:\n   age_boy   k  age_girl\n0      1.0  k0       4.0\n1      1.0  k0       5.0\n2      2.0  k1       NaN\n3      3.0  k2       NaN\n4      NaN  k3       6.0\n"
     ]
    }
   ],
   "source": [
    "boys=pd.DataFrame({'k':['k0','k1','k2'],'age':[1,2,3]})\n",
    "girls=pd.DataFrame({'k':['k0','k0','k3'],'age':[4,5,6]})\n",
    "print('boys:')\n",
    "print(boys)\n",
    "print('girls:')\n",
    "print(girls)\n",
    "\n",
    "print('Inner Merge with suffixes:')\n",
    "res=pd.merge(boys,girls,on='k',suffixes=['_boy','_girl'],how='inner')\n",
    "print(res)\n",
    "\n",
    "print('Outer Merge with suffixes:')\n",
    "res=pd.merge(boys,girls,on='k',suffixes=['_boy','_girl'],how='outer')\n",
    "print(res)"
   ]
  },
  {
   "cell_type": "heading",
   "metadata": {},
   "level": 2,
   "source": [
    "Pandas Plot"
   ]
  },
  {
   "cell_type": "code",
   "execution_count": 205,
   "metadata": {},
   "outputs": [
    {
     "name": "stdout",
     "output_type": "stream",
     "text": [
      "Plot Series:\n"
     ]
    },
    {
     "data": {
      "image/png": "[encoded data removed]",
      "text/plain": [
       "<matplotlib.figure.Figure at 0x2686f8ba780>"
      ]
     },
     "metadata": {},
     "output_type": "display_data"
    },
    {
     "name": "stdout",
     "output_type": "stream",
     "text": [
      "Data Head 10:\n          A         B         C         D\n0  2.603356 -0.750231 -0.314047 -0.227502\n1  0.574821 -1.023275  1.350077  0.310571\n2  0.876911  0.012513  1.750790 -1.438346\n3  1.210003 -0.109894 -2.363175  1.470043\n4  0.954949 -1.148187 -0.467425 -1.664096\n5  1.272934 -0.763492 -0.425858  0.644611\n6 -0.118300 -0.192486 -0.279257 -1.162205\n7  2.372766 -0.311530 -0.603364  0.545060\n8  0.687025  0.229021 -1.070573  0.012652\n9 -1.884478  1.199525  0.961289 -1.005921\nPlot DataFrame:\n"
     ]
    },
    {
     "data": {
      "image/png": "[encoded data removed]",
      "text/plain": [
       "<matplotlib.figure.Figure at 0x2686f78d518>"
      ]
     },
     "metadata": {},
     "output_type": "display_data"
    },
    {
     "name": "stdout",
     "output_type": "stream",
     "text": [
      "Print Seperately:\n"
     ]
    },
    {
     "data": {
      "image/png": "[encoded data removed]",
      "text/plain": [
       "<matplotlib.figure.Figure at 0x2686fbc02b0>"
      ]
     },
     "metadata": {},
     "output_type": "display_data"
    },
    {
     "data": {
      "image/png": "[encoded data removed]",
      "text/plain": [
       "<matplotlib.figure.Figure at 0x2686fc73390>"
      ]
     },
     "metadata": {},
     "output_type": "display_data"
    },
    {
     "name": "stdout",
     "output_type": "stream",
     "text": [
      "Print together:\n"
     ]
    },
    {
     "data": {
      "image/png": "[encoded data removed]",
      "text/plain": [
       "<matplotlib.figure.Figure at 0x2686f8a72b0>"
      ]
     },
     "metadata": {},
     "output_type": "display_data"
    }
   ],
   "source": [
    "import pandas as pd\n",
    "import numpy as np\n",
    "import matplotlib.pyplot as plt\n",
    "\n",
    "#Series:线性数据\n",
    "testdata=pd.Series(np.random.randn(1000),index=np.arange(1000))\n",
    "testdata=testdata.cumsum()\n",
    "print('Plot Series:')\n",
    "testdata.plot()\n",
    "plt.show()\n",
    "\n",
    "#随机生成4个属性的1000个数据。\n",
    "testdata=pd.DataFrame(np.random.randn(1000,4),columns=list(\"ABCD\"),index=np.arange(1000))\n",
    "#data=data.cumsum()\n",
    "print('Data Head 10:')\n",
    "print(testdata.head(10)) #Default 5.\n",
    "\n",
    "print('Plot DataFrame:')\n",
    "testdata.head(10).plot()\n",
    "plt.show()\n",
    "\n",
    "#plot methods: 'bar','hist','box','kde','area','scatter','pie'...\n",
    "#Plot seperately:\n",
    "ax1=testdata.plot.scatter(x='A',y='B',color='DarkBlue',label='Class 1')#Scatter只有x,y两个属性。\n",
    "bx1=testdata.plot.scatter(x='A',y='C',color='DarkRed',label='Class 2')\n",
    "print('Print Seperately:')\n",
    "plt.show()\n",
    "\n",
    "#Plot together:\n",
    "ax2=testdata.plot.scatter(x='A',y='B',color='DarkBlue',label='Class 1')\n",
    "bx2=testdata.plot.scatter(x='A',y='C',color='DarkRed',label='Class 2',ax=ax2)#ax=ax2:将数据放在ax2一起打印。\n",
    "print('Print together:')\n",
    "plt.show()"
   ]
  },
  {
   "cell_type": "code",
   "execution_count": null,
   "metadata": {},
   "outputs": [],
   "source": []
  }
 ],
 "metadata": {
  "kernelspec": {
   "display_name": "Python 2",
   "language": "python",
   "name": "python2"
  },
  "language_info": {
   "codemirror_mode": {
    "name": "ipython",
    "version": 2
   },
   "file_extension": ".py",
   "mimetype": "text/x-python",
   "name": "python",
   "nbconvert_exporter": "python",
   "pygments_lexer": "ipython2",
   "version": "2.7.6"
  }
 },
 "nbformat": 4,
 "nbformat_minor": 0
}
